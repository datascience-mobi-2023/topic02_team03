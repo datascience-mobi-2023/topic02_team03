{
 "cells": [
  {
   "cell_type": "code",
   "execution_count": 6,
   "outputs": [
    {
     "name": "stdout",
     "output_type": "stream",
     "text": [
      "\n",
      "Reading /Users/liza/Desktop/Bioinfo Project/amino_acid_genotypes_to_brightness.tsv\n",
      "Dumped amino_acid_genotypes_to_brightness_parsed.tsv with 54025 substitutions and 54024 variants\n"
     ]
    }
   ],
   "source": [
    "#----------GMMA00---------------\n",
    "\n",
    "import pandas as pd\n",
    "\n",
    "# Set options\n",
    "pd.set_option(\"display.width\", 200)\n",
    "pd.set_option(\"display.precision\", 4)\n",
    "\n",
    "# Read data from file\n",
    "file = \"/Users/liza/Desktop/Bioinfo Project/amino_acid_genotypes_to_brightness.tsv\"\n",
    "print(\"\\nReading\", file)\n",
    "d = pd.read_csv(file, sep=\"\\t\", header=None, skiprows=1, names=[\"seq\", \"N\", \"signal\", \"sd\"])\n",
    "\n",
    "# Split mutations\n",
    "mut_list = d[\"seq\"].str.split(\":\")\n",
    "mut_list = mut_list.drop(index=0)\n",
    "# Remove leading \"S\" from substitutions\n",
    "mut_list = mut_list.apply(lambda x: [m[1:] for m in x])\n",
    "\n",
    "# Combine substitutions into a single string\n",
    "subst = mut_list.apply(lambda x: \":\".join(x))\n",
    "#wieder wie vorher zusammenschreiben, nur ohne S vor jeder Mut\n",
    "subst[0] = \"WT\"\n",
    "\n",
    "# Create data frame\n",
    "df = pd.DataFrame({\"variant\": subst, \"bright\": d[\"signal\"], \"n_syn\": d[\"N\"], \"std\": d[\"sd\"]})\n",
    "\n",
    "# Write data to file\n",
    "outfile = \"amino_acid_genotypes_to_brightness_parsed.tsv\"\n",
    "df.to_csv(outfile, sep=\"\\t\", index=False, header=False)\n",
    "\n",
    "print(f\"Dumped {outfile} with {len(subst)} substitutions and {len(mut_list)} variants\")\n",
    "\n",
    "#bereitet die original datei vor, indem es die erste zeile (wt) anders macht und die S entfernt und einen neuen df macht"
   ],
   "metadata": {
    "collapsed": false,
    "ExecuteTime": {
     "end_time": "2023-06-14T09:43:58.344259Z",
     "start_time": "2023-06-14T09:43:57.539235Z"
    }
   }
  },
  {
   "cell_type": "code",
   "execution_count": 8,
   "outputs": [
    {
     "name": "stdout",
     "output_type": "stream",
     "text": [
      "Reading amino_acid_genotypes_to_brightness_parsed.tsv\n",
      "Making data structures\n",
      "\n",
      "Building subst_mut_indices\n",
      "done building subst_mut_indices\n",
      "Successfully generated indexed data structures of 54024 variants carrying 1879 unique substitutions\n"
     ]
    }
   ],
   "source": [
    "#----------GMMA01---------------\n",
    "\n",
    "# es wird mit dem output des Codes von GMMA00 weitergearbeitet\n",
    "file = \"amino_acid_genotypes_to_brightness_parsed.tsv\"\n",
    "\n",
    "print(\"Reading\", file)\n",
    "\n",
    "# Read data\n",
    "try:\n",
    "    d = pd.read_table(file, header=None)\n",
    "except FileNotFoundError:\n",
    "    print(\"Error: File not found.\")\n",
    "    exit()\n",
    "\n",
    "# Check if the first row is a label\n",
    "if isinstance(d.iloc[0, 0], str):\n",
    "    wt_seq = \"\"\n",
    "else:\n",
    "    wt_seq = d.iloc[0, 0].lower()\n",
    "\n",
    "# Remove first row (wild type or label)\n",
    "d = d.iloc[1:]\n",
    "\n",
    "# Wild-type average log brightness, number of WT measurements, and standard deviation\n",
    "d.columns = [\"seq\", \"N\", \"signal\", \"sd\"]\n",
    "wt = d.iloc[0].copy()\n",
    "wt[\"seq\"] = \"\"\n",
    "\n",
    "print(\"Making data structures\")\n",
    "\n",
    "# Settings\n",
    "settings = {}\n",
    "settings[\"taa_letters\"] = 1\n",
    "\n",
    "# Per mutant data\n",
    "def split_mut_list(seq):\n",
    "    if \":\" in seq:\n",
    "        return seq.split(\":\")\n",
    "    else:\n",
    "        return [seq]\n",
    "\n",
    "mut_list = d[\"seq\"].fillna('').apply(split_mut_list)\n",
    "\n",
    "mutant = pd.DataFrame(\n",
    "    {\n",
    "        \"i\": range(1, len(mut_list) + 1),\n",
    "        \"signal\": d[\"signal\"],\n",
    "        \"N_sub\": [len(sub) for sub in mut_list],\n",
    "        \"N_obs\": d[\"N\"],\n",
    "        \"sd_obs\": d[\"sd\"],\n",
    "    }\n",
    ")\n",
    "mutant.index = [\"mut{:05d}\".format(i) for i in range(1, len(mut_list) + 1)]\n",
    "mutant[\"subst\"] = mut_list.str.join(\":\")\n",
    "\n",
    "# Per substitution data\n",
    "subst_table = pd.Series(mut_list.explode()).value_counts()\n",
    "nsubst = len(subst_table)\n",
    "#die Positionen zählen\n",
    "#subst_table = Positionen der Mutationen\n",
    "## ?Zählen wieviele Mutationen?\n",
    "\n",
    "# Make data structure of substitutions\n",
    "subst = pd.DataFrame({\"subst_table\": subst_table})\n",
    "subst[\"resi\"] = 0\n",
    "subst[\"taa\"] = \"\"\n",
    "subst[\"obs\"] = subst[\"subst_table\"]\n",
    "subst[\"signal\"] = pd.NA\n",
    "subst.index.name = \"Var1\"\n",
    "subst.reset_index(inplace=True)\n",
    "subst = subst.sort_values(\"Var1\")\n",
    "subst[\"i\"] = range(1, nsubst + 1)\n",
    "\n",
    "# Assign residue and taa values\n",
    "for si in range(1, nsubst + 1):\n",
    "    m = subst[\"Var1\"].iloc[si - 1]\n",
    "    if m and m != '':\n",
    "        subst.at[si, \"resi\"] = m[1:-settings[\"taa_letters\"]]\n",
    "        subst.at[si, \"taa\"] = m[-settings[\"taa_letters\"]:]\n",
    "#die\n",
    "# Per residue data\n",
    "residue = pd.DataFrame(list(wt_seq), columns=[\"wt\"])\n",
    "residue[\"subst\"] = \"\"\n",
    "residue[\"N_mut\"] = pd.NA\n",
    "\n",
    "# Assign substitutions\n",
    "for ri in range(1, len(residue) + 1):\n",
    "    residue.at[ri, \"subst\"] = subst.loc[subst[\"resi\"] == ri, \"taa\"].str.cat(sep=\"\")\n",
    "\n",
    "    si = subst.index[subst[\"resi\"] == ri]\n",
    "    residue.at[ri, \"N_mut\"] = subst.loc[si, \"obs\"].sum()\n",
    "\n",
    "# Build index translation lists between data frames\n",
    "res_mut_indices = [mutant.index[mutant[\"subst\"].str.contains(\":{}:\".format(i))] for i in range(1, len(residue) + 1)]\n",
    "mut_subst_indices = [subst.index[subst[\"Var1\"].isin(sub)] for sub in mut_list]\n",
    "subst_mut_indices = [np.where(mutant[\"subst\"].str.contains(\":{}:\".format(subst.loc[si, \"Var1\"])))[0] for si in range(nsubst)]\n",
    "\n",
    "\n",
    "\n",
    "\n",
    "print(\"\")\n",
    "print(\"Building subst_mut_indices\")\n",
    "print(\"done building subst_mut_indices\")\n",
    "\n",
    "print(\"Successfully generated indexed data structures of {} variants carrying {} unique substitutions\".format(\n",
    "    len(mut_list), nsubst))\n",
    "\n",
    "#hat glaube ich geklappt: 54024 (im csv file: eine Zeile head und eine wt) variants mit 1879 (stimmt) substitutions"
   ],
   "metadata": {
    "collapsed": false,
    "ExecuteTime": {
     "end_time": "2023-06-14T09:48:52.706964Z",
     "start_time": "2023-06-14T09:48:35.393202Z"
    }
   }
  },
  {
   "cell_type": "code",
   "execution_count": null,
   "outputs": [],
   "source": [
    "#----------GMMA02---------------"
   ],
   "metadata": {
    "collapsed": false
   }
  }
 ],
 "metadata": {
  "kernelspec": {
   "display_name": "Python 3",
   "language": "python",
   "name": "python3"
  },
  "language_info": {
   "codemirror_mode": {
    "name": "ipython",
    "version": 2
   },
   "file_extension": ".py",
   "mimetype": "text/x-python",
   "name": "python",
   "nbconvert_exporter": "python",
   "pygments_lexer": "ipython2",
   "version": "2.7.6"
  }
 },
 "nbformat": 4,
 "nbformat_minor": 0
}
