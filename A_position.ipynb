{
 "cells": [
  {
   "cell_type": "code",
   "execution_count": 1,
   "metadata": {
    "collapsed": true,
    "ExecuteTime": {
     "end_time": "2023-07-13T10:21:45.865728Z",
     "start_time": "2023-07-13T10:21:44.800034Z"
    }
   },
   "outputs": [],
   "source": [
    "import pandas as pd\n",
    "\n",
    "# Datensatz einlesen\n",
    "df = pd.read_csv('/Users/tianxinangelama/Documents/Studium/4. FS/DMS/DMS_data/GFP_AEQVI_Sarkisyan_2016.csv')"
   ]
  },
  {
   "cell_type": "code",
   "execution_count": 2,
   "outputs": [
    {
     "name": "stderr",
     "output_type": "stream",
     "text": [
      "/var/folders/tn/1strgsg5455dq9n93kfzv8kh0000gn/T/ipykernel_4479/237483222.py:6: FutureWarning: In a future version of pandas all arguments of StringMethods.split except for the argument 'pat' will be keyword-only.\n",
      "  df_ind_col[['m1', 'm2', 'm3', 'm4', 'm5', 'm6', 'm7', 'm8', 'm9', 'm10', 'm11','m12','m13','m14','m15']] = df_ind_col['mutant'].str.split(':', 14, expand=True)\n"
     ]
    }
   ],
   "source": [
    "# split into multiple columns, 1 column for every mutation\n",
    "# copy df\n",
    "df_ind_col = df.copy()\n",
    "\n",
    "# split\n",
    "df_ind_col[['m1', 'm2', 'm3', 'm4', 'm5', 'm6', 'm7', 'm8', 'm9', 'm10', 'm11','m12','m13','m14','m15']] = df_ind_col['mutant'].str.split(':', 14, expand=True)"
   ],
   "metadata": {
    "collapsed": false,
    "ExecuteTime": {
     "end_time": "2023-07-13T10:22:15.976074Z",
     "start_time": "2023-07-13T10:22:15.874443Z"
    }
   }
  },
  {
   "cell_type": "code",
   "execution_count": 27,
   "outputs": [],
   "source": [
    "# df with single mutation mutants, only position and DMS_score\n",
    "# copy df\n",
    "df_single = df_ind_col.copy()\n",
    "\n",
    "# remain rows with None in m2\n",
    "df_single = df_single[df_single['m2'].isnull()]\n",
    "\n",
    "# delete columns m2 to m15 and mutant, mutated_sequence, DMS_score_bin\n",
    "df_single = df_single.drop(columns=['m2', 'm3', 'm4', 'm5', 'm6', 'm7', 'm8', 'm9','m10', 'm11','m12','m13','m14','m15','mutant', 'mutated_sequence', 'DMS_score_bin'])"
   ],
   "metadata": {
    "collapsed": false,
    "ExecuteTime": {
     "end_time": "2023-07-13T10:47:56.602851Z",
     "start_time": "2023-07-13T10:47:56.567320Z"
    }
   }
  },
  {
   "cell_type": "code",
   "execution_count": 30,
   "outputs": [],
   "source": [
    "# df with double mutations mutants, only position and DMS_score\n",
    "# copy df\n",
    "df_double = df_ind_col.copy()\n",
    "\n",
    "# remain rows with None in m3 and value in m2\n",
    "df_double = df_double[df_double['m3'].isnull() & df_double['m2'].notnull()]\n",
    "\n",
    "# delete columns m3 to m15 and mutant, mutated_sequence, DMS_score_bin\n",
    "df_double = df_double.drop(columns=['m3', 'm4', 'm5', 'm6', 'm7', 'm8', 'm9','m10', 'm11','m12','m13','m14','m15','mutant', 'mutated_sequence', 'DMS_score_bin'])"
   ],
   "metadata": {
    "collapsed": false,
    "ExecuteTime": {
     "end_time": "2023-07-13T10:48:26.162565Z",
     "start_time": "2023-07-13T10:48:26.123670Z"
    }
   }
  },
  {
   "cell_type": "code",
   "execution_count": 34,
   "outputs": [],
   "source": [
    "# df with m1 from double mutation mutants\n",
    "# copy df\n",
    "df_double_m1 = df_double.copy()\n",
    "\n",
    "# delete column m2\n",
    "df_double_m1 = df_double_m1.drop(columns=['m2'])"
   ],
   "metadata": {
    "collapsed": false,
    "ExecuteTime": {
     "end_time": "2023-07-13T10:48:55.420419Z",
     "start_time": "2023-07-13T10:48:55.418572Z"
    }
   }
  },
  {
   "cell_type": "code",
   "execution_count": 36,
   "outputs": [],
   "source": [
    "# df with m2 from double mutation mutants\n",
    "# copy df\n",
    "df_double_m2 = df_double.copy()\n",
    "\n",
    "# delete column m1\n",
    "df_double_m2 = df_double_m2.drop(columns=['m1'])"
   ],
   "metadata": {
    "collapsed": false,
    "ExecuteTime": {
     "end_time": "2023-07-13T10:49:17.064110Z",
     "start_time": "2023-07-13T10:49:17.060936Z"
    }
   }
  },
  {
   "cell_type": "code",
   "execution_count": 42,
   "outputs": [
    {
     "name": "stdout",
     "output_type": "stream",
     "text": [
      "       DMS_score     m1 score_single_1\n",
      "13      3.716293    K3R               \n",
      "53      3.688150    K3Q               \n",
      "56      3.619344    K3Q               \n",
      "63      1.301030    K3Q               \n",
      "73      3.970988    K3R               \n",
      "...          ...    ...            ...\n",
      "51688   3.577787  M233K               \n",
      "51691   3.744741  D234G               \n",
      "51694   3.865135  D234V               \n",
      "51696   3.693903  D234G               \n",
      "51699   3.862731  E235G               \n",
      "\n",
      "[12367 rows x 3 columns]\n"
     ]
    }
   ],
   "source": [
    "# add new empty column 'score_single_1' to df_double_only_position_m1\n",
    "df_double_m1['score_single_1'] = ''\n",
    "\n",
    "print(df_double_m1)"
   ],
   "metadata": {
    "collapsed": false,
    "ExecuteTime": {
     "end_time": "2023-07-13T11:56:12.106268Z",
     "start_time": "2023-07-13T11:56:12.103304Z"
    }
   }
  },
  {
   "cell_type": "code",
   "execution_count": 38,
   "outputs": [
    {
     "name": "stdout",
     "output_type": "stream",
     "text": [
      "       DMS_score     m1  score_single_1\n",
      "13      3.716293    K3R        3.738586\n",
      "41      3.833353    K3N             NaN\n",
      "45      3.553744    K3N             NaN\n",
      "53      3.688150    K3Q        3.750487\n",
      "56      3.619344    K3Q        3.750487\n",
      "...          ...    ...             ...\n",
      "51688   3.577787  M233K        3.684742\n",
      "51691   3.744741  D234G        3.706313\n",
      "51694   3.865135  D234V        3.608266\n",
      "51696   3.693903  D234G        3.706313\n",
      "51699   3.862731  E235G        3.727375\n",
      "\n",
      "[12777 rows x 3 columns]\n"
     ]
    }
   ],
   "source": [
    "# compare m1 from df_double_m1 with m1 from df_single, add value from DMS_score (df_single) to score_single_1 of df_double_m1\n",
    "for index, row in df_double_m1.iterrows():\n",
    "    for index2, row2 in df_single.iterrows():\n",
    "        if row['m1'] == row2['m1']:\n",
    "            df_double_m1.loc[index, 'score_single_1'] = row2['DMS_score']\n",
    "\n",
    "print(df_double_m1)"
   ],
   "metadata": {
    "collapsed": false,
    "ExecuteTime": {
     "end_time": "2023-07-13T11:01:06.275779Z",
     "start_time": "2023-07-13T10:51:30.766790Z"
    }
   }
  },
  {
   "cell_type": "code",
   "execution_count": 41,
   "outputs": [
    {
     "name": "stdout",
     "output_type": "stream",
     "text": [
      "       DMS_score     m1  score_single_1\n",
      "13      3.716293    K3R        3.738586\n",
      "53      3.688150    K3Q        3.750487\n",
      "56      3.619344    K3Q        3.750487\n",
      "63      1.301030    K3Q        3.750487\n",
      "73      3.970988    K3R        3.738586\n",
      "...          ...    ...             ...\n",
      "51688   3.577787  M233K        3.684742\n",
      "51691   3.744741  D234G        3.706313\n",
      "51694   3.865135  D234V        3.608266\n",
      "51696   3.693903  D234G        3.706313\n",
      "51699   3.862731  E235G        3.727375\n",
      "\n",
      "[12367 rows x 3 columns]\n"
     ]
    }
   ],
   "source": [
    "# delete rows with NaN in score_single_1\n",
    "df_double_m1 = df_double_m1.dropna(subset=['score_single_1'])\n",
    "\n",
    "print(df_double_m1)"
   ],
   "metadata": {
    "collapsed": false,
    "ExecuteTime": {
     "end_time": "2023-07-13T11:55:37.247981Z",
     "start_time": "2023-07-13T11:55:37.220816Z"
    }
   }
  },
  {
   "cell_type": "code",
   "execution_count": 43,
   "outputs": [
    {
     "name": "stdout",
     "output_type": "stream",
     "text": [
      "       DMS_score     m2 score_single_2\n",
      "13      3.716293  D133A               \n",
      "41      3.833353   S30Y               \n",
      "45      3.553744  V150A               \n",
      "53      3.688150    E5V               \n",
      "56      3.619344  K101R               \n",
      "...          ...    ...            ...\n",
      "51688   3.577787  D234G               \n",
      "51691   3.744741  L236P               \n",
      "51694   3.865135  Y237H               \n",
      "51696   3.693903  E235V               \n",
      "51699   3.862731  L236P               \n",
      "\n",
      "[12777 rows x 3 columns]\n"
     ]
    }
   ],
   "source": [
    "# add new empty column 'score_single_2' to df_double_m2\n",
    "df_double_m2['score_single_2'] = ''\n",
    "\n",
    "print(df_double_m2)"
   ],
   "metadata": {
    "collapsed": false,
    "ExecuteTime": {
     "end_time": "2023-07-13T11:57:44.252466Z",
     "start_time": "2023-07-13T11:57:44.222476Z"
    }
   }
  },
  {
   "cell_type": "code",
   "execution_count": 44,
   "outputs": [
    {
     "name": "stdout",
     "output_type": "stream",
     "text": [
      "       DMS_score     m2 score_single_2\n",
      "13      3.716293  D133A       3.540905\n",
      "41      3.833353   S30Y       3.752408\n",
      "45      3.553744  V150A        3.63642\n",
      "53      3.688150    E5V       3.693551\n",
      "56      3.619344  K101R       3.677711\n",
      "...          ...    ...            ...\n",
      "51688   3.577787  D234G       3.706313\n",
      "51691   3.744741  L236P       3.706238\n",
      "51694   3.865135  Y237H       3.735417\n",
      "51696   3.693903  E235V       3.712191\n",
      "51699   3.862731  L236P       3.706238\n",
      "\n",
      "[12777 rows x 3 columns]\n"
     ]
    }
   ],
   "source": [
    "# compare m2 from df_double_m2 with m1 from df_single, add value from DMS_score (df_single) to score_single_2 of df_double_m2\n",
    "for index, row in df_double_m2.iterrows():\n",
    "    for index2, row2 in df_single.iterrows():\n",
    "        if row['m2'] == row2['m1']:\n",
    "            df_double_m2.loc[index, 'score_single_2'] = row2['DMS_score']\n",
    "\n",
    "print(df_double_m2)"
   ],
   "metadata": {
    "collapsed": false,
    "ExecuteTime": {
     "end_time": "2023-07-13T12:01:11.287164Z",
     "start_time": "2023-07-13T11:58:05.875154Z"
    }
   }
  },
  {
   "cell_type": "code",
   "execution_count": null,
   "outputs": [],
   "source": [],
   "metadata": {
    "collapsed": false
   }
  }
 ],
 "metadata": {
  "kernelspec": {
   "display_name": "Python 3",
   "language": "python",
   "name": "python3"
  },
  "language_info": {
   "codemirror_mode": {
    "name": "ipython",
    "version": 2
   },
   "file_extension": ".py",
   "mimetype": "text/x-python",
   "name": "python",
   "nbconvert_exporter": "python",
   "pygments_lexer": "ipython2",
   "version": "2.7.6"
  }
 },
 "nbformat": 4,
 "nbformat_minor": 0
}
