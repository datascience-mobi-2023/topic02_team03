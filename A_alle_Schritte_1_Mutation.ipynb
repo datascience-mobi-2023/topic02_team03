{
 "cells": [
  {
   "cell_type": "code",
   "execution_count": null,
   "outputs": [],
   "source": [
    "import pandas as pd"
   ],
   "metadata": {
    "collapsed": false,
    "is_executing": true,
    "ExecuteTime": {
     "start_time": "2023-06-14T19:17:11.881952Z"
    }
   }
  },
  {
   "cell_type": "code",
   "execution_count": null,
   "outputs": [],
   "source": [
    "df_fictitious = {\n",
    "    'm1': ['A'],\n",
    "    'm2': ['A', 'B'],\n",
    "    'm3': ['A', 'B', 'C'],\n",
    "    'm4': ['A', 'B', 'C', 'D']\n",
    "}\n",
    "\n",
    "df_min_12_mutations = df_fictitious\n",
    "possible_mutations_in_mutants_with_min_12_mutations = ['A', 'B', 'C', 'D']"
   ],
   "metadata": {
    "collapsed": false,
    "is_executing": true,
    "ExecuteTime": {
     "start_time": "2023-06-14T19:17:11.885260Z"
    }
   }
  },
  {
   "cell_type": "code",
   "execution_count": null,
   "outputs": [],
   "source": [
    "# mit allen Mutationen aus possible_mutations_in_mutants_with_min_12_mutations\n",
    "# for all possible_mutations_in_mutants_with_min_12_mutations\n",
    "for mutation in possible_mutations_in_mutants_with_min_12_mutations:\n",
    "    # Create an empty DataFrame with the same columns as df_min_12_mutations\n",
    "    df_min_12_mutations_loop = pd.DataFrame(columns=df_min_12_mutations.columns)\n",
    "\n",
    "    for index, row in df_min_12_mutations.iterrows():\n",
    "        # count specific mutation\n",
    "        count = df_min_12_mutations.values.flatten().tolist().count(mutation)\n",
    "\n",
    "        # check the count of specific mutation\n",
    "        if count > 1:\n",
    "            # add row to new df\n",
    "            df_min_12_mutations_loop = df_min_12_mutations[\n",
    "                df_min_12_mutations.apply(lambda row: mutation in row.values, axis=1)]\n",
    "            # Create a list of all possible mutations in the new DataFrame except the specific mutation\n",
    "            possible_mutations = df_min_12_mutations_loop.values.flatten().tolist()\n",
    "            possible_mutations.remove(mutation)\n",
    "            # remove none from list\n",
    "            possible_mutations = [value for value in possible_mutations if value is not None]\n",
    "            # remove fscore from list\n",
    "            possible_mutations = [value for value in possible_mutations if not isinstance(value, (int, float))]\n",
    "\n",
    "        else:\n",
    "            # remain last rows with specific mutation and stop\n",
    "            df_min_12_mutations_loop = df_min_12_mutations[\n",
    "                df_min_12_mutations.apply(lambda row: mutation in row.values, axis=1)]\n",
    "            break\n",
    "\n",
    "\n",
    "    print(f\"Filtered DataFrame for {mutation}:\")\n",
    "    print(df_min_12_mutations_loop)\n",
    "    print(possible_mutations)\n",
    "# noch zu verbessern: bei else wird \"alte\" Liste geprintet"
   ],
   "metadata": {
    "collapsed": false,
    "is_executing": true,
    "ExecuteTime": {
     "start_time": "2023-06-14T19:17:11.883646Z"
    }
   }
  },
  {
   "cell_type": "code",
   "execution_count": null,
   "outputs": [],
   "source": [],
   "metadata": {
    "collapsed": false,
    "is_executing": true,
    "ExecuteTime": {
     "start_time": "2023-06-14T19:17:11.884446Z"
    }
   }
  }
 ],
 "metadata": {
  "kernelspec": {
   "display_name": "Python 3",
   "language": "python",
   "name": "python3"
  },
  "language_info": {
   "codemirror_mode": {
    "name": "ipython",
    "version": 2
   },
   "file_extension": ".py",
   "mimetype": "text/x-python",
   "name": "python",
   "nbconvert_exporter": "python",
   "pygments_lexer": "ipython2",
   "version": "2.7.6"
  }
 },
 "nbformat": 4,
 "nbformat_minor": 0
}
