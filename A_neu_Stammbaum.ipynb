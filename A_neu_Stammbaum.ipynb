{
 "cells": [
  {
   "cell_type": "markdown",
   "source": [
    "Vorgehen:\n",
    "1. df -> Liste\n",
    "2. Mutanten, die Mutation X???X beinhalten rausfiltern\n",
    "3. Mutanten, die Mutation X???X + Y!!!Y beinhalten rausfiltern\n",
    "4. usw."
   ],
   "metadata": {
    "collapsed": false
   }
  },
  {
   "cell_type": "code",
   "execution_count": 48,
   "outputs": [
    {
     "name": "stderr",
     "output_type": "stream",
     "text": [
      "/var/folders/tn/1strgsg5455dq9n93kfzv8kh0000gn/T/ipykernel_48046/2323753459.py:10: FutureWarning: In a future version of pandas all arguments of StringMethods.split except for the argument 'pat' will be keyword-only.\n",
      "  df_ind_col[['m1', 'm2', 'm3', 'm4', 'm5', 'm6', 'm7', 'm8', 'm9', 'm10', 'm11','m12','m13','m14','m15']] = df_ind_col['mutant'].str.split(':', 14, expand=True)\n"
     ]
    },
    {
     "data": {
      "text/plain": "                                  mutant  \\\n0  K3R:V55A:Q94R:A110T:D117G:M153K:D216A   \n1                   K3Q:V16A:I167T:L195Q   \n2            K3Q:Y143C:N164D:S205P:A227T   \n3                        K3Q:Y143N:V193A   \n4                                    K3R   \n\n                                    mutated_sequence  DMS_score  \\\n0  MSRGEELFTGVVPILVELDGDVNGHKFSVSGEGEGDATYGKLTLKF...   1.301030   \n1  MSQGEELFTGVVPILAELDGDVNGHKFSVSGEGEGDATYGKLTLKF...   3.137350   \n2  MSQGEELFTGVVPILVELDGDVNGHKFSVSGEGEGDATYGKLTLKF...   1.553913   \n3  MSQGEELFTGVVPILVELDGDVNGHKFSVSGEGEGDATYGKLTLKF...   3.404237   \n4  MSRGEELFTGVVPILVELDGDVNGHKFSVSGEGEGDATYGKLTLKF...   3.738586   \n\n   DMS_score_bin   m1     m2     m3     m4     m5     m6     m7    m8    m9  \\\n0              0  K3R   V55A   Q94R  A110T  D117G  M153K  D216A  None  None   \n1              1  K3Q   V16A  I167T  L195Q   None   None   None  None  None   \n2              0  K3Q  Y143C  N164D  S205P  A227T   None   None  None  None   \n3              1  K3Q  Y143N  V193A   None   None   None   None  None  None   \n4              1  K3R   None   None   None   None   None   None  None  None   \n\n    m10   m11   m12   m13   m14   m15  \n0  None  None  None  None  None  None  \n1  None  None  None  None  None  None  \n2  None  None  None  None  None  None  \n3  None  None  None  None  None  None  \n4  None  None  None  None  None  None  ",
      "text/html": "<div>\n<style scoped>\n    .dataframe tbody tr th:only-of-type {\n        vertical-align: middle;\n    }\n\n    .dataframe tbody tr th {\n        vertical-align: top;\n    }\n\n    .dataframe thead th {\n        text-align: right;\n    }\n</style>\n<table border=\"1\" class=\"dataframe\">\n  <thead>\n    <tr style=\"text-align: right;\">\n      <th></th>\n      <th>mutant</th>\n      <th>mutated_sequence</th>\n      <th>DMS_score</th>\n      <th>DMS_score_bin</th>\n      <th>m1</th>\n      <th>m2</th>\n      <th>m3</th>\n      <th>m4</th>\n      <th>m5</th>\n      <th>m6</th>\n      <th>m7</th>\n      <th>m8</th>\n      <th>m9</th>\n      <th>m10</th>\n      <th>m11</th>\n      <th>m12</th>\n      <th>m13</th>\n      <th>m14</th>\n      <th>m15</th>\n    </tr>\n  </thead>\n  <tbody>\n    <tr>\n      <th>0</th>\n      <td>K3R:V55A:Q94R:A110T:D117G:M153K:D216A</td>\n      <td>MSRGEELFTGVVPILVELDGDVNGHKFSVSGEGEGDATYGKLTLKF...</td>\n      <td>1.301030</td>\n      <td>0</td>\n      <td>K3R</td>\n      <td>V55A</td>\n      <td>Q94R</td>\n      <td>A110T</td>\n      <td>D117G</td>\n      <td>M153K</td>\n      <td>D216A</td>\n      <td>None</td>\n      <td>None</td>\n      <td>None</td>\n      <td>None</td>\n      <td>None</td>\n      <td>None</td>\n      <td>None</td>\n      <td>None</td>\n    </tr>\n    <tr>\n      <th>1</th>\n      <td>K3Q:V16A:I167T:L195Q</td>\n      <td>MSQGEELFTGVVPILAELDGDVNGHKFSVSGEGEGDATYGKLTLKF...</td>\n      <td>3.137350</td>\n      <td>1</td>\n      <td>K3Q</td>\n      <td>V16A</td>\n      <td>I167T</td>\n      <td>L195Q</td>\n      <td>None</td>\n      <td>None</td>\n      <td>None</td>\n      <td>None</td>\n      <td>None</td>\n      <td>None</td>\n      <td>None</td>\n      <td>None</td>\n      <td>None</td>\n      <td>None</td>\n      <td>None</td>\n    </tr>\n    <tr>\n      <th>2</th>\n      <td>K3Q:Y143C:N164D:S205P:A227T</td>\n      <td>MSQGEELFTGVVPILVELDGDVNGHKFSVSGEGEGDATYGKLTLKF...</td>\n      <td>1.553913</td>\n      <td>0</td>\n      <td>K3Q</td>\n      <td>Y143C</td>\n      <td>N164D</td>\n      <td>S205P</td>\n      <td>A227T</td>\n      <td>None</td>\n      <td>None</td>\n      <td>None</td>\n      <td>None</td>\n      <td>None</td>\n      <td>None</td>\n      <td>None</td>\n      <td>None</td>\n      <td>None</td>\n      <td>None</td>\n    </tr>\n    <tr>\n      <th>3</th>\n      <td>K3Q:Y143N:V193A</td>\n      <td>MSQGEELFTGVVPILVELDGDVNGHKFSVSGEGEGDATYGKLTLKF...</td>\n      <td>3.404237</td>\n      <td>1</td>\n      <td>K3Q</td>\n      <td>Y143N</td>\n      <td>V193A</td>\n      <td>None</td>\n      <td>None</td>\n      <td>None</td>\n      <td>None</td>\n      <td>None</td>\n      <td>None</td>\n      <td>None</td>\n      <td>None</td>\n      <td>None</td>\n      <td>None</td>\n      <td>None</td>\n      <td>None</td>\n    </tr>\n    <tr>\n      <th>4</th>\n      <td>K3R</td>\n      <td>MSRGEELFTGVVPILVELDGDVNGHKFSVSGEGEGDATYGKLTLKF...</td>\n      <td>3.738586</td>\n      <td>1</td>\n      <td>K3R</td>\n      <td>None</td>\n      <td>None</td>\n      <td>None</td>\n      <td>None</td>\n      <td>None</td>\n      <td>None</td>\n      <td>None</td>\n      <td>None</td>\n      <td>None</td>\n      <td>None</td>\n      <td>None</td>\n      <td>None</td>\n      <td>None</td>\n      <td>None</td>\n    </tr>\n  </tbody>\n</table>\n</div>"
     },
     "execution_count": 48,
     "metadata": {},
     "output_type": "execute_result"
    }
   ],
   "source": [
    "import pandas as pd\n",
    "import numpy as np\n",
    "\n",
    "# Datensatz einlesen\n",
    "df = pd.read_csv('/Users/tianxinangelama/Documents/Studium/4. FS/DMS/DMS_data/GFP_AEQVI_Sarkisyan_2016.csv')\n",
    "\n",
    "# split into multiple columns, 1 column for every mutation\n",
    "df_ind_col = df\n",
    "\n",
    "df_ind_col[['m1', 'm2', 'm3', 'm4', 'm5', 'm6', 'm7', 'm8', 'm9', 'm10', 'm11','m12','m13','m14','m15']] = df_ind_col['mutant'].str.split(':', 14, expand=True)\n",
    "\n",
    "df_ind_col.head()"
   ],
   "metadata": {
    "collapsed": false,
    "ExecuteTime": {
     "end_time": "2023-06-06T07:41:17.159886Z",
     "start_time": "2023-06-06T07:41:16.830923Z"
    }
   }
  },
  {
   "cell_type": "code",
   "execution_count": 49,
   "outputs": [
    {
     "data": {
      "text/plain": "   DMS_score   m1     m2     m3     m4     m5     m6     m7    m8    m9   m10  \\\n0   1.301030  K3R   V55A   Q94R  A110T  D117G  M153K  D216A  None  None  None   \n1   3.137350  K3Q   V16A  I167T  L195Q   None   None   None  None  None  None   \n2   1.553913  K3Q  Y143C  N164D  S205P  A227T   None   None  None  None  None   \n3   3.404237  K3Q  Y143N  V193A   None   None   None   None  None  None  None   \n4   3.738586  K3R   None   None   None   None   None   None  None  None  None   \n\n    m11   m12   m13   m14   m15  \n0  None  None  None  None  None  \n1  None  None  None  None  None  \n2  None  None  None  None  None  \n3  None  None  None  None  None  \n4  None  None  None  None  None  ",
      "text/html": "<div>\n<style scoped>\n    .dataframe tbody tr th:only-of-type {\n        vertical-align: middle;\n    }\n\n    .dataframe tbody tr th {\n        vertical-align: top;\n    }\n\n    .dataframe thead th {\n        text-align: right;\n    }\n</style>\n<table border=\"1\" class=\"dataframe\">\n  <thead>\n    <tr style=\"text-align: right;\">\n      <th></th>\n      <th>DMS_score</th>\n      <th>m1</th>\n      <th>m2</th>\n      <th>m3</th>\n      <th>m4</th>\n      <th>m5</th>\n      <th>m6</th>\n      <th>m7</th>\n      <th>m8</th>\n      <th>m9</th>\n      <th>m10</th>\n      <th>m11</th>\n      <th>m12</th>\n      <th>m13</th>\n      <th>m14</th>\n      <th>m15</th>\n    </tr>\n  </thead>\n  <tbody>\n    <tr>\n      <th>0</th>\n      <td>1.301030</td>\n      <td>K3R</td>\n      <td>V55A</td>\n      <td>Q94R</td>\n      <td>A110T</td>\n      <td>D117G</td>\n      <td>M153K</td>\n      <td>D216A</td>\n      <td>None</td>\n      <td>None</td>\n      <td>None</td>\n      <td>None</td>\n      <td>None</td>\n      <td>None</td>\n      <td>None</td>\n      <td>None</td>\n    </tr>\n    <tr>\n      <th>1</th>\n      <td>3.137350</td>\n      <td>K3Q</td>\n      <td>V16A</td>\n      <td>I167T</td>\n      <td>L195Q</td>\n      <td>None</td>\n      <td>None</td>\n      <td>None</td>\n      <td>None</td>\n      <td>None</td>\n      <td>None</td>\n      <td>None</td>\n      <td>None</td>\n      <td>None</td>\n      <td>None</td>\n      <td>None</td>\n    </tr>\n    <tr>\n      <th>2</th>\n      <td>1.553913</td>\n      <td>K3Q</td>\n      <td>Y143C</td>\n      <td>N164D</td>\n      <td>S205P</td>\n      <td>A227T</td>\n      <td>None</td>\n      <td>None</td>\n      <td>None</td>\n      <td>None</td>\n      <td>None</td>\n      <td>None</td>\n      <td>None</td>\n      <td>None</td>\n      <td>None</td>\n      <td>None</td>\n    </tr>\n    <tr>\n      <th>3</th>\n      <td>3.404237</td>\n      <td>K3Q</td>\n      <td>Y143N</td>\n      <td>V193A</td>\n      <td>None</td>\n      <td>None</td>\n      <td>None</td>\n      <td>None</td>\n      <td>None</td>\n      <td>None</td>\n      <td>None</td>\n      <td>None</td>\n      <td>None</td>\n      <td>None</td>\n      <td>None</td>\n      <td>None</td>\n    </tr>\n    <tr>\n      <th>4</th>\n      <td>3.738586</td>\n      <td>K3R</td>\n      <td>None</td>\n      <td>None</td>\n      <td>None</td>\n      <td>None</td>\n      <td>None</td>\n      <td>None</td>\n      <td>None</td>\n      <td>None</td>\n      <td>None</td>\n      <td>None</td>\n      <td>None</td>\n      <td>None</td>\n      <td>None</td>\n      <td>None</td>\n    </tr>\n  </tbody>\n</table>\n</div>"
     },
     "execution_count": 49,
     "metadata": {},
     "output_type": "execute_result"
    }
   ],
   "source": [
    "# reduce df to fscore, m1 - m15\n",
    "df_only_fscore_mutations = df_ind_col\n",
    "\n",
    "df_only_fscore_mutations = df_only_fscore_mutations.drop(['mutant','mutated_sequence','DMS_score_bin'], axis=1)\n",
    "\n",
    "df_only_fscore_mutations.head()"
   ],
   "metadata": {
    "collapsed": false,
    "ExecuteTime": {
     "end_time": "2023-06-06T07:41:18.633138Z",
     "start_time": "2023-06-06T07:41:18.607419Z"
    }
   }
  },
  {
   "cell_type": "markdown",
   "source": [
    "# Liste mit DMS_score und m1 bis m15 erstellen\n",
    "df_only_fscore_mutations = df_only_fscore_mutations.values.tolist()\n",
    "\n",
    "print(df_only_fscore_mutations)\n",
    "# funktioniert nicht"
   ],
   "metadata": {
    "collapsed": false
   }
  },
  {
   "cell_type": "code",
   "execution_count": 50,
   "outputs": [],
   "source": [
    "# df auf bestimmte Mutation checken\n",
    "df_mutants_with_specific_mutation = df_only_fscore_mutations\n",
    "\n",
    "mutation = 'D216A'"
   ],
   "metadata": {
    "collapsed": false,
    "ExecuteTime": {
     "end_time": "2023-06-06T07:41:24.576743Z",
     "start_time": "2023-06-06T07:41:24.571551Z"
    }
   }
  },
  {
   "cell_type": "markdown",
   "source": [
    "# 1 spez. Mutation in beliebiger Spalte\n",
    "df_mutants_with_specific_mutation = df[df.isin([mutation]).any(axis=1)]\n",
    "\n",
    "print(df_mutants_with_specific_mutation)"
   ],
   "metadata": {
    "collapsed": false
   }
  },
  {
   "cell_type": "markdown",
   "source": [
    "# dasselbe für 2 spezifische Mutationen\n",
    "mutation_1 = 'K3R'\n",
    "mutation_2 = 'V55A'\n",
    "df_mutants_with_specific_mutation = df_mutants_with_specific_mutation[df_mutants_with_specific_mutation.isin([mutation_1, mutation_2]).any(axis=1)]\n",
    "\n",
    "print(df_mutants_with_specific_mutation)\n",
    "\n",
    "#Problem: es wird auf mutation_1 *oder* mutation_2 geprüft, wir wollen *und*"
   ],
   "metadata": {
    "collapsed": false
   }
  },
  {
   "cell_type": "code",
   "execution_count": null,
   "outputs": [],
   "source": [
    "# mutation_1 *und* mutation_2\n",
    "mutation_1 = 'K3R'\n",
    "mutation_2 = 'V55A'\n",
    "\n",
    "mask = df_mutants_with_specific_mutation.isin([mutation_1, mutation_2]).sum(axis=1) == 2\n",
    "df_mutants_with_specific_mutation = df_mutants_with_specific_mutation[mask]\n",
    "\n",
    "print(df_mutants_with_specific_mutation)"
   ],
   "metadata": {
    "collapsed": false
   }
  },
  {
   "cell_type": "code",
   "execution_count": 51,
   "outputs": [],
   "source": [
    "# Lisas Code zum Rausschreiben v. allen möglichen Mutationen (modifiziert)\n",
    "working_dataframe_only_ms = df_only_fscore_mutations.loc[:, [\"m1\", \"m2\", \"m3\", 'm4', 'm5', 'm6', 'm7', 'm8', 'm9', 'm10', 'm11', 'm12', 'm13', 'm14', 'm15']]\n",
    "working_dataframe_only_ms.head()\n",
    "\n",
    "all_possible_mutations = working_dataframe_only_ms.values.flatten().tolist()\n",
    "all_possible_mutations = list(set(all_possible_mutations))\n",
    "#hat einen none Wert, weil der auch ein Wert in der Liste ist -> wegmachen\n",
    "while None in all_possible_mutations:\n",
    "    all_possible_mutations.remove(None)"
   ],
   "metadata": {
    "collapsed": false,
    "ExecuteTime": {
     "end_time": "2023-06-06T07:41:43.708990Z",
     "start_time": "2023-06-06T07:41:43.664599Z"
    }
   }
  },
  {
   "cell_type": "code",
   "execution_count": null,
   "outputs": [],
   "source": [
    "print(all_possible_mutations)"
   ],
   "metadata": {
    "collapsed": false
   }
  },
  {
   "cell_type": "code",
   "execution_count": null,
   "outputs": [],
   "source": [
    "print(type(all_possible_mutations))"
   ],
   "metadata": {
    "collapsed": false
   }
  },
  {
   "cell_type": "code",
   "execution_count": 52,
   "outputs": [
    {
     "name": "stdout",
     "output_type": "stream",
     "text": [
      "      DMS_score   m1     m2     m3     m4     m5     m6     m7    m8    m9  \\\n",
      "0      1.301030  K3R   V55A   Q94R  A110T  D117G  M153K  D216A  None  None   \n",
      "4      3.738586  K3R   None   None   None   None   None   None  None  None   \n",
      "5      3.851893  K3R   A87T  D173G   None   None   None   None  None  None   \n",
      "6      3.551648  K3R   A87T  N144S  T225S   None   None   None  None  None   \n",
      "7      1.480047  K3R   C48R   D76G  M218K   None   None   None  None  None   \n",
      "...         ...  ...    ...    ...    ...    ...    ...    ...   ...   ...   \n",
      "1254   3.608239  K3R  T108S   None   None   None   None   None  None  None   \n",
      "1255   3.740634  K3R  T108A  K166R   None   None   None   None  None  None   \n",
      "1256   3.489164  K3R  T108A  H139R   None   None   None   None  None  None   \n",
      "1257   3.315287  K3R  T118A  K140E   None   None   None   None  None  None   \n",
      "1258   3.361495  K3R  T108A  F165L  K166R   None   None   None  None  None   \n",
      "\n",
      "       m10   m11   m12   m13   m14   m15  \n",
      "0     None  None  None  None  None  None  \n",
      "4     None  None  None  None  None  None  \n",
      "5     None  None  None  None  None  None  \n",
      "6     None  None  None  None  None  None  \n",
      "7     None  None  None  None  None  None  \n",
      "...    ...   ...   ...   ...   ...   ...  \n",
      "1254  None  None  None  None  None  None  \n",
      "1255  None  None  None  None  None  None  \n",
      "1256  None  None  None  None  None  None  \n",
      "1257  None  None  None  None  None  None  \n",
      "1258  None  None  None  None  None  None  \n",
      "\n",
      "[525 rows x 16 columns]\n"
     ]
    }
   ],
   "source": [
    "# mutation_1 und mutation_list\n",
    "mutation_1 = 'K3R'\n",
    "mutation_list = all_possible_mutations\n",
    "\n",
    "# Maske, die alle Zeilen enthält\n",
    "mask = pd.Series(True, index=df_mutants_with_specific_mutation.index)\n",
    "\n",
    "# jede Mutation in mutation_list durchgehen; nur Zeilen erhalten, die mutation_1 und mutation beinhalten\n",
    "for mutation in mutation_list:\n",
    "    mask &= df_mutants_with_specific_mutation.isin([mutation_1, mutation]).any(axis=1)\n",
    "\n",
    "df_mutants_with_specific_mutation = df_mutants_with_specific_mutation[mask]\n",
    "\n",
    "print(df_mutants_with_specific_mutation)"
   ],
   "metadata": {
    "collapsed": false,
    "ExecuteTime": {
     "end_time": "2023-06-06T07:42:39.651977Z",
     "start_time": "2023-06-06T07:41:48.203145Z"
    }
   }
  },
  {
   "cell_type": "code",
   "execution_count": 56,
   "outputs": [
    {
     "name": "stdout",
     "output_type": "stream",
     "text": [
      "K131Q    0\n",
      "T118S    1\n",
      "L221Q    0\n",
      "A179D    0\n",
      "M153A    0\n",
      "        ..\n",
      "L141R    0\n",
      "N121L    0\n",
      "A87S     0\n",
      "Q183E    0\n",
      "S208T    0\n",
      "Name: m2, Length: 1810, dtype: int64\n"
     ]
    }
   ],
   "source": [
    "# count values in m2\n",
    "mutation_counts = df_mutants_with_specific_mutation['m2'].value_counts().reindex(all_possible_mutations, fill_value=0).loc[all_possible_mutations]\n",
    "\n",
    "print(mutation_counts)"
   ],
   "metadata": {
    "collapsed": false,
    "ExecuteTime": {
     "end_time": "2023-06-06T07:58:56.996881Z",
     "start_time": "2023-06-06T07:58:56.985258Z"
    }
   }
  },
  {
   "cell_type": "code",
   "execution_count": 57,
   "outputs": [
    {
     "name": "stdout",
     "output_type": "stream",
     "text": [
      "<class 'pandas.core.series.Series'>\n"
     ]
    }
   ],
   "source": [
    "print(type(mutation_counts))"
   ],
   "metadata": {
    "collapsed": false,
    "ExecuteTime": {
     "end_time": "2023-06-06T07:59:40.239190Z",
     "start_time": "2023-06-06T07:59:40.227499Z"
    }
   }
  },
  {
   "cell_type": "code",
   "execution_count": 61,
   "outputs": [
    {
     "name": "stdout",
     "output_type": "stream",
     "text": [
      "T118S    1\n",
      "E5D      2\n",
      "E95G     1\n",
      "E5V      6\n",
      "G51S     1\n",
      "        ..\n",
      "K26M     1\n",
      "C48R     1\n",
      "I98V     2\n",
      "D133G    2\n",
      "V29M     1\n",
      "Name: m2, Length: 291, dtype: int64\n"
     ]
    }
   ],
   "source": [
    "# Zeilen mit counts = 0 löschen\n",
    "mutation_counts_over_0 = mutation_counts[mutation_counts != 0]\n",
    "\n",
    "print(mutation_counts_over_0)"
   ],
   "metadata": {
    "collapsed": false,
    "ExecuteTime": {
     "end_time": "2023-06-06T08:07:17.347034Z",
     "start_time": "2023-06-06T08:07:17.344178Z"
    }
   }
  },
  {
   "cell_type": "code",
   "execution_count": 62,
   "outputs": [
    {
     "name": "stdout",
     "output_type": "stream",
     "text": [
      "E5D      2\n",
      "E5V      6\n",
      "D21V     3\n",
      "E17V     2\n",
      "R73C     2\n",
      "        ..\n",
      "D76G     4\n",
      "E34V     3\n",
      "F99I     2\n",
      "I98V     2\n",
      "D133G    2\n",
      "Name: m2, Length: 118, dtype: int64\n"
     ]
    }
   ],
   "source": [
    "# Zeilen mit counts = 1 löschen (damit bleiben nur noch Mutationen mit counts > 1 (in Spalte m2) übrig)\n",
    "mutation_counts_over_1 = mutation_counts_over_0[mutation_counts_over_0 != 1]\n",
    "\n",
    "print(mutation_counts_over_1)"
   ],
   "metadata": {
    "collapsed": false,
    "ExecuteTime": {
     "end_time": "2023-06-06T08:09:55.717045Z",
     "start_time": "2023-06-06T08:09:55.712559Z"
    }
   }
  },
  {
   "cell_type": "code",
   "execution_count": 65,
   "outputs": [
    {
     "name": "stdout",
     "output_type": "stream",
     "text": [
      "E5V      6\n",
      "D21V     3\n",
      "V68A     4\n",
      "I47T     7\n",
      "L18P     3\n",
      "V16A     3\n",
      "K52E     4\n",
      "H25L     3\n",
      "F8L      7\n",
      "E32G     4\n",
      "T43A     3\n",
      "N23S     9\n",
      "T38A     4\n",
      "E5G      3\n",
      "K79E     3\n",
      "I47V     5\n",
      "T50A     3\n",
      "L60P     3\n",
      "L7Q      3\n",
      "L53P     5\n",
      "H81R     3\n",
      "F84L     4\n",
      "F83S     3\n",
      "F46L     4\n",
      "T9S      3\n",
      "K156R    4\n",
      "K85E     5\n",
      "F8S      3\n",
      "K26E     3\n",
      "K45R     3\n",
      "K113R    7\n",
      "T9A      6\n",
      "N23D     5\n",
      "E6G      5\n",
      "V55A     3\n",
      "G4S      3\n",
      "L18Q     4\n",
      "F100L    3\n",
      "E34G     6\n",
      "Q80R     3\n",
      "K41E     3\n",
      "I14T     7\n",
      "S30P     3\n",
      "F71L     4\n",
      "E17G     5\n",
      "D19G     6\n",
      "K52R     3\n",
      "I14V     6\n",
      "S28G     3\n",
      "H25R     3\n",
      "T108A    3\n",
      "K26R     5\n",
      "D76G     4\n",
      "E34V     3\n",
      "Name: m2, dtype: int64\n"
     ]
    }
   ],
   "source": [
    "# nur noch Zeilen mit counts > 2 (in Spalte m2)\n",
    "mutation_counts_over_2 = mutation_counts_over_1[mutation_counts_over_1 != 2]\n",
    "\n",
    "print(mutation_counts_over_2)"
   ],
   "metadata": {
    "collapsed": false,
    "ExecuteTime": {
     "end_time": "2023-06-06T08:15:49.964624Z",
     "start_time": "2023-06-06T08:15:49.961148Z"
    }
   }
  },
  {
   "cell_type": "code",
   "execution_count": 66,
   "outputs": [
    {
     "name": "stdout",
     "output_type": "stream",
     "text": [
      "E5V      6\n",
      "V68A     4\n",
      "I47T     7\n",
      "K52E     4\n",
      "F8L      7\n",
      "E32G     4\n",
      "N23S     9\n",
      "T38A     4\n",
      "I47V     5\n",
      "L53P     5\n",
      "F84L     4\n",
      "F46L     4\n",
      "K156R    4\n",
      "K85E     5\n",
      "K113R    7\n",
      "T9A      6\n",
      "N23D     5\n",
      "E6G      5\n",
      "L18Q     4\n",
      "E34G     6\n",
      "I14T     7\n",
      "F71L     4\n",
      "E17G     5\n",
      "D19G     6\n",
      "I14V     6\n",
      "K26R     5\n",
      "D76G     4\n",
      "Name: m2, dtype: int64\n"
     ]
    }
   ],
   "source": [
    "# nur noch Zeilen mit counts > 3 (in Spalte m2)\n",
    "mutation_counts_over_3 = mutation_counts_over_2[mutation_counts_over_2 != 3]\n",
    "\n",
    "print(mutation_counts_over_3)"
   ],
   "metadata": {
    "collapsed": false,
    "ExecuteTime": {
     "end_time": "2023-06-06T08:16:53.441437Z",
     "start_time": "2023-06-06T08:16:53.417328Z"
    }
   }
  },
  {
   "cell_type": "code",
   "execution_count": 67,
   "outputs": [
    {
     "name": "stdout",
     "output_type": "stream",
     "text": [
      "E5V      6\n",
      "I47T     7\n",
      "F8L      7\n",
      "N23S     9\n",
      "I47V     5\n",
      "L53P     5\n",
      "K85E     5\n",
      "K113R    7\n",
      "T9A      6\n",
      "N23D     5\n",
      "E6G      5\n",
      "E34G     6\n",
      "I14T     7\n",
      "E17G     5\n",
      "D19G     6\n",
      "I14V     6\n",
      "K26R     5\n",
      "Name: m2, dtype: int64\n"
     ]
    }
   ],
   "source": [
    "# nur noch Zeilen mit counts > 4 (in Spalte m2)\n",
    "mutation_counts_over_4 = mutation_counts_over_3[mutation_counts_over_3 != 4]\n",
    "\n",
    "print(mutation_counts_over_4)"
   ],
   "metadata": {
    "collapsed": false,
    "ExecuteTime": {
     "end_time": "2023-06-06T08:17:17.261925Z",
     "start_time": "2023-06-06T08:17:17.248744Z"
    }
   }
  },
  {
   "cell_type": "code",
   "execution_count": 68,
   "outputs": [
    {
     "name": "stdout",
     "output_type": "stream",
     "text": [
      "E5V      6\n",
      "I47T     7\n",
      "F8L      7\n",
      "N23S     9\n",
      "K113R    7\n",
      "T9A      6\n",
      "E34G     6\n",
      "I14T     7\n",
      "D19G     6\n",
      "I14V     6\n",
      "Name: m2, dtype: int64\n"
     ]
    }
   ],
   "source": [
    "# nur noch Zeilen mit counts > 5 (in Spalte m2)\n",
    "mutation_counts_over_5 = mutation_counts_over_4[mutation_counts_over_4 != 5]\n",
    "\n",
    "print(mutation_counts_over_5)"
   ],
   "metadata": {
    "collapsed": false,
    "ExecuteTime": {
     "end_time": "2023-06-06T08:17:39.408231Z",
     "start_time": "2023-06-06T08:17:39.395719Z"
    }
   }
  },
  {
   "cell_type": "code",
   "execution_count": 69,
   "outputs": [
    {
     "name": "stdout",
     "output_type": "stream",
     "text": [
      "I47T     7\n",
      "F8L      7\n",
      "N23S     9\n",
      "K113R    7\n",
      "I14T     7\n",
      "Name: m2, dtype: int64\n"
     ]
    }
   ],
   "source": [
    "# nur noch Zeilen mit counts > 6 (in Spalte m2)\n",
    "mutation_counts_over_6 = mutation_counts_over_5[mutation_counts_over_5 != 6]\n",
    "\n",
    "print(mutation_counts_over_6)"
   ],
   "metadata": {
    "collapsed": false,
    "ExecuteTime": {
     "end_time": "2023-06-06T08:18:13.280695Z",
     "start_time": "2023-06-06T08:18:13.261733Z"
    }
   }
  },
  {
   "cell_type": "code",
   "execution_count": 70,
   "outputs": [
    {
     "name": "stdout",
     "output_type": "stream",
     "text": [
      "      DMS_score   m1     m2     m3     m4     m5     m6     m7    m8    m9  \\\n",
      "0      1.301030  K3R   V55A   Q94R  A110T  D117G  M153K  D216A  None  None   \n",
      "4      3.738586  K3R   None   None   None   None   None   None  None  None   \n",
      "5      3.851893  K3R   A87T  D173G   None   None   None   None  None  None   \n",
      "6      3.551648  K3R   A87T  N144S  T225S   None   None   None  None  None   \n",
      "7      1.480047  K3R   C48R   D76G  M218K   None   None   None  None  None   \n",
      "...         ...  ...    ...    ...    ...    ...    ...    ...   ...   ...   \n",
      "1254   3.608239  K3R  T108S   None   None   None   None   None  None  None   \n",
      "1255   3.740634  K3R  T108A  K166R   None   None   None   None  None  None   \n",
      "1256   3.489164  K3R  T108A  H139R   None   None   None   None  None  None   \n",
      "1257   3.315287  K3R  T118A  K140E   None   None   None   None  None  None   \n",
      "1258   3.361495  K3R  T108A  F165L  K166R   None   None   None  None  None   \n",
      "\n",
      "       m10   m11   m12   m13   m14   m15  \n",
      "0     None  None  None  None  None  None  \n",
      "4     None  None  None  None  None  None  \n",
      "5     None  None  None  None  None  None  \n",
      "6     None  None  None  None  None  None  \n",
      "7     None  None  None  None  None  None  \n",
      "...    ...   ...   ...   ...   ...   ...  \n",
      "1254  None  None  None  None  None  None  \n",
      "1255  None  None  None  None  None  None  \n",
      "1256  None  None  None  None  None  None  \n",
      "1257  None  None  None  None  None  None  \n",
      "1258  None  None  None  None  None  None  \n",
      "\n",
      "[525 rows x 16 columns]\n"
     ]
    }
   ],
   "source": [
    "# df mit Mutanten, die in Spalte m2 counts > 6 haben\n",
    "# mutation_1 *und* mutation_2\n",
    "mutation_1 = 'K3R'\n",
    "mutation_2_over_6_list = mutation_counts_over_6.tolist()\n",
    "\n",
    "# Maske, die alle Zeilen enthält\n",
    "mask = pd.Series(True, index=df_mutants_with_specific_mutation.index)\n",
    "\n",
    "# jede Mutation in mutation_list durchgehen; nur Zeilen erhalten, die mutation_1 und mutation beinhalten\n",
    "for mutation in mutation_list:\n",
    "    mask &= df_mutants_with_specific_mutation.isin([mutation_1, mutation_2_over_6_list]).any(axis=1)\n",
    "\n",
    "df_mutants_with_specific_mutation = df_mutants_with_specific_mutation[mask]\n",
    "\n",
    "print(df_mutants_with_specific_mutation)"
   ],
   "metadata": {
    "collapsed": false,
    "ExecuteTime": {
     "end_time": "2023-06-06T08:25:32.879190Z",
     "start_time": "2023-06-06T08:25:32.172678Z"
    }
   }
  },
  {
   "cell_type": "code",
   "execution_count": 77,
   "outputs": [
    {
     "name": "stdout",
     "output_type": "stream",
     "text": [
      "A110D    1.0\n",
      "A110S    1.0\n",
      "A110T    1.0\n",
      "A110V    1.0\n",
      "A154S    1.0\n",
      "        ... \n",
      "Y92C     1.0\n",
      "Y92D     1.0\n",
      "Y92F     1.0\n",
      "Y92H     2.0\n",
      "Y92N     1.0\n",
      "Length: 658, dtype: float64\n"
     ]
    }
   ],
   "source": [
    "# count mutations in column m2 to m4\n",
    "counts_m2 = df_mutants_with_specific_mutation['m2'].value_counts()\n",
    "counts_m3 = df_mutants_with_specific_mutation['m3'].value_counts()\n",
    "counts_m4 = df_mutants_with_specific_mutation['m4'].value_counts()\n",
    "counts_m5 = df_mutants_with_specific_mutation['m5'].value_counts()\n",
    "counts_m6 = df_mutants_with_specific_mutation['m6'].value_counts()\n",
    "counts_m7 = df_mutants_with_specific_mutation['m7'].value_counts()\n",
    "counts_m8 = df_mutants_with_specific_mutation['m8'].value_counts()\n",
    "counts_m9 = df_mutants_with_specific_mutation['m9'].value_counts()\n",
    "counts_m10 = df_mutants_with_specific_mutation['m10'].value_counts()\n",
    "counts_m11 = df_mutants_with_specific_mutation['m11'].value_counts()\n",
    "counts_m12 = df_mutants_with_specific_mutation['m12'].value_counts()\n",
    "counts_m13 = df_mutants_with_specific_mutation['m13'].value_counts()\n",
    "counts_m14 = df_mutants_with_specific_mutation['m14'].value_counts()\n",
    "counts_m15 = df_mutants_with_specific_mutation['m15'].value_counts()\n",
    "\n",
    "counts_m2_to_m15 = counts_m2.add(counts_m3, fill_value=0).add(counts_m4, fill_value=0).add(counts_m5, fill_value=0).add(counts_m6, fill_value=0).add(counts_m7, fill_value=0).add(counts_m8, fill_value=0).add(counts_m9, fill_value=0).add(counts_m10, fill_value=0).add(counts_m11, fill_value=0).add(counts_m12, fill_value=0).add(counts_m13, fill_value=0).add(counts_m14, fill_value=0).add(counts_m15, fill_value=0)\n",
    "\n",
    "print(counts_m2_to_m15)"
   ],
   "metadata": {
    "collapsed": false,
    "ExecuteTime": {
     "end_time": "2023-06-06T08:40:21.642180Z",
     "start_time": "2023-06-06T08:40:21.628042Z"
    }
   }
  },
  {
   "cell_type": "code",
   "execution_count": 78,
   "outputs": [
    {
     "name": "stdout",
     "output_type": "stream",
     "text": [
      "A110D    1.0\n",
      "A110S    1.0\n",
      "A110T    1.0\n",
      "A110V    1.0\n",
      "A154S    1.0\n",
      "        ... \n",
      "Y92C     1.0\n",
      "Y92D     1.0\n",
      "Y92F     1.0\n",
      "Y92H     2.0\n",
      "Y92N     1.0\n",
      "Length: 658, dtype: float64\n"
     ]
    }
   ],
   "source": [
    "# nur noch Zeilen mit counts > 0 (in Spalte m2 bis m15)\n",
    "counts_m2_to_m15_over_0 = counts_m2_to_m15[counts_m2_to_m15 != 0]\n",
    "\n",
    "print(counts_m2_to_m15_over_0)"
   ],
   "metadata": {
    "collapsed": false,
    "ExecuteTime": {
     "end_time": "2023-06-06T08:43:27.511354Z",
     "start_time": "2023-06-06T08:43:27.508506Z"
    }
   }
  },
  {
   "cell_type": "code",
   "execution_count": 79,
   "outputs": [
    {
     "name": "stdout",
     "output_type": "stream",
     "text": [
      "A227V    2.0\n",
      "A87T     2.0\n",
      "C48R     3.0\n",
      "C70R     4.0\n",
      "D102G    4.0\n",
      "        ... \n",
      "Y39H     6.0\n",
      "Y66C     2.0\n",
      "Y74C     3.0\n",
      "Y74F     2.0\n",
      "Y92H     2.0\n",
      "Length: 394, dtype: float64\n"
     ]
    }
   ],
   "source": [
    "# nur noch Zeilen mit counts > 1 (in Spalte m2 bis m15)\n",
    "counts_m2_to_m15_over_1 = counts_m2_to_m15_over_0[counts_m2_to_m15_over_0 != 1]\n",
    "\n",
    "print(counts_m2_to_m15_over_1)"
   ],
   "metadata": {
    "collapsed": false,
    "ExecuteTime": {
     "end_time": "2023-06-06T08:43:54.971956Z",
     "start_time": "2023-06-06T08:43:54.956847Z"
    }
   }
  },
  {
   "cell_type": "code",
   "execution_count": 80,
   "outputs": [
    {
     "name": "stdout",
     "output_type": "stream",
     "text": [
      "C48R     3.0\n",
      "C70R     4.0\n",
      "D102G    4.0\n",
      "D103G    5.0\n",
      "D103V    3.0\n",
      "        ... \n",
      "Y151N    4.0\n",
      "Y182C    5.0\n",
      "Y237C    3.0\n",
      "Y39H     6.0\n",
      "Y74C     3.0\n",
      "Length: 273, dtype: float64\n"
     ]
    }
   ],
   "source": [
    "# nur noch Zeilen mit counts > 2 (in Spalte m2 bis m15)\n",
    "counts_m2_to_m15_over_2 = counts_m2_to_m15_over_1[counts_m2_to_m15_over_1 != 2]\n",
    "\n",
    "print(counts_m2_to_m15_over_2)"
   ],
   "metadata": {
    "collapsed": false,
    "ExecuteTime": {
     "end_time": "2023-06-06T08:44:18.373844Z",
     "start_time": "2023-06-06T08:44:18.334223Z"
    }
   }
  },
  {
   "cell_type": "code",
   "execution_count": 81,
   "outputs": [
    {
     "name": "stdout",
     "output_type": "stream",
     "text": [
      "C70R     4.0\n",
      "D102G    4.0\n",
      "D103G    5.0\n",
      "D117G    6.0\n",
      "D129G    6.0\n",
      "        ... \n",
      "Y145H    6.0\n",
      "Y151C    5.0\n",
      "Y151N    4.0\n",
      "Y182C    5.0\n",
      "Y39H     6.0\n",
      "Length: 183, dtype: float64\n"
     ]
    }
   ],
   "source": [
    "# nur noch Zeilen mit counts > 3 (in Spalte m2 bis m15)\n",
    "counts_m2_to_m15_over_3 = counts_m2_to_m15_over_2[counts_m2_to_m15_over_2 != 3]\n",
    "\n",
    "print(counts_m2_to_m15_over_3)"
   ],
   "metadata": {
    "collapsed": false,
    "ExecuteTime": {
     "end_time": "2023-06-06T08:44:39.392934Z",
     "start_time": "2023-06-06T08:44:39.378250Z"
    }
   }
  },
  {
   "cell_type": "code",
   "execution_count": 82,
   "outputs": [
    {
     "name": "stdout",
     "output_type": "stream",
     "text": [
      "D103G    5.0\n",
      "D117G    6.0\n",
      "D129G    6.0\n",
      "D133G    6.0\n",
      "D155G    5.0\n",
      "        ... \n",
      "Y143H    6.0\n",
      "Y145H    6.0\n",
      "Y151C    5.0\n",
      "Y182C    5.0\n",
      "Y39H     6.0\n",
      "Length: 141, dtype: float64\n"
     ]
    }
   ],
   "source": [
    "# nur noch Zeilen mit counts > 4 (in Spalte m2 bis m15)\n",
    "counts_m2_to_m15_over_4 = counts_m2_to_m15_over_3[counts_m2_to_m15_over_3 != 4]\n",
    "\n",
    "print(counts_m2_to_m15_over_4)"
   ],
   "metadata": {
    "collapsed": false,
    "ExecuteTime": {
     "end_time": "2023-06-06T08:48:16.639217Z",
     "start_time": "2023-06-06T08:48:16.625626Z"
    }
   }
  },
  {
   "cell_type": "code",
   "execution_count": 83,
   "outputs": [
    {
     "name": "stdout",
     "output_type": "stream",
     "text": [
      "D117G    6.0\n",
      "D129G    6.0\n",
      "D133G    6.0\n",
      "D173G    6.0\n",
      "D19G     7.0\n",
      "        ... \n",
      "V193A    6.0\n",
      "V68A     6.0\n",
      "Y143H    6.0\n",
      "Y145H    6.0\n",
      "Y39H     6.0\n",
      "Length: 94, dtype: float64\n"
     ]
    }
   ],
   "source": [
    "# nur noch Zeilen mit counts > 5 (in Spalte m2 bis m15)\n",
    "counts_m2_to_m15_over_5 = counts_m2_to_m15_over_4[counts_m2_to_m15_over_4 != 5]\n",
    "\n",
    "print(counts_m2_to_m15_over_5)"
   ],
   "metadata": {
    "collapsed": false,
    "ExecuteTime": {
     "end_time": "2023-06-06T08:48:43.281352Z",
     "start_time": "2023-06-06T08:48:43.266457Z"
    }
   }
  },
  {
   "cell_type": "code",
   "execution_count": 84,
   "outputs": [
    {
     "name": "stdout",
     "output_type": "stream",
     "text": [
      "D19G      7.0\n",
      "D76G      8.0\n",
      "E32G      9.0\n",
      "E34G      8.0\n",
      "E90G      8.0\n",
      "F100L     8.0\n",
      "F114L     7.0\n",
      "F165S     8.0\n",
      "F84L      8.0\n",
      "F84S      7.0\n",
      "F8L       7.0\n",
      "F99L      7.0\n",
      "H139R    11.0\n",
      "H81R      7.0\n",
      "I123V     8.0\n",
      "I128V     7.0\n",
      "I14T      7.0\n",
      "I14V      7.0\n",
      "I167T     9.0\n",
      "I167V     7.0\n",
      "I171T     8.0\n",
      "I229T    13.0\n",
      "I47T     10.0\n",
      "I98V      9.0\n",
      "K107R     8.0\n",
      "K113E     7.0\n",
      "K113R    15.0\n",
      "K156R    10.0\n",
      "K158R     8.0\n",
      "K214E     7.0\n",
      "K41E      7.0\n",
      "K79E      8.0\n",
      "K79R      8.0\n",
      "K85E      9.0\n",
      "L178P     7.0\n",
      "L220P     7.0\n",
      "L53P      8.0\n",
      "N144D     9.0\n",
      "N149S     9.0\n",
      "N159D     8.0\n",
      "N164D     8.0\n",
      "N164S     7.0\n",
      "N170D    10.0\n",
      "N170S     7.0\n",
      "N185D     7.0\n",
      "N198S     7.0\n",
      "N23S     13.0\n",
      "Q177R     8.0\n",
      "S147G    10.0\n",
      "T108A     8.0\n",
      "T118A     7.0\n",
      "T203A     8.0\n",
      "V163A     7.0\n",
      "dtype: float64\n"
     ]
    }
   ],
   "source": [
    "# nur noch Zeilen mit counts > 6 (in Spalte m2 bis m15)\n",
    "counts_m2_to_m15_over_6 = counts_m2_to_m15_over_5[counts_m2_to_m15_over_5 != 6]\n",
    "\n",
    "print(counts_m2_to_m15_over_6)"
   ],
   "metadata": {
    "collapsed": false,
    "ExecuteTime": {
     "end_time": "2023-06-06T08:50:29.789138Z",
     "start_time": "2023-06-06T08:50:29.774801Z"
    }
   }
  },
  {
   "cell_type": "code",
   "execution_count": 85,
   "outputs": [
    {
     "name": "stdout",
     "output_type": "stream",
     "text": [
      "D76G      8.0\n",
      "E32G      9.0\n",
      "E34G      8.0\n",
      "E90G      8.0\n",
      "F100L     8.0\n",
      "F165S     8.0\n",
      "F84L      8.0\n",
      "H139R    11.0\n",
      "I123V     8.0\n",
      "I167T     9.0\n",
      "I171T     8.0\n",
      "I229T    13.0\n",
      "I47T     10.0\n",
      "I98V      9.0\n",
      "K107R     8.0\n",
      "K113R    15.0\n",
      "K156R    10.0\n",
      "K158R     8.0\n",
      "K79E      8.0\n",
      "K79R      8.0\n",
      "K85E      9.0\n",
      "L53P      8.0\n",
      "N144D     9.0\n",
      "N149S     9.0\n",
      "N159D     8.0\n",
      "N164D     8.0\n",
      "N170D    10.0\n",
      "N23S     13.0\n",
      "Q177R     8.0\n",
      "S147G    10.0\n",
      "T108A     8.0\n",
      "T203A     8.0\n",
      "dtype: float64\n"
     ]
    }
   ],
   "source": [
    "# nur noch Zeilen mit counts > 7 (in Spalte m2 bis m15)\n",
    "counts_m2_to_m15_over_7 = counts_m2_to_m15_over_6[counts_m2_to_m15_over_6 != 7]\n",
    "\n",
    "print(counts_m2_to_m15_over_7)"
   ],
   "metadata": {
    "collapsed": false,
    "ExecuteTime": {
     "end_time": "2023-06-06T08:50:57.864938Z",
     "start_time": "2023-06-06T08:50:57.850291Z"
    }
   }
  },
  {
   "cell_type": "code",
   "execution_count": 86,
   "outputs": [
    {
     "name": "stdout",
     "output_type": "stream",
     "text": [
      "E32G      9.0\n",
      "H139R    11.0\n",
      "I167T     9.0\n",
      "I229T    13.0\n",
      "I47T     10.0\n",
      "I98V      9.0\n",
      "K113R    15.0\n",
      "K156R    10.0\n",
      "K85E      9.0\n",
      "N144D     9.0\n",
      "N149S     9.0\n",
      "N170D    10.0\n",
      "N23S     13.0\n",
      "S147G    10.0\n",
      "dtype: float64\n"
     ]
    }
   ],
   "source": [
    "# nur noch Zeilen mit counts > 8 (in Spalte m2 bis m15)\n",
    "counts_m2_to_m15_over_8 = counts_m2_to_m15_over_7[counts_m2_to_m15_over_7 != 8]\n",
    "\n",
    "print(counts_m2_to_m15_over_8)"
   ],
   "metadata": {
    "collapsed": false,
    "ExecuteTime": {
     "end_time": "2023-06-06T08:51:19.473174Z",
     "start_time": "2023-06-06T08:51:19.458750Z"
    }
   }
  },
  {
   "cell_type": "code",
   "execution_count": null,
   "outputs": [],
   "source": [],
   "metadata": {
    "collapsed": false
   }
  }
 ],
 "metadata": {
  "kernelspec": {
   "display_name": "Python 3",
   "language": "python",
   "name": "python3"
  },
  "language_info": {
   "codemirror_mode": {
    "name": "ipython",
    "version": 2
   },
   "file_extension": ".py",
   "mimetype": "text/x-python",
   "name": "python",
   "nbconvert_exporter": "python",
   "pygments_lexer": "ipython2",
   "version": "2.7.6"
  }
 },
 "nbformat": 4,
 "nbformat_minor": 0
}
