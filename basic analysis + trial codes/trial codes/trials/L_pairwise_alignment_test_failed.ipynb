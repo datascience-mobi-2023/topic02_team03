{
 "cells": [
  {
   "cell_type": "code",
   "execution_count": 1,
   "outputs": [
    {
     "ename": "AssertionError",
     "evalue": "",
     "output_type": "error",
     "traceback": [
      "\u001B[0;31m---------------------------------------------------------------------------\u001B[0m",
      "\u001B[0;31mAssertionError\u001B[0m                            Traceback (most recent call last)",
      "Cell \u001B[0;32mIn[1], line 33\u001B[0m\n\u001B[1;32m     27\u001B[0m     \u001B[38;5;28;01mreturn\u001B[39;00m a\n\u001B[1;32m     29\u001B[0m \u001B[38;5;66;03m# haben wir deletionen oder NUR Punktmutationen zu anderen Basen?\u001B[39;00m\n\u001B[1;32m     30\u001B[0m \u001B[38;5;66;03m# -> mit apply Funktion auf einzelne Reihen anwenden nacheinander\u001B[39;00m\n\u001B[1;32m     31\u001B[0m \u001B[38;5;66;03m# -> seq1 soll immer gleich bleiben, weil immer mit Originalsequenz verglichen werden soll\u001B[39;00m\n\u001B[0;32m---> 33\u001B[0m score_results \u001B[38;5;241m=\u001B[39m \u001B[43moriginal_dms_data\u001B[49m\u001B[38;5;241;43m.\u001B[39;49m\u001B[43mapply\u001B[49m\u001B[43m(\u001B[49m\u001B[43mscore\u001B[49m\u001B[43m(\u001B[49m\u001B[43msequence_original\u001B[49m\u001B[43m,\u001B[49m\u001B[43m \u001B[49m\u001B[43moriginal_dms_data\u001B[49m\u001B[43m[\u001B[49m\u001B[38;5;124;43m'\u001B[39;49m\u001B[38;5;124;43mmutated_sequence\u001B[39;49m\u001B[38;5;124;43m'\u001B[39;49m\u001B[43m]\u001B[49m\u001B[43m)\u001B[49m\u001B[43m)\u001B[49m\n\u001B[1;32m     34\u001B[0m \u001B[38;5;28mprint\u001B[39m(score_results)\n",
      "File \u001B[0;32m~/anaconda3/envs/DMSproject/lib/python3.10/site-packages/pandas/core/frame.py:9568\u001B[0m, in \u001B[0;36mDataFrame.apply\u001B[0;34m(self, func, axis, raw, result_type, args, **kwargs)\u001B[0m\n\u001B[1;32m   9557\u001B[0m \u001B[38;5;28;01mfrom\u001B[39;00m \u001B[38;5;21;01mpandas\u001B[39;00m\u001B[38;5;21;01m.\u001B[39;00m\u001B[38;5;21;01mcore\u001B[39;00m\u001B[38;5;21;01m.\u001B[39;00m\u001B[38;5;21;01mapply\u001B[39;00m \u001B[38;5;28;01mimport\u001B[39;00m frame_apply\n\u001B[1;32m   9559\u001B[0m op \u001B[38;5;241m=\u001B[39m frame_apply(\n\u001B[1;32m   9560\u001B[0m     \u001B[38;5;28mself\u001B[39m,\n\u001B[1;32m   9561\u001B[0m     func\u001B[38;5;241m=\u001B[39mfunc,\n\u001B[0;32m   (...)\u001B[0m\n\u001B[1;32m   9566\u001B[0m     kwargs\u001B[38;5;241m=\u001B[39mkwargs,\n\u001B[1;32m   9567\u001B[0m )\n\u001B[0;32m-> 9568\u001B[0m \u001B[38;5;28;01mreturn\u001B[39;00m \u001B[43mop\u001B[49m\u001B[38;5;241;43m.\u001B[39;49m\u001B[43mapply\u001B[49m\u001B[43m(\u001B[49m\u001B[43m)\u001B[49m\u001B[38;5;241m.\u001B[39m__finalize__(\u001B[38;5;28mself\u001B[39m, method\u001B[38;5;241m=\u001B[39m\u001B[38;5;124m\"\u001B[39m\u001B[38;5;124mapply\u001B[39m\u001B[38;5;124m\"\u001B[39m)\n",
      "File \u001B[0;32m~/anaconda3/envs/DMSproject/lib/python3.10/site-packages/pandas/core/apply.py:764\u001B[0m, in \u001B[0;36mFrameApply.apply\u001B[0;34m(self)\u001B[0m\n\u001B[1;32m    761\u001B[0m \u001B[38;5;28;01melif\u001B[39;00m \u001B[38;5;28mself\u001B[39m\u001B[38;5;241m.\u001B[39mraw:\n\u001B[1;32m    762\u001B[0m     \u001B[38;5;28;01mreturn\u001B[39;00m \u001B[38;5;28mself\u001B[39m\u001B[38;5;241m.\u001B[39mapply_raw()\n\u001B[0;32m--> 764\u001B[0m \u001B[38;5;28;01mreturn\u001B[39;00m \u001B[38;5;28;43mself\u001B[39;49m\u001B[38;5;241;43m.\u001B[39;49m\u001B[43mapply_standard\u001B[49m\u001B[43m(\u001B[49m\u001B[43m)\u001B[49m\n",
      "File \u001B[0;32m~/anaconda3/envs/DMSproject/lib/python3.10/site-packages/pandas/core/apply.py:891\u001B[0m, in \u001B[0;36mFrameApply.apply_standard\u001B[0;34m(self)\u001B[0m\n\u001B[1;32m    890\u001B[0m \u001B[38;5;28;01mdef\u001B[39;00m \u001B[38;5;21mapply_standard\u001B[39m(\u001B[38;5;28mself\u001B[39m):\n\u001B[0;32m--> 891\u001B[0m     results, res_index \u001B[38;5;241m=\u001B[39m \u001B[38;5;28;43mself\u001B[39;49m\u001B[38;5;241;43m.\u001B[39;49m\u001B[43mapply_series_generator\u001B[49m\u001B[43m(\u001B[49m\u001B[43m)\u001B[49m\n\u001B[1;32m    893\u001B[0m     \u001B[38;5;66;03m# wrap results\u001B[39;00m\n\u001B[1;32m    894\u001B[0m     \u001B[38;5;28;01mreturn\u001B[39;00m \u001B[38;5;28mself\u001B[39m\u001B[38;5;241m.\u001B[39mwrap_results(results, res_index)\n",
      "File \u001B[0;32m~/anaconda3/envs/DMSproject/lib/python3.10/site-packages/pandas/core/apply.py:897\u001B[0m, in \u001B[0;36mFrameApply.apply_series_generator\u001B[0;34m(self)\u001B[0m\n\u001B[1;32m    896\u001B[0m \u001B[38;5;28;01mdef\u001B[39;00m \u001B[38;5;21mapply_series_generator\u001B[39m(\u001B[38;5;28mself\u001B[39m) \u001B[38;5;241m-\u001B[39m\u001B[38;5;241m>\u001B[39m \u001B[38;5;28mtuple\u001B[39m[ResType, Index]:\n\u001B[0;32m--> 897\u001B[0m     \u001B[38;5;28;01massert\u001B[39;00m callable(\u001B[38;5;28mself\u001B[39m\u001B[38;5;241m.\u001B[39mf)\n\u001B[1;32m    899\u001B[0m     series_gen \u001B[38;5;241m=\u001B[39m \u001B[38;5;28mself\u001B[39m\u001B[38;5;241m.\u001B[39mseries_generator\n\u001B[1;32m    900\u001B[0m     res_index \u001B[38;5;241m=\u001B[39m \u001B[38;5;28mself\u001B[39m\u001B[38;5;241m.\u001B[39mresult_index\n",
      "\u001B[0;31mAssertionError\u001B[0m: "
     ]
    }
   ],
   "source": [
    "import pandas as pd\n",
    "\n",
    "original_dms_data = pd.read_csv(\"/Users/liza/Desktop/GFP_AEQVI_Sarkisyan_2016 Kopie/Blatt 2-GFP_AEQVI_Sarkisyan_2016.csv\", delimiter=';')\n",
    "\n",
    "###das ist eine abgeänderte Datei mit nur den ersten paar Zeilen, damit er nicht so lange lädt\n",
    "\n",
    "only_sequence_column_dms = original_dms_data['mutated_sequence']\n",
    "# den column aus dem Original dataframe der die Sequencen zeigt\n",
    "sequence_original = only_sequence_column_dms[1:2]\n",
    "# wenn die original sequence zeile 1 des dataframes ist  ----> stimmt nicht, muss man extra eingeben\n",
    "\n",
    "# code für scoring der einzelnen alignments\n",
    "# ?? einfach sequence1 gleich der Originalsequenz setzen?? und sequence2 durchlaufen lassen?\n",
    "\n",
    "# wie die Kombinationen in den Score einbezogen werden sollen\n",
    "\n",
    "\n",
    "def score(sequence1, sequence2):\n",
    "    a = 0\n",
    "    for pos in range(1, min(len(sequence1), len(sequence2))):\n",
    "        if sequence1[pos] == sequence2[pos]:\n",
    "            a += 2\n",
    "        if sequence1[pos] != sequence2[pos]:\n",
    "            a += -1\n",
    "        if sequence1[pos] == sequence2[pos] == '-':\n",
    "            a += -2\n",
    "    return a\n",
    "\n",
    "# haben wir deletionen oder NUR Punktmutationen zu anderen Basen?\n",
    "# -> mit apply Funktion auf einzelne Reihen anwenden nacheinander\n",
    "# -> seq1 soll immer gleich bleiben, weil immer mit Originalsequenz verglichen werden soll\n",
    "\n",
    "score_results = original_dms_data.apply(score(sequence_original, original_dms_data['mutated_sequence']))\n",
    "print(score_results)\n"
   ],
   "metadata": {
    "collapsed": false,
    "ExecuteTime": {
     "end_time": "2023-05-14T10:46:26.670338Z",
     "start_time": "2023-05-14T10:46:25.374078Z"
    }
   }
  },
  {
   "cell_type": "code",
   "execution_count": null,
   "outputs": [],
   "source": [],
   "metadata": {
    "collapsed": false
   }
  }
 ],
 "metadata": {
  "kernelspec": {
   "display_name": "Python 3",
   "language": "python",
   "name": "python3"
  },
  "language_info": {
   "codemirror_mode": {
    "name": "ipython",
    "version": 2
   },
   "file_extension": ".py",
   "mimetype": "text/x-python",
   "name": "python",
   "nbconvert_exporter": "python",
   "pygments_lexer": "ipython2",
   "version": "2.7.6"
  }
 },
 "nbformat": 4,
 "nbformat_minor": 0
}
