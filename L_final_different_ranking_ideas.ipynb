{
 "cells": [
  {
   "cell_type": "code",
   "execution_count": 1,
   "metadata": {
    "collapsed": true,
    "ExecuteTime": {
     "end_time": "2023-07-09T21:08:49.851737Z",
     "start_time": "2023-07-09T21:08:32.698891Z"
    }
   },
   "outputs": [],
   "source": [
    "import pandas as pd\n",
    "import numpy as np\n",
    "pd.set_option('display.max_columns', 50)"
   ]
  },
  {
   "cell_type": "code",
   "execution_count": null,
   "outputs": [],
   "source": [
    "#read dataset\n",
    "original_dms_data = pd.read_csv('/Users/liza/Desktop/Bioinfo Project/DMS_data/GFP_AEQVI_Sarkisyan_2016.csv')\n",
    "# split first column of df into multiple columns\n",
    "original_dms_data_col = original_dms_data\n",
    "only_mutants = original_dms_data[\"mutant\"].to_frame()\n",
    "original_dms_data_col[['m1', 'm2', 'm3', 'm4', 'm5', 'm6', 'm7', 'm8', 'm9', 'm10', 'm11', 'm12', 'm13', 'm14', 'm15']] = original_dms_data_col['mutant'].str.split(':', 15, expand=True)"
   ],
   "metadata": {
    "collapsed": false
   }
  },
  {
   "cell_type": "markdown",
   "source": [
    "PREPARE DATASET FOR RANKING CALCULATION:\n",
    "1. how many mutations does each mutant have? -> mut_count (df_mutation_count)\n",
    "2. find out all possible mutations -> all_possible_mutations\n",
    "3. df mutations x mutants -> which mutants contain which mutations -> result_how_often\n",
    "4. plots + calculation variance x how many values used for variance per mutation count\n",
    "-> variance of all fscores of all mutants containing mutation X shows how constant the effect of the mutation is\n"
   ],
   "metadata": {
    "collapsed": false
   }
  },
  {
   "cell_type": "code",
   "execution_count": 3,
   "outputs": [],
   "source": [
    "# count how many mutations each mutant has\n",
    "list_mut_count_in_progress = []\n",
    "for i in range(len(original_dms_data['mutant'])):\n",
    "    list_mut_count_in_progress.append(original_dms_data['mutant'].iloc[i].count(':'))\n",
    "list_mut_count_prae = np.array(list_mut_count_in_progress)\n",
    "list_mut_count = (list_mut_count_prae + 1)\n",
    "df_mutation_counts = pd.DataFrame(list_mut_count)"
   ],
   "metadata": {
    "collapsed": false,
    "ExecuteTime": {
     "end_time": "2023-07-09T21:08:49.978617Z",
     "start_time": "2023-07-09T21:08:34.679353Z"
    }
   }
  },
  {
   "cell_type": "code",
   "execution_count": 4,
   "outputs": [
    {
     "data": {
      "text/plain": "   DMS_score   m1     m2     m3     m4     m5     m6     m7    m8    m9   m10  \\\n0   1.301030  K3R   V55A   Q94R  A110T  D117G  M153K  D216A  None  None  None   \n1   3.137350  K3Q   V16A  I167T  L195Q   None   None   None  None  None  None   \n2   1.553913  K3Q  Y143C  N164D  S205P  A227T   None   None  None  None  None   \n3   3.404237  K3Q  Y143N  V193A   None   None   None   None  None  None  None   \n4   3.738586  K3R   None   None   None   None   None   None  None  None  None   \n\n    m11   m12   m13   m14   m15  mut_count  \n0  None  None  None  None  None          7  \n1  None  None  None  None  None          4  \n2  None  None  None  None  None          5  \n3  None  None  None  None  None          3  \n4  None  None  None  None  None          1  ",
      "text/html": "<div>\n<style scoped>\n    .dataframe tbody tr th:only-of-type {\n        vertical-align: middle;\n    }\n\n    .dataframe tbody tr th {\n        vertical-align: top;\n    }\n\n    .dataframe thead th {\n        text-align: right;\n    }\n</style>\n<table border=\"1\" class=\"dataframe\">\n  <thead>\n    <tr style=\"text-align: right;\">\n      <th></th>\n      <th>DMS_score</th>\n      <th>m1</th>\n      <th>m2</th>\n      <th>m3</th>\n      <th>m4</th>\n      <th>m5</th>\n      <th>m6</th>\n      <th>m7</th>\n      <th>m8</th>\n      <th>m9</th>\n      <th>m10</th>\n      <th>m11</th>\n      <th>m12</th>\n      <th>m13</th>\n      <th>m14</th>\n      <th>m15</th>\n      <th>mut_count</th>\n    </tr>\n  </thead>\n  <tbody>\n    <tr>\n      <th>0</th>\n      <td>1.301030</td>\n      <td>K3R</td>\n      <td>V55A</td>\n      <td>Q94R</td>\n      <td>A110T</td>\n      <td>D117G</td>\n      <td>M153K</td>\n      <td>D216A</td>\n      <td>None</td>\n      <td>None</td>\n      <td>None</td>\n      <td>None</td>\n      <td>None</td>\n      <td>None</td>\n      <td>None</td>\n      <td>None</td>\n      <td>7</td>\n    </tr>\n    <tr>\n      <th>1</th>\n      <td>3.137350</td>\n      <td>K3Q</td>\n      <td>V16A</td>\n      <td>I167T</td>\n      <td>L195Q</td>\n      <td>None</td>\n      <td>None</td>\n      <td>None</td>\n      <td>None</td>\n      <td>None</td>\n      <td>None</td>\n      <td>None</td>\n      <td>None</td>\n      <td>None</td>\n      <td>None</td>\n      <td>None</td>\n      <td>4</td>\n    </tr>\n    <tr>\n      <th>2</th>\n      <td>1.553913</td>\n      <td>K3Q</td>\n      <td>Y143C</td>\n      <td>N164D</td>\n      <td>S205P</td>\n      <td>A227T</td>\n      <td>None</td>\n      <td>None</td>\n      <td>None</td>\n      <td>None</td>\n      <td>None</td>\n      <td>None</td>\n      <td>None</td>\n      <td>None</td>\n      <td>None</td>\n      <td>None</td>\n      <td>5</td>\n    </tr>\n    <tr>\n      <th>3</th>\n      <td>3.404237</td>\n      <td>K3Q</td>\n      <td>Y143N</td>\n      <td>V193A</td>\n      <td>None</td>\n      <td>None</td>\n      <td>None</td>\n      <td>None</td>\n      <td>None</td>\n      <td>None</td>\n      <td>None</td>\n      <td>None</td>\n      <td>None</td>\n      <td>None</td>\n      <td>None</td>\n      <td>None</td>\n      <td>3</td>\n    </tr>\n    <tr>\n      <th>4</th>\n      <td>3.738586</td>\n      <td>K3R</td>\n      <td>None</td>\n      <td>None</td>\n      <td>None</td>\n      <td>None</td>\n      <td>None</td>\n      <td>None</td>\n      <td>None</td>\n      <td>None</td>\n      <td>None</td>\n      <td>None</td>\n      <td>None</td>\n      <td>None</td>\n      <td>None</td>\n      <td>None</td>\n      <td>1</td>\n    </tr>\n  </tbody>\n</table>\n</div>"
     },
     "execution_count": 4,
     "metadata": {},
     "output_type": "execute_result"
    }
   ],
   "source": [
    "#concat mutation_count to original df\n",
    "working_dataframe_prae = pd.concat([original_dms_data_col, df_mutation_counts], axis=\"columns\")\n",
    "\n",
    "working_dataframe = working_dataframe_prae.drop(['mutant', 'mutated_sequence', 'DMS_score_bin'], axis=1)\n",
    "working_dataframe.rename(columns={working_dataframe.columns[16]: 'mut_count'}, inplace=True)\n",
    "working_dataframe.head()"
   ],
   "metadata": {
    "collapsed": false,
    "ExecuteTime": {
     "end_time": "2023-07-09T21:08:49.987588Z",
     "start_time": "2023-07-09T21:08:35.303016Z"
    }
   }
  },
  {
   "cell_type": "code",
   "execution_count": 5,
   "outputs": [],
   "source": [
    "#all existing mutations in one list: calculation of all_possible_mutations\n",
    "\n",
    "working_dataframe_only_ms = working_dataframe.loc[:, [\"m1\", \"m2\", \"m3\", 'm4', 'm5', 'm6', 'm7', 'm8', 'm9', 'm10', 'm11', 'm12', 'm13', 'm14', 'm15']]\n",
    "all_possible_mutations = working_dataframe_only_ms.values.flatten().tolist()\n",
    "all_possible_mutations = list(set(all_possible_mutations))\n",
    "#\"none\" is also a value in the list -> remove\n",
    "while None in all_possible_mutations:\n",
    "    all_possible_mutations.remove(None)\n",
    "only_mutants_list = only_mutants['mutant']\n"
   ],
   "metadata": {
    "collapsed": false,
    "ExecuteTime": {
     "end_time": "2023-07-09T21:08:49.987876Z",
     "start_time": "2023-07-09T21:08:35.358314Z"
    }
   }
  },
  {
   "cell_type": "code",
   "execution_count": 6,
   "outputs": [],
   "source": [
    "#remodel df so it is more convenient\n",
    "working_dataframe_prae = pd.concat([original_dms_data_col, df_mutation_counts], axis=\"columns\")\n",
    "working_dataframe = working_dataframe_prae.drop(['mutant', 'mutated_sequence', 'DMS_score_bin'], axis=1)\n",
    "working_dataframe.rename(columns={working_dataframe.columns[16]: 'mut_count'}, inplace=True)\n"
   ],
   "metadata": {
    "collapsed": false,
    "ExecuteTime": {
     "end_time": "2023-07-09T21:08:49.988026Z",
     "start_time": "2023-07-09T21:08:35.430390Z"
    }
   }
  },
  {
   "cell_type": "code",
   "execution_count": 7,
   "outputs": [],
   "source": [
    "#df which mutant from only_mutants_list contains the mutations from all_possible_mutations\n",
    "list_of_dfs = []\n",
    "\n",
    "# For-Loop zum Erstellen und Hinzufügen eines neuen Columns in jedem Durchlauf\n",
    "for i in all_possible_mutations:\n",
    "    new_column_name = f'{i}'\n",
    "    new_column_values = [only_mutants_list.str.contains(i, regex= False)]\n",
    "    new_df = pd.DataFrame({new_column_name: new_column_values})\n",
    "    new_df_exploded = new_df.explode(new_column_name)\n",
    "    list_of_dfs.append(new_df_exploded)\n",
    "\n",
    "# concat dfs from the list\n",
    "result_how_often = pd.concat(list_of_dfs, axis=1)\n",
    "result_how_often = result_how_often.reset_index(drop=True)\n",
    "\n",
    "## result_how_often.to_csv('dataframe_mutanten_Mutationen.csv', index=True)"
   ],
   "metadata": {
    "collapsed": false,
    "ExecuteTime": {
     "end_time": "2023-07-09T21:09:40.742045Z",
     "start_time": "2023-07-09T21:08:35.482871Z"
    }
   }
  },
  {
   "cell_type": "code",
   "execution_count": 8,
   "outputs": [],
   "source": [
    "# more convenient df (just mutcount und fscore)\n",
    "count_fscore_frame = working_dataframe[['DMS_score', 'mut_count']]"
   ],
   "metadata": {
    "collapsed": false,
    "ExecuteTime": {
     "end_time": "2023-07-09T21:09:40.776343Z",
     "start_time": "2023-07-09T21:09:40.703169Z"
    }
   }
  },
  {
   "cell_type": "code",
   "execution_count": 45,
   "outputs": [
    {
     "data": {
      "text/plain": "<Figure size 1900x1200 with 15 Axes>",
      "image/png": "[encoded data removed]"
     },
     "metadata": {},
     "output_type": "display_data"
    }
   ],
   "source": [
    "#plot: variance of fscores per mutation count and number of values uesed for variance calculation\n",
    "#-> bottom right corner is the best, because the varaince is the most reliable\n",
    "\n",
    "import matplotlib.pyplot as plt\n",
    "\n",
    "\n",
    "fig, axes = plt.subplots(nrows=5, ncols=3, figsize=(19, 12))  # Abbildung und Achsenobjekte erstellen\n",
    "plt.subplots_adjust(wspace=0.4, hspace=0.6)\n",
    "\n",
    "for j, ax in zip(range(2, 16), axes.flatten()):\n",
    "    variance_per_mutant_list = []\n",
    "\n",
    "    for i in all_possible_mutations:\n",
    "        mut_count_fscore = count_fscore_frame.loc[result_how_often[i] == True]\n",
    "        fscore_mut = mut_count_fscore['DMS_score'].loc[mut_count_fscore['mut_count'] == j]\n",
    "        varianz_mut = fscore_mut.var()\n",
    "        variance_per_mutant_list.append(varianz_mut)\n",
    "\n",
    "    variance_per_mutant_series = pd.Series(variance_per_mutant_list, index=all_possible_mutations)\n",
    "    variance_per_mutant_df = variance_per_mutant_series.to_frame()\n",
    "\n",
    "\n",
    "#how reliable is the calculated variance? -> how many values are available for the calculation\n",
    "\n",
    "    how_many_for_variance = []\n",
    "\n",
    "    for i in all_possible_mutations:\n",
    "        mut_count_fscore = count_fscore_frame.loc[result_how_often[i] == True]\n",
    "        fscore_mut = mut_count_fscore['DMS_score'].loc[mut_count_fscore['mut_count'] == j]\n",
    "        wie_viel_jeweils = len(fscore_mut)\n",
    "        how_many_for_variance.append(wie_viel_jeweils)\n",
    "\n",
    "    how_many_for_variance = pd.Series(how_many_for_variance, index=all_possible_mutations)\n",
    "    how_many_for_variance_df = how_many_for_variance.to_frame()\n",
    "\n",
    "\n",
    "    how_many_AND_variance_df = pd.concat([how_many_for_variance_df, variance_per_mutant_df], axis = 1)\n",
    "    how_many_AND_variance_df.columns = ['number of used values', 'Variance']\n",
    "    how_many_AND_variance_df = how_many_AND_variance_df.dropna()\n",
    "\n",
    "#scatter plot variance x count\n",
    "    ax.scatter(how_many_AND_variance_df['number of used values'],how_many_AND_variance_df['Variance'], s = j )\n",
    "    ax.set_xlabel('number of used values')\n",
    "    ax.set_ylabel('Variance')\n",
    "\n",
    "    if \"V163A\" in how_many_AND_variance_df.index:\n",
    "        ax.scatter(how_many_AND_variance_df['number of used values']['V163A'],how_many_AND_variance_df['Variance']['V163A'], c='red')\n",
    "    ax.set_title(f'mutation count = {j} ')\n",
    "\n"
   ],
   "metadata": {
    "collapsed": false,
    "ExecuteTime": {
     "end_time": "2023-07-10T11:12:54.569653Z",
     "start_time": "2023-07-10T10:46:47.615611Z"
    }
   }
  },
  {
   "cell_type": "markdown",
   "source": [
    "FURTHER PREPARATION FOR RANKINGS:\n",
    "1. variance calculation per mutant (not-weighted)\n",
    "2. how many values got used for the calculation, same as above but for every mutcount combined\n",
    "-> both in one dataframe\n",
    "3. calculate df that contains the difference between the fscore-means of all mutants WITH mutation X and WITHOUT mutation X\n",
    "-> how big is the effect of the mutation on existing in general\n",
    "-> not weighted"
   ],
   "metadata": {
    "collapsed": false
   }
  },
  {
   "cell_type": "code",
   "execution_count": 10,
   "outputs": [
    {
     "name": "stderr",
     "output_type": "stream",
     "text": [
      "/var/folders/sk/q8h0c3zs1v9dt93y5m134swr0000gn/T/ipykernel_93968/1098898036.py:18: FutureWarning: DataFrame.set_axis 'inplace' keyword is deprecated and will be removed in a future version. Use `obj = obj.set_axis(..., copy=False)` instead\n",
      "  variance_per_mutant_count_df.set_axis(range(2,8), axis=1, inplace=True)\n"
     ]
    }
   ],
   "source": [
    "#variance means, calculate variances per mutation per mutation count -> mean of all per mutation\n",
    "#-> not yet weighted\n",
    "\n",
    "frame_zum_mitteln_variance = pd.DataFrame(index = all_possible_mutations)\n",
    "variance_per_mutant_count_list = []\n",
    "\n",
    "# IMPORTANT!! -> only values from mutants with up to 7 mutations (mut_count < 7), because the fscores from mutants with a mut_counts above 7 are generally low (-> boxplot from statistical_test_fscores)\n",
    "for j, ax in zip(range(2, 8), axes.flatten()):\n",
    "    variance_per_mutant_list = []\n",
    "\n",
    "    for i in all_possible_mutations:\n",
    "        mut_count_fscore = count_fscore_frame.loc[result_how_often[i] == True]\n",
    "        fscore_mut = mut_count_fscore['DMS_score'].loc[mut_count_fscore['mut_count'] == j]\n",
    "        varianz_mut = fscore_mut.var()  #die varianz je mutation je anzahl\n",
    "        variance_per_mutant_list.append(varianz_mut) #liste der Varianzen ALLER Mutationen je anzahl\n",
    "\n",
    "    variance_per_mutant_df = pd.DataFrame(variance_per_mutant_list, index=all_possible_mutations)\n",
    "    variance_per_mutant_count_list.append(variance_per_mutant_df)\n",
    "variance_per_mutant_count_df = pd.concat(variance_per_mutant_count_list, axis=1)\n",
    "variance_per_mutant_count_df.set_axis(range(2,8), axis=1, inplace=True)\n",
    "\n",
    "# df variance per mutatuion (rows) per mutation_count (columns)\n",
    "variance_per_mutant_count_df\n",
    "mean_variances_per_mutations = pd.DataFrame(variance_per_mutant_count_df.mean(axis=1, skipna=True), columns=['Mean'])\n"
   ],
   "metadata": {
    "collapsed": false,
    "ExecuteTime": {
     "end_time": "2023-07-09T21:13:25.229292Z",
     "start_time": "2023-07-09T21:12:45.967377Z"
    }
   }
  },
  {
   "cell_type": "markdown",
   "source": [],
   "metadata": {
    "collapsed": false
   }
  },
  {
   "cell_type": "code",
   "execution_count": 12,
   "outputs": [
    {
     "name": "stderr",
     "output_type": "stream",
     "text": [
      "/var/folders/sk/q8h0c3zs1v9dt93y5m134swr0000gn/T/ipykernel_93968/2598593114.py:15: FutureWarning: DataFrame.set_axis 'inplace' keyword is deprecated and will be removed in a future version. Use `obj = obj.set_axis(..., copy=False)` instead\n",
      "  how_many_per_mutant_count_df.set_axis(range(2,8), axis=1, inplace=True)\n"
     ]
    }
   ],
   "source": [
    "how_many_per_mutant_count_list = []\n",
    "\n",
    "for j, ax in zip(range(2, 8), axes.flatten()):\n",
    "    how_many_for_variance = []\n",
    "\n",
    "    for i in all_possible_mutations:\n",
    "        mut_count_fscore = count_fscore_frame.loc[result_how_often[i] == True]\n",
    "        fscore_mut = mut_count_fscore['DMS_score'].loc[mut_count_fscore['mut_count'] == j]\n",
    "        wie_viel_jeweils = len(fscore_mut)\n",
    "        how_many_for_variance.append(wie_viel_jeweils)\n",
    "\n",
    "    how_many_per_mutant_df = pd.DataFrame(how_many_for_variance, index=all_possible_mutations)\n",
    "    how_many_per_mutant_count_list.append(how_many_per_mutant_df)\n",
    "how_many_per_mutant_count_df = pd.concat(how_many_per_mutant_count_list, axis=1)\n",
    "how_many_per_mutant_count_df.set_axis(range(2,8), axis=1, inplace=True)\n",
    "\n",
    "mean_how_many_per_mutations = pd.DataFrame(how_many_per_mutant_count_df.mean(axis=1, skipna=True), columns=['Mean'])\n"
   ],
   "metadata": {
    "collapsed": false,
    "ExecuteTime": {
     "end_time": "2023-07-09T21:14:02.395070Z",
     "start_time": "2023-07-09T21:13:25.251468Z"
    }
   }
  },
  {
   "cell_type": "code",
   "execution_count": 13,
   "outputs": [],
   "source": [
    "combined_means_variance_how_many = pd.concat([mean_variances_per_mutations, mean_how_many_per_mutations], axis=1)\n",
    "combined_means_variance_how_many.columns = ['mean_variances_per_mutations', 'mean_how_many_per_mutations']"
   ],
   "metadata": {
    "collapsed": false,
    "ExecuteTime": {
     "end_time": "2023-07-09T21:14:02.397356Z",
     "start_time": "2023-07-09T21:14:02.384205Z"
    }
   }
  },
  {
   "cell_type": "code",
   "execution_count": 25,
   "outputs": [],
   "source": [
    "#differences calculated (effect of mutation X on the fscore)\n",
    "nur_fscore_mut_count = working_dataframe.loc[:, [\"DMS_score\", \"mut_count\"]]\n",
    "differences_list = []\n",
    "\n",
    "for i in all_possible_mutations:\n",
    "    #for all mutants WITH the mutation\n",
    "    #filter the mutants for the existing of mutation X (-> result_how_often)\n",
    "    index_when_mut_present = result_how_often.loc[result_how_often[i] == True].index\n",
    "    #fscores from all mutants that match\n",
    "    only_rows_with_mut = nur_fscore_mut_count [(nur_fscore_mut_count ['mut_count'] >2) & (nur_fscore_mut_count .index.isin(index_when_mut_present))]\n",
    "\n",
    "# Calculate the mean of DMS_score for the filtered rows\n",
    "    mean_dms_score_only_mut = only_rows_with_mut['DMS_score'].mean()\n",
    "#-------------\n",
    "    #for all mutants WITHOUT the mutation (same calculation)\n",
    "    index_when_not_mut_present = result_how_often.loc[result_how_often[i] == False].index\n",
    "\n",
    "    only_rows_withOUT_mut = working_dataframe[(working_dataframe['mut_count'] >2) & (working_dataframe.index.isin(index_when_not_mut_present))]\n",
    "\n",
    "# Calculate the mean of DMS_score for the filtered rows\n",
    "    mean_dms_score_every_but_mut = only_rows_withOUT_mut['DMS_score'].mean()\n",
    "#----------------\n",
    "    difference_means = mean_dms_score_only_mut - mean_dms_score_every_but_mut\n",
    "    differences_list.append(difference_means)\n",
    "\n",
    "all_differences_means = pd.DataFrame({'Difference': differences_list}, index=all_possible_mutations)\n"
   ],
   "metadata": {
    "collapsed": false,
    "ExecuteTime": {
     "end_time": "2023-07-10T08:39:38.489905Z",
     "start_time": "2023-07-10T07:14:38.856909Z"
    }
   }
  },
  {
   "cell_type": "markdown",
   "source": [
    "----------------RANKING 0:\n",
    "-> ranked by variance (without taking into account how many values got used for the calculation)"
   ],
   "metadata": {
    "collapsed": false
   }
  },
  {
   "cell_type": "code",
   "execution_count": 14,
   "outputs": [
    {
     "data": {
      "text/plain": "       mean_variances_per_mutations  mean_how_many_per_mutations\nY66S                   1.264636e-14                     1.333333\nM233S                  7.899120e-14                     0.500000\nA110P                  8.391788e-14                     1.000000\nA206P                  1.307599e-13                     0.666667\nF100P                  1.963388e-13                     0.666667\n...                             ...                          ...\nN121L                           NaN                     0.166667\nQ184W                           NaN                     0.333333\nE32M                            NaN                     0.166667\nS175D                           NaN                     0.166667\nH217F                           NaN                     0.166667\n\n[1810 rows x 2 columns]",
      "text/html": "<div>\n<style scoped>\n    .dataframe tbody tr th:only-of-type {\n        vertical-align: middle;\n    }\n\n    .dataframe tbody tr th {\n        vertical-align: top;\n    }\n\n    .dataframe thead th {\n        text-align: right;\n    }\n</style>\n<table border=\"1\" class=\"dataframe\">\n  <thead>\n    <tr style=\"text-align: right;\">\n      <th></th>\n      <th>mean_variances_per_mutations</th>\n      <th>mean_how_many_per_mutations</th>\n    </tr>\n  </thead>\n  <tbody>\n    <tr>\n      <th>Y66S</th>\n      <td>1.264636e-14</td>\n      <td>1.333333</td>\n    </tr>\n    <tr>\n      <th>M233S</th>\n      <td>7.899120e-14</td>\n      <td>0.500000</td>\n    </tr>\n    <tr>\n      <th>A110P</th>\n      <td>8.391788e-14</td>\n      <td>1.000000</td>\n    </tr>\n    <tr>\n      <th>A206P</th>\n      <td>1.307599e-13</td>\n      <td>0.666667</td>\n    </tr>\n    <tr>\n      <th>F100P</th>\n      <td>1.963388e-13</td>\n      <td>0.666667</td>\n    </tr>\n    <tr>\n      <th>...</th>\n      <td>...</td>\n      <td>...</td>\n    </tr>\n    <tr>\n      <th>N121L</th>\n      <td>NaN</td>\n      <td>0.166667</td>\n    </tr>\n    <tr>\n      <th>Q184W</th>\n      <td>NaN</td>\n      <td>0.333333</td>\n    </tr>\n    <tr>\n      <th>E32M</th>\n      <td>NaN</td>\n      <td>0.166667</td>\n    </tr>\n    <tr>\n      <th>S175D</th>\n      <td>NaN</td>\n      <td>0.166667</td>\n    </tr>\n    <tr>\n      <th>H217F</th>\n      <td>NaN</td>\n      <td>0.166667</td>\n    </tr>\n  </tbody>\n</table>\n<p>1810 rows × 2 columns</p>\n</div>"
     },
     "execution_count": 14,
     "metadata": {},
     "output_type": "execute_result"
    }
   ],
   "source": [
    "sorted_Ranking0 = combined_means_variance_how_many.sort_values(by='mean_variances_per_mutations')\n",
    "\n",
    "sorted_Ranking0"
   ],
   "metadata": {
    "collapsed": false,
    "ExecuteTime": {
     "end_time": "2023-07-09T21:14:02.430027Z",
     "start_time": "2023-07-09T21:14:02.396908Z"
    }
   }
  },
  {
   "cell_type": "code",
   "execution_count": 46,
   "outputs": [
    {
     "name": "stderr",
     "output_type": "stream",
     "text": [
      "/var/folders/sk/q8h0c3zs1v9dt93y5m134swr0000gn/T/ipykernel_93968/1720088858.py:14: FutureWarning: this method is deprecated in favour of `Styler.to_html()`\n",
      "  file.write(styled_ranking0.render())\n"
     ]
    }
   ],
   "source": [
    "# formatted dataframe with marked \"important\" mutations (TOP15 paper, TOP from pedigrees (Angela))\n",
    "TOP_MUTANTS = ['V163A', 'K166Q', 'I171V', 'K113R', 'K214E', 'K156R']\n",
    "\n",
    "def highlight_top_mutants(row):\n",
    "    color = 'red' if row.name in TOP_MUTANTS else 'black'\n",
    "    return ['color: {}'.format(color)] * len(row)\n",
    "\n",
    "styled_ranking0= sorted_Ranking0.style.apply(highlight_top_mutants, axis=1)\n",
    "\n",
    "with open('formatted_ranking0.html', 'w') as file:\n",
    "    file.write(styled_ranking0.render())"
   ],
   "metadata": {
    "collapsed": false,
    "ExecuteTime": {
     "end_time": "2023-07-10T20:07:51.517720Z",
     "start_time": "2023-07-10T20:07:50.716900Z"
    }
   }
  },
  {
   "cell_type": "markdown",
   "source": [
    "----------------RANKING 1: (that was the try if the ranking-function works)\n",
    "-> ranked by the available values for each mutation (how often does mutation X appear in total)"
   ],
   "metadata": {
    "collapsed": false
   }
  },
  {
   "cell_type": "code",
   "execution_count": 1,
   "outputs": [
    {
     "ename": "NameError",
     "evalue": "name 'combined_means_variance_how_many' is not defined",
     "output_type": "error",
     "traceback": [
      "\u001B[0;31m---------------------------------------------------------------------------\u001B[0m",
      "\u001B[0;31mNameError\u001B[0m                                 Traceback (most recent call last)",
      "Cell \u001B[0;32mIn[1], line 1\u001B[0m\n\u001B[0;32m----> 1\u001B[0m sorted_Ranking1 \u001B[38;5;241m=\u001B[39m \u001B[43mcombined_means_variance_how_many\u001B[49m\u001B[38;5;241m.\u001B[39msort_values(by\u001B[38;5;241m=\u001B[39m\u001B[38;5;124m'\u001B[39m\u001B[38;5;124mmean_how_many_per_mutations\u001B[39m\u001B[38;5;124m'\u001B[39m, ascending\u001B[38;5;241m=\u001B[39m \u001B[38;5;28;01mFalse\u001B[39;00m)\n\u001B[1;32m      3\u001B[0m \u001B[38;5;28mprint\u001B[39m(sorted_Ranking1)\n",
      "\u001B[0;31mNameError\u001B[0m: name 'combined_means_variance_how_many' is not defined"
     ]
    }
   ],
   "source": [
    "sorted_Ranking1 = combined_means_variance_how_many.sort_values(by='mean_how_many_per_mutations', ascending= False)\n",
    "\n",
    "print(sorted_Ranking1)"
   ],
   "metadata": {
    "collapsed": false,
    "ExecuteTime": {
     "end_time": "2023-07-11T13:24:12.433475Z",
     "start_time": "2023-07-11T13:24:12.035388Z"
    }
   }
  },
  {
   "cell_type": "code",
   "execution_count": 47,
   "outputs": [
    {
     "name": "stderr",
     "output_type": "stream",
     "text": [
      "/var/folders/sk/q8h0c3zs1v9dt93y5m134swr0000gn/T/ipykernel_93968/1162886222.py:13: FutureWarning: this method is deprecated in favour of `Styler.to_html()`\n",
      "  file.write(styled_ranking1.render())\n"
     ]
    }
   ],
   "source": [
    "# formatted dataframe with marked \"important\" mutations (TOP15 paper, TOP from pedigrees (Angela))\n",
    "TOP_MUTANTS = ['V163A', 'K166Q', 'I171V', 'K113R', 'K214E', 'K156R']\n",
    "\n",
    "def highlight_top_mutants(row):\n",
    "    color = 'red' if row.name in TOP_MUTANTS else 'black'\n",
    "    return ['color: {}'.format(color)] * len(row)\n",
    "\n",
    "styled_ranking1= sorted_Ranking1.style.apply(highlight_top_mutants, axis=1)\n",
    "\n",
    "with open('formatted_ranking1.html', 'w') as file:\n",
    "    file.write(styled_ranking1.render())"
   ],
   "metadata": {
    "collapsed": false,
    "ExecuteTime": {
     "end_time": "2023-07-10T20:11:37.458627Z",
     "start_time": "2023-07-10T20:11:36.588971Z"
    }
   }
  },
  {
   "cell_type": "markdown",
   "source": [
    "\n",
    "\n",
    "\n",
    "\n",
    "----------------RANKING 1a:\n",
    "-> ranked by a rank_score build from the variance and the count of available mutations\n",
    "-> combination of ranking 0 and 1"
   ],
   "metadata": {
    "collapsed": false
   }
  },
  {
   "cell_type": "code",
   "execution_count": 26,
   "outputs": [
    {
     "name": "stdout",
     "output_type": "stream",
     "text": [
      "       mean_variances_per_mutations  mean_how_many_per_mutations    Rank\n",
      "K107R                      0.796342                    92.833333 -1545.0\n",
      "D190G                      0.791333                    90.166667 -1533.0\n",
      "D117G                      0.761510                    99.833333 -1516.0\n",
      "N164D                      0.750293                   102.833333 -1506.5\n",
      "T9A                        0.760585                    87.500000 -1483.0\n",
      "...                             ...                          ...     ...\n",
      "N121L                           NaN                     0.166667     NaN\n",
      "Q184W                           NaN                     0.333333     NaN\n",
      "E32M                            NaN                     0.166667     NaN\n",
      "S175D                           NaN                     0.166667     NaN\n",
      "H217F                           NaN                     0.166667     NaN\n",
      "\n",
      "[1810 rows x 3 columns]\n"
     ]
    }
   ],
   "source": [
    "combined_means_variance_how_many['Rank'] = combined_means_variance_how_many['mean_variances_per_mutations'].rank(ascending=False) - combined_means_variance_how_many['mean_how_many_per_mutations'].rank()\n",
    "\n",
    "sorted_Ranking1a = combined_means_variance_how_many.sort_values(by='Rank')\n",
    "\n",
    "print(sorted_Ranking1a)"
   ],
   "metadata": {
    "collapsed": false,
    "ExecuteTime": {
     "end_time": "2023-07-10T08:47:39.148360Z",
     "start_time": "2023-07-10T08:47:38.862155Z"
    }
   }
  },
  {
   "cell_type": "code",
   "execution_count": 27,
   "outputs": [
    {
     "name": "stdout",
     "output_type": "stream",
     "text": [
      "       mean_variances_per_mutations  mean_how_many_per_mutations    Rank\n",
      "N185S                      0.713168                   103.500000 -1429.0\n",
      "T225A                      0.721625                    96.500000 -1427.0\n",
      "N149S                      0.708680                    87.833333 -1379.0\n",
      "M88L                       0.790748                    51.500000 -1377.0\n",
      "K209R                      0.684093                    97.666667 -1347.0\n",
      "...                             ...                          ...     ...\n",
      "S28D                            NaN                     0.166667     NaN\n",
      "N121L                           NaN                     0.166667     NaN\n",
      "E32M                            NaN                     0.166667     NaN\n",
      "S175D                           NaN                     0.166667     NaN\n",
      "H217F                           NaN                     0.166667     NaN\n",
      "\n",
      "[1136 rows x 3 columns]\n"
     ]
    }
   ],
   "source": [
    "#same ranking just with only the stabilizing (Difference > 0)\n",
    "condition = all_differences_means['Difference'] > 0\n",
    "sorted_only_stab_Ranking1a = sorted_Ranking1a.drop(all_differences_means.loc[condition].index)\n",
    "print(sorted_only_stab_Ranking1a)\n"
   ],
   "metadata": {
    "collapsed": false,
    "ExecuteTime": {
     "end_time": "2023-07-10T08:47:42.884736Z",
     "start_time": "2023-07-10T08:47:40.181789Z"
    }
   }
  },
  {
   "cell_type": "code",
   "execution_count": 48,
   "outputs": [
    {
     "name": "stderr",
     "output_type": "stream",
     "text": [
      "/var/folders/sk/q8h0c3zs1v9dt93y5m134swr0000gn/T/ipykernel_93968/983632663.py:13: FutureWarning: this method is deprecated in favour of `Styler.to_html()`\n",
      "  file.write(styled_ranking1a.render())\n"
     ]
    }
   ],
   "source": [
    "# formatted dataframe with marked \"important\" mutations (TOP15 paper, TOP from pedigrees (Angela))\n",
    "TOP_MUTANTS = ['V163A', 'K166Q', 'I171V', 'K113R', 'K214E', 'K156R']\n",
    "\n",
    "def highlight_top_mutants(row):\n",
    "    color = 'red' if row.name in TOP_MUTANTS else 'black'\n",
    "    return ['color: {}'.format(color)] * len(row)\n",
    "\n",
    "styled_ranking1a= sorted_only_stab_Ranking1a.style.apply(highlight_top_mutants, axis=1)\n",
    "\n",
    "with open('formatted_ranking1a.html', 'w') as file:\n",
    "    file.write(styled_ranking1a.render())"
   ],
   "metadata": {
    "collapsed": false,
    "ExecuteTime": {
     "end_time": "2023-07-10T20:19:14.012192Z",
     "start_time": "2023-07-10T20:19:13.198042Z"
    }
   }
  },
  {
   "cell_type": "markdown",
   "source": [
    "\n",
    "\n",
    "\n",
    "\n",
    "----------------RANKING 2:\n",
    "-> only ranked by Difference"
   ],
   "metadata": {
    "collapsed": false
   }
  },
  {
   "cell_type": "code",
   "execution_count": 29,
   "outputs": [
    {
     "data": {
      "text/plain": "         0\nQ157G    1\nL141Q  210\nY151S   23\nL18V     3\nI14V   338\n...    ...\nE5D     29\nS175D    2\nP196H    8\nC48R   436\nH217F    1\n\n[1810 rows x 1 columns]",
      "text/html": "<div>\n<style scoped>\n    .dataframe tbody tr th:only-of-type {\n        vertical-align: middle;\n    }\n\n    .dataframe tbody tr th {\n        vertical-align: top;\n    }\n\n    .dataframe thead th {\n        text-align: right;\n    }\n</style>\n<table border=\"1\" class=\"dataframe\">\n  <thead>\n    <tr style=\"text-align: right;\">\n      <th></th>\n      <th>0</th>\n    </tr>\n  </thead>\n  <tbody>\n    <tr>\n      <th>Q157G</th>\n      <td>1</td>\n    </tr>\n    <tr>\n      <th>L141Q</th>\n      <td>210</td>\n    </tr>\n    <tr>\n      <th>Y151S</th>\n      <td>23</td>\n    </tr>\n    <tr>\n      <th>L18V</th>\n      <td>3</td>\n    </tr>\n    <tr>\n      <th>I14V</th>\n      <td>338</td>\n    </tr>\n    <tr>\n      <th>...</th>\n      <td>...</td>\n    </tr>\n    <tr>\n      <th>E5D</th>\n      <td>29</td>\n    </tr>\n    <tr>\n      <th>S175D</th>\n      <td>2</td>\n    </tr>\n    <tr>\n      <th>P196H</th>\n      <td>8</td>\n    </tr>\n    <tr>\n      <th>C48R</th>\n      <td>436</td>\n    </tr>\n    <tr>\n      <th>H217F</th>\n      <td>1</td>\n    </tr>\n  </tbody>\n</table>\n<p>1810 rows × 1 columns</p>\n</div>"
     },
     "execution_count": 29,
     "metadata": {},
     "output_type": "execute_result"
    }
   ],
   "source": [
    "#how often does the mutation X appear in all mutants\n",
    "list_wie_oft_mut = []\n",
    "for j in all_possible_mutations:\n",
    "    matching_indexes = result_how_often.loc[result_how_often[j] == True].index\n",
    "    wie_oft = len(matching_indexes)\n",
    "    list_wie_oft_mut.append(wie_oft)\n",
    "df_wie_oft_muts_insg = pd.DataFrame(list_wie_oft_mut, index=all_possible_mutations)\n",
    "df_wie_oft_muts_insg"
   ],
   "metadata": {
    "collapsed": false,
    "ExecuteTime": {
     "end_time": "2023-07-10T08:49:41.781220Z",
     "start_time": "2023-07-10T08:47:59.723680Z"
    }
   }
  },
  {
   "cell_type": "code",
   "execution_count": 30,
   "outputs": [],
   "source": [
    "#difference and count in one dataframe\n",
    "combined_differenz_wie_oft_mut= pd.concat([all_differences_means, df_wie_oft_muts_insg], axis=1)\n",
    "combined_differenz_wie_oft_mut.columns = ['Difference', 'wie oft kommt mut insg vor']\n"
   ],
   "metadata": {
    "collapsed": false,
    "ExecuteTime": {
     "end_time": "2023-07-10T08:49:42.924477Z",
     "start_time": "2023-07-10T08:49:41.736533Z"
    }
   }
  },
  {
   "cell_type": "code",
   "execution_count": 31,
   "outputs": [
    {
     "data": {
      "text/plain": "       Difference  wie oft kommt mut insg vor\nE17W     1.444187                           1\nN23C     1.428999                           1\nL207V    1.389604                           3\nT43V     1.384775                           1\nT118R    1.359756                           1\n...           ...                         ...\nS202D         NaN                           1\nE115R         NaN                           1\nN170F         NaN                           1\nE222R         NaN                           1\nE142M         NaN                           1\n\n[1810 rows x 2 columns]",
      "text/html": "<div>\n<style scoped>\n    .dataframe tbody tr th:only-of-type {\n        vertical-align: middle;\n    }\n\n    .dataframe tbody tr th {\n        vertical-align: top;\n    }\n\n    .dataframe thead th {\n        text-align: right;\n    }\n</style>\n<table border=\"1\" class=\"dataframe\">\n  <thead>\n    <tr style=\"text-align: right;\">\n      <th></th>\n      <th>Difference</th>\n      <th>wie oft kommt mut insg vor</th>\n    </tr>\n  </thead>\n  <tbody>\n    <tr>\n      <th>E17W</th>\n      <td>1.444187</td>\n      <td>1</td>\n    </tr>\n    <tr>\n      <th>N23C</th>\n      <td>1.428999</td>\n      <td>1</td>\n    </tr>\n    <tr>\n      <th>L207V</th>\n      <td>1.389604</td>\n      <td>3</td>\n    </tr>\n    <tr>\n      <th>T43V</th>\n      <td>1.384775</td>\n      <td>1</td>\n    </tr>\n    <tr>\n      <th>T118R</th>\n      <td>1.359756</td>\n      <td>1</td>\n    </tr>\n    <tr>\n      <th>...</th>\n      <td>...</td>\n      <td>...</td>\n    </tr>\n    <tr>\n      <th>S202D</th>\n      <td>NaN</td>\n      <td>1</td>\n    </tr>\n    <tr>\n      <th>E115R</th>\n      <td>NaN</td>\n      <td>1</td>\n    </tr>\n    <tr>\n      <th>N170F</th>\n      <td>NaN</td>\n      <td>1</td>\n    </tr>\n    <tr>\n      <th>E222R</th>\n      <td>NaN</td>\n      <td>1</td>\n    </tr>\n    <tr>\n      <th>E142M</th>\n      <td>NaN</td>\n      <td>1</td>\n    </tr>\n  </tbody>\n</table>\n<p>1810 rows × 2 columns</p>\n</div>"
     },
     "execution_count": 31,
     "metadata": {},
     "output_type": "execute_result"
    }
   ],
   "source": [
    "ranking2 = combined_differenz_wie_oft_mut.sort_values(by='Difference', ascending= False)\n",
    "ranking2"
   ],
   "metadata": {
    "collapsed": false,
    "ExecuteTime": {
     "end_time": "2023-07-10T08:49:42.935775Z",
     "start_time": "2023-07-10T08:49:41.819358Z"
    }
   }
  },
  {
   "cell_type": "code",
   "execution_count": 49,
   "outputs": [
    {
     "name": "stderr",
     "output_type": "stream",
     "text": [
      "/var/folders/sk/q8h0c3zs1v9dt93y5m134swr0000gn/T/ipykernel_93968/1894314908.py:13: FutureWarning: this method is deprecated in favour of `Styler.to_html()`\n",
      "  file.write(styled_ranking2.render())\n"
     ]
    }
   ],
   "source": [
    "# formatted dataframe with marked \"important\" mutations (TOP15 paper, TOP from pedigrees (Angela))\n",
    "TOP_MUTANTS = ['V163A', 'K166Q', 'I171V', 'K113R', 'K214E', 'K156R']\n",
    "\n",
    "def highlight_top_mutants(row):\n",
    "    color = 'red' if row.name in TOP_MUTANTS else 'black'\n",
    "    return ['color: {}'.format(color)] * len(row)\n",
    "\n",
    "styled_ranking2= ranking2.style.apply(highlight_top_mutants, axis=1)\n",
    "\n",
    "with open('formatted_ranking2.html', 'w') as file:\n",
    "    file.write(styled_ranking2.render())"
   ],
   "metadata": {
    "collapsed": false,
    "ExecuteTime": {
     "end_time": "2023-07-10T20:34:02.698052Z",
     "start_time": "2023-07-10T20:34:02.070354Z"
    }
   }
  },
  {
   "cell_type": "markdown",
   "source": [
    "\n",
    "\n",
    "\n",
    "\n",
    "----------------RANKING 3:\n",
    "-> ranked by difference and count\n"
   ],
   "metadata": {
    "collapsed": false,
    "is_executing": true
   },
   "outputs": []
  },
  {
   "cell_type": "code",
   "execution_count": 33,
   "outputs": [
    {
     "name": "stdout",
     "output_type": "stream",
     "text": [
      "       ranking3_score\n",
      "V163A      388.828780\n",
      "I171V      257.867360\n",
      "S175G      219.571456\n",
      "K113R      216.440643\n",
      "I167V      212.858116\n",
      "...               ...\n",
      "S202D             NaN\n",
      "E115R             NaN\n",
      "N170F             NaN\n",
      "E222R             NaN\n",
      "E142M             NaN\n",
      "\n",
      "[1810 rows x 1 columns]\n"
     ]
    }
   ],
   "source": [
    "list_ranking3 = []\n",
    "for i in all_possible_mutations:\n",
    "    score_ranking3 = all_differences_means.loc[i].values[0] * df_wie_oft_muts_insg.loc[i].values[0]\n",
    "    list_ranking3.append(score_ranking3)\n",
    "ranking3_unsorted = pd.DataFrame(list_ranking3, index=all_possible_mutations, columns=['ranking3_score'])\n",
    "ranking3 = ranking3_unsorted.sort_values(by='ranking3_score', ascending= False)\n",
    "print(ranking3)"
   ],
   "metadata": {
    "collapsed": false,
    "ExecuteTime": {
     "end_time": "2023-07-10T08:49:42.940893Z",
     "start_time": "2023-07-10T08:49:41.824160Z"
    }
   }
  },
  {
   "cell_type": "code",
   "execution_count": 50,
   "outputs": [
    {
     "name": "stderr",
     "output_type": "stream",
     "text": [
      "/var/folders/sk/q8h0c3zs1v9dt93y5m134swr0000gn/T/ipykernel_93968/2743421944.py:13: FutureWarning: this method is deprecated in favour of `Styler.to_html()`\n",
      "  file.write(styled_ranking3.render())\n"
     ]
    }
   ],
   "source": [
    "# formatted dataframe with marked \"important\" mutations (TOP15 paper, TOP from pedigrees (Angela))\n",
    "TOP_MUTANTS = ['V163A', 'K166Q', 'I171V', 'K113R', 'K214E', 'K156R']\n",
    "\n",
    "def highlight_top_mutants(row):\n",
    "    color = 'red' if row.name in TOP_MUTANTS else 'black'\n",
    "    return ['color: {}'.format(color)] * len(row)\n",
    "\n",
    "styled_ranking3= ranking3.style.apply(highlight_top_mutants, axis=1)\n",
    "\n",
    "with open('formatted_ranking3.html', 'w') as file:\n",
    "    file.write(styled_ranking3.render())\n"
   ],
   "metadata": {
    "collapsed": false,
    "ExecuteTime": {
     "end_time": "2023-07-10T20:37:15.341799Z",
     "start_time": "2023-07-10T20:37:14.746416Z"
    }
   }
  },
  {
   "cell_type": "markdown",
   "source": [
    "\n",
    "\n",
    "\n",
    "\n",
    "----------------RANKING 4:\n",
    "-> calculate own score1\n",
    "-> score1 = Difference * 1/Variance * Anzahl muts\n",
    "-> score1 = \"effect of the mutation\" * 1/\"how reliable is the mean_fscore\" * how much data is available"
   ],
   "metadata": {
    "collapsed": false,
    "is_executing": true
   },
   "outputs": []
  },
  {
   "cell_type": "code",
   "execution_count": 35,
   "outputs": [
    {
     "name": "stdout",
     "output_type": "stream",
     "text": [
      "       ranking4_score\n",
      "E5R      17041.430971\n",
      "N164C    10896.792112\n",
      "I128M     2541.597661\n",
      "E142Q     2120.278517\n",
      "G232R      723.050574\n",
      "...               ...\n",
      "N121L             NaN\n",
      "Q184W             NaN\n",
      "E32M              NaN\n",
      "S175D             NaN\n",
      "H217F             NaN\n",
      "\n",
      "[1810 rows x 1 columns]\n"
     ]
    }
   ],
   "source": [
    "list_ranking4 = []\n",
    "for i in all_possible_mutations:\n",
    "    score_ranking4 = all_differences_means.loc[i].values[0] * df_wie_oft_muts_insg.loc[i].values[0] * (1/mean_variances_per_mutations.loc[i].values[0])\n",
    "    list_ranking4.append(score_ranking4)\n",
    "ranking4_unsorted = pd.DataFrame(list_ranking4, index=all_possible_mutations, columns=['ranking4_score'])\n",
    "ranking4 = ranking4_unsorted.sort_values(by='ranking4_score', ascending= False)\n",
    "print(ranking4)"
   ],
   "metadata": {
    "collapsed": false,
    "ExecuteTime": {
     "end_time": "2023-07-10T08:50:02.099463Z",
     "start_time": "2023-07-10T08:49:57.159308Z"
    }
   }
  },
  {
   "cell_type": "code",
   "execution_count": 51,
   "outputs": [
    {
     "name": "stderr",
     "output_type": "stream",
     "text": [
      "/var/folders/sk/q8h0c3zs1v9dt93y5m134swr0000gn/T/ipykernel_93968/3663885454.py:13: FutureWarning: this method is deprecated in favour of `Styler.to_html()`\n",
      "  file.write(styled_ranking4.render())\n"
     ]
    }
   ],
   "source": [
    "# formatted dataframe with marked \"important\" mutations (TOP15 paper, TOP from pedigrees (Angela))\n",
    "TOP_MUTANTS = ['V163A', 'K166Q', 'I171V', 'K113R', 'K214E', 'K156R']\n",
    "\n",
    "def highlight_top_mutants(row):\n",
    "    color = 'red' if row.name in TOP_MUTANTS else 'black'\n",
    "    return ['color: {}'.format(color)] * len(row)\n",
    "\n",
    "styled_ranking4= ranking4.style.apply(highlight_top_mutants, axis=1)\n",
    "\n",
    "with open('formatted_ranking4.html', 'w') as file:\n",
    "    file.write(styled_ranking4.render())\n"
   ],
   "metadata": {
    "collapsed": false,
    "ExecuteTime": {
     "end_time": "2023-07-10T20:40:25.600324Z",
     "start_time": "2023-07-10T20:40:24.727384Z"
    }
   }
  },
  {
   "cell_type": "markdown",
   "source": [
    "\n",
    "\n",
    "\n",
    "\n",
    "----------------RANKING 5:\n",
    "-> calculate own score\n",
    "-> score2 = Difference * aggregated Variance\n",
    "-> Variance: weighted with mutcount (aggregated variance)\n",
    "(sum of all variances*1/mut_count per mutation)/(count of all MUtations)"
   ],
   "metadata": {
    "collapsed": false,
    "is_executing": true
   },
   "outputs": []
  },
  {
   "cell_type": "code",
   "execution_count": 37,
   "outputs": [
    {
     "name": "stdout",
     "output_type": "stream",
     "text": [
      "       ranking5_score\n",
      "V163A    5.006190e+06\n",
      "I171V    3.284111e+06\n",
      "S175G    3.094378e+06\n",
      "I167V    2.866717e+06\n",
      "K113R    2.701526e+06\n",
      "...               ...\n",
      "A179G             NaN\n",
      "G138A             NaN\n",
      "S175D             NaN\n",
      "P196H             NaN\n",
      "H217F             NaN\n",
      "\n",
      "[1810 rows x 1 columns]\n"
     ]
    }
   ],
   "source": [
    "list_ranking5 = []\n",
    "for i in all_possible_mutations:\n",
    "\n",
    "    score_ranking5 = (all_differences_means.loc[i].values[0] * df_wie_oft_muts_insg.loc[i].values[0]* 51714) / np.sum(variance_per_mutant_count_df.loc[i].values)\n",
    "    list_ranking5.append(score_ranking5)\n",
    "ranking5_unsorted = pd.DataFrame(list_ranking5, index=all_possible_mutations, columns=['ranking5_score'])\n",
    "ranking5 = ranking5_unsorted.sort_values(by='ranking5_score', ascending= False)\n",
    "print(ranking5)"
   ],
   "metadata": {
    "collapsed": false,
    "ExecuteTime": {
     "end_time": "2023-07-10T08:50:20.816718Z",
     "start_time": "2023-07-10T08:50:15.790109Z"
    }
   }
  },
  {
   "cell_type": "code",
   "execution_count": 52,
   "outputs": [
    {
     "name": "stderr",
     "output_type": "stream",
     "text": [
      "/var/folders/sk/q8h0c3zs1v9dt93y5m134swr0000gn/T/ipykernel_93968/1201652731.py:13: FutureWarning: this method is deprecated in favour of `Styler.to_html()`\n",
      "  file.write(styled_ranking5.render())\n"
     ]
    }
   ],
   "source": [
    "# formatted dataframe with marked \"important\" mutations (TOP15 paper, TOP from pedigrees (Angela))\n",
    "TOP_MUTANTS = ['V163A', 'K166Q', 'I171V', 'K113R', 'K214E', 'K156R']\n",
    "\n",
    "def highlight_top_mutants(row):\n",
    "    color = 'red' if row.name in TOP_MUTANTS else 'black'\n",
    "    return ['color: {}'.format(color)] * len(row)\n",
    "\n",
    "styled_ranking5= ranking5.style.apply(highlight_top_mutants, axis=1)\n",
    "\n",
    "with open('formatted_ranking5.html', 'w') as file:\n",
    "    file.write(styled_ranking5.render())\n"
   ],
   "metadata": {
    "collapsed": false,
    "ExecuteTime": {
     "end_time": "2023-07-10T20:42:44.341511Z",
     "start_time": "2023-07-10T20:42:43.512109Z"
    }
   }
  },
  {
   "cell_type": "markdown",
   "source": [
    "\n",
    "\n",
    "\n",
    "\n",
    "\n",
    "RANKING 6:\n",
    "-> delta G values ranked on their own\n",
    "-> but calculated as differences as fscores"
   ],
   "metadata": {
    "collapsed": false,
    "is_executing": true
   },
   "outputs": []
  },
  {
   "cell_type": "code",
   "execution_count": 39,
   "outputs": [],
   "source": [
    "delta_G_data = pd.read_csv('/Users/liza/Downloads/df_ddG.csv')"
   ],
   "metadata": {
    "collapsed": false,
    "ExecuteTime": {
     "end_time": "2023-07-10T08:51:00.982864Z",
     "start_time": "2023-07-10T08:51:00.090265Z"
    }
   }
  },
  {
   "cell_type": "code",
   "execution_count": 40,
   "outputs": [
    {
     "name": "stdout",
     "output_type": "stream",
     "text": [
      "       DMS_score  mut_count       delta G\n",
      "0       1.301030          7  73620.483101\n",
      "1       3.137350          4  72519.649577\n",
      "2       1.553913          5  72506.131486\n",
      "3       3.404237          3  72360.943228\n",
      "4       3.738586          1  72850.815804\n",
      "...          ...        ...           ...\n",
      "51709   3.809468          1  74392.873843\n",
      "51710   3.760217          1  74293.271125\n",
      "51711   3.754101          1  74347.569818\n",
      "51712   3.673173          1  74517.866311\n",
      "51713   3.735417          1  74420.070261\n",
      "\n",
      "[51714 rows x 3 columns]\n"
     ]
    },
    {
     "name": "stderr",
     "output_type": "stream",
     "text": [
      "/var/folders/sk/q8h0c3zs1v9dt93y5m134swr0000gn/T/ipykernel_93968/2383831306.py:1: SettingWithCopyWarning: \n",
      "A value is trying to be set on a copy of a slice from a DataFrame.\n",
      "Try using .loc[row_indexer,col_indexer] = value instead\n",
      "\n",
      "See the caveats in the documentation: https://pandas.pydata.org/pandas-docs/stable/user_guide/indexing.html#returning-a-view-versus-a-copy\n",
      "  count_fscore_frame['delta G'] = delta_G_data['Score']\n"
     ]
    }
   ],
   "source": [
    "count_fscore_frame['delta G'] = delta_G_data['Score']\n",
    "print(count_fscore_frame)"
   ],
   "metadata": {
    "collapsed": false,
    "ExecuteTime": {
     "end_time": "2023-07-10T08:51:04.168815Z",
     "start_time": "2023-07-10T08:51:03.196592Z"
    }
   }
  },
  {
   "cell_type": "code",
   "execution_count": 44,
   "outputs": [],
   "source": [
    "#same calculation as for the fscores above to get the general impact of one mutation on the delta G values\n",
    "differences_delta_G_list = []\n",
    "\n",
    "for i in all_possible_mutations:\n",
    "    index_when_mut_present = result_how_often.loc[result_how_often[i] == True].index\n",
    "\n",
    "    only_rows_with_mut = count_fscore_frame[(count_fscore_frame['mut_count'] >2) & (count_fscore_frame .index.isin(index_when_mut_present))]\n",
    "\n",
    "# Calculate the mean of DMS_score for the filtered rows\n",
    "    mean_delta_G_only_mut = only_rows_with_mut['delta G'].mean()\n",
    "#-------------\n",
    "    index_when_not_mut_present = result_how_often.loc[result_how_often[i] == False].index\n",
    "\n",
    "    only_rows_withOUT_mut = count_fscore_frame[(count_fscore_frame['mut_count'] >2) & (count_fscore_frame.index.isin(index_when_not_mut_present))]\n",
    "\n",
    "# Calculate the mean of DMS_score for the filtered rows\n",
    "    mean_delta_G_every_but_mut = only_rows_withOUT_mut['delta G'].mean()\n",
    "#----------------\n",
    "    difference_means_delta_G = mean_delta_G_every_but_mut - mean_delta_G_only_mut\n",
    "    differences_delta_G_list.append(difference_means_delta_G)\n",
    "\n",
    "all_differences_delta_G_means = pd.DataFrame({'Difference dG': differences_delta_G_list}, index=all_possible_mutations)\n",
    "\n",
    "# the better the stability of the mutation\n",
    "#-> difference: WITHOUT - WITH"
   ],
   "metadata": {
    "collapsed": false,
    "ExecuteTime": {
     "end_time": "2023-07-10T10:46:47.399071Z",
     "start_time": "2023-07-10T08:51:57.052579Z"
    }
   }
  },
  {
   "cell_type": "code",
   "execution_count": 53,
   "outputs": [
    {
     "name": "stdout",
     "output_type": "stream",
     "text": [
      "       Difference dG  wie oft kommt mut insg vor\n",
      "R73C     1413.045266                         135\n",
      "R73H     1364.227566                         122\n",
      "M78T     1211.523327                         391\n",
      "R73S     1162.357590                          30\n",
      "R96S     1157.612694                          21\n",
      "...              ...                         ...\n",
      "G138R   -1270.588675                          91\n",
      "H139R   -1289.981672                         561\n",
      "H217R   -1401.940816                         336\n",
      "S208R   -1426.174296                          33\n",
      "C70R    -1511.372625                         340\n",
      "\n",
      "[1013 rows x 2 columns]\n"
     ]
    }
   ],
   "source": [
    "#ranking delta G\n",
    "combined_difference_dG_wie_oft_mut = pd.concat([all_differences_delta_G_means, df_wie_oft_muts_insg], axis=1)\n",
    "combined_difference_dG_wie_oft_mut.columns = ['Difference dG', 'wie oft kommt mut insg vor']\n",
    "\n",
    "ranking6 = combined_difference_dG_wie_oft_mut.sort_values(by='Difference dG', ascending=False)\n",
    "\n",
    "ranking6 = ranking6.drop(ranking6[~(ranking6['wie oft kommt mut insg vor'] >= 20)].index)\n",
    "\n",
    "print(ranking6)"
   ],
   "metadata": {
    "collapsed": false,
    "ExecuteTime": {
     "end_time": "2023-07-10T20:46:16.508507Z",
     "start_time": "2023-07-10T20:46:15.481910Z"
    }
   }
  },
  {
   "cell_type": "code",
   "execution_count": 54,
   "outputs": [
    {
     "name": "stderr",
     "output_type": "stream",
     "text": [
      "/var/folders/sk/q8h0c3zs1v9dt93y5m134swr0000gn/T/ipykernel_93968/943370929.py:13: FutureWarning: this method is deprecated in favour of `Styler.to_html()`\n",
      "  file.write(styled_ranking6.render())\n"
     ]
    }
   ],
   "source": [
    "# formatted dataframe with marked \"important\" mutations (TOP15 paper, TOP from pedigrees (Angela))\n",
    "TOP_MUTANTS = ['V163A', 'K166Q', 'I171V', 'K113R', 'K214E', 'K156R']\n",
    "\n",
    "def highlight_top_mutants(row):\n",
    "    color = 'red' if row.name in TOP_MUTANTS else 'black'\n",
    "    return ['color: {}'.format(color)] * len(row)\n",
    "\n",
    "styled_ranking6= ranking6.style.apply(highlight_top_mutants, axis=1)\n",
    "\n",
    "with open('formatted_ranking6.html', 'w') as file:\n",
    "    file.write(styled_ranking6.render())"
   ],
   "metadata": {
    "collapsed": false,
    "ExecuteTime": {
     "end_time": "2023-07-10T20:47:36.974764Z",
     "start_time": "2023-07-10T20:47:36.113482Z"
    }
   }
  },
  {
   "cell_type": "markdown",
   "source": [
    "\n",
    "\n",
    "\n",
    "RANKING 7:\n",
    "-> delta G differences combined with ranking 5"
   ],
   "metadata": {
    "collapsed": false,
    "is_executing": true
   },
   "outputs": []
  },
  {
   "cell_type": "code",
   "execution_count": 56,
   "outputs": [
    {
     "name": "stdout",
     "output_type": "stream",
     "text": [
      "       ranking7_score\n",
      "D216V    6.627687e+06\n",
      "G33S     4.191572e+06\n",
      "S65P     1.790266e+06\n",
      "G67S     9.823457e+05\n",
      "V163A    8.862967e+05\n",
      "...               ...\n",
      "A179G             NaN\n",
      "G138A             NaN\n",
      "S175D             NaN\n",
      "P196H             NaN\n",
      "H217F             NaN\n",
      "\n",
      "[1810 rows x 1 columns]\n"
     ]
    }
   ],
   "source": [
    "list_ranking7 = []\n",
    "for i in all_possible_mutations:\n",
    "\n",
    "    score_ranking7 = (all_differences_means.loc[i].values[0] * df_wie_oft_muts_insg.loc[i].values[0]* 51714) / (np.sum(variance_per_mutant_count_df.loc[i].values) * all_differences_delta_G_means.loc[i].values[0])\n",
    "    list_ranking7.append(score_ranking7)\n",
    "ranking7_unsorted = pd.DataFrame(list_ranking7, index=all_possible_mutations, columns=['ranking7_score'])\n",
    "ranking7 = ranking7_unsorted.sort_values(by='ranking7_score', ascending= False)\n",
    "print(ranking7)"
   ],
   "metadata": {
    "collapsed": false,
    "ExecuteTime": {
     "end_time": "2023-07-10T20:48:44.640634Z",
     "start_time": "2023-07-10T20:48:43.855830Z"
    }
   }
  },
  {
   "cell_type": "code",
   "execution_count": 57,
   "outputs": [
    {
     "name": "stderr",
     "output_type": "stream",
     "text": [
      "/var/folders/sk/q8h0c3zs1v9dt93y5m134swr0000gn/T/ipykernel_93968/3623257825.py:13: FutureWarning: this method is deprecated in favour of `Styler.to_html()`\n",
      "  file.write(styled_ranking7.render())\n"
     ]
    }
   ],
   "source": [
    "# formatted dataframe with marked \"important\" mutations (TOP15 paper, TOP from pedigrees (Angela))\n",
    "TOP_MUTANTS = ['V163A', 'K166Q', 'I171V', 'K113R', 'K214E', 'K156R']\n",
    "\n",
    "def highlight_top_mutants(row):\n",
    "    color = 'red' if row.name in TOP_MUTANTS else 'black'\n",
    "    return ['color: {}'.format(color)] * len(row)\n",
    "\n",
    "styled_ranking7= ranking7.style.apply(highlight_top_mutants, axis=1)\n",
    "\n",
    "with open('formatted_ranking7.html', 'w') as file:\n",
    "    file.write(styled_ranking7.render())"
   ],
   "metadata": {
    "collapsed": false,
    "ExecuteTime": {
     "end_time": "2023-07-10T20:48:50.785064Z",
     "start_time": "2023-07-10T20:48:48.216012Z"
    }
   }
  },
  {
   "cell_type": "code",
   "execution_count": null,
   "outputs": [],
   "source": [],
   "metadata": {
    "collapsed": false
   }
  }
 ],
 "metadata": {
  "kernelspec": {
   "display_name": "Python 3",
   "language": "python",
   "name": "python3"
  },
  "language_info": {
   "codemirror_mode": {
    "name": "ipython",
    "version": 2
   },
   "file_extension": ".py",
   "mimetype": "text/x-python",
   "name": "python",
   "nbconvert_exporter": "python",
   "pygments_lexer": "ipython2",
   "version": "2.7.6"
  }
 },
 "nbformat": 4,
 "nbformat_minor": 0
}
