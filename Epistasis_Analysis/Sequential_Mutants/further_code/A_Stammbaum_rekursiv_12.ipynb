{
 "cells": [
  {
   "cell_type": "code",
   "execution_count": 30,
   "metadata": {
    "collapsed": true,
    "ExecuteTime": {
     "end_time": "2023-06-14T10:47:30.091700Z",
     "start_time": "2023-06-14T10:47:29.779556Z"
    }
   },
   "outputs": [
    {
     "name": "stderr",
     "output_type": "stream",
     "text": [
      "/var/folders/tn/1strgsg5455dq9n93kfzv8kh0000gn/T/ipykernel_38783/3801561234.py:10: FutureWarning: In a future version of pandas all arguments of StringMethods.split except for the argument 'pat' will be keyword-only.\n",
      "  df_ind_col['mutant'].str.split(':', 14, expand=True)\n"
     ]
    },
    {
     "data": {
      "text/plain": "                                  mutant  \\\n0  K3R:V55A:Q94R:A110T:D117G:M153K:D216A   \n1                   K3Q:V16A:I167T:L195Q   \n2            K3Q:Y143C:N164D:S205P:A227T   \n3                        K3Q:Y143N:V193A   \n4                                    K3R   \n\n                                    mutated_sequence  DMS_score  \\\n0  MSRGEELFTGVVPILVELDGDVNGHKFSVSGEGEGDATYGKLTLKF...   1.301030   \n1  MSQGEELFTGVVPILAELDGDVNGHKFSVSGEGEGDATYGKLTLKF...   3.137350   \n2  MSQGEELFTGVVPILVELDGDVNGHKFSVSGEGEGDATYGKLTLKF...   1.553913   \n3  MSQGEELFTGVVPILVELDGDVNGHKFSVSGEGEGDATYGKLTLKF...   3.404237   \n4  MSRGEELFTGVVPILVELDGDVNGHKFSVSGEGEGDATYGKLTLKF...   3.738586   \n\n   DMS_score_bin   m1     m2     m3     m4     m5     m6     m7    m8    m9  \\\n0              0  K3R   V55A   Q94R  A110T  D117G  M153K  D216A  None  None   \n1              1  K3Q   V16A  I167T  L195Q   None   None   None  None  None   \n2              0  K3Q  Y143C  N164D  S205P  A227T   None   None  None  None   \n3              1  K3Q  Y143N  V193A   None   None   None   None  None  None   \n4              1  K3R   None   None   None   None   None   None  None  None   \n\n    m10   m11   m12   m13   m14   m15  \n0  None  None  None  None  None  None  \n1  None  None  None  None  None  None  \n2  None  None  None  None  None  None  \n3  None  None  None  None  None  None  \n4  None  None  None  None  None  None  ",
      "text/html": "<div>\n<style scoped>\n    .dataframe tbody tr th:only-of-type {\n        vertical-align: middle;\n    }\n\n    .dataframe tbody tr th {\n        vertical-align: top;\n    }\n\n    .dataframe thead th {\n        text-align: right;\n    }\n</style>\n<table border=\"1\" class=\"dataframe\">\n  <thead>\n    <tr style=\"text-align: right;\">\n      <th></th>\n      <th>mutant</th>\n      <th>mutated_sequence</th>\n      <th>DMS_score</th>\n      <th>DMS_score_bin</th>\n      <th>m1</th>\n      <th>m2</th>\n      <th>m3</th>\n      <th>m4</th>\n      <th>m5</th>\n      <th>m6</th>\n      <th>m7</th>\n      <th>m8</th>\n      <th>m9</th>\n      <th>m10</th>\n      <th>m11</th>\n      <th>m12</th>\n      <th>m13</th>\n      <th>m14</th>\n      <th>m15</th>\n    </tr>\n  </thead>\n  <tbody>\n    <tr>\n      <th>0</th>\n      <td>K3R:V55A:Q94R:A110T:D117G:M153K:D216A</td>\n      <td>MSRGEELFTGVVPILVELDGDVNGHKFSVSGEGEGDATYGKLTLKF...</td>\n      <td>1.301030</td>\n      <td>0</td>\n      <td>K3R</td>\n      <td>V55A</td>\n      <td>Q94R</td>\n      <td>A110T</td>\n      <td>D117G</td>\n      <td>M153K</td>\n      <td>D216A</td>\n      <td>None</td>\n      <td>None</td>\n      <td>None</td>\n      <td>None</td>\n      <td>None</td>\n      <td>None</td>\n      <td>None</td>\n      <td>None</td>\n    </tr>\n    <tr>\n      <th>1</th>\n      <td>K3Q:V16A:I167T:L195Q</td>\n      <td>MSQGEELFTGVVPILAELDGDVNGHKFSVSGEGEGDATYGKLTLKF...</td>\n      <td>3.137350</td>\n      <td>1</td>\n      <td>K3Q</td>\n      <td>V16A</td>\n      <td>I167T</td>\n      <td>L195Q</td>\n      <td>None</td>\n      <td>None</td>\n      <td>None</td>\n      <td>None</td>\n      <td>None</td>\n      <td>None</td>\n      <td>None</td>\n      <td>None</td>\n      <td>None</td>\n      <td>None</td>\n      <td>None</td>\n    </tr>\n    <tr>\n      <th>2</th>\n      <td>K3Q:Y143C:N164D:S205P:A227T</td>\n      <td>MSQGEELFTGVVPILVELDGDVNGHKFSVSGEGEGDATYGKLTLKF...</td>\n      <td>1.553913</td>\n      <td>0</td>\n      <td>K3Q</td>\n      <td>Y143C</td>\n      <td>N164D</td>\n      <td>S205P</td>\n      <td>A227T</td>\n      <td>None</td>\n      <td>None</td>\n      <td>None</td>\n      <td>None</td>\n      <td>None</td>\n      <td>None</td>\n      <td>None</td>\n      <td>None</td>\n      <td>None</td>\n      <td>None</td>\n    </tr>\n    <tr>\n      <th>3</th>\n      <td>K3Q:Y143N:V193A</td>\n      <td>MSQGEELFTGVVPILVELDGDVNGHKFSVSGEGEGDATYGKLTLKF...</td>\n      <td>3.404237</td>\n      <td>1</td>\n      <td>K3Q</td>\n      <td>Y143N</td>\n      <td>V193A</td>\n      <td>None</td>\n      <td>None</td>\n      <td>None</td>\n      <td>None</td>\n      <td>None</td>\n      <td>None</td>\n      <td>None</td>\n      <td>None</td>\n      <td>None</td>\n      <td>None</td>\n      <td>None</td>\n      <td>None</td>\n    </tr>\n    <tr>\n      <th>4</th>\n      <td>K3R</td>\n      <td>MSRGEELFTGVVPILVELDGDVNGHKFSVSGEGEGDATYGKLTLKF...</td>\n      <td>3.738586</td>\n      <td>1</td>\n      <td>K3R</td>\n      <td>None</td>\n      <td>None</td>\n      <td>None</td>\n      <td>None</td>\n      <td>None</td>\n      <td>None</td>\n      <td>None</td>\n      <td>None</td>\n      <td>None</td>\n      <td>None</td>\n      <td>None</td>\n      <td>None</td>\n      <td>None</td>\n      <td>None</td>\n    </tr>\n  </tbody>\n</table>\n</div>"
     },
     "execution_count": 30,
     "metadata": {},
     "output_type": "execute_result"
    }
   ],
   "source": [
    "import pandas as pd\n",
    "\n",
    "# Datensatz einlesen\n",
    "df = pd.read_csv('/Users/tianxinangelama/Documents/Studium/4. FS/DMS/DMS_data/GFP_AEQVI_Sarkisyan_2016.csv')\n",
    "\n",
    "# split into multiple columns, 1 column for every mutation\n",
    "df_ind_col = df\n",
    "\n",
    "df_ind_col[['m1', 'm2', 'm3', 'm4', 'm5', 'm6', 'm7', 'm8', 'm9', 'm10', 'm11', 'm12', 'm13', 'm14', 'm15']] = \\\n",
    "    df_ind_col['mutant'].str.split(':', 14, expand=True)\n",
    "\n",
    "df_ind_col.head()"
   ]
  },
  {
   "cell_type": "code",
   "execution_count": 31,
   "outputs": [
    {
     "data": {
      "text/plain": "   DMS_score   m1     m2     m3     m4     m5     m6     m7    m8    m9   m10  \\\n0   1.301030  K3R   V55A   Q94R  A110T  D117G  M153K  D216A  None  None  None   \n1   3.137350  K3Q   V16A  I167T  L195Q   None   None   None  None  None  None   \n2   1.553913  K3Q  Y143C  N164D  S205P  A227T   None   None  None  None  None   \n3   3.404237  K3Q  Y143N  V193A   None   None   None   None  None  None  None   \n4   3.738586  K3R   None   None   None   None   None   None  None  None  None   \n\n    m11   m12   m13   m14   m15  \n0  None  None  None  None  None  \n1  None  None  None  None  None  \n2  None  None  None  None  None  \n3  None  None  None  None  None  \n4  None  None  None  None  None  ",
      "text/html": "<div>\n<style scoped>\n    .dataframe tbody tr th:only-of-type {\n        vertical-align: middle;\n    }\n\n    .dataframe tbody tr th {\n        vertical-align: top;\n    }\n\n    .dataframe thead th {\n        text-align: right;\n    }\n</style>\n<table border=\"1\" class=\"dataframe\">\n  <thead>\n    <tr style=\"text-align: right;\">\n      <th></th>\n      <th>DMS_score</th>\n      <th>m1</th>\n      <th>m2</th>\n      <th>m3</th>\n      <th>m4</th>\n      <th>m5</th>\n      <th>m6</th>\n      <th>m7</th>\n      <th>m8</th>\n      <th>m9</th>\n      <th>m10</th>\n      <th>m11</th>\n      <th>m12</th>\n      <th>m13</th>\n      <th>m14</th>\n      <th>m15</th>\n    </tr>\n  </thead>\n  <tbody>\n    <tr>\n      <th>0</th>\n      <td>1.301030</td>\n      <td>K3R</td>\n      <td>V55A</td>\n      <td>Q94R</td>\n      <td>A110T</td>\n      <td>D117G</td>\n      <td>M153K</td>\n      <td>D216A</td>\n      <td>None</td>\n      <td>None</td>\n      <td>None</td>\n      <td>None</td>\n      <td>None</td>\n      <td>None</td>\n      <td>None</td>\n      <td>None</td>\n    </tr>\n    <tr>\n      <th>1</th>\n      <td>3.137350</td>\n      <td>K3Q</td>\n      <td>V16A</td>\n      <td>I167T</td>\n      <td>L195Q</td>\n      <td>None</td>\n      <td>None</td>\n      <td>None</td>\n      <td>None</td>\n      <td>None</td>\n      <td>None</td>\n      <td>None</td>\n      <td>None</td>\n      <td>None</td>\n      <td>None</td>\n      <td>None</td>\n    </tr>\n    <tr>\n      <th>2</th>\n      <td>1.553913</td>\n      <td>K3Q</td>\n      <td>Y143C</td>\n      <td>N164D</td>\n      <td>S205P</td>\n      <td>A227T</td>\n      <td>None</td>\n      <td>None</td>\n      <td>None</td>\n      <td>None</td>\n      <td>None</td>\n      <td>None</td>\n      <td>None</td>\n      <td>None</td>\n      <td>None</td>\n      <td>None</td>\n    </tr>\n    <tr>\n      <th>3</th>\n      <td>3.404237</td>\n      <td>K3Q</td>\n      <td>Y143N</td>\n      <td>V193A</td>\n      <td>None</td>\n      <td>None</td>\n      <td>None</td>\n      <td>None</td>\n      <td>None</td>\n      <td>None</td>\n      <td>None</td>\n      <td>None</td>\n      <td>None</td>\n      <td>None</td>\n      <td>None</td>\n      <td>None</td>\n    </tr>\n    <tr>\n      <th>4</th>\n      <td>3.738586</td>\n      <td>K3R</td>\n      <td>None</td>\n      <td>None</td>\n      <td>None</td>\n      <td>None</td>\n      <td>None</td>\n      <td>None</td>\n      <td>None</td>\n      <td>None</td>\n      <td>None</td>\n      <td>None</td>\n      <td>None</td>\n      <td>None</td>\n      <td>None</td>\n      <td>None</td>\n    </tr>\n  </tbody>\n</table>\n</div>"
     },
     "execution_count": 31,
     "metadata": {},
     "output_type": "execute_result"
    }
   ],
   "source": [
    "# reduce df to fscore, m1 - m15\n",
    "df_only_fscore_mutations = df_ind_col\n",
    "\n",
    "df_only_fscore_mutations = df_only_fscore_mutations.drop(['mutant', 'mutated_sequence', 'DMS_score_bin'], axis=1)\n",
    "\n",
    "df_only_fscore_mutations.head()"
   ],
   "metadata": {
    "collapsed": false,
    "ExecuteTime": {
     "end_time": "2023-06-14T10:47:30.108616Z",
     "start_time": "2023-06-14T10:47:30.097409Z"
    }
   }
  },
  {
   "cell_type": "code",
   "execution_count": 32,
   "outputs": [
    {
     "name": "stdout",
     "output_type": "stream",
     "text": [
      "       DMS_score     m1     m2     m3     m4     m5     m6     m7     m8  \\\n",
      "168     1.515137    K3M    F8L   P13A   D19E   G40C   H81R   F84S  K140E   \n",
      "900     1.544907    K3M   D21G   D36E   T43S   K45E   T50S   L64Q   C70R   \n",
      "1029    1.301030    K3E   T49S   S86Y   M88L   E95G  T118A  N164D  I167T   \n",
      "1030    1.301030    K3E   T50A   P54L   V93I  D102G  F114S  I128N  D129H   \n",
      "1344    1.502254    G4D   V16A   T63S   Y66C   M88R  K166E  Q183R  I188F   \n",
      "...          ...    ...    ...    ...    ...    ...    ...    ...    ...   \n",
      "29045   1.301030   L60P   M78V   E90K   I98V  N149S  N164D  I167F  N170D   \n",
      "30312   1.546675   T63S   Q69P   F84L   P89T  D103A  D155G  V163E  N164S   \n",
      "31651   1.729476   Q69R  F100L  D103N  N105D  Y106F  K113R  I123T  F130S   \n",
      "35683   1.532321   H81R   K85E   M88R   V93A  D102G  K107E  K113E  I136N   \n",
      "40176   1.470316  K101R  A110T  F114L  T118A  L125P  D155G  V163A  I188N   \n",
      "\n",
      "          m9    m10    m11    m12    m13   m14   m15  \n",
      "168    K156M  F165S  N198Y  D216E   None  None  None  \n",
      "900     Q80R   F83S  V176L  S208G  H217Y  None  None  \n",
      "1029   I171N  Y200C  T225S  M233T  D234G  None  None  \n",
      "1030   E142G  Q204R  L220P  V224A   None  None  None  \n",
      "1344   N198D  V224E  T225A  M233R   None  None  None  \n",
      "...      ...    ...    ...    ...    ...   ...   ...  \n",
      "29045  E172G  I188V  S205A  K214E   None  None  None  \n",
      "30312  I171N  T186I  T203I  D216H  T225A  None  None  \n",
      "31651  K140E  V163E  F165L  H217R  L236P  None  None  \n",
      "35683  Y143H  N146S  Y151H  N198D   None  None  None  \n",
      "40176  N198S  Y200N  K209R  K214R  E235G  None  None  \n",
      "\n",
      "[73 rows x 16 columns]\n"
     ]
    }
   ],
   "source": [
    "# df with only mutants >= 12 mutations\n",
    "df_min_12_mutations = df_only_fscore_mutations\n",
    "\n",
    "# Drop rows with empty values in m12\n",
    "df_min_12_mutations = df_min_12_mutations.dropna(subset=['m12'])\n",
    "\n",
    "print(df_min_12_mutations)"
   ],
   "metadata": {
    "collapsed": false,
    "ExecuteTime": {
     "end_time": "2023-06-14T10:47:30.161566Z",
     "start_time": "2023-06-14T10:47:30.109627Z"
    }
   }
  },
  {
   "cell_type": "code",
   "execution_count": 33,
   "outputs": [
    {
     "name": "stdout",
     "output_type": "stream",
     "text": [
      "          m1     m2     m3     m4     m5     m6     m7     m8     m9    m10  \\\n",
      "168      K3M    F8L   P13A   D19E   G40C   H81R   F84S  K140E  K156M  F165S   \n",
      "900      K3M   D21G   D36E   T43S   K45E   T50S   L64Q   C70R   Q80R   F83S   \n",
      "1029     K3E   T49S   S86Y   M88L   E95G  T118A  N164D  I167T  I171N  Y200C   \n",
      "1030     K3E   T50A   P54L   V93I  D102G  F114S  I128N  D129H  E142G  Q204R   \n",
      "1344     G4D   V16A   T63S   Y66C   M88R  K166E  Q183R  I188F  N198D  V224E   \n",
      "...      ...    ...    ...    ...    ...    ...    ...    ...    ...    ...   \n",
      "29045   L60P   M78V   E90K   I98V  N149S  N164D  I167F  N170D  E172G  I188V   \n",
      "30312   T63S   Q69P   F84L   P89T  D103A  D155G  V163E  N164S  I171N  T186I   \n",
      "31651   Q69R  F100L  D103N  N105D  Y106F  K113R  I123T  F130S  K140E  V163E   \n",
      "35683   H81R   K85E   M88R   V93A  D102G  K107E  K113E  I136N  Y143H  N146S   \n",
      "40176  K101R  A110T  F114L  T118A  L125P  D155G  V163A  I188N  N198S  Y200N   \n",
      "\n",
      "         m11    m12    m13   m14   m15  \n",
      "168    N198Y  D216E   None  None  None  \n",
      "900    V176L  S208G  H217Y  None  None  \n",
      "1029   T225S  M233T  D234G  None  None  \n",
      "1030   L220P  V224A   None  None  None  \n",
      "1344   T225A  M233R   None  None  None  \n",
      "...      ...    ...    ...   ...   ...  \n",
      "29045  S205A  K214E   None  None  None  \n",
      "30312  T203I  D216H  T225A  None  None  \n",
      "31651  F165L  H217R  L236P  None  None  \n",
      "35683  Y151H  N198D   None  None  None  \n",
      "40176  K209R  K214R  E235G  None  None  \n",
      "\n",
      "[73 rows x 15 columns]\n"
     ]
    }
   ],
   "source": [
    "# df_min_12_mutations without fscore\n",
    "df_min_12_mutations_without_fscore = df_min_12_mutations\n",
    "\n",
    "# drop DMS_score\n",
    "df_min_12_mutations_without_fscore = df_min_12_mutations_without_fscore.drop('DMS_score', axis=1)\n",
    "\n",
    "print(df_min_12_mutations_without_fscore)"
   ],
   "metadata": {
    "collapsed": false,
    "ExecuteTime": {
     "end_time": "2023-06-14T10:47:30.173614Z",
     "start_time": "2023-06-14T10:47:30.129849Z"
    }
   }
  },
  {
   "cell_type": "code",
   "execution_count": 34,
   "outputs": [
    {
     "name": "stdout",
     "output_type": "stream",
     "text": [
      "['D155G', 'D19G', 'S30T', 'D234V', 'Y39F', 'L195P', 'H181Q', 'I167V', 'E17V', 'L15P', 'F46V', 'N135I', 'T225S', 'D173V', 'T62P', 'V29M', 'V55A', 'F165Y', 'L125Q', 'D216E', 'V11A', 'K26T', 'E213G', 'S30P', 'G51A', 'Y143C', 'I167T', 'N159D', 'Q94P', 'K158E', 'K156M', 'I136T', 'Q183R', 'R168S', 'E6G', 'Q184L', 'F8L', 'T230A', 'M233K', 'I161T', 'T43S', 'M78V', 'Y92C', 'F223Y', 'D210H', 'Y143H', 'E32V', 'T38A', 'P58L', 'L207P', 'S208C', 'E172G', 'K113Q', 'F83I', 'I171F', 'I167F', 'F84L', 'D82N', 'V93A', 'G20S', 'G104R', 'T38S', 'D216N', 'V150I', 'K26E', 'N198Y', 'N185Y', 'K158R', 'F46I', 'K41R', 'M153V', 'E115G', 'L220P', 'I47F', 'L42R', 'I171N', 'H181R', 'V61E', 'D129H', 'H231P', 'T50S', 'D36G', 'D36E', 'K52R', 'Q177E', 'S205A', 'P13A', 'I123T', 'S86Y', 'M233V', 'N198S', 'L207Q', 'T49A', 'I14N', 'F100S', 'I167N', 'I123N', 'I128A', 'Y182C', 'L194P', 'M78T', 'K140E', 'E90G', 'I136V', 'C48S', 'A227T', 'V93D', 'N121D', 'S175I', 'N212S', 'I152N', 'T59A', 'F27L', 'I229T', 'D210G', 'L141Q', 'R168H', 'E111G', 'C48G', 'L141V', 'F84Y', 'D21E', 'V163E', 'T186I', 'N149D', 'V93I', 'F71L', 'V112E', 'V29E', 'F130I', 'S30A', 'A110T', 'K156E', 'G189S', 'N121H', 'Y182H', 'A154D', 'H217P', 'E142G', 'S202C', 'N170T', 'E34G', 'F27I', 'H148N', 'N185D', 'T203S', 'F71S', 'V11E', 'L221P', 'Y200C', 'N164I', 'G40C', 'V176M', 'F223L', 'H77R', 'T9A', 'H217L', 'Q177R', 'D82V', 'I123F', 'Q69P', 'D216G', 'T225A', 'F46L', 'I171V', 'Y74F', 'V12G', 'I188N', 'H217Y', 'F130S', 'Y92F', 'E213V', 'R73L', 'A227V', 'F165S', 'S65T', 'Q94R', 'P54L', 'G4D', 'N144S', 'N23K', 'T62A', 'K113E', 'E172K', 'N149S', 'S28C', 'F99Y', 'N23S', 'K45E', 'D155V', 'N121S', 'A154T', 'D216H', 'K101R', 'N135Y', 'L137M', 'A179P', 'A226V', 'N105H', 'L194Q', 'N212H', 'L221Q', 'N170S', 'M218V', 'H148P', 'E222G', 'N159Y', 'D133E', 'K166M', 'D234G', 'K3E', 'M78I', 'N105S', 'Y66H', 'D103G', 'V176L', 'K113R', 'T50A', 'Y151H', 'Q184R', 'D173G', 'I152T', 'N185S', 'L18P', 'H199L', 'K131E', 'I136F', 'H25L', 'F83S', 'W57R', 'D190G', 'V29G', 'E17Q', 'K26M', 'I98F', 'F165L', 'N121I', 'I136N', 'L7Q', 'K107R', 'L60H', 'H148L', 'K140R', 'D197V', 'L64P', 'D103N', 'L64Q', 'S175G', 'E5G', 'N105D', 'E235G', 'E34K', 'L7R', 'W57G', 'R109P', 'L201P', 'T9P', 'Y74C', 'T63S', 'K126E', 'L178H', 'E34V', 'I123V', 'D133G', 'N170D', 'L44Q', 'K166R', 'V16A', 'S72G', 'N105T', 'H139R', 'Q204R', 'R96H', 'S65P', 'H217R', 'S208G', 'K101M', 'I161F', 'K107Q', 'L15Q', 'N105I', 'H81R', 'L42P', 'I128N', 'N159S', 'L201R', 'K214R', 'G228E', 'P13S', 'T50P', 'H77L', 'A37V', 'V29A', 'T203A', 'A179T', 'Q94L', 'L60P', 'I14V', 'D197G', 'E90K', 'H169R', 'V224A', 'D180V', 'I229V', 'D82G', 'G160R', 'K107M', 'Q204L', 'Q69R', 'Y106F', 'K26R', 'N144D', 'I98T', 'T203I', 'T62S', 'T118S', 'N23Y', 'Y237H', 'V224M', 'Y145H', 'K126R', 'K126Q', 'L141P', 'I229N', 'N105K', 'E132V', 'E95G', 'K131M', 'A206T', 'P75S', 'F114L', 'S205P', 'D76Y', 'C48R', 'L18Q', 'I47T', 'N164D', 'V224E', 'M218L', 'F130L', 'C48Y', 'I47V', 'Y237C', 'K107E', 'K3M', 'D21G', 'E132G', 'F165I', 'G134S', 'Y200N', 'P89T', 'D129G', 'K41M', 'H25N', 'G127V', 'F84S', 'L53P', 'L137P', 'K126M', 'F8S', 'N146D', 'L178P', 'T9S', 'E17G', 'K101E', 'E32A', 'N198D', 'L194V', 'K214E', 'M233T', 'I188F', 'A37T', 'T186A', 'T118A', 'K85E', 'K52E', 'H139L', 'K41Q', 'K79E', 'R215C', 'M153T', 'M88L', 'T49S', 'D117G', 'F84I', 'D129V', 'L221R', 'V176A', 'M233L', 'T49P', 'I161V', 'F100L', 'G31R', 'N159K', 'R168C', 'R109H', 'I98V', 'V22E', 'S28G', 'V55M', 'T108A', 'N170Y', 'Q157R', 'L7P', 'N135S', 'V219A', 'N121Y', 'H231R', 'V68A', 'L236P', 'L125P', 'M218T', 'K131R', 'Q80L', 'H81L', 'Q80R', 'K52M', 'D82A', 'R122H', 'K162E', 'V22L', 'D36V', 'N149Y', 'G24S', 'C70S', 'D19E', 'Y66C', 'E235V', 'G31A', 'N164S', 'M88T', 'K209I', 'N149I', 'F114S', 'V193E', 'V112A', 'Y200H', 'G40R', 'D76G', 'K156R', 'F46S', 'S202G', 'P13T', 'K162R', 'G160S', 'H25R', 'V193A', 'C70R', 'D19V', 'D180N', 'I47N', 'M218K', 'M233R', 'M88R', 'E90V', 'F83L', 'E115K', 'V12A', 'K166E', 'F71Y', 'N146S', 'M88V', 'K41T', 'K79R', 'K209R', 'R96G', 'S147C', 'K85R', 'E142V', 'I188V', 'E6V', 'V163A', 'P187R', 'G24C', 'I128T', 'E90D', 'L44P', 'S147G', 'I14F', 'F130Y', 'N135D', 'H199Y', 'D197N', 'E213K', 'I171T', 'T59S', 'F99L', 'D103A', 'D102G']\n"
     ]
    }
   ],
   "source": [
    "# list with possible mutations in df_min_12_mutations\n",
    "possible_mutations_in_mutants_with_min_12_mutations = df_min_12_mutations_without_fscore\n",
    "possible_mutations_in_mutants_with_min_12_mutations = possible_mutations_in_mutants_with_min_12_mutations.values.flatten().tolist()\n",
    "# remove duplicates\n",
    "possible_mutations_in_mutants_with_min_12_mutations = list(set(possible_mutations_in_mutants_with_min_12_mutations))\n",
    "# remove None\n",
    "possible_mutations_in_mutants_with_min_12_mutations = [value for value in\n",
    "                                                       possible_mutations_in_mutants_with_min_12_mutations if\n",
    "                                                       value is not None]\n",
    "\n",
    "print(possible_mutations_in_mutants_with_min_12_mutations)"
   ],
   "metadata": {
    "collapsed": false,
    "ExecuteTime": {
     "end_time": "2023-06-14T10:47:30.176233Z",
     "start_time": "2023-06-14T10:47:30.134201Z"
    }
   }
  },
  {
   "cell_type": "code",
   "execution_count": null,
   "outputs": [],
   "source": [
    "def filter_data_frames(df_min_12_mutations, mutation):\n",
    "    # Create an empty DataFrame with the same columns as the input DataFrame\n",
    "    df_filtered = pd.DataFrame(columns=df_min_12_mutations.columns)\n",
    "\n",
    "    # Count specific mutation\n",
    "    count = df_min_12_mutations.values.flatten().tolist().count(mutation)\n",
    "\n",
    "    # Check the count of specific mutation\n",
    "    if count > 1:\n",
    "        # Add rows to new df\n",
    "        df_filtered = df_min_12_mutations[df_min_12_mutations.apply(lambda row: mutation in row.values, axis=1)]\n",
    "\n",
    "        # Create a list of all possible mutations in the new DataFrame except the specific mutation\n",
    "        possible_mutations = df_filtered.values.flatten().tolist()\n",
    "        possible_mutations.remove(mutation)\n",
    "\n",
    "        # Remove None and fscore from the list of possible mutations\n",
    "        possible_mutations = [value for value in possible_mutations if value is not None\n",
    "                              and not isinstance(value, (int, float))]\n",
    "\n",
    "        # Recursively filter the new DataFrame\n",
    "        df_filtered = filter_data_frames(df_filtered, mutation)\n",
    "\n",
    "    return df_filtered, possible_mutations\n",
    "\n",
    "\n",
    "# Iterate over each mutation in possible_mutations_in_mutants_with_min_12_mutations\n",
    "for mutation in possible_mutations_in_mutants_with_min_12_mutations:\n",
    "    # Create an empty DataFrame with the same columns as df_min_12_mutations\n",
    "    df_min_12_mutations_loop = pd.DataFrame(columns=df_min_12_mutations.columns)\n",
    "\n",
    "    # Call the recursive function to filter the DataFrame\n",
    "    df_min_12_mutations_loop, possible_mutations = filter_data_frames(df_min_12_mutations, mutation)\n",
    "\n",
    "    # Print the filtered DataFrame and the list of possible mutations\n",
    "    print(f\"Filtered DataFrame for {mutation}:\")\n",
    "    print(df_min_12_mutations_loop)\n",
    "    print(possible_mutations)\n"
   ],
   "metadata": {
    "collapsed": false,
    "is_executing": true,
    "ExecuteTime": {
     "start_time": "2023-06-14T19:17:11.462383Z"
    }
   }
  },
  {
   "cell_type": "markdown",
   "source": [
    "# Function to filter DataFrame and update possible_mutations list recursively\n",
    "def filter_dataframe(df, mutation, possible_mutations):\n",
    "    # Create an empty DataFrame with the same columns as the input DataFrame\n",
    "    df_filtered = pd.DataFrame(columns=df.columns)\n",
    "\n",
    "    # Count specific mutation\n",
    "    count = df.values.flatten().tolist().count(mutation)\n",
    "\n",
    "    # Check the count of specific mutation\n",
    "    if count > 1:\n",
    "        # Add rows to new DataFrame\n",
    "        df_filtered = df[df.apply(lambda row: mutation in row.values, axis=1)]\n",
    "\n",
    "        # Create a copy of possible_mutations and remove the current mutation\n",
    "        possible_mutations_filtered = df_filtered.values.flatten().tolist()\n",
    "        possible_mutations_filtered = [value for value in possible_mutations_filtered if value is not None]\n",
    "        possible_mutations_filtered = [value for value in possible_mutations_filtered if not isinstance(value, (int, float))]\n",
    "        possible_mutations_filtered.remove(mutation)\n",
    "\n",
    "        # Recursively call the function with the filtered DataFrame\n",
    "        df_filtered, possible_mutations_filtered = filter_dataframe(df_filtered, mutation, possible_mutations_filtered)\n",
    "\n",
    "        return df_filtered, possible_mutations_filtered\n",
    "    else:\n",
    "        return df, possible_mutations\n",
    "\n",
    "# Initialize the set of processed mutations\n",
    "processed_mutations = set()\n",
    "\n",
    "# Iterate over each mutation in possible_mutations_in_mutants_with_min_12_mutations\n",
    "for mutation in possible_mutations_in_mutants_with_min_12_mutations:\n",
    "    # Skip the mutation if it has already been processed\n",
    "    if mutation in processed_mutations:\n",
    "        continue\n",
    "\n",
    "    # Create an empty DataFrame with the same columns as df_min_12_mutations\n",
    "    df_min_12_mutations_loop = pd.DataFrame(columns=df_min_12_mutations.columns)\n",
    "\n",
    "    # Filter the initial DataFrame\n",
    "    df_min_12_mutations_loop, possible_mutations = filter_dataframe(df_min_12_mutations, mutation, possible_mutations)\n",
    "\n",
    "    # Add the mutation to the set of processed mutations\n",
    "    processed_mutations.add(mutation)\n",
    "\n",
    "    # Print the filtered DataFrame for the current mutation\n",
    "    print(f\"Filtered DataFrame for {mutation}:\")\n",
    "    print(df_min_12_mutations_loop)\n",
    "    print(possible_mutations)\n"
   ],
   "metadata": {
    "collapsed": false
   }
  },
  {
   "cell_type": "markdown",
   "source": [
    "# mit allen Mutationen aus possible_mutations_in_mutants_with_min_12_mutations\n",
    "# for all possible_mutations_in_mutants_with_min_12_mutations\n",
    "for mutation in possible_mutations_in_mutants_with_min_12_mutations:\n",
    "    # Create an empty DataFrame with the same columns as df_min_12_mutations\n",
    "    df_min_12_mutations_loop = pd.DataFrame(columns=df_min_12_mutations.columns)\n",
    "\n",
    "    all_df_processed = False\n",
    "\n",
    "    while not all_df_processed:\n",
    "            all_df_processed = True\n",
    "\n",
    "        for index, row in df_min_12_mutations.iterrows():\n",
    "            # count specific mutation\n",
    "            count = df_min_12_mutations.values.flatten().tolist().count(mutation)\n",
    "\n",
    "            # check the count of specific mutation\n",
    "            if count > 1:\n",
    "                # add row to new df\n",
    "                df_min_12_mutations_loop = df_min_12_mutations[df_min_12_mutations.apply(lambda row: mutation in row.values, axis=1)]\n",
    "                # Create a list of all possible mutations in the new DataFrame except the specific mutation\n",
    "                possible_mutations = df_min_12_mutations_loop.values.flatten().tolist()\n",
    "                possible_mutations.remove(mutation)\n",
    "                # remove none from list\n",
    "                possible_mutations = [value for value in possible_mutations if value is not None]\n",
    "                # remove fscore from list\n",
    "                possible_mutations = [value for value in possible_mutations if not isinstance(value, (int, float))]\n",
    "\n",
    "                all_df_processed = False\n",
    "\n",
    "            else:\n",
    "                # remain last rows with specific mutation and stop\n",
    "                df_min_12_mutations_loop = df_min_12_mutations[\n",
    "                    df_min_12_mutations.apply(lambda row: mutation in row.values, axis=1)]\n",
    "\n",
    "                all_df_processed = True\n",
    "                break\n",
    "\n",
    "    print(f\"Filtered DataFrame for {mutation}:\")\n",
    "    print(df_min_12_mutations_loop)\n",
    "    print(possible_mutations)"
   ],
   "metadata": {
    "collapsed": false
   }
  },
  {
   "cell_type": "markdown",
   "source": [
    "import pandas as pd\n",
    "\n",
    "# Iterate over each mutation in possible_mutations_in_mutants_with_min_12_mutations\n",
    "for mutation in possible_mutations_in_mutants_with_min_12_mutations:\n",
    "    # Create an empty DataFrame with the same columns as df_min_12_mutations\n",
    "    df_min_12_mutations_loop = pd.DataFrame(columns=df_min_12_mutations.columns)\n",
    "\n",
    "    all_df_processed = False\n",
    "\n",
    "    while not all_df_processed:\n",
    "        all_df_processed = True\n",
    "\n",
    "        df_min_12_mutations_loop = df_min_12_mutations\n",
    "\n",
    "        for index, row in df_min_12_mutations_loop.iterrows():\n",
    "            # count specific mutation\n",
    "            possible_mutations = df_min_12_mutations_loop.values.flatten().tolist().count(mutation)\n",
    "\n",
    "            # check the count of specific mutation\n",
    "            if possible_mutations > 1:\n",
    "                # add row to new df\n",
    "                df_min_12_mutations_loop = df_min_12_mutations_loop[\n",
    "                    df_min_12_mutations_loop.apply(lambda row: mutation in row.values, axis=1)]\n",
    "                # Create a list of all possible mutations in the new DataFrame except the specific mutation\n",
    "                possible_mutations = df_min_12_mutations_loop.values.flatten().tolist()\n",
    "                possible_mutations.remove(mutation)\n",
    "                # remove none from list\n",
    "                possible_mutations = [value for value in possible_mutations if value is not None]\n",
    "                # remove fscore from list\n",
    "                possible_mutations = [value for value in possible_mutations if not isinstance(value, (int, float))]\n",
    "\n",
    "                all_df_processed = False\n",
    "\n",
    "            else:\n",
    "                # remain last rows with specific mutation and stop\n",
    "                df_min_12_mutations_loop = df_min_12_mutations_loop[\n",
    "                    df_min_12_mutations_loop.apply(lambda row: mutation in row.values, axis=1)]\n",
    "\n",
    "                all_df_processed = True\n",
    "                break\n",
    "\n",
    "    print(f\"Filtered DataFrame for {mutation}:\")\n",
    "    print(df_min_12_mutations_loop)\n",
    "    print(possible_mutations)"
   ],
   "metadata": {
    "collapsed": false
   }
  }
 ],
 "metadata": {
  "kernelspec": {
   "display_name": "Python 3",
   "language": "python",
   "name": "python3"
  },
  "language_info": {
   "codemirror_mode": {
    "name": "ipython",
    "version": 2
   },
   "file_extension": ".py",
   "mimetype": "text/x-python",
   "name": "python",
   "nbconvert_exporter": "python",
   "pygments_lexer": "ipython2",
   "version": "2.7.6"
  }
 },
 "nbformat": 4,
 "nbformat_minor": 0
}
