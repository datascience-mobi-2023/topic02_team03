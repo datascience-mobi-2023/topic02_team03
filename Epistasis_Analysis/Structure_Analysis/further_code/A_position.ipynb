{
 "cells": [
  {
   "cell_type": "code",
   "execution_count": 48,
   "metadata": {
    "collapsed": true,
    "ExecuteTime": {
     "end_time": "2023-07-15T08:33:31.252586Z",
     "start_time": "2023-07-15T08:33:31.029489Z"
    }
   },
   "outputs": [],
   "source": [
    "import pandas as pd\n",
    "\n",
    "# Datensatz einlesen\n",
    "df = pd.read_csv('/Users/tianxinangelama/Documents/Studium/4. FS/DMS/DMS_data/GFP_AEQVI_Sarkisyan_2016.csv')"
   ]
  },
  {
   "cell_type": "code",
   "execution_count": 49,
   "outputs": [
    {
     "name": "stderr",
     "output_type": "stream",
     "text": [
      "/var/folders/tn/1strgsg5455dq9n93kfzv8kh0000gn/T/ipykernel_4479/3337052683.py:6: FutureWarning: In a future version of pandas all arguments of StringMethods.split except for the argument 'pat' will be keyword-only.\n",
      "  df_ind_col[['m1', 'm2', 'm3', 'm4', 'm5', 'm6', 'm7', 'm8', 'm9', 'm10', 'm11','m12','m13','m14','m15']] = df_ind_col['mutant'].str.split(':', 14, expand=True)\n"
     ]
    }
   ],
   "source": [
    "# split into multiple columns, 1 column for every mutation\n",
    "# copy df\n",
    "df_ind_col = df.copy()\n",
    "\n",
    "# split\n",
    "df_ind_col[['m1', 'm2', 'm3', 'm4', 'm5', 'm6', 'm7', 'm8', 'm9', 'm10', 'm11','m12','m13','m14','m15']] = df_ind_col['mutant'].str.split(':', 14, expand=True)"
   ],
   "metadata": {
    "collapsed": false,
    "ExecuteTime": {
     "end_time": "2023-07-15T08:33:31.326304Z",
     "start_time": "2023-07-15T08:33:31.255956Z"
    }
   }
  },
  {
   "cell_type": "code",
   "execution_count": 78,
   "outputs": [],
   "source": [
    "# df with single mutation mutants, only position and DMS_score\n",
    "# copy df\n",
    "df_single = df_ind_col.copy()\n",
    "\n",
    "# remain rows with None in m2\n",
    "df_single = df_single[df_single['m2'].isnull()]\n",
    "\n",
    "# delete columns m2 to m15 and mutant, mutated_sequence, DMS_score_bin\n",
    "df_single = df_single.drop(columns=['m2', 'm3', 'm4', 'm5', 'm6', 'm7', 'm8', 'm9','m10', 'm11','m12','m13','m14','m15','mutant', 'mutated_sequence', 'DMS_score_bin'])"
   ],
   "metadata": {
    "collapsed": false,
    "ExecuteTime": {
     "end_time": "2023-07-15T14:03:54.317008Z",
     "start_time": "2023-07-15T14:03:54.288705Z"
    }
   }
  },
  {
   "cell_type": "code",
   "execution_count": 51,
   "outputs": [],
   "source": [
    "# df with double mutations mutants, only position and DMS_score\n",
    "# copy df\n",
    "df_double = df_ind_col.copy()\n",
    "\n",
    "# remain rows with None in m3 and value in m2\n",
    "df_double = df_double[df_double['m3'].isnull() & df_double['m2'].notnull()]\n",
    "\n",
    "# delete columns m3 to m15 and mutant, mutated_sequence, DMS_score_bin\n",
    "df_double = df_double.drop(columns=['m3', 'm4', 'm5', 'm6', 'm7', 'm8', 'm9','m10', 'm11','m12','m13','m14','m15','mutant', 'mutated_sequence', 'DMS_score_bin'])"
   ],
   "metadata": {
    "collapsed": false,
    "ExecuteTime": {
     "end_time": "2023-07-15T08:33:31.400883Z",
     "start_time": "2023-07-15T08:33:31.367527Z"
    }
   }
  },
  {
   "cell_type": "code",
   "execution_count": 52,
   "outputs": [],
   "source": [
    "# df with m1 from double mutation mutants\n",
    "# copy df\n",
    "df_double_m1 = df_double.copy()\n",
    "\n",
    "# delete column m2\n",
    "df_double_m1 = df_double_m1.drop(columns=['m2'])"
   ],
   "metadata": {
    "collapsed": false,
    "ExecuteTime": {
     "end_time": "2023-07-15T08:33:31.404877Z",
     "start_time": "2023-07-15T08:33:31.403527Z"
    }
   }
  },
  {
   "cell_type": "code",
   "execution_count": 53,
   "outputs": [],
   "source": [
    "# df with m2 from double mutation mutants\n",
    "# copy df\n",
    "df_double_m2 = df_double.copy()\n",
    "\n",
    "# delete column m1\n",
    "df_double_m2 = df_double_m2.drop(columns=['m1'])"
   ],
   "metadata": {
    "collapsed": false,
    "ExecuteTime": {
     "end_time": "2023-07-15T08:33:31.409858Z",
     "start_time": "2023-07-15T08:33:31.405661Z"
    }
   }
  },
  {
   "cell_type": "code",
   "execution_count": 54,
   "outputs": [
    {
     "name": "stdout",
     "output_type": "stream",
     "text": [
      "       DMS_score     m1 score_single_1\n",
      "13      3.716293    K3R               \n",
      "41      3.833353    K3N               \n",
      "45      3.553744    K3N               \n",
      "53      3.688150    K3Q               \n",
      "56      3.619344    K3Q               \n",
      "...          ...    ...            ...\n",
      "51688   3.577787  M233K               \n",
      "51691   3.744741  D234G               \n",
      "51694   3.865135  D234V               \n",
      "51696   3.693903  D234G               \n",
      "51699   3.862731  E235G               \n",
      "\n",
      "[12777 rows x 3 columns]\n"
     ]
    }
   ],
   "source": [
    "# add new empty column 'score_single_1' to df_double_only_position_m1\n",
    "df_double_m1['score_single_1'] = ''\n",
    "\n",
    "print(df_double_m1)"
   ],
   "metadata": {
    "collapsed": false,
    "ExecuteTime": {
     "end_time": "2023-07-15T08:33:31.413162Z",
     "start_time": "2023-07-15T08:33:31.410612Z"
    }
   }
  },
  {
   "cell_type": "code",
   "execution_count": 55,
   "outputs": [
    {
     "name": "stdout",
     "output_type": "stream",
     "text": [
      "       DMS_score     m1 score_single_1\n",
      "13      3.716293    K3R       3.738586\n",
      "41      3.833353    K3N               \n",
      "45      3.553744    K3N               \n",
      "53      3.688150    K3Q       3.750487\n",
      "56      3.619344    K3Q       3.750487\n",
      "...          ...    ...            ...\n",
      "51688   3.577787  M233K       3.684742\n",
      "51691   3.744741  D234G       3.706313\n",
      "51694   3.865135  D234V       3.608266\n",
      "51696   3.693903  D234G       3.706313\n",
      "51699   3.862731  E235G       3.727375\n",
      "\n",
      "[12777 rows x 3 columns]\n"
     ]
    }
   ],
   "source": [
    "# compare m1 from df_double_m1 with m1 from df_single, add value from DMS_score (df_single) to score_single_1 of df_double_m1\n",
    "for index, row in df_double_m1.iterrows():\n",
    "    for index2, row2 in df_single.iterrows():\n",
    "        if row['m1'] == row2['m1']:\n",
    "            df_double_m1.loc[index, 'score_single_1'] = row2['DMS_score']\n",
    "\n",
    "print(df_double_m1)"
   ],
   "metadata": {
    "collapsed": false,
    "ExecuteTime": {
     "end_time": "2023-07-15T08:36:36.177567Z",
     "start_time": "2023-07-15T08:33:31.414486Z"
    }
   }
  },
  {
   "cell_type": "code",
   "execution_count": 59,
   "outputs": [
    {
     "name": "stdout",
     "output_type": "stream",
     "text": [
      "       DMS_score     m1 score_single_1\n",
      "13      3.716293    K3R       3.738586\n",
      "53      3.688150    K3Q       3.750487\n",
      "56      3.619344    K3Q       3.750487\n",
      "63      1.301030    K3Q       3.750487\n",
      "73      3.970988    K3R       3.738586\n",
      "...          ...    ...            ...\n",
      "51688   3.577787  M233K       3.684742\n",
      "51691   3.744741  D234G       3.706313\n",
      "51694   3.865135  D234V       3.608266\n",
      "51696   3.693903  D234G       3.706313\n",
      "51699   3.862731  E235G       3.727375\n",
      "\n",
      "[12367 rows x 3 columns]\n"
     ]
    }
   ],
   "source": [
    "# delete rows with no value in score_single_1\n",
    "df_double_m1 = df_double_m1[df_double_m1['score_single_1'] != '']\n",
    "\n",
    "print(df_double_m1)"
   ],
   "metadata": {
    "collapsed": false,
    "ExecuteTime": {
     "end_time": "2023-07-15T08:37:42.067760Z",
     "start_time": "2023-07-15T08:37:42.061123Z"
    }
   }
  },
  {
   "cell_type": "code",
   "execution_count": 60,
   "outputs": [
    {
     "name": "stdout",
     "output_type": "stream",
     "text": [
      "       DMS_score     m2 score_single_2\n",
      "13      3.716293  D133A               \n",
      "41      3.833353   S30Y               \n",
      "45      3.553744  V150A               \n",
      "53      3.688150    E5V               \n",
      "56      3.619344  K101R               \n",
      "...          ...    ...            ...\n",
      "51688   3.577787  D234G               \n",
      "51691   3.744741  L236P               \n",
      "51694   3.865135  Y237H               \n",
      "51696   3.693903  E235V               \n",
      "51699   3.862731  L236P               \n",
      "\n",
      "[12777 rows x 3 columns]\n"
     ]
    }
   ],
   "source": [
    "# add new empty column 'score_single_2' to df_double_m2\n",
    "df_double_m2['score_single_2'] = ''\n",
    "\n",
    "print(df_double_m2)"
   ],
   "metadata": {
    "collapsed": false,
    "ExecuteTime": {
     "end_time": "2023-07-15T08:37:47.215057Z",
     "start_time": "2023-07-15T08:37:47.205219Z"
    }
   }
  },
  {
   "cell_type": "code",
   "execution_count": 61,
   "outputs": [
    {
     "name": "stdout",
     "output_type": "stream",
     "text": [
      "       DMS_score     m2 score_single_2\n",
      "13      3.716293  D133A       3.540905\n",
      "41      3.833353   S30Y       3.752408\n",
      "45      3.553744  V150A        3.63642\n",
      "53      3.688150    E5V       3.693551\n",
      "56      3.619344  K101R       3.677711\n",
      "...          ...    ...            ...\n",
      "51688   3.577787  D234G       3.706313\n",
      "51691   3.744741  L236P       3.706238\n",
      "51694   3.865135  Y237H       3.735417\n",
      "51696   3.693903  E235V       3.712191\n",
      "51699   3.862731  L236P       3.706238\n",
      "\n",
      "[12777 rows x 3 columns]\n"
     ]
    }
   ],
   "source": [
    "# compare m2 from df_double_m2 with m1 from df_single, add value from DMS_score (df_single) to score_single_2 of df_double_m2\n",
    "for index, row in df_double_m2.iterrows():\n",
    "    for index2, row2 in df_single.iterrows():\n",
    "        if row['m2'] == row2['m1']:\n",
    "            df_double_m2.loc[index, 'score_single_2'] = row2['DMS_score']\n",
    "\n",
    "print(df_double_m2)"
   ],
   "metadata": {
    "collapsed": false,
    "ExecuteTime": {
     "end_time": "2023-07-15T08:40:57.011758Z",
     "start_time": "2023-07-15T08:37:51.416267Z"
    }
   }
  },
  {
   "cell_type": "code",
   "execution_count": 62,
   "outputs": [
    {
     "name": "stdout",
     "output_type": "stream",
     "text": [
      "       DMS_score     m2 score_single_2\n",
      "13      3.716293  D133A       3.540905\n",
      "41      3.833353   S30Y       3.752408\n",
      "45      3.553744  V150A        3.63642\n",
      "53      3.688150    E5V       3.693551\n",
      "56      3.619344  K101R       3.677711\n",
      "...          ...    ...            ...\n",
      "51688   3.577787  D234G       3.706313\n",
      "51691   3.744741  L236P       3.706238\n",
      "51694   3.865135  Y237H       3.735417\n",
      "51696   3.693903  E235V       3.712191\n",
      "51699   3.862731  L236P       3.706238\n",
      "\n",
      "[12349 rows x 3 columns]\n"
     ]
    }
   ],
   "source": [
    "# delete rows with no value in score_single_2\n",
    "df_double_m2 = df_double_m2[df_double_m2['score_single_2'] != '']\n",
    "\n",
    "print(df_double_m2)"
   ],
   "metadata": {
    "collapsed": false,
    "ExecuteTime": {
     "end_time": "2023-07-15T08:41:25.599548Z",
     "start_time": "2023-07-15T08:41:25.586966Z"
    }
   }
  },
  {
   "cell_type": "code",
   "execution_count": 64,
   "outputs": [
    {
     "name": "stdout",
     "output_type": "stream",
     "text": [
      "       DMS_score     m1 score_single_1 epistasis_bin\n",
      "13      3.716293    K3R       3.738586              \n",
      "53      3.688150    K3Q       3.750487              \n",
      "56      3.619344    K3Q       3.750487              \n",
      "63      1.301030    K3Q       3.750487              \n",
      "73      3.970988    K3R       3.738586              \n",
      "...          ...    ...            ...           ...\n",
      "51688   3.577787  M233K       3.684742              \n",
      "51691   3.744741  D234G       3.706313              \n",
      "51694   3.865135  D234V       3.608266              \n",
      "51696   3.693903  D234G       3.706313              \n",
      "51699   3.862731  E235G       3.727375              \n",
      "\n",
      "[12367 rows x 4 columns]\n"
     ]
    }
   ],
   "source": [
    "# add column 'epistasis_bin' to df_double_m1\n",
    "# copy df\n",
    "df_double_m1_compare = df_double_m1.copy()\n",
    "\n",
    "# add column 'epistasis_bin' to df_double_m1\n",
    "df_double_m1_compare['epistasis_bin'] = ''\n",
    "\n",
    "print(df_double_m1_compare)"
   ],
   "metadata": {
    "collapsed": false,
    "ExecuteTime": {
     "end_time": "2023-07-15T08:42:36.510494Z",
     "start_time": "2023-07-15T08:42:36.504077Z"
    }
   }
  },
  {
   "cell_type": "code",
   "execution_count": 65,
   "outputs": [
    {
     "name": "stdout",
     "output_type": "stream",
     "text": [
      "       DMS_score     m1 score_single_1 epistasis_bin\n",
      "13      3.716293    K3R       3.738586             0\n",
      "53      3.688150    K3Q       3.750487             0\n",
      "56      3.619344    K3Q       3.750487             0\n",
      "63      1.301030    K3Q       3.750487             0\n",
      "73      3.970988    K3R       3.738586             1\n",
      "...          ...    ...            ...           ...\n",
      "51688   3.577787  M233K       3.684742             0\n",
      "51691   3.744741  D234G       3.706313             1\n",
      "51694   3.865135  D234V       3.608266             1\n",
      "51696   3.693903  D234G       3.706313             0\n",
      "51699   3.862731  E235G       3.727375             1\n",
      "\n",
      "[12367 rows x 4 columns]\n"
     ]
    }
   ],
   "source": [
    "# compare DMS_score with score_single_1, add value to epistasis_bin\n",
    "for index, row in df_double_m1_compare.iterrows():\n",
    "    if row['DMS_score'] > row['score_single_1']:\n",
    "        df_double_m1_compare.loc[index, 'epistasis_bin'] = 1\n",
    "    else:\n",
    "        df_double_m1_compare.loc[index, 'epistasis_bin'] = 0\n",
    "\n",
    "print(df_double_m1_compare)"
   ],
   "metadata": {
    "collapsed": false,
    "ExecuteTime": {
     "end_time": "2023-07-15T08:43:24.258444Z",
     "start_time": "2023-07-15T08:43:23.164741Z"
    }
   }
  },
  {
   "cell_type": "code",
   "execution_count": 68,
   "outputs": [
    {
     "data": {
      "text/plain": "0    8156\n1    4211\nName: epistasis_bin, dtype: int64"
     },
     "execution_count": 68,
     "metadata": {},
     "output_type": "execute_result"
    }
   ],
   "source": [
    "# How many 'epistasis_bin' = 1?\n",
    "df_double_m1_compare['epistasis_bin'].value_counts()"
   ],
   "metadata": {
    "collapsed": false,
    "ExecuteTime": {
     "end_time": "2023-07-15T08:45:40.683061Z",
     "start_time": "2023-07-15T08:45:40.679823Z"
    }
   }
  },
  {
   "cell_type": "code",
   "execution_count": 66,
   "outputs": [
    {
     "name": "stdout",
     "output_type": "stream",
     "text": [
      "       DMS_score     m2 score_single_2 epistasis_bin\n",
      "13      3.716293  D133A       3.540905              \n",
      "41      3.833353   S30Y       3.752408              \n",
      "45      3.553744  V150A        3.63642              \n",
      "53      3.688150    E5V       3.693551              \n",
      "56      3.619344  K101R       3.677711              \n",
      "...          ...    ...            ...           ...\n",
      "51688   3.577787  D234G       3.706313              \n",
      "51691   3.744741  L236P       3.706238              \n",
      "51694   3.865135  Y237H       3.735417              \n",
      "51696   3.693903  E235V       3.712191              \n",
      "51699   3.862731  L236P       3.706238              \n",
      "\n",
      "[12349 rows x 4 columns]\n"
     ]
    }
   ],
   "source": [
    "# add column 'epistasis_bin' to df_double_m2\n",
    "# copy df\n",
    "df_double_m2_compare = df_double_m2.copy()\n",
    "\n",
    "# add column 'epistasis_bin' to df_double_m2\n",
    "df_double_m2_compare['epistasis_bin'] = ''\n",
    "\n",
    "print(df_double_m2_compare)"
   ],
   "metadata": {
    "collapsed": false,
    "ExecuteTime": {
     "end_time": "2023-07-15T08:44:04.451091Z",
     "start_time": "2023-07-15T08:44:04.437320Z"
    }
   }
  },
  {
   "cell_type": "code",
   "execution_count": 67,
   "outputs": [
    {
     "name": "stdout",
     "output_type": "stream",
     "text": [
      "       DMS_score     m2 score_single_2 epistasis_bin\n",
      "13      3.716293  D133A       3.540905             1\n",
      "41      3.833353   S30Y       3.752408             1\n",
      "45      3.553744  V150A        3.63642             0\n",
      "53      3.688150    E5V       3.693551             0\n",
      "56      3.619344  K101R       3.677711             0\n",
      "...          ...    ...            ...           ...\n",
      "51688   3.577787  D234G       3.706313             0\n",
      "51691   3.744741  L236P       3.706238             1\n",
      "51694   3.865135  Y237H       3.735417             1\n",
      "51696   3.693903  E235V       3.712191             0\n",
      "51699   3.862731  L236P       3.706238             1\n",
      "\n",
      "[12349 rows x 4 columns]\n"
     ]
    }
   ],
   "source": [
    "# compare DMS_score with score_single_2, add value to epistasis_bin\n",
    "for index, row in df_double_m2_compare.iterrows():\n",
    "    if row['DMS_score'] > row['score_single_2']:\n",
    "        df_double_m2_compare.loc[index, 'epistasis_bin'] = 1\n",
    "    else:\n",
    "        df_double_m2_compare.loc[index, 'epistasis_bin'] = 0\n",
    "\n",
    "print(df_double_m2_compare)"
   ],
   "metadata": {
    "collapsed": false,
    "ExecuteTime": {
     "end_time": "2023-07-15T08:44:14.304559Z",
     "start_time": "2023-07-15T08:44:13.213958Z"
    }
   }
  },
  {
   "cell_type": "code",
   "execution_count": 69,
   "outputs": [
    {
     "data": {
      "text/plain": "0    8753\n1    3596\nName: epistasis_bin, dtype: int64"
     },
     "execution_count": 69,
     "metadata": {},
     "output_type": "execute_result"
    }
   ],
   "source": [
    "# How many 'epistasis_bin' = 1?\n",
    "df_double_m2_compare['epistasis_bin'].value_counts()"
   ],
   "metadata": {
    "collapsed": false,
    "ExecuteTime": {
     "end_time": "2023-07-15T08:45:55.744081Z",
     "start_time": "2023-07-15T08:45:55.717941Z"
    }
   }
  },
  {
   "cell_type": "markdown",
   "source": [
    "### assign in/out to each mutation"
   ],
   "metadata": {
    "collapsed": false
   }
  },
  {
   "cell_type": "code",
   "execution_count": 75,
   "outputs": [
    {
     "name": "stdout",
     "output_type": "stream",
     "text": [
      "     position  in(1)/out(0) AS\n",
      "0           1             0  M\n",
      "1           2             0  S\n",
      "2           3             0  K\n",
      "3           4             0  G\n",
      "4           5             0  E\n",
      "..        ...           ... ..\n",
      "233       234             0  D\n",
      "234       235             0  E\n",
      "235       236             0  L\n",
      "236       237             0  Y\n",
      "237       238             0  K\n",
      "\n",
      "[238 rows x 3 columns]\n"
     ]
    }
   ],
   "source": [
    "# import excel sheet (postion of mutation, in/out)\n",
    "df_in_out = pd.read_excel('/Users/tianxinangelama/Documents/Studium/4. FS/DMS/AS_residues.xlsx', sheet_name='Sheet2')\n",
    "\n",
    "print(df_in_out)"
   ],
   "metadata": {
    "collapsed": false,
    "ExecuteTime": {
     "end_time": "2023-07-15T13:46:21.547110Z",
     "start_time": "2023-07-15T13:46:21.531648Z"
    }
   }
  },
  {
   "cell_type": "code",
   "execution_count": 76,
   "outputs": [
    {
     "name": "stdout",
     "output_type": "stream",
     "text": [
      "[8, 12, 14, 16, 18, 20, 27, 29, 31, 33, 35, 40, 42, 44, 46, 48, 54, 55, 56, 57, 58, 59, 60, 61, 62, 63, 64, 65, 66, 67, 68, 69, 70, 71, 72, 74, 82, 83, 84, 85, 86, 87, 88, 92, 94, 96, 98, 100, 106, 108, 110, 112, 114, 119, 121, 123, 125, 127, 130, 141, 143, 145, 148, 150, 152, 161, 163, 165, 167, 169, 179, 181, 183, 185, 199, 201, 203, 205, 207, 218, 220, 222, 224, 226]\n"
     ]
    }
   ],
   "source": [
    "# create a list with all positions with buried residues, these positions have value '1' in column 'in(1)/out(0)'\n",
    "positions_in = df_in_out[df_in_out['in(1)/out(0)'] == 1]['position'].tolist()\n",
    "\n",
    "print(positions_in)"
   ],
   "metadata": {
    "collapsed": false,
    "ExecuteTime": {
     "end_time": "2023-07-15T13:48:51.917124Z",
     "start_time": "2023-07-15T13:48:51.906173Z"
    }
   }
  },
  {
   "cell_type": "code",
   "execution_count": null,
   "outputs": [],
   "source": [],
   "metadata": {
    "collapsed": false
   }
  }
 ],
 "metadata": {
  "kernelspec": {
   "display_name": "Python 3",
   "language": "python",
   "name": "python3"
  },
  "language_info": {
   "codemirror_mode": {
    "name": "ipython",
    "version": 2
   },
   "file_extension": ".py",
   "mimetype": "text/x-python",
   "name": "python",
   "nbconvert_exporter": "python",
   "pygments_lexer": "ipython2",
   "version": "2.7.6"
  }
 },
 "nbformat": 4,
 "nbformat_minor": 0
}
