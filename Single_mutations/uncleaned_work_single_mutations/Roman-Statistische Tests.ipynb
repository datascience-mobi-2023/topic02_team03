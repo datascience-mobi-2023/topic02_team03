{
 "cells": [
  {
   "cell_type": "code",
   "execution_count": null,
   "metadata": {
    "collapsed": true
   },
   "outputs": [],
   "source": [
    "#EINLESEN DES DATAFRAMES UND VERARBEITUNG ZUM DATAFRAME MIT DEM ICH ARBEITE\n",
    "import numpy as np\n",
    "import pandas as pd\n",
    "import csv\n",
    "with open(r\"C:\\Users\\roman\\Desktop\\DMS_data\\DMS_data\\GFP_AEQVI_Sarkisyan_2016.csv\") as dms_GFP_datei:\n",
    "    dms_GFP_datei_object = csv.reader(dms_GFP_datei, delimiter=',')\n",
    "    print(dms_GFP_datei_object)\n",
    "    for row in dms_GFP_datei_object:\n",
    "        print(row)\n",
    "original_datei = pd.read_csv(r\"C:\\Users\\roman\\Desktop\\DMS_data\\DMS_data\\GFP_AEQVI_Sarkisyan_2016.csv\")\n",
    "print(original_datei)\n",
    "#Einlesen\n",
    "\n",
    "letzter_buchstabe = []\n",
    "for index, row in original_datei.iterrows():\n",
    "    last_character = row[\"mutant\"][-1]\n",
    "    letzter_buchstabe.append(last_character)\n",
    "letzter_buchstabe_df = pd.DataFrame(letzter_buchstabe, columns=[\"New_AS\"])\n",
    "#print(letzter_buchstabe_df)\n",
    "#Letzter Buchstabe in jeder Zeile\n",
    "\n",
    "number_mutations = original_datei[\"mutant\"].str.count(\":\") + 1\n",
    "number_mutations_Single = number_mutations == 1\n",
    "#print(number_mutations_Single)\n",
    "#True sind alle Zeilen, die nur eine Mutation tragen\n",
    "\n",
    "single_mutants_df = letzter_buchstabe_df[number_mutations_Single]\n",
    "#print(single_mutants_df)\n",
    "#Filtert alle True Zeilen aus beiden Dataframes und erstellt ein neues Dataframe. Er übernimmt automatisch die Filterung nac\n",
    "dms_score_df = []\n",
    "for index, row in original_datei.iterrows():\n",
    "    dms_score = row[\"DMS_score\"]\n",
    "    dms_score_df.append(dms_score)\n",
    "dms_score_df_alle = pd.DataFrame(dms_score_df, columns=[\"Fitness_Score\"])\n",
    "#print(dms_score_df_alle)\n",
    "#erstellt Dataframe mit allen DMS-scores und der jeweiligen Experimentnummer\n",
    "dms_score_filtered = dms_score_df_alle[number_mutations_Single]\n",
    "#print(dms_score_filtered)\n",
    "dms_score_filtered_newAS = single_mutants_df.join(dms_score_filtered)\n",
    "#print(dms_score_filtered_newAS)\n",
    "mutations_pos = []\n",
    "for index, row in original_datei.iterrows():\n",
    "    mutations_pos_nummer = row[\"mutant\"][1:-1]\n",
    "    mutations_pos.append(mutations_pos_nummer)\n",
    "mutations_pos_df = pd.DataFrame(mutations_pos, columns=[\"Position\"])\n",
    "#print(mutations_pos_df)\n",
    "#Entfernt erstmal nur das erste und letzte Zeichen\n",
    "number_mutations = original_datei[\"mutant\"].str.count(\":\") + 1\n",
    "number_mutations_Single = number_mutations == 1\n",
    "#print(number_mutations_Single)\n",
    "#True sind alle Zeilen, die nur eine Mutation tragen\n",
    "\n",
    "single_mutants_df_pos = mutations_pos_df[number_mutations_Single]\n",
    "#print(single_mutants_df_pos)\n",
    "#Erstellt ein Dataframe, dass die Positionen innerhalb des Proteins aller Einzelmutanten zeigt\n",
    "mutations_pos_df_mit_scores = single_mutants_df_pos.join(dms_score_filtered)\n",
    "#print(mutations_pos_df_mit_scores)\n",
    "new_column = mutations_pos_df_mit_scores[\"Position\"]\n",
    "Roman_1 = dms_score_filtered_newAS.join(new_column)\n",
    "Roman_1 = Roman_1[[\"Position\", \"New_AS\", \"Fitness_Score\"]]\n",
    "print(Roman_1)"
   ]
  },
  {
   "cell_type": "code",
   "execution_count": null,
   "outputs": [],
   "source": [
    "#TEST DES MANN-WHITNEY-U-TESTS MIT AUSGEDACHTER GRUPPE\n",
    "group1 = [20, 23, 21, 25, 18, 17, 18, 24, 20, 24, 23, 19]\n",
    "group2 = [24, 25, 21, 22, 23, 18, 17, 28, 24, 27, 21, 23]\n",
    "import scipy.stats as stats\n",
    "\n",
    "#Whitney-U-Test\n",
    "stats.mannwhitneyu(group1, group2, alternative='two-sided')\n"
   ],
   "metadata": {
    "collapsed": false
   }
  },
  {
   "cell_type": "code",
   "execution_count": null,
   "outputs": [],
   "source": [
    "#MANN-WHITNEY-U-TEST MIT MEINEM DATAFRAME VOLLER SINGLEMUTANTEN\n",
    "import pandas as pd\n",
    "import scipy.stats as stats\n",
    "#Ich will meine Werte sortieren\n",
    "def position_sort(position):\n",
    "    if position.isdigit():\n",
    "        return int(position)\n",
    "    else:\n",
    "        return position\n",
    "#Leere Liste\n",
    "results = []\n",
    "#Gruppierung basierend auf Position und Aminosäure\n",
    "grouped_position = Roman_1.groupby('Position')\n",
    "grouped_AS = Roman_1.groupby(\"New_AS\")\n",
    "\n",
    "# Konvertiert die Positionsspalte in numerische Werte\n",
    "Roman_1['Position'] = pd.to_numeric(Roman_1['Position'])\n",
    "\n",
    "#Whitney-Test für alle Kombinationen von Position und AS durchgeführt --> Signifikanter Unterschied in den Fitness-Scores zwischen verschiedenen Positionen und AS?\n",
    "for position, group_position in grouped_position:\n",
    "    for AS, group_AS in grouped_AS:\n",
    "        fitness_scores_position = group_position['Fitness_Score'].values\n",
    "        fitness_scores_AS = group_AS['Fitness_Score'].values\n",
    "\n",
    "        statistic, p_value = stats.mannwhitneyu(fitness_scores_position, fitness_scores_AS, alternative='two-sided')\n",
    "#Alpha-Wert selbst gesetzt\n",
    "        alpha = 0.05\n",
    "\n",
    "        result = {'Position': position,'Aminosäure': AS,'Teststatistik': statistic,'P-Wert': p_value,'Signifikanz': \"Ja\" if p_value < alpha else \"Nein\"}\n",
    "\n",
    "        results.append(result)\n",
    "#Ergebnisse ausspucken lassen\n",
    "summary_df = pd.DataFrame(results)\n",
    "#Sortieren nach aufsteigender Positionsnummer\n",
    "summary_df = summary_df.sort_values('Position', ascending=True)\n",
    "print(summary_df)"
   ],
   "metadata": {
    "collapsed": false
   }
  },
  {
   "cell_type": "code",
   "execution_count": null,
   "outputs": [],
   "source": [
    "#ERGEBNISSE DES MANN-WHITNEY-U-TESTS GEFILTERET: NUR DIE MUTATIONEN, DIE WIRKLICH IM DATAFRAME SIND.\n",
    "# Überprüft, ob Position und Aminosäure in Roman_1 vorhanden sind\n",
    "mask = summary_df.apply(lambda row: (row['Position'], row['Aminosäure']) in zip(Roman_1['Position'], Roman_1['New_AS']), axis=1)\n",
    "\n",
    "# Filtert das summary_df entsprechend der Maske\n",
    "summary_df_filtered = summary_df[mask]\n",
    "\n",
    "print(summary_df_filtered)\n",
    "#DATENFILTERUNG MUSS VORHER GESCHEHEN, UM DIE DATEN NICHT ZU MANIPULIEREN!"
   ],
   "metadata": {
    "collapsed": false
   }
  },
  {
   "cell_type": "code",
   "execution_count": null,
   "outputs": [],
   "source": [
    "#KRUSKAL-WALLIS-TEST FÜR POSITION GEGEN FITNESS-SCORE\n",
    "#Der Kruskal-Wallis-Test ist eine nichtparametrische Methode, die auf Ränge basiert und daher keine Annahmen über die Verteilung der Daten macht. Er ermöglicht den Vergleich der Verteilungen zwischen mehreren Gruppen, unabhängig von ihrer Normalverteilung oder Varianzhomogenität.\n",
    "import pandas as pd\n",
    "import scipy.stats as stats\n",
    "\n",
    "# Gruppen basierend auf Position erstellen\n",
    "grouped_position_2 = Roman_1.groupby('Position')\n",
    "\n",
    "# Liste zum Speichern der Fitness-Scores für jede Position\n",
    "position_scores = []\n",
    "\n",
    "# Schleife über die Positionen\n",
    "for position, group_data in grouped_position_2:\n",
    "    # Fitness-Scores für die aktuelle Position\n",
    "    fitness_scores = group_data['Fitness_Score'].values\n",
    "    position_scores.append(fitness_scores)\n",
    "\n",
    "# Kruskal-Wallis-Test\n",
    "statistic, p_value = stats.kruskal(*position_scores)\n",
    "\n",
    "alpha = 0.05\n",
    "\n",
    "print(\"Kruskal-Wallis-Test\")\n",
    "print(f\"Teststatistik: {statistic}\")\n",
    "print(f\"P-Wert: {p_value}\")\n",
    "\n",
    "if p_value < alpha:\n",
    "    print(\"Es gibt einen signifikanten Unterschied zwischen den Positionen.\")\n",
    "else:\n",
    "    print(\"Es gibt keinen signifikanten Unterschied zwischen den Positionen.\")"
   ],
   "metadata": {
    "collapsed": false
   }
  },
  {
   "cell_type": "code",
   "execution_count": null,
   "outputs": [],
   "source": [
    "#KRUSKAL-WALLIS-TEST FÜR POSITION UND AMINOSÄURE GEGEN FITNESS-SCORE\n",
    "import pandas as pd\n",
    "import scipy.stats as stats\n",
    "\n",
    "# Gruppen basierend auf Position und Aminosäure erstellen\n",
    "grouped_position_as_2 = Roman_1.groupby(['Position', 'New_AS'])\n",
    "\n",
    "# Liste zum Speichern der Fitness-Scores für jede Position und Aminosäure\n",
    "position_as_scores = []\n",
    "\n",
    "# Schleife über die Positionen und Aminosäuren\n",
    "for (position, amino_acid), group_data in grouped_position_as_2:\n",
    "    # Fitness-Scores für die aktuelle Position und Aminosäure\n",
    "    fitness_scores = group_data['Fitness_Score'].values\n",
    "    position_as_scores.append(fitness_scores)\n",
    "#Die Fitness-Scores für jede Position und Aminosäure werden in einer Liste gespeichert und als Argumente für den Kruskal-Wallis-Test verwendet\n",
    "# Kruskal-Wallis-Test\n",
    "statistic, p_value = stats.kruskal(*position_as_scores)\n",
    "\n",
    "alpha = 0.05\n",
    "\n",
    "print(\"Kruskal-Wallis-Test\")\n",
    "print(f\"Teststatistik: {statistic}\")\n",
    "print(f\"P-Wert: {p_value}\")\n",
    "\n",
    "if p_value < alpha:\n",
    "    print(\"Es gibt einen signifikanten Unterschied zwischen den Positionen und Aminosäuren.\")\n",
    "else:\n",
    "    print(\"Es gibt keinen signifikanten Unterschied zwischen den Positionen und Aminosäuren.\")"
   ],
   "metadata": {
    "collapsed": false
   }
  },
  {
   "cell_type": "code",
   "execution_count": null,
   "outputs": [],
   "source": [
    "#DANKE FÜR DEINE HILFE!"
   ],
   "metadata": {
    "collapsed": false
   }
  }
 ],
 "metadata": {
  "kernelspec": {
   "display_name": "Python 3",
   "language": "python",
   "name": "python3"
  },
  "language_info": {
   "codemirror_mode": {
    "name": "ipython",
    "version": 2
   },
   "file_extension": ".py",
   "mimetype": "text/x-python",
   "name": "python",
   "nbconvert_exporter": "python",
   "pygments_lexer": "ipython2",
   "version": "2.7.6"
  }
 },
 "nbformat": 4,
 "nbformat_minor": 0
}
