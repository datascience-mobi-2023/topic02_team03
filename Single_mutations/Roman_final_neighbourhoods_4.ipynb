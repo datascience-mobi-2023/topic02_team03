{
 "cells": [
  {
   "cell_type": "code",
   "execution_count": 1,
   "metadata": {
    "collapsed": true,
    "ExecuteTime": {
     "end_time": "2023-07-16T08:21:50.474289800Z",
     "start_time": "2023-07-16T08:21:41.045114400Z"
    }
   },
   "outputs": [
    {
     "name": "stderr",
     "output_type": "stream",
     "text": [
      "IOPub data rate exceeded.\n",
      "The notebook server will temporarily stop sending output\n",
      "to the client in order to avoid crashing it.\n",
      "To change this limit, set the config variable\n",
      "`--NotebookApp.iopub_data_rate_limit`.\n",
      "\n",
      "Current values:\n",
      "NotebookApp.iopub_data_rate_limit=1000000.0 (bytes/sec)\n",
      "NotebookApp.rate_limit_window=3.0 (secs)\n",
      "\n"
     ]
    },
    {
     "name": "stdout",
     "output_type": "stream",
     "text": [
      "                                      mutant  \\\n",
      "0      K3R:V55A:Q94R:A110T:D117G:M153K:D216A   \n",
      "1                       K3Q:V16A:I167T:L195Q   \n",
      "2                K3Q:Y143C:N164D:S205P:A227T   \n",
      "3                            K3Q:Y143N:V193A   \n",
      "4                                        K3R   \n",
      "...                                      ...   \n",
      "51709                                  Y237N   \n",
      "51710                                  Y237C   \n",
      "51711                                  Y237D   \n",
      "51712                                  Y237F   \n",
      "51713                                  Y237H   \n",
      "\n",
      "                                        mutated_sequence  DMS_score  \\\n",
      "0      MSRGEELFTGVVPILVELDGDVNGHKFSVSGEGEGDATYGKLTLKF...   1.301030   \n",
      "1      MSQGEELFTGVVPILAELDGDVNGHKFSVSGEGEGDATYGKLTLKF...   3.137350   \n",
      "2      MSQGEELFTGVVPILVELDGDVNGHKFSVSGEGEGDATYGKLTLKF...   1.553913   \n",
      "3      MSQGEELFTGVVPILVELDGDVNGHKFSVSGEGEGDATYGKLTLKF...   3.404237   \n",
      "4      MSRGEELFTGVVPILVELDGDVNGHKFSVSGEGEGDATYGKLTLKF...   3.738586   \n",
      "...                                                  ...        ...   \n",
      "51709  MSKGEELFTGVVPILVELDGDVNGHKFSVSGEGEGDATYGKLTLKF...   3.809468   \n",
      "51710  MSKGEELFTGVVPILVELDGDVNGHKFSVSGEGEGDATYGKLTLKF...   3.760217   \n",
      "51711  MSKGEELFTGVVPILVELDGDVNGHKFSVSGEGEGDATYGKLTLKF...   3.754101   \n",
      "51712  MSKGEELFTGVVPILVELDGDVNGHKFSVSGEGEGDATYGKLTLKF...   3.673173   \n",
      "51713  MSKGEELFTGVVPILVELDGDVNGHKFSVSGEGEGDATYGKLTLKF...   3.735417   \n",
      "\n",
      "       DMS_score_bin  \n",
      "0                  0  \n",
      "1                  1  \n",
      "2                  0  \n",
      "3                  1  \n",
      "4                  1  \n",
      "...              ...  \n",
      "51709              1  \n",
      "51710              1  \n",
      "51711              1  \n",
      "51712              1  \n",
      "51713              1  \n",
      "\n",
      "[51714 rows x 4 columns]\n"
     ]
    },
    {
     "ename": "AttributeError",
     "evalue": "'dict' object has no attribute 'append'",
     "output_type": "error",
     "traceback": [
      "\u001B[1;31m---------------------------------------------------------------------------\u001B[0m",
      "\u001B[1;31mAttributeError\u001B[0m                            Traceback (most recent call last)",
      "Cell \u001B[1;32mIn[1], line 146\u001B[0m\n\u001B[0;32m    144\u001B[0m         \u001B[38;5;28;01mfor\u001B[39;00m property_name, property_map \u001B[38;5;129;01min\u001B[39;00m property_maps\u001B[38;5;241m.\u001B[39mitems():\n\u001B[0;32m    145\u001B[0m             neighbourhood_properties[property_name] \u001B[38;5;241m=\u001B[39m \u001B[38;5;28msum\u001B[39m(property_map\u001B[38;5;241m.\u001B[39mget(AA, \u001B[38;5;241m0\u001B[39m) \u001B[38;5;28;01mfor\u001B[39;00m AA \u001B[38;5;129;01min\u001B[39;00m neighbourhood)  \u001B[38;5;66;03m# Calculate the property value for the neighbourhood\u001B[39;00m\n\u001B[1;32m--> 146\u001B[0m         \u001B[43mresult\u001B[49m\u001B[38;5;241;43m.\u001B[39;49m\u001B[43mappend\u001B[49m(neighbourhood_properties) \u001B[38;5;66;03m#fügt Ergebnisse der results-Liste zu\u001B[39;00m\n\u001B[0;32m    148\u001B[0m Roman_2 \u001B[38;5;241m=\u001B[39m pd\u001B[38;5;241m.\u001B[39mDataFrame(results)\n\u001B[0;32m    149\u001B[0m \u001B[38;5;66;03m#Roman_2\u001B[39;00m\n\u001B[0;32m    150\u001B[0m \u001B[38;5;66;03m# Drop duplicate rows with identical values\u001B[39;00m\n",
      "\u001B[1;31mAttributeError\u001B[0m: 'dict' object has no attribute 'append'"
     ]
    }
   ],
   "source": [
    "#Alles importieren\n",
    "import numpy as np\n",
    "import pandas as pd\n",
    "import csv\n",
    "with open(r\"C:\\Users\\roman\\Desktop\\DMS_data\\DMS_data\\GFP_AEQVI_Sarkisyan_2016.csv\") as dms_GFP_datei:\n",
    "    dms_GFP_datei_object = csv.reader(dms_GFP_datei, delimiter=',')\n",
    "    print(dms_GFP_datei_object)\n",
    "    for row in dms_GFP_datei_object:\n",
    "        print(row)\n",
    "original_datei = pd.read_csv(r\"C:\\Users\\roman\\Desktop\\DMS_data\\DMS_data\\GFP_AEQVI_Sarkisyan_2016.csv\")\n",
    "print(original_datei)\n",
    "#Einlesen\n",
    "letzter_buchstabe = []\n",
    "for index, row in original_datei.iterrows():\n",
    "    last_character = row[\"mutant\"][-1]\n",
    "    letzter_buchstabe.append(last_character)\n",
    "letzter_buchstabe_df = pd.DataFrame(letzter_buchstabe, columns=[\"New_AS\"])\n",
    "#print(letzter_buchstabe_df)\n",
    "#Letzter Buchstabe in jeder Zeile\n",
    "\n",
    "number_mutations = original_datei[\"mutant\"].str.count(\":\") + 1\n",
    "number_mutations_Single = number_mutations == 1\n",
    "#print(number_mutations_Single)\n",
    "#True sind alle Zeilen, die nur eine Mutation tragen\n",
    "\n",
    "single_mutants_df = letzter_buchstabe_df[number_mutations_Single]\n",
    "#print(single_mutants_df)\n",
    "#Filtert alle True Zeilen aus beiden Dataframes und erstellt ein neues Dataframe. Er übernimmt automatisch die Filterung nach \"True\"-Werten\n",
    "dms_score_df = []\n",
    "for index, row in original_datei.iterrows():\n",
    "    dms_score = row[\"DMS_score\"]\n",
    "    dms_score_df.append(dms_score)\n",
    "dms_score_df_alle = pd.DataFrame(dms_score_df, columns=[\"Fitness_Score\"])\n",
    "#print(dms_score_df_alle)\n",
    "#erstellt Dataframe mit allen DMS-scores und der jeweiligen Experimentnummer\n",
    "dms_score_filtered = dms_score_df_alle[number_mutations_Single]\n",
    "#print(dms_score_filtered)\n",
    "#Dataframe mit allen DMS-scores der Einzelmutanten\n",
    "dms_score_filtered_newAS = single_mutants_df.join(dms_score_filtered)\n",
    "#print(dms_score_filtered_newAS)\n",
    "#Kombiniert und erstellt ein neues Dataframe mit der neuen AS und dem jeweiligen DMS-score\n",
    "mutations_pos = []\n",
    "for index, row in original_datei.iterrows():\n",
    "    mutations_pos_nummer = row[\"mutant\"][1:-1]\n",
    "    mutations_pos.append(mutations_pos_nummer)\n",
    "mutations_pos_df = pd.DataFrame(mutations_pos, columns=[\"Position\"])\n",
    "#print(mutations_pos_df)\n",
    "#Entfernt erstmal nur das erste und letzte Zeichen\n",
    "number_mutations = original_datei[\"mutant\"].str.count(\":\") + 1\n",
    "number_mutations_Single = number_mutations == 1\n",
    "#print(number_mutations_Single)\n",
    "#True sind alle Zeilen, die nur eine Mutation tragen\n",
    "single_mutants_df_pos = mutations_pos_df[number_mutations_Single]\n",
    "#print(single_mutants_df_pos)\n",
    "#Erstellt ein Dataframe, dass die Positionen innerhalb des Proteins aller Einzelmutanten zeigt\n",
    "mutations_pos_df_mit_scores = single_mutants_df_pos.join(dms_score_filtered)\n",
    "#print(mutations_pos_df_mit_scores)\n",
    "#Kombiniert und erstellt Dataframe mit der Position der Mutation und dem jeweiligen DMS-score (zeigt NICHT die neuen AS)\n",
    "new_column = mutations_pos_df_mit_scores[\"Position\"]\n",
    "Roman_1 = dms_score_filtered_newAS.join(new_column)\n",
    "Roman_1 = Roman_1[[\"Position\", \"New_AS\", \"Fitness_Score\"]]\n",
    "#print(Roman_1)\n",
    "#Erstellt neues Dataframe mit Position, neuer AS und DMS-score\n",
    "# Count the number of mutations in each row\n",
    "original_datei[\"MutationCount\"] = original_datei[\"mutant\"].str.count(\":\") + 1\n",
    "\n",
    "# Filter the DataFrame to select rows with a single mutation\n",
    "single_mutations_df = original_datei[original_datei[\"MutationCount\"] == 1].copy()\n",
    "\n",
    "# Drop the \"MutationCount\" column if not needed anymore\n",
    "single_mutations_df.drop(\"MutationCount\", axis=1, inplace=True)\n",
    "\n",
    "# Print the resulting DataFrame\n",
    "#print(single_mutations_df)\n",
    "#Erstellt Einzelmutanten --> besser als der vorige code um einzelmutanten zu erstellen?\n",
    "# Assuming your DataFrame is called ASE_clear with columns \"Letter\" and property columns for each property\n",
    "unmutated_sequence = \"MSKGEELFTGVVPILVELDGDVNGHKFSVSGEGEGDATYGKLTLKFICTTGKLPVPWPTLVTTLSYGVQCFSRYPDHMKQHDFFKSAMPEGYVQERTIFFKDDGNYKTRAEVKFEGDTLVNRIELKGIDFKEDGNILGHKLEYNYNSHNVYIMADKQKNGIKVNFKIRHNIEDGSVQLADHYQQNTPIGDGPVLLPDNHYLSTQSALSKDPNEKRDHMVLLEFVTAAGITHGMDELYK\"\n",
    "# Delete a row using the drop() function\n",
    "ASE_datei = pd.read_csv(r\"C:\\Users\\roman\\Desktop\\AS Eigenschaften\\aminoacids.csv\")\n",
    "#print(ASE_datei)\n",
    "columns_to_delete = ['Name', 'Abbr', 'Molecular Formula', 'Residue Formula']\n",
    "ASE_datei.drop(columns=columns_to_delete, inplace=True)\n",
    "delete_columns = [\"carbon\", \"hydrogen\", \"nitrogen\", \"oxygen\", \"sulfur\"]\n",
    "ASE_datei.drop(columns=delete_columns, inplace=True)\n",
    "#print(ASE_datei)\n",
    "row_index_to_delete = 12\n",
    "ASE_clear = ASE_datei.drop(row_index_to_delete)\n",
    "#print(ASE_clear)\n",
    "# Create a dictionary of property maps for each property\n",
    "property_maps = {}\n",
    "for property_name in ASE_clear.columns[1:]:\n",
    "    property_maps[property_name] = dict(zip(ASE_clear[\"Letter\"], ASE_clear[property_name]))\n",
    "\n",
    "# Create a list to store the results\n",
    "results = []\n",
    "#---------------------------------------------------------------------------------------------------------------------------------------\n",
    "# Generate mutated sequences and calculate properties for each mutant\n",
    "import pandas as pd\n",
    "import re\n",
    "sequence = \"MSKGEELFTGVVPILVELDGDVNGHKFSVSGEGEGDATYGKLTLKFICTTGKLPVPWPTLVTTLSYGVQCFSRYPDHMKQHDFFKSAMPEGYVQERTIFFKDDGNYKTRAEVKFEGDTLVNRIELKGIDFKEDGNILGHKLEYNYNSHNVYIMADKQKNGIKVNFKIRHNIEDGSVQLADHYQQNTPIGDGPVLLPDNHYLSTQSALSKDPNEKRDHMVLLEFVTAAGITHGMDELYK\"\n",
    "\n",
    "# Create a dictionary of property maps for each property\n",
    "property_maps = {}\n",
    "for property_name in ASE_clear.columns[1:]:\n",
    "    property_maps[property_name] = dict(zip(ASE_clear[\"Letter\"].dropna(), ASE_clear[property_name].dropna()))\n",
    "\n",
    "# Create a list to store the results\n",
    "results = []\n",
    "\n",
    "# Calculate the neighbourhood score for every 7-amino-acid window for each property\n",
    "for i in range(len(sequence) - 6):\n",
    "    neighbourhood = sequence[i:i+7]  # Get the 7-amino-acid neighbourhood sequence\n",
    "    result = {\"Neighbourhood\": neighbourhood}\n",
    "    for property_name, property_map in property_maps.items():\n",
    "        score = sum(property_map.get(AA, 0) for AA in neighbourhood)  # Calculate the sum of property values in the neighbourhood\n",
    "        result[property_name] = score\n",
    "    results.append(result)  # Store the result for the neighbourhood\n",
    "\n",
    "# Create a dataframe from the results\n",
    "unmutiert_alle_eig_neighb = pd.DataFrame(results)\n",
    "\n",
    "# Print the dataframe\n",
    "#print(unmutiert_alle_eig_neighb)\n",
    "#Unmutierte Referenz!!!\n",
    "single_mutations_df[\"position\"] = single_mutations_df[\"mutant\"].apply(lambda x: int(re.search(r'\\d+', x).group()))\n",
    "for _, row in single_mutations_df.iterrows():\n",
    "    mutation = row[\"mutant\"]\n",
    "    position = row[\"position\"]\n",
    "    mutated_sequence = unmutated_sequence[:position - 1] + mutation[-1] + unmutated_sequence[position:]\n",
    "    ### Generate mutated sequence mit string slicing in dem er die Mutation versteht und die unmutierte sequenz verändert\n",
    "    #M[1] schaut sich DAS ZWEITE ZEICHEN des Mutanten-Namens an\n",
    "    #intM[1] macht das zweite Zeichen in einen integer --> Extraktion der Position der Mutation. HIER MUSS ICH DEM SAGEN, DASS ER ALLE ZAHLEN ZUSAMMEN VERSTEHEN SOLL\n",
    "    #int(mutation[1])-1: Subtracting 1 from the position adjusts it to a zero-based index\n",
    "    #unmutated_sequence[:int(mutation[1])-1]: This retrieves the subsequence of unmutated_sequence from the beginning up to the position of the mutation (exclusive). It captures the amino acids before the mutation position.\n",
    "    #M[-1] holt sich das letzte Zeichen des mutations-Namens\n",
    "    #unmutated_sequence[int(mutation[1]):]: This retrieves the subsequence of unmutated_sequence from the position of the mutation to the end. It captures the amino acids after the mutation position.\n",
    "    #+: This concatenates the three parts together, resulting in the complete mutated sequence.\n",
    "    result = {\"Mutation\": mutation}\n",
    "\n",
    "    # Calculate properties for each neighbourhood sequence\n",
    "    for i in range(len(mutated_sequence) - 6): #nimmt das Ende raus. Iteration über ganze Sequenz minus 6, um immer 7er-Nachbarschaft zu kriegen. Iteration über N passiert meist mit N-1 Iterationslänge\n",
    "        neighbourhood = mutated_sequence[i:i+7]  # Get the 7-amino-acid neighbourhood sequence über slicing\n",
    "        neighbourhood_properties = {\"Neighbourhood\": neighbourhood} #erstellt dictionary um Eigenschaften DER NACHBARSCHAFT zu speichern\n",
    "        for property_name, property_map in property_maps.items():\n",
    "            neighbourhood_properties[property_name] = sum(property_map.get(AA, 0) for AA in neighbourhood)  # Calculate the property value for the neighbourhood\n",
    "        result.append(neighbourhood_properties) #fügt Ergebnisse der results-Liste zu\n",
    "\n",
    "Roman_2 = pd.DataFrame(results)\n",
    "#Roman_2\n",
    "# Drop duplicate rows with identical values\n",
    "Roman_2_filtered = Roman_2.drop_duplicates()\n",
    "# Print the filtered DataFrame\n",
    "#(Roman_2_filtered)\n",
    "Roman_2_filtered = pd.concat([unmutiert_alle_eig_neighb, Roman_2_filtered], axis=0, ignore_index=True)\n",
    "#print(Roman_2_filtered)\n",
    "Roman_3 = Roman_2_filtered.drop_duplicates()\n",
    "#Roman_3\n",
    "Roman_4 = Roman_3.drop([\"pKx3\"], axis=1)\n",
    "#Roman_4\n",
    "Roman_5 = Roman_4.drop_duplicates()\n",
    "print(Roman_5)\n",
    "#Endgültiges gereinigtes dataframe mit allen single mutanten mit allen nicht-duplikativen frame-Wanderungen. Zeile 0 bis 231 ist di nicht mutierte Referenz"
   ]
  },
  {
   "cell_type": "code",
   "execution_count": 2,
   "outputs": [
    {
     "name": "stdout",
     "output_type": "stream",
     "text": [
      "      New_AS\n",
      "4          R\n",
      "48         Q\n",
      "703        E\n",
      "924        M\n",
      "1160       T\n",
      "...      ...\n",
      "51709      N\n",
      "51710      C\n",
      "51711      D\n",
      "51712      F\n",
      "51713      H\n",
      "\n",
      "[1084 rows x 1 columns]\n"
     ]
    }
   ],
   "source": [
    "print(single_mutants_df)"
   ],
   "metadata": {
    "collapsed": false,
    "ExecuteTime": {
     "end_time": "2023-07-16T08:21:59.244352300Z",
     "start_time": "2023-07-16T08:21:59.229836100Z"
    }
   }
  },
  {
   "cell_type": "code",
   "execution_count": 3,
   "outputs": [],
   "source": [
    "#Name: name of the amino acid.\n",
    "#Abbr: abbreviation of the amino acid.\n",
    "#Letter: letter of the amino acid.\n",
    "# Molecular Weight: molecular weight.\n",
    "# Molecular Formula: molecular formula.\n",
    "# Residue Formula: residue formula.\n",
    "# Residue Weight: residue weight (-H20)\n",
    "# pKa1: the negative of the logarithm of the dissociation constant for the -COOH group.\n",
    "# pKb2: the negative of the logarithm of the dissociation constant for the -NH3 group.\n",
    "# pKx3: the negative of the logarithm of the dissociation constant for any other group in the molecule.\n",
    "# pl4: the pH at the isoelectric point.\n",
    "# H: hydrophobicity.\n",
    "# VSC: volumes of side chains amino acids.\n",
    "# P1: polarity.\n",
    "# P2: polarizability.\n",
    "# SASA: solvent accesible surface area.\n",
    "# NCISC: net charge of side chains."
   ],
   "metadata": {
    "collapsed": false,
    "ExecuteTime": {
     "end_time": "2023-07-16T08:22:01.595169800Z",
     "start_time": "2023-07-16T08:22:01.565855300Z"
    }
   }
  },
  {
   "cell_type": "code",
   "execution_count": 4,
   "outputs": [
    {
     "ename": "NameError",
     "evalue": "name 'Roman_5' is not defined",
     "output_type": "error",
     "traceback": [
      "\u001B[1;31m---------------------------------------------------------------------------\u001B[0m",
      "\u001B[1;31mNameError\u001B[0m                                 Traceback (most recent call last)",
      "Cell \u001B[1;32mIn[4], line 1\u001B[0m\n\u001B[1;32m----> 1\u001B[0m \u001B[43mRoman_5\u001B[49m\n",
      "\u001B[1;31mNameError\u001B[0m: name 'Roman_5' is not defined"
     ]
    }
   ],
   "source": [
    "Roman_5"
   ],
   "metadata": {
    "collapsed": false,
    "ExecuteTime": {
     "end_time": "2023-07-16T08:22:02.676088Z",
     "start_time": "2023-07-16T08:22:02.623578500Z"
    }
   }
  },
  {
   "cell_type": "code",
   "execution_count": 4,
   "outputs": [
    {
     "name": "stdout",
     "output_type": "stream",
     "text": [
      "7698\n"
     ]
    }
   ],
   "source": [
    "#Unmutierte sequenz\n",
    "unmut = 232\n",
    "\n",
    "#Anfang mutanten\n",
    "a_mut = 15+12+30+24\n",
    "abzug_a_mut = 5+3+6+4\n",
    "#Ende mutanten\n",
    "e_mut = 42+25+20+15+10\n",
    "abzug_e_mut = 5+5+5+5+7\n",
    "#Alles dazwischen mutanten\n",
    "zw_mut = (1084-abzug_e_mut-abzug_a_mut)*7\n",
    "#Gesamt\n",
    "ges_mut_unmut = zw_mut+unmut+e_mut+a_mut\n",
    "print(ges_mut_unmut)\n",
    "#Überprüfung erfolgreich!"
   ],
   "metadata": {
    "collapsed": false,
    "ExecuteTime": {
     "end_time": "2023-07-07T15:13:07.827369Z",
     "start_time": "2023-07-07T15:13:07.764981500Z"
    }
   }
  },
  {
   "cell_type": "code",
   "execution_count": 5,
   "outputs": [
    {
     "data": {
      "text/plain": "     Neighbourhood  Molecular Weight  Residue Weight   pKa1   pKb2    pl4  \\\n0          MSKSEEL            901.00          774.91  15.75  65.85  39.55   \n1          MSKDEEL            916.98          790.89  15.30  65.77  39.29   \n2          MSKAEEL            931.01          804.92  15.18  65.72  39.21   \n3          SKGKELF            859.89          733.79  15.34  66.37  35.44   \n4          SKGVELF            901.97          775.87  15.83  66.16  35.43   \n...            ...               ...             ...    ...    ...    ...   \n1064       GMDKLYK            783.81          657.68  15.72  66.49  35.02   \n1065       GMDGLYK            807.79          681.66  15.18  66.06  36.63   \n1066       GMDDLYK            820.87          694.75  15.48  65.41  43.60   \n1067       GMDALYK            910.99          784.88  14.97  64.94  43.11   \n1068       GMDVLYK            882.97          756.87  15.30  64.49  46.02   \n\n         H    VSC    P1     P2    SASA     NCISC  \n0    -0.98  440.9  64.7  0.990  12.126  0.269346  \n1    -0.43  462.3  64.2  1.059  12.320  0.304215  \n2    -0.30  484.3  63.6  1.105  12.547  0.302940  \n3     1.68  384.3  61.3  0.886  11.170  0.464284  \n4     2.01  529.8  57.7  1.295  12.952  0.323209  \n...    ...    ...   ...    ...     ...       ...  \n1064  0.98  370.3  62.9  0.913  11.055  0.403465  \n1065 -0.48  355.8  68.4  0.957  11.149  0.341103  \n1066 -1.08  415.8  66.7  1.071  11.820  0.382631  \n1067 -0.37  531.3  62.9  1.361  13.167  0.241131  \n1068  0.35  520.6  59.1  1.318  12.878  0.269578  \n\n[1069 rows x 12 columns]",
      "text/html": "<div>\n<style scoped>\n    .dataframe tbody tr th:only-of-type {\n        vertical-align: middle;\n    }\n\n    .dataframe tbody tr th {\n        vertical-align: top;\n    }\n\n    .dataframe thead th {\n        text-align: right;\n    }\n</style>\n<table border=\"1\" class=\"dataframe\">\n  <thead>\n    <tr style=\"text-align: right;\">\n      <th></th>\n      <th>Neighbourhood</th>\n      <th>Molecular Weight</th>\n      <th>Residue Weight</th>\n      <th>pKa1</th>\n      <th>pKb2</th>\n      <th>pl4</th>\n      <th>H</th>\n      <th>VSC</th>\n      <th>P1</th>\n      <th>P2</th>\n      <th>SASA</th>\n      <th>NCISC</th>\n    </tr>\n  </thead>\n  <tbody>\n    <tr>\n      <th>0</th>\n      <td>MSKSEEL</td>\n      <td>901.00</td>\n      <td>774.91</td>\n      <td>15.75</td>\n      <td>65.85</td>\n      <td>39.55</td>\n      <td>-0.98</td>\n      <td>440.9</td>\n      <td>64.7</td>\n      <td>0.990</td>\n      <td>12.126</td>\n      <td>0.269346</td>\n    </tr>\n    <tr>\n      <th>1</th>\n      <td>MSKDEEL</td>\n      <td>916.98</td>\n      <td>790.89</td>\n      <td>15.30</td>\n      <td>65.77</td>\n      <td>39.29</td>\n      <td>-0.43</td>\n      <td>462.3</td>\n      <td>64.2</td>\n      <td>1.059</td>\n      <td>12.320</td>\n      <td>0.304215</td>\n    </tr>\n    <tr>\n      <th>2</th>\n      <td>MSKAEEL</td>\n      <td>931.01</td>\n      <td>804.92</td>\n      <td>15.18</td>\n      <td>65.72</td>\n      <td>39.21</td>\n      <td>-0.30</td>\n      <td>484.3</td>\n      <td>63.6</td>\n      <td>1.105</td>\n      <td>12.547</td>\n      <td>0.302940</td>\n    </tr>\n    <tr>\n      <th>3</th>\n      <td>SKGKELF</td>\n      <td>859.89</td>\n      <td>733.79</td>\n      <td>15.34</td>\n      <td>66.37</td>\n      <td>35.44</td>\n      <td>1.68</td>\n      <td>384.3</td>\n      <td>61.3</td>\n      <td>0.886</td>\n      <td>11.170</td>\n      <td>0.464284</td>\n    </tr>\n    <tr>\n      <th>4</th>\n      <td>SKGVELF</td>\n      <td>901.97</td>\n      <td>775.87</td>\n      <td>15.83</td>\n      <td>66.16</td>\n      <td>35.43</td>\n      <td>2.01</td>\n      <td>529.8</td>\n      <td>57.7</td>\n      <td>1.295</td>\n      <td>12.952</td>\n      <td>0.323209</td>\n    </tr>\n    <tr>\n      <th>...</th>\n      <td>...</td>\n      <td>...</td>\n      <td>...</td>\n      <td>...</td>\n      <td>...</td>\n      <td>...</td>\n      <td>...</td>\n      <td>...</td>\n      <td>...</td>\n      <td>...</td>\n      <td>...</td>\n      <td>...</td>\n    </tr>\n    <tr>\n      <th>1064</th>\n      <td>GMDKLYK</td>\n      <td>783.81</td>\n      <td>657.68</td>\n      <td>15.72</td>\n      <td>66.49</td>\n      <td>35.02</td>\n      <td>0.98</td>\n      <td>370.3</td>\n      <td>62.9</td>\n      <td>0.913</td>\n      <td>11.055</td>\n      <td>0.403465</td>\n    </tr>\n    <tr>\n      <th>1065</th>\n      <td>GMDGLYK</td>\n      <td>807.79</td>\n      <td>681.66</td>\n      <td>15.18</td>\n      <td>66.06</td>\n      <td>36.63</td>\n      <td>-0.48</td>\n      <td>355.8</td>\n      <td>68.4</td>\n      <td>0.957</td>\n      <td>11.149</td>\n      <td>0.341103</td>\n    </tr>\n    <tr>\n      <th>1066</th>\n      <td>GMDDLYK</td>\n      <td>820.87</td>\n      <td>694.75</td>\n      <td>15.48</td>\n      <td>65.41</td>\n      <td>43.60</td>\n      <td>-1.08</td>\n      <td>415.8</td>\n      <td>66.7</td>\n      <td>1.071</td>\n      <td>11.820</td>\n      <td>0.382631</td>\n    </tr>\n    <tr>\n      <th>1067</th>\n      <td>GMDALYK</td>\n      <td>910.99</td>\n      <td>784.88</td>\n      <td>14.97</td>\n      <td>64.94</td>\n      <td>43.11</td>\n      <td>-0.37</td>\n      <td>531.3</td>\n      <td>62.9</td>\n      <td>1.361</td>\n      <td>13.167</td>\n      <td>0.241131</td>\n    </tr>\n    <tr>\n      <th>1068</th>\n      <td>GMDVLYK</td>\n      <td>882.97</td>\n      <td>756.87</td>\n      <td>15.30</td>\n      <td>64.49</td>\n      <td>46.02</td>\n      <td>0.35</td>\n      <td>520.6</td>\n      <td>59.1</td>\n      <td>1.318</td>\n      <td>12.878</td>\n      <td>0.269578</td>\n    </tr>\n  </tbody>\n</table>\n<p>1069 rows × 12 columns</p>\n</div>"
     },
     "execution_count": 5,
     "metadata": {},
     "output_type": "execute_result"
    }
   ],
   "source": [
    "import pandas as pd\n",
    "\n",
    "Roman_6 = pd.DataFrame(columns=[\"Neighbourhood\"])\n",
    "columns_to_copy = [\"Molecular Weight\", \"Residue Weight\", \"pKa1\", \"pKb2\", \"pl4\", \"H\", \"VSC\", \"P1\", \"P2\", \"SASA\", \"NCISC\"]\n",
    "\n",
    "unmutated_sequence = \"MSKGEELFTGVVPILVELDGDVNGHKFSVSGEGEGDATYGKLTLKFICTTGKLPVPWPTLVTTLSYGVQCFSRYPDHMKQHDFFKSAMPEGYVQERTIFFKDDGNYKTRAEVKFEGDTLVNRIELKGIDFKEDGNILGHKLEYNYNSHNVYIMADKQKNGIKVNFKIRHNIEDGSVQLADHYQQNTPIGDGPVLLPDNHYLSTQSALSKDPNEKRDHMVLLEFVTAAGITHGMDELYK\"\n",
    "\n",
    "for index, row in Roman_5.iterrows():\n",
    "    neighbourhood = row[\"Neighbourhood\"] #Neighbourhood-Wert jeder Zeile nehmen\n",
    "    neighbourhood_length = len(neighbourhood)\n",
    "\n",
    "    for i in range(len(unmutated_sequence) - 6): #entfernt wieder 6 Positionen damit es aufkommt und wandert über alle möglichen Positionen\n",
    "        mismatch_found = False #um zu tracken, ob es einen mismatch gibt\n",
    "\n",
    "        for j in range(neighbourhood_length): #läuft durch alle Positionen eines neighbourhoods\n",
    "            if j == 3: #aktuelle Position soll die vierte sein\n",
    "                if neighbourhood[j] == unmutated_sequence[i+j]: #Prüft ob die vierte AS die Position der original-Sequenz matched\n",
    "                    mismatch_found = True #wenn match, dann True\n",
    "                    break # Bricht den loop, wenn die vierte Position matched\n",
    "            else:\n",
    "                if neighbourhood[j] != unmutated_sequence[i+j]: #prüft ob die die NICHT vierten AS die Position der original-Sequenz NICHT matched\n",
    "                   mismatch_found = True #Wenn eine AS außerhalb der vierten Position nicht matched, dann True\n",
    "                   break # Bricht den loop, wenn eine andere Position außer der vierten nicht matched\n",
    "\n",
    "        if not mismatch_found: #wenn kein mismatch außer in der vierten Position\n",
    "            Roman_6 = pd.concat([Roman_6, pd.DataFrame({\"Neighbourhood\": [neighbourhood]})], ignore_index=True) #wenn kein mismatch, dann Neighbourhood dem neuen Dataframe hinzufügen\n",
    "            break #Weil ein match gefunden wurde, abbrechen, weil es keinen zweiten Match geben kann\n",
    "\n",
    "Roman_6 = Roman_6.join(Roman_5[columns_to_copy]) #gibt mir meine alten Spalten dazu\n",
    "\n",
    "Roman_6"
   ],
   "metadata": {
    "collapsed": false,
    "ExecuteTime": {
     "end_time": "2023-07-13T17:41:16.265278200Z",
     "start_time": "2023-07-13T17:41:13.287273Z"
    }
   }
  },
  {
   "cell_type": "code",
   "execution_count": 6,
   "outputs": [
    {
     "data": {
      "text/plain": "     Neighbourhood  Molecular Weight  Residue Weight   pKa1   pKb2    pl4  \\\n0          MSKSEEL            901.00          774.91  15.75  65.85  39.55   \n1          MSKGEEL            901.00          774.91  15.75  65.85  39.55   \n2          MSKDEEL            916.98          790.89  15.30  65.77  39.29   \n3          MSKGEEL            916.98          790.89  15.30  65.77  39.29   \n4          MSKAEEL            931.01          804.92  15.18  65.72  39.21   \n...            ...               ...             ...    ...    ...    ...   \n2133       GMDGLYK            820.87          694.75  15.48  65.41  43.60   \n2134       GMDALYK            910.99          784.88  14.97  64.94  43.11   \n2135       GMDGLYK            910.99          784.88  14.97  64.94  43.11   \n2136       GMDVLYK            882.97          756.87  15.30  64.49  46.02   \n2137       GMDGLYK            882.97          756.87  15.30  64.49  46.02   \n\n         H    VSC    P1     P2    SASA     NCISC  \n0    -0.98  440.9  64.7  0.990  12.126  0.269346  \n1    -0.98  440.9  64.7  0.990  12.126  0.269346  \n2    -0.43  462.3  64.2  1.059  12.320  0.304215  \n3    -0.43  462.3  64.2  1.059  12.320  0.304215  \n4    -0.30  484.3  63.6  1.105  12.547  0.302940  \n...    ...    ...   ...    ...     ...       ...  \n2133 -1.08  415.8  66.7  1.071  11.820  0.382631  \n2134 -0.37  531.3  62.9  1.361  13.167  0.241131  \n2135 -0.37  531.3  62.9  1.361  13.167  0.241131  \n2136  0.35  520.6  59.1  1.318  12.878  0.269578  \n2137  0.35  520.6  59.1  1.318  12.878  0.269578  \n\n[2138 rows x 12 columns]",
      "text/html": "<div>\n<style scoped>\n    .dataframe tbody tr th:only-of-type {\n        vertical-align: middle;\n    }\n\n    .dataframe tbody tr th {\n        vertical-align: top;\n    }\n\n    .dataframe thead th {\n        text-align: right;\n    }\n</style>\n<table border=\"1\" class=\"dataframe\">\n  <thead>\n    <tr style=\"text-align: right;\">\n      <th></th>\n      <th>Neighbourhood</th>\n      <th>Molecular Weight</th>\n      <th>Residue Weight</th>\n      <th>pKa1</th>\n      <th>pKb2</th>\n      <th>pl4</th>\n      <th>H</th>\n      <th>VSC</th>\n      <th>P1</th>\n      <th>P2</th>\n      <th>SASA</th>\n      <th>NCISC</th>\n    </tr>\n  </thead>\n  <tbody>\n    <tr>\n      <th>0</th>\n      <td>MSKSEEL</td>\n      <td>901.00</td>\n      <td>774.91</td>\n      <td>15.75</td>\n      <td>65.85</td>\n      <td>39.55</td>\n      <td>-0.98</td>\n      <td>440.9</td>\n      <td>64.7</td>\n      <td>0.990</td>\n      <td>12.126</td>\n      <td>0.269346</td>\n    </tr>\n    <tr>\n      <th>1</th>\n      <td>MSKGEEL</td>\n      <td>901.00</td>\n      <td>774.91</td>\n      <td>15.75</td>\n      <td>65.85</td>\n      <td>39.55</td>\n      <td>-0.98</td>\n      <td>440.9</td>\n      <td>64.7</td>\n      <td>0.990</td>\n      <td>12.126</td>\n      <td>0.269346</td>\n    </tr>\n    <tr>\n      <th>2</th>\n      <td>MSKDEEL</td>\n      <td>916.98</td>\n      <td>790.89</td>\n      <td>15.30</td>\n      <td>65.77</td>\n      <td>39.29</td>\n      <td>-0.43</td>\n      <td>462.3</td>\n      <td>64.2</td>\n      <td>1.059</td>\n      <td>12.320</td>\n      <td>0.304215</td>\n    </tr>\n    <tr>\n      <th>3</th>\n      <td>MSKGEEL</td>\n      <td>916.98</td>\n      <td>790.89</td>\n      <td>15.30</td>\n      <td>65.77</td>\n      <td>39.29</td>\n      <td>-0.43</td>\n      <td>462.3</td>\n      <td>64.2</td>\n      <td>1.059</td>\n      <td>12.320</td>\n      <td>0.304215</td>\n    </tr>\n    <tr>\n      <th>4</th>\n      <td>MSKAEEL</td>\n      <td>931.01</td>\n      <td>804.92</td>\n      <td>15.18</td>\n      <td>65.72</td>\n      <td>39.21</td>\n      <td>-0.30</td>\n      <td>484.3</td>\n      <td>63.6</td>\n      <td>1.105</td>\n      <td>12.547</td>\n      <td>0.302940</td>\n    </tr>\n    <tr>\n      <th>...</th>\n      <td>...</td>\n      <td>...</td>\n      <td>...</td>\n      <td>...</td>\n      <td>...</td>\n      <td>...</td>\n      <td>...</td>\n      <td>...</td>\n      <td>...</td>\n      <td>...</td>\n      <td>...</td>\n      <td>...</td>\n    </tr>\n    <tr>\n      <th>2133</th>\n      <td>GMDGLYK</td>\n      <td>820.87</td>\n      <td>694.75</td>\n      <td>15.48</td>\n      <td>65.41</td>\n      <td>43.60</td>\n      <td>-1.08</td>\n      <td>415.8</td>\n      <td>66.7</td>\n      <td>1.071</td>\n      <td>11.820</td>\n      <td>0.382631</td>\n    </tr>\n    <tr>\n      <th>2134</th>\n      <td>GMDALYK</td>\n      <td>910.99</td>\n      <td>784.88</td>\n      <td>14.97</td>\n      <td>64.94</td>\n      <td>43.11</td>\n      <td>-0.37</td>\n      <td>531.3</td>\n      <td>62.9</td>\n      <td>1.361</td>\n      <td>13.167</td>\n      <td>0.241131</td>\n    </tr>\n    <tr>\n      <th>2135</th>\n      <td>GMDGLYK</td>\n      <td>910.99</td>\n      <td>784.88</td>\n      <td>14.97</td>\n      <td>64.94</td>\n      <td>43.11</td>\n      <td>-0.37</td>\n      <td>531.3</td>\n      <td>62.9</td>\n      <td>1.361</td>\n      <td>13.167</td>\n      <td>0.241131</td>\n    </tr>\n    <tr>\n      <th>2136</th>\n      <td>GMDVLYK</td>\n      <td>882.97</td>\n      <td>756.87</td>\n      <td>15.30</td>\n      <td>64.49</td>\n      <td>46.02</td>\n      <td>0.35</td>\n      <td>520.6</td>\n      <td>59.1</td>\n      <td>1.318</td>\n      <td>12.878</td>\n      <td>0.269578</td>\n    </tr>\n    <tr>\n      <th>2137</th>\n      <td>GMDGLYK</td>\n      <td>882.97</td>\n      <td>756.87</td>\n      <td>15.30</td>\n      <td>64.49</td>\n      <td>46.02</td>\n      <td>0.35</td>\n      <td>520.6</td>\n      <td>59.1</td>\n      <td>1.318</td>\n      <td>12.878</td>\n      <td>0.269578</td>\n    </tr>\n  </tbody>\n</table>\n<p>2138 rows × 12 columns</p>\n</div>"
     },
     "execution_count": 6,
     "metadata": {},
     "output_type": "execute_result"
    }
   ],
   "source": [
    "import pandas as pd\n",
    "\n",
    "Roman_7 = pd.DataFrame(columns=[\"Neighbourhood\"] + columns_to_copy)\n",
    "\n",
    "unmutated_sequence = \"MSKGEELFTGVVPILVELDGDVNGHKFSVSGEGEGDATYGKLTLKFICTTGKLPVPWPTLVTTLSYGVQCFSRYPDHMKQHDFFKSAMPEGYVQERTIFFKDDGNYKTRAEVKFEGDTLVNRIELKGIDFKEDGNILGHKLEYNYNSHNVYIMADKQKNGIKVNFKIRHNIEDGSVQLADHYQQNTPIGDGPVLLPDNHYLSTQSALSKDPNEKRDHMVLLEFVTAAGITHGMDELYK\"\n",
    "\n",
    "rows = []\n",
    "for _, row in Roman_6.iterrows():\n",
    "    neighbourhood = row[\"Neighbourhood\"]\n",
    "    unmutated_row = neighbourhood[:3] + unmutated_sequence[3] + neighbourhood[4:]\n",
    "    properties = {col: row[col] for col in columns_to_copy}\n",
    "    mutated_df = pd.DataFrame(data=[[neighbourhood] + list(row[columns_to_copy])], columns=[\"Neighbourhood\"] + columns_to_copy)\n",
    "    unmutated_df = pd.DataFrame(data=[[unmutated_row] + list(properties.values())], columns=[\"Neighbourhood\"] + columns_to_copy)\n",
    "    rows.append(mutated_df)\n",
    "    rows.append(unmutated_df)\n",
    "\n",
    "Roman_7 = pd.concat(rows, ignore_index=True)\n",
    "Roman_7\n",
    "#klappt mit fehler aber concat\n",
    "#Fehler, der nimmt immer die 3. Position der unmutierten Sequenz absolut, aber nicht relativ in dem Bereich, wo die neighbourhood ist"
   ],
   "metadata": {
    "collapsed": false,
    "ExecuteTime": {
     "end_time": "2023-07-07T15:17:46.785583800Z",
     "start_time": "2023-07-07T15:17:43.463171600Z"
    }
   }
  },
  {
   "cell_type": "code",
   "execution_count": 7,
   "outputs": [
    {
     "data": {
      "text/plain": "     Neighbourhood  Molecular Weight  Residue Weight   pKa1   pKb2    pl4  \\\n0          MSKSEEL            931.02          804.94  15.62  65.40  39.26   \n1          MSKGEEL            901.00          774.91  15.75  65.85  39.55   \n2          MSKDEEL            959.04          832.95  15.29  65.85  36.35   \n3          MSKGEEL            901.00          774.91  15.75  65.85  39.55   \n4          MSKAEEL            915.03          788.94  15.75  65.94  39.58   \n...            ...               ...             ...    ...    ...    ...   \n2133       GMDGLYK            891.02          764.91  15.58  65.67  41.83   \n2134       GMDALYK            905.05          778.94  15.58  65.76  41.86   \n2135       GMDGLYK            891.02          764.91  15.58  65.67  41.83   \n2136       GMDVLYK            933.10          806.99  15.56  65.69  41.82   \n2137       GMDGLYK            891.02          764.91  15.58  65.67  41.83   \n\n         H    VSC    P1     P2    SASA     NCISC  \n0    -1.64  440.9  64.7  0.990  12.126  0.269346  \n1    -0.98  440.9  64.7  0.990  12.126  0.269346  \n2    -2.36  462.3  64.2  1.059  12.320  0.304215  \n3    -0.98  462.3  64.2  1.059  12.320  0.304215  \n4    -0.84  484.3  63.6  1.105  12.547  0.302940  \n...    ...    ...   ...    ...     ...       ...  \n2133  0.52  415.8  66.7  1.071  11.820  0.382631  \n2134  0.66  531.3  62.9  1.361  13.167  0.241131  \n2135  0.52  531.3  62.9  1.361  13.167  0.241131  \n2136  1.12  520.6  59.1  1.318  12.878  0.269578  \n2137  0.52  520.6  59.1  1.318  12.878  0.269578  \n\n[2138 rows x 12 columns]",
      "text/html": "<div>\n<style scoped>\n    .dataframe tbody tr th:only-of-type {\n        vertical-align: middle;\n    }\n\n    .dataframe tbody tr th {\n        vertical-align: top;\n    }\n\n    .dataframe thead th {\n        text-align: right;\n    }\n</style>\n<table border=\"1\" class=\"dataframe\">\n  <thead>\n    <tr style=\"text-align: right;\">\n      <th></th>\n      <th>Neighbourhood</th>\n      <th>Molecular Weight</th>\n      <th>Residue Weight</th>\n      <th>pKa1</th>\n      <th>pKb2</th>\n      <th>pl4</th>\n      <th>H</th>\n      <th>VSC</th>\n      <th>P1</th>\n      <th>P2</th>\n      <th>SASA</th>\n      <th>NCISC</th>\n    </tr>\n  </thead>\n  <tbody>\n    <tr>\n      <th>0</th>\n      <td>MSKSEEL</td>\n      <td>931.02</td>\n      <td>804.94</td>\n      <td>15.62</td>\n      <td>65.40</td>\n      <td>39.26</td>\n      <td>-1.64</td>\n      <td>440.9</td>\n      <td>64.7</td>\n      <td>0.990</td>\n      <td>12.126</td>\n      <td>0.269346</td>\n    </tr>\n    <tr>\n      <th>1</th>\n      <td>MSKGEEL</td>\n      <td>901.00</td>\n      <td>774.91</td>\n      <td>15.75</td>\n      <td>65.85</td>\n      <td>39.55</td>\n      <td>-0.98</td>\n      <td>440.9</td>\n      <td>64.7</td>\n      <td>0.990</td>\n      <td>12.126</td>\n      <td>0.269346</td>\n    </tr>\n    <tr>\n      <th>2</th>\n      <td>MSKDEEL</td>\n      <td>959.04</td>\n      <td>832.95</td>\n      <td>15.29</td>\n      <td>65.85</td>\n      <td>36.35</td>\n      <td>-2.36</td>\n      <td>462.3</td>\n      <td>64.2</td>\n      <td>1.059</td>\n      <td>12.320</td>\n      <td>0.304215</td>\n    </tr>\n    <tr>\n      <th>3</th>\n      <td>MSKGEEL</td>\n      <td>901.00</td>\n      <td>774.91</td>\n      <td>15.75</td>\n      <td>65.85</td>\n      <td>39.55</td>\n      <td>-0.98</td>\n      <td>462.3</td>\n      <td>64.2</td>\n      <td>1.059</td>\n      <td>12.320</td>\n      <td>0.304215</td>\n    </tr>\n    <tr>\n      <th>4</th>\n      <td>MSKAEEL</td>\n      <td>915.03</td>\n      <td>788.94</td>\n      <td>15.75</td>\n      <td>65.94</td>\n      <td>39.58</td>\n      <td>-0.84</td>\n      <td>484.3</td>\n      <td>63.6</td>\n      <td>1.105</td>\n      <td>12.547</td>\n      <td>0.302940</td>\n    </tr>\n    <tr>\n      <th>...</th>\n      <td>...</td>\n      <td>...</td>\n      <td>...</td>\n      <td>...</td>\n      <td>...</td>\n      <td>...</td>\n      <td>...</td>\n      <td>...</td>\n      <td>...</td>\n      <td>...</td>\n      <td>...</td>\n      <td>...</td>\n    </tr>\n    <tr>\n      <th>2133</th>\n      <td>GMDGLYK</td>\n      <td>891.02</td>\n      <td>764.91</td>\n      <td>15.58</td>\n      <td>65.67</td>\n      <td>41.83</td>\n      <td>0.52</td>\n      <td>415.8</td>\n      <td>66.7</td>\n      <td>1.071</td>\n      <td>11.820</td>\n      <td>0.382631</td>\n    </tr>\n    <tr>\n      <th>2134</th>\n      <td>GMDALYK</td>\n      <td>905.05</td>\n      <td>778.94</td>\n      <td>15.58</td>\n      <td>65.76</td>\n      <td>41.86</td>\n      <td>0.66</td>\n      <td>531.3</td>\n      <td>62.9</td>\n      <td>1.361</td>\n      <td>13.167</td>\n      <td>0.241131</td>\n    </tr>\n    <tr>\n      <th>2135</th>\n      <td>GMDGLYK</td>\n      <td>891.02</td>\n      <td>764.91</td>\n      <td>15.58</td>\n      <td>65.67</td>\n      <td>41.83</td>\n      <td>0.52</td>\n      <td>531.3</td>\n      <td>62.9</td>\n      <td>1.361</td>\n      <td>13.167</td>\n      <td>0.241131</td>\n    </tr>\n    <tr>\n      <th>2136</th>\n      <td>GMDVLYK</td>\n      <td>933.10</td>\n      <td>806.99</td>\n      <td>15.56</td>\n      <td>65.69</td>\n      <td>41.82</td>\n      <td>1.12</td>\n      <td>520.6</td>\n      <td>59.1</td>\n      <td>1.318</td>\n      <td>12.878</td>\n      <td>0.269578</td>\n    </tr>\n    <tr>\n      <th>2137</th>\n      <td>GMDGLYK</td>\n      <td>891.02</td>\n      <td>764.91</td>\n      <td>15.58</td>\n      <td>65.67</td>\n      <td>41.83</td>\n      <td>0.52</td>\n      <td>520.6</td>\n      <td>59.1</td>\n      <td>1.318</td>\n      <td>12.878</td>\n      <td>0.269578</td>\n    </tr>\n  </tbody>\n</table>\n<p>2138 rows × 12 columns</p>\n</div>"
     },
     "execution_count": 7,
     "metadata": {},
     "output_type": "execute_result"
    }
   ],
   "source": [
    "property_names = [\"Molecular Weight\", \"Residue Weight\", \"pKa1\", \"pKb2\", \"pl4\", \"H\"]  # List of property names to calculate\n",
    "\n",
    "# Calculate the property values for each row in Roman_7 and update the corresponding columns\n",
    "Roman_8 = Roman_7.copy()  # Create a copy of Roman_7\n",
    "for property_name in property_names:\n",
    "    Roman_8[property_name] = Roman_8[\"Neighbourhood\"].apply(lambda x: sum(ASE_clear[property_name].loc[ASE_clear[\"Letter\"] == aa].values[0] for aa in x))\n",
    "    #lambda definiert schnell eine Funktion ohne es vorher mit \"def\" machen zu müssen. lambda argument: expression\n",
    "       #This function calculates the sum of specific property values for each letter in the \"Neighbourhood\" value.\n",
    "    #loc sucht den richtigen Buchstaben und nimmt davon die Werte der Spalten\n",
    "    #values 0 nimmt den ersten Wert\n",
    "\n",
    "Roman_8\n",
    "#Berechnet mir alle Werte für die neu eingetragenen unmutierten Sequenzen und trägt sie ein.\n",
    "#Roman_8 ist die Version, woran man alles sehen kann.\n",
    "#Alle Mutationen vor AS 4 und nach AS 235 können nicht angezeigt werden, weil sie nie in der Mitte sein können."
   ],
   "metadata": {
    "collapsed": false,
    "ExecuteTime": {
     "end_time": "2023-07-07T15:18:17.805374700Z",
     "start_time": "2023-07-07T15:17:59.338218300Z"
    }
   }
  },
  {
   "cell_type": "code",
   "execution_count": 8,
   "outputs": [
    {
     "name": "stdout",
     "output_type": "stream",
     "text": [
      "Molecular Weight: 901.0\n"
     ]
    }
   ],
   "source": [
    "sequence = \"MSKGEEL\"\n",
    "molecular_weight = sum(ASE_clear[\"Molecular Weight\"].loc[ASE_clear[\"Letter\"] == aa].values[0] for aa in sequence)\n",
    "print(\"Molecular Weight:\", molecular_weight)\n",
    "#Zum Überprüfen der Berechnung"
   ],
   "metadata": {
    "collapsed": false,
    "ExecuteTime": {
     "end_time": "2023-07-07T15:18:43.232566800Z",
     "start_time": "2023-07-07T15:18:43.197167700Z"
    }
   }
  },
  {
   "cell_type": "code",
   "execution_count": 7,
   "outputs": [
    {
     "name": "stdout",
     "output_type": "stream",
     "text": [
      "      mutant                                   mutated_sequence  DMS_score  \\\n",
      "4        K3R  MSRGEELFTGVVPILVELDGDVNGHKFSVSGEGEGDATYGKLTLKF...   3.738586   \n",
      "48       K3Q  MSQGEELFTGVVPILVELDGDVNGHKFSVSGEGEGDATYGKLTLKF...   3.750487   \n",
      "703      K3E  MSEGEELFTGVVPILVELDGDVNGHKFSVSGEGEGDATYGKLTLKF...   3.666278   \n",
      "924      K3M  MSMGEELFTGVVPILVELDGDVNGHKFSVSGEGEGDATYGKLTLKF...   3.698336   \n",
      "1160     K3T  MSTGEELFTGVVPILVELDGDVNGHKFSVSGEGEGDATYGKLTLKF...   3.629775   \n",
      "...      ...                                                ...        ...   \n",
      "51709  Y237N  MSKGEELFTGVVPILVELDGDVNGHKFSVSGEGEGDATYGKLTLKF...   3.809468   \n",
      "51710  Y237C  MSKGEELFTGVVPILVELDGDVNGHKFSVSGEGEGDATYGKLTLKF...   3.760217   \n",
      "51711  Y237D  MSKGEELFTGVVPILVELDGDVNGHKFSVSGEGEGDATYGKLTLKF...   3.754101   \n",
      "51712  Y237F  MSKGEELFTGVVPILVELDGDVNGHKFSVSGEGEGDATYGKLTLKF...   3.673173   \n",
      "51713  Y237H  MSKGEELFTGVVPILVELDGDVNGHKFSVSGEGEGDATYGKLTLKF...   3.735417   \n",
      "\n",
      "       DMS_score_bin  position  \n",
      "4                  1         3  \n",
      "48                 1         3  \n",
      "703                1         3  \n",
      "924                1         3  \n",
      "1160               1         3  \n",
      "...              ...       ...  \n",
      "51709              1       237  \n",
      "51710              1       237  \n",
      "51711              1       237  \n",
      "51712              1       237  \n",
      "51713              1       237  \n",
      "\n",
      "[1084 rows x 5 columns]\n"
     ]
    }
   ],
   "source": [
    "print(single_mutations_df)"
   ],
   "metadata": {
    "collapsed": false,
    "ExecuteTime": {
     "end_time": "2023-07-13T18:46:38.237583500Z",
     "start_time": "2023-07-13T18:46:38.196956300Z"
    }
   }
  },
  {
   "cell_type": "code",
   "execution_count": 9,
   "outputs": [
    {
     "name": "stdout",
     "output_type": "stream",
     "text": [
      "     Mutation Neighbourhood  Molecular Weight  Residue Weight   pKa1   pKb2  \\\n",
      "0         G4S       MSKSEEL            931.02          804.94  15.62  65.40   \n",
      "1         G4S       MSKGEEL            901.00          774.91  15.75  65.85   \n",
      "2         G4D       MSKDEEL            959.04          832.95  15.29  65.85   \n",
      "3         G4D       MSKGEEL            901.00          774.91  15.75  65.85   \n",
      "4         G4A       MSKAEEL            915.03          788.94  15.75  65.94   \n",
      "...       ...           ...               ...             ...    ...    ...   \n",
      "2133    E235D       GMDGLYK            891.02          764.91  15.58  65.67   \n",
      "2134    E235A       GMDALYK            905.05          778.94  15.58  65.76   \n",
      "2135    E235A       GMDGLYK            891.02          764.91  15.58  65.67   \n",
      "2136    E235V       GMDVLYK            933.10          806.99  15.56  65.69   \n",
      "2137    E235V       GMDGLYK            891.02          764.91  15.58  65.67   \n",
      "\n",
      "        pl4     H    VSC    P1     P2    SASA     NCISC  \n",
      "0     39.26 -1.64  440.9  64.7  0.990  12.126  0.269346  \n",
      "1     39.55 -0.98  440.9  64.7  0.990  12.126  0.269346  \n",
      "2     36.35 -2.36  462.3  64.2  1.059  12.320  0.304215  \n",
      "3     39.55 -0.98  462.3  64.2  1.059  12.320  0.304215  \n",
      "4     39.58 -0.84  484.3  63.6  1.105  12.547  0.302940  \n",
      "...     ...   ...    ...   ...    ...     ...       ...  \n",
      "2133  41.83  0.52  415.8  66.7  1.071  11.820  0.382631  \n",
      "2134  41.86  0.66  531.3  62.9  1.361  13.167  0.241131  \n",
      "2135  41.83  0.52  531.3  62.9  1.361  13.167  0.241131  \n",
      "2136  41.82  1.12  520.6  59.1  1.318  12.878  0.269578  \n",
      "2137  41.83  0.52  520.6  59.1  1.318  12.878  0.269578  \n",
      "\n",
      "[2138 rows x 13 columns]\n"
     ]
    }
   ],
   "source": [
    "import pandas as pd\n",
    "\n",
    "# Assuming single_mutations_df and Roman_8 are already defined\n",
    "\n",
    "# Create a new DataFrame Roman_9 as a copy of Roman_8\n",
    "Roman_9 = Roman_8.copy()\n",
    "\n",
    "# Filter out mutations where 'n' in 'XnY' mutation name is 3\n",
    "filtered_mutations = [mutant for mutant in single_mutations_df['mutant'] if not (len(mutant) == 3 and mutant[1] == '3')]\n",
    "\n",
    "# Clone each mutant and write twice consecutively in a new list\n",
    "mutants_cloned = [mutant for mutant in filtered_mutations for _ in range(2)]\n",
    "\n",
    "# Truncate the list of mutants to match the length of the DataFrame\n",
    "mutants_cloned = mutants_cloned[:len(Roman_9)]\n",
    "\n",
    "# Insert the 'Mutation' column left of the 'Neighbourhood' column\n",
    "Roman_9.insert(Roman_9.columns.get_loc('Neighbourhood'), 'Mutation', mutants_cloned)\n",
    "\n",
    "# Print the updated Roman_9 DataFrame\n",
    "print(Roman_9)"
   ],
   "metadata": {
    "collapsed": false,
    "ExecuteTime": {
     "end_time": "2023-07-07T15:18:44.316007800Z",
     "start_time": "2023-07-07T15:18:44.263065600Z"
    }
   }
  },
  {
   "cell_type": "code",
   "execution_count": 10,
   "outputs": [
    {
     "name": "stdout",
     "output_type": "stream",
     "text": [
      "         Mutation Neighbourhood  Molecular Weight  Residue Weight   pKa1  \\\n",
      "0             G4S       MSKSEEL            931.02          804.94  15.62   \n",
      "1       G4S-unmut       MSKGEEL            901.00          774.91  15.75   \n",
      "2             G4D       MSKDEEL            959.04          832.95  15.29   \n",
      "3       G4D-unmut       MSKGEEL            901.00          774.91  15.75   \n",
      "4             G4A       MSKAEEL            915.03          788.94  15.75   \n",
      "...           ...           ...               ...             ...    ...   \n",
      "2133  E235D-unmut       GMDELYK            891.02          764.91  15.58   \n",
      "2134        E235A       GMDALYK            905.05          778.94  15.58   \n",
      "2135  E235A-unmut       GMDELYK            891.02          764.91  15.58   \n",
      "2136        E235V       GMDVLYK            933.10          806.99  15.56   \n",
      "2137  E235V-unmut       GMDELYK            891.02          764.91  15.58   \n",
      "\n",
      "       pKb2    pl4     H    VSC    P1     P2    SASA     NCISC  \n",
      "0     65.40  39.26 -1.64  440.9  64.7  0.990  12.126  0.269346  \n",
      "1     65.85  39.55 -0.98  440.9  64.7  0.990  12.126  0.269346  \n",
      "2     65.85  36.35 -2.36  462.3  64.2  1.059  12.320  0.304215  \n",
      "3     65.85  39.55 -0.98  462.3  64.2  1.059  12.320  0.304215  \n",
      "4     65.94  39.58 -0.84  484.3  63.6  1.105  12.547  0.302940  \n",
      "...     ...    ...   ...    ...   ...    ...     ...       ...  \n",
      "2133  65.67  41.83  0.52  415.8  66.7  1.071  11.820  0.382631  \n",
      "2134  65.76  41.86  0.66  531.3  62.9  1.361  13.167  0.241131  \n",
      "2135  65.67  41.83  0.52  531.3  62.9  1.361  13.167  0.241131  \n",
      "2136  65.69  41.82  1.12  520.6  59.1  1.318  12.878  0.269578  \n",
      "2137  65.67  41.83  0.52  520.6  59.1  1.318  12.878  0.269578  \n",
      "\n",
      "[2138 rows x 13 columns]\n"
     ]
    },
    {
     "data": {
      "text/plain": "         Mutation Neighbourhood  Molecular Weight  Residue Weight   pKa1  \\\n0             G4S       MSKSEEL            931.02          804.94  15.62   \n1       G4S-unmut       MSKGEEL            901.00          774.91  15.75   \n2             G4D       MSKDEEL            959.04          832.95  15.29   \n3       G4D-unmut       MSKGEEL            901.00          774.91  15.75   \n4             G4A       MSKAEEL            915.03          788.94  15.75   \n...           ...           ...               ...             ...    ...   \n2133  E235D-unmut       GMDELYK            891.02          764.91  15.58   \n2134        E235A       GMDALYK            905.05          778.94  15.58   \n2135  E235A-unmut       GMDELYK            891.02          764.91  15.58   \n2136        E235V       GMDVLYK            933.10          806.99  15.56   \n2137  E235V-unmut       GMDELYK            891.02          764.91  15.58   \n\n       pKb2    pl4     H    VSC    P1     P2    SASA     NCISC  \n0     65.40  39.26 -1.64  440.9  64.7  0.990  12.126  0.269346  \n1     65.85  39.55 -0.98  440.9  64.7  0.990  12.126  0.269346  \n2     65.85  36.35 -2.36  462.3  64.2  1.059  12.320  0.304215  \n3     65.85  39.55 -0.98  462.3  64.2  1.059  12.320  0.304215  \n4     65.94  39.58 -0.84  484.3  63.6  1.105  12.547  0.302940  \n...     ...    ...   ...    ...   ...    ...     ...       ...  \n2133  65.67  41.83  0.52  415.8  66.7  1.071  11.820  0.382631  \n2134  65.76  41.86  0.66  531.3  62.9  1.361  13.167  0.241131  \n2135  65.67  41.83  0.52  531.3  62.9  1.361  13.167  0.241131  \n2136  65.69  41.82  1.12  520.6  59.1  1.318  12.878  0.269578  \n2137  65.67  41.83  0.52  520.6  59.1  1.318  12.878  0.269578  \n\n[2138 rows x 13 columns]",
      "text/html": "<div>\n<style scoped>\n    .dataframe tbody tr th:only-of-type {\n        vertical-align: middle;\n    }\n\n    .dataframe tbody tr th {\n        vertical-align: top;\n    }\n\n    .dataframe thead th {\n        text-align: right;\n    }\n</style>\n<table border=\"1\" class=\"dataframe\">\n  <thead>\n    <tr style=\"text-align: right;\">\n      <th></th>\n      <th>Mutation</th>\n      <th>Neighbourhood</th>\n      <th>Molecular Weight</th>\n      <th>Residue Weight</th>\n      <th>pKa1</th>\n      <th>pKb2</th>\n      <th>pl4</th>\n      <th>H</th>\n      <th>VSC</th>\n      <th>P1</th>\n      <th>P2</th>\n      <th>SASA</th>\n      <th>NCISC</th>\n    </tr>\n  </thead>\n  <tbody>\n    <tr>\n      <th>0</th>\n      <td>G4S</td>\n      <td>MSKSEEL</td>\n      <td>931.02</td>\n      <td>804.94</td>\n      <td>15.62</td>\n      <td>65.40</td>\n      <td>39.26</td>\n      <td>-1.64</td>\n      <td>440.9</td>\n      <td>64.7</td>\n      <td>0.990</td>\n      <td>12.126</td>\n      <td>0.269346</td>\n    </tr>\n    <tr>\n      <th>1</th>\n      <td>G4S-unmut</td>\n      <td>MSKGEEL</td>\n      <td>901.00</td>\n      <td>774.91</td>\n      <td>15.75</td>\n      <td>65.85</td>\n      <td>39.55</td>\n      <td>-0.98</td>\n      <td>440.9</td>\n      <td>64.7</td>\n      <td>0.990</td>\n      <td>12.126</td>\n      <td>0.269346</td>\n    </tr>\n    <tr>\n      <th>2</th>\n      <td>G4D</td>\n      <td>MSKDEEL</td>\n      <td>959.04</td>\n      <td>832.95</td>\n      <td>15.29</td>\n      <td>65.85</td>\n      <td>36.35</td>\n      <td>-2.36</td>\n      <td>462.3</td>\n      <td>64.2</td>\n      <td>1.059</td>\n      <td>12.320</td>\n      <td>0.304215</td>\n    </tr>\n    <tr>\n      <th>3</th>\n      <td>G4D-unmut</td>\n      <td>MSKGEEL</td>\n      <td>901.00</td>\n      <td>774.91</td>\n      <td>15.75</td>\n      <td>65.85</td>\n      <td>39.55</td>\n      <td>-0.98</td>\n      <td>462.3</td>\n      <td>64.2</td>\n      <td>1.059</td>\n      <td>12.320</td>\n      <td>0.304215</td>\n    </tr>\n    <tr>\n      <th>4</th>\n      <td>G4A</td>\n      <td>MSKAEEL</td>\n      <td>915.03</td>\n      <td>788.94</td>\n      <td>15.75</td>\n      <td>65.94</td>\n      <td>39.58</td>\n      <td>-0.84</td>\n      <td>484.3</td>\n      <td>63.6</td>\n      <td>1.105</td>\n      <td>12.547</td>\n      <td>0.302940</td>\n    </tr>\n    <tr>\n      <th>...</th>\n      <td>...</td>\n      <td>...</td>\n      <td>...</td>\n      <td>...</td>\n      <td>...</td>\n      <td>...</td>\n      <td>...</td>\n      <td>...</td>\n      <td>...</td>\n      <td>...</td>\n      <td>...</td>\n      <td>...</td>\n      <td>...</td>\n    </tr>\n    <tr>\n      <th>2133</th>\n      <td>E235D-unmut</td>\n      <td>GMDELYK</td>\n      <td>891.02</td>\n      <td>764.91</td>\n      <td>15.58</td>\n      <td>65.67</td>\n      <td>41.83</td>\n      <td>0.52</td>\n      <td>415.8</td>\n      <td>66.7</td>\n      <td>1.071</td>\n      <td>11.820</td>\n      <td>0.382631</td>\n    </tr>\n    <tr>\n      <th>2134</th>\n      <td>E235A</td>\n      <td>GMDALYK</td>\n      <td>905.05</td>\n      <td>778.94</td>\n      <td>15.58</td>\n      <td>65.76</td>\n      <td>41.86</td>\n      <td>0.66</td>\n      <td>531.3</td>\n      <td>62.9</td>\n      <td>1.361</td>\n      <td>13.167</td>\n      <td>0.241131</td>\n    </tr>\n    <tr>\n      <th>2135</th>\n      <td>E235A-unmut</td>\n      <td>GMDELYK</td>\n      <td>891.02</td>\n      <td>764.91</td>\n      <td>15.58</td>\n      <td>65.67</td>\n      <td>41.83</td>\n      <td>0.52</td>\n      <td>531.3</td>\n      <td>62.9</td>\n      <td>1.361</td>\n      <td>13.167</td>\n      <td>0.241131</td>\n    </tr>\n    <tr>\n      <th>2136</th>\n      <td>E235V</td>\n      <td>GMDVLYK</td>\n      <td>933.10</td>\n      <td>806.99</td>\n      <td>15.56</td>\n      <td>65.69</td>\n      <td>41.82</td>\n      <td>1.12</td>\n      <td>520.6</td>\n      <td>59.1</td>\n      <td>1.318</td>\n      <td>12.878</td>\n      <td>0.269578</td>\n    </tr>\n    <tr>\n      <th>2137</th>\n      <td>E235V-unmut</td>\n      <td>GMDELYK</td>\n      <td>891.02</td>\n      <td>764.91</td>\n      <td>15.58</td>\n      <td>65.67</td>\n      <td>41.83</td>\n      <td>0.52</td>\n      <td>520.6</td>\n      <td>59.1</td>\n      <td>1.318</td>\n      <td>12.878</td>\n      <td>0.269578</td>\n    </tr>\n  </tbody>\n</table>\n<p>2138 rows × 13 columns</p>\n</div>"
     },
     "execution_count": 10,
     "metadata": {},
     "output_type": "execute_result"
    }
   ],
   "source": [
    "import pandas as pd\n",
    "\n",
    "# Create a copy of the original DataFrame\n",
    "Roman_10 = Roman_9.copy()\n",
    "\n",
    "# Create a list to store the modified mutation names\n",
    "modified_mutations_name = []\n",
    "modified_neighbourhood = []\n",
    "\n",
    "for index, row in Roman_9.iterrows():\n",
    "    mutation = row['Mutation']\n",
    "    neighbourhood = row['Neighbourhood']\n",
    "\n",
    "    # Extract the X character from the mutation name\n",
    "    X = mutation[0]\n",
    "\n",
    "    # Modify the 4th position of the neighbourhood sequence based on X for odd rows\n",
    "    if index % 2 != 0:\n",
    "        modified_neighbourhood.append(neighbourhood[:3] + X + neighbourhood[4:])\n",
    "    else:\n",
    "        modified_neighbourhood.append(neighbourhood)\n",
    "\n",
    "    # Append '-unmut' to every other mutation name\n",
    "    if index % 2 != 0:\n",
    "        modified_mutations_name.append(mutation + '-unmut')\n",
    "    else:\n",
    "        modified_mutations_name.append(mutation)\n",
    "\n",
    "# Update the 'Mutation' and 'Neighbourhood' columns with the modified values\n",
    "Roman_10['Mutation'] = modified_mutations_name\n",
    "Roman_10['Neighbourhood'] = modified_neighbourhood\n",
    "\n",
    "# Print the updated DataFrame\n",
    "print(Roman_10)\n",
    "Roman_10"
   ],
   "metadata": {
    "collapsed": false,
    "ExecuteTime": {
     "end_time": "2023-07-07T15:19:07.848064Z",
     "start_time": "2023-07-07T15:19:07.682564700Z"
    }
   }
  },
  {
   "cell_type": "code",
   "execution_count": 11,
   "outputs": [
    {
     "data": {
      "text/plain": "         Mutation Neighbourhood  Molecular Weight  Residue Weight   pKa1  \\\n0             G4S       MSKSEEL            931.02          804.94  15.62   \n1       G4S-unmut       MSKGEEL            901.00          774.91  15.75   \n2             G4D       MSKDEEL            959.04          832.95  15.29   \n3       G4D-unmut       MSKGEEL            901.00          774.91  15.75   \n4             G4A       MSKAEEL            915.03          788.94  15.75   \n...           ...           ...               ...             ...    ...   \n2133  E235D-unmut       GMDELYK            963.08          836.98  15.43   \n2134        E235A       GMDALYK            905.05          778.94  15.58   \n2135  E235A-unmut       GMDELYK            963.08          836.98  15.43   \n2136        E235V       GMDVLYK            933.10          806.99  15.56   \n2137  E235V-unmut       GMDELYK            963.08          836.98  15.43   \n\n       pKb2    pl4     H    VSC    P1     P2    SASA     NCISC  \n0     65.40  39.26 -1.64  470.2  64.9  1.052  12.543  0.094921  \n1     65.85  39.55 -0.98  440.9  64.7  0.990  12.126  0.269346  \n2     65.85  36.35 -2.36  480.9  68.7  1.095  12.832  0.066474  \n3     65.85  39.55 -0.98  440.9  64.7  0.990  12.126  0.269346  \n4     65.94  39.58 -0.84  468.4  63.8  1.036  12.426  0.097481  \n...     ...    ...   ...    ...   ...    ...     ...       ...  \n2133  65.74  39.08 -0.70  506.9  62.4  1.180  12.921  0.257696  \n2134  65.76  41.86  0.66  472.4  58.2  1.075  12.240  0.258081  \n2135  65.74  39.08 -0.70  506.9  62.4  1.180  12.921  0.257696  \n2136  65.69  41.82  1.12  516.4  56.0  1.169  12.704  0.307898  \n2137  65.74  39.08 -0.70  506.9  62.4  1.180  12.921  0.257696  \n\n[2138 rows x 13 columns]",
      "text/html": "<div>\n<style scoped>\n    .dataframe tbody tr th:only-of-type {\n        vertical-align: middle;\n    }\n\n    .dataframe tbody tr th {\n        vertical-align: top;\n    }\n\n    .dataframe thead th {\n        text-align: right;\n    }\n</style>\n<table border=\"1\" class=\"dataframe\">\n  <thead>\n    <tr style=\"text-align: right;\">\n      <th></th>\n      <th>Mutation</th>\n      <th>Neighbourhood</th>\n      <th>Molecular Weight</th>\n      <th>Residue Weight</th>\n      <th>pKa1</th>\n      <th>pKb2</th>\n      <th>pl4</th>\n      <th>H</th>\n      <th>VSC</th>\n      <th>P1</th>\n      <th>P2</th>\n      <th>SASA</th>\n      <th>NCISC</th>\n    </tr>\n  </thead>\n  <tbody>\n    <tr>\n      <th>0</th>\n      <td>G4S</td>\n      <td>MSKSEEL</td>\n      <td>931.02</td>\n      <td>804.94</td>\n      <td>15.62</td>\n      <td>65.40</td>\n      <td>39.26</td>\n      <td>-1.64</td>\n      <td>470.2</td>\n      <td>64.9</td>\n      <td>1.052</td>\n      <td>12.543</td>\n      <td>0.094921</td>\n    </tr>\n    <tr>\n      <th>1</th>\n      <td>G4S-unmut</td>\n      <td>MSKGEEL</td>\n      <td>901.00</td>\n      <td>774.91</td>\n      <td>15.75</td>\n      <td>65.85</td>\n      <td>39.55</td>\n      <td>-0.98</td>\n      <td>440.9</td>\n      <td>64.7</td>\n      <td>0.990</td>\n      <td>12.126</td>\n      <td>0.269346</td>\n    </tr>\n    <tr>\n      <th>2</th>\n      <td>G4D</td>\n      <td>MSKDEEL</td>\n      <td>959.04</td>\n      <td>832.95</td>\n      <td>15.29</td>\n      <td>65.85</td>\n      <td>36.35</td>\n      <td>-2.36</td>\n      <td>480.9</td>\n      <td>68.7</td>\n      <td>1.095</td>\n      <td>12.832</td>\n      <td>0.066474</td>\n    </tr>\n    <tr>\n      <th>3</th>\n      <td>G4D-unmut</td>\n      <td>MSKGEEL</td>\n      <td>901.00</td>\n      <td>774.91</td>\n      <td>15.75</td>\n      <td>65.85</td>\n      <td>39.55</td>\n      <td>-0.98</td>\n      <td>440.9</td>\n      <td>64.7</td>\n      <td>0.990</td>\n      <td>12.126</td>\n      <td>0.269346</td>\n    </tr>\n    <tr>\n      <th>4</th>\n      <td>G4A</td>\n      <td>MSKAEEL</td>\n      <td>915.03</td>\n      <td>788.94</td>\n      <td>15.75</td>\n      <td>65.94</td>\n      <td>39.58</td>\n      <td>-0.84</td>\n      <td>468.4</td>\n      <td>63.8</td>\n      <td>1.036</td>\n      <td>12.426</td>\n      <td>0.097481</td>\n    </tr>\n    <tr>\n      <th>...</th>\n      <td>...</td>\n      <td>...</td>\n      <td>...</td>\n      <td>...</td>\n      <td>...</td>\n      <td>...</td>\n      <td>...</td>\n      <td>...</td>\n      <td>...</td>\n      <td>...</td>\n      <td>...</td>\n      <td>...</td>\n      <td>...</td>\n    </tr>\n    <tr>\n      <th>2133</th>\n      <td>E235D-unmut</td>\n      <td>GMDELYK</td>\n      <td>963.08</td>\n      <td>836.98</td>\n      <td>15.43</td>\n      <td>65.74</td>\n      <td>39.08</td>\n      <td>-0.70</td>\n      <td>506.9</td>\n      <td>62.4</td>\n      <td>1.180</td>\n      <td>12.921</td>\n      <td>0.257696</td>\n    </tr>\n    <tr>\n      <th>2134</th>\n      <td>E235A</td>\n      <td>GMDALYK</td>\n      <td>905.05</td>\n      <td>778.94</td>\n      <td>15.58</td>\n      <td>65.76</td>\n      <td>41.86</td>\n      <td>0.66</td>\n      <td>472.4</td>\n      <td>58.2</td>\n      <td>1.075</td>\n      <td>12.240</td>\n      <td>0.258081</td>\n    </tr>\n    <tr>\n      <th>2135</th>\n      <td>E235A-unmut</td>\n      <td>GMDELYK</td>\n      <td>963.08</td>\n      <td>836.98</td>\n      <td>15.43</td>\n      <td>65.74</td>\n      <td>39.08</td>\n      <td>-0.70</td>\n      <td>506.9</td>\n      <td>62.4</td>\n      <td>1.180</td>\n      <td>12.921</td>\n      <td>0.257696</td>\n    </tr>\n    <tr>\n      <th>2136</th>\n      <td>E235V</td>\n      <td>GMDVLYK</td>\n      <td>933.10</td>\n      <td>806.99</td>\n      <td>15.56</td>\n      <td>65.69</td>\n      <td>41.82</td>\n      <td>1.12</td>\n      <td>516.4</td>\n      <td>56.0</td>\n      <td>1.169</td>\n      <td>12.704</td>\n      <td>0.307898</td>\n    </tr>\n    <tr>\n      <th>2137</th>\n      <td>E235V-unmut</td>\n      <td>GMDELYK</td>\n      <td>963.08</td>\n      <td>836.98</td>\n      <td>15.43</td>\n      <td>65.74</td>\n      <td>39.08</td>\n      <td>-0.70</td>\n      <td>506.9</td>\n      <td>62.4</td>\n      <td>1.180</td>\n      <td>12.921</td>\n      <td>0.257696</td>\n    </tr>\n  </tbody>\n</table>\n<p>2138 rows × 13 columns</p>\n</div>"
     },
     "execution_count": 11,
     "metadata": {},
     "output_type": "execute_result"
    }
   ],
   "source": [
    "property_names = [\"Molecular Weight\", \"Residue Weight\", \"pKa1\", \"pKb2\", \"pl4\", \"H\", \"VSC\", \"P1\", \"P2\", \"SASA\", \"NCISC\"]  # List of property names to calculate\n",
    "\n",
    "# Calculate the property values for each row in Roman_7 and update the corresponding columns\n",
    "Roman_11 = Roman_10.copy()  # Create a copy of Roman_7\n",
    "for property_name in property_names:\n",
    "    Roman_11[property_name] = Roman_11[\"Neighbourhood\"].apply(lambda x: sum(ASE_clear[property_name].loc[ASE_clear[\"Letter\"] == aa].values[0] for aa in x))\n",
    "    #lambda definiert schnell eine Funktion ohne es vorher mit \"def\" machen zu müssen. lambda argument: expression\n",
    "       #This function calculates the sum of specific property values for each letter in the \"Neighbourhood\" value.\n",
    "    #loc sucht den richtigen Buchstaben und nimmt davon die Werte der Spalten\n",
    "    #values 0 nimmt den ersten Wert\n",
    "\n",
    "Roman_11\n",
    "#Berechnet mir alle Werte für die neu eingetragenen unmutierten Sequenzen und trägt sie ein. Macht es nochmal, um sicherzugehen\n",
    "#RECHENWERTE STIMMEN!!!!!\n",
    "#Roman_11 ist die Version, woran man alles sehen kann.\n",
    "#Alle Mutationen vor AS 4 und nach AS 235 können nicht angezeigt werden, weil sie nie in der Mitte sein können."
   ],
   "metadata": {
    "collapsed": false,
    "ExecuteTime": {
     "end_time": "2023-07-07T15:20:09.477958300Z",
     "start_time": "2023-07-07T15:19:37.988924500Z"
    }
   }
  },
  {
   "cell_type": "code",
   "execution_count": 12,
   "outputs": [
    {
     "name": "stdout",
     "output_type": "stream",
     "text": [
      "         Mutation Neighbourhood  Molecular Weight  Residue Weight   pKa1  \\\n",
      "1446        V163A       GIKANFK            885.04          758.94  15.25   \n",
      "1447  V163A-unmut       GIKVNFK            913.09          786.99  15.23   \n",
      "\n",
      "       pKb2    pl4     H    VSC    P1     P2    SASA     NCISC  \n",
      "1446  64.72  48.36 -0.11  495.2  61.7  1.094  12.271  0.286230  \n",
      "1447  64.65  48.32  0.35  539.2  59.5  1.188  12.735  0.336047  \n"
     ]
    }
   ],
   "source": [
    "#Roman_11 nach gewünschter Mutation filtern\n",
    "\n",
    "import pandas as pd\n",
    "\n",
    "mutation_name = input(\"Enter the mutation name: \")\n",
    "#öffnet ein kleines Fenster zum Eintippen\n",
    "\n",
    "what_I_see_df = Roman_11[Roman_11['Mutation'].str.contains(mutation_name)]\n",
    "print(what_I_see_df)\n",
    "#Funktioniert, muss nur den Code vorher fixen um richtige Werte zu erzeugen"
   ],
   "metadata": {
    "collapsed": false,
    "ExecuteTime": {
     "end_time": "2023-07-07T15:20:38.616850100Z",
     "start_time": "2023-07-07T15:20:33.783933900Z"
    }
   }
  },
  {
   "cell_type": "code",
   "execution_count": null,
   "outputs": [],
   "source": [],
   "metadata": {
    "collapsed": false
   }
  }
 ],
 "metadata": {
  "kernelspec": {
   "display_name": "Python 3",
   "language": "python",
   "name": "python3"
  },
  "language_info": {
   "codemirror_mode": {
    "name": "ipython",
    "version": 2
   },
   "file_extension": ".py",
   "mimetype": "text/x-python",
   "name": "python",
   "nbconvert_exporter": "python",
   "pygments_lexer": "ipython2",
   "version": "2.7.6"
  }
 },
 "nbformat": 4,
 "nbformat_minor": 0
}
