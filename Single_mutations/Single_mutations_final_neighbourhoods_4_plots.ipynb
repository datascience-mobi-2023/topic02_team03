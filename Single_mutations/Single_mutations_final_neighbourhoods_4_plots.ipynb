{
 "cells": [
  {
   "cell_type": "code",
   "execution_count": 4,
   "metadata": {
    "collapsed": true,
    "ExecuteTime": {
     "end_time": "2023-07-16T20:50:23.231476800Z",
     "start_time": "2023-07-16T20:48:56.701380200Z"
    }
   },
   "outputs": [
    {
     "name": "stderr",
     "output_type": "stream",
     "text": [
      "IOPub data rate exceeded.\n",
      "The notebook server will temporarily stop sending output\n",
      "to the client in order to avoid crashing it.\n",
      "To change this limit, set the config variable\n",
      "`--NotebookApp.iopub_data_rate_limit`.\n",
      "\n",
      "Current values:\n",
      "NotebookApp.iopub_data_rate_limit=1000000.0 (bytes/sec)\n",
      "NotebookApp.rate_limit_window=3.0 (secs)\n",
      "\n"
     ]
    },
    {
     "name": "stdout",
     "output_type": "stream",
     "text": [
      "                                      mutant  \\\n",
      "0      K3R:V55A:Q94R:A110T:D117G:M153K:D216A   \n",
      "1                       K3Q:V16A:I167T:L195Q   \n",
      "2                K3Q:Y143C:N164D:S205P:A227T   \n",
      "3                            K3Q:Y143N:V193A   \n",
      "4                                        K3R   \n",
      "...                                      ...   \n",
      "51709                                  Y237N   \n",
      "51710                                  Y237C   \n",
      "51711                                  Y237D   \n",
      "51712                                  Y237F   \n",
      "51713                                  Y237H   \n",
      "\n",
      "                                        mutated_sequence  DMS_score  \\\n",
      "0      MSRGEELFTGVVPILVELDGDVNGHKFSVSGEGEGDATYGKLTLKF...   1.301030   \n",
      "1      MSQGEELFTGVVPILAELDGDVNGHKFSVSGEGEGDATYGKLTLKF...   3.137350   \n",
      "2      MSQGEELFTGVVPILVELDGDVNGHKFSVSGEGEGDATYGKLTLKF...   1.553913   \n",
      "3      MSQGEELFTGVVPILVELDGDVNGHKFSVSGEGEGDATYGKLTLKF...   3.404237   \n",
      "4      MSRGEELFTGVVPILVELDGDVNGHKFSVSGEGEGDATYGKLTLKF...   3.738586   \n",
      "...                                                  ...        ...   \n",
      "51709  MSKGEELFTGVVPILVELDGDVNGHKFSVSGEGEGDATYGKLTLKF...   3.809468   \n",
      "51710  MSKGEELFTGVVPILVELDGDVNGHKFSVSGEGEGDATYGKLTLKF...   3.760217   \n",
      "51711  MSKGEELFTGVVPILVELDGDVNGHKFSVSGEGEGDATYGKLTLKF...   3.754101   \n",
      "51712  MSKGEELFTGVVPILVELDGDVNGHKFSVSGEGEGDATYGKLTLKF...   3.673173   \n",
      "51713  MSKGEELFTGVVPILVELDGDVNGHKFSVSGEGEGDATYGKLTLKF...   3.735417   \n",
      "\n",
      "       DMS_score_bin  \n",
      "0                  0  \n",
      "1                  1  \n",
      "2                  0  \n",
      "3                  1  \n",
      "4                  1  \n",
      "...              ...  \n",
      "51709              1  \n",
      "51710              1  \n",
      "51711              1  \n",
      "51712              1  \n",
      "51713              1  \n",
      "\n",
      "[51714 rows x 4 columns]\n",
      "Molecular Weight: 901.0\n",
      "        Mutation Neighbourhood  Molecular Weight  Residue Weight   pKa1  \\\n",
      "972        K113R       AEVRFEG            914.97          788.87  15.38   \n",
      "973  K113R-unmut       AEVKFEG            886.96          760.86  15.39   \n",
      "\n",
      "      pKb2    pl4     H    VSC    P1     P2    SASA     NCISC  \n",
      "972  66.42  40.61 -0.64  443.5  63.3  1.069  12.219  0.337986  \n",
      "973  66.33  39.59  0.39  438.5  64.1  0.997  11.917  0.312107  \n"
     ]
    }
   ],
   "source": [
    "%run Single_mutations_final_neighbourhoods_4_code"
   ]
  },
  {
   "cell_type": "code",
   "execution_count": null,
   "outputs": [],
   "source": [],
   "metadata": {
    "collapsed": false
   }
  }
 ],
 "metadata": {
  "kernelspec": {
   "display_name": "Python 3",
   "language": "python",
   "name": "python3"
  },
  "language_info": {
   "codemirror_mode": {
    "name": "ipython",
    "version": 2
   },
   "file_extension": ".py",
   "mimetype": "text/x-python",
   "name": "python",
   "nbconvert_exporter": "python",
   "pygments_lexer": "ipython2",
   "version": "2.7.6"
  }
 },
 "nbformat": 4,
 "nbformat_minor": 0
}
