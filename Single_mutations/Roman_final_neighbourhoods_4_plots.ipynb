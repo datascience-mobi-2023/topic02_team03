{
 "cells": [
  {
   "cell_type": "code",
   "execution_count": 2,
   "metadata": {
    "collapsed": true,
    "ExecuteTime": {
     "end_time": "2023-07-16T11:19:02.455853600Z",
     "start_time": "2023-07-16T11:17:32.068837400Z"
    }
   },
   "outputs": [
    {
     "name": "stderr",
     "output_type": "stream",
     "text": [
      "IOPub data rate exceeded.\n",
      "The notebook server will temporarily stop sending output\n",
      "to the client in order to avoid crashing it.\n",
      "To change this limit, set the config variable\n",
      "`--NotebookApp.iopub_data_rate_limit`.\n",
      "\n",
      "Current values:\n",
      "NotebookApp.iopub_data_rate_limit=1000000.0 (bytes/sec)\n",
      "NotebookApp.rate_limit_window=3.0 (secs)\n",
      "\n"
     ]
    },
    {
     "name": "stdout",
     "output_type": "stream",
     "text": [
      "Molecular Weight: 901.0\n",
      "       Mutation Neighbourhood  \\\n",
      "226        S28T       AGITHGM   \n",
      "227  S28T-unmut       GITSGMD   \n",
      "\n",
      "                                      Molecular Weight  \\\n",
      "226  [793.9100000000001, 667.79, 15.569999999999999...   \n",
      "227  [787.85, 661.74, 15.5, 65.86, 37.75, 1.85, 308...   \n",
      "\n",
      "                                        Residue Weight  \\\n",
      "226  [793.9100000000001, 667.79, 15.569999999999999...   \n",
      "227  [787.85, 661.74, 15.5, 65.86, 37.75, 1.85, 308...   \n",
      "\n",
      "                                                  pKa1  \\\n",
      "226  [793.9100000000001, 667.79, 15.569999999999999...   \n",
      "227  [787.85, 661.74, 15.5, 65.86, 37.75, 1.85, 308...   \n",
      "\n",
      "                                                  pKb2   pKx3  \\\n",
      "226  [793.9100000000001, 667.79, 15.569999999999999...  43.21   \n",
      "227  [787.85, 661.74, 15.5, 65.86, 37.75, 1.85, 308...  39.28   \n",
      "\n",
      "                                                   pl4  \\\n",
      "226  [793.9100000000001, 667.79, 15.569999999999999...   \n",
      "227  [787.85, 661.74, 15.5, 65.86, 37.75, 1.85, 308...   \n",
      "\n",
      "                                                     H  \\\n",
      "226  [793.9100000000001, 667.79, 15.569999999999999...   \n",
      "227  [787.85, 661.74, 15.5, 65.86, 37.75, 1.85, 308...   \n",
      "\n",
      "                                                   VSC  \\\n",
      "226  [793.9100000000001, 667.79, 15.569999999999999...   \n",
      "227  [787.85, 661.74, 15.5, 65.86, 37.75, 1.85, 308...   \n",
      "\n",
      "                                                    P1  \\\n",
      "226  [793.9100000000001, 667.79, 15.569999999999999...   \n",
      "227  [787.85, 661.74, 15.5, 65.86, 37.75, 1.85, 308...   \n",
      "\n",
      "                                                    P2  \\\n",
      "226  [793.9100000000001, 667.79, 15.569999999999999...   \n",
      "227  [787.85, 661.74, 15.5, 65.86, 37.75, 1.85, 308...   \n",
      "\n",
      "                                                  SASA  \\\n",
      "226  [793.9100000000001, 667.79, 15.569999999999999...   \n",
      "227  [787.85, 661.74, 15.5, 65.86, 37.75, 1.85, 308...   \n",
      "\n",
      "                                                 NCISC  \n",
      "226  [793.9100000000001, 667.79, 15.569999999999999...  \n",
      "227  [787.85, 661.74, 15.5, 65.86, 37.75, 1.85, 308...  \n"
     ]
    }
   ],
   "source": [
    "%run Roman_final_neighbourhoods_4_code"
   ]
  },
  {
   "cell_type": "code",
   "execution_count": null,
   "outputs": [],
   "source": [],
   "metadata": {
    "collapsed": false
   }
  }
 ],
 "metadata": {
  "kernelspec": {
   "display_name": "Python 3",
   "language": "python",
   "name": "python3"
  },
  "language_info": {
   "codemirror_mode": {
    "name": "ipython",
    "version": 2
   },
   "file_extension": ".py",
   "mimetype": "text/x-python",
   "name": "python",
   "nbconvert_exporter": "python",
   "pygments_lexer": "ipython2",
   "version": "2.7.6"
  }
 },
 "nbformat": 4,
 "nbformat_minor": 0
}
