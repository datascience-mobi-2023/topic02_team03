{
 "cells": [
  {
   "cell_type": "markdown",
   "source": [
    "Plan:\n",
    "1. Angelas Code in meinen übersetzen\n",
    "2. aus Angelas Code alle möglichen Mutationen rausschreiben, aber nur einmal\n",
    "2. --> Liste mit allen vorkommenden Mutationen\n",
    "3. Funktion schreiben, die für jede dieser (einzeln!) alle Sequenzen raussucht in der diese vorkommt\n",
    "4. --> ein dataframe, mit mutation als spaltenname und allen sequenzen wo es drin vorkommt als Reihen drunter und noch einer Spalte mit mutcount dahinter, pro Mutation werden zwei Spalten an den dataframe angehängt\n",
    "5. (dadurch können Reihen spezifisch nach mutcount angeprochen werden)\n",
    "6. innerhalb einer Mutationsspalte, alle mit dem selben mutcount: fscore vergleich : Varianz der Werte als Maß für impact\n",
    "-> je unwichtiger die Mutation, desto weniger macht sie was beim fscore, desto weniger sollten sich die Werte unterscheiden, desto kleiner sollte die Varianz sein"
   ],
   "metadata": {
    "collapsed": false
   }
  },
  {
   "cell_type": "code",
   "execution_count": 1,
   "outputs": [],
   "source": [
    "import pandas as pd\n",
    "import numpy as np"
   ],
   "metadata": {
    "collapsed": false,
    "ExecuteTime": {
     "end_time": "2023-05-29T20:00:57.236144Z",
     "start_time": "2023-05-29T20:00:56.657349Z"
    }
   }
  },
  {
   "cell_type": "code",
   "execution_count": 86,
   "outputs": [
    {
     "name": "stderr",
     "output_type": "stream",
     "text": [
      "/var/folders/sk/q8h0c3zs1v9dt93y5m134swr0000gn/T/ipykernel_57463/404050330.py:6: FutureWarning: In a future version of pandas all arguments of StringMethods.split except for the argument 'pat' will be keyword-only.\n",
      "  original_dms_data_col[['m1', 'm2', 'm3', 'm4', 'm5', 'm6', 'm7', 'm8', 'm9', 'm10', 'm11', 'm12', 'm13', 'm14', 'm15']] = original_dms_data_col['mutant'].str.split(':', 15, expand=True)\n"
     ]
    },
    {
     "data": {
      "text/plain": "                                  mutant  \\\n0  K3R:V55A:Q94R:A110T:D117G:M153K:D216A   \n1                   K3Q:V16A:I167T:L195Q   \n2            K3Q:Y143C:N164D:S205P:A227T   \n3                        K3Q:Y143N:V193A   \n4                                    K3R   \n\n                                    mutated_sequence  DMS_score  \\\n0  MSRGEELFTGVVPILVELDGDVNGHKFSVSGEGEGDATYGKLTLKF...   1.301030   \n1  MSQGEELFTGVVPILAELDGDVNGHKFSVSGEGEGDATYGKLTLKF...   3.137350   \n2  MSQGEELFTGVVPILVELDGDVNGHKFSVSGEGEGDATYGKLTLKF...   1.553913   \n3  MSQGEELFTGVVPILVELDGDVNGHKFSVSGEGEGDATYGKLTLKF...   3.404237   \n4  MSRGEELFTGVVPILVELDGDVNGHKFSVSGEGEGDATYGKLTLKF...   3.738586   \n\n   DMS_score_bin   m1     m2     m3     m4     m5     m6     m7    m8    m9  \\\n0              0  K3R   V55A   Q94R  A110T  D117G  M153K  D216A  None  None   \n1              1  K3Q   V16A  I167T  L195Q   None   None   None  None  None   \n2              0  K3Q  Y143C  N164D  S205P  A227T   None   None  None  None   \n3              1  K3Q  Y143N  V193A   None   None   None   None  None  None   \n4              1  K3R   None   None   None   None   None   None  None  None   \n\n    m10   m11   m12   m13   m14   m15  \n0  None  None  None  None  None  None  \n1  None  None  None  None  None  None  \n2  None  None  None  None  None  None  \n3  None  None  None  None  None  None  \n4  None  None  None  None  None  None  ",
      "text/html": "<div>\n<style scoped>\n    .dataframe tbody tr th:only-of-type {\n        vertical-align: middle;\n    }\n\n    .dataframe tbody tr th {\n        vertical-align: top;\n    }\n\n    .dataframe thead th {\n        text-align: right;\n    }\n</style>\n<table border=\"1\" class=\"dataframe\">\n  <thead>\n    <tr style=\"text-align: right;\">\n      <th></th>\n      <th>mutant</th>\n      <th>mutated_sequence</th>\n      <th>DMS_score</th>\n      <th>DMS_score_bin</th>\n      <th>m1</th>\n      <th>m2</th>\n      <th>m3</th>\n      <th>m4</th>\n      <th>m5</th>\n      <th>m6</th>\n      <th>m7</th>\n      <th>m8</th>\n      <th>m9</th>\n      <th>m10</th>\n      <th>m11</th>\n      <th>m12</th>\n      <th>m13</th>\n      <th>m14</th>\n      <th>m15</th>\n    </tr>\n  </thead>\n  <tbody>\n    <tr>\n      <th>0</th>\n      <td>K3R:V55A:Q94R:A110T:D117G:M153K:D216A</td>\n      <td>MSRGEELFTGVVPILVELDGDVNGHKFSVSGEGEGDATYGKLTLKF...</td>\n      <td>1.301030</td>\n      <td>0</td>\n      <td>K3R</td>\n      <td>V55A</td>\n      <td>Q94R</td>\n      <td>A110T</td>\n      <td>D117G</td>\n      <td>M153K</td>\n      <td>D216A</td>\n      <td>None</td>\n      <td>None</td>\n      <td>None</td>\n      <td>None</td>\n      <td>None</td>\n      <td>None</td>\n      <td>None</td>\n      <td>None</td>\n    </tr>\n    <tr>\n      <th>1</th>\n      <td>K3Q:V16A:I167T:L195Q</td>\n      <td>MSQGEELFTGVVPILAELDGDVNGHKFSVSGEGEGDATYGKLTLKF...</td>\n      <td>3.137350</td>\n      <td>1</td>\n      <td>K3Q</td>\n      <td>V16A</td>\n      <td>I167T</td>\n      <td>L195Q</td>\n      <td>None</td>\n      <td>None</td>\n      <td>None</td>\n      <td>None</td>\n      <td>None</td>\n      <td>None</td>\n      <td>None</td>\n      <td>None</td>\n      <td>None</td>\n      <td>None</td>\n      <td>None</td>\n    </tr>\n    <tr>\n      <th>2</th>\n      <td>K3Q:Y143C:N164D:S205P:A227T</td>\n      <td>MSQGEELFTGVVPILVELDGDVNGHKFSVSGEGEGDATYGKLTLKF...</td>\n      <td>1.553913</td>\n      <td>0</td>\n      <td>K3Q</td>\n      <td>Y143C</td>\n      <td>N164D</td>\n      <td>S205P</td>\n      <td>A227T</td>\n      <td>None</td>\n      <td>None</td>\n      <td>None</td>\n      <td>None</td>\n      <td>None</td>\n      <td>None</td>\n      <td>None</td>\n      <td>None</td>\n      <td>None</td>\n      <td>None</td>\n    </tr>\n    <tr>\n      <th>3</th>\n      <td>K3Q:Y143N:V193A</td>\n      <td>MSQGEELFTGVVPILVELDGDVNGHKFSVSGEGEGDATYGKLTLKF...</td>\n      <td>3.404237</td>\n      <td>1</td>\n      <td>K3Q</td>\n      <td>Y143N</td>\n      <td>V193A</td>\n      <td>None</td>\n      <td>None</td>\n      <td>None</td>\n      <td>None</td>\n      <td>None</td>\n      <td>None</td>\n      <td>None</td>\n      <td>None</td>\n      <td>None</td>\n      <td>None</td>\n      <td>None</td>\n      <td>None</td>\n    </tr>\n    <tr>\n      <th>4</th>\n      <td>K3R</td>\n      <td>MSRGEELFTGVVPILVELDGDVNGHKFSVSGEGEGDATYGKLTLKF...</td>\n      <td>3.738586</td>\n      <td>1</td>\n      <td>K3R</td>\n      <td>None</td>\n      <td>None</td>\n      <td>None</td>\n      <td>None</td>\n      <td>None</td>\n      <td>None</td>\n      <td>None</td>\n      <td>None</td>\n      <td>None</td>\n      <td>None</td>\n      <td>None</td>\n      <td>None</td>\n      <td>None</td>\n      <td>None</td>\n    </tr>\n  </tbody>\n</table>\n</div>"
     },
     "execution_count": 86,
     "metadata": {},
     "output_type": "execute_result"
    }
   ],
   "source": [
    "# Datensatz einlesen\n",
    "original_dms_data = pd.read_csv('/Users/liza/Desktop/Bioinfo Project/DMS_data/GFP_AEQVI_Sarkisyan_2016.csv')\n",
    "# split first column of df into multiple columns\n",
    "original_dms_data_col = original_dms_data\n",
    "only_mutants = original_dms_data[\"mutant\"].to_frame()\n",
    "original_dms_data_col[['m1', 'm2', 'm3', 'm4', 'm5', 'm6', 'm7', 'm8', 'm9', 'm10', 'm11', 'm12', 'm13', 'm14', 'm15']] = original_dms_data_col['mutant'].str.split(':', 15, expand=True)\n",
    "original_dms_data_col.head()\n"
   ],
   "metadata": {
    "collapsed": false,
    "ExecuteTime": {
     "end_time": "2023-05-30T10:27:56.184480Z",
     "start_time": "2023-05-30T10:27:55.297877Z"
    }
   }
  },
  {
   "cell_type": "code",
   "execution_count": 87,
   "outputs": [],
   "source": [
    "# zählen wieviele Mutationen jede Sequenz hat\n",
    "list_mut_count_in_progress = []\n",
    "for i in range(len(original_dms_data['mutant'])):\n",
    "    list_mut_count_in_progress.append(original_dms_data['mutant'].iloc[i].count(':'))\n",
    "list_mut_count_prae = np.array(list_mut_count_in_progress)\n",
    "list_mut_count = (list_mut_count_prae + 1)\n",
    "df_mutation_counts = pd.DataFrame(list_mut_count)"
   ],
   "metadata": {
    "collapsed": false,
    "ExecuteTime": {
     "end_time": "2023-05-30T10:28:10.913418Z",
     "start_time": "2023-05-30T10:28:10.289263Z"
    }
   }
  },
  {
   "cell_type": "markdown",
   "source": [
    "Dataframe erstellen aus den Spalten: (WORKING_DATAFRAME)\n",
    "- Mutationsanzahl aus df_mutation_counts\n",
    "- fscore aus original_dms_data_col\n",
    "- m1 bis b11 aus original_dms_data_col"
   ],
   "metadata": {
    "collapsed": false
   }
  },
  {
   "cell_type": "code",
   "execution_count": 89,
   "outputs": [
    {
     "data": {
      "text/plain": "   DMS_score   m1     m2     m3     m4     m5     m6     m7    m8    m9   m10  \\\n0   1.301030  K3R   V55A   Q94R  A110T  D117G  M153K  D216A  None  None  None   \n1   3.137350  K3Q   V16A  I167T  L195Q   None   None   None  None  None  None   \n2   1.553913  K3Q  Y143C  N164D  S205P  A227T   None   None  None  None  None   \n3   3.404237  K3Q  Y143N  V193A   None   None   None   None  None  None  None   \n4   3.738586  K3R   None   None   None   None   None   None  None  None  None   \n\n    m11   m12   m13   m14   m15  mut_count  \n0  None  None  None  None  None          7  \n1  None  None  None  None  None          4  \n2  None  None  None  None  None          5  \n3  None  None  None  None  None          3  \n4  None  None  None  None  None          1  ",
      "text/html": "<div>\n<style scoped>\n    .dataframe tbody tr th:only-of-type {\n        vertical-align: middle;\n    }\n\n    .dataframe tbody tr th {\n        vertical-align: top;\n    }\n\n    .dataframe thead th {\n        text-align: right;\n    }\n</style>\n<table border=\"1\" class=\"dataframe\">\n  <thead>\n    <tr style=\"text-align: right;\">\n      <th></th>\n      <th>DMS_score</th>\n      <th>m1</th>\n      <th>m2</th>\n      <th>m3</th>\n      <th>m4</th>\n      <th>m5</th>\n      <th>m6</th>\n      <th>m7</th>\n      <th>m8</th>\n      <th>m9</th>\n      <th>m10</th>\n      <th>m11</th>\n      <th>m12</th>\n      <th>m13</th>\n      <th>m14</th>\n      <th>m15</th>\n      <th>mut_count</th>\n    </tr>\n  </thead>\n  <tbody>\n    <tr>\n      <th>0</th>\n      <td>1.301030</td>\n      <td>K3R</td>\n      <td>V55A</td>\n      <td>Q94R</td>\n      <td>A110T</td>\n      <td>D117G</td>\n      <td>M153K</td>\n      <td>D216A</td>\n      <td>None</td>\n      <td>None</td>\n      <td>None</td>\n      <td>None</td>\n      <td>None</td>\n      <td>None</td>\n      <td>None</td>\n      <td>None</td>\n      <td>7</td>\n    </tr>\n    <tr>\n      <th>1</th>\n      <td>3.137350</td>\n      <td>K3Q</td>\n      <td>V16A</td>\n      <td>I167T</td>\n      <td>L195Q</td>\n      <td>None</td>\n      <td>None</td>\n      <td>None</td>\n      <td>None</td>\n      <td>None</td>\n      <td>None</td>\n      <td>None</td>\n      <td>None</td>\n      <td>None</td>\n      <td>None</td>\n      <td>None</td>\n      <td>4</td>\n    </tr>\n    <tr>\n      <th>2</th>\n      <td>1.553913</td>\n      <td>K3Q</td>\n      <td>Y143C</td>\n      <td>N164D</td>\n      <td>S205P</td>\n      <td>A227T</td>\n      <td>None</td>\n      <td>None</td>\n      <td>None</td>\n      <td>None</td>\n      <td>None</td>\n      <td>None</td>\n      <td>None</td>\n      <td>None</td>\n      <td>None</td>\n      <td>None</td>\n      <td>5</td>\n    </tr>\n    <tr>\n      <th>3</th>\n      <td>3.404237</td>\n      <td>K3Q</td>\n      <td>Y143N</td>\n      <td>V193A</td>\n      <td>None</td>\n      <td>None</td>\n      <td>None</td>\n      <td>None</td>\n      <td>None</td>\n      <td>None</td>\n      <td>None</td>\n      <td>None</td>\n      <td>None</td>\n      <td>None</td>\n      <td>None</td>\n      <td>None</td>\n      <td>3</td>\n    </tr>\n    <tr>\n      <th>4</th>\n      <td>3.738586</td>\n      <td>K3R</td>\n      <td>None</td>\n      <td>None</td>\n      <td>None</td>\n      <td>None</td>\n      <td>None</td>\n      <td>None</td>\n      <td>None</td>\n      <td>None</td>\n      <td>None</td>\n      <td>None</td>\n      <td>None</td>\n      <td>None</td>\n      <td>None</td>\n      <td>None</td>\n      <td>1</td>\n    </tr>\n  </tbody>\n</table>\n</div>"
     },
     "execution_count": 89,
     "metadata": {},
     "output_type": "execute_result"
    }
   ],
   "source": [
    "#zusammenfügen\n",
    "working_dataframe_prae = pd.concat([original_dms_data_col, df_mutation_counts], axis=\"columns\")\n",
    "#alle Spalten löschen die stören\n",
    "working_dataframe = working_dataframe_prae.drop(['mutant', 'mutated_sequence', 'DMS_score_bin'], axis=1)\n",
    "working_dataframe.rename(columns={working_dataframe.columns[16]: 'mut_count'}, inplace=True)\n",
    "working_dataframe.head()"
   ],
   "metadata": {
    "collapsed": false,
    "ExecuteTime": {
     "end_time": "2023-05-30T10:29:07.297296Z",
     "start_time": "2023-05-30T10:29:06.302821Z"
    }
   }
  },
  {
   "cell_type": "code",
   "execution_count": 91,
   "outputs": [
    {
     "data": {
      "text/plain": "          m1     m2     m3     m4     m5     m6     m7    m8    m9   m10  \\\n0        K3R   V55A   Q94R  A110T  D117G  M153K  D216A  None  None  None   \n1        K3Q   V16A  I167T  L195Q   None   None   None  None  None  None   \n2        K3Q  Y143C  N164D  S205P  A227T   None   None  None  None  None   \n3        K3Q  Y143N  V193A   None   None   None   None  None  None  None   \n4        K3R   None   None   None   None   None   None  None  None  None   \n...      ...    ...    ...    ...    ...    ...    ...   ...   ...   ...   \n51709  Y237N   None   None   None   None   None   None  None  None  None   \n51710  Y237C   None   None   None   None   None   None  None  None  None   \n51711  Y237D   None   None   None   None   None   None  None  None  None   \n51712  Y237F   None   None   None   None   None   None  None  None  None   \n51713  Y237H   None   None   None   None   None   None  None  None  None   \n\n        m11   m12   m13   m14   m15  \n0      None  None  None  None  None  \n1      None  None  None  None  None  \n2      None  None  None  None  None  \n3      None  None  None  None  None  \n4      None  None  None  None  None  \n...     ...   ...   ...   ...   ...  \n51709  None  None  None  None  None  \n51710  None  None  None  None  None  \n51711  None  None  None  None  None  \n51712  None  None  None  None  None  \n51713  None  None  None  None  None  \n\n[51714 rows x 15 columns]",
      "text/html": "<div>\n<style scoped>\n    .dataframe tbody tr th:only-of-type {\n        vertical-align: middle;\n    }\n\n    .dataframe tbody tr th {\n        vertical-align: top;\n    }\n\n    .dataframe thead th {\n        text-align: right;\n    }\n</style>\n<table border=\"1\" class=\"dataframe\">\n  <thead>\n    <tr style=\"text-align: right;\">\n      <th></th>\n      <th>m1</th>\n      <th>m2</th>\n      <th>m3</th>\n      <th>m4</th>\n      <th>m5</th>\n      <th>m6</th>\n      <th>m7</th>\n      <th>m8</th>\n      <th>m9</th>\n      <th>m10</th>\n      <th>m11</th>\n      <th>m12</th>\n      <th>m13</th>\n      <th>m14</th>\n      <th>m15</th>\n    </tr>\n  </thead>\n  <tbody>\n    <tr>\n      <th>0</th>\n      <td>K3R</td>\n      <td>V55A</td>\n      <td>Q94R</td>\n      <td>A110T</td>\n      <td>D117G</td>\n      <td>M153K</td>\n      <td>D216A</td>\n      <td>None</td>\n      <td>None</td>\n      <td>None</td>\n      <td>None</td>\n      <td>None</td>\n      <td>None</td>\n      <td>None</td>\n      <td>None</td>\n    </tr>\n    <tr>\n      <th>1</th>\n      <td>K3Q</td>\n      <td>V16A</td>\n      <td>I167T</td>\n      <td>L195Q</td>\n      <td>None</td>\n      <td>None</td>\n      <td>None</td>\n      <td>None</td>\n      <td>None</td>\n      <td>None</td>\n      <td>None</td>\n      <td>None</td>\n      <td>None</td>\n      <td>None</td>\n      <td>None</td>\n    </tr>\n    <tr>\n      <th>2</th>\n      <td>K3Q</td>\n      <td>Y143C</td>\n      <td>N164D</td>\n      <td>S205P</td>\n      <td>A227T</td>\n      <td>None</td>\n      <td>None</td>\n      <td>None</td>\n      <td>None</td>\n      <td>None</td>\n      <td>None</td>\n      <td>None</td>\n      <td>None</td>\n      <td>None</td>\n      <td>None</td>\n    </tr>\n    <tr>\n      <th>3</th>\n      <td>K3Q</td>\n      <td>Y143N</td>\n      <td>V193A</td>\n      <td>None</td>\n      <td>None</td>\n      <td>None</td>\n      <td>None</td>\n      <td>None</td>\n      <td>None</td>\n      <td>None</td>\n      <td>None</td>\n      <td>None</td>\n      <td>None</td>\n      <td>None</td>\n      <td>None</td>\n    </tr>\n    <tr>\n      <th>4</th>\n      <td>K3R</td>\n      <td>None</td>\n      <td>None</td>\n      <td>None</td>\n      <td>None</td>\n      <td>None</td>\n      <td>None</td>\n      <td>None</td>\n      <td>None</td>\n      <td>None</td>\n      <td>None</td>\n      <td>None</td>\n      <td>None</td>\n      <td>None</td>\n      <td>None</td>\n    </tr>\n    <tr>\n      <th>...</th>\n      <td>...</td>\n      <td>...</td>\n      <td>...</td>\n      <td>...</td>\n      <td>...</td>\n      <td>...</td>\n      <td>...</td>\n      <td>...</td>\n      <td>...</td>\n      <td>...</td>\n      <td>...</td>\n      <td>...</td>\n      <td>...</td>\n      <td>...</td>\n      <td>...</td>\n    </tr>\n    <tr>\n      <th>51709</th>\n      <td>Y237N</td>\n      <td>None</td>\n      <td>None</td>\n      <td>None</td>\n      <td>None</td>\n      <td>None</td>\n      <td>None</td>\n      <td>None</td>\n      <td>None</td>\n      <td>None</td>\n      <td>None</td>\n      <td>None</td>\n      <td>None</td>\n      <td>None</td>\n      <td>None</td>\n    </tr>\n    <tr>\n      <th>51710</th>\n      <td>Y237C</td>\n      <td>None</td>\n      <td>None</td>\n      <td>None</td>\n      <td>None</td>\n      <td>None</td>\n      <td>None</td>\n      <td>None</td>\n      <td>None</td>\n      <td>None</td>\n      <td>None</td>\n      <td>None</td>\n      <td>None</td>\n      <td>None</td>\n      <td>None</td>\n    </tr>\n    <tr>\n      <th>51711</th>\n      <td>Y237D</td>\n      <td>None</td>\n      <td>None</td>\n      <td>None</td>\n      <td>None</td>\n      <td>None</td>\n      <td>None</td>\n      <td>None</td>\n      <td>None</td>\n      <td>None</td>\n      <td>None</td>\n      <td>None</td>\n      <td>None</td>\n      <td>None</td>\n      <td>None</td>\n    </tr>\n    <tr>\n      <th>51712</th>\n      <td>Y237F</td>\n      <td>None</td>\n      <td>None</td>\n      <td>None</td>\n      <td>None</td>\n      <td>None</td>\n      <td>None</td>\n      <td>None</td>\n      <td>None</td>\n      <td>None</td>\n      <td>None</td>\n      <td>None</td>\n      <td>None</td>\n      <td>None</td>\n      <td>None</td>\n    </tr>\n    <tr>\n      <th>51713</th>\n      <td>Y237H</td>\n      <td>None</td>\n      <td>None</td>\n      <td>None</td>\n      <td>None</td>\n      <td>None</td>\n      <td>None</td>\n      <td>None</td>\n      <td>None</td>\n      <td>None</td>\n      <td>None</td>\n      <td>None</td>\n      <td>None</td>\n      <td>None</td>\n      <td>None</td>\n    </tr>\n  </tbody>\n</table>\n<p>51714 rows × 15 columns</p>\n</div>"
     },
     "execution_count": 91,
     "metadata": {},
     "output_type": "execute_result"
    }
   ],
   "source": [
    "#alle möglichen Mutationen rausschreiben in den Spalten\n",
    "from pandas import unique\n",
    "working_dataframe_only_ms = working_dataframe.loc[:, [\"m1\", \"m2\", \"m3\", 'm4', 'm5', 'm6', 'm7', 'm8', 'm9', 'm10', 'm11', 'm12', 'm13', 'm14', 'm15']]\n",
    "working_dataframe_only_ms\n"
   ],
   "metadata": {
    "collapsed": false,
    "ExecuteTime": {
     "end_time": "2023-05-30T10:29:55.832097Z",
     "start_time": "2023-05-30T10:29:55.105888Z"
    }
   }
  },
  {
   "cell_type": "markdown",
   "source": [
    "1. alle Werte des DataFrames mit values.flatten() in eine eindimensionale Liste umgewandeln\n",
    "2. tolist() verwendet, um die Liste in eine normale Python-Liste umzuwandeln\n",
    "3.  Liste in ein Set umgewandeln (nur eindeutige Elemente)\n",
    "4. set zurück in Liste"
   ],
   "metadata": {
    "collapsed": false
   }
  },
  {
   "cell_type": "code",
   "execution_count": 92,
   "outputs": [
    {
     "name": "stdout",
     "output_type": "stream",
     "text": [
      "['E32Q', 'P196T', 'E34G', 'D103E', 'T108N', 'K79V', 'N159D', 'M218R', 'G67N', 'G160V', 'Y237N', 'K156L', 'D36A', 'N23T', 'G67D', 'D19Y', 'H77R', 'R73S', 'I229D', 'Y66I', 'G104V', 'P56T', 'M88V', 'L18P', 'D133Y', 'E90K', 'K162W', 'N149C', 'H77Y', 'S175R', 'N149R', 'L60S', 'N146T', 'H25N', 'N121G', 'K41E', 'I171T', 'G40C', 'K131L', 'I47V', 'I167F', 'I161N', 'Q80H', 'Q184W', 'F84S', 'R215H', 'M153S', 'V193G', 'D103G', 'C48F', 'Y39L', 'L137Q', 'L195V', 'V193L', 'Y200H', 'D234T', 'S86P', 'I171F', 'M233V', 'N121T', 'D102A', 'Y182N', 'Y145C', 'K113V', 'I161G', 'F46C', 'F8T', 'E5D', 'M218S', 'K131V', 'P54H', 'Y151V', 'K113E', 'Y145S', 'I152F', 'V93L', 'K26L', 'D234A', 'I128F', 'E17V', 'F114Y', 'E235G', 'G116D', 'N105I', 'D102N', 'I229V', 'Y39C', 'E5A', 'P56H', 'I171S', 'G67R', 'G40S', 'R168C', 'F114P', 'L220M', 'K26T', 'N159R', 'N105F', 'A226G', 'G127A', 'I128P', 'Y92F', 'P187H', 'E17D', 'K214I', 'H25Q', 'L236Q', 'L53S', 'A227P', 'E213G', 'E235Q', 'I152L', 'N23G', 'D129A', 'Y182C', 'F71L', 'A206D', 'D234V', 'N135G', 'D102H', 'M153L', 'E5G', 'H81N', 'T108P', 'T203V', 'Q204E', 'K140E', 'T203A', 'K52D', 'R73Y', 'D82G', 'K113Q', 'G160A', 'F27L', 'R168S', 'N105L', 'K214R', 'V68G', 'H217F', 'E95Q', 'H148D', 'G24D', 'N170G', 'Q157W', 'Y74S', 'K26Q', 'S86A', 'G160R', 'D129H', 'Q69H', 'I98N', 'S65L', 'M88L', 'T43N', 'A206T', 'N212Y', 'K41R', 'P75F', 'Y92D', 'G40D', 'D76E', 'Y143S', 'I229S', 'K85W', 'P192R', 'V112T', 'Q177K', 'Y66F', 'L220Q', 'G51D', 'E213K', 'Y151R', 'E235D', 'K26M', 'K52T', 'G33D', 'I167N', 'N185D', 'A227N', 'D19N', 'P211L', 'K113M', 'L178F', 'V12E', 'H77P', 'H169D', 'D129Y', 'F27S', 'F71Y', 'K214Q', 'G67V', 'L42M', 'N170S', 'G20S', 'T63V', 'D173A', 'K101N', 'Q184Y', 'K140G', 'V22I', 'D155Y', 'N212C', 'S30C', 'I171D', 'K209S', 'G160D', 'E90R', 'G91S', 'E124M', 'N185H', 'T186N', 'Q157L', 'K158S', 'A179S', 'K131E', 'K166V', 'T50S', 'H181C', 'I136S', 'I161V', 'E213Q', 'Y143L', 'F223V', 'L44R', 'L60P', 'F27Y', 'N170C', 'I123A', 'D103Y', 'T118L', 'Q177P', 'L220V', 'G31A', 'I229F', 'Y39H', 'Q157E', 'K45V', 'D197S', 'V55A', 'H169C', 'H81G', 'E222A', 'D155A', 'N146K', 'G228E', 'V12T', 'K41W', 'P54R', 'G91C', 'Q69E', 'Q204R', 'K156W', 'D210G', 'L125Q', 'E95G', 'N170D', 'F100T', 'T38V', 'Q80R', 'P54S', 'F71S', 'E5R', 'N170R', 'H181N', 'M78E', 'D216H', 'L125V', 'M153T', 'N144S', 'N212T', 'N212D', 'K166G', 'F27H', 'S147A', 'N105T', 'R168L', 'D210H', 'E34R', 'H25P', 'P196L', 'N149G', 'L7S', 'N170Y', 'D173V', 'V29E', 'S86T', 'N159A', 'K3M', 'Q69P', 'T230P', 'N198E', 'H169R', 'A110V', 'N212R', 'F100S', 'G40A', 'K3E', 'S30L', 'H81A', 'L64Q', 'Y151L', 'I128A', 'M218V', 'L178P', 'G10A', 'H139N', 'L53M', 'K126T', 'A154T', 'G24R', 'I188M', 'N198H', 'R122P', 'N146I', 'S28D', 'V68R', 'M233E', 'D133H', 'K26V', 'L236R', 'F84H', 'M233T', 'C48Y', 'R122S', 'D21S', 'E95K', 'Y39N', 'G138A', 'F84L', 'L178I', 'K45G', 'V219G', 'A227D', 'F100L', 'I171L', 'K166R', 'H199N', 'K214N', 'V55E', 'I128N', 'R109P', 'A37D', 'M218L', 'N135C', 'F46T', 'L7I', 'Y92R', 'R122C', 'A226T', 'K209I', 'I188Y', 'L221S', 'I123T', 'K156R', 'H77N', 'Q80E', 'L42P', 'D117A', 'V219F', 'I14A', 'V193E', 'E124D', 'E222V', 'A110T', 'T118A', 'F83R', 'N144V', 'K79T', 'K52G', 'F27C', 'V93G', 'N144T', 'K214G', 'L7P', 'F165D', 'F223L', 'D155G', 'H139L', 'A227T', 'D234H', 'F83Y', 'P211F', 'F130S', 'V29T', 'H199R', 'T59S', 'K85T', 'N23I', 'Y39D', 'F71R', 'P187S', 'F114I', 'V22G', 'T63I', 'H231Y', 'G104A', 'P13T', 'W57S', 'G91R', 'N212F', 'K162G', 'I136L', 'D129V', 'N146G', 'P89H', 'G138R', 'K209V', 'D76V', 'E132V', 'N198V', 'N144I', 'H231N', 'R109L', 'R96G', 'S205Y', 'H231D', 'K45N', 'E111D', 'D21E', 'K166N', 'T108A', 'L236V', 'C70G', 'I229A', 'A154V', 'K166Q', 'I229T', 'Q184R', 'I14D', 'G116S', 'Y39W', 'D216V', 'H148F', 'D180N', 'K131Q', 'C70R', 'G232S', 'K26R', 'V16L', 'A227V', 'E132G', 'K158W', 'D190A', 'N164V', 'L220R', 'D76S', 'Q183H', 'N212V', 'K126E', 'N149H', 'V11L', 'G174S', 'Y39E', 'G24C', 'G4V', 'M233G', 'C70F', 'G4N', 'N23C', 'I188V', 'T59P', 'L125T', 'F84C', 'F114H', 'L201H', 'N170I', 'K209Q', 'R109G', 'E235W', 'L141V', 'N144Y', 'L141M', 'C48S', 'N149T', 'E235A', 'K162R', 'D129S', 'F130P', 'H199L', 'G10W', 'Y74G', 'V12K', 'V29L', 'N185T', 'D190G', 'V16T', 'V176A', 'P13L', 'I123S', 'P187T', 'T9F', 'L60H', 'V16A', 'P13S', 'T97N', 'E213T', 'N159V', 'G174D', 'L42W', 'K140M', 'S28G', 'T118K', 'F100R', 'D133A', 'F27I', 'F99I', 'I167C', 'V61L', 'S175C', 'T203S', 'Q204H', 'V12G', 'A154D', 'V219I', 'Y237H', 'K131R', 'G51A', 'G138W', 'A110G', 'I123V', 'H148N', 'E32A', 'N170K', 'N164G', 'P89A', 'V61E', 'K209N', 'W57G', 'D210V', 'T9P', 'G35V', 'G160S', 'S147R', 'Y74P', 'D173Y', 'I167D', 'M88S', 'G134V', 'V93F', 'Y74R', 'M78K', 'I188T', 'S202N', 'K156G', 'K79G', 'K52Q', 'R215P', 'L64R', 'E90D', 'N144A', 'I47N', 'E172K', 'A110S', 'I123D', 'K3T', 'F46L', 'A154P', 'Y151D', 'I98V', 'A179T', 'L64M', 'F84V', 'K140T', 'V150S', 'S205C', 'D190S', 'T230N', 'V112I', 'Y200F', 'T186S', 'Q183K', 'H217Q', 'M78A', 'D197G', 'N198A', 'T38S', 'I229P', 'D82K', 'V150F', 'K101S', 'I98L', 'L42Q', 'L207P', 'N105S', 'N121A', 'H181Y', 'I128S', 'G51C', 'N185V', 'M233A', 'L137M', 'I136A', 'T186I', 'Q69L', 'E213M', 'N135D', 'S147C', 'Y151C', 'D155V', 'H148Q', 'H217N', 'A227S', 'D173N', 'Y237S', 'K26E', 'I152V', 'R168G', 'G134R', 'L7M', 'S28H', 'I161L', 'A154S', 'T118P', 'I136Y', 'K113N', 'F71V', 'V11E', 'E124Q', 'V193M', 'E6Q', 'I161A', 'Y237C', 'D76Y', 'V61A', 'V68M', 'V163E', 'S208N', 'K162M', 'K214M', 'K209M', 'Y66D', 'E222G', 'G40R', 'L207Q', 'E34D', 'Y74N', 'V176E', 'F130Y', 'F165P', 'M233S', 'Y39Q', 'L42S', 'K3R', 'T50A', 'D197Y', 'F46Y', 'E32G', 'I188S', 'N121E', 'D102Y', 'Y182F', 'K126N', 'L44Q', 'I98M', 'G116A', 'L44V', 'T225A', 'Y182H', 'D180S', 'G191S', 'Q157R', 'T59N', 'T43G', 'H81R', 'N212G', 'K85G', 'S175G', 'Y151S', 'H231Q', 'K45W', 'H217L', 'Q94T', 'K162N', 'D19A', 'K158D', 'N146H', 'S202T', 'G189C', 'E34V', 'R73L', 'N164T', 'V219D', 'D82N', 'A206G', 'G67A', 'E5Q', 'F100C', 'P75H', 'P58L', 'S72C', 'F114S', 'P13H', 'I136N', 'K131G', 'N144G', 'S72I', 'Y200C', 'S147T', 'I171H', 'G174C', 'M153I', 'G127R', 'L178R', 'E115Q', 'A227G', 'G67S', 'I98A', 'G67C', 'N185A', 'T49N', 'K101E', 'Y182D', 'Q69K', 'N105G', 'N164D', 'Q157G', 'Y145Q', 'K107V', 'L194R', 'H139R', 'R96P', 'T230S', 'Y145L', 'G104C', 'K140N', 'K166L', 'S65P', 'L236S', 'R122G', 'K45T', 'T38I', 'V16F', 'M78L', 'S30P', 'K113R', 'E17W', 'Y74H', 'K41T', 'G31S', 'S30Y', 'K52E', 'N198K', 'D210N', 'N212S', 'G91D', 'H217Y', 'F8I', 'G104S', 'F8C', 'V163M', 'P196S', 'E95D', 'S65A', 'A37G', 'E124K', 'K85L', 'N164S', 'F46I', 'M218I', 'N105D', 'Y200P', 'E213A', 'D180E', 'A87T', 'N185Y', 'F8V', 'Y200N', 'R168H', 'I14T', 'E95V', 'I98F', 'N23S', 'I14F', 'A87V', 'K158R', 'E111Q', 'K113G', 'V224A', 'N146D', 'D190V', 'Q80V', 'R215C', 'C48G', 'V11T', 'V93A', 'E90A', 'Y92N', 'N121Y', 'N146S', 'G127C', 'N135Y', 'H217D', 'Y200R', 'G116C', 'I188N', 'D102G', 'K107R', 'V16D', 'V61M', 'P56R', 'Y66L', 'K41L', 'I136M', 'A154G', 'N105R', 'H25L', 'L60I', 'Y237F', 'K107S', 'G31C', 'Y74F', 'L18S', 'E115V', 'S28V', 'Q80L', 'Y143R', 'K214E', 'N149D', 'M78S', 'I167L', 'L64P', 'R122L', 'E90G', 'L60T', 'K41M', 'P192T', 'N164F', 'K126V', 'G174A', 'K166E', 'R96L', 'G232R', 'V12A', 'G116V', 'H181L', 'Q183E', 'H148L', 'P192A', 'E142M', 'F223P', 'Q177G', 'D216N', 'V11M', 'V224G', 'K113L', 'F223H', 'D216Y', 'T108I', 'P196A', 'E172G', 'H81L', 'G232C', 'E111K', 'P54T', 'D117H', 'K162T', 'F46V', 'E142K', 'N23V', 'N144H', 'G20D', 'N198T', 'Q94L', 'F99V', 'E132Q', 'K45M', 'D210E', 'K162E', 'I47F', 'R168P', 'N164K', 'E17R', 'K79Y', 'K214A', 'V12L', 'I188D', 'W57Q', 'H77Q', 'P56A', 'D210A', 'G35D', 'I14Y', 'Y143C', 'L44S', 'D234I', 'S175I', 'N170T', 'G174R', 'D210Y', 'V55L', 'F223Y', 'F99P', 'P56F', 'P187R', 'D234Y', 'Y39R', 'D36E', 'N164I', 'T225P', 'T225S', 'Y66C', 'S175D', 'S205T', 'F99L', 'I14M', 'S72D', 'Y145D', 'K45Q', 'H231L', 'Q80P', 'S147N', 'N144K', 'C70W', 'S202V', 'N212I', None, 'G35A', 'G189R', 'Q184K', 'G24N', 'Y143F', 'Y92C', 'K113W', 'A179V', 'K107W', 'L207V', 'E17A', 'D234G', 'H81D', 'Y106G', 'N164C', 'A110P', 'M218T', 'Y66S', 'G138V', 'E6V', 'D82Y', 'L195T', 'D21A', 'K166T', 'F84I', 'M153A', 'N185I', 'G51R', 'S208C', 'Q157H', 'D216K', 'Y143D', 'K41Q', 'K214T', 'L141R', 'P75L', 'H148Y', 'K41N', 'I152S', 'Q157K', 'K166W', 'V29K', 'Y143H', 'D117S', 'K156I', 'F99N', 'L18R', 'E5K', 'K158E', 'L44M', 'L7Q', 'D173E', 'K79Q', 'H148R', 'Y39T', 'A37T', 'M88K', 'F71C', 'S202I', 'A206P', 'K45R', 'E235N', 'R73P', 'G228R', 'L137R', 'F71I', 'K101R', 'K79N', 'D82E', 'T186A', 'D103S', 'K107E', 'F8L', 'F114V', 'K209R', 'H181R', 'Q184P', 'G232V', 'I123N', 'V16I', 'Q94H', 'Q177E', 'K107G', 'T43P', 'P89S', 'Y145H', 'T38N', 'R73H', 'Q183R', 'E115K', 'I171N', 'A87G', 'E34A', 'E17K', 'T9S', 'M153V', 'H181P', 'F165Y', 'T230A', 'I47S', 'L221R', 'G134C', 'T118I', 'E142D', 'S30A', 'S86F', 'D234C', 'D180H', 'N135V', 'E124A', 'H81Q', 'D76G', 'V29Q', 'K214W', 'P89L', 'E34Q', 'D21N', 'V163L', 'N198G', 'G31R', 'R109C', 'G189D', 'D216G', 'D133V', 'F223S', 'K85V', 'V224M', 'E6D', 'M88T', 'Q80W', 'L201R', 'Q177R', 'H169N', 'D190N', 'P13A', 'D36H', 'K166I', 'D103A', 'K107A', 'K140V', 'N170F', 'K131M', 'V219A', 'E115R', 'T62I', 'D173H', 'T49F', 'F165I', 'K131N', 'T225N', 'T62N', 'Y106R', 'N185K', 'T203I', 'D36N', 'N159Y', 'K85Q', 'T230V', 'L195R', 'V150A', 'K107N', 'D117E', 'D173S', 'S65T', 'V22E', 'T59A', 'F165T', 'A87S', 'P192S', 'G91A', 'L60R', 'S28C', 'W57C', 'K26G', 'L207R', 'K126R', 'E132R', 'S205A', 'P196H', 'K52M', 'K166D', 'M78G', 'I229G', 'K101W', 'V68L', 'G127D', 'S147G', 'E213V', 'E235L', 'D82V', 'M88Q', 'E90Q', 'Y200D', 'K79R', 'V219L', 'D102V', 'S208I', 'M218A', 'C70Y', 'P196R', 'F165H', 'E5V', 'L141Q', 'L221P', 'K162S', 'V93I', 'L7R', 'D197V', 'F83L', 'L18M', 'L201M', 'T49P', 'E6K', 'S208G', 'E6R', 'I229N', 'N198S', 'S28N', 'L141P', 'P75T', 'N135I', 'S30F', 'F223C', 'F84D', 'V11G', 'N149V', 'T9A', 'P13R', 'L53P', 'I167A', 'G127V', 'Y145G', 'F46S', 'Y74C', 'V176L', 'D155H', 'F83S', 'F46P', 'K156V', 'G4D', 'P54A', 'G51V', 'E32K', 'D180Y', 'M233P', 'L201V', 'L195Q', 'T63N', 'D155N', 'K140L', 'F100I', 'N159H', 'R96C', 'L194S', 'L195A', 'R96H', 'F165S', 'Y182L', 'D190E', 'K166S', 'A179D', 'S72R', 'N146V', 'I98S', 'N135K', 'G174Y', 'M78V', 'E111V', 'T63A', 'Q157P', 'M218E', 'H77C', 'C70H', 'D76H', 'N185C', 'E222R', 'D155S', 'G191V', 'D19G', 'L201Q', 'S175N', 'N135H', 'L195P', 'N121I', 'H139P', 'K26N', 'V224L', 'D216E', 'N121H', 'V29G', 'K85E', 'L221M', 'K166M', 'D21Y', 'V150I', 'E172A', 'P211T', 'F99C', 'Y200S', 'V93T', 'M78T', 'N23D', 'T230I', 'K158Q', 'K158G', 'H81Y', 'I171A', 'N185S', 'H77L', 'L53Q', 'N149S', 'G191D', 'V163G', 'E172D', 'D216A', 'T43V', 'F83V', 'I171V', 'N121V', 'K52N', 'F114C', 'A37S', 'G10E', 'E213D', 'N135S', 'K156E', 'Y145N', 'L53V', 'Y106H', 'N159I', 'T43C', 'A226S', 'A87D', 'T108S', 'P192H', 'F8S', 'G116R', 'F71P', 'A37V', 'E34T', 'A179P', 'M218K', 'P75R', 'V16G', 'T63D', 'G35C', 'V61I', 'E142A', 'L15V', 'V224K', 'D190H', 'I188L', 'D133N', 'P211A', 'N159T', 'P192L', 'I152T', 'P211H', 'Y74L', 'H169P', 'P54L', 'A110D', 'Q69R', 'V224T', 'K41G', 'E17M', 'N164A', 'Y92S', 'G228W', 'R109S', 'D180A', 'E17Q', 'E111N', 'I123F', 'A226V', 'K101T', 'G232D', 'H231R', 'Y182R', 'C48W', 'N105Y', 'G33C', 'I128T', 'E111A', 'E172V', 'G20V', 'E124G', 'V55G', 'V68K', 'K209G', 'G189S', 'K156Q', 'E172Q', 'I123M', 'M233I', 'L18Q', 'G33V', 'L60V', 'S175T', 'G4S', 'Y145F', 'N121K', 'S72N', 'Y182G', 'F71D', 'D197N', 'E32V', 'Q184L', 'V22L', 'K107M', 'V68T', 'V193A', 'I152M', 'Y237D', 'Q177H', 'I152G', 'N121D', 'I136F', 'R215S', 'K158N', 'P89R', 'E142R', 'K209D', 'L194P', 'G40V', 'K156T', 'N159G', 'I167V', 'N185P', 'V55K', 'L137P', 'S205F', 'F165L', 'V61G', 'Y143N', 'D36V', 'F130T', 'N198D', 'E34K', 'G33R', 'E235V', 'K52R', 'I14V', 'D234S', 'D129G', 'I98T', 'N121R', 'N135A', 'V150G', 'K107T', 'I167S', 'N146Y', 'H199P', 'L60F', 'Y66N', 'P56L', 'V176M', 'H181Q', 'G138E', 'K126Q', 'F223T', 'H25Y', 'D19H', 'G10R', 'D180G', 'I128D', 'L137V', 'L15Q', 'I161T', 'V55M', 'P187L', 'K126G', 'P58H', 'D21G', 'L44P', 'K113A', 'M88R', 'F27P', 'H139Q', 'K158V', 'T49A', 'D82H', 'H81P', 'H217C', 'Q184E', 'R109H', 'Y151F', 'D103V', 'G174V', 'E115G', 'D102E', 'I136T', 'N105H', 'F8H', 'V12M', 'L7V', 'K52A', 'S28R', 'L195M', 'K140Q', 'N23F', 'T97A', 'K41A', 'P211R', 'V11K', 'D180V', 'N23H', 'N164H', 'M233L', 'G24A', 'D129N', 'D129E', 'F83P', 'E124V', 'G10V', 'T38P', 'I161F', 'V68E', 'F100P', 'Q204L', 'V112G', 'K126M', 'I167M', 'P75A', 'C70S', 'L207M', 'V29A', 'F84P', 'F83C', 'N149K', 'H199D', 'V112M', 'I167T', 'H199Y', 'D173G', 'H169S', 'G20A', 'T63P', 'Y151N', 'T118R', 'K140W', 'I47M', 'N105V', 'E222Q', 'S202R', 'S208T', 'T97P', 'D76A', 'F99T', 'L221V', 'L125A', 'Y143I', 'L125R', 'L236M', 'E17G', 'R215L', 'E95R', 'E124R', 'L236P', 'V112S', 'H148P', 'D103H', 'H169Y', 'H25D', 'L15R', 'M153R', 'G191R', 'M78R', 'D133E', 'D117Y', 'L195K', 'T230F', 'D36Y', 'V11A', 'I229L', 'A179G', 'A226I', 'P58R', 'G91V', 'Y106C', 'G134S', 'P58A', 'G4A', 'S72G', 'D19R', 'L15P', 'I188A', 'F100V', 'M233K', 'I136V', 'F100N', 'A206V', 'D19V', 'T203N', 'S86Y', 'D19E', 'F130V', 'E32D', 'D197F', 'V193T', 'K101Q', 'R122H', 'Y39S', 'T43A', 'L137T', 'S202G', 'K140R', 'H217R', 'T62S', 'F8P', 'E132K', 'L18V', 'F100H', 'K85M', 'Q184H', 'M218Q', 'K158T', 'Y106F', 'K85R', 'K162Q', 'D117V', 'K209T', 'E235R', 'E6G', 'L64T', 'M88E', 'K214L', 'S30T', 'Y106L', 'G35S', 'N121S', 'F83I', 'H77D', 'S208R', 'I14N', 'N198Y', 'Y200L', 'H139D', 'Y151H', 'P56S', 'T50N', 'H231P', 'C48R', 'T62A', 'I128V', 'G127S', 'F8N', 'D76N', 'Q204P', 'G191C', 'M153E', 'K162V', 'S205P', 'L125M', 'A226P', 'K131T', 'T43S', 'F223I', 'K209E', 'L53R', 'T63S', 'N164Y', 'K3N', 'M78I', 'K113T', 'F130I', 'M88I', 'T59I', 'Y145R', 'G104R', 'G31D', 'N105K', 'L221Q', 'N23Y', 'G134D', 'Q94K', 'Y106D', 'H81C', 'N105C', 'F165C', 'G191A', 'G24V', 'L60A', 'N121L', 'L194V', 'H169L', 'V29M', 'T9I', 'G189A', 'H25R', 'D234N', 'T186F', 'T62P', 'I47A', 'I171M', 'E95A', 'N164R', 'N185R', 'H169Q', 'V150D', 'Y66H', 'M233R', 'F130C', 'K156M', 'S147I', 'N135T', 'N185G', 'G33A', 'T97I', 'T186P', 'W57R', 'P89T', 'S147D', 'K156N', 'K79E', 'I161S', 'G20R', 'V68A', 'N146A', 'R73C', 'T43I', 'Q204K', 'E115A', 'T50I', 'D190Y', 'H181D', 'V150L', 'D117G', 'V193K', 'G134A', 'S202D', 'Y106S', 'S72T', 'R96S', 'Y74D', 'E132A', 'V93Y', 'E90V', 'I123L', 'F130L', 'G31V', 'G228V', 'D180I', 'G20C', 'K101M', 'F27V', 'S28T', 'V22A', 'N149Y', 'F99Y', 'E115D', 'T203P', 'I152A', 'N198F', 'D133G', 'S147Y', 'M153K', 'D36K', 'L194Q', 'L42V', 'L64V', 'H199Q', 'I128M', 'D155E', 'I47T', 'N159K', 'T49S', 'E17L', 'D103N', 'D234E', 'K52S', 'L201P', 'F84Y', 'L42R', 'S86C', 'V112L', 'V150T', 'Y39F', 'K101I', 'D21V', 'A226D', 'G33S', 'K52V', 'W57L', 'V163K', 'D197E', 'I229Y', 'K107Q', 'G24S', 'N212H', 'I188F', 'N159S', 'G160C', 'I152N', 'F46H', 'G35R', 'K79M', 'Y182S', 'E132D', 'H139Y', 'E111G', 'A206S', 'Q183P', 'E142V', 'V224E', 'I229M', 'A87P', 'T97S', 'Y106N', 'I14L', 'T50P', 'E235K', 'D82A', 'Y92H', 'N198I', 'K85N', 'L178V', 'K79W', 'E222D', 'M88A', 'P58S', 'L125P', 'E222K', 'P58T', 'T225I', 'K52L', 'V163A', 'E17T', 'V112A', 'L44T', 'S202C', 'L178H', 'G189V', 'I14S', 'R215G', 'N23K', 'L220P', 'F83H', 'F130R', 'G51S', 'D36G', 'A37P', 'Q94P', 'K3Q', 'F100Y', 'F165V', 'I47L', 'N149I', 'S208V', 'Q94R', 'F99S', 'Q80K', 'I152D', 'N144E', 'S28I', 'D197A', 'K158M', 'T118S', 'Q183L', 'N121C', 'P211S', 'N170H', 'K101L', 'K101G', 'V176G', 'P187A', 'V112E', 'D117N', 'I128Y', 'Q177L', 'T38A', 'E32R', 'G228A', 'E142Q', 'T49I', 'G104D', 'H217P', 'K45E', 'V93D', 'P75S', 'G232A', 'E32M', 'E6A', 'D21H', 'N144D', 'L15M', 'F8Y', 'I128L', 'F114L', 'N212K', 'R73G', 'T9N', 'L194M', 'G4C', 'E142G']\n"
     ]
    }
   ],
   "source": [
    "all_possible_mutations = working_dataframe_only_ms.values.flatten().tolist()\n",
    "all_possible_mutations = list(set(all_possible_mutations))\n",
    "print(all_possible_mutations)\n",
    "\n",
    "# 1884 mögliche Mutationen in dem Datenset"
   ],
   "metadata": {
    "collapsed": false,
    "ExecuteTime": {
     "end_time": "2023-05-30T10:30:05.361869Z",
     "start_time": "2023-05-30T10:30:05.284307Z"
    }
   }
  },
  {
   "cell_type": "code",
   "execution_count": null,
   "outputs": [],
   "source": [
    "# funktion schreiben, die zu jeder dieser Mutationen alle Sequenzen raussucht in der diese Mut vorkommt\n",
    "#-> Frage: für jede einzeln ein dataset oder für alle eins?\n",
    "how_often_df = pd.DataFrame()\n",
    "for i in all_possible_mutations:\n",
    "    for j in range(len(all_possible_mutations)):\n",
    "        how_often_df.assign(m = (only_mutants.iloc[j].str.contains(i)))\n",
    "print(how_often_df)\n"
   ],
   "metadata": {
    "collapsed": false,
    "is_executing": true,
    "ExecuteTime": {
     "start_time": "2023-05-30T10:30:35.178814Z"
    }
   }
  },
  {
   "cell_type": "markdown",
   "source": [
    "test: aus dem dataframe mit den mutantennamen raussuchen, ob in einer bestimmten Zeile die bestimmte Mutation vorkommt"
   ],
   "metadata": {
    "collapsed": false
   }
  },
  {
   "cell_type": "code",
   "execution_count": 77,
   "outputs": [
    {
     "data": {
      "text/plain": "mutant    True\nName: 3, dtype: bool"
     },
     "execution_count": 77,
     "metadata": {},
     "output_type": "execute_result"
    }
   ],
   "source": [
    "only_mutants.iloc[3].str.contains(\"V193A\")"
   ],
   "metadata": {
    "collapsed": false,
    "ExecuteTime": {
     "end_time": "2023-05-30T09:54:54.242676Z",
     "start_time": "2023-05-30T09:54:52.084219Z"
    }
   }
  },
  {
   "cell_type": "code",
   "execution_count": 75,
   "outputs": [
    {
     "data": {
      "text/plain": "pandas.core.frame.DataFrame"
     },
     "execution_count": 75,
     "metadata": {},
     "output_type": "execute_result"
    }
   ],
   "source": [
    "how_often_df.assign(i = working_dataframe_only_ms.apply(lambda x: x.str.contains(i), axis=1))"
   ],
   "metadata": {
    "collapsed": false,
    "ExecuteTime": {
     "end_time": "2023-05-30T09:54:14.588721Z",
     "start_time": "2023-05-30T09:54:14.252232Z"
    }
   }
  }
 ],
 "metadata": {
  "kernelspec": {
   "display_name": "Python 3",
   "language": "python",
   "name": "python3"
  },
  "language_info": {
   "codemirror_mode": {
    "name": "ipython",
    "version": 2
   },
   "file_extension": ".py",
   "mimetype": "text/x-python",
   "name": "python",
   "nbconvert_exporter": "python",
   "pygments_lexer": "ipython2",
   "version": "2.7.6"
  }
 },
 "nbformat": 4,
 "nbformat_minor": 0
}
