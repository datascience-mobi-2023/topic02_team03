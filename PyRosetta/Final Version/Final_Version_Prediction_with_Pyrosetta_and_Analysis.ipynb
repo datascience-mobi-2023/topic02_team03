{
 "cells": [
  {
   "cell_type": "markdown",
   "source": [
    "### ddG Prediciton and analysis\n",
    "\n",
    "Free energy of unfolding (dG = ΔG): Change in Gibbs free energy going from the folded to the unfolded state; this parameter belongs to the thermodynamic stability.\n",
    "\n",
    "In this Jupyter Notebook, ΔG values are predicted for the wild type and all single mutations, and the differences between the ΔG values of the wild type and the mutated sequences are calculated. The results are saved as a .csv file. Analyses are then performed including a correlation analysis."
   ],
   "metadata": {
    "collapsed": false
   }
  },
  {
   "cell_type": "code",
   "execution_count": 12,
   "outputs": [
    {
     "name": "stdout",
     "output_type": "stream",
     "text": [
      "PyRosetta-4 2023 [Rosetta PyRosetta4.conda.linux.cxx11thread.serialization.CentOS.python310.Release 2023.27+release.e3ce6ea9faf661ae8fa769511e2a9b8596417e58 2023-07-07T12:00:46] retrieved from: http://www.pyrosetta.org\n",
      "(C) Copyright Rosetta Commons Member Institutions. Created in JHU by Sergey Lyskov and PyRosetta Team.\n",
      "core.init: Checking for fconfig files in pwd and ./rosetta/flags\n",
      "core.init: Rosetta version: PyRosetta4.conda.linux.cxx11thread.serialization.CentOS.python310.Release r353 2023.27+release.e3ce6ea e3ce6ea9faf661ae8fa769511e2a9b8596417e58 http://www.pyrosetta.org 2023-07-07T12:00:46\n",
      "core.init: command: PyRosetta -ex1 -ex2aro -database /home/rebeccalinux/miniconda3/lib/python3.10/site-packages/pyrosetta/database\n",
      "basic.random.init_random_generator: 'RNG device' seed mode, using '/dev/urandom', seed=-387171822 seed_offset=0 real_seed=-387171822 thread_index=0\n",
      "basic.random.init_random_generator: RandomGenerator:init: Normal mode, seed=-387171822 RG_type=mt19937\n"
     ]
    }
   ],
   "source": [
    "import pandas as pd\n",
    "import numpy as np\n",
    "import matplotlib.pyplot as plt\n",
    "import matplotlib.ticker as ticker\n",
    "import seaborn as sns\n",
    "from scipy.stats import spearmanr\n",
    "from scipy.stats import ranksums\n",
    "\n",
    "import pyrosetta; pyrosetta.init()\n",
    "import pyrosetta\n",
    "from Bio.PDB import PDBParser, PDBIO\n",
    "import pandas as pd\n",
    "import os\n",
    "from pyrosetta.rosetta.protocols.minimization_packing import MinMover\n",
    "from pyrosetta.rosetta.core.kinematics import MoveMap\n",
    "from pyrosetta.rosetta.protocols.relax import FastRelax"
   ],
   "metadata": {
    "collapsed": false,
    "ExecuteTime": {
     "end_time": "2023-07-17T07:17:52.864815100Z",
     "start_time": "2023-07-17T07:17:52.798959700Z"
    }
   }
  },
  {
   "cell_type": "code",
   "execution_count": 3,
   "outputs": [
    {
     "name": "stdout",
     "output_type": "stream",
     "text": [
      "      mutant                                   mutated_sequence  DMS_score  \\\n",
      "4        K3R  MSRGEELFTGVVPILVELDGDVNGHKFSVSGEGEGDATYGKLTLKF...   3.738586   \n",
      "48       K3Q  MSQGEELFTGVVPILVELDGDVNGHKFSVSGEGEGDATYGKLTLKF...   3.750487   \n",
      "703      K3E  MSEGEELFTGVVPILVELDGDVNGHKFSVSGEGEGDATYGKLTLKF...   3.666278   \n",
      "924      K3M  MSMGEELFTGVVPILVELDGDVNGHKFSVSGEGEGDATYGKLTLKF...   3.698336   \n",
      "1160     K3T  MSTGEELFTGVVPILVELDGDVNGHKFSVSGEGEGDATYGKLTLKF...   3.629775   \n",
      "...      ...                                                ...        ...   \n",
      "51709  Y237N  MSKGEELFTGVVPILVELDGDVNGHKFSVSGEGEGDATYGKLTLKF...   3.809468   \n",
      "51710  Y237C  MSKGEELFTGVVPILVELDGDVNGHKFSVSGEGEGDATYGKLTLKF...   3.760217   \n",
      "51711  Y237D  MSKGEELFTGVVPILVELDGDVNGHKFSVSGEGEGDATYGKLTLKF...   3.754101   \n",
      "51712  Y237F  MSKGEELFTGVVPILVELDGDVNGHKFSVSGEGEGDATYGKLTLKF...   3.673173   \n",
      "51713  Y237H  MSKGEELFTGVVPILVELDGDVNGHKFSVSGEGEGDATYGKLTLKF...   3.735417   \n",
      "\n",
      "       DMS_score_bin old AA Position new AA  \n",
      "4                  1      K        3      R  \n",
      "48                 1      K        3      Q  \n",
      "703                1      K        3      E  \n",
      "924                1      K        3      M  \n",
      "1160               1      K        3      T  \n",
      "...              ...    ...      ...    ...  \n",
      "51709              1      Y      237      N  \n",
      "51710              1      Y      237      C  \n",
      "51711              1      Y      237      D  \n",
      "51712              1      Y      237      F  \n",
      "51713              1      Y      237      H  \n",
      "\n",
      "[1084 rows x 7 columns]\n"
     ]
    }
   ],
   "source": [
    "#reload the datafame and create new columns (old AA, position and new AA)\n",
    "df_GFP_unaltered = pd.read_csv('/mnt/c/Users/uni.rebecca.ress/Documents/rebecca.ress/Universität Heidelberg/4. Fachsemester/4. Fachsemester/Bioinformatik Projekt Niopek/Daten/GFP_AEQVI_Sarkisyan_2016.csv')\n",
    "\n",
    "df_GFP_single = df_GFP_unaltered[~df_GFP_unaltered['mutant'].str.contains(':')]\n",
    "df_GFP_single_split = df_GFP_single.copy()\n",
    "df_GFP_single_split[['old AA', 'Position', 'new AA']] = df_GFP_single['mutant'].str.extract(r'(\\w)(\\d+)(\\w)')\n",
    "\n",
    "print(df_GFP_single_split)"
   ],
   "metadata": {
    "collapsed": false,
    "ExecuteTime": {
     "end_time": "2023-07-17T07:13:18.881750200Z",
     "start_time": "2023-07-17T07:13:18.175664800Z"
    }
   }
  },
  {
   "cell_type": "code",
   "execution_count": 73,
   "outputs": [
    {
     "name": "stdout",
     "output_type": "stream",
     "text": [
      "PyRosetta-4 2023 [Rosetta PyRosetta4.conda.linux.cxx11thread.serialization.CentOS.python310.Release 2023.27+release.e3ce6ea9faf661ae8fa769511e2a9b8596417e58 2023-07-07T12:00:46] retrieved from: http://www.pyrosetta.org\n",
      "(C) Copyright Rosetta Commons Member Institutions. Created in JHU by Sergey Lyskov and PyRosetta Team.\n",
      "core.init: Checking for fconfig files in pwd and ./rosetta/flags\n",
      "core.init: Rosetta version: PyRosetta4.conda.linux.cxx11thread.serialization.CentOS.python310.Release r353 2023.27+release.e3ce6ea e3ce6ea9faf661ae8fa769511e2a9b8596417e58 http://www.pyrosetta.org 2023-07-07T12:00:46\n",
      "core.init: command: PyRosetta -ex1 -ex2aro -database /home/rebeccalinux/miniconda3/lib/python3.10/site-packages/pyrosetta/database\n",
      "basic.random.init_random_generator: 'RNG device' seed mode, using '/dev/urandom', seed=-360185444 seed_offset=0 real_seed=-360185444 thread_index=0\n",
      "basic.random.init_random_generator: RandomGenerator:init: Normal mode, seed=-360185444 RG_type=mt19937\n",
      "core.import_pose.import_pose: File 'temp.pdb' automatically determined to be of type PDB\n",
      "core.scoring.ScoreFunctionFactory: SCOREFUNCTION: ref2015\n",
      "core.scoring.ScoreFunctionFactory: SCOREFUNCTION: ref2015\n",
      "protocols.relax.FastRelax: CMD: repeat  -463.755  0  0  0.55\n",
      "protocols.relax.FastRelax: CMD: coord_cst_weight  -463.755  0  0  0.55\n",
      "protocols.relax.FastRelax: CMD: scale:fa_rep  -620.323  0  0  0.022\n",
      "core.pack.task: Packer task: initialize from command line()\n",
      "core.pack.pack_rotamers: built 7188 rotamers at 238 positions.\n",
      "core.pack.pack_rotamers: Requesting all available threads for interaction graph computation.\n",
      "core.pack.interaction_graph.interaction_graph_factory: Instantiating DensePDInteractionGraph\n",
      "core.pack.rotamer_set.RotamerSets: Completed interaction graph pre-calculation in 1 available threads (1 had been requested).\n",
      "protocols.relax.FastRelax: CMD: repack  -772.898  0  0  0.022\n",
      "protocols.relax.FastRelax: CMD: scale:fa_rep  -767.29  0  0  0.02805\n",
      "protocols.relax.FastRelax: CMD: min  -1099.24  1.26106  1.26106  0.02805\n",
      "protocols.relax.FastRelax: CMD: coord_cst_weight  -1099.24  1.26106  1.26106  0.02805\n",
      "protocols.relax.FastRelax: CMD: scale:fa_rep  -681.686  1.26106  1.26106  0.14575\n",
      "core.pack.task: Packer task: initialize from command line()\n",
      "core.pack.pack_rotamers: built 7749 rotamers at 238 positions.\n",
      "core.pack.pack_rotamers: Requesting all available threads for interaction graph computation.\n",
      "core.pack.interaction_graph.interaction_graph_factory: Instantiating DensePDInteractionGraph\n",
      "core.pack.rotamer_set.RotamerSets: Completed interaction graph pre-calculation in 1 available threads (1 had been requested).\n",
      "protocols.relax.FastRelax: CMD: repack  -708.677  1.26106  1.26106  0.14575\n",
      "protocols.relax.FastRelax: CMD: scale:fa_rep  -682.927  1.26106  1.26106  0.154\n",
      "protocols.relax.FastRelax: CMD: min  -941.501  0.761685  0.761685  0.154\n",
      "protocols.relax.FastRelax: CMD: coord_cst_weight  -941.501  0.761685  0.761685  0.154\n",
      "protocols.relax.FastRelax: CMD: scale:fa_rep  -824.127  0.761685  0.761685  0.30745\n",
      "core.pack.task: Packer task: initialize from command line()\n",
      "core.pack.pack_rotamers: built 6202 rotamers at 238 positions.\n",
      "core.pack.pack_rotamers: Requesting all available threads for interaction graph computation.\n",
      "core.pack.interaction_graph.interaction_graph_factory: Instantiating DensePDInteractionGraph\n",
      "core.pack.rotamer_set.RotamerSets: Completed interaction graph pre-calculation in 1 available threads (1 had been requested).\n",
      "protocols.relax.FastRelax: CMD: repack  -825.494  0.761685  0.761685  0.30745\n",
      "protocols.relax.FastRelax: CMD: scale:fa_rep  -816.478  0.761685  0.761685  0.31955\n",
      "protocols.relax.FastRelax: CMD: min  -851.495  0.611986  0.611986  0.31955\n",
      "protocols.relax.FastRelax: CMD: coord_cst_weight  -851.495  0.611986  0.611986  0.31955\n",
      "protocols.relax.FastRelax: CMD: scale:fa_rep  -751.666  0.611986  0.611986  0.55\n",
      "core.pack.task: Packer task: initialize from command line()\n",
      "core.pack.pack_rotamers: built 5851 rotamers at 238 positions.\n",
      "core.pack.pack_rotamers: Requesting all available threads for interaction graph computation.\n",
      "core.pack.interaction_graph.interaction_graph_factory: Instantiating DensePDInteractionGraph\n",
      "core.pack.rotamer_set.RotamerSets: Completed interaction graph pre-calculation in 1 available threads (1 had been requested).\n",
      "protocols.relax.FastRelax: CMD: repack  -752.093  0.611986  0.611986  0.55\n",
      "protocols.relax.FastRelax: CMD: min  -783.895  0.580882  0.580882  0.55\n",
      "protocols.relax.FastRelax: MRP: 0  -783.895  -783.895  0.580882  0.580882\n",
      "protocols.relax.FastRelax: CMD: accept_to_best  -783.895  0.580882  0.580882  0.55\n",
      "protocols.relax.FastRelax: CMD: endrepeat  -783.895  0.580882  0.580882  0.55\n",
      "protocols.relax.FastRelax: CMD: coord_cst_weight  -783.895  0.580882  0.580882  0.55\n",
      "protocols.relax.FastRelax: CMD: scale:fa_rep  -927.859  0.580882  0.580882  0.022\n",
      "core.pack.task: Packer task: initialize from command line()\n",
      "core.pack.pack_rotamers: built 6840 rotamers at 238 positions.\n",
      "core.pack.pack_rotamers: Requesting all available threads for interaction graph computation.\n",
      "core.pack.interaction_graph.interaction_graph_factory: Instantiating DensePDInteractionGraph\n",
      "core.pack.rotamer_set.RotamerSets: Completed interaction graph pre-calculation in 1 available threads (1 had been requested).\n",
      "protocols.relax.FastRelax: CMD: repack  -938.806  0.580882  0.580882  0.022\n",
      "protocols.relax.FastRelax: CMD: scale:fa_rep  -935.606  0.580882  0.580882  0.02805\n",
      "protocols.relax.FastRelax: CMD: min  -1141.61  1.50252  1.50252  0.02805\n",
      "protocols.relax.FastRelax: CMD: coord_cst_weight  -1141.61  1.50252  1.50252  0.02805\n",
      "protocols.relax.FastRelax: CMD: scale:fa_rep  -710.511  1.50252  1.50252  0.14575\n",
      "core.pack.task: Packer task: initialize from command line()\n",
      "core.pack.pack_rotamers: built 7688 rotamers at 238 positions.\n",
      "core.pack.pack_rotamers: Requesting all available threads for interaction graph computation.\n",
      "core.pack.interaction_graph.interaction_graph_factory: Instantiating DensePDInteractionGraph\n",
      "core.pack.rotamer_set.RotamerSets: Completed interaction graph pre-calculation in 1 available threads (1 had been requested).\n",
      "protocols.relax.FastRelax: CMD: repack  -730.668  1.50252  1.50252  0.14575\n",
      "protocols.relax.FastRelax: CMD: scale:fa_rep  -703.659  1.50252  1.50252  0.154\n",
      "protocols.relax.FastRelax: CMD: min  -948.353  1.0332  1.0332  0.154\n",
      "protocols.relax.FastRelax: CMD: coord_cst_weight  -948.353  1.0332  1.0332  0.154\n",
      "protocols.relax.FastRelax: CMD: scale:fa_rep  -823.146  1.0332  1.0332  0.30745\n",
      "core.pack.task: Packer task: initialize from command line()\n",
      "core.pack.pack_rotamers: built 6427 rotamers at 238 positions.\n",
      "core.pack.pack_rotamers: Requesting all available threads for interaction graph computation.\n",
      "core.pack.interaction_graph.interaction_graph_factory: Instantiating DensePDInteractionGraph\n",
      "core.pack.rotamer_set.RotamerSets: Completed interaction graph pre-calculation in 1 available threads (1 had been requested).\n",
      "protocols.relax.FastRelax: CMD: repack  -824.3  1.0332  1.0332  0.30745\n",
      "protocols.relax.FastRelax: CMD: scale:fa_rep  -814.582  1.0332  1.0332  0.31955\n",
      "protocols.relax.FastRelax: CMD: min  -850.563  0.877318  0.877318  0.31955\n",
      "protocols.relax.FastRelax: CMD: coord_cst_weight  -850.563  0.877318  0.877318  0.31955\n",
      "protocols.relax.FastRelax: CMD: scale:fa_rep  -744.275  0.877318  0.877318  0.55\n",
      "core.pack.task: Packer task: initialize from command line()\n",
      "core.pack.pack_rotamers: built 6022 rotamers at 238 positions.\n",
      "core.pack.pack_rotamers: Requesting all available threads for interaction graph computation.\n",
      "core.pack.interaction_graph.interaction_graph_factory: Instantiating DensePDInteractionGraph\n",
      "core.pack.rotamer_set.RotamerSets: Completed interaction graph pre-calculation in 1 available threads (1 had been requested).\n",
      "protocols.relax.FastRelax: CMD: repack  -744.148  0.877318  0.877318  0.55\n",
      "protocols.relax.FastRelax: CMD: min  -782.486  0.695357  0.695357  0.55\n",
      "protocols.relax.FastRelax: MRP: 1  -782.486  -783.895  0.580882  0.580882\n",
      "protocols.relax.FastRelax: CMD: accept_to_best  -782.486  0.695357  0.695357  0.55\n",
      "protocols.relax.FastRelax: CMD: endrepeat  -782.486  0.695357  0.695357  0.55\n",
      "protocols.relax.FastRelax: CMD: coord_cst_weight  -782.486  0.695357  0.695357  0.55\n",
      "protocols.relax.FastRelax: CMD: scale:fa_rep  -929.839  0.695357  0.695357  0.022\n",
      "core.pack.task: Packer task: initialize from command line()\n",
      "core.pack.pack_rotamers: built 6951 rotamers at 238 positions.\n",
      "core.pack.pack_rotamers: Requesting all available threads for interaction graph computation.\n",
      "core.pack.interaction_graph.interaction_graph_factory: Instantiating DensePDInteractionGraph\n",
      "core.pack.rotamer_set.RotamerSets: Completed interaction graph pre-calculation in 1 available threads (1 had been requested).\n",
      "protocols.relax.FastRelax: CMD: repack  -943.789  0.695357  0.695357  0.022\n",
      "protocols.relax.FastRelax: CMD: scale:fa_rep  -939.969  0.695357  0.695357  0.02805\n",
      "protocols.relax.FastRelax: CMD: min  -1145.58  1.40021  1.40021  0.02805\n",
      "protocols.relax.FastRelax: CMD: coord_cst_weight  -1145.58  1.40021  1.40021  0.02805\n",
      "protocols.relax.FastRelax: CMD: scale:fa_rep  -717.445  1.40021  1.40021  0.14575\n",
      "core.pack.task: Packer task: initialize from command line()\n",
      "core.pack.pack_rotamers: built 7635 rotamers at 238 positions.\n",
      "core.pack.pack_rotamers: Requesting all available threads for interaction graph computation.\n",
      "core.pack.interaction_graph.interaction_graph_factory: Instantiating DensePDInteractionGraph\n",
      "core.pack.rotamer_set.RotamerSets: Completed interaction graph pre-calculation in 1 available threads (1 had been requested).\n",
      "protocols.relax.FastRelax: CMD: repack  -738.713  1.40021  1.40021  0.14575\n",
      "protocols.relax.FastRelax: CMD: scale:fa_rep  -712.206  1.40021  1.40021  0.154\n",
      "protocols.relax.FastRelax: CMD: min  -951.312  0.942502  0.942502  0.154\n",
      "protocols.relax.FastRelax: CMD: coord_cst_weight  -951.312  0.942502  0.942502  0.154\n",
      "protocols.relax.FastRelax: CMD: scale:fa_rep  -827.067  0.942502  0.942502  0.30745\n",
      "core.pack.task: Packer task: initialize from command line()\n",
      "core.pack.pack_rotamers: built 6639 rotamers at 238 positions.\n",
      "core.pack.pack_rotamers: Requesting all available threads for interaction graph computation.\n",
      "core.pack.interaction_graph.interaction_graph_factory: Instantiating DensePDInteractionGraph\n",
      "core.pack.rotamer_set.RotamerSets: Completed interaction graph pre-calculation in 1 available threads (1 had been requested).\n",
      "protocols.relax.FastRelax: CMD: repack  -827.702  0.942502  0.942502  0.30745\n",
      "protocols.relax.FastRelax: CMD: scale:fa_rep  -818.034  0.942502  0.942502  0.31955\n",
      "protocols.relax.FastRelax: CMD: min  -852.165  0.778214  0.778214  0.31955\n",
      "protocols.relax.FastRelax: CMD: coord_cst_weight  -852.165  0.778214  0.778214  0.31955\n",
      "protocols.relax.FastRelax: CMD: scale:fa_rep  -745.763  0.778214  0.778214  0.55\n",
      "core.pack.task: Packer task: initialize from command line()\n",
      "core.pack.pack_rotamers: built 6108 rotamers at 238 positions.\n",
      "core.pack.pack_rotamers: Requesting all available threads for interaction graph computation.\n",
      "core.pack.interaction_graph.interaction_graph_factory: Instantiating DensePDInteractionGraph\n",
      "core.pack.rotamer_set.RotamerSets: Completed interaction graph pre-calculation in 1 available threads (1 had been requested).\n",
      "protocols.relax.FastRelax: CMD: repack  -745.912  0.778214  0.778214  0.55\n",
      "protocols.relax.FastRelax: CMD: min  -781.372  0.691608  0.691608  0.55\n",
      "protocols.relax.FastRelax: MRP: 2  -781.372  -783.895  0.580882  0.580882\n",
      "protocols.relax.FastRelax: CMD: accept_to_best  -781.372  0.691608  0.691608  0.55\n",
      "protocols.relax.FastRelax: CMD: endrepeat  -781.372  0.691608  0.691608  0.55\n",
      "protocols.relax.FastRelax: CMD: coord_cst_weight  -781.372  0.691608  0.691608  0.55\n",
      "protocols.relax.FastRelax: CMD: scale:fa_rep  -929.886  0.691608  0.691608  0.022\n",
      "core.pack.task: Packer task: initialize from command line()\n",
      "core.pack.pack_rotamers: built 6993 rotamers at 238 positions.\n",
      "core.pack.pack_rotamers: Requesting all available threads for interaction graph computation.\n",
      "core.pack.interaction_graph.interaction_graph_factory: Instantiating DensePDInteractionGraph\n",
      "core.pack.rotamer_set.RotamerSets: Completed interaction graph pre-calculation in 1 available threads (1 had been requested).\n",
      "protocols.relax.FastRelax: CMD: repack  -945.22  0.691608  0.691608  0.022\n",
      "protocols.relax.FastRelax: CMD: scale:fa_rep  -941.036  0.691608  0.691608  0.02805\n",
      "protocols.relax.FastRelax: CMD: min  -1140.08  1.37895  1.37895  0.02805\n",
      "protocols.relax.FastRelax: CMD: coord_cst_weight  -1140.08  1.37895  1.37895  0.02805\n",
      "protocols.relax.FastRelax: CMD: scale:fa_rep  -715.357  1.37895  1.37895  0.14575\n",
      "core.pack.task: Packer task: initialize from command line()\n",
      "core.pack.pack_rotamers: built 7715 rotamers at 238 positions.\n",
      "core.pack.pack_rotamers: Requesting all available threads for interaction graph computation.\n",
      "core.pack.interaction_graph.interaction_graph_factory: Instantiating DensePDInteractionGraph\n",
      "core.pack.rotamer_set.RotamerSets: Completed interaction graph pre-calculation in 1 available threads (1 had been requested).\n",
      "protocols.relax.FastRelax: CMD: repack  -741.087  1.37895  1.37895  0.14575\n",
      "protocols.relax.FastRelax: CMD: scale:fa_rep  -714.553  1.37895  1.37895  0.154\n",
      "protocols.relax.FastRelax: CMD: min  -949.909  0.916537  0.916537  0.154\n",
      "protocols.relax.FastRelax: CMD: coord_cst_weight  -949.909  0.916537  0.916537  0.154\n",
      "protocols.relax.FastRelax: CMD: scale:fa_rep  -825.951  0.916537  0.916537  0.30745\n",
      "core.pack.task: Packer task: initialize from command line()\n",
      "core.pack.pack_rotamers: built 6549 rotamers at 238 positions.\n",
      "core.pack.pack_rotamers: Requesting all available threads for interaction graph computation.\n",
      "core.pack.interaction_graph.interaction_graph_factory: Instantiating DensePDInteractionGraph\n",
      "core.pack.rotamer_set.RotamerSets: Completed interaction graph pre-calculation in 1 available threads (1 had been requested).\n",
      "protocols.relax.FastRelax: CMD: repack  -826.817  0.916537  0.916537  0.30745\n",
      "protocols.relax.FastRelax: CMD: scale:fa_rep  -817.171  0.916537  0.916537  0.31955\n",
      "protocols.relax.FastRelax: CMD: min  -853.021  0.761037  0.761037  0.31955\n",
      "protocols.relax.FastRelax: CMD: coord_cst_weight  -853.021  0.761037  0.761037  0.31955\n",
      "protocols.relax.FastRelax: CMD: scale:fa_rep  -747.579  0.761037  0.761037  0.55\n",
      "core.pack.task: Packer task: initialize from command line()\n",
      "core.pack.pack_rotamers: built 6061 rotamers at 238 positions.\n",
      "core.pack.pack_rotamers: Requesting all available threads for interaction graph computation.\n",
      "core.pack.interaction_graph.interaction_graph_factory: Instantiating DensePDInteractionGraph\n",
      "core.pack.rotamer_set.RotamerSets: Completed interaction graph pre-calculation in 1 available threads (1 had been requested).\n",
      "protocols.relax.FastRelax: CMD: repack  -747.806  0.761037  0.761037  0.55\n",
      "protocols.relax.FastRelax: CMD: min  -781.799  0.688336  0.688336  0.55\n",
      "protocols.relax.FastRelax: MRP: 3  -781.799  -783.895  0.580882  0.580882\n",
      "protocols.relax.FastRelax: CMD: accept_to_best  -781.799  0.688336  0.688336  0.55\n",
      "protocols.relax.FastRelax: CMD: endrepeat  -781.799  0.688336  0.688336  0.55\n",
      "protocols.relax.FastRelax: CMD: coord_cst_weight  -781.799  0.688336  0.688336  0.55\n",
      "protocols.relax.FastRelax: CMD: scale:fa_rep  -930.034  0.688336  0.688336  0.022\n",
      "core.pack.task: Packer task: initialize from command line()\n",
      "core.pack.pack_rotamers: built 6960 rotamers at 238 positions.\n",
      "core.pack.pack_rotamers: Requesting all available threads for interaction graph computation.\n",
      "core.pack.interaction_graph.interaction_graph_factory: Instantiating DensePDInteractionGraph\n",
      "core.pack.rotamer_set.RotamerSets: Completed interaction graph pre-calculation in 1 available threads (1 had been requested).\n",
      "protocols.relax.FastRelax: CMD: repack  -945.068  0.688336  0.688336  0.022\n",
      "protocols.relax.FastRelax: CMD: scale:fa_rep  -941.036  0.688336  0.688336  0.02805\n",
      "protocols.relax.FastRelax: CMD: min  -1145.4  1.3668  1.3668  0.02805\n",
      "protocols.relax.FastRelax: CMD: coord_cst_weight  -1145.4  1.3668  1.3668  0.02805\n",
      "protocols.relax.FastRelax: CMD: scale:fa_rep  -719.222  1.3668  1.3668  0.14575\n",
      "core.pack.task: Packer task: initialize from command line()\n",
      "core.pack.pack_rotamers: built 7810 rotamers at 238 positions.\n",
      "core.pack.pack_rotamers: Requesting all available threads for interaction graph computation.\n",
      "core.pack.interaction_graph.interaction_graph_factory: Instantiating DensePDInteractionGraph\n",
      "core.pack.rotamer_set.RotamerSets: Completed interaction graph pre-calculation in 1 available threads (1 had been requested).\n",
      "protocols.relax.FastRelax: CMD: repack  -740.936  1.3668  1.3668  0.14575\n",
      "protocols.relax.FastRelax: CMD: scale:fa_rep  -714.418  1.3668  1.3668  0.154\n",
      "protocols.relax.FastRelax: CMD: min  -952.168  0.923097  0.923097  0.154\n",
      "protocols.relax.FastRelax: CMD: coord_cst_weight  -952.168  0.923097  0.923097  0.154\n",
      "protocols.relax.FastRelax: CMD: scale:fa_rep  -826.62  0.923097  0.923097  0.30745\n",
      "core.pack.task: Packer task: initialize from command line()\n",
      "core.pack.pack_rotamers: built 6553 rotamers at 238 positions.\n",
      "core.pack.pack_rotamers: Requesting all available threads for interaction graph computation.\n",
      "core.pack.interaction_graph.interaction_graph_factory: Instantiating DensePDInteractionGraph\n",
      "core.pack.rotamer_set.RotamerSets: Completed interaction graph pre-calculation in 1 available threads (1 had been requested).\n",
      "protocols.relax.FastRelax: CMD: repack  -827.151  0.923097  0.923097  0.30745\n",
      "protocols.relax.FastRelax: CMD: scale:fa_rep  -817.355  0.923097  0.923097  0.31955\n",
      "protocols.relax.FastRelax: CMD: min  -850.957  0.761927  0.761927  0.31955\n",
      "protocols.relax.FastRelax: CMD: coord_cst_weight  -850.957  0.761927  0.761927  0.31955\n",
      "protocols.relax.FastRelax: CMD: scale:fa_rep  -740.724  0.761927  0.761927  0.55\n",
      "core.pack.task: Packer task: initialize from command line()\n",
      "core.pack.pack_rotamers: built 6102 rotamers at 238 positions.\n",
      "core.pack.pack_rotamers: Requesting all available threads for interaction graph computation.\n",
      "core.pack.interaction_graph.interaction_graph_factory: Instantiating DensePDInteractionGraph\n",
      "core.pack.rotamer_set.RotamerSets: Completed interaction graph pre-calculation in 1 available threads (1 had been requested).\n",
      "protocols.relax.FastRelax: CMD: repack  -740.878  0.761927  0.761927  0.55\n",
      "protocols.relax.FastRelax: CMD: min  -782.751  0.688912  0.688912  0.55\n",
      "protocols.relax.FastRelax: MRP: 4  -782.751  -783.895  0.580882  0.580882\n",
      "protocols.relax.FastRelax: CMD: accept_to_best  -782.751  0.688912  0.688912  0.55\n",
      "protocols.relax.FastRelax: CMD: endrepeat  -782.751  0.688912  0.688912  0.55\n",
      "protocols::checkpoint: Deleting checkpoints of FastRelax\n"
     ]
    }
   ],
   "source": [
    "# Set up PyRosetta\n",
    "pyrosetta.init()\n",
    "\n",
    "# Pfad zur PDB-Datei\n",
    "pdb_file = '/mnt/c/Users/uni.rebecca.ress/Documents/rebecca.ress/Universität Heidelberg/4. Fachsemester/4. Fachsemester/Bioinformatik Projekt Niopek/Daten/WT_avGFP.pdb'\n",
    "\n",
    "# Create a PDB parser object\n",
    "parser = PDBParser()\n",
    "\n",
    "# Open the Biopython PDB object\n",
    "biopython_structure = parser.get_structure('protein', pdb_file)\n",
    "\n",
    "# Create a temporary PDB file\n",
    "temp_pdb_file = 'temp.pdb'\n",
    "\n",
    "# Create a PDBIO object\n",
    "pdbio = PDBIO()\n",
    "\n",
    "# Save the PDB file\n",
    "pdbio.set_structure(biopython_structure)\n",
    "pdbio.save(temp_pdb_file)\n",
    "\n",
    "# Load the protein structure using PyRosetta\n",
    "pose = pyrosetta.pose_from_pdb(temp_pdb_file)\n",
    "\n",
    "# Create a ScoreFunction object\n",
    "scorefxnDDG = pyrosetta.get_fa_scorefxn()\n",
    "\n",
    "# Relax the structure using FastRelax\n",
    "relax = FastRelax()\n",
    "relax.set_scorefxn(scorefxnDDG)\n",
    "relax.apply(pose)\n",
    "s0 = scorefxnDDG(pose)\n",
    "\n",
    "# Create a list for the results\n",
    "results = []\n",
    "\n",
    "# Load the wildtype sequence from the pose\n",
    "wildtype_sequence = pose.sequence()\n",
    "\n",
    "#Load the DataFrame with the mutations\n",
    "df = pd.DataFrame({\n",
    "    'mutant': df_GFP_single_split['mutant'],\n",
    "    'mutated_sequence': df_GFP_single_split['mutated_sequence'],\n",
    "    'old_aa': df_GFP_single_split['old AA'],\n",
    "    'position': df_GFP_single_split['Position'],\n",
    "    'new_aa': df_GFP_single_split['new AA'],\n",
    "    'DMS score': df_GFP_single_split['DMS_score']\n",
    "})\n",
    "\n",
    "# Convert the value in the \"position\" column to an integer\n",
    "df['position'] = df['position'].astype(int)\n",
    "\n",
    "# Create a list for the results\n",
    "results = []\n",
    "\n",
    "# Calculate the ΔG value for each mutation\n",
    "for index, row in df.iterrows():\n",
    "    # Check if the position is valid in the sequence\n",
    "    if row['position'] <= pose.total_residue():\n",
    "        # Copy the wildtype pose for each mutation\n",
    "        mutated_sequence = wildtype_sequence\n",
    "        mutated_pose = pose.clone()\n",
    "\n",
    "        # Perform the mutation\n",
    "        position = row['position'] - 1  # Convert to 0-based index\n",
    "        mutated_sequence = mutated_sequence[:position] + row['new_aa'] + mutated_sequence[position+1:]\n",
    "\n",
    "        # Perform energy minimization using MinMover\n",
    "        min_mover = MinMover()\n",
    "        mm = MoveMap()\n",
    "\n",
    "        # Set all residues as movable\n",
    "        for residue in range(1, mutated_pose.total_residue() + 1):\n",
    "            mm.set_bb(residue, True)\n",
    "            mm.set_chi(residue, True)\n",
    "\n",
    "        min_mover.movemap(mm)\n",
    "        min_mover.score_function(scorefxnDDG)\n",
    "        min_mover.tolerance(0.01)\n",
    "\n",
    "        # Perform energy minimization with a reduced number of steps\n",
    "        num_steps = 3  # Adjust the number of minimization steps\n",
    "        for step in range(num_steps):\n",
    "            min_mover.apply(mutated_pose)\n",
    "\n",
    "        # Perform Monte Carlo sampling\n",
    "        monte_carlo = pyrosetta.rosetta.protocols.moves.MonteCarlo(scorefxnDDG, 1.0)\n",
    "        monte_carlo.set_temperature(0.0)\n",
    "        pose_copy = mutated_pose.clone()\n",
    "        monte_carlo.boltzmann(pose_copy)\n",
    "\n",
    "        # Calculate the ΔG value for the mutation\n",
    "        mutant_energy = scorefxnDDG(mutated_pose)\n",
    "        ddG = s0 - mutant_energy\n",
    "\n",
    "        # Add the result to the list\n",
    "        result = {\n",
    "            'mutation': f\"{row['old_aa']}{row['position']}{row['new_aa']}\",\n",
    "            'ΔG value': mutant_energy,\n",
    "            'DMS score': row['DMS score'],\n",
    "            'old AA': row['old_aa'],\n",
    "            'Position': row['position'],\n",
    "            'new AA': row['new_aa'],\n",
    "            'ΔΔG': ddG\n",
    "        }\n",
    "        results.append(result)\n",
    "\n",
    "# Create a DataFrame from the results list\n",
    "results_df = pd.DataFrame(results)\n",
    "\n",
    "# Define the path to the CSV file\n",
    "csv_file_path = '/mnt/c/Users/uni.rebecca.ress/Documents/rebecca.ress/Universität Heidelberg/4. Fachsemester/4. Fachsemester/Bioinformatik Projekt Niopek/Daten/reb09_df_dG_ddG1.csv'\n",
    "\n",
    "# Save the DataFrame as a CSV file\n",
    "results_df.to_csv(csv_file_path, index=False)"
   ],
   "metadata": {
    "collapsed": false,
    "ExecuteTime": {
     "end_time": "2023-07-17T16:43:16.696366Z",
     "start_time": "2023-07-17T16:13:48.568855900Z"
    }
   }
  },
  {
   "cell_type": "code",
   "execution_count": 45,
   "outputs": [
    {
     "name": "stdout",
     "output_type": "stream",
     "text": [
      "     mutation    ΔG value  DMS score old AA  Position new AA         ΔΔG\n",
      "0         K3R -783.379017   3.738586      K         3      R -170.459576\n",
      "1         K3Q -783.379034   3.750487      K         3      Q -170.459559\n",
      "2         K3E -783.379041   3.666278      K         3      E -170.459551\n",
      "3         K3M -783.379064   3.698336      K         3      M -170.459529\n",
      "4         K3T -783.379081   3.629775      K         3      T -170.459512\n",
      "...       ...         ...        ...    ...       ...    ...         ...\n",
      "1074    L236M -783.393562   3.585794      L       236      M -170.445031\n",
      "1075    L236Q -783.393576   3.748580      L       236      Q -170.445017\n",
      "1076    L236R -783.393585   3.706509      L       236      R -170.445008\n",
      "1077    L236V -783.393598   3.715704      L       236      V -170.444995\n",
      "1078    L236P -783.393612   3.706238      L       236      P -170.444980\n",
      "\n",
      "[1079 rows x 7 columns]\n"
     ]
    }
   ],
   "source": [
    "csv_file_path = '/mnt/c/Users/uni.rebecca.ress/Documents/rebecca.ress/Universität Heidelberg/4. Fachsemester/4. Fachsemester/Bioinformatik Projekt Niopek/Daten/reb09_df_dG_ddG1.csv'\n",
    "df_ddG_single = pd.read_csv(csv_file_path)\n",
    "\n",
    "# Ausgabe des DataFrames\n",
    "print(df_ddG_single)"
   ],
   "metadata": {
    "collapsed": false,
    "ExecuteTime": {
     "end_time": "2023-07-17T15:48:30.328382500Z",
     "start_time": "2023-07-17T15:48:30.302794900Z"
    }
   }
  },
  {
   "cell_type": "code",
   "execution_count": 46,
   "outputs": [
    {
     "name": "stdout",
     "output_type": "stream",
     "text": [
      "Number of negative values:  1079\n",
      "Number of positive values:  0\n"
     ]
    }
   ],
   "source": [
    "# Count the number of negative values\n",
    "negative_count = len(df_ddG_single[df_ddG_single['ΔΔG'] < 0])\n",
    "\n",
    "# Count the number of positive values\n",
    "positive_count = len(df_ddG_single[df_ddG_single['ΔΔG'] > 0])\n",
    "\n",
    "# Print the number of negative and positive values\n",
    "print(\"Number of negative values: \", negative_count)\n",
    "print(\"Number of positive values: \", positive_count)"
   ],
   "metadata": {
    "collapsed": false,
    "ExecuteTime": {
     "end_time": "2023-07-17T15:48:33.602571600Z",
     "start_time": "2023-07-17T15:48:33.584244100Z"
    }
   }
  },
  {
   "cell_type": "code",
   "execution_count": 47,
   "outputs": [
    {
     "name": "stdout",
     "output_type": "stream",
     "text": [
      "Minimum dG: -783.3936123803476\n",
      "Maximum dG: -783.3790167623416\n"
     ]
    }
   ],
   "source": [
    "# Calculate the minimum and maximum values of ΔΔG\n",
    "dG_min = df_ddG_single['ΔG value'].min()\n",
    "dG_max = df_ddG_single['ΔG value'].max()\n",
    "\n",
    "# Print the minimum and maximum values of ΔΔG\n",
    "print(\"Minimum dG:\", dG_min)\n",
    "print(\"Maximum dG:\", dG_max)"
   ],
   "metadata": {
    "collapsed": false,
    "ExecuteTime": {
     "end_time": "2023-07-17T15:48:35.154527100Z",
     "start_time": "2023-07-17T15:48:35.142449700Z"
    }
   }
  },
  {
   "cell_type": "code",
   "execution_count": 48,
   "outputs": [
    {
     "name": "stdout",
     "output_type": "stream",
     "text": [
      "Minimum ddG: -170.4595760162075\n",
      "Maximum ddG: -170.44498039820155\n"
     ]
    }
   ],
   "source": [
    "# Calculate the minimum and maximum values of ΔΔG\n",
    "ddG_min = df_ddG_single['ΔΔG'].min()\n",
    "ddG_max = df_ddG_single['ΔΔG'].max()\n",
    "\n",
    "# Print the minimum and maximum values of ΔΔG\n",
    "print(\"Minimum ddG:\", ddG_min)\n",
    "print(\"Maximum ddG:\", ddG_max)"
   ],
   "metadata": {
    "collapsed": false,
    "ExecuteTime": {
     "end_time": "2023-07-17T15:48:36.277474100Z",
     "start_time": "2023-07-17T15:48:36.273286100Z"
    }
   }
  },
  {
   "cell_type": "code",
   "execution_count": 49,
   "outputs": [
    {
     "name": "stdout",
     "output_type": "stream",
     "text": [
      "Mutation with min. ddG value mutation            K3R\n",
      "ΔG value    -783.379017\n",
      "DMS score      3.738586\n",
      "old AA                K\n",
      "Position              3\n",
      "new AA                R\n",
      "ΔΔG         -170.459576\n",
      "Name: 0, dtype: object\n"
     ]
    }
   ],
   "source": [
    "ddg_min_row = df_ddG_single.loc[df_ddG_single['ΔΔG'].idxmin()]\n",
    "print(\"Mutation with min. ddG value\", ddg_min_row)"
   ],
   "metadata": {
    "collapsed": false,
    "ExecuteTime": {
     "end_time": "2023-07-17T15:48:37.373465700Z",
     "start_time": "2023-07-17T15:48:37.369259200Z"
    }
   }
  },
  {
   "cell_type": "code",
   "execution_count": 50,
   "outputs": [
    {
     "name": "stdout",
     "output_type": "stream",
     "text": [
      "Mutation with max. ddG value mutation          L236P\n",
      "ΔG value    -783.393612\n",
      "DMS score      3.706238\n",
      "old AA                L\n",
      "Position            236\n",
      "new AA                P\n",
      "ΔΔG          -170.44498\n",
      "Name: 1078, dtype: object\n"
     ]
    }
   ],
   "source": [
    "ddg_max_row = df_ddG_single.loc[df_ddG_single['ΔΔG'].idxmax()]\n",
    "print(\"Mutation with max. ddG value\", ddg_max_row)"
   ],
   "metadata": {
    "collapsed": false,
    "ExecuteTime": {
     "end_time": "2023-07-17T15:48:38.053190700Z",
     "start_time": "2023-07-17T15:48:38.023395900Z"
    }
   }
  },
  {
   "cell_type": "code",
   "execution_count": 51,
   "outputs": [
    {
     "data": {
      "text/plain": "<Figure size 640x480 with 1 Axes>",
      "image/png": "[encoded data removed]"
     },
     "metadata": {},
     "output_type": "display_data"
    }
   ],
   "source": [
    "# Create the plot\n",
    "plt.scatter(df_ddG_single['DMS score'], df_ddG_single['ΔΔG'], s=2)\n",
    "plt.xlabel('DMS Score')\n",
    "plt.ylabel('ΔΔG [kcal/mol]')\n",
    "plt.title('Correlation between ΔΔG and DMS Score')\n",
    "\n",
    "plt.ylim(bottom=-170.46, top=-170.444)\n",
    "\n",
    "y_ticks = [-170.459, -170.454, -170.449, -170.444]\n",
    "plt.gca().yaxis.set_major_locator(ticker.FixedLocator(y_ticks))\n",
    "plt.gca().yaxis.set_major_formatter(ticker.FixedFormatter(y_ticks))\n",
    "plt.yticks(y_ticks)\n",
    "\n",
    "plt.show()"
   ],
   "metadata": {
    "collapsed": false,
    "ExecuteTime": {
     "end_time": "2023-07-17T15:48:38.835258700Z",
     "start_time": "2023-07-17T15:48:38.619095Z"
    }
   }
  },
  {
   "cell_type": "code",
   "execution_count": 52,
   "outputs": [
    {
     "name": "stdout",
     "output_type": "stream",
     "text": [
      "Spearman's rank correlation coefficient:  0.1646857636530614\n",
      "p-value:  5.311998701779863e-08\n"
     ]
    }
   ],
   "source": [
    "# Extract the relevant columns from the DataFrame\n",
    "ddG_values = df_ddG_single['ΔΔG']\n",
    "DMS_score = df_ddG_single['DMS score']\n",
    "\n",
    "# Calculate the Spearman's rank correlation coefficient\n",
    "correlation, p_value = spearmanr(ddG_values, DMS_score)\n",
    "\n",
    "print(\"Spearman's rank correlation coefficient: \", correlation)\n",
    "print(\"p-value: \", p_value)"
   ],
   "metadata": {
    "collapsed": false,
    "ExecuteTime": {
     "end_time": "2023-07-17T15:49:06.636827500Z",
     "start_time": "2023-07-17T15:49:06.629050300Z"
    }
   }
  },
  {
   "cell_type": "code",
   "execution_count": 53,
   "outputs": [
    {
     "name": "stdout",
     "output_type": "stream",
     "text": [
      "      Structure Start  End\n",
      "0   Beta strand    12   22\n",
      "1   Beta strand    25   36\n",
      "2   Beta strand    41   48\n",
      "3   Beta strand    50   52\n",
      "4   Beta strand    92  100\n",
      "5   Beta strand   101  103\n",
      "6   Beta strand   105  115\n",
      "7   Beta strand   118  129\n",
      "8   Beta strand   132  134\n",
      "9   Beta strand   141  147\n",
      "10  Beta strand   148  154\n",
      "11  Beta strand   158  171\n",
      "12  Beta strand   176  191\n",
      "13  Beta strand   198  208\n",
      "14  Beta strand   215  228\n"
     ]
    }
   ],
   "source": [
    "import requests\n",
    "import pandas as pd\n",
    "\n",
    "# URL to the GFF file\n",
    "url = \"https://rest.uniprot.org/uniprotkb/P42212.gff\"\n",
    "\n",
    "# Send a GET request and retrieve the data\n",
    "response = requests.get(url)\n",
    "data = response.text\n",
    "\n",
    "# Process the GFF data\n",
    "feature_list = []\n",
    "\n",
    "for line in data.split(\"\\n\"):\n",
    "    if line.startswith(\"P42212\"):\n",
    "        columns = line.split(\"\\t\")\n",
    "        feature_type = columns[2]\n",
    "        start_pos = columns[3]\n",
    "        end_pos = columns[4]\n",
    "\n",
    "        if feature_type in [\"turn\", \"helix\", \"Beta strand\"]:\n",
    "            feature_list.append([feature_type, start_pos, end_pos])  # Add feature line to the list\n",
    "\n",
    "# Create a DataFrame\n",
    "df_structure = pd.DataFrame(feature_list, columns=[\"Structure\", \"Start\", \"End\"])\n",
    "\n",
    "# Print the DataFrame\n",
    "print(df_structure)"
   ],
   "metadata": {
    "collapsed": false,
    "ExecuteTime": {
     "end_time": "2023-07-17T15:49:07.659400300Z",
     "start_time": "2023-07-17T15:49:07.295928700Z"
    }
   }
  },
  {
   "cell_type": "code",
   "execution_count": 54,
   "outputs": [
    {
     "data": {
      "text/plain": "<Figure size 640x480 with 1 Axes>",
      "image/png": "[encoded data removed]"
     },
     "metadata": {},
     "output_type": "display_data"
    }
   ],
   "source": [
    "# Create the boxplot\n",
    "plt.boxplot(df_ddG_single['ΔΔG'])\n",
    "plt.xlabel('ΔΔG')\n",
    "plt.ylabel('Value')\n",
    "plt.title('Boxplot of ΔΔG')\n",
    "\n",
    "plt.ylim(bottom=-170.46, top=-170.444)\n",
    "\n",
    "y_ticks = [-170.459, -170.454, -170.449, -170.444]\n",
    "plt.gca().yaxis.set_major_locator(ticker.FixedLocator(y_ticks))\n",
    "plt.gca().yaxis.set_major_formatter(ticker.FixedFormatter(y_ticks))\n",
    "plt.yticks(y_ticks)\n",
    "\n",
    "# Display the plot\n",
    "plt.show()"
   ],
   "metadata": {
    "collapsed": false,
    "ExecuteTime": {
     "end_time": "2023-07-17T15:49:10.407798100Z",
     "start_time": "2023-07-17T15:49:10.315426900Z"
    }
   }
  },
  {
   "cell_type": "code",
   "execution_count": 55,
   "outputs": [
    {
     "name": "stdout",
     "output_type": "stream",
     "text": [
      "Lower quartile boundary (Q1): -170.4555486959806\n",
      "Upper quartile boundary (Q3): -170.4483059308704\n",
      "Median: -170.45181569560464\n"
     ]
    }
   ],
   "source": [
    "# Calculate the quartiles and the median\n",
    "q1 = np.percentile(df_ddG_single['ΔΔG'], 25)\n",
    "q3 = np.percentile(df_ddG_single['ΔΔG'], 75)\n",
    "median = np.median(df_ddG_single['ΔΔG'])\n",
    "\n",
    "print(\"Lower quartile boundary (Q1):\", q1)\n",
    "print(\"Upper quartile boundary (Q3):\", q3)\n",
    "print(\"Median:\", median)"
   ],
   "metadata": {
    "collapsed": false,
    "ExecuteTime": {
     "end_time": "2023-07-17T15:49:11.445338100Z",
     "start_time": "2023-07-17T15:49:11.442087400Z"
    }
   }
  },
  {
   "cell_type": "markdown",
   "source": [
    "Analysing the data with condition ΔΔG < -170.4559700"
   ],
   "metadata": {
    "collapsed": false
   }
  },
  {
   "cell_type": "code",
   "execution_count": 56,
   "outputs": [
    {
     "name": "stdout",
     "output_type": "stream",
     "text": [
      "    mutation    ΔG value  DMS score old AA  Position new AA         ΔΔG\n",
      "0        K3R -783.379017   3.738586      K         3      R -170.459576\n",
      "1        K3Q -783.379034   3.750487      K         3      Q -170.459559\n",
      "2        K3E -783.379041   3.666278      K         3      E -170.459551\n",
      "3        K3M -783.379064   3.698336      K         3      M -170.459529\n",
      "4        K3T -783.379081   3.629775      K         3      T -170.459512\n",
      "..       ...         ...        ...    ...       ...    ...         ...\n",
      "236     V55M -783.382559   3.605429      V        55      M -170.456034\n",
      "237     V55E -783.382578   1.600466      V        55      E -170.456015\n",
      "238     P56S -783.382594   3.691457      P        56      S -170.455998\n",
      "239     W57R -783.382602   1.337331      W        57      R -170.455991\n",
      "240     P58L -783.382621   3.303901      P        58      L -170.455971\n",
      "\n",
      "[241 rows x 7 columns]\n"
     ]
    }
   ],
   "source": [
    "# Filter the DataFrame for values below the lower\n",
    "mutations_ddg_lower = df_ddG_single[df_ddG_single['ΔΔG'] < -170.4559700]\n",
    "\n",
    "# Sort the DataFrame by the ΔΔG values\n",
    "mutations_ddg_lower_sorted = mutations_ddg_lower.sort_values('ΔΔG')\n",
    "\n",
    "# Print the sorted DataFrame\n",
    "print(mutations_ddg_lower_sorted)"
   ],
   "metadata": {
    "collapsed": false,
    "ExecuteTime": {
     "end_time": "2023-07-17T15:58:18.598199800Z",
     "start_time": "2023-07-17T15:58:18.572541600Z"
    }
   }
  },
  {
   "cell_type": "code",
   "execution_count": 58,
   "outputs": [
    {
     "name": "stdout",
     "output_type": "stream",
     "text": [
      "old AA\n",
      "K    29\n",
      "V    25\n",
      "G    24\n",
      "E    24\n",
      "L    23\n",
      "T    22\n",
      "D    19\n",
      "F    17\n",
      "S    12\n",
      "P    11\n",
      "I    10\n",
      "N     6\n",
      "A     6\n",
      "Y     6\n",
      "H     4\n",
      "C     2\n",
      "W     1\n",
      "Name: count, dtype: int64\n",
      "new AA\n",
      "A    23\n",
      "S    22\n",
      "R    21\n",
      "V    18\n",
      "G    15\n",
      "D    14\n",
      "E    12\n",
      "M    12\n",
      "N    12\n",
      "T    12\n",
      "P    12\n",
      "L    12\n",
      "I    12\n",
      "Q    11\n",
      "K     8\n",
      "H     7\n",
      "C     7\n",
      "Y     5\n",
      "F     5\n",
      "W     1\n",
      "Name: count, dtype: int64\n"
     ]
    }
   ],
   "source": [
    "old_aa_lower_counts = mutations_ddg_lower_sorted['old AA'].value_counts()\n",
    "print(old_aa_lower_counts)\n",
    "\n",
    "new_aa_lower_counts = mutations_ddg_lower_sorted['new AA'].value_counts()\n",
    "print(new_aa_lower_counts)"
   ],
   "metadata": {
    "collapsed": false,
    "ExecuteTime": {
     "end_time": "2023-07-17T15:58:35.804728500Z",
     "start_time": "2023-07-17T15:58:35.789437800Z"
    }
   }
  },
  {
   "cell_type": "code",
   "execution_count": 59,
   "outputs": [
    {
     "name": "stdout",
     "output_type": "stream",
     "text": [
      "Position\n",
      "(1, 11]       43\n",
      "(11, 21]      40\n",
      "(21, 31]      46\n",
      "(31, 41]      48\n",
      "(41, 51]      42\n",
      "(51, 61]      22\n",
      "(61, 71]       0\n",
      "(71, 81]       0\n",
      "(81, 91]       0\n",
      "(91, 101]      0\n",
      "(101, 111]     0\n",
      "(111, 121]     0\n",
      "(121, 131]     0\n",
      "(131, 141]     0\n",
      "(141, 151]     0\n",
      "(151, 161]     0\n",
      "(161, 171]     0\n",
      "(171, 181]     0\n",
      "(181, 191]     0\n",
      "(191, 201]     0\n",
      "(201, 211]     0\n",
      "(211, 221]     0\n",
      "(221, 231]     0\n",
      "(231, 241]     0\n",
      "Name: count, dtype: int64\n"
     ]
    }
   ],
   "source": [
    "# Convert 'Position' column to integers\n",
    "mutations_ddg_lower_sorted['Position'] = mutations_ddg_lower_sorted['Position'].astype(int)\n",
    "\n",
    "# Define the cluster boundaries\n",
    "cluster_bins = range(1, 242, 10)  # Create clusters in steps of 10 (24 = 238/10)\n",
    "\n",
    "# Perform the grouping and count the number of mutations in each cluster\n",
    "cluster_counts = pd.cut(mutations_ddg_lower_sorted['Position'], bins=cluster_bins).value_counts()\n",
    "\n",
    "cluster_counts_sorted_lower_Q1 = cluster_counts.sort_index()\n",
    "\n",
    "# Print the sorted cluster ranges\n",
    "print(cluster_counts_sorted_lower_Q1)"
   ],
   "metadata": {
    "collapsed": false,
    "ExecuteTime": {
     "end_time": "2023-07-17T15:58:48.236060500Z",
     "start_time": "2023-07-17T15:58:48.186985500Z"
    }
   }
  },
  {
   "cell_type": "code",
   "execution_count": 60,
   "outputs": [
    {
     "name": "stdout",
     "output_type": "stream",
     "text": [
      "     Position Structure\n",
      "0           3       N/A\n",
      "1           3       N/A\n",
      "2           3       N/A\n",
      "3           3       N/A\n",
      "4           3       N/A\n",
      "..        ...       ...\n",
      "236        55       N/A\n",
      "237        55       N/A\n",
      "238        56       N/A\n",
      "239        57       N/A\n",
      "240        58       N/A\n",
      "\n",
      "[241 rows x 2 columns]\n",
      "Structure\n",
      "Beta strand    149\n",
      "N/A             92\n",
      "Name: count, dtype: int64\n"
     ]
    }
   ],
   "source": [
    "# Function to check the structure based on the position\n",
    "def check_structure(position):\n",
    "    structure_info = df_structure[(df_structure['Start'] <= position) & (df_structure['End'] >= position)]\n",
    "    if not structure_info.empty:\n",
    "        return structure_info.iloc[0]['Structure']\n",
    "    else:\n",
    "        return 'N/A'\n",
    "\n",
    "\n",
    "df_structure['Start'] = df_structure['Start'].astype(int)\n",
    "df_structure['End'] = df_structure['End'].astype(int)\n",
    "\n",
    "# Iterate over the positions of mutations in the DataFrame\n",
    "for position in mutations_ddg_lower_sorted['Position']:\n",
    "    # Check the structure based on the position\n",
    "    mutation_structure = check_structure(position)\n",
    "\n",
    "    # Print the result\n",
    "positions = mutations_ddg_lower_sorted['Position']\n",
    "mutation_structures = [check_structure(position) for position in positions]\n",
    "\n",
    "df_results_lower = pd.DataFrame({'Position': positions, 'Structure': mutation_structures})\n",
    "print(df_results_lower)\n",
    "\n",
    "structure_counts = df_results_lower['Structure'].value_counts()\n",
    "print(structure_counts)"
   ],
   "metadata": {
    "collapsed": false,
    "ExecuteTime": {
     "end_time": "2023-07-17T15:59:39.076355200Z",
     "start_time": "2023-07-17T15:59:38.818706100Z"
    }
   }
  },
  {
   "cell_type": "markdown",
   "source": [
    "Q1 > Data < Q3; analysing 50% of data"
   ],
   "metadata": {
    "collapsed": false
   }
  },
  {
   "cell_type": "code",
   "execution_count": 61,
   "outputs": [
    {
     "name": "stdout",
     "output_type": "stream",
     "text": [
      "    mutation    ΔG value  DMS score old AA  Position new AA         ΔΔG\n",
      "270     S65L -783.383054   3.174363      S        65      L -170.455539\n",
      "271     S65A -783.383070   3.284241      S        65      A -170.455523\n",
      "272     Y66C -783.383078   1.301031      Y        66      C -170.455515\n",
      "273     Y66N -783.383097   1.301031      Y        66      N -170.455496\n",
      "274     Y66F -783.383113   1.298941      Y        66      F -170.455480\n",
      "..       ...         ...        ...    ...       ...    ...         ...\n",
      "804    Q177R -783.390230   3.429738      Q       177      R -170.448363\n",
      "805    Q177L -783.390245   3.764545      Q       177      L -170.448348\n",
      "806    L178P -783.390253   3.647913      L       178      P -170.448340\n",
      "807    L178I -783.390268   3.812832      L       178      I -170.448325\n",
      "808    L178R -783.390283   3.650243      L       178      R -170.448310\n",
      "\n",
      "[539 rows x 7 columns]\n"
     ]
    }
   ],
   "source": [
    "# Filter the DataFrame for values between the lower Q1 and upper Q2\n",
    "mutations_ddg_between_Q1_Q3 = df_ddG_single[(df_ddG_single['ΔΔG'] > q1) & (df_ddG_single['ΔΔG'] < q3)]\n",
    "\n",
    "# Sort the DataFrame by the ΔΔG values\n",
    "mutations_ddg_between_Q1_Q3_sorted = mutations_ddg_between_Q1_Q3.sort_values('ΔΔG')\n",
    "\n",
    "# Print the sorted DataFrame\n",
    "print(mutations_ddg_between_Q1_Q3_sorted)"
   ],
   "metadata": {
    "collapsed": false,
    "ExecuteTime": {
     "end_time": "2023-07-17T16:02:14.272631400Z",
     "start_time": "2023-07-17T16:02:14.243807200Z"
    }
   }
  },
  {
   "cell_type": "code",
   "execution_count": 62,
   "outputs": [
    {
     "name": "stdout",
     "output_type": "stream",
     "text": [
      "old AA\n",
      "K    69\n",
      "N    62\n",
      "D    46\n",
      "I    44\n",
      "F    42\n",
      "E    37\n",
      "Y    32\n",
      "G    31\n",
      "H    27\n",
      "V    25\n",
      "S    21\n",
      "R    21\n",
      "M    19\n",
      "Q    18\n",
      "L    12\n",
      "A    11\n",
      "T    11\n",
      "P     7\n",
      "C     4\n",
      "Name: count, dtype: int64\n",
      "new AA\n",
      "S    43\n",
      "V    38\n",
      "L    37\n",
      "A    36\n",
      "R    35\n",
      "G    35\n",
      "N    32\n",
      "T    31\n",
      "C    30\n",
      "H    29\n",
      "Y    28\n",
      "I    27\n",
      "D    24\n",
      "E    24\n",
      "Q    19\n",
      "M    19\n",
      "F    17\n",
      "P    17\n",
      "K    17\n",
      "W     1\n",
      "Name: count, dtype: int64\n"
     ]
    }
   ],
   "source": [
    "old_aa_between_Q1_Q3_counts = mutations_ddg_between_Q1_Q3_sorted['old AA'].value_counts()\n",
    "print(old_aa_between_Q1_Q3_counts)\n",
    "\n",
    "new_aa_between_Q1_Q3_counts = mutations_ddg_between_Q1_Q3_sorted['new AA'].value_counts()\n",
    "print(new_aa_between_Q1_Q3_counts)"
   ],
   "metadata": {
    "collapsed": false,
    "ExecuteTime": {
     "end_time": "2023-07-17T16:02:18.847548600Z",
     "start_time": "2023-07-17T16:02:18.823980500Z"
    }
   }
  },
  {
   "cell_type": "code",
   "execution_count": 63,
   "outputs": [
    {
     "name": "stdout",
     "output_type": "stream",
     "text": [
      "Position\n",
      "(1, 11]        0\n",
      "(11, 21]       0\n",
      "(21, 31]       0\n",
      "(31, 41]       0\n",
      "(41, 51]       0\n",
      "(51, 61]       0\n",
      "(61, 71]      26\n",
      "(71, 81]      49\n",
      "(81, 91]      42\n",
      "(91, 101]     48\n",
      "(101, 111]    47\n",
      "(111, 121]    37\n",
      "(121, 131]    49\n",
      "(131, 141]    46\n",
      "(141, 151]    58\n",
      "(151, 161]    50\n",
      "(161, 171]    60\n",
      "(171, 181]    27\n",
      "(181, 191]     0\n",
      "(191, 201]     0\n",
      "(201, 211]     0\n",
      "(211, 221]     0\n",
      "(221, 231]     0\n",
      "(231, 241]     0\n",
      "Name: count, dtype: int64\n"
     ]
    },
    {
     "name": "stderr",
     "output_type": "stream",
     "text": [
      "/tmp/ipykernel_265/3009805109.py:2: SettingWithCopyWarning: \n",
      "A value is trying to be set on a copy of a slice from a DataFrame.\n",
      "Try using .loc[row_indexer,col_indexer] = value instead\n",
      "\n",
      "See the caveats in the documentation: https://pandas.pydata.org/pandas-docs/stable/user_guide/indexing.html#returning-a-view-versus-a-copy\n",
      "  mutations_ddg_between_Q1_Q3['Position'] = mutations_ddg_between_Q1_Q3['Position'].astype(int)\n"
     ]
    }
   ],
   "source": [
    "# Convert 'Position' column to integers\n",
    "mutations_ddg_between_Q1_Q3['Position'] = mutations_ddg_between_Q1_Q3['Position'].astype(int)\n",
    "\n",
    "# Define the cluster boundaries\n",
    "cluster_bins = range(1, 242, 10)  # Create clusters in steps of 10 (24 = 238/10)\n",
    "\n",
    "# Perform the grouping and count the number of mutations in each cluster\n",
    "cluster_counts = pd.cut(mutations_ddg_between_Q1_Q3['Position'], bins=cluster_bins).value_counts()\n",
    "\n",
    "cluster_counts_sorted_between_Q1_Q3 = cluster_counts.sort_index()\n",
    "\n",
    "# Print the sorted cluster ranges\n",
    "print(cluster_counts_sorted_between_Q1_Q3)"
   ],
   "metadata": {
    "collapsed": false,
    "ExecuteTime": {
     "end_time": "2023-07-17T16:02:20.182885700Z",
     "start_time": "2023-07-17T16:02:20.165695200Z"
    }
   }
  },
  {
   "cell_type": "code",
   "execution_count": 64,
   "outputs": [
    {
     "name": "stdout",
     "output_type": "stream",
     "text": [
      "     Position Structure\n",
      "0           3      Turn\n",
      "1           3      Turn\n",
      "2           3      Turn\n",
      "3           3      Turn\n",
      "4           3      Turn\n",
      "..        ...       ...\n",
      "265        64     Helix\n",
      "266        64     Helix\n",
      "267        64     Helix\n",
      "268        65      Turn\n",
      "269        65      Turn\n",
      "\n",
      "[270 rows x 2 columns]\n",
      "Structure\n",
      "Beta strand    341\n",
      "N/A            198\n",
      "Name: count, dtype: int64\n"
     ]
    }
   ],
   "source": [
    "# Function to check the structure based on the position\n",
    "def check_structure(position):\n",
    "    structure_info = df_structure[(df_structure['Start'] <= position) & (df_structure['End'] >= position)]\n",
    "    if not structure_info.empty:\n",
    "        return structure_info.iloc[0]['Structure']\n",
    "    else:\n",
    "        return 'N/A'\n",
    "\n",
    "df_structure['Start'] = df_structure['Start'].astype(int)\n",
    "df_structure['End'] = df_structure['End'].astype(int)\n",
    "\n",
    "# Iterate over the positions of mutations in the DataFrame\n",
    "for position in mutations_ddg_between_Q1_Q3['Position']:\n",
    "    # Check the structure based on the position\n",
    "    mutation_structure = check_structure(position)\n",
    "\n",
    "    # Print the result\n",
    "positions = mutations_ddg_between_Q1_Q3['Position']\n",
    "mutation_structures = [check_structure(position) for position in positions]\n",
    "\n",
    "df_results_between_Q1_Q2 = pd.DataFrame({'Position': positions, 'Structure': mutation_structures})\n",
    "print(df_results_lower_Q1)\n",
    "\n",
    "structure_counts = df_results_between_Q1_Q2['Structure'].value_counts()\n",
    "print(structure_counts)"
   ],
   "metadata": {
    "collapsed": false,
    "ExecuteTime": {
     "end_time": "2023-07-17T16:02:22.930949300Z",
     "start_time": "2023-07-17T16:02:22.382362Z"
    }
   }
  },
  {
   "cell_type": "markdown",
   "source": [
    "Analysing the data with condition ΔΔG > -170.45227815"
   ],
   "metadata": {
    "collapsed": false
   }
  },
  {
   "cell_type": "code",
   "execution_count": 65,
   "outputs": [
    {
     "name": "stdout",
     "output_type": "stream",
     "text": [
      "     mutation    ΔG value  DMS score old AA  Position new AA         ΔΔG\n",
      "505     D117N -783.386325   3.758048      D       117      N -170.452268\n",
      "506     D117V -783.386333   3.653319      D       117      V -170.452260\n",
      "507     D117E -783.386350   3.699580      D       117      E -170.452243\n",
      "508     D117G -783.386365   3.729283      D       117      G -170.452227\n",
      "509     T118A -783.386374   3.580312      T       118      A -170.452219\n",
      "...       ...         ...        ...    ...       ...    ...         ...\n",
      "1074    L236M -783.393562   3.585794      L       236      M -170.445031\n",
      "1075    L236Q -783.393576   3.748580      L       236      Q -170.445017\n",
      "1076    L236R -783.393585   3.706509      L       236      R -170.445008\n",
      "1077    L236V -783.393598   3.715704      L       236      V -170.444995\n",
      "1078    L236P -783.393612   3.706238      L       236      P -170.444980\n",
      "\n",
      "[574 rows x 7 columns]\n"
     ]
    }
   ],
   "source": [
    "# Filter the DataFrame for values below the higher\n",
    "mutations_ddg_higher = df_ddG_single[df_ddG_single['ΔΔG'] > -170.45227815]\n",
    "\n",
    "# Sort the DataFrame by the ΔΔG values\n",
    "mutations_ddg_higher_sorted = mutations_ddg_higher.sort_values('ΔΔG')\n",
    "\n",
    "# Print the sorted DataFrame\n",
    "print(mutations_ddg_higher_sorted)"
   ],
   "metadata": {
    "collapsed": false,
    "ExecuteTime": {
     "end_time": "2023-07-17T16:04:02.766144200Z",
     "start_time": "2023-07-17T16:04:02.738308100Z"
    }
   }
  },
  {
   "cell_type": "code",
   "execution_count": 66,
   "outputs": [
    {
     "name": "stdout",
     "output_type": "stream",
     "text": [
      "old AA\n",
      "N    73\n",
      "D    55\n",
      "I    53\n",
      "K    52\n",
      "L    41\n",
      "G    39\n",
      "H    35\n",
      "Y    30\n",
      "E    29\n",
      "S    24\n",
      "V    24\n",
      "A    20\n",
      "T    19\n",
      "M    19\n",
      "F    18\n",
      "P    16\n",
      "Q    14\n",
      "R    13\n",
      "Name: count, dtype: int64\n",
      "new AA\n",
      "V    48\n",
      "S    48\n",
      "R    42\n",
      "T    38\n",
      "N    37\n",
      "A    36\n",
      "L    34\n",
      "G    34\n",
      "D    32\n",
      "H    29\n",
      "I    27\n",
      "P    25\n",
      "Y    25\n",
      "E    22\n",
      "Q    22\n",
      "C    22\n",
      "M    19\n",
      "K    16\n",
      "F    16\n",
      "W     2\n",
      "Name: count, dtype: int64\n"
     ]
    }
   ],
   "source": [
    "old_aa_higher_counts = mutations_ddg_higher_sorted['old AA'].value_counts()\n",
    "print(old_aa_higher_counts)\n",
    "\n",
    "new_aa_higher_counts = mutations_ddg_higher_sorted['new AA'].value_counts()\n",
    "print(new_aa_higher_counts)"
   ],
   "metadata": {
    "collapsed": false,
    "ExecuteTime": {
     "end_time": "2023-07-17T16:04:25.870177800Z",
     "start_time": "2023-07-17T16:04:25.857828600Z"
    }
   }
  },
  {
   "cell_type": "code",
   "execution_count": 67,
   "outputs": [
    {
     "name": "stdout",
     "output_type": "stream",
     "text": [
      "Position\n",
      "(1, 11]        0\n",
      "(11, 21]       0\n",
      "(21, 31]       0\n",
      "(31, 41]       0\n",
      "(41, 51]       0\n",
      "(51, 61]       0\n",
      "(61, 71]       0\n",
      "(71, 81]       0\n",
      "(81, 91]       0\n",
      "(91, 101]      0\n",
      "(101, 111]     0\n",
      "(111, 121]    14\n",
      "(121, 131]    49\n",
      "(131, 141]    46\n",
      "(141, 151]    58\n",
      "(151, 161]    50\n",
      "(161, 171]    60\n",
      "(171, 181]    47\n",
      "(181, 191]    41\n",
      "(191, 201]    48\n",
      "(201, 211]    45\n",
      "(211, 221]    42\n",
      "(221, 231]    46\n",
      "(231, 241]    28\n",
      "Name: count, dtype: int64\n"
     ]
    }
   ],
   "source": [
    "# Convert 'Position' column to integers\n",
    "mutations_ddg_higher_sorted['Position'] = mutations_ddg_higher_sorted['Position'].astype(int)\n",
    "\n",
    "# Define the cluster boundaries\n",
    "cluster_bins = range(1, 242, 10)  # Create clusters in steps of 10 (24 = 238/10)\n",
    "\n",
    "# Perform the grouping and count the number of mutations in each cluster\n",
    "cluster_counts = pd.cut(mutations_ddg_higher_sorted['Position'], bins=cluster_bins).value_counts()\n",
    "\n",
    "cluster_counts_sorted_higher = cluster_counts.sort_index()\n",
    "\n",
    "# Print the sorted cluster ranges\n",
    "print(cluster_counts_sorted_higher)"
   ],
   "metadata": {
    "collapsed": false,
    "ExecuteTime": {
     "end_time": "2023-07-17T16:04:49.699567500Z",
     "start_time": "2023-07-17T16:04:49.682619200Z"
    }
   }
  },
  {
   "cell_type": "code",
   "execution_count": 68,
   "outputs": [
    {
     "name": "stdout",
     "output_type": "stream",
     "text": [
      "      Position    Structure\n",
      "505        117          N/A\n",
      "506        117          N/A\n",
      "507        117          N/A\n",
      "508        117          N/A\n",
      "509        118  Beta strand\n",
      "...        ...          ...\n",
      "1074       236          N/A\n",
      "1075       236          N/A\n",
      "1076       236          N/A\n",
      "1077       236          N/A\n",
      "1078       236          N/A\n",
      "\n",
      "[574 rows x 2 columns]\n",
      "Structure\n",
      "Beta strand    398\n",
      "N/A            176\n",
      "Name: count, dtype: int64\n"
     ]
    }
   ],
   "source": [
    "# Function to check the structure based on the position\n",
    "def check_structure(position):\n",
    "    structure_info = df_structure[(df_structure['Start'] <= position) & (df_structure['End'] >= position)]\n",
    "    if not structure_info.empty:\n",
    "        return structure_info.iloc[0]['Structure']\n",
    "    else:\n",
    "        return 'N/A'\n",
    "\n",
    "df_structure['Start'] = df_structure['Start'].astype(int)\n",
    "df_structure['End'] = df_structure['End'].astype(int)\n",
    "\n",
    "# Iterate over the positions of mutations in the DataFrame\n",
    "for position in mutations_ddg_higher_sorted['Position']:\n",
    "    # Check the structure based on the position\n",
    "    mutation_structure = check_structure(position)\n",
    "\n",
    "    # Print the result\n",
    "positions = mutations_ddg_higher_sorted['Position']\n",
    "mutation_structures = [check_structure(position) for position in positions]\n",
    "\n",
    "df_results_higher = pd.DataFrame({'Position': positions, 'Structure': mutation_structures})\n",
    "print(df_results_higher)\n",
    "\n",
    "structure_counts = df_results_higher['Structure'].value_counts()\n",
    "print(structure_counts)"
   ],
   "metadata": {
    "collapsed": false,
    "ExecuteTime": {
     "end_time": "2023-07-17T16:05:46.713941Z",
     "start_time": "2023-07-17T16:05:46.071440400Z"
    }
   }
  },
  {
   "cell_type": "code",
   "execution_count": 69,
   "outputs": [
    {
     "name": "stdout",
     "output_type": "stream",
     "text": [
      "Positions with significantly different ΔΔG distribution compared to the neighborhood:\n",
      "['3', '4', '5', '234', '235', '236']\n"
     ]
    }
   ],
   "source": [
    "# Convert 'Position' column to integers\n",
    "df_ddG_single['Position'] = df_ddG_single['Position'].astype(int)\n",
    "\n",
    "# Define the neighborhood size\n",
    "neighborhood_size = 8\n",
    "\n",
    "# Create an empty list for significant positions\n",
    "significant_positions = []\n",
    "\n",
    "# Iterate over each position in the DataFrame\n",
    "for position in df_ddG_single['Position'].unique():\n",
    "    # Filter the ΔΔG values for the target position and the neighborhood\n",
    "    target_ddG = df_ddG_single[df_ddG_single['Position'] == position]['ΔΔG']\n",
    "    neighbor_ddG = df_ddG_single[(df_ddG_single['Position'] >= position - neighborhood_size) & (df_ddG_single['Position'] <= position + neighborhood_size)]['ΔΔG']\n",
    "\n",
    "    # Perform the Wilcoxon rank-sum test\n",
    "    statistic, p_value = ranksums(target_ddG, neighbor_ddG)\n",
    "\n",
    "    # Check if the result is significant (e.g., p-value less than 0.05)\n",
    "    if p_value < 0.05:\n",
    "        significant_positions.append(position)\n",
    "\n",
    "# Convert significant_positions back to string if needed\n",
    "significant_positions = [str(pos) for pos in significant_positions]\n",
    "\n",
    "# Print the significant positions\n",
    "print(\"Positions with significantly different ΔΔG distribution compared to the neighborhood:\")\n",
    "print(significant_positions)"
   ],
   "metadata": {
    "collapsed": false,
    "ExecuteTime": {
     "end_time": "2023-07-17T16:05:52.292591Z",
     "start_time": "2023-07-17T16:05:51.629017100Z"
    }
   }
  },
  {
   "cell_type": "code",
   "execution_count": 70,
   "outputs": [
    {
     "name": "stdout",
     "output_type": "stream",
     "text": [
      "   Position Old_AA New_AA  position_ddG_mean  position_ddG_std  \\\n",
      "0         3      K      R        -170.459545          0.000025   \n",
      "1         4      G      S        -170.459484          0.000020   \n",
      "2         5      E      K        -170.459414          0.000031   \n",
      "3       234      D      H        -170.445127          0.000019   \n",
      "4       235      E      K        -170.445067          0.000019   \n",
      "5       236      L      M        -170.445006          0.000019   \n",
      "\n",
      "   Neighbor_ddG_mean  Neighbor_ddG_std  Difference_mean  \n",
      "0        -170.459251          0.000195        -0.000294  \n",
      "1        -170.459228          0.000208        -0.000256  \n",
      "2        -170.459189          0.000230        -0.000225  \n",
      "3        -170.445320          0.000201         0.000193  \n",
      "4        -170.445296          0.000187         0.000230  \n",
      "5        -170.445266          0.000169         0.000260  \n"
     ]
    }
   ],
   "source": [
    "import pandas as pd\n",
    "\n",
    "neighborhood_size = 8\n",
    "\n",
    "# Create an empty list for significant positions and their corresponding information\n",
    "significant_positions = []\n",
    "\n",
    "# Iterate over each position in the DataFrame\n",
    "for position in df_ddG_single['Position'].unique():\n",
    "    # Filter the ΔΔG values for the target position and the neighborhood\n",
    "    target_ddG = df_ddG_single[df_ddG_single['Position'] == position]['ΔΔG']\n",
    "    neighbor_ddG = df_ddG_single[(df_ddG_single['Position'] >= position - neighborhood_size) & (df_ddG_single['Position'] <= position + neighborhood_size)]['ΔΔG']\n",
    "\n",
    "    # Perform the Wilcoxon rank sum test\n",
    "    statistic, p_value = ranksums(target_ddG, neighbor_ddG)\n",
    "\n",
    "    # Check if the result is significant (e.g., p-value less than 0.05)\n",
    "    if p_value < 0.05:\n",
    "        # Get the old and new amino acids for the position\n",
    "        old_aa = df_ddG_single[df_ddG_single['Position'] == position]['old AA'].values[0]\n",
    "        new_aa = df_ddG_single[df_ddG_single['Position'] == position]['new AA'].values[0]\n",
    "\n",
    "        # Calculate the statistical measures for the ΔΔG values\n",
    "        target_mean = target_ddG.mean()\n",
    "        target_std = target_ddG.std()\n",
    "        neighbor_mean = neighbor_ddG.mean()\n",
    "        neighbor_std = neighbor_ddG.std()\n",
    "        diff_mean = target_mean - neighbor_mean\n",
    "\n",
    "        # Store the information in a dictionary\n",
    "        position_info = {\n",
    "            'Position': position,\n",
    "            'Old_AA': old_aa,\n",
    "            'New_AA': new_aa,\n",
    "            'position_ddG_mean': target_mean,\n",
    "            'position_ddG_std': target_std,\n",
    "            'Neighbor_ddG_mean': neighbor_mean,\n",
    "            'Neighbor_ddG_std': neighbor_std,\n",
    "            'Difference_mean': diff_mean\n",
    "        }\n",
    "\n",
    "        significant_positions.append(position_info)\n",
    "\n",
    "# Create a DataFrame from the list of significant positions\n",
    "df_positions = pd.DataFrame(significant_positions)\n",
    "\n",
    "# Print the DataFrame\n",
    "print(df_positions)"
   ],
   "metadata": {
    "collapsed": false,
    "ExecuteTime": {
     "end_time": "2023-07-17T16:05:54.049625900Z",
     "start_time": "2023-07-17T16:05:53.342113900Z"
    }
   }
  },
  {
   "cell_type": "code",
   "execution_count": 71,
   "outputs": [
    {
     "name": "stdout",
     "output_type": "stream",
     "text": [
      "Count of positive differences: 3\n",
      "   Position Old_AA New_AA  position_ddG_mean  position_ddG_std  \\\n",
      "3       234      D      H        -170.445127          0.000019   \n",
      "4       235      E      K        -170.445067          0.000019   \n",
      "5       236      L      M        -170.445006          0.000019   \n",
      "\n",
      "   Neighbor_ddG_mean  Neighbor_ddG_std  Difference_mean  \n",
      "3        -170.445320          0.000201         0.000193  \n",
      "4        -170.445296          0.000187         0.000230  \n",
      "5        -170.445266          0.000169         0.000260  \n"
     ]
    }
   ],
   "source": [
    "positive_diff_df = df_positions[df_positions['Difference_mean'] > 0]\n",
    "positive_diff_count = len(positive_diff_df)\n",
    "print(\"Count of positive differences:\", positive_diff_count)\n",
    "\n",
    "positive_diff_df = df_positions[df_positions['Difference_mean'] > 0]\n",
    "print(positive_diff_df)"
   ],
   "metadata": {
    "collapsed": false,
    "ExecuteTime": {
     "end_time": "2023-07-17T16:05:55.190745200Z",
     "start_time": "2023-07-17T16:05:55.162022400Z"
    }
   }
  },
  {
   "cell_type": "code",
   "execution_count": 72,
   "outputs": [
    {
     "name": "stdout",
     "output_type": "stream",
     "text": [
      "Count of negative differences: 3\n",
      "   Position Old_AA New_AA  position_ddG_mean  position_ddG_std  \\\n",
      "0         3      K      R        -170.459545          0.000025   \n",
      "1         4      G      S        -170.459484          0.000020   \n",
      "2         5      E      K        -170.459414          0.000031   \n",
      "\n",
      "   Neighbor_ddG_mean  Neighbor_ddG_std  Difference_mean  \n",
      "0        -170.459251          0.000195        -0.000294  \n",
      "1        -170.459228          0.000208        -0.000256  \n",
      "2        -170.459189          0.000230        -0.000225  \n"
     ]
    }
   ],
   "source": [
    "negative_diff_df = df_positions[df_positions['Difference_mean'] < 0]\n",
    "negative_diff_count = len(negative_diff_df)\n",
    "print(\"Count of negative differences:\", negative_diff_count)\n",
    "\n",
    "\n",
    "negative_diff_df = df_positions[df_positions['Difference_mean'] < 0]\n",
    "print(negative_diff_df)"
   ],
   "metadata": {
    "collapsed": false,
    "ExecuteTime": {
     "end_time": "2023-07-17T16:05:56.586284Z",
     "start_time": "2023-07-17T16:05:56.573915800Z"
    }
   }
  }
 ],
 "metadata": {
  "kernelspec": {
   "display_name": "Python 3",
   "language": "python",
   "name": "python3"
  },
  "language_info": {
   "codemirror_mode": {
    "name": "ipython",
    "version": 2
   },
   "file_extension": ".py",
   "mimetype": "text/x-python",
   "name": "python",
   "nbconvert_exporter": "python",
   "pygments_lexer": "ipython2",
   "version": "2.7.6"
  }
 },
 "nbformat": 4,
 "nbformat_minor": 0
}
