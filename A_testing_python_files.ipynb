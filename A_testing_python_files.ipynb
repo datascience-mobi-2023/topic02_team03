{
 "cells": [
  {
   "cell_type": "code",
   "execution_count": 4,
   "outputs": [
    {
     "name": "stdout",
     "output_type": "stream",
     "text": [
      "       DMS_score     m1    m2    m3    m4    m5    m6    m7    m8    m9   m10  \\\n",
      "4       3.738586    K3R  None  None  None  None  None  None  None  None  None   \n",
      "48      3.750487    K3Q  None  None  None  None  None  None  None  None  None   \n",
      "703     3.666278    K3E  None  None  None  None  None  None  None  None  None   \n",
      "924     3.698336    K3M  None  None  None  None  None  None  None  None  None   \n",
      "1160    3.629775    K3T  None  None  None  None  None  None  None  None  None   \n",
      "...          ...    ...   ...   ...   ...   ...   ...   ...   ...   ...   ...   \n",
      "51709   3.809468  Y237N  None  None  None  None  None  None  None  None  None   \n",
      "51710   3.760217  Y237C  None  None  None  None  None  None  None  None  None   \n",
      "51711   3.754101  Y237D  None  None  None  None  None  None  None  None  None   \n",
      "51712   3.673173  Y237F  None  None  None  None  None  None  None  None  None   \n",
      "51713   3.735417  Y237H  None  None  None  None  None  None  None  None  None   \n",
      "\n",
      "        m11   m12   m13   m14   m15  \n",
      "4      None  None  None  None  None  \n",
      "48     None  None  None  None  None  \n",
      "703    None  None  None  None  None  \n",
      "924    None  None  None  None  None  \n",
      "1160   None  None  None  None  None  \n",
      "...     ...   ...   ...   ...   ...  \n",
      "51709  None  None  None  None  None  \n",
      "51710  None  None  None  None  None  \n",
      "51711  None  None  None  None  None  \n",
      "51712  None  None  None  None  None  \n",
      "51713  None  None  None  None  None  \n",
      "\n",
      "[1084 rows x 16 columns]\n"
     ]
    },
    {
     "name": "stderr",
     "output_type": "stream",
     "text": [
      "/Users/tianxinangelama/Documents/GitHub/topic02_team03/A_plots_4_steps.py:15: FutureWarning: In a future version of pandas all arguments of StringMethods.split except for the argument 'pat' will be keyword-only.\n",
      "  \n"
     ]
    }
   ],
   "source": [
    "%run /Users/tianxinangelama/Documents/GitHub/topic02_team03/A_plots_4_steps.py"
   ],
   "metadata": {
    "collapsed": false,
    "ExecuteTime": {
     "end_time": "2023-07-09T09:04:09.848318Z",
     "start_time": "2023-07-09T09:04:09.629452Z"
    }
   }
  },
  {
   "cell_type": "markdown",
   "source": [],
   "metadata": {
    "collapsed": false
   }
  },
  {
   "cell_type": "code",
   "execution_count": null,
   "outputs": [],
   "source": [],
   "metadata": {
    "collapsed": false
   }
  }
 ],
 "metadata": {
  "kernelspec": {
   "display_name": "Python 3",
   "language": "python",
   "name": "python3"
  },
  "language_info": {
   "codemirror_mode": {
    "name": "ipython",
    "version": 2
   },
   "file_extension": ".py",
   "mimetype": "text/x-python",
   "name": "python",
   "nbconvert_exporter": "python",
   "pygments_lexer": "ipython2",
   "version": "2.7.6"
  }
 },
 "nbformat": 4,
 "nbformat_minor": 0
}
