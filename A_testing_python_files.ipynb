{
 "cells": [
  {
   "cell_type": "code",
   "execution_count": 2,
   "outputs": [
    {
     "name": "stderr",
     "output_type": "stream",
     "text": [
      "/Users/tianxinangelama/Documents/GitHub/topic02_team03/A_plots_4_steps.py:14: FutureWarning: In a future version of pandas all arguments of StringMethods.split except for the argument 'pat' will be keyword-only.\n",
      "  df_ind_col['mutant'].str.split(':', 14, expand=True)\n"
     ]
    }
   ],
   "source": [
    "%run /Users/tianxinangelama/Documents/GitHub/topic02_team03/A_plots_4_steps.py"
   ],
   "metadata": {
    "collapsed": false,
    "ExecuteTime": {
     "end_time": "2023-07-09T08:54:39.506375Z",
     "start_time": "2023-07-09T08:54:38.795496Z"
    }
   }
  },
  {
   "cell_type": "markdown",
   "source": [],
   "metadata": {
    "collapsed": false
   }
  },
  {
   "cell_type": "code",
   "execution_count": 3,
   "outputs": [
    {
     "name": "stdout",
     "output_type": "stream",
     "text": [
      "       DMS_score     m1     m2     m3     m4     m5     m6     m7    m8    m9  \\\n",
      "0       1.301030    K3R   V55A   Q94R  A110T  D117G  M153K  D216A  None  None   \n",
      "1       3.137350    K3Q   V16A  I167T  L195Q   None   None   None  None  None   \n",
      "2       1.553913    K3Q  Y143C  N164D  S205P  A227T   None   None  None  None   \n",
      "3       3.404237    K3Q  Y143N  V193A   None   None   None   None  None  None   \n",
      "4       3.738586    K3R   None   None   None   None   None   None  None  None   \n",
      "...          ...    ...    ...    ...    ...    ...    ...    ...   ...   ...   \n",
      "51709   3.809468  Y237N   None   None   None   None   None   None  None  None   \n",
      "51710   3.760217  Y237C   None   None   None   None   None   None  None  None   \n",
      "51711   3.754101  Y237D   None   None   None   None   None   None  None  None   \n",
      "51712   3.673173  Y237F   None   None   None   None   None   None  None  None   \n",
      "51713   3.735417  Y237H   None   None   None   None   None   None  None  None   \n",
      "\n",
      "        m10   m11   m12   m13   m14   m15  \n",
      "0      None  None  None  None  None  None  \n",
      "1      None  None  None  None  None  None  \n",
      "2      None  None  None  None  None  None  \n",
      "3      None  None  None  None  None  None  \n",
      "4      None  None  None  None  None  None  \n",
      "...     ...   ...   ...   ...   ...   ...  \n",
      "51709  None  None  None  None  None  None  \n",
      "51710  None  None  None  None  None  None  \n",
      "51711  None  None  None  None  None  None  \n",
      "51712  None  None  None  None  None  None  \n",
      "51713  None  None  None  None  None  None  \n",
      "\n",
      "[51714 rows x 16 columns]\n"
     ]
    }
   ],
   "source": [
    "print(df_only_fscore_mutations)"
   ],
   "metadata": {
    "collapsed": false,
    "ExecuteTime": {
     "end_time": "2023-07-09T08:55:42.239441Z",
     "start_time": "2023-07-09T08:55:42.234919Z"
    }
   }
  },
  {
   "cell_type": "code",
   "execution_count": null,
   "outputs": [],
   "source": [],
   "metadata": {
    "collapsed": false
   }
  }
 ],
 "metadata": {
  "kernelspec": {
   "display_name": "Python 3",
   "language": "python",
   "name": "python3"
  },
  "language_info": {
   "codemirror_mode": {
    "name": "ipython",
    "version": 2
   },
   "file_extension": ".py",
   "mimetype": "text/x-python",
   "name": "python",
   "nbconvert_exporter": "python",
   "pygments_lexer": "ipython2",
   "version": "2.7.6"
  }
 },
 "nbformat": 4,
 "nbformat_minor": 0
}
