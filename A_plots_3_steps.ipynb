{
 "cells": [
  {
   "cell_type": "code",
   "execution_count": 5,
   "metadata": {
    "collapsed": true,
    "ExecuteTime": {
     "end_time": "2023-07-14T09:49:00.762195Z",
     "start_time": "2023-07-14T09:47:01.646642Z"
    }
   },
   "outputs": [
    {
     "name": "stderr",
     "output_type": "stream",
     "text": [
      "/Users/tianxinangelama/Documents/GitHub/topic02_team03/A_plots_3_steps.py:14: FutureWarning: In a future version of pandas all arguments of StringMethods.split except for the argument 'pat' will be keyword-only.\n",
      "  df_ind_col['mutant'].str.split(':', 14, expand=True)\n",
      "/Users/tianxinangelama/Documents/GitHub/topic02_team03/A_plots_3_steps.py:121: FutureWarning: elementwise comparison failed; returning scalar instead, but in the future will perform elementwise comparison\n",
      "  df_3_mutations_filtered_2 = df_3_mutations_filtered_by[mut][df_3_mutations_filtered_by[mut].apply(lambda row: mut2 in row.values, axis=1)]\n",
      "/Users/tianxinangelama/Documents/GitHub/topic02_team03/A_plots_3_steps.py:121: FutureWarning: elementwise comparison failed; returning scalar instead, but in the future will perform elementwise comparison\n",
      "  df_3_mutations_filtered_2 = df_3_mutations_filtered_by[mut][df_3_mutations_filtered_by[mut].apply(lambda row: mut2 in row.values, axis=1)]\n",
      "/Users/tianxinangelama/Documents/GitHub/topic02_team03/A_plots_3_steps.py:121: FutureWarning: elementwise comparison failed; returning scalar instead, but in the future will perform elementwise comparison\n",
      "  df_3_mutations_filtered_2 = df_3_mutations_filtered_by[mut][df_3_mutations_filtered_by[mut].apply(lambda row: mut2 in row.values, axis=1)]\n",
      "/Users/tianxinangelama/Documents/GitHub/topic02_team03/A_plots_3_steps.py:121: FutureWarning: elementwise comparison failed; returning scalar instead, but in the future will perform elementwise comparison\n",
      "  df_3_mutations_filtered_2 = df_3_mutations_filtered_by[mut][df_3_mutations_filtered_by[mut].apply(lambda row: mut2 in row.values, axis=1)]\n",
      "/Users/tianxinangelama/Documents/GitHub/topic02_team03/A_plots_3_steps.py:121: FutureWarning: elementwise comparison failed; returning scalar instead, but in the future will perform elementwise comparison\n",
      "  df_3_mutations_filtered_2 = df_3_mutations_filtered_by[mut][df_3_mutations_filtered_by[mut].apply(lambda row: mut2 in row.values, axis=1)]\n",
      "/Users/tianxinangelama/Documents/GitHub/topic02_team03/A_plots_3_steps.py:121: FutureWarning: elementwise comparison failed; returning scalar instead, but in the future will perform elementwise comparison\n",
      "  df_3_mutations_filtered_2 = df_3_mutations_filtered_by[mut][df_3_mutations_filtered_by[mut].apply(lambda row: mut2 in row.values, axis=1)]\n",
      "/Users/tianxinangelama/Documents/GitHub/topic02_team03/A_plots_3_steps.py:121: FutureWarning: elementwise comparison failed; returning scalar instead, but in the future will perform elementwise comparison\n",
      "  df_3_mutations_filtered_2 = df_3_mutations_filtered_by[mut][df_3_mutations_filtered_by[mut].apply(lambda row: mut2 in row.values, axis=1)]\n",
      "/Users/tianxinangelama/Documents/GitHub/topic02_team03/A_plots_3_steps.py:121: FutureWarning: elementwise comparison failed; returning scalar instead, but in the future will perform elementwise comparison\n",
      "  df_3_mutations_filtered_2 = df_3_mutations_filtered_by[mut][df_3_mutations_filtered_by[mut].apply(lambda row: mut2 in row.values, axis=1)]\n",
      "/Users/tianxinangelama/Documents/GitHub/topic02_team03/A_plots_3_steps.py:121: FutureWarning: elementwise comparison failed; returning scalar instead, but in the future will perform elementwise comparison\n",
      "  df_3_mutations_filtered_2 = df_3_mutations_filtered_by[mut][df_3_mutations_filtered_by[mut].apply(lambda row: mut2 in row.values, axis=1)]\n",
      "/Users/tianxinangelama/Documents/GitHub/topic02_team03/A_plots_3_steps.py:121: FutureWarning: elementwise comparison failed; returning scalar instead, but in the future will perform elementwise comparison\n",
      "  df_3_mutations_filtered_2 = df_3_mutations_filtered_by[mut][df_3_mutations_filtered_by[mut].apply(lambda row: mut2 in row.values, axis=1)]\n",
      "/Users/tianxinangelama/Documents/GitHub/topic02_team03/A_plots_3_steps.py:121: FutureWarning: elementwise comparison failed; returning scalar instead, but in the future will perform elementwise comparison\n",
      "  df_3_mutations_filtered_2 = df_3_mutations_filtered_by[mut][df_3_mutations_filtered_by[mut].apply(lambda row: mut2 in row.values, axis=1)]\n",
      "/Users/tianxinangelama/Documents/GitHub/topic02_team03/A_plots_3_steps.py:121: FutureWarning: elementwise comparison failed; returning scalar instead, but in the future will perform elementwise comparison\n",
      "  df_3_mutations_filtered_2 = df_3_mutations_filtered_by[mut][df_3_mutations_filtered_by[mut].apply(lambda row: mut2 in row.values, axis=1)]\n",
      "/Users/tianxinangelama/Documents/GitHub/topic02_team03/A_plots_3_steps.py:121: FutureWarning: elementwise comparison failed; returning scalar instead, but in the future will perform elementwise comparison\n",
      "  df_3_mutations_filtered_2 = df_3_mutations_filtered_by[mut][df_3_mutations_filtered_by[mut].apply(lambda row: mut2 in row.values, axis=1)]\n",
      "/Users/tianxinangelama/Documents/GitHub/topic02_team03/A_plots_3_steps.py:121: FutureWarning: elementwise comparison failed; returning scalar instead, but in the future will perform elementwise comparison\n",
      "  df_3_mutations_filtered_2 = df_3_mutations_filtered_by[mut][df_3_mutations_filtered_by[mut].apply(lambda row: mut2 in row.values, axis=1)]\n",
      "/Users/tianxinangelama/Documents/GitHub/topic02_team03/A_plots_3_steps.py:121: FutureWarning: elementwise comparison failed; returning scalar instead, but in the future will perform elementwise comparison\n",
      "  df_3_mutations_filtered_2 = df_3_mutations_filtered_by[mut][df_3_mutations_filtered_by[mut].apply(lambda row: mut2 in row.values, axis=1)]\n",
      "/Users/tianxinangelama/Documents/GitHub/topic02_team03/A_plots_3_steps.py:121: FutureWarning: elementwise comparison failed; returning scalar instead, but in the future will perform elementwise comparison\n",
      "  df_3_mutations_filtered_2 = df_3_mutations_filtered_by[mut][df_3_mutations_filtered_by[mut].apply(lambda row: mut2 in row.values, axis=1)]\n",
      "/Users/tianxinangelama/Documents/GitHub/topic02_team03/A_plots_3_steps.py:121: FutureWarning: elementwise comparison failed; returning scalar instead, but in the future will perform elementwise comparison\n",
      "  df_3_mutations_filtered_2 = df_3_mutations_filtered_by[mut][df_3_mutations_filtered_by[mut].apply(lambda row: mut2 in row.values, axis=1)]\n",
      "/Users/tianxinangelama/Documents/GitHub/topic02_team03/A_plots_3_steps.py:121: FutureWarning: elementwise comparison failed; returning scalar instead, but in the future will perform elementwise comparison\n",
      "  df_3_mutations_filtered_2 = df_3_mutations_filtered_by[mut][df_3_mutations_filtered_by[mut].apply(lambda row: mut2 in row.values, axis=1)]\n",
      "/Users/tianxinangelama/Documents/GitHub/topic02_team03/A_plots_3_steps.py:121: FutureWarning: elementwise comparison failed; returning scalar instead, but in the future will perform elementwise comparison\n",
      "  df_3_mutations_filtered_2 = df_3_mutations_filtered_by[mut][df_3_mutations_filtered_by[mut].apply(lambda row: mut2 in row.values, axis=1)]\n",
      "/Users/tianxinangelama/Documents/GitHub/topic02_team03/A_plots_3_steps.py:121: FutureWarning: elementwise comparison failed; returning scalar instead, but in the future will perform elementwise comparison\n",
      "  df_3_mutations_filtered_2 = df_3_mutations_filtered_by[mut][df_3_mutations_filtered_by[mut].apply(lambda row: mut2 in row.values, axis=1)]\n",
      "/Users/tianxinangelama/Documents/GitHub/topic02_team03/A_plots_3_steps.py:121: FutureWarning: elementwise comparison failed; returning scalar instead, but in the future will perform elementwise comparison\n",
      "  df_3_mutations_filtered_2 = df_3_mutations_filtered_by[mut][df_3_mutations_filtered_by[mut].apply(lambda row: mut2 in row.values, axis=1)]\n",
      "/Users/tianxinangelama/Documents/GitHub/topic02_team03/A_plots_3_steps.py:121: FutureWarning: elementwise comparison failed; returning scalar instead, but in the future will perform elementwise comparison\n",
      "  df_3_mutations_filtered_2 = df_3_mutations_filtered_by[mut][df_3_mutations_filtered_by[mut].apply(lambda row: mut2 in row.values, axis=1)]\n",
      "/Users/tianxinangelama/Documents/GitHub/topic02_team03/A_plots_3_steps.py:121: FutureWarning: elementwise comparison failed; returning scalar instead, but in the future will perform elementwise comparison\n",
      "  df_3_mutations_filtered_2 = df_3_mutations_filtered_by[mut][df_3_mutations_filtered_by[mut].apply(lambda row: mut2 in row.values, axis=1)]\n",
      "/Users/tianxinangelama/Documents/GitHub/topic02_team03/A_plots_3_steps.py:121: FutureWarning: elementwise comparison failed; returning scalar instead, but in the future will perform elementwise comparison\n",
      "  df_3_mutations_filtered_2 = df_3_mutations_filtered_by[mut][df_3_mutations_filtered_by[mut].apply(lambda row: mut2 in row.values, axis=1)]\n",
      "/Users/tianxinangelama/Documents/GitHub/topic02_team03/A_plots_3_steps.py:121: FutureWarning: elementwise comparison failed; returning scalar instead, but in the future will perform elementwise comparison\n",
      "  df_3_mutations_filtered_2 = df_3_mutations_filtered_by[mut][df_3_mutations_filtered_by[mut].apply(lambda row: mut2 in row.values, axis=1)]\n",
      "/Users/tianxinangelama/Documents/GitHub/topic02_team03/A_plots_3_steps.py:121: FutureWarning: elementwise comparison failed; returning scalar instead, but in the future will perform elementwise comparison\n",
      "  df_3_mutations_filtered_2 = df_3_mutations_filtered_by[mut][df_3_mutations_filtered_by[mut].apply(lambda row: mut2 in row.values, axis=1)]\n",
      "/Users/tianxinangelama/Documents/GitHub/topic02_team03/A_plots_3_steps.py:121: FutureWarning: elementwise comparison failed; returning scalar instead, but in the future will perform elementwise comparison\n",
      "  df_3_mutations_filtered_2 = df_3_mutations_filtered_by[mut][df_3_mutations_filtered_by[mut].apply(lambda row: mut2 in row.values, axis=1)]\n",
      "/Users/tianxinangelama/Documents/GitHub/topic02_team03/A_plots_3_steps.py:121: FutureWarning: elementwise comparison failed; returning scalar instead, but in the future will perform elementwise comparison\n",
      "  df_3_mutations_filtered_2 = df_3_mutations_filtered_by[mut][df_3_mutations_filtered_by[mut].apply(lambda row: mut2 in row.values, axis=1)]\n",
      "/Users/tianxinangelama/Documents/GitHub/topic02_team03/A_plots_3_steps.py:121: FutureWarning: elementwise comparison failed; returning scalar instead, but in the future will perform elementwise comparison\n",
      "  df_3_mutations_filtered_2 = df_3_mutations_filtered_by[mut][df_3_mutations_filtered_by[mut].apply(lambda row: mut2 in row.values, axis=1)]\n",
      "/Users/tianxinangelama/Documents/GitHub/topic02_team03/A_plots_3_steps.py:121: FutureWarning: elementwise comparison failed; returning scalar instead, but in the future will perform elementwise comparison\n",
      "  df_3_mutations_filtered_2 = df_3_mutations_filtered_by[mut][df_3_mutations_filtered_by[mut].apply(lambda row: mut2 in row.values, axis=1)]\n",
      "/Users/tianxinangelama/Documents/GitHub/topic02_team03/A_plots_3_steps.py:121: FutureWarning: elementwise comparison failed; returning scalar instead, but in the future will perform elementwise comparison\n",
      "  df_3_mutations_filtered_2 = df_3_mutations_filtered_by[mut][df_3_mutations_filtered_by[mut].apply(lambda row: mut2 in row.values, axis=1)]\n",
      "/Users/tianxinangelama/Documents/GitHub/topic02_team03/A_plots_3_steps.py:121: FutureWarning: elementwise comparison failed; returning scalar instead, but in the future will perform elementwise comparison\n",
      "  df_3_mutations_filtered_2 = df_3_mutations_filtered_by[mut][df_3_mutations_filtered_by[mut].apply(lambda row: mut2 in row.values, axis=1)]\n",
      "/Users/tianxinangelama/Documents/GitHub/topic02_team03/A_plots_3_steps.py:121: FutureWarning: elementwise comparison failed; returning scalar instead, but in the future will perform elementwise comparison\n",
      "  df_3_mutations_filtered_2 = df_3_mutations_filtered_by[mut][df_3_mutations_filtered_by[mut].apply(lambda row: mut2 in row.values, axis=1)]\n",
      "/Users/tianxinangelama/Documents/GitHub/topic02_team03/A_plots_3_steps.py:121: FutureWarning: elementwise comparison failed; returning scalar instead, but in the future will perform elementwise comparison\n",
      "  df_3_mutations_filtered_2 = df_3_mutations_filtered_by[mut][df_3_mutations_filtered_by[mut].apply(lambda row: mut2 in row.values, axis=1)]\n",
      "/Users/tianxinangelama/Documents/GitHub/topic02_team03/A_plots_3_steps.py:121: FutureWarning: elementwise comparison failed; returning scalar instead, but in the future will perform elementwise comparison\n",
      "  df_3_mutations_filtered_2 = df_3_mutations_filtered_by[mut][df_3_mutations_filtered_by[mut].apply(lambda row: mut2 in row.values, axis=1)]\n",
      "/Users/tianxinangelama/Documents/GitHub/topic02_team03/A_plots_3_steps.py:121: FutureWarning: elementwise comparison failed; returning scalar instead, but in the future will perform elementwise comparison\n",
      "  df_3_mutations_filtered_2 = df_3_mutations_filtered_by[mut][df_3_mutations_filtered_by[mut].apply(lambda row: mut2 in row.values, axis=1)]\n",
      "/Users/tianxinangelama/Documents/GitHub/topic02_team03/A_plots_3_steps.py:121: FutureWarning: elementwise comparison failed; returning scalar instead, but in the future will perform elementwise comparison\n",
      "  df_3_mutations_filtered_2 = df_3_mutations_filtered_by[mut][df_3_mutations_filtered_by[mut].apply(lambda row: mut2 in row.values, axis=1)]\n",
      "/Users/tianxinangelama/Documents/GitHub/topic02_team03/A_plots_3_steps.py:121: FutureWarning: elementwise comparison failed; returning scalar instead, but in the future will perform elementwise comparison\n",
      "  df_3_mutations_filtered_2 = df_3_mutations_filtered_by[mut][df_3_mutations_filtered_by[mut].apply(lambda row: mut2 in row.values, axis=1)]\n",
      "/Users/tianxinangelama/Documents/GitHub/topic02_team03/A_plots_3_steps.py:121: FutureWarning: elementwise comparison failed; returning scalar instead, but in the future will perform elementwise comparison\n",
      "  df_3_mutations_filtered_2 = df_3_mutations_filtered_by[mut][df_3_mutations_filtered_by[mut].apply(lambda row: mut2 in row.values, axis=1)]\n",
      "/Users/tianxinangelama/Documents/GitHub/topic02_team03/A_plots_3_steps.py:121: FutureWarning: elementwise comparison failed; returning scalar instead, but in the future will perform elementwise comparison\n",
      "  df_3_mutations_filtered_2 = df_3_mutations_filtered_by[mut][df_3_mutations_filtered_by[mut].apply(lambda row: mut2 in row.values, axis=1)]\n",
      "/Users/tianxinangelama/Documents/GitHub/topic02_team03/A_plots_3_steps.py:121: FutureWarning: elementwise comparison failed; returning scalar instead, but in the future will perform elementwise comparison\n",
      "  df_3_mutations_filtered_2 = df_3_mutations_filtered_by[mut][df_3_mutations_filtered_by[mut].apply(lambda row: mut2 in row.values, axis=1)]\n",
      "/Users/tianxinangelama/Documents/GitHub/topic02_team03/A_plots_3_steps.py:121: FutureWarning: elementwise comparison failed; returning scalar instead, but in the future will perform elementwise comparison\n",
      "  df_3_mutations_filtered_2 = df_3_mutations_filtered_by[mut][df_3_mutations_filtered_by[mut].apply(lambda row: mut2 in row.values, axis=1)]\n",
      "/Users/tianxinangelama/Documents/GitHub/topic02_team03/A_plots_3_steps.py:121: FutureWarning: elementwise comparison failed; returning scalar instead, but in the future will perform elementwise comparison\n",
      "  df_3_mutations_filtered_2 = df_3_mutations_filtered_by[mut][df_3_mutations_filtered_by[mut].apply(lambda row: mut2 in row.values, axis=1)]\n",
      "/Users/tianxinangelama/Documents/GitHub/topic02_team03/A_plots_3_steps.py:121: FutureWarning: elementwise comparison failed; returning scalar instead, but in the future will perform elementwise comparison\n",
      "  df_3_mutations_filtered_2 = df_3_mutations_filtered_by[mut][df_3_mutations_filtered_by[mut].apply(lambda row: mut2 in row.values, axis=1)]\n",
      "/Users/tianxinangelama/Documents/GitHub/topic02_team03/A_plots_3_steps.py:121: FutureWarning: elementwise comparison failed; returning scalar instead, but in the future will perform elementwise comparison\n",
      "  df_3_mutations_filtered_2 = df_3_mutations_filtered_by[mut][df_3_mutations_filtered_by[mut].apply(lambda row: mut2 in row.values, axis=1)]\n",
      "/Users/tianxinangelama/Documents/GitHub/topic02_team03/A_plots_3_steps.py:121: FutureWarning: elementwise comparison failed; returning scalar instead, but in the future will perform elementwise comparison\n",
      "  df_3_mutations_filtered_2 = df_3_mutations_filtered_by[mut][df_3_mutations_filtered_by[mut].apply(lambda row: mut2 in row.values, axis=1)]\n",
      "/Users/tianxinangelama/Documents/GitHub/topic02_team03/A_plots_3_steps.py:121: FutureWarning: elementwise comparison failed; returning scalar instead, but in the future will perform elementwise comparison\n",
      "  df_3_mutations_filtered_2 = df_3_mutations_filtered_by[mut][df_3_mutations_filtered_by[mut].apply(lambda row: mut2 in row.values, axis=1)]\n",
      "/Users/tianxinangelama/Documents/GitHub/topic02_team03/A_plots_3_steps.py:121: FutureWarning: elementwise comparison failed; returning scalar instead, but in the future will perform elementwise comparison\n",
      "  df_3_mutations_filtered_2 = df_3_mutations_filtered_by[mut][df_3_mutations_filtered_by[mut].apply(lambda row: mut2 in row.values, axis=1)]\n",
      "/Users/tianxinangelama/Documents/GitHub/topic02_team03/A_plots_3_steps.py:121: FutureWarning: elementwise comparison failed; returning scalar instead, but in the future will perform elementwise comparison\n",
      "  df_3_mutations_filtered_2 = df_3_mutations_filtered_by[mut][df_3_mutations_filtered_by[mut].apply(lambda row: mut2 in row.values, axis=1)]\n",
      "/Users/tianxinangelama/Documents/GitHub/topic02_team03/A_plots_3_steps.py:121: FutureWarning: elementwise comparison failed; returning scalar instead, but in the future will perform elementwise comparison\n",
      "  df_3_mutations_filtered_2 = df_3_mutations_filtered_by[mut][df_3_mutations_filtered_by[mut].apply(lambda row: mut2 in row.values, axis=1)]\n"
     ]
    },
    {
     "ename": "ValueError",
     "evalue": "No objects to concatenate",
     "output_type": "error",
     "traceback": [
      "\u001B[0;31m---------------------------------------------------------------------------\u001B[0m",
      "\u001B[0;31mValueError\u001B[0m                                Traceback (most recent call last)",
      "File \u001B[0;32m~/Documents/GitHub/topic02_team03/A_plots_3_steps.py:135\u001B[0m\n\u001B[1;32m    132\u001B[0m         df_3_mutations_filtered_2_non_empty_by[key_2] \u001B[38;5;241m=\u001B[39m df_3_mutations_filtered_2\n\u001B[1;32m    134\u001B[0m     \u001B[38;5;66;03m# merge all dfs from df_3_mutations_filtered_2_non_empty_by\u001B[39;00m\n\u001B[0;32m--> 135\u001B[0m     df_3_mutations_filtered_2_merged \u001B[38;5;241m=\u001B[39m \u001B[43mpd\u001B[49m\u001B[38;5;241;43m.\u001B[39;49m\u001B[43mconcat\u001B[49m\u001B[43m(\u001B[49m\u001B[43mdf_3_mutations_filtered_2_non_empty_by\u001B[49m\u001B[38;5;241;43m.\u001B[39;49m\u001B[43mvalues\u001B[49m\u001B[43m(\u001B[49m\u001B[43m)\u001B[49m\u001B[43m,\u001B[49m\u001B[43m \u001B[49m\u001B[43mignore_index\u001B[49m\u001B[38;5;241;43m=\u001B[39;49m\u001B[38;5;28;43;01mFalse\u001B[39;49;00m\u001B[43m)\u001B[49m\n\u001B[1;32m    138\u001B[0m \u001B[38;5;66;03m# list possible mutations in mutants with 3x mutation\u001B[39;00m\n\u001B[1;32m    139\u001B[0m \n\u001B[1;32m    140\u001B[0m \n\u001B[1;32m    141\u001B[0m \u001B[38;5;66;03m# create a list with all mutations from df_3_mutations_filtered_2_merged\u001B[39;00m\n\u001B[1;32m    142\u001B[0m \u001B[38;5;66;03m# create a list with all values from df_4_mutations_filtered_3_merged, exclude column DMS_score (duplicates are removed with this step)\u001B[39;00m\n\u001B[1;32m    143\u001B[0m possible_mut_path_3x \u001B[38;5;241m=\u001B[39m \u001B[38;5;28mlist\u001B[39m(\u001B[38;5;28mset\u001B[39m(df_3_mutations_filtered_2_merged\u001B[38;5;241m.\u001B[39mvalues\u001B[38;5;241m.\u001B[39mflatten()))\n",
      "File \u001B[0;32m~/anaconda3/envs/DMS/lib/python3.10/site-packages/pandas/util/_decorators.py:331\u001B[0m, in \u001B[0;36mdeprecate_nonkeyword_arguments.<locals>.decorate.<locals>.wrapper\u001B[0;34m(*args, **kwargs)\u001B[0m\n\u001B[1;32m    325\u001B[0m \u001B[38;5;28;01mif\u001B[39;00m \u001B[38;5;28mlen\u001B[39m(args) \u001B[38;5;241m>\u001B[39m num_allow_args:\n\u001B[1;32m    326\u001B[0m     warnings\u001B[38;5;241m.\u001B[39mwarn(\n\u001B[1;32m    327\u001B[0m         msg\u001B[38;5;241m.\u001B[39mformat(arguments\u001B[38;5;241m=\u001B[39m_format_argument_list(allow_args)),\n\u001B[1;32m    328\u001B[0m         \u001B[38;5;167;01mFutureWarning\u001B[39;00m,\n\u001B[1;32m    329\u001B[0m         stacklevel\u001B[38;5;241m=\u001B[39mfind_stack_level(),\n\u001B[1;32m    330\u001B[0m     )\n\u001B[0;32m--> 331\u001B[0m \u001B[38;5;28;01mreturn\u001B[39;00m \u001B[43mfunc\u001B[49m\u001B[43m(\u001B[49m\u001B[38;5;241;43m*\u001B[39;49m\u001B[43margs\u001B[49m\u001B[43m,\u001B[49m\u001B[43m \u001B[49m\u001B[38;5;241;43m*\u001B[39;49m\u001B[38;5;241;43m*\u001B[39;49m\u001B[43mkwargs\u001B[49m\u001B[43m)\u001B[49m\n",
      "File \u001B[0;32m~/anaconda3/envs/DMS/lib/python3.10/site-packages/pandas/core/reshape/concat.py:368\u001B[0m, in \u001B[0;36mconcat\u001B[0;34m(objs, axis, join, ignore_index, keys, levels, names, verify_integrity, sort, copy)\u001B[0m\n\u001B[1;32m    146\u001B[0m \u001B[38;5;129m@deprecate_nonkeyword_arguments\u001B[39m(version\u001B[38;5;241m=\u001B[39m\u001B[38;5;28;01mNone\u001B[39;00m, allowed_args\u001B[38;5;241m=\u001B[39m[\u001B[38;5;124m\"\u001B[39m\u001B[38;5;124mobjs\u001B[39m\u001B[38;5;124m\"\u001B[39m])\n\u001B[1;32m    147\u001B[0m \u001B[38;5;28;01mdef\u001B[39;00m \u001B[38;5;21mconcat\u001B[39m(\n\u001B[1;32m    148\u001B[0m     objs: Iterable[NDFrame] \u001B[38;5;241m|\u001B[39m Mapping[HashableT, NDFrame],\n\u001B[0;32m   (...)\u001B[0m\n\u001B[1;32m    157\u001B[0m     copy: \u001B[38;5;28mbool\u001B[39m \u001B[38;5;241m=\u001B[39m \u001B[38;5;28;01mTrue\u001B[39;00m,\n\u001B[1;32m    158\u001B[0m ) \u001B[38;5;241m-\u001B[39m\u001B[38;5;241m>\u001B[39m DataFrame \u001B[38;5;241m|\u001B[39m Series:\n\u001B[1;32m    159\u001B[0m \u001B[38;5;250m    \u001B[39m\u001B[38;5;124;03m\"\"\"\u001B[39;00m\n\u001B[1;32m    160\u001B[0m \u001B[38;5;124;03m    Concatenate pandas objects along a particular axis.\u001B[39;00m\n\u001B[1;32m    161\u001B[0m \n\u001B[0;32m   (...)\u001B[0m\n\u001B[1;32m    366\u001B[0m \u001B[38;5;124;03m    1   3   4\u001B[39;00m\n\u001B[1;32m    367\u001B[0m \u001B[38;5;124;03m    \"\"\"\u001B[39;00m\n\u001B[0;32m--> 368\u001B[0m     op \u001B[38;5;241m=\u001B[39m \u001B[43m_Concatenator\u001B[49m\u001B[43m(\u001B[49m\n\u001B[1;32m    369\u001B[0m \u001B[43m        \u001B[49m\u001B[43mobjs\u001B[49m\u001B[43m,\u001B[49m\n\u001B[1;32m    370\u001B[0m \u001B[43m        \u001B[49m\u001B[43maxis\u001B[49m\u001B[38;5;241;43m=\u001B[39;49m\u001B[43maxis\u001B[49m\u001B[43m,\u001B[49m\n\u001B[1;32m    371\u001B[0m \u001B[43m        \u001B[49m\u001B[43mignore_index\u001B[49m\u001B[38;5;241;43m=\u001B[39;49m\u001B[43mignore_index\u001B[49m\u001B[43m,\u001B[49m\n\u001B[1;32m    372\u001B[0m \u001B[43m        \u001B[49m\u001B[43mjoin\u001B[49m\u001B[38;5;241;43m=\u001B[39;49m\u001B[43mjoin\u001B[49m\u001B[43m,\u001B[49m\n\u001B[1;32m    373\u001B[0m \u001B[43m        \u001B[49m\u001B[43mkeys\u001B[49m\u001B[38;5;241;43m=\u001B[39;49m\u001B[43mkeys\u001B[49m\u001B[43m,\u001B[49m\n\u001B[1;32m    374\u001B[0m \u001B[43m        \u001B[49m\u001B[43mlevels\u001B[49m\u001B[38;5;241;43m=\u001B[39;49m\u001B[43mlevels\u001B[49m\u001B[43m,\u001B[49m\n\u001B[1;32m    375\u001B[0m \u001B[43m        \u001B[49m\u001B[43mnames\u001B[49m\u001B[38;5;241;43m=\u001B[39;49m\u001B[43mnames\u001B[49m\u001B[43m,\u001B[49m\n\u001B[1;32m    376\u001B[0m \u001B[43m        \u001B[49m\u001B[43mverify_integrity\u001B[49m\u001B[38;5;241;43m=\u001B[39;49m\u001B[43mverify_integrity\u001B[49m\u001B[43m,\u001B[49m\n\u001B[1;32m    377\u001B[0m \u001B[43m        \u001B[49m\u001B[43mcopy\u001B[49m\u001B[38;5;241;43m=\u001B[39;49m\u001B[43mcopy\u001B[49m\u001B[43m,\u001B[49m\n\u001B[1;32m    378\u001B[0m \u001B[43m        \u001B[49m\u001B[43msort\u001B[49m\u001B[38;5;241;43m=\u001B[39;49m\u001B[43msort\u001B[49m\u001B[43m,\u001B[49m\n\u001B[1;32m    379\u001B[0m \u001B[43m    \u001B[49m\u001B[43m)\u001B[49m\n\u001B[1;32m    381\u001B[0m     \u001B[38;5;28;01mreturn\u001B[39;00m op\u001B[38;5;241m.\u001B[39mget_result()\n",
      "File \u001B[0;32m~/anaconda3/envs/DMS/lib/python3.10/site-packages/pandas/core/reshape/concat.py:425\u001B[0m, in \u001B[0;36m_Concatenator.__init__\u001B[0;34m(self, objs, axis, join, keys, levels, names, ignore_index, verify_integrity, copy, sort)\u001B[0m\n\u001B[1;32m    422\u001B[0m     objs \u001B[38;5;241m=\u001B[39m \u001B[38;5;28mlist\u001B[39m(objs)\n\u001B[1;32m    424\u001B[0m \u001B[38;5;28;01mif\u001B[39;00m \u001B[38;5;28mlen\u001B[39m(objs) \u001B[38;5;241m==\u001B[39m \u001B[38;5;241m0\u001B[39m:\n\u001B[0;32m--> 425\u001B[0m     \u001B[38;5;28;01mraise\u001B[39;00m \u001B[38;5;167;01mValueError\u001B[39;00m(\u001B[38;5;124m\"\u001B[39m\u001B[38;5;124mNo objects to concatenate\u001B[39m\u001B[38;5;124m\"\u001B[39m)\n\u001B[1;32m    427\u001B[0m \u001B[38;5;28;01mif\u001B[39;00m keys \u001B[38;5;129;01mis\u001B[39;00m \u001B[38;5;28;01mNone\u001B[39;00m:\n\u001B[1;32m    428\u001B[0m     objs \u001B[38;5;241m=\u001B[39m \u001B[38;5;28mlist\u001B[39m(com\u001B[38;5;241m.\u001B[39mnot_none(\u001B[38;5;241m*\u001B[39mobjs))\n",
      "\u001B[0;31mValueError\u001B[0m: No objects to concatenate"
     ]
    }
   ],
   "source": [
    "import pandas as pd\n",
    "%run /Users/tianxinangelama/Documents/GitHub/topic02_team03/A_plots_3_steps.py"
   ]
  },
  {
   "cell_type": "code",
   "execution_count": 4,
   "outputs": [
    {
     "ename": "NameError",
     "evalue": "name 'possible_mut_path_3x' is not defined",
     "output_type": "error",
     "traceback": [
      "\u001B[0;31m---------------------------------------------------------------------------\u001B[0m",
      "\u001B[0;31mNameError\u001B[0m                                 Traceback (most recent call last)",
      "Cell \u001B[0;32mIn[4], line 2\u001B[0m\n\u001B[1;32m      1\u001B[0m \u001B[38;5;66;03m# possible muts in paths with 3 steps\u001B[39;00m\n\u001B[0;32m----> 2\u001B[0m \u001B[38;5;28mprint\u001B[39m(\u001B[43mpossible_mut_path_3x\u001B[49m)\n",
      "\u001B[0;31mNameError\u001B[0m: name 'possible_mut_path_3x' is not defined"
     ]
    }
   ],
   "source": [
    "# possible muts in paths with 3 steps\n",
    "print(possible_mut_path_3x)"
   ],
   "metadata": {
    "collapsed": false,
    "ExecuteTime": {
     "end_time": "2023-07-14T09:36:16.220316Z",
     "start_time": "2023-07-14T09:36:16.204698Z"
    }
   }
  },
  {
   "cell_type": "code",
   "execution_count": null,
   "outputs": [],
   "source": [],
   "metadata": {
    "collapsed": false
   }
  }
 ],
 "metadata": {
  "kernelspec": {
   "display_name": "Python 3",
   "language": "python",
   "name": "python3"
  },
  "language_info": {
   "codemirror_mode": {
    "name": "ipython",
    "version": 2
   },
   "file_extension": ".py",
   "mimetype": "text/x-python",
   "name": "python",
   "nbconvert_exporter": "python",
   "pygments_lexer": "ipython2",
   "version": "2.7.6"
  }
 },
 "nbformat": 4,
 "nbformat_minor": 0
}
