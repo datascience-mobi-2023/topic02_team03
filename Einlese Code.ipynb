{
 "cells": [
  {
   "cell_type": "code",
   "execution_count": 2,
   "id": "1d8b13f8",
   "metadata": {
    "ExecuteTime": {
     "end_time": "2023-05-09T14:41:27.089205Z",
     "start_time": "2023-05-09T14:41:27.044038Z"
    }
   },
   "outputs": [
    {
     "ename": "NameError",
     "evalue": "name 'csvdatei' is not defined",
     "output_type": "error",
     "traceback": [
      "\u001B[0;31m---------------------------------------------------------------------------\u001B[0m",
      "\u001B[0;31mNameError\u001B[0m                                 Traceback (most recent call last)",
      "Cell \u001B[0;32mIn[2], line 3\u001B[0m\n\u001B[1;32m      1\u001B[0m \u001B[38;5;28;01mimport\u001B[39;00m \u001B[38;5;21;01mcsv\u001B[39;00m\n\u001B[1;32m      2\u001B[0m \u001B[38;5;28;01mwith\u001B[39;00m \u001B[38;5;28mopen\u001B[39m(\u001B[38;5;124m'\u001B[39m\u001B[38;5;124m/Users/liza/Desktop/Bioinfo Project/DMS_data/GFP_AEQVI_Sarkisyan_2016.csv\u001B[39m\u001B[38;5;124m'\u001B[39m) \u001B[38;5;28;01mas\u001B[39;00m dms_GFP_datei:\n\u001B[0;32m----> 3\u001B[0m     dms_GFP_datei_object \u001B[38;5;241m=\u001B[39m csv\u001B[38;5;241m.\u001B[39mreader(\u001B[43mcsvdatei\u001B[49m, delimiter\u001B[38;5;241m=\u001B[39m\u001B[38;5;124m'\u001B[39m\u001B[38;5;124m,\u001B[39m\u001B[38;5;124m'\u001B[39m)\n\u001B[1;32m      4\u001B[0m     \u001B[38;5;28mprint\u001B[39m(dms_GFP_datei_object)\n\u001B[1;32m      5\u001B[0m     \u001B[38;5;28;01mfor\u001B[39;00m row \u001B[38;5;129;01min\u001B[39;00m dms_GFP_datei_object:\n",
      "\u001B[0;31mNameError\u001B[0m: name 'csvdatei' is not defined"
     ]
    }
   ],
   "source": [
    "import csv\n",
    "with open('/Users/liza/Desktop/Bioinfo Project/DMS_data/GFP_AEQVI_Sarkisyan_2016.csv') as dms_GFP_datei:\n",
    "    dms_GFP_datei_object = csv.reader(csvdatei, delimiter=',')\n",
    "    print(dms_GFP_datei_object)\n",
    "    for row in dms_GFP_datei_object:\n",
    "        print(row)\n",
    "        \n",
    "        \n",
    "        ####Code um die Daten aus eurem Ordner einzulesen\n",
    "        ###nicht einfach kopieren!! Der Pfad muss auf euren Computer passen, je nachdem wo die Datei bei euch gespeichert ist\n",
    "        ###dementsprechend den da rein copy und pasten und dann ausführen, dann bekommt ihr ihn als Liste ausgegeben unter dem Namen \"dms_GFP_datei\"\n",
    "\n",
    "df = pd.read_csv(\"/Users/liza/Desktop/Bioinfo Project/DMS_data/GFP_AEQVI_Sarkisyan_2016.csv\")\n",
    "\n",
    "### das gleiche nur für wenn ihr Pandas installiert habt in kürzer und hoffentlich schneller"
   ]
  },
  {
   "cell_type": "code",
   "execution_count": 2,
   "outputs": [
    {
     "ename": "NameError",
     "evalue": "name 'pd' is not defined",
     "output_type": "error",
     "traceback": [
      "\u001B[0;31m---------------------------------------------------------------------------\u001B[0m",
      "\u001B[0;31mNameError\u001B[0m                                 Traceback (most recent call last)",
      "Cell \u001B[0;32mIn[2], line 1\u001B[0m\n\u001B[0;32m----> 1\u001B[0m df \u001B[38;5;241m=\u001B[39m \u001B[43mpd\u001B[49m\u001B[38;5;241m.\u001B[39mread_csv(\u001B[38;5;124m\"\u001B[39m\u001B[38;5;124m/Users/liza/Desktop/Bioinfo Project/DMS_data/GFP_AEQVI_Sarkisyan_2016.csv\u001B[39m\u001B[38;5;124m\"\u001B[39m)\n\u001B[1;32m      2\u001B[0m \u001B[38;5;28mprint\u001B[39m(df)\n",
      "\u001B[0;31mNameError\u001B[0m: name 'pd' is not defined"
     ]
    }
   ],
   "source": [],
   "metadata": {
    "collapsed": false,
    "ExecuteTime": {
     "end_time": "2023-05-09T14:47:41.363175Z",
     "start_time": "2023-05-09T14:47:41.255286Z"
    }
   }
  }
 ],
 "metadata": {
  "kernelspec": {
   "display_name": "Python 3 (ipykernel)",
   "language": "python",
   "name": "python3"
  },
  "language_info": {
   "codemirror_mode": {
    "name": "ipython",
    "version": 3
   },
   "file_extension": ".py",
   "mimetype": "text/x-python",
   "name": "python",
   "nbconvert_exporter": "python",
   "pygments_lexer": "ipython3",
   "version": "3.10.9"
  }
 },
 "nbformat": 4,
 "nbformat_minor": 5
}
