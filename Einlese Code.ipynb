{
 "cells": [
  {
   "cell_type": "code",
   "execution_count": null,
   "id": "1d8b13f8",
   "metadata": {},
   "outputs": [],
   "source": [
    "import csv\n",
    "with open('/Users/liza/Desktop/Bioinfo Project/DMS_data/GFP_AEQVI_Sarkisyan_2016.csv') as dms_GFP_datei:\n",
    "    csv_reader_object = csv.reader(csvdatei, delimiter=',')\n",
    "    print(csv_reader_object)\n",
    "    for row in csv_reader_object:\n",
    "        print(row)\n",
    "        \n",
    "        \n",
    "        ####Code um die Dtane aus eurem Ordner einzulesen\n",
    "        ###nicht einfach kopieren!! Der Pfad muss auf euren Computer passen, je nachdem wo die Datei bei euch gespeichert ist\n",
    "        ###dementsprechend den da rein copy und pasten und dann ausführen, dann bekommt ihr ihn als Liste ausgegeben unter dem Namen \"dms_GFP_datei\""
   ]
  }
 ],
 "metadata": {
  "kernelspec": {
   "display_name": "Python 3 (ipykernel)",
   "language": "python",
   "name": "python3"
  },
  "language_info": {
   "codemirror_mode": {
    "name": "ipython",
    "version": 3
   },
   "file_extension": ".py",
   "mimetype": "text/x-python",
   "name": "python",
   "nbconvert_exporter": "python",
   "pygments_lexer": "ipython3",
   "version": "3.10.9"
  }
 },
 "nbformat": 4,
 "nbformat_minor": 5
}
