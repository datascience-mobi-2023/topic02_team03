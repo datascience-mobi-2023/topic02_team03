{
 "cells": [
  {
   "cell_type": "code",
   "execution_count": 2,
   "metadata": {
    "collapsed": true,
    "ExecuteTime": {
     "end_time": "2023-07-16T14:30:45.247634Z",
     "start_time": "2023-07-16T14:30:44.633413Z"
    }
   },
   "outputs": [],
   "source": [
    "import pandas as pd\n",
    "import numpy as np\n",
    "import matplotlib.pyplot as plt"
   ]
  },
  {
   "cell_type": "code",
   "execution_count": 63,
   "outputs": [],
   "source": [
    "# read data\n",
    "df = pd.read_csv('/Users/tianxinangelama/Documents/GitHub/topic02_team03/original dataset/GFP_AEQVI_Sarkisyan_2016.csv')"
   ],
   "metadata": {
    "collapsed": false,
    "ExecuteTime": {
     "end_time": "2023-07-16T17:43:49.699329Z",
     "start_time": "2023-07-16T17:43:49.563331Z"
    }
   }
  },
  {
   "cell_type": "code",
   "execution_count": 5,
   "outputs": [
    {
     "name": "stderr",
     "output_type": "stream",
     "text": [
      "/var/folders/tn/1strgsg5455dq9n93kfzv8kh0000gn/T/ipykernel_41696/1477316467.py:5: FutureWarning: In a future version of pandas all arguments of StringMethods.split except for the argument 'pat' will be keyword-only.\n",
      "  df_ind_col['mutant'].str.split(':', 14, expand=True)\n"
     ]
    }
   ],
   "source": [
    "# split into multiple columns, 1 column for every mutation\n",
    "df_ind_col = df\n",
    "\n",
    "df_ind_col[['m1', 'm2', 'm3', 'm4', 'm5', 'm6', 'm7', 'm8', 'm9', 'm10', 'm11', 'm12', 'm13', 'm14', 'm15']] = \\\n",
    "    df_ind_col['mutant'].str.split(':', 14, expand=True)"
   ],
   "metadata": {
    "collapsed": false,
    "ExecuteTime": {
     "end_time": "2023-07-16T14:32:53.882174Z",
     "start_time": "2023-07-16T14:32:53.841321Z"
    }
   }
  },
  {
   "cell_type": "code",
   "execution_count": 6,
   "outputs": [],
   "source": [
    "# reduce df to fscore, m1 - m15\n",
    "df_only_fscore_mutations = df_ind_col\n",
    "\n",
    "df_only_fscore_mutations = df_only_fscore_mutations.drop(['mutant', 'mutated_sequence', 'DMS_score_bin'], axis=1)"
   ],
   "metadata": {
    "collapsed": false,
    "ExecuteTime": {
     "end_time": "2023-07-16T14:33:03.987870Z",
     "start_time": "2023-07-16T14:33:03.978446Z"
    }
   }
  },
  {
   "cell_type": "markdown",
   "source": [
    "# 1x mutation"
   ],
   "metadata": {
    "collapsed": false
   }
  },
  {
   "cell_type": "code",
   "execution_count": 7,
   "outputs": [],
   "source": [
    "# df mutants with 1x mutation\n",
    "# copy df\n",
    "df_1_mutation = df_only_fscore_mutations.copy()\n",
    "\n",
    "# remain rows with empty values in m2\n",
    "df_1_mutation = df_1_mutation[df_1_mutation['m2'].isna()]"
   ],
   "metadata": {
    "collapsed": false,
    "ExecuteTime": {
     "end_time": "2023-07-16T14:33:38.749069Z",
     "start_time": "2023-07-16T14:33:38.717640Z"
    }
   }
  },
  {
   "cell_type": "code",
   "execution_count": 8,
   "outputs": [],
   "source": [
    "# list possible mutations in mutants with 1x mutation\n",
    "# create list with values of m1\n",
    "possible_mut_1x_mut = df_1_mutation['m1'].tolist()\n",
    "\n",
    "# delete duplicates\n",
    "possible_mut_1x_mut = list(set(possible_mut_1x_mut))"
   ],
   "metadata": {
    "collapsed": false,
    "ExecuteTime": {
     "end_time": "2023-07-16T14:33:50.366578Z",
     "start_time": "2023-07-16T14:33:50.362168Z"
    }
   }
  },
  {
   "cell_type": "markdown",
   "source": [
    "# 2x mutations"
   ],
   "metadata": {
    "collapsed": false
   }
  },
  {
   "cell_type": "code",
   "execution_count": 9,
   "outputs": [],
   "source": [
    "# df mutants with 2x mutations\n",
    "# copy df\n",
    "df_2_mutations = df_only_fscore_mutations.copy()\n",
    "\n",
    "# delete mutants with 1x mutation\n",
    "df_2_mutations = df_2_mutations.dropna(subset=['m2'])\n",
    "\n",
    "# remain rows with empty values in m3\n",
    "df_2_mutations = df_2_mutations[df_2_mutations['m3'].isna()]"
   ],
   "metadata": {
    "collapsed": false,
    "ExecuteTime": {
     "end_time": "2023-07-16T14:35:29.991180Z",
     "start_time": "2023-07-16T14:35:29.933754Z"
    }
   }
  },
  {
   "cell_type": "code",
   "execution_count": 10,
   "outputs": [],
   "source": [
    "# filter df_2_mutations, only remain mutants with mutations from possible_mut_1x_mut\n",
    "# copy df\n",
    "df_2_mutations_filtered = df_2_mutations.copy()\n",
    "\n",
    "# create a new df for each mut in possible_mut_1x_mut\n",
    "df_2_mutations_filtered_by = {}\n",
    "possible_mut_2x_mut_with = {}\n",
    "\n",
    "for mut in possible_mut_1x_mut:\n",
    "    # copy df\n",
    "    df_2_mutations_filtered = df_2_mutations.copy()\n",
    "    # df remaining rows with mut\n",
    "    df_2_mutations_filtered = df_2_mutations_filtered[df_2_mutations_filtered.apply(lambda row: mut in row.values, axis=1)]\n",
    "    # assign to mut\n",
    "    df_2_mutations_filtered_by[mut] = df_2_mutations_filtered\n",
    "\n",
    "    # create list with possible mutations of the new df\n",
    "    possible_mut_2x_mut = list(set(df_2_mutations_filtered.values.flatten()))\n",
    "    # remove duplicates\n",
    "    possible_mut_2x_mut = list(set(possible_mut_2x_mut))\n",
    "    # remove mut if it exists in the list (if, because some mut are not available in df_2_mutations\n",
    "    if mut in possible_mut_2x_mut:\n",
    "        possible_mut_2x_mut.remove(mut)\n",
    "    # remove None\n",
    "    possible_mut_2x_mut = [value for value in possible_mut_2x_mut if value is not None]\n",
    "    # remove fscore from list\n",
    "    possible_mut_2x_mut = [value for value in possible_mut_2x_mut if not isinstance(value, (int, float))]\n",
    "    # assign to mut\n",
    "    possible_mut_2x_mut_with[mut] = possible_mut_2x_mut"
   ],
   "metadata": {
    "collapsed": false,
    "ExecuteTime": {
     "end_time": "2023-07-16T14:36:37.327202Z",
     "start_time": "2023-07-16T14:35:44.608817Z"
    }
   }
  },
  {
   "cell_type": "markdown",
   "source": [
    "### merge dfs"
   ],
   "metadata": {
    "collapsed": false
   }
  },
  {
   "cell_type": "code",
   "execution_count": 14,
   "outputs": [],
   "source": [
    "# merge all dfs from df_2_mutations_filtered_by\n",
    "df_2_mutations_filtered_merged = pd.concat(df_2_mutations_filtered_by.values(), ignore_index=False)"
   ],
   "metadata": {
    "collapsed": false,
    "ExecuteTime": {
     "end_time": "2023-07-16T14:44:25.684796Z",
     "start_time": "2023-07-16T14:44:25.641023Z"
    }
   }
  },
  {
   "cell_type": "markdown",
   "source": [
    "# 3x mutations"
   ],
   "metadata": {
    "collapsed": false
   }
  },
  {
   "cell_type": "code",
   "execution_count": 16,
   "outputs": [],
   "source": [
    "# df mutants with 3x mutations\n",
    "# copy df\n",
    "df_3_mutations = df_only_fscore_mutations.copy()\n",
    "\n",
    "# delete mutants with < 3 mutations\n",
    "df_3_mutations = df_3_mutations.dropna(subset=['m3'])\n",
    "\n",
    "# remain rows with empty values in m4\n",
    "df_3_mutations = df_3_mutations[df_3_mutations['m4'].isna()]"
   ],
   "metadata": {
    "collapsed": false,
    "ExecuteTime": {
     "end_time": "2023-07-16T14:44:56.900796Z",
     "start_time": "2023-07-16T14:44:56.848865Z"
    }
   }
  },
  {
   "cell_type": "code",
   "execution_count": 17,
   "outputs": [],
   "source": [
    "# filter df_3_mutations with possible_mut_1x_mut\n",
    "# copy df\n",
    "df_3_mutations_filtered = df_3_mutations.copy()\n",
    "\n",
    "# create a new df for each mut in possible_mut_1x_mut\n",
    "df_3_mutations_filtered_by = {}\n",
    "\n",
    "for mut in possible_mut_1x_mut:\n",
    "    # copy df\n",
    "    df_3_mutations_filtered = df_3_mutations.copy()\n",
    "    # df remaining rows with mut\n",
    "    df_3_mutations_filtered = df_3_mutations_filtered[df_3_mutations_filtered.apply(lambda row: mut in row.values, axis=1)]\n",
    "    # assign to mut\n",
    "    df_3_mutations_filtered_by[mut] = df_3_mutations_filtered"
   ],
   "metadata": {
    "collapsed": false,
    "ExecuteTime": {
     "end_time": "2023-07-16T14:45:59.920742Z",
     "start_time": "2023-07-16T14:45:09.281861Z"
    }
   }
  },
  {
   "cell_type": "code",
   "execution_count": 19,
   "outputs": [
    {
     "name": "stderr",
     "output_type": "stream",
     "text": [
      "/var/folders/tn/1strgsg5455dq9n93kfzv8kh0000gn/T/ipykernel_41696/976455965.py:10: FutureWarning: elementwise comparison failed; returning scalar instead, but in the future will perform elementwise comparison\n",
      "  df_3_mutations_filtered_2 = df_3_mutations_filtered_by[mut][df_3_mutations_filtered_by[mut].apply(lambda row: mut2 in row.values, axis=1)]\n",
      "/var/folders/tn/1strgsg5455dq9n93kfzv8kh0000gn/T/ipykernel_41696/976455965.py:10: FutureWarning: elementwise comparison failed; returning scalar instead, but in the future will perform elementwise comparison\n",
      "  df_3_mutations_filtered_2 = df_3_mutations_filtered_by[mut][df_3_mutations_filtered_by[mut].apply(lambda row: mut2 in row.values, axis=1)]\n",
      "/var/folders/tn/1strgsg5455dq9n93kfzv8kh0000gn/T/ipykernel_41696/976455965.py:10: FutureWarning: elementwise comparison failed; returning scalar instead, but in the future will perform elementwise comparison\n",
      "  df_3_mutations_filtered_2 = df_3_mutations_filtered_by[mut][df_3_mutations_filtered_by[mut].apply(lambda row: mut2 in row.values, axis=1)]\n",
      "/var/folders/tn/1strgsg5455dq9n93kfzv8kh0000gn/T/ipykernel_41696/976455965.py:10: FutureWarning: elementwise comparison failed; returning scalar instead, but in the future will perform elementwise comparison\n",
      "  df_3_mutations_filtered_2 = df_3_mutations_filtered_by[mut][df_3_mutations_filtered_by[mut].apply(lambda row: mut2 in row.values, axis=1)]\n",
      "/var/folders/tn/1strgsg5455dq9n93kfzv8kh0000gn/T/ipykernel_41696/976455965.py:10: FutureWarning: elementwise comparison failed; returning scalar instead, but in the future will perform elementwise comparison\n",
      "  df_3_mutations_filtered_2 = df_3_mutations_filtered_by[mut][df_3_mutations_filtered_by[mut].apply(lambda row: mut2 in row.values, axis=1)]\n",
      "/var/folders/tn/1strgsg5455dq9n93kfzv8kh0000gn/T/ipykernel_41696/976455965.py:10: FutureWarning: elementwise comparison failed; returning scalar instead, but in the future will perform elementwise comparison\n",
      "  df_3_mutations_filtered_2 = df_3_mutations_filtered_by[mut][df_3_mutations_filtered_by[mut].apply(lambda row: mut2 in row.values, axis=1)]\n",
      "/var/folders/tn/1strgsg5455dq9n93kfzv8kh0000gn/T/ipykernel_41696/976455965.py:10: FutureWarning: elementwise comparison failed; returning scalar instead, but in the future will perform elementwise comparison\n",
      "  df_3_mutations_filtered_2 = df_3_mutations_filtered_by[mut][df_3_mutations_filtered_by[mut].apply(lambda row: mut2 in row.values, axis=1)]\n",
      "/var/folders/tn/1strgsg5455dq9n93kfzv8kh0000gn/T/ipykernel_41696/976455965.py:10: FutureWarning: elementwise comparison failed; returning scalar instead, but in the future will perform elementwise comparison\n",
      "  df_3_mutations_filtered_2 = df_3_mutations_filtered_by[mut][df_3_mutations_filtered_by[mut].apply(lambda row: mut2 in row.values, axis=1)]\n",
      "/var/folders/tn/1strgsg5455dq9n93kfzv8kh0000gn/T/ipykernel_41696/976455965.py:10: FutureWarning: elementwise comparison failed; returning scalar instead, but in the future will perform elementwise comparison\n",
      "  df_3_mutations_filtered_2 = df_3_mutations_filtered_by[mut][df_3_mutations_filtered_by[mut].apply(lambda row: mut2 in row.values, axis=1)]\n",
      "/var/folders/tn/1strgsg5455dq9n93kfzv8kh0000gn/T/ipykernel_41696/976455965.py:10: FutureWarning: elementwise comparison failed; returning scalar instead, but in the future will perform elementwise comparison\n",
      "  df_3_mutations_filtered_2 = df_3_mutations_filtered_by[mut][df_3_mutations_filtered_by[mut].apply(lambda row: mut2 in row.values, axis=1)]\n",
      "/var/folders/tn/1strgsg5455dq9n93kfzv8kh0000gn/T/ipykernel_41696/976455965.py:10: FutureWarning: elementwise comparison failed; returning scalar instead, but in the future will perform elementwise comparison\n",
      "  df_3_mutations_filtered_2 = df_3_mutations_filtered_by[mut][df_3_mutations_filtered_by[mut].apply(lambda row: mut2 in row.values, axis=1)]\n",
      "/var/folders/tn/1strgsg5455dq9n93kfzv8kh0000gn/T/ipykernel_41696/976455965.py:10: FutureWarning: elementwise comparison failed; returning scalar instead, but in the future will perform elementwise comparison\n",
      "  df_3_mutations_filtered_2 = df_3_mutations_filtered_by[mut][df_3_mutations_filtered_by[mut].apply(lambda row: mut2 in row.values, axis=1)]\n",
      "/var/folders/tn/1strgsg5455dq9n93kfzv8kh0000gn/T/ipykernel_41696/976455965.py:10: FutureWarning: elementwise comparison failed; returning scalar instead, but in the future will perform elementwise comparison\n",
      "  df_3_mutations_filtered_2 = df_3_mutations_filtered_by[mut][df_3_mutations_filtered_by[mut].apply(lambda row: mut2 in row.values, axis=1)]\n",
      "/var/folders/tn/1strgsg5455dq9n93kfzv8kh0000gn/T/ipykernel_41696/976455965.py:10: FutureWarning: elementwise comparison failed; returning scalar instead, but in the future will perform elementwise comparison\n",
      "  df_3_mutations_filtered_2 = df_3_mutations_filtered_by[mut][df_3_mutations_filtered_by[mut].apply(lambda row: mut2 in row.values, axis=1)]\n",
      "/var/folders/tn/1strgsg5455dq9n93kfzv8kh0000gn/T/ipykernel_41696/976455965.py:10: FutureWarning: elementwise comparison failed; returning scalar instead, but in the future will perform elementwise comparison\n",
      "  df_3_mutations_filtered_2 = df_3_mutations_filtered_by[mut][df_3_mutations_filtered_by[mut].apply(lambda row: mut2 in row.values, axis=1)]\n",
      "/var/folders/tn/1strgsg5455dq9n93kfzv8kh0000gn/T/ipykernel_41696/976455965.py:10: FutureWarning: elementwise comparison failed; returning scalar instead, but in the future will perform elementwise comparison\n",
      "  df_3_mutations_filtered_2 = df_3_mutations_filtered_by[mut][df_3_mutations_filtered_by[mut].apply(lambda row: mut2 in row.values, axis=1)]\n",
      "/var/folders/tn/1strgsg5455dq9n93kfzv8kh0000gn/T/ipykernel_41696/976455965.py:10: FutureWarning: elementwise comparison failed; returning scalar instead, but in the future will perform elementwise comparison\n",
      "  df_3_mutations_filtered_2 = df_3_mutations_filtered_by[mut][df_3_mutations_filtered_by[mut].apply(lambda row: mut2 in row.values, axis=1)]\n",
      "/var/folders/tn/1strgsg5455dq9n93kfzv8kh0000gn/T/ipykernel_41696/976455965.py:10: FutureWarning: elementwise comparison failed; returning scalar instead, but in the future will perform elementwise comparison\n",
      "  df_3_mutations_filtered_2 = df_3_mutations_filtered_by[mut][df_3_mutations_filtered_by[mut].apply(lambda row: mut2 in row.values, axis=1)]\n",
      "/var/folders/tn/1strgsg5455dq9n93kfzv8kh0000gn/T/ipykernel_41696/976455965.py:10: FutureWarning: elementwise comparison failed; returning scalar instead, but in the future will perform elementwise comparison\n",
      "  df_3_mutations_filtered_2 = df_3_mutations_filtered_by[mut][df_3_mutations_filtered_by[mut].apply(lambda row: mut2 in row.values, axis=1)]\n",
      "/var/folders/tn/1strgsg5455dq9n93kfzv8kh0000gn/T/ipykernel_41696/976455965.py:10: FutureWarning: elementwise comparison failed; returning scalar instead, but in the future will perform elementwise comparison\n",
      "  df_3_mutations_filtered_2 = df_3_mutations_filtered_by[mut][df_3_mutations_filtered_by[mut].apply(lambda row: mut2 in row.values, axis=1)]\n",
      "/var/folders/tn/1strgsg5455dq9n93kfzv8kh0000gn/T/ipykernel_41696/976455965.py:10: FutureWarning: elementwise comparison failed; returning scalar instead, but in the future will perform elementwise comparison\n",
      "  df_3_mutations_filtered_2 = df_3_mutations_filtered_by[mut][df_3_mutations_filtered_by[mut].apply(lambda row: mut2 in row.values, axis=1)]\n",
      "/var/folders/tn/1strgsg5455dq9n93kfzv8kh0000gn/T/ipykernel_41696/976455965.py:10: FutureWarning: elementwise comparison failed; returning scalar instead, but in the future will perform elementwise comparison\n",
      "  df_3_mutations_filtered_2 = df_3_mutations_filtered_by[mut][df_3_mutations_filtered_by[mut].apply(lambda row: mut2 in row.values, axis=1)]\n",
      "/var/folders/tn/1strgsg5455dq9n93kfzv8kh0000gn/T/ipykernel_41696/976455965.py:10: FutureWarning: elementwise comparison failed; returning scalar instead, but in the future will perform elementwise comparison\n",
      "  df_3_mutations_filtered_2 = df_3_mutations_filtered_by[mut][df_3_mutations_filtered_by[mut].apply(lambda row: mut2 in row.values, axis=1)]\n",
      "/var/folders/tn/1strgsg5455dq9n93kfzv8kh0000gn/T/ipykernel_41696/976455965.py:10: FutureWarning: elementwise comparison failed; returning scalar instead, but in the future will perform elementwise comparison\n",
      "  df_3_mutations_filtered_2 = df_3_mutations_filtered_by[mut][df_3_mutations_filtered_by[mut].apply(lambda row: mut2 in row.values, axis=1)]\n",
      "/var/folders/tn/1strgsg5455dq9n93kfzv8kh0000gn/T/ipykernel_41696/976455965.py:10: FutureWarning: elementwise comparison failed; returning scalar instead, but in the future will perform elementwise comparison\n",
      "  df_3_mutations_filtered_2 = df_3_mutations_filtered_by[mut][df_3_mutations_filtered_by[mut].apply(lambda row: mut2 in row.values, axis=1)]\n",
      "/var/folders/tn/1strgsg5455dq9n93kfzv8kh0000gn/T/ipykernel_41696/976455965.py:10: FutureWarning: elementwise comparison failed; returning scalar instead, but in the future will perform elementwise comparison\n",
      "  df_3_mutations_filtered_2 = df_3_mutations_filtered_by[mut][df_3_mutations_filtered_by[mut].apply(lambda row: mut2 in row.values, axis=1)]\n",
      "/var/folders/tn/1strgsg5455dq9n93kfzv8kh0000gn/T/ipykernel_41696/976455965.py:10: FutureWarning: elementwise comparison failed; returning scalar instead, but in the future will perform elementwise comparison\n",
      "  df_3_mutations_filtered_2 = df_3_mutations_filtered_by[mut][df_3_mutations_filtered_by[mut].apply(lambda row: mut2 in row.values, axis=1)]\n",
      "/var/folders/tn/1strgsg5455dq9n93kfzv8kh0000gn/T/ipykernel_41696/976455965.py:10: FutureWarning: elementwise comparison failed; returning scalar instead, but in the future will perform elementwise comparison\n",
      "  df_3_mutations_filtered_2 = df_3_mutations_filtered_by[mut][df_3_mutations_filtered_by[mut].apply(lambda row: mut2 in row.values, axis=1)]\n",
      "/var/folders/tn/1strgsg5455dq9n93kfzv8kh0000gn/T/ipykernel_41696/976455965.py:10: FutureWarning: elementwise comparison failed; returning scalar instead, but in the future will perform elementwise comparison\n",
      "  df_3_mutations_filtered_2 = df_3_mutations_filtered_by[mut][df_3_mutations_filtered_by[mut].apply(lambda row: mut2 in row.values, axis=1)]\n",
      "/var/folders/tn/1strgsg5455dq9n93kfzv8kh0000gn/T/ipykernel_41696/976455965.py:10: FutureWarning: elementwise comparison failed; returning scalar instead, but in the future will perform elementwise comparison\n",
      "  df_3_mutations_filtered_2 = df_3_mutations_filtered_by[mut][df_3_mutations_filtered_by[mut].apply(lambda row: mut2 in row.values, axis=1)]\n",
      "/var/folders/tn/1strgsg5455dq9n93kfzv8kh0000gn/T/ipykernel_41696/976455965.py:10: FutureWarning: elementwise comparison failed; returning scalar instead, but in the future will perform elementwise comparison\n",
      "  df_3_mutations_filtered_2 = df_3_mutations_filtered_by[mut][df_3_mutations_filtered_by[mut].apply(lambda row: mut2 in row.values, axis=1)]\n",
      "/var/folders/tn/1strgsg5455dq9n93kfzv8kh0000gn/T/ipykernel_41696/976455965.py:10: FutureWarning: elementwise comparison failed; returning scalar instead, but in the future will perform elementwise comparison\n",
      "  df_3_mutations_filtered_2 = df_3_mutations_filtered_by[mut][df_3_mutations_filtered_by[mut].apply(lambda row: mut2 in row.values, axis=1)]\n",
      "/var/folders/tn/1strgsg5455dq9n93kfzv8kh0000gn/T/ipykernel_41696/976455965.py:10: FutureWarning: elementwise comparison failed; returning scalar instead, but in the future will perform elementwise comparison\n",
      "  df_3_mutations_filtered_2 = df_3_mutations_filtered_by[mut][df_3_mutations_filtered_by[mut].apply(lambda row: mut2 in row.values, axis=1)]\n",
      "/var/folders/tn/1strgsg5455dq9n93kfzv8kh0000gn/T/ipykernel_41696/976455965.py:10: FutureWarning: elementwise comparison failed; returning scalar instead, but in the future will perform elementwise comparison\n",
      "  df_3_mutations_filtered_2 = df_3_mutations_filtered_by[mut][df_3_mutations_filtered_by[mut].apply(lambda row: mut2 in row.values, axis=1)]\n",
      "/var/folders/tn/1strgsg5455dq9n93kfzv8kh0000gn/T/ipykernel_41696/976455965.py:10: FutureWarning: elementwise comparison failed; returning scalar instead, but in the future will perform elementwise comparison\n",
      "  df_3_mutations_filtered_2 = df_3_mutations_filtered_by[mut][df_3_mutations_filtered_by[mut].apply(lambda row: mut2 in row.values, axis=1)]\n",
      "/var/folders/tn/1strgsg5455dq9n93kfzv8kh0000gn/T/ipykernel_41696/976455965.py:10: FutureWarning: elementwise comparison failed; returning scalar instead, but in the future will perform elementwise comparison\n",
      "  df_3_mutations_filtered_2 = df_3_mutations_filtered_by[mut][df_3_mutations_filtered_by[mut].apply(lambda row: mut2 in row.values, axis=1)]\n",
      "/var/folders/tn/1strgsg5455dq9n93kfzv8kh0000gn/T/ipykernel_41696/976455965.py:10: FutureWarning: elementwise comparison failed; returning scalar instead, but in the future will perform elementwise comparison\n",
      "  df_3_mutations_filtered_2 = df_3_mutations_filtered_by[mut][df_3_mutations_filtered_by[mut].apply(lambda row: mut2 in row.values, axis=1)]\n",
      "/var/folders/tn/1strgsg5455dq9n93kfzv8kh0000gn/T/ipykernel_41696/976455965.py:10: FutureWarning: elementwise comparison failed; returning scalar instead, but in the future will perform elementwise comparison\n",
      "  df_3_mutations_filtered_2 = df_3_mutations_filtered_by[mut][df_3_mutations_filtered_by[mut].apply(lambda row: mut2 in row.values, axis=1)]\n",
      "/var/folders/tn/1strgsg5455dq9n93kfzv8kh0000gn/T/ipykernel_41696/976455965.py:10: FutureWarning: elementwise comparison failed; returning scalar instead, but in the future will perform elementwise comparison\n",
      "  df_3_mutations_filtered_2 = df_3_mutations_filtered_by[mut][df_3_mutations_filtered_by[mut].apply(lambda row: mut2 in row.values, axis=1)]\n",
      "/var/folders/tn/1strgsg5455dq9n93kfzv8kh0000gn/T/ipykernel_41696/976455965.py:10: FutureWarning: elementwise comparison failed; returning scalar instead, but in the future will perform elementwise comparison\n",
      "  df_3_mutations_filtered_2 = df_3_mutations_filtered_by[mut][df_3_mutations_filtered_by[mut].apply(lambda row: mut2 in row.values, axis=1)]\n",
      "/var/folders/tn/1strgsg5455dq9n93kfzv8kh0000gn/T/ipykernel_41696/976455965.py:10: FutureWarning: elementwise comparison failed; returning scalar instead, but in the future will perform elementwise comparison\n",
      "  df_3_mutations_filtered_2 = df_3_mutations_filtered_by[mut][df_3_mutations_filtered_by[mut].apply(lambda row: mut2 in row.values, axis=1)]\n",
      "/var/folders/tn/1strgsg5455dq9n93kfzv8kh0000gn/T/ipykernel_41696/976455965.py:10: FutureWarning: elementwise comparison failed; returning scalar instead, but in the future will perform elementwise comparison\n",
      "  df_3_mutations_filtered_2 = df_3_mutations_filtered_by[mut][df_3_mutations_filtered_by[mut].apply(lambda row: mut2 in row.values, axis=1)]\n",
      "/var/folders/tn/1strgsg5455dq9n93kfzv8kh0000gn/T/ipykernel_41696/976455965.py:10: FutureWarning: elementwise comparison failed; returning scalar instead, but in the future will perform elementwise comparison\n",
      "  df_3_mutations_filtered_2 = df_3_mutations_filtered_by[mut][df_3_mutations_filtered_by[mut].apply(lambda row: mut2 in row.values, axis=1)]\n",
      "/var/folders/tn/1strgsg5455dq9n93kfzv8kh0000gn/T/ipykernel_41696/976455965.py:10: FutureWarning: elementwise comparison failed; returning scalar instead, but in the future will perform elementwise comparison\n",
      "  df_3_mutations_filtered_2 = df_3_mutations_filtered_by[mut][df_3_mutations_filtered_by[mut].apply(lambda row: mut2 in row.values, axis=1)]\n",
      "/var/folders/tn/1strgsg5455dq9n93kfzv8kh0000gn/T/ipykernel_41696/976455965.py:10: FutureWarning: elementwise comparison failed; returning scalar instead, but in the future will perform elementwise comparison\n",
      "  df_3_mutations_filtered_2 = df_3_mutations_filtered_by[mut][df_3_mutations_filtered_by[mut].apply(lambda row: mut2 in row.values, axis=1)]\n",
      "/var/folders/tn/1strgsg5455dq9n93kfzv8kh0000gn/T/ipykernel_41696/976455965.py:10: FutureWarning: elementwise comparison failed; returning scalar instead, but in the future will perform elementwise comparison\n",
      "  df_3_mutations_filtered_2 = df_3_mutations_filtered_by[mut][df_3_mutations_filtered_by[mut].apply(lambda row: mut2 in row.values, axis=1)]\n",
      "/var/folders/tn/1strgsg5455dq9n93kfzv8kh0000gn/T/ipykernel_41696/976455965.py:10: FutureWarning: elementwise comparison failed; returning scalar instead, but in the future will perform elementwise comparison\n",
      "  df_3_mutations_filtered_2 = df_3_mutations_filtered_by[mut][df_3_mutations_filtered_by[mut].apply(lambda row: mut2 in row.values, axis=1)]\n",
      "/var/folders/tn/1strgsg5455dq9n93kfzv8kh0000gn/T/ipykernel_41696/976455965.py:10: FutureWarning: elementwise comparison failed; returning scalar instead, but in the future will perform elementwise comparison\n",
      "  df_3_mutations_filtered_2 = df_3_mutations_filtered_by[mut][df_3_mutations_filtered_by[mut].apply(lambda row: mut2 in row.values, axis=1)]\n",
      "/var/folders/tn/1strgsg5455dq9n93kfzv8kh0000gn/T/ipykernel_41696/976455965.py:10: FutureWarning: elementwise comparison failed; returning scalar instead, but in the future will perform elementwise comparison\n",
      "  df_3_mutations_filtered_2 = df_3_mutations_filtered_by[mut][df_3_mutations_filtered_by[mut].apply(lambda row: mut2 in row.values, axis=1)]\n",
      "/var/folders/tn/1strgsg5455dq9n93kfzv8kh0000gn/T/ipykernel_41696/976455965.py:10: FutureWarning: elementwise comparison failed; returning scalar instead, but in the future will perform elementwise comparison\n",
      "  df_3_mutations_filtered_2 = df_3_mutations_filtered_by[mut][df_3_mutations_filtered_by[mut].apply(lambda row: mut2 in row.values, axis=1)]\n"
     ]
    }
   ],
   "source": [
    "# filter each df_3_mutations_filtered with respective possible_mut_2x_mut\n",
    "# create a new df for every mut2 in possible_mut_2x_mut\n",
    "df_3_mutations_filtered_2_by = {}\n",
    "\n",
    "# iterate over each df_3_mutations_filtered (each of them was assigned to a mut)\n",
    "for mut, df_3_mutations_filtered in df_3_mutations_filtered_by.items():\n",
    "    # iterate over every mut2 in each possible_mut_2x_mut_with[mut]\n",
    "    for mut2 in possible_mut_2x_mut_with[mut]:\n",
    "        # filter df_3_mutations_filtered with mut2\n",
    "        df_3_mutations_filtered_2 = df_3_mutations_filtered_by[mut][df_3_mutations_filtered_by[mut].apply(lambda row: mut2 in row.values, axis=1)]\n",
    "        # assign every df_3_mutations_filtered_2 to df_3_mutations_filtered_2_by\n",
    "        key_2 = f\"{mut}_{mut2}\"\n",
    "        df_3_mutations_filtered_2_by[key_2] = df_3_mutations_filtered_2"
   ],
   "metadata": {
    "collapsed": false,
    "ExecuteTime": {
     "end_time": "2023-07-16T14:46:34.443033Z",
     "start_time": "2023-07-16T14:46:22.411070Z"
    }
   }
  },
  {
   "cell_type": "code",
   "execution_count": 20,
   "outputs": [],
   "source": [
    "# create a new dictionary df_3_mutations_filtered_2_non_empty_by to store non-empty dfs from df_3_mutations_filtered_2_by\n",
    "df_3_mutations_filtered_2_non_empty_by = {}\n",
    "\n",
    "# iterate over mut-mut2 pairs (key_2) of df_3_mutations_filtered_2_by\n",
    "for key_2, df_3_mutations_filtered_2 in df_3_mutations_filtered_2_by.items():\n",
    "    if not df_3_mutations_filtered_2.empty:\n",
    "        df_3_mutations_filtered_2_non_empty_by[key_2] = df_3_mutations_filtered_2"
   ],
   "metadata": {
    "collapsed": false,
    "ExecuteTime": {
     "end_time": "2023-07-16T14:46:36.761969Z",
     "start_time": "2023-07-16T14:46:36.753718Z"
    }
   }
  },
  {
   "cell_type": "markdown",
   "source": [
    "### merge dfs"
   ],
   "metadata": {
    "collapsed": false
   }
  },
  {
   "cell_type": "code",
   "execution_count": 22,
   "outputs": [],
   "source": [
    "# merge all dfs from df_3_mutations_filtered_2_non_empty_by\n",
    "df_3_mutations_filtered_2_merged = pd.concat(df_3_mutations_filtered_2_non_empty_by.values(), ignore_index=False)"
   ],
   "metadata": {
    "collapsed": false,
    "ExecuteTime": {
     "end_time": "2023-07-16T14:47:29.809519Z",
     "start_time": "2023-07-16T14:47:29.636947Z"
    }
   }
  },
  {
   "cell_type": "markdown",
   "source": [
    "### list with all possible mutations from merged df"
   ],
   "metadata": {
    "collapsed": false
   }
  },
  {
   "cell_type": "code",
   "execution_count": 23,
   "outputs": [],
   "source": [
    "# create a list with all mutations from df_3_mutations_filtered_2_merged\n",
    "# create a list with all values from df_4_mutations_filtered_3_merged, exclude column DMS_score (duplicates are removed with this step)\n",
    "possible_mut_path_3x = list(set(df_3_mutations_filtered_2_merged.values.flatten()))\n",
    "# remove fscore from list\n",
    "possible_mut_path_3x = [value for value in possible_mut_path_3x if not isinstance(value, (int, float))]\n",
    "# remove None\n",
    "possible_mut_path_3x = [value for value in possible_mut_path_3x if value  is not None]"
   ],
   "metadata": {
    "collapsed": false,
    "ExecuteTime": {
     "end_time": "2023-07-16T14:48:06.196766Z",
     "start_time": "2023-07-16T14:48:06.181792Z"
    }
   }
  },
  {
   "cell_type": "markdown",
   "source": [
    "### lists for individual dfs"
   ],
   "metadata": {
    "collapsed": false
   }
  },
  {
   "cell_type": "code",
   "execution_count": 24,
   "outputs": [],
   "source": [
    "# create a list for every dataframe of df_3_mutations_filtered_2_non_empty_by, containing the possible mutations, without mut and mut2\n",
    "# create new empty dictionary\n",
    "possible_mut_3x_mut_with = {}\n",
    "\n",
    "# iterate over mut-mut2 pairs (key_2) of df_3_mutations_filtered_2_non_empty_by\n",
    "for key_2, df_3_mutations_filtered_2 in df_3_mutations_filtered_2_non_empty_by.items():\n",
    "    # copy df\n",
    "    df_3_mutations_filtered_2_copy = df_3_mutations_filtered_2.copy()\n",
    "    # create list with possible mutations of the new df\n",
    "    possible_mut_3x_mut = list(set(df_3_mutations_filtered_2_copy.values.flatten()))\n",
    "    # remove duplicates\n",
    "    possible_mut_3x_mut = list(set(possible_mut_3x_mut))\n",
    "    # remove mut if it exists in the list (if, because some mut are not available in df_2_mutations)\n",
    "    if key_2.split('_')[0] in possible_mut_3x_mut:\n",
    "        possible_mut_3x_mut.remove(key_2.split('_')[0])\n",
    "    # remove mut2 if it exists in the list (if, because some mut are not available in df_2_mutations)\n",
    "    if key_2.split('_')[1] in possible_mut_3x_mut:\n",
    "        possible_mut_3x_mut.remove(key_2.split('_')[1])\n",
    "    # remove None\n",
    "    possible_mut_3x_mut = [value for value in possible_mut_3x_mut if value is not None]\n",
    "    # remove fscore from list\n",
    "    possible_mut_3x_mut = [value for value in possible_mut_3x_mut if not isinstance(value, (int, float))]\n",
    "    # assign to key_2\n",
    "    possible_mut_3x_mut_with[key_2] = possible_mut_3x_mut\n"
   ],
   "metadata": {
    "collapsed": false,
    "ExecuteTime": {
     "end_time": "2023-07-16T14:48:59.586891Z",
     "start_time": "2023-07-16T14:48:59.393848Z"
    }
   }
  },
  {
   "cell_type": "markdown",
   "source": [
    "# 4x mutations"
   ],
   "metadata": {
    "collapsed": false
   }
  },
  {
   "cell_type": "code",
   "execution_count": 25,
   "outputs": [],
   "source": [
    "# df mutants with 4 mutations\n",
    "# copy df\n",
    "df_4_mutations = df_only_fscore_mutations.copy()\n",
    "\n",
    "# delete mutants with < 4 mutations\n",
    "df_4_mutations = df_4_mutations.dropna(subset=['m4'])\n",
    "\n",
    "# remain rows with empty values in m5\n",
    "df_4_mutations = df_4_mutations[df_4_mutations['m5'].isna()]"
   ],
   "metadata": {
    "collapsed": false,
    "ExecuteTime": {
     "end_time": "2023-07-16T14:49:22.765132Z",
     "start_time": "2023-07-16T14:49:22.724557Z"
    }
   }
  },
  {
   "cell_type": "markdown",
   "source": [
    "### filter with mut"
   ],
   "metadata": {
    "collapsed": false
   }
  },
  {
   "cell_type": "code",
   "execution_count": 26,
   "outputs": [],
   "source": [
    "# filter df_4_mutations with possible_mut_1x_mut\n",
    "# copy df\n",
    "df_4_mutations_filtered = df_4_mutations.copy()\n",
    "\n",
    "# create a new df for each mut in possible_mut_1x_mut\n",
    "df_4_mutations_filtered_by = {}\n",
    "\n",
    "for mut in possible_mut_1x_mut:\n",
    "    # copy df\n",
    "    df_4_mutations_filtered = df_4_mutations.copy()\n",
    "    # df remaining rows with mut\n",
    "    df_4_mutations_filtered = df_4_mutations_filtered[df_4_mutations_filtered.apply(lambda row: mut in row.values, axis=1)]\n",
    "    # assign to mut\n",
    "    df_4_mutations_filtered_by[mut] = df_4_mutations_filtered"
   ],
   "metadata": {
    "collapsed": false,
    "ExecuteTime": {
     "end_time": "2023-07-16T14:50:20.901589Z",
     "start_time": "2023-07-16T14:49:40.910465Z"
    }
   }
  },
  {
   "cell_type": "markdown",
   "source": [
    "### filter with mut2"
   ],
   "metadata": {
    "collapsed": false
   }
  },
  {
   "cell_type": "code",
   "execution_count": 28,
   "outputs": [
    {
     "name": "stderr",
     "output_type": "stream",
     "text": [
      "/var/folders/tn/1strgsg5455dq9n93kfzv8kh0000gn/T/ipykernel_41696/1175272338.py:10: FutureWarning: elementwise comparison failed; returning scalar instead, but in the future will perform elementwise comparison\n",
      "  df_4_mutations_filtered_2 = df_4_mutations_filtered_by[mut][df_4_mutations_filtered_by[mut].apply(lambda row: mut2 in row.values, axis=1)]\n",
      "/var/folders/tn/1strgsg5455dq9n93kfzv8kh0000gn/T/ipykernel_41696/1175272338.py:10: FutureWarning: elementwise comparison failed; returning scalar instead, but in the future will perform elementwise comparison\n",
      "  df_4_mutations_filtered_2 = df_4_mutations_filtered_by[mut][df_4_mutations_filtered_by[mut].apply(lambda row: mut2 in row.values, axis=1)]\n",
      "/var/folders/tn/1strgsg5455dq9n93kfzv8kh0000gn/T/ipykernel_41696/1175272338.py:10: FutureWarning: elementwise comparison failed; returning scalar instead, but in the future will perform elementwise comparison\n",
      "  df_4_mutations_filtered_2 = df_4_mutations_filtered_by[mut][df_4_mutations_filtered_by[mut].apply(lambda row: mut2 in row.values, axis=1)]\n",
      "/var/folders/tn/1strgsg5455dq9n93kfzv8kh0000gn/T/ipykernel_41696/1175272338.py:10: FutureWarning: elementwise comparison failed; returning scalar instead, but in the future will perform elementwise comparison\n",
      "  df_4_mutations_filtered_2 = df_4_mutations_filtered_by[mut][df_4_mutations_filtered_by[mut].apply(lambda row: mut2 in row.values, axis=1)]\n",
      "/var/folders/tn/1strgsg5455dq9n93kfzv8kh0000gn/T/ipykernel_41696/1175272338.py:10: FutureWarning: elementwise comparison failed; returning scalar instead, but in the future will perform elementwise comparison\n",
      "  df_4_mutations_filtered_2 = df_4_mutations_filtered_by[mut][df_4_mutations_filtered_by[mut].apply(lambda row: mut2 in row.values, axis=1)]\n",
      "/var/folders/tn/1strgsg5455dq9n93kfzv8kh0000gn/T/ipykernel_41696/1175272338.py:10: FutureWarning: elementwise comparison failed; returning scalar instead, but in the future will perform elementwise comparison\n",
      "  df_4_mutations_filtered_2 = df_4_mutations_filtered_by[mut][df_4_mutations_filtered_by[mut].apply(lambda row: mut2 in row.values, axis=1)]\n",
      "/var/folders/tn/1strgsg5455dq9n93kfzv8kh0000gn/T/ipykernel_41696/1175272338.py:10: FutureWarning: elementwise comparison failed; returning scalar instead, but in the future will perform elementwise comparison\n",
      "  df_4_mutations_filtered_2 = df_4_mutations_filtered_by[mut][df_4_mutations_filtered_by[mut].apply(lambda row: mut2 in row.values, axis=1)]\n",
      "/var/folders/tn/1strgsg5455dq9n93kfzv8kh0000gn/T/ipykernel_41696/1175272338.py:10: FutureWarning: elementwise comparison failed; returning scalar instead, but in the future will perform elementwise comparison\n",
      "  df_4_mutations_filtered_2 = df_4_mutations_filtered_by[mut][df_4_mutations_filtered_by[mut].apply(lambda row: mut2 in row.values, axis=1)]\n",
      "/var/folders/tn/1strgsg5455dq9n93kfzv8kh0000gn/T/ipykernel_41696/1175272338.py:10: FutureWarning: elementwise comparison failed; returning scalar instead, but in the future will perform elementwise comparison\n",
      "  df_4_mutations_filtered_2 = df_4_mutations_filtered_by[mut][df_4_mutations_filtered_by[mut].apply(lambda row: mut2 in row.values, axis=1)]\n",
      "/var/folders/tn/1strgsg5455dq9n93kfzv8kh0000gn/T/ipykernel_41696/1175272338.py:10: FutureWarning: elementwise comparison failed; returning scalar instead, but in the future will perform elementwise comparison\n",
      "  df_4_mutations_filtered_2 = df_4_mutations_filtered_by[mut][df_4_mutations_filtered_by[mut].apply(lambda row: mut2 in row.values, axis=1)]\n",
      "/var/folders/tn/1strgsg5455dq9n93kfzv8kh0000gn/T/ipykernel_41696/1175272338.py:10: FutureWarning: elementwise comparison failed; returning scalar instead, but in the future will perform elementwise comparison\n",
      "  df_4_mutations_filtered_2 = df_4_mutations_filtered_by[mut][df_4_mutations_filtered_by[mut].apply(lambda row: mut2 in row.values, axis=1)]\n",
      "/var/folders/tn/1strgsg5455dq9n93kfzv8kh0000gn/T/ipykernel_41696/1175272338.py:10: FutureWarning: elementwise comparison failed; returning scalar instead, but in the future will perform elementwise comparison\n",
      "  df_4_mutations_filtered_2 = df_4_mutations_filtered_by[mut][df_4_mutations_filtered_by[mut].apply(lambda row: mut2 in row.values, axis=1)]\n",
      "/var/folders/tn/1strgsg5455dq9n93kfzv8kh0000gn/T/ipykernel_41696/1175272338.py:10: FutureWarning: elementwise comparison failed; returning scalar instead, but in the future will perform elementwise comparison\n",
      "  df_4_mutations_filtered_2 = df_4_mutations_filtered_by[mut][df_4_mutations_filtered_by[mut].apply(lambda row: mut2 in row.values, axis=1)]\n",
      "/var/folders/tn/1strgsg5455dq9n93kfzv8kh0000gn/T/ipykernel_41696/1175272338.py:10: FutureWarning: elementwise comparison failed; returning scalar instead, but in the future will perform elementwise comparison\n",
      "  df_4_mutations_filtered_2 = df_4_mutations_filtered_by[mut][df_4_mutations_filtered_by[mut].apply(lambda row: mut2 in row.values, axis=1)]\n",
      "/var/folders/tn/1strgsg5455dq9n93kfzv8kh0000gn/T/ipykernel_41696/1175272338.py:10: FutureWarning: elementwise comparison failed; returning scalar instead, but in the future will perform elementwise comparison\n",
      "  df_4_mutations_filtered_2 = df_4_mutations_filtered_by[mut][df_4_mutations_filtered_by[mut].apply(lambda row: mut2 in row.values, axis=1)]\n",
      "/var/folders/tn/1strgsg5455dq9n93kfzv8kh0000gn/T/ipykernel_41696/1175272338.py:10: FutureWarning: elementwise comparison failed; returning scalar instead, but in the future will perform elementwise comparison\n",
      "  df_4_mutations_filtered_2 = df_4_mutations_filtered_by[mut][df_4_mutations_filtered_by[mut].apply(lambda row: mut2 in row.values, axis=1)]\n",
      "/var/folders/tn/1strgsg5455dq9n93kfzv8kh0000gn/T/ipykernel_41696/1175272338.py:10: FutureWarning: elementwise comparison failed; returning scalar instead, but in the future will perform elementwise comparison\n",
      "  df_4_mutations_filtered_2 = df_4_mutations_filtered_by[mut][df_4_mutations_filtered_by[mut].apply(lambda row: mut2 in row.values, axis=1)]\n",
      "/var/folders/tn/1strgsg5455dq9n93kfzv8kh0000gn/T/ipykernel_41696/1175272338.py:10: FutureWarning: elementwise comparison failed; returning scalar instead, but in the future will perform elementwise comparison\n",
      "  df_4_mutations_filtered_2 = df_4_mutations_filtered_by[mut][df_4_mutations_filtered_by[mut].apply(lambda row: mut2 in row.values, axis=1)]\n",
      "/var/folders/tn/1strgsg5455dq9n93kfzv8kh0000gn/T/ipykernel_41696/1175272338.py:10: FutureWarning: elementwise comparison failed; returning scalar instead, but in the future will perform elementwise comparison\n",
      "  df_4_mutations_filtered_2 = df_4_mutations_filtered_by[mut][df_4_mutations_filtered_by[mut].apply(lambda row: mut2 in row.values, axis=1)]\n",
      "/var/folders/tn/1strgsg5455dq9n93kfzv8kh0000gn/T/ipykernel_41696/1175272338.py:10: FutureWarning: elementwise comparison failed; returning scalar instead, but in the future will perform elementwise comparison\n",
      "  df_4_mutations_filtered_2 = df_4_mutations_filtered_by[mut][df_4_mutations_filtered_by[mut].apply(lambda row: mut2 in row.values, axis=1)]\n",
      "/var/folders/tn/1strgsg5455dq9n93kfzv8kh0000gn/T/ipykernel_41696/1175272338.py:10: FutureWarning: elementwise comparison failed; returning scalar instead, but in the future will perform elementwise comparison\n",
      "  df_4_mutations_filtered_2 = df_4_mutations_filtered_by[mut][df_4_mutations_filtered_by[mut].apply(lambda row: mut2 in row.values, axis=1)]\n",
      "/var/folders/tn/1strgsg5455dq9n93kfzv8kh0000gn/T/ipykernel_41696/1175272338.py:10: FutureWarning: elementwise comparison failed; returning scalar instead, but in the future will perform elementwise comparison\n",
      "  df_4_mutations_filtered_2 = df_4_mutations_filtered_by[mut][df_4_mutations_filtered_by[mut].apply(lambda row: mut2 in row.values, axis=1)]\n",
      "/var/folders/tn/1strgsg5455dq9n93kfzv8kh0000gn/T/ipykernel_41696/1175272338.py:10: FutureWarning: elementwise comparison failed; returning scalar instead, but in the future will perform elementwise comparison\n",
      "  df_4_mutations_filtered_2 = df_4_mutations_filtered_by[mut][df_4_mutations_filtered_by[mut].apply(lambda row: mut2 in row.values, axis=1)]\n",
      "/var/folders/tn/1strgsg5455dq9n93kfzv8kh0000gn/T/ipykernel_41696/1175272338.py:10: FutureWarning: elementwise comparison failed; returning scalar instead, but in the future will perform elementwise comparison\n",
      "  df_4_mutations_filtered_2 = df_4_mutations_filtered_by[mut][df_4_mutations_filtered_by[mut].apply(lambda row: mut2 in row.values, axis=1)]\n",
      "/var/folders/tn/1strgsg5455dq9n93kfzv8kh0000gn/T/ipykernel_41696/1175272338.py:10: FutureWarning: elementwise comparison failed; returning scalar instead, but in the future will perform elementwise comparison\n",
      "  df_4_mutations_filtered_2 = df_4_mutations_filtered_by[mut][df_4_mutations_filtered_by[mut].apply(lambda row: mut2 in row.values, axis=1)]\n",
      "/var/folders/tn/1strgsg5455dq9n93kfzv8kh0000gn/T/ipykernel_41696/1175272338.py:10: FutureWarning: elementwise comparison failed; returning scalar instead, but in the future will perform elementwise comparison\n",
      "  df_4_mutations_filtered_2 = df_4_mutations_filtered_by[mut][df_4_mutations_filtered_by[mut].apply(lambda row: mut2 in row.values, axis=1)]\n",
      "/var/folders/tn/1strgsg5455dq9n93kfzv8kh0000gn/T/ipykernel_41696/1175272338.py:10: FutureWarning: elementwise comparison failed; returning scalar instead, but in the future will perform elementwise comparison\n",
      "  df_4_mutations_filtered_2 = df_4_mutations_filtered_by[mut][df_4_mutations_filtered_by[mut].apply(lambda row: mut2 in row.values, axis=1)]\n",
      "/var/folders/tn/1strgsg5455dq9n93kfzv8kh0000gn/T/ipykernel_41696/1175272338.py:10: FutureWarning: elementwise comparison failed; returning scalar instead, but in the future will perform elementwise comparison\n",
      "  df_4_mutations_filtered_2 = df_4_mutations_filtered_by[mut][df_4_mutations_filtered_by[mut].apply(lambda row: mut2 in row.values, axis=1)]\n",
      "/var/folders/tn/1strgsg5455dq9n93kfzv8kh0000gn/T/ipykernel_41696/1175272338.py:10: FutureWarning: elementwise comparison failed; returning scalar instead, but in the future will perform elementwise comparison\n",
      "  df_4_mutations_filtered_2 = df_4_mutations_filtered_by[mut][df_4_mutations_filtered_by[mut].apply(lambda row: mut2 in row.values, axis=1)]\n",
      "/var/folders/tn/1strgsg5455dq9n93kfzv8kh0000gn/T/ipykernel_41696/1175272338.py:10: FutureWarning: elementwise comparison failed; returning scalar instead, but in the future will perform elementwise comparison\n",
      "  df_4_mutations_filtered_2 = df_4_mutations_filtered_by[mut][df_4_mutations_filtered_by[mut].apply(lambda row: mut2 in row.values, axis=1)]\n",
      "/var/folders/tn/1strgsg5455dq9n93kfzv8kh0000gn/T/ipykernel_41696/1175272338.py:10: FutureWarning: elementwise comparison failed; returning scalar instead, but in the future will perform elementwise comparison\n",
      "  df_4_mutations_filtered_2 = df_4_mutations_filtered_by[mut][df_4_mutations_filtered_by[mut].apply(lambda row: mut2 in row.values, axis=1)]\n",
      "/var/folders/tn/1strgsg5455dq9n93kfzv8kh0000gn/T/ipykernel_41696/1175272338.py:10: FutureWarning: elementwise comparison failed; returning scalar instead, but in the future will perform elementwise comparison\n",
      "  df_4_mutations_filtered_2 = df_4_mutations_filtered_by[mut][df_4_mutations_filtered_by[mut].apply(lambda row: mut2 in row.values, axis=1)]\n",
      "/var/folders/tn/1strgsg5455dq9n93kfzv8kh0000gn/T/ipykernel_41696/1175272338.py:10: FutureWarning: elementwise comparison failed; returning scalar instead, but in the future will perform elementwise comparison\n",
      "  df_4_mutations_filtered_2 = df_4_mutations_filtered_by[mut][df_4_mutations_filtered_by[mut].apply(lambda row: mut2 in row.values, axis=1)]\n",
      "/var/folders/tn/1strgsg5455dq9n93kfzv8kh0000gn/T/ipykernel_41696/1175272338.py:10: FutureWarning: elementwise comparison failed; returning scalar instead, but in the future will perform elementwise comparison\n",
      "  df_4_mutations_filtered_2 = df_4_mutations_filtered_by[mut][df_4_mutations_filtered_by[mut].apply(lambda row: mut2 in row.values, axis=1)]\n",
      "/var/folders/tn/1strgsg5455dq9n93kfzv8kh0000gn/T/ipykernel_41696/1175272338.py:10: FutureWarning: elementwise comparison failed; returning scalar instead, but in the future will perform elementwise comparison\n",
      "  df_4_mutations_filtered_2 = df_4_mutations_filtered_by[mut][df_4_mutations_filtered_by[mut].apply(lambda row: mut2 in row.values, axis=1)]\n",
      "/var/folders/tn/1strgsg5455dq9n93kfzv8kh0000gn/T/ipykernel_41696/1175272338.py:10: FutureWarning: elementwise comparison failed; returning scalar instead, but in the future will perform elementwise comparison\n",
      "  df_4_mutations_filtered_2 = df_4_mutations_filtered_by[mut][df_4_mutations_filtered_by[mut].apply(lambda row: mut2 in row.values, axis=1)]\n",
      "/var/folders/tn/1strgsg5455dq9n93kfzv8kh0000gn/T/ipykernel_41696/1175272338.py:10: FutureWarning: elementwise comparison failed; returning scalar instead, but in the future will perform elementwise comparison\n",
      "  df_4_mutations_filtered_2 = df_4_mutations_filtered_by[mut][df_4_mutations_filtered_by[mut].apply(lambda row: mut2 in row.values, axis=1)]\n",
      "/var/folders/tn/1strgsg5455dq9n93kfzv8kh0000gn/T/ipykernel_41696/1175272338.py:10: FutureWarning: elementwise comparison failed; returning scalar instead, but in the future will perform elementwise comparison\n",
      "  df_4_mutations_filtered_2 = df_4_mutations_filtered_by[mut][df_4_mutations_filtered_by[mut].apply(lambda row: mut2 in row.values, axis=1)]\n",
      "/var/folders/tn/1strgsg5455dq9n93kfzv8kh0000gn/T/ipykernel_41696/1175272338.py:10: FutureWarning: elementwise comparison failed; returning scalar instead, but in the future will perform elementwise comparison\n",
      "  df_4_mutations_filtered_2 = df_4_mutations_filtered_by[mut][df_4_mutations_filtered_by[mut].apply(lambda row: mut2 in row.values, axis=1)]\n",
      "/var/folders/tn/1strgsg5455dq9n93kfzv8kh0000gn/T/ipykernel_41696/1175272338.py:10: FutureWarning: elementwise comparison failed; returning scalar instead, but in the future will perform elementwise comparison\n",
      "  df_4_mutations_filtered_2 = df_4_mutations_filtered_by[mut][df_4_mutations_filtered_by[mut].apply(lambda row: mut2 in row.values, axis=1)]\n",
      "/var/folders/tn/1strgsg5455dq9n93kfzv8kh0000gn/T/ipykernel_41696/1175272338.py:10: FutureWarning: elementwise comparison failed; returning scalar instead, but in the future will perform elementwise comparison\n",
      "  df_4_mutations_filtered_2 = df_4_mutations_filtered_by[mut][df_4_mutations_filtered_by[mut].apply(lambda row: mut2 in row.values, axis=1)]\n",
      "/var/folders/tn/1strgsg5455dq9n93kfzv8kh0000gn/T/ipykernel_41696/1175272338.py:10: FutureWarning: elementwise comparison failed; returning scalar instead, but in the future will perform elementwise comparison\n",
      "  df_4_mutations_filtered_2 = df_4_mutations_filtered_by[mut][df_4_mutations_filtered_by[mut].apply(lambda row: mut2 in row.values, axis=1)]\n",
      "/var/folders/tn/1strgsg5455dq9n93kfzv8kh0000gn/T/ipykernel_41696/1175272338.py:10: FutureWarning: elementwise comparison failed; returning scalar instead, but in the future will perform elementwise comparison\n",
      "  df_4_mutations_filtered_2 = df_4_mutations_filtered_by[mut][df_4_mutations_filtered_by[mut].apply(lambda row: mut2 in row.values, axis=1)]\n",
      "/var/folders/tn/1strgsg5455dq9n93kfzv8kh0000gn/T/ipykernel_41696/1175272338.py:10: FutureWarning: elementwise comparison failed; returning scalar instead, but in the future will perform elementwise comparison\n",
      "  df_4_mutations_filtered_2 = df_4_mutations_filtered_by[mut][df_4_mutations_filtered_by[mut].apply(lambda row: mut2 in row.values, axis=1)]\n",
      "/var/folders/tn/1strgsg5455dq9n93kfzv8kh0000gn/T/ipykernel_41696/1175272338.py:10: FutureWarning: elementwise comparison failed; returning scalar instead, but in the future will perform elementwise comparison\n",
      "  df_4_mutations_filtered_2 = df_4_mutations_filtered_by[mut][df_4_mutations_filtered_by[mut].apply(lambda row: mut2 in row.values, axis=1)]\n",
      "/var/folders/tn/1strgsg5455dq9n93kfzv8kh0000gn/T/ipykernel_41696/1175272338.py:10: FutureWarning: elementwise comparison failed; returning scalar instead, but in the future will perform elementwise comparison\n",
      "  df_4_mutations_filtered_2 = df_4_mutations_filtered_by[mut][df_4_mutations_filtered_by[mut].apply(lambda row: mut2 in row.values, axis=1)]\n",
      "/var/folders/tn/1strgsg5455dq9n93kfzv8kh0000gn/T/ipykernel_41696/1175272338.py:10: FutureWarning: elementwise comparison failed; returning scalar instead, but in the future will perform elementwise comparison\n",
      "  df_4_mutations_filtered_2 = df_4_mutations_filtered_by[mut][df_4_mutations_filtered_by[mut].apply(lambda row: mut2 in row.values, axis=1)]\n",
      "/var/folders/tn/1strgsg5455dq9n93kfzv8kh0000gn/T/ipykernel_41696/1175272338.py:10: FutureWarning: elementwise comparison failed; returning scalar instead, but in the future will perform elementwise comparison\n",
      "  df_4_mutations_filtered_2 = df_4_mutations_filtered_by[mut][df_4_mutations_filtered_by[mut].apply(lambda row: mut2 in row.values, axis=1)]\n"
     ]
    }
   ],
   "source": [
    "# filter each df_4_mutations_filtered with respective possible_mut_2x_mut\n",
    "# create a new df for every mut-mut2 combination, mut2 in possible_mut_2x_mut\n",
    "df_4_mutations_filtered_2_by = {}\n",
    "\n",
    "# iterate over each df_4_mutations_filtered (each of them was assigned to a mut from possible_mut_1x_mut)\n",
    "for mut, df_4_mutations_filtered in df_4_mutations_filtered_by.items():\n",
    "    # iterate over every mut2 in each possible_mut_2x_mut_with[mut]\n",
    "    for mut2 in possible_mut_2x_mut_with[mut]:\n",
    "        # filter df_4_mutations_filtered with mut2\n",
    "        df_4_mutations_filtered_2 = df_4_mutations_filtered_by[mut][df_4_mutations_filtered_by[mut].apply(lambda row: mut2 in row.values, axis=1)]\n",
    "        # assign every df_4_mutations_filtered_2 to df_4_mutations_filtered_2_by\n",
    "        key_2 = f\"{mut}_{mut2}\"\n",
    "        df_4_mutations_filtered_2_by[key_2] = df_4_mutations_filtered_2"
   ],
   "metadata": {
    "collapsed": false,
    "ExecuteTime": {
     "end_time": "2023-07-16T14:50:32.912522Z",
     "start_time": "2023-07-16T14:50:20.905119Z"
    }
   }
  },
  {
   "cell_type": "code",
   "execution_count": 29,
   "outputs": [],
   "source": [
    "# create a new dictionary df_4_mutations_filtered_2_non_empty_by to store non-empty dfs from df_4_mutations_filtered_2_by\n",
    "df_4_mutations_filtered_2_non_empty_by = {}\n",
    "\n",
    "# iterate over mut-mut2 pairs (key_2) of df_3_mutations_filtered_2_by\n",
    "for key_2, df_4_mutations_filtered_2 in df_4_mutations_filtered_2_by.items():\n",
    "    if not df_4_mutations_filtered_2.empty:\n",
    "        df_4_mutations_filtered_2_non_empty_by[key_2] = df_4_mutations_filtered_2"
   ],
   "metadata": {
    "collapsed": false,
    "ExecuteTime": {
     "end_time": "2023-07-16T14:50:32.942637Z",
     "start_time": "2023-07-16T14:50:32.923804Z"
    }
   }
  },
  {
   "cell_type": "code",
   "execution_count": 30,
   "outputs": [
    {
     "name": "stdout",
     "output_type": "stream",
     "text": [
      "The dictionary contains 8295 DataFrames.\n"
     ]
    }
   ],
   "source": [
    "# How many dfs does the dictionary contain?\n",
    "num_dataframes = len(df_4_mutations_filtered_2_non_empty_by)\n",
    "print(f\"The dictionary contains {num_dataframes} DataFrames.\")"
   ],
   "metadata": {
    "collapsed": false,
    "ExecuteTime": {
     "end_time": "2023-07-16T14:50:32.950435Z",
     "start_time": "2023-07-16T14:50:32.933486Z"
    }
   }
  },
  {
   "cell_type": "markdown",
   "source": [
    "### filter with mut3"
   ],
   "metadata": {
    "collapsed": false
   }
  },
  {
   "cell_type": "code",
   "execution_count": 33,
   "outputs": [],
   "source": [
    "# filter each df_4_mutations_filtered_2_non_empty_by with respective possible_mut_3x_mut\n",
    "# create a new df for every mut-mut2-mut3 combination, mut3 in possible_mut_3x_mut\n",
    "df_4_mutations_filtered_3_by = {}\n",
    "\n",
    "# iterate over each df_4_mutations_filtered_2_non_empty (each of them was assigned to a mut-mut2 pair)\n",
    "for key_2, df_4_mutations_filtered_2 in df_4_mutations_filtered_2_non_empty_by.items():\n",
    "    # check if key_2 is in possible_mut_3x_mut_with (nessesary because some key_2 produced empty df_4_mutations_filtered_2 and therefore key_2 is not in possible_mut_3x_mut_with in these cases)\n",
    "    if key_2 in possible_mut_3x_mut_with:\n",
    "        # iterate over every mut3 in each possible_mut_3x_mut_with[key_2]\n",
    "        for mut3 in possible_mut_3x_mut_with[key_2]:\n",
    "            # if key_2 is in df_4_mutations_filtered_2_non_empty_by\n",
    "            if key_2 in df_4_mutations_filtered_2_non_empty_by:\n",
    "                # filter df_4_mutations_filtered_2 with mut3\n",
    "                df_4_mutations_filtered_3 = df_4_mutations_filtered_2_non_empty_by[key_2][df_4_mutations_filtered_2_non_empty_by[key_2].apply(lambda row: mut3 in row.values, axis=1)]\n",
    "                # assign every df_4_mutations_filtered_3 to df_4_mutations_filtered_3_by\n",
    "                key_3 = f\"{key_2}_{mut3}\"\n",
    "                df_4_mutations_filtered_3_by[key_3] = df_4_mutations_filtered_3"
   ],
   "metadata": {
    "collapsed": false,
    "ExecuteTime": {
     "end_time": "2023-07-16T14:51:58.453196Z",
     "start_time": "2023-07-16T14:51:57.449062Z"
    }
   }
  },
  {
   "cell_type": "code",
   "execution_count": 34,
   "outputs": [],
   "source": [
    "# create a new dictionary df_4_mutations_filtered_3_non_empty_by to store non-empty dfs from df_4_mutations_filtered_3_by\n",
    "df_4_mutations_filtered_3_non_empty_by = {}\n",
    "\n",
    "# iterate over mut-mut2-mut3 combinations (key_3) of df_4_mutations_filtered_3_by\n",
    "for key_3, df_4_mutations_filtered_3 in df_4_mutations_filtered_3_by.items():\n",
    "    if not df_4_mutations_filtered_3.empty:\n",
    "        df_4_mutations_filtered_3_non_empty_by[key_3] = df_4_mutations_filtered_3"
   ],
   "metadata": {
    "collapsed": false,
    "ExecuteTime": {
     "end_time": "2023-07-16T14:53:02.517588Z",
     "start_time": "2023-07-16T14:53:02.507965Z"
    }
   }
  },
  {
   "cell_type": "markdown",
   "source": [
    "### merge dfs"
   ],
   "metadata": {
    "collapsed": false
   }
  },
  {
   "cell_type": "code",
   "execution_count": 37,
   "outputs": [],
   "source": [
    "# merge all df_4_mutations_filtered_3_non_empty_by into one df\n",
    "df_4_mutations_filtered_3_merged = pd.concat(df_4_mutations_filtered_3_non_empty_by.values())"
   ],
   "metadata": {
    "collapsed": false,
    "ExecuteTime": {
     "end_time": "2023-07-16T14:53:53.235328Z",
     "start_time": "2023-07-16T14:53:53.206764Z"
    }
   }
  },
  {
   "cell_type": "markdown",
   "source": [
    "### list with all possible mutations from merged df"
   ],
   "metadata": {
    "collapsed": false
   }
  },
  {
   "cell_type": "code",
   "execution_count": 38,
   "outputs": [],
   "source": [
    "# list with all possible mutations from df_4_mutations_filtered_3_merged\n",
    "possible_mut_4x_mut = list(set(df_4_mutations_filtered_3_merged.values.flatten()))\n",
    "# only remain strings in list\n",
    "possible_mut_4x_mut = [x for x in possible_mut_4x_mut if isinstance(x, str)]"
   ],
   "metadata": {
    "collapsed": false,
    "ExecuteTime": {
     "end_time": "2023-07-16T14:55:28.632761Z",
     "start_time": "2023-07-16T14:55:28.613685Z"
    }
   }
  },
  {
   "cell_type": "markdown",
   "source": [
    "### lists of mut4"
   ],
   "metadata": {
    "collapsed": false
   }
  },
  {
   "cell_type": "code",
   "execution_count": 40,
   "outputs": [],
   "source": [
    "# create a list for every df of df_4_mutations_filtered_3_non_empty_by, containing all possible mut4 (all possible mutations without specific mut, mut2, mut3)\n",
    "# create new dictionary possible_mut_4x_mut_with to store these lists\n",
    "possible_mut_4x_mut_with = {}\n",
    "\n",
    "# iterate over mut-mut2-mut3 combinations (key_3) of df_4_mutations_filtered_3_non_empty_by\n",
    "for key_3, df_4_mutations_filtered_3 in df_4_mutations_filtered_3_non_empty_by.items():\n",
    "    # copy df\n",
    "    df_4_mutations_filtered_3_copy = df_4_mutations_filtered_3.copy()\n",
    "    # create a list with all possible mutations\n",
    "    possible_mut_4x_mut = list(set(df_4_mutations_filtered_3_copy.values.flatten()))\n",
    "    # remove duplicates\n",
    "    possible_mut_4x_mut = list(set(possible_mut_4x_mut))\n",
    "    # remove mut, mut2, mut3 from list if they exist in the list (if, because some mut, mut2, mut3 are not available in df_4_mutations)\n",
    "    # remove mut\n",
    "    if key_3.split('_')[0] in possible_mut_4x_mut:\n",
    "        possible_mut_4x_mut.remove(key_3.split('_')[0])\n",
    "    # remove mut2\n",
    "    if key_3.split('_')[1] in possible_mut_4x_mut:\n",
    "        possible_mut_4x_mut.remove(key_3.split('_')[1])\n",
    "    # remove mut3\n",
    "    if key_3.split('_')[2] in possible_mut_4x_mut:\n",
    "        possible_mut_4x_mut.remove(key_3.split('_')[2])\n",
    "    # remove None\n",
    "    possible_mut_4x_mut = [value for value in possible_mut_4x_mut if value is not None]\n",
    "    # remove fscore from list\n",
    "    possible_mut_4x_mut = [value for value in possible_mut_4x_mut if not isinstance(value, (int, float))]\n",
    "    # assign to key_3\n",
    "    possible_mut_4x_mut_with[key_3] = possible_mut_4x_mut"
   ],
   "metadata": {
    "collapsed": false,
    "ExecuteTime": {
     "end_time": "2023-07-16T14:56:07.221735Z",
     "start_time": "2023-07-16T14:56:07.201847Z"
    }
   }
  },
  {
   "cell_type": "markdown",
   "source": [
    "# 5x mutations"
   ],
   "metadata": {
    "collapsed": false
   }
  },
  {
   "cell_type": "code",
   "execution_count": 41,
   "outputs": [],
   "source": [
    "# df mutants with 5 mutations\n",
    "# copy df\n",
    "df_5_mutations = df_only_fscore_mutations.copy()\n",
    "\n",
    "# delete mutants with < 5 mutations\n",
    "df_5_mutations = df_5_mutations.dropna(subset=['m5'])\n",
    "\n",
    "# remain rows with empty values in m6 (delete mutations with > 5 mutations)\n",
    "df_5_mutations = df_5_mutations[df_5_mutations['m6'].isna()]"
   ],
   "metadata": {
    "collapsed": false,
    "ExecuteTime": {
     "end_time": "2023-07-16T17:29:08.272622Z",
     "start_time": "2023-07-16T17:29:08.202619Z"
    }
   }
  },
  {
   "cell_type": "markdown",
   "source": [
    "### filter with mut"
   ],
   "metadata": {
    "collapsed": false
   }
  },
  {
   "cell_type": "code",
   "execution_count": 42,
   "outputs": [],
   "source": [
    "# filter df_5_mutations with mut from possible_mut_1x_mut\n",
    "# copy df\n",
    "df_5_mutations_filtered_1 = df_5_mutations.copy()\n",
    "\n",
    "# create a new df for each mut in possible_mut_1x_mut\n",
    "df_5_mutations_filtered_1_by = {}\n",
    "\n",
    "for mut in possible_mut_1x_mut:\n",
    "    # copy df\n",
    "    df_5_mutations_filtered_1 = df_5_mutations.copy()\n",
    "    # df remaining rows with mut\n",
    "    df_5_mutations_filtered_1 = df_5_mutations_filtered_1[df_5_mutations_filtered_1.apply(lambda row: mut in row.values, axis=1)]\n",
    "    # assign to mut\n",
    "    df_5_mutations_filtered_1_by[mut] = df_5_mutations_filtered_1"
   ],
   "metadata": {
    "collapsed": false,
    "ExecuteTime": {
     "end_time": "2023-07-16T17:30:08.127077Z",
     "start_time": "2023-07-16T17:29:38.755801Z"
    }
   }
  },
  {
   "cell_type": "markdown",
   "source": [
    "### filter with mut2"
   ],
   "metadata": {
    "collapsed": false
   }
  },
  {
   "cell_type": "code",
   "execution_count": 45,
   "outputs": [
    {
     "name": "stderr",
     "output_type": "stream",
     "text": [
      "/var/folders/tn/1strgsg5455dq9n93kfzv8kh0000gn/T/ipykernel_41696/1025966107.py:10: FutureWarning: elementwise comparison failed; returning scalar instead, but in the future will perform elementwise comparison\n",
      "  df_5_mutations_filtered_2 = df_5_mutations_filtered_1_by[mut][df_5_mutations_filtered_1_by[mut].apply(lambda row: mut2 in row.values, axis=1)]\n",
      "/var/folders/tn/1strgsg5455dq9n93kfzv8kh0000gn/T/ipykernel_41696/1025966107.py:10: FutureWarning: elementwise comparison failed; returning scalar instead, but in the future will perform elementwise comparison\n",
      "  df_5_mutations_filtered_2 = df_5_mutations_filtered_1_by[mut][df_5_mutations_filtered_1_by[mut].apply(lambda row: mut2 in row.values, axis=1)]\n",
      "/var/folders/tn/1strgsg5455dq9n93kfzv8kh0000gn/T/ipykernel_41696/1025966107.py:10: FutureWarning: elementwise comparison failed; returning scalar instead, but in the future will perform elementwise comparison\n",
      "  df_5_mutations_filtered_2 = df_5_mutations_filtered_1_by[mut][df_5_mutations_filtered_1_by[mut].apply(lambda row: mut2 in row.values, axis=1)]\n",
      "/var/folders/tn/1strgsg5455dq9n93kfzv8kh0000gn/T/ipykernel_41696/1025966107.py:10: FutureWarning: elementwise comparison failed; returning scalar instead, but in the future will perform elementwise comparison\n",
      "  df_5_mutations_filtered_2 = df_5_mutations_filtered_1_by[mut][df_5_mutations_filtered_1_by[mut].apply(lambda row: mut2 in row.values, axis=1)]\n",
      "/var/folders/tn/1strgsg5455dq9n93kfzv8kh0000gn/T/ipykernel_41696/1025966107.py:10: FutureWarning: elementwise comparison failed; returning scalar instead, but in the future will perform elementwise comparison\n",
      "  df_5_mutations_filtered_2 = df_5_mutations_filtered_1_by[mut][df_5_mutations_filtered_1_by[mut].apply(lambda row: mut2 in row.values, axis=1)]\n",
      "/var/folders/tn/1strgsg5455dq9n93kfzv8kh0000gn/T/ipykernel_41696/1025966107.py:10: FutureWarning: elementwise comparison failed; returning scalar instead, but in the future will perform elementwise comparison\n",
      "  df_5_mutations_filtered_2 = df_5_mutations_filtered_1_by[mut][df_5_mutations_filtered_1_by[mut].apply(lambda row: mut2 in row.values, axis=1)]\n",
      "/var/folders/tn/1strgsg5455dq9n93kfzv8kh0000gn/T/ipykernel_41696/1025966107.py:10: FutureWarning: elementwise comparison failed; returning scalar instead, but in the future will perform elementwise comparison\n",
      "  df_5_mutations_filtered_2 = df_5_mutations_filtered_1_by[mut][df_5_mutations_filtered_1_by[mut].apply(lambda row: mut2 in row.values, axis=1)]\n",
      "/var/folders/tn/1strgsg5455dq9n93kfzv8kh0000gn/T/ipykernel_41696/1025966107.py:10: FutureWarning: elementwise comparison failed; returning scalar instead, but in the future will perform elementwise comparison\n",
      "  df_5_mutations_filtered_2 = df_5_mutations_filtered_1_by[mut][df_5_mutations_filtered_1_by[mut].apply(lambda row: mut2 in row.values, axis=1)]\n",
      "/var/folders/tn/1strgsg5455dq9n93kfzv8kh0000gn/T/ipykernel_41696/1025966107.py:10: FutureWarning: elementwise comparison failed; returning scalar instead, but in the future will perform elementwise comparison\n",
      "  df_5_mutations_filtered_2 = df_5_mutations_filtered_1_by[mut][df_5_mutations_filtered_1_by[mut].apply(lambda row: mut2 in row.values, axis=1)]\n",
      "/var/folders/tn/1strgsg5455dq9n93kfzv8kh0000gn/T/ipykernel_41696/1025966107.py:10: FutureWarning: elementwise comparison failed; returning scalar instead, but in the future will perform elementwise comparison\n",
      "  df_5_mutations_filtered_2 = df_5_mutations_filtered_1_by[mut][df_5_mutations_filtered_1_by[mut].apply(lambda row: mut2 in row.values, axis=1)]\n",
      "/var/folders/tn/1strgsg5455dq9n93kfzv8kh0000gn/T/ipykernel_41696/1025966107.py:10: FutureWarning: elementwise comparison failed; returning scalar instead, but in the future will perform elementwise comparison\n",
      "  df_5_mutations_filtered_2 = df_5_mutations_filtered_1_by[mut][df_5_mutations_filtered_1_by[mut].apply(lambda row: mut2 in row.values, axis=1)]\n",
      "/var/folders/tn/1strgsg5455dq9n93kfzv8kh0000gn/T/ipykernel_41696/1025966107.py:10: FutureWarning: elementwise comparison failed; returning scalar instead, but in the future will perform elementwise comparison\n",
      "  df_5_mutations_filtered_2 = df_5_mutations_filtered_1_by[mut][df_5_mutations_filtered_1_by[mut].apply(lambda row: mut2 in row.values, axis=1)]\n",
      "/var/folders/tn/1strgsg5455dq9n93kfzv8kh0000gn/T/ipykernel_41696/1025966107.py:10: FutureWarning: elementwise comparison failed; returning scalar instead, but in the future will perform elementwise comparison\n",
      "  df_5_mutations_filtered_2 = df_5_mutations_filtered_1_by[mut][df_5_mutations_filtered_1_by[mut].apply(lambda row: mut2 in row.values, axis=1)]\n",
      "/var/folders/tn/1strgsg5455dq9n93kfzv8kh0000gn/T/ipykernel_41696/1025966107.py:10: FutureWarning: elementwise comparison failed; returning scalar instead, but in the future will perform elementwise comparison\n",
      "  df_5_mutations_filtered_2 = df_5_mutations_filtered_1_by[mut][df_5_mutations_filtered_1_by[mut].apply(lambda row: mut2 in row.values, axis=1)]\n",
      "/var/folders/tn/1strgsg5455dq9n93kfzv8kh0000gn/T/ipykernel_41696/1025966107.py:10: FutureWarning: elementwise comparison failed; returning scalar instead, but in the future will perform elementwise comparison\n",
      "  df_5_mutations_filtered_2 = df_5_mutations_filtered_1_by[mut][df_5_mutations_filtered_1_by[mut].apply(lambda row: mut2 in row.values, axis=1)]\n",
      "/var/folders/tn/1strgsg5455dq9n93kfzv8kh0000gn/T/ipykernel_41696/1025966107.py:10: FutureWarning: elementwise comparison failed; returning scalar instead, but in the future will perform elementwise comparison\n",
      "  df_5_mutations_filtered_2 = df_5_mutations_filtered_1_by[mut][df_5_mutations_filtered_1_by[mut].apply(lambda row: mut2 in row.values, axis=1)]\n",
      "/var/folders/tn/1strgsg5455dq9n93kfzv8kh0000gn/T/ipykernel_41696/1025966107.py:10: FutureWarning: elementwise comparison failed; returning scalar instead, but in the future will perform elementwise comparison\n",
      "  df_5_mutations_filtered_2 = df_5_mutations_filtered_1_by[mut][df_5_mutations_filtered_1_by[mut].apply(lambda row: mut2 in row.values, axis=1)]\n",
      "/var/folders/tn/1strgsg5455dq9n93kfzv8kh0000gn/T/ipykernel_41696/1025966107.py:10: FutureWarning: elementwise comparison failed; returning scalar instead, but in the future will perform elementwise comparison\n",
      "  df_5_mutations_filtered_2 = df_5_mutations_filtered_1_by[mut][df_5_mutations_filtered_1_by[mut].apply(lambda row: mut2 in row.values, axis=1)]\n",
      "/var/folders/tn/1strgsg5455dq9n93kfzv8kh0000gn/T/ipykernel_41696/1025966107.py:10: FutureWarning: elementwise comparison failed; returning scalar instead, but in the future will perform elementwise comparison\n",
      "  df_5_mutations_filtered_2 = df_5_mutations_filtered_1_by[mut][df_5_mutations_filtered_1_by[mut].apply(lambda row: mut2 in row.values, axis=1)]\n",
      "/var/folders/tn/1strgsg5455dq9n93kfzv8kh0000gn/T/ipykernel_41696/1025966107.py:10: FutureWarning: elementwise comparison failed; returning scalar instead, but in the future will perform elementwise comparison\n",
      "  df_5_mutations_filtered_2 = df_5_mutations_filtered_1_by[mut][df_5_mutations_filtered_1_by[mut].apply(lambda row: mut2 in row.values, axis=1)]\n",
      "/var/folders/tn/1strgsg5455dq9n93kfzv8kh0000gn/T/ipykernel_41696/1025966107.py:10: FutureWarning: elementwise comparison failed; returning scalar instead, but in the future will perform elementwise comparison\n",
      "  df_5_mutations_filtered_2 = df_5_mutations_filtered_1_by[mut][df_5_mutations_filtered_1_by[mut].apply(lambda row: mut2 in row.values, axis=1)]\n",
      "/var/folders/tn/1strgsg5455dq9n93kfzv8kh0000gn/T/ipykernel_41696/1025966107.py:10: FutureWarning: elementwise comparison failed; returning scalar instead, but in the future will perform elementwise comparison\n",
      "  df_5_mutations_filtered_2 = df_5_mutations_filtered_1_by[mut][df_5_mutations_filtered_1_by[mut].apply(lambda row: mut2 in row.values, axis=1)]\n",
      "/var/folders/tn/1strgsg5455dq9n93kfzv8kh0000gn/T/ipykernel_41696/1025966107.py:10: FutureWarning: elementwise comparison failed; returning scalar instead, but in the future will perform elementwise comparison\n",
      "  df_5_mutations_filtered_2 = df_5_mutations_filtered_1_by[mut][df_5_mutations_filtered_1_by[mut].apply(lambda row: mut2 in row.values, axis=1)]\n",
      "/var/folders/tn/1strgsg5455dq9n93kfzv8kh0000gn/T/ipykernel_41696/1025966107.py:10: FutureWarning: elementwise comparison failed; returning scalar instead, but in the future will perform elementwise comparison\n",
      "  df_5_mutations_filtered_2 = df_5_mutations_filtered_1_by[mut][df_5_mutations_filtered_1_by[mut].apply(lambda row: mut2 in row.values, axis=1)]\n",
      "/var/folders/tn/1strgsg5455dq9n93kfzv8kh0000gn/T/ipykernel_41696/1025966107.py:10: FutureWarning: elementwise comparison failed; returning scalar instead, but in the future will perform elementwise comparison\n",
      "  df_5_mutations_filtered_2 = df_5_mutations_filtered_1_by[mut][df_5_mutations_filtered_1_by[mut].apply(lambda row: mut2 in row.values, axis=1)]\n",
      "/var/folders/tn/1strgsg5455dq9n93kfzv8kh0000gn/T/ipykernel_41696/1025966107.py:10: FutureWarning: elementwise comparison failed; returning scalar instead, but in the future will perform elementwise comparison\n",
      "  df_5_mutations_filtered_2 = df_5_mutations_filtered_1_by[mut][df_5_mutations_filtered_1_by[mut].apply(lambda row: mut2 in row.values, axis=1)]\n",
      "/var/folders/tn/1strgsg5455dq9n93kfzv8kh0000gn/T/ipykernel_41696/1025966107.py:10: FutureWarning: elementwise comparison failed; returning scalar instead, but in the future will perform elementwise comparison\n",
      "  df_5_mutations_filtered_2 = df_5_mutations_filtered_1_by[mut][df_5_mutations_filtered_1_by[mut].apply(lambda row: mut2 in row.values, axis=1)]\n",
      "/var/folders/tn/1strgsg5455dq9n93kfzv8kh0000gn/T/ipykernel_41696/1025966107.py:10: FutureWarning: elementwise comparison failed; returning scalar instead, but in the future will perform elementwise comparison\n",
      "  df_5_mutations_filtered_2 = df_5_mutations_filtered_1_by[mut][df_5_mutations_filtered_1_by[mut].apply(lambda row: mut2 in row.values, axis=1)]\n",
      "/var/folders/tn/1strgsg5455dq9n93kfzv8kh0000gn/T/ipykernel_41696/1025966107.py:10: FutureWarning: elementwise comparison failed; returning scalar instead, but in the future will perform elementwise comparison\n",
      "  df_5_mutations_filtered_2 = df_5_mutations_filtered_1_by[mut][df_5_mutations_filtered_1_by[mut].apply(lambda row: mut2 in row.values, axis=1)]\n",
      "/var/folders/tn/1strgsg5455dq9n93kfzv8kh0000gn/T/ipykernel_41696/1025966107.py:10: FutureWarning: elementwise comparison failed; returning scalar instead, but in the future will perform elementwise comparison\n",
      "  df_5_mutations_filtered_2 = df_5_mutations_filtered_1_by[mut][df_5_mutations_filtered_1_by[mut].apply(lambda row: mut2 in row.values, axis=1)]\n",
      "/var/folders/tn/1strgsg5455dq9n93kfzv8kh0000gn/T/ipykernel_41696/1025966107.py:10: FutureWarning: elementwise comparison failed; returning scalar instead, but in the future will perform elementwise comparison\n",
      "  df_5_mutations_filtered_2 = df_5_mutations_filtered_1_by[mut][df_5_mutations_filtered_1_by[mut].apply(lambda row: mut2 in row.values, axis=1)]\n",
      "/var/folders/tn/1strgsg5455dq9n93kfzv8kh0000gn/T/ipykernel_41696/1025966107.py:10: FutureWarning: elementwise comparison failed; returning scalar instead, but in the future will perform elementwise comparison\n",
      "  df_5_mutations_filtered_2 = df_5_mutations_filtered_1_by[mut][df_5_mutations_filtered_1_by[mut].apply(lambda row: mut2 in row.values, axis=1)]\n",
      "/var/folders/tn/1strgsg5455dq9n93kfzv8kh0000gn/T/ipykernel_41696/1025966107.py:10: FutureWarning: elementwise comparison failed; returning scalar instead, but in the future will perform elementwise comparison\n",
      "  df_5_mutations_filtered_2 = df_5_mutations_filtered_1_by[mut][df_5_mutations_filtered_1_by[mut].apply(lambda row: mut2 in row.values, axis=1)]\n",
      "/var/folders/tn/1strgsg5455dq9n93kfzv8kh0000gn/T/ipykernel_41696/1025966107.py:10: FutureWarning: elementwise comparison failed; returning scalar instead, but in the future will perform elementwise comparison\n",
      "  df_5_mutations_filtered_2 = df_5_mutations_filtered_1_by[mut][df_5_mutations_filtered_1_by[mut].apply(lambda row: mut2 in row.values, axis=1)]\n",
      "/var/folders/tn/1strgsg5455dq9n93kfzv8kh0000gn/T/ipykernel_41696/1025966107.py:10: FutureWarning: elementwise comparison failed; returning scalar instead, but in the future will perform elementwise comparison\n",
      "  df_5_mutations_filtered_2 = df_5_mutations_filtered_1_by[mut][df_5_mutations_filtered_1_by[mut].apply(lambda row: mut2 in row.values, axis=1)]\n",
      "/var/folders/tn/1strgsg5455dq9n93kfzv8kh0000gn/T/ipykernel_41696/1025966107.py:10: FutureWarning: elementwise comparison failed; returning scalar instead, but in the future will perform elementwise comparison\n",
      "  df_5_mutations_filtered_2 = df_5_mutations_filtered_1_by[mut][df_5_mutations_filtered_1_by[mut].apply(lambda row: mut2 in row.values, axis=1)]\n",
      "/var/folders/tn/1strgsg5455dq9n93kfzv8kh0000gn/T/ipykernel_41696/1025966107.py:10: FutureWarning: elementwise comparison failed; returning scalar instead, but in the future will perform elementwise comparison\n",
      "  df_5_mutations_filtered_2 = df_5_mutations_filtered_1_by[mut][df_5_mutations_filtered_1_by[mut].apply(lambda row: mut2 in row.values, axis=1)]\n",
      "/var/folders/tn/1strgsg5455dq9n93kfzv8kh0000gn/T/ipykernel_41696/1025966107.py:10: FutureWarning: elementwise comparison failed; returning scalar instead, but in the future will perform elementwise comparison\n",
      "  df_5_mutations_filtered_2 = df_5_mutations_filtered_1_by[mut][df_5_mutations_filtered_1_by[mut].apply(lambda row: mut2 in row.values, axis=1)]\n",
      "/var/folders/tn/1strgsg5455dq9n93kfzv8kh0000gn/T/ipykernel_41696/1025966107.py:10: FutureWarning: elementwise comparison failed; returning scalar instead, but in the future will perform elementwise comparison\n",
      "  df_5_mutations_filtered_2 = df_5_mutations_filtered_1_by[mut][df_5_mutations_filtered_1_by[mut].apply(lambda row: mut2 in row.values, axis=1)]\n",
      "/var/folders/tn/1strgsg5455dq9n93kfzv8kh0000gn/T/ipykernel_41696/1025966107.py:10: FutureWarning: elementwise comparison failed; returning scalar instead, but in the future will perform elementwise comparison\n",
      "  df_5_mutations_filtered_2 = df_5_mutations_filtered_1_by[mut][df_5_mutations_filtered_1_by[mut].apply(lambda row: mut2 in row.values, axis=1)]\n",
      "/var/folders/tn/1strgsg5455dq9n93kfzv8kh0000gn/T/ipykernel_41696/1025966107.py:10: FutureWarning: elementwise comparison failed; returning scalar instead, but in the future will perform elementwise comparison\n",
      "  df_5_mutations_filtered_2 = df_5_mutations_filtered_1_by[mut][df_5_mutations_filtered_1_by[mut].apply(lambda row: mut2 in row.values, axis=1)]\n",
      "/var/folders/tn/1strgsg5455dq9n93kfzv8kh0000gn/T/ipykernel_41696/1025966107.py:10: FutureWarning: elementwise comparison failed; returning scalar instead, but in the future will perform elementwise comparison\n",
      "  df_5_mutations_filtered_2 = df_5_mutations_filtered_1_by[mut][df_5_mutations_filtered_1_by[mut].apply(lambda row: mut2 in row.values, axis=1)]\n",
      "/var/folders/tn/1strgsg5455dq9n93kfzv8kh0000gn/T/ipykernel_41696/1025966107.py:10: FutureWarning: elementwise comparison failed; returning scalar instead, but in the future will perform elementwise comparison\n",
      "  df_5_mutations_filtered_2 = df_5_mutations_filtered_1_by[mut][df_5_mutations_filtered_1_by[mut].apply(lambda row: mut2 in row.values, axis=1)]\n",
      "/var/folders/tn/1strgsg5455dq9n93kfzv8kh0000gn/T/ipykernel_41696/1025966107.py:10: FutureWarning: elementwise comparison failed; returning scalar instead, but in the future will perform elementwise comparison\n",
      "  df_5_mutations_filtered_2 = df_5_mutations_filtered_1_by[mut][df_5_mutations_filtered_1_by[mut].apply(lambda row: mut2 in row.values, axis=1)]\n",
      "/var/folders/tn/1strgsg5455dq9n93kfzv8kh0000gn/T/ipykernel_41696/1025966107.py:10: FutureWarning: elementwise comparison failed; returning scalar instead, but in the future will perform elementwise comparison\n",
      "  df_5_mutations_filtered_2 = df_5_mutations_filtered_1_by[mut][df_5_mutations_filtered_1_by[mut].apply(lambda row: mut2 in row.values, axis=1)]\n",
      "/var/folders/tn/1strgsg5455dq9n93kfzv8kh0000gn/T/ipykernel_41696/1025966107.py:10: FutureWarning: elementwise comparison failed; returning scalar instead, but in the future will perform elementwise comparison\n",
      "  df_5_mutations_filtered_2 = df_5_mutations_filtered_1_by[mut][df_5_mutations_filtered_1_by[mut].apply(lambda row: mut2 in row.values, axis=1)]\n",
      "/var/folders/tn/1strgsg5455dq9n93kfzv8kh0000gn/T/ipykernel_41696/1025966107.py:10: FutureWarning: elementwise comparison failed; returning scalar instead, but in the future will perform elementwise comparison\n",
      "  df_5_mutations_filtered_2 = df_5_mutations_filtered_1_by[mut][df_5_mutations_filtered_1_by[mut].apply(lambda row: mut2 in row.values, axis=1)]\n",
      "/var/folders/tn/1strgsg5455dq9n93kfzv8kh0000gn/T/ipykernel_41696/1025966107.py:10: FutureWarning: elementwise comparison failed; returning scalar instead, but in the future will perform elementwise comparison\n",
      "  df_5_mutations_filtered_2 = df_5_mutations_filtered_1_by[mut][df_5_mutations_filtered_1_by[mut].apply(lambda row: mut2 in row.values, axis=1)]\n",
      "/var/folders/tn/1strgsg5455dq9n93kfzv8kh0000gn/T/ipykernel_41696/1025966107.py:10: FutureWarning: elementwise comparison failed; returning scalar instead, but in the future will perform elementwise comparison\n",
      "  df_5_mutations_filtered_2 = df_5_mutations_filtered_1_by[mut][df_5_mutations_filtered_1_by[mut].apply(lambda row: mut2 in row.values, axis=1)]\n",
      "/var/folders/tn/1strgsg5455dq9n93kfzv8kh0000gn/T/ipykernel_41696/1025966107.py:10: FutureWarning: elementwise comparison failed; returning scalar instead, but in the future will perform elementwise comparison\n",
      "  df_5_mutations_filtered_2 = df_5_mutations_filtered_1_by[mut][df_5_mutations_filtered_1_by[mut].apply(lambda row: mut2 in row.values, axis=1)]\n",
      "/var/folders/tn/1strgsg5455dq9n93kfzv8kh0000gn/T/ipykernel_41696/1025966107.py:10: FutureWarning: elementwise comparison failed; returning scalar instead, but in the future will perform elementwise comparison\n",
      "  df_5_mutations_filtered_2 = df_5_mutations_filtered_1_by[mut][df_5_mutations_filtered_1_by[mut].apply(lambda row: mut2 in row.values, axis=1)]\n",
      "/var/folders/tn/1strgsg5455dq9n93kfzv8kh0000gn/T/ipykernel_41696/1025966107.py:10: FutureWarning: elementwise comparison failed; returning scalar instead, but in the future will perform elementwise comparison\n",
      "  df_5_mutations_filtered_2 = df_5_mutations_filtered_1_by[mut][df_5_mutations_filtered_1_by[mut].apply(lambda row: mut2 in row.values, axis=1)]\n",
      "/var/folders/tn/1strgsg5455dq9n93kfzv8kh0000gn/T/ipykernel_41696/1025966107.py:10: FutureWarning: elementwise comparison failed; returning scalar instead, but in the future will perform elementwise comparison\n",
      "  df_5_mutations_filtered_2 = df_5_mutations_filtered_1_by[mut][df_5_mutations_filtered_1_by[mut].apply(lambda row: mut2 in row.values, axis=1)]\n",
      "/var/folders/tn/1strgsg5455dq9n93kfzv8kh0000gn/T/ipykernel_41696/1025966107.py:10: FutureWarning: elementwise comparison failed; returning scalar instead, but in the future will perform elementwise comparison\n",
      "  df_5_mutations_filtered_2 = df_5_mutations_filtered_1_by[mut][df_5_mutations_filtered_1_by[mut].apply(lambda row: mut2 in row.values, axis=1)]\n",
      "/var/folders/tn/1strgsg5455dq9n93kfzv8kh0000gn/T/ipykernel_41696/1025966107.py:10: FutureWarning: elementwise comparison failed; returning scalar instead, but in the future will perform elementwise comparison\n",
      "  df_5_mutations_filtered_2 = df_5_mutations_filtered_1_by[mut][df_5_mutations_filtered_1_by[mut].apply(lambda row: mut2 in row.values, axis=1)]\n",
      "/var/folders/tn/1strgsg5455dq9n93kfzv8kh0000gn/T/ipykernel_41696/1025966107.py:10: FutureWarning: elementwise comparison failed; returning scalar instead, but in the future will perform elementwise comparison\n",
      "  df_5_mutations_filtered_2 = df_5_mutations_filtered_1_by[mut][df_5_mutations_filtered_1_by[mut].apply(lambda row: mut2 in row.values, axis=1)]\n",
      "/var/folders/tn/1strgsg5455dq9n93kfzv8kh0000gn/T/ipykernel_41696/1025966107.py:10: FutureWarning: elementwise comparison failed; returning scalar instead, but in the future will perform elementwise comparison\n",
      "  df_5_mutations_filtered_2 = df_5_mutations_filtered_1_by[mut][df_5_mutations_filtered_1_by[mut].apply(lambda row: mut2 in row.values, axis=1)]\n",
      "/var/folders/tn/1strgsg5455dq9n93kfzv8kh0000gn/T/ipykernel_41696/1025966107.py:10: FutureWarning: elementwise comparison failed; returning scalar instead, but in the future will perform elementwise comparison\n",
      "  df_5_mutations_filtered_2 = df_5_mutations_filtered_1_by[mut][df_5_mutations_filtered_1_by[mut].apply(lambda row: mut2 in row.values, axis=1)]\n",
      "/var/folders/tn/1strgsg5455dq9n93kfzv8kh0000gn/T/ipykernel_41696/1025966107.py:10: FutureWarning: elementwise comparison failed; returning scalar instead, but in the future will perform elementwise comparison\n",
      "  df_5_mutations_filtered_2 = df_5_mutations_filtered_1_by[mut][df_5_mutations_filtered_1_by[mut].apply(lambda row: mut2 in row.values, axis=1)]\n"
     ]
    }
   ],
   "source": [
    "# filter each df_5_mutations_filtered_1 with respective possible_mut_2x_mut\n",
    "# create a new df for every mut-mut2 combination, mut2 in possible_mut_2x_mut\n",
    "df_5_mutations_filtered_2_by = {}\n",
    "\n",
    "# iterate over each df_5_mutations_filtered_1 (each of them was assigned to a mut from possible_mut_1x_mut)\n",
    "for mut, df_5_mutations_filtered_1 in df_5_mutations_filtered_1_by.items():\n",
    "    # iterate over every mut2 in each possible_mut_2x_mut_with[mut]\n",
    "    for mut2 in possible_mut_2x_mut_with[mut]:\n",
    "        # filter df_5_mutations_filtered_1 with mut2\n",
    "        df_5_mutations_filtered_2 = df_5_mutations_filtered_1_by[mut][df_5_mutations_filtered_1_by[mut].apply(lambda row: mut2 in row.values, axis=1)]\n",
    "        # assign every df_5_mutations_filtered_2 to df_5_mutations_filtered_2_by\n",
    "        key_2 = f\"{mut}_{mut2}\"\n",
    "        df_5_mutations_filtered_2_by[key_2] = df_5_mutations_filtered_2"
   ],
   "metadata": {
    "collapsed": false,
    "ExecuteTime": {
     "end_time": "2023-07-16T17:30:19.937743Z",
     "start_time": "2023-07-16T17:30:08.531513Z"
    }
   }
  },
  {
   "cell_type": "code",
   "execution_count": 47,
   "outputs": [],
   "source": [
    "# create a new dictionary df_5_mutations_filtered_2_non_empty_by to store non-empty dfs from df_5_mutations_filtered_2_by\n",
    "df_5_mutations_filtered_2_non_empty_by = {}\n",
    "\n",
    "# iterate over mut-mut2 pairs (key_2) of df_3_mutations_filtered_2_by\n",
    "for key_2, df_5_mutations_filtered_2 in df_5_mutations_filtered_2_by.items():\n",
    "    if not df_5_mutations_filtered_2.empty:\n",
    "        df_5_mutations_filtered_2_non_empty_by[key_2] = df_5_mutations_filtered_2"
   ],
   "metadata": {
    "collapsed": false,
    "ExecuteTime": {
     "end_time": "2023-07-16T17:30:37.274637Z",
     "start_time": "2023-07-16T17:30:37.242323Z"
    }
   }
  },
  {
   "cell_type": "markdown",
   "source": [
    "### filter with mut3"
   ],
   "metadata": {
    "collapsed": false
   }
  },
  {
   "cell_type": "code",
   "execution_count": 49,
   "outputs": [],
   "source": [
    "# filter each df_5_mutations_filtered_2_non_empty_by with respective possible_mut_3x_mut\n",
    "# create a new df for every mut-mut2-mut3 combination, mut3 in possible_mut_3x_mut\n",
    "df_5_mutations_filtered_3_by = {}\n",
    "\n",
    "# iterate over each df_5_mutations_filtered_2_non_empty (each of them was assigned to a mut-mut2 pair)\n",
    "for key_2, df_5_mutations_filtered_2 in df_5_mutations_filtered_2_non_empty_by.items():\n",
    "    # check if key_2 is in possible_mut_3x_mut_with (nessesary because some key_2 produced empty df_5_mutations_filtered_2 and therefore key_2 is not in possible_mut_3x_mut_with in these cases)\n",
    "    if key_2 in possible_mut_3x_mut_with:\n",
    "        # iterate over every mut3 in each possible_mut_3x_mut_with[key_2]\n",
    "        for mut3 in possible_mut_3x_mut_with[key_2]:\n",
    "            # if key_2 is in df_5_mutations_filtered_2_non_empty_by\n",
    "            if key_2 in df_5_mutations_filtered_2_non_empty_by:\n",
    "                # filter df_5_mutations_filtered_2 with mut3\n",
    "                df_5_mutations_filtered_3 = df_5_mutations_filtered_2_non_empty_by[key_2][df_5_mutations_filtered_2_non_empty_by[key_2].apply(lambda row: mut3 in row.values, axis=1)]\n",
    "                # assign every df_5_mutations_filtered_3 to df_5_mutations_filtered_3_by\n",
    "                key_3 = f\"{key_2}_{mut3}\"\n",
    "                df_5_mutations_filtered_3_by[key_3] = df_5_mutations_filtered_3"
   ],
   "metadata": {
    "collapsed": false,
    "ExecuteTime": {
     "end_time": "2023-07-16T17:31:17.189184Z",
     "start_time": "2023-07-16T17:31:16.260518Z"
    }
   }
  },
  {
   "cell_type": "code",
   "execution_count": 51,
   "outputs": [],
   "source": [
    "# create a new dictionary df_5_mutations_filtered_3_non_empty_by to store non-empty dfs from df_5_mutations_filtered_3_by\n",
    "df_5_mutations_filtered_3_non_empty_by = {}\n",
    "\n",
    "# iterate over mut-mut2-mut3 combinations (key_3) of df_5_mutations_filtered_3_by\n",
    "for key_3, df_5_mutations_filtered_3 in df_5_mutations_filtered_3_by.items():\n",
    "    if not df_5_mutations_filtered_3.empty:\n",
    "        df_5_mutations_filtered_3_non_empty_by[key_3] = df_5_mutations_filtered_3"
   ],
   "metadata": {
    "collapsed": false,
    "ExecuteTime": {
     "end_time": "2023-07-16T17:31:37.173207Z",
     "start_time": "2023-07-16T17:31:37.154028Z"
    }
   }
  },
  {
   "cell_type": "markdown",
   "source": [
    "### filter with mut4"
   ],
   "metadata": {
    "collapsed": false
   }
  },
  {
   "cell_type": "code",
   "execution_count": 53,
   "outputs": [],
   "source": [
    "# filter each df_5_mutations_filtered_3_non_empty_by with respective possible_mut_4x_mut\n",
    "# create a new df for every mut-mut2-mut3-mut4 combination, mut4 in possible_mut_4x_mut\n",
    "df_5_mutations_filtered_4_by = {}\n",
    "\n",
    "# iterate over each df_5_mutations_filtered_3_non_empty (each of them was assigned to a mut-mut2-mut3 pair)\n",
    "for key_3, df_5_mutations_filtered_3 in df_5_mutations_filtered_3_non_empty_by.items():\n",
    "    # check if key_3 is in possible_mut_4x_mut_with (nessesary because some key_3 produced empty df_5_mutations_filtered_3 and therefore key_3 is not in possible_mut_4x_mut_with in these cases)\n",
    "    if key_3 in possible_mut_4x_mut_with:\n",
    "        # iterate over every mut4 in each possible_mut_4x_mut_with[key_3]\n",
    "        for mut4 in possible_mut_4x_mut_with[key_3]:\n",
    "            # if key_3 is in df_5_mutations_filtered_3_non_empty_by\n",
    "            if key_3 in df_5_mutations_filtered_3_non_empty_by:\n",
    "                # filter df_5_mutations_filtered_3 with mut4\n",
    "                df_5_mutations_filtered_4 = df_5_mutations_filtered_3_non_empty_by[key_3][df_5_mutations_filtered_3_non_empty_by[key_3].apply(lambda row: mut4 in row.values, axis=1)]\n",
    "                # assign every df_5_mutations_filtered_4 to df_5_mutations_filtered_4_by\n",
    "                key_4 = f\"{key_3}_{mut4}\"\n",
    "                df_5_mutations_filtered_4_by[key_4] = df_5_mutations_filtered_4"
   ],
   "metadata": {
    "collapsed": false,
    "ExecuteTime": {
     "end_time": "2023-07-16T17:32:11.200583Z",
     "start_time": "2023-07-16T17:32:11.180870Z"
    }
   }
  },
  {
   "cell_type": "code",
   "execution_count": 54,
   "outputs": [
    {
     "name": "stdout",
     "output_type": "stream",
     "text": [
      "The dictionary contains 0 DataFrames.\n"
     ]
    }
   ],
   "source": [
    "# How many dfs does the dictionary contain?\n",
    "num_dataframes = len(df_5_mutations_filtered_4_by)\n",
    "print(f\"The dictionary contains {num_dataframes} DataFrames.\")"
   ],
   "metadata": {
    "collapsed": false,
    "ExecuteTime": {
     "end_time": "2023-07-16T17:33:21.558200Z",
     "start_time": "2023-07-16T17:33:21.539154Z"
    }
   }
  },
  {
   "cell_type": "markdown",
   "source": [
    "#### --> not further sequential mutants (max. length of path: 4)"
   ],
   "metadata": {
    "collapsed": false
   }
  }
 ],
 "metadata": {
  "kernelspec": {
   "display_name": "Python 3",
   "language": "python",
   "name": "python3"
  },
  "language_info": {
   "codemirror_mode": {
    "name": "ipython",
    "version": 2
   },
   "file_extension": ".py",
   "mimetype": "text/x-python",
   "name": "python",
   "nbconvert_exporter": "python",
   "pygments_lexer": "ipython2",
   "version": "2.7.6"
  }
 },
 "nbformat": 4,
 "nbformat_minor": 0
}
