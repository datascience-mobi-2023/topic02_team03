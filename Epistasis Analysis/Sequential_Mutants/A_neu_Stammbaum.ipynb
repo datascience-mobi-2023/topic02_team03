{
 "cells": [
  {
   "cell_type": "markdown",
   "source": [
    "Vorgehen:\n",
    "1. df -> Liste\n",
    "2. Mutanten, die Mutation X???X beinhalten rausfiltern\n",
    "3. Mutanten, die Mutation X???X + Y!!!Y beinhalten rausfiltern\n",
    "4. usw."
   ],
   "metadata": {
    "collapsed": false
   }
  },
  {
   "cell_type": "code",
   "execution_count": 48,
   "outputs": [
    {
     "name": "stderr",
     "output_type": "stream",
     "text": [
      "/var/folders/tn/1strgsg5455dq9n93kfzv8kh0000gn/T/ipykernel_48046/2323753459.py:10: FutureWarning: In a future version of pandas all arguments of StringMethods.split except for the argument 'pat' will be keyword-only.\n",
      "  df_ind_col[['m1', 'm2', 'm3', 'm4', 'm5', 'm6', 'm7', 'm8', 'm9', 'm10', 'm11','m12','m13','m14','m15']] = df_ind_col['mutant'].str.split(':', 14, expand=True)\n"
     ]
    },
    {
     "data": {
      "text/plain": "                                  mutant  \\\n0  K3R:V55A:Q94R:A110T:D117G:M153K:D216A   \n1                   K3Q:V16A:I167T:L195Q   \n2            K3Q:Y143C:N164D:S205P:A227T   \n3                        K3Q:Y143N:V193A   \n4                                    K3R   \n\n                                    mutated_sequence  DMS_score  \\\n0  MSRGEELFTGVVPILVELDGDVNGHKFSVSGEGEGDATYGKLTLKF...   1.301030   \n1  MSQGEELFTGVVPILAELDGDVNGHKFSVSGEGEGDATYGKLTLKF...   3.137350   \n2  MSQGEELFTGVVPILVELDGDVNGHKFSVSGEGEGDATYGKLTLKF...   1.553913   \n3  MSQGEELFTGVVPILVELDGDVNGHKFSVSGEGEGDATYGKLTLKF...   3.404237   \n4  MSRGEELFTGVVPILVELDGDVNGHKFSVSGEGEGDATYGKLTLKF...   3.738586   \n\n   DMS_score_bin   m1     m2     m3     m4     m5     m6     m7    m8    m9  \\\n0              0  K3R   V55A   Q94R  A110T  D117G  M153K  D216A  None  None   \n1              1  K3Q   V16A  I167T  L195Q   None   None   None  None  None   \n2              0  K3Q  Y143C  N164D  S205P  A227T   None   None  None  None   \n3              1  K3Q  Y143N  V193A   None   None   None   None  None  None   \n4              1  K3R   None   None   None   None   None   None  None  None   \n\n    m10   m11   m12   m13   m14   m15  \n0  None  None  None  None  None  None  \n1  None  None  None  None  None  None  \n2  None  None  None  None  None  None  \n3  None  None  None  None  None  None  \n4  None  None  None  None  None  None  ",
      "text/html": "<div>\n<style scoped>\n    .dataframe tbody tr th:only-of-type {\n        vertical-align: middle;\n    }\n\n    .dataframe tbody tr th {\n        vertical-align: top;\n    }\n\n    .dataframe thead th {\n        text-align: right;\n    }\n</style>\n<table border=\"1\" class=\"dataframe\">\n  <thead>\n    <tr style=\"text-align: right;\">\n      <th></th>\n      <th>mutant</th>\n      <th>mutated_sequence</th>\n      <th>DMS_score</th>\n      <th>DMS_score_bin</th>\n      <th>m1</th>\n      <th>m2</th>\n      <th>m3</th>\n      <th>m4</th>\n      <th>m5</th>\n      <th>m6</th>\n      <th>m7</th>\n      <th>m8</th>\n      <th>m9</th>\n      <th>m10</th>\n      <th>m11</th>\n      <th>m12</th>\n      <th>m13</th>\n      <th>m14</th>\n      <th>m15</th>\n    </tr>\n  </thead>\n  <tbody>\n    <tr>\n      <th>0</th>\n      <td>K3R:V55A:Q94R:A110T:D117G:M153K:D216A</td>\n      <td>MSRGEELFTGVVPILVELDGDVNGHKFSVSGEGEGDATYGKLTLKF...</td>\n      <td>1.301030</td>\n      <td>0</td>\n      <td>K3R</td>\n      <td>V55A</td>\n      <td>Q94R</td>\n      <td>A110T</td>\n      <td>D117G</td>\n      <td>M153K</td>\n      <td>D216A</td>\n      <td>None</td>\n      <td>None</td>\n      <td>None</td>\n      <td>None</td>\n      <td>None</td>\n      <td>None</td>\n      <td>None</td>\n      <td>None</td>\n    </tr>\n    <tr>\n      <th>1</th>\n      <td>K3Q:V16A:I167T:L195Q</td>\n      <td>MSQGEELFTGVVPILAELDGDVNGHKFSVSGEGEGDATYGKLTLKF...</td>\n      <td>3.137350</td>\n      <td>1</td>\n      <td>K3Q</td>\n      <td>V16A</td>\n      <td>I167T</td>\n      <td>L195Q</td>\n      <td>None</td>\n      <td>None</td>\n      <td>None</td>\n      <td>None</td>\n      <td>None</td>\n      <td>None</td>\n      <td>None</td>\n      <td>None</td>\n      <td>None</td>\n      <td>None</td>\n      <td>None</td>\n    </tr>\n    <tr>\n      <th>2</th>\n      <td>K3Q:Y143C:N164D:S205P:A227T</td>\n      <td>MSQGEELFTGVVPILVELDGDVNGHKFSVSGEGEGDATYGKLTLKF...</td>\n      <td>1.553913</td>\n      <td>0</td>\n      <td>K3Q</td>\n      <td>Y143C</td>\n      <td>N164D</td>\n      <td>S205P</td>\n      <td>A227T</td>\n      <td>None</td>\n      <td>None</td>\n      <td>None</td>\n      <td>None</td>\n      <td>None</td>\n      <td>None</td>\n      <td>None</td>\n      <td>None</td>\n      <td>None</td>\n      <td>None</td>\n    </tr>\n    <tr>\n      <th>3</th>\n      <td>K3Q:Y143N:V193A</td>\n      <td>MSQGEELFTGVVPILVELDGDVNGHKFSVSGEGEGDATYGKLTLKF...</td>\n      <td>3.404237</td>\n      <td>1</td>\n      <td>K3Q</td>\n      <td>Y143N</td>\n      <td>V193A</td>\n      <td>None</td>\n      <td>None</td>\n      <td>None</td>\n      <td>None</td>\n      <td>None</td>\n      <td>None</td>\n      <td>None</td>\n      <td>None</td>\n      <td>None</td>\n      <td>None</td>\n      <td>None</td>\n      <td>None</td>\n    </tr>\n    <tr>\n      <th>4</th>\n      <td>K3R</td>\n      <td>MSRGEELFTGVVPILVELDGDVNGHKFSVSGEGEGDATYGKLTLKF...</td>\n      <td>3.738586</td>\n      <td>1</td>\n      <td>K3R</td>\n      <td>None</td>\n      <td>None</td>\n      <td>None</td>\n      <td>None</td>\n      <td>None</td>\n      <td>None</td>\n      <td>None</td>\n      <td>None</td>\n      <td>None</td>\n      <td>None</td>\n      <td>None</td>\n      <td>None</td>\n      <td>None</td>\n      <td>None</td>\n    </tr>\n  </tbody>\n</table>\n</div>"
     },
     "execution_count": 48,
     "metadata": {},
     "output_type": "execute_result"
    }
   ],
   "source": [
    "import pandas as pd\n",
    "import numpy as np\n",
    "\n",
    "# Datensatz einlesen\n",
    "df = pd.read_csv('/Users/tianxinangelama/Documents/Studium/4. FS/DMS/DMS_data/GFP_AEQVI_Sarkisyan_2016.csv')\n",
    "\n",
    "# split into multiple columns, 1 column for every mutation\n",
    "df_ind_col = df\n",
    "\n",
    "df_ind_col[['m1', 'm2', 'm3', 'm4', 'm5', 'm6', 'm7', 'm8', 'm9', 'm10', 'm11','m12','m13','m14','m15']] = df_ind_col['mutant'].str.split(':', 14, expand=True)\n",
    "\n",
    "df_ind_col.head()"
   ],
   "metadata": {
    "collapsed": false,
    "ExecuteTime": {
     "end_time": "2023-06-06T07:41:17.159886Z",
     "start_time": "2023-06-06T07:41:16.830923Z"
    }
   }
  },
  {
   "cell_type": "code",
   "execution_count": 49,
   "outputs": [
    {
     "data": {
      "text/plain": "   DMS_score   m1     m2     m3     m4     m5     m6     m7    m8    m9   m10  \\\n0   1.301030  K3R   V55A   Q94R  A110T  D117G  M153K  D216A  None  None  None   \n1   3.137350  K3Q   V16A  I167T  L195Q   None   None   None  None  None  None   \n2   1.553913  K3Q  Y143C  N164D  S205P  A227T   None   None  None  None  None   \n3   3.404237  K3Q  Y143N  V193A   None   None   None   None  None  None  None   \n4   3.738586  K3R   None   None   None   None   None   None  None  None  None   \n\n    m11   m12   m13   m14   m15  \n0  None  None  None  None  None  \n1  None  None  None  None  None  \n2  None  None  None  None  None  \n3  None  None  None  None  None  \n4  None  None  None  None  None  ",
      "text/html": "<div>\n<style scoped>\n    .dataframe tbody tr th:only-of-type {\n        vertical-align: middle;\n    }\n\n    .dataframe tbody tr th {\n        vertical-align: top;\n    }\n\n    .dataframe thead th {\n        text-align: right;\n    }\n</style>\n<table border=\"1\" class=\"dataframe\">\n  <thead>\n    <tr style=\"text-align: right;\">\n      <th></th>\n      <th>DMS_score</th>\n      <th>m1</th>\n      <th>m2</th>\n      <th>m3</th>\n      <th>m4</th>\n      <th>m5</th>\n      <th>m6</th>\n      <th>m7</th>\n      <th>m8</th>\n      <th>m9</th>\n      <th>m10</th>\n      <th>m11</th>\n      <th>m12</th>\n      <th>m13</th>\n      <th>m14</th>\n      <th>m15</th>\n    </tr>\n  </thead>\n  <tbody>\n    <tr>\n      <th>0</th>\n      <td>1.301030</td>\n      <td>K3R</td>\n      <td>V55A</td>\n      <td>Q94R</td>\n      <td>A110T</td>\n      <td>D117G</td>\n      <td>M153K</td>\n      <td>D216A</td>\n      <td>None</td>\n      <td>None</td>\n      <td>None</td>\n      <td>None</td>\n      <td>None</td>\n      <td>None</td>\n      <td>None</td>\n      <td>None</td>\n    </tr>\n    <tr>\n      <th>1</th>\n      <td>3.137350</td>\n      <td>K3Q</td>\n      <td>V16A</td>\n      <td>I167T</td>\n      <td>L195Q</td>\n      <td>None</td>\n      <td>None</td>\n      <td>None</td>\n      <td>None</td>\n      <td>None</td>\n      <td>None</td>\n      <td>None</td>\n      <td>None</td>\n      <td>None</td>\n      <td>None</td>\n      <td>None</td>\n    </tr>\n    <tr>\n      <th>2</th>\n      <td>1.553913</td>\n      <td>K3Q</td>\n      <td>Y143C</td>\n      <td>N164D</td>\n      <td>S205P</td>\n      <td>A227T</td>\n      <td>None</td>\n      <td>None</td>\n      <td>None</td>\n      <td>None</td>\n      <td>None</td>\n      <td>None</td>\n      <td>None</td>\n      <td>None</td>\n      <td>None</td>\n      <td>None</td>\n    </tr>\n    <tr>\n      <th>3</th>\n      <td>3.404237</td>\n      <td>K3Q</td>\n      <td>Y143N</td>\n      <td>V193A</td>\n      <td>None</td>\n      <td>None</td>\n      <td>None</td>\n      <td>None</td>\n      <td>None</td>\n      <td>None</td>\n      <td>None</td>\n      <td>None</td>\n      <td>None</td>\n      <td>None</td>\n      <td>None</td>\n      <td>None</td>\n    </tr>\n    <tr>\n      <th>4</th>\n      <td>3.738586</td>\n      <td>K3R</td>\n      <td>None</td>\n      <td>None</td>\n      <td>None</td>\n      <td>None</td>\n      <td>None</td>\n      <td>None</td>\n      <td>None</td>\n      <td>None</td>\n      <td>None</td>\n      <td>None</td>\n      <td>None</td>\n      <td>None</td>\n      <td>None</td>\n      <td>None</td>\n    </tr>\n  </tbody>\n</table>\n</div>"
     },
     "execution_count": 49,
     "metadata": {},
     "output_type": "execute_result"
    }
   ],
   "source": [
    "# reduce df to fscore, m1 - m15\n",
    "df_only_fscore_mutations = df_ind_col\n",
    "\n",
    "df_only_fscore_mutations = df_only_fscore_mutations.drop(['mutant','mutated_sequence','DMS_score_bin'], axis=1)\n",
    "\n",
    "df_only_fscore_mutations.head()"
   ],
   "metadata": {
    "collapsed": false,
    "ExecuteTime": {
     "end_time": "2023-06-06T07:41:18.633138Z",
     "start_time": "2023-06-06T07:41:18.607419Z"
    }
   }
  },
  {
   "cell_type": "markdown",
   "source": [
    "# Liste mit DMS_score und m1 bis m15 erstellen\n",
    "df_only_fscore_mutations = df_only_fscore_mutations.values.tolist()\n",
    "\n",
    "print(df_only_fscore_mutations)\n",
    "# funktioniert nicht"
   ],
   "metadata": {
    "collapsed": false
   }
  },
  {
   "cell_type": "code",
   "execution_count": 91,
   "outputs": [],
   "source": [
    "# df auf bestimmte Mutation checken\n",
    "df_mutants_with_specific_mutation = df_only_fscore_mutations\n",
    "\n",
    "mutation = 'D216A'"
   ],
   "metadata": {
    "collapsed": false,
    "ExecuteTime": {
     "end_time": "2023-06-06T08:59:41.022839Z",
     "start_time": "2023-06-06T08:59:41.014419Z"
    }
   }
  },
  {
   "cell_type": "markdown",
   "source": [
    "# 1 spez. Mutation in beliebiger Spalte\n",
    "df_mutants_with_specific_mutation = df[df.isin([mutation]).any(axis=1)]\n",
    "\n",
    "print(df_mutants_with_specific_mutation)"
   ],
   "metadata": {
    "collapsed": false
   }
  },
  {
   "cell_type": "markdown",
   "source": [
    "# dasselbe für 2 spezifische Mutationen\n",
    "mutation_1 = 'K3R'\n",
    "mutation_2 = 'V55A'\n",
    "df_mutants_with_specific_mutation = df_mutants_with_specific_mutation[df_mutants_with_specific_mutation.isin([mutation_1, mutation_2]).any(axis=1)]\n",
    "\n",
    "print(df_mutants_with_specific_mutation)\n",
    "\n",
    "#Problem: es wird auf mutation_1 *oder* mutation_2 geprüft, wir wollen *und*"
   ],
   "metadata": {
    "collapsed": false
   }
  },
  {
   "cell_type": "code",
   "execution_count": 95,
   "outputs": [
    {
     "name": "stdout",
     "output_type": "stream",
     "text": [
      "      DMS_score   m1    m2     m3     m4     m5     m6     m7    m8    m9  \\\n",
      "0      1.301030  K3R  V55A   Q94R  A110T  D117G  M153K  D216A  None  None   \n",
      "491    1.301031  K3R  I47T   V55A   M88T  K140E  N144D  F165S  None  None   \n",
      "1081   1.306893  K3R  V55A  D133E  H181R   None   None   None  None  None   \n",
      "1082   1.301031  K3R  V55A   L60H  H139R  Y143C   None   None  None  None   \n",
      "1092   1.483930  K3R  V16A   C48R   V55A   F83L   None   None  None  None   \n",
      "\n",
      "       m10   m11   m12   m13   m14   m15  \n",
      "0     None  None  None  None  None  None  \n",
      "491   None  None  None  None  None  None  \n",
      "1081  None  None  None  None  None  None  \n",
      "1082  None  None  None  None  None  None  \n",
      "1092  None  None  None  None  None  None  \n"
     ]
    }
   ],
   "source": [
    "# mutation_1 *und* mutation_2\n",
    "mutation_1 = 'K3R'\n",
    "mutation_2 = 'V55A'\n",
    "\n",
    "mask_mutants_with_mutation_1_and_mutation_2 = df_mutants_with_specific_mutation.isin([mutation_1, mutation_2]).sum(axis=1) == 2\n",
    "df_mutants_with_mutation_1_and_mutation_2 = df_mutants_with_specific_mutation[mask_mutants_with_mutation_1_and_mutation_2]\n",
    "\n",
    "print(df_mutants_with_mutation_1_and_mutation_2)"
   ],
   "metadata": {
    "collapsed": false,
    "ExecuteTime": {
     "end_time": "2023-06-06T09:01:30.104322Z",
     "start_time": "2023-06-06T09:01:30.067453Z"
    }
   }
  },
  {
   "cell_type": "code",
   "execution_count": 94,
   "outputs": [],
   "source": [
    "# Lisas Code zum Rausschreiben v. allen möglichen Mutationen (modifiziert)\n",
    "working_dataframe_only_ms = df_only_fscore_mutations.loc[:, [\"m1\", \"m2\", \"m3\", 'm4', 'm5', 'm6', 'm7', 'm8', 'm9', 'm10', 'm11', 'm12', 'm13', 'm14', 'm15']]\n",
    "working_dataframe_only_ms.head()\n",
    "\n",
    "all_possible_mutations = working_dataframe_only_ms.values.flatten().tolist()\n",
    "all_possible_mutations = list(set(all_possible_mutations))\n",
    "#hat einen none Wert, weil der auch ein Wert in der Liste ist -> wegmachen\n",
    "while None in all_possible_mutations:\n",
    "    all_possible_mutations.remove(None)"
   ],
   "metadata": {
    "collapsed": false,
    "ExecuteTime": {
     "end_time": "2023-06-06T09:00:24.982250Z",
     "start_time": "2023-06-06T09:00:24.947916Z"
    }
   }
  },
  {
   "cell_type": "code",
   "execution_count": null,
   "outputs": [],
   "source": [
    "print(all_possible_mutations)"
   ],
   "metadata": {
    "collapsed": false
   }
  },
  {
   "cell_type": "code",
   "execution_count": null,
   "outputs": [],
   "source": [
    "print(type(all_possible_mutations))"
   ],
   "metadata": {
    "collapsed": false
   }
  },
  {
   "cell_type": "code",
   "execution_count": 96,
   "outputs": [
    {
     "name": "stdout",
     "output_type": "stream",
     "text": [
      "Empty DataFrame\n",
      "Columns: [DMS_score, m1, m2, m3, m4, m5, m6, m7, m8, m9, m10, m11, m12, m13, m14, m15]\n",
      "Index: []\n"
     ]
    }
   ],
   "source": [
    "# mutation_1 und mutation_list\n",
    "mutation_1 = 'K3R'\n",
    "mutation_list = all_possible_mutations\n",
    "\n",
    "# Maske, die alle Zeilen enthält\n",
    "mask_mutants_with_mutation_1_and_mutation_list = pd.Series(True, index=df_mutants_with_specific_mutation.index)\n",
    "\n",
    "# jede Mutation in mutation_list durchgehen; nur Zeilen erhalten, die mutation_1 und mutation beinhalten\n",
    "for mutation in mutation_list:\n",
    "    mask_mutants_with_mutation_1_and_mutation_list &= df_mutants_with_specific_mutation.isin([mutation_1, mutation]).sum(axis=1) == 2\n",
    "\n",
    "df_mutants_with_mutation_1_and_mutation_list = df_mutants_with_specific_mutation[mask_mutants_with_mutation_1_and_mutation_list]\n",
    "\n",
    "print(df_mutants_with_mutation_1_and_mutation_list)\n",
    "\n",
    "# Probelm: Empty df (Problem wird unten gelöst)"
   ],
   "metadata": {
    "collapsed": false,
    "ExecuteTime": {
     "end_time": "2023-06-06T09:06:34.974676Z",
     "start_time": "2023-06-06T09:05:42.016970Z"
    }
   }
  },
  {
   "cell_type": "code",
   "execution_count": 98,
   "outputs": [
    {
     "name": "stdout",
     "output_type": "stream",
     "text": [
      "      DMS_score   m1    m2     m3     m4     m5     m6     m7    m8    m9  \\\n",
      "0      1.301030  K3R  V55A   Q94R  A110T  D117G  M153K  D216A  None  None   \n",
      "491    1.301031  K3R  I47T   V55A   M88T  K140E  N144D  F165S  None  None   \n",
      "1081   1.306893  K3R  V55A  D133E  H181R   None   None   None  None  None   \n",
      "1082   1.301031  K3R  V55A   L60H  H139R  Y143C   None   None  None  None   \n",
      "1092   1.483930  K3R  V16A   C48R   V55A   F83L   None   None  None  None   \n",
      "\n",
      "       m10   m11   m12   m13   m14   m15  \n",
      "0     None  None  None  None  None  None  \n",
      "491   None  None  None  None  None  None  \n",
      "1081  None  None  None  None  None  None  \n",
      "1082  None  None  None  None  None  None  \n",
      "1092  None  None  None  None  None  None  \n"
     ]
    }
   ],
   "source": [
    "# Test mit nur einem string in der Liste\n",
    "# mutation_1 und mutation_list\n",
    "mutation_1 = 'K3R'\n",
    "mutation_list = ['V55A']\n",
    "\n",
    "# Maske, die alle Zeilen enthält\n",
    "mask_mutants_with_mutation_1_and_mutation_list = pd.Series(True, index=df_mutants_with_specific_mutation.index)\n",
    "\n",
    "# jede Mutation in mutation_list durchgehen; nur Zeilen erhalten, die mutation_1 und mutation beinhalten\n",
    "for mutation in mutation_list:\n",
    "    mask_mutants_with_mutation_1_and_mutation_list &= df_mutants_with_specific_mutation.isin([mutation_1, mutation]).sum(axis=1) == 2\n",
    "\n",
    "df_mutants_with_mutation_1_and_mutation_list = df_mutants_with_specific_mutation[mask_mutants_with_mutation_1_and_mutation_list]\n",
    "\n",
    "print(df_mutants_with_mutation_1_and_mutation_list)\n",
    "# -> Code funktioniert; wahrscheinlich kommt oben epmty df raus, weil Zeile dem Code oben zufolge jede Mutation aus der Liste beinhalten muss"
   ],
   "metadata": {
    "collapsed": false,
    "ExecuteTime": {
     "end_time": "2023-06-06T09:20:35.331604Z",
     "start_time": "2023-06-06T09:20:35.273561Z"
    }
   }
  },
  {
   "cell_type": "code",
   "execution_count": 102,
   "outputs": [
    {
     "name": "stdout",
     "output_type": "stream",
     "text": [
      "      DMS_score   m1     m2     m3     m4     m5     m6     m7    m8    m9  \\\n",
      "0      1.301030  K3R   V55A   Q94R  A110T  D117G  M153K  D216A  None  None   \n",
      "5      3.851893  K3R   A87T  D173G   None   None   None   None  None  None   \n",
      "6      3.551648  K3R   A87T  N144S  T225S   None   None   None  None  None   \n",
      "7      1.480047  K3R   C48R   D76G  M218K   None   None   None  None  None   \n",
      "8      3.388889  K3R  D102G  N185D  L195P  H231P  E235K   None  None  None   \n",
      "...         ...  ...    ...    ...    ...    ...    ...    ...   ...   ...   \n",
      "1254   3.608239  K3R  T108S   None   None   None   None   None  None  None   \n",
      "1255   3.740634  K3R  T108A  K166R   None   None   None   None  None  None   \n",
      "1256   3.489164  K3R  T108A  H139R   None   None   None   None  None  None   \n",
      "1257   3.315287  K3R  T118A  K140E   None   None   None   None  None  None   \n",
      "1258   3.361495  K3R  T108A  F165L  K166R   None   None   None  None  None   \n",
      "\n",
      "       m10   m11   m12   m13   m14   m15  \n",
      "0     None  None  None  None  None  None  \n",
      "5     None  None  None  None  None  None  \n",
      "6     None  None  None  None  None  None  \n",
      "7     None  None  None  None  None  None  \n",
      "8     None  None  None  None  None  None  \n",
      "...    ...   ...   ...   ...   ...   ...  \n",
      "1254  None  None  None  None  None  None  \n",
      "1255  None  None  None  None  None  None  \n",
      "1256  None  None  None  None  None  None  \n",
      "1257  None  None  None  None  None  None  \n",
      "1258  None  None  None  None  None  None  \n",
      "\n",
      "[524 rows x 16 columns]\n"
     ]
    }
   ],
   "source": [
    "# mind. 1 Mutation aus mutation_list muss vorhanden sein (zusätzlich zu mutation_1)\n",
    "mutation_1 = 'K3R'\n",
    "mutation_list = all_possible_mutations\n",
    "# pd series, wobei false für jedes Objekt\n",
    "mask_mutants_with_mutation_1_and_mutation_list = pd.Series(False, index=df_mutants_with_specific_mutation.index)\n",
    "\n",
    "for mutation in mutation_list:\n",
    "    # Zeile enthält mind. 1 Element aus mutation_list\n",
    "    mask_mind_2 = df_mutants_with_specific_mutation.isin([mutation_1, mutation]).sum(axis=1) >= 2\n",
    "    mask_mutants_with_mutation_1_and_mutation_list |= mask_mind_2\n",
    "\n",
    "df_mutants_with_mutation_1_and_mutation_list = df_mutants_with_specific_mutation[mask_mutants_with_mutation_1_and_mutation_list]\n",
    "\n",
    "print(df_mutants_with_mutation_1_and_mutation_list)\n"
   ],
   "metadata": {
    "collapsed": false,
    "ExecuteTime": {
     "end_time": "2023-06-06T09:40:31.405052Z",
     "start_time": "2023-06-06T09:39:39.018857Z"
    }
   }
  },
  {
   "cell_type": "code",
   "execution_count": 56,
   "outputs": [
    {
     "name": "stdout",
     "output_type": "stream",
     "text": [
      "K131Q    0\n",
      "T118S    1\n",
      "L221Q    0\n",
      "A179D    0\n",
      "M153A    0\n",
      "        ..\n",
      "L141R    0\n",
      "N121L    0\n",
      "A87S     0\n",
      "Q183E    0\n",
      "S208T    0\n",
      "Name: m2, Length: 1810, dtype: int64\n"
     ]
    }
   ],
   "source": [
    "# count values in m2\n",
    "mutation_counts = df_mutants_with_specific_mutation['m2'].value_counts().reindex(all_possible_mutations, fill_value=0).loc[all_possible_mutations]\n",
    "\n",
    "print(mutation_counts)"
   ],
   "metadata": {
    "collapsed": false,
    "ExecuteTime": {
     "end_time": "2023-06-06T07:58:56.996881Z",
     "start_time": "2023-06-06T07:58:56.985258Z"
    }
   }
  },
  {
   "cell_type": "code",
   "execution_count": 57,
   "outputs": [
    {
     "name": "stdout",
     "output_type": "stream",
     "text": [
      "<class 'pandas.core.series.Series'>\n"
     ]
    }
   ],
   "source": [
    "print(type(mutation_counts))"
   ],
   "metadata": {
    "collapsed": false,
    "ExecuteTime": {
     "end_time": "2023-06-06T07:59:40.239190Z",
     "start_time": "2023-06-06T07:59:40.227499Z"
    }
   }
  },
  {
   "cell_type": "code",
   "execution_count": 61,
   "outputs": [
    {
     "name": "stdout",
     "output_type": "stream",
     "text": [
      "T118S    1\n",
      "E5D      2\n",
      "E95G     1\n",
      "E5V      6\n",
      "G51S     1\n",
      "        ..\n",
      "K26M     1\n",
      "C48R     1\n",
      "I98V     2\n",
      "D133G    2\n",
      "V29M     1\n",
      "Name: m2, Length: 291, dtype: int64\n"
     ]
    }
   ],
   "source": [
    "# Zeilen mit counts = 0 löschen\n",
    "mutation_counts_over_0 = mutation_counts[mutation_counts != 0]\n",
    "\n",
    "print(mutation_counts_over_0)"
   ],
   "metadata": {
    "collapsed": false,
    "ExecuteTime": {
     "end_time": "2023-06-06T08:07:17.347034Z",
     "start_time": "2023-06-06T08:07:17.344178Z"
    }
   }
  },
  {
   "cell_type": "code",
   "execution_count": 62,
   "outputs": [
    {
     "name": "stdout",
     "output_type": "stream",
     "text": [
      "E5D      2\n",
      "E5V      6\n",
      "D21V     3\n",
      "E17V     2\n",
      "R73C     2\n",
      "        ..\n",
      "D76G     4\n",
      "E34V     3\n",
      "F99I     2\n",
      "I98V     2\n",
      "D133G    2\n",
      "Name: m2, Length: 118, dtype: int64\n"
     ]
    }
   ],
   "source": [
    "# Zeilen mit counts = 1 löschen (damit bleiben nur noch Mutationen mit counts > 1 (in Spalte m2) übrig)\n",
    "mutation_counts_over_1 = mutation_counts_over_0[mutation_counts_over_0 != 1]\n",
    "\n",
    "print(mutation_counts_over_1)"
   ],
   "metadata": {
    "collapsed": false,
    "ExecuteTime": {
     "end_time": "2023-06-06T08:09:55.717045Z",
     "start_time": "2023-06-06T08:09:55.712559Z"
    }
   }
  },
  {
   "cell_type": "code",
   "execution_count": 65,
   "outputs": [
    {
     "name": "stdout",
     "output_type": "stream",
     "text": [
      "E5V      6\n",
      "D21V     3\n",
      "V68A     4\n",
      "I47T     7\n",
      "L18P     3\n",
      "V16A     3\n",
      "K52E     4\n",
      "H25L     3\n",
      "F8L      7\n",
      "E32G     4\n",
      "T43A     3\n",
      "N23S     9\n",
      "T38A     4\n",
      "E5G      3\n",
      "K79E     3\n",
      "I47V     5\n",
      "T50A     3\n",
      "L60P     3\n",
      "L7Q      3\n",
      "L53P     5\n",
      "H81R     3\n",
      "F84L     4\n",
      "F83S     3\n",
      "F46L     4\n",
      "T9S      3\n",
      "K156R    4\n",
      "K85E     5\n",
      "F8S      3\n",
      "K26E     3\n",
      "K45R     3\n",
      "K113R    7\n",
      "T9A      6\n",
      "N23D     5\n",
      "E6G      5\n",
      "V55A     3\n",
      "G4S      3\n",
      "L18Q     4\n",
      "F100L    3\n",
      "E34G     6\n",
      "Q80R     3\n",
      "K41E     3\n",
      "I14T     7\n",
      "S30P     3\n",
      "F71L     4\n",
      "E17G     5\n",
      "D19G     6\n",
      "K52R     3\n",
      "I14V     6\n",
      "S28G     3\n",
      "H25R     3\n",
      "T108A    3\n",
      "K26R     5\n",
      "D76G     4\n",
      "E34V     3\n",
      "Name: m2, dtype: int64\n"
     ]
    }
   ],
   "source": [
    "# nur noch Zeilen mit counts > 2 (in Spalte m2)\n",
    "mutation_counts_over_2 = mutation_counts_over_1[mutation_counts_over_1 != 2]\n",
    "\n",
    "print(mutation_counts_over_2)"
   ],
   "metadata": {
    "collapsed": false,
    "ExecuteTime": {
     "end_time": "2023-06-06T08:15:49.964624Z",
     "start_time": "2023-06-06T08:15:49.961148Z"
    }
   }
  },
  {
   "cell_type": "code",
   "execution_count": 66,
   "outputs": [
    {
     "name": "stdout",
     "output_type": "stream",
     "text": [
      "E5V      6\n",
      "V68A     4\n",
      "I47T     7\n",
      "K52E     4\n",
      "F8L      7\n",
      "E32G     4\n",
      "N23S     9\n",
      "T38A     4\n",
      "I47V     5\n",
      "L53P     5\n",
      "F84L     4\n",
      "F46L     4\n",
      "K156R    4\n",
      "K85E     5\n",
      "K113R    7\n",
      "T9A      6\n",
      "N23D     5\n",
      "E6G      5\n",
      "L18Q     4\n",
      "E34G     6\n",
      "I14T     7\n",
      "F71L     4\n",
      "E17G     5\n",
      "D19G     6\n",
      "I14V     6\n",
      "K26R     5\n",
      "D76G     4\n",
      "Name: m2, dtype: int64\n"
     ]
    }
   ],
   "source": [
    "# nur noch Zeilen mit counts > 3 (in Spalte m2)\n",
    "mutation_counts_over_3 = mutation_counts_over_2[mutation_counts_over_2 != 3]\n",
    "\n",
    "print(mutation_counts_over_3)"
   ],
   "metadata": {
    "collapsed": false,
    "ExecuteTime": {
     "end_time": "2023-06-06T08:16:53.441437Z",
     "start_time": "2023-06-06T08:16:53.417328Z"
    }
   }
  },
  {
   "cell_type": "code",
   "execution_count": 67,
   "outputs": [
    {
     "name": "stdout",
     "output_type": "stream",
     "text": [
      "E5V      6\n",
      "I47T     7\n",
      "F8L      7\n",
      "N23S     9\n",
      "I47V     5\n",
      "L53P     5\n",
      "K85E     5\n",
      "K113R    7\n",
      "T9A      6\n",
      "N23D     5\n",
      "E6G      5\n",
      "E34G     6\n",
      "I14T     7\n",
      "E17G     5\n",
      "D19G     6\n",
      "I14V     6\n",
      "K26R     5\n",
      "Name: m2, dtype: int64\n"
     ]
    }
   ],
   "source": [
    "# nur noch Zeilen mit counts > 4 (in Spalte m2)\n",
    "mutation_counts_over_4 = mutation_counts_over_3[mutation_counts_over_3 != 4]\n",
    "\n",
    "print(mutation_counts_over_4)"
   ],
   "metadata": {
    "collapsed": false,
    "ExecuteTime": {
     "end_time": "2023-06-06T08:17:17.261925Z",
     "start_time": "2023-06-06T08:17:17.248744Z"
    }
   }
  },
  {
   "cell_type": "code",
   "execution_count": 68,
   "outputs": [
    {
     "name": "stdout",
     "output_type": "stream",
     "text": [
      "E5V      6\n",
      "I47T     7\n",
      "F8L      7\n",
      "N23S     9\n",
      "K113R    7\n",
      "T9A      6\n",
      "E34G     6\n",
      "I14T     7\n",
      "D19G     6\n",
      "I14V     6\n",
      "Name: m2, dtype: int64\n"
     ]
    }
   ],
   "source": [
    "# nur noch Zeilen mit counts > 5 (in Spalte m2)\n",
    "mutation_counts_over_5 = mutation_counts_over_4[mutation_counts_over_4 != 5]\n",
    "\n",
    "print(mutation_counts_over_5)"
   ],
   "metadata": {
    "collapsed": false,
    "ExecuteTime": {
     "end_time": "2023-06-06T08:17:39.408231Z",
     "start_time": "2023-06-06T08:17:39.395719Z"
    }
   }
  },
  {
   "cell_type": "code",
   "execution_count": 69,
   "outputs": [
    {
     "name": "stdout",
     "output_type": "stream",
     "text": [
      "I47T     7\n",
      "F8L      7\n",
      "N23S     9\n",
      "K113R    7\n",
      "I14T     7\n",
      "Name: m2, dtype: int64\n"
     ]
    }
   ],
   "source": [
    "# nur noch Zeilen mit counts > 6 (in Spalte m2)\n",
    "mutation_counts_over_6 = mutation_counts_over_5[mutation_counts_over_5 != 6]\n",
    "\n",
    "print(mutation_counts_over_6)"
   ],
   "metadata": {
    "collapsed": false,
    "ExecuteTime": {
     "end_time": "2023-06-06T08:18:13.280695Z",
     "start_time": "2023-06-06T08:18:13.261733Z"
    }
   }
  },
  {
   "cell_type": "code",
   "execution_count": 70,
   "outputs": [
    {
     "name": "stdout",
     "output_type": "stream",
     "text": [
      "      DMS_score   m1     m2     m3     m4     m5     m6     m7    m8    m9  \\\n",
      "0      1.301030  K3R   V55A   Q94R  A110T  D117G  M153K  D216A  None  None   \n",
      "4      3.738586  K3R   None   None   None   None   None   None  None  None   \n",
      "5      3.851893  K3R   A87T  D173G   None   None   None   None  None  None   \n",
      "6      3.551648  K3R   A87T  N144S  T225S   None   None   None  None  None   \n",
      "7      1.480047  K3R   C48R   D76G  M218K   None   None   None  None  None   \n",
      "...         ...  ...    ...    ...    ...    ...    ...    ...   ...   ...   \n",
      "1254   3.608239  K3R  T108S   None   None   None   None   None  None  None   \n",
      "1255   3.740634  K3R  T108A  K166R   None   None   None   None  None  None   \n",
      "1256   3.489164  K3R  T108A  H139R   None   None   None   None  None  None   \n",
      "1257   3.315287  K3R  T118A  K140E   None   None   None   None  None  None   \n",
      "1258   3.361495  K3R  T108A  F165L  K166R   None   None   None  None  None   \n",
      "\n",
      "       m10   m11   m12   m13   m14   m15  \n",
      "0     None  None  None  None  None  None  \n",
      "4     None  None  None  None  None  None  \n",
      "5     None  None  None  None  None  None  \n",
      "6     None  None  None  None  None  None  \n",
      "7     None  None  None  None  None  None  \n",
      "...    ...   ...   ...   ...   ...   ...  \n",
      "1254  None  None  None  None  None  None  \n",
      "1255  None  None  None  None  None  None  \n",
      "1256  None  None  None  None  None  None  \n",
      "1257  None  None  None  None  None  None  \n",
      "1258  None  None  None  None  None  None  \n",
      "\n",
      "[525 rows x 16 columns]\n"
     ]
    }
   ],
   "source": [
    "# df mit Mutanten, die in Spalte m2 counts > 6 haben\n",
    "# mutation_1 *und* mutation_2\n",
    "mutation_1 = 'K3R'\n",
    "mutation_2_over_6_list = mutation_counts_over_6.tolist()\n",
    "\n",
    "# Maske, die alle Zeilen enthält\n",
    "mask = pd.Series(True, index=df_mutants_with_specific_mutation.index)\n",
    "\n",
    "# jede Mutation in mutation_list durchgehen; nur Zeilen erhalten, die mutation_1 und mutation beinhalten\n",
    "for mutation in mutation_list:\n",
    "    mask &= df_mutants_with_specific_mutation.isin([mutation_1, mutation_2_over_6_list]).any(axis=1)\n",
    "\n",
    "df_mutants_with_specific_mutation = df_mutants_with_specific_mutation[mask]\n",
    "\n",
    "print(df_mutants_with_specific_mutation)"
   ],
   "metadata": {
    "collapsed": false,
    "ExecuteTime": {
     "end_time": "2023-06-06T08:25:32.879190Z",
     "start_time": "2023-06-06T08:25:32.172678Z"
    }
   }
  },
  {
   "cell_type": "code",
   "execution_count": 77,
   "outputs": [
    {
     "name": "stdout",
     "output_type": "stream",
     "text": [
      "A110D    1.0\n",
      "A110S    1.0\n",
      "A110T    1.0\n",
      "A110V    1.0\n",
      "A154S    1.0\n",
      "        ... \n",
      "Y92C     1.0\n",
      "Y92D     1.0\n",
      "Y92F     1.0\n",
      "Y92H     2.0\n",
      "Y92N     1.0\n",
      "Length: 658, dtype: float64\n"
     ]
    }
   ],
   "source": [
    "# count mutations in column m2 to m15\n",
    "counts_m2 = df_mutants_with_specific_mutation['m2'].value_counts()\n",
    "counts_m3 = df_mutants_with_specific_mutation['m3'].value_counts()\n",
    "counts_m4 = df_mutants_with_specific_mutation['m4'].value_counts()\n",
    "counts_m5 = df_mutants_with_specific_mutation['m5'].value_counts()\n",
    "counts_m6 = df_mutants_with_specific_mutation['m6'].value_counts()\n",
    "counts_m7 = df_mutants_with_specific_mutation['m7'].value_counts()\n",
    "counts_m8 = df_mutants_with_specific_mutation['m8'].value_counts()\n",
    "counts_m9 = df_mutants_with_specific_mutation['m9'].value_counts()\n",
    "counts_m10 = df_mutants_with_specific_mutation['m10'].value_counts()\n",
    "counts_m11 = df_mutants_with_specific_mutation['m11'].value_counts()\n",
    "counts_m12 = df_mutants_with_specific_mutation['m12'].value_counts()\n",
    "counts_m13 = df_mutants_with_specific_mutation['m13'].value_counts()\n",
    "counts_m14 = df_mutants_with_specific_mutation['m14'].value_counts()\n",
    "counts_m15 = df_mutants_with_specific_mutation['m15'].value_counts()\n",
    "\n",
    "counts_m2_to_m15 = counts_m2.add(counts_m3, fill_value=0).add(counts_m4, fill_value=0).add(counts_m5, fill_value=0).add(counts_m6, fill_value=0).add(counts_m7, fill_value=0).add(counts_m8, fill_value=0).add(counts_m9, fill_value=0).add(counts_m10, fill_value=0).add(counts_m11, fill_value=0).add(counts_m12, fill_value=0).add(counts_m13, fill_value=0).add(counts_m14, fill_value=0).add(counts_m15, fill_value=0)\n",
    "\n",
    "print(counts_m2_to_m15)"
   ],
   "metadata": {
    "collapsed": false,
    "ExecuteTime": {
     "end_time": "2023-06-06T08:40:21.642180Z",
     "start_time": "2023-06-06T08:40:21.628042Z"
    }
   }
  },
  {
   "cell_type": "code",
   "execution_count": 78,
   "outputs": [
    {
     "name": "stdout",
     "output_type": "stream",
     "text": [
      "A110D    1.0\n",
      "A110S    1.0\n",
      "A110T    1.0\n",
      "A110V    1.0\n",
      "A154S    1.0\n",
      "        ... \n",
      "Y92C     1.0\n",
      "Y92D     1.0\n",
      "Y92F     1.0\n",
      "Y92H     2.0\n",
      "Y92N     1.0\n",
      "Length: 658, dtype: float64\n"
     ]
    }
   ],
   "source": [
    "# nur noch Zeilen mit counts > 0 (in Spalte m2 bis m15)\n",
    "counts_m2_to_m15_over_0 = counts_m2_to_m15[counts_m2_to_m15 != 0]\n",
    "\n",
    "print(counts_m2_to_m15_over_0)"
   ],
   "metadata": {
    "collapsed": false,
    "ExecuteTime": {
     "end_time": "2023-06-06T08:43:27.511354Z",
     "start_time": "2023-06-06T08:43:27.508506Z"
    }
   }
  },
  {
   "cell_type": "code",
   "execution_count": 79,
   "outputs": [
    {
     "name": "stdout",
     "output_type": "stream",
     "text": [
      "A227V    2.0\n",
      "A87T     2.0\n",
      "C48R     3.0\n",
      "C70R     4.0\n",
      "D102G    4.0\n",
      "        ... \n",
      "Y39H     6.0\n",
      "Y66C     2.0\n",
      "Y74C     3.0\n",
      "Y74F     2.0\n",
      "Y92H     2.0\n",
      "Length: 394, dtype: float64\n"
     ]
    }
   ],
   "source": [
    "# nur noch Zeilen mit counts > 1 (in Spalte m2 bis m15)\n",
    "counts_m2_to_m15_over_1 = counts_m2_to_m15_over_0[counts_m2_to_m15_over_0 != 1]\n",
    "\n",
    "print(counts_m2_to_m15_over_1)"
   ],
   "metadata": {
    "collapsed": false,
    "ExecuteTime": {
     "end_time": "2023-06-06T08:43:54.971956Z",
     "start_time": "2023-06-06T08:43:54.956847Z"
    }
   }
  },
  {
   "cell_type": "code",
   "execution_count": 80,
   "outputs": [
    {
     "name": "stdout",
     "output_type": "stream",
     "text": [
      "C48R     3.0\n",
      "C70R     4.0\n",
      "D102G    4.0\n",
      "D103G    5.0\n",
      "D103V    3.0\n",
      "        ... \n",
      "Y151N    4.0\n",
      "Y182C    5.0\n",
      "Y237C    3.0\n",
      "Y39H     6.0\n",
      "Y74C     3.0\n",
      "Length: 273, dtype: float64\n"
     ]
    }
   ],
   "source": [
    "# nur noch Zeilen mit counts > 2 (in Spalte m2 bis m15)\n",
    "counts_m2_to_m15_over_2 = counts_m2_to_m15_over_1[counts_m2_to_m15_over_1 != 2]\n",
    "\n",
    "print(counts_m2_to_m15_over_2)"
   ],
   "metadata": {
    "collapsed": false,
    "ExecuteTime": {
     "end_time": "2023-06-06T08:44:18.373844Z",
     "start_time": "2023-06-06T08:44:18.334223Z"
    }
   }
  },
  {
   "cell_type": "code",
   "execution_count": 81,
   "outputs": [
    {
     "name": "stdout",
     "output_type": "stream",
     "text": [
      "C70R     4.0\n",
      "D102G    4.0\n",
      "D103G    5.0\n",
      "D117G    6.0\n",
      "D129G    6.0\n",
      "        ... \n",
      "Y145H    6.0\n",
      "Y151C    5.0\n",
      "Y151N    4.0\n",
      "Y182C    5.0\n",
      "Y39H     6.0\n",
      "Length: 183, dtype: float64\n"
     ]
    }
   ],
   "source": [
    "# nur noch Zeilen mit counts > 3 (in Spalte m2 bis m15)\n",
    "counts_m2_to_m15_over_3 = counts_m2_to_m15_over_2[counts_m2_to_m15_over_2 != 3]\n",
    "\n",
    "print(counts_m2_to_m15_over_3)"
   ],
   "metadata": {
    "collapsed": false,
    "ExecuteTime": {
     "end_time": "2023-06-06T08:44:39.392934Z",
     "start_time": "2023-06-06T08:44:39.378250Z"
    }
   }
  },
  {
   "cell_type": "code",
   "execution_count": 82,
   "outputs": [
    {
     "name": "stdout",
     "output_type": "stream",
     "text": [
      "D103G    5.0\n",
      "D117G    6.0\n",
      "D129G    6.0\n",
      "D133G    6.0\n",
      "D155G    5.0\n",
      "        ... \n",
      "Y143H    6.0\n",
      "Y145H    6.0\n",
      "Y151C    5.0\n",
      "Y182C    5.0\n",
      "Y39H     6.0\n",
      "Length: 141, dtype: float64\n"
     ]
    }
   ],
   "source": [
    "# nur noch Zeilen mit counts > 4 (in Spalte m2 bis m15)\n",
    "counts_m2_to_m15_over_4 = counts_m2_to_m15_over_3[counts_m2_to_m15_over_3 != 4]\n",
    "\n",
    "print(counts_m2_to_m15_over_4)"
   ],
   "metadata": {
    "collapsed": false,
    "ExecuteTime": {
     "end_time": "2023-06-06T08:48:16.639217Z",
     "start_time": "2023-06-06T08:48:16.625626Z"
    }
   }
  },
  {
   "cell_type": "code",
   "execution_count": 83,
   "outputs": [
    {
     "name": "stdout",
     "output_type": "stream",
     "text": [
      "D117G    6.0\n",
      "D129G    6.0\n",
      "D133G    6.0\n",
      "D173G    6.0\n",
      "D19G     7.0\n",
      "        ... \n",
      "V193A    6.0\n",
      "V68A     6.0\n",
      "Y143H    6.0\n",
      "Y145H    6.0\n",
      "Y39H     6.0\n",
      "Length: 94, dtype: float64\n"
     ]
    }
   ],
   "source": [
    "# nur noch Zeilen mit counts > 5 (in Spalte m2 bis m15)\n",
    "counts_m2_to_m15_over_5 = counts_m2_to_m15_over_4[counts_m2_to_m15_over_4 != 5]\n",
    "\n",
    "print(counts_m2_to_m15_over_5)"
   ],
   "metadata": {
    "collapsed": false,
    "ExecuteTime": {
     "end_time": "2023-06-06T08:48:43.281352Z",
     "start_time": "2023-06-06T08:48:43.266457Z"
    }
   }
  },
  {
   "cell_type": "code",
   "execution_count": 84,
   "outputs": [
    {
     "name": "stdout",
     "output_type": "stream",
     "text": [
      "D19G      7.0\n",
      "D76G      8.0\n",
      "E32G      9.0\n",
      "E34G      8.0\n",
      "E90G      8.0\n",
      "F100L     8.0\n",
      "F114L     7.0\n",
      "F165S     8.0\n",
      "F84L      8.0\n",
      "F84S      7.0\n",
      "F8L       7.0\n",
      "F99L      7.0\n",
      "H139R    11.0\n",
      "H81R      7.0\n",
      "I123V     8.0\n",
      "I128V     7.0\n",
      "I14T      7.0\n",
      "I14V      7.0\n",
      "I167T     9.0\n",
      "I167V     7.0\n",
      "I171T     8.0\n",
      "I229T    13.0\n",
      "I47T     10.0\n",
      "I98V      9.0\n",
      "K107R     8.0\n",
      "K113E     7.0\n",
      "K113R    15.0\n",
      "K156R    10.0\n",
      "K158R     8.0\n",
      "K214E     7.0\n",
      "K41E      7.0\n",
      "K79E      8.0\n",
      "K79R      8.0\n",
      "K85E      9.0\n",
      "L178P     7.0\n",
      "L220P     7.0\n",
      "L53P      8.0\n",
      "N144D     9.0\n",
      "N149S     9.0\n",
      "N159D     8.0\n",
      "N164D     8.0\n",
      "N164S     7.0\n",
      "N170D    10.0\n",
      "N170S     7.0\n",
      "N185D     7.0\n",
      "N198S     7.0\n",
      "N23S     13.0\n",
      "Q177R     8.0\n",
      "S147G    10.0\n",
      "T108A     8.0\n",
      "T118A     7.0\n",
      "T203A     8.0\n",
      "V163A     7.0\n",
      "dtype: float64\n"
     ]
    }
   ],
   "source": [
    "# nur noch Zeilen mit counts > 6 (in Spalte m2 bis m15)\n",
    "counts_m2_to_m15_over_6 = counts_m2_to_m15_over_5[counts_m2_to_m15_over_5 != 6]\n",
    "\n",
    "print(counts_m2_to_m15_over_6)"
   ],
   "metadata": {
    "collapsed": false,
    "ExecuteTime": {
     "end_time": "2023-06-06T08:50:29.789138Z",
     "start_time": "2023-06-06T08:50:29.774801Z"
    }
   }
  },
  {
   "cell_type": "code",
   "execution_count": 85,
   "outputs": [
    {
     "name": "stdout",
     "output_type": "stream",
     "text": [
      "D76G      8.0\n",
      "E32G      9.0\n",
      "E34G      8.0\n",
      "E90G      8.0\n",
      "F100L     8.0\n",
      "F165S     8.0\n",
      "F84L      8.0\n",
      "H139R    11.0\n",
      "I123V     8.0\n",
      "I167T     9.0\n",
      "I171T     8.0\n",
      "I229T    13.0\n",
      "I47T     10.0\n",
      "I98V      9.0\n",
      "K107R     8.0\n",
      "K113R    15.0\n",
      "K156R    10.0\n",
      "K158R     8.0\n",
      "K79E      8.0\n",
      "K79R      8.0\n",
      "K85E      9.0\n",
      "L53P      8.0\n",
      "N144D     9.0\n",
      "N149S     9.0\n",
      "N159D     8.0\n",
      "N164D     8.0\n",
      "N170D    10.0\n",
      "N23S     13.0\n",
      "Q177R     8.0\n",
      "S147G    10.0\n",
      "T108A     8.0\n",
      "T203A     8.0\n",
      "dtype: float64\n"
     ]
    }
   ],
   "source": [
    "# nur noch Zeilen mit counts > 7 (in Spalte m2 bis m15)\n",
    "counts_m2_to_m15_over_7 = counts_m2_to_m15_over_6[counts_m2_to_m15_over_6 != 7]\n",
    "\n",
    "print(counts_m2_to_m15_over_7)"
   ],
   "metadata": {
    "collapsed": false,
    "ExecuteTime": {
     "end_time": "2023-06-06T08:50:57.864938Z",
     "start_time": "2023-06-06T08:50:57.850291Z"
    }
   }
  },
  {
   "cell_type": "code",
   "execution_count": 86,
   "outputs": [
    {
     "name": "stdout",
     "output_type": "stream",
     "text": [
      "E32G      9.0\n",
      "H139R    11.0\n",
      "I167T     9.0\n",
      "I229T    13.0\n",
      "I47T     10.0\n",
      "I98V      9.0\n",
      "K113R    15.0\n",
      "K156R    10.0\n",
      "K85E      9.0\n",
      "N144D     9.0\n",
      "N149S     9.0\n",
      "N170D    10.0\n",
      "N23S     13.0\n",
      "S147G    10.0\n",
      "dtype: float64\n"
     ]
    }
   ],
   "source": [
    "# nur noch Zeilen mit counts > 8 (in Spalte m2 bis m15)\n",
    "counts_m2_to_m15_over_8 = counts_m2_to_m15_over_7[counts_m2_to_m15_over_7 != 8]\n",
    "\n",
    "print(counts_m2_to_m15_over_8)"
   ],
   "metadata": {
    "collapsed": false,
    "ExecuteTime": {
     "end_time": "2023-06-06T08:51:19.473174Z",
     "start_time": "2023-06-06T08:51:19.458750Z"
    }
   }
  },
  {
   "cell_type": "code",
   "execution_count": 112,
   "outputs": [
    {
     "name": "stdout",
     "output_type": "stream",
     "text": [
      "['E32G', 'H139R', 'I167T', 'I229T', 'I47T', 'I98V', 'K113R', 'K156R', 'K85E', 'N144D', 'N149S', 'N170D', 'N23S', 'S147G']\n",
      "      DMS_score   m1     m2     m3     m4     m5     m6     m7     m8     m9  \\\n",
      "9      3.499501  K3R  D102G  Y151C  N170D  I229T   None   None   None   None   \n",
      "20     1.301030  K3R   D19G   F27L   I98F  L141Q  N170D  I188V   None   None   \n",
      "22     1.652145  K3R   D19G   K85E   M88T  Q177R  L207Q   None   None   None   \n",
      "24     3.329587  K3R   D19G   N23S   E90G  E172G  T230A   None   None   None   \n",
      "64     3.632862  K3R   D21V  E132D  H139R  E172G   None   None   None   None   \n",
      "...         ...  ...    ...    ...    ...    ...    ...    ...    ...    ...   \n",
      "1211   1.559392  K3R   S28C   T62A   H81R  K113R  I152T   None   None   None   \n",
      "1213   2.990617  K3R   S28G   G51D  H139R   None   None   None   None   None   \n",
      "1216   3.481051  K3R   T43A   I98V  D133E  D180G   None   None   None   None   \n",
      "1222   1.509868  K3R   T50A   L53P   L60H   H81R  E111G  H139R  Q177R  L195P   \n",
      "1256   3.489164  K3R  T108A  H139R   None   None   None   None   None   None   \n",
      "\n",
      "       m10   m11   m12   m13   m14   m15  \n",
      "9     None  None  None  None  None  None  \n",
      "20    None  None  None  None  None  None  \n",
      "22    None  None  None  None  None  None  \n",
      "24    None  None  None  None  None  None  \n",
      "64    None  None  None  None  None  None  \n",
      "...    ...   ...   ...   ...   ...   ...  \n",
      "1211  None  None  None  None  None  None  \n",
      "1213  None  None  None  None  None  None  \n",
      "1216  None  None  None  None  None  None  \n",
      "1222  None  None  None  None  None  None  \n",
      "1256  None  None  None  None  None  None  \n",
      "\n",
      "[128 rows x 16 columns]\n"
     ]
    }
   ],
   "source": [
    "# mind. 1 Mutation aus mutation_list muss vorhanden sein (zusätzlich zu mutation_1)\n",
    "mutation_1 = 'K3R'\n",
    "# turn row names of counts_m2_to_m15_over_8 into a list\n",
    "mutation_m2_to_m15_over_8_list = counts_m2_to_m15_over_8.index.tolist()\n",
    "print(mutation_m2_to_m15_over_8_list)\n",
    "\n",
    "# pd series, wobei false für jedes Objekt\n",
    "mask_mutants_with_mutation_1_and_mutation_m2_to_m15_over_8_list = pd.Series(False, index=df_mutants_with_specific_mutation.index)\n",
    "\n",
    "for mutation in mutation_m2_to_m15_over_8_list:\n",
    "    # Zeile enthält mind. 1 Element aus mutation_list\n",
    "    mask_mind_2 = df_mutants_with_specific_mutation.isin([mutation_1, mutation]).sum(axis=1) >= 2\n",
    "    mask_mutants_with_mutation_1_and_mutation_m2_to_m15_over_8_list |= mask_mind_2\n",
    "\n",
    "df_mutants_with_mutation_1_and_mutation_m2_to_m15_over_8_list = df_mutants_with_specific_mutation[mask_mutants_with_mutation_1_and_mutation_m2_to_m15_over_8_list]\n",
    "\n",
    "print(df_mutants_with_mutation_1_and_mutation_m2_to_m15_over_8_list)"
   ],
   "metadata": {
    "collapsed": false,
    "ExecuteTime": {
     "end_time": "2023-06-06T10:06:48.732532Z",
     "start_time": "2023-06-06T10:06:48.292816Z"
    }
   }
  },
  {
   "cell_type": "code",
   "execution_count": 117,
   "outputs": [
    {
     "name": "stdout",
     "output_type": "stream",
     "text": [
      "{'E32G':      DMS_score   m1    m2     m3     m4     m5     m6     m7     m8     m9  \\\n",
      "78    3.651474  K3R   E5G   E32G   None   None   None   None   None   None   \n",
      "83    1.523290  K3R   E5V   E32G   T62A   T97S  N149I  H169R   None   None   \n",
      "91    1.683816  K3R   E6G   G31S   E32G   L42Q   T62A   M78L  Y143H  H199R   \n",
      "126   3.495711  K3R  E32G  K156R  E172K  T225A   None   None   None   None   \n",
      "127   3.616742  K3R  E32G  K156T   None   None   None   None   None   None   \n",
      "128   3.540714  K3R  E32G   K79R   Q80L   None   None   None   None   None   \n",
      "129   3.342453  K3R  E32G   T43I  S175G  M218V  L221Q   None   None   None   \n",
      "269   3.192233  K3R  K26R   E32G   S86P  D133G   None   None   None   None   \n",
      "498   1.301030  K3R  I14T   L18V   E32G   E34V   D36V   M88K  F100L   None   \n",
      "\n",
      "       m10   m11   m12   m13   m14   m15  \n",
      "78    None  None  None  None  None  None  \n",
      "83    None  None  None  None  None  None  \n",
      "91   T230S  None  None  None  None  None  \n",
      "126   None  None  None  None  None  None  \n",
      "127   None  None  None  None  None  None  \n",
      "128   None  None  None  None  None  None  \n",
      "129   None  None  None  None  None  None  \n",
      "269   None  None  None  None  None  None  \n",
      "498   None  None  None  None  None  None  , 'H139R':       DMS_score   m1     m2     m3     m4     m5     m6     m7     m8     m9  \\\n",
      "64     3.632862  K3R   D21V  E132D  H139R  E172G   None   None   None   None   \n",
      "278    3.571408  K3R   K41R  H139R  D173E  M233V   None   None   None   None   \n",
      "284    3.618126  K3R   K52E  K107R  H139R   None   None   None   None   None   \n",
      "308    3.739301  K3R  K113R  H139R  Y143F  I171T  H231L   None   None   None   \n",
      "505    3.192824  K3R  H139R  F165S   None   None   None   None   None   None   \n",
      "1082   1.301031  K3R   V55A   L60H  H139R  Y143C   None   None   None   None   \n",
      "1109   3.571949  K3R   V11E   V68M  H139R   None   None   None   None   None   \n",
      "1174   3.363947  K3R   Q80L   F84L  K131R  H139R  D234G   None   None   None   \n",
      "1213   2.990617  K3R   S28G   G51D  H139R   None   None   None   None   None   \n",
      "1222   1.509868  K3R   T50A   L53P   L60H   H81R  E111G  H139R  Q177R  L195P   \n",
      "1256   3.489164  K3R  T108A  H139R   None   None   None   None   None   None   \n",
      "\n",
      "       m10   m11   m12   m13   m14   m15  \n",
      "64    None  None  None  None  None  None  \n",
      "278   None  None  None  None  None  None  \n",
      "284   None  None  None  None  None  None  \n",
      "308   None  None  None  None  None  None  \n",
      "505   None  None  None  None  None  None  \n",
      "1082  None  None  None  None  None  None  \n",
      "1109  None  None  None  None  None  None  \n",
      "1174  None  None  None  None  None  None  \n",
      "1213  None  None  None  None  None  None  \n",
      "1222  None  None  None  None  None  None  \n",
      "1256  None  None  None  None  None  None  , 'I167T':       DMS_score   m1     m2     m3     m4     m5     m6     m7     m8     m9  \\\n",
      "117    3.606965  K3R   E17G  I167T  L207M  A227T   None   None   None   None   \n",
      "326    3.174630  K3R  K166R  I167T  Q177R   None   None   None   None   None   \n",
      "481    3.723831  K3R  I167T  I171T   None   None   None   None   None   None   \n",
      "515    1.302876  K3R   H77L  F100S  I167T  V176G   None   None   None   None   \n",
      "801    3.615790  K3R  N159S  V163A  I167T  I229F   None   None   None   None   \n",
      "1072   1.301031  K3R   V16A   N23S   K26Q   F46S   F71I   F99I  I167T   None   \n",
      "1103   3.694986  K3R    T9S   D76G  K113R  D117G  K162R  I167T  Y182N  D190N   \n",
      "1118   1.724762  K3R   W57R   V61E   F84I  F114L  I167T   None   None   None   \n",
      "1140   3.729534  K3R   T97A  I167T  T203A   None   None   None   None   None   \n",
      "\n",
      "       m10   m11   m12   m13   m14   m15  \n",
      "117   None  None  None  None  None  None  \n",
      "326   None  None  None  None  None  None  \n",
      "481   None  None  None  None  None  None  \n",
      "515   None  None  None  None  None  None  \n",
      "801   None  None  None  None  None  None  \n",
      "1072  None  None  None  None  None  None  \n",
      "1103  None  None  None  None  None  None  \n",
      "1118  None  None  None  None  None  None  \n",
      "1140  None  None  None  None  None  None  , 'I229T':       DMS_score   m1     m2     m3     m4     m5     m6     m7     m8     m9  \\\n",
      "9      3.499501  K3R  D102G  Y151C  N170D  I229T   None   None   None   None   \n",
      "74     1.428584  K3R   E34V   G35C  S147C  I229T   None   None   None   None   \n",
      "81     3.503790  K3R    E5K  N105D  D190H  I229T   None   None   None   None   \n",
      "119    3.562984  K3R   E17G   K79M  I229T   None   None   None   None   None   \n",
      "120    3.490331  K3R   E17G  V150A  K156R  I229T   None   None   None   None   \n",
      "270    1.301048  K3R   K26R   K41R  S147G  F165S  D216V  I229T   None   None   \n",
      "338    3.724568  K3R    L7R  N144D  I229T   None   None   None   None   None   \n",
      "430    1.301030  K3R   G35D   K79E  K113E  T118I  I152V  F165S  D180G  N212S   \n",
      "436    1.560380  K3R  F100L  F130S  N149D  I229T   None   None   None   None   \n",
      "484    1.631251  K3R   I47N  L137P  V150I  L221Q  I229T   None   None   None   \n",
      "489    3.486355  K3R   I47T  I229T   None   None   None   None   None   None   \n",
      "511    3.360025  K3R   H25R   H77R   K79T  I229T   None   None   None   None   \n",
      "1100   1.301030  K3R    T9A   I14V   F27L   S28C   K79E   H81R  D190E  N212Y   \n",
      "\n",
      "        m10   m11   m12   m13   m14   m15  \n",
      "9      None  None  None  None  None  None  \n",
      "74     None  None  None  None  None  None  \n",
      "81     None  None  None  None  None  None  \n",
      "119    None  None  None  None  None  None  \n",
      "120    None  None  None  None  None  None  \n",
      "270    None  None  None  None  None  None  \n",
      "338    None  None  None  None  None  None  \n",
      "430   I229T  None  None  None  None  None  \n",
      "436    None  None  None  None  None  None  \n",
      "484    None  None  None  None  None  None  \n",
      "489    None  None  None  None  None  None  \n",
      "511    None  None  None  None  None  None  \n",
      "1100  I229T  None  None  None  None  None  , 'I47T':      DMS_score   m1    m2     m3     m4     m5     m6     m7     m8     m9  \\\n",
      "118   1.855008  K3R  E17G   I47T   M88T  F100S  F114S  N149S  N164D  S208C   \n",
      "465   1.568936  K3R  F46S   I47T   L60H  E142G   None   None   None   None   \n",
      "485   3.533085  K3R  I47T   None   None   None   None   None   None   None   \n",
      "486   3.301669  K3R  I47T   E90G  D180G   None   None   None   None   None   \n",
      "487   3.401673  K3R  I47T   E90G  L195P   None   None   None   None   None   \n",
      "488   1.301030  K3R  I47T   E90G  N121I  S202G   None   None   None   None   \n",
      "489   3.486355  K3R  I47T  I229T   None   None   None   None   None   None   \n",
      "490   3.643824  K3R  I47T  N170D   None   None   None   None   None   None   \n",
      "491   1.301031  K3R  I47T   V55A   M88T  K140E  N144D  F165S   None   None   \n",
      "499   3.184110  K3R  I14T   I47T   None   None   None   None   None   None   \n",
      "\n",
      "      m10   m11   m12   m13   m14   m15  \n",
      "118  None  None  None  None  None  None  \n",
      "465  None  None  None  None  None  None  \n",
      "485  None  None  None  None  None  None  \n",
      "486  None  None  None  None  None  None  \n",
      "487  None  None  None  None  None  None  \n",
      "488  None  None  None  None  None  None  \n",
      "489  None  None  None  None  None  None  \n",
      "490  None  None  None  None  None  None  \n",
      "491  None  None  None  None  None  None  \n",
      "499  None  None  None  None  None  None  , 'I98V':       DMS_score   m1    m2     m3     m4     m5     m6     m7     m8    m9  \\\n",
      "109    3.507149  K3R  D76N   I98V   None   None   None   None   None  None   \n",
      "280    3.353790  K3R  K45R   I98V  D117G  N135S  Q204R  N212D   None  None   \n",
      "298    1.569846  K3R  K26M   S65P   I98V  K131R   None   None   None  None   \n",
      "401    3.722129  K3R  I98V  D129G  N170D   None   None   None   None  None   \n",
      "410    1.410951  K3R   F8L   T63N   R73C   I98V  D102N  K126R  T225S  None   \n",
      "466    3.521668  K3R  I98V  S175G  N185D   None   None   None   None  None   \n",
      "509    1.300950  K3R  H25L   F84S   I98V  N121Y  I229V   None   None  None   \n",
      "1193   3.290371  K3R  N23D   D36E   I98V   F99L  N105S   None   None  None   \n",
      "1216   3.481051  K3R  T43A   I98V  D133E  D180G   None   None   None  None   \n",
      "\n",
      "       m10   m11   m12   m13   m14   m15  \n",
      "109   None  None  None  None  None  None  \n",
      "280   None  None  None  None  None  None  \n",
      "298   None  None  None  None  None  None  \n",
      "401   None  None  None  None  None  None  \n",
      "410   None  None  None  None  None  None  \n",
      "466   None  None  None  None  None  None  \n",
      "509   None  None  None  None  None  None  \n",
      "1193  None  None  None  None  None  None  \n",
      "1216  None  None  None  None  None  None  , 'K113R':       DMS_score   m1     m2     m3     m4     m5     m6     m7     m8     m9  \\\n",
      "281    3.475398  K3R   K45R  K113R  M153V  A154V   None   None   None   None   \n",
      "292    3.559783  K3R   K79E  K113R  K162V   None   None   None   None   None   \n",
      "306    3.780010  K3R  K113R   None   None   None   None   None   None   None   \n",
      "307    3.685307  K3R  K113R  G232D   None   None   None   None   None   None   \n",
      "308    3.739301  K3R  K113R  H139R  Y143F  I171T  H231L   None   None   None   \n",
      "309    3.693744  K3R  K113R  I128V  K131E  Q204L   None   None   None   None   \n",
      "310    3.620640  K3R  K113R  N149S  K158E  N198S  T203A   None   None   None   \n",
      "311    3.743635  K3R  K113R  S147G  N164D   None   None   None   None   None   \n",
      "312    3.636824  K3R  K113R  V150A  N212T   None   None   None   None   None   \n",
      "380    1.369147  K3R   L18Q  K113R  K162R   None   None   None   None   None   \n",
      "388    3.221703  K3R   L53P  K113R  I128V   None   None   None   None   None   \n",
      "398    1.302357  K3R   L42P   T50A  K113R  G138R  N164S   None   None   None   \n",
      "1103   3.694986  K3R    T9S   D76G  K113R  D117G  K162R  I167T  Y182N  D190N   \n",
      "1107   3.556671  K3R   V11A   M78V  K113R   None   None   None   None   None   \n",
      "1211   1.559392  K3R   S28C   T62A   H81R  K113R  I152T   None   None   None   \n",
      "\n",
      "       m10   m11   m12   m13   m14   m15  \n",
      "281   None  None  None  None  None  None  \n",
      "292   None  None  None  None  None  None  \n",
      "306   None  None  None  None  None  None  \n",
      "307   None  None  None  None  None  None  \n",
      "308   None  None  None  None  None  None  \n",
      "309   None  None  None  None  None  None  \n",
      "310   None  None  None  None  None  None  \n",
      "311   None  None  None  None  None  None  \n",
      "312   None  None  None  None  None  None  \n",
      "380   None  None  None  None  None  None  \n",
      "388   None  None  None  None  None  None  \n",
      "398   None  None  None  None  None  None  \n",
      "1103  None  None  None  None  None  None  \n",
      "1107  None  None  None  None  None  None  \n",
      "1211  None  None  None  None  None  None  , 'K156R':      DMS_score   m1     m2     m3     m4     m5     m6     m7     m8     m9  \\\n",
      "113   3.750866  K3R  E124V  K156R  S202G   None   None   None   None   None   \n",
      "120   3.490331  K3R   E17G  V150A  K156R  I229T   None   None   None   None   \n",
      "126   3.495711  K3R   E32G  K156R  E172K  T225A   None   None   None   None   \n",
      "320   3.716797  K3R  K156R   None   None   None   None   None   None   None   \n",
      "321   3.879876  K3R  K156R  E172V  I188V  K214E   None   None   None   None   \n",
      "322   3.571624  K3R  K156R  S208N   None   None   None   None   None   None   \n",
      "323   3.521390  K3R  K156R  V224A  H231L   None   None   None   None   None   \n",
      "396   1.300781  K3R   L60P  T108A  N121Y  N149S  K156R  H169R  Q177H   None   \n",
      "471   1.492842  K3R   I14T   N23Y   A37V  F100Y  K140E  N146D  H148R  M153V   \n",
      "530   1.511731  K3R   I14F  D103G  K140T  K156R  V163E  H217R   None   None   \n",
      "\n",
      "       m10   m11   m12   m13   m14   m15  \n",
      "113   None  None  None  None  None  None  \n",
      "120   None  None  None  None  None  None  \n",
      "126   None  None  None  None  None  None  \n",
      "320   None  None  None  None  None  None  \n",
      "321   None  None  None  None  None  None  \n",
      "322   None  None  None  None  None  None  \n",
      "323   None  None  None  None  None  None  \n",
      "396   None  None  None  None  None  None  \n",
      "471  K156R  None  None  None  None  None  \n",
      "530   None  None  None  None  None  None  , 'K85E':       DMS_score   m1    m2     m3     m4     m5     m6    m7    m8    m9  \\\n",
      "22     1.652145  K3R  D19G   K85E   M88T  Q177R  L207Q  None  None  None   \n",
      "295    1.520128  K3R  K85E  E142G  K158R  V176A  E213V  None  None  None   \n",
      "296    1.670691  K3R  K85E   E95G  H199R   None   None  None  None  None   \n",
      "315    1.301031  K3R  K85E  F130L  N212Y   None   None  None  None  None   \n",
      "333    1.301030  K3R  K85E  K158M  N164D  E235G  L236P  None  None  None   \n",
      "382    1.388869  K3R  K85E  T118A  K158E  F165L   None  None  None  None   \n",
      "474    1.519688  K3R  I14V   F27S   F46Y   K85E   P89S  None  None  None   \n",
      "1156   1.301030  K3R  Y74H   K85E  N164Y  H181R   None  None  None  None   \n",
      "1172   1.301029  K3R  Q69L   K85E  E132G   None   None  None  None  None   \n",
      "\n",
      "       m10   m11   m12   m13   m14   m15  \n",
      "22    None  None  None  None  None  None  \n",
      "295   None  None  None  None  None  None  \n",
      "296   None  None  None  None  None  None  \n",
      "315   None  None  None  None  None  None  \n",
      "333   None  None  None  None  None  None  \n",
      "382   None  None  None  None  None  None  \n",
      "474   None  None  None  None  None  None  \n",
      "1156  None  None  None  None  None  None  \n",
      "1172  None  None  None  None  None  None  , 'N144D':      DMS_score   m1     m2     m3     m4     m5     m6     m7     m8     m9  \\\n",
      "68    3.472535  K3R   E34G   F99L  N144D  I229S   None   None   None   None   \n",
      "93    1.301030  K3R    E6K   K41E   S86T  K107R  D129V  N144D  N164D  N170Y   \n",
      "293   3.487732  K3R   K79E  N144D   None   None   None   None   None   None   \n",
      "338   3.724568  K3R    L7R  N144D  I229T   None   None   None   None   None   \n",
      "356   3.702052  K3R  N144D   None   None   None   None   None   None   None   \n",
      "357   3.228583  K3R  N144D  S147G  H148L  Q204K   None   None   None   None   \n",
      "426   1.470191  K3R   G20C   K45E  N144D  L220P   None   None   None   None   \n",
      "445   1.302238  K3R   F46I   F83L  I136T  N144D  Y200C  T203A   None   None   \n",
      "491   1.301031  K3R   I47T   V55A   M88T  K140E  N144D  F165S   None   None   \n",
      "\n",
      "       m10    m11   m12   m13   m14   m15  \n",
      "68    None   None  None  None  None  None  \n",
      "93   N185S  N198S  None  None  None  None  \n",
      "293   None   None  None  None  None  None  \n",
      "338   None   None  None  None  None  None  \n",
      "356   None   None  None  None  None  None  \n",
      "357   None   None  None  None  None  None  \n",
      "426   None   None  None  None  None  None  \n",
      "445   None   None  None  None  None  None  \n",
      "491   None   None  None  None  None  None  , 'N149S':       DMS_score   m1     m2     m3     m4     m5     m6     m7     m8     m9  \\\n",
      "76     1.301030  K3R    E5D   S65P   E95G  N149S  I171V   None   None   None   \n",
      "118    1.855008  K3R   E17G   I47T   M88T  F100S  F114S  N149S  N164D  S208C   \n",
      "310    3.620640  K3R  K113R  N149S  K158E  N198S  T203A   None   None   None   \n",
      "360    3.697878  K3R  N149S  I152V  N170D   None   None   None   None   None   \n",
      "361    3.663290  K3R  N149S  Q204K   None   None   None   None   None   None   \n",
      "373    1.362291  K3R   L15P   L60P   T97A  N149S  E213V  E222G   None   None   \n",
      "396    1.300781  K3R   L60P  T108A  N121Y  N149S  K156R  H169R  Q177H   None   \n",
      "493    3.138417  K3R   I47V   M78K  N149S   None   None   None   None   None   \n",
      "1115   1.474619  K3R  V112L  T118A  N149S  M218R   None   None   None   None   \n",
      "\n",
      "       m10   m11   m12   m13   m14   m15  \n",
      "76    None  None  None  None  None  None  \n",
      "118   None  None  None  None  None  None  \n",
      "310   None  None  None  None  None  None  \n",
      "360   None  None  None  None  None  None  \n",
      "361   None  None  None  None  None  None  \n",
      "373   None  None  None  None  None  None  \n",
      "396   None  None  None  None  None  None  \n",
      "493   None  None  None  None  None  None  \n",
      "1115  None  None  None  None  None  None  , 'N170D':       DMS_score   m1     m2     m3     m4     m5     m6     m7     m8    m9  \\\n",
      "9      3.499501  K3R  D102G  Y151C  N170D  I229T   None   None   None  None   \n",
      "20     1.301030  K3R   D19G   F27L   I98F  L141Q  N170D  I188V   None  None   \n",
      "360    3.697878  K3R  N149S  I152V  N170D   None   None   None   None  None   \n",
      "363    3.664453  K3R  N159D  N170D   None   None   None   None   None  None   \n",
      "390    1.301030  K3R   L53P  N170D  Q177R  D197G   None   None   None  None   \n",
      "401    3.722129  K3R   I98V  D129G  N170D   None   None   None   None  None   \n",
      "490    3.643824  K3R   I47T  N170D   None   None   None   None   None  None   \n",
      "1071   3.638480  K3R  N170D  D180A   None   None   None   None   None  None   \n",
      "1094   1.301030  K3R   V12G   P89S  F100S  I123V  N149Y  N170D  Q184L  None   \n",
      "1112   1.718459  K3R   V12A   Y39H  I128V  L137P  N170D  N185T  S202C  None   \n",
      "\n",
      "       m10   m11   m12   m13   m14   m15  \n",
      "9     None  None  None  None  None  None  \n",
      "20    None  None  None  None  None  None  \n",
      "360   None  None  None  None  None  None  \n",
      "363   None  None  None  None  None  None  \n",
      "390   None  None  None  None  None  None  \n",
      "401   None  None  None  None  None  None  \n",
      "490   None  None  None  None  None  None  \n",
      "1071  None  None  None  None  None  None  \n",
      "1094  None  None  None  None  None  None  \n",
      "1112  None  None  None  None  None  None  , 'N23S':       DMS_score   m1    m2     m3     m4     m5     m6     m7     m8    m9  \\\n",
      "24     3.329587  K3R  D19G   N23S   E90G  E172G  T230A   None   None  None   \n",
      "86     3.399222  K3R   E5V   N23S  Y143H   None   None   None   None  None   \n",
      "1072   1.301031  K3R  V16A   N23S   K26Q   F46S   F71I   F99I  I167T  None   \n",
      "1077   1.292121  K3R  V22A   N23S   M78V  K101R  G116S  D197V   None  None   \n",
      "1198   3.227733  K3R  N23S   E34G   T38S  D117H  M153K  K214E   None  None   \n",
      "1200   3.401687  K3R  N23S  F165S   None   None   None   None   None  None   \n",
      "1201   3.568452  K3R  N23S  K214E   None   None   None   None   None  None   \n",
      "1202   3.489817  K3R  N23S  N105I  F114L  V193A   None   None   None  None   \n",
      "1203   3.519519  K3R  N23S  N144S  K214M   None   None   None   None  None   \n",
      "1204   3.686642  K3R  N23S   Q80R   None   None   None   None   None  None   \n",
      "1205   1.707966  K3R  N23S   T59A  D216G   None   None   None   None  None   \n",
      "1206   3.546235  K3R  N23S  Y182N  F223Y   None   None   None   None  None   \n",
      "1210   1.301896  K3R  N23S   F83S  I136V  L141P  I161N  I167V   None  None   \n",
      "\n",
      "       m10   m11   m12   m13   m14   m15  \n",
      "24    None  None  None  None  None  None  \n",
      "86    None  None  None  None  None  None  \n",
      "1072  None  None  None  None  None  None  \n",
      "1077  None  None  None  None  None  None  \n",
      "1198  None  None  None  None  None  None  \n",
      "1200  None  None  None  None  None  None  \n",
      "1201  None  None  None  None  None  None  \n",
      "1202  None  None  None  None  None  None  \n",
      "1203  None  None  None  None  None  None  \n",
      "1204  None  None  None  None  None  None  \n",
      "1205  None  None  None  None  None  None  \n",
      "1206  None  None  None  None  None  None  \n",
      "1210  None  None  None  None  None  None  , 'S147G':       DMS_score   m1     m2     m3     m4     m5     m6     m7     m8    m9  \\\n",
      "85     1.301031  K3R    E5V   H81P  E111G  G116S  E124G  S147G  M153K  None   \n",
      "122    1.664391  K3R   E17K   V93A  N105D  S147G  Y151C  Q184R   None  None   \n",
      "124    3.783807  K3R   E17V  S147G  K214R   None   None   None   None  None   \n",
      "270    1.301048  K3R   K26R   K41R  S147G  F165S  D216V  I229T   None  None   \n",
      "285    3.275474  K3R   K52E   K79Q  S147G   None   None   None   None  None   \n",
      "311    3.743635  K3R  K113R  S147G  N164D   None   None   None   None  None   \n",
      "357    3.228583  K3R  N144D  S147G  H148L  Q204K   None   None   None  None   \n",
      "414    1.395574  K3R    F8S   H81L  K113E  S147G  H217R   None   None  None   \n",
      "500    1.580238  K3R   I14T   E17V   F71L  L125P  S147G   None   None  None   \n",
      "1185   3.733412  K3R  S147G  L221Q   None   None   None   None   None  None   \n",
      "\n",
      "       m10   m11   m12   m13   m14   m15  \n",
      "85    None  None  None  None  None  None  \n",
      "122   None  None  None  None  None  None  \n",
      "124   None  None  None  None  None  None  \n",
      "270   None  None  None  None  None  None  \n",
      "285   None  None  None  None  None  None  \n",
      "311   None  None  None  None  None  None  \n",
      "357   None  None  None  None  None  None  \n",
      "414   None  None  None  None  None  None  \n",
      "500   None  None  None  None  None  None  \n",
      "1185  None  None  None  None  None  None  }\n"
     ]
    }
   ],
   "source": [
    "# data frames mit K3R + weitere häufige Mutation (over 8)\n",
    "mutation_1 = 'K3R'\n",
    "mutation_2_list = mutation_m2_to_m15_over_8_list\n",
    "\n",
    "df_m1_K3R_and_over_8 = {}\n",
    "\n",
    "for mutation_2 in mutation_2_list:\n",
    "    mask_mutants_with_mutation_1_and_mutation_2 = df_mutants_with_specific_mutation.isin([mutation_1, mutation_2]).sum(axis=1) == 2\n",
    "    df_m1_K3R_and_over_8[mutation_2] = df_mutants_with_specific_mutation[mask_mutants_with_mutation_1_and_mutation_2]\n",
    "\n",
    "print(df_m1_K3R_and_over_8)"
   ],
   "metadata": {
    "collapsed": false,
    "ExecuteTime": {
     "end_time": "2023-06-06T10:21:56.040270Z",
     "start_time": "2023-06-06T10:21:55.537320Z"
    }
   }
  },
  {
   "cell_type": "code",
   "execution_count": null,
   "outputs": [],
   "source": [],
   "metadata": {
    "collapsed": false
   }
  }
 ],
 "metadata": {
  "kernelspec": {
   "display_name": "Python 3",
   "language": "python",
   "name": "python3"
  },
  "language_info": {
   "codemirror_mode": {
    "name": "ipython",
    "version": 2
   },
   "file_extension": ".py",
   "mimetype": "text/x-python",
   "name": "python",
   "nbconvert_exporter": "python",
   "pygments_lexer": "ipython2",
   "version": "2.7.6"
  }
 },
 "nbformat": 4,
 "nbformat_minor": 0
}
