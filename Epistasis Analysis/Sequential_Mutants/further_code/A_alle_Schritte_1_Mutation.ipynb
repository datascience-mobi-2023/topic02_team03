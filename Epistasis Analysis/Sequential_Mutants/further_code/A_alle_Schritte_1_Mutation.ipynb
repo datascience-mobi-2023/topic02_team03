{
 "cells": [
  {
   "cell_type": "code",
   "execution_count": 50,
   "outputs": [],
   "source": [
    "import pandas as pd"
   ],
   "metadata": {
    "collapsed": false,
    "ExecuteTime": {
     "end_time": "2023-06-14T20:55:36.088143Z",
     "start_time": "2023-06-14T20:55:36.079993Z"
    }
   }
  },
  {
   "cell_type": "code",
   "execution_count": 72,
   "outputs": [
    {
     "name": "stdout",
     "output_type": "stream",
     "text": [
      "  m1    m2    m3    m4    m5\n",
      "0  B     A     C     D  None\n",
      "1  A  None  None  None     E\n",
      "2  A     B  None  None  None\n",
      "3  A  None  None  None  None\n"
     ]
    }
   ],
   "source": [
    "df_fictitious = {\n",
    "    'm1': ['A'],\n",
    "    'm2': ['A', 'B'],\n",
    "    'm3': ['A', 'B', 'C'],\n",
    "    'm4': ['A', 'B', 'C', 'D']\n",
    "}\n",
    "\n",
    "df_min_12_mutations = df_fictitious\n",
    "possible_mutations_in_mutants_with_min_12_mutations = ['A', 'B', 'C', 'D']"
   ],
   "metadata": {
    "collapsed": false,
    "ExecuteTime": {
     "end_time": "2023-06-15T09:21:41.738404Z",
     "start_time": "2023-06-15T09:21:41.730946Z"
    }
   }
  },
  {
   "cell_type": "code",
   "execution_count": 73,
   "outputs": [
    {
     "name": "stdout",
     "output_type": "stream",
     "text": [
      "Filtered DataFrame for A:\n",
      "  m1    m2    m3    m4    m5\n",
      "0  B     A     C     D  None\n",
      "1  A  None  None  None     E\n",
      "2  A     B  None  None  None\n",
      "3  A  None  None  None  None\n",
      "['E', 'C', 'B', 'D']\n",
      "Filtered DataFrame for B:\n",
      "  m1 m2    m3    m4    m5\n",
      "0  B  A     C     D  None\n",
      "2  A  B  None  None  None\n",
      "['C', 'D', 'A']\n",
      "Filtered DataFrame for C:\n",
      "  m1 m2 m3 m4    m5\n",
      "0  B  A  C  D  None\n",
      "['C', 'D', 'A']\n",
      "Filtered DataFrame for D:\n",
      "  m1 m2 m3 m4    m5\n",
      "0  B  A  C  D  None\n",
      "['C', 'D', 'A']\n",
      "Filtered DataFrame for E:\n",
      "  m1    m2    m3    m4 m5\n",
      "1  A  None  None  None  E\n",
      "['C', 'D', 'A']\n"
     ]
    }
   ],
   "source": [
    "# mit allen Mutationen aus possible_mutations_in_mutants_with_min_12_mutations\n",
    "# for all possible_mutations_in_mutants_with_min_12_mutations\n",
    "for mutation in possible_mutations_in_mutants_with_min_12_mutations:\n",
    "    # Create an empty DataFrame with the same columns as df_min_12_mutations\n",
    "    df_min_12_mutations_loop = pd.DataFrame(columns=df_min_12_mutations.columns)\n",
    "\n",
    "    for index, row in df_min_12_mutations.iterrows():\n",
    "        # count specific mutation\n",
    "        count = df_min_12_mutations.values.flatten().tolist().count(mutation)\n",
    "\n",
    "        # check the count of specific mutation\n",
    "        if count > 1:\n",
    "            # add row to new df\n",
    "            df_min_12_mutations_loop = df_min_12_mutations[\n",
    "                df_min_12_mutations.apply(lambda row: mutation in row.values, axis=1)]\n",
    "            # Create a list of all possible mutations in the new DataFrame except the specific mutation\n",
    "            possible_mutations = df_min_12_mutations_loop.values.flatten().tolist()\n",
    "            possible_mutations.remove(mutation)\n",
    "            # remove none from list\n",
    "            possible_mutations = [value for value in possible_mutations if value is not None]\n",
    "            # remove fscore from list\n",
    "            possible_mutations = [value for value in possible_mutations if not isinstance(value, (int, float))]\n",
    "\n",
    "        else:\n",
    "            # remain last rows with specific mutation and stop\n",
    "            df_min_12_mutations_loop = df_min_12_mutations[\n",
    "                df_min_12_mutations.apply(lambda row: mutation in row.values, axis=1)]\n",
    "            break\n",
    "\n",
    "\n",
    "    print(f\"Filtered DataFrame for {mutation}:\")\n",
    "    print(df_min_12_mutations_loop)\n",
    "    print(possible_mutations)\n",
    "# noch zu verbessern: bei else wird \"alte\" Liste geprintet"
   ],
   "metadata": {
    "collapsed": false,
    "ExecuteTime": {
     "end_time": "2023-06-15T09:22:37.917392Z",
     "start_time": "2023-06-15T09:22:37.904659Z"
    }
   }
  },
  {
   "cell_type": "code",
   "execution_count": 55,
   "outputs": [
    {
     "ename": "RecursionError",
     "evalue": "maximum recursion depth exceeded in comparison",
     "output_type": "error",
     "traceback": [
      "\u001B[0;31m---------------------------------------------------------------------------\u001B[0m",
      "\u001B[0;31mRecursionError\u001B[0m                            Traceback (most recent call last)",
      "Cell \u001B[0;32mIn[55], line 21\u001B[0m\n\u001B[1;32m     18\u001B[0m     \u001B[38;5;28;01mreturn\u001B[39;00m df_min_12_mutations_loop\n\u001B[1;32m     20\u001B[0m \u001B[38;5;66;03m# Call the function with your initial DataFrame\u001B[39;00m\n\u001B[0;32m---> 21\u001B[0m result \u001B[38;5;241m=\u001B[39m \u001B[43mfilter_data_frames\u001B[49m\u001B[43m(\u001B[49m\u001B[43mdf_min_12_mutations\u001B[49m\u001B[43m)\u001B[49m\n\u001B[1;32m     22\u001B[0m \u001B[38;5;28mprint\u001B[39m(result)\n",
      "Cell \u001B[0;32mIn[55], line 13\u001B[0m, in \u001B[0;36mfilter_data_frames\u001B[0;34m(df)\u001B[0m\n\u001B[1;32m     10\u001B[0m count \u001B[38;5;241m=\u001B[39m \u001B[38;5;28mlen\u001B[39m(df_min_12_mutations_loop)\n\u001B[1;32m     12\u001B[0m \u001B[38;5;28;01mif\u001B[39;00m count \u001B[38;5;241m>\u001B[39m \u001B[38;5;241m1\u001B[39m:\n\u001B[0;32m---> 13\u001B[0m     df_min_12_mutations_loop \u001B[38;5;241m=\u001B[39m \u001B[43mfilter_data_frames\u001B[49m\u001B[43m(\u001B[49m\u001B[43mdf_min_12_mutations_loop\u001B[49m\u001B[43m)\u001B[49m\n\u001B[1;32m     15\u001B[0m \u001B[38;5;28;01mif\u001B[39;00m \u001B[38;5;28mlen\u001B[39m(df_min_12_mutations_loop) \u001B[38;5;241m==\u001B[39m \u001B[38;5;241m1\u001B[39m:\n\u001B[1;32m     16\u001B[0m     \u001B[38;5;28;01mbreak\u001B[39;00m\n",
      "Cell \u001B[0;32mIn[55], line 13\u001B[0m, in \u001B[0;36mfilter_data_frames\u001B[0;34m(df)\u001B[0m\n\u001B[1;32m     10\u001B[0m count \u001B[38;5;241m=\u001B[39m \u001B[38;5;28mlen\u001B[39m(df_min_12_mutations_loop)\n\u001B[1;32m     12\u001B[0m \u001B[38;5;28;01mif\u001B[39;00m count \u001B[38;5;241m>\u001B[39m \u001B[38;5;241m1\u001B[39m:\n\u001B[0;32m---> 13\u001B[0m     df_min_12_mutations_loop \u001B[38;5;241m=\u001B[39m \u001B[43mfilter_data_frames\u001B[49m\u001B[43m(\u001B[49m\u001B[43mdf_min_12_mutations_loop\u001B[49m\u001B[43m)\u001B[49m\n\u001B[1;32m     15\u001B[0m \u001B[38;5;28;01mif\u001B[39;00m \u001B[38;5;28mlen\u001B[39m(df_min_12_mutations_loop) \u001B[38;5;241m==\u001B[39m \u001B[38;5;241m1\u001B[39m:\n\u001B[1;32m     16\u001B[0m     \u001B[38;5;28;01mbreak\u001B[39;00m\n",
      "    \u001B[0;31m[... skipping similar frames: filter_data_frames at line 13 (2943 times)]\u001B[0m\n",
      "Cell \u001B[0;32mIn[55], line 13\u001B[0m, in \u001B[0;36mfilter_data_frames\u001B[0;34m(df)\u001B[0m\n\u001B[1;32m     10\u001B[0m count \u001B[38;5;241m=\u001B[39m \u001B[38;5;28mlen\u001B[39m(df_min_12_mutations_loop)\n\u001B[1;32m     12\u001B[0m \u001B[38;5;28;01mif\u001B[39;00m count \u001B[38;5;241m>\u001B[39m \u001B[38;5;241m1\u001B[39m:\n\u001B[0;32m---> 13\u001B[0m     df_min_12_mutations_loop \u001B[38;5;241m=\u001B[39m \u001B[43mfilter_data_frames\u001B[49m\u001B[43m(\u001B[49m\u001B[43mdf_min_12_mutations_loop\u001B[49m\u001B[43m)\u001B[49m\n\u001B[1;32m     15\u001B[0m \u001B[38;5;28;01mif\u001B[39;00m \u001B[38;5;28mlen\u001B[39m(df_min_12_mutations_loop) \u001B[38;5;241m==\u001B[39m \u001B[38;5;241m1\u001B[39m:\n\u001B[1;32m     16\u001B[0m     \u001B[38;5;28;01mbreak\u001B[39;00m\n",
      "Cell \u001B[0;32mIn[55], line 9\u001B[0m, in \u001B[0;36mfilter_data_frames\u001B[0;34m(df)\u001B[0m\n\u001B[1;32m      5\u001B[0m possible_mutations \u001B[38;5;241m=\u001B[39m df\u001B[38;5;241m.\u001B[39mvalues\u001B[38;5;241m.\u001B[39mflatten()\u001B[38;5;241m.\u001B[39mtolist()\n\u001B[1;32m      7\u001B[0m \u001B[38;5;28;01mfor\u001B[39;00m mutation \u001B[38;5;129;01min\u001B[39;00m possible_mutations:\n\u001B[1;32m      8\u001B[0m     df_min_12_mutations_loop \u001B[38;5;241m=\u001B[39m df[\n\u001B[0;32m----> 9\u001B[0m         \u001B[43mdf\u001B[49m\u001B[38;5;241;43m.\u001B[39;49m\u001B[43mapply\u001B[49m\u001B[43m(\u001B[49m\u001B[38;5;28;43;01mlambda\u001B[39;49;00m\u001B[43m \u001B[49m\u001B[43mrow\u001B[49m\u001B[43m:\u001B[49m\u001B[43m \u001B[49m\u001B[43mmutation\u001B[49m\u001B[43m \u001B[49m\u001B[38;5;129;43;01min\u001B[39;49;00m\u001B[43m \u001B[49m\u001B[43mrow\u001B[49m\u001B[38;5;241;43m.\u001B[39;49m\u001B[43mvalues\u001B[49m\u001B[43m,\u001B[49m\u001B[43m \u001B[49m\u001B[43maxis\u001B[49m\u001B[38;5;241;43m=\u001B[39;49m\u001B[38;5;241;43m1\u001B[39;49m\u001B[43m)\u001B[49m]\n\u001B[1;32m     10\u001B[0m     count \u001B[38;5;241m=\u001B[39m \u001B[38;5;28mlen\u001B[39m(df_min_12_mutations_loop)\n\u001B[1;32m     12\u001B[0m     \u001B[38;5;28;01mif\u001B[39;00m count \u001B[38;5;241m>\u001B[39m \u001B[38;5;241m1\u001B[39m:\n",
      "File \u001B[0;32m~/anaconda3/envs/DMS/lib/python3.10/site-packages/pandas/core/frame.py:9568\u001B[0m, in \u001B[0;36mDataFrame.apply\u001B[0;34m(self, func, axis, raw, result_type, args, **kwargs)\u001B[0m\n\u001B[1;32m   9557\u001B[0m \u001B[38;5;28;01mfrom\u001B[39;00m \u001B[38;5;21;01mpandas\u001B[39;00m\u001B[38;5;21;01m.\u001B[39;00m\u001B[38;5;21;01mcore\u001B[39;00m\u001B[38;5;21;01m.\u001B[39;00m\u001B[38;5;21;01mapply\u001B[39;00m \u001B[38;5;28;01mimport\u001B[39;00m frame_apply\n\u001B[1;32m   9559\u001B[0m op \u001B[38;5;241m=\u001B[39m frame_apply(\n\u001B[1;32m   9560\u001B[0m     \u001B[38;5;28mself\u001B[39m,\n\u001B[1;32m   9561\u001B[0m     func\u001B[38;5;241m=\u001B[39mfunc,\n\u001B[0;32m   (...)\u001B[0m\n\u001B[1;32m   9566\u001B[0m     kwargs\u001B[38;5;241m=\u001B[39mkwargs,\n\u001B[1;32m   9567\u001B[0m )\n\u001B[0;32m-> 9568\u001B[0m \u001B[38;5;28;01mreturn\u001B[39;00m \u001B[43mop\u001B[49m\u001B[38;5;241;43m.\u001B[39;49m\u001B[43mapply\u001B[49m\u001B[43m(\u001B[49m\u001B[43m)\u001B[49m\u001B[38;5;241m.\u001B[39m__finalize__(\u001B[38;5;28mself\u001B[39m, method\u001B[38;5;241m=\u001B[39m\u001B[38;5;124m\"\u001B[39m\u001B[38;5;124mapply\u001B[39m\u001B[38;5;124m\"\u001B[39m)\n",
      "File \u001B[0;32m~/anaconda3/envs/DMS/lib/python3.10/site-packages/pandas/core/apply.py:764\u001B[0m, in \u001B[0;36mFrameApply.apply\u001B[0;34m(self)\u001B[0m\n\u001B[1;32m    761\u001B[0m \u001B[38;5;28;01melif\u001B[39;00m \u001B[38;5;28mself\u001B[39m\u001B[38;5;241m.\u001B[39mraw:\n\u001B[1;32m    762\u001B[0m     \u001B[38;5;28;01mreturn\u001B[39;00m \u001B[38;5;28mself\u001B[39m\u001B[38;5;241m.\u001B[39mapply_raw()\n\u001B[0;32m--> 764\u001B[0m \u001B[38;5;28;01mreturn\u001B[39;00m \u001B[38;5;28;43mself\u001B[39;49m\u001B[38;5;241;43m.\u001B[39;49m\u001B[43mapply_standard\u001B[49m\u001B[43m(\u001B[49m\u001B[43m)\u001B[49m\n",
      "File \u001B[0;32m~/anaconda3/envs/DMS/lib/python3.10/site-packages/pandas/core/apply.py:894\u001B[0m, in \u001B[0;36mFrameApply.apply_standard\u001B[0;34m(self)\u001B[0m\n\u001B[1;32m    891\u001B[0m results, res_index \u001B[38;5;241m=\u001B[39m \u001B[38;5;28mself\u001B[39m\u001B[38;5;241m.\u001B[39mapply_series_generator()\n\u001B[1;32m    893\u001B[0m \u001B[38;5;66;03m# wrap results\u001B[39;00m\n\u001B[0;32m--> 894\u001B[0m \u001B[38;5;28;01mreturn\u001B[39;00m \u001B[38;5;28;43mself\u001B[39;49m\u001B[38;5;241;43m.\u001B[39;49m\u001B[43mwrap_results\u001B[49m\u001B[43m(\u001B[49m\u001B[43mresults\u001B[49m\u001B[43m,\u001B[49m\u001B[43m \u001B[49m\u001B[43mres_index\u001B[49m\u001B[43m)\u001B[49m\n",
      "File \u001B[0;32m~/anaconda3/envs/DMS/lib/python3.10/site-packages/pandas/core/apply.py:929\u001B[0m, in \u001B[0;36mFrameApply.wrap_results\u001B[0;34m(self, results, res_index)\u001B[0m\n\u001B[1;32m    927\u001B[0m constructor_sliced \u001B[38;5;241m=\u001B[39m \u001B[38;5;28mself\u001B[39m\u001B[38;5;241m.\u001B[39mobj\u001B[38;5;241m.\u001B[39m_constructor_sliced\n\u001B[1;32m    928\u001B[0m \u001B[38;5;28;01mif\u001B[39;00m constructor_sliced \u001B[38;5;129;01mis\u001B[39;00m Series:\n\u001B[0;32m--> 929\u001B[0m     result \u001B[38;5;241m=\u001B[39m \u001B[43mcreate_series_with_explicit_dtype\u001B[49m\u001B[43m(\u001B[49m\n\u001B[1;32m    930\u001B[0m \u001B[43m        \u001B[49m\u001B[43mresults\u001B[49m\u001B[43m,\u001B[49m\u001B[43m \u001B[49m\u001B[43mdtype_if_empty\u001B[49m\u001B[38;5;241;43m=\u001B[39;49m\u001B[43mnp\u001B[49m\u001B[38;5;241;43m.\u001B[39;49m\u001B[43mfloat64\u001B[49m\n\u001B[1;32m    931\u001B[0m \u001B[43m    \u001B[49m\u001B[43m)\u001B[49m\n\u001B[1;32m    932\u001B[0m \u001B[38;5;28;01melse\u001B[39;00m:\n\u001B[1;32m    933\u001B[0m     result \u001B[38;5;241m=\u001B[39m constructor_sliced(results)\n",
      "File \u001B[0;32m~/anaconda3/envs/DMS/lib/python3.10/site-packages/pandas/core/construction.py:915\u001B[0m, in \u001B[0;36mcreate_series_with_explicit_dtype\u001B[0;34m(data, index, dtype, name, copy, fastpath, dtype_if_empty)\u001B[0m\n\u001B[1;32m    913\u001B[0m \u001B[38;5;28;01mif\u001B[39;00m is_empty_data(data) \u001B[38;5;129;01mand\u001B[39;00m dtype \u001B[38;5;129;01mis\u001B[39;00m \u001B[38;5;28;01mNone\u001B[39;00m:\n\u001B[1;32m    914\u001B[0m     dtype \u001B[38;5;241m=\u001B[39m dtype_if_empty\n\u001B[0;32m--> 915\u001B[0m \u001B[38;5;28;01mreturn\u001B[39;00m \u001B[43mSeries\u001B[49m\u001B[43m(\u001B[49m\n\u001B[1;32m    916\u001B[0m \u001B[43m    \u001B[49m\u001B[43mdata\u001B[49m\u001B[38;5;241;43m=\u001B[39;49m\u001B[43mdata\u001B[49m\u001B[43m,\u001B[49m\u001B[43m \u001B[49m\u001B[43mindex\u001B[49m\u001B[38;5;241;43m=\u001B[39;49m\u001B[43mindex\u001B[49m\u001B[43m,\u001B[49m\u001B[43m \u001B[49m\u001B[43mdtype\u001B[49m\u001B[38;5;241;43m=\u001B[39;49m\u001B[43mdtype\u001B[49m\u001B[43m,\u001B[49m\u001B[43m \u001B[49m\u001B[43mname\u001B[49m\u001B[38;5;241;43m=\u001B[39;49m\u001B[43mname\u001B[49m\u001B[43m,\u001B[49m\u001B[43m \u001B[49m\u001B[43mcopy\u001B[49m\u001B[38;5;241;43m=\u001B[39;49m\u001B[43mcopy\u001B[49m\u001B[43m,\u001B[49m\u001B[43m \u001B[49m\u001B[43mfastpath\u001B[49m\u001B[38;5;241;43m=\u001B[39;49m\u001B[43mfastpath\u001B[49m\n\u001B[1;32m    917\u001B[0m \u001B[43m\u001B[49m\u001B[43m)\u001B[49m\n",
      "File \u001B[0;32m~/anaconda3/envs/DMS/lib/python3.10/site-packages/pandas/core/series.py:436\u001B[0m, in \u001B[0;36mSeries.__init__\u001B[0;34m(self, data, index, dtype, name, copy, fastpath)\u001B[0m\n\u001B[1;32m    434\u001B[0m     data \u001B[38;5;241m=\u001B[39m data\u001B[38;5;241m.\u001B[39m_mgr\n\u001B[1;32m    435\u001B[0m \u001B[38;5;28;01melif\u001B[39;00m is_dict_like(data):\n\u001B[0;32m--> 436\u001B[0m     data, index \u001B[38;5;241m=\u001B[39m \u001B[38;5;28;43mself\u001B[39;49m\u001B[38;5;241;43m.\u001B[39;49m\u001B[43m_init_dict\u001B[49m\u001B[43m(\u001B[49m\u001B[43mdata\u001B[49m\u001B[43m,\u001B[49m\u001B[43m \u001B[49m\u001B[43mindex\u001B[49m\u001B[43m,\u001B[49m\u001B[43m \u001B[49m\u001B[43mdtype\u001B[49m\u001B[43m)\u001B[49m\n\u001B[1;32m    437\u001B[0m     dtype \u001B[38;5;241m=\u001B[39m \u001B[38;5;28;01mNone\u001B[39;00m\n\u001B[1;32m    438\u001B[0m     copy \u001B[38;5;241m=\u001B[39m \u001B[38;5;28;01mFalse\u001B[39;00m\n",
      "File \u001B[0;32m~/anaconda3/envs/DMS/lib/python3.10/site-packages/pandas/core/series.py:529\u001B[0m, in \u001B[0;36mSeries._init_dict\u001B[0;34m(self, data, index, dtype)\u001B[0m\n\u001B[1;32m    524\u001B[0m     keys, values \u001B[38;5;241m=\u001B[39m (), []\n\u001B[1;32m    526\u001B[0m \u001B[38;5;66;03m# Input is now list-like, so rely on \"standard\" construction:\u001B[39;00m\n\u001B[1;32m    527\u001B[0m \n\u001B[1;32m    528\u001B[0m \u001B[38;5;66;03m# TODO: passing np.float64 to not break anything yet. See GH-17261\u001B[39;00m\n\u001B[0;32m--> 529\u001B[0m s \u001B[38;5;241m=\u001B[39m \u001B[43mcreate_series_with_explicit_dtype\u001B[49m\u001B[43m(\u001B[49m\n\u001B[1;32m    530\u001B[0m \u001B[43m    \u001B[49m\u001B[38;5;66;43;03m# error: Argument \"index\" to \"create_series_with_explicit_dtype\" has\u001B[39;49;00m\n\u001B[1;32m    531\u001B[0m \u001B[43m    \u001B[49m\u001B[38;5;66;43;03m# incompatible type \"Tuple[Any, ...]\"; expected \"Union[ExtensionArray,\u001B[39;49;00m\n\u001B[1;32m    532\u001B[0m \u001B[43m    \u001B[49m\u001B[38;5;66;43;03m# ndarray, Index, None]\"\u001B[39;49;00m\n\u001B[1;32m    533\u001B[0m \u001B[43m    \u001B[49m\u001B[43mvalues\u001B[49m\u001B[43m,\u001B[49m\n\u001B[1;32m    534\u001B[0m \u001B[43m    \u001B[49m\u001B[43mindex\u001B[49m\u001B[38;5;241;43m=\u001B[39;49m\u001B[43mkeys\u001B[49m\u001B[43m,\u001B[49m\u001B[43m  \u001B[49m\u001B[38;5;66;43;03m# type: ignore[arg-type]\u001B[39;49;00m\n\u001B[1;32m    535\u001B[0m \u001B[43m    \u001B[49m\u001B[43mdtype\u001B[49m\u001B[38;5;241;43m=\u001B[39;49m\u001B[43mdtype\u001B[49m\u001B[43m,\u001B[49m\n\u001B[1;32m    536\u001B[0m \u001B[43m    \u001B[49m\u001B[43mdtype_if_empty\u001B[49m\u001B[38;5;241;43m=\u001B[39;49m\u001B[43mnp\u001B[49m\u001B[38;5;241;43m.\u001B[39;49m\u001B[43mfloat64\u001B[49m\u001B[43m,\u001B[49m\n\u001B[1;32m    537\u001B[0m \u001B[43m\u001B[49m\u001B[43m)\u001B[49m\n\u001B[1;32m    539\u001B[0m \u001B[38;5;66;03m# Now we just make sure the order is respected, if any\u001B[39;00m\n\u001B[1;32m    540\u001B[0m \u001B[38;5;28;01mif\u001B[39;00m data \u001B[38;5;129;01mand\u001B[39;00m index \u001B[38;5;129;01mis\u001B[39;00m \u001B[38;5;129;01mnot\u001B[39;00m \u001B[38;5;28;01mNone\u001B[39;00m:\n",
      "File \u001B[0;32m~/anaconda3/envs/DMS/lib/python3.10/site-packages/pandas/core/construction.py:915\u001B[0m, in \u001B[0;36mcreate_series_with_explicit_dtype\u001B[0;34m(data, index, dtype, name, copy, fastpath, dtype_if_empty)\u001B[0m\n\u001B[1;32m    913\u001B[0m \u001B[38;5;28;01mif\u001B[39;00m is_empty_data(data) \u001B[38;5;129;01mand\u001B[39;00m dtype \u001B[38;5;129;01mis\u001B[39;00m \u001B[38;5;28;01mNone\u001B[39;00m:\n\u001B[1;32m    914\u001B[0m     dtype \u001B[38;5;241m=\u001B[39m dtype_if_empty\n\u001B[0;32m--> 915\u001B[0m \u001B[38;5;28;01mreturn\u001B[39;00m \u001B[43mSeries\u001B[49m\u001B[43m(\u001B[49m\n\u001B[1;32m    916\u001B[0m \u001B[43m    \u001B[49m\u001B[43mdata\u001B[49m\u001B[38;5;241;43m=\u001B[39;49m\u001B[43mdata\u001B[49m\u001B[43m,\u001B[49m\u001B[43m \u001B[49m\u001B[43mindex\u001B[49m\u001B[38;5;241;43m=\u001B[39;49m\u001B[43mindex\u001B[49m\u001B[43m,\u001B[49m\u001B[43m \u001B[49m\u001B[43mdtype\u001B[49m\u001B[38;5;241;43m=\u001B[39;49m\u001B[43mdtype\u001B[49m\u001B[43m,\u001B[49m\u001B[43m \u001B[49m\u001B[43mname\u001B[49m\u001B[38;5;241;43m=\u001B[39;49m\u001B[43mname\u001B[49m\u001B[43m,\u001B[49m\u001B[43m \u001B[49m\u001B[43mcopy\u001B[49m\u001B[38;5;241;43m=\u001B[39;49m\u001B[43mcopy\u001B[49m\u001B[43m,\u001B[49m\u001B[43m \u001B[49m\u001B[43mfastpath\u001B[49m\u001B[38;5;241;43m=\u001B[39;49m\u001B[43mfastpath\u001B[49m\n\u001B[1;32m    917\u001B[0m \u001B[43m\u001B[49m\u001B[43m)\u001B[49m\n",
      "File \u001B[0;32m~/anaconda3/envs/DMS/lib/python3.10/site-packages/pandas/core/series.py:399\u001B[0m, in \u001B[0;36mSeries.__init__\u001B[0;34m(self, data, index, dtype, name, copy, fastpath)\u001B[0m\n\u001B[1;32m    395\u001B[0m     \u001B[38;5;66;03m# uncomment the line below when removing the FutureWarning\u001B[39;00m\n\u001B[1;32m    396\u001B[0m     \u001B[38;5;66;03m# dtype = np.dtype(object)\u001B[39;00m\n\u001B[1;32m    398\u001B[0m \u001B[38;5;28;01mif\u001B[39;00m index \u001B[38;5;129;01mis\u001B[39;00m \u001B[38;5;129;01mnot\u001B[39;00m \u001B[38;5;28;01mNone\u001B[39;00m:\n\u001B[0;32m--> 399\u001B[0m     index \u001B[38;5;241m=\u001B[39m \u001B[43mensure_index\u001B[49m\u001B[43m(\u001B[49m\u001B[43mindex\u001B[49m\u001B[43m)\u001B[49m\n\u001B[1;32m    401\u001B[0m \u001B[38;5;28;01mif\u001B[39;00m data \u001B[38;5;129;01mis\u001B[39;00m \u001B[38;5;28;01mNone\u001B[39;00m:\n\u001B[1;32m    402\u001B[0m     data \u001B[38;5;241m=\u001B[39m {}\n",
      "File \u001B[0;32m~/anaconda3/envs/DMS/lib/python3.10/site-packages/pandas/core/indexes/base.py:7333\u001B[0m, in \u001B[0;36mensure_index\u001B[0;34m(index_like, copy)\u001B[0m\n\u001B[1;32m   7331\u001B[0m         \u001B[38;5;28;01mreturn\u001B[39;00m Index\u001B[38;5;241m.\u001B[39m_with_infer(index_like, copy\u001B[38;5;241m=\u001B[39mcopy, tupleize_cols\u001B[38;5;241m=\u001B[39m\u001B[38;5;28;01mFalse\u001B[39;00m)\n\u001B[1;32m   7332\u001B[0m \u001B[38;5;28;01melse\u001B[39;00m:\n\u001B[0;32m-> 7333\u001B[0m     \u001B[38;5;28;01mreturn\u001B[39;00m \u001B[43mIndex\u001B[49m\u001B[38;5;241;43m.\u001B[39;49m\u001B[43m_with_infer\u001B[49m\u001B[43m(\u001B[49m\u001B[43mindex_like\u001B[49m\u001B[43m,\u001B[49m\u001B[43m \u001B[49m\u001B[43mcopy\u001B[49m\u001B[38;5;241;43m=\u001B[39;49m\u001B[43mcopy\u001B[49m\u001B[43m)\u001B[49m\n",
      "File \u001B[0;32m~/anaconda3/envs/DMS/lib/python3.10/site-packages/pandas/core/indexes/base.py:716\u001B[0m, in \u001B[0;36mIndex._with_infer\u001B[0;34m(cls, *args, **kwargs)\u001B[0m\n\u001B[1;32m    714\u001B[0m \u001B[38;5;28;01mwith\u001B[39;00m warnings\u001B[38;5;241m.\u001B[39mcatch_warnings():\n\u001B[1;32m    715\u001B[0m     warnings\u001B[38;5;241m.\u001B[39mfilterwarnings(\u001B[38;5;124m\"\u001B[39m\u001B[38;5;124mignore\u001B[39m\u001B[38;5;124m\"\u001B[39m, \u001B[38;5;124m\"\u001B[39m\u001B[38;5;124m.*the Index constructor\u001B[39m\u001B[38;5;124m\"\u001B[39m, \u001B[38;5;167;01mFutureWarning\u001B[39;00m)\n\u001B[0;32m--> 716\u001B[0m     result \u001B[38;5;241m=\u001B[39m \u001B[38;5;28;43mcls\u001B[39;49m\u001B[43m(\u001B[49m\u001B[38;5;241;43m*\u001B[39;49m\u001B[43margs\u001B[49m\u001B[43m,\u001B[49m\u001B[43m \u001B[49m\u001B[38;5;241;43m*\u001B[39;49m\u001B[38;5;241;43m*\u001B[39;49m\u001B[43mkwargs\u001B[49m\u001B[43m)\u001B[49m\n\u001B[1;32m    718\u001B[0m \u001B[38;5;28;01mif\u001B[39;00m result\u001B[38;5;241m.\u001B[39mdtype \u001B[38;5;241m==\u001B[39m _dtype_obj \u001B[38;5;129;01mand\u001B[39;00m \u001B[38;5;129;01mnot\u001B[39;00m result\u001B[38;5;241m.\u001B[39m_is_multi:\n\u001B[1;32m    719\u001B[0m     \u001B[38;5;66;03m# error: Argument 1 to \"maybe_convert_objects\" has incompatible type\u001B[39;00m\n\u001B[1;32m    720\u001B[0m     \u001B[38;5;66;03m# \"Union[ExtensionArray, ndarray[Any, Any]]\"; expected\u001B[39;00m\n\u001B[1;32m    721\u001B[0m     \u001B[38;5;66;03m# \"ndarray[Any, Any]\"\u001B[39;00m\n\u001B[1;32m    722\u001B[0m     values \u001B[38;5;241m=\u001B[39m lib\u001B[38;5;241m.\u001B[39mmaybe_convert_objects(result\u001B[38;5;241m.\u001B[39m_values)  \u001B[38;5;66;03m# type: ignore[arg-type]\u001B[39;00m\n",
      "File \u001B[0;32m~/anaconda3/envs/DMS/lib/python3.10/site-packages/pandas/core/indexes/base.py:572\u001B[0m, in \u001B[0;36mIndex.__new__\u001B[0;34m(cls, data, dtype, copy, name, tupleize_cols, **kwargs)\u001B[0m\n\u001B[1;32m    568\u001B[0m     subarr \u001B[38;5;241m=\u001B[39m _maybe_cast_data_without_dtype(\n\u001B[1;32m    569\u001B[0m         subarr, cast_numeric_deprecated\u001B[38;5;241m=\u001B[39m\u001B[38;5;28;01mFalse\u001B[39;00m\n\u001B[1;32m    570\u001B[0m     )\n\u001B[1;32m    571\u001B[0m     dtype \u001B[38;5;241m=\u001B[39m subarr\u001B[38;5;241m.\u001B[39mdtype\n\u001B[0;32m--> 572\u001B[0m \u001B[38;5;28;01mreturn\u001B[39;00m \u001B[43mIndex\u001B[49m\u001B[43m(\u001B[49m\u001B[43msubarr\u001B[49m\u001B[43m,\u001B[49m\u001B[43m \u001B[49m\u001B[43mdtype\u001B[49m\u001B[38;5;241;43m=\u001B[39;49m\u001B[43mdtype\u001B[49m\u001B[43m,\u001B[49m\u001B[43m \u001B[49m\u001B[43mcopy\u001B[49m\u001B[38;5;241;43m=\u001B[39;49m\u001B[43mcopy\u001B[49m\u001B[43m,\u001B[49m\u001B[43m \u001B[49m\u001B[43mname\u001B[49m\u001B[38;5;241;43m=\u001B[39;49m\u001B[43mname\u001B[49m\u001B[43m,\u001B[49m\u001B[43m \u001B[49m\u001B[38;5;241;43m*\u001B[39;49m\u001B[38;5;241;43m*\u001B[39;49m\u001B[43mkwargs\u001B[49m\u001B[43m)\u001B[49m\n",
      "File \u001B[0;32m~/anaconda3/envs/DMS/lib/python3.10/site-packages/pandas/core/indexes/base.py:516\u001B[0m, in \u001B[0;36mIndex.__new__\u001B[0;34m(cls, data, dtype, copy, name, tupleize_cols, **kwargs)\u001B[0m\n\u001B[1;32m    508\u001B[0m     data \u001B[38;5;241m=\u001B[39m data\u001B[38;5;241m.\u001B[39m_values\n\u001B[1;32m    510\u001B[0m \u001B[38;5;28;01mif\u001B[39;00m dtype \u001B[38;5;129;01mis\u001B[39;00m \u001B[38;5;129;01mnot\u001B[39;00m \u001B[38;5;28;01mNone\u001B[39;00m:\n\u001B[1;32m    511\u001B[0m     \u001B[38;5;66;03m# we need to avoid having numpy coerce\u001B[39;00m\n\u001B[1;32m    512\u001B[0m     \u001B[38;5;66;03m# things that look like ints/floats to ints unless\u001B[39;00m\n\u001B[1;32m    513\u001B[0m     \u001B[38;5;66;03m# they are actually ints, e.g. '0' and 0.0\u001B[39;00m\n\u001B[1;32m    514\u001B[0m     \u001B[38;5;66;03m# should not be coerced\u001B[39;00m\n\u001B[1;32m    515\u001B[0m     \u001B[38;5;66;03m# GH 11836\u001B[39;00m\n\u001B[0;32m--> 516\u001B[0m     data \u001B[38;5;241m=\u001B[39m \u001B[43msanitize_array\u001B[49m\u001B[43m(\u001B[49m\u001B[43mdata\u001B[49m\u001B[43m,\u001B[49m\u001B[43m \u001B[49m\u001B[38;5;28;43;01mNone\u001B[39;49;00m\u001B[43m,\u001B[49m\u001B[43m \u001B[49m\u001B[43mdtype\u001B[49m\u001B[38;5;241;43m=\u001B[39;49m\u001B[43mdtype\u001B[49m\u001B[43m,\u001B[49m\u001B[43m \u001B[49m\u001B[43mcopy\u001B[49m\u001B[38;5;241;43m=\u001B[39;49m\u001B[43mcopy\u001B[49m\u001B[43m)\u001B[49m\n\u001B[1;32m    518\u001B[0m     dtype \u001B[38;5;241m=\u001B[39m data\u001B[38;5;241m.\u001B[39mdtype\n\u001B[1;32m    520\u001B[0m \u001B[38;5;28;01mif\u001B[39;00m data\u001B[38;5;241m.\u001B[39mdtype\u001B[38;5;241m.\u001B[39mkind \u001B[38;5;129;01min\u001B[39;00m [\u001B[38;5;124m\"\u001B[39m\u001B[38;5;124mi\u001B[39m\u001B[38;5;124m\"\u001B[39m, \u001B[38;5;124m\"\u001B[39m\u001B[38;5;124mu\u001B[39m\u001B[38;5;124m\"\u001B[39m, \u001B[38;5;124m\"\u001B[39m\u001B[38;5;124mf\u001B[39m\u001B[38;5;124m\"\u001B[39m]:\n\u001B[1;32m    521\u001B[0m     \u001B[38;5;66;03m# maybe coerce to a sub-class\u001B[39;00m\n",
      "File \u001B[0;32m~/anaconda3/envs/DMS/lib/python3.10/site-packages/pandas/core/construction.py:597\u001B[0m, in \u001B[0;36msanitize_array\u001B[0;34m(data, index, dtype, copy, raise_cast_failure, allow_2d)\u001B[0m\n\u001B[1;32m    594\u001B[0m             subarr \u001B[38;5;241m=\u001B[39m np\u001B[38;5;241m.\u001B[39marray(data, copy\u001B[38;5;241m=\u001B[39mcopy)\n\u001B[1;32m    595\u001B[0m     \u001B[38;5;28;01melse\u001B[39;00m:\n\u001B[1;32m    596\u001B[0m         \u001B[38;5;66;03m# we will try to copy by-definition here\u001B[39;00m\n\u001B[0;32m--> 597\u001B[0m         subarr \u001B[38;5;241m=\u001B[39m \u001B[43m_try_cast\u001B[49m\u001B[43m(\u001B[49m\u001B[43mdata\u001B[49m\u001B[43m,\u001B[49m\u001B[43m \u001B[49m\u001B[43mdtype\u001B[49m\u001B[43m,\u001B[49m\u001B[43m \u001B[49m\u001B[43mcopy\u001B[49m\u001B[43m,\u001B[49m\u001B[43m \u001B[49m\u001B[43mraise_cast_failure\u001B[49m\u001B[43m)\u001B[49m\n\u001B[1;32m    599\u001B[0m \u001B[38;5;28;01melif\u001B[39;00m \u001B[38;5;28misinstance\u001B[39m(data, ABCExtensionArray):\n\u001B[1;32m    600\u001B[0m     \u001B[38;5;66;03m# it is already ensured above this is not a PandasArray\u001B[39;00m\n\u001B[1;32m    601\u001B[0m     subarr \u001B[38;5;241m=\u001B[39m data\n",
      "File \u001B[0;32m~/anaconda3/envs/DMS/lib/python3.10/site-packages/pandas/core/construction.py:835\u001B[0m, in \u001B[0;36m_try_cast\u001B[0;34m(arr, dtype, copy, raise_cast_failure)\u001B[0m\n\u001B[1;32m    829\u001B[0m \u001B[38;5;28;01mtry\u001B[39;00m:\n\u001B[1;32m    830\u001B[0m     \u001B[38;5;66;03m# GH#15832: Check if we are requesting a numeric dtype and\u001B[39;00m\n\u001B[1;32m    831\u001B[0m     \u001B[38;5;66;03m# that we can convert the data to the requested dtype.\u001B[39;00m\n\u001B[1;32m    832\u001B[0m     \u001B[38;5;28;01mif\u001B[39;00m is_integer_dtype(dtype):\n\u001B[1;32m    833\u001B[0m         \u001B[38;5;66;03m# this will raise if we have e.g. floats\u001B[39;00m\n\u001B[0;32m--> 835\u001B[0m         subarr \u001B[38;5;241m=\u001B[39m \u001B[43mmaybe_cast_to_integer_array\u001B[49m\u001B[43m(\u001B[49m\u001B[43marr\u001B[49m\u001B[43m,\u001B[49m\u001B[43m \u001B[49m\u001B[43mdtype\u001B[49m\u001B[43m)\u001B[49m\n\u001B[1;32m    836\u001B[0m     \u001B[38;5;28;01melse\u001B[39;00m:\n\u001B[1;32m    837\u001B[0m         \u001B[38;5;66;03m# 4 tests fail if we move this to a try/except/else; see\u001B[39;00m\n\u001B[1;32m    838\u001B[0m         \u001B[38;5;66;03m#  test_constructor_compound_dtypes, test_constructor_cast_failure\u001B[39;00m\n\u001B[1;32m    839\u001B[0m         \u001B[38;5;66;03m#  test_constructor_dict_cast2, test_loc_setitem_dtype\u001B[39;00m\n\u001B[1;32m    840\u001B[0m         subarr \u001B[38;5;241m=\u001B[39m np\u001B[38;5;241m.\u001B[39marray(arr, dtype\u001B[38;5;241m=\u001B[39mdtype, copy\u001B[38;5;241m=\u001B[39mcopy)\n",
      "File \u001B[0;32m~/anaconda3/envs/DMS/lib/python3.10/site-packages/pandas/core/dtypes/cast.py:1843\u001B[0m, in \u001B[0;36mmaybe_cast_to_integer_array\u001B[0;34m(arr, dtype, copy)\u001B[0m\n\u001B[1;32m   1837\u001B[0m \u001B[38;5;28;01mexcept\u001B[39;00m \u001B[38;5;167;01mOverflowError\u001B[39;00m \u001B[38;5;28;01mas\u001B[39;00m err:\n\u001B[1;32m   1838\u001B[0m     \u001B[38;5;28;01mraise\u001B[39;00m \u001B[38;5;167;01mOverflowError\u001B[39;00m(\n\u001B[1;32m   1839\u001B[0m         \u001B[38;5;124m\"\u001B[39m\u001B[38;5;124mThe elements provided in the data cannot all be \u001B[39m\u001B[38;5;124m\"\u001B[39m\n\u001B[1;32m   1840\u001B[0m         \u001B[38;5;124mf\u001B[39m\u001B[38;5;124m\"\u001B[39m\u001B[38;5;124mcasted to the dtype \u001B[39m\u001B[38;5;132;01m{\u001B[39;00mdtype\u001B[38;5;132;01m}\u001B[39;00m\u001B[38;5;124m\"\u001B[39m\n\u001B[1;32m   1841\u001B[0m     ) \u001B[38;5;28;01mfrom\u001B[39;00m \u001B[38;5;21;01merr\u001B[39;00m\n\u001B[0;32m-> 1843\u001B[0m \u001B[38;5;28;01mif\u001B[39;00m \u001B[43mnp\u001B[49m\u001B[38;5;241;43m.\u001B[39;49m\u001B[43marray_equal\u001B[49m\u001B[43m(\u001B[49m\u001B[43marr\u001B[49m\u001B[43m,\u001B[49m\u001B[43m \u001B[49m\u001B[43mcasted\u001B[49m\u001B[43m)\u001B[49m:\n\u001B[1;32m   1844\u001B[0m     \u001B[38;5;28;01mreturn\u001B[39;00m casted\n\u001B[1;32m   1846\u001B[0m \u001B[38;5;66;03m# We do this casting to allow for proper\u001B[39;00m\n\u001B[1;32m   1847\u001B[0m \u001B[38;5;66;03m# data and dtype checking.\u001B[39;00m\n\u001B[1;32m   1848\u001B[0m \u001B[38;5;66;03m#\u001B[39;00m\n\u001B[1;32m   1849\u001B[0m \u001B[38;5;66;03m# We didn't do this earlier because NumPy\u001B[39;00m\n\u001B[1;32m   1850\u001B[0m \u001B[38;5;66;03m# doesn't handle `uint64` correctly.\u001B[39;00m\n",
      "File \u001B[0;32m<__array_function__ internals>:200\u001B[0m, in \u001B[0;36marray_equal\u001B[0;34m(*args, **kwargs)\u001B[0m\n",
      "File \u001B[0;32m~/anaconda3/envs/DMS/lib/python3.10/site-packages/numpy/core/numeric.py:2468\u001B[0m, in \u001B[0;36marray_equal\u001B[0;34m(a1, a2, equal_nan)\u001B[0m\n\u001B[1;32m   2466\u001B[0m     \u001B[38;5;28;01mreturn\u001B[39;00m \u001B[38;5;28;01mFalse\u001B[39;00m\n\u001B[1;32m   2467\u001B[0m \u001B[38;5;28;01mif\u001B[39;00m \u001B[38;5;129;01mnot\u001B[39;00m equal_nan:\n\u001B[0;32m-> 2468\u001B[0m     \u001B[38;5;28;01mreturn\u001B[39;00m \u001B[38;5;28mbool\u001B[39m(\u001B[43masarray\u001B[49m\u001B[43m(\u001B[49m\u001B[43ma1\u001B[49m\u001B[43m \u001B[49m\u001B[38;5;241;43m==\u001B[39;49m\u001B[43m \u001B[49m\u001B[43ma2\u001B[49m\u001B[43m)\u001B[49m\u001B[38;5;241;43m.\u001B[39;49m\u001B[43mall\u001B[49m\u001B[43m(\u001B[49m\u001B[43m)\u001B[49m)\n\u001B[1;32m   2469\u001B[0m \u001B[38;5;66;03m# Handling NaN values if equal_nan is True\u001B[39;00m\n\u001B[1;32m   2470\u001B[0m a1nan, a2nan \u001B[38;5;241m=\u001B[39m isnan(a1), isnan(a2)\n",
      "File \u001B[0;32m~/anaconda3/envs/DMS/lib/python3.10/site-packages/numpy/core/_methods.py:64\u001B[0m, in \u001B[0;36m_all\u001B[0;34m(a, axis, dtype, out, keepdims, where)\u001B[0m\n\u001B[1;32m     61\u001B[0m \u001B[38;5;28;01mdef\u001B[39;00m \u001B[38;5;21m_all\u001B[39m(a, axis\u001B[38;5;241m=\u001B[39m\u001B[38;5;28;01mNone\u001B[39;00m, dtype\u001B[38;5;241m=\u001B[39m\u001B[38;5;28;01mNone\u001B[39;00m, out\u001B[38;5;241m=\u001B[39m\u001B[38;5;28;01mNone\u001B[39;00m, keepdims\u001B[38;5;241m=\u001B[39m\u001B[38;5;28;01mFalse\u001B[39;00m, \u001B[38;5;241m*\u001B[39m, where\u001B[38;5;241m=\u001B[39m\u001B[38;5;28;01mTrue\u001B[39;00m):\n\u001B[1;32m     62\u001B[0m     \u001B[38;5;66;03m# Parsing keyword arguments is currently fairly slow, so avoid it for now\u001B[39;00m\n\u001B[1;32m     63\u001B[0m     \u001B[38;5;28;01mif\u001B[39;00m where \u001B[38;5;129;01mis\u001B[39;00m \u001B[38;5;28;01mTrue\u001B[39;00m:\n\u001B[0;32m---> 64\u001B[0m         \u001B[38;5;28;01mreturn\u001B[39;00m \u001B[43mumr_all\u001B[49m\u001B[43m(\u001B[49m\u001B[43ma\u001B[49m\u001B[43m,\u001B[49m\u001B[43m \u001B[49m\u001B[43maxis\u001B[49m\u001B[43m,\u001B[49m\u001B[43m \u001B[49m\u001B[43mdtype\u001B[49m\u001B[43m,\u001B[49m\u001B[43m \u001B[49m\u001B[43mout\u001B[49m\u001B[43m,\u001B[49m\u001B[43m \u001B[49m\u001B[43mkeepdims\u001B[49m\u001B[43m)\u001B[49m\n\u001B[1;32m     65\u001B[0m     \u001B[38;5;28;01mreturn\u001B[39;00m umr_all(a, axis, dtype, out, keepdims, where\u001B[38;5;241m=\u001B[39mwhere)\n",
      "\u001B[0;31mRecursionError\u001B[0m: maximum recursion depth exceeded in comparison"
     ]
    }
   ],
   "source": [],
   "metadata": {
    "collapsed": false,
    "ExecuteTime": {
     "end_time": "2023-06-14T21:05:26.855169Z",
     "start_time": "2023-06-14T21:05:25.344445Z"
    }
   }
  }
 ],
 "metadata": {
  "kernelspec": {
   "display_name": "Python 3",
   "language": "python",
   "name": "python3"
  },
  "language_info": {
   "codemirror_mode": {
    "name": "ipython",
    "version": 2
   },
   "file_extension": ".py",
   "mimetype": "text/x-python",
   "name": "python",
   "nbconvert_exporter": "python",
   "pygments_lexer": "ipython2",
   "version": "2.7.6"
  }
 },
 "nbformat": 4,
 "nbformat_minor": 0
}
