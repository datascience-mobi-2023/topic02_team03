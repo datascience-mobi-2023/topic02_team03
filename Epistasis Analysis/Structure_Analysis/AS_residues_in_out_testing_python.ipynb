{
 "cells": [
  {
   "cell_type": "code",
   "execution_count": 6,
   "metadata": {
    "collapsed": true,
    "ExecuteTime": {
     "end_time": "2023-07-16T13:35:49.817353Z",
     "start_time": "2023-07-16T13:35:49.675291Z"
    }
   },
   "outputs": [],
   "source": [
    "import pandas as pd\n",
    "\n",
    "# read dataset\n",
    "df = pd.read_csv('/Users/tianxinangelama/Documents/Studium/4. FS/DMS/DMS_data/GFP_AEQVI_Sarkisyan_2016.csv')"
   ]
  },
  {
   "cell_type": "code",
   "execution_count": 10,
   "outputs": [
    {
     "ename": "ImportError",
     "evalue": "cannot import name 'reduce_df_to_DMSscore_mutations' from 'AS_residues_in_out' (/Users/tianxinangelama/Documents/GitHub/topic02_team03/Epistasis Analysis/Structure_Analysis/AS_residues_in_out.py)",
     "output_type": "error",
     "traceback": [
      "\u001B[0;31m---------------------------------------------------------------------------\u001B[0m",
      "\u001B[0;31mImportError\u001B[0m                               Traceback (most recent call last)",
      "Cell \u001B[0;32mIn[10], line 2\u001B[0m\n\u001B[1;32m      1\u001B[0m \u001B[38;5;28;01mfrom\u001B[39;00m \u001B[38;5;21;01mAS_residues_in_out\u001B[39;00m \u001B[38;5;28;01mimport\u001B[39;00m split_m1_to_m15\n\u001B[0;32m----> 2\u001B[0m \u001B[38;5;28;01mfrom\u001B[39;00m \u001B[38;5;21;01mAS_residues_in_out\u001B[39;00m \u001B[38;5;28;01mimport\u001B[39;00m reduce_df_to_DMSscore_mutations\n",
      "\u001B[0;31mImportError\u001B[0m: cannot import name 'reduce_df_to_DMSscore_mutations' from 'AS_residues_in_out' (/Users/tianxinangelama/Documents/GitHub/topic02_team03/Epistasis Analysis/Structure_Analysis/AS_residues_in_out.py)"
     ]
    }
   ],
   "source": [
    "from AS_residues_in_out import split_m1_to_m15\n",
    "from AS_residues_in_out import reduce_df_to_DMSscore_mutations"
   ],
   "metadata": {
    "collapsed": false,
    "ExecuteTime": {
     "end_time": "2023-07-16T13:38:10.046957Z",
     "start_time": "2023-07-16T13:38:10.022268Z"
    }
   }
  },
  {
   "cell_type": "code",
   "execution_count": 8,
   "outputs": [
    {
     "name": "stderr",
     "output_type": "stream",
     "text": [
      "/Users/tianxinangelama/Documents/GitHub/topic02_team03/Epistasis Analysis/Structure_Analysis/AS_residues_in_out.py:4: FutureWarning: In a future version of pandas all arguments of StringMethods.split except for the argument 'pat' will be keyword-only.\n",
      "  df['mutant'].str.split(':', 14, expand=True)\n"
     ]
    },
    {
     "data": {
      "text/plain": "                                      mutant  \\\n0      K3R:V55A:Q94R:A110T:D117G:M153K:D216A   \n1                       K3Q:V16A:I167T:L195Q   \n2                K3Q:Y143C:N164D:S205P:A227T   \n3                            K3Q:Y143N:V193A   \n4                                        K3R   \n...                                      ...   \n51709                                  Y237N   \n51710                                  Y237C   \n51711                                  Y237D   \n51712                                  Y237F   \n51713                                  Y237H   \n\n                                        mutated_sequence  DMS_score  \\\n0      MSRGEELFTGVVPILVELDGDVNGHKFSVSGEGEGDATYGKLTLKF...   1.301030   \n1      MSQGEELFTGVVPILAELDGDVNGHKFSVSGEGEGDATYGKLTLKF...   3.137350   \n2      MSQGEELFTGVVPILVELDGDVNGHKFSVSGEGEGDATYGKLTLKF...   1.553913   \n3      MSQGEELFTGVVPILVELDGDVNGHKFSVSGEGEGDATYGKLTLKF...   3.404237   \n4      MSRGEELFTGVVPILVELDGDVNGHKFSVSGEGEGDATYGKLTLKF...   3.738586   \n...                                                  ...        ...   \n51709  MSKGEELFTGVVPILVELDGDVNGHKFSVSGEGEGDATYGKLTLKF...   3.809468   \n51710  MSKGEELFTGVVPILVELDGDVNGHKFSVSGEGEGDATYGKLTLKF...   3.760217   \n51711  MSKGEELFTGVVPILVELDGDVNGHKFSVSGEGEGDATYGKLTLKF...   3.754101   \n51712  MSKGEELFTGVVPILVELDGDVNGHKFSVSGEGEGDATYGKLTLKF...   3.673173   \n51713  MSKGEELFTGVVPILVELDGDVNGHKFSVSGEGEGDATYGKLTLKF...   3.735417   \n\n       DMS_score_bin     m1     m2     m3     m4     m5     m6     m7    m8  \\\n0                  0    K3R   V55A   Q94R  A110T  D117G  M153K  D216A  None   \n1                  1    K3Q   V16A  I167T  L195Q   None   None   None  None   \n2                  0    K3Q  Y143C  N164D  S205P  A227T   None   None  None   \n3                  1    K3Q  Y143N  V193A   None   None   None   None  None   \n4                  1    K3R   None   None   None   None   None   None  None   \n...              ...    ...    ...    ...    ...    ...    ...    ...   ...   \n51709              1  Y237N   None   None   None   None   None   None  None   \n51710              1  Y237C   None   None   None   None   None   None  None   \n51711              1  Y237D   None   None   None   None   None   None  None   \n51712              1  Y237F   None   None   None   None   None   None  None   \n51713              1  Y237H   None   None   None   None   None   None  None   \n\n         m9   m10   m11   m12   m13   m14   m15  \n0      None  None  None  None  None  None  None  \n1      None  None  None  None  None  None  None  \n2      None  None  None  None  None  None  None  \n3      None  None  None  None  None  None  None  \n4      None  None  None  None  None  None  None  \n...     ...   ...   ...   ...   ...   ...   ...  \n51709  None  None  None  None  None  None  None  \n51710  None  None  None  None  None  None  None  \n51711  None  None  None  None  None  None  None  \n51712  None  None  None  None  None  None  None  \n51713  None  None  None  None  None  None  None  \n\n[51714 rows x 19 columns]",
      "text/html": "<div>\n<style scoped>\n    .dataframe tbody tr th:only-of-type {\n        vertical-align: middle;\n    }\n\n    .dataframe tbody tr th {\n        vertical-align: top;\n    }\n\n    .dataframe thead th {\n        text-align: right;\n    }\n</style>\n<table border=\"1\" class=\"dataframe\">\n  <thead>\n    <tr style=\"text-align: right;\">\n      <th></th>\n      <th>mutant</th>\n      <th>mutated_sequence</th>\n      <th>DMS_score</th>\n      <th>DMS_score_bin</th>\n      <th>m1</th>\n      <th>m2</th>\n      <th>m3</th>\n      <th>m4</th>\n      <th>m5</th>\n      <th>m6</th>\n      <th>m7</th>\n      <th>m8</th>\n      <th>m9</th>\n      <th>m10</th>\n      <th>m11</th>\n      <th>m12</th>\n      <th>m13</th>\n      <th>m14</th>\n      <th>m15</th>\n    </tr>\n  </thead>\n  <tbody>\n    <tr>\n      <th>0</th>\n      <td>K3R:V55A:Q94R:A110T:D117G:M153K:D216A</td>\n      <td>MSRGEELFTGVVPILVELDGDVNGHKFSVSGEGEGDATYGKLTLKF...</td>\n      <td>1.301030</td>\n      <td>0</td>\n      <td>K3R</td>\n      <td>V55A</td>\n      <td>Q94R</td>\n      <td>A110T</td>\n      <td>D117G</td>\n      <td>M153K</td>\n      <td>D216A</td>\n      <td>None</td>\n      <td>None</td>\n      <td>None</td>\n      <td>None</td>\n      <td>None</td>\n      <td>None</td>\n      <td>None</td>\n      <td>None</td>\n    </tr>\n    <tr>\n      <th>1</th>\n      <td>K3Q:V16A:I167T:L195Q</td>\n      <td>MSQGEELFTGVVPILAELDGDVNGHKFSVSGEGEGDATYGKLTLKF...</td>\n      <td>3.137350</td>\n      <td>1</td>\n      <td>K3Q</td>\n      <td>V16A</td>\n      <td>I167T</td>\n      <td>L195Q</td>\n      <td>None</td>\n      <td>None</td>\n      <td>None</td>\n      <td>None</td>\n      <td>None</td>\n      <td>None</td>\n      <td>None</td>\n      <td>None</td>\n      <td>None</td>\n      <td>None</td>\n      <td>None</td>\n    </tr>\n    <tr>\n      <th>2</th>\n      <td>K3Q:Y143C:N164D:S205P:A227T</td>\n      <td>MSQGEELFTGVVPILVELDGDVNGHKFSVSGEGEGDATYGKLTLKF...</td>\n      <td>1.553913</td>\n      <td>0</td>\n      <td>K3Q</td>\n      <td>Y143C</td>\n      <td>N164D</td>\n      <td>S205P</td>\n      <td>A227T</td>\n      <td>None</td>\n      <td>None</td>\n      <td>None</td>\n      <td>None</td>\n      <td>None</td>\n      <td>None</td>\n      <td>None</td>\n      <td>None</td>\n      <td>None</td>\n      <td>None</td>\n    </tr>\n    <tr>\n      <th>3</th>\n      <td>K3Q:Y143N:V193A</td>\n      <td>MSQGEELFTGVVPILVELDGDVNGHKFSVSGEGEGDATYGKLTLKF...</td>\n      <td>3.404237</td>\n      <td>1</td>\n      <td>K3Q</td>\n      <td>Y143N</td>\n      <td>V193A</td>\n      <td>None</td>\n      <td>None</td>\n      <td>None</td>\n      <td>None</td>\n      <td>None</td>\n      <td>None</td>\n      <td>None</td>\n      <td>None</td>\n      <td>None</td>\n      <td>None</td>\n      <td>None</td>\n      <td>None</td>\n    </tr>\n    <tr>\n      <th>4</th>\n      <td>K3R</td>\n      <td>MSRGEELFTGVVPILVELDGDVNGHKFSVSGEGEGDATYGKLTLKF...</td>\n      <td>3.738586</td>\n      <td>1</td>\n      <td>K3R</td>\n      <td>None</td>\n      <td>None</td>\n      <td>None</td>\n      <td>None</td>\n      <td>None</td>\n      <td>None</td>\n      <td>None</td>\n      <td>None</td>\n      <td>None</td>\n      <td>None</td>\n      <td>None</td>\n      <td>None</td>\n      <td>None</td>\n      <td>None</td>\n    </tr>\n    <tr>\n      <th>...</th>\n      <td>...</td>\n      <td>...</td>\n      <td>...</td>\n      <td>...</td>\n      <td>...</td>\n      <td>...</td>\n      <td>...</td>\n      <td>...</td>\n      <td>...</td>\n      <td>...</td>\n      <td>...</td>\n      <td>...</td>\n      <td>...</td>\n      <td>...</td>\n      <td>...</td>\n      <td>...</td>\n      <td>...</td>\n      <td>...</td>\n      <td>...</td>\n    </tr>\n    <tr>\n      <th>51709</th>\n      <td>Y237N</td>\n      <td>MSKGEELFTGVVPILVELDGDVNGHKFSVSGEGEGDATYGKLTLKF...</td>\n      <td>3.809468</td>\n      <td>1</td>\n      <td>Y237N</td>\n      <td>None</td>\n      <td>None</td>\n      <td>None</td>\n      <td>None</td>\n      <td>None</td>\n      <td>None</td>\n      <td>None</td>\n      <td>None</td>\n      <td>None</td>\n      <td>None</td>\n      <td>None</td>\n      <td>None</td>\n      <td>None</td>\n      <td>None</td>\n    </tr>\n    <tr>\n      <th>51710</th>\n      <td>Y237C</td>\n      <td>MSKGEELFTGVVPILVELDGDVNGHKFSVSGEGEGDATYGKLTLKF...</td>\n      <td>3.760217</td>\n      <td>1</td>\n      <td>Y237C</td>\n      <td>None</td>\n      <td>None</td>\n      <td>None</td>\n      <td>None</td>\n      <td>None</td>\n      <td>None</td>\n      <td>None</td>\n      <td>None</td>\n      <td>None</td>\n      <td>None</td>\n      <td>None</td>\n      <td>None</td>\n      <td>None</td>\n      <td>None</td>\n    </tr>\n    <tr>\n      <th>51711</th>\n      <td>Y237D</td>\n      <td>MSKGEELFTGVVPILVELDGDVNGHKFSVSGEGEGDATYGKLTLKF...</td>\n      <td>3.754101</td>\n      <td>1</td>\n      <td>Y237D</td>\n      <td>None</td>\n      <td>None</td>\n      <td>None</td>\n      <td>None</td>\n      <td>None</td>\n      <td>None</td>\n      <td>None</td>\n      <td>None</td>\n      <td>None</td>\n      <td>None</td>\n      <td>None</td>\n      <td>None</td>\n      <td>None</td>\n      <td>None</td>\n    </tr>\n    <tr>\n      <th>51712</th>\n      <td>Y237F</td>\n      <td>MSKGEELFTGVVPILVELDGDVNGHKFSVSGEGEGDATYGKLTLKF...</td>\n      <td>3.673173</td>\n      <td>1</td>\n      <td>Y237F</td>\n      <td>None</td>\n      <td>None</td>\n      <td>None</td>\n      <td>None</td>\n      <td>None</td>\n      <td>None</td>\n      <td>None</td>\n      <td>None</td>\n      <td>None</td>\n      <td>None</td>\n      <td>None</td>\n      <td>None</td>\n      <td>None</td>\n      <td>None</td>\n    </tr>\n    <tr>\n      <th>51713</th>\n      <td>Y237H</td>\n      <td>MSKGEELFTGVVPILVELDGDVNGHKFSVSGEGEGDATYGKLTLKF...</td>\n      <td>3.735417</td>\n      <td>1</td>\n      <td>Y237H</td>\n      <td>None</td>\n      <td>None</td>\n      <td>None</td>\n      <td>None</td>\n      <td>None</td>\n      <td>None</td>\n      <td>None</td>\n      <td>None</td>\n      <td>None</td>\n      <td>None</td>\n      <td>None</td>\n      <td>None</td>\n      <td>None</td>\n      <td>None</td>\n    </tr>\n  </tbody>\n</table>\n<p>51714 rows × 19 columns</p>\n</div>"
     },
     "execution_count": 8,
     "metadata": {},
     "output_type": "execute_result"
    }
   ],
   "source": [
    "# split into multiple columns, 1 column for every mutation\n",
    "# copy df\n",
    "df_ind_col = df.copy()\n",
    "\n",
    "# split\n",
    "split_m1_to_m15(df_ind_col)"
   ],
   "metadata": {
    "collapsed": false,
    "ExecuteTime": {
     "end_time": "2023-07-16T13:35:52.647015Z",
     "start_time": "2023-07-16T13:35:52.573687Z"
    }
   }
  },
  {
   "cell_type": "code",
   "execution_count": 3,
   "outputs": [],
   "source": [
    "# df with single mutation mutants, only position and DMS_score\n",
    "# copy df\n",
    "df_single = df_ind_col.copy()\n",
    "\n",
    "# remain rows with None in m2\n",
    "df_single = df_single[df_single['m2'].isnull()]\n",
    "\n",
    "# delete columns m2 to m15 and mutant, mutated_sequence, DMS_score_bin\n",
    "df_single = df_single.drop(\n",
    "    columns=['m2', 'm3', 'm4', 'm5', 'm6', 'm7', 'm8', 'm9', 'm10', 'm11', 'm12', 'm13', 'm14', 'm15', 'mutant',\n",
    "             'mutated_sequence', 'DMS_score_bin'])"
   ],
   "metadata": {
    "collapsed": false,
    "ExecuteTime": {
     "end_time": "2023-07-15T17:30:46.753478Z",
     "start_time": "2023-07-15T17:30:46.715818Z"
    }
   }
  },
  {
   "cell_type": "code",
   "execution_count": 4,
   "outputs": [],
   "source": [
    "# df with double mutations mutants, only position and DMS_score\n",
    "# copy df\n",
    "df_double = df_ind_col.copy()\n",
    "\n",
    "# remain rows with None in m3 and value in m2\n",
    "df_double = df_double[df_double['m3'].isnull() & df_double['m2'].notnull()]\n",
    "\n",
    "# delete columns m3 to m15 and mutant, mutated_sequence, DMS_score_bin\n",
    "df_double = df_double.drop(\n",
    "    columns=['m3', 'm4', 'm5', 'm6', 'm7', 'm8', 'm9', 'm10', 'm11', 'm12', 'm13', 'm14', 'm15', 'mutant',\n",
    "             'mutated_sequence', 'DMS_score_bin'])"
   ],
   "metadata": {
    "collapsed": false,
    "ExecuteTime": {
     "end_time": "2023-07-15T17:30:52.411343Z",
     "start_time": "2023-07-15T17:30:52.369041Z"
    }
   }
  },
  {
   "cell_type": "code",
   "execution_count": 5,
   "outputs": [
    {
     "name": "stdout",
     "output_type": "stream",
     "text": [
      "       DMS_score     m1     m2 score_single_1 score_single_2\n",
      "13      3.716293    K3R  D133A                              \n",
      "41      3.833353    K3N   S30Y                              \n",
      "45      3.553744    K3N  V150A                              \n",
      "53      3.688150    K3Q    E5V                              \n",
      "56      3.619344    K3Q  K101R                              \n",
      "...          ...    ...    ...            ...            ...\n",
      "51688   3.577787  M233K  D234G                              \n",
      "51691   3.744741  D234G  L236P                              \n",
      "51694   3.865135  D234V  Y237H                              \n",
      "51696   3.693903  D234G  E235V                              \n",
      "51699   3.862731  E235G  L236P                              \n",
      "\n",
      "[12777 rows x 5 columns]\n"
     ]
    }
   ],
   "source": [
    "# add new empty columns 'score_single_1' and 'score_single_2' to df_double_only_position_m1\n",
    "df_double['score_single_1'] = ''\n",
    "df_double['score_single_2'] = ''\n",
    "\n",
    "print(df_double)"
   ],
   "metadata": {
    "collapsed": false,
    "ExecuteTime": {
     "end_time": "2023-07-15T17:30:57.330345Z",
     "start_time": "2023-07-15T17:30:57.316175Z"
    }
   }
  },
  {
   "cell_type": "code",
   "execution_count": 6,
   "outputs": [
    {
     "name": "stdout",
     "output_type": "stream",
     "text": [
      "       DMS_score     m1     m2 score_single_1 score_single_2\n",
      "13      3.716293    K3R  D133A       3.738586               \n",
      "41      3.833353    K3N   S30Y                              \n",
      "45      3.553744    K3N  V150A                              \n",
      "53      3.688150    K3Q    E5V       3.750487               \n",
      "56      3.619344    K3Q  K101R       3.750487               \n",
      "...          ...    ...    ...            ...            ...\n",
      "51688   3.577787  M233K  D234G       3.684742               \n",
      "51691   3.744741  D234G  L236P       3.706313               \n",
      "51694   3.865135  D234V  Y237H       3.608266               \n",
      "51696   3.693903  D234G  E235V       3.706313               \n",
      "51699   3.862731  E235G  L236P       3.727375               \n",
      "\n",
      "[12777 rows x 5 columns]\n"
     ]
    }
   ],
   "source": [
    "# compare m1 from df_double with m1 from df_single, add value from DMS_score (df_single) to score_single_1 of df_double\n",
    "for index, row in df_double.iterrows():\n",
    "    for index2, row2 in df_single.iterrows():\n",
    "        if row['m1'] == row2['m1']:\n",
    "            df_double.loc[index, 'score_single_1'] = row2['DMS_score']\n",
    "\n",
    "print(df_double)"
   ],
   "metadata": {
    "collapsed": false,
    "ExecuteTime": {
     "end_time": "2023-07-15T17:34:07.881194Z",
     "start_time": "2023-07-15T17:31:05.538452Z"
    }
   }
  },
  {
   "cell_type": "code",
   "execution_count": 7,
   "outputs": [
    {
     "name": "stdout",
     "output_type": "stream",
     "text": [
      "       DMS_score     m1     m2 score_single_1 score_single_2\n",
      "13      3.716293    K3R  D133A       3.738586       3.540905\n",
      "41      3.833353    K3N   S30Y                      3.752408\n",
      "45      3.553744    K3N  V150A                       3.63642\n",
      "53      3.688150    K3Q    E5V       3.750487       3.693551\n",
      "56      3.619344    K3Q  K101R       3.750487       3.677711\n",
      "...          ...    ...    ...            ...            ...\n",
      "51688   3.577787  M233K  D234G       3.684742       3.706313\n",
      "51691   3.744741  D234G  L236P       3.706313       3.706238\n",
      "51694   3.865135  D234V  Y237H       3.608266       3.735417\n",
      "51696   3.693903  D234G  E235V       3.706313       3.712191\n",
      "51699   3.862731  E235G  L236P       3.727375       3.706238\n",
      "\n",
      "[12777 rows x 5 columns]\n"
     ]
    }
   ],
   "source": [
    "# compare m2 from df_double with m1 from df_single, add value from DMS_score (df_single) to score_single_2 of df_double\n",
    "for index, row in df_double.iterrows():\n",
    "    for index2, row2 in df_single.iterrows():\n",
    "        if row['m2'] == row2['m1']:\n",
    "            df_double.loc[index, 'score_single_2'] = row2['DMS_score']\n",
    "\n",
    "print(df_double)"
   ],
   "metadata": {
    "collapsed": false,
    "ExecuteTime": {
     "end_time": "2023-07-15T17:37:09.418699Z",
     "start_time": "2023-07-15T17:34:07.879011Z"
    }
   }
  },
  {
   "cell_type": "code",
   "execution_count": 8,
   "outputs": [
    {
     "name": "stdout",
     "output_type": "stream",
     "text": [
      "       DMS_score     m1     m2 score_single_1 score_single_2\n",
      "13      3.716293    K3R  D133A       3.738586       3.540905\n",
      "53      3.688150    K3Q    E5V       3.750487       3.693551\n",
      "56      3.619344    K3Q  K101R       3.750487       3.677711\n",
      "63      1.301030    K3Q  Q183L       3.750487       1.442357\n",
      "73      3.970988    K3R   E34V       3.738586       3.758329\n",
      "...          ...    ...    ...            ...            ...\n",
      "51688   3.577787  M233K  D234G       3.684742       3.706313\n",
      "51691   3.744741  D234G  L236P       3.706313       3.706238\n",
      "51694   3.865135  D234V  Y237H       3.608266       3.735417\n",
      "51696   3.693903  D234G  E235V       3.706313       3.712191\n",
      "51699   3.862731  E235G  L236P       3.727375       3.706238\n",
      "\n",
      "[11954 rows x 5 columns]\n"
     ]
    }
   ],
   "source": [
    "# delete rows with empty values in score_single_1 or score_single_2\n",
    "df_double = df_double[(df_double['score_single_1'] != '') & (df_double['score_single_2'] != '')]\n",
    "\n",
    "print(df_double)"
   ],
   "metadata": {
    "collapsed": false,
    "ExecuteTime": {
     "end_time": "2023-07-15T17:37:09.433131Z",
     "start_time": "2023-07-15T17:37:09.417904Z"
    }
   }
  },
  {
   "cell_type": "markdown",
   "source": [
    "### assign in/out to each mutation"
   ],
   "metadata": {
    "collapsed": false
   }
  },
  {
   "cell_type": "code",
   "execution_count": 9,
   "outputs": [],
   "source": [
    "# import excel sheet (postion of mutation, in/out)\n",
    "df_in_out = pd.read_excel('/Users/tianxinangelama/Documents/Studium/4. FS/DMS/AS_residues.xlsx', sheet_name='Sheet2')"
   ],
   "metadata": {
    "collapsed": false,
    "ExecuteTime": {
     "end_time": "2023-07-15T17:37:09.569771Z",
     "start_time": "2023-07-15T17:37:09.428126Z"
    }
   }
  },
  {
   "cell_type": "code",
   "execution_count": 10,
   "outputs": [],
   "source": [
    "# create a list with all positions with buried residues, these positions have value '1' in column 'in(1)/out(0)'\n",
    "positions_in = df_in_out[df_in_out['in(1)/out(0)'] == 1]['position'].tolist()"
   ],
   "metadata": {
    "collapsed": false,
    "ExecuteTime": {
     "end_time": "2023-07-15T17:37:09.572038Z",
     "start_time": "2023-07-15T17:37:09.570372Z"
    }
   }
  },
  {
   "cell_type": "code",
   "execution_count": 11,
   "outputs": [],
   "source": [
    "# change data type of value from list positions_in to string\n",
    "positions_in = [str(i) for i in positions_in]\n"
   ],
   "metadata": {
    "collapsed": false,
    "ExecuteTime": {
     "end_time": "2023-07-15T17:37:09.582815Z",
     "start_time": "2023-07-15T17:37:09.572520Z"
    }
   }
  },
  {
   "cell_type": "code",
   "execution_count": 12,
   "outputs": [],
   "source": [
    "# add columns 'position_m1' and 'position_m2' to df_double\n",
    "df_double['position_m1'] = df_double['m1'].str[1:-1]\n",
    "df_double['position_m2'] = df_double['m2'].str[1:-1]"
   ],
   "metadata": {
    "collapsed": false,
    "ExecuteTime": {
     "end_time": "2023-07-15T17:37:09.583011Z",
     "start_time": "2023-07-15T17:37:09.578314Z"
    }
   }
  },
  {
   "cell_type": "code",
   "execution_count": 13,
   "outputs": [],
   "source": [
    "# add empty columns 'm1_in/out' and 'm2_in/out' to df_double\n",
    "df_double['m1_in/out'] = ''\n",
    "df_double['m2_in/out'] = ''"
   ],
   "metadata": {
    "collapsed": false,
    "ExecuteTime": {
     "end_time": "2023-07-15T17:37:09.583079Z",
     "start_time": "2023-07-15T17:37:09.580489Z"
    }
   }
  },
  {
   "cell_type": "code",
   "execution_count": 14,
   "outputs": [],
   "source": [
    "# assign in/out to m1_in/out\n",
    "for index, row in df_double.iterrows():\n",
    "    if row['position_m1'] in positions_in:\n",
    "        df_double.loc[index, 'm1_in/out'] = 'in'\n",
    "    else:\n",
    "        df_double.loc[index, 'm1_in/out'] = 'out'"
   ],
   "metadata": {
    "collapsed": false,
    "ExecuteTime": {
     "end_time": "2023-07-15T17:37:10.760343Z",
     "start_time": "2023-07-15T17:37:09.582926Z"
    }
   }
  },
  {
   "cell_type": "code",
   "execution_count": 15,
   "outputs": [],
   "source": [
    "# assign in/out to m2_in/out\n",
    "for index, row in df_double.iterrows():\n",
    "    if row['position_m2'] in positions_in:\n",
    "        df_double.loc[index, 'm2_in/out'] = 'in'\n",
    "    else:\n",
    "        df_double.loc[index, 'm2_in/out'] = 'out'"
   ],
   "metadata": {
    "collapsed": false,
    "ExecuteTime": {
     "end_time": "2023-07-15T17:37:11.836506Z",
     "start_time": "2023-07-15T17:37:10.761786Z"
    }
   }
  },
  {
   "cell_type": "code",
   "execution_count": 16,
   "outputs": [
    {
     "name": "stdout",
     "output_type": "stream",
     "text": [
      "       DMS_score     m1     m2 score_single_1 score_single_2 position_m1  \\\n",
      "13      3.716293    K3R  D133A       3.738586       3.540905           3   \n",
      "53      3.688150    K3Q    E5V       3.750487       3.693551           3   \n",
      "56      3.619344    K3Q  K101R       3.750487       3.677711           3   \n",
      "63      1.301030    K3Q  Q183L       3.750487       1.442357           3   \n",
      "73      3.970988    K3R   E34V       3.738586       3.758329           3   \n",
      "...          ...    ...    ...            ...            ...         ...   \n",
      "51688   3.577787  M233K  D234G       3.684742       3.706313         233   \n",
      "51691   3.744741  D234G  L236P       3.706313       3.706238         234   \n",
      "51694   3.865135  D234V  Y237H       3.608266       3.735417         234   \n",
      "51696   3.693903  D234G  E235V       3.706313       3.712191         234   \n",
      "51699   3.862731  E235G  L236P       3.727375       3.706238         235   \n",
      "\n",
      "      position_m2 m1_in/out m2_in/out  \n",
      "13            133       out       out  \n",
      "53              5       out       out  \n",
      "56            101       out       out  \n",
      "63            183       out        in  \n",
      "73             34       out       out  \n",
      "...           ...       ...       ...  \n",
      "51688         234       out       out  \n",
      "51691         236       out       out  \n",
      "51694         237       out       out  \n",
      "51696         235       out       out  \n",
      "51699         236       out       out  \n",
      "\n",
      "[11954 rows x 9 columns]\n"
     ]
    }
   ],
   "source": [
    "print(df_double)"
   ],
   "metadata": {
    "collapsed": false,
    "ExecuteTime": {
     "end_time": "2023-07-15T17:37:11.841472Z",
     "start_time": "2023-07-15T17:37:11.838275Z"
    }
   }
  },
  {
   "cell_type": "markdown",
   "source": [
    "### mean of both single mutations"
   ],
   "metadata": {
    "collapsed": false
   }
  },
  {
   "cell_type": "code",
   "execution_count": 17,
   "outputs": [],
   "source": [
    "# add empty column 'mean_single' to df_double\n",
    "df_double['mean_single'] = ''"
   ],
   "metadata": {
    "collapsed": false,
    "ExecuteTime": {
     "end_time": "2023-07-15T17:37:11.843187Z",
     "start_time": "2023-07-15T17:37:11.841101Z"
    }
   }
  },
  {
   "cell_type": "code",
   "execution_count": 18,
   "outputs": [
    {
     "name": "stdout",
     "output_type": "stream",
     "text": [
      "       DMS_score     m1     m2 score_single_1 score_single_2 position_m1  \\\n",
      "13      3.716293    K3R  D133A       3.738586       3.540905           3   \n",
      "53      3.688150    K3Q    E5V       3.750487       3.693551           3   \n",
      "56      3.619344    K3Q  K101R       3.750487       3.677711           3   \n",
      "63      1.301030    K3Q  Q183L       3.750487       1.442357           3   \n",
      "73      3.970988    K3R   E34V       3.738586       3.758329           3   \n",
      "...          ...    ...    ...            ...            ...         ...   \n",
      "51688   3.577787  M233K  D234G       3.684742       3.706313         233   \n",
      "51691   3.744741  D234G  L236P       3.706313       3.706238         234   \n",
      "51694   3.865135  D234V  Y237H       3.608266       3.735417         234   \n",
      "51696   3.693903  D234G  E235V       3.706313       3.712191         234   \n",
      "51699   3.862731  E235G  L236P       3.727375       3.706238         235   \n",
      "\n",
      "      position_m2 m1_in/out m2_in/out mean_single  \n",
      "13            133       out       out    3.639745  \n",
      "53              5       out       out    3.722019  \n",
      "56            101       out       out    3.714099  \n",
      "63            183       out        in    2.596422  \n",
      "73             34       out       out    3.748457  \n",
      "...           ...       ...       ...         ...  \n",
      "51688         234       out       out    3.695527  \n",
      "51691         236       out       out    3.706275  \n",
      "51694         237       out       out    3.671841  \n",
      "51696         235       out       out    3.709252  \n",
      "51699         236       out       out    3.716806  \n",
      "\n",
      "[11954 rows x 10 columns]\n"
     ]
    }
   ],
   "source": [
    "# calculate mean of both single mutations\n",
    "for index, row in df_double.iterrows():\n",
    "    df_double.loc[index, 'mean_single'] = (row['score_single_1'] + row['score_single_2']) / 2\n",
    "\n",
    "print(df_double)"
   ],
   "metadata": {
    "collapsed": false,
    "ExecuteTime": {
     "end_time": "2023-07-15T17:37:12.781732Z",
     "start_time": "2023-07-15T17:37:11.843967Z"
    }
   }
  },
  {
   "cell_type": "markdown",
   "source": [
    "### deviation between DMS_score of double mutant and mean of both single mutations"
   ],
   "metadata": {
    "collapsed": false
   }
  },
  {
   "cell_type": "code",
   "execution_count": 19,
   "outputs": [],
   "source": [
    "# add empty column 'deviation' to df_double\n",
    "df_double['deviation'] = ''"
   ],
   "metadata": {
    "collapsed": false,
    "ExecuteTime": {
     "end_time": "2023-07-15T17:37:12.783704Z",
     "start_time": "2023-07-15T17:37:12.781473Z"
    }
   }
  },
  {
   "cell_type": "code",
   "execution_count": 20,
   "outputs": [
    {
     "name": "stdout",
     "output_type": "stream",
     "text": [
      "       DMS_score     m1     m2 score_single_1 score_single_2 position_m1  \\\n",
      "13      3.716293    K3R  D133A       3.738586       3.540905           3   \n",
      "53      3.688150    K3Q    E5V       3.750487       3.693551           3   \n",
      "56      3.619344    K3Q  K101R       3.750487       3.677711           3   \n",
      "63      1.301030    K3Q  Q183L       3.750487       1.442357           3   \n",
      "73      3.970988    K3R   E34V       3.738586       3.758329           3   \n",
      "...          ...    ...    ...            ...            ...         ...   \n",
      "51688   3.577787  M233K  D234G       3.684742       3.706313         233   \n",
      "51691   3.744741  D234G  L236P       3.706313       3.706238         234   \n",
      "51694   3.865135  D234V  Y237H       3.608266       3.735417         234   \n",
      "51696   3.693903  D234G  E235V       3.706313       3.712191         234   \n",
      "51699   3.862731  E235G  L236P       3.727375       3.706238         235   \n",
      "\n",
      "      position_m2 m1_in/out m2_in/out mean_single deviation  \n",
      "13            133       out       out    3.639745  0.076548  \n",
      "53              5       out       out    3.722019 -0.033869  \n",
      "56            101       out       out    3.714099 -0.094755  \n",
      "63            183       out        in    2.596422 -1.295392  \n",
      "73             34       out       out    3.748457  0.222531  \n",
      "...           ...       ...       ...         ...       ...  \n",
      "51688         234       out       out    3.695527  -0.11774  \n",
      "51691         236       out       out    3.706275  0.038466  \n",
      "51694         237       out       out    3.671841  0.193293  \n",
      "51696         235       out       out    3.709252 -0.015349  \n",
      "51699         236       out       out    3.716806  0.145924  \n",
      "\n",
      "[11954 rows x 11 columns]\n"
     ]
    }
   ],
   "source": [
    "# calculate deviation\n",
    "for index, row in df_double.iterrows():\n",
    "    df_double.loc[index, 'deviation'] = row['DMS_score'] - row['mean_single']\n",
    "\n",
    "print(df_double)"
   ],
   "metadata": {
    "collapsed": false,
    "ExecuteTime": {
     "end_time": "2023-07-15T17:37:13.668691Z",
     "start_time": "2023-07-15T17:37:12.784021Z"
    }
   }
  },
  {
   "cell_type": "code",
   "execution_count": 22,
   "outputs": [
    {
     "name": "stdout",
     "output_type": "stream",
     "text": [
      "-0.18170219943716273\n"
     ]
    }
   ],
   "source": [
    "# mean of all values from 'deviation'\n",
    "mean_deviation = df_double['deviation'].mean()\n",
    "print(mean_deviation)"
   ],
   "metadata": {
    "collapsed": false,
    "ExecuteTime": {
     "end_time": "2023-07-15T17:38:38.123101Z",
     "start_time": "2023-07-15T17:38:38.113460Z"
    }
   }
  },
  {
   "cell_type": "code",
   "execution_count": 23,
   "outputs": [
    {
     "name": "stdout",
     "output_type": "stream",
     "text": [
      "0.07133422945087375\n"
     ]
    }
   ],
   "source": [
    "# mean of all positive values from 'deviation'\n",
    "mean_deviation_pos = df_double[df_double['deviation'] > 0]['deviation'].mean()\n",
    "print(mean_deviation_pos)"
   ],
   "metadata": {
    "collapsed": false,
    "ExecuteTime": {
     "end_time": "2023-07-15T17:38:57.633523Z",
     "start_time": "2023-07-15T17:38:57.614799Z"
    }
   }
  },
  {
   "cell_type": "code",
   "execution_count": 24,
   "outputs": [
    {
     "name": "stdout",
     "output_type": "stream",
     "text": [
      "-0.2803046302245026\n"
     ]
    }
   ],
   "source": [
    "# mean of all negative values from 'deviation'\n",
    "mean_deviation_neg = df_double[df_double['deviation'] < 0]['deviation'].mean()\n",
    "print(mean_deviation_neg)"
   ],
   "metadata": {
    "collapsed": false,
    "ExecuteTime": {
     "end_time": "2023-07-15T17:39:04.928535Z",
     "start_time": "2023-07-15T17:39:04.908773Z"
    }
   }
  },
  {
   "cell_type": "markdown",
   "source": [
    "### add pair character to df_double"
   ],
   "metadata": {
    "collapsed": false
   }
  },
  {
   "cell_type": "code",
   "execution_count": 25,
   "outputs": [],
   "source": [
    "# add empty column 'pair' to df_double\n",
    "df_double['pair'] = ''"
   ],
   "metadata": {
    "collapsed": false,
    "ExecuteTime": {
     "end_time": "2023-07-15T17:41:12.360087Z",
     "start_time": "2023-07-15T17:41:12.339584Z"
    }
   }
  },
  {
   "cell_type": "code",
   "execution_count": 26,
   "outputs": [
    {
     "name": "stdout",
     "output_type": "stream",
     "text": [
      "       DMS_score     m1     m2 score_single_1 score_single_2 position_m1  \\\n",
      "13      3.716293    K3R  D133A       3.738586       3.540905           3   \n",
      "53      3.688150    K3Q    E5V       3.750487       3.693551           3   \n",
      "56      3.619344    K3Q  K101R       3.750487       3.677711           3   \n",
      "63      1.301030    K3Q  Q183L       3.750487       1.442357           3   \n",
      "73      3.970988    K3R   E34V       3.738586       3.758329           3   \n",
      "...          ...    ...    ...            ...            ...         ...   \n",
      "51688   3.577787  M233K  D234G       3.684742       3.706313         233   \n",
      "51691   3.744741  D234G  L236P       3.706313       3.706238         234   \n",
      "51694   3.865135  D234V  Y237H       3.608266       3.735417         234   \n",
      "51696   3.693903  D234G  E235V       3.706313       3.712191         234   \n",
      "51699   3.862731  E235G  L236P       3.727375       3.706238         235   \n",
      "\n",
      "      position_m2 m1_in/out m2_in/out mean_single deviation     pair  \n",
      "13            133       out       out    3.639745  0.076548  out-out  \n",
      "53              5       out       out    3.722019 -0.033869  out-out  \n",
      "56            101       out       out    3.714099 -0.094755  out-out  \n",
      "63            183       out        in    2.596422 -1.295392   in-out  \n",
      "73             34       out       out    3.748457  0.222531  out-out  \n",
      "...           ...       ...       ...         ...       ...      ...  \n",
      "51688         234       out       out    3.695527  -0.11774  out-out  \n",
      "51691         236       out       out    3.706275  0.038466  out-out  \n",
      "51694         237       out       out    3.671841  0.193293  out-out  \n",
      "51696         235       out       out    3.709252 -0.015349  out-out  \n",
      "51699         236       out       out    3.716806  0.145924  out-out  \n",
      "\n",
      "[11954 rows x 12 columns]\n"
     ]
    }
   ],
   "source": [
    "# add pair character to df_double\n",
    "# if m1_in/out = in and m2_in/out = in --> pair = 'in-in'\n",
    "# if m1_in/out = in and m2_in/out = out --> pair = 'in-out'\n",
    "# if m1_in/out = out and m2_in/out = in --> pair = 'in-out'\n",
    "# if m1_in/out = out and m2_in/out = out --> pair = 'out-out'\n",
    "for index, row in df_double.iterrows():\n",
    "    if row['m1_in/out'] == 'in' and row['m2_in/out'] == 'in':\n",
    "        df_double.loc[index, 'pair'] = 'in-in'\n",
    "    elif row['m1_in/out'] == 'in' and row['m2_in/out'] == 'out':\n",
    "        df_double.loc[index, 'pair'] = 'in-out'\n",
    "    elif row['m1_in/out'] == 'out' and row['m2_in/out'] == 'in':\n",
    "        df_double.loc[index, 'pair'] = 'in-out'\n",
    "    else:\n",
    "        df_double.loc[index, 'pair'] = 'out-out'\n",
    "\n",
    "print(df_double)"
   ],
   "metadata": {
    "collapsed": false,
    "ExecuteTime": {
     "end_time": "2023-07-15T17:41:25.898319Z",
     "start_time": "2023-07-15T17:41:24.779299Z"
    }
   }
  },
  {
   "cell_type": "code",
   "execution_count": 27,
   "outputs": [
    {
     "data": {
      "text/plain": "out-out    6673\nin-out     4483\nin-in       798\nName: pair, dtype: int64"
     },
     "execution_count": 27,
     "metadata": {},
     "output_type": "execute_result"
    }
   ],
   "source": [
    "# count number of in-in, in-out and out-out\n",
    "df_double['pair'].value_counts()"
   ],
   "metadata": {
    "collapsed": false,
    "ExecuteTime": {
     "end_time": "2023-07-15T17:41:59.128798Z",
     "start_time": "2023-07-15T17:41:59.103876Z"
    }
   }
  },
  {
   "cell_type": "markdown",
   "source": [
    "### mean of deviation"
   ],
   "metadata": {
    "collapsed": false
   }
  },
  {
   "cell_type": "code",
   "execution_count": 28,
   "outputs": [
    {
     "data": {
      "text/plain": "pair\nin-in     -0.616414\nin-out    -0.266751\nout-out   -0.072580\nName: deviation, dtype: float64"
     },
     "execution_count": 28,
     "metadata": {},
     "output_type": "execute_result"
    }
   ],
   "source": [
    "# calculate mean of deviation for each pair\n",
    "df_double.groupby('pair')['deviation'].mean()"
   ],
   "metadata": {
    "collapsed": false,
    "ExecuteTime": {
     "end_time": "2023-07-15T17:42:25.797804Z",
     "start_time": "2023-07-15T17:42:25.783403Z"
    }
   }
  },
  {
   "cell_type": "code",
   "execution_count": 29,
   "outputs": [
    {
     "data": {
      "text/plain": "pair\nin-in      0.102654\nin-out     0.071290\nout-out    0.069979\nName: deviation, dtype: float64"
     },
     "execution_count": 29,
     "metadata": {},
     "output_type": "execute_result"
    }
   ],
   "source": [
    "# calculate mean of all positive deviation for each pair\n",
    "df_double[df_double['deviation'] > 0].groupby('pair')['deviation'].mean()"
   ],
   "metadata": {
    "collapsed": false,
    "ExecuteTime": {
     "end_time": "2023-07-15T17:43:14.991171Z",
     "start_time": "2023-07-15T17:43:14.969441Z"
    }
   }
  },
  {
   "cell_type": "code",
   "execution_count": 30,
   "outputs": [
    {
     "data": {
      "text/plain": "pair\nin-in     -0.718256\nin-out    -0.363556\nout-out   -0.145343\nName: deviation, dtype: float64"
     },
     "execution_count": 30,
     "metadata": {},
     "output_type": "execute_result"
    }
   ],
   "source": [
    "# calculate mean of all negative deviation for each pair\n",
    "df_double[df_double['deviation'] < 0].groupby('pair')['deviation'].mean()"
   ],
   "metadata": {
    "collapsed": false,
    "ExecuteTime": {
     "end_time": "2023-07-15T17:43:23.713459Z",
     "start_time": "2023-07-15T17:43:23.691671Z"
    }
   }
  },
  {
   "cell_type": "markdown",
   "source": [
    "### standard deviation"
   ],
   "metadata": {
    "collapsed": false
   }
  },
  {
   "cell_type": "code",
   "execution_count": 36,
   "outputs": [
    {
     "data": {
      "text/plain": "pair\nin-in      0.669633\nin-out     0.434137\nout-out    0.201621\nName: deviation, dtype: float64"
     },
     "execution_count": 36,
     "metadata": {},
     "output_type": "execute_result"
    }
   ],
   "source": [
    "# calculate standard deviation for each pair\n",
    "df_double.groupby('pair')['deviation'].std()"
   ],
   "metadata": {
    "collapsed": false,
    "ExecuteTime": {
     "end_time": "2023-07-15T18:04:15.676621Z",
     "start_time": "2023-07-15T18:04:15.645448Z"
    }
   }
  },
  {
   "cell_type": "code",
   "execution_count": 37,
   "outputs": [
    {
     "data": {
      "text/plain": "pair\nin-in      0.130922\nin-out     0.067305\nout-out    0.059310\nName: deviation, dtype: float64"
     },
     "execution_count": 37,
     "metadata": {},
     "output_type": "execute_result"
    }
   ],
   "source": [
    "# calculate standard deviation for all positive deviation for each pair\n",
    "df_double[df_double['deviation'] > 0].groupby('pair')['deviation'].std()"
   ],
   "metadata": {
    "collapsed": false,
    "ExecuteTime": {
     "end_time": "2023-07-15T18:04:22.487683Z",
     "start_time": "2023-07-15T18:04:22.471591Z"
    }
   }
  },
  {
   "cell_type": "code",
   "execution_count": 38,
   "outputs": [
    {
     "data": {
      "text/plain": "pair\nin-in      0.652593\nin-out     0.446162\nout-out    0.209614\nName: deviation, dtype: float64"
     },
     "execution_count": 38,
     "metadata": {},
     "output_type": "execute_result"
    }
   ],
   "source": [
    "# calculate standard deviation for all negative deviation for each pair\n",
    "df_double[df_double['deviation'] < 0].groupby('pair')['deviation'].std()"
   ],
   "metadata": {
    "collapsed": false,
    "ExecuteTime": {
     "end_time": "2023-07-15T18:04:26.011620Z",
     "start_time": "2023-07-15T18:04:25.992178Z"
    }
   }
  },
  {
   "cell_type": "markdown",
   "source": [
    "### box plots"
   ],
   "metadata": {
    "collapsed": false
   }
  },
  {
   "cell_type": "code",
   "execution_count": 42,
   "outputs": [
    {
     "data": {
      "text/plain": "<Figure size 640x480 with 1 Axes>",
      "image/png": "[encoded data removed]"
     },
     "metadata": {},
     "output_type": "display_data"
    }
   ],
   "source": [
    "# create box plot for deviation for each pair\n",
    "df_double.boxplot(column='deviation', by='pair')\n",
    "plt.show()"
   ],
   "metadata": {
    "collapsed": false,
    "ExecuteTime": {
     "end_time": "2023-07-15T18:05:51.207453Z",
     "start_time": "2023-07-15T18:05:51.142256Z"
    }
   }
  },
  {
   "cell_type": "code",
   "execution_count": 52,
   "outputs": [
    {
     "data": {
      "text/plain": "<Figure size 640x480 with 1 Axes>",
      "image/png": "[encoded data removed]"
     },
     "metadata": {},
     "output_type": "display_data"
    }
   ],
   "source": [
    "# create box plot for all positive deviation for each pair\n",
    "df_double[df_double['deviation'] > 0].boxplot(column='deviation', by='pair')\n",
    "# set title\n",
    "plt.title('Positive Epistasis')\n",
    "# set y-axis label\n",
    "plt.ylabel('DMS_score_double - mean of DMS_score_single')\n",
    "# set x-axis label\n",
    "plt.xlabel('orientation of amino acid residues')\n",
    "# delete 'Boxplot grouped by pair' from title\n",
    "plt.suptitle('')\n",
    "# save figure\n",
    "plt.savefig('positive_epistasis.png')\n",
    "plt.show()"
   ],
   "metadata": {
    "collapsed": false,
    "ExecuteTime": {
     "end_time": "2023-07-15T19:22:00.541303Z",
     "start_time": "2023-07-15T19:22:00.443012Z"
    }
   }
  },
  {
   "cell_type": "code",
   "execution_count": 50,
   "outputs": [
    {
     "data": {
      "text/plain": "<Figure size 640x480 with 1 Axes>",
      "image/png": "[encoded data removed]"
     },
     "metadata": {},
     "output_type": "display_data"
    }
   ],
   "source": [
    "# create box plot for all negative deviation for each pair\n",
    "df_double[df_double['deviation'] < 0].boxplot(column='deviation', by='pair')\n",
    "# set title\n",
    "plt.title('Negative Epistasis')\n",
    "# set y-axis label\n",
    "plt.ylabel('DMS_score_double - mean of DMS_score_single')\n",
    "# set x-axis label\n",
    "plt.xlabel('orientation of amino acid residues')\n",
    "# delete 'Boxplot grouped by pair' from title\n",
    "plt.suptitle('')\n",
    "# save figure\n",
    "plt.savefig('negative_epistasis.png')\n",
    "plt.show()"
   ],
   "metadata": {
    "collapsed": false,
    "ExecuteTime": {
     "end_time": "2023-07-15T19:16:23.078678Z",
     "start_time": "2023-07-15T19:16:22.978843Z"
    }
   }
  }
 ],
 "metadata": {
  "kernelspec": {
   "display_name": "Python 3",
   "language": "python",
   "name": "python3"
  },
  "language_info": {
   "codemirror_mode": {
    "name": "ipython",
    "version": 2
   },
   "file_extension": ".py",
   "mimetype": "text/x-python",
   "name": "python",
   "nbconvert_exporter": "python",
   "pygments_lexer": "ipython2",
   "version": "2.7.6"
  }
 },
 "nbformat": 4,
 "nbformat_minor": 0
}
