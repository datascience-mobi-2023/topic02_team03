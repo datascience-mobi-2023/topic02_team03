{
 "cells": [
  {
   "cell_type": "code",
   "execution_count": null,
   "metadata": {
    "collapsed": true,
    "is_executing": true
   },
   "outputs": [],
   "source": [
    "import pandas as pd\n",
    "import numpy as np\n",
    "pd.set_option('display.max_columns', 50)"
   ]
  },
  {
   "cell_type": "code",
   "execution_count": null,
   "outputs": [],
   "source": [
    "#read dataset\n",
    "original_dms_data = pd.read_csv('/Users/liza/Documents/Bioinfo Project/DMS_data/AAAA_GFP_dms_data_original_komplett.csv')\n",
    "# split first column of df into multiple columns\n",
    "original_dms_data_col = original_dms_data\n",
    "only_mutants = original_dms_data[\"mutant\"].to_frame()\n",
    "original_dms_data_col[['m1', 'm2', 'm3', 'm4', 'm5', 'm6', 'm7', 'm8', 'm9', 'm10', 'm11', 'm12', 'm13', 'm14', 'm15']] = original_dms_data_col['mutant'].str.split(':', 15, expand=True)"
   ],
   "metadata": {
    "collapsed": false,
    "is_executing": true
   }
  },
  {
   "cell_type": "markdown",
   "source": [
    "PREPARE DATASET FOR RANKING CALCULATION:\n",
    "1. how many mutations does each mutant have? -> mut_count (df_mutation_count)\n",
    "2. find out all possible mutations -> all_possible_mutations\n",
    "3. df mutations x mutants -> which mutants contain which mutations -> result_how_often\n",
    "4. plots + calculation variance x how many values used for variance per mutation count\n",
    "-> variance of all fscores of all mutants containing mutation X shows how constant the effect of the mutation is\n"
   ],
   "metadata": {
    "collapsed": false
   }
  },
  {
   "cell_type": "code",
   "execution_count": null,
   "outputs": [],
   "source": [
    "# count how many mutations each mutant has\n",
    "list_mut_count_in_progress = []\n",
    "for i in range(len(original_dms_data['mutant'])):\n",
    "    list_mut_count_in_progress.append(original_dms_data['mutant'].iloc[i].count(':'))\n",
    "list_mut_count_prae = np.array(list_mut_count_in_progress)\n",
    "list_mut_count = (list_mut_count_prae + 1)\n",
    "df_mutation_counts = pd.DataFrame(list_mut_count)"
   ],
   "metadata": {
    "collapsed": false,
    "is_executing": true
   }
  },
  {
   "cell_type": "code",
   "execution_count": null,
   "outputs": [],
   "source": [
    "#concat mutation_count to original df\n",
    "working_dataframe_prae = pd.concat([original_dms_data_col, df_mutation_counts], axis=\"columns\")\n",
    "\n",
    "working_dataframe = working_dataframe_prae.drop(['mutant', 'mutated_sequence', 'DMS_score_bin'], axis=1)\n",
    "working_dataframe.rename(columns={working_dataframe.columns[16]: 'mut_count'}, inplace=True)\n",
    "working_dataframe.head()"
   ],
   "metadata": {
    "collapsed": false,
    "is_executing": true
   }
  },
  {
   "cell_type": "code",
   "execution_count": null,
   "outputs": [],
   "source": [
    "#all existing mutations in one list: calculation of all_possible_mutations\n",
    "\n",
    "working_dataframe_only_ms = working_dataframe.loc[:, [\"m1\", \"m2\", \"m3\", 'm4', 'm5', 'm6', 'm7', 'm8', 'm9', 'm10', 'm11', 'm12', 'm13', 'm14', 'm15']]\n",
    "all_possible_mutations = working_dataframe_only_ms.values.flatten().tolist()\n",
    "all_possible_mutations = list(set(all_possible_mutations))\n",
    "#\"none\" is also a value in the list -> remove\n",
    "while None in all_possible_mutations:\n",
    "    all_possible_mutations.remove(None)\n",
    "only_mutants_list = only_mutants['mutant']\n"
   ],
   "metadata": {
    "collapsed": false,
    "is_executing": true
   }
  },
  {
   "cell_type": "code",
   "execution_count": null,
   "outputs": [],
   "source": [
    "#remodel df so it is more convenient\n",
    "working_dataframe_prae = pd.concat([original_dms_data_col, df_mutation_counts], axis=\"columns\")\n",
    "working_dataframe = working_dataframe_prae.drop(['mutant', 'mutated_sequence', 'DMS_score_bin'], axis=1)\n",
    "working_dataframe.rename(columns={working_dataframe.columns[16]: 'mut_count'}, inplace=True)\n"
   ],
   "metadata": {
    "collapsed": false,
    "is_executing": true
   }
  },
  {
   "cell_type": "code",
   "execution_count": null,
   "outputs": [],
   "source": [
    "#df which mutant from only_mutants_list contains the mutations from all_possible_mutations\n",
    "list_of_dfs = []\n",
    "\n",
    "\n",
    "for i in all_possible_mutations:\n",
    "    new_column_name = f'{i}'\n",
    "    new_column_values = [only_mutants_list.str.contains(i, regex= False)]\n",
    "    new_df = pd.DataFrame({new_column_name: new_column_values})\n",
    "    new_df_exploded = new_df.explode(new_column_name)\n",
    "    list_of_dfs.append(new_df_exploded)\n",
    "\n",
    "# concat dfs from the list\n",
    "result_how_often = pd.concat(list_of_dfs, axis=1)\n",
    "result_how_often = result_how_often.reset_index(drop=True)\n",
    "\n",
    "## result_how_often.to_csv('dataframe_mutanten_Mutationen.csv', index=True)"
   ],
   "metadata": {
    "collapsed": false,
    "is_executing": true
   }
  },
  {
   "cell_type": "code",
   "execution_count": null,
   "outputs": [],
   "source": [
    "# more convenient df (just mutcount und fscore)\n",
    "count_fscore_frame = working_dataframe[['DMS_score', 'mut_count']]"
   ],
   "metadata": {
    "collapsed": false,
    "is_executing": true
   }
  },
  {
   "cell_type": "code",
   "execution_count": null,
   "outputs": [],
   "source": [
    "#plot: variance of fscores per mutation count and number of values uesed for variance calculation\n",
    "#-> bottom right corner is the best, because the varaince is the most reliable\n",
    "\n",
    "import matplotlib.pyplot as plt\n",
    "\n",
    "\n",
    "fig, axes = plt.subplots(nrows=5, ncols=3, figsize=(19, 12))  # Abbildung und Achsenobjekte erstellen\n",
    "plt.subplots_adjust(wspace=0.4, hspace=0.6)\n",
    "\n",
    "for j, ax in zip(range(2, 16), axes.flatten()):\n",
    "    variance_per_mutant_list = []\n",
    "\n",
    "    for i in all_possible_mutations:\n",
    "        mut_count_fscore = count_fscore_frame.loc[result_how_often[i] == True]\n",
    "        fscore_mut = mut_count_fscore['DMS_score'].loc[mut_count_fscore['mut_count'] == j]\n",
    "        varianz_mut = fscore_mut.var()\n",
    "        variance_per_mutant_list.append(varianz_mut)\n",
    "\n",
    "    variance_per_mutant_series = pd.Series(variance_per_mutant_list, index=all_possible_mutations)\n",
    "    variance_per_mutant_df = variance_per_mutant_series.to_frame()\n",
    "\n",
    "\n",
    "#how reliable is the calculated variance? -> how many values are available for the calculation\n",
    "\n",
    "    how_many_for_variance = []\n",
    "\n",
    "    for i in all_possible_mutations:\n",
    "        mut_count_fscore = count_fscore_frame.loc[result_how_often[i] == True]\n",
    "        fscore_mut = mut_count_fscore['DMS_score'].loc[mut_count_fscore['mut_count'] == j]\n",
    "        wie_viel_jeweils = len(fscore_mut)\n",
    "        how_many_for_variance.append(wie_viel_jeweils)\n",
    "\n",
    "    how_many_for_variance = pd.Series(how_many_for_variance, index=all_possible_mutations)\n",
    "    how_many_for_variance_df = how_many_for_variance.to_frame()\n",
    "\n",
    "\n",
    "    how_many_AND_variance_df = pd.concat([how_many_for_variance_df, variance_per_mutant_df], axis = 1)\n",
    "    how_many_AND_variance_df.columns = ['number of used values', 'Variance']\n",
    "    how_many_AND_variance_df = how_many_AND_variance_df.dropna()\n",
    "\n",
    "#scatter plot variance x count\n",
    "    ax.scatter(how_many_AND_variance_df['number of used values'],how_many_AND_variance_df['Variance'], s = j )\n",
    "    ax.set_xlabel('number of used values')\n",
    "    ax.set_ylabel('Variance')\n",
    "\n",
    "    if \"V163A\" in how_many_AND_variance_df.index:\n",
    "        ax.scatter(how_many_AND_variance_df['number of used values']['V163A'],how_many_AND_variance_df['Variance']['V163A'], c='red')\n",
    "    ax.set_title(f'mutation count = {j} ')\n",
    "\n"
   ],
   "metadata": {
    "collapsed": false,
    "is_executing": true
   }
  },
  {
   "cell_type": "markdown",
   "source": [
    "FURTHER PREPARATION FOR RANKINGS:\n",
    "1. variance calculation per mutant (not-weighted)\n",
    "2. how many values got used for the calculation, same as above but for every mutcount combined\n",
    "-> both in one dataframe\n",
    "3. calculate df that contains the difference between the fscore-means of all mutants WITH mutation X and WITHOUT mutation X\n",
    "-> how big is the effect of the mutation on existing in general\n",
    "-> not weighted"
   ],
   "metadata": {
    "collapsed": false
   }
  },
  {
   "cell_type": "code",
   "execution_count": null,
   "outputs": [],
   "source": [
    "#variance means, calculate variances per mutation per mutation count -> mean of all per mutation\n",
    "#ONLY MUTCOUNT FROM 2 TO 7 !! -> 5a\n",
    "#-> not yet weighted\n",
    "\n",
    "frame_zum_mitteln_variance = pd.DataFrame(index = all_possible_mutations)\n",
    "variance_per_mutant_count_list = []\n",
    "\n",
    "# IMPORTANT!! -> only values from mutants with up to 7 mutations (mut_count < 7), because the fscores from mutants with a mut_counts above 7 are generally low (-> boxplot from statistical_test_fscores)\n",
    "for j, ax in zip(range(2, 8), axes.flatten()):\n",
    "    variance_per_mutant_list = []\n",
    "\n",
    "    for i in all_possible_mutations:\n",
    "        mut_count_fscore = count_fscore_frame.loc[result_how_often[i] == True]\n",
    "        fscore_mut = mut_count_fscore['DMS_score'].loc[mut_count_fscore['mut_count'] == j]\n",
    "        varianz_mut = fscore_mut.var()  #die varianz je mutation je anzahl\n",
    "        variance_per_mutant_list.append(varianz_mut) #liste der Varianzen ALLER Mutationen je anzahl\n",
    "\n",
    "    variance_per_mutant_df = pd.DataFrame(variance_per_mutant_list, index=all_possible_mutations)\n",
    "    variance_per_mutant_count_list.append(variance_per_mutant_df)\n",
    "variance_per_mutant_count_df = pd.concat(variance_per_mutant_count_list, axis=1)\n",
    "variance_per_mutant_count_df.set_axis(range(2,8), axis=1, inplace=True)\n",
    "\n",
    "# df variance per mutatuion (rows) per mutation_count (columns)\n",
    "variance_per_mutant_count_df\n",
    "mean_variances_per_mutations = pd.DataFrame(variance_per_mutant_count_df.mean(axis=1, skipna=True), columns=['Mean'])\n"
   ],
   "metadata": {
    "collapsed": false,
    "is_executing": true
   }
  },
  {
   "cell_type": "code",
   "execution_count": null,
   "outputs": [],
   "source": [
    "#variance means, calculate variances per mutation per mutation count -> mean of all per mutation\n",
    "#ALL MUTCOUNTS INVOLVED -> 5c\n",
    "#-> not yet weighted\n",
    "frame_zum_mitteln_variance_16 = pd.DataFrame(index=all_possible_mutations)\n",
    "variance_per_mutant_count_list_16 = []\n",
    "\n",
    "#\n",
    "# da die Fitness-Scores von Mutanten mit einer mut_count über 7 im Allgemeinen niedrig sind.\n",
    "for j in range(2, 16):\n",
    "    variance_per_mutant_list_16 = []\n",
    "\n",
    "    for i in all_possible_mutations:\n",
    "        mut_count_fscore_16 = count_fscore_frame.loc[result_how_often[i] == True]\n",
    "        fscore_mut_16 = mut_count_fscore_16['DMS_score'].loc[mut_count_fscore_16['mut_count'] == j]\n",
    "        varianz_mut_16 = fscore_mut_16.var()  # Varianz für die aktuelle Mutation und Mutation_count\n",
    "        variance_per_mutant_list_16.append(varianz_mut_16)\n",
    "\n",
    "    variance_per_mutant_df_16 = pd.DataFrame(variance_per_mutant_list_16, index=all_possible_mutations)\n",
    "    variance_per_mutant_count_list_16.append(variance_per_mutant_df_16)\n",
    "\n",
    "variance_per_mutant_count_df_16 = pd.concat(variance_per_mutant_count_list_16, axis=1)\n",
    "variance_per_mutant_count_df_16.columns = range(2, 16)\n",
    "\n",
    "mean_variances_per_mutations_16 = pd.DataFrame(variance_per_mutant_count_df_16.mean(axis=1, skipna=True), columns=['Mean'])\n"
   ],
   "metadata": {
    "collapsed": false,
    "is_executing": true
   }
  },
  {
   "cell_type": "code",
   "execution_count": null,
   "outputs": [],
   "source": [
    "#goal: weights for weighted variance in ranking 5d\n",
    "#variance gets weighted with how many values excist for calculation\n",
    "how_many_per_mutant_count_list = []\n",
    "\n",
    "for j, ax in zip(range(2, 16), axes.flatten()):\n",
    "    how_many_for_variance = []\n",
    "\n",
    "    for i in all_possible_mutations:\n",
    "        mut_count_fscore = count_fscore_frame.loc[result_how_often[i] == True]\n",
    "        fscore_mut = mut_count_fscore['DMS_score'].loc[mut_count_fscore['mut_count'] == j]\n",
    "        wie_viel_jeweils = len(fscore_mut)\n",
    "        how_many_for_variance.append(wie_viel_jeweils)\n",
    "\n",
    "    how_many_per_mutant_df = pd.DataFrame(how_many_for_variance, index=all_possible_mutations)\n",
    "    how_many_per_mutant_count_list.append(how_many_per_mutant_df)\n",
    "how_many_per_mutant_count_df = pd.concat(how_many_per_mutant_count_list, axis=1)\n",
    "how_many_per_mutant_count_df.set_axis(range(2,16), axis=1, inplace=True)\n",
    "\n",
    "mean_how_many_per_mutations = pd.DataFrame(how_many_per_mutant_count_df.mean(axis=1, skipna=True), columns=['Mean'])\n"
   ],
   "metadata": {
    "collapsed": false,
    "is_executing": true
   }
  },
  {
   "cell_type": "code",
   "execution_count": null,
   "outputs": [],
   "source": [
    "combined_means_variance_how_many = pd.concat([mean_variances_per_mutations, mean_how_many_per_mutations], axis=1)\n",
    "combined_means_variance_how_many.columns = ['mean_variances_per_mutations', 'mean_how_many_per_mutations']"
   ],
   "metadata": {
    "collapsed": false,
    "is_executing": true
   }
  },
  {
   "cell_type": "code",
   "execution_count": null,
   "outputs": [],
   "source": [
    "#differences calculated (effect of mutation X on the fscore)\n",
    "nur_fscore_mut_count = working_dataframe.loc[:, [\"DMS_score\", \"mut_count\"]]\n",
    "differences_list = []\n",
    "\n",
    "for i in all_possible_mutations:\n",
    "    #for all mutants WITH the mutation\n",
    "    #filter the mutants for the existing of mutation X (-> result_how_often)\n",
    "    index_when_mut_present = result_how_often.loc[result_how_often[i] == True].index\n",
    "    #fscores from all mutants that match\n",
    "    only_rows_with_mut = nur_fscore_mut_count [(nur_fscore_mut_count ['mut_count'] >2) & (nur_fscore_mut_count .index.isin(index_when_mut_present))]\n",
    "\n",
    "# Calculate the mean of DMS_score for the filtered rows\n",
    "    mean_dms_score_only_mut = only_rows_with_mut['DMS_score'].mean()\n",
    "#-------------\n",
    "    #for all mutants WITHOUT the mutation (same calculation)\n",
    "    index_when_not_mut_present = result_how_often.loc[result_how_often[i] == False].index\n",
    "\n",
    "    only_rows_withOUT_mut = working_dataframe[(working_dataframe['mut_count'] >2) & (working_dataframe.index.isin(index_when_not_mut_present))]\n",
    "\n",
    "# Calculate the mean of DMS_score for the filtered rows\n",
    "    mean_dms_score_every_but_mut = only_rows_withOUT_mut['DMS_score'].mean()\n",
    "#----------------\n",
    "    difference_means = mean_dms_score_only_mut - mean_dms_score_every_but_mut\n",
    "    differences_list.append(difference_means)\n",
    "\n",
    "all_differences_means = pd.DataFrame({'Difference': differences_list}, index=all_possible_mutations)\n"
   ],
   "metadata": {
    "collapsed": false,
    "is_executing": true
   }
  },
  {
   "cell_type": "markdown",
   "source": [
    "----------------RANKING 0:\n",
    "-> ranked by variance (without taking into account how many values got used for the calculation)"
   ],
   "metadata": {
    "collapsed": false
   }
  },
  {
   "cell_type": "code",
   "execution_count": null,
   "outputs": [],
   "source": [
    "sorted_Ranking0 = combined_means_variance_how_many.sort_values(by='mean_variances_per_mutations')\n",
    "\n",
    "sorted_Ranking0"
   ],
   "metadata": {
    "collapsed": false,
    "is_executing": true
   }
  },
  {
   "cell_type": "code",
   "execution_count": null,
   "outputs": [],
   "source": [
    "# formatted dataframe with marked \"important\" mutations (TOP15 paper, TOP from pedigrees (Angela))\n",
    "TOP_MUTANTS = ['V163A', 'K166Q', 'I171V', 'K113R', 'K214E', 'K156R']\n",
    "\n",
    "def highlight_top_mutants(row):\n",
    "    color = 'red' if row.name in TOP_MUTANTS else 'black'\n",
    "    return ['color: {}'.format(color)] * len(row)\n",
    "\n",
    "styled_ranking0= sorted_Ranking0.style.apply(highlight_top_mutants, axis=1)\n",
    "\n",
    "with open('formatted_ranking0.html', 'w') as file:\n",
    "    file.write(styled_ranking0.render())"
   ],
   "metadata": {
    "collapsed": false,
    "is_executing": true
   }
  },
  {
   "cell_type": "markdown",
   "source": [
    "----------------RANKING 1: (that was the try if the ranking-function works)\n",
    "-> ranked by the available values for each mutation (how often does mutation X appear in total)"
   ],
   "metadata": {
    "collapsed": false
   }
  },
  {
   "cell_type": "code",
   "execution_count": null,
   "outputs": [],
   "source": [
    "sorted_Ranking1 = combined_means_variance_how_many.sort_values(by='mean_how_many_per_mutations', ascending= False)\n",
    "\n",
    "print(sorted_Ranking1)"
   ],
   "metadata": {
    "collapsed": false,
    "is_executing": true
   }
  },
  {
   "cell_type": "code",
   "execution_count": null,
   "outputs": [],
   "source": [
    "# formatted dataframe with marked \"important\" mutations (TOP15 paper, TOP from pedigrees (Angela))\n",
    "TOP_MUTANTS = ['V163A', 'K166Q', 'I171V', 'K113R', 'K214E', 'K156R']\n",
    "\n",
    "def highlight_top_mutants(row):\n",
    "    color = 'red' if row.name in TOP_MUTANTS else 'black'\n",
    "    return ['color: {}'.format(color)] * len(row)\n",
    "\n",
    "styled_ranking1= sorted_Ranking1.style.apply(highlight_top_mutants, axis=1)\n",
    "\n",
    "with open('formatted_ranking1.html', 'w') as file:\n",
    "    file.write(styled_ranking1.render())"
   ],
   "metadata": {
    "collapsed": false,
    "is_executing": true
   }
  },
  {
   "cell_type": "markdown",
   "source": [
    "\n",
    "\n",
    "\n",
    "\n",
    "----------------RANKING 1a:\n",
    "-> ranked by a rank_score build from the variance and the count of available mutations\n",
    "-> combination of ranking 0 and 1"
   ],
   "metadata": {
    "collapsed": false
   }
  },
  {
   "cell_type": "code",
   "execution_count": null,
   "outputs": [],
   "source": [
    "combined_means_variance_how_many['Rank'] = combined_means_variance_how_many['mean_variances_per_mutations'].rank(ascending=False) - combined_means_variance_how_many['mean_how_many_per_mutations'].rank()\n",
    "\n",
    "sorted_Ranking1a = combined_means_variance_how_many.sort_values(by='Rank')\n",
    "\n",
    "print(sorted_Ranking1a)"
   ],
   "metadata": {
    "collapsed": false,
    "is_executing": true
   }
  },
  {
   "cell_type": "code",
   "execution_count": null,
   "outputs": [],
   "source": [
    "#same ranking just with only the stabilizing (Difference > 0)\n",
    "condition = all_differences_means['Difference'] > 0\n",
    "sorted_only_stab_Ranking1a = sorted_Ranking1a.drop(all_differences_means.loc[condition].index)\n",
    "print(sorted_only_stab_Ranking1a)\n"
   ],
   "metadata": {
    "collapsed": false,
    "is_executing": true
   }
  },
  {
   "cell_type": "code",
   "execution_count": null,
   "outputs": [],
   "source": [
    "# formatted dataframe with marked \"important\" mutations (TOP15 paper, TOP from pedigrees (Angela))\n",
    "TOP_MUTANTS = ['V163A', 'K166Q', 'I171V', 'K113R', 'K214E', 'K156R']\n",
    "\n",
    "def highlight_top_mutants(row):\n",
    "    color = 'red' if row.name in TOP_MUTANTS else 'black'\n",
    "    return ['color: {}'.format(color)] * len(row)\n",
    "\n",
    "styled_ranking1a= sorted_only_stab_Ranking1a.style.apply(highlight_top_mutants, axis=1)\n",
    "\n",
    "with open('formatted_ranking1a.html', 'w') as file:\n",
    "    file.write(styled_ranking1a.render())"
   ],
   "metadata": {
    "collapsed": false,
    "is_executing": true
   }
  },
  {
   "cell_type": "markdown",
   "source": [
    "\n",
    "\n",
    "\n",
    "\n",
    "----------------RANKING 2:\n",
    "-> only ranked by Difference\n",
    "-> how big is the effect the mutation has on other excisting mutations (->fscores)"
   ],
   "metadata": {
    "collapsed": false
   }
  },
  {
   "cell_type": "code",
   "execution_count": null,
   "outputs": [],
   "source": [
    "#how often does the mutation X appear in all mutants\n",
    "list_wie_oft_mut = []\n",
    "for j in all_possible_mutations:\n",
    "    matching_indexes = result_how_often.loc[result_how_often[j] == True].index\n",
    "    wie_oft = len(matching_indexes)\n",
    "    list_wie_oft_mut.append(wie_oft)\n",
    "df_wie_oft_muts_insg = pd.DataFrame(list_wie_oft_mut, index=all_possible_mutations)\n",
    "df_wie_oft_muts_insg"
   ],
   "metadata": {
    "collapsed": false,
    "is_executing": true
   }
  },
  {
   "cell_type": "code",
   "execution_count": null,
   "outputs": [],
   "source": [
    "#difference and count in one dataframe\n",
    "combined_differenz_wie_oft_mut= pd.concat([all_differences_means, df_wie_oft_muts_insg], axis=1)\n",
    "combined_differenz_wie_oft_mut.columns = ['Difference', 'wie oft kommt mut insg vor']\n"
   ],
   "metadata": {
    "collapsed": false,
    "is_executing": true
   }
  },
  {
   "cell_type": "code",
   "execution_count": null,
   "outputs": [],
   "source": [
    "ranking2 = combined_differenz_wie_oft_mut.sort_values(by='Difference', ascending= False)\n",
    "ranking2"
   ],
   "metadata": {
    "collapsed": false,
    "is_executing": true
   }
  },
  {
   "cell_type": "code",
   "execution_count": null,
   "outputs": [],
   "source": [
    "# formatted dataframe with marked \"important\" mutations (TOP15 paper, TOP from pedigrees (Angela))\n",
    "TOP_MUTANTS = ['V163A', 'K166Q', 'I171V', 'K113R', 'K214E', 'K156R']\n",
    "\n",
    "def highlight_top_mutants(row):\n",
    "    color = 'red' if row.name in TOP_MUTANTS else 'black'\n",
    "    return ['color: {}'.format(color)] * len(row)\n",
    "\n",
    "styled_ranking2= ranking2.style.apply(highlight_top_mutants, axis=1)\n",
    "\n",
    "with open('formatted_ranking2.html', 'w') as file:\n",
    "    file.write(styled_ranking2.render())"
   ],
   "metadata": {
    "collapsed": false,
    "is_executing": true
   }
  },
  {
   "cell_type": "markdown",
   "source": [
    "\n",
    "\n",
    "\n",
    "\n",
    "----------------RANKING 3:\n",
    "-> ranked by difference and count\n"
   ],
   "metadata": {
    "collapsed": false,
    "is_executing": true
   },
   "outputs": []
  },
  {
   "cell_type": "code",
   "execution_count": null,
   "outputs": [],
   "source": [
    "list_ranking3 = []\n",
    "for i in all_possible_mutations:\n",
    "    score_ranking3 = all_differences_means.loc[i].values[0] * df_wie_oft_muts_insg.loc[i].values[0]\n",
    "    list_ranking3.append(score_ranking3)\n",
    "ranking3_unsorted = pd.DataFrame(list_ranking3, index=all_possible_mutations, columns=['ranking3_score'])\n",
    "ranking3 = ranking3_unsorted.sort_values(by='ranking3_score', ascending= False)\n",
    "print(ranking3)"
   ],
   "metadata": {
    "collapsed": false,
    "is_executing": true
   }
  },
  {
   "cell_type": "code",
   "execution_count": null,
   "outputs": [],
   "source": [
    "# formatted dataframe with marked \"important\" mutations (TOP15 paper, TOP from pedigrees (Angela))\n",
    "TOP_MUTANTS = ['V163A', 'K166Q', 'I171V', 'K113R', 'K214E', 'K156R']\n",
    "\n",
    "def highlight_top_mutants(row):\n",
    "    color = 'red' if row.name in TOP_MUTANTS else 'black'\n",
    "    return ['color: {}'.format(color)] * len(row)\n",
    "\n",
    "styled_ranking3= ranking3.style.apply(highlight_top_mutants, axis=1)\n",
    "\n",
    "with open('formatted_ranking3.html', 'w') as file:\n",
    "    file.write(styled_ranking3.render())\n"
   ],
   "metadata": {
    "collapsed": false,
    "is_executing": true
   }
  },
  {
   "cell_type": "markdown",
   "source": [
    "\n",
    "\n",
    "\n",
    "\n",
    "----------------RANKING 4:\n",
    "-> calculate own score1\n",
    "-> score1 = Difference * 1/Variance * Anzahl muts\n",
    "-> score1 = \"effect of the mutation\" * 1/\"how reliable is the mean_fscore\" * how much data is available\n",
    "-> Variance here: just the mean of all variances per mutcount per muatation (mutcount 2 to 7)"
   ],
   "metadata": {
    "collapsed": false,
    "is_executing": true
   },
   "outputs": []
  },
  {
   "cell_type": "code",
   "execution_count": null,
   "outputs": [],
   "source": [
    "list_ranking4 = []\n",
    "for i in all_possible_mutations:\n",
    "    score_ranking4 = all_differences_means.loc[i].values[0] * df_wie_oft_muts_insg.loc[i].values[0]*(1/mean_variances_per_mutations.loc[i].values[0])\n",
    "    list_ranking4.append(score_ranking4)\n",
    "ranking4_unsorted = pd.DataFrame(list_ranking4, index=all_possible_mutations, columns=['ranking4_score'])\n",
    "ranking4 = ranking4_unsorted.sort_values(by='ranking4_score', ascending= False)\n",
    "ranking4"
   ],
   "metadata": {
    "collapsed": false,
    "is_executing": true
   }
  },
  {
   "cell_type": "code",
   "execution_count": null,
   "outputs": [],
   "source": [
    "# formatted dataframe with marked \"important\" mutations (TOP15 paper, TOP from pedigrees (Angela))\n",
    "TOP_MUTANTS = ['V163A', 'K166Q', 'I171V', 'K113R', 'K214E', 'K156R']\n",
    "\n",
    "def highlight_top_mutants(row):\n",
    "    color = 'red' if row.name in TOP_MUTANTS else 'black'\n",
    "    return ['color: {}'.format(color)] * len(row)\n",
    "\n",
    "styled_ranking4= ranking4.style.apply(highlight_top_mutants, axis=1)\n",
    "\n",
    "with open('formatted_ranking4.html', 'w') as file:\n",
    "    file.write(styled_ranking4.render())\n"
   ],
   "metadata": {
    "collapsed": false,
    "is_executing": true
   }
  },
  {
   "cell_type": "markdown",
   "source": [
    "\n",
    "\n",
    "\n",
    "\n",
    "----------------RANKING 5:\n",
    "-> calculate own score, just like ranking 4 just different kind of variances\n",
    "-> score2 = Difference * 1/Variance\n"
   ],
   "metadata": {
    "collapsed": false,
    "is_executing": true
   },
   "outputs": []
  },
  {
   "cell_type": "code",
   "execution_count": null,
   "outputs": [],
   "source": [
    "#PREP for 5b: variances weighted with mean_fitness_scores as weights\n",
    "#dataframe with the mean fscores of each mutation count\n",
    "mean_fitness_scores = pd.DataFrame(index = range(2,16), columns = [\"mean_fitness_score\"])\n",
    "for i in range(2,16):\n",
    "    fscore_mutcount_mean = count_fscore_frame[\"DMS_score\"].loc[count_fscore_frame[\"mut_count\"] == i].mean()\n",
    "    mean_fitness_scores.loc[i, \"mean_fitness_score\"] = fscore_mutcount_mean\n",
    "\n",
    "weighted_variances_try = pd.Series(index=variance_per_mutant_count_df_16.index)\n",
    "\n",
    "for mutation in all_possible_mutations:\n",
    "    row_variance = variance_per_mutant_count_df_16.loc[mutation]\n",
    "    non_nan_values_variance = row_variance.dropna()\n",
    "\n",
    "    if len(non_nan_values_variance) > 0:\n",
    "        non_nan_weights_variance = mean_fitness_scores.loc[non_nan_values_variance.index]['mean_fitness_score']\n",
    "        weighted_variances_try[mutation] = np.average(non_nan_values_variance, weights=non_nan_weights_variance)\n",
    "\n",
    "weighted_variances_try_df = pd.DataFrame({'Weighted Variances': weighted_variances_try})\n"
   ],
   "metadata": {
    "collapsed": false,
    "is_executing": true
   }
  },
  {
   "cell_type": "code",
   "execution_count": null,
   "outputs": [],
   "source": [
    "#PREP for 5d: variances weighted with wieviel as weights\n",
    "#dataframe with the mean fscores of each mutation count\n",
    "\n",
    "for mutation in all_possible_mutations:\n",
    "    row_variance = variance_per_mutant_count_df_16.loc[mutation]\n",
    "    non_nan_values_variance = row_variance.dropna()\n",
    "    row_weight_how_many = how_many_per_mutant_count_df.loc[mutation].to_frame(name = 'how_many')\n",
    "\n",
    "    if len(non_nan_values_variance) > 0:\n",
    "        non_nan_weights_variance = row_weight_how_many.loc[non_nan_values_variance.index]['how_many']\n",
    "        weighted_variances_try[mutation] = np.average(non_nan_values_variance, weights=non_nan_weights_variance)\n",
    "\n",
    "weighted_variances_d_df = pd.DataFrame({'Weighted Variances': weighted_variances_try})\n"
   ],
   "metadata": {
    "collapsed": false,
    "is_executing": true
   }
  },
  {
   "cell_type": "code",
   "execution_count": null,
   "outputs": [],
   "source": [
    "#ranking5_0: wrong calculation of the variance (only the mutations that have complete data for all mutcounts\n",
    "#not mean of variance but sum! -> how \"complete\" is dataset\n",
    "\n",
    "list_ranking5_0 = []\n",
    "for i in all_possible_mutations:\n",
    "\n",
    "    score_ranking5_0 =score_ranking5_0 = (all_differences_means.loc[i].values[0] * df_wie_oft_muts_insg.loc[i].values[0]) / np.nansum(variance_per_mutant_count_df.loc[i].values)\n",
    "\n",
    "    list_ranking5_0.append(score_ranking5)\n",
    "ranking5_0_unsorted = pd.DataFrame(list_ranking5_0, index=all_possible_mutations, columns=['ranking5_0_score'])\n",
    "ranking5_0 = ranking5_0_unsorted.sort_values(by='ranking5_0_score', ascending= False)\n",
    "ranking5_0"
   ],
   "metadata": {
    "collapsed": false,
    "is_executing": true
   }
  },
  {
   "cell_type": "code",
   "execution_count": null,
   "outputs": [],
   "source": [
    "#variance calculated with the mean over all mut count varaiances\n",
    "list_ranking5_a = []\n",
    "for i in all_possible_mutations:\n",
    "    score_ranking5_a = (all_differences_means.loc[i].values[0]) * df_wie_oft_muts_insg.loc[i].values[0] / (mean_variances_per_mutations_16.loc[i].values[0])\n",
    "    list_ranking5_a.append(score_ranking5_a)\n",
    "ranking5_unsorted_a = pd.DataFrame(list_ranking5_a, index=all_possible_mutations, columns=['ranking5_a_score'])\n",
    "ranking5_a = ranking5_unsorted_a.sort_values(by='ranking5_a_score', ascending= False)\n",
    "ranking5_a\n"
   ],
   "metadata": {
    "collapsed": false,
    "is_executing": true
   }
  },
  {
   "cell_type": "code",
   "execution_count": null,
   "outputs": [],
   "source": [
    "#variance calculated with the mean fscores of the corresponding mutcount group\n",
    "list_ranking5_b = []\n",
    "for i in all_possible_mutations:\n",
    "\n",
    "    score_ranking5_b = (all_differences_means.loc[i].values[0]) * df_wie_oft_muts_insg.loc[i].values[0] / (weighted_variances_try_df.loc[i].values[0])\n",
    "    list_ranking5_b.append(score_ranking5_b)\n",
    "ranking5_unsorted_b = pd.DataFrame(list_ranking5_b, index=all_possible_mutations, columns=['ranking5_b_score'])\n",
    "ranking5_b = ranking5_unsorted_b.sort_values(by='ranking5_b_score', ascending= False)\n",
    "ranking5_b\n"
   ],
   "metadata": {
    "collapsed": false,
    "is_executing": true
   }
  },
  {
   "cell_type": "code",
   "execution_count": null,
   "outputs": [],
   "source": [
    "#variance mean from the variances from the mutcount groups 2 to 7\n",
    "list_ranking5_c = []\n",
    "for i in all_possible_mutations:\n",
    "\n",
    "    score_ranking5_c = (all_differences_means.loc[i].values[0]) * df_wie_oft_muts_insg.loc[i].values[0] / (mean_variances_per_mutations.loc[i].values[0])\n",
    "    list_ranking5_c.append(score_ranking5_c)\n",
    "ranking5_unsorted_c = pd.DataFrame(list_ranking5_c, index=all_possible_mutations, columns=['ranking5_c_score'])\n",
    "ranking5_c = ranking5_unsorted_c.sort_values(by='ranking5_c_score', ascending= False)\n",
    "ranking5_c\n"
   ],
   "metadata": {
    "collapsed": false,
    "is_executing": true
   }
  },
  {
   "cell_type": "code",
   "execution_count": null,
   "outputs": [],
   "source": [
    "#variance mean weighted with how many values there are for each group\n",
    "list_ranking5_d = []\n",
    "for i in all_possible_mutations:\n",
    "\n",
    "    score_ranking5_d = (all_differences_means.loc[i].values[0]) * df_wie_oft_muts_insg.loc[i].values[0] / (mean_variances_per_mutations.loc[i].values[0])\n",
    "    list_ranking5_d.append(score_ranking5_d)\n",
    "ranking5_unsorted_d = pd.DataFrame(list_ranking5_d, index=all_possible_mutations, columns=['ranking5_d_score'])\n",
    "ranking5_d = ranking5_unsorted_d.sort_values(by='ranking5_d_score', ascending= False)\n",
    "ranking5_d\n"
   ],
   "metadata": {
    "collapsed": false,
    "is_executing": true
   }
  },
  {
   "cell_type": "code",
   "execution_count": null,
   "outputs": [],
   "source": [
    "#code for formatting: change name to us\n",
    "# formatted dataframe with marked \"important\" mutations (TOP15 paper, TOP from pedigrees (Angela))\n",
    "TOP_MUTANTS = ['V163A', 'K166Q', 'I171V', 'K113R', 'K214E', 'K156R']\n",
    "\n",
    "def highlight_top_mutants(row):\n",
    "    color = 'red' if row.name in TOP_MUTANTS else 'black'\n",
    "    return ['color: {}'.format(color)] * len(row)\n",
    "\n",
    "styled_ranking5= ranking5.style.apply(highlight_top_mutants, axis=1)\n",
    "\n",
    "with open('formatted_ranking5.html', 'w') as file:\n",
    "    file.write(styled_ranking5.render())\n"
   ],
   "metadata": {
    "collapsed": false,
    "is_executing": true
   }
  },
  {
   "cell_type": "markdown",
   "source": [
    "\n",
    "\n",
    "\n",
    "\n",
    "\n",
    "RANKING 6:\n",
    "-> delta G values ranked on their own\n",
    "-> but calculated as differences as fscores"
   ],
   "metadata": {
    "collapsed": false,
    "is_executing": true
   },
   "outputs": []
  },
  {
   "cell_type": "code",
   "execution_count": null,
   "outputs": [],
   "source": [
    "delta_G_data = pd.read_csv('/Users/liza/Downloads/df_ddG.csv')"
   ],
   "metadata": {
    "collapsed": false,
    "is_executing": true
   }
  },
  {
   "cell_type": "code",
   "execution_count": null,
   "outputs": [],
   "source": [
    "count_fscore_frame['delta G'] = delta_G_data['Score']\n",
    "print(count_fscore_frame)"
   ],
   "metadata": {
    "collapsed": false,
    "is_executing": true
   }
  },
  {
   "cell_type": "code",
   "execution_count": null,
   "outputs": [],
   "source": [
    "#same calculation as for the fscores above to get the general impact of one mutation on the delta G values\n",
    "differences_delta_G_list = []\n",
    "\n",
    "for i in all_possible_mutations:\n",
    "    index_when_mut_present = result_how_often.loc[result_how_often[i] == True].index\n",
    "\n",
    "    only_rows_with_mut = count_fscore_frame[(count_fscore_frame['mut_count'] >2) & (count_fscore_frame .index.isin(index_when_mut_present))]\n",
    "\n",
    "# Calculate the mean of DMS_score for the filtered rows\n",
    "    mean_delta_G_only_mut = only_rows_with_mut['delta G'].mean()\n",
    "#-------------\n",
    "    index_when_not_mut_present = result_how_often.loc[result_how_often[i] == False].index\n",
    "\n",
    "    only_rows_withOUT_mut = count_fscore_frame[(count_fscore_frame['mut_count'] >2) & (count_fscore_frame.index.isin(index_when_not_mut_present))]\n",
    "\n",
    "# Calculate the mean of DMS_score for the filtered rows\n",
    "    mean_delta_G_every_but_mut = only_rows_withOUT_mut['delta G'].mean()\n",
    "#----------------\n",
    "    difference_means_delta_G = mean_delta_G_every_but_mut - mean_delta_G_only_mut\n",
    "    differences_delta_G_list.append(difference_means_delta_G)\n",
    "\n",
    "all_differences_delta_G_means = pd.DataFrame({'Difference dG': differences_delta_G_list}, index=all_possible_mutations)\n",
    "\n",
    "# the better the stability of the mutation\n",
    "#-> difference: WITHOUT - WITH, better mutations have higher difference scores"
   ],
   "metadata": {
    "collapsed": false,
    "is_executing": true
   }
  },
  {
   "cell_type": "code",
   "execution_count": null,
   "outputs": [],
   "source": [
    "#ranking delta G\n",
    "combined_difference_dG_wie_oft_mut = pd.concat([all_differences_delta_G_means, df_wie_oft_muts_insg], axis=1)\n",
    "combined_difference_dG_wie_oft_mut.columns = ['Difference dG', 'wie oft kommt mut insg vor']\n",
    "\n",
    "ranking6 = combined_difference_dG_wie_oft_mut.sort_values(by='Difference dG', ascending=False)\n",
    "\n",
    "ranking6 = ranking6.drop(ranking6[~(ranking6['wie oft kommt mut insg vor'] >= 20)].index)\n",
    "\n",
    "print(ranking6)"
   ],
   "metadata": {
    "collapsed": false,
    "is_executing": true
   }
  },
  {
   "cell_type": "code",
   "execution_count": null,
   "outputs": [],
   "source": [
    "# formatted dataframe with marked \"important\" mutations (TOP15 paper, TOP from pedigrees (Angela))\n",
    "TOP_MUTANTS = ['V163A', 'K166Q', 'I171V', 'K113R', 'K214E', 'K156R']\n",
    "\n",
    "def highlight_top_mutants(row):\n",
    "    color = 'red' if row.name in TOP_MUTANTS else 'black'\n",
    "    return ['color: {}'.format(color)] * len(row)\n",
    "\n",
    "styled_ranking6= ranking6.style.apply(highlight_top_mutants, axis=1)\n",
    "\n",
    "with open('formatted_ranking6.html', 'w') as file:\n",
    "    file.write(styled_ranking6.render())"
   ],
   "metadata": {
    "collapsed": false,
    "is_executing": true
   }
  },
  {
   "cell_type": "markdown",
   "source": [
    "\n",
    "\n",
    "\n",
    "RANKING 7:\n",
    "-> delta G differences combined with ranking 5b (weighted variances with fscore_means)"
   ],
   "metadata": {
    "collapsed": false,
    "is_executing": true
   },
   "outputs": []
  },
  {
   "cell_type": "code",
   "execution_count": null,
   "outputs": [],
   "source": [
    "list_ranking7 = []\n",
    "for i in all_possible_mutations:\n",
    "\n",
    "    score_ranking7 = (all_differences_means.loc[i].values[0]) * df_wie_oft_muts_insg.loc[i].values[0] * all_differences_delta_G_means.loc[i].values[0] / (weighted_variances_try_df.loc[i].values[0] )\n",
    "    list_ranking7.append(score_ranking7)\n",
    "ranking7_unsorted = pd.DataFrame(list_ranking7, index=all_possible_mutations, columns=['ranking7_score'])\n",
    "ranking7 = ranking7_unsorted.sort_values(by='ranking7_score', ascending= False)\n",
    "ranking7"
   ],
   "metadata": {
    "collapsed": false,
    "is_executing": true
   }
  },
  {
   "cell_type": "code",
   "execution_count": null,
   "outputs": [],
   "source": [
    "# formatted dataframe with marked \"important\" mutations (TOP15 paper, TOP from pedigrees (Angela))\n",
    "TOP_MUTANTS = ['V163A', 'K166Q', 'I171V', 'K113R', 'K214E', 'K156R']\n",
    "\n",
    "def highlight_top_mutants(row):\n",
    "    color = 'red' if row.name in TOP_MUTANTS else 'black'\n",
    "    return ['color: {}'.format(color)] * len(row)\n",
    "\n",
    "styled_ranking7= ranking7.style.apply(highlight_top_mutants, axis=1)\n",
    "\n",
    "with open('formatted_ranking7.html', 'w') as file:\n",
    "    file.write(styled_ranking7.render())"
   ],
   "metadata": {
    "collapsed": false,
    "is_executing": true
   }
  }
 ],
 "metadata": {
  "kernelspec": {
   "display_name": "Python 3",
   "language": "python",
   "name": "python3"
  },
  "language_info": {
   "codemirror_mode": {
    "name": "ipython",
    "version": 2
   },
   "file_extension": ".py",
   "mimetype": "text/x-python",
   "name": "python",
   "nbconvert_exporter": "python",
   "pygments_lexer": "ipython2",
   "version": "2.7.6"
  }
 },
 "nbformat": 4,
 "nbformat_minor": 0
}
