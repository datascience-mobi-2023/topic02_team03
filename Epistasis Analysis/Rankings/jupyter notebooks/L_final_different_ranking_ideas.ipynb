{
 "cells": [
  {
   "cell_type": "code",
   "execution_count": 13,
   "metadata": {
    "collapsed": true,
    "ExecuteTime": {
     "end_time": "2023-07-12T08:44:16.066510Z",
     "start_time": "2023-07-12T08:44:11.618145Z"
    }
   },
   "outputs": [],
   "source": [
    "import pandas as pd\n",
    "import numpy as np\n",
    "pd.set_option('display.max_columns', 50)"
   ]
  },
  {
   "cell_type": "code",
   "execution_count": 14,
   "outputs": [
    {
     "name": "stderr",
     "output_type": "stream",
     "text": [
      "/var/folders/sk/q8h0c3zs1v9dt93y5m134swr0000gn/T/ipykernel_42605/3558580236.py:6: FutureWarning: In a future version of pandas all arguments of StringMethods.split except for the argument 'pat' will be keyword-only.\n",
      "  original_dms_data_col[['m1', 'm2', 'm3', 'm4', 'm5', 'm6', 'm7', 'm8', 'm9', 'm10', 'm11', 'm12', 'm13', 'm14', 'm15']] = original_dms_data_col['mutant'].str.split(':', 15, expand=True)\n"
     ]
    }
   ],
   "source": [
    "#read dataset\n",
    "original_dms_data = pd.read_csv('/Users/liza/Documents/Bioinfo Project/DMS_data/AAAA_GFP_dms_data_original_komplett.csv')\n",
    "# split first column of df into multiple columns\n",
    "original_dms_data_col = original_dms_data\n",
    "only_mutants = original_dms_data[\"mutant\"].to_frame()\n",
    "original_dms_data_col[['m1', 'm2', 'm3', 'm4', 'm5', 'm6', 'm7', 'm8', 'm9', 'm10', 'm11', 'm12', 'm13', 'm14', 'm15']] = original_dms_data_col['mutant'].str.split(':', 15, expand=True)"
   ],
   "metadata": {
    "collapsed": false,
    "ExecuteTime": {
     "end_time": "2023-07-12T08:44:16.398986Z",
     "start_time": "2023-07-12T08:44:11.634822Z"
    }
   }
  },
  {
   "cell_type": "markdown",
   "source": [
    "PREPARE DATASET FOR RANKING CALCULATION:\n",
    "1. how many mutations does each mutant have? -> mut_count (df_mutation_count)\n",
    "2. find out all possible mutations -> all_possible_mutations\n",
    "3. df mutations x mutants -> which mutants contain which mutations -> result_how_often\n",
    "4. plots + calculation variance x how many values used for variance per mutation count\n",
    "-> variance of all fscores of all mutants containing mutation X shows how constant the effect of the mutation is\n"
   ],
   "metadata": {
    "collapsed": false
   }
  },
  {
   "cell_type": "code",
   "execution_count": 15,
   "outputs": [],
   "source": [
    "# count how many mutations each mutant has\n",
    "list_mut_count_in_progress = []\n",
    "for i in range(len(original_dms_data['mutant'])):\n",
    "    list_mut_count_in_progress.append(original_dms_data['mutant'].iloc[i].count(':'))\n",
    "list_mut_count_prae = np.array(list_mut_count_in_progress)\n",
    "list_mut_count = (list_mut_count_prae + 1)\n",
    "df_mutation_counts = pd.DataFrame(list_mut_count)"
   ],
   "metadata": {
    "collapsed": false,
    "ExecuteTime": {
     "end_time": "2023-07-12T08:44:16.399600Z",
     "start_time": "2023-07-12T08:44:13.419606Z"
    }
   }
  },
  {
   "cell_type": "code",
   "execution_count": 16,
   "outputs": [
    {
     "data": {
      "text/plain": "   DMS_score   m1     m2     m3     m4     m5     m6     m7    m8    m9   m10  \\\n0   1.301030  K3R   V55A   Q94R  A110T  D117G  M153K  D216A  None  None  None   \n1   3.137350  K3Q   V16A  I167T  L195Q   None   None   None  None  None  None   \n2   1.553913  K3Q  Y143C  N164D  S205P  A227T   None   None  None  None  None   \n3   3.404237  K3Q  Y143N  V193A   None   None   None   None  None  None  None   \n4   3.738586  K3R   None   None   None   None   None   None  None  None  None   \n\n    m11   m12   m13   m14   m15  mut_count  \n0  None  None  None  None  None          7  \n1  None  None  None  None  None          4  \n2  None  None  None  None  None          5  \n3  None  None  None  None  None          3  \n4  None  None  None  None  None          1  ",
      "text/html": "<div>\n<style scoped>\n    .dataframe tbody tr th:only-of-type {\n        vertical-align: middle;\n    }\n\n    .dataframe tbody tr th {\n        vertical-align: top;\n    }\n\n    .dataframe thead th {\n        text-align: right;\n    }\n</style>\n<table border=\"1\" class=\"dataframe\">\n  <thead>\n    <tr style=\"text-align: right;\">\n      <th></th>\n      <th>DMS_score</th>\n      <th>m1</th>\n      <th>m2</th>\n      <th>m3</th>\n      <th>m4</th>\n      <th>m5</th>\n      <th>m6</th>\n      <th>m7</th>\n      <th>m8</th>\n      <th>m9</th>\n      <th>m10</th>\n      <th>m11</th>\n      <th>m12</th>\n      <th>m13</th>\n      <th>m14</th>\n      <th>m15</th>\n      <th>mut_count</th>\n    </tr>\n  </thead>\n  <tbody>\n    <tr>\n      <th>0</th>\n      <td>1.301030</td>\n      <td>K3R</td>\n      <td>V55A</td>\n      <td>Q94R</td>\n      <td>A110T</td>\n      <td>D117G</td>\n      <td>M153K</td>\n      <td>D216A</td>\n      <td>None</td>\n      <td>None</td>\n      <td>None</td>\n      <td>None</td>\n      <td>None</td>\n      <td>None</td>\n      <td>None</td>\n      <td>None</td>\n      <td>7</td>\n    </tr>\n    <tr>\n      <th>1</th>\n      <td>3.137350</td>\n      <td>K3Q</td>\n      <td>V16A</td>\n      <td>I167T</td>\n      <td>L195Q</td>\n      <td>None</td>\n      <td>None</td>\n      <td>None</td>\n      <td>None</td>\n      <td>None</td>\n      <td>None</td>\n      <td>None</td>\n      <td>None</td>\n      <td>None</td>\n      <td>None</td>\n      <td>None</td>\n      <td>4</td>\n    </tr>\n    <tr>\n      <th>2</th>\n      <td>1.553913</td>\n      <td>K3Q</td>\n      <td>Y143C</td>\n      <td>N164D</td>\n      <td>S205P</td>\n      <td>A227T</td>\n      <td>None</td>\n      <td>None</td>\n      <td>None</td>\n      <td>None</td>\n      <td>None</td>\n      <td>None</td>\n      <td>None</td>\n      <td>None</td>\n      <td>None</td>\n      <td>None</td>\n      <td>5</td>\n    </tr>\n    <tr>\n      <th>3</th>\n      <td>3.404237</td>\n      <td>K3Q</td>\n      <td>Y143N</td>\n      <td>V193A</td>\n      <td>None</td>\n      <td>None</td>\n      <td>None</td>\n      <td>None</td>\n      <td>None</td>\n      <td>None</td>\n      <td>None</td>\n      <td>None</td>\n      <td>None</td>\n      <td>None</td>\n      <td>None</td>\n      <td>None</td>\n      <td>3</td>\n    </tr>\n    <tr>\n      <th>4</th>\n      <td>3.738586</td>\n      <td>K3R</td>\n      <td>None</td>\n      <td>None</td>\n      <td>None</td>\n      <td>None</td>\n      <td>None</td>\n      <td>None</td>\n      <td>None</td>\n      <td>None</td>\n      <td>None</td>\n      <td>None</td>\n      <td>None</td>\n      <td>None</td>\n      <td>None</td>\n      <td>None</td>\n      <td>1</td>\n    </tr>\n  </tbody>\n</table>\n</div>"
     },
     "execution_count": 16,
     "metadata": {},
     "output_type": "execute_result"
    }
   ],
   "source": [
    "#concat mutation_count to original df\n",
    "working_dataframe_prae = pd.concat([original_dms_data_col, df_mutation_counts], axis=\"columns\")\n",
    "\n",
    "working_dataframe = working_dataframe_prae.drop(['mutant', 'mutated_sequence', 'DMS_score_bin'], axis=1)\n",
    "working_dataframe.rename(columns={working_dataframe.columns[16]: 'mut_count'}, inplace=True)\n",
    "working_dataframe.head()"
   ],
   "metadata": {
    "collapsed": false,
    "ExecuteTime": {
     "end_time": "2023-07-12T08:44:16.512787Z",
     "start_time": "2023-07-12T08:44:13.465566Z"
    }
   }
  },
  {
   "cell_type": "code",
   "execution_count": 17,
   "outputs": [],
   "source": [
    "#all existing mutations in one list: calculation of all_possible_mutations\n",
    "\n",
    "working_dataframe_only_ms = working_dataframe.loc[:, [\"m1\", \"m2\", \"m3\", 'm4', 'm5', 'm6', 'm7', 'm8', 'm9', 'm10', 'm11', 'm12', 'm13', 'm14', 'm15']]\n",
    "all_possible_mutations = working_dataframe_only_ms.values.flatten().tolist()\n",
    "all_possible_mutations = list(set(all_possible_mutations))\n",
    "#\"none\" is also a value in the list -> remove\n",
    "while None in all_possible_mutations:\n",
    "    all_possible_mutations.remove(None)\n",
    "only_mutants_list = only_mutants['mutant']\n"
   ],
   "metadata": {
    "collapsed": false,
    "ExecuteTime": {
     "end_time": "2023-07-12T08:44:16.533384Z",
     "start_time": "2023-07-12T08:44:13.468112Z"
    }
   }
  },
  {
   "cell_type": "code",
   "execution_count": 18,
   "outputs": [],
   "source": [
    "#remodel df so it is more convenient\n",
    "working_dataframe_prae = pd.concat([original_dms_data_col, df_mutation_counts], axis=\"columns\")\n",
    "working_dataframe = working_dataframe_prae.drop(['mutant', 'mutated_sequence', 'DMS_score_bin'], axis=1)\n",
    "working_dataframe.rename(columns={working_dataframe.columns[16]: 'mut_count'}, inplace=True)\n"
   ],
   "metadata": {
    "collapsed": false,
    "ExecuteTime": {
     "end_time": "2023-07-12T08:44:16.535756Z",
     "start_time": "2023-07-12T08:44:13.468486Z"
    }
   }
  },
  {
   "cell_type": "code",
   "execution_count": 19,
   "outputs": [],
   "source": [
    "#df which mutant from only_mutants_list contains the mutations from all_possible_mutations\n",
    "list_of_dfs = []\n",
    "\n",
    "\n",
    "for i in all_possible_mutations:\n",
    "    new_column_name = f'{i}'\n",
    "    new_column_values = [only_mutants_list.str.contains(i, regex= False)]\n",
    "    new_df = pd.DataFrame({new_column_name: new_column_values})\n",
    "    new_df_exploded = new_df.explode(new_column_name)\n",
    "    list_of_dfs.append(new_df_exploded)\n",
    "\n",
    "# concat dfs from the list\n",
    "result_how_often = pd.concat(list_of_dfs, axis=1)\n",
    "result_how_often = result_how_often.reset_index(drop=True)\n",
    "\n",
    "## result_how_often.to_csv('dataframe_mutanten_Mutationen.csv', index=True)"
   ],
   "metadata": {
    "collapsed": false,
    "ExecuteTime": {
     "end_time": "2023-07-12T08:45:01.882374Z",
     "start_time": "2023-07-12T08:44:13.472622Z"
    }
   }
  },
  {
   "cell_type": "code",
   "execution_count": 20,
   "outputs": [],
   "source": [
    "# more convenient df (just mutcount und fscore)\n",
    "count_fscore_frame = working_dataframe[['DMS_score', 'mut_count']]"
   ],
   "metadata": {
    "collapsed": false,
    "ExecuteTime": {
     "end_time": "2023-07-12T08:45:01.938178Z",
     "start_time": "2023-07-12T08:45:01.847267Z"
    }
   }
  },
  {
   "cell_type": "code",
   "execution_count": null,
   "outputs": [],
   "source": [
    "#plot: variance of fscores per mutation count and number of values uesed for variance calculation\n",
    "#-> bottom right corner is the best, because the varaince is the most reliable\n",
    "\n",
    "import matplotlib.pyplot as plt\n",
    "\n",
    "\n",
    "fig, axes = plt.subplots(nrows=5, ncols=3, figsize=(19, 12))  # Abbildung und Achsenobjekte erstellen\n",
    "plt.subplots_adjust(wspace=0.4, hspace=0.6)\n",
    "\n",
    "for j, ax in zip(range(2, 16), axes.flatten()):\n",
    "    variance_per_mutant_list = []\n",
    "\n",
    "    for i in all_possible_mutations:\n",
    "        mut_count_fscore = count_fscore_frame.loc[result_how_often[i] == True]\n",
    "        fscore_mut = mut_count_fscore['DMS_score'].loc[mut_count_fscore['mut_count'] == j]\n",
    "        varianz_mut = fscore_mut.var()\n",
    "        variance_per_mutant_list.append(varianz_mut)\n",
    "\n",
    "    variance_per_mutant_series = pd.Series(variance_per_mutant_list, index=all_possible_mutations)\n",
    "    variance_per_mutant_df = variance_per_mutant_series.to_frame()\n",
    "\n",
    "\n",
    "#how reliable is the calculated variance? -> how many values are available for the calculation\n",
    "\n",
    "    how_many_for_variance = []\n",
    "\n",
    "    for i in all_possible_mutations:\n",
    "        mut_count_fscore = count_fscore_frame.loc[result_how_often[i] == True]\n",
    "        fscore_mut = mut_count_fscore['DMS_score'].loc[mut_count_fscore['mut_count'] == j]\n",
    "        wie_viel_jeweils = len(fscore_mut)\n",
    "        how_many_for_variance.append(wie_viel_jeweils)\n",
    "\n",
    "    how_many_for_variance = pd.Series(how_many_for_variance, index=all_possible_mutations)\n",
    "    how_many_for_variance_df = how_many_for_variance.to_frame()\n",
    "\n",
    "\n",
    "    how_many_AND_variance_df = pd.concat([how_many_for_variance_df, variance_per_mutant_df], axis = 1)\n",
    "    how_many_AND_variance_df.columns = ['number of used values', 'Variance']\n",
    "    how_many_AND_variance_df = how_many_AND_variance_df.dropna()\n",
    "\n",
    "#scatter plot variance x count\n",
    "    ax.scatter(how_many_AND_variance_df['number of used values'],how_many_AND_variance_df['Variance'], s = j )\n",
    "    ax.set_xlabel('number of used values')\n",
    "    ax.set_ylabel('Variance')\n",
    "\n",
    "    if \"V163A\" in how_many_AND_variance_df.index:\n",
    "        ax.scatter(how_many_AND_variance_df['number of used values']['V163A'],how_many_AND_variance_df['Variance']['V163A'], c='red')\n",
    "    ax.set_title(f'mutation count = {j} ')\n",
    "\n"
   ],
   "metadata": {
    "collapsed": false,
    "is_executing": true,
    "ExecuteTime": {
     "start_time": "2023-07-12T08:45:01.930367Z"
    }
   }
  },
  {
   "cell_type": "markdown",
   "source": [
    "FURTHER PREPARATION FOR RANKINGS:\n",
    "1. variance calculation per mutant (not-weighted)\n",
    "2. how many values got used for the calculation, same as above but for every mutcount combined\n",
    "-> both in one dataframe\n",
    "3. calculate df that contains the difference between the fscore-means of all mutants WITH mutation X and WITHOUT mutation X\n",
    "-> how big is the effect of the mutation on existing in general\n",
    "-> not weighted"
   ],
   "metadata": {
    "collapsed": false
   }
  },
  {
   "cell_type": "code",
   "execution_count": null,
   "outputs": [],
   "source": [
    "#variance means, calculate variances per mutation per mutation count -> mean of all per mutation\n",
    "#-> not yet weighted\n",
    "\n",
    "frame_zum_mitteln_variance = pd.DataFrame(index = all_possible_mutations)\n",
    "variance_per_mutant_count_list = []\n",
    "\n",
    "# IMPORTANT!! -> only values from mutants with up to 7 mutations (mut_count < 7), because the fscores from mutants with a mut_counts above 7 are generally low (-> boxplot from statistical_test_fscores)\n",
    "for j, ax in zip(range(2, 8), axes.flatten()):\n",
    "    variance_per_mutant_list = []\n",
    "\n",
    "    for i in all_possible_mutations:\n",
    "        mut_count_fscore = count_fscore_frame.loc[result_how_often[i] == True]\n",
    "        fscore_mut = mut_count_fscore['DMS_score'].loc[mut_count_fscore['mut_count'] == j]\n",
    "        varianz_mut = fscore_mut.var()  #die varianz je mutation je anzahl\n",
    "        variance_per_mutant_list.append(varianz_mut) #liste der Varianzen ALLER Mutationen je anzahl\n",
    "\n",
    "    variance_per_mutant_df = pd.DataFrame(variance_per_mutant_list, index=all_possible_mutations)\n",
    "    variance_per_mutant_count_list.append(variance_per_mutant_df)\n",
    "variance_per_mutant_count_df = pd.concat(variance_per_mutant_count_list, axis=1)\n",
    "variance_per_mutant_count_df.set_axis(range(2,8), axis=1, inplace=True)\n",
    "\n",
    "# df variance per mutatuion (rows) per mutation_count (columns)\n",
    "variance_per_mutant_count_df\n",
    "mean_variances_per_mutations = pd.DataFrame(variance_per_mutant_count_df.mean(axis=1, skipna=True), columns=['Mean'])\n"
   ],
   "metadata": {
    "collapsed": false,
    "is_executing": true
   }
  },
  {
   "cell_type": "markdown",
   "source": [],
   "metadata": {
    "collapsed": false
   }
  },
  {
   "cell_type": "code",
   "execution_count": null,
   "outputs": [],
   "source": [
    "how_many_per_mutant_count_list = []\n",
    "\n",
    "for j, ax in zip(range(2, 8), axes.flatten()):\n",
    "    how_many_for_variance = []\n",
    "\n",
    "    for i in all_possible_mutations:\n",
    "        mut_count_fscore = count_fscore_frame.loc[result_how_often[i] == True]\n",
    "        fscore_mut = mut_count_fscore['DMS_score'].loc[mut_count_fscore['mut_count'] == j]\n",
    "        wie_viel_jeweils = len(fscore_mut)\n",
    "        how_many_for_variance.append(wie_viel_jeweils)\n",
    "\n",
    "    how_many_per_mutant_df = pd.DataFrame(how_many_for_variance, index=all_possible_mutations)\n",
    "    how_many_per_mutant_count_list.append(how_many_per_mutant_df)\n",
    "how_many_per_mutant_count_df = pd.concat(how_many_per_mutant_count_list, axis=1)\n",
    "how_many_per_mutant_count_df.set_axis(range(2,8), axis=1, inplace=True)\n",
    "\n",
    "mean_how_many_per_mutations = pd.DataFrame(how_many_per_mutant_count_df.mean(axis=1, skipna=True), columns=['Mean'])\n"
   ],
   "metadata": {
    "collapsed": false,
    "is_executing": true
   }
  },
  {
   "cell_type": "code",
   "execution_count": null,
   "outputs": [],
   "source": [
    "combined_means_variance_how_many = pd.concat([mean_variances_per_mutations, mean_how_many_per_mutations], axis=1)\n",
    "combined_means_variance_how_many.columns = ['mean_variances_per_mutations', 'mean_how_many_per_mutations']"
   ],
   "metadata": {
    "collapsed": false,
    "is_executing": true
   }
  },
  {
   "cell_type": "code",
   "execution_count": null,
   "outputs": [],
   "source": [
    "#differences calculated (effect of mutation X on the fscore)\n",
    "nur_fscore_mut_count = working_dataframe.loc[:, [\"DMS_score\", \"mut_count\"]]\n",
    "differences_list = []\n",
    "\n",
    "for i in all_possible_mutations:\n",
    "    #for all mutants WITH the mutation\n",
    "    #filter the mutants for the existing of mutation X (-> result_how_often)\n",
    "    index_when_mut_present = result_how_often.loc[result_how_often[i] == True].index\n",
    "    #fscores from all mutants that match\n",
    "    only_rows_with_mut = nur_fscore_mut_count [(nur_fscore_mut_count ['mut_count'] >2) & (nur_fscore_mut_count .index.isin(index_when_mut_present))]\n",
    "\n",
    "# Calculate the mean of DMS_score for the filtered rows\n",
    "    mean_dms_score_only_mut = only_rows_with_mut['DMS_score'].mean()\n",
    "#-------------\n",
    "    #for all mutants WITHOUT the mutation (same calculation)\n",
    "    index_when_not_mut_present = result_how_often.loc[result_how_often[i] == False].index\n",
    "\n",
    "    only_rows_withOUT_mut = working_dataframe[(working_dataframe['mut_count'] >2) & (working_dataframe.index.isin(index_when_not_mut_present))]\n",
    "\n",
    "# Calculate the mean of DMS_score for the filtered rows\n",
    "    mean_dms_score_every_but_mut = only_rows_withOUT_mut['DMS_score'].mean()\n",
    "#----------------\n",
    "    difference_means = mean_dms_score_only_mut - mean_dms_score_every_but_mut\n",
    "    differences_list.append(difference_means)\n",
    "\n",
    "all_differences_means = pd.DataFrame({'Difference': differences_list}, index=all_possible_mutations)\n"
   ],
   "metadata": {
    "collapsed": false,
    "is_executing": true
   }
  },
  {
   "cell_type": "markdown",
   "source": [
    "----------------RANKING 0:\n",
    "-> ranked by variance (without taking into account how many values got used for the calculation)"
   ],
   "metadata": {
    "collapsed": false
   }
  },
  {
   "cell_type": "code",
   "execution_count": null,
   "outputs": [],
   "source": [
    "sorted_Ranking0 = combined_means_variance_how_many.sort_values(by='mean_variances_per_mutations')\n",
    "\n",
    "sorted_Ranking0"
   ],
   "metadata": {
    "collapsed": false,
    "is_executing": true
   }
  },
  {
   "cell_type": "code",
   "execution_count": null,
   "outputs": [],
   "source": [
    "# formatted dataframe with marked \"important\" mutations (TOP15 paper, TOP from pedigrees (Angela))\n",
    "TOP_MUTANTS = ['V163A', 'K166Q', 'I171V', 'K113R', 'K214E', 'K156R']\n",
    "\n",
    "def highlight_top_mutants(row):\n",
    "    color = 'red' if row.name in TOP_MUTANTS else 'black'\n",
    "    return ['color: {}'.format(color)] * len(row)\n",
    "\n",
    "styled_ranking0= sorted_Ranking0.style.apply(highlight_top_mutants, axis=1)\n",
    "\n",
    "with open('formatted_ranking0.html', 'w') as file:\n",
    "    file.write(styled_ranking0.render())"
   ],
   "metadata": {
    "collapsed": false,
    "is_executing": true
   }
  },
  {
   "cell_type": "markdown",
   "source": [
    "----------------RANKING 1: (that was the try if the ranking-function works)\n",
    "-> ranked by the available values for each mutation (how often does mutation X appear in total)"
   ],
   "metadata": {
    "collapsed": false
   }
  },
  {
   "cell_type": "code",
   "execution_count": null,
   "outputs": [],
   "source": [
    "sorted_Ranking1 = combined_means_variance_how_many.sort_values(by='mean_how_many_per_mutations', ascending= False)\n",
    "\n",
    "print(sorted_Ranking1)"
   ],
   "metadata": {
    "collapsed": false,
    "is_executing": true
   }
  },
  {
   "cell_type": "code",
   "execution_count": null,
   "outputs": [],
   "source": [
    "# formatted dataframe with marked \"important\" mutations (TOP15 paper, TOP from pedigrees (Angela))\n",
    "TOP_MUTANTS = ['V163A', 'K166Q', 'I171V', 'K113R', 'K214E', 'K156R']\n",
    "\n",
    "def highlight_top_mutants(row):\n",
    "    color = 'red' if row.name in TOP_MUTANTS else 'black'\n",
    "    return ['color: {}'.format(color)] * len(row)\n",
    "\n",
    "styled_ranking1= sorted_Ranking1.style.apply(highlight_top_mutants, axis=1)\n",
    "\n",
    "with open('formatted_ranking1.html', 'w') as file:\n",
    "    file.write(styled_ranking1.render())"
   ],
   "metadata": {
    "collapsed": false,
    "is_executing": true
   }
  },
  {
   "cell_type": "markdown",
   "source": [
    "\n",
    "\n",
    "\n",
    "\n",
    "----------------RANKING 1a:\n",
    "-> ranked by a rank_score build from the variance and the count of available mutations\n",
    "-> combination of ranking 0 and 1"
   ],
   "metadata": {
    "collapsed": false
   }
  },
  {
   "cell_type": "code",
   "execution_count": null,
   "outputs": [],
   "source": [
    "combined_means_variance_how_many['Rank'] = combined_means_variance_how_many['mean_variances_per_mutations'].rank(ascending=False) - combined_means_variance_how_many['mean_how_many_per_mutations'].rank()\n",
    "\n",
    "sorted_Ranking1a = combined_means_variance_how_many.sort_values(by='Rank')\n",
    "\n",
    "print(sorted_Ranking1a)"
   ],
   "metadata": {
    "collapsed": false,
    "is_executing": true
   }
  },
  {
   "cell_type": "code",
   "execution_count": null,
   "outputs": [],
   "source": [
    "#same ranking just with only the stabilizing (Difference > 0)\n",
    "condition = all_differences_means['Difference'] > 0\n",
    "sorted_only_stab_Ranking1a = sorted_Ranking1a.drop(all_differences_means.loc[condition].index)\n",
    "print(sorted_only_stab_Ranking1a)\n"
   ],
   "metadata": {
    "collapsed": false,
    "is_executing": true
   }
  },
  {
   "cell_type": "code",
   "execution_count": null,
   "outputs": [],
   "source": [
    "# formatted dataframe with marked \"important\" mutations (TOP15 paper, TOP from pedigrees (Angela))\n",
    "TOP_MUTANTS = ['V163A', 'K166Q', 'I171V', 'K113R', 'K214E', 'K156R']\n",
    "\n",
    "def highlight_top_mutants(row):\n",
    "    color = 'red' if row.name in TOP_MUTANTS else 'black'\n",
    "    return ['color: {}'.format(color)] * len(row)\n",
    "\n",
    "styled_ranking1a= sorted_only_stab_Ranking1a.style.apply(highlight_top_mutants, axis=1)\n",
    "\n",
    "with open('formatted_ranking1a.html', 'w') as file:\n",
    "    file.write(styled_ranking1a.render())"
   ],
   "metadata": {
    "collapsed": false,
    "is_executing": true
   }
  },
  {
   "cell_type": "markdown",
   "source": [
    "\n",
    "\n",
    "\n",
    "\n",
    "----------------RANKING 2:\n",
    "-> only ranked by Difference"
   ],
   "metadata": {
    "collapsed": false
   }
  },
  {
   "cell_type": "code",
   "execution_count": null,
   "outputs": [],
   "source": [
    "#how often does the mutation X appear in all mutants\n",
    "list_wie_oft_mut = []\n",
    "for j in all_possible_mutations:\n",
    "    matching_indexes = result_how_often.loc[result_how_often[j] == True].index\n",
    "    wie_oft = len(matching_indexes)\n",
    "    list_wie_oft_mut.append(wie_oft)\n",
    "df_wie_oft_muts_insg = pd.DataFrame(list_wie_oft_mut, index=all_possible_mutations)\n",
    "df_wie_oft_muts_insg"
   ],
   "metadata": {
    "collapsed": false,
    "is_executing": true
   }
  },
  {
   "cell_type": "code",
   "execution_count": null,
   "outputs": [],
   "source": [
    "#difference and count in one dataframe\n",
    "combined_differenz_wie_oft_mut= pd.concat([all_differences_means, df_wie_oft_muts_insg], axis=1)\n",
    "combined_differenz_wie_oft_mut.columns = ['Difference', 'wie oft kommt mut insg vor']\n"
   ],
   "metadata": {
    "collapsed": false,
    "is_executing": true
   }
  },
  {
   "cell_type": "code",
   "execution_count": null,
   "outputs": [],
   "source": [
    "ranking2 = combined_differenz_wie_oft_mut.sort_values(by='Difference', ascending= False)\n",
    "ranking2"
   ],
   "metadata": {
    "collapsed": false,
    "is_executing": true
   }
  },
  {
   "cell_type": "code",
   "execution_count": null,
   "outputs": [],
   "source": [
    "# formatted dataframe with marked \"important\" mutations (TOP15 paper, TOP from pedigrees (Angela))\n",
    "TOP_MUTANTS = ['V163A', 'K166Q', 'I171V', 'K113R', 'K214E', 'K156R']\n",
    "\n",
    "def highlight_top_mutants(row):\n",
    "    color = 'red' if row.name in TOP_MUTANTS else 'black'\n",
    "    return ['color: {}'.format(color)] * len(row)\n",
    "\n",
    "styled_ranking2= ranking2.style.apply(highlight_top_mutants, axis=1)\n",
    "\n",
    "with open('formatted_ranking2.html', 'w') as file:\n",
    "    file.write(styled_ranking2.render())"
   ],
   "metadata": {
    "collapsed": false,
    "is_executing": true
   }
  },
  {
   "cell_type": "markdown",
   "source": [
    "\n",
    "\n",
    "\n",
    "\n",
    "----------------RANKING 3:\n",
    "-> ranked by difference and count\n"
   ],
   "metadata": {
    "collapsed": false,
    "is_executing": true
   },
   "outputs": []
  },
  {
   "cell_type": "code",
   "execution_count": null,
   "outputs": [],
   "source": [
    "list_ranking3 = []\n",
    "for i in all_possible_mutations:\n",
    "    score_ranking3 = all_differences_means.loc[i].values[0] * df_wie_oft_muts_insg.loc[i].values[0]\n",
    "    list_ranking3.append(score_ranking3)\n",
    "ranking3_unsorted = pd.DataFrame(list_ranking3, index=all_possible_mutations, columns=['ranking3_score'])\n",
    "ranking3 = ranking3_unsorted.sort_values(by='ranking3_score', ascending= False)\n",
    "print(ranking3)"
   ],
   "metadata": {
    "collapsed": false,
    "is_executing": true
   }
  },
  {
   "cell_type": "code",
   "execution_count": null,
   "outputs": [],
   "source": [
    "# formatted dataframe with marked \"important\" mutations (TOP15 paper, TOP from pedigrees (Angela))\n",
    "TOP_MUTANTS = ['V163A', 'K166Q', 'I171V', 'K113R', 'K214E', 'K156R']\n",
    "\n",
    "def highlight_top_mutants(row):\n",
    "    color = 'red' if row.name in TOP_MUTANTS else 'black'\n",
    "    return ['color: {}'.format(color)] * len(row)\n",
    "\n",
    "styled_ranking3= ranking3.style.apply(highlight_top_mutants, axis=1)\n",
    "\n",
    "with open('formatted_ranking3.html', 'w') as file:\n",
    "    file.write(styled_ranking3.render())\n"
   ],
   "metadata": {
    "collapsed": false,
    "is_executing": true
   }
  },
  {
   "cell_type": "markdown",
   "source": [
    "\n",
    "\n",
    "\n",
    "\n",
    "----------------RANKING 4:\n",
    "-> calculate own score1\n",
    "-> score1 = Difference * 1/Variance * Anzahl muts\n",
    "-> score1 = \"effect of the mutation\" * 1/\"how reliable is the mean_fscore\" * how much data is available"
   ],
   "metadata": {
    "collapsed": false,
    "is_executing": true
   },
   "outputs": []
  },
  {
   "cell_type": "code",
   "execution_count": null,
   "outputs": [],
   "source": [
    "list_ranking4 = []\n",
    "for i in all_possible_mutations:\n",
    "    score_ranking4 = all_differences_means.loc[i].values[0] * df_wie_oft_muts_insg.loc[i].values[0] * (1/mean_variances_per_mutations.loc[i].values[0])\n",
    "    list_ranking4.append(score_ranking4)\n",
    "ranking4_unsorted = pd.DataFrame(list_ranking4, index=all_possible_mutations, columns=['ranking4_score'])\n",
    "ranking4 = ranking4_unsorted.sort_values(by='ranking4_score', ascending= False)\n",
    "print(ranking4)"
   ],
   "metadata": {
    "collapsed": false,
    "is_executing": true
   }
  },
  {
   "cell_type": "code",
   "execution_count": null,
   "outputs": [],
   "source": [
    "# formatted dataframe with marked \"important\" mutations (TOP15 paper, TOP from pedigrees (Angela))\n",
    "TOP_MUTANTS = ['V163A', 'K166Q', 'I171V', 'K113R', 'K214E', 'K156R']\n",
    "\n",
    "def highlight_top_mutants(row):\n",
    "    color = 'red' if row.name in TOP_MUTANTS else 'black'\n",
    "    return ['color: {}'.format(color)] * len(row)\n",
    "\n",
    "styled_ranking4= ranking4.style.apply(highlight_top_mutants, axis=1)\n",
    "\n",
    "with open('formatted_ranking4.html', 'w') as file:\n",
    "    file.write(styled_ranking4.render())\n"
   ],
   "metadata": {
    "collapsed": false,
    "is_executing": true
   }
  },
  {
   "cell_type": "markdown",
   "source": [
    "\n",
    "\n",
    "\n",
    "\n",
    "----------------RANKING 5:\n",
    "-> calculate own score\n",
    "-> score2 = Difference * aggregated Variance\n",
    "-> Variance: weighted with mutcount (aggregated variance)\n",
    "(sum of all variances*1/mut_count per mutation)/(count of all MUtations)"
   ],
   "metadata": {
    "collapsed": false,
    "is_executing": true
   },
   "outputs": []
  },
  {
   "cell_type": "code",
   "execution_count": null,
   "outputs": [],
   "source": [
    "list_ranking5 = []\n",
    "for i in all_possible_mutations:\n",
    "\n",
    "    score_ranking5 = (all_differences_means.loc[i].values[0] * df_wie_oft_muts_insg.loc[i].values[0]* 51714) / np.sum(variance_per_mutant_count_df.loc[i].values)\n",
    "    list_ranking5.append(score_ranking5)\n",
    "ranking5_unsorted = pd.DataFrame(list_ranking5, index=all_possible_mutations, columns=['ranking5_score'])\n",
    "ranking5 = ranking5_unsorted.sort_values(by='ranking5_score', ascending= False)\n",
    "print(ranking5)"
   ],
   "metadata": {
    "collapsed": false,
    "is_executing": true
   }
  },
  {
   "cell_type": "code",
   "execution_count": null,
   "outputs": [],
   "source": [
    "# formatted dataframe with marked \"important\" mutations (TOP15 paper, TOP from pedigrees (Angela))\n",
    "TOP_MUTANTS = ['V163A', 'K166Q', 'I171V', 'K113R', 'K214E', 'K156R']\n",
    "\n",
    "def highlight_top_mutants(row):\n",
    "    color = 'red' if row.name in TOP_MUTANTS else 'black'\n",
    "    return ['color: {}'.format(color)] * len(row)\n",
    "\n",
    "styled_ranking5= ranking5.style.apply(highlight_top_mutants, axis=1)\n",
    "\n",
    "with open('formatted_ranking5.html', 'w') as file:\n",
    "    file.write(styled_ranking5.render())\n"
   ],
   "metadata": {
    "collapsed": false,
    "is_executing": true
   }
  },
  {
   "cell_type": "markdown",
   "source": [
    "\n",
    "\n",
    "\n",
    "\n",
    "\n",
    "RANKING 6:\n",
    "-> delta G values ranked on their own\n",
    "-> but calculated as differences as fscores"
   ],
   "metadata": {
    "collapsed": false,
    "is_executing": true
   },
   "outputs": []
  },
  {
   "cell_type": "code",
   "execution_count": null,
   "outputs": [],
   "source": [
    "delta_G_data = pd.read_csv('/Users/liza/Downloads/df_ddG.csv')"
   ],
   "metadata": {
    "collapsed": false,
    "is_executing": true
   }
  },
  {
   "cell_type": "code",
   "execution_count": null,
   "outputs": [],
   "source": [
    "count_fscore_frame['delta G'] = delta_G_data['Score']\n",
    "print(count_fscore_frame)"
   ],
   "metadata": {
    "collapsed": false,
    "is_executing": true
   }
  },
  {
   "cell_type": "code",
   "execution_count": null,
   "outputs": [],
   "source": [
    "#same calculation as for the fscores above to get the general impact of one mutation on the delta G values\n",
    "differences_delta_G_list = []\n",
    "\n",
    "for i in all_possible_mutations:\n",
    "    index_when_mut_present = result_how_often.loc[result_how_often[i] == True].index\n",
    "\n",
    "    only_rows_with_mut = count_fscore_frame[(count_fscore_frame['mut_count'] >2) & (count_fscore_frame .index.isin(index_when_mut_present))]\n",
    "\n",
    "# Calculate the mean of DMS_score for the filtered rows\n",
    "    mean_delta_G_only_mut = only_rows_with_mut['delta G'].mean()\n",
    "#-------------\n",
    "    index_when_not_mut_present = result_how_often.loc[result_how_often[i] == False].index\n",
    "\n",
    "    only_rows_withOUT_mut = count_fscore_frame[(count_fscore_frame['mut_count'] >2) & (count_fscore_frame.index.isin(index_when_not_mut_present))]\n",
    "\n",
    "# Calculate the mean of DMS_score for the filtered rows\n",
    "    mean_delta_G_every_but_mut = only_rows_withOUT_mut['delta G'].mean()\n",
    "#----------------\n",
    "    difference_means_delta_G = mean_delta_G_every_but_mut - mean_delta_G_only_mut\n",
    "    differences_delta_G_list.append(difference_means_delta_G)\n",
    "\n",
    "all_differences_delta_G_means = pd.DataFrame({'Difference dG': differences_delta_G_list}, index=all_possible_mutations)\n",
    "\n",
    "# the better the stability of the mutation\n",
    "#-> difference: WITHOUT - WITH"
   ],
   "metadata": {
    "collapsed": false,
    "is_executing": true
   }
  },
  {
   "cell_type": "code",
   "execution_count": null,
   "outputs": [],
   "source": [
    "#ranking delta G\n",
    "combined_difference_dG_wie_oft_mut = pd.concat([all_differences_delta_G_means, df_wie_oft_muts_insg], axis=1)\n",
    "combined_difference_dG_wie_oft_mut.columns = ['Difference dG', 'wie oft kommt mut insg vor']\n",
    "\n",
    "ranking6 = combined_difference_dG_wie_oft_mut.sort_values(by='Difference dG', ascending=False)\n",
    "\n",
    "ranking6 = ranking6.drop(ranking6[~(ranking6['wie oft kommt mut insg vor'] >= 20)].index)\n",
    "\n",
    "print(ranking6)"
   ],
   "metadata": {
    "collapsed": false,
    "is_executing": true
   }
  },
  {
   "cell_type": "code",
   "execution_count": null,
   "outputs": [],
   "source": [
    "# formatted dataframe with marked \"important\" mutations (TOP15 paper, TOP from pedigrees (Angela))\n",
    "TOP_MUTANTS = ['V163A', 'K166Q', 'I171V', 'K113R', 'K214E', 'K156R']\n",
    "\n",
    "def highlight_top_mutants(row):\n",
    "    color = 'red' if row.name in TOP_MUTANTS else 'black'\n",
    "    return ['color: {}'.format(color)] * len(row)\n",
    "\n",
    "styled_ranking6= ranking6.style.apply(highlight_top_mutants, axis=1)\n",
    "\n",
    "with open('formatted_ranking6.html', 'w') as file:\n",
    "    file.write(styled_ranking6.render())"
   ],
   "metadata": {
    "collapsed": false,
    "is_executing": true
   }
  },
  {
   "cell_type": "markdown",
   "source": [
    "\n",
    "\n",
    "\n",
    "RANKING 7:\n",
    "-> delta G differences combined with ranking 5"
   ],
   "metadata": {
    "collapsed": false,
    "is_executing": true
   },
   "outputs": []
  },
  {
   "cell_type": "code",
   "execution_count": null,
   "outputs": [],
   "source": [
    "list_ranking7 = []\n",
    "for i in all_possible_mutations:\n",
    "\n",
    "    score_ranking7 = (all_differences_means.loc[i].values[0] * df_wie_oft_muts_insg.loc[i].values[0]* 51714) / (np.sum(variance_per_mutant_count_df.loc[i].values) * all_differences_delta_G_means.loc[i].values[0])\n",
    "    list_ranking7.append(score_ranking7)\n",
    "ranking7_unsorted = pd.DataFrame(list_ranking7, index=all_possible_mutations, columns=['ranking7_score'])\n",
    "ranking7 = ranking7_unsorted.sort_values(by='ranking7_score', ascending= False)\n",
    "print(ranking7)"
   ],
   "metadata": {
    "collapsed": false,
    "is_executing": true
   }
  },
  {
   "cell_type": "code",
   "execution_count": null,
   "outputs": [],
   "source": [
    "# formatted dataframe with marked \"important\" mutations (TOP15 paper, TOP from pedigrees (Angela))\n",
    "TOP_MUTANTS = ['V163A', 'K166Q', 'I171V', 'K113R', 'K214E', 'K156R']\n",
    "\n",
    "def highlight_top_mutants(row):\n",
    "    color = 'red' if row.name in TOP_MUTANTS else 'black'\n",
    "    return ['color: {}'.format(color)] * len(row)\n",
    "\n",
    "styled_ranking7= ranking7.style.apply(highlight_top_mutants, axis=1)\n",
    "\n",
    "with open('formatted_ranking7.html', 'w') as file:\n",
    "    file.write(styled_ranking7.render())"
   ],
   "metadata": {
    "collapsed": false,
    "is_executing": true
   }
  },
  {
   "cell_type": "code",
   "execution_count": null,
   "outputs": [],
   "source": [
    "\n",
    "##mean of the variance weighted -> sum of all mean_variance_permutcount * mean_fitness_score_per_mutcount divided by the sum of all used mean_fitness_score_per_mutcount, because apparently that´s necessary?\n",
    "\n",
    "weighted_mean_per_mutant_df = pd.DataFrame(index=all_possible_mutations)\n",
    "\n",
    "for mutation in all_possible_mutations:\n",
    "    weighted_mean = 0\n",
    "    total_weight = 0\n",
    "\n",
    "    for mutation_count in range(2, 15):\n",
    "        variance = variance_per_mutant_count_df.loc[mutation, mutation_count]\n",
    "\n",
    "        if not np.isnan(variance):\n",
    "            mean_fitness_score = mean_fitness_scores.at[mutation_count, 'mean_fitness_score']\n",
    "            weighted_mean += variance * mean_fitness_score\n",
    "            total_weight += mean_fitness_score\n",
    "\n",
    "    if total_weight != 0:\n",
    "        weighted_mean /= total_weight\n",
    "\n",
    "    weighted_mean_per_mutant_df.at[mutation, 'weighted_mean'] = weighted_mean\n",
    "\n",
    "#----------------RANKING 0 weighted: nur nach Varianz der fscores\n",
    "sorted_Ranking0_weighted = weighted_mean_per_mutant_df.sort_values(by='weighted_mean')\n",
    "\n",
    "TOP_MUTANTS = ['V163A', 'K166Q', 'I171V', 'K113R', 'K214E', 'K156R']\n",
    "\n",
    "\n",
    "# Funktion zum Formatieren der Zeilen und Hervorheben der Werte in TOP_MUTANTS\n",
    "def highlight_top_mutants(row):\n",
    "    color = 'red' if row.name in TOP_MUTANTS else 'black'\n",
    "    return ['color: {}'.format(color)] * len(row)\n",
    "\n",
    "\n",
    "# Anwendung der Formatierungsfunktion auf das gesamte DataFrame\n",
    "styled_ranking0_weighted = sorted_Ranking0_weighted.style.apply(highlight_top_mutants, axis=1)\n",
    "\n",
    "# Den formatierten DataFrame als HTML-Datei speichern\n",
    "#with open('formatted_ranking0_weighted.html', 'w') as file:\n",
    "#file.write(styled_ranking0_weighted.render())\n",
    "\n",
    "\n",
    "#----------------RANKING 2: nur nach fscore_mean Differenz\n",
    "# Create an empty dataframe to store the results\n",
    "mean_for_differences_with = pd.DataFrame(index=all_possible_mutations, columns=range(2, 16))\n",
    "\n",
    "for mutation in all_possible_mutations:\n",
    "    for mutation_count in range(2, 16):\n",
    "        index_when_mut_present_weighted = result_how_often.loc[result_how_often[mutation] == True].index\n",
    "\n",
    "        only_rows_with_mut_weighted = nur_fscore_mut_count_weighted[\n",
    "            (nur_fscore_mut_count_weighted['mut_count'] == mutation_count) & (\n",
    "                nur_fscore_mut_count_weighted.index.isin(index_when_mut_present_weighted))]\n",
    "\n",
    "        # Calculate the mean of fitness score for the filtered rows\n",
    "        mean_fitness_withOUT_mut_score = only_rows_with_mut_weighted['DMS_score'].mean()\n",
    "\n",
    "        # Store the mean fitness score in the result dataframe\n",
    "        mean_for_differences_with.loc[mutation, mutation_count] = mean_fitness_withOUT_mut_score\n",
    "\n",
    "# Assuming your dataframe is named 'data' and 'mean_fitness_scores' is another dataframe with weights\n",
    "\n",
    "weights = mean_fitness_scores['mean_fitness_score'].values\n",
    "\n",
    "# Calculate weighted means per row, ignoring NaN values\n",
    "weighted_means = np.zeros(len(mean_for_differences_with))\n",
    "\n",
    "for i, row in enumerate(mean_for_differences_with.values):\n",
    "    non_nan_values = row[~pd.isna(row)]\n",
    "    non_nan_weights = weights[~pd.isna(row)]\n",
    "\n",
    "    if len(non_nan_values) > 0:\n",
    "        weighted_means[i] = np.average(non_nan_values, weights=non_nan_weights)\n",
    "\n",
    "# Create a new dataframe to store the weighted means\n",
    "weighted_means_with_df = pd.DataFrame({'Weighted Mean': weighted_means}, index=mean_for_differences_with.index)\n",
    "\n",
    "# Create an empty dataframe to store the results\n",
    "mean_for_differences_withOUT = pd.DataFrame(index=all_possible_mutations, columns=range(2, 16))\n",
    "\n",
    "for mutation in all_possible_mutations:\n",
    "    for mutation_count in range(2, 16):\n",
    "        index_when_mut_NOT_present_weighted = result_how_often.loc[result_how_often[mutation] == False].index\n",
    "\n",
    "        only_rows_withOUT_mut_weighted = nur_fscore_mut_count_weighted[\n",
    "            (nur_fscore_mut_count_weighted['mut_count'] == mutation_count) & (\n",
    "                nur_fscore_mut_count_weighted.index.isin(index_when_mut_NOT_present_weighted))]\n",
    "\n",
    "        # Calculate the mean of fitness score for the filtered rows\n",
    "        mean_fitness_withOUT_mut_score = only_rows_withOUT_mut_weighted['DMS_score'].mean()\n",
    "\n",
    "        # Store the mean fitness score in the result dataframe\n",
    "        mean_for_differences_withOUT.loc[mutation, mutation_count] = mean_fitness_withOUT_mut_score\n",
    "\n",
    "weights = mean_fitness_scores.values.ravel()\n",
    "\n",
    "weighted_means = np.average(mean_for_differences_withOUT, axis=1, weights=weights)\n",
    "\n",
    "# Create a new dataframe to store the weighted means\n",
    "weighted_means_withOUT_df = pd.DataFrame({'Weighted Mean': weighted_means}, index=mean_for_differences_withOUT.index)\n",
    "\n",
    "all_differences_means_weighted = weighted_means_with_df - weighted_means_withOUT_df\n",
    "\n",
    "#VORBEREITUNG copy&paste\n",
    "list_wie_oft_mut = []\n",
    "for j in all_possible_mutations:\n",
    "    matching_indexes = result_how_often.loc[result_how_often[j] == True].index\n",
    "    wie_oft = len(matching_indexes)\n",
    "    list_wie_oft_mut.append(wie_oft)\n",
    "df_wie_oft_muts_insg = pd.DataFrame(list_wie_oft_mut, index=all_possible_mutations)\n",
    "\n",
    "#VORBEREITUNG copy&paste\n",
    "#code für ranking aus anderem dokument aber mit den sachen von oben berücksichtigt, alle destab raus\n",
    "combined_differenz_wie_oft_mut_weighted = pd.concat([all_differences_means_weighted, df_wie_oft_muts_insg], axis=1)\n",
    "combined_differenz_wie_oft_mut_weighted.columns = ['Difference_weighted', 'wie oft kommt mut insg vor']\n",
    "\n",
    "ranking2_weighted = combined_differenz_wie_oft_mut_weighted.sort_values(by='Difference_weighted', ascending=False)\n",
    "\n",
    "TOP_MUTANTS = ['V163A', 'K166Q', 'I171V', 'K113R', 'K214E', 'K156R']\n",
    "\n",
    "\n",
    "# Funktion zum Formatieren der Zeilen und Hervorheben der Werte in TOP_MUTANTS\n",
    "def highlight_top_mutants(row):\n",
    "    color = 'red' if row.name in TOP_MUTANTS else 'black'\n",
    "    return ['color: {}'.format(color)] * len(row)\n",
    "\n",
    "\n",
    "# Anwendung der Formatierungsfunktion auf das gesamte DataFrame\n",
    "styled_ranking2_weighted = ranking2_weighted.style.apply(highlight_top_mutants, axis=1)\n",
    "\n",
    "# Den formatierten DataFrame als HTML-Datei speichern\n",
    "#with open('formatted_ranking2_weighted.html', 'w') as file:\n",
    "#file.write(styled_ranking2_weighted.render())\n",
    "\n",
    "\n",
    "#----------------RANKING 3: nach Differenz gewichtet nach Anzahl\n",
    "list_ranking3_weighted = []\n",
    "for i in all_possible_mutations:\n",
    "    score_ranking3_weighted = all_differences_means_weighted.loc[i].values[0] * df_wie_oft_muts_insg.loc[i].values[0]\n",
    "    list_ranking3_weighted.append(score_ranking3_weighted)\n",
    "\n",
    "ranking3_unsorted_weighted = pd.DataFrame(list_ranking3_weighted, index=all_possible_mutations,\n",
    "                                          columns=['ranking3_score_weighted'])\n",
    "ranking3_weighted = ranking3_unsorted_weighted.sort_values(by='ranking3_score_weighted', ascending=False)\n",
    "\n",
    "TOP_MUTANTS = ['V163A', 'K166Q', 'I171V', 'K113R', 'K214E', 'K156R']\n",
    "\n",
    "\n",
    "# Funktion zum Formatieren der Zeilen und Hervorheben der Werte in TOP_MUTANTS\n",
    "def highlight_top_mutants(row):\n",
    "    color = 'red' if row.name in TOP_MUTANTS else 'black'\n",
    "    return ['color: {}'.format(color)] * len(row)\n",
    "\n",
    "\n",
    "# Anwendung der Formatierungsfunktion auf das gesamte DataFrame\n",
    "styled_ranking3_weighted = ranking3_weighted.style.apply(highlight_top_mutants, axis=1)\n",
    "\n",
    "# Den formatierten DataFrame als HTML-Datei speichern\n",
    "#with open('formatted_ranking3_weighted.html', 'w') as file:\n",
    "#file.write(styled_ranking3_weighted.render())\n",
    "\n",
    "\n",
    "#--> bei den Werten wo die Varianz wegen zu wenigen Werten gleich 0 ist, entstehen durch den Bruch INF werte, müssen ignoriert werden\n",
    "#---> theoretisch später raussortierbar\n",
    "#---> kein if clause, weil sonst unterschiedliche Berechnung (\"unfair\")\n",
    "\n",
    "\n",
    "#----------------RANKING 4: nach eigenem score1:\n",
    "#-> score1 = Differenz * 1/Varianz * Anzahl muts\n",
    "list_ranking4_weighted = []\n",
    "for i in all_possible_mutations:\n",
    "    score_ranking4_weighted = all_differences_means_weighted.loc[i].values[0] * df_wie_oft_muts_insg.loc[i].values[\n",
    "        0] * (1 / mean_variances_per_mutations.loc[i].values[0])\n",
    "    list_ranking4_weighted.append(score_ranking4_weighted)\n",
    "ranking4_unsorted_weighted = pd.DataFrame(list_ranking4_weighted, index=all_possible_mutations,\n",
    "                                          columns=['ranking4_score_weighted '])\n",
    "ranking4_weighted = ranking4_unsorted_weighted.sort_values(by='ranking4_score_weighted ', ascending=False)\n",
    "\n",
    "TOP_MUTANTS = ['V163A', 'K166Q', 'I171V', 'K113R', 'K214E', 'K156R']\n",
    "\n",
    "\n",
    "# Funktion zum Formatieren der Zeilen und Hervorheben der Werte in TOP_MUTANTS\n",
    "def highlight_top_mutants(row):\n",
    "    color = 'red' if row.name in TOP_MUTANTS else 'black'\n",
    "    return ['color: {}'.format(color)] * len(row)\n",
    "\n",
    "\n",
    "# Anwendung der Formatierungsfunktion auf das gesamte DataFrame\n",
    "styled_ranking4_weighted = ranking4_weighted.style.apply(highlight_top_mutants, axis=1)\n",
    "\n",
    "# Den formatierten DataFrame als HTML-Datei speichern\n",
    "#with open('formatted_ranking4_weighted .html', 'w') as file:\n",
    "#file.write(styled_ranking4_weighted .render())\n",
    "\n",
    "\n",
    "#----------------RANKING 5: nach eigenem score2 :\n",
    "#-> score2 = Differenz * aggregierte Varianz\n",
    "#-> Varianz: gewichten mit mutcount (aggregierte Varianz)\n",
    "#(Summe aller Varianzen*1/Anzahl muts)/(Gesamtzahl Mutationen)\n",
    "###macht keinen sinn, aggregierte Varianz nochmal ? , ist auch nicht gut\n",
    "\n",
    "#aggregierte Varianz: bezieht streuung über ganzes Datenset mi ein\n",
    "#gewichtete Varianz: Verhalten innerhalb der Gruppe\n",
    "\n",
    "#--> NUR DIFFERENCE ist gewichtet miteinbezogen!! Varianz nicht, nicht geeigenet\n",
    "list_ranking5_weighted1 = []\n",
    "for i in all_possible_mutations:\n",
    "    score_ranking5_weighted1 = (all_differences_means_weighted.loc[i].values[0] * df_wie_oft_muts_insg.loc[i].values[\n",
    "        0] * 51714) / np.sum(variance_per_mutant_count_df.loc[i].values)\n",
    "    list_ranking5_weighted1.append(score_ranking5_weighted1)\n",
    "ranking5_unsorted_weighted1 = pd.DataFrame(list_ranking5_weighted1, index=all_possible_mutations,\n",
    "                                           columns=['ranking5_score_weighted1'])\n",
    "ranking5_weighted1 = ranking5_unsorted_weighted1.sort_values(by='ranking5_score_weighted1', ascending=False)\n",
    "\n",
    "TOP_MUTANTS = ['V163A', 'K166Q', 'I171V', 'K113R', 'K214E', 'K156R']\n",
    "\n",
    "\n",
    "# Funktion zum Formatieren der Zeilen und Hervorheben der Werte in TOP_MUTANTS\n",
    "def highlight_top_mutants(row):\n",
    "    color = 'red' if row.name in TOP_MUTANTS else 'black'\n",
    "    return ['color: {}'.format(color)] * len(row)\n",
    "\n",
    "\n",
    "# Anwendung der Formatierungsfunktion auf das gesamte DataFrame\n",
    "styled_ranking5_weighted1 = ranking5_weighted1.style.apply(highlight_top_mutants, axis=1)\n",
    "\n",
    "# Den formatierten DataFrame als HTML-Datei speichern\n",
    "#with open('formatted_ranking5_weighted.html', 'w') as file:\n",
    "#file.write(styled_ranking5_weighted1.render())\n",
    "\n",
    "\n",
    "#RANKING 7 weighted:\n",
    "#-> delta G Differenzwerte mit Ranking 5 verrechnet\n",
    "list_ranking7_weighted = []\n",
    "for i in all_possible_mutations:\n",
    "    score_ranking7_weighted = (all_differences_means_weighted.loc[i].values[0] * df_wie_oft_muts_insg.loc[i].values[\n",
    "        0] * 51714) / (np.sum(variance_per_mutant_count_df.loc[i].values) * all_differences_delta_G_means.loc[i].values[\n",
    "        0])\n",
    "    list_ranking7_weighted.append(score_ranking7_weighted)\n",
    "ranking7_unsorted_weighted = pd.DataFrame(list_ranking7_weighted, index=all_possible_mutations,\n",
    "                                          columns=['ranking7_weighted_score'])\n",
    "ranking7_weighted = ranking7_unsorted_weighted.sort_values(by='ranking7_weighted_score', ascending=False)\n",
    "\n",
    "TOP_MUTANTS = ['V163A', 'K166Q', 'I171V', 'K113R', 'K214E', 'K156R']\n",
    "\n",
    "\n",
    "# Funktion zum Formatieren der Zeilen und Hervorheben der Werte in TOP_MUTANTS\n",
    "def highlight_top_mutants(row):\n",
    "    color = 'red' if row.name in TOP_MUTANTS else 'black'\n",
    "    return ['color: {}'.format(color)] * len(row)\n",
    "\n",
    "\n",
    "# Anwendung der Formatierungsfunktion auf das gesamte DataFrame\n",
    "styled_ranking7_weighted = ranking7_weighted.style.apply(highlight_top_mutants, axis=1)\n",
    "\n",
    "# Den formatierten DataFrame als HTML-Datei speichern\n",
    "#with open('formatted_ranking7_weighted.html', 'w') as file:\n",
    "#file.write(styled_ranking7_weighted.render())\n"
   ],
   "metadata": {
    "collapsed": false,
    "is_executing": true
   }
  }
 ],
 "metadata": {
  "kernelspec": {
   "display_name": "Python 3",
   "language": "python",
   "name": "python3"
  },
  "language_info": {
   "codemirror_mode": {
    "name": "ipython",
    "version": 2
   },
   "file_extension": ".py",
   "mimetype": "text/x-python",
   "name": "python",
   "nbconvert_exporter": "python",
   "pygments_lexer": "ipython2",
   "version": "2.7.6"
  }
 },
 "nbformat": 4,
 "nbformat_minor": 0
}
