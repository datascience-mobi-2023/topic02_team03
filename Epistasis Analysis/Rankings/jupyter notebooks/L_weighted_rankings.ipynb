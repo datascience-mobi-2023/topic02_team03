{
 "cells": [
  {
   "cell_type": "code",
   "execution_count": null,
   "outputs": [],
   "source": [],
   "metadata": {
    "collapsed": false
   }
  },
  {
   "cell_type": "code",
   "execution_count": null,
   "outputs": [],
   "source": [
    "import pandas as pd\n",
    "import numpy as np"
   ],
   "metadata": {
    "collapsed": false
   }
  },
  {
   "cell_type": "code",
   "execution_count": 3,
   "outputs": [
    {
     "name": "stderr",
     "output_type": "stream",
     "text": [
      "/var/folders/sk/q8h0c3zs1v9dt93y5m134swr0000gn/T/ipykernel_57879/1912877112.py:6: FutureWarning: In a future version of pandas all arguments of StringMethods.split except for the argument 'pat' will be keyword-only.\n",
      "  original_dms_data_col[['m1', 'm2', 'm3', 'm4', 'm5', 'm6', 'm7', 'm8', 'm9', 'm10', 'm11', 'm12', 'm13', 'm14', 'm15']] = original_dms_data_col['mutant'].str.split(':', 15, expand=True)\n"
     ]
    }
   ],
   "source": [
    "# Datensatz einlesen\n",
    "original_dms_data = pd.read_csv('/Users/liza/Desktop/Bioinfo Project/DMS_data/GFP_AEQVI_Sarkisyan_2016.csv')\n",
    "# split first column of df into multiple columns\n",
    "original_dms_data_col = original_dms_data\n",
    "only_mutants = original_dms_data[\"mutant\"].to_frame()\n",
    "original_dms_data_col[['m1', 'm2', 'm3', 'm4', 'm5', 'm6', 'm7', 'm8', 'm9', 'm10', 'm11', 'm12', 'm13', 'm14', 'm15']] = original_dms_data_col['mutant'].str.split(':', 15, expand=True)"
   ],
   "metadata": {
    "collapsed": false,
    "ExecuteTime": {
     "end_time": "2023-07-06T18:44:30.600130Z",
     "start_time": "2023-07-06T18:44:24.317092Z"
    }
   }
  },
  {
   "cell_type": "code",
   "execution_count": 4,
   "outputs": [],
   "source": [
    "# zählen wieviele Mutationen jede Sequenz hat\n",
    "list_mut_count_in_progress = []\n",
    "for i in range(len(original_dms_data['mutant'])):\n",
    "    list_mut_count_in_progress.append(original_dms_data['mutant'].iloc[i].count(':'))\n",
    "list_mut_count_prae = np.array(list_mut_count_in_progress)\n",
    "list_mut_count = (list_mut_count_prae + 1)\n",
    "df_mutation_counts = pd.DataFrame(list_mut_count)"
   ],
   "metadata": {
    "collapsed": false,
    "ExecuteTime": {
     "end_time": "2023-07-06T18:44:31.633819Z",
     "start_time": "2023-07-06T18:44:24.793870Z"
    }
   }
  },
  {
   "cell_type": "code",
   "execution_count": 5,
   "outputs": [
    {
     "data": {
      "text/plain": "   DMS_score   m1     m2     m3     m4     m5     m6     m7    m8    m9   m10  \\\n0   1.301030  K3R   V55A   Q94R  A110T  D117G  M153K  D216A  None  None  None   \n1   3.137350  K3Q   V16A  I167T  L195Q   None   None   None  None  None  None   \n2   1.553913  K3Q  Y143C  N164D  S205P  A227T   None   None  None  None  None   \n3   3.404237  K3Q  Y143N  V193A   None   None   None   None  None  None  None   \n4   3.738586  K3R   None   None   None   None   None   None  None  None  None   \n\n    m11   m12   m13   m14   m15  mut_count  \n0  None  None  None  None  None          7  \n1  None  None  None  None  None          4  \n2  None  None  None  None  None          5  \n3  None  None  None  None  None          3  \n4  None  None  None  None  None          1  ",
      "text/html": "<div>\n<style scoped>\n    .dataframe tbody tr th:only-of-type {\n        vertical-align: middle;\n    }\n\n    .dataframe tbody tr th {\n        vertical-align: top;\n    }\n\n    .dataframe thead th {\n        text-align: right;\n    }\n</style>\n<table border=\"1\" class=\"dataframe\">\n  <thead>\n    <tr style=\"text-align: right;\">\n      <th></th>\n      <th>DMS_score</th>\n      <th>m1</th>\n      <th>m2</th>\n      <th>m3</th>\n      <th>m4</th>\n      <th>m5</th>\n      <th>m6</th>\n      <th>m7</th>\n      <th>m8</th>\n      <th>m9</th>\n      <th>m10</th>\n      <th>m11</th>\n      <th>m12</th>\n      <th>m13</th>\n      <th>m14</th>\n      <th>m15</th>\n      <th>mut_count</th>\n    </tr>\n  </thead>\n  <tbody>\n    <tr>\n      <th>0</th>\n      <td>1.301030</td>\n      <td>K3R</td>\n      <td>V55A</td>\n      <td>Q94R</td>\n      <td>A110T</td>\n      <td>D117G</td>\n      <td>M153K</td>\n      <td>D216A</td>\n      <td>None</td>\n      <td>None</td>\n      <td>None</td>\n      <td>None</td>\n      <td>None</td>\n      <td>None</td>\n      <td>None</td>\n      <td>None</td>\n      <td>7</td>\n    </tr>\n    <tr>\n      <th>1</th>\n      <td>3.137350</td>\n      <td>K3Q</td>\n      <td>V16A</td>\n      <td>I167T</td>\n      <td>L195Q</td>\n      <td>None</td>\n      <td>None</td>\n      <td>None</td>\n      <td>None</td>\n      <td>None</td>\n      <td>None</td>\n      <td>None</td>\n      <td>None</td>\n      <td>None</td>\n      <td>None</td>\n      <td>None</td>\n      <td>4</td>\n    </tr>\n    <tr>\n      <th>2</th>\n      <td>1.553913</td>\n      <td>K3Q</td>\n      <td>Y143C</td>\n      <td>N164D</td>\n      <td>S205P</td>\n      <td>A227T</td>\n      <td>None</td>\n      <td>None</td>\n      <td>None</td>\n      <td>None</td>\n      <td>None</td>\n      <td>None</td>\n      <td>None</td>\n      <td>None</td>\n      <td>None</td>\n      <td>None</td>\n      <td>5</td>\n    </tr>\n    <tr>\n      <th>3</th>\n      <td>3.404237</td>\n      <td>K3Q</td>\n      <td>Y143N</td>\n      <td>V193A</td>\n      <td>None</td>\n      <td>None</td>\n      <td>None</td>\n      <td>None</td>\n      <td>None</td>\n      <td>None</td>\n      <td>None</td>\n      <td>None</td>\n      <td>None</td>\n      <td>None</td>\n      <td>None</td>\n      <td>None</td>\n      <td>3</td>\n    </tr>\n    <tr>\n      <th>4</th>\n      <td>3.738586</td>\n      <td>K3R</td>\n      <td>None</td>\n      <td>None</td>\n      <td>None</td>\n      <td>None</td>\n      <td>None</td>\n      <td>None</td>\n      <td>None</td>\n      <td>None</td>\n      <td>None</td>\n      <td>None</td>\n      <td>None</td>\n      <td>None</td>\n      <td>None</td>\n      <td>None</td>\n      <td>1</td>\n    </tr>\n  </tbody>\n</table>\n</div>"
     },
     "execution_count": 5,
     "metadata": {},
     "output_type": "execute_result"
    }
   ],
   "source": [
    "#zusammenfügen\n",
    "working_dataframe_prae = pd.concat([original_dms_data_col, df_mutation_counts], axis=\"columns\")\n",
    "#alle Spalten löschen die stören\n",
    "working_dataframe = working_dataframe_prae.drop(['mutant', 'mutated_sequence', 'DMS_score_bin'], axis=1)\n",
    "working_dataframe.rename(columns={working_dataframe.columns[16]: 'mut_count'}, inplace=True)\n",
    "working_dataframe.head()"
   ],
   "metadata": {
    "collapsed": false,
    "ExecuteTime": {
     "end_time": "2023-07-06T18:44:31.916993Z",
     "start_time": "2023-07-06T18:44:25.265939Z"
    }
   }
  },
  {
   "cell_type": "code",
   "execution_count": 6,
   "outputs": [],
   "source": [
    "#alle möglichen Mutationen rausschreiben in den Spalten\n",
    "#all_possible_mutations\n",
    "\n",
    "from pandas import unique\n",
    "working_dataframe_only_ms = working_dataframe.loc[:, [\"m1\", \"m2\", \"m3\", 'm4', 'm5', 'm6', 'm7', 'm8', 'm9', 'm10', 'm11', 'm12', 'm13', 'm14', 'm15']]\n",
    "all_possible_mutations = working_dataframe_only_ms.values.flatten().tolist()\n",
    "all_possible_mutations = list(set(all_possible_mutations))\n",
    "#hat einen none Wert, weil der auch ein Wert in der Liste ist -> wegmachen\n",
    "while None in all_possible_mutations:\n",
    "    all_possible_mutations.remove(None)\n",
    "only_mutants_list = only_mutants['mutant']\n"
   ],
   "metadata": {
    "collapsed": false,
    "ExecuteTime": {
     "end_time": "2023-07-06T18:44:32.027932Z",
     "start_time": "2023-07-06T18:44:25.292126Z"
    }
   }
  },
  {
   "cell_type": "code",
   "execution_count": 7,
   "outputs": [],
   "source": [
    "#zusammenfügen\n",
    "working_dataframe_prae = pd.concat([original_dms_data_col, df_mutation_counts], axis=\"columns\")\n",
    "#alle Spalten löschen die stören\n",
    "working_dataframe = working_dataframe_prae.drop(['mutant', 'mutated_sequence', 'DMS_score_bin'], axis=1)\n",
    "working_dataframe.rename(columns={working_dataframe.columns[16]: 'mut_count'}, inplace=True)\n"
   ],
   "metadata": {
    "collapsed": false,
    "ExecuteTime": {
     "end_time": "2023-07-06T18:44:32.114636Z",
     "start_time": "2023-07-06T18:44:25.362085Z"
    }
   }
  },
  {
   "cell_type": "code",
   "execution_count": 8,
   "outputs": [],
   "source": [
    "##kreuztabelle ob all_possible_mutations in den Mutanten existieren\n",
    "\n",
    "list_of_dfs = []\n",
    "# For-Loop zum Erstellen und Hinzufügen eines neuen Columns in jedem Durchlauf\n",
    "for i in all_possible_mutations:\n",
    "    new_column_name = f'{i}'\n",
    "    new_column_values = [only_mutants_list.str.contains(i, regex= False)]\n",
    "    new_df = pd.DataFrame({new_column_name: new_column_values})\n",
    "    new_df_exploded = new_df.explode(new_column_name)\n",
    "    list_of_dfs.append(new_df_exploded)\n",
    "\n",
    "# Verketten der DataFrames in der Liste\n",
    "result_how_often = pd.concat(list_of_dfs, axis=1)\n",
    "result_how_often = result_how_often.reset_index(drop=True)\n",
    "\n",
    "## result_how_often.to_csv('dataframe_mutanten_Mutationen.csv', index=True)"
   ],
   "metadata": {
    "collapsed": false,
    "ExecuteTime": {
     "end_time": "2023-07-06T18:45:43.411378Z",
     "start_time": "2023-07-06T18:44:25.398499Z"
    }
   }
  },
  {
   "cell_type": "code",
   "execution_count": 9,
   "outputs": [],
   "source": [
    "# dataframe aus original machen der nur mutcount und fscore hat\n",
    "count_fscore_frame = working_dataframe[['DMS_score', 'mut_count']]"
   ],
   "metadata": {
    "collapsed": false,
    "ExecuteTime": {
     "end_time": "2023-07-06T18:45:43.693001Z",
     "start_time": "2023-07-06T18:45:43.352834Z"
    }
   }
  },
  {
   "cell_type": "code",
   "execution_count": 10,
   "outputs": [
    {
     "data": {
      "text/plain": "<Figure size 1900x1200 with 15 Axes>",
      "image/png": "[encoded data removed]"
     },
     "metadata": {},
     "output_type": "display_data"
    }
   ],
   "source": [
    "#plots für jeden mutcount varianz gegen how_many\n",
    "\n",
    "import matplotlib.pyplot as plt\n",
    "\n",
    "\n",
    "fig, axes = plt.subplots(nrows=5, ncols=3, figsize=(19, 12))  # Abbildung und Achsenobjekte erstellen\n",
    "plt.subplots_adjust(wspace=0.4, hspace=0.6)\n",
    "\n",
    "for j, ax in zip(range(2, 16), axes.flatten()):\n",
    "    variance_per_mutant_list = []\n",
    "\n",
    "    for i in all_possible_mutations:\n",
    "        mut_count_fscore = count_fscore_frame.loc[result_how_often[i] == True]\n",
    "        fscore_mut = mut_count_fscore['DMS_score'].loc[mut_count_fscore['mut_count'] == j]\n",
    "        varianz_mut = fscore_mut.var()\n",
    "        variance_per_mutant_list.append(varianz_mut)\n",
    "\n",
    "    variance_per_mutant_series = pd.Series(variance_per_mutant_list, index=all_possible_mutations)\n",
    "    variance_per_mutant_df = variance_per_mutant_series.to_frame()\n",
    "\n",
    "\n",
    "#rausfinden wie viele Daten wir jeweils haben zum berechnen\n",
    "    how_many_for_variance = []\n",
    "\n",
    "    for i in all_possible_mutations:\n",
    "        mut_count_fscore = count_fscore_frame.loc[result_how_often[i] == True]\n",
    "        fscore_mut = mut_count_fscore['DMS_score'].loc[mut_count_fscore['mut_count'] == j]\n",
    "        wie_viel_jeweils = len(fscore_mut)\n",
    "        how_many_for_variance.append(wie_viel_jeweils)\n",
    "\n",
    "    how_many_for_variance = pd.Series(how_many_for_variance, index=all_possible_mutations)\n",
    "    how_many_for_variance_df = how_many_for_variance.to_frame()\n",
    "\n",
    "\n",
    "    how_many_AND_variance_df = pd.concat([how_many_for_variance_df, variance_per_mutant_df], axis = 1)\n",
    "    how_many_AND_variance_df.columns = ['Anzahl benutzter Werte', 'Varianz']\n",
    "    how_many_AND_variance_df = how_many_AND_variance_df.dropna()\n",
    "\n",
    "#scatter plot erstellen, mit benennungen\n",
    "    ax.scatter(how_many_AND_variance_df['Anzahl benutzter Werte'],how_many_AND_variance_df['Varianz'], s = j )\n",
    "    ax.set_xlabel('Anzahl benutzter Werte')\n",
    "    ax.set_ylabel('Varianz')\n",
    "\n",
    "    if \"V163A\" in how_many_AND_variance_df.index:\n",
    "        ax.scatter(how_many_AND_variance_df['Anzahl benutzter Werte']['V163A'],how_many_AND_variance_df['Varianz']['V163A'], c='red')\n",
    "    ax.set_title(f'für {j} Mutationen')\n",
    "\n"
   ],
   "metadata": {
    "collapsed": false,
    "ExecuteTime": {
     "end_time": "2023-07-06T18:49:20.453710Z",
     "start_time": "2023-07-06T18:45:43.471450Z"
    }
   }
  },
  {
   "cell_type": "markdown",
   "source": [
    "VORBEREITUNG RANKINGS: Definitionen etc\n"
   ],
   "metadata": {
    "collapsed": false
   }
  },
  {
   "cell_type": "code",
   "execution_count": 175,
   "outputs": [
    {
     "name": "stderr",
     "output_type": "stream",
     "text": [
      "/var/folders/sk/q8h0c3zs1v9dt93y5m134swr0000gn/T/ipykernel_57879/1098898036.py:18: FutureWarning: DataFrame.set_axis 'inplace' keyword is deprecated and will be removed in a future version. Use `obj = obj.set_axis(..., copy=False)` instead\n",
      "  variance_per_mutant_count_df.set_axis(range(2,8), axis=1, inplace=True)\n"
     ]
    }
   ],
   "source": [
    "#Varianzen mitteln für jede Mutation, über die Mutationscounts hinweg\n",
    "frame_zum_mitteln_variance = pd.DataFrame(index = all_possible_mutations)\n",
    "variance_per_mutant_count_list = []\n",
    "\n",
    "# ACHTUNG: es werden nur counts von 2 bis 7 einbezogen weil die mit mehr sowieso \"kaputt\" sind!!!\n",
    "for j, ax in zip(range(2, 8), axes.flatten()):\n",
    "    variance_per_mutant_list = []\n",
    "\n",
    "    for i in all_possible_mutations:\n",
    "        mut_count_fscore = count_fscore_frame.loc[result_how_often[i] == True]\n",
    "        fscore_mut = mut_count_fscore['DMS_score'].loc[mut_count_fscore['mut_count'] == j]\n",
    "        varianz_mut = fscore_mut.var()  #die varianz je mutation je anzahl\n",
    "        variance_per_mutant_list.append(varianz_mut) #liste der Varianzen ALLER Mutationen je anzahl\n",
    "\n",
    "    variance_per_mutant_df = pd.DataFrame(variance_per_mutant_list, index=all_possible_mutations)\n",
    "    variance_per_mutant_count_list.append(variance_per_mutant_df)\n",
    "variance_per_mutant_count_df = pd.concat(variance_per_mutant_count_list, axis=1)\n",
    "variance_per_mutant_count_df.set_axis(range(2,8), axis=1, inplace=True)\n",
    "\n",
    "# Varianz je Mutation je Mutationanzahl\n",
    "variance_per_mutant_count_df\n",
    "# dataframe mit allen varianzen (Zellen) pro alle mutationen (rows) pro alle counts (columns)\n",
    "mean_variances_per_mutations = pd.DataFrame(variance_per_mutant_count_df.mean(axis=1, skipna=True), columns=['Mean'])\n"
   ],
   "metadata": {
    "collapsed": false,
    "ExecuteTime": {
     "end_time": "2023-07-10T07:42:46.265734Z",
     "start_time": "2023-07-10T07:41:20.349690Z"
    }
   }
  },
  {
   "cell_type": "code",
   "execution_count": 173,
   "outputs": [
    {
     "name": "stdout",
     "output_type": "stream",
     "text": [
      "2     1.846276\n",
      "3     0.018476\n",
      "4     0.074044\n",
      "5     0.929323\n",
      "6          NaN\n",
      "7          NaN\n",
      "8     0.019675\n",
      "9          NaN\n",
      "10         NaN\n",
      "11         NaN\n",
      "12         NaN\n",
      "13         NaN\n",
      "14         NaN\n",
      "15         NaN\n",
      "Name: K3Q, dtype: float64\n"
     ]
    }
   ],
   "source": [
    "print(variance_per_mutant_count_df.loc[\"K3Q\"])"
   ],
   "metadata": {
    "collapsed": false,
    "ExecuteTime": {
     "end_time": "2023-07-10T07:38:19.061131Z",
     "start_time": "2023-07-10T07:38:07.318768Z"
    }
   }
  },
  {
   "cell_type": "code",
   "execution_count": 24,
   "outputs": [
    {
     "name": "stdout",
     "output_type": "stream",
     "text": [
      "   mean_fitness_score\n",
      "2            3.345506\n",
      "3            3.012676\n",
      "4            2.554671\n",
      "5            2.110624\n",
      "6            1.798413\n",
      "7            1.599889\n",
      "8            1.513703\n",
      "9            1.440711\n",
      "10           1.430934\n",
      "11           1.394099\n",
      "12           1.465141\n",
      "13           1.403067\n",
      "14           1.414609\n",
      "15           1.326549\n"
     ]
    }
   ],
   "source": [],
   "metadata": {
    "collapsed": false,
    "ExecuteTime": {
     "end_time": "2023-07-06T19:09:43.200575Z",
     "start_time": "2023-07-06T19:09:42.693803Z"
    }
   }
  },
  {
   "cell_type": "code",
   "execution_count": 25,
   "outputs": [
    {
     "name": "stdout",
     "output_type": "stream",
     "text": [
      "       weighted_mean\n",
      "Y182R       0.000000\n",
      "Q183L       0.039036\n",
      "I171S       1.271721\n",
      "E6G         0.489407\n",
      "N212Y       0.614576\n",
      "...              ...\n",
      "L42V        0.000000\n",
      "P13T        0.032099\n",
      "Y145G       0.000000\n",
      "K41W        0.000000\n",
      "N212F       0.000000\n",
      "\n",
      "[1810 rows x 1 columns]\n"
     ]
    }
   ],
   "source": [
    "##mean of the variance weighted -> sum of all mean_variance_permutcount * mean_fitness_score_per_mutcount divided by the sum of all used mean_fitness_score_per_mutcount, because apparently that´s necessary?\n",
    "\n",
    "weighted_mean_per_mutant_df = pd.DataFrame(index=all_possible_mutations)\n",
    "\n",
    "for mutation in all_possible_mutations:\n",
    "    weighted_mean = 0\n",
    "    total_weight = 0\n",
    "\n",
    "    for mutation_count in range(2, 15):\n",
    "        variance = variance_per_mutant_count_df.loc[mutation, mutation_count]\n",
    "\n",
    "        if not np.isnan(variance):\n",
    "            mean_fitness_score = mean_fitness_scores.at[mutation_count, 'mean_fitness_score']\n",
    "            weighted_mean += variance * mean_fitness_score\n",
    "            total_weight += mean_fitness_score\n",
    "\n",
    "    if total_weight != 0:\n",
    "        weighted_mean /= total_weight\n",
    "\n",
    "    weighted_mean_per_mutant_df.at[mutation, 'weighted_mean'] = weighted_mean\n",
    "print(weighted_mean_per_mutant_df)"
   ],
   "metadata": {
    "collapsed": false,
    "ExecuteTime": {
     "end_time": "2023-07-06T19:11:37.481402Z",
     "start_time": "2023-07-06T19:11:37.325826Z"
    }
   }
  },
  {
   "cell_type": "markdown",
   "source": [
    "--> 384 von 1810 sind gleich 0 weil die Mutation nur einmal pro mutcount vorkommt, müssen bei den rankings nicht beachtet werden, zu wenig Werte"
   ],
   "metadata": {
    "collapsed": false
   }
  },
  {
   "cell_type": "code",
   "execution_count": 30,
   "outputs": [
    {
     "name": "stdout",
     "output_type": "stream",
     "text": [
      "weighted_mean    384\n",
      "dtype: int64\n"
     ]
    }
   ],
   "source": [
    "count_zeros = (weighted_mean_per_mutant_df == 0).sum()\n",
    "print(count_zeros)"
   ],
   "metadata": {
    "collapsed": false,
    "ExecuteTime": {
     "end_time": "2023-07-06T19:22:22.256443Z",
     "start_time": "2023-07-06T19:22:21.592383Z"
    }
   }
  },
  {
   "cell_type": "code",
   "execution_count": 15,
   "outputs": [
    {
     "name": "stderr",
     "output_type": "stream",
     "text": [
      "/var/folders/sk/q8h0c3zs1v9dt93y5m134swr0000gn/T/ipykernel_57879/2598593114.py:15: FutureWarning: DataFrame.set_axis 'inplace' keyword is deprecated and will be removed in a future version. Use `obj = obj.set_axis(..., copy=False)` instead\n",
      "  how_many_per_mutant_count_df.set_axis(range(2,8), axis=1, inplace=True)\n"
     ]
    }
   ],
   "source": [
    "how_many_per_mutant_count_list = []\n",
    "\n",
    "for j, ax in zip(range(2, 8), axes.flatten()):\n",
    "    how_many_for_variance = []\n",
    "\n",
    "    for i in all_possible_mutations:\n",
    "        mut_count_fscore = count_fscore_frame.loc[result_how_often[i] == True]\n",
    "        fscore_mut = mut_count_fscore['DMS_score'].loc[mut_count_fscore['mut_count'] == j]\n",
    "        wie_viel_jeweils = len(fscore_mut)\n",
    "        how_many_for_variance.append(wie_viel_jeweils)\n",
    "\n",
    "    how_many_per_mutant_df = pd.DataFrame(how_many_for_variance, index=all_possible_mutations)\n",
    "    how_many_per_mutant_count_list.append(how_many_per_mutant_df)\n",
    "how_many_per_mutant_count_df = pd.concat(how_many_per_mutant_count_list, axis=1)\n",
    "how_many_per_mutant_count_df.set_axis(range(2,8), axis=1, inplace=True)\n",
    "\n",
    "mean_how_many_per_mutations = pd.DataFrame(how_many_per_mutant_count_df.mean(axis=1, skipna=True), columns=['Mean'])\n"
   ],
   "metadata": {
    "collapsed": false,
    "ExecuteTime": {
     "end_time": "2023-07-06T18:51:10.500549Z",
     "start_time": "2023-07-06T18:50:35.622113Z"
    }
   }
  },
  {
   "cell_type": "code",
   "execution_count": 16,
   "outputs": [],
   "source": [
    "combined_means_variance_how_many = pd.concat([mean_variances_per_mutations, mean_how_many_per_mutations], axis=1)\n",
    "combined_means_variance_how_many.columns = ['mean_variances_per_mutations', 'mean_how_many_per_mutations']"
   ],
   "metadata": {
    "collapsed": false,
    "ExecuteTime": {
     "end_time": "2023-07-06T18:51:10.510514Z",
     "start_time": "2023-07-06T18:51:10.485074Z"
    }
   }
  },
  {
   "cell_type": "markdown",
   "source": [
    "----------------RANKING 0 weighted: nur nach Varianz der fscores"
   ],
   "metadata": {
    "collapsed": false
   }
  },
  {
   "cell_type": "code",
   "execution_count": 33,
   "outputs": [
    {
     "name": "stdout",
     "output_type": "stream",
     "text": [
      "       weighted_mean\n",
      "Y182R       0.000000\n",
      "K209M       0.000000\n",
      "E115R       0.000000\n",
      "S28D        0.000000\n",
      "I161G       0.000000\n",
      "...              ...\n",
      "D180S       2.504722\n",
      "D180H       2.598812\n",
      "I128A       2.918393\n",
      "K158W       2.924513\n",
      "N185V       3.166581\n",
      "\n",
      "[1810 rows x 1 columns]\n"
     ]
    }
   ],
   "source": [
    "sorted_Ranking0_weighted = weighted_mean_per_mutant_df.sort_values(by='weighted_mean')\n",
    "\n",
    "# Ausgabe des sortierten DataFrames\n",
    "print(sorted_Ranking0_weighted)"
   ],
   "metadata": {
    "collapsed": false,
    "ExecuteTime": {
     "end_time": "2023-07-06T19:30:32.322423Z",
     "start_time": "2023-07-06T19:30:31.887950Z"
    }
   }
  },
  {
   "cell_type": "code",
   "execution_count": 34,
   "outputs": [
    {
     "name": "stderr",
     "output_type": "stream",
     "text": [
      "/var/folders/sk/q8h0c3zs1v9dt93y5m134swr0000gn/T/ipykernel_57879/961428720.py:13: FutureWarning: this method is deprecated in favour of `Styler.to_html()`\n",
      "  file.write(styled_ranking0_weighted.render())\n"
     ]
    }
   ],
   "source": [
    "TOP_MUTANTS = ['V163A', 'K166Q', 'V68M', 'E172A', 'A206V', 'T43N', 'H25Q', 'S205T', 'E6K', 'T62S', 'I171V', 'T203I', 'Y39N', 'E111V', 'E32A']\n",
    "\n",
    "# Funktion zum Formatieren der Zeilen und Hervorheben der Werte in TOP_MUTANTS\n",
    "def highlight_top_mutants(row):\n",
    "    color = 'red' if row.name in TOP_MUTANTS else 'black'\n",
    "    return ['color: {}'.format(color)] * len(row)\n",
    "\n",
    "# Anwendung der Formatierungsfunktion auf das gesamte DataFrame\n",
    "styled_ranking0_weighted= sorted_Ranking0_weighted.style.apply(highlight_top_mutants, axis=1)\n",
    "\n",
    "# Den formatierten DataFrame als HTML-Datei speichern\n",
    "with open('formatted_ranking0_weighted.html', 'w') as file:\n",
    "    file.write(styled_ranking0_weighted.render())"
   ],
   "metadata": {
    "collapsed": false,
    "ExecuteTime": {
     "end_time": "2023-07-06T19:30:39.016911Z",
     "start_time": "2023-07-06T19:30:37.527617Z"
    }
   }
  },
  {
   "cell_type": "markdown",
   "source": [
    "\n",
    "\n",
    "\n",
    "\n",
    "----------------RANKING 2 weighted: nur nach fscore_mean Differenz"
   ],
   "metadata": {
    "collapsed": false,
    "ExecuteTime": {
     "end_time": "2023-07-06T18:32:00.488126Z",
     "start_time": "2023-07-06T18:31:58.933245Z"
    }
   },
   "outputs": [
    {
     "name": "stdout",
     "output_type": "stream",
     "text": [
      "0    253\n",
      "dtype: int64\n"
     ]
    }
   ],
   "execution_count": 72
  },
  {
   "cell_type": "code",
   "execution_count": 64,
   "outputs": [],
   "source": [
    "# Create an empty dataframe to store the results\n",
    "mean_for_differences_with = pd.DataFrame(index=all_possible_mutations, columns=range(2, 16))\n",
    "\n",
    "for mutation in all_possible_mutations:\n",
    "    for mutation_count in range(2, 16):\n",
    "\n",
    "        index_when_mut_present_weighted = result_how_often.loc[result_how_often[mutation] == True].index\n",
    "\n",
    "        only_rows_with_mut_weighted = nur_fscore_mut_count_weighted[(nur_fscore_mut_count_weighted['mut_count'] == mutation_count) & (nur_fscore_mut_count_weighted.index.isin(index_when_mut_present_weighted))]\n",
    "\n",
    "        # Calculate the mean of fitness score for the filtered rows\n",
    "        mean_fitness_withOUT_mut_score = only_rows_with_mut_weighted['DMS_score'].mean()\n",
    "\n",
    "        # Store the mean fitness score in the result dataframe\n",
    "        mean_for_differences_with.loc[mutation, mutation_count] = mean_fitness_withOUT_mut_score\n"
   ],
   "metadata": {
    "collapsed": false,
    "ExecuteTime": {
     "end_time": "2023-07-08T13:26:19.487692Z",
     "start_time": "2023-07-08T13:22:53.781079Z"
    }
   }
  },
  {
   "cell_type": "code",
   "execution_count": 87,
   "outputs": [
    {
     "name": "stdout",
     "output_type": "stream",
     "text": [
      "       Weighted Mean\n",
      "Y182R       2.689688\n",
      "Q183L       1.405205\n",
      "I171S       2.620735\n",
      "E6G         2.304332\n",
      "N212Y       2.517976\n",
      "...              ...\n",
      "L42V        2.314743\n",
      "P13T        1.530910\n",
      "Y145G       3.735077\n",
      "K41W        3.000251\n",
      "N212F       3.578190\n",
      "\n",
      "[1810 rows x 1 columns]\n"
     ]
    }
   ],
   "source": [
    "# Assuming your dataframe is named 'data' and 'mean_fitness_scores' is another dataframe with weights\n",
    "\n",
    "weights = mean_fitness_scores['mean_fitness_score'].values\n",
    "\n",
    "# Calculate weighted means per row, ignoring NaN values\n",
    "weighted_means = np.zeros(len(mean_for_differences_with))\n",
    "\n",
    "for i, row in enumerate(mean_for_differences_with.values):\n",
    "    non_nan_values = row[~pd.isna(row)]\n",
    "    non_nan_weights = weights[~pd.isna(row)]\n",
    "\n",
    "    if len(non_nan_values) > 0:\n",
    "        weighted_means[i] = np.average(non_nan_values, weights=non_nan_weights)\n",
    "\n",
    "# Create a new dataframe to store the weighted means\n",
    "weighted_means_with_df = pd.DataFrame({'Weighted Mean': weighted_means}, index=mean_for_differences_with.index)\n",
    "\n",
    "print(weighted_means_with_df)\n"
   ],
   "metadata": {
    "collapsed": false,
    "ExecuteTime": {
     "end_time": "2023-07-09T13:12:43.640339Z",
     "start_time": "2023-07-09T13:12:41.500276Z"
    }
   }
  },
  {
   "cell_type": "code",
   "execution_count": 65,
   "outputs": [],
   "source": [
    "# Create an empty dataframe to store the results\n",
    "mean_for_differences_withOUT = pd.DataFrame(index=all_possible_mutations, columns=range(2, 16))\n",
    "\n",
    "for mutation in all_possible_mutations:\n",
    "    for mutation_count in range(2, 16):\n",
    "\n",
    "        index_when_mut_NOT_present_weighted = result_how_often.loc[result_how_often[mutation] == False].index\n",
    "\n",
    "        only_rows_withOUT_mut_weighted = nur_fscore_mut_count_weighted[(nur_fscore_mut_count_weighted['mut_count'] == mutation_count) & (nur_fscore_mut_count_weighted.index.isin(index_when_mut_NOT_present_weighted))]\n",
    "\n",
    "        # Calculate the mean of fitness score for the filtered rows\n",
    "        mean_fitness_withOUT_mut_score = only_rows_withOUT_mut_weighted['DMS_score'].mean()\n",
    "\n",
    "        # Store the mean fitness score in the result dataframe\n",
    "        mean_for_differences_withOUT.loc[mutation, mutation_count] = mean_fitness_withOUT_mut_score\n"
   ],
   "metadata": {
    "collapsed": false,
    "ExecuteTime": {
     "end_time": "2023-07-09T01:36:28.614972Z",
     "start_time": "2023-07-08T13:26:30.660110Z"
    }
   }
  },
  {
   "cell_type": "code",
   "execution_count": 71,
   "outputs": [
    {
     "name": "stdout",
     "output_type": "stream",
     "text": [
      "      Weighted Mean\n",
      "Y182R      2.064178\n",
      "Q183L      2.066284\n",
      "I171S      2.064149\n",
      "E6G        2.062896\n",
      "N212Y       2.06337\n",
      "...             ...\n",
      "L42V       2.064233\n",
      "P13T       2.066038\n",
      "Y145G      2.064178\n",
      "K41W       2.064175\n",
      "N212F      2.064171\n",
      "\n",
      "[1810 rows x 1 columns]\n"
     ]
    }
   ],
   "source": [
    "weights = mean_fitness_scores.values.ravel()\n",
    "\n",
    "weighted_means = np.average(mean_for_differences_withOUT, axis=1, weights= weights)\n",
    "\n",
    "# Create a new dataframe to store the weighted means\n",
    "weighted_means_withOUT_df = pd.DataFrame({'Weighted Mean': weighted_means}, index=mean_for_differences_withOUT.index)\n",
    "\n",
    "print(weighted_means_withOUT_df)"
   ],
   "metadata": {
    "collapsed": false,
    "ExecuteTime": {
     "end_time": "2023-07-09T09:33:28.040371Z",
     "start_time": "2023-07-09T09:33:27.469764Z"
    }
   }
  },
  {
   "cell_type": "code",
   "execution_count": 88,
   "outputs": [],
   "source": [
    "all_differences_means_weighted = weighted_means_with_df -weighted_means_withOUT_df"
   ],
   "metadata": {
    "collapsed": false,
    "ExecuteTime": {
     "end_time": "2023-07-09T13:12:59.492384Z",
     "start_time": "2023-07-09T13:12:59.246473Z"
    }
   }
  },
  {
   "cell_type": "code",
   "execution_count": 89,
   "outputs": [
    {
     "name": "stdout",
     "output_type": "stream",
     "text": [
      "      Weighted Mean\n",
      "Y182R       0.62551\n",
      "Q183L     -0.661079\n",
      "I171S      0.556585\n",
      "E6G        0.241436\n",
      "N212Y      0.454607\n",
      "...             ...\n",
      "L42V       0.250511\n",
      "P13T      -0.535128\n",
      "Y145G      1.670899\n",
      "K41W       0.936077\n",
      "N212F      1.514019\n",
      "\n",
      "[1810 rows x 1 columns]\n"
     ]
    }
   ],
   "source": [
    "print(all_differences_means_weighted)"
   ],
   "metadata": {
    "collapsed": false,
    "ExecuteTime": {
     "end_time": "2023-07-09T13:13:04.976406Z",
     "start_time": "2023-07-09T13:13:04.727794Z"
    }
   }
  },
  {
   "cell_type": "markdown",
   "source": [],
   "metadata": {
    "collapsed": false,
    "ExecuteTime": {
     "end_time": "2023-07-06T18:12:35.357165Z",
     "start_time": "2023-07-06T18:12:31.014201Z"
    }
   },
   "outputs": [
    {
     "name": "stdout",
     "output_type": "stream",
     "text": [
      "       ranking3_score_weighted\n",
      "V163A              1199.224036\n",
      "K214E              1015.354828\n",
      "N121S              1011.240848\n",
      "K113R              1010.152986\n",
      "K158R               936.195902\n",
      "...                        ...\n",
      "K158V                      NaN\n",
      "G40R                       NaN\n",
      "N144A                      NaN\n",
      "D36K                       NaN\n",
      "M218E                      NaN\n",
      "\n",
      "[1810 rows x 1 columns]\n"
     ]
    }
   ],
   "execution_count": 60
  },
  {
   "cell_type": "code",
   "execution_count": 38,
   "outputs": [
    {
     "data": {
      "text/plain": "         0\nY182R    2\nQ183L  194\nI171S   22\nE6G    536\nN212Y  166\n...    ...\nL42V     6\nP13T    15\nY145G    1\nK41W     3\nN212F    1\n\n[1810 rows x 1 columns]",
      "text/html": "<div>\n<style scoped>\n    .dataframe tbody tr th:only-of-type {\n        vertical-align: middle;\n    }\n\n    .dataframe tbody tr th {\n        vertical-align: top;\n    }\n\n    .dataframe thead th {\n        text-align: right;\n    }\n</style>\n<table border=\"1\" class=\"dataframe\">\n  <thead>\n    <tr style=\"text-align: right;\">\n      <th></th>\n      <th>0</th>\n    </tr>\n  </thead>\n  <tbody>\n    <tr>\n      <th>Y182R</th>\n      <td>2</td>\n    </tr>\n    <tr>\n      <th>Q183L</th>\n      <td>194</td>\n    </tr>\n    <tr>\n      <th>I171S</th>\n      <td>22</td>\n    </tr>\n    <tr>\n      <th>E6G</th>\n      <td>536</td>\n    </tr>\n    <tr>\n      <th>N212Y</th>\n      <td>166</td>\n    </tr>\n    <tr>\n      <th>...</th>\n      <td>...</td>\n    </tr>\n    <tr>\n      <th>L42V</th>\n      <td>6</td>\n    </tr>\n    <tr>\n      <th>P13T</th>\n      <td>15</td>\n    </tr>\n    <tr>\n      <th>Y145G</th>\n      <td>1</td>\n    </tr>\n    <tr>\n      <th>K41W</th>\n      <td>3</td>\n    </tr>\n    <tr>\n      <th>N212F</th>\n      <td>1</td>\n    </tr>\n  </tbody>\n</table>\n<p>1810 rows × 1 columns</p>\n</div>"
     },
     "execution_count": 38,
     "metadata": {},
     "output_type": "execute_result"
    }
   ],
   "source": [
    "#VORBEREITUNG copy&paste\n",
    "list_wie_oft_mut = []\n",
    "for j in all_possible_mutations:\n",
    "    matching_indexes = result_how_often.loc[result_how_often[j] == True].index\n",
    "    wie_oft = len(matching_indexes)\n",
    "    list_wie_oft_mut.append(wie_oft)\n",
    "df_wie_oft_muts_insg = pd.DataFrame(list_wie_oft_mut, index=all_possible_mutations)\n",
    "df_wie_oft_muts_insg"
   ],
   "metadata": {
    "collapsed": false,
    "ExecuteTime": {
     "end_time": "2023-07-06T19:40:26.012035Z",
     "start_time": "2023-07-06T19:40:09.134929Z"
    }
   }
  },
  {
   "cell_type": "code",
   "execution_count": 90,
   "outputs": [],
   "source": [
    "#VORBEREITUNG copy&paste\n",
    "#code für ranking aus anderem dokument aber mit den sachen von oben berücksichtigt, alle destab raus\n",
    "combined_differenz_wie_oft_mut_weighted= pd.concat([all_differences_means_weighted, df_wie_oft_muts_insg], axis=1)\n",
    "combined_differenz_wie_oft_mut_weighted.columns = ['Difference_weighted', 'wie oft kommt mut insg vor']\n"
   ],
   "metadata": {
    "collapsed": false,
    "ExecuteTime": {
     "end_time": "2023-07-09T13:13:48.573316Z",
     "start_time": "2023-07-09T13:13:48.320046Z"
    }
   }
  },
  {
   "cell_type": "code",
   "execution_count": 91,
   "outputs": [
    {
     "data": {
      "text/plain": "      Difference_weighted  wie oft kommt mut insg vor\nE17W              1.78365                           1\nN23C             1.768476                           1\nT43V              1.72424                           1\nT43C             1.721113                           1\nT118R            1.699221                           1\n...                   ...                         ...\nK158V           -2.064182                           1\nK209S           -2.064182                           1\nD36K            -2.064182                           1\nL201H           -2.064182                           1\nV11K            -2.064182                           1\n\n[1810 rows x 2 columns]",
      "text/html": "<div>\n<style scoped>\n    .dataframe tbody tr th:only-of-type {\n        vertical-align: middle;\n    }\n\n    .dataframe tbody tr th {\n        vertical-align: top;\n    }\n\n    .dataframe thead th {\n        text-align: right;\n    }\n</style>\n<table border=\"1\" class=\"dataframe\">\n  <thead>\n    <tr style=\"text-align: right;\">\n      <th></th>\n      <th>Difference_weighted</th>\n      <th>wie oft kommt mut insg vor</th>\n    </tr>\n  </thead>\n  <tbody>\n    <tr>\n      <th>E17W</th>\n      <td>1.78365</td>\n      <td>1</td>\n    </tr>\n    <tr>\n      <th>N23C</th>\n      <td>1.768476</td>\n      <td>1</td>\n    </tr>\n    <tr>\n      <th>T43V</th>\n      <td>1.72424</td>\n      <td>1</td>\n    </tr>\n    <tr>\n      <th>T43C</th>\n      <td>1.721113</td>\n      <td>1</td>\n    </tr>\n    <tr>\n      <th>T118R</th>\n      <td>1.699221</td>\n      <td>1</td>\n    </tr>\n    <tr>\n      <th>...</th>\n      <td>...</td>\n      <td>...</td>\n    </tr>\n    <tr>\n      <th>K158V</th>\n      <td>-2.064182</td>\n      <td>1</td>\n    </tr>\n    <tr>\n      <th>K209S</th>\n      <td>-2.064182</td>\n      <td>1</td>\n    </tr>\n    <tr>\n      <th>D36K</th>\n      <td>-2.064182</td>\n      <td>1</td>\n    </tr>\n    <tr>\n      <th>L201H</th>\n      <td>-2.064182</td>\n      <td>1</td>\n    </tr>\n    <tr>\n      <th>V11K</th>\n      <td>-2.064182</td>\n      <td>1</td>\n    </tr>\n  </tbody>\n</table>\n<p>1810 rows × 2 columns</p>\n</div>"
     },
     "execution_count": 91,
     "metadata": {},
     "output_type": "execute_result"
    }
   ],
   "source": [
    "ranking2_weighted = combined_differenz_wie_oft_mut_weighted.sort_values(by='Difference_weighted', ascending= False)\n",
    "ranking2_weighted"
   ],
   "metadata": {
    "collapsed": false,
    "ExecuteTime": {
     "end_time": "2023-07-09T13:13:50.090038Z",
     "start_time": "2023-07-09T13:13:49.976855Z"
    }
   }
  },
  {
   "cell_type": "code",
   "execution_count": 92,
   "outputs": [
    {
     "name": "stderr",
     "output_type": "stream",
     "text": [
      "/var/folders/sk/q8h0c3zs1v9dt93y5m134swr0000gn/T/ipykernel_57879/2341232914.py:13: FutureWarning: this method is deprecated in favour of `Styler.to_html()`\n",
      "  file.write(styled_ranking2_weighted.render())\n"
     ]
    }
   ],
   "source": [
    "TOP_MUTANTS = ['V163A', 'K166Q', 'V68M', 'E172A', 'A206V', 'T43N', 'H25Q', 'S205T', 'E6K', 'T62S', 'I171V', 'T203I', 'Y39N', 'E111V', 'E32A']\n",
    "\n",
    "# Funktion zum Formatieren der Zeilen und Hervorheben der Werte in TOP_MUTANTS\n",
    "def highlight_top_mutants(row):\n",
    "    color = 'red' if row.name in TOP_MUTANTS else 'black'\n",
    "    return ['color: {}'.format(color)] * len(row)\n",
    "\n",
    "# Anwendung der Formatierungsfunktion auf das gesamte DataFrame\n",
    "styled_ranking2_weighted= ranking2_weighted.style.apply(highlight_top_mutants, axis=1)\n",
    "\n",
    "# Den formatierten DataFrame als HTML-Datei speichern\n",
    "with open('formatted_ranking2_weighted.html', 'w') as file:\n",
    "    file.write(styled_ranking2_weighted.render())"
   ],
   "metadata": {
    "collapsed": false,
    "ExecuteTime": {
     "end_time": "2023-07-09T13:13:57.351188Z",
     "start_time": "2023-07-09T13:13:55.603532Z"
    }
   }
  },
  {
   "cell_type": "markdown",
   "source": [
    "\n",
    "\n",
    "\n",
    "\n",
    "----------------RANKING 3 weighted: nach Differenz gewichtet nach Anzahl"
   ],
   "metadata": {
    "collapsed": false,
    "ExecuteTime": {
     "start_time": "2023-07-05T20:30:28.853807Z"
    }
   },
   "outputs": []
  },
  {
   "cell_type": "code",
   "execution_count": 93,
   "outputs": [
    {
     "name": "stdout",
     "output_type": "stream",
     "text": [
      "       ranking3_score_weighted\n",
      "V163A               344.142242\n",
      "I171V               337.149043\n",
      "F99L                321.914814\n",
      "K214E               301.081883\n",
      "K158R               280.833005\n",
      "...                        ...\n",
      "H169R              -268.443637\n",
      "S65P               -280.563398\n",
      "F130S              -294.299080\n",
      "F100S              -328.295224\n",
      "W57R               -360.406197\n",
      "\n",
      "[1810 rows x 1 columns]\n"
     ]
    }
   ],
   "source": [
    "list_ranking3_weighted = []\n",
    "for i in all_possible_mutations:\n",
    "    score_ranking3_weighted = all_differences_means_weighted.loc[i].values[0] * df_wie_oft_muts_insg.loc[i].values[0]\n",
    "    list_ranking3_weighted.append(score_ranking3_weighted)\n",
    "\n",
    "ranking3_unsorted_weighted = pd.DataFrame(list_ranking3_weighted, index=all_possible_mutations, columns=['ranking3_score_weighted'])\n",
    "ranking3_weighted = ranking3_unsorted_weighted.sort_values(by='ranking3_score_weighted', ascending= False)\n",
    "print(ranking3_weighted)"
   ],
   "metadata": {
    "collapsed": false,
    "ExecuteTime": {
     "end_time": "2023-07-09T13:14:10.971012Z",
     "start_time": "2023-07-09T13:14:10.384928Z"
    }
   }
  },
  {
   "cell_type": "code",
   "execution_count": 94,
   "outputs": [
    {
     "name": "stderr",
     "output_type": "stream",
     "text": [
      "/var/folders/sk/q8h0c3zs1v9dt93y5m134swr0000gn/T/ipykernel_57879/2776464519.py:13: FutureWarning: this method is deprecated in favour of `Styler.to_html()`\n",
      "  file.write(styled_ranking3_weighted.render())\n"
     ]
    }
   ],
   "source": [
    "TOP_MUTANTS = ['V163A', 'K166Q', 'V68M', 'E172A', 'A206V', 'T43N', 'H25Q', 'S205T', 'E6K', 'T62S', 'I171V', 'T203I', 'Y39N', 'E111V', 'E32A']\n",
    "\n",
    "# Funktion zum Formatieren der Zeilen und Hervorheben der Werte in TOP_MUTANTS\n",
    "def highlight_top_mutants(row):\n",
    "    color = 'red' if row.name in TOP_MUTANTS else 'black'\n",
    "    return ['color: {}'.format(color)] * len(row)\n",
    "\n",
    "# Anwendung der Formatierungsfunktion auf das gesamte DataFrame\n",
    "styled_ranking3_weighted= ranking3_weighted.style.apply(highlight_top_mutants, axis=1)\n",
    "\n",
    "# Den formatierten DataFrame als HTML-Datei speichern\n",
    "with open('formatted_ranking3_weighted.html', 'w') as file:\n",
    "    file.write(styled_ranking3_weighted.render())\n"
   ],
   "metadata": {
    "collapsed": false,
    "ExecuteTime": {
     "end_time": "2023-07-09T13:14:13.610090Z",
     "start_time": "2023-07-09T13:14:13.455857Z"
    }
   }
  },
  {
   "cell_type": "markdown",
   "source": [
    "\n",
    "--> bei den Werten wo die Varianz wegen zu wenigen Werten gleich 0 ist, entstehen durch den Bruch INF werte, müssen ignoriert werden\n",
    "---> theoretisch später raussortierbar\n",
    "---> kein if clause, weil sonst unterschiedliche Berechnung (\"unfair\")\n",
    "\n",
    "\n",
    "----------------RANKING 4 weighted: nach eigenem score1:\n",
    "-> score1 = Differenz * 1/Varianz * Anzahl muts"
   ],
   "metadata": {
    "collapsed": false,
    "ExecuteTime": {
     "start_time": "2023-07-05T20:30:28.855756Z"
    }
   },
   "outputs": []
  },
  {
   "cell_type": "code",
   "execution_count": 99,
   "outputs": [
    {
     "name": "stdout",
     "output_type": "stream",
     "text": [
      "       ranking4_score_weighted \n",
      "M233S              2.083505e+13\n",
      "N164V              2.111218e+08\n",
      "N23G               9.768343e+05\n",
      "Q204E              3.027297e+04\n",
      "E5R                2.201159e+04\n",
      "...                         ...\n",
      "G174Y                       NaN\n",
      "L42V                        NaN\n",
      "Y145G                       NaN\n",
      "K41W                        NaN\n",
      "N212F                       NaN\n",
      "\n",
      "[1810 rows x 1 columns]\n"
     ]
    }
   ],
   "source": [
    "list_ranking4_weighted  = []\n",
    "for i in all_possible_mutations:\n",
    "\n",
    "    score_ranking4_weighted = all_differences_means_weighted .loc[i].values[0] * df_wie_oft_muts_insg.loc[i].values[0] * (1/mean_variances_per_mutations.loc[i].values[0])\n",
    "    list_ranking4_weighted .append(score_ranking4_weighted )\n",
    "ranking4_unsorted_weighted  = pd.DataFrame(list_ranking4_weighted , index=all_possible_mutations, columns=['ranking4_score_weighted '])\n",
    "ranking4_weighted  = ranking4_unsorted_weighted .sort_values(by='ranking4_score_weighted ', ascending= False)\n",
    "print(ranking4_weighted )"
   ],
   "metadata": {
    "collapsed": false,
    "ExecuteTime": {
     "end_time": "2023-07-09T15:00:52.113178Z",
     "start_time": "2023-07-09T15:00:51.836481Z"
    }
   }
  },
  {
   "cell_type": "code",
   "execution_count": 100,
   "outputs": [
    {
     "name": "stderr",
     "output_type": "stream",
     "text": [
      "/var/folders/sk/q8h0c3zs1v9dt93y5m134swr0000gn/T/ipykernel_57879/2629972560.py:13: FutureWarning: this method is deprecated in favour of `Styler.to_html()`\n",
      "  file.write(styled_ranking4_weighted .render())\n"
     ]
    }
   ],
   "source": [
    "TOP_MUTANTS = ['V163A', 'K166Q', 'V68M', 'E172A', 'A206V', 'T43N', 'H25Q', 'S205T', 'E6K', 'T62S', 'I171V', 'T203I', 'Y39N', 'E111V', 'E32A']\n",
    "\n",
    "# Funktion zum Formatieren der Zeilen und Hervorheben der Werte in TOP_MUTANTS\n",
    "def highlight_top_mutants(row):\n",
    "    color = 'red' if row.name in TOP_MUTANTS else 'black'\n",
    "    return ['color: {}'.format(color)] * len(row)\n",
    "\n",
    "# Anwendung der Formatierungsfunktion auf das gesamte DataFrame\n",
    "styled_ranking4_weighted = ranking4_weighted .style.apply(highlight_top_mutants, axis=1)\n",
    "\n",
    "# Den formatierten DataFrame als HTML-Datei speichern\n",
    "with open('formatted_ranking4_weighted .html', 'w') as file:\n",
    "    file.write(styled_ranking4_weighted .render())\n"
   ],
   "metadata": {
    "collapsed": false,
    "ExecuteTime": {
     "end_time": "2023-07-09T15:01:04.116Z",
     "start_time": "2023-07-09T15:01:03.829422Z"
    }
   }
  },
  {
   "cell_type": "markdown",
   "source": [
    "\n",
    "\n",
    "\n",
    "\n",
    "----------------RANKING 5 weighted: nach eigenem score2 :\n",
    "-> score2 = Differenz * aggregierte Varianz\n",
    "-> Varianz: gewichten mit mutcount (aggregierte Varianz)\n",
    "(Summe aller Varianzen*1/Anzahl muts)/(Gesamtzahl Mutationen)\n",
    "###macht keinen sinn, aggregierte Varianz nochmal ? , ist auch nicht gut\n",
    "\n",
    "aggregierte Varianz: bezieht streuung über ganzes Datenset mi ein\n",
    "gewichtete Varianz: Verhalten innerhalb der Gruppe\n",
    "\n",
    "--> NUR DIFFERENCE ist gewichtet miteinbezogen!! Varianz nicht, nicht geeigenet"
   ],
   "metadata": {
    "collapsed": false,
    "ExecuteTime": {
     "start_time": "2023-07-05T20:30:28.860672Z"
    }
   },
   "outputs": []
  },
  {
   "cell_type": "code",
   "execution_count": 181,
   "outputs": [
    {
     "name": "stdout",
     "output_type": "stream",
     "text": [
      "       ranking5_score_weighted1\n",
      "V163A              4.430848e+06\n",
      "I171V              4.293815e+06\n",
      "K214E              3.983178e+06\n",
      "F99L               3.863113e+06\n",
      "S175G              3.802096e+06\n",
      "...                         ...\n",
      "L42V                        NaN\n",
      "P13T                        NaN\n",
      "Y145G                       NaN\n",
      "K41W                        NaN\n",
      "N212F                       NaN\n",
      "\n",
      "[1810 rows x 1 columns]\n"
     ]
    }
   ],
   "source": [
    "list_ranking5_weighted1 = []\n",
    "for i in all_possible_mutations:\n",
    "\n",
    "    score_ranking5_weighted1 = (all_differences_means_weighted.loc[i].values[0] * df_wie_oft_muts_insg.loc[i].values[0]* 51714) / np.sum(variance_per_mutant_count_df.loc[i].values)\n",
    "    list_ranking5_weighted1.append(score_ranking5_weighted1)\n",
    "ranking5_unsorted_weighted1 = pd.DataFrame(list_ranking5_weighted1, index=all_possible_mutations, columns=['ranking5_score_weighted1'])\n",
    "ranking5_weighted1 = ranking5_unsorted_weighted1.sort_values(by='ranking5_score_weighted1', ascending= False)\n",
    "print(ranking5_weighted1)"
   ],
   "metadata": {
    "collapsed": false,
    "ExecuteTime": {
     "end_time": "2023-07-10T07:48:04.642092Z",
     "start_time": "2023-07-10T07:48:00.741271Z"
    }
   }
  },
  {
   "cell_type": "code",
   "execution_count": 182,
   "outputs": [
    {
     "name": "stderr",
     "output_type": "stream",
     "text": [
      "/var/folders/sk/q8h0c3zs1v9dt93y5m134swr0000gn/T/ipykernel_57879/2071401891.py:13: FutureWarning: this method is deprecated in favour of `Styler.to_html()`\n",
      "  file.write(styled_ranking5_weighted1.render())\n"
     ]
    }
   ],
   "source": [
    "TOP_MUTANTS = ['V163A', 'K166Q', 'V68M', 'E172A', 'A206V', 'T43N', 'H25Q', 'S205T', 'E6K', 'T62S', 'I171V', 'T203I', 'Y39N', 'E111V', 'E32A']\n",
    "\n",
    "# Funktion zum Formatieren der Zeilen und Hervorheben der Werte in TOP_MUTANTS\n",
    "def highlight_top_mutants(row):\n",
    "    color = 'red' if row.name in TOP_MUTANTS else 'black'\n",
    "    return ['color: {}'.format(color)] * len(row)\n",
    "\n",
    "# Anwendung der Formatierungsfunktion auf das gesamte DataFrame\n",
    "styled_ranking5_weighted1= ranking5_weighted1.style.apply(highlight_top_mutants, axis=1)\n",
    "\n",
    "# Den formatierten DataFrame als HTML-Datei speichern\n",
    "with open('formatted_ranking5_weighted.html', 'w') as file:\n",
    "    file.write(styled_ranking5_weighted1.render())\n"
   ],
   "metadata": {
    "collapsed": false,
    "ExecuteTime": {
     "end_time": "2023-07-10T07:48:09.990043Z",
     "start_time": "2023-07-10T07:48:07.571078Z"
    }
   }
  },
  {
   "cell_type": "markdown",
   "source": [
    "\n",
    "\n",
    "\n",
    "\n",
    "\n",
    "RANKING 6 weighted:\n",
    "-> delta G values ranked on their own\n"
   ],
   "metadata": {
    "collapsed": false,
    "ExecuteTime": {
     "start_time": "2023-07-05T20:30:28.865774Z"
    }
   },
   "outputs": []
  },
  {
   "cell_type": "code",
   "execution_count": 129,
   "outputs": [],
   "source": [
    "delta_G_data = pd.read_csv('/Users/liza/Downloads/df_ddG.csv')"
   ],
   "metadata": {
    "collapsed": false,
    "ExecuteTime": {
     "end_time": "2023-07-09T15:32:10.324151Z",
     "start_time": "2023-07-09T15:32:07.073167Z"
    }
   }
  },
  {
   "cell_type": "code",
   "execution_count": 130,
   "outputs": [
    {
     "name": "stdout",
     "output_type": "stream",
     "text": [
      "       DMS_score  mut_count       delta G\n",
      "0       1.301030          7  73620.483101\n",
      "1       3.137350          4  72519.649577\n",
      "2       1.553913          5  72506.131486\n",
      "3       3.404237          3  72360.943228\n",
      "4       3.738586          1  72850.815804\n",
      "...          ...        ...           ...\n",
      "51709   3.809468          1  74392.873843\n",
      "51710   3.760217          1  74293.271125\n",
      "51711   3.754101          1  74347.569818\n",
      "51712   3.673173          1  74517.866311\n",
      "51713   3.735417          1  74420.070261\n",
      "\n",
      "[51714 rows x 3 columns]\n"
     ]
    },
    {
     "name": "stderr",
     "output_type": "stream",
     "text": [
      "/var/folders/sk/q8h0c3zs1v9dt93y5m134swr0000gn/T/ipykernel_57879/2383831306.py:1: SettingWithCopyWarning: \n",
      "A value is trying to be set on a copy of a slice from a DataFrame.\n",
      "Try using .loc[row_indexer,col_indexer] = value instead\n",
      "\n",
      "See the caveats in the documentation: https://pandas.pydata.org/pandas-docs/stable/user_guide/indexing.html#returning-a-view-versus-a-copy\n",
      "  count_fscore_frame['delta G'] = delta_G_data['Score']\n"
     ]
    }
   ],
   "source": [
    "count_fscore_frame['delta G'] = delta_G_data['Score']\n",
    "print(count_fscore_frame)"
   ],
   "metadata": {
    "collapsed": false,
    "ExecuteTime": {
     "end_time": "2023-07-09T15:32:10.563974Z",
     "start_time": "2023-07-09T15:32:10.199812Z"
    }
   }
  },
  {
   "cell_type": "code",
   "execution_count": 183,
   "outputs": [],
   "source": [
    "\n",
    "differences_delta_G_list = []\n",
    "\n",
    "for i in all_possible_mutations:\n",
    "    index_when_mut_present = result_how_often.loc[result_how_often[i] == True].index\n",
    "\n",
    "    only_rows_with_mut = count_fscore_frame[(count_fscore_frame['mut_count'] >2) & (count_fscore_frame .index.isin(index_when_mut_present))]\n",
    "\n",
    "# Calculate the mean of DMS_score for the filtered rows\n",
    "    mean_delta_G_only_mut = only_rows_with_mut['delta G'].mean()\n",
    "#-------------\n",
    "    index_when_not_mut_present = result_how_often.loc[result_how_often[i] == False].index\n",
    "\n",
    "    only_rows_withOUT_mut = count_fscore_frame[(count_fscore_frame['mut_count'] >2) & (count_fscore_frame.index.isin(index_when_not_mut_present))]\n",
    "\n",
    "# Calculate the mean of DMS_score for the filtered rows\n",
    "    mean_delta_G_every_but_mut = only_rows_withOUT_mut['delta G'].mean()\n",
    "#----------------\n",
    "    difference_means_delta_G = mean_delta_G_every_but_mut - mean_delta_G_only_mut\n",
    "    differences_delta_G_list.append(difference_means_delta_G)\n",
    "\n",
    "all_differences_delta_G_means = pd.DataFrame({'Difference dG': differences_delta_G_list}, index=all_possible_mutations)\n",
    "\n",
    "#je niedriger dG desto stabiler ist Protein\n",
    "#Difference \"ohne - mit\": kleiner besser, wenn mit besser ist als ohne ist difference positiv"
   ],
   "metadata": {
    "collapsed": false,
    "ExecuteTime": {
     "end_time": "2023-07-10T09:23:26.652780Z",
     "start_time": "2023-07-10T07:53:29.429331Z"
    }
   }
  },
  {
   "cell_type": "markdown",
   "source": [
    "\n",
    "\n",
    "RANKING 7 weighted:\n",
    "-> delta G Differenzwerte mit Ranking 5 verrechnet"
   ],
   "metadata": {
    "collapsed": false,
    "ExecuteTime": {
     "start_time": "2023-07-05T20:30:28.875198Z"
    }
   },
   "outputs": []
  },
  {
   "cell_type": "code",
   "execution_count": 190,
   "outputs": [
    {
     "name": "stdout",
     "output_type": "stream",
     "text": [
      "       ranking7_weighted_score\n",
      "D216V             3.669390e+06\n",
      "G33S              2.615418e+06\n",
      "T186A             1.661693e+06\n",
      "S65P              1.196260e+06\n",
      "V163A             7.844382e+05\n",
      "...                        ...\n",
      "L42V                       NaN\n",
      "P13T                       NaN\n",
      "Y145G                      NaN\n",
      "K41W                       NaN\n",
      "N212F                      NaN\n",
      "\n",
      "[1810 rows x 1 columns]\n"
     ]
    }
   ],
   "source": [
    "list_ranking7_weighted = []\n",
    "for i in all_possible_mutations:\n",
    "\n",
    "    score_ranking7_weighted = (all_differences_means_weighted.loc[i].values[0] * df_wie_oft_muts_insg.loc[i].values[0]* 51714) / (np.sum(variance_per_mutant_count_df.loc[i].values) * all_differences_delta_G_means.loc[i].values[0])\n",
    "    list_ranking7_weighted.append(score_ranking7_weighted)\n",
    "ranking7_unsorted_weighted = pd.DataFrame(list_ranking7_weighted, index=all_possible_mutations, columns=['ranking7_weighted_score'])\n",
    "ranking7_weighted = ranking7_unsorted_weighted.sort_values(by='ranking7_weighted_score', ascending= False)\n",
    "print(ranking7_weighted)"
   ],
   "metadata": {
    "collapsed": false,
    "ExecuteTime": {
     "end_time": "2023-07-10T12:07:16.207186Z",
     "start_time": "2023-07-10T12:07:13.999382Z"
    }
   }
  },
  {
   "cell_type": "code",
   "execution_count": 193,
   "outputs": [
    {
     "name": "stderr",
     "output_type": "stream",
     "text": [
      "/var/folders/sk/q8h0c3zs1v9dt93y5m134swr0000gn/T/ipykernel_57879/152358749.py:13: FutureWarning: this method is deprecated in favour of `Styler.to_html()`\n",
      "  file.write(styled_ranking7_weighted.render())\n"
     ]
    }
   ],
   "source": [
    "TOP_MUTANTS = ['V163A', 'K166Q', 'V68M', 'E172A', 'A206V', 'T43N', 'H25Q', 'S205T', 'E6K', 'T62S', 'I171V', 'T203I', 'Y39N', 'E111V', 'E32A']\n",
    "\n",
    "# Funktion zum Formatieren der Zeilen und Hervorheben der Werte in TOP_MUTANTS\n",
    "def highlight_top_mutants(row):\n",
    "    color = 'red' if row.name in TOP_MUTANTS else 'black'\n",
    "    return ['color: {}'.format(color)] * len(row)\n",
    "\n",
    "# Anwendung der Formatierungsfunktion auf das gesamte DataFrame\n",
    "styled_ranking7_weighted= ranking7_weighted.style.apply(highlight_top_mutants, axis=1)\n",
    "\n",
    "# Den formatierten DataFrame als HTML-Datei speichern\n",
    "with open('formatted_ranking7_weighted.html', 'w') as file:\n",
    "    file.write(styled_ranking7_weighted.render())"
   ],
   "metadata": {
    "collapsed": false,
    "ExecuteTime": {
     "end_time": "2023-07-10T12:09:54.231548Z",
     "start_time": "2023-07-10T12:09:53.488256Z"
    }
   }
  },
  {
   "cell_type": "code",
   "execution_count": null,
   "outputs": [],
   "source": [],
   "metadata": {
    "collapsed": false
   }
  }
 ],
 "metadata": {
  "kernelspec": {
   "display_name": "Python 3",
   "language": "python",
   "name": "python3"
  },
  "language_info": {
   "codemirror_mode": {
    "name": "ipython",
    "version": 2
   },
   "file_extension": ".py",
   "mimetype": "text/x-python",
   "name": "python",
   "nbconvert_exporter": "python",
   "pygments_lexer": "ipython2",
   "version": "2.7.6"
  }
 },
 "nbformat": 4,
 "nbformat_minor": 0
}
