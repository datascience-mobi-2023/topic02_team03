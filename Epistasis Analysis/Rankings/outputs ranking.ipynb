{
 "cells": [
  {
   "cell_type": "code",
   "execution_count": null,
   "metadata": {
    "collapsed": true,
    "is_executing": true,
    "ExecuteTime": {
     "start_time": "2023-07-12T12:07:56.610332Z"
    }
   },
   "outputs": [
    {
     "name": "stderr",
     "output_type": "stream",
     "text": [
      "/Users/liza/Documents/GitHub/topic02_team03/Epistasis Analysis/Rankings/rankings_code.py:10: FutureWarning: In a future version of pandas all arguments of StringMethods.split except for the argument 'pat' will be keyword-only.\n",
      "  original_dms_data_col[['m1', 'm2', 'm3', 'm4', 'm5', 'm6', 'm7', 'm8', 'm9', 'm10', 'm11', 'm12', 'm13', 'm14', 'm15']] = original_dms_data_col['mutant'].str.split(':', 15, expand=True)\n"
     ]
    },
    {
     "name": "stdout",
     "output_type": "stream",
     "text": [
      "result_how_often finished (1)\n",
      "variances plot finished (2)\n"
     ]
    },
    {
     "name": "stderr",
     "output_type": "stream",
     "text": [
      "/Users/liza/Documents/GitHub/topic02_team03/Epistasis Analysis/Rankings/rankings_code.py:145: FutureWarning: DataFrame.set_axis 'inplace' keyword is deprecated and will be removed in a future version. Use `obj = obj.set_axis(..., copy=False)` instead\n",
      "  variance_per_mutant_count_df.set_axis(range(2,8), axis=1, inplace=True)\n",
      "/Users/liza/Documents/GitHub/topic02_team03/Epistasis Analysis/Rankings/rankings_code.py:168: FutureWarning: DataFrame.set_axis 'inplace' keyword is deprecated and will be removed in a future version. Use `obj = obj.set_axis(..., copy=False)` instead\n",
      "  how_many_per_mutant_count_df.set_axis(range(2,8), axis=1, inplace=True)\n"
     ]
    },
    {
     "name": "stdout",
     "output_type": "stream",
     "text": [
      "combined_means_variance_how_many finished (3)\n"
     ]
    }
   ],
   "source": [
    "%run rankings_code.py"
   ]
  },
  {
   "cell_type": "code",
   "execution_count": null,
   "outputs": [],
   "source": [
    "%run weighted_rankings_code.py"
   ],
   "metadata": {
    "collapsed": false
   }
  },
  {
   "cell_type": "code",
   "execution_count": 3,
   "outputs": [
    {
     "ename": "NameError",
     "evalue": "name 'sorted_Ranking0' is not defined",
     "output_type": "error",
     "traceback": [
      "\u001B[0;31m---------------------------------------------------------------------------\u001B[0m",
      "\u001B[0;31mNameError\u001B[0m                                 Traceback (most recent call last)",
      "Cell \u001B[0;32mIn[3], line 3\u001B[0m\n\u001B[1;32m      1\u001B[0m \u001B[38;5;66;03m#RANKING 0\u001B[39;00m\n\u001B[1;32m      2\u001B[0m \u001B[38;5;66;03m#ranked by: VARIANCE\u001B[39;00m\n\u001B[0;32m----> 3\u001B[0m \u001B[38;5;28mprint\u001B[39m(\u001B[43msorted_Ranking0\u001B[49m)\n",
      "\u001B[0;31mNameError\u001B[0m: name 'sorted_Ranking0' is not defined"
     ]
    }
   ],
   "source": [
    "#RANKING 0\n",
    "#ranked by: VARIANCE\n",
    "print(sorted_Ranking0) "
   ],
   "metadata": {
    "collapsed": false,
    "ExecuteTime": {
     "end_time": "2023-07-12T12:07:48.168283Z",
     "start_time": "2023-07-12T12:07:48.155247Z"
    }
   }
  },
  {
   "cell_type": "code",
   "execution_count": null,
   "outputs": [],
   "source": [
    "#RANKING 0 WEIGHTED\n",
    "#ranked by: VARIANCE WEIGHTED\n",
    "print(sorted_Ranking0_weighted)"
   ],
   "metadata": {
    "collapsed": false,
    "ExecuteTime": {
     "start_time": "2023-07-12T12:07:48.167143Z"
    }
   }
  },
  {
   "cell_type": "code",
   "execution_count": null,
   "outputs": [],
   "source": [
    "#RANKING 1\n",
    "#ranked by: RANK FROM VARIANCE + HOW_MANY\n",
    "print(sorted_Ranking1a)"
   ],
   "metadata": {
    "collapsed": false,
    "ExecuteTime": {
     "start_time": "2023-07-12T12:07:48.167542Z"
    }
   }
  },
  {
   "cell_type": "code",
   "execution_count": null,
   "outputs": [],
   "source": [
    "#RANKING 2\n",
    "#ranked by: DIFFERENCE\n",
    "print(ranking2)"
   ],
   "metadata": {
    "collapsed": false
   }
  },
  {
   "cell_type": "code",
   "execution_count": null,
   "outputs": [],
   "source": [
    "#RANKING 2 WEIGHTED\n",
    "#ranked by: DIFFERENCE WEIGHTED\n",
    "print(ranking2_weighted)"
   ],
   "metadata": {
    "collapsed": false
   }
  },
  {
   "cell_type": "code",
   "execution_count": null,
   "outputs": [],
   "source": [
    "#RANKING 3\n",
    "#ranked by: DIFFERENCE* HOW_MANY\n",
    "print(ranking3)"
   ],
   "metadata": {
    "collapsed": false
   }
  },
  {
   "cell_type": "code",
   "execution_count": null,
   "outputs": [],
   "source": [
    "#RANKING 3 WEIGHTED\n",
    "#ranked by: DIFFERENCE WEIGHTED * HOW_MANY\n",
    "print(ranking3_weighted)"
   ],
   "metadata": {
    "collapsed": false
   }
  },
  {
   "cell_type": "code",
   "execution_count": null,
   "outputs": [],
   "source": [
    "#RANKING 4\n",
    "#ranked by: DIFFERENCE * 1/VARIANCE * HOW_MANY\n",
    "print(ranking4)"
   ],
   "metadata": {
    "collapsed": false
   }
  },
  {
   "cell_type": "code",
   "execution_count": null,
   "outputs": [],
   "source": [
    "#RANKING 4 WEIGHTED\n",
    "#ranked by: DIFFERENCE WEIGHTED * 1/VARIANCE * HOW_MANY\n",
    "print(ranking4_weighted)"
   ],
   "metadata": {
    "collapsed": false
   }
  },
  {
   "cell_type": "code",
   "execution_count": null,
   "outputs": [],
   "source": [
    "#RANKING 5\n",
    "#ranked by: DIFFERENCE * AGGREGATED VARIANCE\n",
    "print(ranking5)"
   ],
   "metadata": {
    "collapsed": false
   }
  },
  {
   "cell_type": "code",
   "execution_count": null,
   "outputs": [],
   "source": [
    "#RANKING 5 WEIGHTED\n",
    "#ranked by: DIFFERENCE WEIGHTED * AGGREGATED VARIANCE\n",
    "print(ranking5_weighted)"
   ],
   "metadata": {
    "collapsed": false
   }
  },
  {
   "cell_type": "code",
   "execution_count": null,
   "outputs": [],
   "source": [
    "#RANKING 6\n",
    "#ranked by: DELTA G DIFFERENCES\n",
    "print(ranking6)"
   ],
   "metadata": {
    "collapsed": false
   }
  },
  {
   "cell_type": "code",
   "execution_count": null,
   "outputs": [],
   "source": [
    "#RANKING 7\n",
    "#ranked by: DIFFERENCE * AGGREGATED VARIANCE * DELTA G DIFFERENCES\n",
    "print(ranking7)"
   ],
   "metadata": {
    "collapsed": false
   }
  }
 ],
 "metadata": {
  "kernelspec": {
   "display_name": "Python 3",
   "language": "python",
   "name": "python3"
  },
  "language_info": {
   "codemirror_mode": {
    "name": "ipython",
    "version": 2
   },
   "file_extension": ".py",
   "mimetype": "text/x-python",
   "name": "python",
   "nbconvert_exporter": "python",
   "pygments_lexer": "ipython2",
   "version": "2.7.6"
  }
 },
 "nbformat": 4,
 "nbformat_minor": 0
}
