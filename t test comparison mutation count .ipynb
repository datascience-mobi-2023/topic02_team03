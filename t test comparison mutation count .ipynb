{
 "cells": [
  {
   "cell_type": "code",
   "execution_count": 38,
   "metadata": {
    "collapsed": true,
    "ExecuteTime": {
     "end_time": "2023-05-25T10:22:28.549644Z",
     "start_time": "2023-05-25T10:22:28.015609Z"
    }
   },
   "outputs": [
    {
     "name": "stdout",
     "output_type": "stream",
     "text": [
      "Ttest_indResult(statistic=4.00855443395452, pvalue=6.141137875976315e-05)\n",
      "Ttest_indResult(statistic=88.7125779448959, pvalue=0.0)\n",
      "Ttest_indResult(statistic=3.7269446119523715, pvalue=0.00019922669670702342)\n",
      "Ttest_indResult(statistic=32.261362913141234, pvalue=8.994415939253952e-224)\n"
     ]
    }
   ],
   "source": [
    "import numpy as np\n",
    "import pandas as pd\n",
    "from scipy import stats\n",
    "from scipy.stats import ttest_ind\n",
    "\n",
    "original_dms_data = pd.read_csv(\"/Users/liza/Desktop/Bioinfo Project/DMS_data/GFP_AEQVI_Sarkisyan_2016.csv\")\n",
    "# wir wollen die means der functional scores der einzelnen gruppen vergleichen\n",
    "#1 datei in nur die Spalte mit funktional scores umwandeln\n",
    "only_scores_column = original_dms_data['DMS_score']\n",
    "df_only_scores_column = pd.DataFrame(only_scores_column)\n",
    "only_mutant_column = original_dms_data['mutant']\n",
    "#2a welche zeile welche Anzahl an Mutationen\n",
    "\n",
    "list_mut_count_in_progress = []\n",
    "for i in range(len(only_mutant_column)):\n",
    "    list_mut_count_in_progress.append(only_mutant_column.iloc[i].count(':'))\n",
    "list_mut_count_prae = np.array(list_mut_count_in_progress)\n",
    "list_mut_count = (list_mut_count_prae + 1)\n",
    "df_mutation_counts = pd.DataFrame(list_mut_count)\n",
    "\n",
    "# die liste hat jetzt die nummern der Reihen als Positionen mit den entsprechenden Mutations counts\n",
    "scores_plus_counts = df_only_scores_column.join(df_mutation_counts)\n",
    "scores_plus_counts.columns = ['fscores', 'mutation_count']\n",
    "\n",
    "# dataframe der nur die functional scores mit der Anzahl der Mutationen hat\n",
    "#2b dateireihen nach counts aufteilen\n",
    "one_mutation_fscores = scores_plus_counts[(scores_plus_counts['mutation_count'] == 1)]\n",
    "two_mutation_fscores = scores_plus_counts[(scores_plus_counts['mutation_count'] == 2)]\n",
    "three_mutation_fscores = scores_plus_counts[(scores_plus_counts['mutation_count'] == 3)]\n",
    "four_mutation_fscores = scores_plus_counts[(scores_plus_counts['mutation_count'] == 4)]\n",
    "five_mutation_fscores = scores_plus_counts[(scores_plus_counts['mutation_count'] == 5)]\n",
    "six_mutation_fscores = scores_plus_counts[(scores_plus_counts['mutation_count'] == 6)]\n",
    "seven_mutation_fscores = scores_plus_counts[(scores_plus_counts['mutation_count'] == 7)]\n",
    "eight_mutation_fscores = scores_plus_counts[(scores_plus_counts['mutation_count'] == 8)]\n",
    "nine_mutation_fscores = scores_plus_counts[(scores_plus_counts['mutation_count'] == 9)]\n",
    "ten_mutation_fscores = scores_plus_counts[(scores_plus_counts['mutation_count'] == 10)]\n",
    "eleven_mutation_fscores = scores_plus_counts[(scores_plus_counts['mutation_count'] == 11)]\n",
    "# nur die functional scores zu den jeweiligen mutations counts\n",
    "\n",
    "#3 davon alle mit t tests vergleichen\n",
    "#sollte mit steigender mutationszahl egaler werden\n",
    "# --> eins gegen zwei\n",
    "ttest_result1_2 = ttest_ind(one_mutation_fscores['fscores'], two_mutation_fscores['fscores'])\n",
    "print(ttest_result1_2)\n",
    "# --> eins gegen acht\n",
    "ttest_result1_8 = ttest_ind(one_mutation_fscores['fscores'], eight_mutation_fscores['fscores'])\n",
    "print(ttest_result1_8)\n",
    "#--> acht und neun\n",
    "ttest_result8_9 = ttest_ind(eight_mutation_fscores['fscores'], nine_mutation_fscores['fscores'])\n",
    "print(ttest_result8_9)\n",
    "#--> zwei und drei\n",
    "ttest_result2_3 = ttest_ind(two_mutation_fscores['fscores'], three_mutation_fscores['fscores'])\n",
    "print(ttest_result2_3)"
   ]
  },
  {
   "cell_type": "code",
   "execution_count": null,
   "outputs": [],
   "source": [],
   "metadata": {
    "collapsed": false
   }
  }
 ],
 "metadata": {
  "kernelspec": {
   "display_name": "Python 3",
   "language": "python",
   "name": "python3"
  },
  "language_info": {
   "codemirror_mode": {
    "name": "ipython",
    "version": 2
   },
   "file_extension": ".py",
   "mimetype": "text/x-python",
   "name": "python",
   "nbconvert_exporter": "python",
   "pygments_lexer": "ipython2",
   "version": "2.7.6"
  }
 },
 "nbformat": 4,
 "nbformat_minor": 0
}
