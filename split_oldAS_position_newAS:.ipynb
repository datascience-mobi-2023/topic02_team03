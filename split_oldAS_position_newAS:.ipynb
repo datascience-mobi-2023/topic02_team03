{
 "cells": [
  {
   "cell_type": "code",
   "execution_count": 10,
   "metadata": {
    "collapsed": true,
    "ExecuteTime": {
     "end_time": "2023-05-30T11:06:26.226940Z",
     "start_time": "2023-05-30T11:06:22.845321Z"
    }
   },
   "outputs": [],
   "source": [
    "import pandas as pd\n",
    "import numpy as np"
   ]
  },
  {
   "cell_type": "code",
   "execution_count": 11,
   "outputs": [],
   "source": [
    "# Datensatz einlesen\n",
    "df = pd.read_csv('/Users/tianxinangelama/Documents/Studium/4. FS/DMS/DMS_data/GFP_AEQVI_Sarkisyan_2016.csv')"
   ],
   "metadata": {
    "collapsed": false
   }
  },
  {
   "cell_type": "code",
   "execution_count": 12,
   "outputs": [
    {
     "name": "stderr",
     "output_type": "stream",
     "text": [
      "/var/folders/tn/1strgsg5455dq9n93kfzv8kh0000gn/T/ipykernel_78865/4281176810.py:4: FutureWarning: In a future version of pandas all arguments of StringMethods.split except for the argument 'pat' will be keyword-only.\n",
      "  df_ind_col[['m1', 'm2', 'm3', 'm4', 'm5', 'm6', 'm7', 'm8', 'm9', 'm10', 'm11','m12','m13','m14','m15']] = df_ind_col['mutant'].str.split(':', 14, expand=True)\n"
     ]
    },
    {
     "data": {
      "text/plain": "                                  mutant  \\\n0  K3R:V55A:Q94R:A110T:D117G:M153K:D216A   \n1                   K3Q:V16A:I167T:L195Q   \n2            K3Q:Y143C:N164D:S205P:A227T   \n3                        K3Q:Y143N:V193A   \n4                                    K3R   \n\n                                    mutated_sequence  DMS_score  \\\n0  MSRGEELFTGVVPILVELDGDVNGHKFSVSGEGEGDATYGKLTLKF...   1.301030   \n1  MSQGEELFTGVVPILAELDGDVNGHKFSVSGEGEGDATYGKLTLKF...   3.137350   \n2  MSQGEELFTGVVPILVELDGDVNGHKFSVSGEGEGDATYGKLTLKF...   1.553913   \n3  MSQGEELFTGVVPILVELDGDVNGHKFSVSGEGEGDATYGKLTLKF...   3.404237   \n4  MSRGEELFTGVVPILVELDGDVNGHKFSVSGEGEGDATYGKLTLKF...   3.738586   \n\n   DMS_score_bin   m1     m2     m3     m4     m5     m6     m7    m8    m9  \\\n0              0  K3R   V55A   Q94R  A110T  D117G  M153K  D216A  None  None   \n1              1  K3Q   V16A  I167T  L195Q   None   None   None  None  None   \n2              0  K3Q  Y143C  N164D  S205P  A227T   None   None  None  None   \n3              1  K3Q  Y143N  V193A   None   None   None   None  None  None   \n4              1  K3R   None   None   None   None   None   None  None  None   \n\n    m10   m11   m12   m13   m14   m15  \n0  None  None  None  None  None  None  \n1  None  None  None  None  None  None  \n2  None  None  None  None  None  None  \n3  None  None  None  None  None  None  \n4  None  None  None  None  None  None  ",
      "text/html": "<div>\n<style scoped>\n    .dataframe tbody tr th:only-of-type {\n        vertical-align: middle;\n    }\n\n    .dataframe tbody tr th {\n        vertical-align: top;\n    }\n\n    .dataframe thead th {\n        text-align: right;\n    }\n</style>\n<table border=\"1\" class=\"dataframe\">\n  <thead>\n    <tr style=\"text-align: right;\">\n      <th></th>\n      <th>mutant</th>\n      <th>mutated_sequence</th>\n      <th>DMS_score</th>\n      <th>DMS_score_bin</th>\n      <th>m1</th>\n      <th>m2</th>\n      <th>m3</th>\n      <th>m4</th>\n      <th>m5</th>\n      <th>m6</th>\n      <th>m7</th>\n      <th>m8</th>\n      <th>m9</th>\n      <th>m10</th>\n      <th>m11</th>\n      <th>m12</th>\n      <th>m13</th>\n      <th>m14</th>\n      <th>m15</th>\n    </tr>\n  </thead>\n  <tbody>\n    <tr>\n      <th>0</th>\n      <td>K3R:V55A:Q94R:A110T:D117G:M153K:D216A</td>\n      <td>MSRGEELFTGVVPILVELDGDVNGHKFSVSGEGEGDATYGKLTLKF...</td>\n      <td>1.301030</td>\n      <td>0</td>\n      <td>K3R</td>\n      <td>V55A</td>\n      <td>Q94R</td>\n      <td>A110T</td>\n      <td>D117G</td>\n      <td>M153K</td>\n      <td>D216A</td>\n      <td>None</td>\n      <td>None</td>\n      <td>None</td>\n      <td>None</td>\n      <td>None</td>\n      <td>None</td>\n      <td>None</td>\n      <td>None</td>\n    </tr>\n    <tr>\n      <th>1</th>\n      <td>K3Q:V16A:I167T:L195Q</td>\n      <td>MSQGEELFTGVVPILAELDGDVNGHKFSVSGEGEGDATYGKLTLKF...</td>\n      <td>3.137350</td>\n      <td>1</td>\n      <td>K3Q</td>\n      <td>V16A</td>\n      <td>I167T</td>\n      <td>L195Q</td>\n      <td>None</td>\n      <td>None</td>\n      <td>None</td>\n      <td>None</td>\n      <td>None</td>\n      <td>None</td>\n      <td>None</td>\n      <td>None</td>\n      <td>None</td>\n      <td>None</td>\n      <td>None</td>\n    </tr>\n    <tr>\n      <th>2</th>\n      <td>K3Q:Y143C:N164D:S205P:A227T</td>\n      <td>MSQGEELFTGVVPILVELDGDVNGHKFSVSGEGEGDATYGKLTLKF...</td>\n      <td>1.553913</td>\n      <td>0</td>\n      <td>K3Q</td>\n      <td>Y143C</td>\n      <td>N164D</td>\n      <td>S205P</td>\n      <td>A227T</td>\n      <td>None</td>\n      <td>None</td>\n      <td>None</td>\n      <td>None</td>\n      <td>None</td>\n      <td>None</td>\n      <td>None</td>\n      <td>None</td>\n      <td>None</td>\n      <td>None</td>\n    </tr>\n    <tr>\n      <th>3</th>\n      <td>K3Q:Y143N:V193A</td>\n      <td>MSQGEELFTGVVPILVELDGDVNGHKFSVSGEGEGDATYGKLTLKF...</td>\n      <td>3.404237</td>\n      <td>1</td>\n      <td>K3Q</td>\n      <td>Y143N</td>\n      <td>V193A</td>\n      <td>None</td>\n      <td>None</td>\n      <td>None</td>\n      <td>None</td>\n      <td>None</td>\n      <td>None</td>\n      <td>None</td>\n      <td>None</td>\n      <td>None</td>\n      <td>None</td>\n      <td>None</td>\n      <td>None</td>\n    </tr>\n    <tr>\n      <th>4</th>\n      <td>K3R</td>\n      <td>MSRGEELFTGVVPILVELDGDVNGHKFSVSGEGEGDATYGKLTLKF...</td>\n      <td>3.738586</td>\n      <td>1</td>\n      <td>K3R</td>\n      <td>None</td>\n      <td>None</td>\n      <td>None</td>\n      <td>None</td>\n      <td>None</td>\n      <td>None</td>\n      <td>None</td>\n      <td>None</td>\n      <td>None</td>\n      <td>None</td>\n      <td>None</td>\n      <td>None</td>\n      <td>None</td>\n      <td>None</td>\n    </tr>\n  </tbody>\n</table>\n</div>"
     },
     "execution_count": 12,
     },
     "execution_count": 3,
>>>>>>> Stashed changes
     "metadata": {},
     "output_type": "execute_result"
    }
   ],
   "source": [
    "# split first column of df into multiple columns\n",
    "df_ind_col = df\n",
    "\n",
    "df_ind_col[['m1', 'm2', 'm3', 'm4', 'm5', 'm6', 'm7', 'm8', 'm9', 'm10', 'm11']] = df_ind_col['mutant'].str.split(':', 10, expand=True)\n",
    "\n",
    "df_ind_col.head()"
   ],
   "metadata": {
    "collapsed": false
   }
  },
  {
   "cell_type": "code",
   "execution_count": 13,
   "outputs": [
    {
     "name": "stderr",
     "output_type": "stream",
     "text": [
      "/var/folders/tn/1strgsg5455dq9n93kfzv8kh0000gn/T/ipykernel_78865/1521232983.py:5: FutureWarning: In a future version of pandas all arguments of StringMethods.split except for the argument 'pat' will be keyword-only.\n",
      "  df_split_m1[['m1_old','m1_position','m1_new']] = df_split_m1['m1'].str.split('', 2, expand=True)\n"
     ]
    },
    {
     "data": {
      "text/plain": "                                  mutant  \\\n0  K3R:V55A:Q94R:A110T:D117G:M153K:D216A   \n1                   K3Q:V16A:I167T:L195Q   \n2            K3Q:Y143C:N164D:S205P:A227T   \n3                        K3Q:Y143N:V193A   \n4                                    K3R   \n\n                                    mutated_sequence  DMS_score  \\\n0  MSRGEELFTGVVPILVELDGDVNGHKFSVSGEGEGDATYGKLTLKF...   1.301030   \n1  MSQGEELFTGVVPILAELDGDVNGHKFSVSGEGEGDATYGKLTLKF...   3.137350   \n2  MSQGEELFTGVVPILVELDGDVNGHKFSVSGEGEGDATYGKLTLKF...   1.553913   \n3  MSQGEELFTGVVPILVELDGDVNGHKFSVSGEGEGDATYGKLTLKF...   3.404237   \n4  MSRGEELFTGVVPILVELDGDVNGHKFSVSGEGEGDATYGKLTLKF...   3.738586   \n\n   DMS_score_bin   m1     m2     m3     m4     m5     m6  ...    m9   m10  \\\n0              0  K3R   V55A   Q94R  A110T  D117G  M153K  ...  None  None   \n1              1  K3Q   V16A  I167T  L195Q   None   None  ...  None  None   \n2              0  K3Q  Y143C  N164D  S205P  A227T   None  ...  None  None   \n3              1  K3Q  Y143N  V193A   None   None   None  ...  None  None   \n4              1  K3R   None   None   None   None   None  ...  None  None   \n\n    m11   m12   m13   m14   m15 m1_old m1_position m1_new  \n0  None  None  None  None  None                  K     3R  \n1  None  None  None  None  None                  K     3Q  \n2  None  None  None  None  None                  K     3Q  \n3  None  None  None  None  None                  K     3Q  \n4  None  None  None  None  None                  K     3R  \n\n[5 rows x 22 columns]",
      "text/html": "<div>\n<style scoped>\n    .dataframe tbody tr th:only-of-type {\n        vertical-align: middle;\n    }\n\n    .dataframe tbody tr th {\n        vertical-align: top;\n    }\n\n    .dataframe thead th {\n        text-align: right;\n    }\n</style>\n<table border=\"1\" class=\"dataframe\">\n  <thead>\n    <tr style=\"text-align: right;\">\n      <th></th>\n      <th>mutant</th>\n      <th>mutated_sequence</th>\n      <th>DMS_score</th>\n      <th>DMS_score_bin</th>\n      <th>m1</th>\n      <th>m2</th>\n      <th>m3</th>\n      <th>m4</th>\n      <th>m5</th>\n      <th>m6</th>\n      <th>...</th>\n      <th>m9</th>\n      <th>m10</th>\n      <th>m11</th>\n      <th>m12</th>\n      <th>m13</th>\n      <th>m14</th>\n      <th>m15</th>\n      <th>m1_old</th>\n      <th>m1_position</th>\n      <th>m1_new</th>\n    </tr>\n  </thead>\n  <tbody>\n    <tr>\n      <th>0</th>\n      <td>K3R:V55A:Q94R:A110T:D117G:M153K:D216A</td>\n      <td>MSRGEELFTGVVPILVELDGDVNGHKFSVSGEGEGDATYGKLTLKF...</td>\n      <td>1.301030</td>\n      <td>0</td>\n      <td>K3R</td>\n      <td>V55A</td>\n      <td>Q94R</td>\n      <td>A110T</td>\n      <td>D117G</td>\n      <td>M153K</td>\n      <td>...</td>\n      <td>None</td>\n      <td>None</td>\n      <td>None</td>\n      <td>None</td>\n      <td>None</td>\n      <td>None</td>\n      <td>None</td>\n      <td></td>\n      <td>K</td>\n      <td>3R</td>\n    </tr>\n    <tr>\n      <th>1</th>\n      <td>K3Q:V16A:I167T:L195Q</td>\n      <td>MSQGEELFTGVVPILAELDGDVNGHKFSVSGEGEGDATYGKLTLKF...</td>\n      <td>3.137350</td>\n      <td>1</td>\n      <td>K3Q</td>\n      <td>V16A</td>\n      <td>I167T</td>\n      <td>L195Q</td>\n      <td>None</td>\n      <td>None</td>\n      <td>...</td>\n      <td>None</td>\n      <td>None</td>\n      <td>None</td>\n      <td>None</td>\n      <td>None</td>\n      <td>None</td>\n      <td>None</td>\n      <td></td>\n      <td>K</td>\n      <td>3Q</td>\n    </tr>\n    <tr>\n      <th>2</th>\n      <td>K3Q:Y143C:N164D:S205P:A227T</td>\n      <td>MSQGEELFTGVVPILVELDGDVNGHKFSVSGEGEGDATYGKLTLKF...</td>\n      <td>1.553913</td>\n      <td>0</td>\n      <td>K3Q</td>\n      <td>Y143C</td>\n      <td>N164D</td>\n      <td>S205P</td>\n      <td>A227T</td>\n      <td>None</td>\n      <td>...</td>\n      <td>None</td>\n      <td>None</td>\n      <td>None</td>\n      <td>None</td>\n      <td>None</td>\n      <td>None</td>\n      <td>None</td>\n      <td></td>\n      <td>K</td>\n      <td>3Q</td>\n    </tr>\n    <tr>\n      <th>3</th>\n      <td>K3Q:Y143N:V193A</td>\n      <td>MSQGEELFTGVVPILVELDGDVNGHKFSVSGEGEGDATYGKLTLKF...</td>\n      <td>3.404237</td>\n      <td>1</td>\n      <td>K3Q</td>\n      <td>Y143N</td>\n      <td>V193A</td>\n      <td>None</td>\n      <td>None</td>\n      <td>None</td>\n      <td>...</td>\n      <td>None</td>\n      <td>None</td>\n      <td>None</td>\n      <td>None</td>\n      <td>None</td>\n      <td>None</td>\n      <td>None</td>\n      <td></td>\n      <td>K</td>\n      <td>3Q</td>\n    </tr>\n    <tr>\n      <th>4</th>\n      <td>K3R</td>\n      <td>MSRGEELFTGVVPILVELDGDVNGHKFSVSGEGEGDATYGKLTLKF...</td>\n      <td>3.738586</td>\n      <td>1</td>\n      <td>K3R</td>\n      <td>None</td>\n      <td>None</td>\n      <td>None</td>\n      <td>None</td>\n      <td>None</td>\n      <td>...</td>\n      <td>None</td>\n      <td>None</td>\n      <td>None</td>\n      <td>None</td>\n      <td>None</td>\n      <td>None</td>\n      <td>None</td>\n      <td></td>\n      <td>K</td>\n      <td>3R</td>\n    </tr>\n  </tbody>\n</table>\n<p>5 rows × 22 columns</p>\n</div>"
     },
     "execution_count": 13,
=======
      "text/plain": "                                  mutant  \\\n0  K3R:V55A:Q94R:A110T:D117G:M153K:D216A   \n1                   K3Q:V16A:I167T:L195Q   \n2            K3Q:Y143C:N164D:S205P:A227T   \n3                        K3Q:Y143N:V193A   \n4                                    K3R   \n\n                                    mutated_sequence  DMS_score  \\\n0  MSRGEELFTGVVPILVELDGDVNGHKFSVSGEGEGDATYGKLTLKF...   1.301030   \n1  MSQGEELFTGVVPILAELDGDVNGHKFSVSGEGEGDATYGKLTLKF...   3.137350   \n2  MSQGEELFTGVVPILVELDGDVNGHKFSVSGEGEGDATYGKLTLKF...   1.553913   \n3  MSQGEELFTGVVPILVELDGDVNGHKFSVSGEGEGDATYGKLTLKF...   3.404237   \n4  MSRGEELFTGVVPILVELDGDVNGHKFSVSGEGEGDATYGKLTLKF...   3.738586   \n\n   DMS_score_bin   m1     m2     m3     m4     m5     m6  ...    m8    m9  \\\n0              0  K3R   V55A   Q94R  A110T  D117G  M153K  ...  None  None   \n1              1  K3Q   V16A  I167T  L195Q   None   None  ...  None  None   \n2              0  K3Q  Y143C  N164D  S205P  A227T   None  ...  None  None   \n3              1  K3Q  Y143N  V193A   None   None   None  ...  None  None   \n4              1  K3R   None   None   None   None   None  ...  None  None   \n\n    m10   m13   m12   m14   m15 m1_old m1_position m1_new  \n0  None  None  None  None  None                  K     3R  \n1  None  None  None  None  None                  K     3Q  \n2  None  None  None  None  None                  K     3Q  \n3  None  None  None  None  None                  K     3Q  \n4  None  None  None  None  None                  K     3R  \n\n[5 rows x 21 columns]",
     "metadata": {},
     "output_type": "execute_result"
    }
   ],
   "source": [
    "# zu komplizierter Ansatz!!!\n",
    "# split column m1 into m1_old, m1_position and m1_new\n",
    "df_split_m1 = df_ind_col\n",
    "\n",
    "df_split_m1[['m1_old','m1_position','m1_new']] = df_split_m1['m1'].str.split('', 2, expand=True)\n",
    "\n",
    "df_split_m1.head()"
   ],
   "metadata": {
    "collapsed": false
   }
  },
  {
   "cell_type": "code",
   "execution_count": 14,
   "outputs": [
    {
     "name": "stdout",
     "output_type": "stream",
     "text": [
      "       0  1  2    3    4\n",
      "0      K  3  R  NaN  NaN\n",
      "1      K  3  Q  NaN  NaN\n",
      "2      K  3  Q  NaN  NaN\n",
      "3      K  3  Q  NaN  NaN\n",
      "4      K  3  R  NaN  NaN\n",
      "...   .. .. ..  ...  ...\n",
      "51709  Y  2  3    7    N\n",
      "51710  Y  2  3    7    C\n",
      "51711  Y  2  3    7    D\n",
      "51712  Y  2  3    7    F\n",
      "51713  Y  2  3    7    H\n",
      "\n",
      "[51714 rows x 5 columns]\n"
     ]
    }
   ],
   "source": [
    "# zu komplizierter Ansatz!!!\n",
    "# split characters of m1\n",
    "def split_charac(x):\n",
    "    return pd.Series(list(x))\n",
    "\n",
    "df_char_m1 = df\n",
    "df_char_m1 = df_char_m1['m1'].apply(split_charac)\n",
    "\n",
    "print(df_char_m1)"
   ],
   "metadata": {
    "collapsed": false
   }
  },
  {
   "cell_type": "code",
   "execution_count": 15,
   "outputs": [
    {
     "ename": "TypeError",
     "evalue": "unhashable type: 'Series'",
     "output_type": "error",
     "traceback": [
      "\u001B[0;31m---------------------------------------------------------------------------\u001B[0m",
      "\u001B[0;31mTypeError\u001B[0m                                 Traceback (most recent call last)",
      "Cell \u001B[0;32mIn[15], line 7\u001B[0m\n\u001B[1;32m      1\u001B[0m \u001B[38;5;66;03m# zu komplizierter Ansatz!!!\u001B[39;00m\n\u001B[1;32m      2\u001B[0m \u001B[38;5;66;03m# move all new AS to column 4\u001B[39;00m\n\u001B[1;32m      3\u001B[0m \n\u001B[1;32m      4\u001B[0m \u001B[38;5;66;03m# für Positionen mit 1 Ziffer\u001B[39;00m\n\u001B[1;32m      5\u001B[0m df_moved_char_m1 \u001B[38;5;241m=\u001B[39m df_char_m1\n\u001B[0;32m----> 7\u001B[0m df_moved_char_m1[df_moved_char_m1[\u001B[38;5;241m3\u001B[39m]\u001B[38;5;241m.\u001B[39mstr\u001B[38;5;241m.\u001B[39mcontains(\u001B[38;5;124m'\u001B[39m\u001B[38;5;124mNaN\u001B[39m\u001B[38;5;124m'\u001B[39m), \u001B[38;5;124m'\u001B[39m\u001B[38;5;124m4\u001B[39m\u001B[38;5;124m'\u001B[39m] \u001B[38;5;241m=\u001B[39m df_moved_char_m1[\u001B[38;5;241m2\u001B[39m]\n\u001B[1;32m      8\u001B[0m \u001B[38;5;28mprint\u001B[39m(df_moved_char_m1)\n",
      "File \u001B[0;32m~/anaconda3/envs/DMS/lib/python3.10/site-packages/pandas/core/frame.py:3980\u001B[0m, in \u001B[0;36mDataFrame.__setitem__\u001B[0;34m(self, key, value)\u001B[0m\n\u001B[1;32m   3977\u001B[0m     \u001B[38;5;28mself\u001B[39m\u001B[38;5;241m.\u001B[39m_setitem_array([key], value)\n\u001B[1;32m   3978\u001B[0m \u001B[38;5;28;01melse\u001B[39;00m:\n\u001B[1;32m   3979\u001B[0m     \u001B[38;5;66;03m# set column\u001B[39;00m\n\u001B[0;32m-> 3980\u001B[0m     \u001B[38;5;28;43mself\u001B[39;49m\u001B[38;5;241;43m.\u001B[39;49m\u001B[43m_set_item\u001B[49m\u001B[43m(\u001B[49m\u001B[43mkey\u001B[49m\u001B[43m,\u001B[49m\u001B[43m \u001B[49m\u001B[43mvalue\u001B[49m\u001B[43m)\u001B[49m\n",
      "File \u001B[0;32m~/anaconda3/envs/DMS/lib/python3.10/site-packages/pandas/core/frame.py:4177\u001B[0m, in \u001B[0;36mDataFrame._set_item\u001B[0;34m(self, key, value)\u001B[0m\n\u001B[1;32m   4165\u001B[0m \u001B[38;5;250m\u001B[39m\u001B[38;5;124;03m\"\"\"\u001B[39;00m\n\u001B[1;32m   4166\u001B[0m \u001B[38;5;124;03mAdd series to DataFrame in specified column.\u001B[39;00m\n\u001B[1;32m   4167\u001B[0m \n\u001B[0;32m   (...)\u001B[0m\n\u001B[1;32m   4172\u001B[0m \u001B[38;5;124;03mensure homogeneity.\u001B[39;00m\n\u001B[1;32m   4173\u001B[0m \u001B[38;5;124;03m\"\"\"\u001B[39;00m\n\u001B[1;32m   4174\u001B[0m value \u001B[38;5;241m=\u001B[39m \u001B[38;5;28mself\u001B[39m\u001B[38;5;241m.\u001B[39m_sanitize_column(value)\n\u001B[1;32m   4176\u001B[0m \u001B[38;5;28;01mif\u001B[39;00m (\n\u001B[0;32m-> 4177\u001B[0m     \u001B[43mkey\u001B[49m\u001B[43m \u001B[49m\u001B[38;5;129;43;01min\u001B[39;49;00m\u001B[43m \u001B[49m\u001B[38;5;28;43mself\u001B[39;49m\u001B[38;5;241;43m.\u001B[39;49m\u001B[43mcolumns\u001B[49m\n\u001B[1;32m   4178\u001B[0m     \u001B[38;5;129;01mand\u001B[39;00m value\u001B[38;5;241m.\u001B[39mndim \u001B[38;5;241m==\u001B[39m \u001B[38;5;241m1\u001B[39m\n\u001B[1;32m   4179\u001B[0m     \u001B[38;5;129;01mand\u001B[39;00m \u001B[38;5;129;01mnot\u001B[39;00m is_extension_array_dtype(value)\n\u001B[1;32m   4180\u001B[0m ):\n\u001B[1;32m   4181\u001B[0m     \u001B[38;5;66;03m# broadcast across multiple columns if necessary\u001B[39;00m\n\u001B[1;32m   4182\u001B[0m     \u001B[38;5;28;01mif\u001B[39;00m \u001B[38;5;129;01mnot\u001B[39;00m \u001B[38;5;28mself\u001B[39m\u001B[38;5;241m.\u001B[39mcolumns\u001B[38;5;241m.\u001B[39mis_unique \u001B[38;5;129;01mor\u001B[39;00m \u001B[38;5;28misinstance\u001B[39m(\u001B[38;5;28mself\u001B[39m\u001B[38;5;241m.\u001B[39mcolumns, MultiIndex):\n\u001B[1;32m   4183\u001B[0m         existing_piece \u001B[38;5;241m=\u001B[39m \u001B[38;5;28mself\u001B[39m[key]\n",
      "File \u001B[0;32m~/anaconda3/envs/DMS/lib/python3.10/site-packages/pandas/core/indexes/range.py:371\u001B[0m, in \u001B[0;36mRangeIndex.__contains__\u001B[0;34m(self, key)\u001B[0m\n\u001B[1;32m    370\u001B[0m \u001B[38;5;28;01mdef\u001B[39;00m \u001B[38;5;21m__contains__\u001B[39m(\u001B[38;5;28mself\u001B[39m, key: Any) \u001B[38;5;241m-\u001B[39m\u001B[38;5;241m>\u001B[39m \u001B[38;5;28mbool\u001B[39m:\n\u001B[0;32m--> 371\u001B[0m     \u001B[38;5;28;43mhash\u001B[39;49m\u001B[43m(\u001B[49m\u001B[43mkey\u001B[49m\u001B[43m)\u001B[49m\n\u001B[1;32m    372\u001B[0m     \u001B[38;5;28;01mtry\u001B[39;00m:\n\u001B[1;32m    373\u001B[0m         key \u001B[38;5;241m=\u001B[39m ensure_python_int(key)\n",
      "\u001B[0;31mTypeError\u001B[0m: unhashable type: 'Series'"
     ]
    }
   ],
   "source": [
    "# zu komplizierter Ansatz!!!\n",
    "# move all new AS to column 4\n",
    "\n",
    "# für Positionen mit 1 Ziffer\n",
    "df_moved_char_m1 = df_char_m1\n",
    "\n",
    "df_moved_char_m1[df_moved_char_m1[3].str.contains('NaN'), '4'] = df_moved_char_m1[2]\n",
    "print(df_moved_char_m1)\n",
    "\n",
    "# dasselbe noch für Positionen mit 2 Ziffernb"
   ],
   "metadata": {
    "collapsed": false
   }
  },
  {
   "cell_type": "code",
   "execution_count": null,
   "outputs": [],
   "source": [
    "# Bsp. f. Ansatz mit Intervallen\n",
    "aa = 'A123B'\n",
    "int(aa[1:-1])"
   ],
   "metadata": {
    "collapsed": false
   }
  },
  {
   "cell_type": "code",
   "execution_count": 16,
   "outputs": [
    {
     "data": {
      "text/plain": "                                  mutant  \\\n0  K3R:V55A:Q94R:A110T:D117G:M153K:D216A   \n1                   K3Q:V16A:I167T:L195Q   \n2            K3Q:Y143C:N164D:S205P:A227T   \n3                        K3Q:Y143N:V193A   \n4                                    K3R   \n\n                                    mutated_sequence  DMS_score  \\\n0  MSRGEELFTGVVPILVELDGDVNGHKFSVSGEGEGDATYGKLTLKF...   1.301030   \n1  MSQGEELFTGVVPILAELDGDVNGHKFSVSGEGEGDATYGKLTLKF...   3.137350   \n2  MSQGEELFTGVVPILVELDGDVNGHKFSVSGEGEGDATYGKLTLKF...   1.553913   \n3  MSQGEELFTGVVPILVELDGDVNGHKFSVSGEGEGDATYGKLTLKF...   3.404237   \n4  MSRGEELFTGVVPILVELDGDVNGHKFSVSGEGEGDATYGKLTLKF...   3.738586   \n\n   DMS_score_bin   m1     m2     m3     m4     m5     m6  ... m12_new m13_old  \\\n0              0  K3R   V55A   Q94R  A110T  D117G  M153K  ...    None    None   \n1              1  K3Q   V16A  I167T  L195Q   None   None  ...    None    None   \n2              0  K3Q  Y143C  N164D  S205P  A227T   None  ...    None    None   \n3              1  K3Q  Y143N  V193A   None   None   None  ...    None    None   \n4              1  K3R   None   None   None   None   None  ...    None    None   \n\n  m13_position m13_new m14_old m14_position m14_new m15_old m15_position  \\\n0         None    None    None         None    None    None         None   \n1         None    None    None         None    None    None         None   \n2         None    None    None         None    None    None         None   \n3         None    None    None         None    None    None         None   \n4         None    None    None         None    None    None         None   \n\n  m15_new  \n0    None  \n1    None  \n2    None  \n3    None  \n4    None  \n\n[5 rows x 64 columns]",
      "text/html": "<div>\n<style scoped>\n    .dataframe tbody tr th:only-of-type {\n        vertical-align: middle;\n    }\n\n    .dataframe tbody tr th {\n        vertical-align: top;\n    }\n\n    .dataframe thead th {\n        text-align: right;\n    }\n</style>\n<table border=\"1\" class=\"dataframe\">\n  <thead>\n    <tr style=\"text-align: right;\">\n      <th></th>\n      <th>mutant</th>\n      <th>mutated_sequence</th>\n      <th>DMS_score</th>\n      <th>DMS_score_bin</th>\n      <th>m1</th>\n      <th>m2</th>\n      <th>m3</th>\n      <th>m4</th>\n      <th>m5</th>\n      <th>m6</th>\n      <th>...</th>\n      <th>m12_new</th>\n      <th>m13_old</th>\n      <th>m13_position</th>\n      <th>m13_new</th>\n      <th>m14_old</th>\n      <th>m14_position</th>\n      <th>m14_new</th>\n      <th>m15_old</th>\n      <th>m15_position</th>\n      <th>m15_new</th>\n    </tr>\n  </thead>\n  <tbody>\n    <tr>\n      <th>0</th>\n      <td>K3R:V55A:Q94R:A110T:D117G:M153K:D216A</td>\n      <td>MSRGEELFTGVVPILVELDGDVNGHKFSVSGEGEGDATYGKLTLKF...</td>\n      <td>1.301030</td>\n      <td>0</td>\n      <td>K3R</td>\n      <td>V55A</td>\n      <td>Q94R</td>\n      <td>A110T</td>\n      <td>D117G</td>\n      <td>M153K</td>\n      <td>...</td>\n      <td>None</td>\n      <td>None</td>\n      <td>None</td>\n      <td>None</td>\n      <td>None</td>\n      <td>None</td>\n      <td>None</td>\n      <td>None</td>\n      <td>None</td>\n      <td>None</td>\n    </tr>\n    <tr>\n      <th>1</th>\n      <td>K3Q:V16A:I167T:L195Q</td>\n      <td>MSQGEELFTGVVPILAELDGDVNGHKFSVSGEGEGDATYGKLTLKF...</td>\n      <td>3.137350</td>\n      <td>1</td>\n      <td>K3Q</td>\n      <td>V16A</td>\n      <td>I167T</td>\n      <td>L195Q</td>\n      <td>None</td>\n      <td>None</td>\n      <td>...</td>\n      <td>None</td>\n      <td>None</td>\n      <td>None</td>\n      <td>None</td>\n      <td>None</td>\n      <td>None</td>\n      <td>None</td>\n      <td>None</td>\n      <td>None</td>\n      <td>None</td>\n    </tr>\n    <tr>\n      <th>2</th>\n      <td>K3Q:Y143C:N164D:S205P:A227T</td>\n      <td>MSQGEELFTGVVPILVELDGDVNGHKFSVSGEGEGDATYGKLTLKF...</td>\n      <td>1.553913</td>\n      <td>0</td>\n      <td>K3Q</td>\n      <td>Y143C</td>\n      <td>N164D</td>\n      <td>S205P</td>\n      <td>A227T</td>\n      <td>None</td>\n      <td>...</td>\n      <td>None</td>\n      <td>None</td>\n      <td>None</td>\n      <td>None</td>\n      <td>None</td>\n      <td>None</td>\n      <td>None</td>\n      <td>None</td>\n      <td>None</td>\n      <td>None</td>\n    </tr>\n    <tr>\n      <th>3</th>\n      <td>K3Q:Y143N:V193A</td>\n      <td>MSQGEELFTGVVPILVELDGDVNGHKFSVSGEGEGDATYGKLTLKF...</td>\n      <td>3.404237</td>\n      <td>1</td>\n      <td>K3Q</td>\n      <td>Y143N</td>\n      <td>V193A</td>\n      <td>None</td>\n      <td>None</td>\n      <td>None</td>\n      <td>...</td>\n      <td>None</td>\n      <td>None</td>\n      <td>None</td>\n      <td>None</td>\n      <td>None</td>\n      <td>None</td>\n      <td>None</td>\n      <td>None</td>\n      <td>None</td>\n      <td>None</td>\n    </tr>\n    <tr>\n      <th>4</th>\n      <td>K3R</td>\n      <td>MSRGEELFTGVVPILVELDGDVNGHKFSVSGEGEGDATYGKLTLKF...</td>\n      <td>3.738586</td>\n      <td>1</td>\n      <td>K3R</td>\n      <td>None</td>\n      <td>None</td>\n      <td>None</td>\n      <td>None</td>\n      <td>None</td>\n      <td>...</td>\n      <td>None</td>\n      <td>None</td>\n      <td>None</td>\n      <td>None</td>\n      <td>None</td>\n      <td>None</td>\n      <td>None</td>\n      <td>None</td>\n      <td>None</td>\n      <td>None</td>\n    </tr>\n  </tbody>\n</table>\n<p>5 rows × 64 columns</p>\n</div>"
     },
     "execution_count": 16,
     "metadata": {},
     "output_type": "execute_result"
    }
   ],
   "source": [
    "# Trennung m1 mit neuem Ansatz\n",
    "# Kann man den Code noch kürzen?\n",
    "df_new_pos_old = df_ind_col\n",
    "\n",
    "df_new_pos_old['m1_old'] = df_new_pos_old['m1'].str[:1]\n",
    "df_new_pos_old['m1_position'] = df_new_pos_old['m1'].str[1:-1]\n",
    "df_new_pos_old['m1_new'] = df_new_pos_old['m1'].str[-1:]\n",
    "\n",
    "df_new_pos_old['m2_old'] = df_new_pos_old['m2'].str[:1]\n",
    "df_new_pos_old['m2_position'] = df_new_pos_old['m2'].str[1:-1]\n",
    "df_new_pos_old['m2_new'] = df_new_pos_old['m2'].str[-1:]\n",
    "\n",
    "df_new_pos_old['m3_old'] = df_new_pos_old['m3'].str[:1]\n",
    "df_new_pos_old['m3_position'] = df_new_pos_old['m3'].str[1:-1]\n",
    "df_new_pos_old['m3_new'] = df_new_pos_old['m3'].str[-1:]\n",
    "\n",
    "df_new_pos_old['m4_old'] = df_new_pos_old['m4'].str[:1]\n",
    "df_new_pos_old['m4_position'] = df_new_pos_old['m4'].str[1:-1]\n",
    "df_new_pos_old['m4_new'] = df_new_pos_old['m4'].str[-1:]\n",
    "\n",
    "df_new_pos_old['m5_old'] = df_new_pos_old['m5'].str[:1]\n",
    "df_new_pos_old['m5_position'] = df_new_pos_old['m5'].str[1:-1]\n",
    "df_new_pos_old['m5_new'] = df_new_pos_old['m5'].str[-1:]\n",
    "\n",
    "df_new_pos_old['m6_old'] = df_new_pos_old['m6'].str[:1]\n",
    "df_new_pos_old['m6_position'] = df_new_pos_old['m6'].str[1:-1]\n",
    "df_new_pos_old['m6_new'] = df_new_pos_old['m6'].str[-1:]\n",
    "\n",
    "df_new_pos_old['m7_old'] = df_new_pos_old['m7'].str[:1]\n",
    "df_new_pos_old['m7_position'] = df_new_pos_old['m7'].str[1:-1]\n",
    "df_new_pos_old['m7_new'] = df_new_pos_old['m7'].str[-1:]\n",
    "\n",
    "df_new_pos_old['m8_old'] = df_new_pos_old['m8'].str[:1]\n",
    "df_new_pos_old['m8_position'] = df_new_pos_old['m8'].str[1:-1]\n",
    "df_new_pos_old['m8_new'] = df_new_pos_old['m8'].str[-1:]\n",
    "\n",
    "df_new_pos_old['m9_old'] = df_new_pos_old['m9'].str[:1]\n",
    "df_new_pos_old['m9_position'] = df_new_pos_old['m9'].str[1:-1]\n",
    "df_new_pos_old['m9_new'] = df_new_pos_old['m9'].str[-1:]\n",
    "\n",
    "df_new_pos_old['m10_old'] = df_new_pos_old['m10'].str[:1]\n",
    "df_new_pos_old['m10_position'] = df_new_pos_old['m10'].str[1:-1]\n",
    "df_new_pos_old['m10_new'] = df_new_pos_old['m10'].str[-1:]\n",
    "\n",
    "df_new_pos_old['m11_old'] = df_new_pos_old['m11'].str[:1]\n",
    "df_new_pos_old['m11_position'] = df_new_pos_old['m11'].str[1:-1]\n",
    "df_new_pos_old['m11_new'] = df_new_pos_old['m11'].str[-1:]\n",
    "\n",
    "df_new_pos_old.head()"
   ],
   "metadata": {
    "collapsed": false,
    "ExecuteTime": {
     "end_time": "2023-05-30T11:07:08.656360Z",
     "start_time": "2023-05-30T11:07:08.545273Z"
    }
   }
  }
 ],
 "metadata": {
  "kernelspec": {
   "display_name": "Python 3",
   "language": "python",
   "name": "python3"
  },
  "language_info": {
   "codemirror_mode": {
    "name": "ipython",
    "version": 2
   },
   "file_extension": ".py",
   "mimetype": "text/x-python",
   "name": "python",
   "nbconvert_exporter": "python",
   "pygments_lexer": "ipython2",
   "version": "2.7.6"
  }
 },
 "nbformat": 4,
 "nbformat_minor": 0
}
