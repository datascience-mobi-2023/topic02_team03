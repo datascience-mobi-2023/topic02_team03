{
 "cells": [
  {
   "cell_type": "code",
   "execution_count": 1,
   "metadata": {
    "collapsed": true,
    "ExecuteTime": {
     "end_time": "2023-07-15T13:57:12.470579Z",
     "start_time": "2023-07-15T13:57:11.962934Z"
    }
   },
   "outputs": [],
   "source": [
    "import pandas as pd\n",
    "\n",
    "# Datensatz einlesen\n",
    "df = pd.read_csv('/Users/tianxinangelama/Documents/Studium/4. FS/DMS/DMS_data/GFP_AEQVI_Sarkisyan_2016.csv')"
   ]
  },
  {
   "cell_type": "code",
   "execution_count": 2,
   "outputs": [
    {
     "name": "stderr",
     "output_type": "stream",
     "text": [
      "/var/folders/tn/1strgsg5455dq9n93kfzv8kh0000gn/T/ipykernel_40040/3280448959.py:7: FutureWarning: In a future version of pandas all arguments of StringMethods.split except for the argument 'pat' will be keyword-only.\n",
      "  df_ind_col['mutant'].str.split(':', 14, expand=True)\n"
     ]
    }
   ],
   "source": [
    "# split into multiple columns, 1 column for every mutation\n",
    "# copy df\n",
    "df_ind_col = df.copy()\n",
    "\n",
    "# split\n",
    "df_ind_col[['m1', 'm2', 'm3', 'm4', 'm5', 'm6', 'm7', 'm8', 'm9', 'm10', 'm11', 'm12', 'm13', 'm14', 'm15']] = \\\n",
    "df_ind_col['mutant'].str.split(':', 14, expand=True)"
   ],
   "metadata": {
    "collapsed": false,
    "ExecuteTime": {
     "end_time": "2023-07-15T13:57:28.348392Z",
     "start_time": "2023-07-15T13:57:28.269649Z"
    }
   }
  },
  {
   "cell_type": "code",
   "execution_count": 3,
   "outputs": [],
   "source": [
    "# df with single mutation mutants, only position and DMS_score\n",
    "# copy df\n",
    "df_single = df_ind_col.copy()\n",
    "\n",
    "# remain rows with None in m2\n",
    "df_single = df_single[df_single['m2'].isnull()]\n",
    "\n",
    "# delete columns m2 to m15 and mutant, mutated_sequence, DMS_score_bin\n",
    "df_single = df_single.drop(\n",
    "    columns=['m2', 'm3', 'm4', 'm5', 'm6', 'm7', 'm8', 'm9', 'm10', 'm11', 'm12', 'm13', 'm14', 'm15', 'mutant',\n",
    "             'mutated_sequence', 'DMS_score_bin'])"
   ],
   "metadata": {
    "collapsed": false,
    "ExecuteTime": {
     "end_time": "2023-07-15T13:57:36.412715Z",
     "start_time": "2023-07-15T13:57:36.377147Z"
    }
   }
  },
  {
   "cell_type": "code",
   "execution_count": 4,
   "outputs": [],
   "source": [
    "# df with double mutations mutants, only position and DMS_score\n",
    "# copy df\n",
    "df_double = df_ind_col.copy()\n",
    "\n",
    "# remain rows with None in m3 and value in m2\n",
    "df_double = df_double[df_double['m3'].isnull() & df_double['m2'].notnull()]\n",
    "\n",
    "# delete columns m3 to m15 and mutant, mutated_sequence, DMS_score_bin\n",
    "df_double = df_double.drop(\n",
    "    columns=['m3', 'm4', 'm5', 'm6', 'm7', 'm8', 'm9', 'm10', 'm11', 'm12', 'm13', 'm14', 'm15', 'mutant',\n",
    "             'mutated_sequence', 'DMS_score_bin'])"
   ],
   "metadata": {
    "collapsed": false,
    "ExecuteTime": {
     "end_time": "2023-07-15T13:57:42.140792Z",
     "start_time": "2023-07-15T13:57:42.103016Z"
    }
   }
  },
  {
   "cell_type": "code",
   "execution_count": 5,
   "outputs": [
    {
     "name": "stdout",
     "output_type": "stream",
     "text": [
      "       DMS_score     m1     m2 score_single_1 score_single_2\n",
      "13      3.716293    K3R  D133A                              \n",
      "41      3.833353    K3N   S30Y                              \n",
      "45      3.553744    K3N  V150A                              \n",
      "53      3.688150    K3Q    E5V                              \n",
      "56      3.619344    K3Q  K101R                              \n",
      "...          ...    ...    ...            ...            ...\n",
      "51688   3.577787  M233K  D234G                              \n",
      "51691   3.744741  D234G  L236P                              \n",
      "51694   3.865135  D234V  Y237H                              \n",
      "51696   3.693903  D234G  E235V                              \n",
      "51699   3.862731  E235G  L236P                              \n",
      "\n",
      "[12777 rows x 5 columns]\n"
     ]
    }
   ],
   "source": [
    "# add new empty columns 'score_single_1' and 'score_single_2' to df_double_only_position_m1\n",
    "df_double['score_single_1'] = ''\n",
    "df_double['score_single_2'] = ''\n",
    "\n",
    "print(df_double)"
   ],
   "metadata": {
    "collapsed": false,
    "ExecuteTime": {
     "end_time": "2023-07-15T13:59:03.486645Z",
     "start_time": "2023-07-15T13:59:03.476072Z"
    }
   }
  },
  {
   "cell_type": "code",
   "execution_count": 6,
   "outputs": [
    {
     "name": "stdout",
     "output_type": "stream",
     "text": [
      "       DMS_score     m1     m2 score_single_1 score_single_2\n",
      "13      3.716293    K3R  D133A       3.738586               \n",
      "41      3.833353    K3N   S30Y                              \n",
      "45      3.553744    K3N  V150A                              \n",
      "53      3.688150    K3Q    E5V       3.750487               \n",
      "56      3.619344    K3Q  K101R       3.750487               \n",
      "...          ...    ...    ...            ...            ...\n",
      "51688   3.577787  M233K  D234G       3.684742               \n",
      "51691   3.744741  D234G  L236P       3.706313               \n",
      "51694   3.865135  D234V  Y237H       3.608266               \n",
      "51696   3.693903  D234G  E235V       3.706313               \n",
      "51699   3.862731  E235G  L236P       3.727375               \n",
      "\n",
      "[12777 rows x 5 columns]\n"
     ]
    }
   ],
   "source": [
    "# compare m1 from df_double with m1 from df_single, add value from DMS_score (df_single) to score_single_1 of df_double\n",
    "for index, row in df_double.iterrows():\n",
    "    for index2, row2 in df_single.iterrows():\n",
    "        if row['m1'] == row2['m1']:\n",
    "            df_double.loc[index, 'score_single_1'] = row2['DMS_score']\n",
    "\n",
    "print(df_double)"
   ],
   "metadata": {
    "collapsed": false,
    "ExecuteTime": {
     "end_time": "2023-07-15T14:03:14.170526Z",
     "start_time": "2023-07-15T14:00:09.616529Z"
    }
   }
  },
  {
   "cell_type": "code",
   "execution_count": 7,
   "outputs": [
    {
     "name": "stdout",
     "output_type": "stream",
     "text": [
      "       DMS_score     m1     m2 score_single_1 score_single_2\n",
      "13      3.716293    K3R  D133A       3.738586       3.540905\n",
      "41      3.833353    K3N   S30Y                      3.752408\n",
      "45      3.553744    K3N  V150A                       3.63642\n",
      "53      3.688150    K3Q    E5V       3.750487       3.693551\n",
      "56      3.619344    K3Q  K101R       3.750487       3.677711\n",
      "...          ...    ...    ...            ...            ...\n",
      "51688   3.577787  M233K  D234G       3.684742       3.706313\n",
      "51691   3.744741  D234G  L236P       3.706313       3.706238\n",
      "51694   3.865135  D234V  Y237H       3.608266       3.735417\n",
      "51696   3.693903  D234G  E235V       3.706313       3.712191\n",
      "51699   3.862731  E235G  L236P       3.727375       3.706238\n",
      "\n",
      "[12777 rows x 5 columns]\n"
     ]
    }
   ],
   "source": [
    "# compare m2 from df_double with m1 from df_single, add value from DMS_score (df_single) to score_single_2 of df_double\n",
    "for index, row in df_double.iterrows():\n",
    "    for index2, row2 in df_single.iterrows():\n",
    "        if row['m2'] == row2['m1']:\n",
    "            df_double.loc[index, 'score_single_2'] = row2['DMS_score']\n",
    "\n",
    "print(df_double)"
   ],
   "metadata": {
    "collapsed": false,
    "ExecuteTime": {
     "end_time": "2023-07-15T14:06:19.323880Z",
     "start_time": "2023-07-15T14:03:14.171407Z"
    }
   }
  },
  {
   "cell_type": "code",
   "execution_count": 12,
   "outputs": [
    {
     "name": "stdout",
     "output_type": "stream",
     "text": [
      "       DMS_score     m1     m2 score_single_1 score_single_2\n",
      "13      3.716293    K3R  D133A       3.738586       3.540905\n",
      "53      3.688150    K3Q    E5V       3.750487       3.693551\n",
      "56      3.619344    K3Q  K101R       3.750487       3.677711\n",
      "63      1.301030    K3Q  Q183L       3.750487       1.442357\n",
      "73      3.970988    K3R   E34V       3.738586       3.758329\n",
      "...          ...    ...    ...            ...            ...\n",
      "51688   3.577787  M233K  D234G       3.684742       3.706313\n",
      "51691   3.744741  D234G  L236P       3.706313       3.706238\n",
      "51694   3.865135  D234V  Y237H       3.608266       3.735417\n",
      "51696   3.693903  D234G  E235V       3.706313       3.712191\n",
      "51699   3.862731  E235G  L236P       3.727375       3.706238\n",
      "\n",
      "[11954 rows x 5 columns]\n"
     ]
    }
   ],
   "source": [
    "# delete rows with empty values in score_single_1 or score_single_2\n",
    "df_double = df_double[(df_double['score_single_1'] != '') & (df_double['score_single_2'] != '')]\n",
    "\n",
    "print(df_double)"
   ],
   "metadata": {
    "collapsed": false,
    "ExecuteTime": {
     "end_time": "2023-07-15T14:12:25.433083Z",
     "start_time": "2023-07-15T14:12:25.416184Z"
    }
   }
  },
  {
   "cell_type": "markdown",
   "source": [
    "### assign in/out to each mutation"
   ],
   "metadata": {
    "collapsed": false
   }
  },
  {
   "cell_type": "code",
   "execution_count": 14,
   "outputs": [],
   "source": [
    "# import excel sheet (postion of mutation, in/out)\n",
    "df_in_out = pd.read_excel('/Users/tianxinangelama/Documents/Studium/4. FS/DMS/AS_residues.xlsx', sheet_name='Sheet2')"
   ],
   "metadata": {
    "collapsed": false,
    "ExecuteTime": {
     "end_time": "2023-07-15T14:13:18.620912Z",
     "start_time": "2023-07-15T14:13:18.599277Z"
    }
   }
  },
  {
   "cell_type": "code",
   "execution_count": 67,
   "outputs": [],
   "source": [
    "# create a list with all positions with buried residues, these positions have value '1' in column 'in(1)/out(0)'\n",
    "positions_in = df_in_out[df_in_out['in(1)/out(0)'] == 1]['position'].tolist()"
   ],
   "metadata": {
    "collapsed": false,
    "ExecuteTime": {
     "end_time": "2023-07-15T15:14:24.982530Z",
     "start_time": "2023-07-15T15:14:24.977130Z"
    }
   }
  },
  {
   "cell_type": "code",
   "execution_count": 86,
   "outputs": [],
   "source": [
    "# change data type of value from list positions_in to string\n",
    "positions_in = [str(i) for i in positions_in]"
   ],
   "metadata": {
    "collapsed": false,
    "ExecuteTime": {
     "end_time": "2023-07-15T15:55:20.505807Z",
     "start_time": "2023-07-15T15:55:20.498247Z"
    }
   }
  },
  {
   "cell_type": "code",
   "execution_count": 87,
   "outputs": [],
   "source": [
    "# add columns 'position_m1' and 'position_m2' to df_double\n",
    "df_double['position_m1'] = df_double['m1'].str[1:-1]\n",
    "df_double['position_m2'] = df_double['m2'].str[1:-1]"
   ],
   "metadata": {
    "collapsed": false,
    "ExecuteTime": {
     "end_time": "2023-07-15T15:55:25.782776Z",
     "start_time": "2023-07-15T15:55:25.768971Z"
    }
   }
  },
  {
   "cell_type": "code",
   "execution_count": 88,
   "outputs": [],
   "source": [
    "# add empty columns 'm1_in/out' and 'm2_in/out' to df_double\n",
    "df_double['m1_in/out'] = ''\n",
    "df_double['m2_in/out'] = ''"
   ],
   "metadata": {
    "collapsed": false,
    "ExecuteTime": {
     "end_time": "2023-07-15T15:55:26.349655Z",
     "start_time": "2023-07-15T15:55:26.332616Z"
    }
   }
  },
  {
   "cell_type": "code",
   "execution_count": 89,
   "outputs": [],
   "source": [
    "# assign in/out to m1_in/out\n",
    "for index, row in df_double.iterrows():\n",
    "    if row['position_m1'] in positions_in:\n",
    "        df_double.loc[index, 'm1_in/out'] = 'in'\n",
    "    else:\n",
    "        df_double.loc[index, 'm1_in/out'] = 'out'"
   ],
   "metadata": {
    "collapsed": false,
    "ExecuteTime": {
     "end_time": "2023-07-15T15:55:28.067480Z",
     "start_time": "2023-07-15T15:55:26.923009Z"
    }
   }
  },
  {
   "cell_type": "code",
   "execution_count": 90,
   "outputs": [],
   "source": [
    "# assign in/out to m2_in/out\n",
    "for index, row in df_double.iterrows():\n",
    "    if row['position_m2'] in positions_in:\n",
    "        df_double.loc[index, 'm2_in/out'] = 'in'\n",
    "    else:\n",
    "        df_double.loc[index, 'm2_in/out'] = 'out'"
   ],
   "metadata": {
    "collapsed": false,
    "ExecuteTime": {
     "end_time": "2023-07-15T15:55:31.106356Z",
     "start_time": "2023-07-15T15:55:30.041545Z"
    }
   }
  },
  {
   "cell_type": "code",
   "execution_count": 91,
   "outputs": [
    {
     "name": "stdout",
     "output_type": "stream",
     "text": [
      "       DMS_score     m1     m2 score_single_1 score_single_2 m1_in/out  \\\n",
      "13      3.716293    K3R  D133A       3.738586       3.540905       out   \n",
      "53      3.688150    K3Q    E5V       3.750487       3.693551       out   \n",
      "56      3.619344    K3Q  K101R       3.750487       3.677711       out   \n",
      "63      1.301030    K3Q  Q183L       3.750487       1.442357       out   \n",
      "73      3.970988    K3R   E34V       3.738586       3.758329       out   \n",
      "...          ...    ...    ...            ...            ...       ...   \n",
      "51688   3.577787  M233K  D234G       3.684742       3.706313       out   \n",
      "51691   3.744741  D234G  L236P       3.706313       3.706238       out   \n",
      "51694   3.865135  D234V  Y237H       3.608266       3.735417       out   \n",
      "51696   3.693903  D234G  E235V       3.706313       3.712191       out   \n",
      "51699   3.862731  E235G  L236P       3.727375       3.706238       out   \n",
      "\n",
      "      m2_in/out   epistasis position position_m1 position_m2  \n",
      "13          out    weak pos                    3         133  \n",
      "53          out      no/neg                    3           5  \n",
      "56          out      no/neg                    3         101  \n",
      "63           in      no/neg                    3         183  \n",
      "73          out  strong pos                    3          34  \n",
      "...         ...         ...      ...         ...         ...  \n",
      "51688       out      no/neg                  233         234  \n",
      "51691       out  strong pos                  234         236  \n",
      "51694       out  strong pos                  234         237  \n",
      "51696       out      no/neg                  234         235  \n",
      "51699       out  strong pos                  235         236  \n",
      "\n",
      "[11954 rows x 11 columns]\n"
     ]
    }
   ],
   "source": [
    "print(df_double)"
   ],
   "metadata": {
    "collapsed": false,
    "ExecuteTime": {
     "end_time": "2023-07-15T15:55:32.012892Z",
     "start_time": "2023-07-15T15:55:32.001409Z"
    }
   }
  },
  {
   "cell_type": "code",
   "execution_count": 94,
   "outputs": [
    {
     "data": {
      "text/plain": "out    8571\nin     3383\nName: m1_in/out, dtype: int64"
     },
     "execution_count": 94,
     "metadata": {},
     "output_type": "execute_result"
    }
   ],
   "source": [
    "# count m1_in/out\n",
    "df_double['m1_in/out'].value_counts()"
   ],
   "metadata": {
    "collapsed": false,
    "ExecuteTime": {
     "end_time": "2023-07-15T15:56:12.516927Z",
     "start_time": "2023-07-15T15:56:12.502894Z"
    }
   }
  },
  {
   "cell_type": "code",
   "execution_count": 95,
   "outputs": [
    {
     "data": {
      "text/plain": "out    9258\nin     2696\nName: m2_in/out, dtype: int64"
     },
     "execution_count": 95,
     "metadata": {},
     "output_type": "execute_result"
    }
   ],
   "source": [
    "# count m2_in/out\n",
    "df_double['m2_in/out'].value_counts()"
   ],
   "metadata": {
    "collapsed": false,
    "ExecuteTime": {
     "end_time": "2023-07-15T15:56:17.808312Z",
     "start_time": "2023-07-15T15:56:17.795816Z"
    }
   }
  },
  {
   "cell_type": "markdown",
   "source": [
    "### compare scores"
   ],
   "metadata": {
    "collapsed": false
   }
  },
  {
   "cell_type": "code",
   "execution_count": 96,
   "outputs": [],
   "source": [
    "# add empty column 'epistasis' to df_double\n",
    "df_double['epistasis'] = ''"
   ],
   "metadata": {
    "collapsed": false,
    "ExecuteTime": {
     "end_time": "2023-07-15T15:56:29.223169Z",
     "start_time": "2023-07-15T15:56:29.211212Z"
    }
   }
  },
  {
   "cell_type": "code",
   "execution_count": 97,
   "outputs": [
    {
     "name": "stdout",
     "output_type": "stream",
     "text": [
      "       DMS_score     m1     m2 score_single_1 score_single_2 m1_in/out  \\\n",
      "13      3.716293    K3R  D133A       3.738586       3.540905       out   \n",
      "53      3.688150    K3Q    E5V       3.750487       3.693551       out   \n",
      "56      3.619344    K3Q  K101R       3.750487       3.677711       out   \n",
      "63      1.301030    K3Q  Q183L       3.750487       1.442357       out   \n",
      "73      3.970988    K3R   E34V       3.738586       3.758329       out   \n",
      "...          ...    ...    ...            ...            ...       ...   \n",
      "51688   3.577787  M233K  D234G       3.684742       3.706313       out   \n",
      "51691   3.744741  D234G  L236P       3.706313       3.706238       out   \n",
      "51694   3.865135  D234V  Y237H       3.608266       3.735417       out   \n",
      "51696   3.693903  D234G  E235V       3.706313       3.712191       out   \n",
      "51699   3.862731  E235G  L236P       3.727375       3.706238       out   \n",
      "\n",
      "      m2_in/out   epistasis position position_m1 position_m2  \n",
      "13          out    weak pos                    3         133  \n",
      "53          out      no/neg                    3           5  \n",
      "56          out      no/neg                    3         101  \n",
      "63           in      no/neg                    3         183  \n",
      "73          out  strong pos                    3          34  \n",
      "...         ...         ...      ...         ...         ...  \n",
      "51688       out      no/neg                  233         234  \n",
      "51691       out  strong pos                  234         236  \n",
      "51694       out  strong pos                  234         237  \n",
      "51696       out      no/neg                  234         235  \n",
      "51699       out  strong pos                  235         236  \n",
      "\n",
      "[11954 rows x 11 columns]\n"
     ]
    }
   ],
   "source": [
    "# compare scores\n",
    "# if DMS_score > score_single_1 and DMS_score > score_single_2 --> epistasis = 'strong pos'\n",
    "# if DMS_score < score_single_1 and DMS_score < score_single_2 --> epistasis = 'no/neg'\n",
    "# else --> epistasis = 'weak pos'\n",
    "for index, row in df_double.iterrows():\n",
    "    if row['DMS_score'] > row['score_single_1'] and row['DMS_score'] > row['score_single_2']:\n",
    "        df_double.loc[index, 'epistasis'] = 'strong pos'\n",
    "    elif row['DMS_score'] < row['score_single_1'] and row['DMS_score'] < row['score_single_2']:\n",
    "        df_double.loc[index, 'epistasis'] = 'no/neg'\n",
    "    else:\n",
    "        df_double.loc[index, 'epistasis'] = 'weak pos'\n",
    "\n",
    "print(df_double)"
   ],
   "metadata": {
    "collapsed": false,
    "ExecuteTime": {
     "end_time": "2023-07-15T15:56:33.283933Z",
     "start_time": "2023-07-15T15:56:32.238854Z"
    }
   }
  },
  {
   "cell_type": "code",
   "execution_count": 98,
   "outputs": [
    {
     "data": {
      "text/plain": "no/neg        6501\nweak pos      3260\nstrong pos    2193\nName: epistasis, dtype: int64"
     },
     "execution_count": 98,
     "metadata": {},
     "output_type": "execute_result"
    }
   ],
   "source": [
    "# count number of strong pos, weak pos and no/neg\n",
    "df_double['epistasis'].value_counts()"
   ],
   "metadata": {
    "collapsed": false,
    "ExecuteTime": {
     "end_time": "2023-07-15T15:56:37.377550Z",
     "start_time": "2023-07-15T15:56:37.354384Z"
    }
   }
  },
  {
   "cell_type": "markdown",
   "source": [
    "### add pair character to df_double"
   ],
   "metadata": {
    "collapsed": false
   }
  },
  {
   "cell_type": "code",
   "execution_count": 111,
   "outputs": [],
   "source": [
    "# add empty column 'pair' to df_double\n",
    "df_double['pair'] = ''"
   ],
   "metadata": {
    "collapsed": false,
    "ExecuteTime": {
     "end_time": "2023-07-15T16:09:26.415807Z",
     "start_time": "2023-07-15T16:09:26.406166Z"
    }
   }
  },
  {
   "cell_type": "code",
   "execution_count": 112,
   "outputs": [
    {
     "name": "stdout",
     "output_type": "stream",
     "text": [
      "       DMS_score     m1     m2 score_single_1 score_single_2 m1_in/out  \\\n",
      "13      3.716293    K3R  D133A       3.738586       3.540905       out   \n",
      "53      3.688150    K3Q    E5V       3.750487       3.693551       out   \n",
      "56      3.619344    K3Q  K101R       3.750487       3.677711       out   \n",
      "63      1.301030    K3Q  Q183L       3.750487       1.442357       out   \n",
      "73      3.970988    K3R   E34V       3.738586       3.758329       out   \n",
      "...          ...    ...    ...            ...            ...       ...   \n",
      "51688   3.577787  M233K  D234G       3.684742       3.706313       out   \n",
      "51691   3.744741  D234G  L236P       3.706313       3.706238       out   \n",
      "51694   3.865135  D234V  Y237H       3.608266       3.735417       out   \n",
      "51696   3.693903  D234G  E235V       3.706313       3.712191       out   \n",
      "51699   3.862731  E235G  L236P       3.727375       3.706238       out   \n",
      "\n",
      "      m2_in/out   epistasis position position_m1 position_m2     pair  \n",
      "13          out    weak pos                    3         133  out-out  \n",
      "53          out      no/neg                    3           5  out-out  \n",
      "56          out      no/neg                    3         101  out-out  \n",
      "63           in      no/neg                    3         183   in-out  \n",
      "73          out  strong pos                    3          34  out-out  \n",
      "...         ...         ...      ...         ...         ...      ...  \n",
      "51688       out      no/neg                  233         234  out-out  \n",
      "51691       out  strong pos                  234         236  out-out  \n",
      "51694       out  strong pos                  234         237  out-out  \n",
      "51696       out      no/neg                  234         235  out-out  \n",
      "51699       out  strong pos                  235         236  out-out  \n",
      "\n",
      "[11954 rows x 12 columns]\n"
     ]
    }
   ],
   "source": [
    "# add pair character to df_double\n",
    "# if m1_in/out = in and m2_in/out = in --> pair = 'in-in'\n",
    "# if m1_in/out = in and m2_in/out = out --> pair = 'in-out'\n",
    "# if m1_in/out = out and m2_in/out = in --> pair = 'in-out'\n",
    "# if m1_in/out = out and m2_in/out = out --> pair = 'out-out'\n",
    "for index, row in df_double.iterrows():\n",
    "    if row['m1_in/out'] == 'in' and row['m2_in/out'] == 'in':\n",
    "        df_double.loc[index, 'pair'] = 'in-in'\n",
    "    elif row['m1_in/out'] == 'in' and row['m2_in/out'] == 'out':\n",
    "        df_double.loc[index, 'pair'] = 'in-out'\n",
    "    elif row['m1_in/out'] == 'out' and row['m2_in/out'] == 'in':\n",
    "        df_double.loc[index, 'pair'] = 'in-out'\n",
    "    else:\n",
    "        df_double.loc[index, 'pair'] = 'out-out'\n",
    "\n",
    "print(df_double)"
   ],
   "metadata": {
    "collapsed": false,
    "ExecuteTime": {
     "end_time": "2023-07-15T16:09:55.378436Z",
     "start_time": "2023-07-15T16:09:54.216568Z"
    }
   }
  },
  {
   "cell_type": "code",
   "execution_count": 113,
   "outputs": [
    {
     "data": {
      "text/plain": "out-out    6673\nin-out     4483\nin-in       798\nName: pair, dtype: int64"
     },
     "execution_count": 113,
     "metadata": {},
     "output_type": "execute_result"
    }
   ],
   "source": [
    "# count number of in-in, in-out and out-out\n",
    "df_double['pair'].value_counts()"
   ],
   "metadata": {
    "collapsed": false,
    "ExecuteTime": {
     "end_time": "2023-07-15T16:09:59.351965Z",
     "start_time": "2023-07-15T16:09:59.339377Z"
    }
   }
  },
  {
   "cell_type": "markdown",
   "source": [
    "### df mutants with strong positive epistasis"
   ],
   "metadata": {
    "collapsed": false
   }
  },
  {
   "cell_type": "code",
   "execution_count": 99,
   "outputs": [],
   "source": [
    "# copy df_double\n",
    "df_strong_pos = df_double.copy()\n",
    "\n",
    "# remain rows with strong pos\n",
    "df_strong_pos = df_strong_pos[df_strong_pos['epistasis'] == 'strong pos']"
   ],
   "metadata": {
    "collapsed": false,
    "ExecuteTime": {
     "end_time": "2023-07-15T15:56:46.454941Z",
     "start_time": "2023-07-15T15:56:46.442748Z"
    }
   }
  },
  {
   "cell_type": "code",
   "execution_count": 102,
   "outputs": [
    {
     "data": {
      "text/plain": "strong pos    2193\nName: epistasis, dtype: int64"
     },
     "execution_count": 102,
     "metadata": {},
     "output_type": "execute_result"
    }
   ],
   "source": [
    "# count rows (strong pos)\n",
    "df_strong_pos['epistasis'].value_counts()"
   ],
   "metadata": {
    "collapsed": false,
    "ExecuteTime": {
     "end_time": "2023-07-15T16:00:55.891Z",
     "start_time": "2023-07-15T16:00:55.884621Z"
    }
   }
  },
  {
   "cell_type": "markdown",
   "source": [
    "### add pair character to df_strong_pos"
   ],
   "metadata": {
    "collapsed": false
   }
  },
  {
   "cell_type": "code",
   "execution_count": 103,
   "outputs": [],
   "source": [
    "# add empty column 'pair' to df_strong_pos\n",
    "df_strong_pos['pair'] = ''"
   ],
   "metadata": {
    "collapsed": false,
    "ExecuteTime": {
     "end_time": "2023-07-15T16:04:22.178161Z",
     "start_time": "2023-07-15T16:04:22.161549Z"
    }
   }
  },
  {
   "cell_type": "code",
   "execution_count": 104,
   "outputs": [
    {
     "name": "stdout",
     "output_type": "stream",
     "text": [
      "       DMS_score     m1     m2 score_single_1 score_single_2 m1_in/out  \\\n",
      "73      3.970988    K3R   E34V       3.738586       3.758329       out   \n",
      "97      3.755081    K3R   E32V       3.738586       3.747646       out   \n",
      "238     3.704134    K3M  N164S       3.698336       3.671506       out   \n",
      "268     3.775845    K3R   K26R       3.738586        3.68966       out   \n",
      "288     3.883290    K3R   K52R       3.738586       3.677588       out   \n",
      "...          ...    ...    ...            ...            ...       ...   \n",
      "51667   3.758870  H231R  E235V       3.709842       3.712191       out   \n",
      "51677   3.869522  G232D  M233L       3.781376       3.681971       out   \n",
      "51691   3.744741  D234G  L236P       3.706313       3.706238       out   \n",
      "51694   3.865135  D234V  Y237H       3.608266       3.735417       out   \n",
      "51699   3.862731  E235G  L236P       3.727375       3.706238       out   \n",
      "\n",
      "      m2_in/out   epistasis position position_m1 position_m2     pair  \n",
      "73          out  strong pos                    3          34  out-out  \n",
      "97          out  strong pos                    3          32  out-out  \n",
      "238         out  strong pos                    3         164  out-out  \n",
      "268         out  strong pos                    3          26  out-out  \n",
      "288         out  strong pos                    3          52  out-out  \n",
      "...         ...         ...      ...         ...         ...      ...  \n",
      "51667       out  strong pos                  231         235  out-out  \n",
      "51677       out  strong pos                  232         233  out-out  \n",
      "51691       out  strong pos                  234         236  out-out  \n",
      "51694       out  strong pos                  234         237  out-out  \n",
      "51699       out  strong pos                  235         236  out-out  \n",
      "\n",
      "[2193 rows x 12 columns]\n"
     ]
    }
   ],
   "source": [
    "# add pair character to df_strong_pos\n",
    "# if m1_in/out = in and m2_in/out = in --> pair = 'in-in'\n",
    "# if m1_in/out = in and m2_in/out = out --> pair = 'in-out'\n",
    "# if m1_in/out = out and m2_in/out = in --> pair = 'in-out'\n",
    "# if m1_in/out = out and m2_in/out = out --> pair = 'out-out'\n",
    "for index, row in df_strong_pos.iterrows():\n",
    "    if row['m1_in/out'] == 'in' and row['m2_in/out'] == 'in':\n",
    "        df_strong_pos.loc[index, 'pair'] = 'in-in'\n",
    "    elif row['m1_in/out'] == 'in' and row['m2_in/out'] == 'out':\n",
    "        df_strong_pos.loc[index, 'pair'] = 'in-out'\n",
    "    elif row['m1_in/out'] == 'out' and row['m2_in/out'] == 'in':\n",
    "        df_strong_pos.loc[index, 'pair'] = 'in-out'\n",
    "    else:\n",
    "        df_strong_pos.loc[index, 'pair'] = 'out-out'\n",
    "\n",
    "print(df_strong_pos)"
   ],
   "metadata": {
    "collapsed": false,
    "ExecuteTime": {
     "end_time": "2023-07-15T16:05:35.489405Z",
     "start_time": "2023-07-15T16:05:35.371219Z"
    }
   }
  },
  {
   "cell_type": "code",
   "execution_count": 105,
   "outputs": [
    {
     "data": {
      "text/plain": "out-out    1542\nin-out      590\nin-in        61\nName: pair, dtype: int64"
     },
     "execution_count": 105,
     "metadata": {},
     "output_type": "execute_result"
    }
   ],
   "source": [
    "# count number of in-in, in-out and out-out\n",
    "df_strong_pos['pair'].value_counts()"
   ],
   "metadata": {
    "collapsed": false,
    "ExecuteTime": {
     "end_time": "2023-07-15T16:05:44.512242Z",
     "start_time": "2023-07-15T16:05:44.496525Z"
    }
   }
  },
  {
   "cell_type": "markdown",
   "source": [
    "### df mutants with weak positive epistasis"
   ],
   "metadata": {
    "collapsed": false
   }
  },
  {
   "cell_type": "code",
   "execution_count": 106,
   "outputs": [],
   "source": [
    "# copy df_double\n",
    "df_weak_pos = df_double.copy()\n",
    "\n",
    "# remain rows with weak pos\n",
    "df_weak_pos = df_weak_pos[df_weak_pos['epistasis'] == 'weak pos']"
   ],
   "metadata": {
    "collapsed": false,
    "ExecuteTime": {
     "end_time": "2023-07-15T16:06:59.720889Z",
     "start_time": "2023-07-15T16:06:59.710546Z"
    }
   }
  },
  {
   "cell_type": "code",
   "execution_count": 107,
   "outputs": [
    {
     "data": {
      "text/plain": "weak pos    3260\nName: epistasis, dtype: int64"
     },
     "execution_count": 107,
     "metadata": {},
     "output_type": "execute_result"
    }
   ],
   "source": [
    "# count rows (weak pos)\n",
    "df_weak_pos['epistasis'].value_counts()"
   ],
   "metadata": {
    "collapsed": false,
    "ExecuteTime": {
     "end_time": "2023-07-15T16:07:03.131785Z",
     "start_time": "2023-07-15T16:07:03.116807Z"
    }
   }
  },
  {
   "cell_type": "code",
   "execution_count": 108,
   "outputs": [],
   "source": [
    "# add empty column 'pair' to df_weak_pos\n",
    "df_weak_pos['pair'] = ''"
   ],
   "metadata": {
    "collapsed": false,
    "ExecuteTime": {
     "end_time": "2023-07-15T16:07:08.395994Z",
     "start_time": "2023-07-15T16:07:08.381306Z"
    }
   }
  },
  {
   "cell_type": "code",
   "execution_count": 109,
   "outputs": [
    {
     "name": "stdout",
     "output_type": "stream",
     "text": [
      "       DMS_score     m1     m2 score_single_1 score_single_2 m1_in/out  \\\n",
      "13      3.716293    K3R  D133A       3.738586       3.540905       out   \n",
      "135     3.710888    K3M  K158M       3.698336       3.732787       out   \n",
      "196     3.542358    K3M  K113E       3.698336       3.504341       out   \n",
      "242     3.675753    K3M   N23S       3.698336       3.593087       out   \n",
      "249     3.733838    K3M   Q80L       3.698336       3.738666       out   \n",
      "...          ...    ...    ...            ...            ...       ...   \n",
      "51635   3.705313  I229V  M233V       3.661197       3.739888       out   \n",
      "51651   3.676153  I229V  Y237C       3.661197       3.760217       out   \n",
      "51660   3.780106  T230A  G232D       3.695389       3.781376       out   \n",
      "51673   3.693197  H231Q  D234N       3.734298       3.582939       out   \n",
      "51682   3.646440  M233T  D234N       3.706713       3.582939       out   \n",
      "\n",
      "      m2_in/out epistasis position position_m1 position_m2     pair  \n",
      "13          out  weak pos                    3         133  out-out  \n",
      "135         out  weak pos                    3         158  out-out  \n",
      "196         out  weak pos                    3         113  out-out  \n",
      "242         out  weak pos                    3          23  out-out  \n",
      "249         out  weak pos                    3          80  out-out  \n",
      "...         ...       ...      ...         ...         ...      ...  \n",
      "51635       out  weak pos                  229         233  out-out  \n",
      "51651       out  weak pos                  229         237  out-out  \n",
      "51660       out  weak pos                  230         232  out-out  \n",
      "51673       out  weak pos                  231         234  out-out  \n",
      "51682       out  weak pos                  233         234  out-out  \n",
      "\n",
      "[3260 rows x 12 columns]\n"
     ]
    }
   ],
   "source": [
    "# add pair character to df_weak_pos\n",
    "# if m1_in/out = in and m2_in/out = in --> pair = 'in-in'\n",
    "# if m1_in/out = in and m2_in/out = out --> pair = 'in-out'\n",
    "# if m1_in/out = out and m2_in/out = in --> pair = 'in-out'\n",
    "# if m1_in/out = out and m2_in/out = out --> pair = 'out-out'\n",
    "for index, row in df_weak_pos.iterrows():\n",
    "    if row['m1_in/out'] == 'in' and row['m2_in/out'] == 'in':\n",
    "        df_weak_pos.loc[index, 'pair'] = 'in-in'\n",
    "    elif row['m1_in/out'] == 'in' and row['m2_in/out'] == 'out':\n",
    "        df_weak_pos.loc[index, 'pair'] = 'in-out'\n",
    "    elif row['m1_in/out'] == 'out' and row['m2_in/out'] == 'in':\n",
    "        df_weak_pos.loc[index, 'pair'] = 'in-out'\n",
    "    else:\n",
    "        df_weak_pos.loc[index, 'pair'] = 'out-out'\n",
    "\n",
    "print(df_weak_pos)"
   ],
   "metadata": {
    "collapsed": false,
    "ExecuteTime": {
     "end_time": "2023-07-15T16:07:24.882203Z",
     "start_time": "2023-07-15T16:07:24.697006Z"
    }
   }
  },
  {
   "cell_type": "code",
   "execution_count": 110,
   "outputs": [
    {
     "data": {
      "text/plain": "out-out    1706\nin-out     1349\nin-in       205\nName: pair, dtype: int64"
     },
     "execution_count": 110,
     "metadata": {},
     "output_type": "execute_result"
    }
   ],
   "source": [
    "# count number of in-in, in-out and out-out\n",
    "df_weak_pos['pair'].value_counts()"
   ],
   "metadata": {
    "collapsed": false,
    "ExecuteTime": {
     "end_time": "2023-07-15T16:07:32.134977Z",
     "start_time": "2023-07-15T16:07:32.114926Z"
    }
   }
  },
  {
   "cell_type": "markdown",
   "source": [
    "### df mutants with no/negative epistasis"
   ],
   "metadata": {
    "collapsed": false
   }
  },
  {
   "cell_type": "code",
   "execution_count": 114,
   "outputs": [],
   "source": [
    "# copy df_double\n",
    "df_no_neg = df_double.copy()"
   ],
   "metadata": {
    "collapsed": false,
    "ExecuteTime": {
     "end_time": "2023-07-15T16:14:04.065614Z",
     "start_time": "2023-07-15T16:14:04.040564Z"
    }
   }
  },
  {
   "cell_type": "code",
   "execution_count": 115,
   "outputs": [],
   "source": [
    "# remain rows with no/neg\n",
    "df_no_neg = df_no_neg[df_no_neg['epistasis'] == 'no/neg']"
   ],
   "metadata": {
    "collapsed": false,
    "ExecuteTime": {
     "end_time": "2023-07-15T16:14:07.772411Z",
     "start_time": "2023-07-15T16:14:07.756289Z"
    }
   }
  },
  {
   "cell_type": "code",
   "execution_count": 116,
   "outputs": [
    {
     "data": {
      "text/plain": "no/neg    6501\nName: epistasis, dtype: int64"
     },
     "execution_count": 116,
     "metadata": {},
     "output_type": "execute_result"
    }
   ],
   "source": [
    "# count rows (no/neg)\n",
    "df_no_neg['epistasis'].value_counts()"
   ],
   "metadata": {
    "collapsed": false,
    "ExecuteTime": {
     "end_time": "2023-07-15T16:14:11.266373Z",
     "start_time": "2023-07-15T16:14:11.246666Z"
    }
   }
  },
  {
   "cell_type": "code",
   "execution_count": 118,
   "outputs": [],
   "source": [
    "# add empty column 'pair' to df_no_neg\n",
    "df_no_neg['pair'] = ''"
   ],
   "metadata": {
    "collapsed": false,
    "ExecuteTime": {
     "end_time": "2023-07-15T16:14:19.733330Z",
     "start_time": "2023-07-15T16:14:19.716468Z"
    }
   }
  },
  {
   "cell_type": "code",
   "execution_count": 119,
   "outputs": [
    {
     "name": "stdout",
     "output_type": "stream",
     "text": [
      "       DMS_score     m1     m2 score_single_1 score_single_2 m1_in/out  \\\n",
      "53      3.688150    K3Q    E5V       3.750487       3.693551       out   \n",
      "56      3.619344    K3Q  K101R       3.750487       3.677711       out   \n",
      "63      1.301030    K3Q  Q183L       3.750487       1.442357       out   \n",
      "88      3.705394    K3R    E6G       3.738586       3.767719       out   \n",
      "100     3.505741    K3R   D36E       3.738586       3.633316       out   \n",
      "...          ...    ...    ...            ...            ...       ...   \n",
      "51656   3.668388  T230S  M233I       3.730767        3.71997       out   \n",
      "51659   3.604252  T230A  E235G       3.695389       3.727375       out   \n",
      "51664   3.641791  T230A  D234G       3.695389       3.706313       out   \n",
      "51688   3.577787  M233K  D234G       3.684742       3.706313       out   \n",
      "51696   3.693903  D234G  E235V       3.706313       3.712191       out   \n",
      "\n",
      "      m2_in/out epistasis position position_m1 position_m2     pair  \n",
      "53          out    no/neg                    3           5  out-out  \n",
      "56          out    no/neg                    3         101  out-out  \n",
      "63           in    no/neg                    3         183   in-out  \n",
      "88          out    no/neg                    3           6  out-out  \n",
      "100         out    no/neg                    3          36  out-out  \n",
      "...         ...       ...      ...         ...         ...      ...  \n",
      "51656       out    no/neg                  230         233  out-out  \n",
      "51659       out    no/neg                  230         235  out-out  \n",
      "51664       out    no/neg                  230         234  out-out  \n",
      "51688       out    no/neg                  233         234  out-out  \n",
      "51696       out    no/neg                  234         235  out-out  \n",
      "\n",
      "[6501 rows x 12 columns]\n"
     ]
    }
   ],
   "source": [
    "# add pair character to df_no_neg\n",
    "# if m1_in/out = in and m2_in/out = in --> pair = 'in-in'\n",
    "# if m1_in/out = in and m2_in/out = out --> pair = 'in-out'\n",
    "# if m1_in/out = out and m2_in/out = in --> pair = 'in-out'\n",
    "# if m1_in/out = out and m2_in/out = out --> pair = 'out-out'\n",
    "for index, row in df_no_neg.iterrows():\n",
    "    if row['m1_in/out'] == 'in' and row['m2_in/out'] == 'in':\n",
    "        df_no_neg.loc[index, 'pair'] = 'in-in'\n",
    "    elif row['m1_in/out'] == 'in' and row['m2_in/out'] == 'out':\n",
    "        df_no_neg.loc[index, 'pair'] = 'in-out'\n",
    "    elif row['m1_in/out'] == 'out' and row['m2_in/out'] == 'in':\n",
    "        df_no_neg.loc[index, 'pair'] = 'in-out'\n",
    "    else:\n",
    "        df_no_neg.loc[index, 'pair'] = 'out-out'\n",
    "\n",
    "print(df_no_neg)"
   ],
   "metadata": {
    "collapsed": false,
    "ExecuteTime": {
     "end_time": "2023-07-15T16:15:25.464665Z",
     "start_time": "2023-07-15T16:15:24.985332Z"
    }
   }
  },
  {
   "cell_type": "code",
   "execution_count": 120,
   "outputs": [
    {
     "data": {
      "text/plain": "out-out    3425\nin-out     2544\nin-in       532\nName: pair, dtype: int64"
     },
     "execution_count": 120,
     "metadata": {},
     "output_type": "execute_result"
    }
   ],
   "source": [
    "# count number of in-in, in-out and out-out\n",
    "df_no_neg['pair'].value_counts()"
   ],
   "metadata": {
    "collapsed": false,
    "ExecuteTime": {
     "end_time": "2023-07-15T16:15:30.163722Z",
     "start_time": "2023-07-15T16:15:30.135661Z"
    }
   }
  },
  {
   "cell_type": "code",
   "execution_count": null,
   "outputs": [],
   "source": [],
   "metadata": {
    "collapsed": false
   }
  }
 ],
 "metadata": {
  "kernelspec": {
   "display_name": "Python 3",
   "language": "python",
   "name": "python3"
  },
  "language_info": {
   "codemirror_mode": {
    "name": "ipython",
    "version": 2
   },
   "file_extension": ".py",
   "mimetype": "text/x-python",
   "name": "python",
   "nbconvert_exporter": "python",
   "pygments_lexer": "ipython2",
   "version": "2.7.6"
  }
 },
 "nbformat": 4,
 "nbformat_minor": 0
}
