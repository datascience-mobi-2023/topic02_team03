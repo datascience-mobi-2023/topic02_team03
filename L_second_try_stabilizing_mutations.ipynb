{
 "cells": [
  {
   "cell_type": "markdown",
   "source": [
    "Plan:\n",
    "1. Angelas Code in meinen übersetzen\n",
    "2. aus Angelas Code alle möglichen Mutationen rausschreiben, aber nur einmal\n",
    "2. --> Liste mit allen vorkommenden Mutationen\n",
    "3. Funktion schreiben, die für jede dieser (einzeln!) alle Sequenzen raussucht in der diese vorkommt\n",
    "4. --> ein dataframe, mit mutation als spaltenname und allen sequenzen wo es drin vorkommt als Reihen drunter und noch einer Spalte mit mutcount dahinter, pro Mutation werden zwei Spalten an den dataframe angehängt\n",
    "5. (dadurch können Reihen spezifisch nach mutcount angeprochen werden)\n",
    "6. innerhalb einer Mutationsspalte, alle mit dem selben mutcount: fscore vergleich : Varianz der Werte als Maß für impact\n",
    "-> je unwichtiger die Mutation, desto weniger macht sie was beim fscore, desto weniger sollten sich die Werte unterscheiden, desto kleiner sollte die Varianz sein"
   ],
   "metadata": {
    "collapsed": false
   }
  },
  {
   "cell_type": "code",
   "execution_count": 2,
   "outputs": [],
   "source": [
    "import pandas as pd\n",
    "import numpy as np\n",
    "pd.set_option('display.max_columns', 50)"
   ],
   "metadata": {
    "collapsed": false,
    "ExecuteTime": {
     "end_time": "2023-06-01T09:14:46.813837Z",
     "start_time": "2023-06-01T09:14:45.062210Z"
    }
   }
  },
  {
   "cell_type": "code",
   "execution_count": 3,
   "outputs": [
    {
     "name": "stderr",
     "output_type": "stream",
     "text": [
      "/var/folders/sk/q8h0c3zs1v9dt93y5m134swr0000gn/T/ipykernel_29859/404050330.py:6: FutureWarning: In a future version of pandas all arguments of StringMethods.split except for the argument 'pat' will be keyword-only.\n",
      "  original_dms_data_col[['m1', 'm2', 'm3', 'm4', 'm5', 'm6', 'm7', 'm8', 'm9', 'm10', 'm11', 'm12', 'm13', 'm14', 'm15']] = original_dms_data_col['mutant'].str.split(':', 15, expand=True)\n"
     ]
    },
    {
     "data": {
      "text/plain": "                                  mutant  \\\n0  K3R:V55A:Q94R:A110T:D117G:M153K:D216A   \n1                   K3Q:V16A:I167T:L195Q   \n2            K3Q:Y143C:N164D:S205P:A227T   \n3                        K3Q:Y143N:V193A   \n4                                    K3R   \n\n                                    mutated_sequence  DMS_score  \\\n0  MSRGEELFTGVVPILVELDGDVNGHKFSVSGEGEGDATYGKLTLKF...   1.301030   \n1  MSQGEELFTGVVPILAELDGDVNGHKFSVSGEGEGDATYGKLTLKF...   3.137350   \n2  MSQGEELFTGVVPILVELDGDVNGHKFSVSGEGEGDATYGKLTLKF...   1.553913   \n3  MSQGEELFTGVVPILVELDGDVNGHKFSVSGEGEGDATYGKLTLKF...   3.404237   \n4  MSRGEELFTGVVPILVELDGDVNGHKFSVSGEGEGDATYGKLTLKF...   3.738586   \n\n   DMS_score_bin   m1     m2     m3     m4     m5     m6     m7    m8    m9  \\\n0              0  K3R   V55A   Q94R  A110T  D117G  M153K  D216A  None  None   \n1              1  K3Q   V16A  I167T  L195Q   None   None   None  None  None   \n2              0  K3Q  Y143C  N164D  S205P  A227T   None   None  None  None   \n3              1  K3Q  Y143N  V193A   None   None   None   None  None  None   \n4              1  K3R   None   None   None   None   None   None  None  None   \n\n    m10   m11   m12   m13   m14   m15  \n0  None  None  None  None  None  None  \n1  None  None  None  None  None  None  \n2  None  None  None  None  None  None  \n3  None  None  None  None  None  None  \n4  None  None  None  None  None  None  ",
      "text/html": "<div>\n<style scoped>\n    .dataframe tbody tr th:only-of-type {\n        vertical-align: middle;\n    }\n\n    .dataframe tbody tr th {\n        vertical-align: top;\n    }\n\n    .dataframe thead th {\n        text-align: right;\n    }\n</style>\n<table border=\"1\" class=\"dataframe\">\n  <thead>\n    <tr style=\"text-align: right;\">\n      <th></th>\n      <th>mutant</th>\n      <th>mutated_sequence</th>\n      <th>DMS_score</th>\n      <th>DMS_score_bin</th>\n      <th>m1</th>\n      <th>m2</th>\n      <th>m3</th>\n      <th>m4</th>\n      <th>m5</th>\n      <th>m6</th>\n      <th>m7</th>\n      <th>m8</th>\n      <th>m9</th>\n      <th>m10</th>\n      <th>m11</th>\n      <th>m12</th>\n      <th>m13</th>\n      <th>m14</th>\n      <th>m15</th>\n    </tr>\n  </thead>\n  <tbody>\n    <tr>\n      <th>0</th>\n      <td>K3R:V55A:Q94R:A110T:D117G:M153K:D216A</td>\n      <td>MSRGEELFTGVVPILVELDGDVNGHKFSVSGEGEGDATYGKLTLKF...</td>\n      <td>1.301030</td>\n      <td>0</td>\n      <td>K3R</td>\n      <td>V55A</td>\n      <td>Q94R</td>\n      <td>A110T</td>\n      <td>D117G</td>\n      <td>M153K</td>\n      <td>D216A</td>\n      <td>None</td>\n      <td>None</td>\n      <td>None</td>\n      <td>None</td>\n      <td>None</td>\n      <td>None</td>\n      <td>None</td>\n      <td>None</td>\n    </tr>\n    <tr>\n      <th>1</th>\n      <td>K3Q:V16A:I167T:L195Q</td>\n      <td>MSQGEELFTGVVPILAELDGDVNGHKFSVSGEGEGDATYGKLTLKF...</td>\n      <td>3.137350</td>\n      <td>1</td>\n      <td>K3Q</td>\n      <td>V16A</td>\n      <td>I167T</td>\n      <td>L195Q</td>\n      <td>None</td>\n      <td>None</td>\n      <td>None</td>\n      <td>None</td>\n      <td>None</td>\n      <td>None</td>\n      <td>None</td>\n      <td>None</td>\n      <td>None</td>\n      <td>None</td>\n      <td>None</td>\n    </tr>\n    <tr>\n      <th>2</th>\n      <td>K3Q:Y143C:N164D:S205P:A227T</td>\n      <td>MSQGEELFTGVVPILVELDGDVNGHKFSVSGEGEGDATYGKLTLKF...</td>\n      <td>1.553913</td>\n      <td>0</td>\n      <td>K3Q</td>\n      <td>Y143C</td>\n      <td>N164D</td>\n      <td>S205P</td>\n      <td>A227T</td>\n      <td>None</td>\n      <td>None</td>\n      <td>None</td>\n      <td>None</td>\n      <td>None</td>\n      <td>None</td>\n      <td>None</td>\n      <td>None</td>\n      <td>None</td>\n      <td>None</td>\n    </tr>\n    <tr>\n      <th>3</th>\n      <td>K3Q:Y143N:V193A</td>\n      <td>MSQGEELFTGVVPILVELDGDVNGHKFSVSGEGEGDATYGKLTLKF...</td>\n      <td>3.404237</td>\n      <td>1</td>\n      <td>K3Q</td>\n      <td>Y143N</td>\n      <td>V193A</td>\n      <td>None</td>\n      <td>None</td>\n      <td>None</td>\n      <td>None</td>\n      <td>None</td>\n      <td>None</td>\n      <td>None</td>\n      <td>None</td>\n      <td>None</td>\n      <td>None</td>\n      <td>None</td>\n      <td>None</td>\n    </tr>\n    <tr>\n      <th>4</th>\n      <td>K3R</td>\n      <td>MSRGEELFTGVVPILVELDGDVNGHKFSVSGEGEGDATYGKLTLKF...</td>\n      <td>3.738586</td>\n      <td>1</td>\n      <td>K3R</td>\n      <td>None</td>\n      <td>None</td>\n      <td>None</td>\n      <td>None</td>\n      <td>None</td>\n      <td>None</td>\n      <td>None</td>\n      <td>None</td>\n      <td>None</td>\n      <td>None</td>\n      <td>None</td>\n      <td>None</td>\n      <td>None</td>\n      <td>None</td>\n    </tr>\n  </tbody>\n</table>\n</div>"
     },
     "execution_count": 3,
     "metadata": {},
     "output_type": "execute_result"
    }
   ],
   "source": [
    "# Datensatz einlesen\n",
    "original_dms_data = pd.read_csv('/Users/liza/Desktop/Bioinfo Project/DMS_data/GFP_AEQVI_Sarkisyan_2016.csv')\n",
    "# split first column of df into multiple columns\n",
    "original_dms_data_col = original_dms_data\n",
    "only_mutants = original_dms_data[\"mutant\"].to_frame()\n",
    "original_dms_data_col[['m1', 'm2', 'm3', 'm4', 'm5', 'm6', 'm7', 'm8', 'm9', 'm10', 'm11', 'm12', 'm13', 'm14', 'm15']] = original_dms_data_col['mutant'].str.split(':', 15, expand=True)\n",
    "original_dms_data_col.head()\n"
   ],
   "metadata": {
    "collapsed": false,
    "ExecuteTime": {
     "end_time": "2023-06-01T09:14:47.818497Z",
     "start_time": "2023-06-01T09:14:46.822211Z"
    }
   }
  },
  {
   "cell_type": "markdown",
   "source": [
    "Dataframe erstellen aus den Spalten: (WORKING_DATAFRAME)\n",
    "- Mutationsanzahl aus df_mutation_counts\n",
    "- fscore aus original_dms_data_col\n",
    "- m1 bis b11 aus original_dms_data_col"
   ],
   "metadata": {
    "collapsed": false
   }
  },
  {
   "cell_type": "code",
   "execution_count": 4,
   "outputs": [],
   "source": [
    "# zählen wieviele Mutationen jede Sequenz hat\n",
    "list_mut_count_in_progress = []\n",
    "for i in range(len(original_dms_data['mutant'])):\n",
    "    list_mut_count_in_progress.append(original_dms_data['mutant'].iloc[i].count(':'))\n",
    "list_mut_count_prae = np.array(list_mut_count_in_progress)\n",
    "list_mut_count = (list_mut_count_prae + 1)\n",
    "df_mutation_counts = pd.DataFrame(list_mut_count)"
   ],
   "metadata": {
    "collapsed": false,
    "ExecuteTime": {
     "end_time": "2023-06-01T09:14:52.575362Z",
     "start_time": "2023-06-01T09:14:52.246808Z"
    }
   }
  },
  {
   "cell_type": "code",
   "execution_count": 5,
   "outputs": [
    {
     "data": {
      "text/plain": "   DMS_score   m1     m2     m3     m4     m5     m6     m7    m8    m9   m10  \\\n0   1.301030  K3R   V55A   Q94R  A110T  D117G  M153K  D216A  None  None  None   \n1   3.137350  K3Q   V16A  I167T  L195Q   None   None   None  None  None  None   \n2   1.553913  K3Q  Y143C  N164D  S205P  A227T   None   None  None  None  None   \n3   3.404237  K3Q  Y143N  V193A   None   None   None   None  None  None  None   \n4   3.738586  K3R   None   None   None   None   None   None  None  None  None   \n\n    m11   m12   m13   m14   m15  mut_count  \n0  None  None  None  None  None          7  \n1  None  None  None  None  None          4  \n2  None  None  None  None  None          5  \n3  None  None  None  None  None          3  \n4  None  None  None  None  None          1  ",
      "text/html": "<div>\n<style scoped>\n    .dataframe tbody tr th:only-of-type {\n        vertical-align: middle;\n    }\n\n    .dataframe tbody tr th {\n        vertical-align: top;\n    }\n\n    .dataframe thead th {\n        text-align: right;\n    }\n</style>\n<table border=\"1\" class=\"dataframe\">\n  <thead>\n    <tr style=\"text-align: right;\">\n      <th></th>\n      <th>DMS_score</th>\n      <th>m1</th>\n      <th>m2</th>\n      <th>m3</th>\n      <th>m4</th>\n      <th>m5</th>\n      <th>m6</th>\n      <th>m7</th>\n      <th>m8</th>\n      <th>m9</th>\n      <th>m10</th>\n      <th>m11</th>\n      <th>m12</th>\n      <th>m13</th>\n      <th>m14</th>\n      <th>m15</th>\n      <th>mut_count</th>\n    </tr>\n  </thead>\n  <tbody>\n    <tr>\n      <th>0</th>\n      <td>1.301030</td>\n      <td>K3R</td>\n      <td>V55A</td>\n      <td>Q94R</td>\n      <td>A110T</td>\n      <td>D117G</td>\n      <td>M153K</td>\n      <td>D216A</td>\n      <td>None</td>\n      <td>None</td>\n      <td>None</td>\n      <td>None</td>\n      <td>None</td>\n      <td>None</td>\n      <td>None</td>\n      <td>None</td>\n      <td>7</td>\n    </tr>\n    <tr>\n      <th>1</th>\n      <td>3.137350</td>\n      <td>K3Q</td>\n      <td>V16A</td>\n      <td>I167T</td>\n      <td>L195Q</td>\n      <td>None</td>\n      <td>None</td>\n      <td>None</td>\n      <td>None</td>\n      <td>None</td>\n      <td>None</td>\n      <td>None</td>\n      <td>None</td>\n      <td>None</td>\n      <td>None</td>\n      <td>None</td>\n      <td>4</td>\n    </tr>\n    <tr>\n      <th>2</th>\n      <td>1.553913</td>\n      <td>K3Q</td>\n      <td>Y143C</td>\n      <td>N164D</td>\n      <td>S205P</td>\n      <td>A227T</td>\n      <td>None</td>\n      <td>None</td>\n      <td>None</td>\n      <td>None</td>\n      <td>None</td>\n      <td>None</td>\n      <td>None</td>\n      <td>None</td>\n      <td>None</td>\n      <td>None</td>\n      <td>5</td>\n    </tr>\n    <tr>\n      <th>3</th>\n      <td>3.404237</td>\n      <td>K3Q</td>\n      <td>Y143N</td>\n      <td>V193A</td>\n      <td>None</td>\n      <td>None</td>\n      <td>None</td>\n      <td>None</td>\n      <td>None</td>\n      <td>None</td>\n      <td>None</td>\n      <td>None</td>\n      <td>None</td>\n      <td>None</td>\n      <td>None</td>\n      <td>None</td>\n      <td>3</td>\n    </tr>\n    <tr>\n      <th>4</th>\n      <td>3.738586</td>\n      <td>K3R</td>\n      <td>None</td>\n      <td>None</td>\n      <td>None</td>\n      <td>None</td>\n      <td>None</td>\n      <td>None</td>\n      <td>None</td>\n      <td>None</td>\n      <td>None</td>\n      <td>None</td>\n      <td>None</td>\n      <td>None</td>\n      <td>None</td>\n      <td>None</td>\n      <td>1</td>\n    </tr>\n  </tbody>\n</table>\n</div>"
     },
     "execution_count": 5,
     "metadata": {},
     "output_type": "execute_result"
    }
   ],
   "source": [
    "#zusammenfügen\n",
    "working_dataframe_prae = pd.concat([original_dms_data_col, df_mutation_counts], axis=\"columns\")\n",
    "#alle Spalten löschen die stören\n",
    "working_dataframe = working_dataframe_prae.drop(['mutant', 'mutated_sequence', 'DMS_score_bin'], axis=1)\n",
    "working_dataframe.rename(columns={working_dataframe.columns[16]: 'mut_count'}, inplace=True)\n",
    "working_dataframe.head()"
   ],
   "metadata": {
    "collapsed": false,
    "ExecuteTime": {
     "end_time": "2023-06-01T09:14:55.997400Z",
     "start_time": "2023-06-01T09:14:55.789739Z"
    }
   }
  },
  {
   "cell_type": "code",
   "execution_count": 6,
   "outputs": [
    {
     "data": {
      "text/plain": "    m1     m2     m3     m4     m5     m6     m7    m8    m9   m10   m11  \\\n0  K3R   V55A   Q94R  A110T  D117G  M153K  D216A  None  None  None  None   \n1  K3Q   V16A  I167T  L195Q   None   None   None  None  None  None  None   \n2  K3Q  Y143C  N164D  S205P  A227T   None   None  None  None  None  None   \n3  K3Q  Y143N  V193A   None   None   None   None  None  None  None  None   \n4  K3R   None   None   None   None   None   None  None  None  None  None   \n\n    m12   m13   m14   m15  \n0  None  None  None  None  \n1  None  None  None  None  \n2  None  None  None  None  \n3  None  None  None  None  \n4  None  None  None  None  ",
      "text/html": "<div>\n<style scoped>\n    .dataframe tbody tr th:only-of-type {\n        vertical-align: middle;\n    }\n\n    .dataframe tbody tr th {\n        vertical-align: top;\n    }\n\n    .dataframe thead th {\n        text-align: right;\n    }\n</style>\n<table border=\"1\" class=\"dataframe\">\n  <thead>\n    <tr style=\"text-align: right;\">\n      <th></th>\n      <th>m1</th>\n      <th>m2</th>\n      <th>m3</th>\n      <th>m4</th>\n      <th>m5</th>\n      <th>m6</th>\n      <th>m7</th>\n      <th>m8</th>\n      <th>m9</th>\n      <th>m10</th>\n      <th>m11</th>\n      <th>m12</th>\n      <th>m13</th>\n      <th>m14</th>\n      <th>m15</th>\n    </tr>\n  </thead>\n  <tbody>\n    <tr>\n      <th>0</th>\n      <td>K3R</td>\n      <td>V55A</td>\n      <td>Q94R</td>\n      <td>A110T</td>\n      <td>D117G</td>\n      <td>M153K</td>\n      <td>D216A</td>\n      <td>None</td>\n      <td>None</td>\n      <td>None</td>\n      <td>None</td>\n      <td>None</td>\n      <td>None</td>\n      <td>None</td>\n      <td>None</td>\n    </tr>\n    <tr>\n      <th>1</th>\n      <td>K3Q</td>\n      <td>V16A</td>\n      <td>I167T</td>\n      <td>L195Q</td>\n      <td>None</td>\n      <td>None</td>\n      <td>None</td>\n      <td>None</td>\n      <td>None</td>\n      <td>None</td>\n      <td>None</td>\n      <td>None</td>\n      <td>None</td>\n      <td>None</td>\n      <td>None</td>\n    </tr>\n    <tr>\n      <th>2</th>\n      <td>K3Q</td>\n      <td>Y143C</td>\n      <td>N164D</td>\n      <td>S205P</td>\n      <td>A227T</td>\n      <td>None</td>\n      <td>None</td>\n      <td>None</td>\n      <td>None</td>\n      <td>None</td>\n      <td>None</td>\n      <td>None</td>\n      <td>None</td>\n      <td>None</td>\n      <td>None</td>\n    </tr>\n    <tr>\n      <th>3</th>\n      <td>K3Q</td>\n      <td>Y143N</td>\n      <td>V193A</td>\n      <td>None</td>\n      <td>None</td>\n      <td>None</td>\n      <td>None</td>\n      <td>None</td>\n      <td>None</td>\n      <td>None</td>\n      <td>None</td>\n      <td>None</td>\n      <td>None</td>\n      <td>None</td>\n      <td>None</td>\n    </tr>\n    <tr>\n      <th>4</th>\n      <td>K3R</td>\n      <td>None</td>\n      <td>None</td>\n      <td>None</td>\n      <td>None</td>\n      <td>None</td>\n      <td>None</td>\n      <td>None</td>\n      <td>None</td>\n      <td>None</td>\n      <td>None</td>\n      <td>None</td>\n      <td>None</td>\n      <td>None</td>\n      <td>None</td>\n    </tr>\n  </tbody>\n</table>\n</div>"
     },
     "execution_count": 6,
     "metadata": {},
     "output_type": "execute_result"
    }
   ],
   "source": [
    "#alle möglichen Mutationen rausschreiben in den Spalten\n",
    "from pandas import unique\n",
    "working_dataframe_only_ms = working_dataframe.loc[:, [\"m1\", \"m2\", \"m3\", 'm4', 'm5', 'm6', 'm7', 'm8', 'm9', 'm10', 'm11', 'm12', 'm13', 'm14', 'm15']]\n",
    "working_dataframe_only_ms.head()\n"
   ],
   "metadata": {
    "collapsed": false,
    "ExecuteTime": {
     "end_time": "2023-06-01T09:14:59.605199Z",
     "start_time": "2023-06-01T09:14:59.399884Z"
    }
   }
  },
  {
   "cell_type": "markdown",
   "source": [
    "1. alle Werte des DataFrames mit values.flatten() in eine eindimensionale Liste umgewandeln\n",
    "2. tolist() verwendet, um die Liste in eine normale Python-Liste umzuwandeln\n",
    "3.  Liste in ein Set umgewandeln (nur eindeutige Elemente)\n",
    "4. set zurück in Liste"
   ],
   "metadata": {
    "collapsed": false
   }
  },
  {
   "cell_type": "code",
   "execution_count": 7,
   "outputs": [],
   "source": [
    "all_possible_mutations = working_dataframe_only_ms.values.flatten().tolist()\n",
    "all_possible_mutations = list(set(all_possible_mutations))"
   ],
   "metadata": {
    "collapsed": false,
    "ExecuteTime": {
     "end_time": "2023-06-01T09:15:16.329173Z",
     "start_time": "2023-06-01T09:15:16.296821Z"
    }
   }
  },
  {
   "cell_type": "code",
   "execution_count": 8,
   "outputs": [
    {
     "data": {
      "text/plain": "0        K3R:V55A:Q94R:A110T:D117G:M153K:D216A\n1                         K3Q:V16A:I167T:L195Q\n2                  K3Q:Y143C:N164D:S205P:A227T\n3                              K3Q:Y143N:V193A\n4                                          K3R\n                         ...                  \n51709                                    Y237N\n51710                                    Y237C\n51711                                    Y237D\n51712                                    Y237F\n51713                                    Y237H\nName: mutant, Length: 51714, dtype: object"
     },
     "execution_count": 8,
     "metadata": {},
     "output_type": "execute_result"
    }
   ],
   "source": [
    "only_mutants_list = only_mutants['mutant']\n",
    "only_mutants_list"
   ],
   "metadata": {
    "collapsed": false,
    "ExecuteTime": {
     "end_time": "2023-06-01T09:15:18.033832Z",
     "start_time": "2023-06-01T09:15:18.007718Z"
    }
   }
  },
  {
   "cell_type": "code",
   "execution_count": 16,
   "outputs": [
    {
     "ename": "TypeError",
     "evalue": "'in <string>' requires string as left operand, not NoneType",
     "output_type": "error",
     "traceback": [
      "\u001B[0;31m---------------------------------------------------------------------------\u001B[0m",
      "\u001B[0;31mTypeError\u001B[0m                                 Traceback (most recent call last)",
      "Cell \u001B[0;32mIn[16], line 13\u001B[0m\n\u001B[1;32m     10\u001B[0m     result_how_often \u001B[38;5;241m=\u001B[39m pd\u001B[38;5;241m.\u001B[39mconcat(list_of_dfs, axis\u001B[38;5;241m=\u001B[39m\u001B[38;5;241m1\u001B[39m)\n\u001B[1;32m     11\u001B[0m     \u001B[38;5;28mprint\u001B[39m(result_how_often)\n\u001B[0;32m---> 13\u001B[0m \u001B[43mchecking_existence\u001B[49m\u001B[43m(\u001B[49m\u001B[43mall_possible_mutations\u001B[49m\u001B[43m,\u001B[49m\u001B[43m \u001B[49m\u001B[43monly_mutants_list\u001B[49m\u001B[43m)\u001B[49m\n",
      "Cell \u001B[0;32mIn[16], line 6\u001B[0m, in \u001B[0;36mchecking_existence\u001B[0;34m(soll_gecheckt_werden, Datenset)\u001B[0m\n\u001B[1;32m      4\u001B[0m \u001B[38;5;28;01mfor\u001B[39;00m i \u001B[38;5;129;01min\u001B[39;00m soll_gecheckt_werden:\n\u001B[1;32m      5\u001B[0m     new_column_name \u001B[38;5;241m=\u001B[39m \u001B[38;5;124mf\u001B[39m\u001B[38;5;124m'\u001B[39m\u001B[38;5;132;01m{\u001B[39;00mi\u001B[38;5;132;01m}\u001B[39;00m\u001B[38;5;124m'\u001B[39m\n\u001B[0;32m----> 6\u001B[0m     new_column_values \u001B[38;5;241m=\u001B[39m [ i \u001B[38;5;129;01min\u001B[39;00m x \u001B[38;5;28;01mfor\u001B[39;00m x \u001B[38;5;129;01min\u001B[39;00m Datenset]\n\u001B[1;32m      7\u001B[0m     new_df \u001B[38;5;241m=\u001B[39m pd\u001B[38;5;241m.\u001B[39mDataFrame({new_column_name: new_column_values})\n\u001B[1;32m      8\u001B[0m     list_of_dfs\u001B[38;5;241m.\u001B[39mappend(new_df)\n",
      "Cell \u001B[0;32mIn[16], line 6\u001B[0m, in \u001B[0;36m<listcomp>\u001B[0;34m(.0)\u001B[0m\n\u001B[1;32m      4\u001B[0m \u001B[38;5;28;01mfor\u001B[39;00m i \u001B[38;5;129;01min\u001B[39;00m soll_gecheckt_werden:\n\u001B[1;32m      5\u001B[0m     new_column_name \u001B[38;5;241m=\u001B[39m \u001B[38;5;124mf\u001B[39m\u001B[38;5;124m'\u001B[39m\u001B[38;5;132;01m{\u001B[39;00mi\u001B[38;5;132;01m}\u001B[39;00m\u001B[38;5;124m'\u001B[39m\n\u001B[0;32m----> 6\u001B[0m     new_column_values \u001B[38;5;241m=\u001B[39m [ \u001B[43mi\u001B[49m\u001B[43m \u001B[49m\u001B[38;5;129;43;01min\u001B[39;49;00m\u001B[43m \u001B[49m\u001B[43mx\u001B[49m \u001B[38;5;28;01mfor\u001B[39;00m x \u001B[38;5;129;01min\u001B[39;00m Datenset]\n\u001B[1;32m      7\u001B[0m     new_df \u001B[38;5;241m=\u001B[39m pd\u001B[38;5;241m.\u001B[39mDataFrame({new_column_name: new_column_values})\n\u001B[1;32m      8\u001B[0m     list_of_dfs\u001B[38;5;241m.\u001B[39mappend(new_df)\n",
      "\u001B[0;31mTypeError\u001B[0m: 'in <string>' requires string as left operand, not NoneType"
     ]
    }
   ],
   "source": [
    "def checking_existence(soll_gecheckt_werden, Datenset):\n",
    "    list_of_dfs = []\n",
    "\n",
    "    for i in soll_gecheckt_werden:\n",
    "        new_column_name = f'{i}'\n",
    "        new_column_values = [ i in x for x in Datenset]\n",
    "        new_df = pd.DataFrame({new_column_name: new_column_values})\n",
    "        list_of_dfs.append(new_df)\n",
    "\n",
    "    result_how_often = pd.concat(list_of_dfs, axis=1)\n",
    "    print(result_how_often)\n",
    "\n",
    "checking_existence(all_possible_mutations, only_mutants_list)\n"
   ],
   "metadata": {
    "collapsed": false,
    "ExecuteTime": {
     "end_time": "2023-05-31T12:08:33.969653Z",
     "start_time": "2023-05-31T12:08:27.259608Z"
    }
   }
  },
  {
   "cell_type": "code",
   "execution_count": 16,
   "outputs": [
    {
     "ename": "TypeError",
     "evalue": "'in <string>' requires string as left operand, not NoneType",
     "output_type": "error",
     "traceback": [
      "\u001B[0;31m---------------------------------------------------------------------------\u001B[0m",
      "\u001B[0;31mTypeError\u001B[0m                                 Traceback (most recent call last)",
      "Cell \u001B[0;32mIn[16], line 6\u001B[0m\n\u001B[1;32m      4\u001B[0m \u001B[38;5;28;01mfor\u001B[39;00m i \u001B[38;5;129;01min\u001B[39;00m all_possible_mutations:\n\u001B[1;32m      5\u001B[0m     new_column_name \u001B[38;5;241m=\u001B[39m \u001B[38;5;124mf\u001B[39m\u001B[38;5;124m'\u001B[39m\u001B[38;5;132;01m{\u001B[39;00mi\u001B[38;5;132;01m}\u001B[39;00m\u001B[38;5;124m'\u001B[39m\n\u001B[0;32m----> 6\u001B[0m     new_column_values \u001B[38;5;241m=\u001B[39m [ i \u001B[38;5;129;01min\u001B[39;00m x \u001B[38;5;28;01mfor\u001B[39;00m x \u001B[38;5;129;01min\u001B[39;00m only_mutants_list]\n\u001B[1;32m      7\u001B[0m     new_df \u001B[38;5;241m=\u001B[39m pd\u001B[38;5;241m.\u001B[39mDataFrame({new_column_name: new_column_values})\n\u001B[1;32m      8\u001B[0m     list_of_dfs\u001B[38;5;241m.\u001B[39mappend(new_df)\n",
      "Cell \u001B[0;32mIn[16], line 6\u001B[0m, in \u001B[0;36m<listcomp>\u001B[0;34m(.0)\u001B[0m\n\u001B[1;32m      4\u001B[0m \u001B[38;5;28;01mfor\u001B[39;00m i \u001B[38;5;129;01min\u001B[39;00m all_possible_mutations:\n\u001B[1;32m      5\u001B[0m     new_column_name \u001B[38;5;241m=\u001B[39m \u001B[38;5;124mf\u001B[39m\u001B[38;5;124m'\u001B[39m\u001B[38;5;132;01m{\u001B[39;00mi\u001B[38;5;132;01m}\u001B[39;00m\u001B[38;5;124m'\u001B[39m\n\u001B[0;32m----> 6\u001B[0m     new_column_values \u001B[38;5;241m=\u001B[39m [ \u001B[43mi\u001B[49m\u001B[43m \u001B[49m\u001B[38;5;129;43;01min\u001B[39;49;00m\u001B[43m \u001B[49m\u001B[43mx\u001B[49m \u001B[38;5;28;01mfor\u001B[39;00m x \u001B[38;5;129;01min\u001B[39;00m only_mutants_list]\n\u001B[1;32m      7\u001B[0m     new_df \u001B[38;5;241m=\u001B[39m pd\u001B[38;5;241m.\u001B[39mDataFrame({new_column_name: new_column_values})\n\u001B[1;32m      8\u001B[0m     list_of_dfs\u001B[38;5;241m.\u001B[39mappend(new_df)\n",
      "\u001B[0;31mTypeError\u001B[0m: 'in <string>' requires string as left operand, not NoneType"
     ]
    }
   ],
   "source": [
    "list_of_dfs = []\n",
    "\n",
    "# For-Loop zum Erstellen und Hinzufügen eines neuen Columns in jedem Durchlauf\n",
    "for i in all_possible_mutations:\n",
    "    new_column_name = f'{i}'\n",
    "    new_column_values = [ i in x for x in only_mutants_list]\n",
    "    new_df = pd.DataFrame({new_column_name: new_column_values})\n",
    "    list_of_dfs.append(new_df)\n",
    "\n",
    "# Verketten der DataFrames in der Liste\n",
    "result_how_often = pd.concat(list_of_dfs, axis=1)\n",
    "\n",
    "print(result_how_often)"
   ],
   "metadata": {
    "collapsed": false,
    "ExecuteTime": {
     "end_time": "2023-05-31T11:30:41.983299Z",
     "start_time": "2023-05-31T11:30:35.704447Z"
    }
   }
  },
  {
   "cell_type": "code",
   "execution_count": 10,
   "outputs": [
    {
     "ename": "TypeError",
     "evalue": "'in <string>' requires string as left operand, not NoneType",
     "output_type": "error",
     "traceback": [
      "\u001B[0;31m---------------------------------------------------------------------------\u001B[0m",
      "\u001B[0;31mTypeError\u001B[0m                                 Traceback (most recent call last)",
      "Cell \u001B[0;32mIn[10], line 4\u001B[0m\n\u001B[1;32m      1\u001B[0m \u001B[38;5;28;01mimport\u001B[39;00m \u001B[38;5;21;01mpandas\u001B[39;00m \u001B[38;5;28;01mas\u001B[39;00m \u001B[38;5;21;01mpd\u001B[39;00m\n\u001B[1;32m      3\u001B[0m column_values \u001B[38;5;241m=\u001B[39m only_mutants[\u001B[38;5;124m'\u001B[39m\u001B[38;5;124mmutant\u001B[39m\u001B[38;5;124m'\u001B[39m]\u001B[38;5;241m.\u001B[39mtolist()\n\u001B[0;32m----> 4\u001B[0m list_of_dfs \u001B[38;5;241m=\u001B[39m [pd\u001B[38;5;241m.\u001B[39mDataFrame({\u001B[38;5;28mstr\u001B[39m(i): [i \u001B[38;5;129;01min\u001B[39;00m x \u001B[38;5;28;01mfor\u001B[39;00m x \u001B[38;5;129;01min\u001B[39;00m column_values]}) \u001B[38;5;28;01mfor\u001B[39;00m i \u001B[38;5;129;01min\u001B[39;00m all_possible_mutations]\n\u001B[1;32m      5\u001B[0m result_how_often \u001B[38;5;241m=\u001B[39m pd\u001B[38;5;241m.\u001B[39mconcat(list_of_dfs, axis\u001B[38;5;241m=\u001B[39m\u001B[38;5;241m1\u001B[39m)\n\u001B[1;32m      7\u001B[0m \u001B[38;5;28mprint\u001B[39m(result_how_often)\n",
      "Cell \u001B[0;32mIn[10], line 4\u001B[0m, in \u001B[0;36m<listcomp>\u001B[0;34m(.0)\u001B[0m\n\u001B[1;32m      1\u001B[0m \u001B[38;5;28;01mimport\u001B[39;00m \u001B[38;5;21;01mpandas\u001B[39;00m \u001B[38;5;28;01mas\u001B[39;00m \u001B[38;5;21;01mpd\u001B[39;00m\n\u001B[1;32m      3\u001B[0m column_values \u001B[38;5;241m=\u001B[39m only_mutants[\u001B[38;5;124m'\u001B[39m\u001B[38;5;124mmutant\u001B[39m\u001B[38;5;124m'\u001B[39m]\u001B[38;5;241m.\u001B[39mtolist()\n\u001B[0;32m----> 4\u001B[0m list_of_dfs \u001B[38;5;241m=\u001B[39m [pd\u001B[38;5;241m.\u001B[39mDataFrame({\u001B[38;5;28mstr\u001B[39m(i): [i \u001B[38;5;129;01min\u001B[39;00m x \u001B[38;5;28;01mfor\u001B[39;00m x \u001B[38;5;129;01min\u001B[39;00m column_values]}) \u001B[38;5;28;01mfor\u001B[39;00m i \u001B[38;5;129;01min\u001B[39;00m all_possible_mutations]\n\u001B[1;32m      5\u001B[0m result_how_often \u001B[38;5;241m=\u001B[39m pd\u001B[38;5;241m.\u001B[39mconcat(list_of_dfs, axis\u001B[38;5;241m=\u001B[39m\u001B[38;5;241m1\u001B[39m)\n\u001B[1;32m      7\u001B[0m \u001B[38;5;28mprint\u001B[39m(result_how_often)\n",
      "Cell \u001B[0;32mIn[10], line 4\u001B[0m, in \u001B[0;36m<listcomp>\u001B[0;34m(.0)\u001B[0m\n\u001B[1;32m      1\u001B[0m \u001B[38;5;28;01mimport\u001B[39;00m \u001B[38;5;21;01mpandas\u001B[39;00m \u001B[38;5;28;01mas\u001B[39;00m \u001B[38;5;21;01mpd\u001B[39;00m\n\u001B[1;32m      3\u001B[0m column_values \u001B[38;5;241m=\u001B[39m only_mutants[\u001B[38;5;124m'\u001B[39m\u001B[38;5;124mmutant\u001B[39m\u001B[38;5;124m'\u001B[39m]\u001B[38;5;241m.\u001B[39mtolist()\n\u001B[0;32m----> 4\u001B[0m list_of_dfs \u001B[38;5;241m=\u001B[39m [pd\u001B[38;5;241m.\u001B[39mDataFrame({\u001B[38;5;28mstr\u001B[39m(i): [\u001B[43mi\u001B[49m\u001B[43m \u001B[49m\u001B[38;5;129;43;01min\u001B[39;49;00m\u001B[43m \u001B[49m\u001B[43mx\u001B[49m \u001B[38;5;28;01mfor\u001B[39;00m x \u001B[38;5;129;01min\u001B[39;00m column_values]}) \u001B[38;5;28;01mfor\u001B[39;00m i \u001B[38;5;129;01min\u001B[39;00m all_possible_mutations]\n\u001B[1;32m      5\u001B[0m result_how_often \u001B[38;5;241m=\u001B[39m pd\u001B[38;5;241m.\u001B[39mconcat(list_of_dfs, axis\u001B[38;5;241m=\u001B[39m\u001B[38;5;241m1\u001B[39m)\n\u001B[1;32m      7\u001B[0m \u001B[38;5;28mprint\u001B[39m(result_how_often)\n",
      "\u001B[0;31mTypeError\u001B[0m: 'in <string>' requires string as left operand, not NoneType"
     ]
    }
   ],
   "source": [
    "import pandas as pd\n",
    "\n",
    "column_values = only_mutants['mutant'].tolist()\n",
    "list_of_dfs = [pd.DataFrame({str(i): [i in x for x in column_values]}) for i in all_possible_mutations]\n",
    "result_how_often = pd.concat(list_of_dfs, axis=1)\n",
    "\n",
    "print(result_how_often)"
   ],
   "metadata": {
    "collapsed": false,
    "ExecuteTime": {
     "end_time": "2023-05-31T09:39:32.461568Z",
     "start_time": "2023-05-31T09:39:10.991650Z"
    }
   }
  },
  {
   "cell_type": "code",
   "execution_count": 10,
   "outputs": [
    {
     "data": {
      "text/plain": "                                               M153S  \\\n0  0        False\n1        False\n2        False\n3...   \n\n                                               N144A  \\\n0  0        False\n1        False\n2        False\n3...   \n\n                                               L236P  \\\n0  0        False\n1        False\n2        False\n3...   \n\n                                               H199Y  \\\n0  0        False\n1        False\n2        False\n3...   \n\n                                                V55G  \\\n0  0        False\n1        False\n2        False\n3...   \n\n                                                G51D  \\\n0  0        False\n1        False\n2        False\n3...   \n\n                                               G116D  \\\n0  0        False\n1        False\n2        False\n3...   \n\n                                               K140L  \\\n0  0        False\n1        False\n2        False\n3...   \n\n                                               N135C  \\\n0  0        False\n1        False\n2        False\n3...   \n\n                                                I14S  \\\n0  0        False\n1        False\n2        False\n3...   \n\n                                                E17Q  \\\n0  0        False\n1        False\n2        False\n3...   \n\n                                                G67A  \\\n0  0        False\n1        False\n2        False\n3...   \n\n                                               A110D  \\\n0  0        False\n1        False\n2        False\n3...   \n\n                                                R73C  \\\n0  0        False\n1        False\n2        False\n3...   \n\n                                               N212Y  \\\n0  0        False\n1        False\n2        False\n3...   \n\n                                                 E6D  \\\n0  0        False\n1        False\n2        False\n3...   \n\n                                                K45V  \\\n0  0        False\n1        False\n2        False\n3...   \n\n                                                F46T  \\\n0  0        False\n1        False\n2        False\n3...   \n\n                                               K166I  \\\n0  0        False\n1        False\n2        False\n3...   \n\n                                                V16F  \\\n0  0        False\n1        False\n2        False\n3...   \n\n                                               E115D  \\\n0  0        False\n1        False\n2        False\n3...   \n\n                                                I98F  \\\n0  0        False\n1        False\n2        False\n3...   \n\n                                                W57S  \\\n0  0        False\n1        False\n2        False\n3...   \n\n                                               S208R  \\\n0  0        False\n1        False\n2        False\n3...   \n\n                                                D21H  ...  \\\n0  0        False\n1        False\n2        False\n3...  ...   \n\n                                               Q183P  \\\n0  0        False\n1        False\n2        False\n3...   \n\n                                               I188M  \\\n0  0        False\n1        False\n2        False\n3...   \n\n                                               D103N  \\\n0  0        False\n1        False\n2        False\n3...   \n\n                                               I128S  \\\n0  0        False\n1        False\n2        False\n3...   \n\n                                               G134V  \\\n0  0        False\n1        False\n2        False\n3...   \n\n                                               H169C  \\\n0  0        False\n1        False\n2        False\n3...   \n\n                                                M78E  \\\n0  0        False\n1        False\n2        False\n3...   \n\n                                               K166V  \\\n0  0        False\n1        False\n2        False\n3...   \n\n                                                Q80E  \\\n0  0        False\n1        False\n2        False\n3...   \n\n                                                 F8Y  \\\n0  0        False\n1        False\n2        False\n3...   \n\n                                                T59P  \\\n0  0        False\n1        False\n2        False\n3...   \n\n                                               T203A  \\\n0  0        False\n1        False\n2        False\n3...   \n\n                                               A110V  \\\n0  0        False\n1        False\n2        False\n3...   \n\n                                               E222Q  \\\n0  0        False\n1        False\n2        False\n3...   \n\n                                                G31D  \\\n0  0        False\n1        False\n2        False\n3...   \n\n                                               K166Q  \\\n0  0        False\n1        False\n2        False\n3...   \n\n                                               H217D  \\\n0  0        False\n1        False\n2        False\n3...   \n\n                                               K101W  \\\n0  0        False\n1        False\n2        False\n3...   \n\n                                                V22E  \\\n0  0        False\n1        False\n2        False\n3...   \n\n                                               E222R  \\\n0  0        False\n1        False\n2        False\n3...   \n\n                                               H217Y  \\\n0  0        False\n1        False\n2        False\n3...   \n\n                                               F130I  \\\n0  0        False\n1        False\n2        False\n3...   \n\n                                               I123D  \\\n0  0        False\n1        False\n2        False\n3...   \n\n                                               Y200S  \\\n0  0        False\n1        False\n2        False\n3...   \n\n                                               D155N  \n0  0        False\n1        False\n2        False\n3...  \n\n[1 rows x 1811 columns]",
      "text/html": "<div>\n<style scoped>\n    .dataframe tbody tr th:only-of-type {\n        vertical-align: middle;\n    }\n\n    .dataframe tbody tr th {\n        vertical-align: top;\n    }\n\n    .dataframe thead th {\n        text-align: right;\n    }\n</style>\n<table border=\"1\" class=\"dataframe\">\n  <thead>\n    <tr style=\"text-align: right;\">\n      <th></th>\n      <th>M153S</th>\n      <th>N144A</th>\n      <th>L236P</th>\n      <th>H199Y</th>\n      <th>V55G</th>\n      <th>G51D</th>\n      <th>G116D</th>\n      <th>K140L</th>\n      <th>N135C</th>\n      <th>I14S</th>\n      <th>E17Q</th>\n      <th>G67A</th>\n      <th>A110D</th>\n      <th>R73C</th>\n      <th>N212Y</th>\n      <th>E6D</th>\n      <th>K45V</th>\n      <th>F46T</th>\n      <th>K166I</th>\n      <th>V16F</th>\n      <th>E115D</th>\n      <th>I98F</th>\n      <th>W57S</th>\n      <th>S208R</th>\n      <th>D21H</th>\n      <th>...</th>\n      <th>Q183P</th>\n      <th>I188M</th>\n      <th>D103N</th>\n      <th>I128S</th>\n      <th>G134V</th>\n      <th>H169C</th>\n      <th>M78E</th>\n      <th>K166V</th>\n      <th>Q80E</th>\n      <th>F8Y</th>\n      <th>T59P</th>\n      <th>T203A</th>\n      <th>A110V</th>\n      <th>E222Q</th>\n      <th>G31D</th>\n      <th>K166Q</th>\n      <th>H217D</th>\n      <th>K101W</th>\n      <th>V22E</th>\n      <th>E222R</th>\n      <th>H217Y</th>\n      <th>F130I</th>\n      <th>I123D</th>\n      <th>Y200S</th>\n      <th>D155N</th>\n    </tr>\n  </thead>\n  <tbody>\n    <tr>\n      <th>0</th>\n      <td>0        False\n1        False\n2        False\n3...</td>\n      <td>0        False\n1        False\n2        False\n3...</td>\n      <td>0        False\n1        False\n2        False\n3...</td>\n      <td>0        False\n1        False\n2        False\n3...</td>\n      <td>0        False\n1        False\n2        False\n3...</td>\n      <td>0        False\n1        False\n2        False\n3...</td>\n      <td>0        False\n1        False\n2        False\n3...</td>\n      <td>0        False\n1        False\n2        False\n3...</td>\n      <td>0        False\n1        False\n2        False\n3...</td>\n      <td>0        False\n1        False\n2        False\n3...</td>\n      <td>0        False\n1        False\n2        False\n3...</td>\n      <td>0        False\n1        False\n2        False\n3...</td>\n      <td>0        False\n1        False\n2        False\n3...</td>\n      <td>0        False\n1        False\n2        False\n3...</td>\n      <td>0        False\n1        False\n2        False\n3...</td>\n      <td>0        False\n1        False\n2        False\n3...</td>\n      <td>0        False\n1        False\n2        False\n3...</td>\n      <td>0        False\n1        False\n2        False\n3...</td>\n      <td>0        False\n1        False\n2        False\n3...</td>\n      <td>0        False\n1        False\n2        False\n3...</td>\n      <td>0        False\n1        False\n2        False\n3...</td>\n      <td>0        False\n1        False\n2        False\n3...</td>\n      <td>0        False\n1        False\n2        False\n3...</td>\n      <td>0        False\n1        False\n2        False\n3...</td>\n      <td>0        False\n1        False\n2        False\n3...</td>\n      <td>...</td>\n      <td>0        False\n1        False\n2        False\n3...</td>\n      <td>0        False\n1        False\n2        False\n3...</td>\n      <td>0        False\n1        False\n2        False\n3...</td>\n      <td>0        False\n1        False\n2        False\n3...</td>\n      <td>0        False\n1        False\n2        False\n3...</td>\n      <td>0        False\n1        False\n2        False\n3...</td>\n      <td>0        False\n1        False\n2        False\n3...</td>\n      <td>0        False\n1        False\n2        False\n3...</td>\n      <td>0        False\n1        False\n2        False\n3...</td>\n      <td>0        False\n1        False\n2        False\n3...</td>\n      <td>0        False\n1        False\n2        False\n3...</td>\n      <td>0        False\n1        False\n2        False\n3...</td>\n      <td>0        False\n1        False\n2        False\n3...</td>\n      <td>0        False\n1        False\n2        False\n3...</td>\n      <td>0        False\n1        False\n2        False\n3...</td>\n      <td>0        False\n1        False\n2        False\n3...</td>\n      <td>0        False\n1        False\n2        False\n3...</td>\n      <td>0        False\n1        False\n2        False\n3...</td>\n      <td>0        False\n1        False\n2        False\n3...</td>\n      <td>0        False\n1        False\n2        False\n3...</td>\n      <td>0        False\n1        False\n2        False\n3...</td>\n      <td>0        False\n1        False\n2        False\n3...</td>\n      <td>0        False\n1        False\n2        False\n3...</td>\n      <td>0        False\n1        False\n2        False\n3...</td>\n      <td>0        False\n1        False\n2        False\n3...</td>\n    </tr>\n  </tbody>\n</table>\n<p>1 rows × 1811 columns</p>\n</div>"
     },
     "execution_count": 10,
     "metadata": {},
     "output_type": "execute_result"
    }
   ],
   "source": [
    "\n",
    "list_of_dfs = []\n",
    "\n",
    "# For-Loop zum Erstellen und Hinzufügen eines neuen Columns in jedem Durchlauf\n",
    "for i in all_possible_mutations:\n",
    "    new_column_name = f'{i}'\n",
    "    new_column_values = [ only_mutants_list.str.contains('i', regex=False)]\n",
    "    new_df = pd.DataFrame({new_column_name: new_column_values})\n",
    "    list_of_dfs.append(new_df)\n",
    "\n",
    "# Verketten der DataFrames in der Liste\n",
    "result_how_often = pd.concat(list_of_dfs, axis=1)\n",
    "\n",
    "result_how_often"
   ],
   "metadata": {
    "collapsed": false,
    "ExecuteTime": {
     "end_time": "2023-06-01T09:15:48.872104Z",
     "start_time": "2023-06-01T09:15:33.198298Z"
    }
   }
  },
  {
   "cell_type": "code",
   "execution_count": 19,
   "outputs": [
    {
     "name": "stdout",
     "output_type": "stream",
     "text": [
      "Es gibt keine True-Werte in der Serie.\n"
     ]
    }
   ],
   "source": [
    "s = result_how_often['E95A'][0]\n",
    "if s.any():\n",
    "    print(\"Es gibt True-Werte in der Serie.\")\n",
    "else:\n",
    "    print(\"Es gibt keine True-Werte in der Serie.\")"
   ],
   "metadata": {
    "collapsed": false,
    "ExecuteTime": {
     "end_time": "2023-06-01T09:30:23.231885Z",
     "start_time": "2023-06-01T09:30:22.662377Z"
    }
   }
  },
  {
   "cell_type": "markdown",
   "source": [
    "was funktioniert: er macht für jede Mutation eine Spalte und benennt sie nach der Mutation\n",
    "und hängt sie alle aneinander als dataframe\n",
    "5,6,8-14\n",
    "\n",
    "was nicht funktioniert: die erkennung des substrings -> er gibt immer false aus"
   ],
   "metadata": {
    "collapsed": false
   }
  },
  {
   "cell_type": "code",
   "execution_count": 15,
   "outputs": [
    {
     "data": {
      "text/plain": "                                                D76A  \\\n0  0        False\n1        False\n2        False\n3...   \n\n                                                E95A  \\\n0  0        False\n1        False\n2        False\n3...   \n\n                                                R96H  \\\n0  0        False\n1        False\n2        False\n3...   \n\n                                               K162R  \\\n0  0        False\n1        False\n2        False\n3...   \n\n                                                L60F  \\\n0  0        False\n1        False\n2        False\n3...   \n\n                                               H148F  \\\n0  0        False\n1        False\n2        False\n3...   \n\n                                               I171V  \\\n0  0        False\n1        False\n2        False\n3...   \n\n                                                 E5G  \\\n0  0        False\n1        False\n2        False\n3...   \n\n                                               G228W  \\\n0  0        False\n1        False\n2        False\n3...   \n\n                                                R96P  \\\n0  0        False\n1        False\n2        False\n3...   \n\n                                                L60I  \\\n0  0        False\n1        False\n2        False\n3...   \n\n                                               I161A  \\\n0  0        False\n1        False\n2        False\n3...   \n\n                                               K166R  \\\n0  0        False\n1        False\n2        False\n3...   \n\n                                                G40V  \\\n0  0        False\n1        False\n2        False\n3...   \n\n                                               I167D  \\\n0  0        False\n1        False\n2        False\n3...   \n\n                                               K166I  \\\n0  0        False\n1        False\n2        False\n3...   \n\n                                                N23D  \\\n0  0        False\n1        False\n2        False\n3...   \n\n                                                D76G  \\\n0  0        False\n1        False\n2        False\n3...   \n\n                                               H181L  \\\n0  0        False\n1        False\n2        False\n3...   \n\n                                               T118K  \\\n0  0        False\n1        False\n2        False\n3...   \n\n                                               L236Q  \\\n0  0        False\n1        False\n2        False\n3...   \n\n                                               K158R  \\\n0  0        False\n1        False\n2        False\n3...   \n\n                                               I123T  \\\n0  0        False\n1        False\n2        False\n3...   \n\n                                                T97P  \\\n0  0        False\n1        False\n2        False\n3...   \n\n                                               S208T  ...  \\\n0  0        False\n1        False\n2        False\n3...  ...   \n\n                                                F71D  \\\n0  0        False\n1        False\n2        False\n3...   \n\n                                                P56A  \\\n0  0        False\n1        False\n2        False\n3...   \n\n                                               N146V  \\\n0  0        False\n1        False\n2        False\n3...   \n\n                                                T50P  \\\n0  0        False\n1        False\n2        False\n3...   \n\n                                                D82A  \\\n0  0        False\n1        False\n2        False\n3...   \n\n                                                Y74S  \\\n0  0        False\n1        False\n2        False\n3...   \n\n                                                 T9N  \\\n0  0        False\n1        False\n2        False\n3...   \n\n                                               K166Q  \\\n0  0        False\n1        False\n2        False\n3...   \n\n                                               A179G  \\\n0  0        False\n1        False\n2        False\n3...   \n\n                                                Y66D  \\\n0  0        False\n1        False\n2        False\n3...   \n\n                                                G20C  \\\n0  0        False\n1        False\n2        False\n3...   \n\n                                               H139N  \\\n0  0        False\n1        False\n2        False\n3...   \n\n                                               S175R  \\\n0  0        False\n1        False\n2        False\n3...   \n\n                                               I128Y  \\\n0  0        False\n1        False\n2        False\n3...   \n\n                                               N159V  \\\n0  0        False\n1        False\n2        False\n3...   \n\n                                               I188T  \\\n0  0        False\n1        False\n2        False\n3...   \n\n                                               I161T  \\\n0  0        False\n1        False\n2        False\n3...   \n\n                                                K45T  \\\n0  0        False\n1        False\n2        False\n3...   \n\n                                               L201H  \\\n0  0        False\n1        False\n2        False\n3...   \n\n                                               D197S  \\\n0  0        False\n1        False\n2        False\n3...   \n\n                                                Y92C  \\\n0  0        False\n1        False\n2        False\n3...   \n\n                                               D234V  \\\n0  0        False\n1        False\n2        False\n3...   \n\n                                               R168C  \\\n0  0        False\n1        False\n2        False\n3...   \n\n                                                I14N  \\\n0  0        False\n1        False\n2        False\n3...   \n\n                                                G10E  \n0  0        False\n1        False\n2        False\n3...  \n\n[1 rows x 1811 columns]",
      "text/html": "<div>\n<style scoped>\n    .dataframe tbody tr th:only-of-type {\n        vertical-align: middle;\n    }\n\n    .dataframe tbody tr th {\n        vertical-align: top;\n    }\n\n    .dataframe thead th {\n        text-align: right;\n    }\n</style>\n<table border=\"1\" class=\"dataframe\">\n  <thead>\n    <tr style=\"text-align: right;\">\n      <th></th>\n      <th>D76A</th>\n      <th>E95A</th>\n      <th>R96H</th>\n      <th>K162R</th>\n      <th>L60F</th>\n      <th>H148F</th>\n      <th>I171V</th>\n      <th>E5G</th>\n      <th>G228W</th>\n      <th>R96P</th>\n      <th>L60I</th>\n      <th>I161A</th>\n      <th>K166R</th>\n      <th>G40V</th>\n      <th>I167D</th>\n      <th>K166I</th>\n      <th>N23D</th>\n      <th>D76G</th>\n      <th>H181L</th>\n      <th>T118K</th>\n      <th>L236Q</th>\n      <th>K158R</th>\n      <th>I123T</th>\n      <th>T97P</th>\n      <th>S208T</th>\n      <th>...</th>\n      <th>F71D</th>\n      <th>P56A</th>\n      <th>N146V</th>\n      <th>T50P</th>\n      <th>D82A</th>\n      <th>Y74S</th>\n      <th>T9N</th>\n      <th>K166Q</th>\n      <th>A179G</th>\n      <th>Y66D</th>\n      <th>G20C</th>\n      <th>H139N</th>\n      <th>S175R</th>\n      <th>I128Y</th>\n      <th>N159V</th>\n      <th>I188T</th>\n      <th>I161T</th>\n      <th>K45T</th>\n      <th>L201H</th>\n      <th>D197S</th>\n      <th>Y92C</th>\n      <th>D234V</th>\n      <th>R168C</th>\n      <th>I14N</th>\n      <th>G10E</th>\n    </tr>\n  </thead>\n  <tbody>\n    <tr>\n      <th>0</th>\n      <td>0        False\n1        False\n2        False\n3...</td>\n      <td>0        False\n1        False\n2        False\n3...</td>\n      <td>0        False\n1        False\n2        False\n3...</td>\n      <td>0        False\n1        False\n2        False\n3...</td>\n      <td>0        False\n1        False\n2        False\n3...</td>\n      <td>0        False\n1        False\n2        False\n3...</td>\n      <td>0        False\n1        False\n2        False\n3...</td>\n      <td>0        False\n1        False\n2        False\n3...</td>\n      <td>0        False\n1        False\n2        False\n3...</td>\n      <td>0        False\n1        False\n2        False\n3...</td>\n      <td>0        False\n1        False\n2        False\n3...</td>\n      <td>0        False\n1        False\n2        False\n3...</td>\n      <td>0        False\n1        False\n2        False\n3...</td>\n      <td>0        False\n1        False\n2        False\n3...</td>\n      <td>0        False\n1        False\n2        False\n3...</td>\n      <td>0        False\n1        False\n2        False\n3...</td>\n      <td>0        False\n1        False\n2        False\n3...</td>\n      <td>0        False\n1        False\n2        False\n3...</td>\n      <td>0        False\n1        False\n2        False\n3...</td>\n      <td>0        False\n1        False\n2        False\n3...</td>\n      <td>0        False\n1        False\n2        False\n3...</td>\n      <td>0        False\n1        False\n2        False\n3...</td>\n      <td>0        False\n1        False\n2        False\n3...</td>\n      <td>0        False\n1        False\n2        False\n3...</td>\n      <td>0        False\n1        False\n2        False\n3...</td>\n      <td>...</td>\n      <td>0        False\n1        False\n2        False\n3...</td>\n      <td>0        False\n1        False\n2        False\n3...</td>\n      <td>0        False\n1        False\n2        False\n3...</td>\n      <td>0        False\n1        False\n2        False\n3...</td>\n      <td>0        False\n1        False\n2        False\n3...</td>\n      <td>0        False\n1        False\n2        False\n3...</td>\n      <td>0        False\n1        False\n2        False\n3...</td>\n      <td>0        False\n1        False\n2        False\n3...</td>\n      <td>0        False\n1        False\n2        False\n3...</td>\n      <td>0        False\n1        False\n2        False\n3...</td>\n      <td>0        False\n1        False\n2        False\n3...</td>\n      <td>0        False\n1        False\n2        False\n3...</td>\n      <td>0        False\n1        False\n2        False\n3...</td>\n      <td>0        False\n1        False\n2        False\n3...</td>\n      <td>0        False\n1        False\n2        False\n3...</td>\n      <td>0        False\n1        False\n2        False\n3...</td>\n      <td>0        False\n1        False\n2        False\n3...</td>\n      <td>0        False\n1        False\n2        False\n3...</td>\n      <td>0        False\n1        False\n2        False\n3...</td>\n      <td>0        False\n1        False\n2        False\n3...</td>\n      <td>0        False\n1        False\n2        False\n3...</td>\n      <td>0        False\n1        False\n2        False\n3...</td>\n      <td>0        False\n1        False\n2        False\n3...</td>\n      <td>0        False\n1        False\n2        False\n3...</td>\n      <td>0        False\n1        False\n2        False\n3...</td>\n    </tr>\n  </tbody>\n</table>\n<p>1 rows × 1811 columns</p>\n</div>"
     },
     "execution_count": 15,
     "metadata": {},
     "output_type": "execute_result"
    }
   ],
   "source": [
    "list_of_dfs = []\n",
    "\n",
    "# For-Loop zum Erstellen und Hinzufügen eines neuen Columns in jedem Durchlauf\n",
    "for i in all_possible_mutations:\n",
    "    new_column_name = f'{i}'\n",
    "    new_column_values = [only_mutants_list.iloc[range(len(only_mutants_list))].str.contains('i')]\n",
    "    new_df = pd.DataFrame({new_column_name: new_column_values})\n",
    "    list_of_dfs.append(new_df)\n",
    "\n",
    "# Verketten der DataFrames in der Liste\n",
    "result_how_often = pd.concat(list_of_dfs, axis=1)\n",
    "\n",
    "result_how_often"
   ],
   "metadata": {
    "collapsed": false,
    "ExecuteTime": {
     "end_time": "2023-05-31T13:12:57.106926Z",
     "start_time": "2023-05-31T13:12:24.941156Z"
    }
   }
  },
  {
   "cell_type": "code",
   "execution_count": 20,
   "outputs": [
    {
     "name": "stdout",
     "output_type": "stream",
     "text": [
      "       V193A\n",
      "0      False\n",
      "1      False\n",
      "2      False\n",
      "3       True\n",
      "4      False\n",
      "...      ...\n",
      "51709  False\n",
      "51710  False\n",
      "51711  False\n",
      "51712  False\n",
      "51713  False\n",
      "\n",
      "[51714 rows x 1 columns]\n"
     ]
    }
   ],
   "source": [
    "# code für einzelne Mutation derfunktioniert wie er soll\n",
    "resultingg_mutss = pd.DataFrame()\n",
    "substring = 'V193A'\n",
    "\n",
    "# Boolianischen Wert ausgeben, ob der Substring in einer Zeile existiert\n",
    "resultingg_mutss['V193A'] = only_mutants['mutant'].apply(lambda x: substring in x)\n",
    "\n",
    "print(resultingg_mutss)\n",
    "# gibt aber die ganze zeile aus nicht den index ---> mit df.loc !! dann die zeilennummern"
   ],
   "metadata": {
    "collapsed": false,
    "ExecuteTime": {
     "end_time": "2023-06-01T18:03:11.377664Z",
     "start_time": "2023-06-01T18:03:10.786344Z"
    }
   }
  },
  {
   "cell_type": "code",
   "execution_count": null,
   "outputs": [],
   "source": [],
   "metadata": {
    "collapsed": false
   }
  }
 ],
 "metadata": {
  "kernelspec": {
   "display_name": "Python 3",
   "language": "python",
   "name": "python3"
  },
  "language_info": {
   "codemirror_mode": {
    "name": "ipython",
    "version": 2
   },
   "file_extension": ".py",
   "mimetype": "text/x-python",
   "name": "python",
   "nbconvert_exporter": "python",
   "pygments_lexer": "ipython2",
   "version": "2.7.6"
  }
 },
 "nbformat": 4,
 "nbformat_minor": 0
}
