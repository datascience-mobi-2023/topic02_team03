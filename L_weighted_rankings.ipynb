{
 "cells": [
  {
   "cell_type": "code",
   "execution_count": 4,
   "metadata": {
    "collapsed": true,
    "ExecuteTime": {
     "end_time": "2023-07-05T08:52:29.704149Z",
     "start_time": "2023-07-05T08:52:29.252829Z"
    }
   },
   "outputs": [],
   "source": [
    "import pandas as pd\n",
    "import numpy as np"
   ]
  },
  {
   "cell_type": "code",
   "execution_count": 5,
   "outputs": [
    {
     "name": "stderr",
     "output_type": "stream",
     "text": [
      "/var/folders/sk/q8h0c3zs1v9dt93y5m134swr0000gn/T/ipykernel_75549/1912877112.py:6: FutureWarning: In a future version of pandas all arguments of StringMethods.split except for the argument 'pat' will be keyword-only.\n",
      "  original_dms_data_col[['m1', 'm2', 'm3', 'm4', 'm5', 'm6', 'm7', 'm8', 'm9', 'm10', 'm11', 'm12', 'm13', 'm14', 'm15']] = original_dms_data_col['mutant'].str.split(':', 15, expand=True)\n"
     ]
    }
   ],
   "source": [
    "# Datensatz einlesen\n",
    "original_dms_data = pd.read_csv('/Users/liza/Desktop/Bioinfo Project/DMS_data/GFP_AEQVI_Sarkisyan_2016.csv')\n",
    "# split first column of df into multiple columns\n",
    "original_dms_data_col = original_dms_data\n",
    "only_mutants = original_dms_data[\"mutant\"].to_frame()\n",
    "original_dms_data_col[['m1', 'm2', 'm3', 'm4', 'm5', 'm6', 'm7', 'm8', 'm9', 'm10', 'm11', 'm12', 'm13', 'm14', 'm15']] = original_dms_data_col['mutant'].str.split(':', 15, expand=True)"
   ],
   "metadata": {
    "collapsed": false,
    "ExecuteTime": {
     "end_time": "2023-07-05T08:52:32.724243Z",
     "start_time": "2023-07-05T08:52:31.725323Z"
    }
   }
  },
  {
   "cell_type": "code",
   "execution_count": 6,
   "outputs": [],
   "source": [
    "# zählen wieviele Mutationen jede Sequenz hat\n",
    "list_mut_count_in_progress = []\n",
    "for i in range(len(original_dms_data['mutant'])):\n",
    "    list_mut_count_in_progress.append(original_dms_data['mutant'].iloc[i].count(':'))\n",
    "list_mut_count_prae = np.array(list_mut_count_in_progress)\n",
    "list_mut_count = (list_mut_count_prae + 1)\n",
    "df_mutation_counts = pd.DataFrame(list_mut_count)"
   ],
   "metadata": {
    "collapsed": false,
    "ExecuteTime": {
     "end_time": "2023-07-05T08:52:38.253161Z",
     "start_time": "2023-07-05T08:52:37.897360Z"
    }
   }
  },
  {
   "cell_type": "code",
   "execution_count": 9,
   "outputs": [
    {
     "data": {
      "text/plain": "   DMS_score   m1     m2     m3     m4     m5     m6     m7    m8    m9   m10  \\\n0   1.301030  K3R   V55A   Q94R  A110T  D117G  M153K  D216A  None  None  None   \n1   3.137350  K3Q   V16A  I167T  L195Q   None   None   None  None  None  None   \n2   1.553913  K3Q  Y143C  N164D  S205P  A227T   None   None  None  None  None   \n3   3.404237  K3Q  Y143N  V193A   None   None   None   None  None  None  None   \n4   3.738586  K3R   None   None   None   None   None   None  None  None  None   \n\n    m11   m12   m13   m14   m15  mut_count  \n0  None  None  None  None  None          7  \n1  None  None  None  None  None          4  \n2  None  None  None  None  None          5  \n3  None  None  None  None  None          3  \n4  None  None  None  None  None          1  ",
      "text/html": "<div>\n<style scoped>\n    .dataframe tbody tr th:only-of-type {\n        vertical-align: middle;\n    }\n\n    .dataframe tbody tr th {\n        vertical-align: top;\n    }\n\n    .dataframe thead th {\n        text-align: right;\n    }\n</style>\n<table border=\"1\" class=\"dataframe\">\n  <thead>\n    <tr style=\"text-align: right;\">\n      <th></th>\n      <th>DMS_score</th>\n      <th>m1</th>\n      <th>m2</th>\n      <th>m3</th>\n      <th>m4</th>\n      <th>m5</th>\n      <th>m6</th>\n      <th>m7</th>\n      <th>m8</th>\n      <th>m9</th>\n      <th>m10</th>\n      <th>m11</th>\n      <th>m12</th>\n      <th>m13</th>\n      <th>m14</th>\n      <th>m15</th>\n      <th>mut_count</th>\n    </tr>\n  </thead>\n  <tbody>\n    <tr>\n      <th>0</th>\n      <td>1.301030</td>\n      <td>K3R</td>\n      <td>V55A</td>\n      <td>Q94R</td>\n      <td>A110T</td>\n      <td>D117G</td>\n      <td>M153K</td>\n      <td>D216A</td>\n      <td>None</td>\n      <td>None</td>\n      <td>None</td>\n      <td>None</td>\n      <td>None</td>\n      <td>None</td>\n      <td>None</td>\n      <td>None</td>\n      <td>7</td>\n    </tr>\n    <tr>\n      <th>1</th>\n      <td>3.137350</td>\n      <td>K3Q</td>\n      <td>V16A</td>\n      <td>I167T</td>\n      <td>L195Q</td>\n      <td>None</td>\n      <td>None</td>\n      <td>None</td>\n      <td>None</td>\n      <td>None</td>\n      <td>None</td>\n      <td>None</td>\n      <td>None</td>\n      <td>None</td>\n      <td>None</td>\n      <td>None</td>\n      <td>4</td>\n    </tr>\n    <tr>\n      <th>2</th>\n      <td>1.553913</td>\n      <td>K3Q</td>\n      <td>Y143C</td>\n      <td>N164D</td>\n      <td>S205P</td>\n      <td>A227T</td>\n      <td>None</td>\n      <td>None</td>\n      <td>None</td>\n      <td>None</td>\n      <td>None</td>\n      <td>None</td>\n      <td>None</td>\n      <td>None</td>\n      <td>None</td>\n      <td>None</td>\n      <td>5</td>\n    </tr>\n    <tr>\n      <th>3</th>\n      <td>3.404237</td>\n      <td>K3Q</td>\n      <td>Y143N</td>\n      <td>V193A</td>\n      <td>None</td>\n      <td>None</td>\n      <td>None</td>\n      <td>None</td>\n      <td>None</td>\n      <td>None</td>\n      <td>None</td>\n      <td>None</td>\n      <td>None</td>\n      <td>None</td>\n      <td>None</td>\n      <td>None</td>\n      <td>3</td>\n    </tr>\n    <tr>\n      <th>4</th>\n      <td>3.738586</td>\n      <td>K3R</td>\n      <td>None</td>\n      <td>None</td>\n      <td>None</td>\n      <td>None</td>\n      <td>None</td>\n      <td>None</td>\n      <td>None</td>\n      <td>None</td>\n      <td>None</td>\n      <td>None</td>\n      <td>None</td>\n      <td>None</td>\n      <td>None</td>\n      <td>None</td>\n      <td>1</td>\n    </tr>\n  </tbody>\n</table>\n</div>"
     },
     "execution_count": 9,
     "metadata": {},
     "output_type": "execute_result"
    }
   ],
   "source": [
    "#zusammenfügen\n",
    "working_dataframe_prae = pd.concat([original_dms_data_col, df_mutation_counts], axis=\"columns\")\n",
    "#alle Spalten löschen die stören\n",
    "working_dataframe = working_dataframe_prae.drop(['mutant', 'mutated_sequence', 'DMS_score_bin'], axis=1)\n",
    "working_dataframe.rename(columns={working_dataframe.columns[16]: 'mut_count'}, inplace=True)\n",
    "working_dataframe.head()"
   ],
   "metadata": {
    "collapsed": false,
    "ExecuteTime": {
     "end_time": "2023-07-05T08:53:03.542297Z",
     "start_time": "2023-07-05T08:53:03.170319Z"
    }
   }
  },
  {
   "cell_type": "code",
   "execution_count": 10,
   "outputs": [],
   "source": [
    "#alle möglichen Mutationen rausschreiben in den Spalten\n",
    "#all_possible_mutations\n",
    "\n",
    "from pandas import unique\n",
    "working_dataframe_only_ms = working_dataframe.loc[:, [\"m1\", \"m2\", \"m3\", 'm4', 'm5', 'm6', 'm7', 'm8', 'm9', 'm10', 'm11', 'm12', 'm13', 'm14', 'm15']]\n",
    "all_possible_mutations = working_dataframe_only_ms.values.flatten().tolist()\n",
    "all_possible_mutations = list(set(all_possible_mutations))\n",
    "#hat einen none Wert, weil der auch ein Wert in der Liste ist -> wegmachen\n",
    "while None in all_possible_mutations:\n",
    "    all_possible_mutations.remove(None)\n",
    "only_mutants_list = only_mutants['mutant']\n"
   ],
   "metadata": {
    "collapsed": false,
    "ExecuteTime": {
     "end_time": "2023-07-05T08:53:15.107038Z",
     "start_time": "2023-07-05T08:53:14.045210Z"
    }
   }
  },
  {
   "cell_type": "code",
   "execution_count": 11,
   "outputs": [],
   "source": [
    "#zusammenfügen\n",
    "working_dataframe_prae = pd.concat([original_dms_data_col, df_mutation_counts], axis=\"columns\")\n",
    "#alle Spalten löschen die stören\n",
    "working_dataframe = working_dataframe_prae.drop(['mutant', 'mutated_sequence', 'DMS_score_bin'], axis=1)\n",
    "working_dataframe.rename(columns={working_dataframe.columns[16]: 'mut_count'}, inplace=True)\n"
   ],
   "metadata": {
    "collapsed": false,
    "ExecuteTime": {
     "end_time": "2023-07-05T08:53:15.166483Z",
     "start_time": "2023-07-05T08:53:14.135082Z"
    }
   }
  },
  {
   "cell_type": "code",
   "execution_count": 12,
   "outputs": [],
   "source": [
    "##kreuztabelle ob all_possible_mutations in den Mutanten existieren\n",
    "\n",
    "list_of_dfs = []\n",
    "# For-Loop zum Erstellen und Hinzufügen eines neuen Columns in jedem Durchlauf\n",
    "for i in all_possible_mutations:\n",
    "    new_column_name = f'{i}'\n",
    "    new_column_values = [only_mutants_list.str.contains(i, regex= False)]\n",
    "    new_df = pd.DataFrame({new_column_name: new_column_values})\n",
    "    new_df_exploded = new_df.explode(new_column_name)\n",
    "    list_of_dfs.append(new_df_exploded)\n",
    "\n",
    "# Verketten der DataFrames in der Liste\n",
    "result_how_often = pd.concat(list_of_dfs, axis=1)\n",
    "result_how_often = result_how_often.reset_index(drop=True)\n",
    "\n",
    "## result_how_often.to_csv('dataframe_mutanten_Mutationen.csv', index=True)"
   ],
   "metadata": {
    "collapsed": false,
    "ExecuteTime": {
     "end_time": "2023-07-05T08:54:21.801889Z",
     "start_time": "2023-07-05T08:53:21.194586Z"
    }
   }
  },
  {
   "cell_type": "code",
   "execution_count": 13,
   "outputs": [],
   "source": [
    "# dataframe aus original machen der nur mutcount und fscore hat\n",
    "count_fscore_frame = working_dataframe[['DMS_score', 'mut_count']]"
   ],
   "metadata": {
    "collapsed": false,
    "ExecuteTime": {
     "end_time": "2023-07-05T08:56:51.207426Z",
     "start_time": "2023-07-05T08:56:51.042062Z"
    }
   }
  },
  {
   "cell_type": "code",
   "execution_count": 14,
   "outputs": [
    {
     "data": {
      "text/plain": "<Figure size 1900x1200 with 15 Axes>",
      "image/png": "[encoded data removed]"
     },
     "metadata": {},
     "output_type": "display_data"
    }
   ],
   "source": [
    "#plots für jeden mutcount varianz gegen how_many\n",
    "\n",
    "import matplotlib.pyplot as plt\n",
    "\n",
    "\n",
    "fig, axes = plt.subplots(nrows=5, ncols=3, figsize=(19, 12))  # Abbildung und Achsenobjekte erstellen\n",
    "plt.subplots_adjust(wspace=0.4, hspace=0.6)\n",
    "\n",
    "for j, ax in zip(range(2, 16), axes.flatten()):\n",
    "    variance_per_mutant_list = []\n",
    "\n",
    "    for i in all_possible_mutations:\n",
    "        mut_count_fscore = count_fscore_frame.loc[result_how_often[i] == True]\n",
    "        fscore_mut = mut_count_fscore['DMS_score'].loc[mut_count_fscore['mut_count'] == j]\n",
    "        varianz_mut = fscore_mut.var()\n",
    "        variance_per_mutant_list.append(varianz_mut)\n",
    "\n",
    "    variance_per_mutant_series = pd.Series(variance_per_mutant_list, index=all_possible_mutations)\n",
    "    variance_per_mutant_df = variance_per_mutant_series.to_frame()\n",
    "\n",
    "\n",
    "#rausfinden wie viele Daten wir jeweils haben zum berechnen\n",
    "    how_many_for_variance = []\n",
    "\n",
    "    for i in all_possible_mutations:\n",
    "        mut_count_fscore = count_fscore_frame.loc[result_how_often[i] == True]\n",
    "        fscore_mut = mut_count_fscore['DMS_score'].loc[mut_count_fscore['mut_count'] == j]\n",
    "        wie_viel_jeweils = len(fscore_mut)\n",
    "        how_many_for_variance.append(wie_viel_jeweils)\n",
    "\n",
    "    how_many_for_variance = pd.Series(how_many_for_variance, index=all_possible_mutations)\n",
    "    how_many_for_variance_df = how_many_for_variance.to_frame()\n",
    "\n",
    "\n",
    "    how_many_AND_variance_df = pd.concat([how_many_for_variance_df, variance_per_mutant_df], axis = 1)\n",
    "    how_many_AND_variance_df.columns = ['Anzahl benutzter Werte', 'Varianz']\n",
    "    how_many_AND_variance_df = how_many_AND_variance_df.dropna()\n",
    "\n",
    "#scatter plot erstellen, mit benennungen\n",
    "    ax.scatter(how_many_AND_variance_df['Anzahl benutzter Werte'],how_many_AND_variance_df['Varianz'], s = j )\n",
    "    ax.set_xlabel('Anzahl benutzter Werte')\n",
    "    ax.set_ylabel('Varianz')\n",
    "\n",
    "    if \"V163A\" in how_many_AND_variance_df.index:\n",
    "        ax.scatter(how_many_AND_variance_df['Anzahl benutzter Werte']['V163A'],how_many_AND_variance_df['Varianz']['V163A'], c='red')\n",
    "    ax.set_title(f'für {j} Mutationen')\n",
    "# Diagramm anzeigen\n",
    "\n",
    "plt.show()\n"
   ],
   "metadata": {
    "collapsed": false,
    "ExecuteTime": {
     "end_time": "2023-07-05T09:00:46.558342Z",
     "start_time": "2023-07-05T08:57:12.975406Z"
    }
   }
  },
  {
   "cell_type": "markdown",
   "source": [
    "VORBEREITUNG RANKINGS: Definitionen etc\n"
   ],
   "metadata": {
    "collapsed": false
   }
  },
  {
   "cell_type": "code",
   "execution_count": 16,
   "outputs": [
    {
     "name": "stderr",
     "output_type": "stream",
     "text": [
      "/var/folders/sk/q8h0c3zs1v9dt93y5m134swr0000gn/T/ipykernel_75549/2649729929.py:18: FutureWarning: DataFrame.set_axis 'inplace' keyword is deprecated and will be removed in a future version. Use `obj = obj.set_axis(..., copy=False)` instead\n",
      "  variance_per_mutant_count_df.set_axis(range(2,15), axis=1, inplace=True)\n"
     ]
    }
   ],
   "source": [
    "#Varianzen mitteln für jede Mutation, über die Mutationscounts hinweg\n",
    "frame_zum_mitteln_variance = pd.DataFrame(index = all_possible_mutations)\n",
    "variance_per_mutant_count_list = []\n",
    "\n",
    "# ACHTUNG: es werden nur counts von 2 bis 7 einbezogen weil die mit mehr sowieso \"kaputt\" sind!!!\n",
    "for j, ax in zip(range(2, 15), axes.flatten()):\n",
    "    variance_per_mutant_list = []\n",
    "\n",
    "    for i in all_possible_mutations:\n",
    "        mut_count_fscore = count_fscore_frame.loc[result_how_often[i] == True]\n",
    "        fscore_mut = mut_count_fscore['DMS_score'].loc[mut_count_fscore['mut_count'] == j]\n",
    "        varianz_mut = fscore_mut.var()  #die varianz je mutation je anzahl\n",
    "        variance_per_mutant_list.append(varianz_mut) #liste der Varianzen ALLER Mutationen je anzahl\n",
    "\n",
    "    variance_per_mutant_df = pd.DataFrame(variance_per_mutant_list, index=all_possible_mutations)\n",
    "    variance_per_mutant_count_list.append(variance_per_mutant_df)\n",
    "variance_per_mutant_count_df = pd.concat(variance_per_mutant_count_list, axis=1)\n",
    "variance_per_mutant_count_df.set_axis(range(2,15), axis=1, inplace=True)\n",
    "\n",
    "# Varianz je Mutation je Mutationanzahl\n",
    "variance_per_mutant_count_df\n",
    "# dataframe mit allen varianzen (Zellen) pro alle mutationen (rows) pro alle counts (columns)\n",
    "mean_variances_per_mutations = pd.DataFrame(variance_per_mutant_count_df.mean(axis=1, skipna=True), columns=['Mean'])\n"
   ],
   "metadata": {
    "collapsed": false,
    "ExecuteTime": {
     "end_time": "2023-07-05T09:03:38.711060Z",
     "start_time": "2023-07-05T09:02:01.765466Z"
    }
   }
  },
  {
   "cell_type": "code",
   "execution_count": 21,
   "outputs": [
    {
     "name": "stdout",
     "output_type": "stream",
     "text": [
      "             2         3         4         5         6         7   \\\n",
      "S30L        NaN       NaN       NaN       NaN       NaN       NaN   \n",
      "H81Q   0.007306  0.074072  1.445893  1.665056  0.000065  0.050974   \n",
      "N149T  0.010397  0.041085  0.652566  0.904393       NaN       NaN   \n",
      "D76N   0.026386  0.450935  1.082965  1.250609  1.053698  0.009309   \n",
      "P54L   0.013662  1.524275  0.968349  0.622230  0.037589  0.073966   \n",
      "...         ...       ...       ...       ...       ...       ...   \n",
      "H139L  0.157667  0.802598  1.010450  1.056133  0.455247  0.026310   \n",
      "R96G        NaN       NaN  0.020137       NaN       NaN  0.048561   \n",
      "D197Y  0.002363  1.018748  0.068187  0.833619       NaN  0.003073   \n",
      "Y74L        NaN       NaN       NaN       NaN       NaN       NaN   \n",
      "D117G  0.326796  0.379047  0.867703  1.079760  1.016025  0.899729   \n",
      "\n",
      "                 8         9             10        11            12  13  14  \n",
      "S30L            NaN       NaN           NaN       NaN           NaN NaN NaN  \n",
      "H81Q   1.953043e-07       NaN           NaN       NaN           NaN NaN NaN  \n",
      "N149T  4.120064e-08       NaN           NaN       NaN           NaN NaN NaN  \n",
      "D76N   8.618179e-02  0.000061  3.738855e-14       NaN           NaN NaN NaN  \n",
      "P54L   5.006789e-07  0.045607  1.143942e-02       NaN           NaN NaN NaN  \n",
      "...             ...       ...           ...       ...           ...  ..  ..  \n",
      "H139L  2.079773e-01  0.046871  6.032891e-03  0.008930           NaN NaN NaN  \n",
      "R96G            NaN       NaN           NaN       NaN           NaN NaN NaN  \n",
      "D197Y           NaN       NaN           NaN       NaN           NaN NaN NaN  \n",
      "Y74L            NaN       NaN           NaN       NaN           NaN NaN NaN  \n",
      "D117G  6.657695e-01  0.473717  2.890383e-02  0.017348  8.752928e-16 NaN NaN  \n",
      "\n",
      "[1810 rows x 13 columns]\n"
     ]
    }
   ],
   "source": [
    "print(variance_per_mutant_count_df)"
   ],
   "metadata": {
    "collapsed": false,
    "ExecuteTime": {
     "end_time": "2023-07-05T14:44:20.473861Z",
     "start_time": "2023-07-05T14:44:20.098167Z"
    }
   }
  },
  {
   "cell_type": "code",
   "execution_count": 23,
   "outputs": [
    {
     "name": "stdout",
     "output_type": "stream",
     "text": [
      "   mean_fitness_score\n",
      "2            3.518408\n",
      "3            3.443974\n",
      "4            3.055454\n",
      "5             2.42182\n",
      "6            2.103559\n",
      "7            1.934227\n",
      "8             1.79311\n",
      "9            1.519263\n",
      "10            1.40928\n",
      "11           1.414161\n",
      "12            1.30103\n",
      "13                NaN\n",
      "14                NaN\n",
      "15           1.352068\n"
     ]
    }
   ],
   "source": [
    "#dataframe with the mean fscores of each mutationcount\n",
    "mean_fitness_scores = pd.DataFrame(index=range(2, 16), columns=['mean_fitness_score'])\n",
    "\n",
    "for j in range(2, 16):\n",
    "    fscore_mutcount_mean = mut_count_fscore['DMS_score'].loc[mut_count_fscore['mut_count'] == j].mean()\n",
    "    mean_fitness_scores.loc[j, 'mean_fitness_score'] = fscore_mutcount_mean\n",
    "\n",
    "print(mean_fitness_scores)"
   ],
   "metadata": {
    "collapsed": false,
    "ExecuteTime": {
     "end_time": "2023-07-05T14:56:26.042889Z",
     "start_time": "2023-07-05T14:56:23.902605Z"
    }
   }
  },
  {
   "cell_type": "code",
   "execution_count": 28,
   "outputs": [
    {
     "name": "stdout",
     "output_type": "stream",
     "text": [
      "       weighted_mean\n",
      "S30L        0.000000\n",
      "H81Q        0.483284\n",
      "N149T       0.306493\n",
      "D76N        0.489299\n",
      "P54L        0.475061\n",
      "...              ...\n",
      "H139L       0.461579\n",
      "R96G        0.031155\n",
      "D197Y       0.400032\n",
      "Y74L        0.000000\n",
      "D117G       0.567768\n",
      "\n",
      "[1810 rows x 1 columns]\n"
     ]
    }
   ],
   "source": [
    "##mean of the variance weighted -> sum of all mean_variance_permutcount * mean_fitness_score_per_mutcount divided by the sum of all used mean_fitness_score_per_mutcount, because apparently that´s necessary?\n",
    "\n",
    "weighted_mean_per_mutant_df = pd.DataFrame(index=all_possible_mutations)\n",
    "\n",
    "for mutation in all_possible_mutations:\n",
    "    weighted_mean = 0\n",
    "    total_weight = 0\n",
    "\n",
    "    for mutation_count in range(2, 15):\n",
    "        variance = variance_per_mutant_count_df.loc[mutation, mutation_count]\n",
    "\n",
    "        if not np.isnan(variance):\n",
    "            mean_fitness_score = mean_fitness_scores.at[mutation_count, 'mean_fitness_score']\n",
    "            weighted_mean += variance * mean_fitness_score\n",
    "            total_weight += mean_fitness_score\n",
    "\n",
    "    if total_weight != 0:\n",
    "        weighted_mean /= total_weight\n",
    "\n",
    "    weighted_mean_per_mutant_df.at[mutation, 'weighted_mean'] = weighted_mean\n",
    "print(weighted_mean_per_mutant_df)"
   ],
   "metadata": {
    "collapsed": false,
    "ExecuteTime": {
     "end_time": "2023-07-05T15:02:42.731841Z",
     "start_time": "2023-07-05T15:02:41.500426Z"
    }
   }
  },
  {
   "cell_type": "code",
   "execution_count": 17,
   "outputs": [
    {
     "name": "stderr",
     "output_type": "stream",
     "text": [
      "/var/folders/sk/q8h0c3zs1v9dt93y5m134swr0000gn/T/ipykernel_75549/2598593114.py:15: FutureWarning: DataFrame.set_axis 'inplace' keyword is deprecated and will be removed in a future version. Use `obj = obj.set_axis(..., copy=False)` instead\n",
      "  how_many_per_mutant_count_df.set_axis(range(2,8), axis=1, inplace=True)\n"
     ]
    }
   ],
   "source": [
    "how_many_per_mutant_count_list = []\n",
    "\n",
    "for j, ax in zip(range(2, 8), axes.flatten()):\n",
    "    how_many_for_variance = []\n",
    "\n",
    "    for i in all_possible_mutations:\n",
    "        mut_count_fscore = count_fscore_frame.loc[result_how_often[i] == True]\n",
    "        fscore_mut = mut_count_fscore['DMS_score'].loc[mut_count_fscore['mut_count'] == j]\n",
    "        wie_viel_jeweils = len(fscore_mut)\n",
    "        how_many_for_variance.append(wie_viel_jeweils)\n",
    "\n",
    "    how_many_per_mutant_df = pd.DataFrame(how_many_for_variance, index=all_possible_mutations)\n",
    "    how_many_per_mutant_count_list.append(how_many_per_mutant_df)\n",
    "how_many_per_mutant_count_df = pd.concat(how_many_per_mutant_count_list, axis=1)\n",
    "how_many_per_mutant_count_df.set_axis(range(2,8), axis=1, inplace=True)\n",
    "\n",
    "mean_how_many_per_mutations = pd.DataFrame(how_many_per_mutant_count_df.mean(axis=1, skipna=True), columns=['Mean'])\n"
   ],
   "metadata": {
    "collapsed": false,
    "ExecuteTime": {
     "end_time": "2023-07-05T09:04:13.223147Z",
     "start_time": "2023-07-05T09:03:38.691627Z"
    }
   }
  },
  {
   "cell_type": "code",
   "execution_count": 18,
   "outputs": [],
   "source": [
    "combined_means_variance_how_many = pd.concat([mean_variances_per_mutations, mean_how_many_per_mutations], axis=1)\n",
    "combined_means_variance_how_many.columns = ['mean_variances_per_mutations', 'mean_how_many_per_mutations']"
   ],
   "metadata": {
    "collapsed": false,
    "ExecuteTime": {
     "end_time": "2023-07-05T09:04:13.224524Z",
     "start_time": "2023-07-05T09:04:13.221717Z"
    }
   }
  },
  {
   "cell_type": "markdown",
   "source": [
    "----------------RANKING 0: nur nach Varianz der fscores"
   ],
   "metadata": {
    "collapsed": false
   }
  },
  {
   "cell_type": "code",
   "execution_count": 32,
   "outputs": [
    {
     "name": "stdout",
     "output_type": "stream",
     "text": [
      "       weighted_mean\n",
      "S30L             0.0\n",
      "F8N              0.0\n",
      "K214A            0.0\n",
      "I136Y            0.0\n",
      "N159A            0.0\n",
      "...              ...\n",
      "K214R            NaN\n",
      "L141P            NaN\n",
      "K45E             NaN\n",
      "F114L            NaN\n",
      "Q80R             NaN\n",
      "\n",
      "[1810 rows x 1 columns]\n"
     ]
    }
   ],
   "source": [
    "sorted_Ranking0_weighted = weighted_mean_per_mutant_df.sort_values(by='weighted_mean')\n",
    "\n",
    "# Ausgabe des sortierten DataFrames\n",
    "print(sorted_Ranking0_weighted)"
   ],
   "metadata": {
    "collapsed": false,
    "ExecuteTime": {
     "end_time": "2023-07-05T15:23:15.850973Z",
     "start_time": "2023-07-05T15:23:11.582945Z"
    }
   }
  },
  {
   "cell_type": "code",
   "execution_count": 33,
   "outputs": [
    {
     "name": "stderr",
     "output_type": "stream",
     "text": [
      "/var/folders/sk/q8h0c3zs1v9dt93y5m134swr0000gn/T/ipykernel_75549/961428720.py:13: FutureWarning: this method is deprecated in favour of `Styler.to_html()`\n",
      "  file.write(styled_ranking0_weighted.render())\n"
     ]
    }
   ],
   "source": [
    "TOP_MUTANTS = ['V163A', 'K166Q', 'V68M', 'E172A', 'A206V', 'T43N', 'H25Q', 'S205T', 'E6K', 'T62S', 'I171V', 'T203I', 'Y39N', 'E111V', 'E32A']\n",
    "\n",
    "# Funktion zum Formatieren der Zeilen und Hervorheben der Werte in TOP_MUTANTS\n",
    "def highlight_top_mutants(row):\n",
    "    color = 'red' if row.name in TOP_MUTANTS else 'black'\n",
    "    return ['color: {}'.format(color)] * len(row)\n",
    "\n",
    "# Anwendung der Formatierungsfunktion auf das gesamte DataFrame\n",
    "styled_ranking0_weighted= sorted_Ranking0_weighted.style.apply(highlight_top_mutants, axis=1)\n",
    "\n",
    "# Den formatierten DataFrame als HTML-Datei speichern\n",
    "with open('formatted_ranking0_weighted.html', 'w') as file:\n",
    "    file.write(styled_ranking0_weighted.render())"
   ],
   "metadata": {
    "collapsed": false,
    "ExecuteTime": {
     "end_time": "2023-07-05T15:23:51.357821Z",
     "start_time": "2023-07-05T15:23:49.324676Z"
    }
   }
  },
  {
   "cell_type": "markdown",
   "source": [
    "----------------RANKING 1: nur nach Anzahl der Muts (kind of unnötig)"
   ],
   "metadata": {
    "collapsed": false
   }
  },
  {
   "cell_type": "code",
   "execution_count": 80,
   "outputs": [],
   "source": [
    "sorted_Ranking1 = combined_means_variance_how_many.sort_values(by='mean_how_many_per_mutations', ascending= False)\n",
    "\n",
    "# Ausgabe des sortierten DataFrames\n",
    "print(sorted_Ranking1)"
   ],
   "metadata": {
    "collapsed": false
   }
  },
  {
   "cell_type": "code",
   "execution_count": 81,
   "outputs": [],
   "source": [
    "TOP_MUTANTS = ['V163A', 'K166Q', 'V68M', 'E172A', 'A206V', 'T43N', 'H25Q', 'S205T', 'E6K', 'T62S', 'I171V', 'T203I', 'Y39N', 'E111V', 'E32A']\n",
    "\n",
    "# Funktion zum Formatieren der Zeilen und Hervorheben der Werte in TOP_MUTANTS\n",
    "def highlight_top_mutants(row):\n",
    "    color = 'red' if row.name in TOP_MUTANTS else 'black'\n",
    "    return ['color: {}'.format(color)] * len(row)\n",
    "\n",
    "# Anwendung der Formatierungsfunktion auf das gesamte DataFrame\n",
    "styled_ranking1= sorted_Ranking1.style.apply(highlight_top_mutants, axis=1)\n",
    "\n",
    "# Den formatierten DataFrame als HTML-Datei speichern\n",
    "with open('formatted_ranking1.html', 'w') as file:\n",
    "    file.write(styled_ranking1.render())"
   ],
   "metadata": {
    "collapsed": false
   }
  },
  {
   "cell_type": "markdown",
   "source": [
    "\n",
    "\n",
    "\n",
    "\n",
    "----------------RANKING 1a: nach Rank aus Varianz und Anzahl"
   ],
   "metadata": {
    "collapsed": false
   }
  },
  {
   "cell_type": "code",
   "execution_count": 82,
   "outputs": [],
   "source": [
    "combined_means_variance_how_many['Rank'] = combined_means_variance_how_many['mean_variances_per_mutations'].rank(ascending=False) - combined_means_variance_how_many['mean_how_many_per_mutations'].rank()\n",
    "\n",
    "sorted_Ranking1a = combined_means_variance_how_many.sort_values(by='Rank')\n",
    "\n",
    "# Ausgabe des sortierten DataFrames\n",
    "print(sorted_Ranking1a)"
   ],
   "metadata": {
    "collapsed": false
   }
  },
  {
   "cell_type": "code",
   "execution_count": 83,
   "outputs": [],
   "source": [
    "#nochmal ohne stab\n",
    "condition = all_differences_means['Difference'] > 0\n",
    "sorted_only_stab_Ranking1a = sorted_Ranking1a.drop(all_differences_means.loc[condition].index)\n",
    "print(sorted_only_stab_Ranking1a)\n"
   ],
   "metadata": {
    "collapsed": false
   }
  },
  {
   "cell_type": "code",
   "execution_count": 84,
   "outputs": [],
   "source": [
    "TOP_MUTANTS = ['V163A', 'K166Q', 'V68M', 'E172A', 'A206V', 'T43N', 'H25Q', 'S205T', 'E6K', 'T62S', 'I171V', 'T203I', 'Y39N', 'E111V', 'E32A']\n",
    "\n",
    "# Funktion zum Formatieren der Zeilen und Hervorheben der Werte in TOP_MUTANTS\n",
    "def highlight_top_mutants(row):\n",
    "    color = 'red' if row.name in TOP_MUTANTS else 'black'\n",
    "    return ['color: {}'.format(color)] * len(row)\n",
    "\n",
    "# Anwendung der Formatierungsfunktion auf das gesamte DataFrame\n",
    "styled_ranking1a= sorted_only_stab_Ranking1a.style.apply(highlight_top_mutants, axis=1)\n",
    "\n",
    "# Den formatierten DataFrame als HTML-Datei speichern\n",
    "with open('formatted_ranking1a.html', 'w') as file:\n",
    "    file.write(styled_ranking1a.render())"
   ],
   "metadata": {
    "collapsed": false
   }
  },
  {
   "cell_type": "markdown",
   "source": [
    "\n",
    "\n",
    "\n",
    "\n",
    "----------------RANKING 2: nur nach fscore_mean Differenz"
   ],
   "metadata": {
    "collapsed": false
   }
  },
  {
   "cell_type": "code",
   "execution_count": 56,
   "outputs": [],
   "source": [
    "import pandas as pd\n",
    "\n",
    "nur_fscore_mut_count_weighted = working_dataframe.loc[:, [\"DMS_score\", \"mut_count\"]]\n",
    "\n",
    "# Create empty variables to store the weighted means and total weights\n",
    "weighted_mean_mut = 0\n",
    "weighted_mean_no_mut = 0\n",
    "total_weight_mut = 0\n",
    "total_weight_no_mut = 0\n",
    "\n",
    "# Iterate over the mutation counts\n",
    "for mutation_count in range(2, 15):\n",
    "    mean_fitness_score = mean_fitness_scores.at[mutation_count, 'mean_fitness_score']\n",
    "\n",
    "    index_when_mut_present = result_how_often.loc[result_how_often.any(axis=1) == True].index\n",
    "    only_rows_with_mut_weighted = nur_fscore_mut_count_weighted[(nur_fscore_mut_count_weighted['mut_count'] == mutation_count) & (nur_fscore_mut_count_weighted.index.isin(index_when_mut_present))]\n",
    "\n",
    "    index_when_not_mut_present = result_how_often.loc[result_how_often.any(axis=1) == False].index\n",
    "    only_rows_without_mut_weighted = nur_fscore_mut_count_weighted[(nur_fscore_mut_count_weighted['mut_count'] == mutation_count) & (nur_fscore_mut_count_weighted.index.isin(index_when_not_mut_present))]\n",
    "\n",
    "    if not only_rows_with_mut_weighted.empty:\n",
    "        mean_with_mut = only_rows_with_mut_weighted['DMS_score'].mean()\n",
    "        if not pd.isna(mean_with_mut):\n",
    "            weighted_mean_mut += mean_with_mut * mean_fitness_score\n",
    "            total_weight_mut += mean_fitness_score\n",
    "\n",
    "    if not only_rows_without_mut_weighted.empty:\n",
    "        mean_without_mut = only_rows_without_mut_weighted['DMS_score'].mean()\n",
    "        if not pd.isna(mean_without_mut):\n",
    "            weighted_mean_no_mut += mean_without_mut * mean_fitness_score\n",
    "            total_weight_no_mut += mean_fitness_score\n",
    "\n",
    "\n",
    "# Calculate the final weighted means\n",
    "if total_weight_mut != 0:\n",
    "    weighted_mean_mut /= total_weight_mut\n",
    "\n",
    "if total_weight_no_mut != 0:\n",
    "    weighted_mean_no_mut /= total_weight_no_mut\n",
    "\n",
    "# Calculate the difference of the weighted means for each mutation\n",
    "difference_means_weighted = weighted_mean_mut - weighted_mean_no_mut\n",
    "\n",
    "# Create a DataFrame with the difference of the weighted means for each mutation\n",
    "all_differences_means_weighted = pd.DataFrame({'Difference': difference_means_weighted}, index=all_possible_mutations)\n"
   ],
   "metadata": {
    "collapsed": false,
    "ExecuteTime": {
     "end_time": "2023-07-05T16:40:36.607804Z",
     "start_time": "2023-07-05T16:33:39.477163Z"
    }
   }
  },
  {
   "cell_type": "code",
   "execution_count": 57,
   "outputs": [
    {
     "name": "stdout",
     "output_type": "stream",
     "text": [
      "       Difference\n",
      "S30L          NaN\n",
      "H81Q          NaN\n",
      "N149T         NaN\n",
      "D76N          NaN\n",
      "P54L          NaN\n",
      "...           ...\n",
      "H139L         NaN\n",
      "R96G          NaN\n",
      "D197Y         NaN\n",
      "Y74L          NaN\n",
      "D117G         NaN\n",
      "\n",
      "[1810 rows x 1 columns]\n"
     ]
    }
   ],
   "source": [
    "print(all_differences_means_weighted)"
   ],
   "metadata": {
    "collapsed": false,
    "ExecuteTime": {
     "end_time": "2023-07-05T16:40:36.703488Z",
     "start_time": "2023-07-05T16:40:36.549681Z"
    }
   }
  },
  {
   "cell_type": "markdown",
   "source": [],
   "metadata": {
    "collapsed": false
   }
  },
  {
   "cell_type": "code",
   "execution_count": 39,
   "outputs": [
    {
     "data": {
      "text/plain": "         0\nS30L     2\nH81Q    24\nN149T   24\nD76N   113\nP54L    68\n...    ...\nH139L  263\nR96G    10\nD197Y   30\nY74L     1\nD117G  657\n\n[1810 rows x 1 columns]",
      "text/html": "<div>\n<style scoped>\n    .dataframe tbody tr th:only-of-type {\n        vertical-align: middle;\n    }\n\n    .dataframe tbody tr th {\n        vertical-align: top;\n    }\n\n    .dataframe thead th {\n        text-align: right;\n    }\n</style>\n<table border=\"1\" class=\"dataframe\">\n  <thead>\n    <tr style=\"text-align: right;\">\n      <th></th>\n      <th>0</th>\n    </tr>\n  </thead>\n  <tbody>\n    <tr>\n      <th>S30L</th>\n      <td>2</td>\n    </tr>\n    <tr>\n      <th>H81Q</th>\n      <td>24</td>\n    </tr>\n    <tr>\n      <th>N149T</th>\n      <td>24</td>\n    </tr>\n    <tr>\n      <th>D76N</th>\n      <td>113</td>\n    </tr>\n    <tr>\n      <th>P54L</th>\n      <td>68</td>\n    </tr>\n    <tr>\n      <th>...</th>\n      <td>...</td>\n    </tr>\n    <tr>\n      <th>H139L</th>\n      <td>263</td>\n    </tr>\n    <tr>\n      <th>R96G</th>\n      <td>10</td>\n    </tr>\n    <tr>\n      <th>D197Y</th>\n      <td>30</td>\n    </tr>\n    <tr>\n      <th>Y74L</th>\n      <td>1</td>\n    </tr>\n    <tr>\n      <th>D117G</th>\n      <td>657</td>\n    </tr>\n  </tbody>\n</table>\n<p>1810 rows × 1 columns</p>\n</div>"
     },
     "execution_count": 39,
     "metadata": {},
     "output_type": "execute_result"
    }
   ],
   "source": [
    "#VORBEREITUNG copy&paste\n",
    "list_wie_oft_mut = []\n",
    "for j in all_possible_mutations:\n",
    "    matching_indexes = result_how_often.loc[result_how_often[j] == True].index\n",
    "    wie_oft = len(matching_indexes)\n",
    "    list_wie_oft_mut.append(wie_oft)\n",
    "df_wie_oft_muts_insg = pd.DataFrame(list_wie_oft_mut, index=all_possible_mutations)\n",
    "df_wie_oft_muts_insg"
   ],
   "metadata": {
    "collapsed": false,
    "ExecuteTime": {
     "end_time": "2023-07-05T15:57:33.283521Z",
     "start_time": "2023-07-05T15:56:54.304499Z"
    }
   }
  },
  {
   "cell_type": "code",
   "execution_count": 42,
   "outputs": [],
   "source": [
    "#VORBEREITUNG copy&paste\n",
    "#code für ranking aus anderem dokument aber mit den sachen von oben berücksichtigt, alle destab raus\n",
    "combined_differenz_wie_oft_mut_weighted= pd.concat([all_differences_means_weighted, df_wie_oft_muts_insg], axis=1)\n",
    "combined_differenz_wie_oft_mut_weighted.columns = ['Difference_weighted', 'wie oft kommt mut insg vor']\n"
   ],
   "metadata": {
    "collapsed": false,
    "ExecuteTime": {
     "end_time": "2023-07-05T15:57:50.201603Z",
     "start_time": "2023-07-05T15:57:44.871626Z"
    }
   }
  },
  {
   "cell_type": "code",
   "execution_count": 43,
   "outputs": [
    {
     "data": {
      "text/plain": "       Difference_weighted  wie oft kommt mut insg vor\nS30L                   NaN                           2\nH81Q                   NaN                          24\nN149T                  NaN                          24\nD76N                   NaN                         113\nP54L                   NaN                          68\n...                    ...                         ...\nH139L                  NaN                         263\nR96G                   NaN                          10\nD197Y                  NaN                          30\nY74L                   NaN                           1\nD117G                  NaN                         657\n\n[1810 rows x 2 columns]",
      "text/html": "<div>\n<style scoped>\n    .dataframe tbody tr th:only-of-type {\n        vertical-align: middle;\n    }\n\n    .dataframe tbody tr th {\n        vertical-align: top;\n    }\n\n    .dataframe thead th {\n        text-align: right;\n    }\n</style>\n<table border=\"1\" class=\"dataframe\">\n  <thead>\n    <tr style=\"text-align: right;\">\n      <th></th>\n      <th>Difference_weighted</th>\n      <th>wie oft kommt mut insg vor</th>\n    </tr>\n  </thead>\n  <tbody>\n    <tr>\n      <th>S30L</th>\n      <td>NaN</td>\n      <td>2</td>\n    </tr>\n    <tr>\n      <th>H81Q</th>\n      <td>NaN</td>\n      <td>24</td>\n    </tr>\n    <tr>\n      <th>N149T</th>\n      <td>NaN</td>\n      <td>24</td>\n    </tr>\n    <tr>\n      <th>D76N</th>\n      <td>NaN</td>\n      <td>113</td>\n    </tr>\n    <tr>\n      <th>P54L</th>\n      <td>NaN</td>\n      <td>68</td>\n    </tr>\n    <tr>\n      <th>...</th>\n      <td>...</td>\n      <td>...</td>\n    </tr>\n    <tr>\n      <th>H139L</th>\n      <td>NaN</td>\n      <td>263</td>\n    </tr>\n    <tr>\n      <th>R96G</th>\n      <td>NaN</td>\n      <td>10</td>\n    </tr>\n    <tr>\n      <th>D197Y</th>\n      <td>NaN</td>\n      <td>30</td>\n    </tr>\n    <tr>\n      <th>Y74L</th>\n      <td>NaN</td>\n      <td>1</td>\n    </tr>\n    <tr>\n      <th>D117G</th>\n      <td>NaN</td>\n      <td>657</td>\n    </tr>\n  </tbody>\n</table>\n<p>1810 rows × 2 columns</p>\n</div>"
     },
     "execution_count": 43,
     "metadata": {},
     "output_type": "execute_result"
    }
   ],
   "source": [
    "ranking2_weighted = combined_differenz_wie_oft_mut_weighted.sort_values(by='Difference_weighted', ascending= False)\n",
    "ranking2_weighted"
   ],
   "metadata": {
    "collapsed": false,
    "ExecuteTime": {
     "end_time": "2023-07-05T15:57:50.781383Z",
     "start_time": "2023-07-05T15:57:49.869799Z"
    }
   }
  },
  {
   "cell_type": "code",
   "execution_count": 44,
   "outputs": [
    {
     "name": "stderr",
     "output_type": "stream",
     "text": [
      "/var/folders/sk/q8h0c3zs1v9dt93y5m134swr0000gn/T/ipykernel_75549/2341232914.py:13: FutureWarning: this method is deprecated in favour of `Styler.to_html()`\n",
      "  file.write(styled_ranking2_weighted.render())\n"
     ]
    }
   ],
   "source": [
    "TOP_MUTANTS = ['V163A', 'K166Q', 'V68M', 'E172A', 'A206V', 'T43N', 'H25Q', 'S205T', 'E6K', 'T62S', 'I171V', 'T203I', 'Y39N', 'E111V', 'E32A']\n",
    "\n",
    "# Funktion zum Formatieren der Zeilen und Hervorheben der Werte in TOP_MUTANTS\n",
    "def highlight_top_mutants(row):\n",
    "    color = 'red' if row.name in TOP_MUTANTS else 'black'\n",
    "    return ['color: {}'.format(color)] * len(row)\n",
    "\n",
    "# Anwendung der Formatierungsfunktion auf das gesamte DataFrame\n",
    "styled_ranking2_weighted= ranking2_weighted.style.apply(highlight_top_mutants, axis=1)\n",
    "\n",
    "# Den formatierten DataFrame als HTML-Datei speichern\n",
    "with open('formatted_ranking2_weighted.html', 'w') as file:\n",
    "    file.write(styled_ranking2_weighted.render())"
   ],
   "metadata": {
    "collapsed": false,
    "ExecuteTime": {
     "end_time": "2023-07-05T15:57:52.176673Z",
     "start_time": "2023-07-05T15:57:51.320949Z"
    }
   }
  },
  {
   "cell_type": "markdown",
   "source": [
    "\n",
    "\n",
    "\n",
    "\n",
    "----------------RANKING 3: nach Differenz gewichtet nach Anzahl"
   ],
   "metadata": {
    "collapsed": false
   }
  },
  {
   "cell_type": "code",
   "execution_count": 47,
   "outputs": [
    {
     "name": "stdout",
     "output_type": "stream",
     "text": [
      "       ranking3_score_weighted\n",
      "S30L                       NaN\n",
      "H81Q                       NaN\n",
      "N149T                      NaN\n",
      "D76N                       NaN\n",
      "P54L                       NaN\n",
      "...                        ...\n",
      "H139L                      NaN\n",
      "R96G                       NaN\n",
      "D197Y                      NaN\n",
      "Y74L                       NaN\n",
      "D117G                      NaN\n",
      "\n",
      "[1810 rows x 1 columns]\n"
     ]
    }
   ],
   "source": [
    "list_ranking3_weighted = []\n",
    "for i in all_possible_mutations:\n",
    "    score_ranking3_weighted = all_differences_means_weighted.loc[i].values[0] * df_wie_oft_muts_insg.loc[i].values[0]\n",
    "    list_ranking3_weighted.append(score_ranking3_weighted)\n",
    "\n",
    "ranking3_unsorted_weighted = pd.DataFrame(list_ranking3_weighted, index=all_possible_mutations, columns=['ranking3_score_weighted'])\n",
    "ranking3_weighted = ranking3_unsorted_weighted.sort_values(by='ranking3_score_weighted', ascending= False)\n",
    "print(ranking3_weighted)"
   ],
   "metadata": {
    "collapsed": false,
    "ExecuteTime": {
     "end_time": "2023-07-05T16:02:17.111867Z",
     "start_time": "2023-07-05T16:02:15.874263Z"
    }
   }
  },
  {
   "cell_type": "code",
   "execution_count": 48,
   "outputs": [
    {
     "name": "stderr",
     "output_type": "stream",
     "text": [
      "/var/folders/sk/q8h0c3zs1v9dt93y5m134swr0000gn/T/ipykernel_75549/2776464519.py:13: FutureWarning: this method is deprecated in favour of `Styler.to_html()`\n",
      "  file.write(styled_ranking3_weighted.render())\n"
     ]
    }
   ],
   "source": [
    "TOP_MUTANTS = ['V163A', 'K166Q', 'V68M', 'E172A', 'A206V', 'T43N', 'H25Q', 'S205T', 'E6K', 'T62S', 'I171V', 'T203I', 'Y39N', 'E111V', 'E32A']\n",
    "\n",
    "# Funktion zum Formatieren der Zeilen und Hervorheben der Werte in TOP_MUTANTS\n",
    "def highlight_top_mutants(row):\n",
    "    color = 'red' if row.name in TOP_MUTANTS else 'black'\n",
    "    return ['color: {}'.format(color)] * len(row)\n",
    "\n",
    "# Anwendung der Formatierungsfunktion auf das gesamte DataFrame\n",
    "styled_ranking3_weighted= ranking3_weighted.style.apply(highlight_top_mutants, axis=1)\n",
    "\n",
    "# Den formatierten DataFrame als HTML-Datei speichern\n",
    "with open('formatted_ranking3_weighted.html', 'w') as file:\n",
    "    file.write(styled_ranking3_weighted.render())\n"
   ],
   "metadata": {
    "collapsed": false,
    "ExecuteTime": {
     "end_time": "2023-07-05T16:02:31.712327Z",
     "start_time": "2023-07-05T16:02:30.232651Z"
    }
   }
  },
  {
   "cell_type": "markdown",
   "source": [
    "\n",
    "\n",
    "\n",
    "\n",
    "----------------RANKING 4: nach eigenem score1:\n",
    "-> score1 = Differenz * 1/Varianz * Anzahl muts"
   ],
   "metadata": {
    "collapsed": false
   }
  },
  {
   "cell_type": "code",
   "execution_count": 49,
   "outputs": [
    {
     "name": "stdout",
     "output_type": "stream",
     "text": [
      "       ranking4_score_weighted \n",
      "S30L                        NaN\n",
      "H81Q                        NaN\n",
      "N149T                       NaN\n",
      "D76N                        NaN\n",
      "P54L                        NaN\n",
      "...                         ...\n",
      "H139L                       NaN\n",
      "R96G                        NaN\n",
      "D197Y                       NaN\n",
      "Y74L                        NaN\n",
      "D117G                       NaN\n",
      "\n",
      "[1810 rows x 1 columns]\n"
     ]
    },
    {
     "name": "stderr",
     "output_type": "stream",
     "text": [
      "/var/folders/sk/q8h0c3zs1v9dt93y5m134swr0000gn/T/ipykernel_75549/3655268690.py:3: RuntimeWarning: divide by zero encountered in double_scalars\n",
      "  score_ranking4_weighted = all_differences_means_weighted .loc[i].values[0] * df_wie_oft_muts_insg.loc[i].values[0] * (1/weighted_mean_per_mutant_df.loc[i].values[0])\n"
     ]
    }
   ],
   "source": [
    "list_ranking4_weighted  = []\n",
    "for i in all_possible_mutations:\n",
    "    score_ranking4_weighted = all_differences_means_weighted .loc[i].values[0] * df_wie_oft_muts_insg.loc[i].values[0] * (1/weighted_mean_per_mutant_df.loc[i].values[0])\n",
    "    list_ranking4_weighted .append(score_ranking4_weighted )\n",
    "ranking4_unsorted_weighted  = pd.DataFrame(list_ranking4_weighted , index=all_possible_mutations, columns=['ranking4_score_weighted '])\n",
    "ranking4_weighted  = ranking4_unsorted_weighted .sort_values(by='ranking4_score_weighted ', ascending= False)\n",
    "print(ranking4_weighted )"
   ],
   "metadata": {
    "collapsed": false,
    "ExecuteTime": {
     "end_time": "2023-07-05T16:04:35.645440Z",
     "start_time": "2023-07-05T16:04:35.185149Z"
    }
   }
  },
  {
   "cell_type": "code",
   "execution_count": 50,
   "outputs": [
    {
     "name": "stderr",
     "output_type": "stream",
     "text": [
      "/var/folders/sk/q8h0c3zs1v9dt93y5m134swr0000gn/T/ipykernel_75549/2629972560.py:13: FutureWarning: this method is deprecated in favour of `Styler.to_html()`\n",
      "  file.write(styled_ranking4_weighted .render())\n"
     ]
    }
   ],
   "source": [
    "TOP_MUTANTS = ['V163A', 'K166Q', 'V68M', 'E172A', 'A206V', 'T43N', 'H25Q', 'S205T', 'E6K', 'T62S', 'I171V', 'T203I', 'Y39N', 'E111V', 'E32A']\n",
    "\n",
    "# Funktion zum Formatieren der Zeilen und Hervorheben der Werte in TOP_MUTANTS\n",
    "def highlight_top_mutants(row):\n",
    "    color = 'red' if row.name in TOP_MUTANTS else 'black'\n",
    "    return ['color: {}'.format(color)] * len(row)\n",
    "\n",
    "# Anwendung der Formatierungsfunktion auf das gesamte DataFrame\n",
    "styled_ranking4_weighted = ranking4_weighted .style.apply(highlight_top_mutants, axis=1)\n",
    "\n",
    "# Den formatierten DataFrame als HTML-Datei speichern\n",
    "with open('formatted_ranking4_weighted .html', 'w') as file:\n",
    "    file.write(styled_ranking4_weighted .render())\n"
   ],
   "metadata": {
    "collapsed": false,
    "ExecuteTime": {
     "end_time": "2023-07-05T16:05:02.768286Z",
     "start_time": "2023-07-05T16:05:00.507513Z"
    }
   }
  },
  {
   "cell_type": "markdown",
   "source": [
    "\n",
    "\n",
    "\n",
    "\n",
    "----------------RANKING 5: nach eigenem score2 :\n",
    "-> score2 = Differenz * aggregierte Varianz\n",
    "-> Varianz: gewichten mit mutcount (aggregierte Varianz)\n",
    "(Summe aller Varianzen*1/Anzahl muts)/(Gesamtzahl Mutationen)"
   ],
   "metadata": {
    "collapsed": false
   }
  },
  {
   "cell_type": "code",
   "execution_count": 51,
   "outputs": [
    {
     "name": "stdout",
     "output_type": "stream",
     "text": [
      "       ranking5_score_weighted \n",
      "S30L                        NaN\n",
      "H81Q                        NaN\n",
      "N149T                       NaN\n",
      "D76N                        NaN\n",
      "P54L                        NaN\n",
      "...                         ...\n",
      "H139L                       NaN\n",
      "R96G                        NaN\n",
      "D197Y                       NaN\n",
      "Y74L                        NaN\n",
      "D117G                       NaN\n",
      "\n",
      "[1810 rows x 1 columns]\n"
     ]
    }
   ],
   "source": [
    "list_ranking5_weighted  = []\n",
    "for i in all_possible_mutations:\n",
    "\n",
    "    score_ranking5_weighted  = (all_differences_means_weighted .loc[i].values[0] * df_wie_oft_muts_insg.loc[i].values[0]* 51714) / np.sum(weighted_mean_per_mutant_df.loc[i].values)\n",
    "    list_ranking5_weighted .append(score_ranking5_weighted )\n",
    "ranking5_unsorted_weighted  = pd.DataFrame(list_ranking5_weighted , index=all_possible_mutations, columns=['ranking5_score_weighted '])\n",
    "ranking5_weighted  = ranking5_unsorted_weighted .sort_values(by='ranking5_score_weighted ', ascending= False)\n",
    "print(ranking5_weighted )"
   ],
   "metadata": {
    "collapsed": false,
    "ExecuteTime": {
     "end_time": "2023-07-05T16:07:02.880296Z",
     "start_time": "2023-07-05T16:07:02.361260Z"
    }
   }
  },
  {
   "cell_type": "code",
   "execution_count": 52,
   "outputs": [
    {
     "name": "stderr",
     "output_type": "stream",
     "text": [
      "/var/folders/sk/q8h0c3zs1v9dt93y5m134swr0000gn/T/ipykernel_75549/2059744487.py:13: FutureWarning: this method is deprecated in favour of `Styler.to_html()`\n",
      "  file.write(styled_ranking5_weighted.render())\n"
     ]
    }
   ],
   "source": [
    "TOP_MUTANTS = ['V163A', 'K166Q', 'V68M', 'E172A', 'A206V', 'T43N', 'H25Q', 'S205T', 'E6K', 'T62S', 'I171V', 'T203I', 'Y39N', 'E111V', 'E32A']\n",
    "\n",
    "# Funktion zum Formatieren der Zeilen und Hervorheben der Werte in TOP_MUTANTS\n",
    "def highlight_top_mutants(row):\n",
    "    color = 'red' if row.name in TOP_MUTANTS else 'black'\n",
    "    return ['color: {}'.format(color)] * len(row)\n",
    "\n",
    "# Anwendung der Formatierungsfunktion auf das gesamte DataFrame\n",
    "styled_ranking5_weighted= ranking5_weighted.style.apply(highlight_top_mutants, axis=1)\n",
    "\n",
    "# Den formatierten DataFrame als HTML-Datei speichern\n",
    "with open('formatted_ranking5_weighted.html', 'w') as file:\n",
    "    file.write(styled_ranking5_weighted.render())\n"
   ],
   "metadata": {
    "collapsed": false,
    "ExecuteTime": {
     "end_time": "2023-07-05T16:08:15.553648Z",
     "start_time": "2023-07-05T16:08:14.145067Z"
    }
   }
  },
  {
   "cell_type": "markdown",
   "source": [
    "\n",
    "\n",
    "\n",
    "\n",
    "\n",
    "RANKING 6:\n"
   ],
   "metadata": {
    "collapsed": false
   }
  },
  {
   "cell_type": "code",
   "execution_count": null,
   "outputs": [],
   "source": [
    "delta_G_data = pd.read_csv('/Users/liza/Downloads/df_ddG.csv')"
   ],
   "metadata": {
    "collapsed": false
   }
  },
  {
   "cell_type": "code",
   "execution_count": null,
   "outputs": [],
   "source": [
    "count_fscore_frame['delta G'] = delta_G_data['Score']\n",
    "print(count_fscore_frame)"
   ],
   "metadata": {
    "collapsed": false
   }
  },
  {
   "cell_type": "code",
   "execution_count": null,
   "outputs": [],
   "source": [
    "a = delta_G_data[49343]"
   ],
   "metadata": {
    "collapsed": false
   }
  },
  {
   "cell_type": "code",
   "execution_count": null,
   "outputs": [],
   "source": [
    "\n",
    "differences_delta_G_list = []\n",
    "\n",
    "for i in all_possible_mutations:\n",
    "    index_when_mut_present = result_how_often.loc[result_how_often[i] == True].index\n",
    "\n",
    "    only_rows_with_mut = count_fscore_frame[(count_fscore_frame['mut_count'] >2) & (count_fscore_frame .index.isin(index_when_mut_present))]\n",
    "\n",
    "# Calculate the mean of DMS_score for the filtered rows\n",
    "    mean_delta_G_only_mut = only_rows_with_mut['delta G'].mean()\n",
    "#-------------\n",
    "    index_when_not_mut_present = result_how_often.loc[result_how_often[i] == False].index\n",
    "\n",
    "    only_rows_withOUT_mut = count_fscore_frame[(count_fscore_frame['mut_count'] >2) & (count_fscore_frame.index.isin(index_when_not_mut_present))]\n",
    "\n",
    "# Calculate the mean of DMS_score for the filtered rows\n",
    "    mean_delta_G_every_but_mut = only_rows_withOUT_mut['delta G'].mean()\n",
    "#----------------\n",
    "    difference_means_delta_G = mean_delta_G_every_but_mut - mean_delta_G_only_mut\n",
    "    differences_delta_G_list.append(difference_means_delta_G)\n",
    "\n",
    "all_differences_delta_G_means = pd.DataFrame({'Difference dG': differences_delta_G_list}, index=all_possible_mutations)\n",
    "\n",
    "#je niedriger dG desto stabiler ist Protein\n",
    "#Difference \"ohne - mit\": kleiner besser, wenn mit besser ist als ohne ist difference positiv"
   ],
   "metadata": {
    "collapsed": false
   }
  },
  {
   "cell_type": "code",
   "execution_count": null,
   "outputs": [],
   "source": [
    "#VORBEREITUNG copy&paste\n",
    "#code für ranking aus anderem dokument aber mit den sachen von oben berücksichtigt, alle destab raus\n",
    "combined_difference_dG_wie_oft_mut = pd.concat([all_differences_delta_G_means, df_wie_oft_muts_insg], axis=1)\n",
    "combined_difference_dG_wie_oft_mut.columns = ['Difference dG', 'wie oft kommt mut insg vor']\n",
    "\n",
    "ranking6 = combined_difference_dG_wie_oft_mut.sort_values(by='Difference dG', ascending=False)\n",
    "\n",
    "ranking6 = ranking6.drop(ranking6[~(ranking6['wie oft kommt mut insg vor'] >= 20)].index)\n",
    "\n",
    "print(ranking6)"
   ],
   "metadata": {
    "collapsed": false
   }
  },
  {
   "cell_type": "code",
   "execution_count": null,
   "outputs": [],
   "source": [
    "TOP_MUTANTS = ['V163A', 'K166Q', 'V68M', 'E172A', 'A206V', 'T43N', 'H25Q', 'S205T', 'E6K', 'T62S', 'I171V', 'T203I', 'Y39N', 'E111V', 'E32A']\n",
    "\n",
    "# Funktion zum Formatieren der Zeilen und Hervorheben der Werte in TOP_MUTANTS\n",
    "def highlight_top_mutants(row):\n",
    "    color = 'red' if row.name in TOP_MUTANTS else 'black'\n",
    "    return ['color: {}'.format(color)] * len(row)\n",
    "\n",
    "# Anwendung der Formatierungsfunktion auf das gesamte DataFrame\n",
    "styled_ranking6= ranking6.style.apply(highlight_top_mutants, axis=1)\n",
    "\n",
    "# Den formatierten DataFrame als HTML-Datei speichern\n",
    "with open('formatted_ranking6.html', 'w') as file:\n",
    "    file.write(styled_ranking6.render())"
   ],
   "metadata": {
    "collapsed": false
   }
  },
  {
   "cell_type": "markdown",
   "source": [
    "\n",
    "\n",
    "RANKING 7:\n",
    "-> delta G Differenzwerte mit Ranking 5 verrechnet"
   ],
   "metadata": {
    "collapsed": false
   }
  },
  {
   "cell_type": "code",
   "execution_count": null,
   "outputs": [],
   "source": [
    "list_ranking7 = []\n",
    "for i in all_possible_mutations:\n",
    "\n",
    "    score_ranking7 = (all_differences_means.loc[i].values[0] * df_wie_oft_muts_insg.loc[i].values[0]* 51714) / (np.sum(variance_per_mutant_count_df.loc[i].values) * all_differences_delta_G_means.loc[i].values[0])\n",
    "    list_ranking7.append(score_ranking7)\n",
    "ranking7_unsorted = pd.DataFrame(list_ranking7, index=all_possible_mutations, columns=['ranking7_score'])\n",
    "ranking7 = ranking7_unsorted.sort_values(by='ranking7_score', ascending= False)\n",
    "print(ranking7)"
   ],
   "metadata": {
    "collapsed": false
   }
  },
  {
   "cell_type": "code",
   "execution_count": null,
   "outputs": [],
   "source": [
    "TOP_MUTANTS = ['V163A', 'K166Q', 'V68M', 'E172A', 'A206V', 'T43N', 'H25Q', 'S205T', 'E6K', 'T62S', 'I171V', 'T203I', 'Y39N', 'E111V', 'E32A']\n",
    "\n",
    "# Funktion zum Formatieren der Zeilen und Hervorheben der Werte in TOP_MUTANTS\n",
    "def highlight_top_mutants(row):\n",
    "    color = 'red' if row.name in TOP_MUTANTS else 'black'\n",
    "    return ['color: {}'.format(color)] * len(row)\n",
    "\n",
    "# Anwendung der Formatierungsfunktion auf das gesamte DataFrame\n",
    "styled_ranking7= ranking7.style.apply(highlight_top_mutants, axis=1)\n",
    "\n",
    "# Den formatierten DataFrame als HTML-Datei speichern\n",
    "with open('formatted_ranking7.html', 'w') as file:\n",
    "    file.write(styled_ranking7.render())"
   ],
   "metadata": {
    "collapsed": false
   }
  },
  {
   "cell_type": "code",
   "execution_count": null,
   "outputs": [],
   "source": [
    "from scipy.stats import spearmanr\n",
    "from itertools import combinations\n",
    "\n",
    "desired_length = 10\n",
    "rankings = [ranking3, ranking5]\n",
    "\n",
    "def calculate_spearman_correlation(rank1, rank2):\n",
    "    # Convert DataFrame indexes to lists\n",
    "    rank1 = rank1.index.tolist()\n",
    "    rank2 = rank2.index.tolist()\n",
    "\n",
    "    # Calculate Spearman's correlation coefficient\n",
    "    correlation, p_value = spearmanr(rank1, rank2)\n",
    "\n",
    "    return correlation, p_value\n",
    "\n",
    "# Calculate Spearman's correlation for every combination of rankings\n",
    "##for combo in combinations(rankings, 2):\n",
    "    ##rank1, rank2 = combo[0].head(desired_length), combo[1].head(desired_length)\n",
    "    correlation, p_value = calculate_spearman_correlation(rank1, rank2)\n",
    "    print(\"Spearman's correlation coefficient:\", correlation)\n",
    "    print(\"p-value:\", p_value)\n",
    "    print()\n"
   ],
   "metadata": {
    "collapsed": false
   }
  },
  {
   "cell_type": "markdown",
   "source": [
    "------------------TOPS untersuchen------------"
   ],
   "metadata": {
    "collapsed": false
   }
  },
  {
   "cell_type": "code",
   "execution_count": null,
   "outputs": [],
   "source": [
    "ranking5.head()"
   ],
   "metadata": {
    "collapsed": false
   }
  },
  {
   "cell_type": "code",
   "execution_count": null,
   "outputs": [],
   "source": [],
   "metadata": {
    "collapsed": false
   }
  }
 ],
 "metadata": {
  "kernelspec": {
   "display_name": "Python 3",
   "language": "python",
   "name": "python3"
  },
  "language_info": {
   "codemirror_mode": {
    "name": "ipython",
    "version": 2
   },
   "file_extension": ".py",
   "mimetype": "text/x-python",
   "name": "python",
   "nbconvert_exporter": "python",
   "pygments_lexer": "ipython2",
   "version": "2.7.6"
  }
 },
 "nbformat": 4,
 "nbformat_minor": 0
}
