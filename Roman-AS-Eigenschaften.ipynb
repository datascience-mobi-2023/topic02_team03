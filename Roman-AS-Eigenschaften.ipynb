{
 "cells": [
  {
   "cell_type": "code",
   "execution_count": 1,
   "outputs": [
    {
     "name": "stdout",
     "output_type": "stream",
     "text": [
      "              Name Abbr Letter  Molecular Weight Molecular Formula  \\\n",
      "0          Alanine  Ala      A             89.10           C3H7NO2   \n",
      "1         Cysteine  Cys      C            121.16          C3H7NO2S   \n",
      "2    Aspartic acid  Asp      D            133.11           C4H7NO4   \n",
      "3    Glutamic acid  Glu      E            147.13           C5H9NO4   \n",
      "4    Phenylalanine  Phe      F            165.19          C9H11NO2   \n",
      "5          Glycine  Gly      G             75.07           C2H5NO2   \n",
      "6        Histidine  His      H            155.16          C6H9N3O2   \n",
      "7       Isoleucine  Ile      I            131.18          C6H13NO2   \n",
      "8           Lysine  Lys      K            146.19         C6H14N2O2   \n",
      "9          Leucine  Leu      L            131.18          C6H13NO2   \n",
      "10      Methionine  Met      M            149.21         C5H11NO2S   \n",
      "11      Asparagine  Asn      N            132.12          C4H8N2O3   \n",
      "12  Hydroxyproline  Hyp      O            131.13           C5H9NO3   \n",
      "13         Proline  Pro      P            115.13           C5H9NO2   \n",
      "14       Glutamine  Gln      Q            146.15         C5H10N2O3   \n",
      "15        Arginine  Arg      R            174.20         C6H14N4O2   \n",
      "16          Serine  Ser      S            105.09           C3H7NO3   \n",
      "17       Threonine  Thr      T            119.12           C4H9NO3   \n",
      "18  Pyroglutamatic  Glp      U            139.11           C5H7NO3   \n",
      "19          Valine  Val      V            117.15          C5H11NO2   \n",
      "20      Tryptophan  Trp      W            204.23        C11H12N2O2   \n",
      "21        Tyrosine  Tyr      Y            181.19          C9H11NO3   \n",
      "\n",
      "   Residue Formula  Residue Weight  pKa1   pKb2   pKx3  ...    VSC    P1  \\\n",
      "0           C3H5NO           71.08  2.34   9.69    NaN  ...   27.5   8.1   \n",
      "1          C3H5NOS          103.15  1.96  10.28   8.18  ...   44.6   5.5   \n",
      "2          C4H5NO3          115.09  1.88   9.60   3.65  ...   40.0  13.0   \n",
      "3          C5H7NO3          129.12  2.19   9.67   4.25  ...   62.0  12.3   \n",
      "4           C9H9NO          147.18  1.83   9.13    NaN  ...  115.5   5.2   \n",
      "5           C2H3NO           57.05  2.34   9.60    NaN  ...    0.0   9.0   \n",
      "6          C6H7N3O          137.14  1.82   9.17   6.00  ...   79.0  10.4   \n",
      "7          C6H11NO          113.16  2.36   9.60    NaN  ...   93.5   5.2   \n",
      "8         C6H12N2O          128.18  2.18   8.95  10.53  ...  100.0  11.3   \n",
      "9          C6H11NO          113.16  2.36   9.60    NaN  ...   93.5   4.9   \n",
      "10         C5H9NOS          131.20  2.28   9.21    NaN  ...   94.1   5.7   \n",
      "11        C4H6N2O2          114.11  2.02   8.80    NaN  ...   58.7  11.6   \n",
      "12         C5H7NO2          113.11  1.82   9.65    NaN  ...    NaN   NaN   \n",
      "13          C5H7NO           97.12  1.99  10.60    NaN  ...   41.9   8.0   \n",
      "14        C5H8N2O2          128.13  2.17   9.13    NaN  ...   80.7  10.5   \n",
      "15        C6H12N4O          156.19  2.17   9.04  12.48  ...  105.0  10.5   \n",
      "16         C3H5NO2           87.08  2.21   9.15    NaN  ...   29.3   9.2   \n",
      "17         C4H7NO2          101.11  2.09   9.10    NaN  ...   51.3   8.6   \n",
      "18         C5H5NO2          121.09   NaN    NaN    NaN  ...    NaN   NaN   \n",
      "19          C5H9NO           99.13  2.32   9.62    NaN  ...   71.5   5.9   \n",
      "20       C11H10N2O          186.22  2.83   9.39    NaN  ...  145.5   5.4   \n",
      "21         C9H9NO2          163.18  2.20   9.11  10.07  ...  117.3   6.2   \n",
      "\n",
      "       P2   SASA     NCISC  carbon  hydrogen  nitrogen  oxygen  sulfur  \n",
      "0   0.046  1.181  0.007187       3         7         1       2       0  \n",
      "1   0.128  1.461 -0.036610       3         7         1       2       1  \n",
      "2   0.105  1.587 -0.023820       4         7         1       4       0  \n",
      "3   0.151  1.862  0.006802       5         9         1       4       0  \n",
      "4   0.290  2.228  0.037552       9        11         1       2       0  \n",
      "5   0.000  0.881  0.179052       2         5         1       2       0  \n",
      "6   0.230  2.025 -0.010690       6         9         3       2       0  \n",
      "7   0.186  1.810  0.021631       6        13         1       2       0  \n",
      "8   0.219  2.258  0.017708       6        14         2       2       0  \n",
      "9   0.186  1.931  0.051672       6        13         1       2       0  \n",
      "10  0.221  2.034  0.002683       5        11         1       2       1  \n",
      "11  0.134  1.655  0.005392       4         8         2       3       0  \n",
      "12    NaN    NaN       NaN       5         9         1       3       0  \n",
      "13  0.131  1.468  0.239531       5         9         1       2       0  \n",
      "14  0.180  1.932  0.049211       5        10         2       3       0  \n",
      "15  0.291  2.560  0.043587       6        14         4       2       0  \n",
      "16  0.062  1.298  0.004627       3         7         1       3       0  \n",
      "17  0.108  1.525  0.003352       4         9         1       3       0  \n",
      "18    NaN    NaN       NaN       5         7         1       3       0  \n",
      "19  0.140  1.645  0.057004       5        11         1       2       0  \n",
      "20  0.409  2.663  0.037977      11        12         2       2       0  \n",
      "21  0.298  2.368  0.023599       9        11         1       3       0  \n",
      "\n",
      "[22 rows x 22 columns]\n"
     ]
    }
   ],
   "source": [
    "# Datensatz einlesen\n",
    "import numpy as np\n",
    "import pandas as pd\n",
    "import csv\n",
    "ASE_datei = pd.read_csv(r\"C:\\Users\\roman\\Desktop\\AS Eigenschaften\\aminoacids.csv\")\n",
    "print(ASE_datei)\n",
    "#Name: name of the amino acid.\n",
    "#Abbr: abbreviation of the amino acid.\n",
    "#Letter: letter of the amino acid.\n",
    "# Molecular Weight: molecular weight.\n",
    "# Molecular Formula: molecular formula.\n",
    "# Residue Formula: residue formula.\n",
    "# Residue Weight: residue weight (-H20)\n",
    "# pKa1: the negative of the logarithm of the dissociation constant for the -COOH group.\n",
    "# pKb2: the negative of the logarithm of the dissociation constant for the -NH3 group.\n",
    "# pKx3: the negative of the logarithm of the dissociation constant for any other group in the molecule.\n",
    "# pl4: the pH at the isoelectric point.\n",
    "# H: hydrophobicity.\n",
    "# VSC: volumes of side chains amino acids.\n",
    "# P1: polarity.\n",
    "# P2: polarizability.\n",
    "# SASA: solvent accesible surface area.\n",
    "# NCISC: net charge of side chains.\n"
   ],
   "metadata": {
    "collapsed": false,
    "ExecuteTime": {
     "end_time": "2023-06-12T11:18:23.769854200Z",
     "start_time": "2023-06-12T11:18:21.581132500Z"
    }
   }
  },
  {
   "cell_type": "code",
   "execution_count": 2,
   "outputs": [
    {
     "name": "stdout",
     "output_type": "stream",
     "text": [
      "   Letter  Molecular Weight  Residue Weight  pKa1   pKb2   pKx3    pl4     H  \\\n",
      "0       A             89.10           71.08  2.34   9.69    NaN   6.00  0.62   \n",
      "1       C            121.16          103.15  1.96  10.28   8.18   5.07  0.29   \n",
      "2       D            133.11          115.09  1.88   9.60   3.65   2.77 -0.90   \n",
      "3       E            147.13          129.12  2.19   9.67   4.25   3.22 -0.74   \n",
      "4       F            165.19          147.18  1.83   9.13    NaN   5.48  1.19   \n",
      "5       G             75.07           57.05  2.34   9.60    NaN   5.97  0.48   \n",
      "6       H            155.16          137.14  1.82   9.17   6.00   7.59 -0.40   \n",
      "7       I            131.18          113.16  2.36   9.60    NaN   6.02  1.38   \n",
      "8       K            146.19          128.18  2.18   8.95  10.53   9.74 -1.50   \n",
      "9       L            131.18          113.16  2.36   9.60    NaN   5.98  1.06   \n",
      "10      M            149.21          131.20  2.28   9.21    NaN   5.74  0.64   \n",
      "11      N            132.12          114.11  2.02   8.80    NaN   5.41 -0.78   \n",
      "12      O            131.13          113.11  1.82   9.65    NaN    NaN   NaN   \n",
      "13      P            115.13           97.12  1.99  10.60    NaN   6.30  0.12   \n",
      "14      Q            146.15          128.13  2.17   9.13    NaN   5.65 -0.85   \n",
      "15      R            174.20          156.19  2.17   9.04  12.48  10.76 -2.53   \n",
      "16      S            105.09           87.08  2.21   9.15    NaN   5.68 -0.18   \n",
      "17      T            119.12          101.11  2.09   9.10    NaN   5.60 -0.05   \n",
      "18      U            139.11          121.09   NaN    NaN    NaN   5.68   NaN   \n",
      "19      V            117.15           99.13  2.32   9.62    NaN   5.96  1.08   \n",
      "20      W            204.23          186.22  2.83   9.39    NaN   5.89  0.81   \n",
      "21      Y            181.19          163.18  2.20   9.11  10.07   5.66  0.26   \n",
      "\n",
      "      VSC    P1     P2   SASA     NCISC  \n",
      "0    27.5   8.1  0.046  1.181  0.007187  \n",
      "1    44.6   5.5  0.128  1.461 -0.036610  \n",
      "2    40.0  13.0  0.105  1.587 -0.023820  \n",
      "3    62.0  12.3  0.151  1.862  0.006802  \n",
      "4   115.5   5.2  0.290  2.228  0.037552  \n",
      "5     0.0   9.0  0.000  0.881  0.179052  \n",
      "6    79.0  10.4  0.230  2.025 -0.010690  \n",
      "7    93.5   5.2  0.186  1.810  0.021631  \n",
      "8   100.0  11.3  0.219  2.258  0.017708  \n",
      "9    93.5   4.9  0.186  1.931  0.051672  \n",
      "10   94.1   5.7  0.221  2.034  0.002683  \n",
      "11   58.7  11.6  0.134  1.655  0.005392  \n",
      "12    NaN   NaN    NaN    NaN       NaN  \n",
      "13   41.9   8.0  0.131  1.468  0.239531  \n",
      "14   80.7  10.5  0.180  1.932  0.049211  \n",
      "15  105.0  10.5  0.291  2.560  0.043587  \n",
      "16   29.3   9.2  0.062  1.298  0.004627  \n",
      "17   51.3   8.6  0.108  1.525  0.003352  \n",
      "18    NaN   NaN    NaN    NaN       NaN  \n",
      "19   71.5   5.9  0.140  1.645  0.057004  \n",
      "20  145.5   5.4  0.409  2.663  0.037977  \n",
      "21  117.3   6.2  0.298  2.368  0.023599  \n"
     ]
    }
   ],
   "source": [
    "# Delete specified columns\n",
    "columns_to_delete = ['Name', 'Abbr', 'Molecular Formula', 'Residue Formula']\n",
    "ASE_datei.drop(columns=columns_to_delete, inplace=True)\n",
    "delete_columns = [\"carbon\", \"hydrogen\", \"nitrogen\", \"oxygen\", \"sulfur\"]\n",
    "ASE_datei.drop(columns=delete_columns, inplace=True)\n",
    "print(ASE_datei)"
   ],
   "metadata": {
    "collapsed": false,
    "ExecuteTime": {
     "end_time": "2023-06-12T11:18:32.828433700Z",
     "start_time": "2023-06-12T11:18:32.797297100Z"
    }
   }
  },
  {
   "cell_type": "code",
   "execution_count": 14,
   "outputs": [
    {
     "name": "stdout",
     "output_type": "stream",
     "text": [
      "   Letter  Molecular Weight  Residue Weight  pKa1   pKb2   pKx3    pl4     H  \\\n",
      "0       A             89.10           71.08  2.34   9.69    NaN   6.00  0.62   \n",
      "1       C            121.16          103.15  1.96  10.28   8.18   5.07  0.29   \n",
      "2       D            133.11          115.09  1.88   9.60   3.65   2.77 -0.90   \n",
      "3       E            147.13          129.12  2.19   9.67   4.25   3.22 -0.74   \n",
      "4       F            165.19          147.18  1.83   9.13    NaN   5.48  1.19   \n",
      "5       G             75.07           57.05  2.34   9.60    NaN   5.97  0.48   \n",
      "6       H            155.16          137.14  1.82   9.17   6.00   7.59 -0.40   \n",
      "7       I            131.18          113.16  2.36   9.60    NaN   6.02  1.38   \n",
      "8       K            146.19          128.18  2.18   8.95  10.53   9.74 -1.50   \n",
      "9       L            131.18          113.16  2.36   9.60    NaN   5.98  1.06   \n",
      "10      M            149.21          131.20  2.28   9.21    NaN   5.74  0.64   \n",
      "11      N            132.12          114.11  2.02   8.80    NaN   5.41 -0.78   \n",
      "12      O            131.13          113.11  1.82   9.65    NaN    NaN   NaN   \n",
      "13      P            115.13           97.12  1.99  10.60    NaN   6.30  0.12   \n",
      "14      Q            146.15          128.13  2.17   9.13    NaN   5.65 -0.85   \n",
      "15      R            174.20          156.19  2.17   9.04  12.48  10.76 -2.53   \n",
      "16      S            105.09           87.08  2.21   9.15    NaN   5.68 -0.18   \n",
      "17      T            119.12          101.11  2.09   9.10    NaN   5.60 -0.05   \n",
      "18      U            139.11          121.09   NaN    NaN    NaN   5.68   NaN   \n",
      "19      V            117.15           99.13  2.32   9.62    NaN   5.96  1.08   \n",
      "20      W            204.23          186.22  2.83   9.39    NaN   5.89  0.81   \n",
      "21      Y            181.19          163.18  2.20   9.11  10.07   5.66  0.26   \n",
      "\n",
      "      VSC    P1     P2   SASA     NCISC  \n",
      "0    27.5   8.1  0.046  1.181  0.007187  \n",
      "1    44.6   5.5  0.128  1.461 -0.036610  \n",
      "2    40.0  13.0  0.105  1.587 -0.023820  \n",
      "3    62.0  12.3  0.151  1.862  0.006802  \n",
      "4   115.5   5.2  0.290  2.228  0.037552  \n",
      "5     0.0   9.0  0.000  0.881  0.179052  \n",
      "6    79.0  10.4  0.230  2.025 -0.010690  \n",
      "7    93.5   5.2  0.186  1.810  0.021631  \n",
      "8   100.0  11.3  0.219  2.258  0.017708  \n",
      "9    93.5   4.9  0.186  1.931  0.051672  \n",
      "10   94.1   5.7  0.221  2.034  0.002683  \n",
      "11   58.7  11.6  0.134  1.655  0.005392  \n",
      "12    NaN   NaN    NaN    NaN       NaN  \n",
      "13   41.9   8.0  0.131  1.468  0.239531  \n",
      "14   80.7  10.5  0.180  1.932  0.049211  \n",
      "15  105.0  10.5  0.291  2.560  0.043587  \n",
      "16   29.3   9.2  0.062  1.298  0.004627  \n",
      "17   51.3   8.6  0.108  1.525  0.003352  \n",
      "18    NaN   NaN    NaN    NaN       NaN  \n",
      "19   71.5   5.9  0.140  1.645  0.057004  \n",
      "20  145.5   5.4  0.409  2.663  0.037977  \n",
      "21  117.3   6.2  0.298  2.368  0.023599  \n"
     ]
    }
   ],
   "source": [
    "print(ASE_datei)"
   ],
   "metadata": {
    "collapsed": false,
    "ExecuteTime": {
     "end_time": "2023-06-05T19:50:33.946268300Z",
     "start_time": "2023-06-05T19:50:33.912734500Z"
    }
   }
  },
  {
   "cell_type": "code",
   "execution_count": 18,
   "outputs": [
    {
     "name": "stdout",
     "output_type": "stream",
     "text": [
      "   Letter  Molecular Weight  Residue Weight  pKa1   pKb2   pKx3    pl4     H  \\\n",
      "0       A             89.10           71.08  2.34   9.69    NaN   6.00  0.62   \n",
      "1       C            121.16          103.15  1.96  10.28   8.18   5.07  0.29   \n",
      "2       D            133.11          115.09  1.88   9.60   3.65   2.77 -0.90   \n",
      "3       E            147.13          129.12  2.19   9.67   4.25   3.22 -0.74   \n",
      "4       F            165.19          147.18  1.83   9.13    NaN   5.48  1.19   \n",
      "5       G             75.07           57.05  2.34   9.60    NaN   5.97  0.48   \n",
      "6       H            155.16          137.14  1.82   9.17   6.00   7.59 -0.40   \n",
      "7       I            131.18          113.16  2.36   9.60    NaN   6.02  1.38   \n",
      "8       K            146.19          128.18  2.18   8.95  10.53   9.74 -1.50   \n",
      "9       L            131.18          113.16  2.36   9.60    NaN   5.98  1.06   \n",
      "10      M            149.21          131.20  2.28   9.21    NaN   5.74  0.64   \n",
      "11      N            132.12          114.11  2.02   8.80    NaN   5.41 -0.78   \n",
      "13      P            115.13           97.12  1.99  10.60    NaN   6.30  0.12   \n",
      "14      Q            146.15          128.13  2.17   9.13    NaN   5.65 -0.85   \n",
      "15      R            174.20          156.19  2.17   9.04  12.48  10.76 -2.53   \n",
      "16      S            105.09           87.08  2.21   9.15    NaN   5.68 -0.18   \n",
      "17      T            119.12          101.11  2.09   9.10    NaN   5.60 -0.05   \n",
      "18      U            139.11          121.09   NaN    NaN    NaN   5.68   NaN   \n",
      "19      V            117.15           99.13  2.32   9.62    NaN   5.96  1.08   \n",
      "20      W            204.23          186.22  2.83   9.39    NaN   5.89  0.81   \n",
      "21      Y            181.19          163.18  2.20   9.11  10.07   5.66  0.26   \n",
      "\n",
      "      VSC    P1     P2   SASA     NCISC  \n",
      "0    27.5   8.1  0.046  1.181  0.007187  \n",
      "1    44.6   5.5  0.128  1.461 -0.036610  \n",
      "2    40.0  13.0  0.105  1.587 -0.023820  \n",
      "3    62.0  12.3  0.151  1.862  0.006802  \n",
      "4   115.5   5.2  0.290  2.228  0.037552  \n",
      "5     0.0   9.0  0.000  0.881  0.179052  \n",
      "6    79.0  10.4  0.230  2.025 -0.010690  \n",
      "7    93.5   5.2  0.186  1.810  0.021631  \n",
      "8   100.0  11.3  0.219  2.258  0.017708  \n",
      "9    93.5   4.9  0.186  1.931  0.051672  \n",
      "10   94.1   5.7  0.221  2.034  0.002683  \n",
      "11   58.7  11.6  0.134  1.655  0.005392  \n",
      "13   41.9   8.0  0.131  1.468  0.239531  \n",
      "14   80.7  10.5  0.180  1.932  0.049211  \n",
      "15  105.0  10.5  0.291  2.560  0.043587  \n",
      "16   29.3   9.2  0.062  1.298  0.004627  \n",
      "17   51.3   8.6  0.108  1.525  0.003352  \n",
      "18    NaN   NaN    NaN    NaN       NaN  \n",
      "19   71.5   5.9  0.140  1.645  0.057004  \n",
      "20  145.5   5.4  0.409  2.663  0.037977  \n",
      "21  117.3   6.2  0.298  2.368  0.023599  \n"
     ]
    }
   ],
   "source": [
    "# Delete a row using the drop() function\n",
    "row_index_to_delete = 12\n",
    "ASE_clear = ASE_datei.drop(row_index_to_delete)\n",
    "\n",
    "\n",
    "print(ASE_clear)\n",
    "#Gereinigtes Dataframe"
   ],
   "metadata": {
    "collapsed": false,
    "ExecuteTime": {
     "end_time": "2023-06-12T11:40:41.680049100Z",
     "start_time": "2023-06-12T11:40:41.638262100Z"
    }
   }
  },
  {
   "cell_type": "code",
   "execution_count": 4,
   "outputs": [
    {
     "name": "stderr",
     "output_type": "stream",
     "text": [
      "IOPub data rate exceeded.\n",
      "The notebook server will temporarily stop sending output\n",
      "to the client in order to avoid crashing it.\n",
      "To change this limit, set the config variable\n",
      "`--NotebookApp.iopub_data_rate_limit`.\n",
      "\n",
      "Current values:\n",
      "NotebookApp.iopub_data_rate_limit=1000000.0 (bytes/sec)\n",
      "NotebookApp.rate_limit_window=3.0 (secs)\n",
      "\n"
     ]
    },
    {
     "name": "stdout",
     "output_type": "stream",
     "text": [
      "                                      mutant  \\\n",
      "0      K3R:V55A:Q94R:A110T:D117G:M153K:D216A   \n",
      "1                       K3Q:V16A:I167T:L195Q   \n",
      "2                K3Q:Y143C:N164D:S205P:A227T   \n",
      "3                            K3Q:Y143N:V193A   \n",
      "4                                        K3R   \n",
      "...                                      ...   \n",
      "51709                                  Y237N   \n",
      "51710                                  Y237C   \n",
      "51711                                  Y237D   \n",
      "51712                                  Y237F   \n",
      "51713                                  Y237H   \n",
      "\n",
      "                                        mutated_sequence  DMS_score  \\\n",
      "0      MSRGEELFTGVVPILVELDGDVNGHKFSVSGEGEGDATYGKLTLKF...   1.301030   \n",
      "1      MSQGEELFTGVVPILAELDGDVNGHKFSVSGEGEGDATYGKLTLKF...   3.137350   \n",
      "2      MSQGEELFTGVVPILVELDGDVNGHKFSVSGEGEGDATYGKLTLKF...   1.553913   \n",
      "3      MSQGEELFTGVVPILVELDGDVNGHKFSVSGEGEGDATYGKLTLKF...   3.404237   \n",
      "4      MSRGEELFTGVVPILVELDGDVNGHKFSVSGEGEGDATYGKLTLKF...   3.738586   \n",
      "...                                                  ...        ...   \n",
      "51709  MSKGEELFTGVVPILVELDGDVNGHKFSVSGEGEGDATYGKLTLKF...   3.809468   \n",
      "51710  MSKGEELFTGVVPILVELDGDVNGHKFSVSGEGEGDATYGKLTLKF...   3.760217   \n",
      "51711  MSKGEELFTGVVPILVELDGDVNGHKFSVSGEGEGDATYGKLTLKF...   3.754101   \n",
      "51712  MSKGEELFTGVVPILVELDGDVNGHKFSVSGEGEGDATYGKLTLKF...   3.673173   \n",
      "51713  MSKGEELFTGVVPILVELDGDVNGHKFSVSGEGEGDATYGKLTLKF...   3.735417   \n",
      "\n",
      "       DMS_score_bin  \n",
      "0                  0  \n",
      "1                  1  \n",
      "2                  0  \n",
      "3                  1  \n",
      "4                  1  \n",
      "...              ...  \n",
      "51709              1  \n",
      "51710              1  \n",
      "51711              1  \n",
      "51712              1  \n",
      "51713              1  \n",
      "\n",
      "[51714 rows x 4 columns]\n"
     ]
    }
   ],
   "source": [
    "#Alles importieren\n",
    "import numpy as np\n",
    "import pandas as pd\n",
    "import csv\n",
    "with open(r\"C:\\Users\\roman\\Desktop\\DMS_data\\DMS_data\\GFP_AEQVI_Sarkisyan_2016.csv\") as dms_GFP_datei:\n",
    "    dms_GFP_datei_object = csv.reader(dms_GFP_datei, delimiter=',')\n",
    "    print(dms_GFP_datei_object)\n",
    "    for row in dms_GFP_datei_object:\n",
    "        print(row)\n",
    "original_datei = pd.read_csv(r\"C:\\Users\\roman\\Desktop\\DMS_data\\DMS_data\\GFP_AEQVI_Sarkisyan_2016.csv\")\n",
    "print(original_datei)\n",
    "#Einlesen"
   ],
   "metadata": {
    "collapsed": false,
    "ExecuteTime": {
     "end_time": "2023-06-12T11:18:47.100781300Z",
     "start_time": "2023-06-12T11:18:45.886665500Z"
    }
   }
  },
  {
   "cell_type": "code",
   "execution_count": 5,
   "outputs": [],
   "source": [
    "#Unmutierte Sequenz\n",
    "#MSKGEELFTGVVPILVELDGDVNGHKFSVSGEGEGDATYGKLTLKFICTTGKLPVPWPTLVTTLSYGVQCFSRYPDHMKQHDFFKSAMPEGYVQERTIFFKDDGNYKTRAEVKFEGDTLVNRIELKGIDFKEDGNILGHKLEYNYNSHNVYIMADKQKNGIKVNFKIRHNIEDGSVQLADHYQQNTPIGDGPVLLPDNHYLSTQSALSKDPNEKRDHMVLLEFVTAAGITHGMDELYK"
   ],
   "metadata": {
    "collapsed": false,
    "ExecuteTime": {
     "end_time": "2023-06-12T11:18:53.792418800Z",
     "start_time": "2023-06-12T11:18:53.697050700Z"
    }
   }
  },
  {
   "cell_type": "code",
   "execution_count": 10,
   "outputs": [
    {
     "name": "stdout",
     "output_type": "stream",
     "text": [
      "199\n"
     ]
    }
   ],
   "source": [
    "import pandas as pd\n",
    "\n",
    "# Assuming you have a DataFrame with the amino acid properties\n",
    "properties_df = pd.DataFrame({\n",
    "    'Amino Acid': ['A', 'C', 'D', 'E', 'F', 'G', 'H', 'I', 'K', 'L', 'M', 'N', 'P', 'Q', 'R', 'S', 'T', 'V', 'W', 'Y'],\n",
    "    'Property Value': [1, 2, 3, 4, 5, 6, 7, 8, 9, 10, 11, 12, 13, 14, 15, 16, 17, 18, 19, 20]\n",
    "})\n",
    "\n",
    "# Assuming you have a string with the amino acid sequence\n",
    "sequence = 'AAAAGHIKLMNPQRSTVWY'\n",
    "\n",
    "# Create a dictionary to map amino acids to their property values\n",
    "property_map = properties_df.set_index('Amino Acid')['Property Value'].to_dict()\n",
    "\n",
    "# Calculate the product of property value and quantity for each amino acid in the sequence\n",
    "result = 0\n",
    "for aa in property_map.keys():\n",
    "    quantity = sequence.count(aa)\n",
    "    result += property_map[aa] * quantity\n",
    "\n",
    "# Print the sum of the products\n",
    "print(result)\n"
   ],
   "metadata": {
    "collapsed": false,
    "ExecuteTime": {
     "end_time": "2023-06-12T11:26:36.716226400Z",
     "start_time": "2023-06-12T11:26:36.699337500Z"
    }
   }
  },
  {
   "cell_type": "code",
   "execution_count": 13,
   "outputs": [
    {
     "ename": "KeyError",
     "evalue": "('Letter', 'H')",
     "output_type": "error",
     "traceback": [
      "\u001B[1;31m---------------------------------------------------------------------------\u001B[0m",
      "\u001B[1;31mKeyError\u001B[0m                                  Traceback (most recent call last)",
      "File \u001B[1;32m~\\Anaconda dl\\envs\\Data_science_RARL\\lib\\site-packages\\pandas\\core\\indexes\\base.py:3802\u001B[0m, in \u001B[0;36mIndex.get_loc\u001B[1;34m(self, key, method, tolerance)\u001B[0m\n\u001B[0;32m   3801\u001B[0m \u001B[38;5;28;01mtry\u001B[39;00m:\n\u001B[1;32m-> 3802\u001B[0m     \u001B[38;5;28;01mreturn\u001B[39;00m \u001B[38;5;28;43mself\u001B[39;49m\u001B[38;5;241;43m.\u001B[39;49m\u001B[43m_engine\u001B[49m\u001B[38;5;241;43m.\u001B[39;49m\u001B[43mget_loc\u001B[49m\u001B[43m(\u001B[49m\u001B[43mcasted_key\u001B[49m\u001B[43m)\u001B[49m\n\u001B[0;32m   3803\u001B[0m \u001B[38;5;28;01mexcept\u001B[39;00m \u001B[38;5;167;01mKeyError\u001B[39;00m \u001B[38;5;28;01mas\u001B[39;00m err:\n",
      "File \u001B[1;32m~\\Anaconda dl\\envs\\Data_science_RARL\\lib\\site-packages\\pandas\\_libs\\index.pyx:138\u001B[0m, in \u001B[0;36mpandas._libs.index.IndexEngine.get_loc\u001B[1;34m()\u001B[0m\n",
      "File \u001B[1;32m~\\Anaconda dl\\envs\\Data_science_RARL\\lib\\site-packages\\pandas\\_libs\\index.pyx:165\u001B[0m, in \u001B[0;36mpandas._libs.index.IndexEngine.get_loc\u001B[1;34m()\u001B[0m\n",
      "File \u001B[1;32mpandas\\_libs\\hashtable_class_helper.pxi:5745\u001B[0m, in \u001B[0;36mpandas._libs.hashtable.PyObjectHashTable.get_item\u001B[1;34m()\u001B[0m\n",
      "File \u001B[1;32mpandas\\_libs\\hashtable_class_helper.pxi:5753\u001B[0m, in \u001B[0;36mpandas._libs.hashtable.PyObjectHashTable.get_item\u001B[1;34m()\u001B[0m\n",
      "\u001B[1;31mKeyError\u001B[0m: ('Letter', 'H')",
      "\nThe above exception was the direct cause of the following exception:\n",
      "\u001B[1;31mKeyError\u001B[0m                                  Traceback (most recent call last)",
      "Cell \u001B[1;32mIn[13], line 4\u001B[0m\n\u001B[0;32m      1\u001B[0m \u001B[38;5;28;01mimport\u001B[39;00m \u001B[38;5;21;01mpandas\u001B[39;00m \u001B[38;5;28;01mas\u001B[39;00m \u001B[38;5;21;01mpd\u001B[39;00m\n\u001B[0;32m      3\u001B[0m \u001B[38;5;66;03m# Assuming you have a DataFrame with the amino acid properties\u001B[39;00m\n\u001B[1;32m----> 4\u001B[0m ES_unmut \u001B[38;5;241m=\u001B[39m \u001B[43mASE_clear\u001B[49m\u001B[43m[\u001B[49m\u001B[38;5;124;43m\"\u001B[39;49m\u001B[38;5;124;43mLetter\u001B[39;49m\u001B[38;5;124;43m\"\u001B[39;49m\u001B[43m,\u001B[49m\u001B[43m \u001B[49m\u001B[38;5;124;43m\"\u001B[39;49m\u001B[38;5;124;43mH\u001B[39;49m\u001B[38;5;124;43m\"\u001B[39;49m\u001B[43m]\u001B[49m\n\u001B[0;32m      7\u001B[0m \u001B[38;5;66;03m# Assuming you have a string with the amino acid sequence\u001B[39;00m\n\u001B[0;32m      8\u001B[0m sequence \u001B[38;5;241m=\u001B[39m \u001B[38;5;124m\"\u001B[39m\u001B[38;5;124mMSKGEELFTGVVPILVELDGDVNGHKFSVSGEGEGDATYGKLTLKFICTTGKLPVPWPTLVTTLSYGVQCFSRYPDHMKQHDFFKSAMPEGYVQERTIFFKDDGNYKTRAEVKFEGDTLVNRIELKGIDFKEDGNILGHKLEYNYNSHNVYIMADKQKNGIKVNFKIRHNIEDGSVQLADHYQQNTPIGDGPVLLPDNHYLSTQSALSKDPNEKRDHMVLLEFVTAAGITHGMDELYK\u001B[39m\u001B[38;5;124m\"\u001B[39m\n",
      "File \u001B[1;32m~\\Anaconda dl\\envs\\Data_science_RARL\\lib\\site-packages\\pandas\\core\\frame.py:3807\u001B[0m, in \u001B[0;36mDataFrame.__getitem__\u001B[1;34m(self, key)\u001B[0m\n\u001B[0;32m   3805\u001B[0m \u001B[38;5;28;01mif\u001B[39;00m \u001B[38;5;28mself\u001B[39m\u001B[38;5;241m.\u001B[39mcolumns\u001B[38;5;241m.\u001B[39mnlevels \u001B[38;5;241m>\u001B[39m \u001B[38;5;241m1\u001B[39m:\n\u001B[0;32m   3806\u001B[0m     \u001B[38;5;28;01mreturn\u001B[39;00m \u001B[38;5;28mself\u001B[39m\u001B[38;5;241m.\u001B[39m_getitem_multilevel(key)\n\u001B[1;32m-> 3807\u001B[0m indexer \u001B[38;5;241m=\u001B[39m \u001B[38;5;28;43mself\u001B[39;49m\u001B[38;5;241;43m.\u001B[39;49m\u001B[43mcolumns\u001B[49m\u001B[38;5;241;43m.\u001B[39;49m\u001B[43mget_loc\u001B[49m\u001B[43m(\u001B[49m\u001B[43mkey\u001B[49m\u001B[43m)\u001B[49m\n\u001B[0;32m   3808\u001B[0m \u001B[38;5;28;01mif\u001B[39;00m is_integer(indexer):\n\u001B[0;32m   3809\u001B[0m     indexer \u001B[38;5;241m=\u001B[39m [indexer]\n",
      "File \u001B[1;32m~\\Anaconda dl\\envs\\Data_science_RARL\\lib\\site-packages\\pandas\\core\\indexes\\base.py:3804\u001B[0m, in \u001B[0;36mIndex.get_loc\u001B[1;34m(self, key, method, tolerance)\u001B[0m\n\u001B[0;32m   3802\u001B[0m     \u001B[38;5;28;01mreturn\u001B[39;00m \u001B[38;5;28mself\u001B[39m\u001B[38;5;241m.\u001B[39m_engine\u001B[38;5;241m.\u001B[39mget_loc(casted_key)\n\u001B[0;32m   3803\u001B[0m \u001B[38;5;28;01mexcept\u001B[39;00m \u001B[38;5;167;01mKeyError\u001B[39;00m \u001B[38;5;28;01mas\u001B[39;00m err:\n\u001B[1;32m-> 3804\u001B[0m     \u001B[38;5;28;01mraise\u001B[39;00m \u001B[38;5;167;01mKeyError\u001B[39;00m(key) \u001B[38;5;28;01mfrom\u001B[39;00m \u001B[38;5;21;01merr\u001B[39;00m\n\u001B[0;32m   3805\u001B[0m \u001B[38;5;28;01mexcept\u001B[39;00m \u001B[38;5;167;01mTypeError\u001B[39;00m:\n\u001B[0;32m   3806\u001B[0m     \u001B[38;5;66;03m# If we have a listlike key, _check_indexing_error will raise\u001B[39;00m\n\u001B[0;32m   3807\u001B[0m     \u001B[38;5;66;03m#  InvalidIndexError. Otherwise we fall through and re-raise\u001B[39;00m\n\u001B[0;32m   3808\u001B[0m     \u001B[38;5;66;03m#  the TypeError.\u001B[39;00m\n\u001B[0;32m   3809\u001B[0m     \u001B[38;5;28mself\u001B[39m\u001B[38;5;241m.\u001B[39m_check_indexing_error(key)\n",
      "\u001B[1;31mKeyError\u001B[0m: ('Letter', 'H')"
     ]
    }
   ],
   "source": [
    "import pandas as pd\n",
    "\n",
    "# Assuming you have a DataFrame with the amino acid properties\n",
    "ES_unmut = ASE_clear[\"Letter\", \"H\"]\n",
    "\n",
    "\n",
    "# Assuming you have a string with the amino acid sequence\n",
    "sequence = \"MSKGEELFTGVVPILVELDGDVNGHKFSVSGEGEGDATYGKLTLKFICTTGKLPVPWPTLVTTLSYGVQCFSRYPDHMKQHDFFKSAMPEGYVQERTIFFKDDGNYKTRAEVKFEGDTLVNRIELKGIDFKEDGNILGHKLEYNYNSHNVYIMADKQKNGIKVNFKIRHNIEDGSVQLADHYQQNTPIGDGPVLLPDNHYLSTQSALSKDPNEKRDHMVLLEFVTAAGITHGMDELYK\"\n",
    "\n",
    "# Create a dictionary to map amino acids to their property values\n",
    "property_map = properties_df.set_index(\"Letter\")[\"H\"].to_dict()\n",
    "\n",
    "# Calculate the product of property value and quantity for each amino acid in the sequence\n",
    "result = 0\n",
    "for AA in property_map.keys():\n",
    "    quantity = sequence.count(AA)\n",
    "    result += property_map[AA] * quantity\n",
    "\n",
    "# Print the sum of the products\n",
    "print(result)"
   ],
   "metadata": {
    "collapsed": false,
    "ExecuteTime": {
     "end_time": "2023-06-12T11:31:50.940771700Z",
     "start_time": "2023-06-12T11:31:50.840868400Z"
    }
   }
  },
  {
   "cell_type": "code",
   "execution_count": 14,
   "outputs": [
    {
     "name": "stdout",
     "output_type": "stream",
     "text": [
      "nan\n"
     ]
    }
   ],
   "source": [
    "import pandas as pd\n",
    "\n",
    "# Assuming your DataFrame is called ASE_clear with columns \"Letter\" and \"H\"\n",
    "sequence = \"MSKGEELFTGVVPILVELDGDVNGHKFSVSGEGEGDATYGKLTLKFICTTGKLPVPWPTLVTTLSYGVQCFSRYPDHMKQHDFFKSAMPEGYVQERTIFFKDDGNYKTRAEVKFEGDTLVNRIELKGIDFKEDGNILGHKLEYNYNSHNVYIMADKQKNGIKVNFKIRHNIEDGSVQLADHYQQNTPIGDGPVLLPDNHYLSTQSALSKDPNEKRDHMVLLEFVTAAGITHGMDELYK\"\n",
    "\n",
    "# Assuming \"Letter\" column contains the amino acid letters and \"H\" column contains the property values\n",
    "property_map = dict(zip(ASE_clear[\"Letter\"], ASE_clear[\"H\"]))\n",
    "\n",
    "# Calculate the product of property value and quantity for each amino acid in the sequence\n",
    "result = 0\n",
    "for AA in property_map.keys():\n",
    "    quantity = sequence.count(AA)\n",
    "    result += property_map[AA] * quantity\n",
    "\n",
    "# Print the sum of the products\n",
    "print(result)\n"
   ],
   "metadata": {
    "collapsed": false,
    "ExecuteTime": {
     "end_time": "2023-06-12T11:35:50.403067500Z",
     "start_time": "2023-06-12T11:35:50.387545300Z"
    }
   }
  },
  {
   "cell_type": "code",
   "execution_count": 19,
   "outputs": [
    {
     "name": "stdout",
     "output_type": "stream",
     "text": [
      "-9.68\n"
     ]
    }
   ],
   "source": [
    "import pandas as pd\n",
    "\n",
    "# Assuming your DataFrame is called ASE_clear with columns \"Letter\" and \"H\"\n",
    "sequence = \"MSKGEELFTGVVPILVELDGDVNGHKFSVSGEGEGDATYGKLTLKFICTTGKLPVPWPTLVTTLSYGVQCFSRYPDHMKQHDFFKSAMPEGYVQERTIFFKDDGNYKTRAEVKFEGDTLVNRIELKGIDFKEDGNILGHKLEYNYNSHNVYIMADKQKNGIKVNFKIRHNIEDGSVQLADHYQQNTPIGDGPVLLPDNHYLSTQSALSKDPNEKRDHMVLLEFVTAAGITHGMDELYK\"\n",
    "\n",
    "# Assuming \"Letter\" column contains the amino acid letters and \"H\" column contains the property values\n",
    "property_map = dict(zip(ASE_clear[\"Letter\"].dropna(), ASE_clear[\"H\"].dropna()))\n",
    "\n",
    "# Calculate the product of property value and quantity for each amino acid in the sequence\n",
    "result = 0\n",
    "for AA in property_map.keys():\n",
    "    quantity = sequence.count(AA)\n",
    "    result += property_map[AA] * quantity\n",
    "\n",
    "# Print the sum of the products\n",
    "print(result)\n"
   ],
   "metadata": {
    "collapsed": false,
    "ExecuteTime": {
     "end_time": "2023-06-12T11:40:56.021415200Z",
     "start_time": "2023-06-12T11:40:56.008010Z"
    }
   }
  },
  {
   "cell_type": "code",
   "execution_count": 20,
   "outputs": [
    {
     "name": "stdout",
     "output_type": "stream",
     "text": [
      "47.74\n"
     ]
    }
   ],
   "source": [
    "import pandas as pd\n",
    "\n",
    "# Assuming your DataFrame is called ASE_clear with columns \"Letter\" and \"H\"\n",
    "sequence = \"AAAAAAAAAAAAAAAAAAAAAAAAAAAAAAAAAAAAAAAAAAAAAAAAAAAAAAAAAAAAAAAAAAAAAAAAAAAAAa\"\n",
    "\n",
    "# Assuming \"Letter\" column contains the amino acid letters and \"H\" column contains the property values\n",
    "property_map = dict(zip(ASE_clear[\"Letter\"].dropna(), ASE_clear[\"H\"].dropna()))\n",
    "\n",
    "# Calculate the product of property value and quantity for each amino acid in the sequence\n",
    "result = 0\n",
    "for AA in property_map.keys():\n",
    "    quantity = sequence.count(AA)\n",
    "    result += property_map[AA] * quantity\n",
    "\n",
    "# Print the sum of the products\n",
    "print(result)\n"
   ],
   "metadata": {
    "collapsed": false,
    "ExecuteTime": {
     "end_time": "2023-06-12T11:40:59.565729900Z",
     "start_time": "2023-06-12T11:40:59.544460Z"
    }
   }
  },
  {
   "cell_type": "code",
   "execution_count": null,
   "outputs": [],
   "source": [],
   "metadata": {
    "collapsed": false
   }
  }
 ],
 "metadata": {
  "kernelspec": {
   "display_name": "Python 3",
   "language": "python",
   "name": "python3"
  },
  "language_info": {
   "codemirror_mode": {
    "name": "ipython",
    "version": 2
   },
   "file_extension": ".py",
   "mimetype": "text/x-python",
   "name": "python",
   "nbconvert_exporter": "python",
   "pygments_lexer": "ipython2",
   "version": "2.7.6"
  }
 },
 "nbformat": 4,
 "nbformat_minor": 0
}
