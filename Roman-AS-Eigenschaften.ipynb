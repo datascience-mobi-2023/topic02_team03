{
 "cells": [
  {
   "cell_type": "code",
   "execution_count": 4,
   "outputs": [
    {
     "name": "stdout",
     "output_type": "stream",
     "text": [
      "              Name Abbr Letter  Molecular Weight Molecular Formula  \\\n",
      "0          Alanine  Ala      A             89.10           C3H7NO2   \n",
      "1         Cysteine  Cys      C            121.16          C3H7NO2S   \n",
      "2    Aspartic acid  Asp      D            133.11           C4H7NO4   \n",
      "3    Glutamic acid  Glu      E            147.13           C5H9NO4   \n",
      "4    Phenylalanine  Phe      F            165.19          C9H11NO2   \n",
      "5          Glycine  Gly      G             75.07           C2H5NO2   \n",
      "6        Histidine  His      H            155.16          C6H9N3O2   \n",
      "7       Isoleucine  Ile      I            131.18          C6H13NO2   \n",
      "8           Lysine  Lys      K            146.19         C6H14N2O2   \n",
      "9          Leucine  Leu      L            131.18          C6H13NO2   \n",
      "10      Methionine  Met      M            149.21         C5H11NO2S   \n",
      "11      Asparagine  Asn      N            132.12          C4H8N2O3   \n",
      "12  Hydroxyproline  Hyp      O            131.13           C5H9NO3   \n",
      "13         Proline  Pro      P            115.13           C5H9NO2   \n",
      "14       Glutamine  Gln      Q            146.15         C5H10N2O3   \n",
      "15        Arginine  Arg      R            174.20         C6H14N4O2   \n",
      "16          Serine  Ser      S            105.09           C3H7NO3   \n",
      "17       Threonine  Thr      T            119.12           C4H9NO3   \n",
      "18  Pyroglutamatic  Glp      U            139.11           C5H7NO3   \n",
      "19          Valine  Val      V            117.15          C5H11NO2   \n",
      "20      Tryptophan  Trp      W            204.23        C11H12N2O2   \n",
      "21        Tyrosine  Tyr      Y            181.19          C9H11NO3   \n",
      "\n",
      "   Residue Formula  Residue Weight  pKa1   pKb2   pKx3  ...    VSC    P1  \\\n",
      "0           C3H5NO           71.08  2.34   9.69    NaN  ...   27.5   8.1   \n",
      "1          C3H5NOS          103.15  1.96  10.28   8.18  ...   44.6   5.5   \n",
      "2          C4H5NO3          115.09  1.88   9.60   3.65  ...   40.0  13.0   \n",
      "3          C5H7NO3          129.12  2.19   9.67   4.25  ...   62.0  12.3   \n",
      "4           C9H9NO          147.18  1.83   9.13    NaN  ...  115.5   5.2   \n",
      "5           C2H3NO           57.05  2.34   9.60    NaN  ...    0.0   9.0   \n",
      "6          C6H7N3O          137.14  1.82   9.17   6.00  ...   79.0  10.4   \n",
      "7          C6H11NO          113.16  2.36   9.60    NaN  ...   93.5   5.2   \n",
      "8         C6H12N2O          128.18  2.18   8.95  10.53  ...  100.0  11.3   \n",
      "9          C6H11NO          113.16  2.36   9.60    NaN  ...   93.5   4.9   \n",
      "10         C5H9NOS          131.20  2.28   9.21    NaN  ...   94.1   5.7   \n",
      "11        C4H6N2O2          114.11  2.02   8.80    NaN  ...   58.7  11.6   \n",
      "12         C5H7NO2          113.11  1.82   9.65    NaN  ...    NaN   NaN   \n",
      "13          C5H7NO           97.12  1.99  10.60    NaN  ...   41.9   8.0   \n",
      "14        C5H8N2O2          128.13  2.17   9.13    NaN  ...   80.7  10.5   \n",
      "15        C6H12N4O          156.19  2.17   9.04  12.48  ...  105.0  10.5   \n",
      "16         C3H5NO2           87.08  2.21   9.15    NaN  ...   29.3   9.2   \n",
      "17         C4H7NO2          101.11  2.09   9.10    NaN  ...   51.3   8.6   \n",
      "18         C5H5NO2          121.09   NaN    NaN    NaN  ...    NaN   NaN   \n",
      "19          C5H9NO           99.13  2.32   9.62    NaN  ...   71.5   5.9   \n",
      "20       C11H10N2O          186.22  2.83   9.39    NaN  ...  145.5   5.4   \n",
      "21         C9H9NO2          163.18  2.20   9.11  10.07  ...  117.3   6.2   \n",
      "\n",
      "       P2   SASA     NCISC  carbon  hydrogen  nitrogen  oxygen  sulfur  \n",
      "0   0.046  1.181  0.007187       3         7         1       2       0  \n",
      "1   0.128  1.461 -0.036610       3         7         1       2       1  \n",
      "2   0.105  1.587 -0.023820       4         7         1       4       0  \n",
      "3   0.151  1.862  0.006802       5         9         1       4       0  \n",
      "4   0.290  2.228  0.037552       9        11         1       2       0  \n",
      "5   0.000  0.881  0.179052       2         5         1       2       0  \n",
      "6   0.230  2.025 -0.010690       6         9         3       2       0  \n",
      "7   0.186  1.810  0.021631       6        13         1       2       0  \n",
      "8   0.219  2.258  0.017708       6        14         2       2       0  \n",
      "9   0.186  1.931  0.051672       6        13         1       2       0  \n",
      "10  0.221  2.034  0.002683       5        11         1       2       1  \n",
      "11  0.134  1.655  0.005392       4         8         2       3       0  \n",
      "12    NaN    NaN       NaN       5         9         1       3       0  \n",
      "13  0.131  1.468  0.239531       5         9         1       2       0  \n",
      "14  0.180  1.932  0.049211       5        10         2       3       0  \n",
      "15  0.291  2.560  0.043587       6        14         4       2       0  \n",
      "16  0.062  1.298  0.004627       3         7         1       3       0  \n",
      "17  0.108  1.525  0.003352       4         9         1       3       0  \n",
      "18    NaN    NaN       NaN       5         7         1       3       0  \n",
      "19  0.140  1.645  0.057004       5        11         1       2       0  \n",
      "20  0.409  2.663  0.037977      11        12         2       2       0  \n",
      "21  0.298  2.368  0.023599       9        11         1       3       0  \n",
      "\n",
      "[22 rows x 22 columns]\n"
     ]
    }
   ],
   "source": [
    "# Datensatz einlesen\n",
    "import numpy as np\n",
    "import pandas as pd\n",
    "import csv\n",
    "ASE_datei = pd.read_csv(r\"C:\\Users\\roman\\Desktop\\AS Eigenschaften\\aminoacids.csv\")\n",
    "print(ASE_datei)\n",
    "#Name: name of the amino acid.\n",
    "#Abbr: abbreviation of the amino acid.\n",
    "#Letter: letter of the amino acid.\n",
    "# Molecular Weight: molecular weight.\n",
    "# Molecular Formula: molecular formula.\n",
    "# Residue Formula: residue formula.\n",
    "# Residue Weight: residue weight (-H20)\n",
    "# pKa1: the negative of the logarithm of the dissociation constant for the -COOH group.\n",
    "# pKb2: the negative of the logarithm of the dissociation constant for the -NH3 group.\n",
    "# pKx3: the negative of the logarithm of the dissociation constant for any other group in the molecule.\n",
    "# pl4: the pH at the isoelectric point.\n",
    "# H: hydrophobicity.\n",
    "# VSC: volumes of side chains amino acids.\n",
    "# P1: polarity.\n",
    "# P2: polarizability.\n",
    "# SASA: solvent accesible surface area.\n",
    "# NCISC: net charge of side chains.\n"
   ],
   "metadata": {
    "collapsed": false,
    "ExecuteTime": {
     "end_time": "2023-07-07T13:23:47.181508900Z",
     "start_time": "2023-07-07T13:23:46.922470500Z"
    }
   }
  },
  {
   "cell_type": "code",
   "execution_count": 5,
   "outputs": [
    {
     "name": "stdout",
     "output_type": "stream",
     "text": [
      "              Name Abbr Letter  Molecular Weight Molecular Formula  \\\n",
      "0          Alanine  Ala      A             89.10           C3H7NO2   \n",
      "1         Cysteine  Cys      C            121.16          C3H7NO2S   \n",
      "2    Aspartic acid  Asp      D            133.11           C4H7NO4   \n",
      "3    Glutamic acid  Glu      E            147.13           C5H9NO4   \n",
      "4    Phenylalanine  Phe      F            165.19          C9H11NO2   \n",
      "5          Glycine  Gly      G             75.07           C2H5NO2   \n",
      "6        Histidine  His      H            155.16          C6H9N3O2   \n",
      "7       Isoleucine  Ile      I            131.18          C6H13NO2   \n",
      "8           Lysine  Lys      K            146.19         C6H14N2O2   \n",
      "9          Leucine  Leu      L            131.18          C6H13NO2   \n",
      "10      Methionine  Met      M            149.21         C5H11NO2S   \n",
      "11      Asparagine  Asn      N            132.12          C4H8N2O3   \n",
      "12  Hydroxyproline  Hyp      O            131.13           C5H9NO3   \n",
      "13         Proline  Pro      P            115.13           C5H9NO2   \n",
      "14       Glutamine  Gln      Q            146.15         C5H10N2O3   \n",
      "15        Arginine  Arg      R            174.20         C6H14N4O2   \n",
      "16          Serine  Ser      S            105.09           C3H7NO3   \n",
      "17       Threonine  Thr      T            119.12           C4H9NO3   \n",
      "18  Pyroglutamatic  Glp      U            139.11           C5H7NO3   \n",
      "19          Valine  Val      V            117.15          C5H11NO2   \n",
      "20      Tryptophan  Trp      W            204.23        C11H12N2O2   \n",
      "21        Tyrosine  Tyr      Y            181.19          C9H11NO3   \n",
      "\n",
      "   Residue Formula  Residue Weight  pKa1   pKb2   pKx3  ...    VSC    P1  \\\n",
      "0           C3H5NO           71.08  2.34   9.69    NaN  ...   27.5   8.1   \n",
      "1          C3H5NOS          103.15  1.96  10.28   8.18  ...   44.6   5.5   \n",
      "2          C4H5NO3          115.09  1.88   9.60   3.65  ...   40.0  13.0   \n",
      "3          C5H7NO3          129.12  2.19   9.67   4.25  ...   62.0  12.3   \n",
      "4           C9H9NO          147.18  1.83   9.13    NaN  ...  115.5   5.2   \n",
      "5           C2H3NO           57.05  2.34   9.60    NaN  ...    0.0   9.0   \n",
      "6          C6H7N3O          137.14  1.82   9.17   6.00  ...   79.0  10.4   \n",
      "7          C6H11NO          113.16  2.36   9.60    NaN  ...   93.5   5.2   \n",
      "8         C6H12N2O          128.18  2.18   8.95  10.53  ...  100.0  11.3   \n",
      "9          C6H11NO          113.16  2.36   9.60    NaN  ...   93.5   4.9   \n",
      "10         C5H9NOS          131.20  2.28   9.21    NaN  ...   94.1   5.7   \n",
      "11        C4H6N2O2          114.11  2.02   8.80    NaN  ...   58.7  11.6   \n",
      "12         C5H7NO2          113.11  1.82   9.65    NaN  ...    NaN   NaN   \n",
      "13          C5H7NO           97.12  1.99  10.60    NaN  ...   41.9   8.0   \n",
      "14        C5H8N2O2          128.13  2.17   9.13    NaN  ...   80.7  10.5   \n",
      "15        C6H12N4O          156.19  2.17   9.04  12.48  ...  105.0  10.5   \n",
      "16         C3H5NO2           87.08  2.21   9.15    NaN  ...   29.3   9.2   \n",
      "17         C4H7NO2          101.11  2.09   9.10    NaN  ...   51.3   8.6   \n",
      "18         C5H5NO2          121.09   NaN    NaN    NaN  ...    NaN   NaN   \n",
      "19          C5H9NO           99.13  2.32   9.62    NaN  ...   71.5   5.9   \n",
      "20       C11H10N2O          186.22  2.83   9.39    NaN  ...  145.5   5.4   \n",
      "21         C9H9NO2          163.18  2.20   9.11  10.07  ...  117.3   6.2   \n",
      "\n",
      "       P2   SASA     NCISC  carbon  hydrogen  nitrogen  oxygen  sulfur  \n",
      "0   0.046  1.181  0.007187       3         7         1       2       0  \n",
      "1   0.128  1.461 -0.036610       3         7         1       2       1  \n",
      "2   0.105  1.587 -0.023820       4         7         1       4       0  \n",
      "3   0.151  1.862  0.006802       5         9         1       4       0  \n",
      "4   0.290  2.228  0.037552       9        11         1       2       0  \n",
      "5   0.000  0.881  0.179052       2         5         1       2       0  \n",
      "6   0.230  2.025 -0.010690       6         9         3       2       0  \n",
      "7   0.186  1.810  0.021631       6        13         1       2       0  \n",
      "8   0.219  2.258  0.017708       6        14         2       2       0  \n",
      "9   0.186  1.931  0.051672       6        13         1       2       0  \n",
      "10  0.221  2.034  0.002683       5        11         1       2       1  \n",
      "11  0.134  1.655  0.005392       4         8         2       3       0  \n",
      "12    NaN    NaN       NaN       5         9         1       3       0  \n",
      "13  0.131  1.468  0.239531       5         9         1       2       0  \n",
      "14  0.180  1.932  0.049211       5        10         2       3       0  \n",
      "15  0.291  2.560  0.043587       6        14         4       2       0  \n",
      "16  0.062  1.298  0.004627       3         7         1       3       0  \n",
      "17  0.108  1.525  0.003352       4         9         1       3       0  \n",
      "18    NaN    NaN       NaN       5         7         1       3       0  \n",
      "19  0.140  1.645  0.057004       5        11         1       2       0  \n",
      "20  0.409  2.663  0.037977      11        12         2       2       0  \n",
      "21  0.298  2.368  0.023599       9        11         1       3       0  \n",
      "\n",
      "[22 rows x 22 columns]\n",
      "   Letter  Molecular Weight  Residue Weight  pKa1   pKb2   pKx3    pl4     H  \\\n",
      "0       A             89.10           71.08  2.34   9.69    NaN   6.00  0.62   \n",
      "1       C            121.16          103.15  1.96  10.28   8.18   5.07  0.29   \n",
      "2       D            133.11          115.09  1.88   9.60   3.65   2.77 -0.90   \n",
      "3       E            147.13          129.12  2.19   9.67   4.25   3.22 -0.74   \n",
      "4       F            165.19          147.18  1.83   9.13    NaN   5.48  1.19   \n",
      "5       G             75.07           57.05  2.34   9.60    NaN   5.97  0.48   \n",
      "6       H            155.16          137.14  1.82   9.17   6.00   7.59 -0.40   \n",
      "7       I            131.18          113.16  2.36   9.60    NaN   6.02  1.38   \n",
      "8       K            146.19          128.18  2.18   8.95  10.53   9.74 -1.50   \n",
      "9       L            131.18          113.16  2.36   9.60    NaN   5.98  1.06   \n",
      "10      M            149.21          131.20  2.28   9.21    NaN   5.74  0.64   \n",
      "11      N            132.12          114.11  2.02   8.80    NaN   5.41 -0.78   \n",
      "12      O            131.13          113.11  1.82   9.65    NaN    NaN   NaN   \n",
      "13      P            115.13           97.12  1.99  10.60    NaN   6.30  0.12   \n",
      "14      Q            146.15          128.13  2.17   9.13    NaN   5.65 -0.85   \n",
      "15      R            174.20          156.19  2.17   9.04  12.48  10.76 -2.53   \n",
      "16      S            105.09           87.08  2.21   9.15    NaN   5.68 -0.18   \n",
      "17      T            119.12          101.11  2.09   9.10    NaN   5.60 -0.05   \n",
      "18      U            139.11          121.09   NaN    NaN    NaN   5.68   NaN   \n",
      "19      V            117.15           99.13  2.32   9.62    NaN   5.96  1.08   \n",
      "20      W            204.23          186.22  2.83   9.39    NaN   5.89  0.81   \n",
      "21      Y            181.19          163.18  2.20   9.11  10.07   5.66  0.26   \n",
      "\n",
      "      VSC    P1     P2   SASA     NCISC  \n",
      "0    27.5   8.1  0.046  1.181  0.007187  \n",
      "1    44.6   5.5  0.128  1.461 -0.036610  \n",
      "2    40.0  13.0  0.105  1.587 -0.023820  \n",
      "3    62.0  12.3  0.151  1.862  0.006802  \n",
      "4   115.5   5.2  0.290  2.228  0.037552  \n",
      "5     0.0   9.0  0.000  0.881  0.179052  \n",
      "6    79.0  10.4  0.230  2.025 -0.010690  \n",
      "7    93.5   5.2  0.186  1.810  0.021631  \n",
      "8   100.0  11.3  0.219  2.258  0.017708  \n",
      "9    93.5   4.9  0.186  1.931  0.051672  \n",
      "10   94.1   5.7  0.221  2.034  0.002683  \n",
      "11   58.7  11.6  0.134  1.655  0.005392  \n",
      "12    NaN   NaN    NaN    NaN       NaN  \n",
      "13   41.9   8.0  0.131  1.468  0.239531  \n",
      "14   80.7  10.5  0.180  1.932  0.049211  \n",
      "15  105.0  10.5  0.291  2.560  0.043587  \n",
      "16   29.3   9.2  0.062  1.298  0.004627  \n",
      "17   51.3   8.6  0.108  1.525  0.003352  \n",
      "18    NaN   NaN    NaN    NaN       NaN  \n",
      "19   71.5   5.9  0.140  1.645  0.057004  \n",
      "20  145.5   5.4  0.409  2.663  0.037977  \n",
      "21  117.3   6.2  0.298  2.368  0.023599  \n"
     ]
    }
   ],
   "source": [
    "# Delete specified columns\n",
    "ASE_datei = pd.read_csv(r\"C:\\Users\\roman\\Desktop\\AS Eigenschaften\\aminoacids.csv\")\n",
    "print(ASE_datei)\n"
   ],
   "metadata": {
    "collapsed": false,
    "ExecuteTime": {
     "end_time": "2023-07-07T13:23:48.842850700Z",
     "start_time": "2023-07-07T13:23:48.802014900Z"
    }
   }
  },
  {
   "cell_type": "code",
   "execution_count": 6,
   "outputs": [
    {
     "name": "stdout",
     "output_type": "stream",
     "text": [
      "              Name Abbr Letter  Molecular Weight Molecular Formula  \\\n",
      "0          Alanine  Ala      A             89.10           C3H7NO2   \n",
      "1         Cysteine  Cys      C            121.16          C3H7NO2S   \n",
      "2    Aspartic acid  Asp      D            133.11           C4H7NO4   \n",
      "3    Glutamic acid  Glu      E            147.13           C5H9NO4   \n",
      "4    Phenylalanine  Phe      F            165.19          C9H11NO2   \n",
      "5          Glycine  Gly      G             75.07           C2H5NO2   \n",
      "6        Histidine  His      H            155.16          C6H9N3O2   \n",
      "7       Isoleucine  Ile      I            131.18          C6H13NO2   \n",
      "8           Lysine  Lys      K            146.19         C6H14N2O2   \n",
      "9          Leucine  Leu      L            131.18          C6H13NO2   \n",
      "10      Methionine  Met      M            149.21         C5H11NO2S   \n",
      "11      Asparagine  Asn      N            132.12          C4H8N2O3   \n",
      "13         Proline  Pro      P            115.13           C5H9NO2   \n",
      "14       Glutamine  Gln      Q            146.15         C5H10N2O3   \n",
      "15        Arginine  Arg      R            174.20         C6H14N4O2   \n",
      "16          Serine  Ser      S            105.09           C3H7NO3   \n",
      "17       Threonine  Thr      T            119.12           C4H9NO3   \n",
      "18  Pyroglutamatic  Glp      U            139.11           C5H7NO3   \n",
      "19          Valine  Val      V            117.15          C5H11NO2   \n",
      "20      Tryptophan  Trp      W            204.23        C11H12N2O2   \n",
      "21        Tyrosine  Tyr      Y            181.19          C9H11NO3   \n",
      "\n",
      "   Residue Formula  Residue Weight  pKa1   pKb2   pKx3  ...    VSC    P1  \\\n",
      "0           C3H5NO           71.08  2.34   9.69    NaN  ...   27.5   8.1   \n",
      "1          C3H5NOS          103.15  1.96  10.28   8.18  ...   44.6   5.5   \n",
      "2          C4H5NO3          115.09  1.88   9.60   3.65  ...   40.0  13.0   \n",
      "3          C5H7NO3          129.12  2.19   9.67   4.25  ...   62.0  12.3   \n",
      "4           C9H9NO          147.18  1.83   9.13    NaN  ...  115.5   5.2   \n",
      "5           C2H3NO           57.05  2.34   9.60    NaN  ...    0.0   9.0   \n",
      "6          C6H7N3O          137.14  1.82   9.17   6.00  ...   79.0  10.4   \n",
      "7          C6H11NO          113.16  2.36   9.60    NaN  ...   93.5   5.2   \n",
      "8         C6H12N2O          128.18  2.18   8.95  10.53  ...  100.0  11.3   \n",
      "9          C6H11NO          113.16  2.36   9.60    NaN  ...   93.5   4.9   \n",
      "10         C5H9NOS          131.20  2.28   9.21    NaN  ...   94.1   5.7   \n",
      "11        C4H6N2O2          114.11  2.02   8.80    NaN  ...   58.7  11.6   \n",
      "13          C5H7NO           97.12  1.99  10.60    NaN  ...   41.9   8.0   \n",
      "14        C5H8N2O2          128.13  2.17   9.13    NaN  ...   80.7  10.5   \n",
      "15        C6H12N4O          156.19  2.17   9.04  12.48  ...  105.0  10.5   \n",
      "16         C3H5NO2           87.08  2.21   9.15    NaN  ...   29.3   9.2   \n",
      "17         C4H7NO2          101.11  2.09   9.10    NaN  ...   51.3   8.6   \n",
      "18         C5H5NO2          121.09   NaN    NaN    NaN  ...    NaN   NaN   \n",
      "19          C5H9NO           99.13  2.32   9.62    NaN  ...   71.5   5.9   \n",
      "20       C11H10N2O          186.22  2.83   9.39    NaN  ...  145.5   5.4   \n",
      "21         C9H9NO2          163.18  2.20   9.11  10.07  ...  117.3   6.2   \n",
      "\n",
      "       P2   SASA     NCISC  carbon  hydrogen  nitrogen  oxygen  sulfur  \n",
      "0   0.046  1.181  0.007187       3         7         1       2       0  \n",
      "1   0.128  1.461 -0.036610       3         7         1       2       1  \n",
      "2   0.105  1.587 -0.023820       4         7         1       4       0  \n",
      "3   0.151  1.862  0.006802       5         9         1       4       0  \n",
      "4   0.290  2.228  0.037552       9        11         1       2       0  \n",
      "5   0.000  0.881  0.179052       2         5         1       2       0  \n",
      "6   0.230  2.025 -0.010690       6         9         3       2       0  \n",
      "7   0.186  1.810  0.021631       6        13         1       2       0  \n",
      "8   0.219  2.258  0.017708       6        14         2       2       0  \n",
      "9   0.186  1.931  0.051672       6        13         1       2       0  \n",
      "10  0.221  2.034  0.002683       5        11         1       2       1  \n",
      "11  0.134  1.655  0.005392       4         8         2       3       0  \n",
      "13  0.131  1.468  0.239531       5         9         1       2       0  \n",
      "14  0.180  1.932  0.049211       5        10         2       3       0  \n",
      "15  0.291  2.560  0.043587       6        14         4       2       0  \n",
      "16  0.062  1.298  0.004627       3         7         1       3       0  \n",
      "17  0.108  1.525  0.003352       4         9         1       3       0  \n",
      "18    NaN    NaN       NaN       5         7         1       3       0  \n",
      "19  0.140  1.645  0.057004       5        11         1       2       0  \n",
      "20  0.409  2.663  0.037977      11        12         2       2       0  \n",
      "21  0.298  2.368  0.023599       9        11         1       3       0  \n",
      "\n",
      "[21 rows x 22 columns]\n"
     ]
    }
   ],
   "source": [
    "# Delete a row using the drop() function\n",
    "row_index_to_delete = 12\n",
    "ASE_clear = ASE_datei.drop(row_index_to_delete)\n",
    "\n",
    "\n",
    "print(ASE_clear)\n",
    "#Gereinigtes Dataframe"
   ],
   "metadata": {
    "collapsed": false,
    "ExecuteTime": {
     "end_time": "2023-07-07T13:23:50.529337Z",
     "start_time": "2023-07-07T13:23:50.480175Z"
    }
   }
  },
  {
   "cell_type": "code",
   "execution_count": 12,
   "outputs": [
    {
     "name": "stderr",
     "output_type": "stream",
     "text": [
      "IOPub data rate exceeded.\n",
      "The notebook server will temporarily stop sending output\n",
      "to the client in order to avoid crashing it.\n",
      "To change this limit, set the config variable\n",
      "`--NotebookApp.iopub_data_rate_limit`.\n",
      "\n",
      "Current values:\n",
      "NotebookApp.iopub_data_rate_limit=1000000.0 (bytes/sec)\n",
      "NotebookApp.rate_limit_window=3.0 (secs)\n",
      "\n"
     ]
    },
    {
     "name": "stdout",
     "output_type": "stream",
     "text": [
      "                                      mutant  \\\n",
      "0      K3R:V55A:Q94R:A110T:D117G:M153K:D216A   \n",
      "1                       K3Q:V16A:I167T:L195Q   \n",
      "2                K3Q:Y143C:N164D:S205P:A227T   \n",
      "3                            K3Q:Y143N:V193A   \n",
      "4                                        K3R   \n",
      "...                                      ...   \n",
      "51709                                  Y237N   \n",
      "51710                                  Y237C   \n",
      "51711                                  Y237D   \n",
      "51712                                  Y237F   \n",
      "51713                                  Y237H   \n",
      "\n",
      "                                        mutated_sequence  DMS_score  \\\n",
      "0      MSRGEELFTGVVPILVELDGDVNGHKFSVSGEGEGDATYGKLTLKF...   1.301030   \n",
      "1      MSQGEELFTGVVPILAELDGDVNGHKFSVSGEGEGDATYGKLTLKF...   3.137350   \n",
      "2      MSQGEELFTGVVPILVELDGDVNGHKFSVSGEGEGDATYGKLTLKF...   1.553913   \n",
      "3      MSQGEELFTGVVPILVELDGDVNGHKFSVSGEGEGDATYGKLTLKF...   3.404237   \n",
      "4      MSRGEELFTGVVPILVELDGDVNGHKFSVSGEGEGDATYGKLTLKF...   3.738586   \n",
      "...                                                  ...        ...   \n",
      "51709  MSKGEELFTGVVPILVELDGDVNGHKFSVSGEGEGDATYGKLTLKF...   3.809468   \n",
      "51710  MSKGEELFTGVVPILVELDGDVNGHKFSVSGEGEGDATYGKLTLKF...   3.760217   \n",
      "51711  MSKGEELFTGVVPILVELDGDVNGHKFSVSGEGEGDATYGKLTLKF...   3.754101   \n",
      "51712  MSKGEELFTGVVPILVELDGDVNGHKFSVSGEGEGDATYGKLTLKF...   3.673173   \n",
      "51713  MSKGEELFTGVVPILVELDGDVNGHKFSVSGEGEGDATYGKLTLKF...   3.735417   \n",
      "\n",
      "       DMS_score_bin  \n",
      "0                  0  \n",
      "1                  1  \n",
      "2                  0  \n",
      "3                  1  \n",
      "4                  1  \n",
      "...              ...  \n",
      "51709              1  \n",
      "51710              1  \n",
      "51711              1  \n",
      "51712              1  \n",
      "51713              1  \n",
      "\n",
      "[51714 rows x 4 columns]\n"
     ]
    }
   ],
   "source": [
    "#Alles importieren\n",
    "import numpy as np\n",
    "import pandas as pd\n",
    "import csv\n",
    "with open(r\"C:\\Users\\roman\\Desktop\\DMS_data\\DMS_data\\GFP_AEQVI_Sarkisyan_2016.csv\") as dms_GFP_datei:\n",
    "    dms_GFP_datei_object = csv.reader(dms_GFP_datei, delimiter=',')\n",
    "    print(dms_GFP_datei_object)\n",
    "    for row in dms_GFP_datei_object:\n",
    "        print(row)\n",
    "original_datei = pd.read_csv(r\"C:\\Users\\roman\\Desktop\\DMS_data\\DMS_data\\GFP_AEQVI_Sarkisyan_2016.csv\")\n",
    "print(original_datei)\n",
    "#Einlesen"
   ],
   "metadata": {
    "collapsed": false,
    "ExecuteTime": {
     "end_time": "2023-07-07T13:57:53.649795700Z",
     "start_time": "2023-07-07T13:57:52.323530100Z"
    }
   }
  },
  {
   "cell_type": "code",
   "execution_count": 5,
   "outputs": [],
   "source": [
    "#Unmutierte Sequenz\n",
    "#MSKGEELFTGVVPILVELDGDVNGHKFSVSGEGEGDATYGKLTLKFICTTGKLPVPWPTLVTTLSYGVQCFSRYPDHMKQHDFFKSAMPEGYVQERTIFFKDDGNYKTRAEVKFEGDTLVNRIELKGIDFKEDGNILGHKLEYNYNSHNVYIMADKQKNGIKVNFKIRHNIEDGSVQLADHYQQNTPIGDGPVLLPDNHYLSTQSALSKDPNEKRDHMVLLEFVTAAGITHGMDELYK"
   ],
   "metadata": {
    "collapsed": false,
    "ExecuteTime": {
     "end_time": "2023-06-12T11:18:53.792418800Z",
     "start_time": "2023-06-12T11:18:53.697050700Z"
    }
   }
  },
  {
   "cell_type": "code",
   "execution_count": 29,
   "outputs": [
    {
     "name": "stdout",
     "output_type": "stream",
     "text": [
      "-9.68\n"
     ]
    }
   ],
   "source": [
    "import pandas as pd\n",
    "sequence = \"MSKGEELFTGVVPILVELDGDVNGHKFSVSGEGEGDATYGKLTLKFICTTGKLPVPWPTLVTTLSYGVQCFSRYPDHMKQHDFFKSAMPEGYVQERTIFFKDDGNYKTRAEVKFEGDTLVNRIELKGIDFKEDGNILGHKLEYNYNSHNVYIMADKQKNGIKVNFKIRHNIEDGSVQLADHYQQNTPIGDGPVLLPDNHYLSTQSALSKDPNEKRDHMVLLEFVTAAGITHGMDELYK\"\n",
    "\n",
    "# Erstellt ein dictionary, wo ich jeder Aminosäure Ihren Eigenschaftswert \"Hydrophobizität\" zuordne und abspeichere. Alle nan werden entfernt\n",
    "property_map = dict(zip(ASE_clear[\"Letter\"].dropna(), ASE_clear[\"H\"].dropna()))\n",
    "\n",
    "# Multiplizieren\n",
    "result = 0\n",
    "for AA in property_map.keys():\n",
    "    quantity = sequence.count(AA)\n",
    "    result += property_map[AA] * quantity\n",
    "\n",
    "# Print the sum of the products\n",
    "print(result)\n",
    "#So hydrophob ist das ganze Protein"
   ],
   "metadata": {
    "collapsed": false,
    "ExecuteTime": {
     "end_time": "2023-06-12T13:59:58.622668600Z",
     "start_time": "2023-06-12T13:59:58.612617600Z"
    }
   }
  },
  {
   "cell_type": "code",
   "execution_count": 30,
   "outputs": [
    {
     "name": "stdout",
     "output_type": "stream",
     "text": [
      "29129.250000000004\n"
     ]
    }
   ],
   "source": [
    "import pandas as pd\n",
    "sequence = \"MSKGEELFTGVVPILVELDGDVNGHKFSVSGEGEGDATYGKLTLKFICTTGKLPVPWPTLVTTLSYGVQCFSRYPDHMKQHDFFKSAMPEGYVQERTIFFKDDGNYKTRAEVKFEGDTLVNRIELKGIDFKEDGNILGHKLEYNYNSHNVYIMADKQKNGIKVNFKIRHNIEDGSVQLADHYQQNTPIGDGPVLLPDNHYLSTQSALSKDPNEKRDHMVLLEFVTAAGITHGMDELYK\"\n",
    "\n",
    "# Erstellt ein dictionary, wo ich jeder Aminosäure Ihren Eigenschaftswert \"Hydrophobizität\" zuordne und abspeichere. Alle nan werden entfernt\n",
    "property_map_mweight = dict(zip(ASE_clear[\"Letter\"].dropna(), ASE_clear[\"Molecular Weight\"].dropna()))\n",
    "\n",
    "# Multiplizieren\n",
    "result_mweight = 0\n",
    "for AA in property_map.keys():\n",
    "    quantity_mweight = sequence.count(AA)\n",
    "    result_mweight += property_map_mweight[AA] * quantity_mweight\n",
    "\n",
    "# Print the sum of the products\n",
    "print(result_mweight)\n",
    "#So schwer ist das ganze Protein"
   ],
   "metadata": {
    "collapsed": false,
    "ExecuteTime": {
     "end_time": "2023-06-12T14:00:00.952292400Z",
     "start_time": "2023-06-12T14:00:00.921000800Z"
    }
   }
  },
  {
   "cell_type": "code",
   "execution_count": 31,
   "outputs": [
    {
     "name": "stdout",
     "output_type": "stream",
     "text": [
      "1997.6000000000001\n"
     ]
    }
   ],
   "source": [
    "import pandas as pd\n",
    "sequence = \"MSKGEELFTGVVPILVELDGDVNGHKFSVSGEGEGDATYGKLTLKFICTTGKLPVPWPTLVTTLSYGVQCFSRYPDHMKQHDFFKSAMPEGYVQERTIFFKDDGNYKTRAEVKFEGDTLVNRIELKGIDFKEDGNILGHKLEYNYNSHNVYIMADKQKNGIKVNFKIRHNIEDGSVQLADHYQQNTPIGDGPVLLPDNHYLSTQSALSKDPNEKRDHMVLLEFVTAAGITHGMDELYK\"\n",
    "\n",
    "# Erstellt ein dictionary, wo ich jeder Aminosäure Ihren Eigenschaftswert \"Hydrophobizität\" zuordne und abspeichere. Alle nan werden entfernt\n",
    "property_map_polar = dict(zip(ASE_clear[\"Letter\"].dropna(), ASE_clear[\"P1\"].dropna()))\n",
    "\n",
    "# Multiplizieren\n",
    "result_polar = 0\n",
    "for AA in property_map.keys():\n",
    "    quantity_polar = sequence.count(AA)\n",
    "    result_polar += property_map_polar[AA] * quantity_polar\n",
    "\n",
    "# Print the sum of the products\n",
    "print(result_polar)\n",
    "#So polar ist das ganze Protein"
   ],
   "metadata": {
    "collapsed": false,
    "ExecuteTime": {
     "end_time": "2023-06-12T14:00:02.125576800Z",
     "start_time": "2023-06-12T14:00:02.078831600Z"
    }
   }
  },
  {
   "cell_type": "code",
   "execution_count": 32,
   "outputs": [],
   "source": [
    "#Nachbarschaften anschauen\n",
    "#V163A anschauen"
   ],
   "metadata": {
    "collapsed": false,
    "ExecuteTime": {
     "end_time": "2023-06-12T14:00:03.405235600Z",
     "start_time": "2023-06-12T14:00:03.395685600Z"
    }
   }
  },
  {
   "cell_type": "code",
   "execution_count": 34,
   "outputs": [
    {
     "name": "stdout",
     "output_type": "stream",
     "text": [
      "[-0.98, -0.4299999999999997, -0.3, 1.68, 2.01, 3.56, 4.420000000000001, 4.74, 4.609999999999999, 5.470000000000001, 4.25, 4.5, 2.79, 3.15, 0.8700000000000004, 0.6200000000000001, -0.97, 0.25, -1.21, -1.81, -1.1, -0.38000000000000017, -0.3800000000000001, 0.22000000000000008, 0.22000000000000014, -0.12, 1.86, -0.06999999999999984, 0.5900000000000001, -1.12, -0.32000000000000006, -0.85, -0.11000000000000006, -0.11000000000000021, -0.8700000000000001, -0.29000000000000004, 0.5599999999999998, 1.0, -0.44999999999999996, 0.74, 1.64, 3.43, 2.3200000000000003, 2.3200000000000003, 1.7399999999999998, 1.7400000000000002, 1.6099999999999999, 0.35, 0.87, 1.04, 1.35, 0.9900000000000001, 2.4400000000000004, 2.4400000000000004, 3.1300000000000003, 2.2700000000000005, 2.1000000000000005, 2.9000000000000004, 2.6, 2.65, 2.0700000000000003, 2.0700000000000003, 1.27, 1.6099999999999999, 1.74, 1.74, -0.7899999999999998, -1.2699999999999998, -1.96, -2.01, -2.6999999999999997, -3.2499999999999996, -4.569999999999999, -2.89, -3.29, -4.3100000000000005, -2.2199999999999998, -0.6299999999999999, -2.77, -1.45, 0.019999999999999907, 1.06, 2.08, 0.15000000000000002, -0.56, 0.9400000000000002, 1.93, 0.4600000000000001, -0.9199999999999999, -3.57, -2.8799999999999994, -1.9799999999999995, -0.7899999999999996, -0.40999999999999925, -1.0599999999999996, -1.2199999999999998, 0.4099999999999996, 0.9399999999999998, -1.2200000000000002, -2.41, -5.1, -3.65, -5.279999999999999, -3.76, -4.9799999999999995, -3.39, -4.890000000000001, -2.1999999999999993, -2.8899999999999997, 0.12, -1.4, -0.7100000000000001, -0.4600000000000002, 1.85, -0.1200000000000001, -1.9099999999999997, -1.0099999999999998, -0.8499999999999999, 0.26000000000000023, -2.3, -2.63, -0.4700000000000002, 1.1599999999999997, 0.9699999999999999, 0.20999999999999996, -1.5900000000000003, -0.9900000000000001, -0.9900000000000002, -3.1500000000000004, -0.8700000000000001, -1.0000000000000004, 0.9799999999999998, 1.3199999999999998, 0.7199999999999998, 1.2999999999999998, 1.34, -0.039999999999999813, -1.88, -2.36, -2.74, -1.42, -2.88, -2.92, -2.11, -1.3299999999999996, 0.050000000000000266, 1.4699999999999998, 2.27, 1.77, 1.0500000000000003, -0.6099999999999998, -2.11, -4.2700000000000005, -4.43, -3.670000000000001, -4.2700000000000005, -1.96, -1.8900000000000003, 0.7999999999999998, 0.07999999999999985, 0.9799999999999998, -2.9299999999999997, -1.83, -3.42, -1.2599999999999998, -3.1900000000000004, -2.5900000000000003, -3.49, -1.1400000000000003, 0.07000000000000006, -1.1102230246251565e-16, -0.31999999999999984, 1.04, 1.0400000000000005, 0.16000000000000014, 0.3400000000000001, -1.3199999999999998, -1.3199999999999998, -3.16, -3.83, -2.8099999999999996, -1.0299999999999998, -0.5499999999999998, -0.6000000000000002, 0.7299999999999999, 1.63, 2.49, 3.43, 3.11, 2.75, 2.7500000000000004, 1.4900000000000004, 0.9700000000000003, 0.16000000000000025, 0.16000000000000014, -1.0799999999999998, -1.25, -1.2000000000000002, -0.5999999999999999, 0.4200000000000001, 1.4800000000000002, 0.24000000000000005, -1.08, -1.9300000000000002, -0.9600000000000001, -1.5599999999999998, -2.92, -5.48, -7.83, -7.23, -6.73, -6.210000000000001, -4.620000000000001, -2.8200000000000003, -0.25999999999999934, 1.53, 3.6200000000000006, 4.83, 4.140000000000001, 3.9500000000000006, 3.5100000000000007, 2.93, 5.05, 3.81, 2.6, 3.13, 3.1500000000000004, 1.63, 0.4099999999999999, 0.08999999999999997, 0.14, -0.9599999999999999]\n"
     ]
    }
   ],
   "source": [
    "import pandas as pd\n",
    "\n",
    "# Assuming your DataFrame is called ASE_clear with columns \"Letter\" and \"H\"\n",
    "sequence = \"MSKGEELFTGVVPILVELDGDVNGHKFSVSGEGEGDATYGKLTLKFICTTGKLPVPWPTLVTTLSYGVQCFSRYPDHMKQHDFFKSAMPEGYVQERTIFFKDDGNYKTRAEVKFEGDTLVNRIELKGIDFKEDGNILGHKLEYNYNSHNVYIMADKQKNGIKVNFKIRHNIEDGSVQLADHYQQNTPIGDGPVLLPDNHYLSTQSALSKDPNEKRDHMVLLEFVTAAGITHGMDELYK\"\n",
    "\n",
    "# Assuming \"Letter\" column contains the amino acid letters and \"H\" column contains the property values\n",
    "property_map = dict(zip(ASE_clear[\"Letter\"].dropna(), ASE_clear[\"H\"].dropna()))\n",
    "\n",
    "# Calculate the neighbourhood score for every 7-amino-acid window\n",
    "neighbourhood_scores = []\n",
    "for i in range(len(sequence) - 6):\n",
    "    window = sequence[i:i+7]  # Get the 7-amino-acid window\n",
    "    score = sum(property_map.get(AA, 0) for AA in window)  # Calculate the sum of property values in the window\n",
    "    #sorgt dafür, dass er erstmal schaut, ob es für jede AS spezifisch einen Wert in der Spalte gibt\n",
    "    neighbourhood_scores.append(score)\n",
    "\n",
    "# Print the neighbourhood scores\n",
    "print(neighbourhood_scores)\n"
   ],
   "metadata": {
    "collapsed": false,
    "ExecuteTime": {
     "end_time": "2023-06-12T14:01:17.833263700Z",
     "start_time": "2023-06-12T14:01:17.769688100Z"
    }
   }
  },
  {
   "cell_type": "code",
   "execution_count": 35,
   "outputs": [
    {
     "name": "stdout",
     "output_type": "stream",
     "text": [
      "    Neighbourhood  H-Neighbour\n",
      "0         MSKGEEL        -0.98\n",
      "1         SKGEELF        -0.43\n",
      "2         KGEELFT        -0.30\n",
      "3         GEELFTG         1.68\n",
      "4         EELFTGV         2.01\n",
      "..            ...          ...\n",
      "227       GITHGMD         1.63\n",
      "228       ITHGMDE         0.41\n",
      "229       THGMDEL         0.09\n",
      "230       HGMDELY         0.14\n",
      "231       GMDELYK        -0.96\n",
      "\n",
      "[232 rows x 2 columns]\n"
     ]
    }
   ],
   "source": [
    "import pandas as pd\n",
    "\n",
    "# Assuming your DataFrame is called ASE_clear with columns \"Letter\" and \"H\"\n",
    "sequence = \"MSKGEELFTGVVPILVELDGDVNGHKFSVSGEGEGDATYGKLTLKFICTTGKLPVPWPTLVTTLSYGVQCFSRYPDHMKQHDFFKSAMPEGYVQERTIFFKDDGNYKTRAEVKFEGDTLVNRIELKGIDFKEDGNILGHKLEYNYNSHNVYIMADKQKNGIKVNFKIRHNIEDGSVQLADHYQQNTPIGDGPVLLPDNHYLSTQSALSKDPNEKRDHMVLLEFVTAAGITHGMDELYK\"\n",
    "\n",
    "# Assuming \"Letter\" column contains the amino acid letters and \"H\" column contains the property values\n",
    "property_map = dict(zip(ASE_clear[\"Letter\"].dropna(), ASE_clear[\"H\"].dropna()))\n",
    "\n",
    "# Create a list to store the results\n",
    "results = []\n",
    "\n",
    "# Calculate the neighbourhood score for every 7-amino-acid window\n",
    "for i in range(len(sequence) - 6):\n",
    "    neighbourhood = sequence[i:i+7]  # Get the 7-amino-acid neighbourhood sequence\n",
    "    score = sum(property_map.get(AA, 0) for AA in neighbourhood)  # Calculate the sum of property values in the neighbourhood\n",
    "    #sorgt dafür, dass er erstmal schaut, ob es für jede AS spezifisch einen Wert in der Spalte gibt\n",
    "    results.append((neighbourhood, score))  # Store the neighbourhood sequence and its corresponding score\n",
    "\n",
    "# Create a dataframe from the results\n",
    "df = pd.DataFrame(results, columns=[\"Neighbourhood\", \"H-Neighbour\"])\n",
    "\n",
    "# Print the dataframe\n",
    "print(df)\n",
    "#Macht ein Dataframe mit allen Nachbarschaften und den jeweiligen Ergebnissen\n",
    "##Nachbarschaften von Hydrophobicität"
   ],
   "metadata": {
    "collapsed": false,
    "ExecuteTime": {
     "end_time": "2023-06-12T14:05:30.167456600Z",
     "start_time": "2023-06-12T14:05:30.132051400Z"
    }
   }
  },
  {
   "cell_type": "code",
   "execution_count": 13,
   "outputs": [
    {
     "name": "stdout",
     "output_type": "stream",
     "text": [
      "      Position New_AS  Fitness_Score\n",
      "4            3      R       3.738586\n",
      "48           3      Q       3.750487\n",
      "703          3      E       3.666278\n",
      "924          3      M       3.698336\n",
      "1160         3      T       3.629775\n",
      "...        ...    ...            ...\n",
      "51709      237      N       3.809468\n",
      "51710      237      C       3.760217\n",
      "51711      237      D       3.754101\n",
      "51712      237      F       3.673173\n",
      "51713      237      H       3.735417\n",
      "\n",
      "[1084 rows x 3 columns]\n"
     ]
    }
   ],
   "source": [
    "letzter_buchstabe = []\n",
    "for index, row in original_datei.iterrows():\n",
    "    last_character = row[\"mutant\"][-1]\n",
    "    letzter_buchstabe.append(last_character)\n",
    "letzter_buchstabe_df = pd.DataFrame(letzter_buchstabe, columns=[\"New_AS\"])\n",
    "#print(letzter_buchstabe_df)\n",
    "#Letzter Buchstabe in jeder Zeile\n",
    "\n",
    "number_mutations = original_datei[\"mutant\"].str.count(\":\") + 1\n",
    "number_mutations_Single = number_mutations == 1\n",
    "#print(number_mutations_Single)\n",
    "#True sind alle Zeilen, die nur eine Mutation tragen\n",
    "\n",
    "single_mutants_df = letzter_buchstabe_df[number_mutations_Single]\n",
    "#print(single_mutants_df)\n",
    "#Filtert alle True Zeilen aus beiden Dataframes und erstellt ein neues Dataframe. Er übernimmt automatisch die Filterung nach \"True\"-Werten\n",
    "dms_score_df = []\n",
    "for index, row in original_datei.iterrows():\n",
    "    dms_score = row[\"DMS_score\"]\n",
    "    dms_score_df.append(dms_score)\n",
    "dms_score_df_alle = pd.DataFrame(dms_score_df, columns=[\"Fitness_Score\"])\n",
    "#print(dms_score_df_alle)\n",
    "#erstellt Dataframe mit allen DMS-scores und der jeweiligen Experimentnummer\n",
    "dms_score_filtered = dms_score_df_alle[number_mutations_Single]\n",
    "#print(dms_score_filtered)\n",
    "#Dataframe mit allen DMS-scores der Einzelmutanten\n",
    "dms_score_filtered_newAS = single_mutants_df.join(dms_score_filtered)\n",
    "#print(dms_score_filtered_newAS)\n",
    "#Kombiniert und erstellt ein neues Dataframe mit der neuen AS und dem jeweiligen DMS-score\n",
    "mutations_pos = []\n",
    "for index, row in original_datei.iterrows():\n",
    "    mutations_pos_nummer = row[\"mutant\"][1:-1]\n",
    "    mutations_pos.append(mutations_pos_nummer)\n",
    "mutations_pos_df = pd.DataFrame(mutations_pos, columns=[\"Position\"])\n",
    "#print(mutations_pos_df)\n",
    "#Entfernt erstmal nur das erste und letzte Zeichen\n",
    "number_mutations = original_datei[\"mutant\"].str.count(\":\") + 1\n",
    "number_mutations_Single = number_mutations == 1\n",
    "#print(number_mutations_Single)\n",
    "#True sind alle Zeilen, die nur eine Mutation tragen\n",
    "single_mutants_df_pos = mutations_pos_df[number_mutations_Single]\n",
    "#print(single_mutants_df_pos)\n",
    "#Erstellt ein Dataframe, dass die Positionen innerhalb des Proteins aller Einzelmutanten zeigt\n",
    "mutations_pos_df_mit_scores = single_mutants_df_pos.join(dms_score_filtered)\n",
    "#print(mutations_pos_df_mit_scores)\n",
    "#Kombiniert und erstellt Dataframe mit der Position der Mutation und dem jeweiligen DMS-score (zeigt NICHT die neuen AS)\n",
    "new_column = mutations_pos_df_mit_scores[\"Position\"]\n",
    "Roman_1 = dms_score_filtered_newAS.join(new_column)\n",
    "Roman_1 = Roman_1[[\"Position\", \"New_AS\", \"Fitness_Score\"]]\n",
    "print(Roman_1)\n",
    "#Erstellt neues Dataframe mit Position, neuer AS und DMS-score"
   ],
   "metadata": {
    "collapsed": false,
    "ExecuteTime": {
     "end_time": "2023-07-07T13:58:34.740520Z",
     "start_time": "2023-07-07T13:58:27.071603100Z"
    }
   }
  },
  {
   "cell_type": "code",
   "execution_count": 7,
   "outputs": [
    {
     "ename": "TypeError",
     "evalue": "unsupported operand type(s) for +: 'int' and 'str'",
     "output_type": "error",
     "traceback": [
      "\u001B[1;31m---------------------------------------------------------------------------\u001B[0m",
      "\u001B[1;31mTypeError\u001B[0m                                 Traceback (most recent call last)",
      "Cell \u001B[1;32mIn[7], line 17\u001B[0m\n\u001B[0;32m     15\u001B[0m result \u001B[38;5;241m=\u001B[39m {\u001B[38;5;124m\"\u001B[39m\u001B[38;5;124mNeighbourhood\u001B[39m\u001B[38;5;124m\"\u001B[39m: neighbourhood}\n\u001B[0;32m     16\u001B[0m \u001B[38;5;28;01mfor\u001B[39;00m property_name, property_map \u001B[38;5;129;01min\u001B[39;00m property_maps\u001B[38;5;241m.\u001B[39mitems():\n\u001B[1;32m---> 17\u001B[0m     score \u001B[38;5;241m=\u001B[39m \u001B[38;5;28;43msum\u001B[39;49m\u001B[43m(\u001B[49m\u001B[43mproperty_map\u001B[49m\u001B[38;5;241;43m.\u001B[39;49m\u001B[43mget\u001B[49m\u001B[43m(\u001B[49m\u001B[43mAA\u001B[49m\u001B[43m,\u001B[49m\u001B[43m \u001B[49m\u001B[38;5;241;43m0\u001B[39;49m\u001B[43m)\u001B[49m\u001B[43m \u001B[49m\u001B[38;5;28;43;01mfor\u001B[39;49;00m\u001B[43m \u001B[49m\u001B[43mAA\u001B[49m\u001B[43m \u001B[49m\u001B[38;5;129;43;01min\u001B[39;49;00m\u001B[43m \u001B[49m\u001B[43mneighbourhood\u001B[49m\u001B[43m)\u001B[49m  \u001B[38;5;66;03m# Calculate the sum of property values in the neighbourhood\u001B[39;00m\n\u001B[0;32m     18\u001B[0m     result[property_name] \u001B[38;5;241m=\u001B[39m score\n\u001B[0;32m     19\u001B[0m results\u001B[38;5;241m.\u001B[39mappend(result)  \u001B[38;5;66;03m# Store the result for the neighbourhood\u001B[39;00m\n",
      "\u001B[1;31mTypeError\u001B[0m: unsupported operand type(s) for +: 'int' and 'str'"
     ]
    }
   ],
   "source": [
    "import pandas as pd\n",
    "sequence = \"MSKGEELFTGVVPILVELDGDVNGHKFSVSGEGEGDATYGKLTLKFICTTGKLPVPWPTLVTTLSYGVQCFSRYPDHMKQHDFFKSAMPEGYVQERTIFFKDDGNYKTRAEVKFEGDTLVNRIELKGIDFKEDGNILGHKLEYNYNSHNVYIMADKQKNGIKVNFKIRHNIEDGSVQLADHYQQNTPIGDGPVLLPDNHYLSTQSALSKDPNEKRDHMVLLEFVTAAGITHGMDELYK\"\n",
    "\n",
    "# Create a dictionary of property maps for each property\n",
    "property_maps = {}\n",
    "for property_name in ASE_clear.columns[1:]:\n",
    "    property_maps[property_name] = dict(zip(ASE_clear[\"Letter\"].dropna(), ASE_clear[property_name].dropna()))\n",
    "\n",
    "# Create a list to store the results\n",
    "results = []\n",
    "\n",
    "# Calculate the neighbourhood score for every 7-amino-acid window for each property\n",
    "for i in range(len(sequence) - 6):\n",
    "    neighbourhood = sequence[i:i+7]  # Get the 7-amino-acid neighbourhood sequence\n",
    "    result = {\"Neighbourhood\": neighbourhood}\n",
    "    for property_name, property_map in property_maps.items():\n",
    "        score = sum(property_map.get(AA, 0) for AA in neighbourhood)  # Calculate the sum of property values in the neighbourhood\n",
    "        result[property_name] = score\n",
    "    results.append(result)  # Store the result for the neighbourhood\n",
    "\n",
    "# Create a dataframe from the results\n",
    "unmutiert_alle_eig_neighb = pd.DataFrame(results)\n",
    "\n",
    "# Print the dataframe\n",
    "print(unmutiert_alle_eig_neighb)\n",
    "#Unmutierte Referenz!!!"
   ],
   "metadata": {
    "collapsed": false,
    "ExecuteTime": {
     "end_time": "2023-07-07T13:37:02.327478Z",
     "start_time": "2023-07-07T13:37:01.642807900Z"
    }
   }
  },
  {
   "cell_type": "code",
   "execution_count": 17,
   "outputs": [
    {
     "name": "stdout",
     "output_type": "stream",
     "text": [
      "      mutant                                   mutated_sequence  DMS_score  \\\n",
      "4        K3R  MSRGEELFTGVVPILVELDGDVNGHKFSVSGEGEGDATYGKLTLKF...   3.738586   \n",
      "48       K3Q  MSQGEELFTGVVPILVELDGDVNGHKFSVSGEGEGDATYGKLTLKF...   3.750487   \n",
      "703      K3E  MSEGEELFTGVVPILVELDGDVNGHKFSVSGEGEGDATYGKLTLKF...   3.666278   \n",
      "924      K3M  MSMGEELFTGVVPILVELDGDVNGHKFSVSGEGEGDATYGKLTLKF...   3.698336   \n",
      "1160     K3T  MSTGEELFTGVVPILVELDGDVNGHKFSVSGEGEGDATYGKLTLKF...   3.629775   \n",
      "...      ...                                                ...        ...   \n",
      "51709  Y237N  MSKGEELFTGVVPILVELDGDVNGHKFSVSGEGEGDATYGKLTLKF...   3.809468   \n",
      "51710  Y237C  MSKGEELFTGVVPILVELDGDVNGHKFSVSGEGEGDATYGKLTLKF...   3.760217   \n",
      "51711  Y237D  MSKGEELFTGVVPILVELDGDVNGHKFSVSGEGEGDATYGKLTLKF...   3.754101   \n",
      "51712  Y237F  MSKGEELFTGVVPILVELDGDVNGHKFSVSGEGEGDATYGKLTLKF...   3.673173   \n",
      "51713  Y237H  MSKGEELFTGVVPILVELDGDVNGHKFSVSGEGEGDATYGKLTLKF...   3.735417   \n",
      "\n",
      "       DMS_score_bin  \n",
      "4                  1  \n",
      "48                 1  \n",
      "703                1  \n",
      "924                1  \n",
      "1160               1  \n",
      "...              ...  \n",
      "51709              1  \n",
      "51710              1  \n",
      "51711              1  \n",
      "51712              1  \n",
      "51713              1  \n",
      "\n",
      "[1084 rows x 4 columns]\n"
     ]
    }
   ],
   "source": [
    "import pandas as pd\n",
    "\n",
    "# Count the number of mutations in each row\n",
    "original_datei[\"MutationCount\"] = original_datei[\"mutant\"].str.count(\":\") + 1\n",
    "\n",
    "# Filter the DataFrame to select rows with a single mutation\n",
    "single_mutations_df = original_datei[original_datei[\"MutationCount\"] == 1].copy()\n",
    "\n",
    "# Drop the \"MutationCount\" column if not needed anymore\n",
    "single_mutations_df.drop(\"MutationCount\", axis=1, inplace=True)\n",
    "\n",
    "# Print the resulting DataFrame\n",
    "print(single_mutations_df)\n",
    "#Erstellt Einzelmutanten --> besser als der vorige code um einzelmutanten zu erstellen?"
   ],
   "metadata": {
    "collapsed": false,
    "ExecuteTime": {
     "end_time": "2023-07-07T14:47:51.700340700Z",
     "start_time": "2023-07-07T14:47:51.452975100Z"
    }
   }
  },
  {
   "cell_type": "code",
   "execution_count": 16,
   "outputs": [
    {
     "ename": "TypeError",
     "evalue": "unsupported operand type(s) for +: 'int' and 'str'",
     "output_type": "error",
     "traceback": [
      "\u001B[1;31m---------------------------------------------------------------------------\u001B[0m",
      "\u001B[1;31mTypeError\u001B[0m                                 Traceback (most recent call last)",
      "Cell \u001B[1;32mIn[16], line 26\u001B[0m\n\u001B[0;32m     24\u001B[0m \u001B[38;5;28;01mfor\u001B[39;00m i \u001B[38;5;129;01min\u001B[39;00m \u001B[38;5;28mrange\u001B[39m(\u001B[38;5;28mlen\u001B[39m(mutated_sequence) \u001B[38;5;241m-\u001B[39m \u001B[38;5;241m6\u001B[39m):\n\u001B[0;32m     25\u001B[0m     neighborhood \u001B[38;5;241m=\u001B[39m mutated_sequence[i:i\u001B[38;5;241m+\u001B[39m\u001B[38;5;241m7\u001B[39m]  \u001B[38;5;66;03m# Get the 7-amino-acid neighborhood sequence\u001B[39;00m\n\u001B[1;32m---> 26\u001B[0m     score \u001B[38;5;241m=\u001B[39m \u001B[38;5;28;43msum\u001B[39;49m\u001B[43m(\u001B[49m\u001B[43mproperty_map\u001B[49m\u001B[38;5;241;43m.\u001B[39;49m\u001B[43mget\u001B[49m\u001B[43m(\u001B[49m\u001B[43maa\u001B[49m\u001B[43m,\u001B[49m\u001B[43m \u001B[49m\u001B[38;5;241;43m0\u001B[39;49m\u001B[43m)\u001B[49m\u001B[43m \u001B[49m\u001B[38;5;28;43;01mfor\u001B[39;49;00m\u001B[43m \u001B[49m\u001B[43maa\u001B[49m\u001B[43m \u001B[49m\u001B[38;5;129;43;01min\u001B[39;49;00m\u001B[43m \u001B[49m\u001B[43mneighborhood\u001B[49m\u001B[43m)\u001B[49m  \u001B[38;5;66;03m# Calculate the sum of property values in the neighborhood\u001B[39;00m\n\u001B[0;32m     27\u001B[0m     property_scores\u001B[38;5;241m.\u001B[39mappend(score)\n\u001B[0;32m     28\u001B[0m result[property_name] \u001B[38;5;241m=\u001B[39m property_scores\n",
      "\u001B[1;31mTypeError\u001B[0m: unsupported operand type(s) for +: 'int' and 'str'"
     ]
    }
   ],
   "source": [
    "import pandas as pd\n",
    "\n",
    "# Assuming your DataFrame with single mutations is called \"single_mutations_df\" with columns \"mutation\", \"mutated_sequence\", and \"fitness_score\"\n",
    "# Assuming your DataFrame with amino acid properties is called \"ASE_clear\" with columns \"Letter\" and property columns for each property\n",
    "unmutated_sequence = \"MSKGEELFTGVVPILVELDGDVNGHKFSVSGEGEGDATYGKLTLKFICTTGKLPVPWPTLVTTLSYGVQCFSRYPDHMKQHDFFKSAMPEGYVQERTIFFKDDGNYKTRAEVKFEGDTLVNRIELKGIDFKEDGNILGHKLEYNYNSHNVYIMADKQKNGIKVNFKIRHNIEDGSVQLADHYQQNTPIGDGPVLLPDNHYLSTQSALSKDPNEKRDHMVLLEFVTAAGITHGMDELYK\"\n",
    "\n",
    "# Create a dictionary of property maps for each property\n",
    "property_maps = {}\n",
    "for property_name in ASE_clear.columns[1:]:\n",
    "    property_maps[property_name] = dict(zip(ASE_clear[\"Letter\"], ASE_clear[property_name]))\n",
    "\n",
    "# Create a list to store the results\n",
    "results = []\n",
    "\n",
    "# Generate mutated sequences and calculate properties for each mutation\n",
    "for _, row in single_mutations_df.iterrows():\n",
    "    mutation = row[\"mutant\"]\n",
    "    mutated_sequence = unmutated_sequence[:int(mutation[1])-1] + mutation[-1] + unmutated_sequence[int(mutation[1]):]  # Generate mutated sequence\n",
    "    result = {\"Mutation\": mutation, \"Sequence\": mutated_sequence, \"Fitness\": row[\"DMS_score\"]}\n",
    "\n",
    "    # Calculate properties for each neighborhood frame\n",
    "    for property_name, property_map in property_maps.items():\n",
    "        property_scores = []\n",
    "        for i in range(len(mutated_sequence) - 6):\n",
    "            neighborhood = mutated_sequence[i:i+7]  # Get the 7-amino-acid neighborhood sequence\n",
    "            score = sum(property_map.get(aa, 0) for aa in neighborhood)  # Calculate the sum of property values in the neighborhood\n",
    "            property_scores.append(score)\n",
    "        result[property_name] = property_scores\n",
    "\n",
    "    results.append(result)  # Store the result for the mutation\n",
    "\n",
    "# Create a dataframe from the results\n",
    "df = pd.DataFrame(results)\n",
    "\n",
    "# Print the dataframe\n",
    "print(df)\n",
    "#Hier sind alle Eigenschafts-Werte in einer Zelle, aber die Namen der Mutation stehen da"
   ],
   "metadata": {
    "collapsed": false,
    "ExecuteTime": {
     "end_time": "2023-07-07T14:00:04.881235Z",
     "start_time": "2023-07-07T14:00:04.850961300Z"
    }
   }
  },
  {
   "cell_type": "code",
   "execution_count": 65,
   "outputs": [
    {
     "name": "stdout",
     "output_type": "stream",
     "text": [
      "     Mutation   Fitness                                   Molecular Weight  \\\n",
      "0         K3R  3.738586  [929.01, 944.99, 959.0200000000001, 859.890000...   \n",
      "1         K3Q  3.750487  [900.96, 916.94, 930.9700000000001, 859.890000...   \n",
      "2         K3E  3.666278  [901.94, 917.9200000000001, 931.9500000000002,...   \n",
      "3         K3M  3.698336  [904.02, 920.0, 934.0300000000001, 859.8900000...   \n",
      "4         K3T  3.629775  [873.9300000000001, 889.9100000000001, 903.939...   \n",
      "...       ...       ...                                                ...   \n",
      "1079    Y237N  3.809468  [928.03, 944.01, 931.0100000000001, 859.890000...   \n",
      "1080    Y237C  3.760217  [917.0699999999999, 933.0500000000002, 931.010...   \n",
      "1081    Y237D  3.754101  [929.02, 945.0, 931.0100000000001, 859.8900000...   \n",
      "1082    Y237F  3.673173  [961.0999999999999, 977.0799999999999, 931.010...   \n",
      "1083    Y237H  3.735417  [951.0699999999999, 967.05, 931.0100000000001,...   \n",
      "\n",
      "                                         Residue Weight  \\\n",
      "0     [802.92, 818.8999999999999, 832.93, 733.790000...   \n",
      "1     [774.8599999999999, 790.8399999999999, 804.87,...   \n",
      "2     [775.8499999999999, 791.8299999999999, 805.86,...   \n",
      "3     [777.93, 793.9099999999999, 807.9399999999999,...   \n",
      "4     [747.84, 763.8199999999999, 777.85, 733.790000...   \n",
      "...                                                 ...   \n",
      "1079  [801.94, 817.9200000000001, 804.92, 733.790000...   \n",
      "1080  [790.98, 806.96, 804.92, 733.7900000000001, 77...   \n",
      "1081  [802.9200000000001, 818.8999999999999, 804.92,...   \n",
      "1082  [835.01, 850.99, 804.92, 733.7900000000001, 77...   \n",
      "1083  [824.97, 840.95, 804.92, 733.7900000000001, 77...   \n",
      "\n",
      "                                                   pKa1  \\\n",
      "0     [15.739999999999998, 15.29, 15.169999999999998...   \n",
      "1     [15.739999999999998, 15.29, 15.169999999999998...   \n",
      "2     [15.759999999999998, 15.309999999999999, 15.18...   \n",
      "3     [15.849999999999998, 15.399999999999999, 15.27...   \n",
      "4     [15.659999999999998, 15.209999999999999, 15.08...   \n",
      "...                                                 ...   \n",
      "1079  [15.559999999999999, 15.11, 15.179999999999998...   \n",
      "1080  [15.499999999999998, 15.049999999999999, 15.17...   \n",
      "1081  [15.419999999999998, 14.969999999999999, 15.17...   \n",
      "1082  [15.369999999999997, 14.919999999999998, 15.17...   \n",
      "1083  [15.359999999999998, 14.909999999999998, 15.17...   \n",
      "\n",
      "                                                   pKb2  \\\n",
      "0     [65.94, 65.86, 65.81, 66.37, 66.39, 66.34, 67....   \n",
      "1     [66.03, 65.95, 65.9, 66.37, 66.39, 66.34, 67.2...   \n",
      "2     [66.57000000000001, 66.49000000000001, 66.44, ...   \n",
      "3     [66.11, 66.03, 65.98, 66.37, 66.39, 66.34, 67....   \n",
      "4     [66.0, 65.92, 65.87, 66.37, 66.39, 66.34, 67.2...   \n",
      "...                                                 ...   \n",
      "1079  [65.5, 65.42, 65.72, 66.37, 66.39, 66.34, 67.2...   \n",
      "1080  [66.98, 66.9, 65.72, 66.37, 66.39, 66.34, 67.2...   \n",
      "1081  [66.3, 66.22, 65.72, 66.37, 66.39, 66.34, 67.2...   \n",
      "1082  [65.83, 65.75, 65.72, 66.37, 66.39, 66.34, 67....   \n",
      "1083  [65.87, 65.79, 65.72, 66.37, 66.39, 66.34, 67....   \n",
      "\n",
      "                                                   pKx3  \\\n",
      "0     [nan, nan, nan, nan, nan, nan, nan, nan, nan, ...   \n",
      "1     [nan, nan, nan, nan, nan, nan, nan, nan, nan, ...   \n",
      "2     [nan, nan, nan, nan, nan, nan, nan, nan, nan, ...   \n",
      "3     [nan, nan, nan, nan, nan, nan, nan, nan, nan, ...   \n",
      "4     [nan, nan, nan, nan, nan, nan, nan, nan, nan, ...   \n",
      "...                                                 ...   \n",
      "1079  [nan, nan, nan, nan, nan, nan, nan, nan, nan, ...   \n",
      "1080  [nan, nan, nan, nan, nan, nan, nan, nan, nan, ...   \n",
      "1081  [nan, nan, nan, nan, nan, nan, nan, nan, nan, ...   \n",
      "1082  [nan, nan, nan, nan, nan, nan, nan, nan, nan, ...   \n",
      "1083  [nan, nan, nan, nan, nan, nan, nan, nan, nan, ...   \n",
      "\n",
      "                                                    pl4  \\\n",
      "0     [40.56999999999999, 40.31, 40.23, 35.44, 35.43...   \n",
      "1     [35.459999999999994, 35.2, 35.120000000000005,...   \n",
      "2     [33.03, 32.769999999999996, 32.69, 35.44, 35.4...   \n",
      "3     [35.55, 35.29, 35.21, 35.44, 35.43, 38.17, 41....   \n",
      "4     [35.41, 35.15, 35.07, 35.44, 35.43, 38.17, 41....   \n",
      "...                                                 ...   \n",
      "1079  [39.28, 39.019999999999996, 39.21, 35.44, 35.4...   \n",
      "1080  [38.94, 38.68000000000001, 39.21, 35.44, 35.43...   \n",
      "1081  [36.64, 36.379999999999995, 39.21, 35.44, 35.4...   \n",
      "1082  [39.349999999999994, 39.09, 39.21, 35.44, 35.4...   \n",
      "1083  [41.459999999999994, 41.2, 39.21, 35.44, 35.43...   \n",
      "\n",
      "                                                      H  \\\n",
      "0     [-2.0100000000000002, -1.46, -1.33000000000000...   \n",
      "1     [-0.32999999999999985, 0.21999999999999975, 0....   \n",
      "2     [-0.21999999999999997, 0.33000000000000007, 0....   \n",
      "3     [1.1600000000000001, 1.71, 1.84, 1.68, 2.28000...   \n",
      "4     [0.4700000000000001, 1.02, 1.15, 1.68, 2.28000...   \n",
      "...                                                 ...   \n",
      "1079  [-1.58, -1.0300000000000002, -0.3, 1.68, 2.280...   \n",
      "1080  [-0.51, 0.040000000000000036, -0.3, 1.68, 2.28...   \n",
      "1081  [-1.6999999999999997, -1.1500000000000004, -0....   \n",
      "1082  [0.3900000000000001, 0.94, -0.3, 1.68, 2.28000...   \n",
      "1083  [-1.1999999999999997, -0.6500000000000004, -0....   \n",
      "\n",
      "                                                    VSC  \\\n",
      "0     [445.9, 467.3, 489.3, 384.3, 455.8, 465.3, 445...   \n",
      "1     [421.6, 443.0, 465.0, 384.3, 455.8, 465.3, 445...   \n",
      "2     [402.9, 424.3, 446.3, 384.3, 455.8, 465.3, 445...   \n",
      "3     [435.0, 456.4, 478.40000000000003, 384.3, 455....   \n",
      "4     [392.2, 413.6, 435.6, 384.3, 455.8, 465.3, 445...   \n",
      "...                                                 ...   \n",
      "1079  [470.3, 491.7, 484.3, 384.3, 455.8, 465.3, 445...   \n",
      "1080  [456.2, 477.6, 484.3, 384.3, 455.8, 465.3, 445...   \n",
      "1081  [451.6, 473.0, 484.3, 384.3, 455.8, 465.3, 445...   \n",
      "1082  [527.1, 548.5, 484.3, 384.3, 455.8, 465.3, 445...   \n",
      "1083  [490.6, 512.0, 484.3, 384.3, 455.8, 465.3, 445...   \n",
      "\n",
      "                                                     P1  \\\n",
      "0     [63.9, 63.4, 62.800000000000004, 61.3000000000...   \n",
      "1     [63.9, 63.4, 62.800000000000004, 61.3000000000...   \n",
      "2     [65.7, 65.19999999999999, 64.60000000000001, 6...   \n",
      "3     [59.1, 58.6, 58.0, 61.300000000000004, 58.2, 5...   \n",
      "4     [61.99999999999999, 61.49999999999999, 60.9000...   \n",
      "...                                                 ...   \n",
      "1079  [67.10000000000001, 66.6, 63.60000000000001, 6...   \n",
      "1080  [60.99999999999999, 60.50000000000001, 63.6000...   \n",
      "1081  [68.5, 67.99999999999999, 63.60000000000001, 6...   \n",
      "1082  [60.699999999999996, 60.199999999999996, 63.60...   \n",
      "1083  [65.9, 65.39999999999999, 63.60000000000001, 6...   \n",
      "\n",
      "                                                     P2  \\\n",
      "0     [1.062, 1.131, 1.177, 0.886, 1.026, 1.01500000...   \n",
      "1     [0.9510000000000001, 1.02, 1.066, 0.886, 1.026...   \n",
      "2     [0.9220000000000002, 0.9910000000000001, 1.037...   \n",
      "3     [0.992, 1.0610000000000002, 1.1070000000000002...   \n",
      "4     [0.879, 0.948, 0.9940000000000001, 0.886, 1.02...   \n",
      "...                                                 ...   \n",
      "1079  [1.062, 1.131, 1.1050000000000002, 0.886, 1.02...   \n",
      "1080  [1.056, 1.125, 1.1050000000000002, 0.886, 1.02...   \n",
      "1081  [1.0330000000000001, 1.102, 1.1050000000000002...   \n",
      "1082  [1.218, 1.2870000000000001, 1.1050000000000002...   \n",
      "1083  [1.1580000000000001, 1.227, 1.1050000000000002...   \n",
      "\n",
      "                                                   SASA  \\\n",
      "0     [12.428, 12.622000000000002, 12.849, 11.170000...   \n",
      "1     [11.8, 11.994, 12.221, 11.170000000000002, 11....   \n",
      "2     [11.73, 11.924000000000001, 12.151, 11.1700000...   \n",
      "3     [11.902000000000001, 12.096, 12.323, 11.170000...   \n",
      "4     [11.393, 11.587, 11.814, 11.170000000000002, 1...   \n",
      "...                                                 ...   \n",
      "1079  [12.483, 12.677000000000001, 12.547, 11.170000...   \n",
      "1080  [12.289000000000001, 12.483000000000002, 12.54...   \n",
      "1081  [12.415, 12.609, 12.547, 11.170000000000002, 1...   \n",
      "1082  [13.056000000000001, 13.250000000000002, 12.54...   \n",
      "1083  [12.852999999999998, 13.046999999999999, 12.54...   \n",
      "\n",
      "                                                  NCISC  \n",
      "0     [0.295225, 0.330094, 0.328819, 0.4642840000000...  \n",
      "1     [0.300849, 0.33571799999999996, 0.334443000000...  \n",
      "2     [0.25844, 0.29330900000000004, 0.292034, 0.464...  \n",
      "3     [0.254321, 0.28919000000000006, 0.287915000000...  \n",
      "4     [0.25499, 0.289859, 0.288584, 0.46428400000000...  \n",
      "...                                                 ...  \n",
      "1079  [0.270111, 0.30498000000000003, 0.30294, 0.464...  \n",
      "1080  [0.228109, 0.262978, 0.30294, 0.46428400000000...  \n",
      "1081  [0.240899, 0.275768, 0.30294, 0.46428400000000...  \n",
      "1082  [0.30227099999999996, 0.33714, 0.30294, 0.4642...  \n",
      "1083  [0.254029, 0.288898, 0.30294, 0.46428400000000...  \n",
      "\n",
      "[1084 rows x 14 columns]\n"
     ]
    }
   ],
   "source": [
    "ASE_df_final = df.drop(\"Sequence\", axis=1)\n",
    "print(ASE_df_final)"
   ],
   "metadata": {
    "collapsed": false,
    "ExecuteTime": {
     "end_time": "2023-06-12T15:09:17.393603800Z",
     "start_time": "2023-06-12T15:09:17.272262500Z"
    }
   }
  },
  {
   "cell_type": "code",
   "execution_count": 69,
   "outputs": [
    {
     "name": "stdout",
     "output_type": "stream",
     "text": [
      "   Letter  Molecular Weight  Residue Weight  pKa1   pKb2   pKx3    pl4     H  \\\n",
      "0       A             89.10           71.08  2.34   9.69    NaN   6.00  0.62   \n",
      "1       C            121.16          103.15  1.96  10.28   8.18   5.07  0.29   \n",
      "2       D            133.11          115.09  1.88   9.60   3.65   2.77 -0.90   \n",
      "3       E            147.13          129.12  2.19   9.67   4.25   3.22 -0.74   \n",
      "4       F            165.19          147.18  1.83   9.13    NaN   5.48  1.19   \n",
      "5       G             75.07           57.05  2.34   9.60    NaN   5.97  0.48   \n",
      "6       H            155.16          137.14  1.82   9.17   6.00   7.59 -0.40   \n",
      "7       I            131.18          113.16  2.36   9.60    NaN   6.02  1.38   \n",
      "8       K            146.19          128.18  2.18   8.95  10.53   9.74 -1.50   \n",
      "9       L            131.18          113.16  2.36   9.60    NaN   5.98  1.06   \n",
      "10      M            149.21          131.20  2.28   9.21    NaN   5.74  0.64   \n",
      "11      N            132.12          114.11  2.02   8.80    NaN   5.41 -0.78   \n",
      "13      P            115.13           97.12  1.99  10.60    NaN   6.30  0.12   \n",
      "14      Q            146.15          128.13  2.17   9.13    NaN   5.65 -0.85   \n",
      "15      R            174.20          156.19  2.17   9.04  12.48  10.76 -2.53   \n",
      "16      S            105.09           87.08  2.21   9.15    NaN   5.68 -0.18   \n",
      "17      T            119.12          101.11  2.09   9.10    NaN   5.60 -0.05   \n",
      "18      U            139.11          121.09   NaN    NaN    NaN   5.68   NaN   \n",
      "19      V            117.15           99.13  2.32   9.62    NaN   5.96  1.08   \n",
      "20      W            204.23          186.22  2.83   9.39    NaN   5.89  0.81   \n",
      "21      Y            181.19          163.18  2.20   9.11  10.07   5.66  0.26   \n",
      "\n",
      "      VSC    P1     P2   SASA     NCISC  \n",
      "0    27.5   8.1  0.046  1.181  0.007187  \n",
      "1    44.6   5.5  0.128  1.461 -0.036610  \n",
      "2    40.0  13.0  0.105  1.587 -0.023820  \n",
      "3    62.0  12.3  0.151  1.862  0.006802  \n",
      "4   115.5   5.2  0.290  2.228  0.037552  \n",
      "5     0.0   9.0  0.000  0.881  0.179052  \n",
      "6    79.0  10.4  0.230  2.025 -0.010690  \n",
      "7    93.5   5.2  0.186  1.810  0.021631  \n",
      "8   100.0  11.3  0.219  2.258  0.017708  \n",
      "9    93.5   4.9  0.186  1.931  0.051672  \n",
      "10   94.1   5.7  0.221  2.034  0.002683  \n",
      "11   58.7  11.6  0.134  1.655  0.005392  \n",
      "13   41.9   8.0  0.131  1.468  0.239531  \n",
      "14   80.7  10.5  0.180  1.932  0.049211  \n",
      "15  105.0  10.5  0.291  2.560  0.043587  \n",
      "16   29.3   9.2  0.062  1.298  0.004627  \n",
      "17   51.3   8.6  0.108  1.525  0.003352  \n",
      "18    NaN   NaN    NaN    NaN       NaN  \n",
      "19   71.5   5.9  0.140  1.645  0.057004  \n",
      "20  145.5   5.4  0.409  2.663  0.037977  \n",
      "21  117.3   6.2  0.298  2.368  0.023599  \n"
     ]
    }
   ],
   "source": [
    "print(ASE_clear)"
   ],
   "metadata": {
    "collapsed": false,
    "ExecuteTime": {
     "end_time": "2023-06-12T15:16:38.885148Z",
     "start_time": "2023-06-12T15:16:38.850046300Z"
    }
   }
  },
  {
   "cell_type": "code",
   "execution_count": 71,
   "outputs": [
    {
     "name": "stdout",
     "output_type": "stream",
     "text": [
      "      mutant                                   mutated_sequence  DMS_score  \\\n",
      "4        K3R  MSRGEELFTGVVPILVELDGDVNGHKFSVSGEGEGDATYGKLTLKF...   3.738586   \n",
      "48       K3Q  MSQGEELFTGVVPILVELDGDVNGHKFSVSGEGEGDATYGKLTLKF...   3.750487   \n",
      "703      K3E  MSEGEELFTGVVPILVELDGDVNGHKFSVSGEGEGDATYGKLTLKF...   3.666278   \n",
      "924      K3M  MSMGEELFTGVVPILVELDGDVNGHKFSVSGEGEGDATYGKLTLKF...   3.698336   \n",
      "1160     K3T  MSTGEELFTGVVPILVELDGDVNGHKFSVSGEGEGDATYGKLTLKF...   3.629775   \n",
      "...      ...                                                ...        ...   \n",
      "51709  Y237N  MSKGEELFTGVVPILVELDGDVNGHKFSVSGEGEGDATYGKLTLKF...   3.809468   \n",
      "51710  Y237C  MSKGEELFTGVVPILVELDGDVNGHKFSVSGEGEGDATYGKLTLKF...   3.760217   \n",
      "51711  Y237D  MSKGEELFTGVVPILVELDGDVNGHKFSVSGEGEGDATYGKLTLKF...   3.754101   \n",
      "51712  Y237F  MSKGEELFTGVVPILVELDGDVNGHKFSVSGEGEGDATYGKLTLKF...   3.673173   \n",
      "51713  Y237H  MSKGEELFTGVVPILVELDGDVNGHKFSVSGEGEGDATYGKLTLKF...   3.735417   \n",
      "\n",
      "       DMS_score_bin  \n",
      "4                  1  \n",
      "48                 1  \n",
      "703                1  \n",
      "924                1  \n",
      "1160               1  \n",
      "...              ...  \n",
      "51709              1  \n",
      "51710              1  \n",
      "51711              1  \n",
      "51712              1  \n",
      "51713              1  \n",
      "\n",
      "[1084 rows x 4 columns]\n"
     ]
    }
   ],
   "source": [
    "print(single_mutations_df)"
   ],
   "metadata": {
    "collapsed": false,
    "ExecuteTime": {
     "end_time": "2023-06-12T15:17:39.604823200Z",
     "start_time": "2023-06-12T15:17:39.568197800Z"
    }
   }
  },
  {
   "cell_type": "code",
   "execution_count": 10,
   "outputs": [
    {
     "ename": "NameError",
     "evalue": "name 'single_mutations_df' is not defined",
     "output_type": "error",
     "traceback": [
      "\u001B[1;31m---------------------------------------------------------------------------\u001B[0m",
      "\u001B[1;31mNameError\u001B[0m                                 Traceback (most recent call last)",
      "Cell \u001B[1;32mIn[10], line 15\u001B[0m\n\u001B[0;32m     12\u001B[0m results \u001B[38;5;241m=\u001B[39m []\n\u001B[0;32m     14\u001B[0m \u001B[38;5;66;03m# Generate mutated sequences and calculate properties for each mutant\u001B[39;00m\n\u001B[1;32m---> 15\u001B[0m \u001B[38;5;28;01mfor\u001B[39;00m _, row \u001B[38;5;129;01min\u001B[39;00m \u001B[43msingle_mutations_df\u001B[49m\u001B[38;5;241m.\u001B[39miterrows():\n\u001B[0;32m     16\u001B[0m     mutation \u001B[38;5;241m=\u001B[39m row[\u001B[38;5;124m\"\u001B[39m\u001B[38;5;124mmutant\u001B[39m\u001B[38;5;124m\"\u001B[39m]\n\u001B[0;32m     17\u001B[0m     mutated_sequence \u001B[38;5;241m=\u001B[39m unmutated_sequence[:\u001B[38;5;28mint\u001B[39m(mutation[\u001B[38;5;241m1\u001B[39m])\u001B[38;5;241m-\u001B[39m\u001B[38;5;241m1\u001B[39m] \u001B[38;5;241m+\u001B[39m mutation[\u001B[38;5;241m-\u001B[39m\u001B[38;5;241m1\u001B[39m] \u001B[38;5;241m+\u001B[39m unmutated_sequence[\u001B[38;5;28mint\u001B[39m(mutation[\u001B[38;5;241m1\u001B[39m]):]  \u001B[38;5;66;03m# Generate mutated sequence\u001B[39;00m\n",
      "\u001B[1;31mNameError\u001B[0m: name 'single_mutations_df' is not defined"
     ]
    }
   ],
   "source": [
    "import pandas as pd\n",
    "\n",
    "# Assuming your DataFrame is called ASE_clear with columns \"Letter\" and property columns for each property\n",
    "unmutated_sequence = \"MSKGEELFTGVVPILVELDGDVNGHKFSVSGEGEGDATYGKLTLKFICTTGKLPVPWPTLVTTLSYGVQCFSRYPDHMKQHDFFKSAMPEGYVQERTIFFKDDGNYKTRAEVKFEGDTLVNRIELKGIDFKEDGNILGHKLEYNYNSHNVYIMADKQKNGIKVNFKIRHNIEDGSVQLADHYQQNTPIGDGPVLLPDNHYLSTQSALSKDPNEKRDHMVLLEFVTAAGITHGMDELYK\"\n",
    "\n",
    "# Create a dictionary of property maps for each property\n",
    "property_maps = {}\n",
    "for property_name in ASE_clear.columns[1:]:\n",
    "    property_maps[property_name] = dict(zip(ASE_clear[\"Letter\"], ASE_clear[property_name]))\n",
    "\n",
    "# Create a list to store the results\n",
    "results = []\n",
    "\n",
    "# Generate mutated sequences and calculate properties for each mutant\n",
    "for _, row in single_mutations_df.iterrows():\n",
    "    mutation = row[\"mutant\"]\n",
    "    mutated_sequence = unmutated_sequence[:int(mutation[1])-1] + mutation[-1] + unmutated_sequence[int(mutation[1]):]  # Generate mutated sequence\n",
    "    result = {\"Mutation\": mutation}\n",
    "\n",
    "    # Calculate properties for each neighbourhood sequence\n",
    "    for i in range(len(mutated_sequence) - 6):\n",
    "        neighbourhood = mutated_sequence[i:i+7]  # Get the 7-amino-acid neighbourhood sequence\n",
    "        neighbourhood_properties = {\"Neighbourhood\": neighbourhood}\n",
    "        for property_name, property_map in property_maps.items():\n",
    "            neighbourhood_properties[property_name] = sum(property_map.get(AA, 0) for AA in neighbourhood)  # Calculate the property value for the neighbourhood\n",
    "        results.append(neighbourhood_properties)\n",
    "\n",
    "Roman_2 = pd.DataFrame(results)\n",
    "Roman_2\n"
   ],
   "metadata": {
    "collapsed": false,
    "ExecuteTime": {
     "end_time": "2023-07-07T13:56:35.564403400Z",
     "start_time": "2023-07-07T13:56:35.497590300Z"
    }
   }
  },
  {
   "cell_type": "code",
   "execution_count": 99,
   "outputs": [
    {
     "data": {
      "text/plain": "       Neighbourhood  Molecular Weight  Residue Weight   pKa1   pKb2  pKx3  \\\n0            MSRGEEL            929.01          802.92  15.74  65.94   NaN   \n1            SRGEELF            944.99          818.90  15.29  65.86   NaN   \n2            RGEELFT            959.02          832.93  15.17  65.81   NaN   \n3            GEELFTG            859.89          733.79  15.34  66.37   NaN   \n4            EELFTGV            901.97          775.87  15.32  66.39   NaN   \n...              ...               ...             ...    ...    ...   ...   \n211121       FKGEELF            977.08          850.99  14.92  65.75   NaN   \n212512       MPKGEEL            911.04          784.95  15.53  67.30   NaN   \n212513       PKGEELF            927.02          800.93  15.08  67.22   NaN   \n239888       MWKGEEL           1000.14          874.05  16.37  66.09   NaN   \n239889       WKGEELF           1016.12          890.03  15.92  66.01   NaN   \n\n          pl4     H    VSC    P1     P2    SASA     NCISC  \n0       40.57 -2.01  445.9  63.9  1.062  12.428  0.295225  \n1       40.31 -1.46  467.3  63.4  1.131  12.622  0.330094  \n2       40.23 -1.33  489.3  62.8  1.177  12.849  0.328819  \n3       35.44  1.68  384.3  61.3  0.886  11.170  0.464284  \n4       35.43  2.28  455.8  58.2  1.026  11.934  0.342236  \n...       ...   ...    ...   ...    ...     ...       ...  \n211121  39.09  0.94  548.5  60.2  1.287  13.250  0.337140  \n212512  40.17 -0.68  453.5  63.5  1.059  12.296  0.504250  \n212513  39.91 -0.13  474.9  63.0  1.128  12.490  0.539119  \n239888  39.76  0.01  557.1  60.9  1.337  13.491  0.302696  \n239889  39.50  0.56  578.5  60.4  1.406  13.685  0.337565  \n\n[932 rows x 13 columns]",
      "text/html": "<div>\n<style scoped>\n    .dataframe tbody tr th:only-of-type {\n        vertical-align: middle;\n    }\n\n    .dataframe tbody tr th {\n        vertical-align: top;\n    }\n\n    .dataframe thead th {\n        text-align: right;\n    }\n</style>\n<table border=\"1\" class=\"dataframe\">\n  <thead>\n    <tr style=\"text-align: right;\">\n      <th></th>\n      <th>Neighbourhood</th>\n      <th>Molecular Weight</th>\n      <th>Residue Weight</th>\n      <th>pKa1</th>\n      <th>pKb2</th>\n      <th>pKx3</th>\n      <th>pl4</th>\n      <th>H</th>\n      <th>VSC</th>\n      <th>P1</th>\n      <th>P2</th>\n      <th>SASA</th>\n      <th>NCISC</th>\n    </tr>\n  </thead>\n  <tbody>\n    <tr>\n      <th>0</th>\n      <td>MSRGEEL</td>\n      <td>929.01</td>\n      <td>802.92</td>\n      <td>15.74</td>\n      <td>65.94</td>\n      <td>NaN</td>\n      <td>40.57</td>\n      <td>-2.01</td>\n      <td>445.9</td>\n      <td>63.9</td>\n      <td>1.062</td>\n      <td>12.428</td>\n      <td>0.295225</td>\n    </tr>\n    <tr>\n      <th>1</th>\n      <td>SRGEELF</td>\n      <td>944.99</td>\n      <td>818.90</td>\n      <td>15.29</td>\n      <td>65.86</td>\n      <td>NaN</td>\n      <td>40.31</td>\n      <td>-1.46</td>\n      <td>467.3</td>\n      <td>63.4</td>\n      <td>1.131</td>\n      <td>12.622</td>\n      <td>0.330094</td>\n    </tr>\n    <tr>\n      <th>2</th>\n      <td>RGEELFT</td>\n      <td>959.02</td>\n      <td>832.93</td>\n      <td>15.17</td>\n      <td>65.81</td>\n      <td>NaN</td>\n      <td>40.23</td>\n      <td>-1.33</td>\n      <td>489.3</td>\n      <td>62.8</td>\n      <td>1.177</td>\n      <td>12.849</td>\n      <td>0.328819</td>\n    </tr>\n    <tr>\n      <th>3</th>\n      <td>GEELFTG</td>\n      <td>859.89</td>\n      <td>733.79</td>\n      <td>15.34</td>\n      <td>66.37</td>\n      <td>NaN</td>\n      <td>35.44</td>\n      <td>1.68</td>\n      <td>384.3</td>\n      <td>61.3</td>\n      <td>0.886</td>\n      <td>11.170</td>\n      <td>0.464284</td>\n    </tr>\n    <tr>\n      <th>4</th>\n      <td>EELFTGV</td>\n      <td>901.97</td>\n      <td>775.87</td>\n      <td>15.32</td>\n      <td>66.39</td>\n      <td>NaN</td>\n      <td>35.43</td>\n      <td>2.28</td>\n      <td>455.8</td>\n      <td>58.2</td>\n      <td>1.026</td>\n      <td>11.934</td>\n      <td>0.342236</td>\n    </tr>\n    <tr>\n      <th>...</th>\n      <td>...</td>\n      <td>...</td>\n      <td>...</td>\n      <td>...</td>\n      <td>...</td>\n      <td>...</td>\n      <td>...</td>\n      <td>...</td>\n      <td>...</td>\n      <td>...</td>\n      <td>...</td>\n      <td>...</td>\n      <td>...</td>\n    </tr>\n    <tr>\n      <th>211121</th>\n      <td>FKGEELF</td>\n      <td>977.08</td>\n      <td>850.99</td>\n      <td>14.92</td>\n      <td>65.75</td>\n      <td>NaN</td>\n      <td>39.09</td>\n      <td>0.94</td>\n      <td>548.5</td>\n      <td>60.2</td>\n      <td>1.287</td>\n      <td>13.250</td>\n      <td>0.337140</td>\n    </tr>\n    <tr>\n      <th>212512</th>\n      <td>MPKGEEL</td>\n      <td>911.04</td>\n      <td>784.95</td>\n      <td>15.53</td>\n      <td>67.30</td>\n      <td>NaN</td>\n      <td>40.17</td>\n      <td>-0.68</td>\n      <td>453.5</td>\n      <td>63.5</td>\n      <td>1.059</td>\n      <td>12.296</td>\n      <td>0.504250</td>\n    </tr>\n    <tr>\n      <th>212513</th>\n      <td>PKGEELF</td>\n      <td>927.02</td>\n      <td>800.93</td>\n      <td>15.08</td>\n      <td>67.22</td>\n      <td>NaN</td>\n      <td>39.91</td>\n      <td>-0.13</td>\n      <td>474.9</td>\n      <td>63.0</td>\n      <td>1.128</td>\n      <td>12.490</td>\n      <td>0.539119</td>\n    </tr>\n    <tr>\n      <th>239888</th>\n      <td>MWKGEEL</td>\n      <td>1000.14</td>\n      <td>874.05</td>\n      <td>16.37</td>\n      <td>66.09</td>\n      <td>NaN</td>\n      <td>39.76</td>\n      <td>0.01</td>\n      <td>557.1</td>\n      <td>60.9</td>\n      <td>1.337</td>\n      <td>13.491</td>\n      <td>0.302696</td>\n    </tr>\n    <tr>\n      <th>239889</th>\n      <td>WKGEELF</td>\n      <td>1016.12</td>\n      <td>890.03</td>\n      <td>15.92</td>\n      <td>66.01</td>\n      <td>NaN</td>\n      <td>39.50</td>\n      <td>0.56</td>\n      <td>578.5</td>\n      <td>60.4</td>\n      <td>1.406</td>\n      <td>13.685</td>\n      <td>0.337565</td>\n    </tr>\n  </tbody>\n</table>\n<p>932 rows × 13 columns</p>\n</div>"
     },
     "execution_count": 99,
     "metadata": {},
     "output_type": "execute_result"
    }
   ],
   "source": [
    "# Drop duplicate rows with identical values\n",
    "Roman_2_filtered = Roman_2.drop_duplicates()\n",
    "\n",
    "# Print the filtered DataFrame\n",
    "(Roman_2_filtered)\n"
   ],
   "metadata": {
    "collapsed": false,
    "ExecuteTime": {
     "end_time": "2023-06-12T16:05:13.509467400Z",
     "start_time": "2023-06-12T16:05:13.296385100Z"
    }
   }
  },
  {
   "cell_type": "code",
   "execution_count": 102,
   "outputs": [
    {
     "name": "stdout",
     "output_type": "stream",
     "text": [
      "     Neighbourhood  Molecular Weight  Residue Weight   pKa1   pKb2   pKx3  \\\n",
      "0          MSKGEEL            901.00          774.91  15.75  65.85  24.48   \n",
      "1          SKGEELF            916.98          790.89  15.30  65.77  35.01   \n",
      "2          KGEELFT            931.01          804.92  15.18  65.72  35.01   \n",
      "3          GEELFTG            859.89          733.79  15.34  66.37  47.49   \n",
      "4          EELFTGV            901.97          775.87  15.83  66.16  35.01   \n",
      "...            ...               ...             ...    ...    ...    ...   \n",
      "1391       FKGEELF            977.08          850.99  14.92  65.75    NaN   \n",
      "1392       MPKGEEL            911.04          784.95  15.53  67.30    NaN   \n",
      "1393       PKGEELF            927.02          800.93  15.08  67.22    NaN   \n",
      "1394       MWKGEEL           1000.14          874.05  16.37  66.09    NaN   \n",
      "1395       WKGEELF           1016.12          890.03  15.92  66.01    NaN   \n",
      "\n",
      "        pl4     H    VSC    P1     P2    SASA     NCISC  \n",
      "0     39.55 -0.98  440.9  64.7  0.990  12.126  0.269346  \n",
      "1     39.29 -0.43  462.3  64.2  1.059  12.320  0.304215  \n",
      "2     39.21 -0.30  484.3  63.6  1.105  12.547  0.302940  \n",
      "3     35.44  1.68  384.3  61.3  0.886  11.170  0.464284  \n",
      "4     35.43  2.01  529.8  57.7  1.295  12.952  0.323209  \n",
      "...     ...   ...    ...   ...    ...     ...       ...  \n",
      "1391  39.09  0.94  548.5  60.2  1.287  13.250  0.337140  \n",
      "1392  40.17 -0.68  453.5  63.5  1.059  12.296  0.504250  \n",
      "1393  39.91 -0.13  474.9  63.0  1.128  12.490  0.539119  \n",
      "1394  39.76  0.01  557.1  60.9  1.337  13.491  0.302696  \n",
      "1395  39.50  0.56  578.5  60.4  1.406  13.685  0.337565  \n",
      "\n",
      "[1396 rows x 13 columns]\n"
     ]
    }
   ],
   "source": [
    "Roman_2_filtered = pd.concat([unmutiert_alle_eig_neighb, Roman_2_filtered], axis=0, ignore_index=True)\n",
    "print(Roman_2_filtered)"
   ],
   "metadata": {
    "collapsed": false,
    "ExecuteTime": {
     "end_time": "2023-06-12T16:25:10.375603300Z",
     "start_time": "2023-06-12T16:25:10.366582900Z"
    }
   }
  },
  {
   "cell_type": "code",
   "execution_count": 103,
   "outputs": [
    {
     "data": {
      "text/plain": "     Neighbourhood  Molecular Weight  Residue Weight   pKa1   pKb2   pKx3  \\\n0          MSKGEEL            901.00          774.91  15.75  65.85  24.48   \n1          SKGEELF            916.98          790.89  15.30  65.77  35.01   \n2          KGEELFT            931.01          804.92  15.18  65.72  35.01   \n3          GEELFTG            859.89          733.79  15.34  66.37  47.49   \n4          EELFTGV            901.97          775.87  15.83  66.16  35.01   \n...            ...               ...             ...    ...    ...    ...   \n1391       FKGEELF            977.08          850.99  14.92  65.75    NaN   \n1392       MPKGEEL            911.04          784.95  15.53  67.30    NaN   \n1393       PKGEELF            927.02          800.93  15.08  67.22    NaN   \n1394       MWKGEEL           1000.14          874.05  16.37  66.09    NaN   \n1395       WKGEELF           1016.12          890.03  15.92  66.01    NaN   \n\n        pl4     H    VSC    P1     P2    SASA     NCISC  \n0     39.55 -0.98  440.9  64.7  0.990  12.126  0.269346  \n1     39.29 -0.43  462.3  64.2  1.059  12.320  0.304215  \n2     39.21 -0.30  484.3  63.6  1.105  12.547  0.302940  \n3     35.44  1.68  384.3  61.3  0.886  11.170  0.464284  \n4     35.43  2.01  529.8  57.7  1.295  12.952  0.323209  \n...     ...   ...    ...   ...    ...     ...       ...  \n1391  39.09  0.94  548.5  60.2  1.287  13.250  0.337140  \n1392  40.17 -0.68  453.5  63.5  1.059  12.296  0.504250  \n1393  39.91 -0.13  474.9  63.0  1.128  12.490  0.539119  \n1394  39.76  0.01  557.1  60.9  1.337  13.491  0.302696  \n1395  39.50  0.56  578.5  60.4  1.406  13.685  0.337565  \n\n[1164 rows x 13 columns]",
      "text/html": "<div>\n<style scoped>\n    .dataframe tbody tr th:only-of-type {\n        vertical-align: middle;\n    }\n\n    .dataframe tbody tr th {\n        vertical-align: top;\n    }\n\n    .dataframe thead th {\n        text-align: right;\n    }\n</style>\n<table border=\"1\" class=\"dataframe\">\n  <thead>\n    <tr style=\"text-align: right;\">\n      <th></th>\n      <th>Neighbourhood</th>\n      <th>Molecular Weight</th>\n      <th>Residue Weight</th>\n      <th>pKa1</th>\n      <th>pKb2</th>\n      <th>pKx3</th>\n      <th>pl4</th>\n      <th>H</th>\n      <th>VSC</th>\n      <th>P1</th>\n      <th>P2</th>\n      <th>SASA</th>\n      <th>NCISC</th>\n    </tr>\n  </thead>\n  <tbody>\n    <tr>\n      <th>0</th>\n      <td>MSKGEEL</td>\n      <td>901.00</td>\n      <td>774.91</td>\n      <td>15.75</td>\n      <td>65.85</td>\n      <td>24.48</td>\n      <td>39.55</td>\n      <td>-0.98</td>\n      <td>440.9</td>\n      <td>64.7</td>\n      <td>0.990</td>\n      <td>12.126</td>\n      <td>0.269346</td>\n    </tr>\n    <tr>\n      <th>1</th>\n      <td>SKGEELF</td>\n      <td>916.98</td>\n      <td>790.89</td>\n      <td>15.30</td>\n      <td>65.77</td>\n      <td>35.01</td>\n      <td>39.29</td>\n      <td>-0.43</td>\n      <td>462.3</td>\n      <td>64.2</td>\n      <td>1.059</td>\n      <td>12.320</td>\n      <td>0.304215</td>\n    </tr>\n    <tr>\n      <th>2</th>\n      <td>KGEELFT</td>\n      <td>931.01</td>\n      <td>804.92</td>\n      <td>15.18</td>\n      <td>65.72</td>\n      <td>35.01</td>\n      <td>39.21</td>\n      <td>-0.30</td>\n      <td>484.3</td>\n      <td>63.6</td>\n      <td>1.105</td>\n      <td>12.547</td>\n      <td>0.302940</td>\n    </tr>\n    <tr>\n      <th>3</th>\n      <td>GEELFTG</td>\n      <td>859.89</td>\n      <td>733.79</td>\n      <td>15.34</td>\n      <td>66.37</td>\n      <td>47.49</td>\n      <td>35.44</td>\n      <td>1.68</td>\n      <td>384.3</td>\n      <td>61.3</td>\n      <td>0.886</td>\n      <td>11.170</td>\n      <td>0.464284</td>\n    </tr>\n    <tr>\n      <th>4</th>\n      <td>EELFTGV</td>\n      <td>901.97</td>\n      <td>775.87</td>\n      <td>15.83</td>\n      <td>66.16</td>\n      <td>35.01</td>\n      <td>35.43</td>\n      <td>2.01</td>\n      <td>529.8</td>\n      <td>57.7</td>\n      <td>1.295</td>\n      <td>12.952</td>\n      <td>0.323209</td>\n    </tr>\n    <tr>\n      <th>...</th>\n      <td>...</td>\n      <td>...</td>\n      <td>...</td>\n      <td>...</td>\n      <td>...</td>\n      <td>...</td>\n      <td>...</td>\n      <td>...</td>\n      <td>...</td>\n      <td>...</td>\n      <td>...</td>\n      <td>...</td>\n      <td>...</td>\n    </tr>\n    <tr>\n      <th>1391</th>\n      <td>FKGEELF</td>\n      <td>977.08</td>\n      <td>850.99</td>\n      <td>14.92</td>\n      <td>65.75</td>\n      <td>NaN</td>\n      <td>39.09</td>\n      <td>0.94</td>\n      <td>548.5</td>\n      <td>60.2</td>\n      <td>1.287</td>\n      <td>13.250</td>\n      <td>0.337140</td>\n    </tr>\n    <tr>\n      <th>1392</th>\n      <td>MPKGEEL</td>\n      <td>911.04</td>\n      <td>784.95</td>\n      <td>15.53</td>\n      <td>67.30</td>\n      <td>NaN</td>\n      <td>40.17</td>\n      <td>-0.68</td>\n      <td>453.5</td>\n      <td>63.5</td>\n      <td>1.059</td>\n      <td>12.296</td>\n      <td>0.504250</td>\n    </tr>\n    <tr>\n      <th>1393</th>\n      <td>PKGEELF</td>\n      <td>927.02</td>\n      <td>800.93</td>\n      <td>15.08</td>\n      <td>67.22</td>\n      <td>NaN</td>\n      <td>39.91</td>\n      <td>-0.13</td>\n      <td>474.9</td>\n      <td>63.0</td>\n      <td>1.128</td>\n      <td>12.490</td>\n      <td>0.539119</td>\n    </tr>\n    <tr>\n      <th>1394</th>\n      <td>MWKGEEL</td>\n      <td>1000.14</td>\n      <td>874.05</td>\n      <td>16.37</td>\n      <td>66.09</td>\n      <td>NaN</td>\n      <td>39.76</td>\n      <td>0.01</td>\n      <td>557.1</td>\n      <td>60.9</td>\n      <td>1.337</td>\n      <td>13.491</td>\n      <td>0.302696</td>\n    </tr>\n    <tr>\n      <th>1395</th>\n      <td>WKGEELF</td>\n      <td>1016.12</td>\n      <td>890.03</td>\n      <td>15.92</td>\n      <td>66.01</td>\n      <td>NaN</td>\n      <td>39.50</td>\n      <td>0.56</td>\n      <td>578.5</td>\n      <td>60.4</td>\n      <td>1.406</td>\n      <td>13.685</td>\n      <td>0.337565</td>\n    </tr>\n  </tbody>\n</table>\n<p>1164 rows × 13 columns</p>\n</div>"
     },
     "execution_count": 103,
     "metadata": {},
     "output_type": "execute_result"
    }
   ],
   "source": [
    "Roman_3 = Roman_2_filtered.drop_duplicates()\n",
    "Roman_3"
   ],
   "metadata": {
    "collapsed": false,
    "ExecuteTime": {
     "end_time": "2023-06-12T16:25:51.101274600Z",
     "start_time": "2023-06-12T16:25:51.053113600Z"
    }
   }
  },
  {
   "cell_type": "code",
   "execution_count": 105,
   "outputs": [
    {
     "data": {
      "text/plain": "     Neighbourhood  Molecular Weight  Residue Weight   pKa1   pKb2    pl4  \\\n0          MSKGEEL            901.00          774.91  15.75  65.85  39.55   \n1          SKGEELF            916.98          790.89  15.30  65.77  39.29   \n2          KGEELFT            931.01          804.92  15.18  65.72  39.21   \n3          GEELFTG            859.89          733.79  15.34  66.37  35.44   \n4          EELFTGV            901.97          775.87  15.83  66.16  35.43   \n...            ...               ...             ...    ...    ...    ...   \n1391       FKGEELF            977.08          850.99  14.92  65.75  39.09   \n1392       MPKGEEL            911.04          784.95  15.53  67.30  40.17   \n1393       PKGEELF            927.02          800.93  15.08  67.22  39.91   \n1394       MWKGEEL           1000.14          874.05  16.37  66.09  39.76   \n1395       WKGEELF           1016.12          890.03  15.92  66.01  39.50   \n\n         H    VSC    P1     P2    SASA     NCISC  \n0    -0.98  440.9  64.7  0.990  12.126  0.269346  \n1    -0.43  462.3  64.2  1.059  12.320  0.304215  \n2    -0.30  484.3  63.6  1.105  12.547  0.302940  \n3     1.68  384.3  61.3  0.886  11.170  0.464284  \n4     2.01  529.8  57.7  1.295  12.952  0.323209  \n...    ...    ...   ...    ...     ...       ...  \n1391  0.94  548.5  60.2  1.287  13.250  0.337140  \n1392 -0.68  453.5  63.5  1.059  12.296  0.504250  \n1393 -0.13  474.9  63.0  1.128  12.490  0.539119  \n1394  0.01  557.1  60.9  1.337  13.491  0.302696  \n1395  0.56  578.5  60.4  1.406  13.685  0.337565  \n\n[1164 rows x 12 columns]",
      "text/html": "<div>\n<style scoped>\n    .dataframe tbody tr th:only-of-type {\n        vertical-align: middle;\n    }\n\n    .dataframe tbody tr th {\n        vertical-align: top;\n    }\n\n    .dataframe thead th {\n        text-align: right;\n    }\n</style>\n<table border=\"1\" class=\"dataframe\">\n  <thead>\n    <tr style=\"text-align: right;\">\n      <th></th>\n      <th>Neighbourhood</th>\n      <th>Molecular Weight</th>\n      <th>Residue Weight</th>\n      <th>pKa1</th>\n      <th>pKb2</th>\n      <th>pl4</th>\n      <th>H</th>\n      <th>VSC</th>\n      <th>P1</th>\n      <th>P2</th>\n      <th>SASA</th>\n      <th>NCISC</th>\n    </tr>\n  </thead>\n  <tbody>\n    <tr>\n      <th>0</th>\n      <td>MSKGEEL</td>\n      <td>901.00</td>\n      <td>774.91</td>\n      <td>15.75</td>\n      <td>65.85</td>\n      <td>39.55</td>\n      <td>-0.98</td>\n      <td>440.9</td>\n      <td>64.7</td>\n      <td>0.990</td>\n      <td>12.126</td>\n      <td>0.269346</td>\n    </tr>\n    <tr>\n      <th>1</th>\n      <td>SKGEELF</td>\n      <td>916.98</td>\n      <td>790.89</td>\n      <td>15.30</td>\n      <td>65.77</td>\n      <td>39.29</td>\n      <td>-0.43</td>\n      <td>462.3</td>\n      <td>64.2</td>\n      <td>1.059</td>\n      <td>12.320</td>\n      <td>0.304215</td>\n    </tr>\n    <tr>\n      <th>2</th>\n      <td>KGEELFT</td>\n      <td>931.01</td>\n      <td>804.92</td>\n      <td>15.18</td>\n      <td>65.72</td>\n      <td>39.21</td>\n      <td>-0.30</td>\n      <td>484.3</td>\n      <td>63.6</td>\n      <td>1.105</td>\n      <td>12.547</td>\n      <td>0.302940</td>\n    </tr>\n    <tr>\n      <th>3</th>\n      <td>GEELFTG</td>\n      <td>859.89</td>\n      <td>733.79</td>\n      <td>15.34</td>\n      <td>66.37</td>\n      <td>35.44</td>\n      <td>1.68</td>\n      <td>384.3</td>\n      <td>61.3</td>\n      <td>0.886</td>\n      <td>11.170</td>\n      <td>0.464284</td>\n    </tr>\n    <tr>\n      <th>4</th>\n      <td>EELFTGV</td>\n      <td>901.97</td>\n      <td>775.87</td>\n      <td>15.83</td>\n      <td>66.16</td>\n      <td>35.43</td>\n      <td>2.01</td>\n      <td>529.8</td>\n      <td>57.7</td>\n      <td>1.295</td>\n      <td>12.952</td>\n      <td>0.323209</td>\n    </tr>\n    <tr>\n      <th>...</th>\n      <td>...</td>\n      <td>...</td>\n      <td>...</td>\n      <td>...</td>\n      <td>...</td>\n      <td>...</td>\n      <td>...</td>\n      <td>...</td>\n      <td>...</td>\n      <td>...</td>\n      <td>...</td>\n      <td>...</td>\n    </tr>\n    <tr>\n      <th>1391</th>\n      <td>FKGEELF</td>\n      <td>977.08</td>\n      <td>850.99</td>\n      <td>14.92</td>\n      <td>65.75</td>\n      <td>39.09</td>\n      <td>0.94</td>\n      <td>548.5</td>\n      <td>60.2</td>\n      <td>1.287</td>\n      <td>13.250</td>\n      <td>0.337140</td>\n    </tr>\n    <tr>\n      <th>1392</th>\n      <td>MPKGEEL</td>\n      <td>911.04</td>\n      <td>784.95</td>\n      <td>15.53</td>\n      <td>67.30</td>\n      <td>40.17</td>\n      <td>-0.68</td>\n      <td>453.5</td>\n      <td>63.5</td>\n      <td>1.059</td>\n      <td>12.296</td>\n      <td>0.504250</td>\n    </tr>\n    <tr>\n      <th>1393</th>\n      <td>PKGEELF</td>\n      <td>927.02</td>\n      <td>800.93</td>\n      <td>15.08</td>\n      <td>67.22</td>\n      <td>39.91</td>\n      <td>-0.13</td>\n      <td>474.9</td>\n      <td>63.0</td>\n      <td>1.128</td>\n      <td>12.490</td>\n      <td>0.539119</td>\n    </tr>\n    <tr>\n      <th>1394</th>\n      <td>MWKGEEL</td>\n      <td>1000.14</td>\n      <td>874.05</td>\n      <td>16.37</td>\n      <td>66.09</td>\n      <td>39.76</td>\n      <td>0.01</td>\n      <td>557.1</td>\n      <td>60.9</td>\n      <td>1.337</td>\n      <td>13.491</td>\n      <td>0.302696</td>\n    </tr>\n    <tr>\n      <th>1395</th>\n      <td>WKGEELF</td>\n      <td>1016.12</td>\n      <td>890.03</td>\n      <td>15.92</td>\n      <td>66.01</td>\n      <td>39.50</td>\n      <td>0.56</td>\n      <td>578.5</td>\n      <td>60.4</td>\n      <td>1.406</td>\n      <td>13.685</td>\n      <td>0.337565</td>\n    </tr>\n  </tbody>\n</table>\n<p>1164 rows × 12 columns</p>\n</div>"
     },
     "execution_count": 105,
     "metadata": {},
     "output_type": "execute_result"
    }
   ],
   "source": [
    "Roman_4 = Roman_3.drop([\"pKx3\"], axis=1)\n",
    "Roman_4"
   ],
   "metadata": {
    "collapsed": false,
    "ExecuteTime": {
     "end_time": "2023-06-12T16:31:09.872526400Z",
     "start_time": "2023-06-12T16:31:09.841274400Z"
    }
   }
  },
  {
   "cell_type": "code",
   "execution_count": 18,
   "outputs": [
    {
     "name": "stderr",
     "output_type": "stream",
     "text": [
      "IOPub data rate exceeded.\n",
      "The notebook server will temporarily stop sending output\n",
      "to the client in order to avoid crashing it.\n",
      "To change this limit, set the config variable\n",
      "`--NotebookApp.iopub_data_rate_limit`.\n",
      "\n",
      "Current values:\n",
      "NotebookApp.iopub_data_rate_limit=1000000.0 (bytes/sec)\n",
      "NotebookApp.rate_limit_window=3.0 (secs)\n",
      "\n"
     ]
    },
    {
     "name": "stdout",
     "output_type": "stream",
     "text": [
      "                                      mutant  \\\n",
      "0      K3R:V55A:Q94R:A110T:D117G:M153K:D216A   \n",
      "1                       K3Q:V16A:I167T:L195Q   \n",
      "2                K3Q:Y143C:N164D:S205P:A227T   \n",
      "3                            K3Q:Y143N:V193A   \n",
      "4                                        K3R   \n",
      "...                                      ...   \n",
      "51709                                  Y237N   \n",
      "51710                                  Y237C   \n",
      "51711                                  Y237D   \n",
      "51712                                  Y237F   \n",
      "51713                                  Y237H   \n",
      "\n",
      "                                        mutated_sequence  DMS_score  \\\n",
      "0      MSRGEELFTGVVPILVELDGDVNGHKFSVSGEGEGDATYGKLTLKF...   1.301030   \n",
      "1      MSQGEELFTGVVPILAELDGDVNGHKFSVSGEGEGDATYGKLTLKF...   3.137350   \n",
      "2      MSQGEELFTGVVPILVELDGDVNGHKFSVSGEGEGDATYGKLTLKF...   1.553913   \n",
      "3      MSQGEELFTGVVPILVELDGDVNGHKFSVSGEGEGDATYGKLTLKF...   3.404237   \n",
      "4      MSRGEELFTGVVPILVELDGDVNGHKFSVSGEGEGDATYGKLTLKF...   3.738586   \n",
      "...                                                  ...        ...   \n",
      "51709  MSKGEELFTGVVPILVELDGDVNGHKFSVSGEGEGDATYGKLTLKF...   3.809468   \n",
      "51710  MSKGEELFTGVVPILVELDGDVNGHKFSVSGEGEGDATYGKLTLKF...   3.760217   \n",
      "51711  MSKGEELFTGVVPILVELDGDVNGHKFSVSGEGEGDATYGKLTLKF...   3.754101   \n",
      "51712  MSKGEELFTGVVPILVELDGDVNGHKFSVSGEGEGDATYGKLTLKF...   3.673173   \n",
      "51713  MSKGEELFTGVVPILVELDGDVNGHKFSVSGEGEGDATYGKLTLKF...   3.735417   \n",
      "\n",
      "       DMS_score_bin  \n",
      "0                  0  \n",
      "1                  1  \n",
      "2                  0  \n",
      "3                  1  \n",
      "4                  1  \n",
      "...              ...  \n",
      "51709              1  \n",
      "51710              1  \n",
      "51711              1  \n",
      "51712              1  \n",
      "51713              1  \n",
      "\n",
      "[51714 rows x 4 columns]\n"
     ]
    },
    {
     "data": {
      "text/plain": "     Neighbourhood  Molecular Weight  Residue Weight   pKa1   pKb2    pl4  \\\n0          MSKGEEL            901.00          774.91  15.75  65.85  39.55   \n1          SKGEELF            916.98          790.89  15.30  65.77  39.29   \n2          KGEELFT            931.01          804.92  15.18  65.72  39.21   \n3          GEELFTG            859.89          733.79  15.34  66.37  35.44   \n4          EELFTGV            901.97          775.87  15.83  66.16  35.43   \n...            ...               ...             ...    ...    ...    ...   \n7925       GMDELDK            915.00          788.89  15.11  66.23  36.19   \n7926       HGMDELF            956.05          829.94  14.70  65.98  36.75   \n7927       GMDELFK            947.08          820.98  15.06  65.76  38.90   \n7928       HGMDELH            946.02          819.90  14.69  66.02  38.86   \n7929       GMDELHK            937.05          810.94  15.05  65.80  41.01   \n\n         H    VSC    P1     P2    SASA     NCISC  \n0    -0.98  440.9  64.7  0.990  12.126  0.269346  \n1    -0.43  462.3  64.2  1.059  12.320  0.304215  \n2    -0.30  484.3  63.6  1.105  12.547  0.302940  \n3     1.68  384.3  61.3  0.886  11.170  0.464284  \n4     2.01  529.8  57.7  1.295  12.952  0.323209  \n...    ...    ...   ...    ...     ...       ...  \n7925 -1.86  429.6  69.2  0.987  12.140  0.210277  \n7926  1.33  484.1  60.5  1.183  12.548  0.243251  \n7927  0.23  505.1  61.4  1.172  12.781  0.271649  \n7928 -0.26  447.6  65.7  1.123  12.345  0.195009  \n7929 -1.36  468.6  66.6  1.112  12.578  0.223407  \n\n[7698 rows x 12 columns]",
      "text/html": "<div>\n<style scoped>\n    .dataframe tbody tr th:only-of-type {\n        vertical-align: middle;\n    }\n\n    .dataframe tbody tr th {\n        vertical-align: top;\n    }\n\n    .dataframe thead th {\n        text-align: right;\n    }\n</style>\n<table border=\"1\" class=\"dataframe\">\n  <thead>\n    <tr style=\"text-align: right;\">\n      <th></th>\n      <th>Neighbourhood</th>\n      <th>Molecular Weight</th>\n      <th>Residue Weight</th>\n      <th>pKa1</th>\n      <th>pKb2</th>\n      <th>pl4</th>\n      <th>H</th>\n      <th>VSC</th>\n      <th>P1</th>\n      <th>P2</th>\n      <th>SASA</th>\n      <th>NCISC</th>\n    </tr>\n  </thead>\n  <tbody>\n    <tr>\n      <th>0</th>\n      <td>MSKGEEL</td>\n      <td>901.00</td>\n      <td>774.91</td>\n      <td>15.75</td>\n      <td>65.85</td>\n      <td>39.55</td>\n      <td>-0.98</td>\n      <td>440.9</td>\n      <td>64.7</td>\n      <td>0.990</td>\n      <td>12.126</td>\n      <td>0.269346</td>\n    </tr>\n    <tr>\n      <th>1</th>\n      <td>SKGEELF</td>\n      <td>916.98</td>\n      <td>790.89</td>\n      <td>15.30</td>\n      <td>65.77</td>\n      <td>39.29</td>\n      <td>-0.43</td>\n      <td>462.3</td>\n      <td>64.2</td>\n      <td>1.059</td>\n      <td>12.320</td>\n      <td>0.304215</td>\n    </tr>\n    <tr>\n      <th>2</th>\n      <td>KGEELFT</td>\n      <td>931.01</td>\n      <td>804.92</td>\n      <td>15.18</td>\n      <td>65.72</td>\n      <td>39.21</td>\n      <td>-0.30</td>\n      <td>484.3</td>\n      <td>63.6</td>\n      <td>1.105</td>\n      <td>12.547</td>\n      <td>0.302940</td>\n    </tr>\n    <tr>\n      <th>3</th>\n      <td>GEELFTG</td>\n      <td>859.89</td>\n      <td>733.79</td>\n      <td>15.34</td>\n      <td>66.37</td>\n      <td>35.44</td>\n      <td>1.68</td>\n      <td>384.3</td>\n      <td>61.3</td>\n      <td>0.886</td>\n      <td>11.170</td>\n      <td>0.464284</td>\n    </tr>\n    <tr>\n      <th>4</th>\n      <td>EELFTGV</td>\n      <td>901.97</td>\n      <td>775.87</td>\n      <td>15.83</td>\n      <td>66.16</td>\n      <td>35.43</td>\n      <td>2.01</td>\n      <td>529.8</td>\n      <td>57.7</td>\n      <td>1.295</td>\n      <td>12.952</td>\n      <td>0.323209</td>\n    </tr>\n    <tr>\n      <th>...</th>\n      <td>...</td>\n      <td>...</td>\n      <td>...</td>\n      <td>...</td>\n      <td>...</td>\n      <td>...</td>\n      <td>...</td>\n      <td>...</td>\n      <td>...</td>\n      <td>...</td>\n      <td>...</td>\n      <td>...</td>\n    </tr>\n    <tr>\n      <th>7925</th>\n      <td>GMDELDK</td>\n      <td>915.00</td>\n      <td>788.89</td>\n      <td>15.11</td>\n      <td>66.23</td>\n      <td>36.19</td>\n      <td>-1.86</td>\n      <td>429.6</td>\n      <td>69.2</td>\n      <td>0.987</td>\n      <td>12.140</td>\n      <td>0.210277</td>\n    </tr>\n    <tr>\n      <th>7926</th>\n      <td>HGMDELF</td>\n      <td>956.05</td>\n      <td>829.94</td>\n      <td>14.70</td>\n      <td>65.98</td>\n      <td>36.75</td>\n      <td>1.33</td>\n      <td>484.1</td>\n      <td>60.5</td>\n      <td>1.183</td>\n      <td>12.548</td>\n      <td>0.243251</td>\n    </tr>\n    <tr>\n      <th>7927</th>\n      <td>GMDELFK</td>\n      <td>947.08</td>\n      <td>820.98</td>\n      <td>15.06</td>\n      <td>65.76</td>\n      <td>38.90</td>\n      <td>0.23</td>\n      <td>505.1</td>\n      <td>61.4</td>\n      <td>1.172</td>\n      <td>12.781</td>\n      <td>0.271649</td>\n    </tr>\n    <tr>\n      <th>7928</th>\n      <td>HGMDELH</td>\n      <td>946.02</td>\n      <td>819.90</td>\n      <td>14.69</td>\n      <td>66.02</td>\n      <td>38.86</td>\n      <td>-0.26</td>\n      <td>447.6</td>\n      <td>65.7</td>\n      <td>1.123</td>\n      <td>12.345</td>\n      <td>0.195009</td>\n    </tr>\n    <tr>\n      <th>7929</th>\n      <td>GMDELHK</td>\n      <td>937.05</td>\n      <td>810.94</td>\n      <td>15.05</td>\n      <td>65.80</td>\n      <td>41.01</td>\n      <td>-1.36</td>\n      <td>468.6</td>\n      <td>66.6</td>\n      <td>1.112</td>\n      <td>12.578</td>\n      <td>0.223407</td>\n    </tr>\n  </tbody>\n</table>\n<p>7698 rows × 12 columns</p>\n</div>"
     },
     "execution_count": 18,
     "metadata": {},
     "output_type": "execute_result"
    }
   ],
   "source": [
    "#Alles importieren\n",
    "import numpy as np\n",
    "import pandas as pd\n",
    "import csv\n",
    "with open(r\"C:\\Users\\roman\\Desktop\\DMS_data\\DMS_data\\GFP_AEQVI_Sarkisyan_2016.csv\") as dms_GFP_datei:\n",
    "    dms_GFP_datei_object = csv.reader(dms_GFP_datei, delimiter=',')\n",
    "    print(dms_GFP_datei_object)\n",
    "    for row in dms_GFP_datei_object:\n",
    "        print(row)\n",
    "original_datei = pd.read_csv(r\"C:\\Users\\roman\\Desktop\\DMS_data\\DMS_data\\GFP_AEQVI_Sarkisyan_2016.csv\")\n",
    "print(original_datei)\n",
    "#Einlesen\n",
    "letzter_buchstabe = []\n",
    "for index, row in original_datei.iterrows():\n",
    "    last_character = row[\"mutant\"][-1]\n",
    "    letzter_buchstabe.append(last_character)\n",
    "letzter_buchstabe_df = pd.DataFrame(letzter_buchstabe, columns=[\"New_AS\"])\n",
    "#print(letzter_buchstabe_df)\n",
    "#Letzter Buchstabe in jeder Zeile\n",
    "\n",
    "number_mutations = original_datei[\"mutant\"].str.count(\":\") + 1\n",
    "number_mutations_Single = number_mutations == 1\n",
    "#print(number_mutations_Single)\n",
    "#True sind alle Zeilen, die nur eine Mutation tragen\n",
    "\n",
    "single_mutants_df = letzter_buchstabe_df[number_mutations_Single]\n",
    "#print(single_mutants_df)\n",
    "#Filtert alle True Zeilen aus beiden Dataframes und erstellt ein neues Dataframe. Er übernimmt automatisch die Filterung nach \"True\"-Werten\n",
    "dms_score_df = []\n",
    "for index, row in original_datei.iterrows():\n",
    "    dms_score = row[\"DMS_score\"]\n",
    "    dms_score_df.append(dms_score)\n",
    "dms_score_df_alle = pd.DataFrame(dms_score_df, columns=[\"Fitness_Score\"])\n",
    "#print(dms_score_df_alle)\n",
    "#erstellt Dataframe mit allen DMS-scores und der jeweiligen Experimentnummer\n",
    "dms_score_filtered = dms_score_df_alle[number_mutations_Single]\n",
    "#print(dms_score_filtered)\n",
    "#Dataframe mit allen DMS-scores der Einzelmutanten\n",
    "dms_score_filtered_newAS = single_mutants_df.join(dms_score_filtered)\n",
    "#print(dms_score_filtered_newAS)\n",
    "#Kombiniert und erstellt ein neues Dataframe mit der neuen AS und dem jeweiligen DMS-score\n",
    "mutations_pos = []\n",
    "for index, row in original_datei.iterrows():\n",
    "    mutations_pos_nummer = row[\"mutant\"][1:-1]\n",
    "    mutations_pos.append(mutations_pos_nummer)\n",
    "mutations_pos_df = pd.DataFrame(mutations_pos, columns=[\"Position\"])\n",
    "#print(mutations_pos_df)\n",
    "#Entfernt erstmal nur das erste und letzte Zeichen\n",
    "number_mutations = original_datei[\"mutant\"].str.count(\":\") + 1\n",
    "number_mutations_Single = number_mutations == 1\n",
    "#print(number_mutations_Single)\n",
    "#True sind alle Zeilen, die nur eine Mutation tragen\n",
    "single_mutants_df_pos = mutations_pos_df[number_mutations_Single]\n",
    "#print(single_mutants_df_pos)\n",
    "#Erstellt ein Dataframe, dass die Positionen innerhalb des Proteins aller Einzelmutanten zeigt\n",
    "mutations_pos_df_mit_scores = single_mutants_df_pos.join(dms_score_filtered)\n",
    "#print(mutations_pos_df_mit_scores)\n",
    "#Kombiniert und erstellt Dataframe mit der Position der Mutation und dem jeweiligen DMS-score (zeigt NICHT die neuen AS)\n",
    "new_column = mutations_pos_df_mit_scores[\"Position\"]\n",
    "Roman_1 = dms_score_filtered_newAS.join(new_column)\n",
    "Roman_1 = Roman_1[[\"Position\", \"New_AS\", \"Fitness_Score\"]]\n",
    "#print(Roman_1)\n",
    "#Erstellt neues Dataframe mit Position, neuer AS und DMS-score\n",
    "# Count the number of mutations in each row\n",
    "original_datei[\"MutationCount\"] = original_datei[\"mutant\"].str.count(\":\") + 1\n",
    "\n",
    "# Filter the DataFrame to select rows with a single mutation\n",
    "single_mutations_df = original_datei[original_datei[\"MutationCount\"] == 1].copy()\n",
    "\n",
    "# Drop the \"MutationCount\" column if not needed anymore\n",
    "single_mutations_df.drop(\"MutationCount\", axis=1, inplace=True)\n",
    "\n",
    "# Print the resulting DataFrame\n",
    "#print(single_mutations_df)\n",
    "#Erstellt Einzelmutanten --> besser als der vorige code um einzelmutanten zu erstellen?\n",
    "# Assuming your DataFrame is called ASE_clear with columns \"Letter\" and property columns for each property\n",
    "unmutated_sequence = \"MSKGEELFTGVVPILVELDGDVNGHKFSVSGEGEGDATYGKLTLKFICTTGKLPVPWPTLVTTLSYGVQCFSRYPDHMKQHDFFKSAMPEGYVQERTIFFKDDGNYKTRAEVKFEGDTLVNRIELKGIDFKEDGNILGHKLEYNYNSHNVYIMADKQKNGIKVNFKIRHNIEDGSVQLADHYQQNTPIGDGPVLLPDNHYLSTQSALSKDPNEKRDHMVLLEFVTAAGITHGMDELYK\"\n",
    "# Delete a row using the drop() function\n",
    "ASE_datei = pd.read_csv(r\"C:\\Users\\roman\\Desktop\\AS Eigenschaften\\aminoacids.csv\")\n",
    "#print(ASE_datei)\n",
    "columns_to_delete = ['Name', 'Abbr', 'Molecular Formula', 'Residue Formula']\n",
    "ASE_datei.drop(columns=columns_to_delete, inplace=True)\n",
    "delete_columns = [\"carbon\", \"hydrogen\", \"nitrogen\", \"oxygen\", \"sulfur\"]\n",
    "ASE_datei.drop(columns=delete_columns, inplace=True)\n",
    "#print(ASE_datei)\n",
    "row_index_to_delete = 12\n",
    "ASE_clear = ASE_datei.drop(row_index_to_delete)\n",
    "#print(ASE_clear)\n",
    "# Create a dictionary of property maps for each property\n",
    "property_maps = {}\n",
    "for property_name in ASE_clear.columns[1:]:\n",
    "    property_maps[property_name] = dict(zip(ASE_clear[\"Letter\"], ASE_clear[property_name]))\n",
    "\n",
    "# Create a list to store the results\n",
    "results = []\n",
    "#---------------------------------------------------------------------------------------------------------------------------------------\n",
    "# Generate mutated sequences and calculate properties for each mutant\n",
    "import pandas as pd\n",
    "import re\n",
    "sequence = \"MSKGEELFTGVVPILVELDGDVNGHKFSVSGEGEGDATYGKLTLKFICTTGKLPVPWPTLVTTLSYGVQCFSRYPDHMKQHDFFKSAMPEGYVQERTIFFKDDGNYKTRAEVKFEGDTLVNRIELKGIDFKEDGNILGHKLEYNYNSHNVYIMADKQKNGIKVNFKIRHNIEDGSVQLADHYQQNTPIGDGPVLLPDNHYLSTQSALSKDPNEKRDHMVLLEFVTAAGITHGMDELYK\"\n",
    "\n",
    "# Create a dictionary of property maps for each property\n",
    "property_maps = {}\n",
    "for property_name in ASE_clear.columns[1:]:\n",
    "    property_maps[property_name] = dict(zip(ASE_clear[\"Letter\"].dropna(), ASE_clear[property_name].dropna()))\n",
    "\n",
    "# Create a list to store the results\n",
    "results = []\n",
    "\n",
    "# Calculate the neighbourhood score for every 7-amino-acid window for each property\n",
    "for i in range(len(sequence) - 6):\n",
    "    neighbourhood = sequence[i:i+7]  # Get the 7-amino-acid neighbourhood sequence\n",
    "    result = {\"Neighbourhood\": neighbourhood}\n",
    "    for property_name, property_map in property_maps.items():\n",
    "        score = sum(property_map.get(AA, 0) for AA in neighbourhood)  # Calculate the sum of property values in the neighbourhood\n",
    "        result[property_name] = score\n",
    "    results.append(result)  # Store the result for the neighbourhood\n",
    "\n",
    "# Create a dataframe from the results\n",
    "unmutiert_alle_eig_neighb = pd.DataFrame(results)\n",
    "\n",
    "# Print the dataframe\n",
    "#print(unmutiert_alle_eig_neighb)\n",
    "#Unmutierte Referenz!!!\n",
    "single_mutations_df[\"position\"] = single_mutations_df[\"mutant\"].apply(lambda x: int(re.search(r'\\d+', x).group()))\n",
    "for _, row in single_mutations_df.iterrows():\n",
    "    mutation = row[\"mutant\"]\n",
    "    position = row[\"position\"]\n",
    "    mutated_sequence = unmutated_sequence[:position - 1] + mutation[-1] + unmutated_sequence[position:]\n",
    "    ### Generate mutated sequence mit string slicing in dem er die Mutation versteht und die unmutierte sequenz verändert\n",
    "    #M[1] schaut sich DAS ZWEITE ZEICHEN des Mutanten-Namens an\n",
    "    #intM[1] macht das zweite Zeichen in einen integer --> Extraktion der Position der Mutation. HIER MUSS ICH DEM SAGEN, DASS ER ALLE ZAHLEN ZUSAMMEN VERSTEHEN SOLL\n",
    "    #int(mutation[1])-1: Subtracting 1 from the position adjusts it to a zero-based index\n",
    "    #unmutated_sequence[:int(mutation[1])-1]: This retrieves the subsequence of unmutated_sequence from the beginning up to the position of the mutation (exclusive). It captures the amino acids before the mutation position.\n",
    "    #M[-1] holt sich das letzte Zeichen des mutations-Namens\n",
    "    #unmutated_sequence[int(mutation[1]):]: This retrieves the subsequence of unmutated_sequence from the position of the mutation to the end. It captures the amino acids after the mutation position.\n",
    "    #+: This concatenates the three parts together, resulting in the complete mutated sequence.\n",
    "    result = {\"Mutation\": mutation}\n",
    "\n",
    "    # Calculate properties for each neighbourhood sequence\n",
    "    for i in range(len(mutated_sequence) - 6): #nimmt das Ende raus. Iteration über ganze Sequenz minus 6, um immer 7er-Nachbarschaft zu kriegen\n",
    "        neighbourhood = mutated_sequence[i:i+7]  # Get the 7-amino-acid neighbourhood sequence über slicing\n",
    "        neighbourhood_properties = {\"Neighbourhood\": neighbourhood} #erstellt dictionary um Eigenschaften DER NACHBARSCHAFT zu speichern\n",
    "        for property_name, property_map in property_maps.items():\n",
    "            neighbourhood_properties[property_name] = sum(property_map.get(AA, 0) for AA in neighbourhood)  # Calculate the property value for the neighbourhood\n",
    "        results.append(neighbourhood_properties) #fügt Ergebnisse der results-Liste zu\n",
    "\n",
    "Roman_2 = pd.DataFrame(results)\n",
    "#Roman_2\n",
    "# Drop duplicate rows with identical values\n",
    "Roman_2_filtered = Roman_2.drop_duplicates()\n",
    "# Print the filtered DataFrame\n",
    "#(Roman_2_filtered)\n",
    "Roman_2_filtered = pd.concat([unmutiert_alle_eig_neighb, Roman_2_filtered], axis=0, ignore_index=True)\n",
    "#print(Roman_2_filtered)\n",
    "Roman_3 = Roman_2_filtered.drop_duplicates()\n",
    "#Roman_3\n",
    "Roman_4 = Roman_3.drop([\"pKx3\"], axis=1)\n",
    "#Roman_4\n",
    "Roman_5 = Roman_4.drop_duplicates()\n",
    "Roman_5\n",
    "#Endgültiges gereinigtes dataframe mit allen single mutanten mit allen nicht-duplikativen frame-Wanderungen. Zeile 0 bis 231 ist di nicht mutierte Referenz"
   ],
   "metadata": {
    "collapsed": false,
    "ExecuteTime": {
     "end_time": "2023-07-07T15:05:58.361661500Z",
     "start_time": "2023-07-07T15:05:43.013073700Z"
    }
   }
  },
  {
   "cell_type": "code",
   "execution_count": 9,
   "outputs": [],
   "source": [
    "#dataframe mit allen Mutationen genau in der Mitte der Nachbarschaft\n"
   ],
   "metadata": {
    "collapsed": false,
    "ExecuteTime": {
     "end_time": "2023-06-13T10:17:43.840549500Z",
     "start_time": "2023-06-13T10:17:43.783733100Z"
    }
   }
  },
  {
   "cell_type": "code",
   "execution_count": 11,
   "outputs": [
    {
     "name": "stdout",
     "output_type": "stream",
     "text": [
      "      mutant                                   mutated_sequence  DMS_score  \\\n",
      "4        K3R  MSRGEELFTGVVPILVELDGDVNGHKFSVSGEGEGDATYGKLTLKF...   3.738586   \n",
      "48       K3Q  MSQGEELFTGVVPILVELDGDVNGHKFSVSGEGEGDATYGKLTLKF...   3.750487   \n",
      "703      K3E  MSEGEELFTGVVPILVELDGDVNGHKFSVSGEGEGDATYGKLTLKF...   3.666278   \n",
      "924      K3M  MSMGEELFTGVVPILVELDGDVNGHKFSVSGEGEGDATYGKLTLKF...   3.698336   \n",
      "1160     K3T  MSTGEELFTGVVPILVELDGDVNGHKFSVSGEGEGDATYGKLTLKF...   3.629775   \n",
      "...      ...                                                ...        ...   \n",
      "51709  Y237N  MSKGEELFTGVVPILVELDGDVNGHKFSVSGEGEGDATYGKLTLKF...   3.809468   \n",
      "51710  Y237C  MSKGEELFTGVVPILVELDGDVNGHKFSVSGEGEGDATYGKLTLKF...   3.760217   \n",
      "51711  Y237D  MSKGEELFTGVVPILVELDGDVNGHKFSVSGEGEGDATYGKLTLKF...   3.754101   \n",
      "51712  Y237F  MSKGEELFTGVVPILVELDGDVNGHKFSVSGEGEGDATYGKLTLKF...   3.673173   \n",
      "51713  Y237H  MSKGEELFTGVVPILVELDGDVNGHKFSVSGEGEGDATYGKLTLKF...   3.735417   \n",
      "\n",
      "       DMS_score_bin  position  \n",
      "4                  1         3  \n",
      "48                 1         3  \n",
      "703                1         3  \n",
      "924                1         3  \n",
      "1160               1         3  \n",
      "...              ...       ...  \n",
      "51709              1       237  \n",
      "51710              1       237  \n",
      "51711              1       237  \n",
      "51712              1       237  \n",
      "51713              1       237  \n",
      "\n",
      "[1084 rows x 5 columns]\n"
     ]
    }
   ],
   "source": [
    "print(single_mutations_df)"
   ],
   "metadata": {
    "collapsed": false,
    "ExecuteTime": {
     "end_time": "2023-06-13T10:26:51.848125Z",
     "start_time": "2023-06-13T10:26:51.775159400Z"
    }
   }
  },
  {
   "cell_type": "code",
   "execution_count": 14,
   "outputs": [
    {
     "data": {
      "text/plain": "     mutation_number  count\n0                 36      8\n1                128      8\n2                170      8\n3                144      8\n4                 52      7\n..               ...    ...\n228              104      2\n229               20      1\n230               31      1\n231               56      1\n232               57      1\n\n[233 rows x 2 columns]",
      "text/html": "<div>\n<style scoped>\n    .dataframe tbody tr th:only-of-type {\n        vertical-align: middle;\n    }\n\n    .dataframe tbody tr th {\n        vertical-align: top;\n    }\n\n    .dataframe thead th {\n        text-align: right;\n    }\n</style>\n<table border=\"1\" class=\"dataframe\">\n  <thead>\n    <tr style=\"text-align: right;\">\n      <th></th>\n      <th>mutation_number</th>\n      <th>count</th>\n    </tr>\n  </thead>\n  <tbody>\n    <tr>\n      <th>0</th>\n      <td>36</td>\n      <td>8</td>\n    </tr>\n    <tr>\n      <th>1</th>\n      <td>128</td>\n      <td>8</td>\n    </tr>\n    <tr>\n      <th>2</th>\n      <td>170</td>\n      <td>8</td>\n    </tr>\n    <tr>\n      <th>3</th>\n      <td>144</td>\n      <td>8</td>\n    </tr>\n    <tr>\n      <th>4</th>\n      <td>52</td>\n      <td>7</td>\n    </tr>\n    <tr>\n      <th>...</th>\n      <td>...</td>\n      <td>...</td>\n    </tr>\n    <tr>\n      <th>228</th>\n      <td>104</td>\n      <td>2</td>\n    </tr>\n    <tr>\n      <th>229</th>\n      <td>20</td>\n      <td>1</td>\n    </tr>\n    <tr>\n      <th>230</th>\n      <td>31</td>\n      <td>1</td>\n    </tr>\n    <tr>\n      <th>231</th>\n      <td>56</td>\n      <td>1</td>\n    </tr>\n    <tr>\n      <th>232</th>\n      <td>57</td>\n      <td>1</td>\n    </tr>\n  </tbody>\n</table>\n<p>233 rows × 2 columns</p>\n</div>"
     },
     "execution_count": 14,
     "metadata": {},
     "output_type": "execute_result"
    }
   ],
   "source": [
    "import pandas as pd\n",
    "\n",
    "# Assuming you have a DataFrame called df with columns \"mutant\" and \"mutated_sequence\"\n",
    "\n",
    "# Extract the mutation number from the \"mutant\" column\n",
    "single_mutations_df[\"mutation_number\"] = single_mutations_df[\"mutant\"].str.extract(r'(\\d+)').astype(int)\n",
    "\n",
    "# Count the occurrences of each mutation number\n",
    "mutation_counts_singles = single_mutations_df[\"mutation_number\"].value_counts().reset_index()\n",
    "\n",
    "# Rename the columns in the new DataFrame\n",
    "mutation_counts_singles.columns = [\"mutation_number\", \"count\"]\n",
    "\n",
    "# Sort the DataFrame by mutation number in ascending order\n",
    "mutation_counts = mutation_counts_singles.sort_values(\"mutation_number\")\n",
    "\n",
    "# Print the mutation counts DataFrame\n",
    "mutation_counts_singles\n"
   ],
   "metadata": {
    "collapsed": false,
    "ExecuteTime": {
     "end_time": "2023-06-13T10:30:16.414328Z",
     "start_time": "2023-06-13T10:30:16.351737200Z"
    }
   }
  },
  {
   "cell_type": "code",
   "execution_count": 25,
   "outputs": [
    {
     "name": "stdout",
     "output_type": "stream",
     "text": [
      "1084\n"
     ]
    },
    {
     "data": {
      "text/plain": "7800"
     },
     "execution_count": 25,
     "metadata": {},
     "output_type": "execute_result"
    }
   ],
   "source": [
    "total_count_single = mutation_counts_singles[\"count\"].sum()\n",
    "print(total_count_single)\n",
    "#1084 einzelmutanten als Summe\n",
    "Raster_Berechnung = 5*3+3*4+6*5+4*6+4*7\n",
    "Raster_Berechnung\n",
    "abcd = total_count_single-Raster_Berechnung\n",
    "abcd\n",
    "efg = abcd*7\n",
    "efg\n",
    "ende = efg+abcd\n",
    "ende\n",
    "#Ausrechnen, ob 7698 Zeilen im obigen Dataframe hinkommen\n"
   ],
   "metadata": {
    "collapsed": false,
    "ExecuteTime": {
     "end_time": "2023-06-13T12:26:59.537071800Z",
     "start_time": "2023-06-13T12:26:59.497752300Z"
    }
   }
  },
  {
   "cell_type": "code",
   "execution_count": null,
   "outputs": [],
   "source": [],
   "metadata": {
    "collapsed": false
   }
  }
 ],
 "metadata": {
  "kernelspec": {
   "display_name": "Python 3",
   "language": "python",
   "name": "python3"
  },
  "language_info": {
   "codemirror_mode": {
    "name": "ipython",
    "version": 2
   },
   "file_extension": ".py",
   "mimetype": "text/x-python",
   "name": "python",
   "nbconvert_exporter": "python",
   "pygments_lexer": "ipython2",
   "version": "2.7.6"
  }
 },
 "nbformat": 4,
 "nbformat_minor": 0
}
