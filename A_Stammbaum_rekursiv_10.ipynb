{
 "cells": [
  {
   "cell_type": "code",
   "execution_count": 7,
   "metadata": {
    "collapsed": true,
    "ExecuteTime": {
     "end_time": "2023-06-13T13:00:46.556283Z",
     "start_time": "2023-06-13T13:00:46.385515Z"
    }
   },
   "outputs": [
    {
     "name": "stderr",
     "output_type": "stream",
     "text": [
      "/var/folders/tn/1strgsg5455dq9n93kfzv8kh0000gn/T/ipykernel_35503/3929405580.py:10: FutureWarning: In a future version of pandas all arguments of StringMethods.split except for the argument 'pat' will be keyword-only.\n",
      "  df_ind_col['mutant'].str.split(':', 14, expand=True)\n"
     ]
    },
    {
     "data": {
      "text/plain": "                                  mutant  \\\n0  K3R:V55A:Q94R:A110T:D117G:M153K:D216A   \n1                   K3Q:V16A:I167T:L195Q   \n2            K3Q:Y143C:N164D:S205P:A227T   \n3                        K3Q:Y143N:V193A   \n4                                    K3R   \n\n                                    mutated_sequence  DMS_score  \\\n0  MSRGEELFTGVVPILVELDGDVNGHKFSVSGEGEGDATYGKLTLKF...   1.301030   \n1  MSQGEELFTGVVPILAELDGDVNGHKFSVSGEGEGDATYGKLTLKF...   3.137350   \n2  MSQGEELFTGVVPILVELDGDVNGHKFSVSGEGEGDATYGKLTLKF...   1.553913   \n3  MSQGEELFTGVVPILVELDGDVNGHKFSVSGEGEGDATYGKLTLKF...   3.404237   \n4  MSRGEELFTGVVPILVELDGDVNGHKFSVSGEGEGDATYGKLTLKF...   3.738586   \n\n   DMS_score_bin   m1     m2     m3     m4     m5     m6     m7    m8    m9  \\\n0              0  K3R   V55A   Q94R  A110T  D117G  M153K  D216A  None  None   \n1              1  K3Q   V16A  I167T  L195Q   None   None   None  None  None   \n2              0  K3Q  Y143C  N164D  S205P  A227T   None   None  None  None   \n3              1  K3Q  Y143N  V193A   None   None   None   None  None  None   \n4              1  K3R   None   None   None   None   None   None  None  None   \n\n    m10   m11   m12   m13   m14   m15  \n0  None  None  None  None  None  None  \n1  None  None  None  None  None  None  \n2  None  None  None  None  None  None  \n3  None  None  None  None  None  None  \n4  None  None  None  None  None  None  ",
      "text/html": "<div>\n<style scoped>\n    .dataframe tbody tr th:only-of-type {\n        vertical-align: middle;\n    }\n\n    .dataframe tbody tr th {\n        vertical-align: top;\n    }\n\n    .dataframe thead th {\n        text-align: right;\n    }\n</style>\n<table border=\"1\" class=\"dataframe\">\n  <thead>\n    <tr style=\"text-align: right;\">\n      <th></th>\n      <th>mutant</th>\n      <th>mutated_sequence</th>\n      <th>DMS_score</th>\n      <th>DMS_score_bin</th>\n      <th>m1</th>\n      <th>m2</th>\n      <th>m3</th>\n      <th>m4</th>\n      <th>m5</th>\n      <th>m6</th>\n      <th>m7</th>\n      <th>m8</th>\n      <th>m9</th>\n      <th>m10</th>\n      <th>m11</th>\n      <th>m12</th>\n      <th>m13</th>\n      <th>m14</th>\n      <th>m15</th>\n    </tr>\n  </thead>\n  <tbody>\n    <tr>\n      <th>0</th>\n      <td>K3R:V55A:Q94R:A110T:D117G:M153K:D216A</td>\n      <td>MSRGEELFTGVVPILVELDGDVNGHKFSVSGEGEGDATYGKLTLKF...</td>\n      <td>1.301030</td>\n      <td>0</td>\n      <td>K3R</td>\n      <td>V55A</td>\n      <td>Q94R</td>\n      <td>A110T</td>\n      <td>D117G</td>\n      <td>M153K</td>\n      <td>D216A</td>\n      <td>None</td>\n      <td>None</td>\n      <td>None</td>\n      <td>None</td>\n      <td>None</td>\n      <td>None</td>\n      <td>None</td>\n      <td>None</td>\n    </tr>\n    <tr>\n      <th>1</th>\n      <td>K3Q:V16A:I167T:L195Q</td>\n      <td>MSQGEELFTGVVPILAELDGDVNGHKFSVSGEGEGDATYGKLTLKF...</td>\n      <td>3.137350</td>\n      <td>1</td>\n      <td>K3Q</td>\n      <td>V16A</td>\n      <td>I167T</td>\n      <td>L195Q</td>\n      <td>None</td>\n      <td>None</td>\n      <td>None</td>\n      <td>None</td>\n      <td>None</td>\n      <td>None</td>\n      <td>None</td>\n      <td>None</td>\n      <td>None</td>\n      <td>None</td>\n      <td>None</td>\n    </tr>\n    <tr>\n      <th>2</th>\n      <td>K3Q:Y143C:N164D:S205P:A227T</td>\n      <td>MSQGEELFTGVVPILVELDGDVNGHKFSVSGEGEGDATYGKLTLKF...</td>\n      <td>1.553913</td>\n      <td>0</td>\n      <td>K3Q</td>\n      <td>Y143C</td>\n      <td>N164D</td>\n      <td>S205P</td>\n      <td>A227T</td>\n      <td>None</td>\n      <td>None</td>\n      <td>None</td>\n      <td>None</td>\n      <td>None</td>\n      <td>None</td>\n      <td>None</td>\n      <td>None</td>\n      <td>None</td>\n      <td>None</td>\n    </tr>\n    <tr>\n      <th>3</th>\n      <td>K3Q:Y143N:V193A</td>\n      <td>MSQGEELFTGVVPILVELDGDVNGHKFSVSGEGEGDATYGKLTLKF...</td>\n      <td>3.404237</td>\n      <td>1</td>\n      <td>K3Q</td>\n      <td>Y143N</td>\n      <td>V193A</td>\n      <td>None</td>\n      <td>None</td>\n      <td>None</td>\n      <td>None</td>\n      <td>None</td>\n      <td>None</td>\n      <td>None</td>\n      <td>None</td>\n      <td>None</td>\n      <td>None</td>\n      <td>None</td>\n      <td>None</td>\n    </tr>\n    <tr>\n      <th>4</th>\n      <td>K3R</td>\n      <td>MSRGEELFTGVVPILVELDGDVNGHKFSVSGEGEGDATYGKLTLKF...</td>\n      <td>3.738586</td>\n      <td>1</td>\n      <td>K3R</td>\n      <td>None</td>\n      <td>None</td>\n      <td>None</td>\n      <td>None</td>\n      <td>None</td>\n      <td>None</td>\n      <td>None</td>\n      <td>None</td>\n      <td>None</td>\n      <td>None</td>\n      <td>None</td>\n      <td>None</td>\n      <td>None</td>\n      <td>None</td>\n    </tr>\n  </tbody>\n</table>\n</div>"
     },
     "execution_count": 7,
     "metadata": {},
     "output_type": "execute_result"
    }
   ],
   "source": [
    "import pandas as pd\n",
    "\n",
    "# Datensatz einlesen\n",
    "df = pd.read_csv('/Users/tianxinangelama/Documents/Studium/4. FS/DMS/DMS_data/GFP_AEQVI_Sarkisyan_2016.csv')\n",
    "\n",
    "# split into multiple columns, 1 column for every mutation\n",
    "df_ind_col = df\n",
    "\n",
    "df_ind_col[['m1', 'm2', 'm3', 'm4', 'm5', 'm6', 'm7', 'm8', 'm9', 'm10', 'm11', 'm12', 'm13', 'm14', 'm15']] = \\\n",
    "df_ind_col['mutant'].str.split(':', 14, expand=True)\n",
    "\n",
    "df_ind_col.head()"
   ]
  },
  {
   "cell_type": "code",
   "execution_count": 8,
   "outputs": [
    {
     "data": {
      "text/plain": "   DMS_score   m1     m2     m3     m4     m5     m6     m7    m8    m9   m10  \\\n0   1.301030  K3R   V55A   Q94R  A110T  D117G  M153K  D216A  None  None  None   \n1   3.137350  K3Q   V16A  I167T  L195Q   None   None   None  None  None  None   \n2   1.553913  K3Q  Y143C  N164D  S205P  A227T   None   None  None  None  None   \n3   3.404237  K3Q  Y143N  V193A   None   None   None   None  None  None  None   \n4   3.738586  K3R   None   None   None   None   None   None  None  None  None   \n\n    m11   m12   m13   m14   m15  \n0  None  None  None  None  None  \n1  None  None  None  None  None  \n2  None  None  None  None  None  \n3  None  None  None  None  None  \n4  None  None  None  None  None  ",
      "text/html": "<div>\n<style scoped>\n    .dataframe tbody tr th:only-of-type {\n        vertical-align: middle;\n    }\n\n    .dataframe tbody tr th {\n        vertical-align: top;\n    }\n\n    .dataframe thead th {\n        text-align: right;\n    }\n</style>\n<table border=\"1\" class=\"dataframe\">\n  <thead>\n    <tr style=\"text-align: right;\">\n      <th></th>\n      <th>DMS_score</th>\n      <th>m1</th>\n      <th>m2</th>\n      <th>m3</th>\n      <th>m4</th>\n      <th>m5</th>\n      <th>m6</th>\n      <th>m7</th>\n      <th>m8</th>\n      <th>m9</th>\n      <th>m10</th>\n      <th>m11</th>\n      <th>m12</th>\n      <th>m13</th>\n      <th>m14</th>\n      <th>m15</th>\n    </tr>\n  </thead>\n  <tbody>\n    <tr>\n      <th>0</th>\n      <td>1.301030</td>\n      <td>K3R</td>\n      <td>V55A</td>\n      <td>Q94R</td>\n      <td>A110T</td>\n      <td>D117G</td>\n      <td>M153K</td>\n      <td>D216A</td>\n      <td>None</td>\n      <td>None</td>\n      <td>None</td>\n      <td>None</td>\n      <td>None</td>\n      <td>None</td>\n      <td>None</td>\n      <td>None</td>\n    </tr>\n    <tr>\n      <th>1</th>\n      <td>3.137350</td>\n      <td>K3Q</td>\n      <td>V16A</td>\n      <td>I167T</td>\n      <td>L195Q</td>\n      <td>None</td>\n      <td>None</td>\n      <td>None</td>\n      <td>None</td>\n      <td>None</td>\n      <td>None</td>\n      <td>None</td>\n      <td>None</td>\n      <td>None</td>\n      <td>None</td>\n      <td>None</td>\n    </tr>\n    <tr>\n      <th>2</th>\n      <td>1.553913</td>\n      <td>K3Q</td>\n      <td>Y143C</td>\n      <td>N164D</td>\n      <td>S205P</td>\n      <td>A227T</td>\n      <td>None</td>\n      <td>None</td>\n      <td>None</td>\n      <td>None</td>\n      <td>None</td>\n      <td>None</td>\n      <td>None</td>\n      <td>None</td>\n      <td>None</td>\n      <td>None</td>\n    </tr>\n    <tr>\n      <th>3</th>\n      <td>3.404237</td>\n      <td>K3Q</td>\n      <td>Y143N</td>\n      <td>V193A</td>\n      <td>None</td>\n      <td>None</td>\n      <td>None</td>\n      <td>None</td>\n      <td>None</td>\n      <td>None</td>\n      <td>None</td>\n      <td>None</td>\n      <td>None</td>\n      <td>None</td>\n      <td>None</td>\n      <td>None</td>\n    </tr>\n    <tr>\n      <th>4</th>\n      <td>3.738586</td>\n      <td>K3R</td>\n      <td>None</td>\n      <td>None</td>\n      <td>None</td>\n      <td>None</td>\n      <td>None</td>\n      <td>None</td>\n      <td>None</td>\n      <td>None</td>\n      <td>None</td>\n      <td>None</td>\n      <td>None</td>\n      <td>None</td>\n      <td>None</td>\n      <td>None</td>\n    </tr>\n  </tbody>\n</table>\n</div>"
     },
     "execution_count": 8,
     "metadata": {},
     "output_type": "execute_result"
    }
   ],
   "source": [
    "# reduce df to fscore, m1 - m15\n",
    "df_only_fscore_mutations = df_ind_col\n",
    "\n",
    "df_only_fscore_mutations = df_only_fscore_mutations.drop(['mutant', 'mutated_sequence', 'DMS_score_bin'], axis=1)\n",
    "\n",
    "df_only_fscore_mutations.head()"
   ],
   "metadata": {
    "collapsed": false,
    "ExecuteTime": {
     "end_time": "2023-06-13T13:00:46.572823Z",
     "start_time": "2023-06-13T13:00:46.560531Z"
    }
   }
  },
  {
   "cell_type": "code",
   "execution_count": 9,
   "outputs": [
    {
     "name": "stdout",
     "output_type": "stream",
     "text": [
      "       DMS_score     m1     m2     m3     m4     m5     m6     m7     m8  \\\n",
      "23      1.537177    K3R   D19G   N23D   L42P   Y66C  D102V  Y106N  F165L   \n",
      "34      1.576404    K3N   F27S   K45Q   M78K   Q94L  F114S  I123N  D133G   \n",
      "58      1.623205    K3Q   K41M   V55G  K101R  R122S  H148R  I161T  Q183R   \n",
      "82      1.659432    K3R    E5V   D36E  D103G  T118A  Y145H  I161T  K166E   \n",
      "91      1.683816    K3R    E6G   G31S   E32G   L42Q   T62A   M78L  Y143H   \n",
      "...          ...    ...    ...    ...    ...    ...    ...    ...    ...   \n",
      "37430   1.661367   P89L   E90D   G91R  K113Q  K140R  L178P  H181R  D216E   \n",
      "37500   1.304579   E90V   T97A  G104C  T108A  E111G  L125P  I161T  L178P   \n",
      "37800   1.301031   G91V  T118A  N121D  L125Q  L141M  V150A  M153L  V176A   \n",
      "39789   1.301091  F100S  K131E  L141Q  Q157H  N159D  I188V  D190G  E213D   \n",
      "40176   1.470316  K101R  A110T  F114L  T118A  L125P  D155G  V163A  I188N   \n",
      "\n",
      "          m9    m10    m11    m12    m13   m14   m15  \n",
      "23     Y182C  L195Q   None   None   None  None  None  \n",
      "34     Y143S  E172A  M218L   None   None  None  None  \n",
      "58     T203A  K209R  E222K   None   None  None  None  \n",
      "82     N170S  N212S   None   None   None  None  None  \n",
      "91     H199R  T230S   None   None   None  None  None  \n",
      "...      ...    ...    ...    ...    ...   ...   ...  \n",
      "37430  F223Y  T225S   None   None   None  None  None  \n",
      "37500  S205T  E213V   None   None   None  None  None  \n",
      "37800  L195P  S205T  F223Y   None   None  None  None  \n",
      "39789  R215C  L220M  M233V   None   None  None  None  \n",
      "40176  N198S  Y200N  K209R  K214R  E235G  None  None  \n",
      "\n",
      "[490 rows x 16 columns]\n"
     ]
    }
   ],
   "source": [
    "# df with only mutants >= 10 mutations\n",
    "df_min_10_mutations = df_only_fscore_mutations\n",
    "\n",
    "# Drop rows with empty values in m10\n",
    "df_min_10_mutations = df_min_10_mutations.dropna(subset=['m10'])\n",
    "\n",
    "print(df_min_10_mutations)"
   ],
   "metadata": {
    "collapsed": false,
    "ExecuteTime": {
     "end_time": "2023-06-13T13:00:46.639338Z",
     "start_time": "2023-06-13T13:00:46.572264Z"
    }
   }
  },
  {
   "cell_type": "code",
   "execution_count": 10,
   "outputs": [
    {
     "name": "stdout",
     "output_type": "stream",
     "text": [
      "          m1     m2     m3     m4     m5     m6     m7     m8     m9    m10  \\\n",
      "23       K3R   D19G   N23D   L42P   Y66C  D102V  Y106N  F165L  Y182C  L195Q   \n",
      "34       K3N   F27S   K45Q   M78K   Q94L  F114S  I123N  D133G  Y143S  E172A   \n",
      "58       K3Q   K41M   V55G  K101R  R122S  H148R  I161T  Q183R  T203A  K209R   \n",
      "82       K3R    E5V   D36E  D103G  T118A  Y145H  I161T  K166E  N170S  N212S   \n",
      "91       K3R    E6G   G31S   E32G   L42Q   T62A   M78L  Y143H  H199R  T230S   \n",
      "...      ...    ...    ...    ...    ...    ...    ...    ...    ...    ...   \n",
      "37430   P89L   E90D   G91R  K113Q  K140R  L178P  H181R  D216E  F223Y  T225S   \n",
      "37500   E90V   T97A  G104C  T108A  E111G  L125P  I161T  L178P  S205T  E213V   \n",
      "37800   G91V  T118A  N121D  L125Q  L141M  V150A  M153L  V176A  L195P  S205T   \n",
      "39789  F100S  K131E  L141Q  Q157H  N159D  I188V  D190G  E213D  R215C  L220M   \n",
      "40176  K101R  A110T  F114L  T118A  L125P  D155G  V163A  I188N  N198S  Y200N   \n",
      "\n",
      "         m11    m12    m13   m14   m15  \n",
      "23      None   None   None  None  None  \n",
      "34     M218L   None   None  None  None  \n",
      "58     E222K   None   None  None  None  \n",
      "82      None   None   None  None  None  \n",
      "91      None   None   None  None  None  \n",
      "...      ...    ...    ...   ...   ...  \n",
      "37430   None   None   None  None  None  \n",
      "37500   None   None   None  None  None  \n",
      "37800  F223Y   None   None  None  None  \n",
      "39789  M233V   None   None  None  None  \n",
      "40176  K209R  K214R  E235G  None  None  \n",
      "\n",
      "[490 rows x 15 columns]\n"
     ]
    }
   ],
   "source": [
    "# df_min_10_mutations without fscore\n",
    "df_min_10_mutations_without_fscore = df_min_10_mutations\n",
    "\n",
    "# drop DMS_score\n",
    "df_min_10_mutations_without_fscore = df_min_10_mutations_without_fscore.drop('DMS_score', axis=1)\n",
    "\n",
    "print(df_min_10_mutations_without_fscore)"
   ],
   "metadata": {
    "collapsed": false,
    "ExecuteTime": {
     "end_time": "2023-06-13T13:00:46.645032Z",
     "start_time": "2023-06-13T13:00:46.591205Z"
    }
   }
  },
  {
   "cell_type": "code",
   "execution_count": 11,
   "outputs": [
    {
     "name": "stdout",
     "output_type": "stream",
     "text": [
      "['D102N', 'N121D', 'G127S', 'I123F', 'I128F', 'Q183H', 'Y74N', 'L236R', 'E95G', 'E90D', 'K214Q', 'V176E', 'N198I', 'M78S', 'K131M', 'H169R', 'V150F', 'Q80R', 'H77Y', 'D210G', 'S175R', 'Y200H', 'G40V', 'K45Q', 'Q183P', 'T230P', 'Y200N', 'M218I', 'T230S', 'T9A', 'K45E', 'V61A', 'I14V', 'K3N', 'H139R', 'I128V', 'E17A', 'I14N', 'K214M', 'G160S', 'K26T', 'Y182C', 'V68L', 'E132G', 'F84I', 'K41N', 'I47N', 'M78K', 'H181Q', 'K113Q', 'Y143C', 'C70R', 'M78L', 'H169L', 'H181R', 'D133V', 'F114L', 'E5G', 'D197N', 'S30P', 'F84C', 'D21G', 'Q184K', 'L207R', 'E222G', 'N159I', 'T59S', 'E172G', 'I152F', 'L18Q', 'P75S', 'T108A', 'V150A', 'D36G', 'S208N', 'S205P', 'P187R', 'N212D', 'K126E', 'G91V', 'K41M', 'L141V', 'K156Q', 'H231R', 'Q157R', 'T62S', 'R73P', 'F99V', 'Q80L', 'K166M', 'K107R', 'N144D', 'E34G', 'L194Q', 'K41Q', 'Q177H', 'D129A', 'V16A', 'T62A', 'G31A', 'D76V', 'L15R', 'D155G', 'S72G', 'K41T', 'I188T', 'D155Y', 'V163A', 'I136N', 'I98V', 'N105H', 'D19V', 'K214E', 'R122S', 'K209R', 'G35D', 'I161F', 'D216N', 'D155N', 'D133G', 'V55M', 'T50N', 'D155E', 'T186A', 'Y200D', 'D210N', 'K101G', 'T203P', 'K214R', 'Y106H', 'P89A', 'A226V', 'E142V', 'N212S', 'H81L', 'K214T', 'T49S', 'L220Q', 'V68M', 'D36E', 'Y200S', 'K107G', 'I14T', 'I152V', 'V224E', 'I128T', 'H199L', 'V16D', 'I128A', 'H81P', 'D180H', 'N105Y', 'F114S', 'T43I', 'G138A', 'F99L', 'P211S', 'Q69P', 'K85R', 'F114Y', 'D102V', 'L201P', 'Y39F', 'Y145N', 'S205T', 'D21V', 'M153L', 'I229N', 'D36N', 'C48S', 'T203S', 'P56L', 'I161S', 'T225S', 'N212Y', 'P211T', 'F8L', 'Y66D', 'D180G', 'P192L', 'H231Y', 'N121S', 'H217Y', 'N146Y', 'I14L', 'A206S', 'M218V', 'V68E', 'V29A', 'Y151H', 'F46Y', 'L60P', 'Y237S', 'K166E', 'A154V', 'S86Y', 'I136T', 'N159D', 'D82G', 'E90A', 'F100I', 'H148N', 'A206P', 'R122H', 'M78I', 'D102G', 'Y66N', 'H231L', 'Y143N', 'N170D', 'I47T', 'N149D', 'F46L', 'P13R', 'D216H', 'K113M', 'Q157H', 'V93A', 'V22A', 'G104C', 'N164Y', 'N144H', 'F46V', 'L220P', 'F27I', 'F99S', 'R122P', 'G232C', 'M233R', 'G134S', 'G40A', 'G51V', 'T49P', 'V29M', 'N198S', 'N23H', 'I229V', 'K52Q', 'V163G', 'L195Q', 'N23S', 'D103G', 'T97A', 'L15P', 'V12G', 'G191D', 'T203I', 'S208C', 'Q94H', 'T50A', 'V22L', 'H25Y', 'V163M', 'I229F', 'T49I', 'G116S', 'G104S', 'D102E', 'G191S', 'Y145C', 'Y39S', 'K85E', 'D117V', 'E95R', 'D197A', 'I188S', 'N149I', 'L64M', 'Y182H', 'R122C', 'L53Q', 'T9I', 'I229P', 'A179T', 'N135D', 'H25L', 'N105S', 'G20S', 'F100S', 'Q157L', 'E6A', 'G91D', 'P196S', 'N144I', 'D129V', 'V93G', 'V11E', 'K140R', 'L18R', 'K79Q', 'Y145H', 'F27S', 'N212H', 'C70S', 'Y143D', 'T230A', 'V112E', 'Y237C', 'D216Y', 'E6K', 'S202G', 'F8I', 'K26M', 'G24S', 'T97N', 'K41R', 'K166R', 'N170H', 'R109P', 'I171F', 'L194V', 'P13T', 'K41E', 'G31S', 'V22E', 'G191C', 'F84Y', 'P192S', 'G67D', 'F46I', 'F165S', 'N105I', 'T9N', 'L195P', 'E6G', 'N170Y', 'F71S', 'K107M', 'N121H', 'H169Y', 'F83I', 'T118S', 'N149Y', 'G20C', 'D19A', 'A154T', 'G51C', 'A87T', 'D210H', 'D216E', 'K26R', 'F165Y', 'N164H', 'M218L', 'G31R', 'D173E', 'F165L', 'N170T', 'L201R', 'L178F', 'A179P', 'C70Y', 'Y106F', 'F83C', 'E95V', 'Q204L', 'N185G', 'K113R', 'M88R', 'F114C', 'V150D', 'Q177E', 'F130S', 'S205A', 'Q69H', 'F223S', 'L60H', 'L178P', 'T118I', 'P54L', 'T9S', 'K162R', 'I47V', 'Q184P', 'G160C', 'H139Y', 'F114V', 'N105D', 'D76G', 'F100P', 'N164I', 'G174C', 'L194P', 'H25R', 'I188V', 'T62I', 'D36V', 'D197F', 'L137Q', 'I167S', 'V112A', 'K52R', 'V55A', 'F46T', 'T59A', 'K126R', 'I229T', 'T203A', 'L221Q', 'C48G', 'V93I', 'N105K', 'Q184R', 'H181Y', 'P89T', 'N164A', 'E5D', 'E235V', 'A87V', 'D76E', 'K52M', 'K79N', 'S28G', 'M218T', 'G20A', 'L125P', 'I123V', 'G160R', 'D76A', 'D155V', 'E235A', 'A227S', 'L15M', 'D117G', 'Q177R', 'L220V', 'G31D', 'K79E', 'A226T', 'M153I', 'T38I', 'F100Y', 'S86P', 'Y74D', 'M78V', 'D190G', 'L44P', 'E95Q', 'L178H', 'S202R', 'E222A', 'V224A', 'E32G', 'L42P', 'D103V', 'G40R', 'T230I', 'T63A', 'H148R', 'H199Y', 'Y66C', 'Q94L', 'Y151C', 'A179D', 'N23D', 'N164T', 'L137P', 'Y74F', 'E132K', 'N135H', 'I188F', 'K209E', 'N23Y', 'V12A', 'G51D', 'Y145S', 'H81R', 'D21N', 'L125Q', 'G40D', 'V219D', 'L7P', 'I171V', 'A206T', 'L221R', 'D216V', 'E90G', 'Y39N', 'L64V', 'A206D', 'D234G', 'F130Y', 'K107E', 'D129N', 'T38S', 'A227P', 'T225A', 'V150I', 'E115V', 'L60I', 'F114I', 'V93D', 'A110V', 'L64R', 'T50I', 'S147G', 'M88I', 'Y66H', 'N170S', 'I171L', 'M233T', 'M88K', 'G228E', 'M88L', 'D155A', 'S175G', 'D210E', 'N185I', 'V12E', 'K52E', 'D82A', 'V29E', 'F130L', 'F223Y', 'D19E', 'N146I', 'M218K', 'N198Y', 'E115K', 'Y39C', 'V219G', 'L141M', 'K3E', 'T43S', 'I136V', 'E90V', 'E34A', 'K113E', 'N135I', 'N121I', 'N212I', 'F223L', 'T97I', 'S205F', 'L7R', 'D102A', 'G232S', 'M218R', 'L53P', 'G127V', 'N23K', 'E235G', 'G189S', 'T186I', 'D129H', 'H81Y', 'E111K', 'G67S', 'G40S', 'E172V', 'K158Q', 'Y151F', 'D133E', 'K26E', 'F71L', 'P196L', 'Y66F', 'N105T', 'Y74H', 'I161L', 'V176L', 'Y182F', 'M233K', 'G10E', 'K209N', 'E213G', 'F99Y', 'V61M', 'Y200C', 'V224M', 'A154D', 'D76N', 'R96C', 'L141P', 'T186S', 'E111V', 'E90K', 'I128Y', 'S208G', 'E172A', 'L42Q', 'N23I', 'I136F', 'F165I', 'E142G', 'E213K', 'K101M', 'E124K', 'E17Q', 'S30A', 'I171T', 'H148P', 'K140E', 'E172D', 'K79R', 'F100C', 'L42V', 'H199N', 'F83S', 'L141Q', 'S28C', 'Y145F', 'P13H', 'Q183L', 'S72N', 'S30T', 'F46S', 'N164D', 'L64P', 'K101E', 'P56T', 'L236P', 'H148L', 'D180N', 'E111G', 'I167V', 'M233L', 'A87P', 'V163E', 'C48Y', 'N185Y', 'S147N', 'Y39H', 'D190Y', 'L220M', 'I47F', 'N135S', 'H217L', 'Y182N', 'C48R', 'K101R', 'V68A', 'Y92C', 'R215C', 'M88V', 'Y106N', 'N185S', 'I167T', 'I167N', 'T186P', 'Y92N', 'G104R', 'Y92S', 'E172K', 'C48W', 'K3Q', 'I171D', 'S72C', 'I98T', 'V193E', 'F27Y', 'R122L', 'K45R', 'K131R', 'E32A', 'N185D', 'W57G', 'W57R', 'L236Q', 'L7V', 'P13S', 'F8Y', 'V11A', 'P211H', 'V176M', 'D36H', 'Y237N', 'Q69L', 'G4D', 'S202T', 'N198D', 'W57C', 'H77L', 'S175I', 'N149K', 'V11M', 'Y74C', 'L18P', 'K45M', 'Y92F', 'Y106C', 'Y237H', 'L195R', 'G33C', 'K85T', 'S147C', 'N146S', 'E132V', 'A179V', 'E124V', 'F83L', 'N135Y', 'F27L', 'D82N', 'Y237F', 'L15Q', 'A37V', 'S175C', 'V29G', 'V112M', 'K162T', 'G91S', 'S86F', 'F223V', 'G67A', 'E222K', 'L64Q', 'M153K', 'F223I', 'T63S', 'R168H', 'T97P', 'D76Y', 'D133N', 'G91R', 'P75H', 'N23G', 'E32K', 'Y143F', 'D197G', 'G138W', 'E6V', 'P89L', 'E124G', 'Y92H', 'H199R', 'H25N', 'K156M', 'T62P', 'D82V', 'N23V', 'I123T', 'L42R', 'T38A', 'S72R', 'F27C', 'D180A', 'P211L', 'L194R', 'M78T', 'V193A', 'Q204P', 'I98L', 'D210V', 'D190V', 'Y151N', 'G51A', 'E213D', 'H139L', 'T97S', 'L137R', 'Q184H', 'G138V', 'D103A', 'R109H', 'P54H', 'F223C', 'R96H', 'L137M', 'Y143L', 'S86T', 'R73L', 'E34V', 'K126G', 'N170I', 'V55E', 'S28R', 'M153V', 'T49A', 'P13A', 'K126M', 'N146D', 'G138E', 'I152L', 'I161N', 'T50P', 'P54S', 'E6D', 'K209T', 'I128N', 'K158E', 'E34K', 'E115G', 'D19G', 'M88T', 'Q94P', 'M153T', 'D103N', 'I171N', 'N164S', 'K126Q', 'D210A', 'K85M', 'K158R', 'K140Q', 'Q157P', 'L221P', 'H77R', 'I167F', 'R168S', 'H231N', 'H231P', 'R168C', 'F84L', 'D173G', 'Y143S', 'N185A', 'E235K', 'L201Q', 'G116D', 'G232D', 'Q177P', 'E222V', 'I188L', 'M233V', 'T225P', 'A227V', 'D234A', 'K107Q', 'G24D', 'L207P', 'L44Q', 'N159K', 'I161T', 'N159S', 'N144S', 'Q204R', 'D129G', 'I161V', 'V11G', 'G228V', 'R96G', 'T118A', 'P192H', 'F71V', 'R73C', 'K162M', 'V22I', 'I98S', 'H148Y', 'G160A', 'A110T', 'F130I', 'N121Y', 'F100L', 'K156E', 'E32V', 'P54T', 'S205Y', 'V16I', 'G228R', 'I136S', 'L220R', 'G174S', 'Y200F', 'D129Y', 'D197V', 'D173V', 'D102Y', 'Y143H', 'D21E', 'I152N', 'V219A', 'K158M', 'H181P', 'H217R', 'H217P', 'F99I', 'Q183R', 'A37T', 'F71Y', 'D190H', 'Q94R', 'G33A', 'E17K', 'T43A', 'F84S', 'I98N', 'K131E', 'K3R', 'S30Y', 'M153R', 'H181L', 'E213V', 'A227T', 'L7Q', 'K162E', 'R73S', 'E17V', 'M78R', 'S30F', 'N149T', 'I152T', 'P58L', 'V55G', 'G138R', 'K126N', 'M218E', 'S65A', 'F8S', 'G174D', 'Q177L', 'V11L', 'N198H', 'V29L', 'G116C', 'D216G', 'D197Y', 'Y74S', 'K156T', 'E95D', 'K3M', 'G127D', 'D190E', 'Q69R', 'I14F', 'M233I', 'N159Y', 'D234V', 'K52T', 'S65T', 'S65P', 'T9P', 'V68G', 'K156R', 'S202C', 'V61E', 'N198K', 'G24C', 'G40C', 'V176A', 'N23T', 'K209I', 'R109C', 'E17G', 'G134D', 'T50S', 'L207Q', 'K85Q', 'S86C', 'Q184L', 'I188N', 'I123N', 'G35A', None, 'D180V', 'I98F', 'N149S', 'G191R', 'F71I', 'V193M', 'E5V', 'T59I']\n"
     ]
    }
   ],
   "source": [
    "# list with possible mutations in df_min_10_mutations\n",
    "possible_mutations_in_mutants_with_min_10_mutations = df_min_10_mutations_without_fscore\n",
    "possible_mutations_in_mutants_with_min_10_mutations = possible_mutations_in_mutants_with_min_10_mutations.values.flatten().tolist()\n",
    "possible_mutations_in_mutants_with_min_10_mutations = list(set(possible_mutations_in_mutants_with_min_10_mutations))\n",
    "print(possible_mutations_in_mutants_with_min_10_mutations)"
   ],
   "metadata": {
    "collapsed": false,
    "ExecuteTime": {
     "end_time": "2023-06-13T13:00:46.662739Z",
     "start_time": "2023-06-13T13:00:46.594998Z"
    }
   }
  },
  {
   "cell_type": "code",
   "execution_count": null,
   "outputs": [
    {
     "name": "stdout",
     "output_type": "stream",
     "text": [
      "Filtered DataFrame for D102N:\n",
      "       DMS_score    m1    m2    m3     m4     m5     m6     m7     m8     m9  \\\n",
      "23076   1.512712  L44P  Y74H  Q94H  D102N  T118S  Q157P  Q184L  S205P  V224A   \n",
      "\n",
      "         m10   m11   m12   m13   m14   m15  \n",
      "23076  H231N  None  None  None  None  None  \n",
      "['K3R', 'D36E', 'D103G', 'T118A', 'Y145H', 'I161T', 'K166E', 'N170S', 'N212S', 'E5V', 'V16D', 'K45R', 'T62A', 'F114L', 'N121S', 'R122H', 'N149S', 'R168H', 'D197G', 'E5V', 'V22A', 'Y106C', 'E142V', 'I171T', 'L194P', 'S208C', 'F223I', 'A226V', 'T230A', 'E5V', 'Y74H', 'F83L', 'E111V', 'R122H', 'N146D', 'K162R', 'T203A', 'N212D', 'M218V', 'E5V', 'L7P', 'S28C', 'S65T', 'K101M', 'K107R', 'K113E', 'I161T', 'Q177L', 'L207Q', 'E235G']\n",
      "Filtered DataFrame for N121D:\n",
      "       DMS_score    m1     m2     m3     m4     m5     m6     m7     m8  \\\n",
      "4337    1.696722   F8L   N23T   V68A   S72R  N121D  I123V  N149Y  I167N   \n",
      "4436    1.301030   F8L   V29E   C48R   H81L  N121D  E132V  I171F  S208G   \n",
      "4485    1.606426   F8L   V22A   K26R   I98N  N121D  N135D  K158E  N170D   \n",
      "7518    1.562128  V12A   H81R   M88T  N121D  L141Q  I152T  I161T  E172G   \n",
      "9288    1.532341  L15Q   M88T  N121D  I123F  K131R  K156E  I161T  S202C   \n",
      "11472   1.652061  D19V   G40D   F71S   Y92H  N121D  I128V  E142G  I152V   \n",
      "11531   1.684737  D19G   E32G   L60I   Q94L   E95G  N121D  N159Y  L178P   \n",
      "12003   1.414970  D21V   F27Y   H81L   F99L  N121D  I123V  N164Y  Q183R   \n",
      "15520   1.302255  K26R   G40V   I47V   L60H   F99S  N121D  H139R  H148Y   \n",
      "18497   1.301030  E32V   G51A   V55M   F83L  F100S  D102G  N121D  G134S   \n",
      "24782   1.301280  F46S   D82G  N121D  H148L  N149D  N159S  I188V  N198D   \n",
      "27002   1.301031  K52R   Y74H   H77R   V93A   T97A  N121D  I128T  Y143N   \n",
      "27957   1.301081  V55M   Y74H   M78L   A87V  N121D  E124G  V150I  F165Y   \n",
      "28612   1.301030  P58L   T59A   H81R   K85E  T118A  N121D  H148L  Q157R   \n",
      "29485   1.299759  V61A   T63S   Y92C  N121D  N164I  N170I  D180V  I188T   \n",
      "37800   1.301031  G91V  T118A  N121D  L125Q  L141M  V150A  M153L  V176A   \n",
      "\n",
      "          m9    m10    m11    m12   m13   m14   m15  \n",
      "4337   E172V  H217P   None   None  None  None  None  \n",
      "4436   E213G  F223C  I229V   None  None  None  None  \n",
      "4485   S175G  A206P   None   None  None  None  None  \n",
      "7518   T186A  L236P   None   None  None  None  None  \n",
      "9288   S208G  M218I   None   None  None  None  None  \n",
      "11472  N159S  M233T   None   None  None  None  None  \n",
      "11531  Y200N  D216Y   None   None  None  None  None  \n",
      "12003  S208C  A227V   None   None  None  None  None  \n",
      "15520  H169L  F223L  D234G   None  None  None  None  \n",
      "18497  S147G  I171F  N185Y  I229V  None  None  None  \n",
      "24782  T225S  H231R   None   None  None  None  None  \n",
      "27002  N159S  N170D  I229T   None  None  None  None  \n",
      "27957  Q183R  T203A   None   None  None  None  None  \n",
      "28612  S175G  N198D   None   None  None  None  None  \n",
      "29485  T230I  H231R   None   None  None  None  None  \n",
      "37800  L195P  S205T  F223Y   None  None  None  None  \n",
      "['F8L', 'N23T', 'V68A', 'S72R', 'I123V', 'N149Y', 'I167N', 'E172V', 'H217P', 'F8L', 'V29E', 'C48R', 'H81L', 'N121D', 'E132V', 'I171F', 'S208G', 'E213G', 'F223C', 'I229V', 'F8L', 'V22A', 'K26R', 'I98N', 'N121D', 'N135D', 'K158E', 'N170D', 'S175G', 'A206P', 'V12A', 'H81R', 'M88T', 'N121D', 'L141Q', 'I152T', 'I161T', 'E172G', 'T186A', 'L236P', 'L15Q', 'M88T', 'N121D', 'I123F', 'K131R', 'K156E', 'I161T', 'S202C', 'S208G', 'M218I', 'D19V', 'G40D', 'F71S', 'Y92H', 'N121D', 'I128V', 'E142G', 'I152V', 'N159S', 'M233T', 'D19G', 'E32G', 'L60I', 'Q94L', 'E95G', 'N121D', 'N159Y', 'L178P', 'Y200N', 'D216Y', 'D21V', 'F27Y', 'H81L', 'F99L', 'N121D', 'I123V', 'N164Y', 'Q183R', 'S208C', 'A227V', 'K26R', 'G40V', 'I47V', 'L60H', 'F99S', 'N121D', 'H139R', 'H148Y', 'H169L', 'F223L', 'D234G', 'E32V', 'G51A', 'V55M', 'F83L', 'F100S', 'D102G', 'N121D', 'G134S', 'S147G', 'I171F', 'N185Y', 'I229V', 'F46S', 'D82G', 'N121D', 'H148L', 'N149D', 'N159S', 'I188V', 'N198D', 'T225S', 'H231R', 'K52R', 'Y74H', 'H77R', 'V93A', 'T97A', 'N121D', 'I128T', 'Y143N', 'N159S', 'N170D', 'I229T', 'V55M', 'Y74H', 'M78L', 'A87V', 'N121D', 'E124G', 'V150I', 'F165Y', 'Q183R', 'T203A', 'P58L', 'T59A', 'H81R', 'K85E', 'T118A', 'N121D', 'H148L', 'Q157R', 'S175G', 'N198D', 'V61A', 'T63S', 'Y92C', 'N121D', 'N164I', 'N170I', 'D180V', 'I188T', 'T230I', 'H231R', 'G91V', 'T118A', 'N121D', 'L125Q', 'L141M', 'V150A', 'M153L', 'V176A', 'L195P', 'S205T', 'F223Y']\n",
      "Filtered DataFrame for G127S:\n",
      "       DMS_score    m1     m2     m3     m4     m5     m6     m7     m8  \\\n",
      "162     1.411104   K3M    L7R   E34G   D76N   E90V   G91S   E95G  G127S   \n",
      "6183    1.574497   T9S  F100S  G127S  D155V  I161T  N164H  F165L  K166R   \n",
      "30159   1.569020  T63A   Q69R   R73P  T108A  V112A  F114L  G127S  E132V   \n",
      "\n",
      "          m9    m10    m11   m12   m13   m14   m15  \n",
      "162    F130Y  E172G  N185D  None  None  None  None  \n",
      "6183   N198D  M218R   None  None  None  None  None  \n",
      "30159  N146S  I229V   None  None  None  None  None  \n",
      "['K3M', 'L7R', 'E34G', 'D76N', 'E90V', 'G91S', 'E95G', 'F130Y', 'E172G', 'N185D', 'T9S', 'F100S', 'G127S', 'D155V', 'I161T', 'N164H', 'F165L', 'K166R', 'N198D', 'M218R', 'T63A', 'Q69R', 'R73P', 'T108A', 'V112A', 'F114L', 'G127S', 'E132V', 'N146S', 'I229V']\n",
      "Filtered DataFrame for I123F:\n",
      "       DMS_score    m1    m2     m3     m4     m5     m6     m7     m8     m9  \\\n",
      "2611    1.301032   E6G  D21G   K26T   I47N   T62A   S65P   M78T   D82V  I123F   \n",
      "4664    1.499176   F8L  V11G   L18P   C48S  T108A  I123F  K131E  L137Q  I152T   \n",
      "9288    1.532341  L15Q  M88T  N121D  I123F  K131R  K156E  I161T  S202C  S208G   \n",
      "10909   1.488352  L18Q  K41R  K107R  R122P  I123F  F130S  N198S  T203S  Q204L   \n",
      "12038   1.301030  D21N  E32G   S65P   F84L  I123F  L125Q  N149D  V150A  N164S   \n",
      "14668   1.302294  H25N  I47N   W57G   K79R   F99Y  D102G  I123F  I136F  N144S   \n",
      "15828   1.479744  F27L  S30P   K41E   H81L  K107E  K113R  I123F  K131E  N164D   \n",
      "18053   1.302575  G31S  F46L   T49P   S65P   H81L  I123F  N144S  Q183R  T186A   \n",
      "\n",
      "         m10    m11    m12    m13   m14   m15  \n",
      "2611   K126R  S147G  V219A  H231R  None  None  \n",
      "4664   D155Y  G232D   None   None  None  None  \n",
      "9288   M218I   None   None   None  None  None  \n",
      "10909  M218K   None   None   None  None  None  \n",
      "12038  H181Y  Q183P   None   None  None  None  \n",
      "14668  M153T  K156E  Q204L   None  None  None  \n",
      "15828  M233K   None   None   None  None  None  \n",
      "18053  G191S   None   None   None  None  None  \n",
      "['E6G', 'D21G', 'K26T', 'I47N', 'T62A', 'S65P', 'M78T', 'D82V', 'K126R', 'S147G', 'V219A', 'H231R', 'F8L', 'V11G', 'L18P', 'C48S', 'T108A', 'I123F', 'K131E', 'L137Q', 'I152T', 'D155Y', 'G232D', 'L15Q', 'M88T', 'N121D', 'I123F', 'K131R', 'K156E', 'I161T', 'S202C', 'S208G', 'M218I', 'L18Q', 'K41R', 'K107R', 'R122P', 'I123F', 'F130S', 'N198S', 'T203S', 'Q204L', 'M218K', 'D21N', 'E32G', 'S65P', 'F84L', 'I123F', 'L125Q', 'N149D', 'V150A', 'N164S', 'H181Y', 'Q183P', 'H25N', 'I47N', 'W57G', 'K79R', 'F99Y', 'D102G', 'I123F', 'I136F', 'N144S', 'M153T', 'K156E', 'Q204L', 'F27L', 'S30P', 'K41E', 'H81L', 'K107E', 'K113R', 'I123F', 'K131E', 'N164D', 'M233K', 'G31S', 'F46L', 'T49P', 'S65P', 'H81L', 'I123F', 'N144S', 'Q183R', 'T186A', 'G191S']\n",
      "Filtered DataFrame for I128F:\n",
      "      DMS_score    m1    m2    m3    m4    m5     m6     m7     m8     m9  \\\n",
      "1892   1.298620   E5G   T9I  P58L  F71L  F83S   Y92C  I128F  E132G  H139R   \n",
      "6086   1.301051   T9I  L60P  D76V  M88K  G91D  I128F  N144D  I152N  N159S   \n",
      "6314   2.163195  G10E  L53P  L64P  F84S  F99Y  I128F  Y143F  Y145C  M153T   \n",
      "\n",
      "        m10    m11   m12   m13   m14   m15  \n",
      "1892  N164S  D190Y  None  None  None  None  \n",
      "6086  H169R  S175G  None  None  None  None  \n",
      "6314  D155A   None  None  None  None  None  \n",
      "['E5G', 'T9I', 'P58L', 'F71L', 'F83S', 'Y92C', 'E132G', 'H139R', 'N164S', 'D190Y', 'T9I', 'L60P', 'D76V', 'M88K', 'G91D', 'I128F', 'N144D', 'I152N', 'N159S', 'H169R', 'S175G', 'G10E', 'L53P', 'L64P', 'F84S', 'F99Y', 'I128F', 'Y143F', 'Y145C', 'M153T', 'D155A']\n",
      "Filtered DataFrame for Q183H:\n",
      "       DMS_score    m1    m2    m3    m4     m5     m6     m7     m8     m9  \\\n",
      "3999    1.301030   F8S  T43S  K52E  V68A  D103A  D129V  F130I  Q183H  N185D   \n",
      "10289   1.569241  E17G  K52E  F71S  S72G   S86P  N146S  N149T  V150D  N159I   \n",
      "\n",
      "         m10    m11   m12   m13   m14   m15  \n",
      "3999   D234G   None  None  None  None  None  \n",
      "10289  Q183H  M233T  None  None  None  None  \n",
      "['F8S', 'T43S', 'K52E', 'V68A', 'D103A', 'D129V', 'F130I', 'N185D', 'D234G', 'E17G', 'K52E', 'F71S', 'S72G', 'S86P', 'N146S', 'N149T', 'V150D', 'N159I', 'Q183H', 'M233T']\n",
      "Filtered DataFrame for Y74N:\n",
      "       DMS_score    m1    m2    m3    m4    m5    m6     m7     m8     m9  \\\n",
      "10938   1.499127  L18R  G31D  Y74N  S86P  A87T  F99S  K131E  G134S  F165S   \n",
      "\n",
      "         m10   m11   m12   m13   m14   m15  \n",
      "10938  N198S  None  None  None  None  None  \n",
      "['F8S', 'T43S', 'K52E', 'V68A', 'D103A', 'D129V', 'F130I', 'N185D', 'D234G', 'E17G', 'K52E', 'F71S', 'S72G', 'S86P', 'N146S', 'N149T', 'V150D', 'N159I', 'Q183H', 'M233T']\n",
      "Filtered DataFrame for L236R:\n",
      "       DMS_score    m1    m2    m3    m4     m5     m6     m7     m8     m9  \\\n",
      "30478   1.447552  L64Q  Y74S  E90A  Y92C  L141P  N144S  I171T  N185I  T186A   \n",
      "\n",
      "         m10   m11   m12   m13   m14   m15  \n",
      "30478  L236R  None  None  None  None  None  \n",
      "['F8S', 'T43S', 'K52E', 'V68A', 'D103A', 'D129V', 'F130I', 'N185D', 'D234G', 'E17G', 'K52E', 'F71S', 'S72G', 'S86P', 'N146S', 'N149T', 'V150D', 'N159I', 'Q183H', 'M233T']\n",
      "Filtered DataFrame for E95G:\n",
      "       DMS_score    m1    m2     m3     m4     m5     m6     m7     m8     m9  \\\n",
      "162     1.411104   K3M   L7R   E34G   D76N   E90V   G91S   E95G  G127S  F130Y   \n",
      "555     1.301030   K3E  I14T   T38A   W57C   F83S   E95G  Y106H  L195P  K214R   \n",
      "1029    1.301030   K3E  T49S   S86Y   M88L   E95G  T118A  N164D  I167T  I171N   \n",
      "1478    1.577762   E5G  N23S   D82V   F84Y   G91D   E95G  N135D  N144S  I152T   \n",
      "3565    1.301030   L7R  S30P   V55A   E95G  K101E  N105Y  T108A  D155G  K156R   \n",
      "3964    1.580190   F8Y  K26E   V61A   Q80R   E90A   E95G  N121S  N135D  H139R   \n",
      "4049    1.301103   F8S  S30T   C48R   M88V   V93D   E95G  K166E  I188V  L207P   \n",
      "4644    1.652846   F8L   T9S   T43A   T50A   E95G  V112A  I123V  M153L  N170S   \n",
      "7532    1.301030  V12A  F27I   S28G   H77L   Q80L   M88V   E95G  F114S  F130L   \n",
      "8321    1.301900  I14N  L18R   N23T   E34G   E95G  S175C  D180G  L201P  S205Y   \n",
      "9303    1.301046  L15P  E32K   C48R   L53P   L64R   F83I   E95G  N159S  D197Y   \n",
      "10193   1.301030  E17G  G24S   L60P   T62A   Y66N   E95G  L125P  N164Y  E172G   \n",
      "11531   1.684737  D19G  E32G   L60I   Q94L   E95G  N121D  N159Y  L178P  Y200N   \n",
      "13952   1.415891  G24S  S30P   K79R   D82N   V93D   E95G  E111G  F165S  N170T   \n",
      "14548   1.680172  H25Y  C70R   R73C   F83S   E95G  G104S  E115G  F130L  F165S   \n",
      "21420   1.461547  G40C  T43S   M78T   E95G  F130L  I152T  M153V  K156T  N164H   \n",
      "25781   1.536088  C48R  Q94R   E95G  K131E  M153L  D173G  N185D  T186A  T230A   \n",
      "26007   1.301030  T49A  E95G  F100S  I128N  D129Y  M153L  D180V  N212D  M218T   \n",
      "33318   1.484501  Y74H  K79R   Q94L   E95G  N121S  I123T  Y200H  Q204P  K209E   \n",
      "\n",
      "         m10    m11    m12    m13   m14   m15  \n",
      "162    E172G  N185D   None   None  None  None  \n",
      "555    E235G   None   None   None  None  None  \n",
      "1029   Y200C  T225S  M233T  D234G  None  None  \n",
      "1478   T230A   None   None   None  None  None  \n",
      "3565   S202C  H217L   None   None  None  None  \n",
      "3964   H199R   None   None   None  None  None  \n",
      "4049   L221Q   None   None   None  None  None  \n",
      "4644   L194Q  T203A   None   None  None  None  \n",
      "7532   Y151C  Q177R   None   None  None  None  \n",
      "8321   K209E   None   None   None  None  None  \n",
      "9303   I229V   None   None   None  None  None  \n",
      "10193  D197V  K214R   None   None  None  None  \n",
      "11531  D216Y   None   None   None  None  None  \n",
      "13952  E172G  I188F  L194P   None  None  None  \n",
      "14548  K214R   None   None   None  None  None  \n",
      "21420  L207Q   None   None   None  None  None  \n",
      "25781  D234G   None   None   None  None  None  \n",
      "26007  L220P  D234G   None   None  None  None  \n",
      "33318  E235K   None   None   None  None  None  \n",
      "['K3M', 'L7R', 'E34G', 'D76N', 'E90V', 'G91S', 'G127S', 'F130Y', 'E172G', 'N185D', 'K3E', 'I14T', 'T38A', 'W57C', 'F83S', 'E95G', 'Y106H', 'L195P', 'K214R', 'E235G', 'K3E', 'T49S', 'S86Y', 'M88L', 'E95G', 'T118A', 'N164D', 'I167T', 'I171N', 'Y200C', 'T225S', 'M233T', 'D234G', 'E5G', 'N23S', 'D82V', 'F84Y', 'G91D', 'E95G', 'N135D', 'N144S', 'I152T', 'T230A', 'L7R', 'S30P', 'V55A', 'E95G', 'K101E', 'N105Y', 'T108A', 'D155G', 'K156R', 'S202C', 'H217L', 'F8Y', 'K26E', 'V61A', 'Q80R', 'E90A', 'E95G', 'N121S', 'N135D', 'H139R', 'H199R', 'F8S', 'S30T', 'C48R', 'M88V', 'V93D', 'E95G', 'K166E', 'I188V', 'L207P', 'L221Q', 'F8L', 'T9S', 'T43A', 'T50A', 'E95G', 'V112A', 'I123V', 'M153L', 'N170S', 'L194Q', 'T203A', 'V12A', 'F27I', 'S28G', 'H77L', 'Q80L', 'M88V', 'E95G', 'F114S', 'F130L', 'Y151C', 'Q177R', 'I14N', 'L18R', 'N23T', 'E34G', 'E95G', 'S175C', 'D180G', 'L201P', 'S205Y', 'K209E', 'L15P', 'E32K', 'C48R', 'L53P', 'L64R', 'F83I', 'E95G', 'N159S', 'D197Y', 'I229V', 'E17G', 'G24S', 'L60P', 'T62A', 'Y66N', 'E95G', 'L125P', 'N164Y', 'E172G', 'D197V', 'K214R', 'D19G', 'E32G', 'L60I', 'Q94L', 'E95G', 'N121D', 'N159Y', 'L178P', 'Y200N', 'D216Y', 'G24S', 'S30P', 'K79R', 'D82N', 'V93D', 'E95G', 'E111G', 'F165S', 'N170T', 'E172G', 'I188F', 'L194P', 'H25Y', 'C70R', 'R73C', 'F83S', 'E95G', 'G104S', 'E115G', 'F130L', 'F165S', 'K214R', 'G40C', 'T43S', 'M78T', 'E95G', 'F130L', 'I152T', 'M153V', 'K156T', 'N164H', 'L207Q', 'C48R', 'Q94R', 'E95G', 'K131E', 'M153L', 'D173G', 'N185D', 'T186A', 'T230A', 'D234G', 'T49A', 'E95G', 'F100S', 'I128N', 'D129Y', 'M153L', 'D180V', 'N212D', 'M218T', 'L220P', 'D234G', 'Y74H', 'K79R', 'Q94L', 'E95G', 'N121S', 'I123T', 'Y200H', 'Q204P', 'K209E', 'E235K']\n"
     ]
    }
   ],
   "source": [
    "# mit allen Mutationen aus possible_mutations_in_mutants_with_min_10_mutations\n",
    "# for all possible_mutations_in_mutants_with_min_10_mutations\n",
    "for mutation in possible_mutations_in_mutants_with_min_10_mutations:\n",
    "    # Create an empty DataFrame with the same columns as df_min_10_mutations\n",
    "    df_min_10_mutations_loop = pd.DataFrame(columns=df_min_10_mutations.columns)\n",
    "\n",
    "    for index, row in df_min_10_mutations.iterrows():\n",
    "        # count specific mutation\n",
    "        count = df_min_10_mutations.values.flatten().tolist().count(mutation)\n",
    "\n",
    "        # check the count of specific mutation\n",
    "        if count > 1:\n",
    "            # add row to new df\n",
    "            df_min_10_mutations_loop = df_min_10_mutations[\n",
    "                df_min_10_mutations.apply(lambda row: mutation in row.values, axis=1)]\n",
    "            # Create a list of all possible mutations in the new DataFrame except the specific mutation\n",
    "            possible_mutations = df_min_10_mutations_loop.values.flatten().tolist()\n",
    "            possible_mutations.remove(mutation)\n",
    "            # remove none from list\n",
    "            possible_mutations = [value for value in possible_mutations if value is not None]\n",
    "            # remove fscore from list\n",
    "            possible_mutations = [value for value in possible_mutations if not isinstance(value, (int, float))]\n",
    "\n",
    "        else:\n",
    "            # remain last rows with specific mutation and stop\n",
    "            df_min_10_mutations_loop = df_min_10_mutations[\n",
    "                df_min_10_mutations.apply(lambda row: mutation in row.values, axis=1)]\n",
    "            break\n",
    "\n",
    "    print(f\"Filtered DataFrame for {mutation}:\")\n",
    "    print(df_min_10_mutations_loop)\n",
    "    print(possible_mutations)"
   ],
   "metadata": {
    "collapsed": false,
    "is_executing": true,
    "ExecuteTime": {
     "start_time": "2023-06-14T07:23:19.627203Z"
    }
   }
  },
  {
   "cell_type": "code",
   "execution_count": null,
   "outputs": [],
   "source": [],
   "metadata": {
    "collapsed": false
   }
  }
 ],
 "metadata": {
  "kernelspec": {
   "display_name": "Python 3",
   "language": "python",
   "name": "python3"
  },
  "language_info": {
   "codemirror_mode": {
    "name": "ipython",
    "version": 2
   },
   "file_extension": ".py",
   "mimetype": "text/x-python",
   "name": "python",
   "nbconvert_exporter": "python",
   "pygments_lexer": "ipython2",
   "version": "2.7.6"
  }
 },
 "nbformat": 4,
 "nbformat_minor": 0
}
