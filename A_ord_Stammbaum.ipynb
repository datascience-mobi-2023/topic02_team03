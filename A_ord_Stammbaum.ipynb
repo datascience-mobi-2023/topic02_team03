{
 "cells": [
  {
   "cell_type": "code",
   "execution_count": 63,
   "metadata": {
    "collapsed": true,
    "ExecuteTime": {
     "end_time": "2023-06-06T17:01:33.585199Z",
     "start_time": "2023-06-06T17:01:33.323737Z"
    }
   },
   "outputs": [
    {
     "name": "stderr",
     "output_type": "stream",
     "text": [
      "/var/folders/tn/1strgsg5455dq9n93kfzv8kh0000gn/T/ipykernel_59530/3997050591.py:9: FutureWarning: In a future version of pandas all arguments of StringMethods.split except for the argument 'pat' will be keyword-only.\n",
      "  df_ind_col[['m1', 'm2', 'm3', 'm4', 'm5', 'm6', 'm7', 'm8', 'm9', 'm10', 'm11','m12','m13','m14','m15']] = df_ind_col['mutant'].str.split(':', 14, expand=True)\n"
     ]
    },
    {
     "data": {
      "text/plain": "                                  mutant  \\\n0  K3R:V55A:Q94R:A110T:D117G:M153K:D216A   \n1                   K3Q:V16A:I167T:L195Q   \n2            K3Q:Y143C:N164D:S205P:A227T   \n3                        K3Q:Y143N:V193A   \n4                                    K3R   \n\n                                    mutated_sequence  DMS_score  \\\n0  MSRGEELFTGVVPILVELDGDVNGHKFSVSGEGEGDATYGKLTLKF...   1.301030   \n1  MSQGEELFTGVVPILAELDGDVNGHKFSVSGEGEGDATYGKLTLKF...   3.137350   \n2  MSQGEELFTGVVPILVELDGDVNGHKFSVSGEGEGDATYGKLTLKF...   1.553913   \n3  MSQGEELFTGVVPILVELDGDVNGHKFSVSGEGEGDATYGKLTLKF...   3.404237   \n4  MSRGEELFTGVVPILVELDGDVNGHKFSVSGEGEGDATYGKLTLKF...   3.738586   \n\n   DMS_score_bin   m1     m2     m3     m4     m5     m6     m7    m8    m9  \\\n0              0  K3R   V55A   Q94R  A110T  D117G  M153K  D216A  None  None   \n1              1  K3Q   V16A  I167T  L195Q   None   None   None  None  None   \n2              0  K3Q  Y143C  N164D  S205P  A227T   None   None  None  None   \n3              1  K3Q  Y143N  V193A   None   None   None   None  None  None   \n4              1  K3R   None   None   None   None   None   None  None  None   \n\n    m10   m11   m12   m13   m14   m15  \n0  None  None  None  None  None  None  \n1  None  None  None  None  None  None  \n2  None  None  None  None  None  None  \n3  None  None  None  None  None  None  \n4  None  None  None  None  None  None  ",
      "text/html": "<div>\n<style scoped>\n    .dataframe tbody tr th:only-of-type {\n        vertical-align: middle;\n    }\n\n    .dataframe tbody tr th {\n        vertical-align: top;\n    }\n\n    .dataframe thead th {\n        text-align: right;\n    }\n</style>\n<table border=\"1\" class=\"dataframe\">\n  <thead>\n    <tr style=\"text-align: right;\">\n      <th></th>\n      <th>mutant</th>\n      <th>mutated_sequence</th>\n      <th>DMS_score</th>\n      <th>DMS_score_bin</th>\n      <th>m1</th>\n      <th>m2</th>\n      <th>m3</th>\n      <th>m4</th>\n      <th>m5</th>\n      <th>m6</th>\n      <th>m7</th>\n      <th>m8</th>\n      <th>m9</th>\n      <th>m10</th>\n      <th>m11</th>\n      <th>m12</th>\n      <th>m13</th>\n      <th>m14</th>\n      <th>m15</th>\n    </tr>\n  </thead>\n  <tbody>\n    <tr>\n      <th>0</th>\n      <td>K3R:V55A:Q94R:A110T:D117G:M153K:D216A</td>\n      <td>MSRGEELFTGVVPILVELDGDVNGHKFSVSGEGEGDATYGKLTLKF...</td>\n      <td>1.301030</td>\n      <td>0</td>\n      <td>K3R</td>\n      <td>V55A</td>\n      <td>Q94R</td>\n      <td>A110T</td>\n      <td>D117G</td>\n      <td>M153K</td>\n      <td>D216A</td>\n      <td>None</td>\n      <td>None</td>\n      <td>None</td>\n      <td>None</td>\n      <td>None</td>\n      <td>None</td>\n      <td>None</td>\n      <td>None</td>\n    </tr>\n    <tr>\n      <th>1</th>\n      <td>K3Q:V16A:I167T:L195Q</td>\n      <td>MSQGEELFTGVVPILAELDGDVNGHKFSVSGEGEGDATYGKLTLKF...</td>\n      <td>3.137350</td>\n      <td>1</td>\n      <td>K3Q</td>\n      <td>V16A</td>\n      <td>I167T</td>\n      <td>L195Q</td>\n      <td>None</td>\n      <td>None</td>\n      <td>None</td>\n      <td>None</td>\n      <td>None</td>\n      <td>None</td>\n      <td>None</td>\n      <td>None</td>\n      <td>None</td>\n      <td>None</td>\n      <td>None</td>\n    </tr>\n    <tr>\n      <th>2</th>\n      <td>K3Q:Y143C:N164D:S205P:A227T</td>\n      <td>MSQGEELFTGVVPILVELDGDVNGHKFSVSGEGEGDATYGKLTLKF...</td>\n      <td>1.553913</td>\n      <td>0</td>\n      <td>K3Q</td>\n      <td>Y143C</td>\n      <td>N164D</td>\n      <td>S205P</td>\n      <td>A227T</td>\n      <td>None</td>\n      <td>None</td>\n      <td>None</td>\n      <td>None</td>\n      <td>None</td>\n      <td>None</td>\n      <td>None</td>\n      <td>None</td>\n      <td>None</td>\n      <td>None</td>\n    </tr>\n    <tr>\n      <th>3</th>\n      <td>K3Q:Y143N:V193A</td>\n      <td>MSQGEELFTGVVPILVELDGDVNGHKFSVSGEGEGDATYGKLTLKF...</td>\n      <td>3.404237</td>\n      <td>1</td>\n      <td>K3Q</td>\n      <td>Y143N</td>\n      <td>V193A</td>\n      <td>None</td>\n      <td>None</td>\n      <td>None</td>\n      <td>None</td>\n      <td>None</td>\n      <td>None</td>\n      <td>None</td>\n      <td>None</td>\n      <td>None</td>\n      <td>None</td>\n      <td>None</td>\n      <td>None</td>\n    </tr>\n    <tr>\n      <th>4</th>\n      <td>K3R</td>\n      <td>MSRGEELFTGVVPILVELDGDVNGHKFSVSGEGEGDATYGKLTLKF...</td>\n      <td>3.738586</td>\n      <td>1</td>\n      <td>K3R</td>\n      <td>None</td>\n      <td>None</td>\n      <td>None</td>\n      <td>None</td>\n      <td>None</td>\n      <td>None</td>\n      <td>None</td>\n      <td>None</td>\n      <td>None</td>\n      <td>None</td>\n      <td>None</td>\n      <td>None</td>\n      <td>None</td>\n      <td>None</td>\n    </tr>\n  </tbody>\n</table>\n</div>"
     },
     "execution_count": 63,
     "metadata": {},
     "output_type": "execute_result"
    }
   ],
   "source": [
    "import pandas as pd\n",
    "\n",
    "# Datensatz einlesen\n",
    "df = pd.read_csv('/Users/tianxinangelama/Documents/Studium/4. FS/DMS/DMS_data/GFP_AEQVI_Sarkisyan_2016.csv')\n",
    "\n",
    "# split into multiple columns, 1 column for every mutation\n",
    "df_ind_col = df\n",
    "\n",
    "df_ind_col[['m1', 'm2', 'm3', 'm4', 'm5', 'm6', 'm7', 'm8', 'm9', 'm10', 'm11','m12','m13','m14','m15']] = df_ind_col['mutant'].str.split(':', 14, expand=True)\n",
    "\n",
    "df_ind_col.head()"
   ]
  },
  {
   "cell_type": "code",
   "execution_count": 64,
   "outputs": [
    {
     "data": {
      "text/plain": "   DMS_score   m1     m2     m3     m4     m5     m6     m7    m8    m9   m10  \\\n0   1.301030  K3R   V55A   Q94R  A110T  D117G  M153K  D216A  None  None  None   \n1   3.137350  K3Q   V16A  I167T  L195Q   None   None   None  None  None  None   \n2   1.553913  K3Q  Y143C  N164D  S205P  A227T   None   None  None  None  None   \n3   3.404237  K3Q  Y143N  V193A   None   None   None   None  None  None  None   \n4   3.738586  K3R   None   None   None   None   None   None  None  None  None   \n\n    m11   m12   m13   m14   m15  \n0  None  None  None  None  None  \n1  None  None  None  None  None  \n2  None  None  None  None  None  \n3  None  None  None  None  None  \n4  None  None  None  None  None  ",
      "text/html": "<div>\n<style scoped>\n    .dataframe tbody tr th:only-of-type {\n        vertical-align: middle;\n    }\n\n    .dataframe tbody tr th {\n        vertical-align: top;\n    }\n\n    .dataframe thead th {\n        text-align: right;\n    }\n</style>\n<table border=\"1\" class=\"dataframe\">\n  <thead>\n    <tr style=\"text-align: right;\">\n      <th></th>\n      <th>DMS_score</th>\n      <th>m1</th>\n      <th>m2</th>\n      <th>m3</th>\n      <th>m4</th>\n      <th>m5</th>\n      <th>m6</th>\n      <th>m7</th>\n      <th>m8</th>\n      <th>m9</th>\n      <th>m10</th>\n      <th>m11</th>\n      <th>m12</th>\n      <th>m13</th>\n      <th>m14</th>\n      <th>m15</th>\n    </tr>\n  </thead>\n  <tbody>\n    <tr>\n      <th>0</th>\n      <td>1.301030</td>\n      <td>K3R</td>\n      <td>V55A</td>\n      <td>Q94R</td>\n      <td>A110T</td>\n      <td>D117G</td>\n      <td>M153K</td>\n      <td>D216A</td>\n      <td>None</td>\n      <td>None</td>\n      <td>None</td>\n      <td>None</td>\n      <td>None</td>\n      <td>None</td>\n      <td>None</td>\n      <td>None</td>\n    </tr>\n    <tr>\n      <th>1</th>\n      <td>3.137350</td>\n      <td>K3Q</td>\n      <td>V16A</td>\n      <td>I167T</td>\n      <td>L195Q</td>\n      <td>None</td>\n      <td>None</td>\n      <td>None</td>\n      <td>None</td>\n      <td>None</td>\n      <td>None</td>\n      <td>None</td>\n      <td>None</td>\n      <td>None</td>\n      <td>None</td>\n      <td>None</td>\n    </tr>\n    <tr>\n      <th>2</th>\n      <td>1.553913</td>\n      <td>K3Q</td>\n      <td>Y143C</td>\n      <td>N164D</td>\n      <td>S205P</td>\n      <td>A227T</td>\n      <td>None</td>\n      <td>None</td>\n      <td>None</td>\n      <td>None</td>\n      <td>None</td>\n      <td>None</td>\n      <td>None</td>\n      <td>None</td>\n      <td>None</td>\n      <td>None</td>\n    </tr>\n    <tr>\n      <th>3</th>\n      <td>3.404237</td>\n      <td>K3Q</td>\n      <td>Y143N</td>\n      <td>V193A</td>\n      <td>None</td>\n      <td>None</td>\n      <td>None</td>\n      <td>None</td>\n      <td>None</td>\n      <td>None</td>\n      <td>None</td>\n      <td>None</td>\n      <td>None</td>\n      <td>None</td>\n      <td>None</td>\n      <td>None</td>\n    </tr>\n    <tr>\n      <th>4</th>\n      <td>3.738586</td>\n      <td>K3R</td>\n      <td>None</td>\n      <td>None</td>\n      <td>None</td>\n      <td>None</td>\n      <td>None</td>\n      <td>None</td>\n      <td>None</td>\n      <td>None</td>\n      <td>None</td>\n      <td>None</td>\n      <td>None</td>\n      <td>None</td>\n      <td>None</td>\n      <td>None</td>\n    </tr>\n  </tbody>\n</table>\n</div>"
     },
     "execution_count": 64,
     "metadata": {},
     "output_type": "execute_result"
    }
   ],
   "source": [
    "# reduce df to fscore, m1 - m15\n",
    "df_only_fscore_mutations = df_ind_col\n",
    "\n",
    "df_only_fscore_mutations = df_only_fscore_mutations.drop(['mutant','mutated_sequence','DMS_score_bin'], axis=1)\n",
    "\n",
    "df_only_fscore_mutations.head()"
   ],
   "metadata": {
    "collapsed": false,
    "ExecuteTime": {
     "end_time": "2023-06-06T17:01:33.598378Z",
     "start_time": "2023-06-06T17:01:33.586476Z"
    }
   }
  },
  {
   "cell_type": "code",
   "execution_count": 65,
   "outputs": [
    {
     "data": {
      "text/plain": "   DMS_score   m1     m2     m3     m4     m5     m6     m7    m8    m9   m10  \\\n0   1.301030  K3R   V55A   Q94R  A110T  D117G  M153K  D216A  None  None  None   \n1   3.137350  K3Q   V16A  I167T  L195Q   None   None   None  None  None  None   \n2   1.553913  K3Q  Y143C  N164D  S205P  A227T   None   None  None  None  None   \n3   3.404237  K3Q  Y143N  V193A   None   None   None   None  None  None  None   \n4   3.738586  K3R   None   None   None   None   None   None  None  None  None   \n\n    m11   m12   m13   m14   m15  \n0  None  None  None  None  None  \n1  None  None  None  None  None  \n2  None  None  None  None  None  \n3  None  None  None  None  None  \n4  None  None  None  None  None  ",
      "text/html": "<div>\n<style scoped>\n    .dataframe tbody tr th:only-of-type {\n        vertical-align: middle;\n    }\n\n    .dataframe tbody tr th {\n        vertical-align: top;\n    }\n\n    .dataframe thead th {\n        text-align: right;\n    }\n</style>\n<table border=\"1\" class=\"dataframe\">\n  <thead>\n    <tr style=\"text-align: right;\">\n      <th></th>\n      <th>DMS_score</th>\n      <th>m1</th>\n      <th>m2</th>\n      <th>m3</th>\n      <th>m4</th>\n      <th>m5</th>\n      <th>m6</th>\n      <th>m7</th>\n      <th>m8</th>\n      <th>m9</th>\n      <th>m10</th>\n      <th>m11</th>\n      <th>m12</th>\n      <th>m13</th>\n      <th>m14</th>\n      <th>m15</th>\n    </tr>\n  </thead>\n  <tbody>\n    <tr>\n      <th>0</th>\n      <td>1.301030</td>\n      <td>K3R</td>\n      <td>V55A</td>\n      <td>Q94R</td>\n      <td>A110T</td>\n      <td>D117G</td>\n      <td>M153K</td>\n      <td>D216A</td>\n      <td>None</td>\n      <td>None</td>\n      <td>None</td>\n      <td>None</td>\n      <td>None</td>\n      <td>None</td>\n      <td>None</td>\n      <td>None</td>\n    </tr>\n    <tr>\n      <th>1</th>\n      <td>3.137350</td>\n      <td>K3Q</td>\n      <td>V16A</td>\n      <td>I167T</td>\n      <td>L195Q</td>\n      <td>None</td>\n      <td>None</td>\n      <td>None</td>\n      <td>None</td>\n      <td>None</td>\n      <td>None</td>\n      <td>None</td>\n      <td>None</td>\n      <td>None</td>\n      <td>None</td>\n      <td>None</td>\n    </tr>\n    <tr>\n      <th>2</th>\n      <td>1.553913</td>\n      <td>K3Q</td>\n      <td>Y143C</td>\n      <td>N164D</td>\n      <td>S205P</td>\n      <td>A227T</td>\n      <td>None</td>\n      <td>None</td>\n      <td>None</td>\n      <td>None</td>\n      <td>None</td>\n      <td>None</td>\n      <td>None</td>\n      <td>None</td>\n      <td>None</td>\n      <td>None</td>\n    </tr>\n    <tr>\n      <th>3</th>\n      <td>3.404237</td>\n      <td>K3Q</td>\n      <td>Y143N</td>\n      <td>V193A</td>\n      <td>None</td>\n      <td>None</td>\n      <td>None</td>\n      <td>None</td>\n      <td>None</td>\n      <td>None</td>\n      <td>None</td>\n      <td>None</td>\n      <td>None</td>\n      <td>None</td>\n      <td>None</td>\n      <td>None</td>\n    </tr>\n    <tr>\n      <th>4</th>\n      <td>3.738586</td>\n      <td>K3R</td>\n      <td>None</td>\n      <td>None</td>\n      <td>None</td>\n      <td>None</td>\n      <td>None</td>\n      <td>None</td>\n      <td>None</td>\n      <td>None</td>\n      <td>None</td>\n      <td>None</td>\n      <td>None</td>\n      <td>None</td>\n      <td>None</td>\n      <td>None</td>\n    </tr>\n  </tbody>\n</table>\n</div>"
     },
     "execution_count": 65,
     "metadata": {},
     "output_type": "execute_result"
    }
   ],
   "source": [
    "df_mutants_with_specific_mutation = df_only_fscore_mutations\n",
    "df_mutants_with_specific_mutation.head()"
   ],
   "metadata": {
    "collapsed": false,
    "ExecuteTime": {
     "end_time": "2023-06-06T17:01:33.603719Z",
     "start_time": "2023-06-06T17:01:33.600776Z"
    }
   }
  },
  {
   "cell_type": "code",
   "execution_count": 66,
   "outputs": [],
   "source": [
    "# Lisas Code zum Rausschreiben v. allen möglichen Mutationen (modifiziert)\n",
    "# df nur mit m1 bis m15\n",
    "working_dataframe_only_ms = df_only_fscore_mutations.loc[:, ['m1', 'm2', 'm3', 'm4', 'm5', 'm6', 'm7', 'm8', 'm9', 'm10', 'm11', 'm12', 'm13', 'm14', 'm15']]"
   ],
   "metadata": {
    "collapsed": false,
    "ExecuteTime": {
     "end_time": "2023-06-06T17:01:33.665318Z",
     "start_time": "2023-06-06T17:01:33.604517Z"
    }
   }
  },
  {
   "cell_type": "code",
   "execution_count": 67,
   "outputs": [],
   "source": [
    "# alle möglichen Mutationen rausschreiben\n",
    "all_possible_mutations = working_dataframe_only_ms.values.flatten().tolist()\n",
    "all_possible_mutations = list(set(all_possible_mutations))\n",
    "#hat einen none Wert, weil der auch ein Wert in der Liste ist -> wegmachen\n",
    "while None in all_possible_mutations:\n",
    "    all_possible_mutations.remove(None)"
   ],
   "metadata": {
    "collapsed": false,
    "ExecuteTime": {
     "end_time": "2023-06-06T17:01:33.699784Z",
     "start_time": "2023-06-06T17:01:33.619653Z"
    }
   }
  },
  {
   "cell_type": "code",
   "execution_count": 68,
   "outputs": [
    {
     "name": "stdout",
     "output_type": "stream",
     "text": [
      "1810\n"
     ]
    }
   ],
   "source": [
    "# count all possible mutations for control\n",
    "print(len(all_possible_mutations))"
   ],
   "metadata": {
    "collapsed": false,
    "ExecuteTime": {
     "end_time": "2023-06-06T17:01:33.702204Z",
     "start_time": "2023-06-06T17:01:33.652917Z"
    }
   }
  },
  {
   "cell_type": "code",
   "execution_count": 69,
   "outputs": [
    {
     "name": "stdout",
     "output_type": "stream",
     "text": [
      "      DMS_score   m1     m2     m3     m4     m5     m6     m7    m8    m9  \\\n",
      "0      1.301030  K3R   V55A   Q94R  A110T  D117G  M153K  D216A  None  None   \n",
      "5      3.851893  K3R   A87T  D173G   None   None   None   None  None  None   \n",
      "6      3.551648  K3R   A87T  N144S  T225S   None   None   None  None  None   \n",
      "7      1.480047  K3R   C48R   D76G  M218K   None   None   None  None  None   \n",
      "8      3.388889  K3R  D102G  N185D  L195P  H231P  E235K   None  None  None   \n",
      "...         ...  ...    ...    ...    ...    ...    ...    ...   ...   ...   \n",
      "1254   3.608239  K3R  T108S   None   None   None   None   None  None  None   \n",
      "1255   3.740634  K3R  T108A  K166R   None   None   None   None  None  None   \n",
      "1256   3.489164  K3R  T108A  H139R   None   None   None   None  None  None   \n",
      "1257   3.315287  K3R  T118A  K140E   None   None   None   None  None  None   \n",
      "1258   3.361495  K3R  T108A  F165L  K166R   None   None   None  None  None   \n",
      "\n",
      "       m10   m11   m12   m13   m14   m15  \n",
      "0     None  None  None  None  None  None  \n",
      "5     None  None  None  None  None  None  \n",
      "6     None  None  None  None  None  None  \n",
      "7     None  None  None  None  None  None  \n",
      "8     None  None  None  None  None  None  \n",
      "...    ...   ...   ...   ...   ...   ...  \n",
      "1254  None  None  None  None  None  None  \n",
      "1255  None  None  None  None  None  None  \n",
      "1256  None  None  None  None  None  None  \n",
      "1257  None  None  None  None  None  None  \n",
      "1258  None  None  None  None  None  None  \n",
      "\n",
      "[524 rows x 16 columns]\n"
     ]
    }
   ],
   "source": [
    "# mind. 1 Mutation aus mutation_list muss vorhanden sein (zusätzlich zu mutation_1)\n",
    "# Kontrolle, ob Code generell funktioniert; wenn ja sollte df 524 Zeilen besitzen (ist der Fall)\n",
    "mutation_1 = 'K3R'\n",
    "mutation_list = all_possible_mutations\n",
    "\n",
    "# pd series, wobei false für jedes Objekt\n",
    "mask_mutants_with_mutation_1_and_mutation_list = pd.Series(False, index=df_mutants_with_specific_mutation.index)\n",
    "\n",
    "for mutation in mutation_list:\n",
    "    # Zeile enthält mind. 1 Element aus mutation_list\n",
    "    mask_mind_2 = df_mutants_with_specific_mutation.isin([mutation_1, mutation]).sum(axis=1) >= 2\n",
    "    mask_mutants_with_mutation_1_and_mutation_list |= mask_mind_2\n",
    "\n",
    "df_mutants_with_mutation_1_and_mutation_list = df_mutants_with_specific_mutation[mask_mutants_with_mutation_1_and_mutation_list]\n",
    "\n",
    "print(df_mutants_with_mutation_1_and_mutation_list)"
   ],
   "metadata": {
    "collapsed": false,
    "ExecuteTime": {
     "end_time": "2023-06-06T17:06:01.801828Z",
     "start_time": "2023-06-06T17:01:33.656478Z"
    }
   }
  },
  {
   "cell_type": "code",
   "execution_count": 87,
   "outputs": [
    {
     "name": "stdout",
     "output_type": "stream",
     "text": [
      "A110D    1.0\n",
      "A110S    1.0\n",
      "A110T    1.0\n",
      "A110V    1.0\n",
      "A154S    1.0\n",
      "        ... \n",
      "Y92C     1.0\n",
      "Y92D     1.0\n",
      "Y92F     1.0\n",
      "Y92H     2.0\n",
      "Y92N     1.0\n",
      "Length: 658, dtype: float64\n"
     ]
    }
   ],
   "source": [
    "# count mutations in column m2 to m15 in df with mutants which include mutation_1\n",
    "counts_m2 = df_mutants_with_mutation_1_and_mutation_list['m2'].value_counts()\n",
    "counts_m3 = df_mutants_with_mutation_1_and_mutation_list['m3'].value_counts()\n",
    "counts_m4 = df_mutants_with_mutation_1_and_mutation_list['m4'].value_counts()\n",
    "counts_m5 = df_mutants_with_mutation_1_and_mutation_list['m5'].value_counts()\n",
    "counts_m6 = df_mutants_with_mutation_1_and_mutation_list['m6'].value_counts()\n",
    "counts_m7 = df_mutants_with_mutation_1_and_mutation_list['m7'].value_counts()\n",
    "counts_m8 = df_mutants_with_mutation_1_and_mutation_list['m8'].value_counts()\n",
    "counts_m9 = df_mutants_with_mutation_1_and_mutation_list['m9'].value_counts()\n",
    "counts_m10 = df_mutants_with_mutation_1_and_mutation_list['m10'].value_counts()\n",
    "counts_m11 = df_mutants_with_mutation_1_and_mutation_list['m11'].value_counts()\n",
    "counts_m12 = df_mutants_with_mutation_1_and_mutation_list['m12'].value_counts()\n",
    "counts_m13 = df_mutants_with_mutation_1_and_mutation_list['m13'].value_counts()\n",
    "counts_m14 = df_mutants_with_mutation_1_and_mutation_list['m14'].value_counts()\n",
    "counts_m15 = df_mutants_with_mutation_1_and_mutation_list['m15'].value_counts()\n",
    "\n",
    "counts_m2_to_m15 = counts_m2.add(counts_m3, fill_value=0).add(counts_m4, fill_value=0).add(counts_m5, fill_value=0).add(counts_m6, fill_value=0).add(counts_m7, fill_value=0).add(counts_m8, fill_value=0).add(counts_m9, fill_value=0).add(counts_m10, fill_value=0).add(counts_m11, fill_value=0).add(counts_m12, fill_value=0).add(counts_m13, fill_value=0).add(counts_m14, fill_value=0).add(counts_m15, fill_value=0)\n",
    "\n",
    "print(counts_m2_to_m15)"
   ],
   "metadata": {
    "collapsed": false,
    "ExecuteTime": {
     "end_time": "2023-06-06T17:27:22.174024Z",
     "start_time": "2023-06-06T17:27:22.144477Z"
    }
   }
  },
  {
   "cell_type": "code",
   "execution_count": 88,
   "outputs": [],
   "source": [
    "# nur noch Zeilen mit counts > 0 (in Spalte m2 bis m15)\n",
    "counts_m2_to_m15_over_0 = counts_m2_to_m15[counts_m2_to_m15 != 0]"
   ],
   "metadata": {
    "collapsed": false,
    "ExecuteTime": {
     "end_time": "2023-06-06T17:27:44.682919Z",
     "start_time": "2023-06-06T17:27:44.680683Z"
    }
   }
  },
  {
   "cell_type": "code",
   "execution_count": 90,
   "outputs": [
    {
     "name": "stdout",
     "output_type": "stream",
     "text": [
      "A227V    2.0\n",
      "A87T     2.0\n",
      "C48R     3.0\n",
      "C70R     4.0\n",
      "D102G    4.0\n",
      "        ... \n",
      "Y39H     6.0\n",
      "Y66C     2.0\n",
      "Y74C     3.0\n",
      "Y74F     2.0\n",
      "Y92H     2.0\n",
      "Length: 394, dtype: float64\n"
     ]
    }
   ],
   "source": [
    "# nur noch Zeilen mit counts > 1 (in Spalte m2 bis m15)\n",
    "counts_m2_to_m15_over_1 = counts_m2_to_m15_over_0[counts_m2_to_m15_over_0 != 1]\n",
    "\n",
    "print(counts_m2_to_m15_over_1)"
   ],
   "metadata": {
    "collapsed": false,
    "ExecuteTime": {
     "end_time": "2023-06-06T17:27:57.564502Z",
     "start_time": "2023-06-06T17:27:57.555423Z"
    }
   }
  },
  {
   "cell_type": "code",
   "execution_count": 91,
   "outputs": [
    {
     "name": "stdout",
     "output_type": "stream",
     "text": [
      "      DMS_score   m1     m2     m3     m4     m5     m6     m7    m8    m9  \\\n",
      "0      1.301030  K3R   V55A   Q94R  A110T  D117G  M153K  D216A  None  None   \n",
      "5      3.851893  K3R   A87T  D173G   None   None   None   None  None  None   \n",
      "6      3.551648  K3R   A87T  N144S  T225S   None   None   None  None  None   \n",
      "7      1.480047  K3R   C48R   D76G  M218K   None   None   None  None  None   \n",
      "8      3.388889  K3R  D102G  N185D  L195P  H231P  E235K   None  None  None   \n",
      "...         ...  ...    ...    ...    ...    ...    ...    ...   ...   ...   \n",
      "1253   1.538320  K3R   S28R   D36G   K79E  K113M  N135D   None  None  None   \n",
      "1255   3.740634  K3R  T108A  K166R   None   None   None   None  None  None   \n",
      "1256   3.489164  K3R  T108A  H139R   None   None   None   None  None  None   \n",
      "1257   3.315287  K3R  T118A  K140E   None   None   None   None  None  None   \n",
      "1258   3.361495  K3R  T108A  F165L  K166R   None   None   None  None  None   \n",
      "\n",
      "       m10   m11   m12   m13   m14   m15  \n",
      "0     None  None  None  None  None  None  \n",
      "5     None  None  None  None  None  None  \n",
      "6     None  None  None  None  None  None  \n",
      "7     None  None  None  None  None  None  \n",
      "8     None  None  None  None  None  None  \n",
      "...    ...   ...   ...   ...   ...   ...  \n",
      "1253  None  None  None  None  None  None  \n",
      "1255  None  None  None  None  None  None  \n",
      "1256  None  None  None  None  None  None  \n",
      "1257  None  None  None  None  None  None  \n",
      "1258  None  None  None  None  None  None  \n",
      "\n",
      "[509 rows x 16 columns]\n"
     ]
    }
   ],
   "source": [
    "# mind. 1 Mutation aus mutation_m2_to_m15_over_1 muss vorhanden sein (zusätzlich zu mutation_1)\n",
    "mutation_1 = 'K3R'\n",
    "# turn row names of counts_m2_to_m15_over_8 into a list\n",
    "mutation_m2_to_m15_over_1_list = counts_m2_to_m15_over_1.index.tolist()\n",
    "\n",
    "\n",
    "# pd series, wobei false für jedes Objekt\n",
    "mask_mutants_with_mutation_1_and_mutation_m2_to_m15_over_1 = pd.Series(False, index=df_mutants_with_specific_mutation.index)\n",
    "\n",
    "for mutation in mutation_m2_to_m15_over_1_list:\n",
    "    # Zeile enthält mind. 1 Element aus mutation_m2_to_m15_over_1_list\n",
    "    mask_mind_2 = df_mutants_with_specific_mutation.isin([mutation_1, mutation]).sum(axis=1) >= 2\n",
    "    mask_mutants_with_mutation_1_and_mutation_m2_to_m15_over_1 |= mask_mind_2\n",
    "\n",
    "df_mutants_with_mutation_1_and_mutation_m2_to_m15_over_1 = df_mutants_with_specific_mutation[mask_mutants_with_mutation_1_and_mutation_m2_to_m15_over_1]\n",
    "\n",
    "print(df_mutants_with_mutation_1_and_mutation_m2_to_m15_over_1)"
   ],
   "metadata": {
    "collapsed": false,
    "ExecuteTime": {
     "end_time": "2023-06-06T17:28:28.611965Z",
     "start_time": "2023-06-06T17:28:18.652440Z"
    }
   }
  },
  {
   "cell_type": "code",
   "execution_count": null,
   "outputs": [],
   "source": [],
   "metadata": {
    "collapsed": false
   }
  }
 ],
 "metadata": {
  "kernelspec": {
   "display_name": "Python 3",
   "language": "python",
   "name": "python3"
  },
  "language_info": {
   "codemirror_mode": {
    "name": "ipython",
    "version": 2
   },
   "file_extension": ".py",
   "mimetype": "text/x-python",
   "name": "python",
   "nbconvert_exporter": "python",
   "pygments_lexer": "ipython2",
   "version": "2.7.6"
  }
 },
 "nbformat": 4,
 "nbformat_minor": 0
}
