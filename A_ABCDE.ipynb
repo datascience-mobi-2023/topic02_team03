{
 "cells": [
  {
   "cell_type": "code",
   "execution_count": 12,
   "metadata": {
    "collapsed": true,
    "ExecuteTime": {
     "end_time": "2023-06-15T12:12:39.201342Z",
     "start_time": "2023-06-15T12:12:39.195514Z"
    }
   },
   "outputs": [],
   "source": [
    "import pandas as pd"
   ]
  },
  {
   "cell_type": "code",
   "execution_count": 15,
   "outputs": [
    {
     "name": "stdout",
     "output_type": "stream",
     "text": [
      "  m1    m2    m3    m4    m5\n",
      "0  B     A     C     D  None\n",
      "1  A  None  None  None     E\n",
      "2  A     B  None  None  None\n",
      "3  A  None  None  None  None\n"
     ]
    }
   ],
   "source": [
    "# test mit data_fictitious\n",
    "data_fictitious = {\n",
    "    'm1': ['B', 'A', 'A', 'A'],\n",
    "    'm2': ['A', None, 'B', None],\n",
    "    'm3': ['C', None, None, None],\n",
    "    'm4': ['D', None, None, None],\n",
    "    'm5': [None, 'E', None, None]\n",
    "}\n",
    "\n",
    "df_fictitious = pd.DataFrame(data_fictitious)\n",
    "df_min_12_mutations = df_fictitious\n",
    "possible_mutations_in_mutants_with_min_12_mutations = ['A', 'B', 'C', 'D', 'E']\n",
    "\n",
    "print(df_min_12_mutations)"
   ],
   "metadata": {
    "collapsed": false,
    "ExecuteTime": {
     "end_time": "2023-06-15T12:12:57.417202Z",
     "start_time": "2023-06-15T12:12:57.413314Z"
    }
   }
  },
  {
   "cell_type": "code",
   "execution_count": 20,
   "outputs": [
    {
     "name": "stdout",
     "output_type": "stream",
     "text": [
      "  m1    m2    m3    m4    m5\n",
      "0  B     A     C     D  None\n",
      "1  A     C     D  None     E\n",
      "2  A     B  None  None  None\n",
      "3  A  None  None  None  None\n",
      "0  B     A     C     D  None\n",
      "1  A     C     D  None     E\n",
      "2  A     B  None  None  None\n",
      "3  A  None  None  None  None\n",
      "0  B     A     C     D  None\n",
      "2  A     B  None  None  None\n",
      "0  B     A     C     D  None\n",
      "1  A     C     D  None     E\n",
      "0  B     A     C     D  None\n",
      "1  A     C     D  None     E\n"
     ]
    }
   ],
   "source": [
    "def process_dataframe(df, possible_mutations):\n",
    "    if len(df) < 3:\n",
    "        return df\n",
    "\n",
    "    new_dfs = []\n",
    "\n",
    "    for mutation in possible_mutations:\n",
    "        count = df.apply(lambda row: mutation in row.values, axis=1).sum()\n",
    "\n",
    "        if count > 1:\n",
    "            new_df = df[df.apply(lambda row: mutation in row.values, axis=1)]\n",
    "            new_dfs.append(new_df)\n",
    "\n",
    "    if len(new_dfs) == 0:\n",
    "        return df\n",
    "\n",
    "    values_list = []\n",
    "\n",
    "    for new_df in new_dfs:\n",
    "        values = new_df.values.flatten().tolist()\n",
    "        values = [value for value in values if value is not None]\n",
    "        values = list(set(values))\n",
    "        values_list.extend(values)\n",
    "\n",
    "    values_list = list(set(values_list))\n",
    "    possible_mutations = [value for value in possible_mutations if value not in values_list]\n",
    "\n",
    "    for i in range(len(new_dfs)):\n",
    "        new_dfs[i] = process_dataframe(new_dfs[i], possible_mutations)\n",
    "\n",
    "    return pd.concat([df] + new_dfs)\n",
    "\n",
    "processed_df = process_dataframe(df_min_12_mutations, possible_mutations_in_mutants_with_min_12_mutations)\n",
    "print(processed_df)"
   ],
   "metadata": {
    "collapsed": false,
    "ExecuteTime": {
     "end_time": "2023-06-15T12:27:54.265789Z",
     "start_time": "2023-06-15T12:27:54.259869Z"
    }
   }
  },
  {
   "cell_type": "code",
   "execution_count": null,
   "outputs": [],
   "source": [],
   "metadata": {
    "collapsed": false
   }
  }
 ],
 "metadata": {
  "kernelspec": {
   "display_name": "Python 3",
   "language": "python",
   "name": "python3"
  },
  "language_info": {
   "codemirror_mode": {
    "name": "ipython",
    "version": 2
   },
   "file_extension": ".py",
   "mimetype": "text/x-python",
   "name": "python",
   "nbconvert_exporter": "python",
   "pygments_lexer": "ipython2",
   "version": "2.7.6"
  }
 },
 "nbformat": 4,
 "nbformat_minor": 0
}
