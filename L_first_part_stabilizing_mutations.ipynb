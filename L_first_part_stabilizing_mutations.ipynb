{
 "cells": [
  {
   "cell_type": "markdown",
   "source": [
    "Plan:\n",
    "1. Angelas Code in meinen übersetzen\n",
    "2. aus Angelas Code alle möglichen Mutationen rausschreiben, aber nur einmal\n",
    "2. --> Liste mit allen vorkommenden Mutationen\n",
    "3. Funktion schreiben, die für jede dieser (einzeln!) alle Sequenzen raussucht in der diese vorkommt\n",
    "4. --> ein dataframe, mit mutation als spaltenname und allen sequenzen wo es drin vorkommt als Reihen drunter und noch einer Spalte mit mutcount dahinter, pro Mutation werden zwei Spalten an den dataframe angehängt\n",
    "5. (dadurch können Reihen spezifisch nach mutcount angeprochen werden)\n",
    "6. innerhalb einer Mutationsspalte, alle mit dem selben mutcount: fscore vergleich : Varianz der Werte als Maß für impact\n",
    "-> je unwichtiger die Mutation, desto weniger macht sie was beim fscore, desto weniger sollten sich die Werte unterscheiden, desto kleiner sollte die Varianz sein"
   ],
   "metadata": {
    "collapsed": false
   }
  },
  {
   "cell_type": "code",
   "execution_count": 2,
   "outputs": [],
   "source": [
    "import pandas as pd\n",
    "import numpy as np\n",
    "pd.set_option('display.max_columns', 50)"
   ],
   "metadata": {
    "collapsed": false,
    "ExecuteTime": {
     "end_time": "2023-06-01T09:14:46.813837Z",
     "start_time": "2023-06-01T09:14:45.062210Z"
    }
   }
  },
  {
   "cell_type": "code",
   "execution_count": 3,
   "outputs": [
    {
     "name": "stderr",
     "output_type": "stream",
     "text": [
      "/var/folders/sk/q8h0c3zs1v9dt93y5m134swr0000gn/T/ipykernel_29859/404050330.py:6: FutureWarning: In a future version of pandas all arguments of StringMethods.split except for the argument 'pat' will be keyword-only.\n",
      "  original_dms_data_col[['m1', 'm2', 'm3', 'm4', 'm5', 'm6', 'm7', 'm8', 'm9', 'm10', 'm11', 'm12', 'm13', 'm14', 'm15']] = original_dms_data_col['mutant'].str.split(':', 15, expand=True)\n"
     ]
    },
    {
     "data": {
      "text/plain": "                                  mutant  \\\n0  K3R:V55A:Q94R:A110T:D117G:M153K:D216A   \n1                   K3Q:V16A:I167T:L195Q   \n2            K3Q:Y143C:N164D:S205P:A227T   \n3                        K3Q:Y143N:V193A   \n4                                    K3R   \n\n                                    mutated_sequence  DMS_score  \\\n0  MSRGEELFTGVVPILVELDGDVNGHKFSVSGEGEGDATYGKLTLKF...   1.301030   \n1  MSQGEELFTGVVPILAELDGDVNGHKFSVSGEGEGDATYGKLTLKF...   3.137350   \n2  MSQGEELFTGVVPILVELDGDVNGHKFSVSGEGEGDATYGKLTLKF...   1.553913   \n3  MSQGEELFTGVVPILVELDGDVNGHKFSVSGEGEGDATYGKLTLKF...   3.404237   \n4  MSRGEELFTGVVPILVELDGDVNGHKFSVSGEGEGDATYGKLTLKF...   3.738586   \n\n   DMS_score_bin   m1     m2     m3     m4     m5     m6     m7    m8    m9  \\\n0              0  K3R   V55A   Q94R  A110T  D117G  M153K  D216A  None  None   \n1              1  K3Q   V16A  I167T  L195Q   None   None   None  None  None   \n2              0  K3Q  Y143C  N164D  S205P  A227T   None   None  None  None   \n3              1  K3Q  Y143N  V193A   None   None   None   None  None  None   \n4              1  K3R   None   None   None   None   None   None  None  None   \n\n    m10   m11   m12   m13   m14   m15  \n0  None  None  None  None  None  None  \n1  None  None  None  None  None  None  \n2  None  None  None  None  None  None  \n3  None  None  None  None  None  None  \n4  None  None  None  None  None  None  ",
      "text/html": "<div>\n<style scoped>\n    .dataframe tbody tr th:only-of-type {\n        vertical-align: middle;\n    }\n\n    .dataframe tbody tr th {\n        vertical-align: top;\n    }\n\n    .dataframe thead th {\n        text-align: right;\n    }\n</style>\n<table border=\"1\" class=\"dataframe\">\n  <thead>\n    <tr style=\"text-align: right;\">\n      <th></th>\n      <th>mutant</th>\n      <th>mutated_sequence</th>\n      <th>DMS_score</th>\n      <th>DMS_score_bin</th>\n      <th>m1</th>\n      <th>m2</th>\n      <th>m3</th>\n      <th>m4</th>\n      <th>m5</th>\n      <th>m6</th>\n      <th>m7</th>\n      <th>m8</th>\n      <th>m9</th>\n      <th>m10</th>\n      <th>m11</th>\n      <th>m12</th>\n      <th>m13</th>\n      <th>m14</th>\n      <th>m15</th>\n    </tr>\n  </thead>\n  <tbody>\n    <tr>\n      <th>0</th>\n      <td>K3R:V55A:Q94R:A110T:D117G:M153K:D216A</td>\n      <td>MSRGEELFTGVVPILVELDGDVNGHKFSVSGEGEGDATYGKLTLKF...</td>\n      <td>1.301030</td>\n      <td>0</td>\n      <td>K3R</td>\n      <td>V55A</td>\n      <td>Q94R</td>\n      <td>A110T</td>\n      <td>D117G</td>\n      <td>M153K</td>\n      <td>D216A</td>\n      <td>None</td>\n      <td>None</td>\n      <td>None</td>\n      <td>None</td>\n      <td>None</td>\n      <td>None</td>\n      <td>None</td>\n      <td>None</td>\n    </tr>\n    <tr>\n      <th>1</th>\n      <td>K3Q:V16A:I167T:L195Q</td>\n      <td>MSQGEELFTGVVPILAELDGDVNGHKFSVSGEGEGDATYGKLTLKF...</td>\n      <td>3.137350</td>\n      <td>1</td>\n      <td>K3Q</td>\n      <td>V16A</td>\n      <td>I167T</td>\n      <td>L195Q</td>\n      <td>None</td>\n      <td>None</td>\n      <td>None</td>\n      <td>None</td>\n      <td>None</td>\n      <td>None</td>\n      <td>None</td>\n      <td>None</td>\n      <td>None</td>\n      <td>None</td>\n      <td>None</td>\n    </tr>\n    <tr>\n      <th>2</th>\n      <td>K3Q:Y143C:N164D:S205P:A227T</td>\n      <td>MSQGEELFTGVVPILVELDGDVNGHKFSVSGEGEGDATYGKLTLKF...</td>\n      <td>1.553913</td>\n      <td>0</td>\n      <td>K3Q</td>\n      <td>Y143C</td>\n      <td>N164D</td>\n      <td>S205P</td>\n      <td>A227T</td>\n      <td>None</td>\n      <td>None</td>\n      <td>None</td>\n      <td>None</td>\n      <td>None</td>\n      <td>None</td>\n      <td>None</td>\n      <td>None</td>\n      <td>None</td>\n      <td>None</td>\n    </tr>\n    <tr>\n      <th>3</th>\n      <td>K3Q:Y143N:V193A</td>\n      <td>MSQGEELFTGVVPILVELDGDVNGHKFSVSGEGEGDATYGKLTLKF...</td>\n      <td>3.404237</td>\n      <td>1</td>\n      <td>K3Q</td>\n      <td>Y143N</td>\n      <td>V193A</td>\n      <td>None</td>\n      <td>None</td>\n      <td>None</td>\n      <td>None</td>\n      <td>None</td>\n      <td>None</td>\n      <td>None</td>\n      <td>None</td>\n      <td>None</td>\n      <td>None</td>\n      <td>None</td>\n      <td>None</td>\n    </tr>\n    <tr>\n      <th>4</th>\n      <td>K3R</td>\n      <td>MSRGEELFTGVVPILVELDGDVNGHKFSVSGEGEGDATYGKLTLKF...</td>\n      <td>3.738586</td>\n      <td>1</td>\n      <td>K3R</td>\n      <td>None</td>\n      <td>None</td>\n      <td>None</td>\n      <td>None</td>\n      <td>None</td>\n      <td>None</td>\n      <td>None</td>\n      <td>None</td>\n      <td>None</td>\n      <td>None</td>\n      <td>None</td>\n      <td>None</td>\n      <td>None</td>\n      <td>None</td>\n    </tr>\n  </tbody>\n</table>\n</div>"
     },
     "execution_count": 3,
     "metadata": {},
     "output_type": "execute_result"
    }
   ],
   "source": [
    "# Datensatz einlesen\n",
    "original_dms_data = pd.read_csv('/Users/liza/Desktop/Bioinfo Project/DMS_data/GFP_AEQVI_Sarkisyan_2016.csv')\n",
    "# split first column of df into multiple columns\n",
    "original_dms_data_col = original_dms_data\n",
    "only_mutants = original_dms_data[\"mutant\"].to_frame()\n",
    "original_dms_data_col[['m1', 'm2', 'm3', 'm4', 'm5', 'm6', 'm7', 'm8', 'm9', 'm10', 'm11', 'm12', 'm13', 'm14', 'm15']] = original_dms_data_col['mutant'].str.split(':', 15, expand=True)\n",
    "original_dms_data_col.head()\n"
   ],
   "metadata": {
    "collapsed": false,
    "ExecuteTime": {
     "end_time": "2023-06-01T09:14:47.818497Z",
     "start_time": "2023-06-01T09:14:46.822211Z"
    }
   }
  },
  {
   "cell_type": "markdown",
   "source": [
    "Dataframe erstellen aus den Spalten: (WORKING_DATAFRAME)\n",
    "- Mutationsanzahl aus df_mutation_counts\n",
    "- fscore aus original_dms_data_col\n",
    "- m1 bis b11 aus original_dms_data_col"
   ],
   "metadata": {
    "collapsed": false
   }
  },
  {
   "cell_type": "code",
   "execution_count": 4,
   "outputs": [],
   "source": [
    "# zählen wieviele Mutationen jede Sequenz hat\n",
    "list_mut_count_in_progress = []\n",
    "for i in range(len(original_dms_data['mutant'])):\n",
    "    list_mut_count_in_progress.append(original_dms_data['mutant'].iloc[i].count(':'))\n",
    "list_mut_count_prae = np.array(list_mut_count_in_progress)\n",
    "list_mut_count = (list_mut_count_prae + 1)\n",
    "df_mutation_counts = pd.DataFrame(list_mut_count)"
   ],
   "metadata": {
    "collapsed": false,
    "ExecuteTime": {
     "end_time": "2023-06-01T09:14:52.575362Z",
     "start_time": "2023-06-01T09:14:52.246808Z"
    }
   }
  },
  {
   "cell_type": "code",
   "execution_count": 5,
   "outputs": [
    {
     "data": {
      "text/plain": "   DMS_score   m1     m2     m3     m4     m5     m6     m7    m8    m9   m10  \\\n0   1.301030  K3R   V55A   Q94R  A110T  D117G  M153K  D216A  None  None  None   \n1   3.137350  K3Q   V16A  I167T  L195Q   None   None   None  None  None  None   \n2   1.553913  K3Q  Y143C  N164D  S205P  A227T   None   None  None  None  None   \n3   3.404237  K3Q  Y143N  V193A   None   None   None   None  None  None  None   \n4   3.738586  K3R   None   None   None   None   None   None  None  None  None   \n\n    m11   m12   m13   m14   m15  mut_count  \n0  None  None  None  None  None          7  \n1  None  None  None  None  None          4  \n2  None  None  None  None  None          5  \n3  None  None  None  None  None          3  \n4  None  None  None  None  None          1  ",
      "text/html": "<div>\n<style scoped>\n    .dataframe tbody tr th:only-of-type {\n        vertical-align: middle;\n    }\n\n    .dataframe tbody tr th {\n        vertical-align: top;\n    }\n\n    .dataframe thead th {\n        text-align: right;\n    }\n</style>\n<table border=\"1\" class=\"dataframe\">\n  <thead>\n    <tr style=\"text-align: right;\">\n      <th></th>\n      <th>DMS_score</th>\n      <th>m1</th>\n      <th>m2</th>\n      <th>m3</th>\n      <th>m4</th>\n      <th>m5</th>\n      <th>m6</th>\n      <th>m7</th>\n      <th>m8</th>\n      <th>m9</th>\n      <th>m10</th>\n      <th>m11</th>\n      <th>m12</th>\n      <th>m13</th>\n      <th>m14</th>\n      <th>m15</th>\n      <th>mut_count</th>\n    </tr>\n  </thead>\n  <tbody>\n    <tr>\n      <th>0</th>\n      <td>1.301030</td>\n      <td>K3R</td>\n      <td>V55A</td>\n      <td>Q94R</td>\n      <td>A110T</td>\n      <td>D117G</td>\n      <td>M153K</td>\n      <td>D216A</td>\n      <td>None</td>\n      <td>None</td>\n      <td>None</td>\n      <td>None</td>\n      <td>None</td>\n      <td>None</td>\n      <td>None</td>\n      <td>None</td>\n      <td>7</td>\n    </tr>\n    <tr>\n      <th>1</th>\n      <td>3.137350</td>\n      <td>K3Q</td>\n      <td>V16A</td>\n      <td>I167T</td>\n      <td>L195Q</td>\n      <td>None</td>\n      <td>None</td>\n      <td>None</td>\n      <td>None</td>\n      <td>None</td>\n      <td>None</td>\n      <td>None</td>\n      <td>None</td>\n      <td>None</td>\n      <td>None</td>\n      <td>None</td>\n      <td>4</td>\n    </tr>\n    <tr>\n      <th>2</th>\n      <td>1.553913</td>\n      <td>K3Q</td>\n      <td>Y143C</td>\n      <td>N164D</td>\n      <td>S205P</td>\n      <td>A227T</td>\n      <td>None</td>\n      <td>None</td>\n      <td>None</td>\n      <td>None</td>\n      <td>None</td>\n      <td>None</td>\n      <td>None</td>\n      <td>None</td>\n      <td>None</td>\n      <td>None</td>\n      <td>5</td>\n    </tr>\n    <tr>\n      <th>3</th>\n      <td>3.404237</td>\n      <td>K3Q</td>\n      <td>Y143N</td>\n      <td>V193A</td>\n      <td>None</td>\n      <td>None</td>\n      <td>None</td>\n      <td>None</td>\n      <td>None</td>\n      <td>None</td>\n      <td>None</td>\n      <td>None</td>\n      <td>None</td>\n      <td>None</td>\n      <td>None</td>\n      <td>None</td>\n      <td>3</td>\n    </tr>\n    <tr>\n      <th>4</th>\n      <td>3.738586</td>\n      <td>K3R</td>\n      <td>None</td>\n      <td>None</td>\n      <td>None</td>\n      <td>None</td>\n      <td>None</td>\n      <td>None</td>\n      <td>None</td>\n      <td>None</td>\n      <td>None</td>\n      <td>None</td>\n      <td>None</td>\n      <td>None</td>\n      <td>None</td>\n      <td>None</td>\n      <td>1</td>\n    </tr>\n  </tbody>\n</table>\n</div>"
     },
     "execution_count": 5,
     "metadata": {},
     "output_type": "execute_result"
    }
   ],
   "source": [
    "#zusammenfügen\n",
    "working_dataframe_prae = pd.concat([original_dms_data_col, df_mutation_counts], axis=\"columns\")\n",
    "#alle Spalten löschen die stören\n",
    "working_dataframe = working_dataframe_prae.drop(['mutant', 'mutated_sequence', 'DMS_score_bin'], axis=1)\n",
    "working_dataframe.rename(columns={working_dataframe.columns[16]: 'mut_count'}, inplace=True)\n",
    "working_dataframe.head()"
   ],
   "metadata": {
    "collapsed": false,
    "ExecuteTime": {
     "end_time": "2023-06-01T09:14:55.997400Z",
     "start_time": "2023-06-01T09:14:55.789739Z"
    }
   }
  },
  {
   "cell_type": "code",
   "execution_count": 6,
   "outputs": [
    {
     "data": {
      "text/plain": "    m1     m2     m3     m4     m5     m6     m7    m8    m9   m10   m11  \\\n0  K3R   V55A   Q94R  A110T  D117G  M153K  D216A  None  None  None  None   \n1  K3Q   V16A  I167T  L195Q   None   None   None  None  None  None  None   \n2  K3Q  Y143C  N164D  S205P  A227T   None   None  None  None  None  None   \n3  K3Q  Y143N  V193A   None   None   None   None  None  None  None  None   \n4  K3R   None   None   None   None   None   None  None  None  None  None   \n\n    m12   m13   m14   m15  \n0  None  None  None  None  \n1  None  None  None  None  \n2  None  None  None  None  \n3  None  None  None  None  \n4  None  None  None  None  ",
      "text/html": "<div>\n<style scoped>\n    .dataframe tbody tr th:only-of-type {\n        vertical-align: middle;\n    }\n\n    .dataframe tbody tr th {\n        vertical-align: top;\n    }\n\n    .dataframe thead th {\n        text-align: right;\n    }\n</style>\n<table border=\"1\" class=\"dataframe\">\n  <thead>\n    <tr style=\"text-align: right;\">\n      <th></th>\n      <th>m1</th>\n      <th>m2</th>\n      <th>m3</th>\n      <th>m4</th>\n      <th>m5</th>\n      <th>m6</th>\n      <th>m7</th>\n      <th>m8</th>\n      <th>m9</th>\n      <th>m10</th>\n      <th>m11</th>\n      <th>m12</th>\n      <th>m13</th>\n      <th>m14</th>\n      <th>m15</th>\n    </tr>\n  </thead>\n  <tbody>\n    <tr>\n      <th>0</th>\n      <td>K3R</td>\n      <td>V55A</td>\n      <td>Q94R</td>\n      <td>A110T</td>\n      <td>D117G</td>\n      <td>M153K</td>\n      <td>D216A</td>\n      <td>None</td>\n      <td>None</td>\n      <td>None</td>\n      <td>None</td>\n      <td>None</td>\n      <td>None</td>\n      <td>None</td>\n      <td>None</td>\n    </tr>\n    <tr>\n      <th>1</th>\n      <td>K3Q</td>\n      <td>V16A</td>\n      <td>I167T</td>\n      <td>L195Q</td>\n      <td>None</td>\n      <td>None</td>\n      <td>None</td>\n      <td>None</td>\n      <td>None</td>\n      <td>None</td>\n      <td>None</td>\n      <td>None</td>\n      <td>None</td>\n      <td>None</td>\n      <td>None</td>\n    </tr>\n    <tr>\n      <th>2</th>\n      <td>K3Q</td>\n      <td>Y143C</td>\n      <td>N164D</td>\n      <td>S205P</td>\n      <td>A227T</td>\n      <td>None</td>\n      <td>None</td>\n      <td>None</td>\n      <td>None</td>\n      <td>None</td>\n      <td>None</td>\n      <td>None</td>\n      <td>None</td>\n      <td>None</td>\n      <td>None</td>\n    </tr>\n    <tr>\n      <th>3</th>\n      <td>K3Q</td>\n      <td>Y143N</td>\n      <td>V193A</td>\n      <td>None</td>\n      <td>None</td>\n      <td>None</td>\n      <td>None</td>\n      <td>None</td>\n      <td>None</td>\n      <td>None</td>\n      <td>None</td>\n      <td>None</td>\n      <td>None</td>\n      <td>None</td>\n      <td>None</td>\n    </tr>\n    <tr>\n      <th>4</th>\n      <td>K3R</td>\n      <td>None</td>\n      <td>None</td>\n      <td>None</td>\n      <td>None</td>\n      <td>None</td>\n      <td>None</td>\n      <td>None</td>\n      <td>None</td>\n      <td>None</td>\n      <td>None</td>\n      <td>None</td>\n      <td>None</td>\n      <td>None</td>\n      <td>None</td>\n    </tr>\n  </tbody>\n</table>\n</div>"
     },
     "execution_count": 6,
     "metadata": {},
     "output_type": "execute_result"
    }
   ],
   "source": [
    "#alle möglichen Mutationen rausschreiben in den Spalten\n",
    "from pandas import unique\n",
    "working_dataframe_only_ms = working_dataframe.loc[:, [\"m1\", \"m2\", \"m3\", 'm4', 'm5', 'm6', 'm7', 'm8', 'm9', 'm10', 'm11', 'm12', 'm13', 'm14', 'm15']]\n",
    "working_dataframe_only_ms.head()\n"
   ],
   "metadata": {
    "collapsed": false,
    "ExecuteTime": {
     "end_time": "2023-06-01T09:14:59.605199Z",
     "start_time": "2023-06-01T09:14:59.399884Z"
    }
   }
  },
  {
   "cell_type": "markdown",
   "source": [
    "1. alle Werte des DataFrames mit values.flatten() in eine eindimensionale Liste umgewandeln\n",
    "2. tolist() verwendet, um die Liste in eine normale Python-Liste umzuwandeln\n",
    "3.  Liste in ein Set umgewandeln (nur eindeutige Elemente)\n",
    "4. set zurück in Liste"
   ],
   "metadata": {
    "collapsed": false
   }
  },
  {
   "cell_type": "code",
   "execution_count": 7,
   "outputs": [],
   "source": [
    "all_possible_mutations = working_dataframe_only_ms.values.flatten().tolist()\n",
    "all_possible_mutations = list(set(all_possible_mutations))"
   ],
   "metadata": {
    "collapsed": false,
    "ExecuteTime": {
     "end_time": "2023-06-01T09:15:16.329173Z",
     "start_time": "2023-06-01T09:15:16.296821Z"
    }
   }
  },
  {
   "cell_type": "code",
   "execution_count": 26,
   "outputs": [
    {
     "data": {
      "text/plain": "0        K3R:V55A:Q94R:A110T:D117G:M153K:D216A\n1                         K3Q:V16A:I167T:L195Q\n2                  K3Q:Y143C:N164D:S205P:A227T\n3                              K3Q:Y143N:V193A\n4                                          K3R\n                         ...                  \n51709                                    Y237N\n51710                                    Y237C\n51711                                    Y237D\n51712                                    Y237F\n51713                                    Y237H\nName: mutant, Length: 51714, dtype: object"
     },
     "execution_count": 26,
     "metadata": {},
     "output_type": "execute_result"
    }
   ],
   "source": [
    "only_mutants_list = only_mutants['mutant']\n",
    "only_mutants_list"
   ],
   "metadata": {
    "collapsed": false,
    "ExecuteTime": {
     "end_time": "2023-06-01T18:29:30.021999Z",
     "start_time": "2023-06-01T18:29:29.998609Z"
    }
   }
  },
  {
   "cell_type": "code",
   "execution_count": 58,
   "outputs": [
    {
     "name": "stdout",
     "output_type": "stream",
     "text": [
      "       V193A\n",
      "0      False\n",
      "1      False\n",
      "2      False\n",
      "3       True\n",
      "4      False\n",
      "...      ...\n",
      "51709  False\n",
      "51710  False\n",
      "51711  False\n",
      "51712  False\n",
      "51713  False\n",
      "\n",
      "[51714 rows x 1 columns]\n"
     ]
    }
   ],
   "source": [
    "resultingg_mutss = pd.DataFrame()\n",
    "substring = 'V193A'\n",
    "\n",
    "# Boolianischen Wert ausgeben, ob der Substring in einer Zeile existiert\n",
    "resultingg_mutss['V193A'] = pd.DataFrame(only_mutants['mutant'].apply(lambda x: substring in x))\n",
    "\n",
    "print(resultingg_mutss)"
   ],
   "metadata": {
    "collapsed": false,
    "ExecuteTime": {
     "end_time": "2023-06-02T10:38:15.514803Z",
     "start_time": "2023-06-02T10:38:15.409290Z"
    }
   }
  },
  {
   "cell_type": "code",
   "execution_count": 84,
   "outputs": [],
   "source": [
    "list_of_dfs = []\n",
    "\n",
    "# For-Loop zum Erstellen und Hinzufügen eines neuen Columns in jedem Durchlauf\n",
    "for i in all_possible_mutations:\n",
    "    new_column_name = f'{i}'\n",
    "    new_column_values = [only_mutants_list.str.contains(i, regex= False)]\n",
    "    new_df = pd.DataFrame({new_column_name: new_column_values})\n",
    "    new_df_exploded = new_df.explode(new_column_name)\n",
    "    list_of_dfs.append(new_df_exploded)\n",
    "\n",
    "# Verketten der DataFrames in der Liste\n",
    "result_how_often = pd.concat(list_of_dfs, axis=1)\n",
    "result_how_often = result_how_often.reset_index(drop=True)\n",
    "\n",
    "result_how_often.to_csv('output_how_often_data.csv', index=False)"
   ],
   "metadata": {
    "collapsed": false,
    "ExecuteTime": {
     "end_time": "2023-06-02T11:47:44.792471Z",
     "start_time": "2023-06-02T11:46:39.226575Z"
    }
   }
  },
  {
   "cell_type": "markdown",
   "source": [
    "der Dataframe ist nur SEHR groß und lädt nirgendwo komplett, aber ich habe einzelne Werte kontrolliert und die stimmen\n",
    "-> hoffentlich stimmt er komplett, jetzt kann man damit weiterarbeiten\n",
    "TESTS: (mit Original_csv abstimmen)"
   ],
   "metadata": {
    "collapsed": false
   }
  },
  {
   "cell_type": "code",
   "execution_count": 87,
   "outputs": [
    {
     "name": "stdout",
     "output_type": "stream",
     "text": [
      "True\n"
     ]
    }
   ],
   "source": [
    "cell_value = result_how_often.at[17, 'H77L']\n",
    "print(cell_value)"
   ],
   "metadata": {
    "collapsed": false,
    "ExecuteTime": {
     "end_time": "2023-06-02T11:58:57.260846Z",
     "start_time": "2023-06-02T11:58:57.187383Z"
    }
   }
  },
  {
   "cell_type": "code",
   "execution_count": 89,
   "outputs": [
    {
     "name": "stdout",
     "output_type": "stream",
     "text": [
      "Int64Index([   17,   515,   717,   768,   993,  1481,  1490,  2088,  2820,\n",
      "             2821,\n",
      "            ...\n",
      "            33992, 33993, 34034, 34035, 34036, 34037, 34079, 34080, 34081,\n",
      "            34082],\n",
      "           dtype='int64', length=244)\n"
     ]
    }
   ],
   "source": [
    "matching_indexes = result_how_often.loc[result_how_often[\"H77L\"] == True].index\n",
    "\n",
    "# Ausgabe der übereinstimmenden Zeilenindizes\n",
    "print(matching_indexes)\n",
    "#soll: 244 (mit Suchfunktion in Excel abgestimmt :) )"
   ],
   "metadata": {
    "collapsed": false,
    "ExecuteTime": {
     "end_time": "2023-06-02T12:01:25.880038Z",
     "start_time": "2023-06-02T12:01:22.107053Z"
    }
   }
  }
 ],
 "metadata": {
  "kernelspec": {
   "display_name": "Python 3",
   "language": "python",
   "name": "python3"
  },
  "language_info": {
   "codemirror_mode": {
    "name": "ipython",
    "version": 2
   },
   "file_extension": ".py",
   "mimetype": "text/x-python",
   "name": "python",
   "nbconvert_exporter": "python",
   "pygments_lexer": "ipython2",
   "version": "2.7.6"
  }
 },
 "nbformat": 4,
 "nbformat_minor": 0
}
