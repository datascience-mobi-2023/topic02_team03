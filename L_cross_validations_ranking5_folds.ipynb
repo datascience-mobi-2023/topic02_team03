{
 "cells": [
  {
   "cell_type": "code",
   "execution_count": 168,
   "metadata": {
    "collapsed": true,
    "ExecuteTime": {
     "end_time": "2023-07-03T21:36:45.620722Z",
     "start_time": "2023-07-03T21:36:44.396420Z"
    }
   },
   "outputs": [],
   "source": [
    "import pandas as pd\n",
    "import numpy as np"
   ]
  },
  {
   "cell_type": "markdown",
   "source": [
    "\n",
    "\n",
    "-----------PLAN:\n",
    "\n",
    "cross-validation:\n",
    "splitting the original df into 5 folds each containing the same amount of data\n",
    "than running the ranking codes on each of the groups, getting different rankings\n",
    "-> run ranking with eacch of the 5 folds -> 5 rankings\n",
    "-> do statistical evaluation using spearman´s rank correlation, kendall´s tau-b or mean average precision\n",
    "\n",
    "PROBLEM: test group and training group are not different -> doesn´t make sense to \"test\" like this\n"
   ],
   "metadata": {
    "collapsed": false
   }
  },
  {
   "cell_type": "code",
   "execution_count": 169,
   "outputs": [],
   "source": [
    "original_dms_data = pd.read_csv('/Users/liza/Desktop/Bioinfo Project/DMS_data/GFP_AEQVI_Sarkisyan_2016.csv')\n",
    "\n",
    "num_folds = 5  # Number of folds to create\n",
    "\n",
    "# Shuffle the DataFrame randomly\n",
    "shuffled_original_df = original_dms_data.sample(frac=1, random_state=42)\n",
    "\n",
    "# Calculate the number of rows per fold\n",
    "fold_size = len(original_dms_data) // num_folds\n",
    "\n",
    "# Split the DataFrame into folds\n",
    "folds = {}\n",
    "for i in range(num_folds-1):\n",
    "    fold = shuffled_original_df.iloc[i*fold_size:(i+1)*fold_size]\n",
    "    folds[f\"Fold_{i+1}\"] = fold\n",
    "remaining_fold = shuffled_original_df.iloc[(num_folds-1)*fold_size:]\n",
    "folds[f\"Fold_{num_folds}\"] = remaining_fold\n",
    "\n",
    "fold_1_dms = folds[\"Fold_1\"]\n",
    "fold_2_dms = folds[\"Fold_2\"]\n",
    "fold_3_dms = folds[\"Fold_3\"]\n",
    "fold_4_dms = folds[\"Fold_4\"]\n",
    "fold_5_dms = folds[\"Fold_5\"]"
   ],
   "metadata": {
    "collapsed": false,
    "ExecuteTime": {
     "end_time": "2023-07-03T21:36:46.098943Z",
     "start_time": "2023-07-03T21:36:44.682719Z"
    }
   }
  },
  {
   "cell_type": "markdown",
   "source": [
    "let´s begin with proofing ranking 5\n",
    "-> we have to rerun the whole code for ranking 5 on each fold to get 5 different rankings"
   ],
   "metadata": {
    "collapsed": false
   }
  },
  {
   "cell_type": "code",
   "execution_count": 171,
   "outputs": [
    {
     "name": "stdout",
     "output_type": "stream",
     "text": [
      "RangeIndex(start=0, stop=10342, step=1)\n"
     ]
    }
   ],
   "source": [
    "\n",
    "# Assuming your DataFrame is named 'fold_1_dms_col'\n",
    "fold_1_dms = fold_1_dms.copy()  # Make a copy of the DataFrame\n",
    "\n",
    "# Split the 'mutant' column into multiple columns\n",
    "split_columns_fold_1 = fold_1_dms['mutant'].str.split(':', expand=True)\n",
    "\n",
    "# Generate column names from 'm1' to 'mN'\n",
    "num_columns_fold_1 = split_columns_fold_1.shape[1]\n",
    "column_names_fold_1 = [f\"m{i+1}\" for i in range(num_columns_fold_1)]\n",
    "\n",
    "# Assign the split columns with the generated column names to the DataFrame\n",
    "fold_1_dms = pd.concat([fold_1_dms, split_columns_fold_1], axis=1)\n",
    "fold_1_dms.columns = list(fold_1_dms.columns[:len(fold_1_dms.columns)-num_columns_fold_1]) + column_names_fold_1\n",
    "\n",
    "fold_1_dms = fold_1_dms.reset_index()\n",
    "fold_1_dms = fold_1_dms.drop('index', axis=1)  # Remove the old index column if needed\n",
    "\n",
    "print(fold_1_dms.index)"
   ],
   "metadata": {
    "collapsed": false,
    "ExecuteTime": {
     "end_time": "2023-07-03T21:36:46.146168Z",
     "start_time": "2023-07-03T21:36:45.094399Z"
    }
   }
  },
  {
   "cell_type": "code",
   "execution_count": 172,
   "outputs": [
    {
     "name": "stdout",
     "output_type": "stream",
     "text": [
      "RangeIndex(start=0, stop=10342, step=1)\n"
     ]
    }
   ],
   "source": [
    "# how many mutations does each sequence contain?\n",
    "list_mut_count_in_progress_fold_1 = []\n",
    "for i in range(len(fold_1_dms['mutant'])):\n",
    "    list_mut_count_in_progress_fold_1.append(fold_1_dms['mutant'].iloc[i].count(':'))\n",
    "list_mut_count_prae_fold_1 = np.array(list_mut_count_in_progress_fold_1)\n",
    "list_mut_count_fold_1 = (list_mut_count_prae_fold_1 + 1)\n",
    "df_mutation_counts_fold_1 = pd.DataFrame(list_mut_count_fold_1)\n",
    "print(df_mutation_counts_fold_1.index)"
   ],
   "metadata": {
    "collapsed": false,
    "ExecuteTime": {
     "end_time": "2023-07-03T21:36:46.150769Z",
     "start_time": "2023-07-03T21:36:45.168644Z"
    }
   }
  },
  {
   "cell_type": "code",
   "execution_count": 173,
   "outputs": [
    {
     "data": {
      "text/plain": "10342"
     },
     "execution_count": 173,
     "metadata": {},
     "output_type": "execute_result"
    }
   ],
   "source": [
    "working_dataframe_fold_1_try = pd.concat([fold_1_dms, df_mutation_counts_fold_1], axis=1)\n",
    "len(working_dataframe_fold_1_try)"
   ],
   "metadata": {
    "collapsed": false,
    "ExecuteTime": {
     "end_time": "2023-07-03T21:36:46.162806Z",
     "start_time": "2023-07-03T21:36:45.228666Z"
    }
   }
  },
  {
   "cell_type": "code",
   "execution_count": 174,
   "outputs": [],
   "source": [
    "#more convenient df\n",
    "working_dataframe_fold_1 = pd.concat([fold_1_dms, df_mutation_counts_fold_1[0]], axis=1)\n",
    "columns_to_drop = ['mutant', 'mutated_sequence', 'DMS_score_bin']\n",
    "working_dataframe_fold_1.drop(columns_to_drop, axis=1)\n",
    "working_dataframe_fold_1.rename(columns={0: 'mut_count'}, inplace = True)\n",
    "count_fscore_frame_fold_1 = working_dataframe_fold_1[['DMS_score', 'mut_count']]"
   ],
   "metadata": {
    "collapsed": false,
    "ExecuteTime": {
     "end_time": "2023-07-03T21:36:46.163205Z",
     "start_time": "2023-07-03T21:36:45.287606Z"
    }
   }
  },
  {
   "cell_type": "code",
   "execution_count": 175,
   "outputs": [
    {
     "data": {
      "text/plain": "   DMS_score  mut_count\n0   3.525239          3\n1   1.548703          8\n2   1.652061         10\n3   3.565658          2\n4   3.732474          5",
      "text/html": "<div>\n<style scoped>\n    .dataframe tbody tr th:only-of-type {\n        vertical-align: middle;\n    }\n\n    .dataframe tbody tr th {\n        vertical-align: top;\n    }\n\n    .dataframe thead th {\n        text-align: right;\n    }\n</style>\n<table border=\"1\" class=\"dataframe\">\n  <thead>\n    <tr style=\"text-align: right;\">\n      <th></th>\n      <th>DMS_score</th>\n      <th>mut_count</th>\n    </tr>\n  </thead>\n  <tbody>\n    <tr>\n      <th>0</th>\n      <td>3.525239</td>\n      <td>3</td>\n    </tr>\n    <tr>\n      <th>1</th>\n      <td>1.548703</td>\n      <td>8</td>\n    </tr>\n    <tr>\n      <th>2</th>\n      <td>1.652061</td>\n      <td>10</td>\n    </tr>\n    <tr>\n      <th>3</th>\n      <td>3.565658</td>\n      <td>2</td>\n    </tr>\n    <tr>\n      <th>4</th>\n      <td>3.732474</td>\n      <td>5</td>\n    </tr>\n  </tbody>\n</table>\n</div>"
     },
     "execution_count": 175,
     "metadata": {},
     "output_type": "execute_result"
    }
   ],
   "source": [
    "count_fscore_frame_fold_1.head()"
   ],
   "metadata": {
    "collapsed": false,
    "ExecuteTime": {
     "end_time": "2023-07-03T21:36:46.164704Z",
     "start_time": "2023-07-03T21:36:45.346958Z"
    }
   }
  },
  {
   "cell_type": "code",
   "execution_count": 176,
   "outputs": [],
   "source": [
    "#generating list that contains all possible mutations\n",
    "import re\n",
    "\n",
    "mutation_columns_fold_1 = [col for col in working_dataframe_fold_1.columns if re.match(r'^m\\d+$', col)]\n",
    "working_dataframe_only_ms_fold_1 = working_dataframe_fold_1.loc[:, mutation_columns_fold_1]\n",
    "stacked_columns_fold_1 = working_dataframe_only_ms_fold_1.stack().tolist()\n",
    "all_possible_mutations_fold_1 = list(set(stacked_columns_fold_1))\n",
    "if 'None' in all_possible_mutations_fold_1:\n",
    "    all_possible_mutations_fold_1.remove('None')\n"
   ],
   "metadata": {
    "collapsed": false,
    "ExecuteTime": {
     "end_time": "2023-07-03T21:36:46.167451Z",
     "start_time": "2023-07-03T21:36:45.522100Z"
    }
   }
  },
  {
   "cell_type": "code",
   "execution_count": 177,
   "outputs": [],
   "source": [
    "#dataframe which mutants contain the mutation\n",
    "list_of_dfs_fold_1 = []\n",
    "\n",
    "\n",
    "for i in all_possible_mutations_fold_1:\n",
    "    new_column_name_fold_1 = f'{i}'\n",
    "    new_column_values_fold_1 = [fold_1_dms[\"mutant\"].str.contains(i, regex= False)]\n",
    "    new_df_fold_1 = pd.DataFrame({new_column_name_fold_1: new_column_values_fold_1})\n",
    "    new_df_exploded_fold_1 = new_df_fold_1.explode(new_column_name_fold_1)\n",
    "    list_of_dfs_fold_1.append(new_df_exploded_fold_1)\n",
    "\n",
    "\n",
    "result_how_often_fold_1 = pd.concat(list_of_dfs_fold_1, axis=1)\n",
    "result_how_often_fold_1 = result_how_often_fold_1.reset_index(drop=True)\n"
   ],
   "metadata": {
    "collapsed": false,
    "ExecuteTime": {
     "end_time": "2023-07-03T21:37:00.678314Z",
     "start_time": "2023-07-03T21:36:46.043770Z"
    }
   }
  },
  {
   "cell_type": "code",
   "execution_count": 178,
   "outputs": [],
   "source": [
    "#variance and number of used values calculation\n",
    "\n",
    "for j in range(2, 16):\n",
    "    variance_per_mutant_list_fold_1 = []\n",
    "\n",
    "    for i in all_possible_mutations_fold_1:\n",
    "        mut_count_fscore_fold_1 = count_fscore_frame_fold_1.loc[result_how_often_fold_1[i] == True]\n",
    "        fscore_mut_fold_1 = mut_count_fscore_fold_1['DMS_score'].loc[mut_count_fscore_fold_1['mut_count'] == j]\n",
    "        varianz_mut_fold_1 = fscore_mut_fold_1.var()\n",
    "        variance_per_mutant_list_fold_1.append(varianz_mut_fold_1)\n",
    "\n",
    "    variance_per_mutant_series_fold_1 = pd.Series(variance_per_mutant_list_fold_1, index=all_possible_mutations_fold_1)\n",
    "    variance_per_mutant_df_fold_1 = variance_per_mutant_series_fold_1.to_frame()\n",
    "\n",
    "#how many data per mutation\n",
    "    how_many_for_variance_fold_1 = []\n",
    "\n",
    "    for i in all_possible_mutations_fold_1:\n",
    "        mut_count_fscore_fold_1 = count_fscore_frame_fold_1.loc[result_how_often_fold_1[i] == True]\n",
    "        fscore_mut_fold_1 = mut_count_fscore_fold_1['DMS_score'].loc[mut_count_fscore_fold_1['mut_count'] == j]\n",
    "        wie_viel_jeweils_fold_1 = len(fscore_mut_fold_1)\n",
    "        how_many_for_variance_fold_1.append(wie_viel_jeweils_fold_1)\n",
    "\n",
    "    how_many_for_variance_fold_1 = pd.Series(how_many_for_variance_fold_1, index=all_possible_mutations_fold_1)\n",
    "    how_many_for_variance_df_fold_1 = how_many_for_variance_fold_1.to_frame()\n",
    "\n",
    "\n",
    "    how_many_AND_variance_df_fold_1 = pd.concat([how_many_for_variance_df_fold_1, variance_per_mutant_df_fold_1], axis = 1)\n",
    "    how_many_AND_variance_df_fold_1.columns = ['Anzahl benutzter Werte', 'Varianz']\n",
    "    how_many_AND_variance_df_fold_1 = how_many_AND_variance_df_fold_1.dropna()"
   ],
   "metadata": {
    "collapsed": false,
    "ExecuteTime": {
     "end_time": "2023-07-03T21:37:43.560034Z",
     "start_time": "2023-07-03T21:36:59.044837Z"
    }
   }
  },
  {
   "cell_type": "code",
   "execution_count": 179,
   "outputs": [
    {
     "name": "stderr",
     "output_type": "stream",
     "text": [
      "/var/folders/sk/q8h0c3zs1v9dt93y5m134swr0000gn/T/ipykernel_11103/902919963.py:18: FutureWarning: DataFrame.set_axis 'inplace' keyword is deprecated and will be removed in a future version. Use `obj = obj.set_axis(..., copy=False)` instead\n",
      "  variance_per_mutant_count_df_fold_1.set_axis(range(2,8), axis=1, inplace=True)\n"
     ]
    }
   ],
   "source": [
    "#calculating the mean of the variances across all mutation counts for every possible mutation\n",
    "frame_zum_mitteln_variance_fold_1 = pd.DataFrame(index = all_possible_mutations_fold_1)\n",
    "variance_per_mutant_count_list_fold_1 = []\n",
    "\n",
    "# ATTENTION!! only mut_counts from 2 to 8 used, because everything above is a \"dead\" protein\n",
    "for j in range(2, 8):\n",
    "    variance_per_mutant_list_fold_1 = []\n",
    "\n",
    "    for i in all_possible_mutations_fold_1:\n",
    "        mut_count_fscore_fold_1 = count_fscore_frame_fold_1.loc[result_how_often_fold_1[i] == True]\n",
    "        fscore_mut_fold_1 = mut_count_fscore_fold_1['DMS_score'].loc[mut_count_fscore_fold_1['mut_count'] == j]\n",
    "        varianz_mut_fold_1 = fscore_mut_fold_1.var()  #die varianz je mutation je anzahl\n",
    "        variance_per_mutant_list_fold_1.append(varianz_mut_fold_1) #liste der Varianzen ALLER Mutationen je anzahl\n",
    "\n",
    "    variance_per_mutant_df = pd.DataFrame(variance_per_mutant_list_fold_1, index=all_possible_mutations_fold_1)\n",
    "    variance_per_mutant_count_list_fold_1.append(variance_per_mutant_df)\n",
    "variance_per_mutant_count_df_fold_1 = pd.concat(variance_per_mutant_count_list_fold_1, axis=1)\n",
    "variance_per_mutant_count_df_fold_1.set_axis(range(2,8), axis=1, inplace=True)\n",
    "\n",
    "\n",
    "# dataframe with all variances per all mutations (rows) per all counts (columns)\n",
    "mean_variances_per_mutations_fold_1 = pd.DataFrame(variance_per_mutant_count_df_fold_1.mean(axis=1, skipna=True), columns=['Mean'])\n"
   ],
   "metadata": {
    "collapsed": false,
    "ExecuteTime": {
     "end_time": "2023-07-03T21:37:50.997209Z",
     "start_time": "2023-07-03T21:37:43.531149Z"
    }
   }
  },
  {
   "cell_type": "code",
   "execution_count": 180,
   "outputs": [
    {
     "name": "stderr",
     "output_type": "stream",
     "text": [
      "/var/folders/sk/q8h0c3zs1v9dt93y5m134swr0000gn/T/ipykernel_11103/2720770737.py:15: FutureWarning: DataFrame.set_axis 'inplace' keyword is deprecated and will be removed in a future version. Use `obj = obj.set_axis(..., copy=False)` instead\n",
      "  how_many_per_mutant_count_df_fold_1.set_axis(range(2,8), axis=1, inplace=True)\n"
     ]
    }
   ],
   "source": [
    "how_many_per_mutant_count_list_fold_1 = []\n",
    "\n",
    "for j in range(2, 8):\n",
    "    how_many_for_variance_fold_1 = []\n",
    "\n",
    "    for i in all_possible_mutations_fold_1:\n",
    "        mut_count_fscore_fold_1 = count_fscore_frame_fold_1.loc[result_how_often_fold_1[i] == True]\n",
    "        fscore_mut_fold_1 = mut_count_fscore_fold_1['DMS_score'].loc[mut_count_fscore_fold_1['mut_count'] == j]\n",
    "        wie_viel_jeweils_fold_1 = len(fscore_mut_fold_1)\n",
    "        how_many_for_variance_fold_1.append(wie_viel_jeweils_fold_1)\n",
    "\n",
    "    how_many_per_mutant_df_fold_1 = pd.DataFrame(how_many_for_variance_fold_1, index=all_possible_mutations_fold_1)\n",
    "    how_many_per_mutant_count_list_fold_1.append(how_many_per_mutant_df_fold_1)\n",
    "how_many_per_mutant_count_df_fold_1 = pd.concat(how_many_per_mutant_count_list_fold_1, axis=1)\n",
    "how_many_per_mutant_count_df_fold_1.set_axis(range(2,8), axis=1, inplace=True)\n",
    "\n",
    "mean_how_many_per_mutations_fold_1 = pd.DataFrame(how_many_per_mutant_count_df_fold_1.mean(axis=1, skipna=True), columns=['Mean'])"
   ],
   "metadata": {
    "collapsed": false,
    "ExecuteTime": {
     "end_time": "2023-07-03T21:37:58.275811Z",
     "start_time": "2023-07-03T21:37:51.004656Z"
    }
   }
  },
  {
   "cell_type": "markdown",
   "source": [
    "ALTERNATIVE CODE USING VECTORING: should be faster\n",
    "\n",
    "nur_fscore_mut_count_fold_1 = working_dataframe_fold_1.loc[:, [\"DMS_score\", \"mut_count\"]]\n",
    "\n",
    "mut_present_indices = result_how_often_fold_1.any(axis=1)\n",
    "mut_absent_indices = ~mut_present_indices\n",
    "\n",
    "only_rows_with_mut_fold_1 = nur_fscore_mut_count_fold_1[(nur_fscore_mut_count_fold_1['mut_count'] > 2) & mut_present_indices]\n",
    "mean_dms_score_only_mut_fold_1 = only_rows_with_mut_fold_1['DMS_score'].mean()\n",
    "\n",
    "only_rows_without_mut_fold_1 = working_dataframe_fold_1[(working_dataframe_fold_1['mut_count'] > 2) & mut_absent_indices]\n",
    "mean_dms_score_without_mut_fold_1 = only_rows_without_mut_fold_1['DMS_score'].mean()\n",
    "\n",
    "difference_means_fold_1 = mean_dms_score_only_mut_fold_1 - mean_dms_score_without_mut_fold_1\n",
    "\n",
    "all_differences_means_fold_1 = pd.DataFrame({'Difference': difference_means_fold_1}, index=all_possible_mutations_fold_1)\n"
   ],
   "metadata": {
    "collapsed": false
   }
  },
  {
   "cell_type": "code",
   "execution_count": 181,
   "outputs": [],
   "source": [
    "#differences between all mutant-fscores WITH and WITHOUT the one specific mutation, takes loong\n",
    "nur_fscore_mut_count_fold_1 = working_dataframe_fold_1.loc[:, [\"DMS_score\", \"mut_count\"]]\n",
    "differences_list_fold_1 = []\n",
    "\n",
    "for i in all_possible_mutations_fold_1:\n",
    "    index_when_mut_present_fold_1 = result_how_often_fold_1.loc[result_how_often_fold_1[i] == True].index\n",
    "\n",
    "    only_rows_with_mut_fold_1 = nur_fscore_mut_count_fold_1 [(nur_fscore_mut_count_fold_1 ['mut_count'] >2) & (nur_fscore_mut_count_fold_1 .index.isin(index_when_mut_present_fold_1))]\n",
    "\n",
    "# Calculate the mean of DMS_score for the filtered rows\n",
    "    mean_dms_score_only_mut_fold_1 = only_rows_with_mut_fold_1['DMS_score'].mean()\n",
    "#-------------\n",
    "    index_when_not_mut_present_fold_1 = result_how_often_fold_1.loc[result_how_often_fold_1[i] == False].index\n",
    "\n",
    "    only_rows_withOUT_mut_fold_1 = working_dataframe_fold_1[(working_dataframe_fold_1['mut_count'] >2) & (working_dataframe_fold_1.index.isin(index_when_not_mut_present_fold_1))]\n",
    "\n",
    "# Calculate the mean of DMS_score for the filtered rows\n",
    "    mean_dms_score_every_but_mut_fold_1 = only_rows_withOUT_mut_fold_1['DMS_score'].mean()\n",
    "#----------------\n",
    "    difference_means_fold_1 = mean_dms_score_only_mut_fold_1 - mean_dms_score_every_but_mut_fold_1\n",
    "    differences_list_fold_1.append(difference_means_fold_1)\n",
    "\n",
    "all_differences_means_fold_1 = pd.DataFrame({'Difference': differences_list_fold_1}, index=all_possible_mutations_fold_1)\n"
   ],
   "metadata": {
    "collapsed": false,
    "ExecuteTime": {
     "end_time": "2023-07-03T21:42:15.574449Z",
     "start_time": "2023-07-03T21:37:58.281734Z"
    }
   }
  },
  {
   "cell_type": "code",
   "execution_count": 182,
   "outputs": [
    {
     "data": {
      "text/plain": "        0\nL60R    1\nD103N  16\nE124K  30\nL236R  13\nD129Y   2\n...    ..\nF165I  19\nG91R    2\nD76A    6\nP58L   10\nK41L    1\n\n[1471 rows x 1 columns]",
      "text/html": "<div>\n<style scoped>\n    .dataframe tbody tr th:only-of-type {\n        vertical-align: middle;\n    }\n\n    .dataframe tbody tr th {\n        vertical-align: top;\n    }\n\n    .dataframe thead th {\n        text-align: right;\n    }\n</style>\n<table border=\"1\" class=\"dataframe\">\n  <thead>\n    <tr style=\"text-align: right;\">\n      <th></th>\n      <th>0</th>\n    </tr>\n  </thead>\n  <tbody>\n    <tr>\n      <th>L60R</th>\n      <td>1</td>\n    </tr>\n    <tr>\n      <th>D103N</th>\n      <td>16</td>\n    </tr>\n    <tr>\n      <th>E124K</th>\n      <td>30</td>\n    </tr>\n    <tr>\n      <th>L236R</th>\n      <td>13</td>\n    </tr>\n    <tr>\n      <th>D129Y</th>\n      <td>2</td>\n    </tr>\n    <tr>\n      <th>...</th>\n      <td>...</td>\n    </tr>\n    <tr>\n      <th>F165I</th>\n      <td>19</td>\n    </tr>\n    <tr>\n      <th>G91R</th>\n      <td>2</td>\n    </tr>\n    <tr>\n      <th>D76A</th>\n      <td>6</td>\n    </tr>\n    <tr>\n      <th>P58L</th>\n      <td>10</td>\n    </tr>\n    <tr>\n      <th>K41L</th>\n      <td>1</td>\n    </tr>\n  </tbody>\n</table>\n<p>1471 rows × 1 columns</p>\n</div>"
     },
     "execution_count": 182,
     "metadata": {},
     "output_type": "execute_result"
    }
   ],
   "source": [
    "list_wie_oft_mut_fold_1 = []\n",
    "for j in all_possible_mutations_fold_1:\n",
    "    matching_indexes_fold_1 = result_how_often_fold_1.loc[result_how_often_fold_1[j] == True].index\n",
    "    wie_oft_fold_1 = len(matching_indexes_fold_1)\n",
    "    list_wie_oft_mut_fold_1.append(wie_oft_fold_1)\n",
    "df_wie_oft_muts_insg_fold_1 = pd.DataFrame(list_wie_oft_mut_fold_1, index=all_possible_mutations_fold_1)\n",
    "df_wie_oft_muts_insg_fold_1"
   ],
   "metadata": {
    "collapsed": false,
    "ExecuteTime": {
     "end_time": "2023-07-03T21:42:17.684334Z",
     "start_time": "2023-07-03T21:42:15.559358Z"
    }
   }
  },
  {
   "cell_type": "code",
   "execution_count": 183,
   "outputs": [
    {
     "name": "stdout",
     "output_type": "stream",
     "text": [
      "       ranking5_score_fold_1\n",
      "V163A          964535.775073\n",
      "D197G          846853.395101\n",
      "I167V          838167.171190\n",
      "K79R           789873.907796\n",
      "K156R          674315.167722\n",
      "...                      ...\n",
      "F165I                    NaN\n",
      "G91R                     NaN\n",
      "D76A                     NaN\n",
      "P58L                     NaN\n",
      "K41L                     NaN\n",
      "\n",
      "[1471 rows x 1 columns]\n"
     ]
    }
   ],
   "source": [
    "list_ranking5_fold_1 = []\n",
    "for i in all_possible_mutations_fold_1:\n",
    "\n",
    "    score_ranking5_fold_1 = (all_differences_means_fold_1.loc[i].values[0] * df_wie_oft_muts_insg_fold_1.loc[i].values[0]* 51714) / np.sum(variance_per_mutant_count_df_fold_1.loc[i].values)\n",
    "    list_ranking5_fold_1.append(score_ranking5_fold_1)\n",
    "ranking5_unsorted_fold_1 = pd.DataFrame(list_ranking5_fold_1, index=all_possible_mutations_fold_1, columns=['ranking5_score_fold_1'])\n",
    "ranking5_fold_1 = ranking5_unsorted_fold_1.sort_values(by='ranking5_score_fold_1', ascending= False)\n",
    "print(ranking5_fold_1)"
   ],
   "metadata": {
    "collapsed": false,
    "ExecuteTime": {
     "end_time": "2023-07-03T21:42:18.791020Z",
     "start_time": "2023-07-03T21:42:17.719254Z"
    }
   }
  },
  {
   "cell_type": "markdown",
   "source": [
    "\n",
    "------------------------fold_2--------------------------\n"
   ],
   "metadata": {
    "collapsed": false
   }
  },
  {
   "cell_type": "code",
   "execution_count": 184,
   "outputs": [
    {
     "name": "stdout",
     "output_type": "stream",
     "text": [
      "RangeIndex(start=0, stop=10342, step=1)\n"
     ]
    }
   ],
   "source": [
    "\n",
    "# Assuming your DataFrame is named 'fold_2_dms_col'\n",
    "fold_2_dms = fold_2_dms.copy()  # Make a copy of the DataFrame\n",
    "\n",
    "# Split the 'mutant' column into multiple columns\n",
    "split_columns_fold_2 = fold_2_dms['mutant'].str.split(':', expand=True)\n",
    "\n",
    "# Generate column names from 'm1' to 'mN'\n",
    "num_columns_fold_2 = split_columns_fold_2.shape[1]\n",
    "column_names_fold_2 = [f\"m{i+1}\" for i in range(num_columns_fold_2)]\n",
    "\n",
    "# Assign the split columns with the generated column names to the DataFrame\n",
    "fold_2_dms = pd.concat([fold_2_dms, split_columns_fold_2], axis=1)\n",
    "fold_2_dms.columns = list(fold_2_dms.columns[:len(fold_2_dms.columns)-num_columns_fold_2]) + column_names_fold_2\n",
    "\n",
    "fold_2_dms = fold_2_dms.reset_index()\n",
    "fold_2_dms = fold_2_dms.drop('index', axis=1)  # Remove the old index column if needed\n",
    "\n",
    "print(fold_2_dms.index)"
   ],
   "metadata": {
    "collapsed": false,
    "ExecuteTime": {
     "end_time": "2023-07-03T21:42:18.827960Z",
     "start_time": "2023-07-03T21:42:17.806099Z"
    }
   }
  },
  {
   "cell_type": "code",
   "execution_count": 185,
   "outputs": [
    {
     "name": "stdout",
     "output_type": "stream",
     "text": [
      "RangeIndex(start=0, stop=10342, step=1)\n"
     ]
    }
   ],
   "source": [
    "# how many mutations does each sequence contain?\n",
    "list_mut_count_in_progress_fold_2 = []\n",
    "for i in range(len(fold_2_dms['mutant'])):\n",
    "    list_mut_count_in_progress_fold_2.append(fold_2_dms['mutant'].iloc[i].count(':'))\n",
    "list_mut_count_prae_fold_2 = np.array(list_mut_count_in_progress_fold_2)\n",
    "list_mut_count_fold_2 = (list_mut_count_prae_fold_2 + 1)\n",
    "df_mutation_counts_fold_2 = pd.DataFrame(list_mut_count_fold_2)\n",
    "print(df_mutation_counts_fold_2.index)"
   ],
   "metadata": {
    "collapsed": false,
    "ExecuteTime": {
     "end_time": "2023-07-03T21:42:18.830799Z",
     "start_time": "2023-07-03T21:42:17.847816Z"
    }
   }
  },
  {
   "cell_type": "code",
   "execution_count": 186,
   "outputs": [],
   "source": [
    "working_dataframe_fold_2_try = pd.concat([fold_2_dms, df_mutation_counts_fold_2], axis=1)"
   ],
   "metadata": {
    "collapsed": false,
    "ExecuteTime": {
     "end_time": "2023-07-03T21:42:18.831980Z",
     "start_time": "2023-07-03T21:42:17.913009Z"
    }
   }
  },
  {
   "cell_type": "code",
   "execution_count": 187,
   "outputs": [],
   "source": [
    "#more convenient df\n",
    "working_dataframe_fold_2 = pd.concat([fold_2_dms, df_mutation_counts_fold_2[0]], axis=1)\n",
    "columns_to_drop = ['mutant', 'mutated_sequence', 'DMS_score_bin']\n",
    "working_dataframe_fold_2.drop(columns_to_drop, axis=1)\n",
    "working_dataframe_fold_2.rename(columns={0: 'mut_count'}, inplace = True)\n",
    "count_fscore_frame_fold_2 = working_dataframe_fold_2[['DMS_score', 'mut_count']]"
   ],
   "metadata": {
    "collapsed": false,
    "ExecuteTime": {
     "end_time": "2023-07-03T21:42:18.846175Z",
     "start_time": "2023-07-03T21:42:17.937306Z"
    }
   }
  },
  {
   "cell_type": "code",
   "execution_count": 188,
   "outputs": [
    {
     "data": {
      "text/plain": "   DMS_score  mut_count\n0   1.306102          4\n1   3.565222          2\n2   3.431563          3\n3   3.744799          2\n4   1.736148          4",
      "text/html": "<div>\n<style scoped>\n    .dataframe tbody tr th:only-of-type {\n        vertical-align: middle;\n    }\n\n    .dataframe tbody tr th {\n        vertical-align: top;\n    }\n\n    .dataframe thead th {\n        text-align: right;\n    }\n</style>\n<table border=\"1\" class=\"dataframe\">\n  <thead>\n    <tr style=\"text-align: right;\">\n      <th></th>\n      <th>DMS_score</th>\n      <th>mut_count</th>\n    </tr>\n  </thead>\n  <tbody>\n    <tr>\n      <th>0</th>\n      <td>1.306102</td>\n      <td>4</td>\n    </tr>\n    <tr>\n      <th>1</th>\n      <td>3.565222</td>\n      <td>2</td>\n    </tr>\n    <tr>\n      <th>2</th>\n      <td>3.431563</td>\n      <td>3</td>\n    </tr>\n    <tr>\n      <th>3</th>\n      <td>3.744799</td>\n      <td>2</td>\n    </tr>\n    <tr>\n      <th>4</th>\n      <td>1.736148</td>\n      <td>4</td>\n    </tr>\n  </tbody>\n</table>\n</div>"
     },
     "execution_count": 188,
     "metadata": {},
     "output_type": "execute_result"
    }
   ],
   "source": [
    "count_fscore_frame_fold_2.head()"
   ],
   "metadata": {
    "collapsed": false,
    "ExecuteTime": {
     "end_time": "2023-07-03T21:42:18.849177Z",
     "start_time": "2023-07-03T21:42:17.966146Z"
    }
   }
  },
  {
   "cell_type": "code",
   "execution_count": 189,
   "outputs": [],
   "source": [
    "#generating list that contains all possible mutations\n",
    "import re\n",
    "\n",
    "mutation_columns_fold_2 = [col for col in working_dataframe_fold_2.columns if re.match(r'^m\\d+$', col)]\n",
    "working_dataframe_only_ms_fold_2 = working_dataframe_fold_2.loc[:, mutation_columns_fold_2]\n",
    "stacked_columns_fold_2 = working_dataframe_only_ms_fold_2.stack().tolist()\n",
    "all_possible_mutations_fold_2 = list(set(stacked_columns_fold_2))\n",
    "if 'None' in all_possible_mutations_fold_2:\n",
    "    all_possible_mutations_fold_2.remove('None')\n"
   ],
   "metadata": {
    "collapsed": false,
    "ExecuteTime": {
     "end_time": "2023-07-03T21:42:18.850117Z",
     "start_time": "2023-07-03T21:42:18.249734Z"
    }
   }
  },
  {
   "cell_type": "code",
   "execution_count": 190,
   "outputs": [],
   "source": [
    "#dataframe which mutants contain the mutation\n",
    "list_of_dfs_fold_2 = []\n",
    "\n",
    "# For-Loop zum Erstellen und Hinzufügen eines neuen Columns in jedem Durchlauf\n",
    "for i in all_possible_mutations_fold_2:\n",
    "    new_column_name_fold_2 = f'{i}'\n",
    "    new_column_values_fold_2 = [fold_2_dms[\"mutant\"].str.contains(i, regex= False)]\n",
    "    new_df_fold_2 = pd.DataFrame({new_column_name_fold_2: new_column_values_fold_2})\n",
    "    new_df_exploded_fold_2 = new_df_fold_2.explode(new_column_name_fold_2)\n",
    "    list_of_dfs_fold_2.append(new_df_exploded_fold_2)\n",
    "\n",
    "# Verketten der DataFrames in der Liste\n",
    "result_how_often_fold_2 = pd.concat(list_of_dfs_fold_2, axis=1)\n",
    "result_how_often_fold_2 = result_how_often_fold_2.reset_index(drop=True)\n"
   ],
   "metadata": {
    "collapsed": false,
    "ExecuteTime": {
     "end_time": "2023-07-03T21:42:25.612236Z",
     "start_time": "2023-07-03T21:42:18.509172Z"
    }
   }
  },
  {
   "cell_type": "code",
   "execution_count": 191,
   "outputs": [],
   "source": [
    "#Varianz berechnen lassen, mit wie vielen Werten wurde gerechnet\n",
    "\n",
    "for j in range(2, 16):\n",
    "    variance_per_mutant_list_fold_2 = []\n",
    "\n",
    "    for i in all_possible_mutations_fold_2:\n",
    "        mut_count_fscore_fold_2 = count_fscore_frame_fold_2.loc[result_how_often_fold_2[i] == True]\n",
    "        fscore_mut_fold_2 = mut_count_fscore_fold_2['DMS_score'].loc[mut_count_fscore_fold_2['mut_count'] == j]\n",
    "        varianz_mut_fold_2 = fscore_mut_fold_2.var()\n",
    "        variance_per_mutant_list_fold_2.append(varianz_mut_fold_2)\n",
    "\n",
    "    variance_per_mutant_series_fold_2 = pd.Series(variance_per_mutant_list_fold_2, index=all_possible_mutations_fold_2)\n",
    "    variance_per_mutant_df_fold_2 = variance_per_mutant_series_fold_2.to_frame()\n",
    "\n",
    "#rausfinden wie viele Daten wir jeweils haben zum berechnen\n",
    "    how_many_for_variance_fold_2 = []\n",
    "\n",
    "    for i in all_possible_mutations_fold_2:\n",
    "        mut_count_fscore_fold_2 = count_fscore_frame_fold_2.loc[result_how_often_fold_2[i] == True]\n",
    "        fscore_mut_fold_2 = mut_count_fscore_fold_2['DMS_score'].loc[mut_count_fscore_fold_2['mut_count'] == j]\n",
    "        wie_viel_jeweils_fold_2 = len(fscore_mut_fold_2)\n",
    "        how_many_for_variance_fold_2.append(wie_viel_jeweils_fold_2)\n",
    "\n",
    "    how_many_for_variance_fold_2 = pd.Series(how_many_for_variance_fold_2, index=all_possible_mutations_fold_2)\n",
    "    how_many_for_variance_df_fold_2 = how_many_for_variance_fold_2.to_frame()\n",
    "\n",
    "\n",
    "    how_many_AND_variance_df_fold_2 = pd.concat([how_many_for_variance_df_fold_2, variance_per_mutant_df_fold_2], axis = 1)\n",
    "    how_many_AND_variance_df_fold_2.columns = ['Anzahl benutzter Werte', 'Varianz']\n",
    "    how_many_AND_variance_df_fold_2 = how_many_AND_variance_df_fold_2.dropna()"
   ],
   "metadata": {
    "collapsed": false,
    "ExecuteTime": {
     "end_time": "2023-07-03T21:43:00.548535Z",
     "start_time": "2023-07-03T21:42:25.617515Z"
    }
   }
  },
  {
   "cell_type": "code",
   "execution_count": 192,
   "outputs": [
    {
     "name": "stderr",
     "output_type": "stream",
     "text": [
      "/var/folders/sk/q8h0c3zs1v9dt93y5m134swr0000gn/T/ipykernel_11103/2096673579.py:18: FutureWarning: DataFrame.set_axis 'inplace' keyword is deprecated and will be removed in a future version. Use `obj = obj.set_axis(..., copy=False)` instead\n",
      "  variance_per_mutant_count_df_fold_2.set_axis(range(2,8), axis=1, inplace=True)\n"
     ]
    }
   ],
   "source": [
    "#calculating the mean of the variances across all mutation counts for every possible mutation\n",
    "frame_zum_mitteln_variance_fold_2 = pd.DataFrame(index = all_possible_mutations_fold_2)\n",
    "variance_per_mutant_count_list_fold_2 = []\n",
    "\n",
    "# ACHTUNG: es werden nur counts von 2 bis 7 einbezogen weil die mit mehr sowieso \"kaputt\" sind!!!\n",
    "for j in range(2, 8):\n",
    "    variance_per_mutant_list_fold_2 = []\n",
    "\n",
    "    for i in all_possible_mutations_fold_2:\n",
    "        mut_count_fscore_fold_2 = count_fscore_frame_fold_2.loc[result_how_often_fold_2[i] == True]\n",
    "        fscore_mut_fold_2 = mut_count_fscore_fold_2['DMS_score'].loc[mut_count_fscore_fold_2['mut_count'] == j]\n",
    "        varianz_mut_fold_2 = fscore_mut_fold_2.var()  #die varianz je mutation je anzahl\n",
    "        variance_per_mutant_list_fold_2.append(varianz_mut_fold_2) #liste der Varianzen ALLER Mutationen je anzahl\n",
    "\n",
    "    variance_per_mutant_df = pd.DataFrame(variance_per_mutant_list_fold_2, index=all_possible_mutations_fold_2)\n",
    "    variance_per_mutant_count_list_fold_2.append(variance_per_mutant_df)\n",
    "variance_per_mutant_count_df_fold_2 = pd.concat(variance_per_mutant_count_list_fold_2, axis=1)\n",
    "variance_per_mutant_count_df_fold_2.set_axis(range(2,8), axis=1, inplace=True)\n",
    "\n",
    "\n",
    "# dataframe mit allen varianzen (Zellen) pro alle mutationen (rows) pro alle counts (columns)\n",
    "mean_variances_per_mutations_fold_2 = pd.DataFrame(variance_per_mutant_count_df_fold_2.mean(axis=1, skipna=True), columns=['Mean'])\n"
   ],
   "metadata": {
    "collapsed": false,
    "ExecuteTime": {
     "end_time": "2023-07-03T21:43:07.865569Z",
     "start_time": "2023-07-03T21:43:00.517621Z"
    }
   }
  },
  {
   "cell_type": "code",
   "execution_count": 193,
   "outputs": [
    {
     "name": "stderr",
     "output_type": "stream",
     "text": [
      "/var/folders/sk/q8h0c3zs1v9dt93y5m134swr0000gn/T/ipykernel_11103/1600817455.py:15: FutureWarning: DataFrame.set_axis 'inplace' keyword is deprecated and will be removed in a future version. Use `obj = obj.set_axis(..., copy=False)` instead\n",
      "  how_many_per_mutant_count_df_fold_2.set_axis(range(2,8), axis=1, inplace=True)\n"
     ]
    }
   ],
   "source": [
    "how_many_per_mutant_count_list_fold_2 = []\n",
    "\n",
    "for j in range(2, 8):\n",
    "    how_many_for_variance_fold_2 = []\n",
    "\n",
    "    for i in all_possible_mutations_fold_2:\n",
    "        mut_count_fscore_fold_2 = count_fscore_frame_fold_2.loc[result_how_often_fold_2[i] == True]\n",
    "        fscore_mut_fold_2 = mut_count_fscore_fold_2['DMS_score'].loc[mut_count_fscore_fold_2['mut_count'] == j]\n",
    "        wie_viel_jeweils_fold_2 = len(fscore_mut_fold_2)\n",
    "        how_many_for_variance_fold_2.append(wie_viel_jeweils_fold_2)\n",
    "\n",
    "    how_many_per_mutant_df_fold_2 = pd.DataFrame(how_many_for_variance_fold_2, index=all_possible_mutations_fold_2)\n",
    "    how_many_per_mutant_count_list_fold_2.append(how_many_per_mutant_df_fold_2)\n",
    "how_many_per_mutant_count_df_fold_2 = pd.concat(how_many_per_mutant_count_list_fold_2, axis=1)\n",
    "how_many_per_mutant_count_df_fold_2.set_axis(range(2,8), axis=1, inplace=True)\n",
    "\n",
    "mean_how_many_per_mutations_fold_2 = pd.DataFrame(how_many_per_mutant_count_df_fold_2.mean(axis=1, skipna=True), columns=['Mean'])"
   ],
   "metadata": {
    "collapsed": false,
    "ExecuteTime": {
     "end_time": "2023-07-03T21:43:15.029895Z",
     "start_time": "2023-07-03T21:43:07.863842Z"
    }
   }
  },
  {
   "cell_type": "code",
   "execution_count": 194,
   "outputs": [],
   "source": [
    "#differences between all mutant-fscores WITH and WITHOUT the one specific mutation, takes loong\n",
    "nur_fscore_mut_count_fold_2 = working_dataframe_fold_2.loc[:, [\"DMS_score\", \"mut_count\"]]\n",
    "differences_list_fold_2 = []\n",
    "\n",
    "for i in all_possible_mutations_fold_2:\n",
    "    index_when_mut_present_fold_2 = result_how_often_fold_2.loc[result_how_often_fold_2[i] == True].index\n",
    "\n",
    "    only_rows_with_mut_fold_2 = nur_fscore_mut_count_fold_2 [(nur_fscore_mut_count_fold_2 ['mut_count'] >2) & (nur_fscore_mut_count_fold_2 .index.isin(index_when_mut_present_fold_2))]\n",
    "\n",
    "# Calculate the mean of DMS_score for the filtered rows\n",
    "    mean_dms_score_only_mut_fold_2 = only_rows_with_mut_fold_2['DMS_score'].mean()\n",
    "#-------------\n",
    "    index_when_not_mut_present_fold_2 = result_how_often_fold_2.loc[result_how_often_fold_2[i] == False].index\n",
    "\n",
    "    only_rows_withOUT_mut_fold_2 = working_dataframe_fold_2[(working_dataframe_fold_2['mut_count'] >2) & (working_dataframe_fold_2.index.isin(index_when_not_mut_present_fold_2))]\n",
    "\n",
    "# Calculate the mean of DMS_score for the filtered rows\n",
    "    mean_dms_score_every_but_mut_fold_2 = only_rows_withOUT_mut_fold_2['DMS_score'].mean()\n",
    "#----------------\n",
    "    difference_means_fold_2 = mean_dms_score_only_mut_fold_2 - mean_dms_score_every_but_mut_fold_2\n",
    "    differences_list_fold_2.append(difference_means_fold_2)\n",
    "\n",
    "all_differences_means_fold_2 = pd.DataFrame({'Difference': differences_list_fold_2}, index=all_possible_mutations_fold_2)\n"
   ],
   "metadata": {
    "collapsed": false,
    "ExecuteTime": {
     "end_time": "2023-07-03T21:48:31.555928Z",
     "start_time": "2023-07-03T21:43:15.038396Z"
    }
   }
  },
  {
   "cell_type": "code",
   "execution_count": 195,
   "outputs": [
    {
     "data": {
      "text/plain": "        0\nL60R    4\nD103N  15\nE124K  17\nL236R  13\nD129Y   6\n...    ..\nF165I  29\nM153E   2\nD76A    7\nP58L   12\nQ80V    1\n\n[1447 rows x 1 columns]",
      "text/html": "<div>\n<style scoped>\n    .dataframe tbody tr th:only-of-type {\n        vertical-align: middle;\n    }\n\n    .dataframe tbody tr th {\n        vertical-align: top;\n    }\n\n    .dataframe thead th {\n        text-align: right;\n    }\n</style>\n<table border=\"1\" class=\"dataframe\">\n  <thead>\n    <tr style=\"text-align: right;\">\n      <th></th>\n      <th>0</th>\n    </tr>\n  </thead>\n  <tbody>\n    <tr>\n      <th>L60R</th>\n      <td>4</td>\n    </tr>\n    <tr>\n      <th>D103N</th>\n      <td>15</td>\n    </tr>\n    <tr>\n      <th>E124K</th>\n      <td>17</td>\n    </tr>\n    <tr>\n      <th>L236R</th>\n      <td>13</td>\n    </tr>\n    <tr>\n      <th>D129Y</th>\n      <td>6</td>\n    </tr>\n    <tr>\n      <th>...</th>\n      <td>...</td>\n    </tr>\n    <tr>\n      <th>F165I</th>\n      <td>29</td>\n    </tr>\n    <tr>\n      <th>M153E</th>\n      <td>2</td>\n    </tr>\n    <tr>\n      <th>D76A</th>\n      <td>7</td>\n    </tr>\n    <tr>\n      <th>P58L</th>\n      <td>12</td>\n    </tr>\n    <tr>\n      <th>Q80V</th>\n      <td>1</td>\n    </tr>\n  </tbody>\n</table>\n<p>1447 rows × 1 columns</p>\n</div>"
     },
     "execution_count": 195,
     "metadata": {},
     "output_type": "execute_result"
    }
   ],
   "source": [
    "list_wie_oft_mut_fold_2 = []\n",
    "for j in all_possible_mutations_fold_2:\n",
    "    matching_indexes_fold_2 = result_how_often_fold_2.loc[result_how_often_fold_2[j] == True].index\n",
    "    wie_oft_fold_2 = len(matching_indexes_fold_2)\n",
    "    list_wie_oft_mut_fold_2.append(wie_oft_fold_2)\n",
    "df_wie_oft_muts_insg_fold_2 = pd.DataFrame(list_wie_oft_mut_fold_2, index=all_possible_mutations_fold_2)\n",
    "df_wie_oft_muts_insg_fold_2"
   ],
   "metadata": {
    "collapsed": false,
    "ExecuteTime": {
     "end_time": "2023-07-03T21:48:33.777091Z",
     "start_time": "2023-07-03T21:48:31.641793Z"
    }
   }
  },
  {
   "cell_type": "code",
   "execution_count": 196,
   "outputs": [
    {
     "name": "stdout",
     "output_type": "stream",
     "text": [
      "       ranking5_score_fold_2\n",
      "V163A           1.042382e+06\n",
      "D197G           7.713377e+05\n",
      "E172G           7.485073e+05\n",
      "I171V           7.448647e+05\n",
      "S72G            7.105375e+05\n",
      "...                      ...\n",
      "F165I                    NaN\n",
      "M153E                    NaN\n",
      "D76A                     NaN\n",
      "P58L                     NaN\n",
      "Q80V                     NaN\n",
      "\n",
      "[1447 rows x 1 columns]\n"
     ]
    }
   ],
   "source": [
    "list_ranking5_fold_2 = []\n",
    "for i in all_possible_mutations_fold_2:\n",
    "\n",
    "    score_ranking5_fold_2 = (all_differences_means_fold_2.loc[i].values[0] * df_wie_oft_muts_insg_fold_2.loc[i].values[0]* 51714) / np.sum(variance_per_mutant_count_df_fold_2.loc[i].values)\n",
    "    list_ranking5_fold_2.append(score_ranking5_fold_2)\n",
    "ranking5_unsorted_fold_2 = pd.DataFrame(list_ranking5_fold_2, index=all_possible_mutations_fold_2, columns=['ranking5_score_fold_2'])\n",
    "ranking5_fold_2 = ranking5_unsorted_fold_2.sort_values(by='ranking5_score_fold_2', ascending= False)\n",
    "print(ranking5_fold_2)"
   ],
   "metadata": {
    "collapsed": false,
    "ExecuteTime": {
     "end_time": "2023-07-03T21:48:34.024933Z",
     "start_time": "2023-07-03T21:48:33.811377Z"
    }
   }
  },
  {
   "cell_type": "markdown",
   "source": [
    "\n",
    "\n",
    "-------------------fold 3 --------------------"
   ],
   "metadata": {
    "collapsed": false
   }
  },
  {
   "cell_type": "code",
   "execution_count": 197,
   "outputs": [
    {
     "name": "stdout",
     "output_type": "stream",
     "text": [
      "RangeIndex(start=0, stop=10342, step=1)\n",
      "RangeIndex(start=0, stop=10342, step=1)\n"
     ]
    },
    {
     "name": "stderr",
     "output_type": "stream",
     "text": [
      "/var/folders/sk/q8h0c3zs1v9dt93y5m134swr0000gn/T/ipykernel_11103/467366181.py:107: FutureWarning: DataFrame.set_axis 'inplace' keyword is deprecated and will be removed in a future version. Use `obj = obj.set_axis(..., copy=False)` instead\n",
      "  variance_per_mutant_count_df_fold_3.set_axis(range(2, 8), axis=1, inplace=True)\n",
      "/var/folders/sk/q8h0c3zs1v9dt93y5m134swr0000gn/T/ipykernel_11103/467366181.py:127: FutureWarning: DataFrame.set_axis 'inplace' keyword is deprecated and will be removed in a future version. Use `obj = obj.set_axis(..., copy=False)` instead\n",
      "  how_many_per_mutant_count_df_fold_3.set_axis(range(2, 8), axis=1, inplace=True)\n"
     ]
    },
    {
     "name": "stdout",
     "output_type": "stream",
     "text": [
      "       ranking5_score_fold_3\n",
      "I171V           1.239958e+06\n",
      "V163A           1.154517e+06\n",
      "S175G           8.812701e+05\n",
      "K113R           6.875590e+05\n",
      "G10R            6.741375e+05\n",
      "...                      ...\n",
      "L201V                    NaN\n",
      "G20A                     NaN\n",
      "K131T                    NaN\n",
      "D76A                     NaN\n",
      "P58L                     NaN\n",
      "\n",
      "[1469 rows x 1 columns]\n"
     ]
    }
   ],
   "source": [
    "# Assuming your DataFrame is named 'fold_3_dms_col'\n",
    "fold_3_dms = fold_3_dms.copy()  # Make a copy of the DataFrame\n",
    "\n",
    "# Split the 'mutant' column into multiple columns\n",
    "split_columns_fold_3 = fold_3_dms['mutant'].str.split(':', expand=True)\n",
    "\n",
    "# Generate column names from 'm1' to 'mN'\n",
    "num_columns_fold_3 = split_columns_fold_3.shape[1]\n",
    "column_names_fold_3 = [f\"m{i+1}\" for i in range(num_columns_fold_3)]\n",
    "\n",
    "# Assign the split columns with the generated column names to the DataFrame\n",
    "fold_3_dms = pd.concat([fold_3_dms, split_columns_fold_3], axis=1)\n",
    "fold_3_dms.columns = list(fold_3_dms.columns[:len(fold_3_dms.columns)-num_columns_fold_3]) + column_names_fold_3\n",
    "\n",
    "fold_3_dms = fold_3_dms.reset_index()\n",
    "fold_3_dms = fold_3_dms.drop('index', axis=1)  # Remove the old index column if needed\n",
    "\n",
    "print(fold_3_dms.index)\n",
    "# how many mutations does each sequence contain?\n",
    "list_mut_count_in_progress_fold_3 = []\n",
    "for i in range(len(fold_3_dms['mutant'])):\n",
    "    list_mut_count_in_progress_fold_3.append(fold_3_dms['mutant'].iloc[i].count(':'))\n",
    "list_mut_count_prae_fold_3 = np.array(list_mut_count_in_progress_fold_3)\n",
    "list_mut_count_fold_3 = (list_mut_count_prae_fold_3 + 1)\n",
    "df_mutation_counts_fold_3 = pd.DataFrame(list_mut_count_fold_3)\n",
    "print(df_mutation_counts_fold_3.index)\n",
    "working_dataframe_fold_3_try = pd.concat([fold_3_dms, df_mutation_counts_fold_3], axis=1)\n",
    "#more convenient df\n",
    "working_dataframe_fold_3 = pd.concat([fold_3_dms, df_mutation_counts_fold_3[0]], axis=1)\n",
    "columns_to_drop = ['mutant', 'mutated_sequence', 'DMS_score_bin']\n",
    "working_dataframe_fold_3.drop(columns_to_drop, axis=1)\n",
    "working_dataframe_fold_3.rename(columns={0: 'mut_count'}, inplace=True)\n",
    "count_fscore_frame_fold_3 = working_dataframe_fold_3[['DMS_score', 'mut_count']]\n",
    "count_fscore_frame_fold_3.head()\n",
    "#generating list that contains all possible mutations\n",
    "import re\n",
    "\n",
    "mutation_columns_fold_3 = [col for col in working_dataframe_fold_3.columns if re.match(r'^m\\d+$', col)]\n",
    "working_dataframe_only_ms_fold_3 = working_dataframe_fold_3.loc[:, mutation_columns_fold_3]\n",
    "stacked_columns_fold_3 = working_dataframe_only_ms_fold_3.stack().tolist()\n",
    "all_possible_mutations_fold_3 = list(set(stacked_columns_fold_3))\n",
    "if 'None' in all_possible_mutations_fold_3:\n",
    "    all_possible_mutations_fold_3.remove('None')\n",
    "\n",
    "#dataframe which mutants contain the mutation\n",
    "list_of_dfs_fold_3 = []\n",
    "\n",
    "# For-Loop zum Erstellen und Hinzufügen eines neuen Columns in jedem Durchlauf\n",
    "for i in all_possible_mutations_fold_3:\n",
    "    new_column_name_fold_3 = f'{i}'\n",
    "    new_column_values_fold_3 = [fold_3_dms[\"mutant\"].str.contains(i, regex=False)]\n",
    "    new_df_fold_3 = pd.DataFrame({new_column_name_fold_3: new_column_values_fold_3})\n",
    "    new_df_exploded_fold_3 = new_df_fold_3.explode(new_column_name_fold_3)\n",
    "    list_of_dfs_fold_3.append(new_df_exploded_fold_3)\n",
    "\n",
    "# Verketten der DataFrames in der Liste\n",
    "result_how_often_fold_3 = pd.concat(list_of_dfs_fold_3, axis=1)\n",
    "result_how_often_fold_3 = result_how_often_fold_3.reset_index(drop=True)\n",
    "\n",
    "#Varianz berechnen lassen, mit wie vielen Werten wurde gerechnet\n",
    "\n",
    "for j in range(2, 16):\n",
    "    variance_per_mutant_list_fold_3 = []\n",
    "\n",
    "    for i in all_possible_mutations_fold_3:\n",
    "        mut_count_fscore_fold_3 = count_fscore_frame_fold_3.loc[result_how_often_fold_3[i] == True]\n",
    "        fscore_mut_fold_3 = mut_count_fscore_fold_3['DMS_score'].loc[mut_count_fscore_fold_3['mut_count'] == j]\n",
    "        varianz_mut_fold_3 = fscore_mut_fold_3.var()\n",
    "        variance_per_mutant_list_fold_3.append(varianz_mut_fold_3)\n",
    "\n",
    "    variance_per_mutant_series_fold_3 = pd.Series(variance_per_mutant_list_fold_3, index=all_possible_mutations_fold_3)\n",
    "    variance_per_mutant_df_fold_3 = variance_per_mutant_series_fold_3.to_frame()\n",
    "\n",
    "    #rausfinden wie viele Daten wir jeweils haben zum berechnen\n",
    "    how_many_for_variance_fold_3 = []\n",
    "\n",
    "    for i in all_possible_mutations_fold_3:\n",
    "        mut_count_fscore_fold_3 = count_fscore_frame_fold_3.loc[result_how_often_fold_3[i] == True]\n",
    "        fscore_mut_fold_3 = mut_count_fscore_fold_3['DMS_score'].loc[mut_count_fscore_fold_3['mut_count'] == j]\n",
    "        wie_viel_jeweils_fold_3 = len(fscore_mut_fold_3)\n",
    "        how_many_for_variance_fold_3.append(wie_viel_jeweils_fold_3)\n",
    "\n",
    "    how_many_for_variance_fold_3 = pd.Series(how_many_for_variance_fold_3, index=all_possible_mutations_fold_3)\n",
    "    how_many_for_variance_df_fold_3 = how_many_for_variance_fold_3.to_frame()\n",
    "\n",
    "    how_many_AND_variance_df_fold_3 = pd.concat([how_many_for_variance_df_fold_3, variance_per_mutant_df_fold_3],\n",
    "                                                axis=1)\n",
    "    how_many_AND_variance_df_fold_3.columns = ['Anzahl benutzter Werte', 'Varianz']\n",
    "    how_many_AND_variance_df_fold_3 = how_many_AND_variance_df_fold_3.dropna()\n",
    "#calculating the mean of the variances across all mutation counts for every possible mutation\n",
    "frame_zum_mitteln_variance_fold_3 = pd.DataFrame(index=all_possible_mutations_fold_3)\n",
    "variance_per_mutant_count_list_fold_3 = []\n",
    "\n",
    "# ACHTUNG: es werden nur counts von 2 bis 7 einbezogen weil die mit mehr sowieso \"kaputt\" sind!!!\n",
    "for j in range(2, 8):\n",
    "    variance_per_mutant_list_fold_3 = []\n",
    "\n",
    "    for i in all_possible_mutations_fold_3:\n",
    "        mut_count_fscore_fold_3 = count_fscore_frame_fold_3.loc[result_how_often_fold_3[i] == True]\n",
    "        fscore_mut_fold_3 = mut_count_fscore_fold_3['DMS_score'].loc[mut_count_fscore_fold_3['mut_count'] == j]\n",
    "        varianz_mut_fold_3 = fscore_mut_fold_3.var()  #die varianz je mutation je anzahl\n",
    "        variance_per_mutant_list_fold_3.append(varianz_mut_fold_3)  #liste der Varianzen ALLER Mutationen je anzahl\n",
    "\n",
    "    variance_per_mutant_df = pd.DataFrame(variance_per_mutant_list_fold_3, index=all_possible_mutations_fold_3)\n",
    "    variance_per_mutant_count_list_fold_3.append(variance_per_mutant_df)\n",
    "variance_per_mutant_count_df_fold_3 = pd.concat(variance_per_mutant_count_list_fold_3, axis=1)\n",
    "variance_per_mutant_count_df_fold_3.set_axis(range(2, 8), axis=1, inplace=True)\n",
    "\n",
    "# dataframe mit allen varianzen (Zellen) pro alle mutationen (rows) pro alle counts (columns)\n",
    "mean_variances_per_mutations_fold_3 = pd.DataFrame(variance_per_mutant_count_df_fold_3.mean(axis=1, skipna=True),\n",
    "                                                   columns=['Mean'])\n",
    "\n",
    "how_many_per_mutant_count_list_fold_3 = []\n",
    "\n",
    "for j in range(2, 8):\n",
    "    how_many_for_variance_fold_3 = []\n",
    "\n",
    "    for i in all_possible_mutations_fold_3:\n",
    "        mut_count_fscore_fold_3 = count_fscore_frame_fold_3.loc[result_how_often_fold_3[i] == True]\n",
    "        fscore_mut_fold_3 = mut_count_fscore_fold_3['DMS_score'].loc[mut_count_fscore_fold_3['mut_count'] == j]\n",
    "        wie_viel_jeweils_fold_3 = len(fscore_mut_fold_3)\n",
    "        how_many_for_variance_fold_3.append(wie_viel_jeweils_fold_3)\n",
    "\n",
    "    how_many_per_mutant_df_fold_3 = pd.DataFrame(how_many_for_variance_fold_3, index=all_possible_mutations_fold_3)\n",
    "    how_many_per_mutant_count_list_fold_3.append(how_many_per_mutant_df_fold_3)\n",
    "how_many_per_mutant_count_df_fold_3 = pd.concat(how_many_per_mutant_count_list_fold_3, axis=1)\n",
    "how_many_per_mutant_count_df_fold_3.set_axis(range(2, 8), axis=1, inplace=True)\n",
    "\n",
    "mean_how_many_per_mutations_fold_3 = pd.DataFrame(how_many_per_mutant_count_df_fold_3.mean(axis=1, skipna=True),\n",
    "                                                  columns=['Mean'])\n",
    "#differences between all mutant-fscores WITH and WITHOUT the one specific mutation, takes loong\n",
    "nur_fscore_mut_count_fold_3 = working_dataframe_fold_3.loc[:, [\"DMS_score\", \"mut_count\"]]\n",
    "differences_list_fold_3 = []\n",
    "\n",
    "for i in all_possible_mutations_fold_3:\n",
    "    index_when_mut_present_fold_3 = result_how_often_fold_3.loc[result_how_often_fold_3[i] == True].index\n",
    "\n",
    "    only_rows_with_mut_fold_3 = nur_fscore_mut_count_fold_3[(nur_fscore_mut_count_fold_3['mut_count'] > 2) & (\n",
    "        nur_fscore_mut_count_fold_3.index.isin(index_when_mut_present_fold_3))]\n",
    "\n",
    "    # Calculate the mean of DMS_score for the filtered rows\n",
    "    mean_dms_score_only_mut_fold_3 = only_rows_with_mut_fold_3['DMS_score'].mean()\n",
    "    #-------------\n",
    "    index_when_not_mut_present_fold_3 = result_how_often_fold_3.loc[result_how_often_fold_3[i] == False].index\n",
    "\n",
    "    only_rows_withOUT_mut_fold_3 = working_dataframe_fold_3[(working_dataframe_fold_3['mut_count'] > 2) & (\n",
    "        working_dataframe_fold_3.index.isin(index_when_not_mut_present_fold_3))]\n",
    "\n",
    "    # Calculate the mean of DMS_score for the filtered rows\n",
    "    mean_dms_score_every_but_mut_fold_3 = only_rows_withOUT_mut_fold_3['DMS_score'].mean()\n",
    "    #----------------\n",
    "    difference_means_fold_3 = mean_dms_score_only_mut_fold_3 - mean_dms_score_every_but_mut_fold_3\n",
    "    differences_list_fold_3.append(difference_means_fold_3)\n",
    "\n",
    "all_differences_means_fold_3 = pd.DataFrame({'Difference': differences_list_fold_3},\n",
    "                                            index=all_possible_mutations_fold_3)\n",
    "\n",
    "list_wie_oft_mut_fold_3 = []\n",
    "for j in all_possible_mutations_fold_3:\n",
    "    matching_indexes_fold_3 = result_how_often_fold_3.loc[result_how_often_fold_3[j] == True].index\n",
    "    wie_oft_fold_3 = len(matching_indexes_fold_3)\n",
    "    list_wie_oft_mut_fold_3.append(wie_oft_fold_3)\n",
    "df_wie_oft_muts_insg_fold_3 = pd.DataFrame(list_wie_oft_mut_fold_3, index=all_possible_mutations_fold_3)\n",
    "df_wie_oft_muts_insg_fold_3\n",
    "list_ranking5_fold_3 = []\n",
    "for i in all_possible_mutations_fold_3:\n",
    "    score_ranking5_fold_3 = (all_differences_means_fold_3.loc[i].values[0] * df_wie_oft_muts_insg_fold_3.loc[i].values[\n",
    "        0] * 51714) / np.sum(variance_per_mutant_count_df_fold_3.loc[i].values)\n",
    "    list_ranking5_fold_3.append(score_ranking5_fold_3)\n",
    "ranking5_unsorted_fold_3 = pd.DataFrame(list_ranking5_fold_3, index=all_possible_mutations_fold_3,\n",
    "                                        columns=['ranking5_score_fold_3'])\n",
    "ranking5_fold_3 = ranking5_unsorted_fold_3.sort_values(by='ranking5_score_fold_3', ascending=False)\n",
    "print(ranking5_fold_3)\n",
    "\n"
   ],
   "metadata": {
    "collapsed": false,
    "ExecuteTime": {
     "end_time": "2023-07-03T21:55:12.726351Z",
     "start_time": "2023-07-03T21:48:33.965826Z"
    }
   }
  },
  {
   "cell_type": "markdown",
   "source": [
    "\n",
    "\n",
    "--------------fold 4--------------"
   ],
   "metadata": {
    "collapsed": false
   }
  },
  {
   "cell_type": "code",
   "execution_count": 198,
   "outputs": [
    {
     "name": "stdout",
     "output_type": "stream",
     "text": [
      "RangeIndex(start=0, stop=10342, step=1)\n",
      "RangeIndex(start=0, stop=10342, step=1)\n"
     ]
    },
    {
     "name": "stderr",
     "output_type": "stream",
     "text": [
      "/var/folders/sk/q8h0c3zs1v9dt93y5m134swr0000gn/T/ipykernel_11103/3550614773.py:107: FutureWarning: DataFrame.set_axis 'inplace' keyword is deprecated and will be removed in a future version. Use `obj = obj.set_axis(..., copy=False)` instead\n",
      "  variance_per_mutant_count_df_fold_4.set_axis(range(2, 8), axis=1, inplace=True)\n",
      "/var/folders/sk/q8h0c3zs1v9dt93y5m134swr0000gn/T/ipykernel_11103/3550614773.py:127: FutureWarning: DataFrame.set_axis 'inplace' keyword is deprecated and will be removed in a future version. Use `obj = obj.set_axis(..., copy=False)` instead\n",
      "  how_many_per_mutant_count_df_fold_4.set_axis(range(2, 8), axis=1, inplace=True)\n"
     ]
    },
    {
     "name": "stdout",
     "output_type": "stream",
     "text": [
      "       ranking5_score_fold_4\n",
      "V163A          910749.941437\n",
      "D129G          882110.613644\n",
      "I171T          704941.387390\n",
      "K214E          663477.387878\n",
      "I171V          648781.511224\n",
      "...                      ...\n",
      "R215S                    NaN\n",
      "G91R                     NaN\n",
      "D76A                     NaN\n",
      "P58L                     NaN\n",
      "N23C                     NaN\n",
      "\n",
      "[1461 rows x 1 columns]\n"
     ]
    }
   ],
   "source": [
    "# Assuming your DataFrame is named 'fold_4_dms_col'\n",
    "fold_4_dms = fold_4_dms.copy()  # Make a copy of the DataFrame\n",
    "\n",
    "# Split the 'mutant' column into multiple columns\n",
    "split_columns_fold_4 = fold_4_dms['mutant'].str.split(':', expand=True)\n",
    "\n",
    "# Generate column names from 'm1' to 'mN'\n",
    "num_columns_fold_4 = split_columns_fold_4.shape[1]\n",
    "column_names_fold_4 = [f\"m{i+1}\" for i in range(num_columns_fold_4)]\n",
    "\n",
    "# Assign the split columns with the generated column names to the DataFrame\n",
    "fold_4_dms = pd.concat([fold_4_dms, split_columns_fold_4], axis=1)\n",
    "fold_4_dms.columns = list(fold_4_dms.columns[:len(fold_4_dms.columns)-num_columns_fold_4]) + column_names_fold_4\n",
    "\n",
    "fold_4_dms = fold_4_dms.reset_index()\n",
    "fold_4_dms = fold_4_dms.drop('index', axis=1)  # Remove the old index column if needed\n",
    "\n",
    "print(fold_4_dms.index)\n",
    "# how many mutations does each sequence contain?\n",
    "list_mut_count_in_progress_fold_4 = []\n",
    "for i in range(len(fold_4_dms['mutant'])):\n",
    "    list_mut_count_in_progress_fold_4.append(fold_4_dms['mutant'].iloc[i].count(':'))\n",
    "list_mut_count_prae_fold_4 = np.array(list_mut_count_in_progress_fold_4)\n",
    "list_mut_count_fold_4 = (list_mut_count_prae_fold_4 + 1)\n",
    "df_mutation_counts_fold_4 = pd.DataFrame(list_mut_count_fold_4)\n",
    "print(df_mutation_counts_fold_4.index)\n",
    "working_dataframe_fold_4_try = pd.concat([fold_4_dms, df_mutation_counts_fold_4], axis=1)\n",
    "#more convenient df\n",
    "working_dataframe_fold_4 = pd.concat([fold_4_dms, df_mutation_counts_fold_4[0]], axis=1)\n",
    "columns_to_drop = ['mutant', 'mutated_sequence', 'DMS_score_bin']\n",
    "working_dataframe_fold_4.drop(columns_to_drop, axis=1)\n",
    "working_dataframe_fold_4.rename(columns={0: 'mut_count'}, inplace=True)\n",
    "count_fscore_frame_fold_4 = working_dataframe_fold_4[['DMS_score', 'mut_count']]\n",
    "count_fscore_frame_fold_4.head()\n",
    "#generating list that contains all possible mutations\n",
    "import re\n",
    "\n",
    "mutation_columns_fold_4 = [col for col in working_dataframe_fold_4.columns if re.match(r'^m\\d+$', col)]\n",
    "working_dataframe_only_ms_fold_4 = working_dataframe_fold_4.loc[:, mutation_columns_fold_4]\n",
    "stacked_columns_fold_4 = working_dataframe_only_ms_fold_4.stack().tolist()\n",
    "all_possible_mutations_fold_4 = list(set(stacked_columns_fold_4))\n",
    "if 'None' in all_possible_mutations_fold_4:\n",
    "    all_possible_mutations_fold_4.remove('None')\n",
    "\n",
    "#dataframe which mutants contain the mutation\n",
    "list_of_dfs_fold_4 = []\n",
    "\n",
    "# For-Loop zum Erstellen und Hinzufügen eines neuen Columns in jedem Durchlauf\n",
    "for i in all_possible_mutations_fold_4:\n",
    "    new_column_name_fold_4 = f'{i}'\n",
    "    new_column_values_fold_4 = [fold_4_dms[\"mutant\"].str.contains(i, regex=False)]\n",
    "    new_df_fold_4 = pd.DataFrame({new_column_name_fold_4: new_column_values_fold_4})\n",
    "    new_df_exploded_fold_4 = new_df_fold_4.explode(new_column_name_fold_4)\n",
    "    list_of_dfs_fold_4.append(new_df_exploded_fold_4)\n",
    "\n",
    "# Verketten der DataFrames in der Liste\n",
    "result_how_often_fold_4 = pd.concat(list_of_dfs_fold_4, axis=1)\n",
    "result_how_often_fold_4 = result_how_often_fold_4.reset_index(drop=True)\n",
    "\n",
    "#Varianz berechnen lassen, mit wie vielen Werten wurde gerechnet\n",
    "\n",
    "for j in range(2, 16):\n",
    "    variance_per_mutant_list_fold_4 = []\n",
    "\n",
    "    for i in all_possible_mutations_fold_4:\n",
    "        mut_count_fscore_fold_4 = count_fscore_frame_fold_4.loc[result_how_often_fold_4[i] == True]\n",
    "        fscore_mut_fold_4 = mut_count_fscore_fold_4['DMS_score'].loc[mut_count_fscore_fold_4['mut_count'] == j]\n",
    "        varianz_mut_fold_4 = fscore_mut_fold_4.var()\n",
    "        variance_per_mutant_list_fold_4.append(varianz_mut_fold_4)\n",
    "\n",
    "    variance_per_mutant_series_fold_4 = pd.Series(variance_per_mutant_list_fold_4, index=all_possible_mutations_fold_4)\n",
    "    variance_per_mutant_df_fold_4 = variance_per_mutant_series_fold_4.to_frame()\n",
    "\n",
    "    #rausfinden wie viele Daten wir jeweils haben zum berechnen\n",
    "    how_many_for_variance_fold_4 = []\n",
    "\n",
    "    for i in all_possible_mutations_fold_4:\n",
    "        mut_count_fscore_fold_4 = count_fscore_frame_fold_4.loc[result_how_often_fold_4[i] == True]\n",
    "        fscore_mut_fold_4 = mut_count_fscore_fold_4['DMS_score'].loc[mut_count_fscore_fold_4['mut_count'] == j]\n",
    "        wie_viel_jeweils_fold_4 = len(fscore_mut_fold_4)\n",
    "        how_many_for_variance_fold_4.append(wie_viel_jeweils_fold_4)\n",
    "\n",
    "    how_many_for_variance_fold_4 = pd.Series(how_many_for_variance_fold_4, index=all_possible_mutations_fold_4)\n",
    "    how_many_for_variance_df_fold_4 = how_many_for_variance_fold_4.to_frame()\n",
    "\n",
    "    how_many_AND_variance_df_fold_4 = pd.concat([how_many_for_variance_df_fold_4, variance_per_mutant_df_fold_4],\n",
    "                                                axis=1)\n",
    "    how_many_AND_variance_df_fold_4.columns = ['Anzahl benutzter Werte', 'Varianz']\n",
    "    how_many_AND_variance_df_fold_4 = how_many_AND_variance_df_fold_4.dropna()\n",
    "#calculating the mean of the variances across all mutation counts for every possible mutation\n",
    "frame_zum_mitteln_variance_fold_4 = pd.DataFrame(index=all_possible_mutations_fold_4)\n",
    "variance_per_mutant_count_list_fold_4 = []\n",
    "\n",
    "# ACHTUNG: es werden nur counts von 2 bis 7 einbezogen weil die mit mehr sowieso \"kaputt\" sind!!!\n",
    "for j in range(2, 8):\n",
    "    variance_per_mutant_list_fold_4 = []\n",
    "\n",
    "    for i in all_possible_mutations_fold_4:\n",
    "        mut_count_fscore_fold_4 = count_fscore_frame_fold_4.loc[result_how_often_fold_4[i] == True]\n",
    "        fscore_mut_fold_4 = mut_count_fscore_fold_4['DMS_score'].loc[mut_count_fscore_fold_4['mut_count'] == j]\n",
    "        varianz_mut_fold_4 = fscore_mut_fold_4.var()  #die varianz je mutation je anzahl\n",
    "        variance_per_mutant_list_fold_4.append(varianz_mut_fold_4)  #liste der Varianzen ALLER Mutationen je anzahl\n",
    "\n",
    "    variance_per_mutant_df = pd.DataFrame(variance_per_mutant_list_fold_4, index=all_possible_mutations_fold_4)\n",
    "    variance_per_mutant_count_list_fold_4.append(variance_per_mutant_df)\n",
    "variance_per_mutant_count_df_fold_4 = pd.concat(variance_per_mutant_count_list_fold_4, axis=1)\n",
    "variance_per_mutant_count_df_fold_4.set_axis(range(2, 8), axis=1, inplace=True)\n",
    "\n",
    "# dataframe mit allen varianzen (Zellen) pro alle mutationen (rows) pro alle counts (columns)\n",
    "mean_variances_per_mutations_fold_4 = pd.DataFrame(variance_per_mutant_count_df_fold_4.mean(axis=1, skipna=True),\n",
    "                                                   columns=['Mean'])\n",
    "\n",
    "how_many_per_mutant_count_list_fold_4 = []\n",
    "\n",
    "for j in range(2, 8):\n",
    "    how_many_for_variance_fold_4 = []\n",
    "\n",
    "    for i in all_possible_mutations_fold_4:\n",
    "        mut_count_fscore_fold_4 = count_fscore_frame_fold_4.loc[result_how_often_fold_4[i] == True]\n",
    "        fscore_mut_fold_4 = mut_count_fscore_fold_4['DMS_score'].loc[mut_count_fscore_fold_4['mut_count'] == j]\n",
    "        wie_viel_jeweils_fold_4 = len(fscore_mut_fold_4)\n",
    "        how_many_for_variance_fold_4.append(wie_viel_jeweils_fold_4)\n",
    "\n",
    "    how_many_per_mutant_df_fold_4 = pd.DataFrame(how_many_for_variance_fold_4, index=all_possible_mutations_fold_4)\n",
    "    how_many_per_mutant_count_list_fold_4.append(how_many_per_mutant_df_fold_4)\n",
    "how_many_per_mutant_count_df_fold_4 = pd.concat(how_many_per_mutant_count_list_fold_4, axis=1)\n",
    "how_many_per_mutant_count_df_fold_4.set_axis(range(2, 8), axis=1, inplace=True)\n",
    "\n",
    "mean_how_many_per_mutations_fold_4 = pd.DataFrame(how_many_per_mutant_count_df_fold_4.mean(axis=1, skipna=True),\n",
    "                                                  columns=['Mean'])\n",
    "#differences between all mutant-fscores WITH and WITHOUT the one specific mutation, takes loong\n",
    "nur_fscore_mut_count_fold_4 = working_dataframe_fold_4.loc[:, [\"DMS_score\", \"mut_count\"]]\n",
    "differences_list_fold_4 = []\n",
    "\n",
    "for i in all_possible_mutations_fold_4:\n",
    "    index_when_mut_present_fold_4 = result_how_often_fold_4.loc[result_how_often_fold_4[i] == True].index\n",
    "\n",
    "    only_rows_with_mut_fold_4 = nur_fscore_mut_count_fold_4[(nur_fscore_mut_count_fold_4['mut_count'] > 2) & (\n",
    "        nur_fscore_mut_count_fold_4.index.isin(index_when_mut_present_fold_4))]\n",
    "\n",
    "    # Calculate the mean of DMS_score for the filtered rows\n",
    "    mean_dms_score_only_mut_fold_4 = only_rows_with_mut_fold_4['DMS_score'].mean()\n",
    "    #-------------\n",
    "    index_when_not_mut_present_fold_4 = result_how_often_fold_4.loc[result_how_often_fold_4[i] == False].index\n",
    "\n",
    "    only_rows_withOUT_mut_fold_4 = working_dataframe_fold_4[(working_dataframe_fold_4['mut_count'] > 2) & (\n",
    "        working_dataframe_fold_4.index.isin(index_when_not_mut_present_fold_4))]\n",
    "\n",
    "    # Calculate the mean of DMS_score for the filtered rows\n",
    "    mean_dms_score_every_but_mut_fold_4 = only_rows_withOUT_mut_fold_4['DMS_score'].mean()\n",
    "    #----------------\n",
    "    difference_means_fold_4 = mean_dms_score_only_mut_fold_4 - mean_dms_score_every_but_mut_fold_4\n",
    "    differences_list_fold_4.append(difference_means_fold_4)\n",
    "\n",
    "all_differences_means_fold_4 = pd.DataFrame({'Difference': differences_list_fold_4},\n",
    "                                            index=all_possible_mutations_fold_4)\n",
    "\n",
    "list_wie_oft_mut_fold_4 = []\n",
    "for j in all_possible_mutations_fold_4:\n",
    "    matching_indexes_fold_4 = result_how_often_fold_4.loc[result_how_often_fold_4[j] == True].index\n",
    "    wie_oft_fold_4 = len(matching_indexes_fold_4)\n",
    "    list_wie_oft_mut_fold_4.append(wie_oft_fold_4)\n",
    "df_wie_oft_muts_insg_fold_4 = pd.DataFrame(list_wie_oft_mut_fold_4, index=all_possible_mutations_fold_4)\n",
    "df_wie_oft_muts_insg_fold_4\n",
    "list_ranking5_fold_4 = []\n",
    "for i in all_possible_mutations_fold_4:\n",
    "    score_ranking5_fold_4 = (all_differences_means_fold_4.loc[i].values[0] * df_wie_oft_muts_insg_fold_4.loc[i].values[\n",
    "        0] * 51714) / np.sum(variance_per_mutant_count_df_fold_4.loc[i].values)\n",
    "    list_ranking5_fold_4.append(score_ranking5_fold_4)\n",
    "ranking5_unsorted_fold_4 = pd.DataFrame(list_ranking5_fold_4, index=all_possible_mutations_fold_4,\n",
    "                                        columns=['ranking5_score_fold_4'])\n",
    "ranking5_fold_4 = ranking5_unsorted_fold_4.sort_values(by='ranking5_score_fold_4', ascending=False)\n",
    "print(ranking5_fold_4)\n"
   ],
   "metadata": {
    "collapsed": false,
    "ExecuteTime": {
     "end_time": "2023-07-03T22:00:23.155108Z",
     "start_time": "2023-07-03T21:55:12.763432Z"
    }
   }
  },
  {
   "cell_type": "markdown",
   "source": [
    "\n",
    "\n",
    "--------------fold 5-------------------"
   ],
   "metadata": {
    "collapsed": false
   }
  },
  {
   "cell_type": "code",
   "execution_count": 199,
   "outputs": [
    {
     "name": "stdout",
     "output_type": "stream",
     "text": [
      "RangeIndex(start=0, stop=10346, step=1)\n",
      "RangeIndex(start=0, stop=10346, step=1)\n"
     ]
    },
    {
     "name": "stderr",
     "output_type": "stream",
     "text": [
      "/var/folders/sk/q8h0c3zs1v9dt93y5m134swr0000gn/T/ipykernel_11103/357612555.py:107: FutureWarning: DataFrame.set_axis 'inplace' keyword is deprecated and will be removed in a future version. Use `obj = obj.set_axis(..., copy=False)` instead\n",
      "  variance_per_mutant_count_df_fold_5.set_axis(range(2, 8), axis=1, inplace=True)\n",
      "/var/folders/sk/q8h0c3zs1v9dt93y5m134swr0000gn/T/ipykernel_11103/357612555.py:127: FutureWarning: DataFrame.set_axis 'inplace' keyword is deprecated and will be removed in a future version. Use `obj = obj.set_axis(..., copy=False)` instead\n",
      "  how_many_per_mutant_count_df_fold_5.set_axis(range(2, 8), axis=1, inplace=True)\n"
     ]
    },
    {
     "name": "stdout",
     "output_type": "stream",
     "text": [
      "       ranking5_score_fold_5\n",
      "K156E           1.016729e+06\n",
      "V163A           9.711327e+05\n",
      "I167V           7.691295e+05\n",
      "I123V           7.228442e+05\n",
      "N144D           6.780198e+05\n",
      "...                      ...\n",
      "R215S                    NaN\n",
      "F165I                    NaN\n",
      "G91R                     NaN\n",
      "D76A                     NaN\n",
      "P58L                     NaN\n",
      "\n",
      "[1485 rows x 1 columns]\n"
     ]
    }
   ],
   "source": [
    "# Assuming your DataFrame is named 'fold_5_dms_col'\n",
    "fold_5_dms = fold_5_dms.copy()  # Make a copy of the DataFrame\n",
    "\n",
    "# Split the 'mutant' column into multiple columns\n",
    "split_columns_fold_5 = fold_5_dms['mutant'].str.split(':', expand=True)\n",
    "\n",
    "# Generate column names from 'm1' to 'mN'\n",
    "num_columns_fold_5 = split_columns_fold_5.shape[1]\n",
    "column_names_fold_5 = [f\"m{i+1}\" for i in range(num_columns_fold_5)]\n",
    "\n",
    "# Assign the split columns with the generated column names to the DataFrame\n",
    "fold_5_dms = pd.concat([fold_5_dms, split_columns_fold_5], axis=1)\n",
    "fold_5_dms.columns = list(fold_5_dms.columns[:len(fold_5_dms.columns)-num_columns_fold_5]) + column_names_fold_5\n",
    "\n",
    "fold_5_dms = fold_5_dms.reset_index()\n",
    "fold_5_dms = fold_5_dms.drop('index', axis=1)  # Remove the old index column if needed\n",
    "\n",
    "print(fold_5_dms.index)\n",
    "# how many mutations does each sequence contain?\n",
    "list_mut_count_in_progress_fold_5 = []\n",
    "for i in range(len(fold_5_dms['mutant'])):\n",
    "    list_mut_count_in_progress_fold_5.append(fold_5_dms['mutant'].iloc[i].count(':'))\n",
    "list_mut_count_prae_fold_5 = np.array(list_mut_count_in_progress_fold_5)\n",
    "list_mut_count_fold_5 = (list_mut_count_prae_fold_5 + 1)\n",
    "df_mutation_counts_fold_5 = pd.DataFrame(list_mut_count_fold_5)\n",
    "print(df_mutation_counts_fold_5.index)\n",
    "working_dataframe_fold_5_try = pd.concat([fold_5_dms, df_mutation_counts_fold_5], axis=1)\n",
    "#more convenient df\n",
    "working_dataframe_fold_5 = pd.concat([fold_5_dms, df_mutation_counts_fold_5[0]], axis=1)\n",
    "columns_to_drop = ['mutant', 'mutated_sequence', 'DMS_score_bin']\n",
    "working_dataframe_fold_5.drop(columns_to_drop, axis=1)\n",
    "working_dataframe_fold_5.rename(columns={0: 'mut_count'}, inplace=True)\n",
    "count_fscore_frame_fold_5 = working_dataframe_fold_5[['DMS_score', 'mut_count']]\n",
    "count_fscore_frame_fold_5.head()\n",
    "#generating list that contains all possible mutations\n",
    "import re\n",
    "\n",
    "mutation_columns_fold_5 = [col for col in working_dataframe_fold_5.columns if re.match(r'^m\\d+$', col)]\n",
    "working_dataframe_only_ms_fold_5 = working_dataframe_fold_5.loc[:, mutation_columns_fold_5]\n",
    "stacked_columns_fold_5 = working_dataframe_only_ms_fold_5.stack().tolist()\n",
    "all_possible_mutations_fold_5 = list(set(stacked_columns_fold_5))\n",
    "if 'None' in all_possible_mutations_fold_5:\n",
    "    all_possible_mutations_fold_5.remove('None')\n",
    "\n",
    "#dataframe which mutants contain the mutation\n",
    "list_of_dfs_fold_5 = []\n",
    "\n",
    "# For-Loop zum Erstellen und Hinzufügen eines neuen Columns in jedem Durchlauf\n",
    "for i in all_possible_mutations_fold_5:\n",
    "    new_column_name_fold_5 = f'{i}'\n",
    "    new_column_values_fold_5 = [fold_5_dms[\"mutant\"].str.contains(i, regex=False)]\n",
    "    new_df_fold_5 = pd.DataFrame({new_column_name_fold_5: new_column_values_fold_5})\n",
    "    new_df_exploded_fold_5 = new_df_fold_5.explode(new_column_name_fold_5)\n",
    "    list_of_dfs_fold_5.append(new_df_exploded_fold_5)\n",
    "\n",
    "# Verketten der DataFrames in der Liste\n",
    "result_how_often_fold_5 = pd.concat(list_of_dfs_fold_5, axis=1)\n",
    "result_how_often_fold_5 = result_how_often_fold_5.reset_index(drop=True)\n",
    "\n",
    "#Varianz berechnen lassen, mit wie vielen Werten wurde gerechnet\n",
    "\n",
    "for j in range(2, 16):\n",
    "    variance_per_mutant_list_fold_5 = []\n",
    "\n",
    "    for i in all_possible_mutations_fold_5:\n",
    "        mut_count_fscore_fold_5 = count_fscore_frame_fold_5.loc[result_how_often_fold_5[i] == True]\n",
    "        fscore_mut_fold_5 = mut_count_fscore_fold_5['DMS_score'].loc[mut_count_fscore_fold_5['mut_count'] == j]\n",
    "        varianz_mut_fold_5 = fscore_mut_fold_5.var()\n",
    "        variance_per_mutant_list_fold_5.append(varianz_mut_fold_5)\n",
    "\n",
    "    variance_per_mutant_series_fold_5 = pd.Series(variance_per_mutant_list_fold_5, index=all_possible_mutations_fold_5)\n",
    "    variance_per_mutant_df_fold_5 = variance_per_mutant_series_fold_5.to_frame()\n",
    "\n",
    "    #rausfinden wie viele Daten wir jeweils haben zum berechnen\n",
    "    how_many_for_variance_fold_5 = []\n",
    "\n",
    "    for i in all_possible_mutations_fold_5:\n",
    "        mut_count_fscore_fold_5 = count_fscore_frame_fold_5.loc[result_how_often_fold_5[i] == True]\n",
    "        fscore_mut_fold_5 = mut_count_fscore_fold_5['DMS_score'].loc[mut_count_fscore_fold_5['mut_count'] == j]\n",
    "        wie_viel_jeweils_fold_5 = len(fscore_mut_fold_5)\n",
    "        how_many_for_variance_fold_5.append(wie_viel_jeweils_fold_5)\n",
    "\n",
    "    how_many_for_variance_fold_5 = pd.Series(how_many_for_variance_fold_5, index=all_possible_mutations_fold_5)\n",
    "    how_many_for_variance_df_fold_5 = how_many_for_variance_fold_5.to_frame()\n",
    "\n",
    "    how_many_AND_variance_df_fold_5 = pd.concat([how_many_for_variance_df_fold_5, variance_per_mutant_df_fold_5],\n",
    "                                                axis=1)\n",
    "    how_many_AND_variance_df_fold_5.columns = ['Anzahl benutzter Werte', 'Varianz']\n",
    "    how_many_AND_variance_df_fold_5 = how_many_AND_variance_df_fold_5.dropna()\n",
    "#calculating the mean of the variances across all mutation counts for every possible mutation\n",
    "frame_zum_mitteln_variance_fold_5 = pd.DataFrame(index=all_possible_mutations_fold_5)\n",
    "variance_per_mutant_count_list_fold_5 = []\n",
    "\n",
    "# ACHTUNG: es werden nur counts von 2 bis 7 einbezogen weil die mit mehr sowieso \"kaputt\" sind!!!\n",
    "for j in range(2, 8):\n",
    "    variance_per_mutant_list_fold_5 = []\n",
    "\n",
    "    for i in all_possible_mutations_fold_5:\n",
    "        mut_count_fscore_fold_5 = count_fscore_frame_fold_5.loc[result_how_often_fold_5[i] == True]\n",
    "        fscore_mut_fold_5 = mut_count_fscore_fold_5['DMS_score'].loc[mut_count_fscore_fold_5['mut_count'] == j]\n",
    "        varianz_mut_fold_5 = fscore_mut_fold_5.var()  #die varianz je mutation je anzahl\n",
    "        variance_per_mutant_list_fold_5.append(varianz_mut_fold_5)  #liste der Varianzen ALLER Mutationen je anzahl\n",
    "\n",
    "    variance_per_mutant_df = pd.DataFrame(variance_per_mutant_list_fold_5, index=all_possible_mutations_fold_5)\n",
    "    variance_per_mutant_count_list_fold_5.append(variance_per_mutant_df)\n",
    "variance_per_mutant_count_df_fold_5 = pd.concat(variance_per_mutant_count_list_fold_5, axis=1)\n",
    "variance_per_mutant_count_df_fold_5.set_axis(range(2, 8), axis=1, inplace=True)\n",
    "\n",
    "# dataframe mit allen varianzen (Zellen) pro alle mutationen (rows) pro alle counts (columns)\n",
    "mean_variances_per_mutations_fold_5 = pd.DataFrame(variance_per_mutant_count_df_fold_5.mean(axis=1, skipna=True),\n",
    "                                                   columns=['Mean'])\n",
    "\n",
    "how_many_per_mutant_count_list_fold_5 = []\n",
    "\n",
    "for j in range(2, 8):\n",
    "    how_many_for_variance_fold_5 = []\n",
    "\n",
    "    for i in all_possible_mutations_fold_5:\n",
    "        mut_count_fscore_fold_5 = count_fscore_frame_fold_5.loc[result_how_often_fold_5[i] == True]\n",
    "        fscore_mut_fold_5 = mut_count_fscore_fold_5['DMS_score'].loc[mut_count_fscore_fold_5['mut_count'] == j]\n",
    "        wie_viel_jeweils_fold_5 = len(fscore_mut_fold_5)\n",
    "        how_many_for_variance_fold_5.append(wie_viel_jeweils_fold_5)\n",
    "\n",
    "    how_many_per_mutant_df_fold_5 = pd.DataFrame(how_many_for_variance_fold_5, index=all_possible_mutations_fold_5)\n",
    "    how_many_per_mutant_count_list_fold_5.append(how_many_per_mutant_df_fold_5)\n",
    "how_many_per_mutant_count_df_fold_5 = pd.concat(how_many_per_mutant_count_list_fold_5, axis=1)\n",
    "how_many_per_mutant_count_df_fold_5.set_axis(range(2, 8), axis=1, inplace=True)\n",
    "\n",
    "mean_how_many_per_mutations_fold_5 = pd.DataFrame(how_many_per_mutant_count_df_fold_5.mean(axis=1, skipna=True),\n",
    "                                                  columns=['Mean'])\n",
    "#differences between all mutant-fscores WITH and WITHOUT the one specific mutation, takes loong\n",
    "nur_fscore_mut_count_fold_5 = working_dataframe_fold_5.loc[:, [\"DMS_score\", \"mut_count\"]]\n",
    "differences_list_fold_5 = []\n",
    "\n",
    "for i in all_possible_mutations_fold_5:\n",
    "    index_when_mut_present_fold_5 = result_how_often_fold_5.loc[result_how_often_fold_5[i] == True].index\n",
    "\n",
    "    only_rows_with_mut_fold_5 = nur_fscore_mut_count_fold_5[(nur_fscore_mut_count_fold_5['mut_count'] > 2) & (\n",
    "        nur_fscore_mut_count_fold_5.index.isin(index_when_mut_present_fold_5))]\n",
    "\n",
    "    # Calculate the mean of DMS_score for the filtered rows\n",
    "    mean_dms_score_only_mut_fold_5 = only_rows_with_mut_fold_5['DMS_score'].mean()\n",
    "    #-------------\n",
    "    index_when_not_mut_present_fold_5 = result_how_often_fold_5.loc[result_how_often_fold_5[i] == False].index\n",
    "\n",
    "    only_rows_withOUT_mut_fold_5 = working_dataframe_fold_5[(working_dataframe_fold_5['mut_count'] > 2) & (\n",
    "        working_dataframe_fold_5.index.isin(index_when_not_mut_present_fold_5))]\n",
    "\n",
    "    # Calculate the mean of DMS_score for the filtered rows\n",
    "    mean_dms_score_every_but_mut_fold_5 = only_rows_withOUT_mut_fold_5['DMS_score'].mean()\n",
    "    #----------------\n",
    "    difference_means_fold_5 = mean_dms_score_only_mut_fold_5 - mean_dms_score_every_but_mut_fold_5\n",
    "    differences_list_fold_5.append(difference_means_fold_5)\n",
    "\n",
    "all_differences_means_fold_5 = pd.DataFrame({'Difference': differences_list_fold_5},\n",
    "                                            index=all_possible_mutations_fold_5)\n",
    "\n",
    "list_wie_oft_mut_fold_5 = []\n",
    "for j in all_possible_mutations_fold_5:\n",
    "    matching_indexes_fold_5 = result_how_often_fold_5.loc[result_how_often_fold_5[j] == True].index\n",
    "    wie_oft_fold_5 = len(matching_indexes_fold_5)\n",
    "    list_wie_oft_mut_fold_5.append(wie_oft_fold_5)\n",
    "df_wie_oft_muts_insg_fold_5 = pd.DataFrame(list_wie_oft_mut_fold_5, index=all_possible_mutations_fold_5)\n",
    "df_wie_oft_muts_insg_fold_5\n",
    "list_ranking5_fold_5 = []\n",
    "for i in all_possible_mutations_fold_5:\n",
    "    score_ranking5_fold_5 = (all_differences_means_fold_5.loc[i].values[0] * df_wie_oft_muts_insg_fold_5.loc[i].values[\n",
    "        0] * 51714) / np.sum(variance_per_mutant_count_df_fold_5.loc[i].values)\n",
    "    list_ranking5_fold_5.append(score_ranking5_fold_5)\n",
    "ranking5_unsorted_fold_5 = pd.DataFrame(list_ranking5_fold_5, index=all_possible_mutations_fold_5,\n",
    "                                        columns=['ranking5_score_fold_5'])\n",
    "ranking5_fold_5 = ranking5_unsorted_fold_5.sort_values(by='ranking5_score_fold_5', ascending=False)\n",
    "print(ranking5_fold_5)\n",
    "\n"
   ],
   "metadata": {
    "collapsed": false,
    "ExecuteTime": {
     "end_time": "2023-07-03T22:05:46.813321Z",
     "start_time": "2023-07-03T22:00:24.533755Z"
    }
   }
  },
  {
   "cell_type": "markdown",
   "source": [
    "\n",
    "\n",
    "\n",
    "-----spearman´s korrelation----------"
   ],
   "metadata": {
    "collapsed": false
   }
  },
  {
   "cell_type": "code",
   "execution_count": 214,
   "outputs": [
    {
     "name": "stdout",
     "output_type": "stream",
     "text": [
      "Fold 1 vs Fold 2\n",
      "Spearman's correlation coefficient: 0.6484848484848483\n",
      "p-value: 0.04254012768448945\n",
      "\n",
      "Fold 1 vs Fold 3\n",
      "Spearman's correlation coefficient: -0.18787878787878787\n",
      "p-value: 0.603217610029209\n",
      "\n",
      "Fold 1 vs Fold 4\n",
      "Spearman's correlation coefficient: 0.43030303030303024\n",
      "p-value: 0.21449233253280775\n",
      "\n",
      "Fold 1 vs Fold 5\n",
      "Spearman's correlation coefficient: -0.34545454545454546\n",
      "p-value: 0.32822651147136733\n",
      "\n",
      "Fold 2 vs Fold 3\n",
      "Spearman's correlation coefficient: 0.01818181818181818\n",
      "p-value: 0.9602404181286243\n",
      "\n",
      "Fold 2 vs Fold 4\n",
      "Spearman's correlation coefficient: 0.309090909090909\n",
      "p-value: 0.3848412302612835\n",
      "\n",
      "Fold 2 vs Fold 5\n",
      "Spearman's correlation coefficient: -0.2121212121212121\n",
      "p-value: 0.5563057751029299\n",
      "\n",
      "Fold 3 vs Fold 4\n",
      "Spearman's correlation coefficient: -0.5272727272727272\n",
      "p-value: 0.11730806555020223\n",
      "\n",
      "Fold 3 vs Fold 5\n",
      "Spearman's correlation coefficient: -0.18787878787878787\n",
      "p-value: 0.603217610029209\n",
      "\n",
      "Fold 4 vs Fold 5\n",
      "Spearman's correlation coefficient: -0.05454545454545454\n",
      "p-value: 0.8810361811618526\n",
      "\n"
     ]
    },
    {
     "name": "stderr",
     "output_type": "stream",
     "text": [
      "/Users/liza/anaconda3/envs/DMSproject/lib/python3.10/site-packages/scipy/stats/_stats_py.py:112: RuntimeWarning: The input array could not be properly checked for nan values. nan values will be ignored.\n",
      "  warnings.warn(\"The input array could not be properly \"\n"
     ]
    }
   ],
   "source": [
    "from scipy.stats import spearmanr\n",
    "from itertools import combinations\n",
    "\n",
    "desired_length = 10\n",
    "\n",
    "rankings = [ranking5_fold_1, ranking5_fold_2, ranking5_fold_3, ranking5_fold_4, ranking5_fold_5]\n",
    "\n",
    "def calculate_spearman_correlation(rank1, rank2):\n",
    "    # Convert DataFrame indexes to lists\n",
    "    rank1 = rank1.index.tolist()\n",
    "    rank2 = rank2.index.tolist()\n",
    "\n",
    "    # Calculate Spearman's correlation coefficient\n",
    "    correlation, p_value = spearmanr(rank1, rank2)\n",
    "\n",
    "    return correlation, p_value\n",
    "\n",
    "# Store the results in a list of dictionaries\n",
    "results = []\n",
    "fold_numbers = list(range(1, len(rankings) + 1))\n",
    "\n",
    "# Calculate Spearman's correlation for every combination of rankings\n",
    "for combo in combinations(enumerate(rankings, 1), 2):\n",
    "    fold1_num, fold1_rank = combo[0]\n",
    "    fold2_num, fold2_rank = combo[1]\n",
    "\n",
    "    fold1_truncated = fold1_rank.head(desired_length)\n",
    "    fold2_truncated = fold2_rank.head(desired_length)\n",
    "\n",
    "    correlation, p_value = calculate_spearman_correlation(fold1_truncated, fold2_truncated)\n",
    "\n",
    "    result = {\n",
    "        'Fold1': fold1_num,\n",
    "        'Fold2': fold2_num,\n",
    "        'Correlation': correlation,\n",
    "        'P-value': p_value\n",
    "    }\n",
    "    results.append(result)\n",
    "\n",
    "# Print the results\n",
    "for result in results:\n",
    "    print(\"Fold\", result['Fold1'], \"vs Fold\", result['Fold2'])\n",
    "    print(\"Spearman's correlation coefficient:\", result['Correlation'])\n",
    "    print(\"p-value:\", result['P-value'])\n",
    "    print()\n"
   ],
   "metadata": {
    "collapsed": false,
    "ExecuteTime": {
     "end_time": "2023-07-04T08:46:40.460053Z",
     "start_time": "2023-07-04T08:46:40.064969Z"
    }
   }
  },
  {
   "cell_type": "markdown",
   "source": [
    "\n",
    "--------Kendall´s tau-b correlation"
   ],
   "metadata": {
    "collapsed": false
   }
  },
  {
   "cell_type": "code",
   "execution_count": 236,
   "outputs": [
    {
     "name": "stdout",
     "output_type": "stream",
     "text": [
      "Fold 1 vs Fold 2\n",
      "Kendall's correlation coefficient: 0.5111111111111111\n",
      "p-value: 0.04662257495590829\n",
      "\n",
      "Fold 1 vs Fold 3\n",
      "Kendall's correlation coefficient: -0.19999999999999998\n",
      "p-value: 0.4843127204585538\n",
      "\n",
      "Fold 1 vs Fold 4\n",
      "Kendall's correlation coefficient: 0.37777777777777777\n",
      "p-value: 0.1557418430335097\n",
      "\n",
      "Fold 1 vs Fold 5\n",
      "Kendall's correlation coefficient: -0.28888888888888886\n",
      "p-value: 0.2912483465608466\n",
      "\n",
      "Fold 2 vs Fold 3\n",
      "Kendall's correlation coefficient: 0.022222222222222223\n",
      "p-value: 1.0\n",
      "\n",
      "Fold 2 vs Fold 4\n",
      "Kendall's correlation coefficient: 0.24444444444444444\n",
      "p-value: 0.38071979717813054\n",
      "\n",
      "Fold 2 vs Fold 5\n",
      "Kendall's correlation coefficient: -0.15555555555555553\n",
      "p-value: 0.6006536596119929\n",
      "\n",
      "Fold 3 vs Fold 4\n",
      "Kendall's correlation coefficient: -0.37777777777777777\n",
      "p-value: 0.1557418430335097\n",
      "\n",
      "Fold 3 vs Fold 5\n",
      "Kendall's correlation coefficient: -0.06666666666666667\n",
      "p-value: 0.8618005952380953\n",
      "\n",
      "Fold 4 vs Fold 5\n",
      "Kendall's correlation coefficient: -0.022222222222222223\n",
      "p-value: 1.0\n",
      "\n"
     ]
    },
    {
     "name": "stderr",
     "output_type": "stream",
     "text": [
      "/Users/liza/anaconda3/envs/DMSproject/lib/python3.10/site-packages/scipy/stats/_stats_py.py:112: RuntimeWarning: The input array could not be properly checked for nan values. nan values will be ignored.\n",
      "  warnings.warn(\"The input array could not be properly \"\n"
     ]
    }
   ],
   "source": [
    "from scipy.stats import kendalltau\n",
    "from itertools import combinations\n",
    "\n",
    "desired_length = 10\n",
    "rankings = [ranking5_fold_1, ranking5_fold_2, ranking5_fold_3, ranking5_fold_4, ranking5_fold_5]\n",
    "\n",
    "def calculate_kendall_correlation(rank1, rank2):\n",
    "    # Convert DataFrame indexes to lists\n",
    "    rank1 = rank1.index.tolist()\n",
    "    rank2 = rank2.index.tolist()\n",
    "\n",
    "    # Calculate Kendall's correlation coefficient\n",
    "    correlation, p_value = kendalltau(rank1, rank2)\n",
    "\n",
    "    return correlation, p_value\n",
    "\n",
    "# Store the results in a list of dictionaries\n",
    "results = []\n",
    "fold_numbers = list(range(1, len(rankings) + 1))\n",
    "\n",
    "# Calculate Kendall's correlation for every combination of rankings\n",
    "for combo in combinations(enumerate(rankings, 1), 2):\n",
    "    fold1_num, fold1_rank = combo[0]\n",
    "    fold2_num, fold2_rank = combo[1]\n",
    "\n",
    "    fold1_truncated = fold1_rank.head(desired_length)\n",
    "    fold2_truncated = fold2_rank.head(desired_length)\n",
    "\n",
    "    correlation, p_value = calculate_kendall_correlation(fold1_truncated, fold2_truncated)\n",
    "\n",
    "    result = {\n",
    "        'Fold1': fold1_num,\n",
    "        'Fold2': fold2_num,\n",
    "        'Correlation': correlation,\n",
    "        'P-value': p_value\n",
    "    }\n",
    "    results.append(result)\n",
    "\n",
    "# Print the results\n",
    "for result in results:\n",
    "    print(\"Fold\", result['Fold1'], \"vs Fold\", result['Fold2'])\n",
    "    print(\"Kendall's correlation coefficient:\", result['Correlation'])\n",
    "    print(\"p-value:\", result['P-value'])\n",
    "    print()\n"
   ],
   "metadata": {
    "collapsed": false,
    "ExecuteTime": {
     "end_time": "2023-07-04T10:04:14.089859Z",
     "start_time": "2023-07-04T10:04:13.864922Z"
    }
   }
  },
  {
   "cell_type": "markdown",
   "source": [
    "-------------spearman´s footrule distance -----------"
   ],
   "metadata": {
    "collapsed": false
   }
  },
  {
   "cell_type": "code",
   "execution_count": 235,
   "outputs": [
    {
     "name": "stdout",
     "output_type": "stream",
     "text": [
      "Fold 1 vs Fold 2\n",
      "Spearman's footrule distance: 6\n",
      "\n",
      "Fold 1 vs Fold 3\n",
      "Spearman's footrule distance: 9\n",
      "\n",
      "Fold 1 vs Fold 4\n",
      "Spearman's footrule distance: 4\n",
      "\n",
      "Fold 1 vs Fold 5\n",
      "Spearman's footrule distance: 6\n",
      "\n",
      "Fold 2 vs Fold 3\n",
      "Spearman's footrule distance: 4\n",
      "\n",
      "Fold 2 vs Fold 4\n",
      "Spearman's footrule distance: 6\n",
      "\n",
      "Fold 2 vs Fold 5\n",
      "Spearman's footrule distance: 13\n",
      "\n",
      "Fold 3 vs Fold 4\n",
      "Spearman's footrule distance: 15\n",
      "\n",
      "Fold 3 vs Fold 5\n",
      "Spearman's footrule distance: 16\n",
      "\n",
      "Fold 4 vs Fold 5\n",
      "Spearman's footrule distance: 6\n",
      "\n"
     ]
    }
   ],
   "source": [
    "from scipy.stats import spearmanr\n",
    "from itertools import combinations\n",
    "\n",
    "desired_length = 10\n",
    "rankings = [ranking5_fold_1, ranking5_fold_2, ranking5_fold_3, ranking5_fold_4, ranking5_fold_5]\n",
    "\n",
    "def calculate_spearman_distance(rank1, rank2):\n",
    "    # Convert DataFrame indexes to lists\n",
    "    rank1 = rank1.index.tolist()\n",
    "    rank2 = rank2.index.tolist()\n",
    "\n",
    "    distance = 0\n",
    "\n",
    "    # Calculate Spearman's footrule distance for existing values\n",
    "    for value in rank1:\n",
    "        if value in rank2:\n",
    "            distance += abs(rank1.index(value) - rank2.index(value))\n",
    "\n",
    "    return distance\n",
    "\n",
    "# Store the results in a list of dictionaries\n",
    "results = []\n",
    "fold_numbers = list(range(1, len(rankings) + 1))\n",
    "\n",
    "# Calculate Spearman's footrule distance for every combination of rankings\n",
    "for combo in combinations(enumerate(rankings, 1), 2):\n",
    "    fold1_num, fold1_rank = combo[0]\n",
    "    fold2_num, fold2_rank = combo[1]\n",
    "\n",
    "    fold1_truncated = fold1_rank.head(desired_length)\n",
    "    fold2_truncated = fold2_rank.head(desired_length)\n",
    "\n",
    "    distance = calculate_spearman_distance(fold1_truncated, fold2_truncated)\n",
    "\n",
    "    result = {\n",
    "        'Fold1': fold1_num,\n",
    "        'Fold2': fold2_num,\n",
    "        'Distance': distance\n",
    "    }\n",
    "    results.append(result)\n",
    "\n",
    "# Print the results\n",
    "for result in results:\n",
    "    print(\"Fold\", result['Fold1'], \"vs Fold\", result['Fold2'])\n",
    "    print(\"Spearman's footrule distance:\", result['Distance'])\n",
    "    print()\n"
   ],
   "metadata": {
    "collapsed": false,
    "ExecuteTime": {
     "end_time": "2023-07-04T10:03:04.688895Z",
     "start_time": "2023-07-04T10:03:04.399013Z"
    }
   }
  },
  {
   "cell_type": "markdown",
   "source": [
    "-----------goodman´s kruskal´s gamma -------------------"
   ],
   "metadata": {
    "collapsed": false
   }
  },
  {
   "cell_type": "code",
   "execution_count": 234,
   "outputs": [
    {
     "name": "stdout",
     "output_type": "stream",
     "text": [
      "Fold 1 vs Fold 2\n",
      "Goodman's Kruskal's gamma: 0.5111111111111111\n",
      "\n",
      "Fold 1 vs Fold 3\n",
      "Goodman's Kruskal's gamma: -0.2\n",
      "\n",
      "Fold 1 vs Fold 4\n",
      "Goodman's Kruskal's gamma: 0.37777777777777777\n",
      "\n",
      "Fold 1 vs Fold 5\n",
      "Goodman's Kruskal's gamma: -0.28888888888888886\n",
      "\n",
      "Fold 2 vs Fold 3\n",
      "Goodman's Kruskal's gamma: 0.022222222222222223\n",
      "\n",
      "Fold 2 vs Fold 4\n",
      "Goodman's Kruskal's gamma: 0.24444444444444444\n",
      "\n",
      "Fold 2 vs Fold 5\n",
      "Goodman's Kruskal's gamma: -0.15555555555555556\n",
      "\n",
      "Fold 3 vs Fold 4\n",
      "Goodman's Kruskal's gamma: -0.37777777777777777\n",
      "\n",
      "Fold 3 vs Fold 5\n",
      "Goodman's Kruskal's gamma: -0.06666666666666667\n",
      "\n",
      "Fold 4 vs Fold 5\n",
      "Goodman's Kruskal's gamma: -0.022222222222222223\n",
      "\n"
     ]
    }
   ],
   "source": [
    "from scipy.stats import kendalltau\n",
    "from itertools import combinations\n",
    "\n",
    "desired_length = 10\n",
    "rankings = [ranking5_fold_1, ranking5_fold_2, ranking5_fold_3, ranking5_fold_4, ranking5_fold_5]\n",
    "\n",
    "def calculate_gamma(rank1, rank2):\n",
    "    # Convert DataFrame indexes to lists\n",
    "    rank1 = rank1.index.tolist()\n",
    "    rank2 = rank2.index.tolist()\n",
    "\n",
    "    concordant_pairs = 0\n",
    "    discordant_pairs = 0\n",
    "\n",
    "    # Calculate the number of concordant and discordant pairs\n",
    "    for i in range(len(rank1)):\n",
    "        for j in range(i+1, len(rank2)):\n",
    "            if (rank1[i] < rank1[j] and rank2[i] < rank2[j]) or (rank1[i] > rank1[j] and rank2[i] > rank2[j]):\n",
    "                concordant_pairs += 1\n",
    "            elif (rank1[i] < rank1[j] and rank2[i] > rank2[j]) or (rank1[i] > rank1[j] and rank2[i] < rank2[j]):\n",
    "                discordant_pairs += 1\n",
    "\n",
    "    # Calculate Goodman's Kruskal's gamma\n",
    "    gamma = (concordant_pairs - discordant_pairs) / (concordant_pairs + discordant_pairs)\n",
    "\n",
    "    return gamma\n",
    "\n",
    "# Store the results in a list of dictionaries\n",
    "results = []\n",
    "fold_numbers = list(range(1, len(rankings) + 1))\n",
    "\n",
    "# Calculate Goodman's Kruskal's gamma for every combination of rankings\n",
    "for combo in combinations(enumerate(rankings, 1), 2):\n",
    "    fold1_num, fold1_rank = combo[0]\n",
    "    fold2_num, fold2_rank = combo[1]\n",
    "\n",
    "    fold1_truncated = fold1_rank.head(desired_length)\n",
    "    fold2_truncated = fold2_rank.head(desired_length)\n",
    "\n",
    "    gamma = calculate_gamma(fold1_truncated, fold2_truncated)\n",
    "\n",
    "    result = {\n",
    "        'Fold1': fold1_num,\n",
    "        'Fold2': fold2_num,\n",
    "        'Gamma': gamma\n",
    "    }\n",
    "    results.append(result)\n",
    "\n",
    "# Print the results\n",
    "for result in results:\n",
    "    print(\"Fold\", result['Fold1'], \"vs Fold\", result['Fold2'])\n",
    "    print(\"Goodman's Kruskal's gamma:\", result['Gamma'])\n",
    "    print()\n"
   ],
   "metadata": {
    "collapsed": false,
    "ExecuteTime": {
     "end_time": "2023-07-04T10:01:02.814678Z",
     "start_time": "2023-07-04T10:00:58.623967Z"
    }
   }
  },
  {
   "cell_type": "code",
   "execution_count": null,
   "outputs": [],
   "source": [],
   "metadata": {
    "collapsed": false
   }
  }
 ],
 "metadata": {
  "kernelspec": {
   "display_name": "Python 3",
   "language": "python",
   "name": "python3"
  },
  "language_info": {
   "codemirror_mode": {
    "name": "ipython",
    "version": 2
   },
   "file_extension": ".py",
   "mimetype": "text/x-python",
   "name": "python",
   "nbconvert_exporter": "python",
   "pygments_lexer": "ipython2",
   "version": "2.7.6"
  }
 },
 "nbformat": 4,
 "nbformat_minor": 0
}
