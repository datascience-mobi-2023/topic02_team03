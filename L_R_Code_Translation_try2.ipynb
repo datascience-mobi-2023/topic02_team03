{
 "cells": [
  {
   "cell_type": "code",
   "execution_count": 15,
   "outputs": [
    {
     "name": "stdout",
     "output_type": "stream",
     "text": [
      "Requirement already satisfied: rpy2 in /Users/liza/anaconda3/envs/DMSproject/lib/python3.10/site-packages (3.5.12)\r\n",
      "Requirement already satisfied: jinja2 in /Users/liza/anaconda3/envs/DMSproject/lib/python3.10/site-packages (from rpy2) (3.1.2)\r\n",
      "Requirement already satisfied: pytz in /Users/liza/anaconda3/envs/DMSproject/lib/python3.10/site-packages (from rpy2) (2022.7)\r\n",
      "Requirement already satisfied: cffi>=1.10.0 in /Users/liza/anaconda3/envs/DMSproject/lib/python3.10/site-packages (from rpy2) (1.15.1)\r\n",
      "Requirement already satisfied: tzlocal<5.0 in /Users/liza/anaconda3/envs/DMSproject/lib/python3.10/site-packages (from rpy2) (4.3)\r\n",
      "Requirement already satisfied: pycparser in /Users/liza/anaconda3/envs/DMSproject/lib/python3.10/site-packages (from cffi>=1.10.0->rpy2) (2.21)\r\n",
      "Requirement already satisfied: pytz-deprecation-shim in /Users/liza/anaconda3/envs/DMSproject/lib/python3.10/site-packages (from tzlocal<5.0->rpy2) (0.1.0.post0)\r\n",
      "Requirement already satisfied: MarkupSafe>=2.0 in /Users/liza/anaconda3/envs/DMSproject/lib/python3.10/site-packages (from jinja2->rpy2) (2.1.1)\r\n",
      "Requirement already satisfied: tzdata in /Users/liza/anaconda3/envs/DMSproject/lib/python3.10/site-packages (from pytz-deprecation-shim->tzlocal<5.0->rpy2) (2023.3)\r\n",
      "Note: you may need to restart the kernel to use updated packages.\n"
     ]
    }
   ],
   "source": [
    "pip install rpy2"
   ],
   "metadata": {
    "collapsed": false,
    "ExecuteTime": {
     "end_time": "2023-06-14T16:03:45.934144Z",
     "start_time": "2023-06-14T16:03:44.534744Z"
    }
   }
  },
  {
   "cell_type": "code",
   "execution_count": 16,
   "outputs": [
    {
     "ename": "OSError",
     "evalue": "cannot load library '/Library/Frameworks/R.framework/Resources/lib/libR.dylib': dlopen(/Library/Frameworks/R.framework/Resources/lib/libR.dylib, 0x0002): tried: '/Library/Frameworks/R.framework/Resources/lib/libR.dylib' (mach-o file, but is an incompatible architecture (have 'x86_64', need 'arm64')), '/System/Volumes/Preboot/Cryptexes/OS/Library/Frameworks/R.framework/Resources/lib/libR.dylib' (no such file), '/Library/Frameworks/R.framework/Resources/lib/libR.dylib' (mach-o file, but is an incompatible architecture (have 'x86_64', need 'arm64')), '/Library/Frameworks/R.framework/Versions/4.3-x86_64/Resources/lib/libR.dylib' (mach-o file, but is an incompatible architecture (have 'x86_64', need 'arm64')), '/System/Volumes/Preboot/Cryptexes/OS/Library/Frameworks/R.framework/Versions/4.3-x86_64/Resources/lib/libR.dylib' (no such file), '/Library/Frameworks/R.framework/Versions/4.3-x86_64/Resources/lib/libR.dylib' (mach-o file, but is an incompatible architecture (have 'x86_64', need 'arm64'))",
     "output_type": "error",
     "traceback": [
      "\u001B[0;31m---------------------------------------------------------------------------\u001B[0m",
      "\u001B[0;31mOSError\u001B[0m                                   Traceback (most recent call last)",
      "Cell \u001B[0;32mIn[16], line 1\u001B[0m\n\u001B[0;32m----> 1\u001B[0m \u001B[38;5;28;01mimport\u001B[39;00m \u001B[38;5;21;01mrpy2\u001B[39;00m\u001B[38;5;21;01m.\u001B[39;00m\u001B[38;5;21;01mipython\u001B[39;00m\n\u001B[1;32m      2\u001B[0m get_ipython()\u001B[38;5;241m.\u001B[39mrun_line_magic(\u001B[38;5;124m'\u001B[39m\u001B[38;5;124mload_ext\u001B[39m\u001B[38;5;124m'\u001B[39m, \u001B[38;5;124m'\u001B[39m\u001B[38;5;124mrpy2.ipython\u001B[39m\u001B[38;5;124m'\u001B[39m)\n",
      "File \u001B[0;32m~/anaconda3/envs/DMSproject/lib/python3.10/site-packages/rpy2/ipython/__init__.py:1\u001B[0m\n\u001B[0;32m----> 1\u001B[0m \u001B[38;5;28;01mfrom\u001B[39;00m \u001B[38;5;21;01m.\u001B[39;00m \u001B[38;5;28;01mimport\u001B[39;00m rmagic\n\u001B[1;32m      3\u001B[0m load_ipython_extension \u001B[38;5;241m=\u001B[39m rmagic\u001B[38;5;241m.\u001B[39mload_ipython_extension\n",
      "File \u001B[0;32m~/anaconda3/envs/DMSproject/lib/python3.10/site-packages/rpy2/ipython/rmagic.py:54\u001B[0m\n\u001B[1;32m     51\u001B[0m \u001B[38;5;28;01mimport\u001B[39;00m \u001B[38;5;21;01mtextwrap\u001B[39;00m\n\u001B[1;32m     52\u001B[0m \u001B[38;5;28;01mimport\u001B[39;00m \u001B[38;5;21;01mtyping\u001B[39;00m\n\u001B[0;32m---> 54\u001B[0m \u001B[38;5;28;01mimport\u001B[39;00m \u001B[38;5;21;01mrpy2\u001B[39;00m\u001B[38;5;21;01m.\u001B[39;00m\u001B[38;5;21;01mrinterface_lib\u001B[39;00m\u001B[38;5;21;01m.\u001B[39;00m\u001B[38;5;21;01mcallbacks\u001B[39;00m\n\u001B[1;32m     56\u001B[0m \u001B[38;5;28;01mimport\u001B[39;00m \u001B[38;5;21;01mrpy2\u001B[39;00m\u001B[38;5;21;01m.\u001B[39;00m\u001B[38;5;21;01mrinterface\u001B[39;00m \u001B[38;5;28;01mas\u001B[39;00m \u001B[38;5;21;01mri\u001B[39;00m\n\u001B[1;32m     58\u001B[0m \u001B[38;5;28;01mimport\u001B[39;00m \u001B[38;5;21;01mrpy2\u001B[39;00m\u001B[38;5;21;01m.\u001B[39;00m\u001B[38;5;21;01mrinterface_lib\u001B[39;00m\u001B[38;5;21;01m.\u001B[39;00m\u001B[38;5;21;01mopenrlib\u001B[39;00m\n",
      "File \u001B[0;32m~/anaconda3/envs/DMSproject/lib/python3.10/site-packages/rpy2/rinterface_lib/callbacks.py:11\u001B[0m\n\u001B[1;32m      9\u001B[0m \u001B[38;5;28;01mimport\u001B[39;00m \u001B[38;5;21;01mtyping\u001B[39;00m\n\u001B[1;32m     10\u001B[0m \u001B[38;5;28;01mimport\u001B[39;00m \u001B[38;5;21;01mos\u001B[39;00m\n\u001B[0;32m---> 11\u001B[0m \u001B[38;5;28;01mfrom\u001B[39;00m \u001B[38;5;21;01mrpy2\u001B[39;00m\u001B[38;5;21;01m.\u001B[39;00m\u001B[38;5;21;01mrinterface_lib\u001B[39;00m \u001B[38;5;28;01mimport\u001B[39;00m openrlib\n\u001B[1;32m     12\u001B[0m \u001B[38;5;28;01mfrom\u001B[39;00m \u001B[38;5;21;01mrpy2\u001B[39;00m\u001B[38;5;21;01m.\u001B[39;00m\u001B[38;5;21;01mrinterface_lib\u001B[39;00m \u001B[38;5;28;01mimport\u001B[39;00m ffi_proxy\n\u001B[1;32m     13\u001B[0m \u001B[38;5;28;01mfrom\u001B[39;00m \u001B[38;5;21;01mrpy2\u001B[39;00m\u001B[38;5;21;01m.\u001B[39;00m\u001B[38;5;21;01mrinterface_lib\u001B[39;00m \u001B[38;5;28;01mimport\u001B[39;00m conversion\n",
      "File \u001B[0;32m~/anaconda3/envs/DMSproject/lib/python3.10/site-packages/rpy2/rinterface_lib/openrlib.py:58\u001B[0m\n\u001B[1;32m     56\u001B[0m     rlib \u001B[38;5;241m=\u001B[39m _rinterface_cffi\u001B[38;5;241m.\u001B[39mlib\n\u001B[1;32m     57\u001B[0m \u001B[38;5;28;01melse\u001B[39;00m:\n\u001B[0;32m---> 58\u001B[0m     rlib \u001B[38;5;241m=\u001B[39m \u001B[43m_dlopen_rlib\u001B[49m\u001B[43m(\u001B[49m\u001B[43mR_HOME\u001B[49m\u001B[43m)\u001B[49m\n\u001B[1;32m     61\u001B[0m \u001B[38;5;66;03m# R macros and functions\u001B[39;00m\n\u001B[1;32m     62\u001B[0m \u001B[38;5;28;01mdef\u001B[39;00m \u001B[38;5;21m_get_symbol_or_fallback\u001B[39m(symbol: \u001B[38;5;28mstr\u001B[39m, fallback: typing\u001B[38;5;241m.\u001B[39mAny):\n",
      "File \u001B[0;32m~/anaconda3/envs/DMSproject/lib/python3.10/site-packages/rpy2/rinterface_lib/openrlib.py:51\u001B[0m, in \u001B[0;36m_dlopen_rlib\u001B[0;34m(r_home)\u001B[0m\n\u001B[1;32m     49\u001B[0m     \u001B[38;5;28;01mraise\u001B[39;00m \u001B[38;5;167;01mValueError\u001B[39;00m(\u001B[38;5;124m'\u001B[39m\u001B[38;5;124mThe library path cannot be None.\u001B[39m\u001B[38;5;124m'\u001B[39m)\n\u001B[1;32m     50\u001B[0m \u001B[38;5;28;01melse\u001B[39;00m:\n\u001B[0;32m---> 51\u001B[0m     rlib \u001B[38;5;241m=\u001B[39m \u001B[43mffi\u001B[49m\u001B[38;5;241;43m.\u001B[39;49m\u001B[43mdlopen\u001B[49m\u001B[43m(\u001B[49m\u001B[43mlib_path\u001B[49m\u001B[43m)\u001B[49m\n\u001B[1;32m     52\u001B[0m \u001B[38;5;28;01mreturn\u001B[39;00m rlib\n",
      "\u001B[0;31mOSError\u001B[0m: cannot load library '/Library/Frameworks/R.framework/Resources/lib/libR.dylib': dlopen(/Library/Frameworks/R.framework/Resources/lib/libR.dylib, 0x0002): tried: '/Library/Frameworks/R.framework/Resources/lib/libR.dylib' (mach-o file, but is an incompatible architecture (have 'x86_64', need 'arm64')), '/System/Volumes/Preboot/Cryptexes/OS/Library/Frameworks/R.framework/Resources/lib/libR.dylib' (no such file), '/Library/Frameworks/R.framework/Resources/lib/libR.dylib' (mach-o file, but is an incompatible architecture (have 'x86_64', need 'arm64')), '/Library/Frameworks/R.framework/Versions/4.3-x86_64/Resources/lib/libR.dylib' (mach-o file, but is an incompatible architecture (have 'x86_64', need 'arm64')), '/System/Volumes/Preboot/Cryptexes/OS/Library/Frameworks/R.framework/Versions/4.3-x86_64/Resources/lib/libR.dylib' (no such file), '/Library/Frameworks/R.framework/Versions/4.3-x86_64/Resources/lib/libR.dylib' (mach-o file, but is an incompatible architecture (have 'x86_64', need 'arm64'))"
     ]
    }
   ],
   "source": [
    "import rpy2.ipython\n",
    "%load_ext rpy2.ipython"
   ],
   "metadata": {
    "collapsed": false,
    "ExecuteTime": {
     "end_time": "2023-06-14T16:04:13.249290Z",
     "start_time": "2023-06-14T16:04:11.282984Z"
    }
   }
  },
  {
   "cell_type": "code",
   "execution_count": null,
   "outputs": [],
   "source": [],
   "metadata": {
    "collapsed": false
   }
  }
 ],
 "metadata": {
  "kernelspec": {
   "display_name": "Python 3",
   "language": "python",
   "name": "python3"
  },
  "language_info": {
   "codemirror_mode": {
    "name": "ipython",
    "version": 2
   },
   "file_extension": ".py",
   "mimetype": "text/x-python",
   "name": "python",
   "nbconvert_exporter": "python",
   "pygments_lexer": "ipython2",
   "version": "2.7.6"
  }
 },
 "nbformat": 4,
 "nbformat_minor": 0
}
