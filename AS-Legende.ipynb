{
 "cells": [
  {
   "cell_type": "code",
   "execution_count": null,
   "metadata": {
    "collapsed": true
   },
   "outputs": [],
   "source": [
    "#Legende anlegen\n",
    "\n",
    "A = Alanin\n",
    "C = Cystein\n",
    "D = Asparaginsäure\n",
    "E = Glutaminsäure\n",
    "F = Phenylalanin\n",
    "G = Glycin\n",
    "H = Histidin\n",
    "I = Isoleucin\n",
    "K = Lysin\n",
    "L = Leucin\n",
    "M = Methionin\n",
    "N = Asparagin\n",
    "P = Prolin\n",
    "Q = Glutamin\n",
    "R = Arginin\n",
    "S = Serin\n",
    "T = Threonin\n",
    "V = Valin\n",
    "W = Tryptophan\n",
    "Y = Tyrosin"
   ]
  }
 ],
 "metadata": {
  "kernelspec": {
   "display_name": "Python 3",
   "language": "python",
   "name": "python3"
  },
  "language_info": {
   "codemirror_mode": {
    "name": "ipython",
    "version": 2
   },
   "file_extension": ".py",
   "mimetype": "text/x-python",
   "name": "python",
   "nbconvert_exporter": "python",
   "pygments_lexer": "ipython2",
   "version": "2.7.6"
  }
 },
 "nbformat": 4,
 "nbformat_minor": 0
}
