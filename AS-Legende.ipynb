{
 "cells": [
  {
   "cell_type": "code",
   "execution_count": null,
   "outputs": [],
   "source": [
    "#Legende anlegen\n",
    "\n",
    "A = str(\"Alanin\")\n",
    "C = str(\"Cystein\")\n",
    "D = str(\"Asparaginsäure\")\n",
    "E = str(\"Glutaminsäure\")\n",
    "F = str(\"Phenylalanin\")\n",
    "G = str(\"Glycin\")\n",
    "H = str(\"Histidin\")\n",
    "I = str(\"Isoleucin\")\n",
    "K = str(\"Lysin\")\n",
    "L = str(\"Leucin\")\n",
    "M = str(\"Methionin\")\n",
    "N = str(\"Asparagin\")\n",
    "P = str(\"Prolin\")\n",
    "Q = str(\"Glutamin\")\n",
    "R = str(\"Arginin\")\n",
    "S = str(\"Serin\")\n",
    "T = str(\"Threonin\")\n",
    "V = str(\"Valin\")\n",
    "W = str(\"Tryptophan\")\n",
    "Y = str(\"Tyrosin\")"
   ],
   "metadata": {
    "collapsed": false
   }
  }
 ],
 "metadata": {
  "kernelspec": {
   "display_name": "Python 3",
   "language": "python",
   "name": "python3"
  },
  "language_info": {
   "codemirror_mode": {
    "name": "ipython",
    "version": 2
   },
   "file_extension": ".py",
   "mimetype": "text/x-python",
   "name": "python",
   "nbconvert_exporter": "python",
   "pygments_lexer": "ipython2",
   "version": "2.7.6"
  }
 },
 "nbformat": 4,
 "nbformat_minor": 0
}
