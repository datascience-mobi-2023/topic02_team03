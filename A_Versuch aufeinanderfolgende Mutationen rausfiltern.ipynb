{
 "cells": [
  {
   "cell_type": "code",
   "execution_count": 24,
   "metadata": {
    "collapsed": true,
    "ExecuteTime": {
     "end_time": "2023-05-30T19:48:42.097839Z",
     "start_time": "2023-05-30T19:48:41.907884Z"
    }
   },
   "outputs": [
    {
     "name": "stderr",
     "output_type": "stream",
     "text": [
      "/var/folders/tn/1strgsg5455dq9n93kfzv8kh0000gn/T/ipykernel_85334/2323753459.py:10: FutureWarning: In a future version of pandas all arguments of StringMethods.split except for the argument 'pat' will be keyword-only.\n",
      "  df_ind_col[['m1', 'm2', 'm3', 'm4', 'm5', 'm6', 'm7', 'm8', 'm9', 'm10', 'm11','m12','m13','m14','m15']] = df_ind_col['mutant'].str.split(':', 14, expand=True)\n"
     ]
    },
    {
     "data": {
      "text/plain": "                                  mutant  \\\n0  K3R:V55A:Q94R:A110T:D117G:M153K:D216A   \n1                   K3Q:V16A:I167T:L195Q   \n2            K3Q:Y143C:N164D:S205P:A227T   \n3                        K3Q:Y143N:V193A   \n4                                    K3R   \n\n                                    mutated_sequence  DMS_score  \\\n0  MSRGEELFTGVVPILVELDGDVNGHKFSVSGEGEGDATYGKLTLKF...   1.301030   \n1  MSQGEELFTGVVPILAELDGDVNGHKFSVSGEGEGDATYGKLTLKF...   3.137350   \n2  MSQGEELFTGVVPILVELDGDVNGHKFSVSGEGEGDATYGKLTLKF...   1.553913   \n3  MSQGEELFTGVVPILVELDGDVNGHKFSVSGEGEGDATYGKLTLKF...   3.404237   \n4  MSRGEELFTGVVPILVELDGDVNGHKFSVSGEGEGDATYGKLTLKF...   3.738586   \n\n   DMS_score_bin   m1     m2     m3     m4     m5     m6     m7    m8    m9  \\\n0              0  K3R   V55A   Q94R  A110T  D117G  M153K  D216A  None  None   \n1              1  K3Q   V16A  I167T  L195Q   None   None   None  None  None   \n2              0  K3Q  Y143C  N164D  S205P  A227T   None   None  None  None   \n3              1  K3Q  Y143N  V193A   None   None   None   None  None  None   \n4              1  K3R   None   None   None   None   None   None  None  None   \n\n    m10   m11   m12   m13   m14   m15  \n0  None  None  None  None  None  None  \n1  None  None  None  None  None  None  \n2  None  None  None  None  None  None  \n3  None  None  None  None  None  None  \n4  None  None  None  None  None  None  ",
      "text/html": "<div>\n<style scoped>\n    .dataframe tbody tr th:only-of-type {\n        vertical-align: middle;\n    }\n\n    .dataframe tbody tr th {\n        vertical-align: top;\n    }\n\n    .dataframe thead th {\n        text-align: right;\n    }\n</style>\n<table border=\"1\" class=\"dataframe\">\n  <thead>\n    <tr style=\"text-align: right;\">\n      <th></th>\n      <th>mutant</th>\n      <th>mutated_sequence</th>\n      <th>DMS_score</th>\n      <th>DMS_score_bin</th>\n      <th>m1</th>\n      <th>m2</th>\n      <th>m3</th>\n      <th>m4</th>\n      <th>m5</th>\n      <th>m6</th>\n      <th>m7</th>\n      <th>m8</th>\n      <th>m9</th>\n      <th>m10</th>\n      <th>m11</th>\n      <th>m12</th>\n      <th>m13</th>\n      <th>m14</th>\n      <th>m15</th>\n    </tr>\n  </thead>\n  <tbody>\n    <tr>\n      <th>0</th>\n      <td>K3R:V55A:Q94R:A110T:D117G:M153K:D216A</td>\n      <td>MSRGEELFTGVVPILVELDGDVNGHKFSVSGEGEGDATYGKLTLKF...</td>\n      <td>1.301030</td>\n      <td>0</td>\n      <td>K3R</td>\n      <td>V55A</td>\n      <td>Q94R</td>\n      <td>A110T</td>\n      <td>D117G</td>\n      <td>M153K</td>\n      <td>D216A</td>\n      <td>None</td>\n      <td>None</td>\n      <td>None</td>\n      <td>None</td>\n      <td>None</td>\n      <td>None</td>\n      <td>None</td>\n      <td>None</td>\n    </tr>\n    <tr>\n      <th>1</th>\n      <td>K3Q:V16A:I167T:L195Q</td>\n      <td>MSQGEELFTGVVPILAELDGDVNGHKFSVSGEGEGDATYGKLTLKF...</td>\n      <td>3.137350</td>\n      <td>1</td>\n      <td>K3Q</td>\n      <td>V16A</td>\n      <td>I167T</td>\n      <td>L195Q</td>\n      <td>None</td>\n      <td>None</td>\n      <td>None</td>\n      <td>None</td>\n      <td>None</td>\n      <td>None</td>\n      <td>None</td>\n      <td>None</td>\n      <td>None</td>\n      <td>None</td>\n      <td>None</td>\n    </tr>\n    <tr>\n      <th>2</th>\n      <td>K3Q:Y143C:N164D:S205P:A227T</td>\n      <td>MSQGEELFTGVVPILVELDGDVNGHKFSVSGEGEGDATYGKLTLKF...</td>\n      <td>1.553913</td>\n      <td>0</td>\n      <td>K3Q</td>\n      <td>Y143C</td>\n      <td>N164D</td>\n      <td>S205P</td>\n      <td>A227T</td>\n      <td>None</td>\n      <td>None</td>\n      <td>None</td>\n      <td>None</td>\n      <td>None</td>\n      <td>None</td>\n      <td>None</td>\n      <td>None</td>\n      <td>None</td>\n      <td>None</td>\n    </tr>\n    <tr>\n      <th>3</th>\n      <td>K3Q:Y143N:V193A</td>\n      <td>MSQGEELFTGVVPILVELDGDVNGHKFSVSGEGEGDATYGKLTLKF...</td>\n      <td>3.404237</td>\n      <td>1</td>\n      <td>K3Q</td>\n      <td>Y143N</td>\n      <td>V193A</td>\n      <td>None</td>\n      <td>None</td>\n      <td>None</td>\n      <td>None</td>\n      <td>None</td>\n      <td>None</td>\n      <td>None</td>\n      <td>None</td>\n      <td>None</td>\n      <td>None</td>\n      <td>None</td>\n      <td>None</td>\n    </tr>\n    <tr>\n      <th>4</th>\n      <td>K3R</td>\n      <td>MSRGEELFTGVVPILVELDGDVNGHKFSVSGEGEGDATYGKLTLKF...</td>\n      <td>3.738586</td>\n      <td>1</td>\n      <td>K3R</td>\n      <td>None</td>\n      <td>None</td>\n      <td>None</td>\n      <td>None</td>\n      <td>None</td>\n      <td>None</td>\n      <td>None</td>\n      <td>None</td>\n      <td>None</td>\n      <td>None</td>\n      <td>None</td>\n      <td>None</td>\n      <td>None</td>\n      <td>None</td>\n    </tr>\n  </tbody>\n</table>\n</div>"
     },
     "execution_count": 24,
     "metadata": {},
     "output_type": "execute_result"
    }
   ],
   "source": [
    "import pandas as pd\n",
    "import numpy as np\n",
    "\n",
    "# Datensatz einlesen\n",
    "df = pd.read_csv('/Users/tianxinangelama/Documents/Studium/4. FS/DMS/DMS_data/GFP_AEQVI_Sarkisyan_2016.csv')\n",
    "\n",
    "# split into multiple columns, 1 column for every mutation\n",
    "df_ind_col = df\n",
    "\n",
    "df_ind_col[['m1', 'm2', 'm3', 'm4', 'm5', 'm6', 'm7', 'm8', 'm9', 'm10', 'm11','m12','m13','m14','m15']] = df_ind_col['mutant'].str.split(':', 14, expand=True)\n",
    "\n",
    "df_ind_col.head()"
   ]
  },
  {
   "cell_type": "code",
   "execution_count": 25,
   "outputs": [
    {
     "data": {
      "text/plain": "   DMS_score   m1     m2     m3     m4     m5     m6     m7    m8    m9   m10  \\\n0   1.301030  K3R   V55A   Q94R  A110T  D117G  M153K  D216A  None  None  None   \n1   3.137350  K3Q   V16A  I167T  L195Q   None   None   None  None  None  None   \n2   1.553913  K3Q  Y143C  N164D  S205P  A227T   None   None  None  None  None   \n3   3.404237  K3Q  Y143N  V193A   None   None   None   None  None  None  None   \n4   3.738586  K3R   None   None   None   None   None   None  None  None  None   \n\n    m11   m12   m13   m14   m15  \n0  None  None  None  None  None  \n1  None  None  None  None  None  \n2  None  None  None  None  None  \n3  None  None  None  None  None  \n4  None  None  None  None  None  ",
      "text/html": "<div>\n<style scoped>\n    .dataframe tbody tr th:only-of-type {\n        vertical-align: middle;\n    }\n\n    .dataframe tbody tr th {\n        vertical-align: top;\n    }\n\n    .dataframe thead th {\n        text-align: right;\n    }\n</style>\n<table border=\"1\" class=\"dataframe\">\n  <thead>\n    <tr style=\"text-align: right;\">\n      <th></th>\n      <th>DMS_score</th>\n      <th>m1</th>\n      <th>m2</th>\n      <th>m3</th>\n      <th>m4</th>\n      <th>m5</th>\n      <th>m6</th>\n      <th>m7</th>\n      <th>m8</th>\n      <th>m9</th>\n      <th>m10</th>\n      <th>m11</th>\n      <th>m12</th>\n      <th>m13</th>\n      <th>m14</th>\n      <th>m15</th>\n    </tr>\n  </thead>\n  <tbody>\n    <tr>\n      <th>0</th>\n      <td>1.301030</td>\n      <td>K3R</td>\n      <td>V55A</td>\n      <td>Q94R</td>\n      <td>A110T</td>\n      <td>D117G</td>\n      <td>M153K</td>\n      <td>D216A</td>\n      <td>None</td>\n      <td>None</td>\n      <td>None</td>\n      <td>None</td>\n      <td>None</td>\n      <td>None</td>\n      <td>None</td>\n      <td>None</td>\n    </tr>\n    <tr>\n      <th>1</th>\n      <td>3.137350</td>\n      <td>K3Q</td>\n      <td>V16A</td>\n      <td>I167T</td>\n      <td>L195Q</td>\n      <td>None</td>\n      <td>None</td>\n      <td>None</td>\n      <td>None</td>\n      <td>None</td>\n      <td>None</td>\n      <td>None</td>\n      <td>None</td>\n      <td>None</td>\n      <td>None</td>\n      <td>None</td>\n    </tr>\n    <tr>\n      <th>2</th>\n      <td>1.553913</td>\n      <td>K3Q</td>\n      <td>Y143C</td>\n      <td>N164D</td>\n      <td>S205P</td>\n      <td>A227T</td>\n      <td>None</td>\n      <td>None</td>\n      <td>None</td>\n      <td>None</td>\n      <td>None</td>\n      <td>None</td>\n      <td>None</td>\n      <td>None</td>\n      <td>None</td>\n      <td>None</td>\n    </tr>\n    <tr>\n      <th>3</th>\n      <td>3.404237</td>\n      <td>K3Q</td>\n      <td>Y143N</td>\n      <td>V193A</td>\n      <td>None</td>\n      <td>None</td>\n      <td>None</td>\n      <td>None</td>\n      <td>None</td>\n      <td>None</td>\n      <td>None</td>\n      <td>None</td>\n      <td>None</td>\n      <td>None</td>\n      <td>None</td>\n      <td>None</td>\n    </tr>\n    <tr>\n      <th>4</th>\n      <td>3.738586</td>\n      <td>K3R</td>\n      <td>None</td>\n      <td>None</td>\n      <td>None</td>\n      <td>None</td>\n      <td>None</td>\n      <td>None</td>\n      <td>None</td>\n      <td>None</td>\n      <td>None</td>\n      <td>None</td>\n      <td>None</td>\n      <td>None</td>\n      <td>None</td>\n      <td>None</td>\n    </tr>\n  </tbody>\n</table>\n</div>"
     },
     "execution_count": 25,
     "metadata": {},
     "output_type": "execute_result"
    }
   ],
   "source": [
    "# reduce df to fscore, m1 - m15\n",
    "df_only_fscore_mutations = df_ind_col\n",
    "\n",
    "df_only_fscore_mutations = df_only_fscore_mutations.drop(['mutant','mutated_sequence','DMS_score_bin'], axis=1)\n",
    "\n",
    "df_only_fscore_mutations.head()"
   ],
   "metadata": {
    "collapsed": false,
    "ExecuteTime": {
     "end_time": "2023-05-30T19:48:42.112290Z",
     "start_time": "2023-05-30T19:48:42.101901Z"
    }
   }
  },
  {
   "cell_type": "code",
   "execution_count": 26,
   "outputs": [
    {
     "name": "stdout",
     "output_type": "stream",
     "text": [
      "       DMS_score     m1     m2     m3     m4     m5     m6     m7    m8    m9  \\\n",
      "0       1.301030    K3R   V55A   Q94R  A110T  D117G  M153K  D216A  None  None   \n",
      "1       3.137350    K3Q   V16A  I167T  L195Q   None   None   None  None  None   \n",
      "2       1.553913    K3Q  Y143C  N164D  S205P  A227T   None   None  None  None   \n",
      "3       3.404237    K3Q  Y143N  V193A   None   None   None   None  None  None   \n",
      "4       3.738586    K3R   None   None   None   None   None   None  None  None   \n",
      "...          ...    ...    ...    ...    ...    ...    ...    ...   ...   ...   \n",
      "51694   3.865135  D234V  Y237H   None   None   None   None   None  None  None   \n",
      "51696   3.693903  D234G  E235V   None   None   None   None   None  None  None   \n",
      "51697   3.706313  D234G   None   None   None   None   None   None  None  None   \n",
      "51699   3.862731  E235G  L236P   None   None   None   None   None  None  None   \n",
      "51700   3.727375  E235G   None   None   None   None   None   None  None  None   \n",
      "\n",
      "        m10   m11   m12   m13   m14   m15  \n",
      "0      None  None  None  None  None  None  \n",
      "1      None  None  None  None  None  None  \n",
      "2      None  None  None  None  None  None  \n",
      "3      None  None  None  None  None  None  \n",
      "4      None  None  None  None  None  None  \n",
      "...     ...   ...   ...   ...   ...   ...  \n",
      "51694  None  None  None  None  None  None  \n",
      "51696  None  None  None  None  None  None  \n",
      "51697  None  None  None  None  None  None  \n",
      "51699  None  None  None  None  None  None  \n",
      "51700  None  None  None  None  None  None  \n",
      "\n",
      "[51421 rows x 16 columns]\n"
     ]
    }
   ],
   "source": [
    "# only keep mutants with same m1\n",
    "df_without_unique_m1 = df_only_fscore_mutations\n",
    "\n",
    "df_without_unique_m1 = df_without_unique_m1[df_without_unique_m1['m1'].map(df_without_unique_m1['m1'].value_counts()) > 1]\n",
    "\n",
    "df_without_unique_m1.head()\n",
    "print(df_without_unique_m1)"
   ],
   "metadata": {
    "collapsed": false,
    "ExecuteTime": {
     "end_time": "2023-05-30T19:48:42.201365Z",
     "start_time": "2023-05-30T19:48:42.118893Z"
    }
   }
  },
  {
   "cell_type": "code",
   "execution_count": 27,
   "outputs": [
    {
     "name": "stdout",
     "output_type": "stream",
     "text": [
      "       DMS_score     m1     m2     m3     m4     m5     m6     m7    m8    m9  \\\n",
      "0       1.301030    K3R   V55A   Q94R  A110T  D117G  M153K  D216A  None  None   \n",
      "1       3.137350    K3Q   V16A  I167T  L195Q   None   None   None  None  None   \n",
      "2       1.553913    K3Q  Y143C  N164D  S205P  A227T   None   None  None  None   \n",
      "3       3.404237    K3Q  Y143N  V193A   None   None   None   None  None  None   \n",
      "5       3.851893    K3R   A87T  D173G   None   None   None   None  None  None   \n",
      "...          ...    ...    ...    ...    ...    ...    ...    ...   ...   ...   \n",
      "51688   3.577787  M233K  D234G   None   None   None   None   None  None  None   \n",
      "51691   3.744741  D234G  L236P   None   None   None   None   None  None  None   \n",
      "51694   3.865135  D234V  Y237H   None   None   None   None   None  None  None   \n",
      "51696   3.693903  D234G  E235V   None   None   None   None   None  None  None   \n",
      "51699   3.862731  E235G  L236P   None   None   None   None   None  None  None   \n",
      "\n",
      "        m10   m11   m12   m13   m14   m15  \n",
      "0      None  None  None  None  None  None  \n",
      "1      None  None  None  None  None  None  \n",
      "2      None  None  None  None  None  None  \n",
      "3      None  None  None  None  None  None  \n",
      "5      None  None  None  None  None  None  \n",
      "...     ...   ...   ...   ...   ...   ...  \n",
      "51688  None  None  None  None  None  None  \n",
      "51691  None  None  None  None  None  None  \n",
      "51694  None  None  None  None  None  None  \n",
      "51696  None  None  None  None  None  None  \n",
      "51699  None  None  None  None  None  None  \n",
      "\n",
      "[50276 rows x 16 columns]\n"
     ]
    }
   ],
   "source": [
    "# only keep mutants with same m2 (what we actually want: only keep mutants with same m1 and m2)\n",
    "# problem: same m2 but different m1,\n",
    "df_without_unique_m1_m2 = df_without_unique_m1\n",
    "\n",
    "df_without_unique_m1_m2 = df_without_unique_m1_m2[df_without_unique_m1_m2['m2'].map(df_without_unique_m1['m2'].value_counts()) > 1]\n",
    "\n",
    "df_without_unique_m1_m2.head()\n",
    "print(df_without_unique_m1_m2)\n",
    "# wird aufgrund oben genanntes Problem nicht weiter verwendet"
   ],
   "metadata": {
    "collapsed": false,
    "ExecuteTime": {
     "end_time": "2023-05-30T19:48:42.216360Z",
     "start_time": "2023-05-30T19:48:42.152943Z"
    }
   }
  },
  {
   "cell_type": "code",
   "execution_count": 37,
   "outputs": [
    {
     "name": "stdout",
     "output_type": "stream",
     "text": [
      "       DMS_score     m1     m2     m3     m4     m5     m6     m7    m8    m9  \\\n",
      "0       1.301030    K3R   V55A   Q94R  A110T  D117G  M153K  D216A  None  None   \n",
      "1       3.137350    K3Q   V16A  I167T  L195Q   None   None   None  None  None   \n",
      "2       1.553913    K3Q  Y143C  N164D  S205P  A227T   None   None  None  None   \n",
      "3       3.404237    K3Q  Y143N  V193A   None   None   None   None  None  None   \n",
      "4       3.738586    K3R   None   None   None   None   None   None  None  None   \n",
      "...          ...    ...    ...    ...    ...    ...    ...    ...   ...   ...   \n",
      "51694   3.865135  D234V  Y237H   None   None   None   None   None  None  None   \n",
      "51696   3.693903  D234G  E235V   None   None   None   None   None  None  None   \n",
      "51697   3.706313  D234G   None   None   None   None   None   None  None  None   \n",
      "51699   3.862731  E235G  L236P   None   None   None   None   None  None  None   \n",
      "51700   3.727375  E235G   None   None   None   None   None   None  None  None   \n",
      "\n",
      "        m10   m11   m12   m13   m14   m15        m1m2  \n",
      "0      None  None  None  None  None  None     K3RV55A  \n",
      "1      None  None  None  None  None  None     K3QV16A  \n",
      "2      None  None  None  None  None  None    K3QY143C  \n",
      "3      None  None  None  None  None  None    K3QY143N  \n",
      "4      None  None  None  None  None  None     K3RNone  \n",
      "...     ...   ...   ...   ...   ...   ...         ...  \n",
      "51694  None  None  None  None  None  None  D234VY237H  \n",
      "51696  None  None  None  None  None  None  D234GE235V  \n",
      "51697  None  None  None  None  None  None   D234GNone  \n",
      "51699  None  None  None  None  None  None  E235GL236P  \n",
      "51700  None  None  None  None  None  None   E235GNone  \n",
      "\n",
      "[51421 rows x 17 columns]\n"
     ]
    },
    {
     "name": "stderr",
     "output_type": "stream",
     "text": [
      "/var/folders/tn/1strgsg5455dq9n93kfzv8kh0000gn/T/ipykernel_85334/870552319.py:4: SettingWithCopyWarning: \n",
      "A value is trying to be set on a copy of a slice from a DataFrame.\n",
      "Try using .loc[row_indexer,col_indexer] = value instead\n",
      "\n",
      "See the caveats in the documentation: https://pandas.pydata.org/pandas-docs/stable/user_guide/indexing.html#returning-a-view-versus-a-copy\n",
      "  df_merge_m1_m2['m1m2'] = df_merge_m1_m2['m1'].astype(str) + df_merge_m1_m2['m2'].astype(str)\n"
     ]
    }
   ],
   "source": [
    "# merge m1 and m2\n",
    "df_merge_m1_m2 = df_without_unique_m1\n",
    "\n",
    "df_merge_m1_m2['m1m2'] = df_merge_m1_m2['m1'].astype(str) + df_merge_m1_m2['m2'].astype(str)\n",
    "\n",
    "print(df_merge_m1_m2)"
   ],
   "metadata": {
    "collapsed": false,
    "ExecuteTime": {
     "end_time": "2023-05-30T20:09:43.342721Z",
     "start_time": "2023-05-30T20:09:43.333540Z"
    }
   }
  },
  {
   "cell_type": "code",
   "execution_count": 35,
   "outputs": [
    {
     "name": "stdout",
     "output_type": "stream",
     "text": [
      "       DMS_score     m1     m2     m3     m4     m5     m6     m7    m8    m9  \\\n",
      "0       1.301030    K3R   V55A   Q94R  A110T  D117G  M153K  D216A  None  None   \n",
      "5       3.851893    K3R   A87T  D173G   None   None   None   None  None  None   \n",
      "6       3.551648    K3R   A87T  N144S  T225S   None   None   None  None  None   \n",
      "8       3.388889    K3R  D102G  N185D  L195P  H231P  E235K   None  None  None   \n",
      "9       3.499501    K3R  D102G  Y151C  N170D  I229T   None   None  None  None   \n",
      "...          ...    ...    ...    ...    ...    ...    ...    ...   ...   ...   \n",
      "51382   3.668358  K209R  M233V   None   None   None   None   None  None  None   \n",
      "51421   3.320783  N212D  K214R  E222V   None   None   None   None  None  None   \n",
      "51422   3.755231  N212D  K214R  M233V   None   None   None   None  None  None   \n",
      "51575   3.217648  F223S  V224A   None   None   None   None   None  None  None   \n",
      "51577   3.223593  F223S  V224A  E235V   None   None   None   None  None  None   \n",
      "\n",
      "        m10   m11   m12   m13   m14   m15        m1m2  \n",
      "0      None  None  None  None  None  None     K3RV55A  \n",
      "5      None  None  None  None  None  None     K3RA87T  \n",
      "6      None  None  None  None  None  None     K3RA87T  \n",
      "8      None  None  None  None  None  None    K3RD102G  \n",
      "9      None  None  None  None  None  None    K3RD102G  \n",
      "...     ...   ...   ...   ...   ...   ...         ...  \n",
      "51382  None  None  None  None  None  None  K209RM233V  \n",
      "51421  None  None  None  None  None  None  N212DK214R  \n",
      "51422  None  None  None  None  None  None  N212DK214R  \n",
      "51575  None  None  None  None  None  None  F223SV224A  \n",
      "51577  None  None  None  None  None  None  F223SV224A  \n",
      "\n",
      "[18583 rows x 17 columns]\n"
     ]
    }
   ],
   "source": [
    "# keep rows with identical values in 'm1m2'\n",
    "# problem: rows with single mutations deleted; Problem kann aber wahrscheinlich am Ende mit Rückwärtssuche gelöst werden\n",
    "df_identical_m1m2 = df_merge_m1_m2\n",
    "\n",
    "df_identical_m1m2 = df_identical_m1m2[df_identical_m1m2.duplicated(subset=['m1m2'], keep=False)]\n",
    "\n",
    "df_identical_m1m2.head()\n",
    "print(df_identical_m1m2)"
   ],
   "metadata": {
    "collapsed": false,
    "ExecuteTime": {
     "end_time": "2023-05-30T20:09:12.021535Z",
     "start_time": "2023-05-30T20:09:12.012084Z"
    }
   }
  },
  {
   "cell_type": "code",
   "execution_count": 39,
   "outputs": [
    {
     "name": "stdout",
     "output_type": "stream",
     "text": [
      "       DMS_score     m1     m2     m3     m4     m5     m6     m7    m8    m9  \\\n",
      "0       1.301030    K3R   V55A   Q94R  A110T  D117G  M153K  D216A  None  None   \n",
      "5       3.851893    K3R   A87T  D173G   None   None   None   None  None  None   \n",
      "6       3.551648    K3R   A87T  N144S  T225S   None   None   None  None  None   \n",
      "8       3.388889    K3R  D102G  N185D  L195P  H231P  E235K   None  None  None   \n",
      "9       3.499501    K3R  D102G  Y151C  N170D  I229T   None   None  None  None   \n",
      "...          ...    ...    ...    ...    ...    ...    ...    ...   ...   ...   \n",
      "51382   3.668358  K209R  M233V   None   None   None   None   None  None  None   \n",
      "51421   3.320783  N212D  K214R  E222V   None   None   None   None  None  None   \n",
      "51422   3.755231  N212D  K214R  M233V   None   None   None   None  None  None   \n",
      "51575   3.217648  F223S  V224A   None   None   None   None   None  None  None   \n",
      "51577   3.223593  F223S  V224A  E235V   None   None   None   None  None  None   \n",
      "\n",
      "        m10   m11   m12   m13   m14   m15        m1m2            m1-m3  \n",
      "0      None  None  None  None  None  None     K3RV55A      K3RV55AQ94R  \n",
      "5      None  None  None  None  None  None     K3RA87T     K3RA87TD173G  \n",
      "6      None  None  None  None  None  None     K3RA87T     K3RA87TN144S  \n",
      "8      None  None  None  None  None  None    K3RD102G    K3RD102GN185D  \n",
      "9      None  None  None  None  None  None    K3RD102G    K3RD102GY151C  \n",
      "...     ...   ...   ...   ...   ...   ...         ...              ...  \n",
      "51382  None  None  None  None  None  None  K209RM233V   K209RM233VNone  \n",
      "51421  None  None  None  None  None  None  N212DK214R  N212DK214RE222V  \n",
      "51422  None  None  None  None  None  None  N212DK214R  N212DK214RM233V  \n",
      "51575  None  None  None  None  None  None  F223SV224A   F223SV224ANone  \n",
      "51577  None  None  None  None  None  None  F223SV224A  F223SV224AE235V  \n",
      "\n",
      "[18583 rows x 18 columns]\n"
     ]
    },
    {
     "name": "stderr",
     "output_type": "stream",
     "text": [
      "/var/folders/tn/1strgsg5455dq9n93kfzv8kh0000gn/T/ipykernel_85334/4041949509.py:4: SettingWithCopyWarning: \n",
      "A value is trying to be set on a copy of a slice from a DataFrame.\n",
      "Try using .loc[row_indexer,col_indexer] = value instead\n",
      "\n",
      "See the caveats in the documentation: https://pandas.pydata.org/pandas-docs/stable/user_guide/indexing.html#returning-a-view-versus-a-copy\n",
      "  df_merge_m1_to_m3['m1-m3'] = df_merge_m1_to_m3['m1m2'].astype(str) + df_merge_m1_to_m3['m3'].astype(str)\n"
     ]
    }
   ],
   "source": [
    "# merge m1m2 and m3\n",
    "df_merge_m1_to_m3 = df_identical_m1m2\n",
    "\n",
    "df_merge_m1_to_m3['m1-m3'] = df_merge_m1_to_m3['m1m2'].astype(str) + df_merge_m1_to_m3['m3'].astype(str)\n",
    "\n",
    "print(df_merge_m1_to_m3)"
   ],
   "metadata": {
    "collapsed": false,
    "ExecuteTime": {
     "end_time": "2023-05-31T05:07:17.308705Z",
     "start_time": "2023-05-31T05:07:17.296389Z"
    }
   }
  },
  {
   "cell_type": "code",
   "execution_count": 40,
   "outputs": [
    {
     "name": "stdout",
     "output_type": "stream",
     "text": [
      "       DMS_score     m1     m2     m3     m4     m5     m6     m7     m8  \\\n",
      "469     1.299620    K3R   I14T   L53P   F83C   F84Y  G116S  L125Q  L137M   \n",
      "470     1.717977    K3R   I14T   L53P   V68L   C70R   F83L  H139Q  N159S   \n",
      "486     3.301669    K3R   I47T   E90G  D180G   None   None   None   None   \n",
      "487     3.401673    K3R   I47T   E90G  L195P   None   None   None   None   \n",
      "488     1.301030    K3R   I47T   E90G  N121I  S202G   None   None   None   \n",
      "...          ...    ...    ...    ...    ...    ...    ...    ...    ...   \n",
      "40521   3.598379  D102G  F130L  E142V   None   None   None   None   None   \n",
      "44792   3.766853  D129G  N144D  K162R   None   None   None   None   None   \n",
      "44797   3.621616  D129G  N144D  K162R  Y182H   None   None   None   None   \n",
      "45320   3.431755  K131E  K158R  I171V  D180Y  K209R   None   None   None   \n",
      "45321   3.794298  K131E  K158R  I171V  D173G   None   None   None   None   \n",
      "\n",
      "          m9    m10    m11   m12   m13   m14   m15        m1m2  \\\n",
      "469    V163A  D173G  E235G  None  None  None  None     K3RI14T   \n",
      "470     None   None   None  None  None  None  None     K3RI14T   \n",
      "486     None   None   None  None  None  None  None     K3RI47T   \n",
      "487     None   None   None  None  None  None  None     K3RI47T   \n",
      "488     None   None   None  None  None  None  None     K3RI47T   \n",
      "...      ...    ...    ...   ...   ...   ...   ...         ...   \n",
      "40521   None   None   None  None  None  None  None  D102GF130L   \n",
      "44792   None   None   None  None  None  None  None  D129GN144D   \n",
      "44797   None   None   None  None  None  None  None  D129GN144D   \n",
      "45320   None   None   None  None  None  None  None  K131EK158R   \n",
      "45321   None   None   None  None  None  None  None  K131EK158R   \n",
      "\n",
      "                 m1-m3  \n",
      "469        K3RI14TL53P  \n",
      "470        K3RI14TL53P  \n",
      "486        K3RI47TE90G  \n",
      "487        K3RI47TE90G  \n",
      "488        K3RI47TE90G  \n",
      "...                ...  \n",
      "40521  D102GF130LE142V  \n",
      "44792  D129GN144DK162R  \n",
      "44797  D129GN144DK162R  \n",
      "45320  K131EK158RI171V  \n",
      "45321  K131EK158RI171V  \n",
      "\n",
      "[113 rows x 18 columns]\n"
     ]
    }
   ],
   "source": [
    "# keep rows with identical values in 'm1-m3'\n",
    "# problem: rows with double mutations deleted\n",
    "df_identical_m1_to_m3 = df_merge_m1_to_m3\n",
    "\n",
    "df_identical_m1_to_m3 = df_identical_m1_to_m3[df_identical_m1_to_m3.duplicated(subset=['m1-m3'], keep=False)]\n",
    "\n",
    "df_identical_m1_to_m3.head()\n",
    "print(df_identical_m1_to_m3)"
   ],
   "metadata": {
    "collapsed": false,
    "ExecuteTime": {
     "end_time": "2023-05-31T05:09:45.161165Z",
     "start_time": "2023-05-31T05:09:45.144472Z"
    }
   }
  },
  {
   "cell_type": "code",
   "execution_count": 41,
   "outputs": [
    {
     "name": "stdout",
     "output_type": "stream",
     "text": [
      "       DMS_score     m1     m2     m3     m4     m5     m6     m7     m8  \\\n",
      "469     1.299620    K3R   I14T   L53P   F83C   F84Y  G116S  L125Q  L137M   \n",
      "470     1.717977    K3R   I14T   L53P   V68L   C70R   F83L  H139Q  N159S   \n",
      "486     3.301669    K3R   I47T   E90G  D180G   None   None   None   None   \n",
      "487     3.401673    K3R   I47T   E90G  L195P   None   None   None   None   \n",
      "488     1.301030    K3R   I47T   E90G  N121I  S202G   None   None   None   \n",
      "...          ...    ...    ...    ...    ...    ...    ...    ...    ...   \n",
      "40521   3.598379  D102G  F130L  E142V   None   None   None   None   None   \n",
      "44792   3.766853  D129G  N144D  K162R   None   None   None   None   None   \n",
      "44797   3.621616  D129G  N144D  K162R  Y182H   None   None   None   None   \n",
      "45320   3.431755  K131E  K158R  I171V  D180Y  K209R   None   None   None   \n",
      "45321   3.794298  K131E  K158R  I171V  D173G   None   None   None   None   \n",
      "\n",
      "          m9    m10    m11   m12   m13   m14   m15        m1m2  \\\n",
      "469    V163A  D173G  E235G  None  None  None  None     K3RI14T   \n",
      "470     None   None   None  None  None  None  None     K3RI14T   \n",
      "486     None   None   None  None  None  None  None     K3RI47T   \n",
      "487     None   None   None  None  None  None  None     K3RI47T   \n",
      "488     None   None   None  None  None  None  None     K3RI47T   \n",
      "...      ...    ...    ...   ...   ...   ...   ...         ...   \n",
      "40521   None   None   None  None  None  None  None  D102GF130L   \n",
      "44792   None   None   None  None  None  None  None  D129GN144D   \n",
      "44797   None   None   None  None  None  None  None  D129GN144D   \n",
      "45320   None   None   None  None  None  None  None  K131EK158R   \n",
      "45321   None   None   None  None  None  None  None  K131EK158R   \n",
      "\n",
      "                 m1-m3                 m1-m4  \n",
      "469        K3RI14TL53P       K3RI14TL53PF83C  \n",
      "470        K3RI14TL53P       K3RI14TL53PV68L  \n",
      "486        K3RI47TE90G      K3RI47TE90GD180G  \n",
      "487        K3RI47TE90G      K3RI47TE90GL195P  \n",
      "488        K3RI47TE90G      K3RI47TE90GN121I  \n",
      "...                ...                   ...  \n",
      "40521  D102GF130LE142V   D102GF130LE142VNone  \n",
      "44792  D129GN144DK162R   D129GN144DK162RNone  \n",
      "44797  D129GN144DK162R  D129GN144DK162RY182H  \n",
      "45320  K131EK158RI171V  K131EK158RI171VD180Y  \n",
      "45321  K131EK158RI171V  K131EK158RI171VD173G  \n",
      "\n",
      "[113 rows x 19 columns]\n"
     ]
    },
    {
     "name": "stderr",
     "output_type": "stream",
     "text": [
      "/var/folders/tn/1strgsg5455dq9n93kfzv8kh0000gn/T/ipykernel_85334/2168879410.py:4: SettingWithCopyWarning: \n",
      "A value is trying to be set on a copy of a slice from a DataFrame.\n",
      "Try using .loc[row_indexer,col_indexer] = value instead\n",
      "\n",
      "See the caveats in the documentation: https://pandas.pydata.org/pandas-docs/stable/user_guide/indexing.html#returning-a-view-versus-a-copy\n",
      "  df_merge_m1_to_m4['m1-m4'] = df_merge_m1_to_m4['m1-m3'].astype(str) + df_merge_m1_to_m3['m4'].astype(str)\n"
     ]
    }
   ],
   "source": [
    "# merge 'm1-m3' and m4\n",
    "df_merge_m1_to_m4 = df_identical_m1_to_m3\n",
    "\n",
    "df_merge_m1_to_m4['m1-m4'] = df_merge_m1_to_m4['m1-m3'].astype(str) + df_merge_m1_to_m3['m4'].astype(str)\n",
    "\n",
    "print(df_merge_m1_to_m4)"
   ],
   "metadata": {
    "collapsed": false,
    "ExecuteTime": {
     "end_time": "2023-05-31T05:11:35.842214Z",
     "start_time": "2023-05-31T05:11:35.828978Z"
    }
   }
  },
  {
   "cell_type": "code",
   "execution_count": 42,
   "outputs": [
    {
     "name": "stdout",
     "output_type": "stream",
     "text": [
      "Empty DataFrame\n",
      "Columns: [DMS_score, m1, m2, m3, m4, m5, m6, m7, m8, m9, m10, m11, m12, m13, m14, m15, m1m2, m1-m3, m1-m4]\n",
      "Index: []\n"
     ]
    }
   ],
   "source": [
    "# keep rows with identical values in 'm1-m4'\n",
    "# problem: rows with triple mutations deleted\n",
    "df_identical_m1_to_m4 = df_merge_m1_to_m4\n",
    "\n",
    "df_identical_m1_to_m4 = df_identical_m1_to_m4[df_identical_m1_to_m4.duplicated(subset=['m1-m4'], keep=False)]\n",
    "\n",
    "print(df_identical_m1_to_m4)"
   ],
   "metadata": {
    "collapsed": false,
    "ExecuteTime": {
     "end_time": "2023-05-31T05:13:12.293007Z",
     "start_time": "2023-05-31T05:13:12.283899Z"
    }
   }
  },
  {
   "cell_type": "markdown",
   "source": [
    "Wenn man von der 1. Spalte als 1. Mutation ausgeht, gibt es keine Mutanten mit mehr als 3 sich überlappenden Mutationen!"
   ],
   "metadata": {
    "collapsed": false
   }
  }
 ],
 "metadata": {
  "kernelspec": {
   "display_name": "Python 3",
   "language": "python",
   "name": "python3"
  },
  "language_info": {
   "codemirror_mode": {
    "name": "ipython",
    "version": 2
   },
   "file_extension": ".py",
   "mimetype": "text/x-python",
   "name": "python",
   "nbconvert_exporter": "python",
   "pygments_lexer": "ipython2",
   "version": "2.7.6"
  }
 },
 "nbformat": 4,
 "nbformat_minor": 0
}
