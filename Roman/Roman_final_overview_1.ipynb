{
 "cells": [
  {
   "cell_type": "markdown",
   "source": [
    "Import the GFP dataset:"
   ],
   "metadata": {
    "collapsed": false
   }
  },
  {
   "cell_type": "code",
   "execution_count": null,
   "outputs": [],
   "source": [
    "import numpy as np\n",
    "import pandas as pd\n",
    "import csv\n",
    "with open(r\"C:\\Users\\roman\\Desktop\\DMS_data\\DMS_data\\GFP_AEQVI_Sarkisyan_2016.csv\") as dms_GFP_datei:\n",
    "    dms_GFP_datei_object = csv.reader(dms_GFP_datei, delimiter=',')\n",
    "    print(dms_GFP_datei_object)\n",
    "    for row in dms_GFP_datei_object:\n",
    "        print(row)\n",
    "GFP_dataset = pd.read_csv(r\"C:\\Users\\roman\\Desktop\\DMS_data\\DMS_data\\GFP_AEQVI_Sarkisyan_2016.csv\")\n",
    "print(GFP_dataset)"
   ],
   "metadata": {
    "collapsed": false
   }
  },
  {
   "cell_type": "markdown",
   "source": [
    "Clean the Dataset and create a dataframe to work with:"
   ],
   "metadata": {
    "collapsed": false
   }
  },
  {
   "cell_type": "code",
   "execution_count": 7,
   "outputs": [],
   "source": [
    "new_AA_of_mutation = []\n",
    "for index, row in GFP_dataset.iterrows():\n",
    "    last_character_of_mutation = row[\"mutant\"][-1]\n",
    "    new_AA_of_mutation.append(last_character_of_mutation)\n",
    "new_AA_of_mutation_df = pd.DataFrame(new_AA_of_mutation, columns=[\"New_AS\"])\n",
    "#Last letter in each row\n",
    "\n",
    "number_mutations_in_mutant = GFP_dataset[\"mutant\"].str.count(\":\") + 1\n",
    "number_mutations_singles = number_mutations_in_mutant == 1\n",
    "#True are all the rows (=mutants) that only have 1 mutation\n",
    "\n",
    "single_mutants_only_df = new_AA_of_mutation_df[number_mutations_singles]\n",
    "#This filters all the rows with a \"true\" value from both dataframes and creates a new dataframe while preserving the filtering.\n",
    "\n",
    "dms_score_df = []\n",
    "for index, row in GFP_dataset.iterrows():\n",
    "    dms_score = row[\"DMS_score\"]\n",
    "    dms_score_df.append(dms_score)\n",
    "dms_score_df_alle = pd.DataFrame(dms_score_df, columns=[\"Fitness_Score\"])\n",
    "#Creates a dataframe with all the dms-scores and the according mutant-number (= experiment number).\n",
    "\n",
    "dms_score_filtered = dms_score_df_alle[number_mutations_singles]\n",
    "#Creates a dataframe will the dms-scores of only the single mutants\n",
    "\n",
    "dms_score_filtered_newAS = single_mutants_only_df.join(dms_score_filtered)\n",
    "print(dms_score_filtered_newAS)\n",
    "#Kombiniert und erstellt ein neues Dataframe mit der neuen AS und dem jeweiligen DMS-score\n",
    "import matplotlib.pyplot as plt\n",
    "dot_size = 3\n",
    "dms_score_filtered_newAS.plot(x=\"New_AS\", y=\"Fitness_Score\", kind=\"scatter\", s=dot_size)\n",
    "plt.gcf().set_size_inches(10, 6)\n",
    "plt.title(\"Fitness scores of each single mutation based on the new AS\")\n",
    "threshold = 2.5\n",
    "plt.axhline(threshold, color='red', linestyle='--', label='Threshold')\n",
    "plt.show()\n",
    "#Plot shows all the single mutants (new AA) with the corresponding dms-score. There is a clear cut off at 2.5 visible. Everything underneath is completely unfunctional"
   ],
   "metadata": {
    "collapsed": false
   }
  },
  {
   "cell_type": "code",
   "execution_count": 11,
   "outputs": [
    {
     "ename": "SyntaxError",
     "evalue": "invalid syntax (Roman_final_overview_1_code.py, line 50)",
     "output_type": "error",
     "traceback": [
      "\u001B[1;36m  File \u001B[1;32m~\\Documents\\GitHub\\topic02_team03\\Roman\\Roman_final_overview_1_code.py:50\u001B[1;36m\u001B[0m\n\u001B[1;33m    def plot1\u001B[0m\n\u001B[1;37m             ^\u001B[0m\n\u001B[1;31mSyntaxError\u001B[0m\u001B[1;31m:\u001B[0m invalid syntax\n"
     ]
    },
    {
     "ename": "ImportError",
     "evalue": "cannot import name 'plot1' from 'Roman_final_overview_1_code' (C:\\Users\\roman\\Documents\\GitHub\\topic02_team03\\Roman\\Roman_final_overview_1_code.py)",
     "output_type": "error",
     "traceback": [
      "\u001B[1;31m---------------------------------------------------------------------------\u001B[0m",
      "\u001B[1;31mImportError\u001B[0m                               Traceback (most recent call last)",
      "Cell \u001B[1;32mIn[11], line 3\u001B[0m\n\u001B[0;32m      1\u001B[0m \u001B[38;5;28;01mimport\u001B[39;00m \u001B[38;5;21;01mmatplotlib\u001B[39;00m\u001B[38;5;21;01m.\u001B[39;00m\u001B[38;5;21;01mpyplot\u001B[39;00m \u001B[38;5;28;01mas\u001B[39;00m \u001B[38;5;21;01mplt\u001B[39;00m\n\u001B[0;32m      2\u001B[0m get_ipython()\u001B[38;5;241m.\u001B[39mrun_line_magic(\u001B[38;5;124m'\u001B[39m\u001B[38;5;124mrun\u001B[39m\u001B[38;5;124m'\u001B[39m, \u001B[38;5;124m'\u001B[39m\u001B[38;5;130;01m\\\\\u001B[39;00m\u001B[38;5;124mUsers\u001B[39m\u001B[38;5;130;01m\\\\\u001B[39;00m\u001B[38;5;124mroman\u001B[39m\u001B[38;5;130;01m\\\\\u001B[39;00m\u001B[38;5;124mDocuments\u001B[39m\u001B[38;5;130;01m\\\\\u001B[39;00m\u001B[38;5;124mGitHub\u001B[39m\u001B[38;5;130;01m\\\\\u001B[39;00m\u001B[38;5;124mtopic02_team03\u001B[39m\u001B[38;5;130;01m\\\\\u001B[39;00m\u001B[38;5;124mRoman\u001B[39m\u001B[38;5;130;01m\\\\\u001B[39;00m\u001B[38;5;124mRoman_final_overview_1_code.py\u001B[39m\u001B[38;5;124m'\u001B[39m)\n\u001B[1;32m----> 3\u001B[0m \u001B[38;5;28;01mfrom\u001B[39;00m \u001B[38;5;21;01mRoman_final_overview_1_code\u001B[39;00m \u001B[38;5;28;01mimport\u001B[39;00m plot1\n\u001B[0;32m      4\u001B[0m plt\u001B[38;5;241m.\u001B[39mshow()\n",
      "\u001B[1;31mImportError\u001B[0m: cannot import name 'plot1' from 'Roman_final_overview_1_code' (C:\\Users\\roman\\Documents\\GitHub\\topic02_team03\\Roman\\Roman_final_overview_1_code.py)"
     ]
    }
   ],
   "source": [
    "import matplotlib.pyplot as plt\n",
    "%run \\Users\\roman\\Documents\\GitHub\\topic02_team03\\Roman\\Roman_final_overview_1_code.py\n",
    "from Roman_final_overview_1_code import plot1\n",
    "plt.show()"
   ],
   "metadata": {
    "collapsed": false,
    "ExecuteTime": {
     "end_time": "2023-07-11T19:14:15.890009300Z",
     "start_time": "2023-07-11T19:14:15.805041100Z"
    }
   }
  },
  {
   "cell_type": "code",
   "execution_count": 9,
   "outputs": [],
   "source": [
    "mutations_pos = []\n",
    "for index, row in GFP_dataset.iterrows():\n",
    "    mutations_pos_nummer = row[\"mutant\"][1:-1]\n",
    "    mutations_pos.append(mutations_pos_nummer)\n",
    "mutations_pos_df = pd.DataFrame(mutations_pos, columns=[\"Position\"])\n",
    "#Entfernt erstmal nur das erste und letzte Zeichen\n",
    "number_mutations = GFP_dataset[\"mutant\"].str.count(\":\") + 1\n",
    "number_mutations_singles = number_mutations == 1\n",
    "#True sind alle Zeilen, die nur eine Mutation tragen\n",
    "\n",
    "single_mutants_only_df_pos = mutations_pos_df[number_mutations_singles]\n",
    "#Erstellt ein Dataframe, dass die Positionen innerhalb des Proteins aller Einzelmutanten zeigt\n",
    "\n",
    "mutations_pos_df_mit_scores = single_mutants_only_df_pos.join(dms_score_filtered)\n",
    "#Kombiniert und erstellt Dataframe mit der Position der Mutation und dem jeweiligen DMS-score (zeigt NICHT die neuen AS)\n",
    "new_column = mutations_pos_df_mit_scores[\"Position\"]\n",
    "Roman_1 = dms_score_filtered_newAS.join(new_column)\n",
    "Roman_1 = Roman_1[[\"Position\", \"New_AS\", \"Fitness_Score\"]]"
   ],
   "metadata": {
    "collapsed": false
   }
  },
  {
   "cell_type": "code",
   "execution_count": 14,
   "outputs": [],
   "source": [
    "import numpy as np\n",
    "import matplotlib.pyplot as plt\n",
    "import seaborn as sns\n",
    "from matplotlib.colors import ListedColormap\n",
    "\n",
    "mutation_subsets = np.array_split(Roman_1['Position'].unique(), 4)  # Split into 4 subsets\n",
    "\n",
    "# Create subplots\n",
    "fig, axes = plt.subplots(2, 2, figsize=(12, 10))\n",
    "\n",
    "# Create a custom colormap with the first and last colors from 'cividis'\n",
    "custom_colors = [\"lightgray\", \"blue\"]\n",
    "cmap = sns.color_palette(custom_colors)\n",
    "\n",
    "# Create a shared colorbar with two ticks for the two possibilities\n",
    "cbar_ticks = [0.25, 0.75]\n",
    "cbar_ticklabels = ['Mutation does not exist', 'Mutation exists']\n",
    "\n",
    "\n",
    "# Define a custom sorting function for the y-axis values\n",
    "def position_sort(position):\n",
    "    if position.isdigit():\n",
    "        return int(position)\n",
    "    else:\n",
    "        return position\n",
    "\n",
    "# Iterate over subsets and create heatmaps\n",
    "for i, subset in enumerate(mutation_subsets):\n",
    "    row = i // 2\n",
    "    col = i % 2\n",
    "\n",
    "    # Filter data based on subset\n",
    "    subset_df = Roman_1[Roman_1['Position'].isin(subset)]\n",
    "\n",
    "    # Sort the data by \"Mutation Position\" column in ascending order\n",
    "    subset_df = subset_df.sort_values('Position')\n",
    "\n",
    "    # Create cross-tabulation\n",
    "    cross_tab = pd.crosstab(subset_df['Position'], subset_df['New_AS'])\n",
    "\n",
    "    # Sort the columns alphabetically for better visualization\n",
    "    cross_tab_sorted = cross_tab.reindex(sorted(cross_tab.columns), axis=1)\n",
    "\n",
    "    # Sort the rows based on the custom y-axis sorting function\n",
    "    cross_tab_sorted = cross_tab_sorted.iloc[sorted(range(len(cross_tab_sorted)), key=lambda x: position_sort(cross_tab_sorted.index[x]))]\n",
    "\n",
    "    # Create heatmap in the corresponding subplot\n",
    "    ax = sns.heatmap(cross_tab_sorted, cmap=cmap, annot=False, fmt='d', ax=axes[row, col],\n",
    "                     cbar_kws={'ticks': cbar_ticks, 'drawedges': True}, linewidths=0.5)\n",
    "\n",
    "    axes[row, col].set_xlabel('New Amino Acid')\n",
    "    axes[row, col].set_ylabel('Mutation Position')\n",
    "    axes[row, col].set_title(f'Subset {i+1}')\n",
    "\n",
    "    # Set colorbar tick labels\n",
    "    cbar = ax.collections[0].colorbar\n",
    "    cbar.set_ticklabels(cbar_ticklabels)\n",
    "\n",
    "# Adjust the layout and show the plot\n",
    "plt.tight_layout()\n",
    "plt.show()\n",
    "\n",
    "#A heatmap to see which single mutations are available in the dataset and which are not.\n",
    "#Only focuses on the new amino acid that occurs, not the old one before the mutation."
   ],
   "metadata": {
    "collapsed": false
   }
  },
  {
   "cell_type": "code",
   "execution_count": 15,
   "outputs": [],
   "source": [
    "import matplotlib.pyplot as plt\n",
    "mutations_pos_df_mit_scores.plot(x=\"Position\", y=\"Fitness_Score\", kind=\"scatter\")\n",
    "plt.title(\"Fitness scores of each single mutation based on the position\")\n",
    "#plt.figure(figsize=(100, 6))\n",
    "#Macht das Diagramm auf Größe \"Breite, Höhe\" größer\n",
    "\n",
    "#plt.xticks(rotation=45)  #\n",
    "##Rotate the x-axis labels by 45 degrees\n",
    "\n",
    "plt.xticks(rotation='vertical')\n",
    "# Rotate the x-axis labels vertically\n",
    "plt.gcf().set_size_inches(60, 25)\n",
    "#Increase the width to 10 inches and height to 6 inches\n",
    "\n",
    "a_threshold = 2.5\n",
    "plt.axhline(threshold, color='red', linestyle='--', label='Threshold')\n",
    "a_threshold_65 = 62\n",
    "plt.axvline(a_threshold_65, color='red', linestyle='--', label='Threshold_65')\n",
    "a_threshold_67 = 64\n",
    "plt.axvline(a_threshold_67, color='red', linestyle='--', label='Threshold_67')\n",
    "#Positionen 65-67 gehören zum Chromophor\n",
    "#Interessant ist hier, dass es Mutationen gibt, die trotz Mutation im Chromophor an Position 65 einen guten score haben. Position 66 und 67 jedoch nicht\n",
    "plt.show()\n",
    "\n",
    "#Plot mit single Mutanten basierend auf Position der Mutation.!!!!!!!!!!!!!!!!!!\n",
    "#Plot shows all the single mutations that occured at a specific position (x-axis) against the dms-score (y-axis)"
   ],
   "metadata": {
    "collapsed": false
   }
  },
  {
   "cell_type": "code",
   "execution_count": null,
   "outputs": [],
   "source": [],
   "metadata": {
    "collapsed": false
   }
  }
 ],
 "metadata": {
  "kernelspec": {
   "display_name": "Python 3",
   "language": "python",
   "name": "python3"
  },
  "language_info": {
   "codemirror_mode": {
    "name": "ipython",
    "version": 2
   },
   "file_extension": ".py",
   "mimetype": "text/x-python",
   "name": "python",
   "nbconvert_exporter": "python",
   "pygments_lexer": "ipython2",
   "version": "2.7.6"
  }
 },
 "nbformat": 4,
 "nbformat_minor": 0
}
