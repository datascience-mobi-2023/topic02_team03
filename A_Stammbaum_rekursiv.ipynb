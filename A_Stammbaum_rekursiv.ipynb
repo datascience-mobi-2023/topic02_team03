{
 "cells": [
  {
   "cell_type": "markdown",
   "source": [
    "Rekursive Funktion, Funktion die sich selbst wieder aufruft\n",
    "\n",
    "am Anfang nur Liste mit Mutationen, die in Mutanten mit mind. 6/7/8/9/10/11 Mutationen✅\n",
    "\n",
    "do … (neues df erstellen)✅\n",
    "\tif … (Mutation kommt mind. 2x vor)✅\n",
    "\telse … (stopp)✅\n",
    "\n",
    "2 kriterien: abbruch wenn keine optionen mehr, weitersuchen: wenn noch mehr da sind✅\n",
    "An kriterien: def (dataframe, wann abbrechen lassen)\n",
    "\n",
    "Stupide variante\n",
    "\n",
    "- Liste mit allen möglichen Mutationen (all_possible_mutations)\n",
    "eine m davon rauspicken\n",
    "Liste mit allen möglichen Mutationen – die, wo m nicht drin ist\n",
    "eine m zusätzlich rauspicken\n",
    "immer wieder machen"
   ],
   "metadata": {
    "collapsed": false
   }
  },
  {
   "cell_type": "code",
   "execution_count": 69,
   "outputs": [
    {
     "name": "stderr",
     "output_type": "stream",
     "text": [
      "/var/folders/tn/1strgsg5455dq9n93kfzv8kh0000gn/T/ipykernel_12724/3997050591.py:9: FutureWarning: In a future version of pandas all arguments of StringMethods.split except for the argument 'pat' will be keyword-only.\n",
      "  df_ind_col[['m1', 'm2', 'm3', 'm4', 'm5', 'm6', 'm7', 'm8', 'm9', 'm10', 'm11','m12','m13','m14','m15']] = df_ind_col['mutant'].str.split(':', 14, expand=True)\n"
     ]
    },
    {
     "data": {
      "text/plain": "                                  mutant  \\\n0  K3R:V55A:Q94R:A110T:D117G:M153K:D216A   \n1                   K3Q:V16A:I167T:L195Q   \n2            K3Q:Y143C:N164D:S205P:A227T   \n3                        K3Q:Y143N:V193A   \n4                                    K3R   \n\n                                    mutated_sequence  DMS_score  \\\n0  MSRGEELFTGVVPILVELDGDVNGHKFSVSGEGEGDATYGKLTLKF...   1.301030   \n1  MSQGEELFTGVVPILAELDGDVNGHKFSVSGEGEGDATYGKLTLKF...   3.137350   \n2  MSQGEELFTGVVPILVELDGDVNGHKFSVSGEGEGDATYGKLTLKF...   1.553913   \n3  MSQGEELFTGVVPILVELDGDVNGHKFSVSGEGEGDATYGKLTLKF...   3.404237   \n4  MSRGEELFTGVVPILVELDGDVNGHKFSVSGEGEGDATYGKLTLKF...   3.738586   \n\n   DMS_score_bin   m1     m2     m3     m4     m5     m6     m7    m8    m9  \\\n0              0  K3R   V55A   Q94R  A110T  D117G  M153K  D216A  None  None   \n1              1  K3Q   V16A  I167T  L195Q   None   None   None  None  None   \n2              0  K3Q  Y143C  N164D  S205P  A227T   None   None  None  None   \n3              1  K3Q  Y143N  V193A   None   None   None   None  None  None   \n4              1  K3R   None   None   None   None   None   None  None  None   \n\n    m10   m11   m12   m13   m14   m15  \n0  None  None  None  None  None  None  \n1  None  None  None  None  None  None  \n2  None  None  None  None  None  None  \n3  None  None  None  None  None  None  \n4  None  None  None  None  None  None  ",
      "text/html": "<div>\n<style scoped>\n    .dataframe tbody tr th:only-of-type {\n        vertical-align: middle;\n    }\n\n    .dataframe tbody tr th {\n        vertical-align: top;\n    }\n\n    .dataframe thead th {\n        text-align: right;\n    }\n</style>\n<table border=\"1\" class=\"dataframe\">\n  <thead>\n    <tr style=\"text-align: right;\">\n      <th></th>\n      <th>mutant</th>\n      <th>mutated_sequence</th>\n      <th>DMS_score</th>\n      <th>DMS_score_bin</th>\n      <th>m1</th>\n      <th>m2</th>\n      <th>m3</th>\n      <th>m4</th>\n      <th>m5</th>\n      <th>m6</th>\n      <th>m7</th>\n      <th>m8</th>\n      <th>m9</th>\n      <th>m10</th>\n      <th>m11</th>\n      <th>m12</th>\n      <th>m13</th>\n      <th>m14</th>\n      <th>m15</th>\n    </tr>\n  </thead>\n  <tbody>\n    <tr>\n      <th>0</th>\n      <td>K3R:V55A:Q94R:A110T:D117G:M153K:D216A</td>\n      <td>MSRGEELFTGVVPILVELDGDVNGHKFSVSGEGEGDATYGKLTLKF...</td>\n      <td>1.301030</td>\n      <td>0</td>\n      <td>K3R</td>\n      <td>V55A</td>\n      <td>Q94R</td>\n      <td>A110T</td>\n      <td>D117G</td>\n      <td>M153K</td>\n      <td>D216A</td>\n      <td>None</td>\n      <td>None</td>\n      <td>None</td>\n      <td>None</td>\n      <td>None</td>\n      <td>None</td>\n      <td>None</td>\n      <td>None</td>\n    </tr>\n    <tr>\n      <th>1</th>\n      <td>K3Q:V16A:I167T:L195Q</td>\n      <td>MSQGEELFTGVVPILAELDGDVNGHKFSVSGEGEGDATYGKLTLKF...</td>\n      <td>3.137350</td>\n      <td>1</td>\n      <td>K3Q</td>\n      <td>V16A</td>\n      <td>I167T</td>\n      <td>L195Q</td>\n      <td>None</td>\n      <td>None</td>\n      <td>None</td>\n      <td>None</td>\n      <td>None</td>\n      <td>None</td>\n      <td>None</td>\n      <td>None</td>\n      <td>None</td>\n      <td>None</td>\n      <td>None</td>\n    </tr>\n    <tr>\n      <th>2</th>\n      <td>K3Q:Y143C:N164D:S205P:A227T</td>\n      <td>MSQGEELFTGVVPILVELDGDVNGHKFSVSGEGEGDATYGKLTLKF...</td>\n      <td>1.553913</td>\n      <td>0</td>\n      <td>K3Q</td>\n      <td>Y143C</td>\n      <td>N164D</td>\n      <td>S205P</td>\n      <td>A227T</td>\n      <td>None</td>\n      <td>None</td>\n      <td>None</td>\n      <td>None</td>\n      <td>None</td>\n      <td>None</td>\n      <td>None</td>\n      <td>None</td>\n      <td>None</td>\n      <td>None</td>\n    </tr>\n    <tr>\n      <th>3</th>\n      <td>K3Q:Y143N:V193A</td>\n      <td>MSQGEELFTGVVPILVELDGDVNGHKFSVSGEGEGDATYGKLTLKF...</td>\n      <td>3.404237</td>\n      <td>1</td>\n      <td>K3Q</td>\n      <td>Y143N</td>\n      <td>V193A</td>\n      <td>None</td>\n      <td>None</td>\n      <td>None</td>\n      <td>None</td>\n      <td>None</td>\n      <td>None</td>\n      <td>None</td>\n      <td>None</td>\n      <td>None</td>\n      <td>None</td>\n      <td>None</td>\n      <td>None</td>\n    </tr>\n    <tr>\n      <th>4</th>\n      <td>K3R</td>\n      <td>MSRGEELFTGVVPILVELDGDVNGHKFSVSGEGEGDATYGKLTLKF...</td>\n      <td>3.738586</td>\n      <td>1</td>\n      <td>K3R</td>\n      <td>None</td>\n      <td>None</td>\n      <td>None</td>\n      <td>None</td>\n      <td>None</td>\n      <td>None</td>\n      <td>None</td>\n      <td>None</td>\n      <td>None</td>\n      <td>None</td>\n      <td>None</td>\n      <td>None</td>\n      <td>None</td>\n      <td>None</td>\n    </tr>\n  </tbody>\n</table>\n</div>"
     },
     "execution_count": 69,
     "metadata": {},
     "output_type": "execute_result"
    }
   ],
   "source": [
    "import pandas as pd\n",
    "\n",
    "# Datensatz einlesen\n",
    "df = pd.read_csv('/Users/tianxinangelama/Documents/Studium/4. FS/DMS/DMS_data/GFP_AEQVI_Sarkisyan_2016.csv')\n",
    "\n",
    "# split into multiple columns, 1 column for every mutation\n",
    "df_ind_col = df\n",
    "\n",
    "df_ind_col[['m1', 'm2', 'm3', 'm4', 'm5', 'm6', 'm7', 'm8', 'm9', 'm10', 'm11','m12','m13','m14','m15']] = df_ind_col['mutant'].str.split(':', 14, expand=True)\n",
    "\n",
    "df_ind_col.head()"
   ],
   "metadata": {
    "collapsed": false,
    "ExecuteTime": {
     "end_time": "2023-06-13T11:33:16.821582Z",
     "start_time": "2023-06-13T11:33:16.643945Z"
    }
   }
  },
  {
   "cell_type": "code",
   "execution_count": 70,
   "outputs": [
    {
     "data": {
      "text/plain": "   DMS_score   m1     m2     m3     m4     m5     m6     m7    m8    m9   m10  \\\n0   1.301030  K3R   V55A   Q94R  A110T  D117G  M153K  D216A  None  None  None   \n1   3.137350  K3Q   V16A  I167T  L195Q   None   None   None  None  None  None   \n2   1.553913  K3Q  Y143C  N164D  S205P  A227T   None   None  None  None  None   \n3   3.404237  K3Q  Y143N  V193A   None   None   None   None  None  None  None   \n4   3.738586  K3R   None   None   None   None   None   None  None  None  None   \n\n    m11   m12   m13   m14   m15  \n0  None  None  None  None  None  \n1  None  None  None  None  None  \n2  None  None  None  None  None  \n3  None  None  None  None  None  \n4  None  None  None  None  None  ",
      "text/html": "<div>\n<style scoped>\n    .dataframe tbody tr th:only-of-type {\n        vertical-align: middle;\n    }\n\n    .dataframe tbody tr th {\n        vertical-align: top;\n    }\n\n    .dataframe thead th {\n        text-align: right;\n    }\n</style>\n<table border=\"1\" class=\"dataframe\">\n  <thead>\n    <tr style=\"text-align: right;\">\n      <th></th>\n      <th>DMS_score</th>\n      <th>m1</th>\n      <th>m2</th>\n      <th>m3</th>\n      <th>m4</th>\n      <th>m5</th>\n      <th>m6</th>\n      <th>m7</th>\n      <th>m8</th>\n      <th>m9</th>\n      <th>m10</th>\n      <th>m11</th>\n      <th>m12</th>\n      <th>m13</th>\n      <th>m14</th>\n      <th>m15</th>\n    </tr>\n  </thead>\n  <tbody>\n    <tr>\n      <th>0</th>\n      <td>1.301030</td>\n      <td>K3R</td>\n      <td>V55A</td>\n      <td>Q94R</td>\n      <td>A110T</td>\n      <td>D117G</td>\n      <td>M153K</td>\n      <td>D216A</td>\n      <td>None</td>\n      <td>None</td>\n      <td>None</td>\n      <td>None</td>\n      <td>None</td>\n      <td>None</td>\n      <td>None</td>\n      <td>None</td>\n    </tr>\n    <tr>\n      <th>1</th>\n      <td>3.137350</td>\n      <td>K3Q</td>\n      <td>V16A</td>\n      <td>I167T</td>\n      <td>L195Q</td>\n      <td>None</td>\n      <td>None</td>\n      <td>None</td>\n      <td>None</td>\n      <td>None</td>\n      <td>None</td>\n      <td>None</td>\n      <td>None</td>\n      <td>None</td>\n      <td>None</td>\n      <td>None</td>\n    </tr>\n    <tr>\n      <th>2</th>\n      <td>1.553913</td>\n      <td>K3Q</td>\n      <td>Y143C</td>\n      <td>N164D</td>\n      <td>S205P</td>\n      <td>A227T</td>\n      <td>None</td>\n      <td>None</td>\n      <td>None</td>\n      <td>None</td>\n      <td>None</td>\n      <td>None</td>\n      <td>None</td>\n      <td>None</td>\n      <td>None</td>\n      <td>None</td>\n    </tr>\n    <tr>\n      <th>3</th>\n      <td>3.404237</td>\n      <td>K3Q</td>\n      <td>Y143N</td>\n      <td>V193A</td>\n      <td>None</td>\n      <td>None</td>\n      <td>None</td>\n      <td>None</td>\n      <td>None</td>\n      <td>None</td>\n      <td>None</td>\n      <td>None</td>\n      <td>None</td>\n      <td>None</td>\n      <td>None</td>\n      <td>None</td>\n    </tr>\n    <tr>\n      <th>4</th>\n      <td>3.738586</td>\n      <td>K3R</td>\n      <td>None</td>\n      <td>None</td>\n      <td>None</td>\n      <td>None</td>\n      <td>None</td>\n      <td>None</td>\n      <td>None</td>\n      <td>None</td>\n      <td>None</td>\n      <td>None</td>\n      <td>None</td>\n      <td>None</td>\n      <td>None</td>\n      <td>None</td>\n    </tr>\n  </tbody>\n</table>\n</div>"
     },
     "execution_count": 70,
     "metadata": {},
     "output_type": "execute_result"
    }
   ],
   "source": [
    "# reduce df to fscore, m1 - m15\n",
    "df_only_fscore_mutations = df_ind_col\n",
    "\n",
    "df_only_fscore_mutations = df_only_fscore_mutations.drop(['mutant','mutated_sequence','DMS_score_bin'], axis=1)\n",
    "\n",
    "df_only_fscore_mutations.head()"
   ],
   "metadata": {
    "collapsed": false,
    "ExecuteTime": {
     "end_time": "2023-06-13T11:33:16.838662Z",
     "start_time": "2023-06-13T11:33:16.828594Z"
    }
   }
  },
  {
   "cell_type": "code",
   "execution_count": 71,
   "outputs": [
    {
     "name": "stdout",
     "output_type": "stream",
     "text": [
      "       DMS_score     m1     m2     m3     m4     m5     m6     m7     m8  \\\n",
      "23      1.537177    K3R   D19G   N23D   L42P   Y66C  D102V  Y106N  F165L   \n",
      "34      1.576404    K3N   F27S   K45Q   M78K   Q94L  F114S  I123N  D133G   \n",
      "58      1.623205    K3Q   K41M   V55G  K101R  R122S  H148R  I161T  Q183R   \n",
      "82      1.659432    K3R    E5V   D36E  D103G  T118A  Y145H  I161T  K166E   \n",
      "91      1.683816    K3R    E6G   G31S   E32G   L42Q   T62A   M78L  Y143H   \n",
      "...          ...    ...    ...    ...    ...    ...    ...    ...    ...   \n",
      "37430   1.661367   P89L   E90D   G91R  K113Q  K140R  L178P  H181R  D216E   \n",
      "37500   1.304579   E90V   T97A  G104C  T108A  E111G  L125P  I161T  L178P   \n",
      "37800   1.301031   G91V  T118A  N121D  L125Q  L141M  V150A  M153L  V176A   \n",
      "39789   1.301091  F100S  K131E  L141Q  Q157H  N159D  I188V  D190G  E213D   \n",
      "40176   1.470316  K101R  A110T  F114L  T118A  L125P  D155G  V163A  I188N   \n",
      "\n",
      "          m9    m10    m11    m12    m13   m14   m15  \n",
      "23     Y182C  L195Q   None   None   None  None  None  \n",
      "34     Y143S  E172A  M218L   None   None  None  None  \n",
      "58     T203A  K209R  E222K   None   None  None  None  \n",
      "82     N170S  N212S   None   None   None  None  None  \n",
      "91     H199R  T230S   None   None   None  None  None  \n",
      "...      ...    ...    ...    ...    ...   ...   ...  \n",
      "37430  F223Y  T225S   None   None   None  None  None  \n",
      "37500  S205T  E213V   None   None   None  None  None  \n",
      "37800  L195P  S205T  F223Y   None   None  None  None  \n",
      "39789  R215C  L220M  M233V   None   None  None  None  \n",
      "40176  N198S  Y200N  K209R  K214R  E235G  None  None  \n",
      "\n",
      "[490 rows x 16 columns]\n"
     ]
    }
   ],
   "source": [
    "# df with only mutants >= 10 mutations\n",
    "df_min_10_mutations = df_only_fscore_mutations\n",
    "\n",
    "# Drop rows with empty values in m10\n",
    "df_min_10_mutations = df_min_10_mutations.dropna(subset=['m10'])\n",
    "\n",
    "print(df_min_10_mutations)"
   ],
   "metadata": {
    "collapsed": false,
    "ExecuteTime": {
     "end_time": "2023-06-13T11:33:16.888110Z",
     "start_time": "2023-06-13T11:33:16.839928Z"
    }
   }
  },
  {
   "cell_type": "code",
   "execution_count": 72,
   "outputs": [
    {
     "name": "stdout",
     "output_type": "stream",
     "text": [
      "          m1     m2     m3     m4     m5     m6     m7     m8     m9    m10  \\\n",
      "23       K3R   D19G   N23D   L42P   Y66C  D102V  Y106N  F165L  Y182C  L195Q   \n",
      "34       K3N   F27S   K45Q   M78K   Q94L  F114S  I123N  D133G  Y143S  E172A   \n",
      "58       K3Q   K41M   V55G  K101R  R122S  H148R  I161T  Q183R  T203A  K209R   \n",
      "82       K3R    E5V   D36E  D103G  T118A  Y145H  I161T  K166E  N170S  N212S   \n",
      "91       K3R    E6G   G31S   E32G   L42Q   T62A   M78L  Y143H  H199R  T230S   \n",
      "...      ...    ...    ...    ...    ...    ...    ...    ...    ...    ...   \n",
      "37430   P89L   E90D   G91R  K113Q  K140R  L178P  H181R  D216E  F223Y  T225S   \n",
      "37500   E90V   T97A  G104C  T108A  E111G  L125P  I161T  L178P  S205T  E213V   \n",
      "37800   G91V  T118A  N121D  L125Q  L141M  V150A  M153L  V176A  L195P  S205T   \n",
      "39789  F100S  K131E  L141Q  Q157H  N159D  I188V  D190G  E213D  R215C  L220M   \n",
      "40176  K101R  A110T  F114L  T118A  L125P  D155G  V163A  I188N  N198S  Y200N   \n",
      "\n",
      "         m11    m12    m13   m14   m15  \n",
      "23      None   None   None  None  None  \n",
      "34     M218L   None   None  None  None  \n",
      "58     E222K   None   None  None  None  \n",
      "82      None   None   None  None  None  \n",
      "91      None   None   None  None  None  \n",
      "...      ...    ...    ...   ...   ...  \n",
      "37430   None   None   None  None  None  \n",
      "37500   None   None   None  None  None  \n",
      "37800  F223Y   None   None  None  None  \n",
      "39789  M233V   None   None  None  None  \n",
      "40176  K209R  K214R  E235G  None  None  \n",
      "\n",
      "[490 rows x 15 columns]\n"
     ]
    }
   ],
   "source": [
    "# df_min_10_mutations without fscore\n",
    "df_min_10_mutations_without_fscore = df_min_10_mutations\n",
    "\n",
    "# drop DMS_score\n",
    "df_min_10_mutations_without_fscore = df_min_10_mutations_without_fscore.drop('DMS_score', axis=1)\n",
    "\n",
    "print(df_min_10_mutations_without_fscore)"
   ],
   "metadata": {
    "collapsed": false,
    "ExecuteTime": {
     "end_time": "2023-06-13T11:33:16.899148Z",
     "start_time": "2023-06-13T11:33:16.858826Z"
    }
   }
  },
  {
   "cell_type": "code",
   "execution_count": 73,
   "outputs": [
    {
     "name": "stdout",
     "output_type": "stream",
     "text": [
      "['K3Q', 'P58L', 'L221Q', 'D210N', 'V55A', 'F84Y', 'Y151N', 'S28R', 'V68G', 'N170D', 'V224M', 'Y143D', 'D234V', 'N164H', 'N144S', 'T186S', 'C48R', 'F46V', 'K41N', 'I171F', 'P13S', 'G174C', 'K113R', 'T49I', 'I98F', 'E142V', 'V219A', 'T108A', 'E32G', 'V11L', 'N212I', 'I229F', 'D190Y', 'D234G', 'Y74C', 'N23Y', 'H148P', 'I128N', 'K85Q', 'Q69H', 'A87V', 'D76E', 'N149T', 'E172A', 'H181R', 'H77Y', 'N159Y', 'P13R', 'Q69L', 'G91D', 'Y92S', 'H169Y', 'T9A', 'A179V', 'I123N', 'D190G', 'E34V', 'R96G', 'K126R', 'T62S', 'K166R', 'D129G', 'I123T', 'Y143F', 'K107Q', 'L42V', 'W57C', 'V11A', 'L194V', 'G138V', 'Y145N', 'V176A', 'I171T', 'A37V', 'I14L', 'T203I', 'D133G', 'M153K', 'F46S', 'L220R', 'V11E', 'K209T', 'M233V', 'K113M', 'T230P', 'V11G', 'A154D', 'Y106N', 'L125Q', 'V61M', 'L15R', 'D102Y', 'N164I', 'Y66H', 'N185Y', 'R73L', 'Y200S', 'E6K', 'D173E', 'G174D', 'K107M', 'E213K', 'N159D', 'Y92F', 'P196L', 'D102E', 'A154T', 'P54T', 'A226T', 'D180H', 'F8Y', 'S202T', 'S72G', 'F46T', 'K3M', 'C70R', 'D216H', 'Y106F', 'E90D', 'K126N', 'S28C', 'P192S', 'E5D', 'D210H', 'H231P', 'I167V', 'F100Y', 'K156Q', 'G189S', 'H148Y', 'Q157L', 'Y237N', 'K101G', 'K101R', 'E213D', 'F100L', 'K41M', 'C48S', 'K166E', 'A206S', 'F223I', 'V163E', 'N23S', 'D19A', 'S30P', 'D216N', 'K113Q', 'D210G', 'I136S', 'H231N', 'N198K', 'S72N', 'N135S', 'N170Y', 'F8I', 'V29M', 'V219D', 'G116D', 'Y145F', 'D36H', 'M78S', 'N146Y', 'M88T', 'T50N', 'S175G', 'G160C', 'N170H', 'I161F', 'G160A', 'H139Y', 'K156E', 'R73S', 'F71L', 'N135Y', 'H77L', 'K52Q', 'C48W', 'I171L', 'G104R', 'E111V', 'G33C', 'L207R', 'E213V', 'N121I', 'R96C', 'H139L', 'L18Q', 'L18P', 'N23D', 'G40C', 'E5G', 'F71I', 'F100P', 'G191S', 'D190H', 'F165S', 'V29L', 'K52M', 'I136V', 'E17Q', 'D180N', 'K209I', 'M153T', 'L60H', 'L201Q', 'N164A', 'F114S', 'F99I', 'L64M', 'T38I', 'I123V', 'F100S', 'T186A', 'S208C', 'G116C', 'G138E', 'F223Y', 'T49A', 'E95V', 'K158E', 'K126G', 'A206T', 'G51A', 'P56L', 'N149I', 'L221P', 'T59A', 'K156R', 'K52R', 'T118S', 'N159I', 'N164S', 'A227P', 'L220M', 'Q184R', 'Y92N', 'K209R', 'G4D', 'K140R', 'K214Q', 'H81Y', 'D103N', 'N23G', 'T186I', 'D21G', 'I128V', 'D197N', 'V55M', 'T203P', 'D103G', 'L18R', 'G191C', 'K26E', 'E90K', 'I229N', 'G31R', 'D76N', 'Y151F', 'I161T', 'Y39C', 'K140E', 'S205F', 'I229V', 'M78L', 'L60P', 'F83L', 'L137P', 'M88I', 'I152V', 'Y145C', 'T230A', 'N144D', 'F27I', 'I167N', 'N198H', 'G67A', 'N144I', 'L7P', 'S147C', 'H217Y', 'S202C', 'P54H', 'F84I', 'G33A', 'D129V', 'S72R', 'E6A', 'S147N', 'S175C', 'G127D', 'I188S', 'D129Y', 'K214R', 'N185A', 'T203A', 'D102G', 'E115G', 'V12G', 'D21E', 'H181L', 'I188F', 'L236R', 'H231L', 'V193E', 'D102A', 'E124K', 'P211L', 'V93G', 'A226V', 'Q184H', 'K158M', 'L220Q', 'K131R', 'H169L', 'P89L', 'F71Y', 'E172G', 'G232D', 'G228R', 'V68L', 'K45M', 'S205Y', 'N170I', 'K101M', 'E142G', 'N105K', 'G10E', 'Y39S', 'Y39F', 'G24D', 'K131M', 'Q177H', 'D173V', 'L141Q', 'P211H', 'Y151H', 'G40A', 'G24S', 'E34K', 'P89T', 'Y74F', 'E235K', 'A206P', 'E115V', 'G232S', 'V22I', 'I188V', 'Y200N', 'Q183H', 'V16I', 'N23I', 'W57R', 'V112E', 'L201P', 'A179T', 'R96H', 'G20C', 'Y66N', 'L44P', 'E6D', 'T43S', 'T50S', 'M153V', 'R122C', 'F99Y', 'L195R', 'D155A', 'Y106H', 'H181Q', 'K79N', 'K126E', 'T230S', 'V176E', 'L64P', 'A227T', 'L44Q', 'L64Q', 'R73P', 'I98N', 'K158R', 'N149Y', 'E132V', 'G91S', 'V176M', 'T59S', 'Y200C', 'V112M', 'V68E', 'V16D', 'T225A', 'S86Y', 'Q157R', 'Y145H', 'V150A', 'T97N', 'E235V', 'Q157H', 'K126M', 'Y237S', 'S30T', 'H199N', 'F223L', 'F114C', 'N164Y', 'Y145S', 'N212H', 'G228E', 'V219G', 'Y143N', 'T186P', 'H199L', 'L207P', 'C48G', 'I136N', 'N159K', 'T38S', 'Q69R', 'P13H', 'M153R', 'M218L', 'G91R', 'M218E', 'V12E', 'E111K', 'D197Y', 'F130Y', 'V150F', 'D234A', 'F165Y', 'G127S', 'K209E', 'M153I', 'L178H', 'F99L', 'E17V', 'F84C', 'P13A', 'E90V', 'S208G', 'D76G', 'M78T', 'D155Y', 'G35D', 'D180A', 'F100C', 'N149S', 'N135H', 'A154V', 'E34G', 'D216Y', 'V29G', 'D76A', 'D82G', 'M218K', 'P75H', 'I14F', 'L53Q', 'T50I', 'Q184K', 'L236P', 'Q157P', 'A110V', 'E17K', 'K79Q', 'I229T', 'S86F', 'H217R', 'E95G', 'N135D', 'Y200D', 'V68A', 'V22A', 'D103V', 'G174S', 'F46L', 'P211S', 'R122P', 'M78K', 'Y200H', 'Y143H', 'R73C', 'Q204P', 'G138W', 'T49P', 'L207Q', 'I123F', 'Y74N', 'Y237C', 'W57G', 'F223C', 'S205P', 'S65T', 'Y143L', 'G51C', 'G24C', 'G127V', 'D155N', 'F46Y', 'E6G', 'K101E', 'G160S', 'E17A', 'M88K', 'D36E', 'A227V', 'F114Y', 'F84S', 'N121Y', 'I136F', 'I152F', 'F71S', 'K79E', 'K131E', 'D19E', 'Y39H', 'V163M', 'Y143S', 'V55G', 'Y182H', 'E235G', 'I171N', 'Q204R', 'D102N', 'I167T', 'D155G', 'Q94R', 'Y182N', 'M153L', 'N105T', 'G116S', 'I229P', 'H81R', 'V176L', 'H217P', 'Y74D', 'V93A', 'H217L', 'N164T', 'C70S', 'N149K', 'E132G', 'G40V', 'I47F', 'S86T', 'L220P', 'E124V', 'T62P', 'H148L', 'K140Q', 'K162M', 'F99V', 'D180G', 'N198I', 'M218T', 'M88V', 'N105I', 'L221R', 'D117G', 'G31S', 'N144H', 'D210A', 'I98V', 'L141M', 'E32K', 'I14N', 'V61E', 'G67D', 'E213G', 'T63A', 'Y143C', 'L7Q', 'K3R', 'L137R', 'D129H', 'G40R', 'F84L', 'H25L', 'N135I', 'H81L', 'F27S', 'I171D', 'K156M', 'H148N', 'N185S', 'Y182F', 'G67S', 'F83S', 'K214M', 'L60I', 'S202R', 'L42Q', 'L137Q', 'I98L', 'S175I', 'A37T', 'R168S', 'G138R', 'R122H', 'H231R', 'Q204L', 'T97A', 'C48Y', 'K41E', 'H181P', 'K26R', 'Y74H', 'E222K', 'E132K', 'Q183P', 'P54L', 'I161L', 'V93D', 'G138A', 'K45E', 'G40D', 'D82A', 'M233R', 'F27Y', 'Q69P', 'D197A', 'D216E', 'D197V', 'I161S', 'L195P', 'Q94H', 'F100I', 'D82N', 'K162T', 'D76Y', 'Q177R', 'E124G', 'V11M', 'M78R', 'I98S', 'I188N', 'T230I', 'Y151C', 'I47N', 'Q94P', 'M233L', 'D36G', 'L220V', 'P54S', 'D190E', 'K107E', 'F71V', 'T49S', 'H77R', 'I188T', 'F8L', 'D103A', 'T50P', 'E222G', 'R215C', 'L64R', 'T225S', 'D197G', 'Y74S', 'G40S', 'Q184P', 'Y237H', 'N105S', 'I128F', 'E222A', 'G31D', 'E90G', 'G134S', 'M233I', 'E172D', 'E222V', 'L194R', 'R109H', 'N198Y', 'N212D', 'I128Y', 'T9N', 'I14T', 'T9P', 'G191D', 'L64V', 'L141V', 'Y66F', 'N170S', 'T97P', 'D21N', 'I152T', 'K41Q', 'L141P', 'M233T', 'S65P', 'G51D', 'Y39N', 'K41R', 'Y182C', 'I171V', 'D216G', 'T62A', 'P192H', 'P89A', 'G20A', 'S147G', 'M218V', 'Q177P', 'D173G', 'M78I', 'H81P', 'I128T', 'F114I', 'A87P', 'V22L', 'T63S', 'K26T', 'G232C', 'L178F', 'F223V', 'V193A', 'T203S', 'L178P', 'R168C', 'H181Y', 'V150I', 'H25Y', 'A206D', 'Q183R', 'Y106C', 'N23T', 'Y237F', 'Y92C', 'E34A', 'K107R', 'L53P', 'D190V', 'I188L', 'T59I', 'I161V', 'K85T', 'K45R', 'S175R', 'K156T', 'T97S', 'D155E', 'F83C', 'P13T', 'K41T', 'N146D', 'A227S', 'N159S', 'E5V', 'V150D', 'I161N', 'V61A', 'E111G', 'I152L', 'T118I', 'A179D', 'D21V', 'K158Q', 'P211T', 'C70Y', 'H199Y', 'H169R', 'K214E', 'Q177E', 'G191R', 'G31A', 'V68M', 'V16A', 'Q177L', 'D216V', 'S28G', 'Y66D', 'N121H', 'A87T', 'T9S', 'Y66C', 'F130I', 'V163G', 'Q94L', 'S205A', 'H139R', 'D102V', 'N146I', 'K166M', 'S30A', 'I152N', 'K85R', 'V22E', 'F223S', 'H148R', 'S72C', 'S30Y', 'E32V', 'Q80L', 'I167F', 'D180V', 'D197F', 'H199R', 'K162E', 'K162R', 'G104S', 'N185G', 'D133N', 'E235A', 'K85M', 'K79R', 'I167S', 'G20S', 'F114L', 'D19V', 'T225P', 'K45Q', 'F130L', 'V12A', 'M218I', 'N212S', 'D82V', 'P196S', 'K209N', 'D129N', 'E90A', 'G228V', 'T50A', 'A110T', 'D76V', 'F27L', 'P56T', 'D133E', 'V193M', 'V224A', 'M218R', 'I47V', 'S205T', 'V224E', 'N164D', 'I128A', 'N105Y', 'S65A', 'D19G', 'T38A', 'L15P', 'K113E', 'L42P', 'M78V', 'R109P', 'K3N', 'F46I', 'G51V', 'F165L', 'F83I', 'D36N', 'K52E', 'P192L', 'T43I', 'N185D', 'N198D', 'V29E', 'K26M', 'N121S', 'F165I', 'P187R', 'S202G', 'E95D', 'E95R', 'G104C', 'K107G', 'F99S', 'T43A', 'D210E', 'V93I', 'E6V', 'L125P', 'L201R', 'L15M', 'Q183L', 'E95Q', 'P75S', 'N146S', 'N149D', 'N105H', 'L195Q', 'N23K', 'F27C', 'G160R', 'I136T', 'S208N', 'N185I', 'G134D', 'T97I', 'H25N', 'G91V', 'R168H', 'D129A', 'V163A', 'I98T', 'E172V', 'H231Y', 'R122L', 'L7R', 'M233K', 'F114V', 'V55E', 'D133V', 'Q80R', 'R122S', 'Y200F', 'G35A', 'M88R', 'K85E', 'L137M', 'E32A', 'T118A', 'D155V', 'K126Q', 'I14V', 'K214T', 'S30F', 'L236Q', 'R109C', 'N105D', 'K3E', 'L42R', 'F8S', 'M88L', 'K52T', 'N23H', 'S86P', 'E115K', 'L194Q', 'T9I', 'N170T', 'N198S', 'D210V', 'L194P', 'F130S', 'Y92H', 'E17G', 'A179P', 'V112A', 'I47T', 'S86C', 'Q184L', 'V29A', 'N23V', 'E172K', 'D36V', 'N212Y', None, 'L15Q', 'N121D', 'T62I', 'L7V', 'D117V', 'H25R']\n"
     ]
    }
   ],
   "source": [
    "# list with possible mutations in df_min_10_mutations\n",
    "possible_mutations_in_mutants_with_min_10_mutations = df_min_10_mutations_without_fscore\n",
    "possible_mutations_in_mutants_with_min_10_mutations = possible_mutations_in_mutants_with_min_10_mutations.values.flatten().tolist()\n",
    "possible_mutations_in_mutants_with_min_10_mutations = list(set(possible_mutations_in_mutants_with_min_10_mutations))\n",
    "print(possible_mutations_in_mutants_with_min_10_mutations)"
   ],
   "metadata": {
    "collapsed": false,
    "ExecuteTime": {
     "end_time": "2023-06-13T11:33:16.902619Z",
     "start_time": "2023-06-13T11:33:16.862755Z"
    }
   }
  },
  {
   "cell_type": "code",
   "execution_count": 74,
   "outputs": [
    {
     "name": "stdout",
     "output_type": "stream",
     "text": [
      "       DMS_score    m1    m2    m3     m4     m5     m6     m7     m8     m9  \\\n",
      "3565    1.301030   L7R  S30P  V55A   E95G  K101E  N105Y  T108A  D155G  K156R   \n",
      "3699    1.301065   L7P  V55A  H77R   K85E   V93G  K158M  N185S  I188T  E222G   \n",
      "8908    1.506918  L15P  K41R  V55A   M88T  K113R  F130S  F165S  N185S  I188N   \n",
      "11085   1.353925  D19G  V55A  F84L  K107M  Y143L  D173G  Q177R  D197G  F223S   \n",
      "13199   1.301030  N23Y  K41E  V55A   V68A   F71Y  Y145H  V150A  V163A  I188N   \n",
      "13501   1.361462  N23D  F27S  Y39C   P54T   V55A   Q80L  K101R  N105D  K158E   \n",
      "16081   1.327404  F27S  V29A  D36V   V55A   E90K  D133V  K140E  N159S  K166M   \n",
      "16313   1.488487  F27I  V55A  V68A   Y74C   F83S   V93A  Y151N  V176A  T186A   \n",
      "21737   1.494251  K41Q  K45E  V55A   S72G  N105S  E111G  N149I  D155G  K156R   \n",
      "\n",
      "         m10    m11    m12    m13   m14   m15  \n",
      "3565   S202C  H217L   None   None  None  None  \n",
      "3699   V224A   None   None   None  None  None  \n",
      "8908   L236Q   None   None   None  None  None  \n",
      "11085  H231R   None   None   None  None  None  \n",
      "13199  E235K   None   None   None  None  None  \n",
      "13501  K209R  E235G   None   None  None  None  \n",
      "16081  L194P  S208G   None   None  None  None  \n",
      "16313  E235G   None   None   None  None  None  \n",
      "21737  N170D  K214R  D216G  E222G  None  None  \n",
      "['L7R', 'S30P', 'E95G', 'K101E', 'N105Y', 'T108A', 'D155G', 'K156R', 'S202C', 'H217L', 'L7P', 'V55A', 'H77R', 'K85E', 'V93G', 'K158M', 'N185S', 'I188T', 'E222G', 'V224A', 'L15P', 'K41R', 'V55A', 'M88T', 'K113R', 'F130S', 'F165S', 'N185S', 'I188N', 'L236Q', 'D19G', 'V55A', 'F84L', 'K107M', 'Y143L', 'D173G', 'Q177R', 'D197G', 'F223S', 'H231R', 'N23Y', 'K41E', 'V55A', 'V68A', 'F71Y', 'Y145H', 'V150A', 'V163A', 'I188N', 'E235K', 'N23D', 'F27S', 'Y39C', 'P54T', 'V55A', 'Q80L', 'K101R', 'N105D', 'K158E', 'K209R', 'E235G', 'F27S', 'V29A', 'D36V', 'V55A', 'E90K', 'D133V', 'K140E', 'N159S', 'K166M', 'L194P', 'S208G', 'F27I', 'V55A', 'V68A', 'Y74C', 'F83S', 'V93A', 'Y151N', 'V176A', 'T186A', 'E235G', 'K41Q', 'K45E', 'V55A', 'S72G', 'N105S', 'E111G', 'N149I', 'D155G', 'K156R', 'N170D', 'K214R', 'D216G', 'E222G']\n"
     ]
    }
   ],
   "source": [
    "# mit V55A ausprobieren: alle Zeilen mit V55A in neues df\n",
    "# empty data frame with columns = df_min_10_mutations\n",
    "df_min_10_mutations_loop = pd.DataFrame(columns=df_min_10_mutations.columns)\n",
    "\n",
    "for index, row in df_min_10_mutations.iterrows():\n",
    "    # count specific mutation\n",
    "    count = df_min_10_mutations.values.flatten().tolist().count('V55A')\n",
    "\n",
    "   # check the count of specific mutation\n",
    "    if count > 1:\n",
    "        # add row to new df\n",
    "        df_min_10_mutations_loop = df_min_10_mutations[df_min_10_mutations.apply(lambda row: 'V55A' in row.values, axis=1)]\n",
    "        # Create a list of all possible mutations in the new DataFrame except the specific mutation\n",
    "        possible_mutations = df_min_10_mutations_loop.values.flatten().tolist()\n",
    "        possible_mutations.remove('V55A')\n",
    "        # remove none from list\n",
    "        possible_mutations = [value for value in possible_mutations if value is not None]\n",
    "        # remove fscore from list\n",
    "        possible_mutations = [value for value in possible_mutations if not isinstance(value, (int, float))]\n",
    "\n",
    "    else:\n",
    "        # remain last rows with specific mutation and stop\n",
    "        df_min_10_mutations_loop = df_min_10_mutations[df_min_10_mutations.apply(lambda row: 'V55A' in row.values, axis=1)]\n",
    "        break\n",
    "\n",
    "print(df_min_10_mutations_loop)\n",
    "print(possible_mutations)"
   ],
   "metadata": {
    "collapsed": false,
    "ExecuteTime": {
     "end_time": "2023-06-13T11:33:17.972867Z",
     "start_time": "2023-06-13T11:33:16.891032Z"
    }
   }
  },
  {
   "cell_type": "code",
   "execution_count": 75,
   "outputs": [
    {
     "name": "stdout",
     "output_type": "stream",
     "text": [
      "Filtered DataFrame for H25R:\n",
      "       DMS_score    m1    m2    m3     m4     m5     m6     m7     m8     m9  \\\n",
      "5324    1.301030   F8L  H25R  K45R   V68A   F84S   Y92C  K113E  K131R  M153L   \n",
      "6577    1.301214  V11E  G20A  H25R   F27L   Y92C   V93I  K126E  D129G  Y151H   \n",
      "7861    1.301030  P13S  E17G  D21G   H25R   K26R   D36G  F100L  N105K  N159S   \n",
      "11651   1.457843  D19V  D21G  H25R   D36G   T62P   I98T  K131E  Y143C  I167F   \n",
      "14286   1.302778  H25R  T62A  Y66D  I128T  E142G  Y151H  N198D  S208G  E213G   \n",
      "\n",
      "         m10    m11    m12    m13   m14   m15  \n",
      "5324   I188V   None   None   None  None  None  \n",
      "6577   S175R   None   None   None  None  None  \n",
      "7861   I161T  F165L  D173G  Q204R  None  None  \n",
      "11651  Y200N  N212H  D216N  V224M  None  None  \n",
      "14286  T225A   None   None   None  None  None  \n",
      "['F8L', 'K45R', 'V68A', 'F84S', 'Y92C', 'K113E', 'K131R', 'M153L', 'I188V', 'V11E', 'G20A', 'H25R', 'F27L', 'Y92C', 'V93I', 'K126E', 'D129G', 'Y151H', 'S175R', 'P13S', 'E17G', 'D21G', 'H25R', 'K26R', 'D36G', 'F100L', 'N105K', 'N159S', 'I161T', 'F165L', 'D173G', 'Q204R', 'D19V', 'D21G', 'H25R', 'D36G', 'T62P', 'I98T', 'K131E', 'Y143C', 'I167F', 'Y200N', 'N212H', 'D216N', 'V224M', 'H25R', 'T62A', 'Y66D', 'I128T', 'E142G', 'Y151H', 'N198D', 'S208G', 'E213G', 'T225A']\n"
     ]
    }
   ],
   "source": [
    "# mit allen Mutationen aus possible_mutations_in_mutants_with_min_10_mutations\n",
    "# for all possible_mutations_in_mutants_with_min_10_mutations\n",
    "for mutation in possible_mutations_in_mutants_with_min_10_mutations:\n",
    "    # Create an empty DataFrame with the same columns as df_min_10_mutations\n",
    "    df_min_10_mutations_loop = pd.DataFrame(columns=df_min_10_mutations.columns)\n",
    "\n",
    "    for index, row in df_min_10_mutations.iterrows():\n",
    "        # count specific mutation\n",
    "        count = df_min_10_mutations.values.flatten().tolist().count(mutation)\n",
    "\n",
    "        # check the count of specific mutation\n",
    "        if count > 1:\n",
    "            # add row to new df\n",
    "            df_min_10_mutations_loop = df_min_10_mutations[df_min_10_mutations.apply(lambda row: mutation in row.values, axis=1)]\n",
    "            # Create a list of all possible mutations in the new DataFrame except the specific mutation\n",
    "            possible_mutations = df_min_10_mutations_loop.values.flatten().tolist()\n",
    "            possible_mutations.remove(mutation)\n",
    "            # remove none from list\n",
    "            possible_mutations = [value for value in possible_mutations if value is not None]\n",
    "            # remove fscore from list\n",
    "            possible_mutations = [value for value in possible_mutations if not isinstance(value, (int, float))]\n",
    "\n",
    "        else:\n",
    "            # remain last rows with specific mutation and stop\n",
    "            df_min_10_mutations_loop = df_min_10_mutations[df_min_10_mutations.apply(lambda row: mutation in row.values, axis=1)]\n",
    "            break\n",
    "\n",
    "print(f\"Filtered DataFrame for {mutation}:\")\n",
    "print(df_min_10_mutations_loop)\n",
    "print(possible_mutations)"
   ],
   "metadata": {
    "collapsed": false,
    "ExecuteTime": {
     "end_time": "2023-06-13T12:03:21.005014Z",
     "start_time": "2023-06-13T11:33:18.788521Z"
    }
   }
  }
 ],
 "metadata": {
  "kernelspec": {
   "display_name": "Python 3",
   "language": "python",
   "name": "python3"
  },
  "language_info": {
   "codemirror_mode": {
    "name": "ipython",
    "version": 2
   },
   "file_extension": ".py",
   "mimetype": "text/x-python",
   "name": "python",
   "nbconvert_exporter": "python",
   "pygments_lexer": "ipython2",
   "version": "2.7.6"
  }
 },
 "nbformat": 4,
 "nbformat_minor": 0
}
