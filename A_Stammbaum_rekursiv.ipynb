{
 "cells": [
  {
   "cell_type": "markdown",
   "source": [
    "Rekursive Funktion, Funktion die sich selbst wieder aufruft\n",
    "\n",
    "am Anfang nur Liste mit Mutationen, die in Mutanten mit mind. 6/7/8/9/10/11 Mutationen✅\n",
    "\n",
    "do … (neues df erstellen)\n",
    "\tif … (Mutation kommt mind. 2x vor)\n",
    "\telse … (stopp)\n",
    "\n",
    "2 kriterien: abbruch wenn keine optionen mehr, weitersuchen: wenn noch mehr da sind\n",
    "An kriterien: def (dataframe, wann abbrechen lassen)\n",
    "\n",
    "Stupide variante\n",
    "\n",
    "- Liste mit allen möglichen Mutationen (all_possible_mutations)\n",
    "eine m davon rauspicken\n",
    "Liste mit allen möglichen Mutationen – die, wo m nicht drin ist\n",
    "eine m zusätzlich rauspicken\n",
    "immer wieder machen"
   ],
   "metadata": {
    "collapsed": false
   }
  },
  {
   "cell_type": "code",
   "execution_count": 1,
   "outputs": [
    {
     "name": "stderr",
     "output_type": "stream",
     "text": [
      "/var/folders/tn/1strgsg5455dq9n93kfzv8kh0000gn/T/ipykernel_12724/3620913499.py:9: FutureWarning: In a future version of pandas all arguments of StringMethods.split except for the argument 'pat' will be keyword-only.\n",
      "  df_ind_col[['m1', 'm2', 'm3', 'm4', 'm5', 'm6', 'm7', 'm8', 'm9', 'm10', 'm11','m12','m13','m14','m15']] = df_ind_col['mutant'].str.split(':', 14, expand=True)\n"
     ]
    },
    {
     "data": {
      "text/plain": "                                  mutant  \\\n0  K3R:V55A:Q94R:A110T:D117G:M153K:D216A   \n1                   K3Q:V16A:I167T:L195Q   \n2            K3Q:Y143C:N164D:S205P:A227T   \n3                        K3Q:Y143N:V193A   \n4                                    K3R   \n\n                                    mutated_sequence  DMS_score  \\\n0  MSRGEELFTGVVPILVELDGDVNGHKFSVSGEGEGDATYGKLTLKF...   1.301030   \n1  MSQGEELFTGVVPILAELDGDVNGHKFSVSGEGEGDATYGKLTLKF...   3.137350   \n2  MSQGEELFTGVVPILVELDGDVNGHKFSVSGEGEGDATYGKLTLKF...   1.553913   \n3  MSQGEELFTGVVPILVELDGDVNGHKFSVSGEGEGDATYGKLTLKF...   3.404237   \n4  MSRGEELFTGVVPILVELDGDVNGHKFSVSGEGEGDATYGKLTLKF...   3.738586   \n\n   DMS_score_bin   m1     m2     m3     m4     m5     m6     m7    m8    m9  \\\n0              0  K3R   V55A   Q94R  A110T  D117G  M153K  D216A  None  None   \n1              1  K3Q   V16A  I167T  L195Q   None   None   None  None  None   \n2              0  K3Q  Y143C  N164D  S205P  A227T   None   None  None  None   \n3              1  K3Q  Y143N  V193A   None   None   None   None  None  None   \n4              1  K3R   None   None   None   None   None   None  None  None   \n\n    m10   m11   m12   m13   m14   m15  \n0  None  None  None  None  None  None  \n1  None  None  None  None  None  None  \n2  None  None  None  None  None  None  \n3  None  None  None  None  None  None  \n4  None  None  None  None  None  None  ",
      "text/html": "<div>\n<style scoped>\n    .dataframe tbody tr th:only-of-type {\n        vertical-align: middle;\n    }\n\n    .dataframe tbody tr th {\n        vertical-align: top;\n    }\n\n    .dataframe thead th {\n        text-align: right;\n    }\n</style>\n<table border=\"1\" class=\"dataframe\">\n  <thead>\n    <tr style=\"text-align: right;\">\n      <th></th>\n      <th>mutant</th>\n      <th>mutated_sequence</th>\n      <th>DMS_score</th>\n      <th>DMS_score_bin</th>\n      <th>m1</th>\n      <th>m2</th>\n      <th>m3</th>\n      <th>m4</th>\n      <th>m5</th>\n      <th>m6</th>\n      <th>m7</th>\n      <th>m8</th>\n      <th>m9</th>\n      <th>m10</th>\n      <th>m11</th>\n      <th>m12</th>\n      <th>m13</th>\n      <th>m14</th>\n      <th>m15</th>\n    </tr>\n  </thead>\n  <tbody>\n    <tr>\n      <th>0</th>\n      <td>K3R:V55A:Q94R:A110T:D117G:M153K:D216A</td>\n      <td>MSRGEELFTGVVPILVELDGDVNGHKFSVSGEGEGDATYGKLTLKF...</td>\n      <td>1.301030</td>\n      <td>0</td>\n      <td>K3R</td>\n      <td>V55A</td>\n      <td>Q94R</td>\n      <td>A110T</td>\n      <td>D117G</td>\n      <td>M153K</td>\n      <td>D216A</td>\n      <td>None</td>\n      <td>None</td>\n      <td>None</td>\n      <td>None</td>\n      <td>None</td>\n      <td>None</td>\n      <td>None</td>\n      <td>None</td>\n    </tr>\n    <tr>\n      <th>1</th>\n      <td>K3Q:V16A:I167T:L195Q</td>\n      <td>MSQGEELFTGVVPILAELDGDVNGHKFSVSGEGEGDATYGKLTLKF...</td>\n      <td>3.137350</td>\n      <td>1</td>\n      <td>K3Q</td>\n      <td>V16A</td>\n      <td>I167T</td>\n      <td>L195Q</td>\n      <td>None</td>\n      <td>None</td>\n      <td>None</td>\n      <td>None</td>\n      <td>None</td>\n      <td>None</td>\n      <td>None</td>\n      <td>None</td>\n      <td>None</td>\n      <td>None</td>\n      <td>None</td>\n    </tr>\n    <tr>\n      <th>2</th>\n      <td>K3Q:Y143C:N164D:S205P:A227T</td>\n      <td>MSQGEELFTGVVPILVELDGDVNGHKFSVSGEGEGDATYGKLTLKF...</td>\n      <td>1.553913</td>\n      <td>0</td>\n      <td>K3Q</td>\n      <td>Y143C</td>\n      <td>N164D</td>\n      <td>S205P</td>\n      <td>A227T</td>\n      <td>None</td>\n      <td>None</td>\n      <td>None</td>\n      <td>None</td>\n      <td>None</td>\n      <td>None</td>\n      <td>None</td>\n      <td>None</td>\n      <td>None</td>\n      <td>None</td>\n    </tr>\n    <tr>\n      <th>3</th>\n      <td>K3Q:Y143N:V193A</td>\n      <td>MSQGEELFTGVVPILVELDGDVNGHKFSVSGEGEGDATYGKLTLKF...</td>\n      <td>3.404237</td>\n      <td>1</td>\n      <td>K3Q</td>\n      <td>Y143N</td>\n      <td>V193A</td>\n      <td>None</td>\n      <td>None</td>\n      <td>None</td>\n      <td>None</td>\n      <td>None</td>\n      <td>None</td>\n      <td>None</td>\n      <td>None</td>\n      <td>None</td>\n      <td>None</td>\n      <td>None</td>\n      <td>None</td>\n    </tr>\n    <tr>\n      <th>4</th>\n      <td>K3R</td>\n      <td>MSRGEELFTGVVPILVELDGDVNGHKFSVSGEGEGDATYGKLTLKF...</td>\n      <td>3.738586</td>\n      <td>1</td>\n      <td>K3R</td>\n      <td>None</td>\n      <td>None</td>\n      <td>None</td>\n      <td>None</td>\n      <td>None</td>\n      <td>None</td>\n      <td>None</td>\n      <td>None</td>\n      <td>None</td>\n      <td>None</td>\n      <td>None</td>\n      <td>None</td>\n      <td>None</td>\n      <td>None</td>\n    </tr>\n  </tbody>\n</table>\n</div>"
     },
     "execution_count": 1,
     "metadata": {},
     "output_type": "execute_result"
    }
   ],
   "source": [
    "import pandas as pd\n",
    "\n",
    "# Datensatz einlesen\n",
    "df = pd.read_csv('/Users/tianxinangelama/Documents/Studium/4. FS/DMS/DMS_data/GFP_AEQVI_Sarkisyan_2016.csv')\n",
    "\n",
    "# split into multiple columns, 1 column for every mutation\n",
    "df_ind_col = df\n",
    "\n",
    "df_ind_col[['m1', 'm2', 'm3', 'm4', 'm5', 'm6', 'm7', 'm8', 'm9', 'm10', 'm11','m12','m13','m14','m15']] = df_ind_col['mutant'].str.split(':', 14, expand=True)\n",
    "\n",
    "df_ind_col.head()"
   ],
   "metadata": {
    "collapsed": false,
    "ExecuteTime": {
     "end_time": "2023-06-12T11:09:43.301258Z",
     "start_time": "2023-06-12T11:09:42.161612Z"
    }
   }
  },
  {
   "cell_type": "code",
   "execution_count": 2,
   "outputs": [
    {
     "data": {
      "text/plain": "   DMS_score   m1     m2     m3     m4     m5     m6     m7    m8    m9   m10  \\\n0   1.301030  K3R   V55A   Q94R  A110T  D117G  M153K  D216A  None  None  None   \n1   3.137350  K3Q   V16A  I167T  L195Q   None   None   None  None  None  None   \n2   1.553913  K3Q  Y143C  N164D  S205P  A227T   None   None  None  None  None   \n3   3.404237  K3Q  Y143N  V193A   None   None   None   None  None  None  None   \n4   3.738586  K3R   None   None   None   None   None   None  None  None  None   \n\n    m11   m12   m13   m14   m15  \n0  None  None  None  None  None  \n1  None  None  None  None  None  \n2  None  None  None  None  None  \n3  None  None  None  None  None  \n4  None  None  None  None  None  ",
      "text/html": "<div>\n<style scoped>\n    .dataframe tbody tr th:only-of-type {\n        vertical-align: middle;\n    }\n\n    .dataframe tbody tr th {\n        vertical-align: top;\n    }\n\n    .dataframe thead th {\n        text-align: right;\n    }\n</style>\n<table border=\"1\" class=\"dataframe\">\n  <thead>\n    <tr style=\"text-align: right;\">\n      <th></th>\n      <th>DMS_score</th>\n      <th>m1</th>\n      <th>m2</th>\n      <th>m3</th>\n      <th>m4</th>\n      <th>m5</th>\n      <th>m6</th>\n      <th>m7</th>\n      <th>m8</th>\n      <th>m9</th>\n      <th>m10</th>\n      <th>m11</th>\n      <th>m12</th>\n      <th>m13</th>\n      <th>m14</th>\n      <th>m15</th>\n    </tr>\n  </thead>\n  <tbody>\n    <tr>\n      <th>0</th>\n      <td>1.301030</td>\n      <td>K3R</td>\n      <td>V55A</td>\n      <td>Q94R</td>\n      <td>A110T</td>\n      <td>D117G</td>\n      <td>M153K</td>\n      <td>D216A</td>\n      <td>None</td>\n      <td>None</td>\n      <td>None</td>\n      <td>None</td>\n      <td>None</td>\n      <td>None</td>\n      <td>None</td>\n      <td>None</td>\n    </tr>\n    <tr>\n      <th>1</th>\n      <td>3.137350</td>\n      <td>K3Q</td>\n      <td>V16A</td>\n      <td>I167T</td>\n      <td>L195Q</td>\n      <td>None</td>\n      <td>None</td>\n      <td>None</td>\n      <td>None</td>\n      <td>None</td>\n      <td>None</td>\n      <td>None</td>\n      <td>None</td>\n      <td>None</td>\n      <td>None</td>\n      <td>None</td>\n    </tr>\n    <tr>\n      <th>2</th>\n      <td>1.553913</td>\n      <td>K3Q</td>\n      <td>Y143C</td>\n      <td>N164D</td>\n      <td>S205P</td>\n      <td>A227T</td>\n      <td>None</td>\n      <td>None</td>\n      <td>None</td>\n      <td>None</td>\n      <td>None</td>\n      <td>None</td>\n      <td>None</td>\n      <td>None</td>\n      <td>None</td>\n      <td>None</td>\n    </tr>\n    <tr>\n      <th>3</th>\n      <td>3.404237</td>\n      <td>K3Q</td>\n      <td>Y143N</td>\n      <td>V193A</td>\n      <td>None</td>\n      <td>None</td>\n      <td>None</td>\n      <td>None</td>\n      <td>None</td>\n      <td>None</td>\n      <td>None</td>\n      <td>None</td>\n      <td>None</td>\n      <td>None</td>\n      <td>None</td>\n      <td>None</td>\n    </tr>\n    <tr>\n      <th>4</th>\n      <td>3.738586</td>\n      <td>K3R</td>\n      <td>None</td>\n      <td>None</td>\n      <td>None</td>\n      <td>None</td>\n      <td>None</td>\n      <td>None</td>\n      <td>None</td>\n      <td>None</td>\n      <td>None</td>\n      <td>None</td>\n      <td>None</td>\n      <td>None</td>\n      <td>None</td>\n      <td>None</td>\n    </tr>\n  </tbody>\n</table>\n</div>"
     },
     "execution_count": 2,
     "metadata": {},
     "output_type": "execute_result"
    }
   ],
   "source": [
    "# reduce df to fscore, m1 - m15\n",
    "df_only_fscore_mutations = df_ind_col\n",
    "\n",
    "df_only_fscore_mutations = df_only_fscore_mutations.drop(['mutant','mutated_sequence','DMS_score_bin'], axis=1)\n",
    "\n",
    "df_only_fscore_mutations.head()"
   ],
   "metadata": {
    "collapsed": false,
    "ExecuteTime": {
     "end_time": "2023-06-12T11:13:45.835040Z",
     "start_time": "2023-06-12T11:13:45.815424Z"
    }
   }
  },
  {
   "cell_type": "code",
   "execution_count": 6,
   "outputs": [
    {
     "name": "stdout",
     "output_type": "stream",
     "text": [
      "       DMS_score     m1     m2     m3     m4     m5     m6     m7     m8  \\\n",
      "34      1.576404    K3N   F27S   K45Q   M78K   Q94L  F114S  I123N  D133G   \n",
      "58      1.623205    K3Q   K41M   V55G  K101R  R122S  H148R  I161T  Q183R   \n",
      "93      1.301030    K3R    E6K   K41E   S86T  K107R  D129V  N144D  N164D   \n",
      "162     1.411104    K3M    L7R   E34G   D76N   E90V   G91S   E95G  G127S   \n",
      "168     1.515137    K3M    F8L   P13A   D19E   G40C   H81R   F84S  K140E   \n",
      "...          ...    ...    ...    ...    ...    ...    ...    ...    ...   \n",
      "36628   1.547893   K85E  F100L  K101M  Y106C  D117G  N135S  H139R  S175C   \n",
      "36705   1.301030   K85R   V93G  N105D  K107R  N121I  Y145F  N146S  H169L   \n",
      "37800   1.301031   G91V  T118A  N121D  L125Q  L141M  V150A  M153L  V176A   \n",
      "39789   1.301091  F100S  K131E  L141Q  Q157H  N159D  I188V  D190G  E213D   \n",
      "40176   1.470316  K101R  A110T  F114L  T118A  L125P  D155G  V163A  I188N   \n",
      "\n",
      "          m9    m10    m11    m12    m13   m14   m15  \n",
      "34     Y143S  E172A  M218L   None   None  None  None  \n",
      "58     T203A  K209R  E222K   None   None  None  None  \n",
      "93     N170Y  N185S  N198S   None   None  None  None  \n",
      "162    F130Y  E172G  N185D   None   None  None  None  \n",
      "168    K156M  F165S  N198Y  D216E   None  None  None  \n",
      "...      ...    ...    ...    ...    ...   ...   ...  \n",
      "36628  L195R  D197G  N212I   None   None  None  None  \n",
      "36705  G174D  T186A  P192S   None   None  None  None  \n",
      "37800  L195P  S205T  F223Y   None   None  None  None  \n",
      "39789  R215C  L220M  M233V   None   None  None  None  \n",
      "40176  N198S  Y200N  K209R  K214R  E235G  None  None  \n",
      "\n",
      "[191 rows x 16 columns]\n"
     ]
    }
   ],
   "source": [
    "# df with only mutants >= 11 mutations\n",
    "df_min_11_mutations = df_only_fscore_mutations\n",
    "\n",
    "# Drop rows with empty values in m11\n",
    "df_min_11_mutations = df_min_11_mutations.dropna(subset=['m11'])\n",
    "\n",
    "print(df_min_11_mutations)"
   ],
   "metadata": {
    "collapsed": false,
    "ExecuteTime": {
     "end_time": "2023-06-12T11:35:33.309683Z",
     "start_time": "2023-06-12T11:35:33.297746Z"
    }
   }
  },
  {
   "cell_type": "code",
   "execution_count": 7,
   "outputs": [
    {
     "name": "stdout",
     "output_type": "stream",
     "text": [
      "          m1     m2     m3     m4     m5     m6     m7     m8     m9    m10  \\\n",
      "34       K3N   F27S   K45Q   M78K   Q94L  F114S  I123N  D133G  Y143S  E172A   \n",
      "58       K3Q   K41M   V55G  K101R  R122S  H148R  I161T  Q183R  T203A  K209R   \n",
      "93       K3R    E6K   K41E   S86T  K107R  D129V  N144D  N164D  N170Y  N185S   \n",
      "162      K3M    L7R   E34G   D76N   E90V   G91S   E95G  G127S  F130Y  E172G   \n",
      "168      K3M    F8L   P13A   D19E   G40C   H81R   F84S  K140E  K156M  F165S   \n",
      "...      ...    ...    ...    ...    ...    ...    ...    ...    ...    ...   \n",
      "36628   K85E  F100L  K101M  Y106C  D117G  N135S  H139R  S175C  L195R  D197G   \n",
      "36705   K85R   V93G  N105D  K107R  N121I  Y145F  N146S  H169L  G174D  T186A   \n",
      "37800   G91V  T118A  N121D  L125Q  L141M  V150A  M153L  V176A  L195P  S205T   \n",
      "39789  F100S  K131E  L141Q  Q157H  N159D  I188V  D190G  E213D  R215C  L220M   \n",
      "40176  K101R  A110T  F114L  T118A  L125P  D155G  V163A  I188N  N198S  Y200N   \n",
      "\n",
      "         m11    m12    m13   m14   m15  \n",
      "34     M218L   None   None  None  None  \n",
      "58     E222K   None   None  None  None  \n",
      "93     N198S   None   None  None  None  \n",
      "162    N185D   None   None  None  None  \n",
      "168    N198Y  D216E   None  None  None  \n",
      "...      ...    ...    ...   ...   ...  \n",
      "36628  N212I   None   None  None  None  \n",
      "36705  P192S   None   None  None  None  \n",
      "37800  F223Y   None   None  None  None  \n",
      "39789  M233V   None   None  None  None  \n",
      "40176  K209R  K214R  E235G  None  None  \n",
      "\n",
      "[191 rows x 15 columns]\n"
     ]
    }
   ],
   "source": [
    "# df_min_11_mutations without fscore\n",
    "df_min_11_mutations_without_fscore = df_min_11_mutations\n",
    "\n",
    "# drop DMS_score\n",
    "df_min_11_mutations_without_fscore = df_min_11_mutations_without_fscore.drop('DMS_score', axis=1)\n",
    "\n",
    "print(df_min_11_mutations_without_fscore)"
   ],
   "metadata": {
    "collapsed": false,
    "ExecuteTime": {
     "end_time": "2023-06-12T11:43:16.625537Z",
     "start_time": "2023-06-12T11:43:16.620306Z"
    }
   }
  },
  {
   "cell_type": "code",
   "execution_count": 44,
   "outputs": [
    {
     "name": "stdout",
     "output_type": "stream",
     "text": [
      "['K3Q', 'P58L', 'L221Q', 'D210N', 'V55A', 'F84Y', 'Y151N', 'N170D', 'V224M', 'D234V', 'N144S', 'F46V', 'C48R', 'K41N', 'I171F', 'P13S', 'K113R', 'I98F', 'T108A', 'V219A', 'E142V', 'E32G', 'V11L', 'N212I', 'I229F', 'D190Y', 'D234G', 'Y74C', 'N23Y', 'H148P', 'I128N', 'N149T', 'E172A', 'H181R', 'N159Y', 'P13R', 'Q69L', 'H77Y', 'G91D', 'T9A', 'D190G', 'I123N', 'E34V', 'R96G', 'K126R', 'T62S', 'K166R', 'D129G', 'I123T', 'Y143F', 'K107Q', 'L42V', 'V11A', 'L194V', 'V176A', 'I171T', 'A37V', 'T203I', 'D133G', 'M153K', 'F46S', 'V11E', 'M233V', 'K113M', 'T230P', 'V11G', 'A154D', 'Y106N', 'L125Q', 'V61M', 'N164I', 'Y66H', 'N185Y', 'R73L', 'Y200S', 'E6K', 'G174D', 'K107M', 'N159D', 'E213K', 'Y92F', 'P196L', 'P54T', 'A154T', 'S202T', 'F8Y', 'S72G', 'K3M', 'C70R', 'D216H', 'Y106F', 'E90D', 'S28C', 'P192S', 'E5D', 'D210H', 'H231P', 'I167V', 'F100Y', 'H148Y', 'G189S', 'E213D', 'K101R', 'F100L', 'K41M', 'C48S', 'K166E', 'V163E', 'N23S', 'D19A', 'S30P', 'D216N', 'K113Q', 'D210G', 'N135S', 'N170Y', 'V219D', 'V29M', 'Y145F', 'N146Y', 'M88T', 'T50N', 'S175G', 'N170H', 'I161F', 'K156E', 'F71L', 'N135Y', 'H77L', 'C48W', 'G104R', 'E213V', 'N121I', 'R96C', 'H139L', 'L18Q', 'L18P', 'G40C', 'N23D', 'E5G', 'F71I', 'F165S', 'K52M', 'I136V', 'E17Q', 'D180N', 'K209I', 'M153T', 'L60H', 'F114S', 'I123V', 'F100S', 'T186A', 'S208C', 'G116C', 'F223Y', 'T49A', 'E95V', 'K158E', 'A206T', 'G51A', 'N149I', 'L221P', 'T59A', 'K156R', 'K52R', 'T118S', 'N159I', 'N164S', 'L220M', 'Q184R', 'K209R', 'G4D', 'K140R', 'K214Q', 'D103N', 'T186I', 'D21G', 'V55M', 'D197N', 'I128V', 'D103G', 'K26E', 'E90K', 'I229N', 'G31R', 'D76N', 'Y39C', 'I161T', 'K140E', 'S205F', 'I229V', 'M78L', 'L60P', 'F83L', 'M88I', 'L137P', 'I152V', 'T230A', 'N144D', 'F27I', 'I167N', 'N144I', 'L7P', 'S147C', 'H217Y', 'S202C', 'G33A', 'P54H', 'F84I', 'D129V', 'S72R', 'S147N', 'S175C', 'D129Y', 'K214R', 'N185A', 'T203A', 'D102G', 'V12G', 'E115G', 'D21E', 'I188F', 'H231L', 'V193E', 'E124K', 'P211L', 'V93G', 'A226V', 'K158M', 'K131R', 'H169L', 'F71Y', 'E172G', 'G232D', 'K45M', 'N170I', 'K101M', 'E142G', 'N105K', 'G10E', 'Y39S', 'Y39F', 'G24D', 'K131M', 'D173V', 'L141Q', 'P211H', 'Y151H', 'G40A', 'G24S', 'E34K', 'P89T', 'Y74F', 'E235K', 'G232S', 'I188V', 'Y200N', 'Q183H', 'N23I', 'V112E', 'W57R', 'A179T', 'L201P', 'R96H', 'G20C', 'Y66N', 'L44P', 'T43S', 'T50S', 'M153V', 'R122C', 'F99Y', 'L195R', 'H181Q', 'K126E', 'T230S', 'L64P', 'L44Q', 'A227T', 'L64Q', 'I98N', 'K158R', 'E132V', 'N149Y', 'G91S', 'V176M', 'T59S', 'Y200C', 'T225A', 'Q157R', 'S86Y', 'E235V', 'Y145H', 'V150A', 'Q157H', 'K126M', 'S30T', 'F223L', 'N164Y', 'N212H', 'G228E', 'T186P', 'Y143N', 'H199L', 'L207P', 'C48G', 'I136N', 'N159K', 'Q69R', 'T38S', 'M218L', 'M218E', 'V12E', 'E111K', 'F130Y', 'F165Y', 'G127S', 'K209E', 'L178H', 'F99L', 'E17V', 'F84C', 'P13A', 'E90V', 'S208G', 'D76G', 'M78T', 'D155Y', 'D180A', 'N149S', 'N135H', 'E34G', 'D216Y', 'V29G', 'D82G', 'M218K', 'I14F', 'T50I', 'L236P', 'A110V', 'K79Q', 'I229T', 'H217R', 'E95G', 'N135D', 'V68A', 'V22A', 'D103V', 'F46L', 'P211S', 'M78K', 'Y200H', 'Y143H', 'Q204P', 'G138W', 'T49P', 'L207Q', 'I123F', 'Y237C', 'W57G', 'F223C', 'S205P', 'S65T', 'G51C', 'G24C', 'G127V', 'D155N', 'F46Y', 'E6G', 'K101E', 'G160S', 'M88K', 'A227V', 'D36E', 'F84S', 'N121Y', 'F71S', 'I136F', 'K79E', 'K131E', 'D19E', 'V163M', 'Y143S', 'V55G', 'Y182H', 'E235G', 'I171N', 'Q204R', 'I167T', 'D155G', 'Y182N', 'Q94R', 'M153L', 'N105T', 'G116S', 'H81R', 'V176L', 'H217P', 'V93A', 'H217L', 'C70S', 'G40V', 'E132G', 'I47F', 'S86T', 'L220P', 'T62P', 'H148L', 'K162M', 'F99V', 'D180G', 'N198I', 'M218T', 'M88V', 'N105I', 'L221R', 'D117G', 'G31S', 'N144H', 'D210A', 'I98V', 'L141M', 'I14N', 'V61E', 'E213G', 'T63A', 'L7Q', 'Y143C', 'K3R', 'L137R', 'D129H', 'G40R', 'F84L', 'H81L', 'N135I', 'H25L', 'F27S', 'I171D', 'K156M', 'H148N', 'N185S', 'Y182F', 'G67S', 'F83S', 'K214M', 'L60I', 'S202R', 'L137Q', 'L42Q', 'I98L', 'S175I', 'R168S', 'A37T', 'H231R', 'R122H', 'T97A', 'C48Y', 'Q204L', 'K41E', 'K26R', 'Y74H', 'E222K', 'Q183P', 'P54L', 'V93D', 'K45E', 'D82A', 'M233R', 'Q69P', 'D216E', 'D197V', 'L195P', 'F100I', 'D82N', 'D76Y', 'Q177R', 'V11M', 'E124G', 'M78R', 'I98S', 'I188N', 'Y151C', 'I47N', 'Q94P', 'M233L', 'D36G', 'L220V', 'K107E', 'T49S', 'H77R', 'I188T', 'F8L', 'T50P', 'D103A', 'E222G', 'R215C', 'T225S', 'D197G', 'G40S', 'Q184P', 'Y237H', 'N105S', 'I128F', 'E90G', 'G134S', 'E222V', 'R109H', 'N198Y', 'N212D', 'T9N', 'I14T', 'T9P', 'L64V', 'L141V', 'Y66F', 'N170S', 'D21N', 'I152T', 'K41Q', 'L141P', 'M233T', 'S65P', 'Y39N', 'K41R', 'Y182C', 'I171V', 'D216G', 'T62A', 'P192H', 'P89A', 'S147G', 'M218V', 'Q177P', 'D173G', 'M78I', 'I128T', 'V22L', 'T63S', 'K26T', 'G232C', 'F223V', 'V193A', 'T203S', 'L178P', 'R168C', 'H181Y', 'V150I', 'Q183R', 'Y106C', 'Y92C', 'E34A', 'K107R', 'L53P', 'T59I', 'I161V', 'K45R', 'T97S', 'F83C', 'P13T', 'K41T', 'N146D', 'N159S', 'E5V', 'V150D', 'I161N', 'V61A', 'E111G', 'D21V', 'P211T', 'H199Y', 'H169R', 'K214E', 'Q177E', 'G191R', 'G31A', 'N121H', 'V16A', 'Q177L', 'D216V', 'S28G', 'T9S', 'Y66C', 'V163G', 'F130I', 'Q94L', 'S205A', 'H139R', 'D102V', 'N146I', 'K166M', 'S30A', 'I152N', 'K85R', 'V22E', 'F223S', 'H148R', 'S72C', 'E32V', 'Q80L', 'I167F', 'D180V', 'K162E', 'K162R', 'K79R', 'G20S', 'F114L', 'D19V', 'K45Q', 'F130L', 'V12A', 'M218I', 'N212S', 'D82V', 'K209N', 'T50A', 'A110T', 'D76V', 'F27L', 'D133E', 'V224A', 'I47V', 'S205T', 'V224E', 'N164D', 'I128A', 'N105Y', 'D19G', 'L15P', 'T38A', 'K113E', 'L42P', 'M78V', 'R109P', 'K3N', 'F46I', 'G51V', 'F165L', 'F83I', 'D36N', 'K52E', 'P192L', 'N185D', 'N198D', 'V29E', 'K26M', 'N121S', 'F165I', 'P187R', 'S202G', 'F99S', 'T43A', 'D210E', 'V93I', 'E6V', 'L125P', 'L201R', 'Q183L', 'P75S', 'N146S', 'N149D', 'N105H', 'L195Q', 'N23K', 'G160R', 'I136T', 'S208N', 'N185I', 'T97I', 'H25N', 'G91V', 'R168H', 'D129A', 'V163A', 'E172V', 'I98T', 'H231Y', 'L7R', 'M233K', 'V55E', 'D133V', 'Q80R', 'R122S', 'Y200F', 'G35A', 'M88R', 'K85E', 'L137M', 'E32A', 'T118A', 'D155V', 'K126Q', 'I14V', 'K214T', 'L236Q', 'R109C', 'N105D', 'K3E', 'L42R', 'F8S', 'M88L', 'S86P', 'E115K', 'L194Q', 'T9I', 'N170T', 'N198S', 'D210V', 'L194P', 'F130S', 'Y92H', 'E17G', 'A179P', 'V112A', 'I47T', 'V29A', 'Q184L', 'E172K', 'D36V', 'N212Y', None, 'N121D', 'L15Q', 'T62I', 'D117V', 'H25R']\n"
     ]
    }
   ],
   "source": [
    "# list with possible mutations in df_min_11_mutations\n",
    "possible_mutations_in_mutants_with_min_11_mutations = df_min_11_mutations_without_fscore\n",
    "possible_mutations_in_mutants_with_min_11_mutations = possible_mutations_in_mutants_with_min_11_mutations.values.flatten().tolist()\n",
    "possible_mutations_in_mutants_with_min_11_mutations = list(set(possible_mutations_in_mutants_with_min_11_mutations))\n",
    "print(possible_mutations_in_mutants_with_min_11_mutations)"
   ],
   "metadata": {
    "collapsed": false,
    "ExecuteTime": {
     "end_time": "2023-06-13T10:41:54.015550Z",
     "start_time": "2023-06-13T10:41:54.008197Z"
    }
   }
  },
  {
   "cell_type": "code",
   "execution_count": 43,
   "outputs": [
    {
     "name": "stdout",
     "output_type": "stream",
     "text": [
      "       DMS_score    m1    m2    m3    m4     m5     m6     m7     m8     m9  \\\n",
      "3565    1.301030   L7R  S30P  V55A  E95G  K101E  N105Y  T108A  D155G  K156R   \n",
      "13501   1.361462  N23D  F27S  Y39C  P54T   V55A   Q80L  K101R  N105D  K158E   \n",
      "16081   1.327404  F27S  V29A  D36V  V55A   E90K  D133V  K140E  N159S  K166M   \n",
      "21737   1.494251  K41Q  K45E  V55A  S72G  N105S  E111G  N149I  D155G  K156R   \n",
      "\n",
      "         m10    m11    m12    m13   m14   m15  \n",
      "3565   S202C  H217L   None   None  None  None  \n",
      "13501  K209R  E235G   None   None  None  None  \n",
      "16081  L194P  S208G   None   None  None  None  \n",
      "21737  N170D  K214R  D216G  E222G  None  None  \n",
      "['L7R', 'S30P', 'E95G', 'K101E', 'N105Y', 'T108A', 'D155G', 'K156R', 'S202C', 'H217L', 'N23D', 'F27S', 'Y39C', 'P54T', 'V55A', 'Q80L', 'K101R', 'N105D', 'K158E', 'K209R', 'E235G', 'F27S', 'V29A', 'D36V', 'V55A', 'E90K', 'D133V', 'K140E', 'N159S', 'K166M', 'L194P', 'S208G', 'K41Q', 'K45E', 'V55A', 'S72G', 'N105S', 'E111G', 'N149I', 'D155G', 'K156R', 'N170D', 'K214R', 'D216G', 'E222G']\n"
     ]
    }
   ],
   "source": [
    "# mit V55A ausprobieren: alle Zeilen mit V55A in neues df\n",
    "# empty data frame with columns = df_min_11_mutations\n",
    "df_min_11_mutations_loop = pd.DataFrame(columns=df_min_11_mutations.columns)\n",
    "\n",
    "for index, row in df_min_11_mutations.iterrows():\n",
    "    # count specific mutation\n",
    "    count = df_min_11_mutations.values.flatten().tolist().count('V55A')\n",
    "\n",
    "   # check the count of specific mutation\n",
    "    if count > 1:\n",
    "        # add row to new df\n",
    "        df_min_11_mutations_loop = df_min_11_mutations[df_min_11_mutations.apply(lambda row: 'V55A' in row.values, axis=1)]\n",
    "        # Create a list of all possible mutations in the new DataFrame except the specific mutation\n",
    "        possible_mutations = df_min_11_mutations_loop.values.flatten().tolist()\n",
    "        possible_mutations.remove('V55A')\n",
    "        # remove none from list\n",
    "        possible_mutations = [value for value in possible_mutations if value is not None]\n",
    "        # remove fscore from list\n",
    "        possible_mutations = [value for value in possible_mutations if not isinstance(value, (int, float))]\n",
    "\n",
    "    else:\n",
    "        # remain last rows with specific mutation and stop\n",
    "        df_min_11_mutations_loop = df_min_11_mutations[df_min_11_mutations.apply(lambda row: 'V55A' in row.values, axis=1)]\n",
    "        break\n",
    "\n",
    "print(df_min_11_mutations_loop)\n",
    "print(possible_mutations)"
   ],
   "metadata": {
    "collapsed": false,
    "ExecuteTime": {
     "end_time": "2023-06-13T10:31:55.773423Z",
     "start_time": "2023-06-13T10:31:55.603127Z"
    }
   }
  },
  {
   "cell_type": "code",
   "execution_count": 51,
   "outputs": [
    {
     "name": "stdout",
     "output_type": "stream",
     "text": [
      "Empty DataFrame\n",
      "Columns: [Mutation]\n",
      "Index: []\n",
      "['V55A', 'V55A']\n"
     ]
    }
   ],
   "source": [
    "# mit allen Mutationen aus possible_mutations_in_mutants_with_min_11_mutations\n",
    "# empty data frame with columns = df_min_11_mutations\n",
    "df_min_11_mutations_loop = pd.DataFrame(columns=df_min_11_mutations.columns)\n",
    "\n",
    "# for all possible_mutations_in_mutants_with_min_11_mutations\n",
    "for mutation in possible_mutations_in_mutants_with_min_11_mutations:\n",
    "    # Create an empty DataFrame with the same columns as df_min_11_mutations\n",
    "    df_min_11_mutations_loop = pd.DataFrame(columns=df_min_11_mutations.columns)\n",
    "\n",
    "    for index, row in df_min_11_mutations.iterrows():\n",
    "        # count specific mutation\n",
    "        count = df_min_11_mutations.values.flatten().tolist().count(mutation)\n",
    "\n",
    "        # check the count of specific mutation\n",
    "        if count > 1:\n",
    "            # add row to new df\n",
    "            df_min_11_mutations_loop = df_min_11_mutations[df_min_11_mutations.apply(lambda row: mutation in row.values, axis=1)]\n",
    "            # Create a list of all possible mutations in the new DataFrame except the specific mutation\n",
    "            possible_mutations = df_min_11_mutations_loop.values.flatten().tolist()\n",
    "            possible_mutations.remove(mutation)\n",
    "            # remove none from list\n",
    "            possible_mutations = [value for value in possible_mutations if value is not None]\n",
    "            # remove fscore from list\n",
    "            possible_mutations = [value for value in possible_mutations if not isinstance(value, (int, float))]\n",
    "\n",
    "        else:\n",
    "            # remain last rows with specific mutation and stop\n",
    "            df_min_11_mutations_loop = df_min_11_mutations[df_min_11_mutations.apply(lambda row: mutation in row.values, axis=1)]\n",
    "            break\n",
    "\n",
    "print(df_min_11_mutations_loop)\n",
    "print(possible_mutations)"
   ],
   "metadata": {
    "collapsed": false,
    "ExecuteTime": {
     "end_time": "2023-06-13T10:58:31.847997Z",
     "start_time": "2023-06-13T10:58:31.846174Z"
    }
   }
  },
  {
   "cell_type": "code",
   "execution_count": 47,
   "outputs": [
    {
     "name": "stdout",
     "output_type": "stream",
     "text": [
      "  Mutation\n",
      "0     V55A\n",
      "1    R102C\n",
      "2     V55A\n",
      "3     E78Q\n",
      "4     L99R\n",
      "5     V55A\n",
      "Filtered DataFrame for V55A:\n",
      "  Mutation\n",
      "0     V55A\n",
      "2     V55A\n",
      "5     V55A\n",
      "\n",
      "Possible Mutations:\n",
      "[]\n",
      "--------------------\n",
      "  Mutation\n",
      "0     V55A\n",
      "1    R102C\n",
      "2     V55A\n",
      "3     E78Q\n",
      "4     L99R\n",
      "5     V55A\n",
      "Filtered DataFrame for L99R:\n",
      "  Mutation\n",
      "4     L99R\n",
      "\n",
      "Possible Mutations:\n",
      "[]\n",
      "--------------------\n"
     ]
    }
   ],
   "source": [
    "import pandas as pd\n",
    "\n",
    "# Create an example DataFrame\n",
    "df_min_11_mutations = pd.DataFrame({\n",
    "    'Mutation': ['V55A', 'R102C', 'V55A', 'E78Q', 'L99R', 'V55A']\n",
    "})\n",
    "\n",
    "# Specify the list of mutation values\n",
    "mutation_values = ['V55A', 'L99R']\n",
    "\n",
    "for mutation_value in mutation_values:\n",
    "    # Create an empty DataFrame with the same columns as df_min_11_mutations\n",
    "    df_min_11_mutations_loop = pd.DataFrame(columns=df_min_11_mutations.columns)\n",
    "\n",
    "    # Iterate over each row in df_min_11_mutations\n",
    "    for index, row in df_min_11_mutations.iterrows():\n",
    "        # Count the specific mutation in the DataFrame\n",
    "        count = df_min_11_mutations['Mutation'].tolist().count(mutation_value)\n",
    "\n",
    "        # Check the count of the specific mutation\n",
    "        if count > 1:\n",
    "            # Add rows with specific mutation to the new DataFrame\n",
    "            df_min_11_mutations_loop = df_min_11_mutations[df_min_11_mutations['Mutation'] == mutation_value]\n",
    "\n",
    "            # Create a list of all possible mutations in the new DataFrame except the specific mutation\n",
    "            possible_mutations = df_min_11_mutations_loop['Mutation'].unique().tolist()\n",
    "            possible_mutations.remove(mutation_value)\n",
    "\n",
    "            # Remove None values from the list of possible mutations\n",
    "            possible_mutations = [value for value in possible_mutations if value is not None]\n",
    "\n",
    "            # Remove numeric values from the list of possible mutations\n",
    "            possible_mutations = [value for value in possible_mutations if not isinstance(value, (int, float))]\n",
    "        else:\n",
    "            # Remain rows with specific mutation and stop\n",
    "            df_min_11_mutations_loop = df_min_11_mutations[df_min_11_mutations['Mutation'] == mutation_value]\n",
    "            break\n",
    "\n",
    "    print(df_min_11_mutations)\n",
    "    print(f\"Filtered DataFrame for {mutation_value}:\")\n",
    "    print(df_min_11_mutations_loop)\n",
    "    print(\"\\nPossible Mutations:\")\n",
    "    print(possible_mutations)\n",
    "    print(\"--------------------\")"
   ],
   "metadata": {
    "collapsed": false,
    "ExecuteTime": {
     "end_time": "2023-06-13T10:45:57.340705Z",
     "start_time": "2023-06-13T10:45:57.336884Z"
    }
   }
  },
  {
   "cell_type": "code",
   "execution_count": null,
   "outputs": [],
   "source": [],
   "metadata": {
    "collapsed": false
   }
  }
 ],
 "metadata": {
  "kernelspec": {
   "display_name": "Python 3",
   "language": "python",
   "name": "python3"
  },
  "language_info": {
   "codemirror_mode": {
    "name": "ipython",
    "version": 2
   },
   "file_extension": ".py",
   "mimetype": "text/x-python",
   "name": "python",
   "nbconvert_exporter": "python",
   "pygments_lexer": "ipython2",
   "version": "2.7.6"
  }
 },
 "nbformat": 4,
 "nbformat_minor": 0
}
