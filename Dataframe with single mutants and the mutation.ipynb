{
 "cells": [
  {
   "cell_type": "code",
   "execution_count": 5,
   "metadata": {
    "collapsed": true,
    "ExecuteTime": {
     "end_time": "2023-05-25T09:14:09.885541600Z",
     "start_time": "2023-05-25T09:14:05.481801900Z"
    }
   },
   "outputs": [
    {
     "name": "stderr",
     "output_type": "stream",
     "text": [
      "IOPub data rate exceeded.\n",
      "The notebook server will temporarily stop sending output\n",
      "to the client in order to avoid crashing it.\n",
      "To change this limit, set the config variable\n",
      "`--NotebookApp.iopub_data_rate_limit`.\n",
      "\n",
      "Current values:\n",
      "NotebookApp.iopub_data_rate_limit=1000000.0 (bytes/sec)\n",
      "NotebookApp.rate_limit_window=3.0 (secs)\n",
      "\n"
     ]
    },
    {
     "name": "stdout",
     "output_type": "stream",
     "text": [
      "                                      mutant  \\\n",
      "0      K3R:V55A:Q94R:A110T:D117G:M153K:D216A   \n",
      "1                       K3Q:V16A:I167T:L195Q   \n",
      "2                K3Q:Y143C:N164D:S205P:A227T   \n",
      "3                            K3Q:Y143N:V193A   \n",
      "4                                        K3R   \n",
      "...                                      ...   \n",
      "51709                                  Y237N   \n",
      "51710                                  Y237C   \n",
      "51711                                  Y237D   \n",
      "51712                                  Y237F   \n",
      "51713                                  Y237H   \n",
      "\n",
      "                                        mutated_sequence  DMS_score  \\\n",
      "0      MSRGEELFTGVVPILVELDGDVNGHKFSVSGEGEGDATYGKLTLKF...   1.301030   \n",
      "1      MSQGEELFTGVVPILAELDGDVNGHKFSVSGEGEGDATYGKLTLKF...   3.137350   \n",
      "2      MSQGEELFTGVVPILVELDGDVNGHKFSVSGEGEGDATYGKLTLKF...   1.553913   \n",
      "3      MSQGEELFTGVVPILVELDGDVNGHKFSVSGEGEGDATYGKLTLKF...   3.404237   \n",
      "4      MSRGEELFTGVVPILVELDGDVNGHKFSVSGEGEGDATYGKLTLKF...   3.738586   \n",
      "...                                                  ...        ...   \n",
      "51709  MSKGEELFTGVVPILVELDGDVNGHKFSVSGEGEGDATYGKLTLKF...   3.809468   \n",
      "51710  MSKGEELFTGVVPILVELDGDVNGHKFSVSGEGEGDATYGKLTLKF...   3.760217   \n",
      "51711  MSKGEELFTGVVPILVELDGDVNGHKFSVSGEGEGDATYGKLTLKF...   3.754101   \n",
      "51712  MSKGEELFTGVVPILVELDGDVNGHKFSVSGEGEGDATYGKLTLKF...   3.673173   \n",
      "51713  MSKGEELFTGVVPILVELDGDVNGHKFSVSGEGEGDATYGKLTLKF...   3.735417   \n",
      "\n",
      "       DMS_score_bin  \n",
      "0                  0  \n",
      "1                  1  \n",
      "2                  0  \n",
      "3                  1  \n",
      "4                  1  \n",
      "...              ...  \n",
      "51709              1  \n",
      "51710              1  \n",
      "51711              1  \n",
      "51712              1  \n",
      "51713              1  \n",
      "\n",
      "[51714 rows x 4 columns]\n",
      "      New_AS\n",
      "0          A\n",
      "1          Q\n",
      "2          T\n",
      "3          A\n",
      "4          R\n",
      "...      ...\n",
      "51709      N\n",
      "51710      C\n",
      "51711      D\n",
      "51712      F\n",
      "51713      H\n",
      "\n",
      "[51714 rows x 1 columns]\n",
      "0        False\n",
      "1        False\n",
      "2        False\n",
      "3        False\n",
      "4         True\n",
      "         ...  \n",
      "51709     True\n",
      "51710     True\n",
      "51711     True\n",
      "51712     True\n",
      "51713     True\n",
      "Name: mutant, Length: 51714, dtype: bool\n",
      "      New_AS\n",
      "4          R\n",
      "48         Q\n",
      "703        E\n",
      "924        M\n",
      "1160       T\n",
      "...      ...\n",
      "51709      N\n",
      "51710      C\n",
      "51711      D\n",
      "51712      F\n",
      "51713      H\n",
      "\n",
      "[1084 rows x 1 columns]\n"
     ]
    }
   ],
   "source": [
    "import numpy as np\n",
    "import pandas as pd\n",
    "import csv\n",
    "with open(r\"C:\\Users\\roman\\Desktop\\DMS_data\\DMS_data\\GFP_AEQVI_Sarkisyan_2016.csv\") as dms_GFP_datei:\n",
    "    dms_GFP_datei_object = csv.reader(dms_GFP_datei, delimiter=',')\n",
    "    print(dms_GFP_datei_object)\n",
    "    for row in dms_GFP_datei_object:\n",
    "        print(row)\n",
    "original_datei = pd.read_csv(r\"C:\\Users\\roman\\Desktop\\DMS_data\\DMS_data\\GFP_AEQVI_Sarkisyan_2016.csv\")\n",
    "print(original_datei)\n",
    "#Einlesen\n",
    "\n",
    "letzter_buchstabe = []\n",
    "for index, row in original_datei.iterrows():\n",
    "    last_character = row[\"mutant\"][-1]\n",
    "    letzter_buchstabe.append(last_character)\n",
    "letzter_buchstabe_df = pd.DataFrame(letzter_buchstabe, columns=[\"New_AS\"])\n",
    "print(letzter_buchstabe_df)\n",
    "#Letzter Buchstabe in jeder Zeile\n",
    "\n",
    "number_mutations = original_datei[\"mutant\"].str.count(\":\") + 1\n",
    "number_mutations_Single = number_mutations == 1\n",
    "print(number_mutations_Single)\n",
    "#True sind alle Zeilen, die nur eine Mutation tragen\n",
    "\n",
    "single_mutants_df = letzter_buchstabe_df[number_mutations_Single]\n",
    "print(single_mutants_df)\n",
    "#Filtert alle True Zeilen aus beiden Dataframes und erstellt ein neues Dataframe. Er übernimmt automatisch die Filterung nach \"True\"-Werten"
   ]
  },
  {
   "cell_type": "code",
   "execution_count": 9,
   "outputs": [
    {
     "data": {
      "text/plain": "list"
     },
     "execution_count": 9,
     "metadata": {},
     "output_type": "execute_result"
    }
   ],
   "source": [
    "type(letzter_buchstabe)"
   ],
   "metadata": {
    "collapsed": false,
    "ExecuteTime": {
     "end_time": "2023-05-24T15:18:33.659704300Z",
     "start_time": "2023-05-24T15:18:33.616361200Z"
    }
   }
  },
  {
   "cell_type": "code",
   "execution_count": 10,
   "outputs": [
    {
     "data": {
      "text/plain": "str"
     },
     "execution_count": 10,
     "metadata": {},
     "output_type": "execute_result"
    }
   ],
   "source": [
    "type(last_character)"
   ],
   "metadata": {
    "collapsed": false,
    "ExecuteTime": {
     "end_time": "2023-05-24T15:18:46.778312900Z",
     "start_time": "2023-05-24T15:18:46.762689Z"
    }
   }
  },
  {
   "cell_type": "code",
   "execution_count": 11,
   "outputs": [
    {
     "data": {
      "text/plain": "pandas.core.series.Series"
     },
     "execution_count": 11,
     "metadata": {},
     "output_type": "execute_result"
    }
   ],
   "source": [
    "type(number_mutations)"
   ],
   "metadata": {
    "collapsed": false,
    "ExecuteTime": {
     "end_time": "2023-05-24T15:18:56.661680200Z",
     "start_time": "2023-05-24T15:18:56.598170700Z"
    }
   }
  },
  {
   "cell_type": "code",
   "execution_count": 12,
   "outputs": [
    {
     "data": {
      "text/plain": "pandas.core.series.Series"
     },
     "execution_count": 12,
     "metadata": {},
     "output_type": "execute_result"
    }
   ],
   "source": [
    "type(number_mutations_Single)"
   ],
   "metadata": {
    "collapsed": false,
    "ExecuteTime": {
     "end_time": "2023-05-24T15:19:11.119602800Z",
     "start_time": "2023-05-24T15:19:11.041255100Z"
    }
   }
  },
  {
   "cell_type": "code",
   "execution_count": null,
   "outputs": [],
   "source": [],
   "metadata": {
    "collapsed": false
   }
  }
 ],
 "metadata": {
  "kernelspec": {
   "display_name": "Python 3",
   "language": "python",
   "name": "python3"
  },
  "language_info": {
   "codemirror_mode": {
    "name": "ipython",
    "version": 2
   },
   "file_extension": ".py",
   "mimetype": "text/x-python",
   "name": "python",
   "nbconvert_exporter": "python",
   "pygments_lexer": "ipython2",
   "version": "2.7.6"
  }
 },
 "nbformat": 4,
 "nbformat_minor": 0
}
