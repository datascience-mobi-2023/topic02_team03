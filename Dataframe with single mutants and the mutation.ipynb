{
 "cells": [
  {
   "cell_type": "code",
   "execution_count": null,
   "metadata": {
    "collapsed": true
   },
   "outputs": [],
   "source": [
    "import numpy as np\n",
    "import pandas as pd\n",
    "import csv\n",
    "with open(r\"C:\\Users\\roman\\Desktop\\DMS_data\\DMS_data\\GFP_AEQVI_Sarkisyan_2016.csv\") as dms_GFP_datei:\n",
    "    dms_GFP_datei_object = csv.reader(dms_GFP_datei, delimiter=',')\n",
    "    print(dms_GFP_datei_object)\n",
    "    for row in dms_GFP_datei_object:\n",
    "        print(row)\n",
    "df = pd.read_csv(r\"C:\\Users\\roman\\Desktop\\DMS_data\\DMS_data\\GFP_AEQVI_Sarkisyan_2016.csv\")\n",
    "print(df)\n",
    "#Einlesen\n",
    "\n",
    "df_frame = pd.DataFrame(df)\n",
    "gesamt = []\n",
    "for index, row in df_frame.iterrows():\n",
    "    last_character = row[\"mutant\"][-1]\n",
    "    gesamt.append(last_character)\n",
    "gesamt_df = pd.DataFrame(gesamt, columns=[\"New_AS\"])\n",
    "print(gesamt_df)\n",
    "#Letzter Buchstabe in jeder Zeile\n",
    "\n",
    "number_doppelpunkt = df[\"mutant\"].str.count(\":\")\n",
    "number_mutations = number_doppelpunkt + 1\n",
    "number_mutations_Single = number_mutations == 1\n",
    "print(number_mutations_Single)\n",
    "#True sind alle Zeilen, die nur eine Mutation tragen\n",
    "\n",
    "filtered_df = gesamt_df[number_mutations_Single]\n",
    "print(filtered_df)\n",
    "#Filtert alle True Zeilen aus beiden Dataframes und erstellt ein neues Dataframe. Er übernimmt automatisch die Filterung nach \"True\"-Werten"
   ]
  }
 ],
 "metadata": {
  "kernelspec": {
   "display_name": "Python 3",
   "language": "python",
   "name": "python3"
  },
  "language_info": {
   "codemirror_mode": {
    "name": "ipython",
    "version": 2
   },
   "file_extension": ".py",
   "mimetype": "text/x-python",
   "name": "python",
   "nbconvert_exporter": "python",
   "pygments_lexer": "ipython2",
   "version": "2.7.6"
  }
 },
 "nbformat": 4,
 "nbformat_minor": 0
}
